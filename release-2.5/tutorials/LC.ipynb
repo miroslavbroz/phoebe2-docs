{
 "cells": [
  {
   "cell_type": "markdown",
   "metadata": {},
   "source": [
    "'lc' Datasets and Options\n",
    "============================\n",
    "\n",
    "Setup\n",
    "-----------------------------"
   ]
  },
  {
   "cell_type": "markdown",
   "metadata": {},
   "source": [
    "Let's first make sure we have the latest version of PHOEBE 2.4 installed (uncomment this line if running in an online notebook session such as colab)."
   ]
  },
  {
   "cell_type": "code",
   "execution_count": 1,
   "metadata": {},
   "outputs": [],
   "source": [
    "#!pip install -I \"phoebe>=2.4,<2.5\""
   ]
  },
  {
   "cell_type": "markdown",
   "metadata": {
    "collapsed": true
   },
   "source": [
    "As always, let's do imports and initialize a logger and a new Bundle."
   ]
  },
  {
   "cell_type": "code",
   "execution_count": 2,
   "metadata": {},
   "outputs": [],
   "source": [
    "import phoebe\n",
    "from phoebe import u # units\n",
    "\n",
    "logger = phoebe.logger()\n",
    "\n",
    "b = phoebe.default_binary()"
   ]
  },
  {
   "cell_type": "markdown",
   "metadata": {
    "collapsed": true
   },
   "source": [
    "Dataset Parameters\n",
    "--------------------------\n",
    "\n",
    "Let's add a lightcurve dataset to the Bundle (see also the [lc API docs](../api/phoebe.parameters.dataset.lc.md)).  Some parameters are only visible based on the values of other parameters, so we'll pass `check_visible=False` (see the [filter API docs](../api/phoebe.parameters.ParameterSet.filter.md) for more details).  These visibility rules will be explained below."
   ]
  },
  {
   "cell_type": "code",
   "execution_count": 3,
   "metadata": {},
   "outputs": [
    {
     "name": "stdout",
     "output_type": "stream",
     "text": [
      "ParameterSet: 30 parameters\n",
      "               times@lc01@dataset: [] d\n",
      "              fluxes@lc01@dataset: [] W / m2\n",
      "            passband@lc01@dataset: Johnson:V\n",
      "    intens_weighting@lc01@dataset: energy\n",
      "       compute_times@lc01@dataset: [] d\n",
      "C     compute_phases@lc01@dataset: []\n",
      "           phases_t0@lc01@dataset: t0_supconj\n",
      "        mask_enabled@lc01@dataset: True\n",
      "         mask_phases@lc01@dataset: []\n",
      "        solver_times@lc01@dataset: auto\n",
      "              sigmas@lc01@dataset: [] W / m2\n",
      "          sigmas_lnf@lc01@dataset: -inf\n",
      "          pblum_mode@lc01@dataset: component-coupled\n",
      "     pblum_component@lc01@dataset: primary\n",
      "       pblum_dataset@lc01@dataset: \n",
      "              pbflux@lc01@dataset: 1.0 W / m2\n",
      "             l3_mode@lc01@dataset: flux\n",
      "                  l3@lc01@dataset: 0.0 W / m2\n",
      "             l3_frac@lc01@dataset: 0.0\n",
      "             exptime@lc01@dataset: 0.0 s\n",
      "     ld_mode@primary@lc01@dataset: interp\n",
      "   ld_mode@secondary@lc01@dataset: interp\n",
      "     ld_func@primary@lc01@dataset: logarithmic\n",
      "   ld_func@secondary@lc01@dataset: logarithmic\n",
      "   ld_coeffs_source@primary@lc...: auto\n",
      "   ld_coeffs_source@secondary@...: auto\n",
      "   ld_coeffs@primary@lc01@dataset: [0.5 0.5]\n",
      "   ld_coeffs@secondary@lc01@da...: [0.5 0.5]\n",
      "       pblum@primary@lc01@dataset: 12.566370614359172 W\n",
      "     pblum@secondary@lc01@dataset: 12.566370614359172 W\n"
     ]
    }
   ],
   "source": [
    "b.add_dataset('lc')\n",
    "print(b.get_dataset(kind='lc', check_visible=False))"
   ]
  },
  {
   "cell_type": "markdown",
   "metadata": {},
   "source": [
    "### times"
   ]
  },
  {
   "cell_type": "code",
   "execution_count": 4,
   "metadata": {},
   "outputs": [
    {
     "name": "stdout",
     "output_type": "stream",
     "text": [
      "Parameter: times@lc01@dataset\n",
      "                       Qualifier: times\n",
      "                     Description: Observed times\n",
      "                           Value: [] d\n",
      "                  Constrained by: \n",
      "                      Constrains: None\n",
      "                      Related to: None\n",
      "\n"
     ]
    }
   ],
   "source": [
    "print(b.get_parameter(qualifier='times'))"
   ]
  },
  {
   "cell_type": "markdown",
   "metadata": {},
   "source": [
    "### fluxes"
   ]
  },
  {
   "cell_type": "code",
   "execution_count": 5,
   "metadata": {},
   "outputs": [
    {
     "name": "stdout",
     "output_type": "stream",
     "text": [
      "Parameter: fluxes@lc01@dataset\n",
      "                       Qualifier: fluxes\n",
      "                     Description: Observed flux\n",
      "                           Value: [] W / m2\n",
      "                  Constrained by: \n",
      "                      Constrains: None\n",
      "                      Related to: None\n",
      "\n"
     ]
    }
   ],
   "source": [
    "print(b.get_parameter(qualifier='fluxes'))"
   ]
  },
  {
   "cell_type": "markdown",
   "metadata": {},
   "source": [
    "### sigmas"
   ]
  },
  {
   "cell_type": "code",
   "execution_count": 6,
   "metadata": {},
   "outputs": [
    {
     "name": "stdout",
     "output_type": "stream",
     "text": [
      "Parameter: sigmas@lc01@dataset\n",
      "                       Qualifier: sigmas\n",
      "                     Description: Observed uncertainty on flux\n",
      "                           Value: [] W / m2\n",
      "                  Constrained by: \n",
      "                      Constrains: None\n",
      "                      Related to: None\n",
      "\n"
     ]
    }
   ],
   "source": [
    "print(b.get_parameter(qualifier='sigmas'))"
   ]
  },
  {
   "cell_type": "markdown",
   "metadata": {},
   "source": [
    "### compute_times / compute_phases\n",
    "\n",
    "See the [Compute Times & Phases tutorial](compute_times_phases.ipynb)."
   ]
  },
  {
   "cell_type": "code",
   "execution_count": 7,
   "metadata": {},
   "outputs": [
    {
     "name": "stdout",
     "output_type": "stream",
     "text": [
      "Parameter: compute_times@lc01@dataset\n",
      "                       Qualifier: compute_times\n",
      "                     Description: Times to use during run_compute.  If empty, will use times parameter\n",
      "                           Value: [] d\n",
      "                  Constrained by: \n",
      "                      Constrains: compute_phases@lc01@dataset\n",
      "                      Related to: period@binary@component, dpdt@binary@component, phases_t0@lc01@dataset, t0_supconj@binary@component, t0_perpass@binary@component, t0_ref@binary@component, compute_phases@lc01@dataset\n",
      "\n"
     ]
    }
   ],
   "source": [
    "print(b.get_parameter(qualifier='compute_times'))"
   ]
  },
  {
   "cell_type": "code",
   "execution_count": 8,
   "metadata": {},
   "outputs": [
    {
     "name": "stdout",
     "output_type": "stream",
     "text": [
      "Parameter: compute_phases@lc01@dataset\n",
      "                       Qualifier: compute_phases\n",
      "                     Description: Phases associated with compute_times.\n",
      "                           Value: []\n",
      "                  Constrained by: compute_times@lc01@dataset, period@binary@component, dpdt@binary@component, phases_t0@lc01@dataset, t0_supconj@binary@component, t0_perpass@binary@component, t0_ref@binary@component\n",
      "                      Constrains: None\n",
      "                      Related to: compute_times@lc01@dataset, period@binary@component, dpdt@binary@component, phases_t0@lc01@dataset, t0_supconj@binary@component, t0_perpass@binary@component, t0_ref@binary@component\n",
      "\n"
     ]
    }
   ],
   "source": [
    "print(b.get_parameter(qualifier='compute_phases', context='dataset'))"
   ]
  },
  {
   "cell_type": "code",
   "execution_count": 9,
   "metadata": {},
   "outputs": [
    {
     "name": "stdout",
     "output_type": "stream",
     "text": [
      "Parameter: phases_t0@lc01@dataset\n",
      "                       Qualifier: phases_t0\n",
      "                     Description: t0 to use when converting between compute_times and compute_phases as well as when applying mask_phases\n",
      "                           Value: t0_supconj\n",
      "                         Choices: t0_supconj, t0_perpass, t0_ref\n",
      "                  Constrained by: \n",
      "                      Constrains: compute_phases@lc01@dataset\n",
      "                      Related to: compute_times@lc01@dataset, period@binary@component, dpdt@binary@component, t0_supconj@binary@component, t0_perpass@binary@component, t0_ref@binary@component, compute_phases@lc01@dataset\n",
      "                 Only visible if: hierarchy.is_meshable:False\n",
      "\n"
     ]
    }
   ],
   "source": [
    "print(b.get_parameter(qualifier='phases_t0'))"
   ]
  },
  {
   "cell_type": "markdown",
   "metadata": {},
   "source": [
    "### ld_mode\n",
    "\n",
    "See the [Limb Darkening tutorial](./limb_darkening.ipynb)"
   ]
  },
  {
   "cell_type": "code",
   "execution_count": 10,
   "metadata": {},
   "outputs": [
    {
     "name": "stdout",
     "output_type": "stream",
     "text": [
      "Parameter: ld_mode@primary@lc01@dataset\n",
      "                       Qualifier: ld_mode\n",
      "                     Description: Mode to use for limb-darkening\n",
      "                           Value: interp\n",
      "                         Choices: interp, lookup, manual\n",
      "                  Constrained by: \n",
      "                      Constrains: None\n",
      "                      Related to: None\n",
      "\n"
     ]
    }
   ],
   "source": [
    "print(b.get_parameter(qualifier='ld_mode', component='primary'))"
   ]
  },
  {
   "cell_type": "markdown",
   "metadata": {},
   "source": [
    "### ld_func\n",
    "\n",
    "`ld_func` will only be available if `ld_mode` is not 'interp', so let's set it to 'lookup'.  See the [limb darkening tutorial](./limb_darkening.ipynb) for more details."
   ]
  },
  {
   "cell_type": "code",
   "execution_count": 11,
   "metadata": {},
   "outputs": [],
   "source": [
    "b.set_value('ld_mode', component='primary', value='lookup')"
   ]
  },
  {
   "cell_type": "code",
   "execution_count": 12,
   "metadata": {},
   "outputs": [
    {
     "name": "stdout",
     "output_type": "stream",
     "text": [
      "Parameter: ld_func@primary@lc01@dataset\n",
      "                       Qualifier: ld_func\n",
      "                     Description: Limb darkening model\n",
      "                           Value: logarithmic\n",
      "                         Choices: linear, logarithmic, quadratic, square_root, power\n",
      "                  Constrained by: \n",
      "                      Constrains: None\n",
      "                      Related to: None\n",
      "                 Only visible if: ld_mode:lookup|manual\n",
      "\n"
     ]
    }
   ],
   "source": [
    "print(b.get_parameter(qualifier='ld_func', component='primary'))"
   ]
  },
  {
   "cell_type": "markdown",
   "metadata": {},
   "source": [
    "### ld_coeffs_source\n",
    "\n",
    "`ld_coeffs_source` will only be available if `ld_mode` is 'lookup'.  See the [limb darkening tutorial](./limb_darkening.ipynb) for more details."
   ]
  },
  {
   "cell_type": "code",
   "execution_count": 13,
   "metadata": {},
   "outputs": [
    {
     "name": "stdout",
     "output_type": "stream",
     "text": [
      "Parameter: ld_coeffs_source@primary@lc01@dataset\n",
      "                       Qualifier: ld_coeffs_source\n",
      "                     Description: Source for limb darkening coefficients ('auto' to interpolate from the applicable table according to the 'atm' parameter, or the name of a specific atmosphere table)\n",
      "                           Value: auto\n",
      "                         Choices: auto, ck2004, phoenix\n",
      "                  Constrained by: \n",
      "                      Constrains: None\n",
      "                      Related to: None\n",
      "                 Only visible if: ld_mode:lookup\n",
      "\n"
     ]
    }
   ],
   "source": [
    "print(b.get_parameter(qualifier='ld_coeffs_source', component='primary'))"
   ]
  },
  {
   "cell_type": "markdown",
   "metadata": {},
   "source": [
    "### ld_coeffs"
   ]
  },
  {
   "cell_type": "markdown",
   "metadata": {},
   "source": [
    "`ld_coeffs` will only be available if `ld_mode` is set to 'manual'.  See the [limb darkening tutorial](./limb_darkening.ipynb) for more details."
   ]
  },
  {
   "cell_type": "code",
   "execution_count": 14,
   "metadata": {},
   "outputs": [],
   "source": [
    "b.set_value('ld_mode', component='primary', value='manual')"
   ]
  },
  {
   "cell_type": "code",
   "execution_count": 15,
   "metadata": {},
   "outputs": [
    {
     "name": "stdout",
     "output_type": "stream",
     "text": [
      "Parameter: ld_coeffs@primary@lc01@dataset\n",
      "                       Qualifier: ld_coeffs\n",
      "                     Description: Limb darkening coefficients\n",
      "                           Value: [0.5 0.5]\n",
      "                  Constrained by: \n",
      "                      Constrains: None\n",
      "                      Related to: None\n",
      "                 Only visible if: ld_mode:manual\n",
      "\n"
     ]
    }
   ],
   "source": [
    "print(b.get_parameter(qualifier='ld_coeffs', component='primary'))"
   ]
  },
  {
   "cell_type": "markdown",
   "metadata": {},
   "source": [
    "### passband\n",
    "\n",
    "See the [Atmospheres & Passbands tutorial](./atm_passbands.ipynb)"
   ]
  },
  {
   "cell_type": "code",
   "execution_count": 16,
   "metadata": {},
   "outputs": [
    {
     "name": "stdout",
     "output_type": "stream",
     "text": [
      "Parameter: passband@lc01@dataset\n",
      "                       Qualifier: passband\n",
      "                     Description: Passband\n",
      "                           Value: Johnson:V\n",
      "                         Choices: Tycho:B, LSST:r, Johnson:U, BRITE:blue, Johnson:I, Gaia:RVS, Stromgren:y, Johnson:V, Hipparcos:Hp, Stromgren:b, BRITE:red, TESS:T, Johnson:B, LSST:z, Kepler:mean, LSST:g, Cousins:I, Gaia:G, Johnson:R, LSST:i, KELT:R, Cousins:R, Gaia:BP, Stromgren:u, LSST:y3, Bolometric:900-40000, Tycho:V, LSST:u, Gaia:RP, Stromgren:v\n",
      "                  Constrained by: \n",
      "                      Constrains: None\n",
      "                      Related to: None\n",
      "\n"
     ]
    }
   ],
   "source": [
    "print(b.get_parameter(qualifier='passband'))"
   ]
  },
  {
   "cell_type": "markdown",
   "metadata": {},
   "source": [
    "### intens_weighting\n",
    "\n",
    "See the [Intensity Weighting tutorial](intens_weighting)"
   ]
  },
  {
   "cell_type": "code",
   "execution_count": 17,
   "metadata": {},
   "outputs": [
    {
     "name": "stdout",
     "output_type": "stream",
     "text": [
      "Parameter: intens_weighting@lc01@dataset\n",
      "                       Qualifier: intens_weighting\n",
      "                     Description: Whether passband intensities are weighted by energy or photons\n",
      "                           Value: energy\n",
      "                         Choices: energy, photon\n",
      "                  Constrained by: \n",
      "                      Constrains: None\n",
      "                      Related to: None\n",
      "\n"
     ]
    }
   ],
   "source": [
    "print(b.get_parameter(qualifier='intens_weighting'))"
   ]
  },
  {
   "cell_type": "markdown",
   "metadata": {},
   "source": [
    "### pblum_mode\n",
    "\n",
    "See the [Passband Luminosity tutorial](pblum)"
   ]
  },
  {
   "cell_type": "code",
   "execution_count": 18,
   "metadata": {},
   "outputs": [
    {
     "name": "stdout",
     "output_type": "stream",
     "text": [
      "Parameter: pblum_mode@lc01@dataset\n",
      "                       Qualifier: pblum_mode\n",
      "                     Description: Mode for scaling passband luminosities\n",
      "                           Value: component-coupled\n",
      "                         Choices: decoupled, component-coupled, dataset-coupled, dataset-scaled, absolute\n",
      "                  Constrained by: \n",
      "                      Constrains: None\n",
      "                      Related to: None\n",
      "\n"
     ]
    }
   ],
   "source": [
    "print(b.get_parameter(qualifier='pblum_mode'))"
   ]
  },
  {
   "cell_type": "markdown",
   "metadata": {},
   "source": [
    "### pblum_component\n",
    "\n",
    "`pblum_component` is only available if `pblum_mode` is set to 'component-coupled'.  See the [passband luminosity tutorial](./pblum.ipynb) for more details."
   ]
  },
  {
   "cell_type": "code",
   "execution_count": 19,
   "metadata": {},
   "outputs": [],
   "source": [
    "b.set_value('pblum_mode', value='component-coupled')"
   ]
  },
  {
   "cell_type": "code",
   "execution_count": 20,
   "metadata": {},
   "outputs": [
    {
     "name": "stdout",
     "output_type": "stream",
     "text": [
      "Parameter: pblum_component@lc01@dataset\n",
      "                       Qualifier: pblum_component\n",
      "                     Description: Which component's pblum will be provided\n",
      "                           Value: primary\n",
      "                         Choices: primary, secondary\n",
      "                  Constrained by: \n",
      "                      Constrains: None\n",
      "                      Related to: None\n",
      "                 Only visible if: pblum_mode:component-coupled\n",
      "\n"
     ]
    }
   ],
   "source": [
    "print(b.get_parameter(qualifier='pblum_component'))"
   ]
  },
  {
   "cell_type": "markdown",
   "metadata": {},
   "source": [
    "### pblum_dataset"
   ]
  },
  {
   "cell_type": "markdown",
   "metadata": {},
   "source": [
    "`pblum_dataset` is only available if `pblum_mode` is set to 'dataset-coupled'.  In this case we'll get a warning because there is only one dataset.  See the [passband luminosity tutorial](./pblum.ipynb) for more details."
   ]
  },
  {
   "cell_type": "code",
   "execution_count": 21,
   "metadata": {},
   "outputs": [
    {
     "name": "stderr",
     "output_type": "stream",
     "text": [
      "Thu, 17 Sep 2020 11:04 BUNDLE       WARNING cannot set pblum_mode@lc01='dataset-coupled' when there are no other valid datasets.  Change pblum_mode or add another dataset.  If not addressed, this warning will continue to be raised and will throw an error at run_compute.\n",
      "Thu, 17 Sep 2020 11:04 BUNDLE       WARNING cannot set pblum_dataset@lc01='None' as that dataset has pblum_mode@None='dataset-coupled'.  Perhaps set to '' instead.  If not addressed, this warning will continue to be raised and will throw an error at run_compute.\n"
     ]
    }
   ],
   "source": [
    "b.set_value('pblum_mode', value='dataset-coupled')"
   ]
  },
  {
   "cell_type": "code",
   "execution_count": 22,
   "metadata": {},
   "outputs": [
    {
     "name": "stdout",
     "output_type": "stream",
     "text": [
      "Parameter: pblum_dataset@lc01@dataset\n",
      "                       Qualifier: pblum_dataset\n",
      "                     Description: Dataset with which to couple luminosities based on color\n",
      "                           Value: \n",
      "                         Choices: \n",
      "                  Constrained by: \n",
      "                      Constrains: None\n",
      "                      Related to: None\n",
      "                 Only visible if: pblum_mode:dataset-coupled\n",
      "\n"
     ]
    }
   ],
   "source": [
    "print(b.get_parameter(qualifier='pblum_dataset'))"
   ]
  },
  {
   "cell_type": "markdown",
   "metadata": {},
   "source": [
    "### pblum\n",
    "\n",
    "`pblum` is only available if `pblum_mode` is set to 'decoupled' (in which case there is a `pblum` entry per-star) or 'component-coupled' (in which case there is only an entry for the star chosen by `pblum_component`).  See the [passband luminosity tutorial](./pblum.ipynb) for more details."
   ]
  },
  {
   "cell_type": "code",
   "execution_count": 23,
   "metadata": {},
   "outputs": [],
   "source": [
    "b.set_value('pblum_mode', value='decoupled')"
   ]
  },
  {
   "cell_type": "code",
   "execution_count": 24,
   "metadata": {},
   "outputs": [
    {
     "name": "stdout",
     "output_type": "stream",
     "text": [
      "Parameter: pblum@primary@lc01@dataset\n",
      "                       Qualifier: pblum\n",
      "                     Description: Passband luminosity (defined at t0)\n",
      "                           Value: 12.566370614359172 W\n",
      "                  Constrained by: \n",
      "                      Constrains: None\n",
      "                      Related to: None\n",
      "                 Only visible if: [component]pblum_mode:decoupled||[component]pblum_mode:component-coupled,[component]pblum_component:<component>\n",
      "\n"
     ]
    }
   ],
   "source": [
    "print(b.get_parameter(qualifier='pblum', component='primary'))"
   ]
  },
  {
   "cell_type": "markdown",
   "metadata": {},
   "source": [
    "### l3_mode\n",
    "\n",
    "See the [\"Third\" Light tutorial](./l3.ipynb)"
   ]
  },
  {
   "cell_type": "code",
   "execution_count": 25,
   "metadata": {},
   "outputs": [
    {
     "name": "stdout",
     "output_type": "stream",
     "text": [
      "Parameter: l3_mode@lc01@dataset\n",
      "                       Qualifier: l3_mode\n",
      "                     Description: Whether third light is given in units of flux or as a fraction of total light\n",
      "                           Value: flux\n",
      "                         Choices: flux, fraction\n",
      "                  Constrained by: \n",
      "                      Constrains: None\n",
      "                      Related to: None\n",
      "\n"
     ]
    }
   ],
   "source": [
    "print(b.get_parameter(qualifier='l3_mode'))"
   ]
  },
  {
   "cell_type": "markdown",
   "metadata": {},
   "source": [
    "### l3\n",
    "\n",
    "`l3` is only avaible if `l3_mode` is set to 'flux'.  See the [\"Third\" Light tutorial](l3) for more details."
   ]
  },
  {
   "cell_type": "code",
   "execution_count": 26,
   "metadata": {},
   "outputs": [],
   "source": [
    "b.set_value('l3_mode', value='flux')"
   ]
  },
  {
   "cell_type": "code",
   "execution_count": 27,
   "metadata": {},
   "outputs": [
    {
     "name": "stdout",
     "output_type": "stream",
     "text": [
      "Parameter: l3@lc01@dataset\n",
      "                       Qualifier: l3\n",
      "                     Description: Third light in flux units\n",
      "                           Value: 0.0 W / m2\n",
      "                  Constrained by: \n",
      "                      Constrains: None\n",
      "                      Related to: None\n",
      "                 Only visible if: l3_mode:flux\n",
      "\n"
     ]
    }
   ],
   "source": [
    "print(b.get_parameter(qualifier='l3'))"
   ]
  },
  {
   "cell_type": "markdown",
   "metadata": {},
   "source": [
    "### l3_frac\n",
    "\n",
    "`l3_frac` is only avaible if `l3_mode` is set to 'fraction'.  See the [\"Third\" Light tutorial](l3) for more details."
   ]
  },
  {
   "cell_type": "code",
   "execution_count": 28,
   "metadata": {},
   "outputs": [],
   "source": [
    "b.set_value('l3_mode', value='fraction')"
   ]
  },
  {
   "cell_type": "code",
   "execution_count": 29,
   "metadata": {},
   "outputs": [
    {
     "name": "stdout",
     "output_type": "stream",
     "text": [
      "Parameter: l3_frac@lc01@dataset\n",
      "                       Qualifier: l3_frac\n",
      "                     Description: Third light as a fraction of total flux (both system and third light)\n",
      "                           Value: 0.0\n",
      "                  Constrained by: \n",
      "                      Constrains: None\n",
      "                      Related to: None\n",
      "                 Only visible if: l3_mode:fraction\n",
      "\n"
     ]
    }
   ],
   "source": [
    "print(b.get_parameter(qualifier='l3_frac'))"
   ]
  },
  {
   "cell_type": "markdown",
   "metadata": {},
   "source": [
    "Compute Options\n",
    "------------------\n",
    "\n",
    "Let's look at the compute options (for the default PHOEBE 2 backend) that relate to computing fluxes and the LC dataset.\n",
    "\n",
    "Other compute options are covered elsewhere:\n",
    "* parameters related to dynamics are explained in the section on the [orb dataset](ORB.ipynb)\n",
    "* parameters related to meshing, eclipse detection, and subdivision are explained in the section on the [mesh dataset](MESH.ipynb)"
   ]
  },
  {
   "cell_type": "code",
   "execution_count": 30,
   "metadata": {},
   "outputs": [
    {
     "name": "stdout",
     "output_type": "stream",
     "text": [
      "ParameterSet: 18 parameters\n",
      "     sample_from@phoebe01@compute: []\n",
      "        comments@phoebe01@compute: \n",
      "   dynamics_method@phoebe01@co...: keplerian\n",
      "            ltte@phoebe01@compute: False\n",
      "    irrad_method@phoebe01@compute: horvat\n",
      "   boosting_method@phoebe01@co...: none\n",
      "   eclipse_method@phoebe01@com...: native\n",
      "   horizon_method@phoebe01@com...: boolean\n",
      "   mesh_method@primary@phoebe0...: marching\n",
      "   mesh_method@secondary@phoeb...: marching\n",
      "   ntriangles@primary@phoebe01...: 1500\n",
      "   ntriangles@secondary@phoebe...: 1500\n",
      "   distortion_method@primary@p...: roche\n",
      "   distortion_method@secondary...: roche\n",
      "     atm@primary@phoebe01@compute: ck2004\n",
      "   atm@secondary@phoebe01@compute: ck2004\n",
      "         enabled@phoebe01@compute: True\n",
      "      fti_method@phoebe01@compute: none\n"
     ]
    }
   ],
   "source": [
    "print(b.get_compute())"
   ]
  },
  {
   "cell_type": "markdown",
   "metadata": {},
   "source": [
    "### irrad_method"
   ]
  },
  {
   "cell_type": "code",
   "execution_count": 31,
   "metadata": {
    "scrolled": true
   },
   "outputs": [
    {
     "name": "stdout",
     "output_type": "stream",
     "text": [
      "Parameter: irrad_method@phoebe01@compute\n",
      "                       Qualifier: irrad_method\n",
      "                     Description: Which method to use to handle all irradiation effects (reflection, redistribution)\n",
      "                           Value: horvat\n",
      "                         Choices: none, wilson, horvat\n",
      "                  Constrained by: \n",
      "                      Constrains: None\n",
      "                      Related to: None\n",
      "\n"
     ]
    }
   ],
   "source": [
    "print(b.get_parameter(qualifier='irrad_method'))"
   ]
  },
  {
   "cell_type": "markdown",
   "metadata": {},
   "source": [
    "For more details on irradiation, see the [Irradiation tutorial](reflection_heating.ipynb)"
   ]
  },
  {
   "cell_type": "markdown",
   "metadata": {
    "collapsed": true
   },
   "source": [
    "### boosting_method"
   ]
  },
  {
   "cell_type": "code",
   "execution_count": 32,
   "metadata": {},
   "outputs": [
    {
     "name": "stdout",
     "output_type": "stream",
     "text": [
      "Parameter: boosting_method@phoebe01@compute\n",
      "                       Qualifier: boosting_method\n",
      "                     Description: Type of boosting method\n",
      "                           Value: none\n",
      "                         Choices: none\n",
      "                  Constrained by: \n",
      "                      Constrains: None\n",
      "                      Related to: None\n",
      "\n"
     ]
    }
   ],
   "source": [
    "print(b.get_parameter(qualifier='boosting_method'))"
   ]
  },
  {
   "cell_type": "markdown",
   "metadata": {},
   "source": [
    "For more details on boosting, see the [Beaming and Boosting example script](../examples/beaming_boosting)"
   ]
  },
  {
   "cell_type": "markdown",
   "metadata": {},
   "source": [
    "### atm"
   ]
  },
  {
   "cell_type": "code",
   "execution_count": 33,
   "metadata": {},
   "outputs": [
    {
     "name": "stdout",
     "output_type": "stream",
     "text": [
      "Parameter: atm@primary@phoebe01@compute\n",
      "                       Qualifier: atm\n",
      "                     Description: Atmosphere table\n",
      "                           Value: ck2004\n",
      "                         Choices: phoenix, extern_planckint, ck2004, extern_atmx, blackbody\n",
      "                  Constrained by: \n",
      "                      Constrains: None\n",
      "                      Related to: None\n",
      "\n"
     ]
    }
   ],
   "source": [
    "print(b.get_parameter(qualifier='atm', component='primary'))"
   ]
  },
  {
   "cell_type": "markdown",
   "metadata": {},
   "source": [
    "For more details on atmospheres, see the [Atmospheres & Passbands tutorial](atm_passbands.ipynb)"
   ]
  },
  {
   "cell_type": "markdown",
   "metadata": {},
   "source": [
    "Synthetics\n",
    "------------------"
   ]
  },
  {
   "cell_type": "code",
   "execution_count": 34,
   "metadata": {},
   "outputs": [],
   "source": [
    "b.set_value('times', phoebe.linspace(0,1,101))"
   ]
  },
  {
   "cell_type": "code",
   "execution_count": 35,
   "metadata": {},
   "outputs": [
    {
     "name": "stderr",
     "output_type": "stream",
     "text": [
      "100%|██████████| 101/101 [00:01<00:00, 81.54it/s]\n"
     ]
    },
    {
     "data": {
      "text/plain": [
       "<ParameterSet: 3 parameters | qualifiers: comments, times, fluxes>"
      ]
     },
     "execution_count": 35,
     "metadata": {},
     "output_type": "execute_result"
    }
   ],
   "source": [
    "b.run_compute()"
   ]
  },
  {
   "cell_type": "code",
   "execution_count": 36,
   "metadata": {},
   "outputs": [
    {
     "name": "stdout",
     "output_type": "stream",
     "text": [
      "['times@lc01@phoebe01@latest@lc@model', 'fluxes@lc01@phoebe01@latest@lc@model', 'comments@phoebe01@latest@model']\n"
     ]
    }
   ],
   "source": [
    "print(b.filter(context='model').twigs)"
   ]
  },
  {
   "cell_type": "code",
   "execution_count": 37,
   "metadata": {},
   "outputs": [
    {
     "name": "stdout",
     "output_type": "stream",
     "text": [
      "Parameter: times@latest@model\n",
      "                       Qualifier: times\n",
      "                     Description: Model (synthetic) times\n",
      "                           Value: [0.   0.01 0.02 ... 0.98 0.99 1.  ] d\n",
      "                  Constrained by: \n",
      "                      Constrains: None\n",
      "                      Related to: None\n",
      "\n"
     ]
    }
   ],
   "source": [
    "print(b.get_parameter(qualifier='times', kind='lc', context='model'))"
   ]
  },
  {
   "cell_type": "code",
   "execution_count": 38,
   "metadata": {},
   "outputs": [
    {
     "name": "stdout",
     "output_type": "stream",
     "text": [
      "Parameter: fluxes@latest@model\n",
      "                       Qualifier: fluxes\n",
      "                     Description: Model (synthetic) flux\n",
      "                           Value: [0.98314461 1.17929552 1.38970499 ... 1.38956864 1.17942619\n",
      " 0.98314461] W / m2\n",
      "                  Constrained by: \n",
      "                      Constrains: None\n",
      "                      Related to: None\n",
      "\n"
     ]
    }
   ],
   "source": [
    "print(b.get_parameter(qualifier='fluxes', kind='lc', context='model'))"
   ]
  },
  {
   "cell_type": "markdown",
   "metadata": {},
   "source": [
    "Plotting\n",
    "---------------\n",
    "\n",
    "By default, LC datasets plot as flux vs time."
   ]
  },
  {
   "cell_type": "code",
   "execution_count": 39,
   "metadata": {},
   "outputs": [
    {
     "data": {
      "image/png": "[encoded data removed]",
      "text/plain": [
       "<Figure size 576x432 with 1 Axes>"
      ]
     },
     "metadata": {
      "needs_background": "light"
     },
     "output_type": "display_data"
    }
   ],
   "source": [
    "afig, mplfig = b.plot(show=True)"
   ]
  },
  {
   "cell_type": "markdown",
   "metadata": {},
   "source": [
    "Since these are the only two columns available in the synthetic model, the only other option is to plot in phase instead of time."
   ]
  },
  {
   "cell_type": "code",
   "execution_count": 40,
   "metadata": {},
   "outputs": [
    {
     "data": {
      "image/png": "[encoded data removed]",
      "text/plain": [
       "<Figure size 576x432 with 1 Axes>"
      ]
     },
     "metadata": {
      "needs_background": "light"
     },
     "output_type": "display_data"
    }
   ],
   "source": [
    "afig, mplfig = b.plot(x='phases', show=True)"
   ]
  },
  {
   "cell_type": "markdown",
   "metadata": {},
   "source": [
    "In system hierarchies where there may be multiple periods, it is also possible to determine whose period to use for phasing."
   ]
  },
  {
   "cell_type": "code",
   "execution_count": 41,
   "metadata": {},
   "outputs": [
    {
     "name": "stdout",
     "output_type": "stream",
     "text": [
      "['primary', 'secondary', 'binary']\n"
     ]
    }
   ],
   "source": [
    "print(b.filter(qualifier='period').components)"
   ]
  },
  {
   "cell_type": "code",
   "execution_count": 42,
   "metadata": {},
   "outputs": [
    {
     "data": {
      "image/png": "[encoded data removed]",
      "text/plain": [
       "<Figure size 576x432 with 1 Axes>"
      ]
     },
     "metadata": {
      "needs_background": "light"
     },
     "output_type": "display_data"
    }
   ],
   "source": [
    "afig, mplfig = b.plot(x='phases:binary', show=True)"
   ]
  },
  {
   "cell_type": "markdown",
   "metadata": {},
   "source": [
    "Mesh Fields\n",
    "---------------------\n",
    "\n",
    "By adding a mesh dataset and setting the columns parameter, light-curve (i.e. passband-dependent) per-element quantities can be exposed and plotted.\n",
    "\n",
    "Let's add a single mesh at the first time of the light-curve and re-call run_compute"
   ]
  },
  {
   "cell_type": "code",
   "execution_count": 43,
   "metadata": {},
   "outputs": [
    {
     "name": "stderr",
     "output_type": "stream",
     "text": [
      "Thu, 17 Sep 2020 11:04 BUNDLE       WARNING mesh dataset uses 'compute_times' instead of 'times', applying value sent as 'times' to 'compute_times'.\n"
     ]
    },
    {
     "data": {
      "text/plain": [
       "<ParameterSet: 83 parameters | contexts: compute, constraint, figure, dataset>"
      ]
     },
     "execution_count": 43,
     "metadata": {},
     "output_type": "execute_result"
    }
   ],
   "source": [
    "b.add_dataset('mesh', times=[0], dataset='mesh01')"
   ]
  },
  {
   "cell_type": "code",
   "execution_count": 44,
   "metadata": {},
   "outputs": [
    {
     "name": "stdout",
     "output_type": "stream",
     "text": [
      "['volume', 'xs', 'ys', 'zs', 'vxs', 'vys', 'vzs', 'nxs', 'nys', 'nzs', 'us', 'vs', 'ws', 'vus', 'vvs', 'vws', 'nus', 'nvs', 'nws', 'areas', 'loggs', 'teffs', 'rprojs', 'mus', 'visibilities', 'visible_centroids', 'rs', 'intensities@lc01', 'normal_intensities@lc01', 'abs_intensities@lc01', 'abs_normal_intensities@lc01', 'boost_factors@lc01', 'ldint@lc01', 'pblum_ext@lc01', 'abs_pblum_ext@lc01', 'ptfarea@lc01']\n"
     ]
    }
   ],
   "source": [
    "print(b.get_parameter(qualifier='columns').choices)"
   ]
  },
  {
   "cell_type": "code",
   "execution_count": 45,
   "metadata": {},
   "outputs": [],
   "source": [
    "b.set_value('columns', value=['intensities@lc01', \n",
    "                              'abs_intensities@lc01', \n",
    "                              'normal_intensities@lc01', \n",
    "                              'abs_normal_intensities@lc01', \n",
    "                              'pblum_ext@lc01', \n",
    "                              'boost_factors@lc01'])"
   ]
  },
  {
   "cell_type": "code",
   "execution_count": 46,
   "metadata": {},
   "outputs": [
    {
     "name": "stderr",
     "output_type": "stream",
     "text": [
      "Thu, 17 Sep 2020 11:04 BUNDLE       WARNING overwriting model: latest\n",
      "100%|██████████| 101/101 [00:01<00:00, 77.77it/s]\n"
     ]
    },
    {
     "data": {
      "text/plain": [
       "<ParameterSet: 25 parameters | kinds: lc, mesh>"
      ]
     },
     "execution_count": 46,
     "metadata": {},
     "output_type": "execute_result"
    }
   ],
   "source": [
    "b.run_compute()"
   ]
  },
  {
   "cell_type": "code",
   "execution_count": 47,
   "metadata": {},
   "outputs": [
    {
     "name": "stdout",
     "output_type": "stream",
     "text": [
      "['lc01', 'mesh01']\n"
     ]
    }
   ],
   "source": [
    "print(b.get_model().datasets)"
   ]
  },
  {
   "cell_type": "markdown",
   "metadata": {},
   "source": [
    "These new columns are stored with the lc's dataset tag, but with the 'mesh' dataset-kind."
   ]
  },
  {
   "cell_type": "code",
   "execution_count": 48,
   "metadata": {},
   "outputs": [
    {
     "name": "stdout",
     "output_type": "stream",
     "text": [
      "['00.000000@intensities@primary@lc01@phoebe01@latest@mesh@model', '00.000000@normal_intensities@primary@lc01@phoebe01@latest@mesh@model', '00.000000@abs_intensities@primary@lc01@phoebe01@latest@mesh@model', '00.000000@abs_normal_intensities@primary@lc01@phoebe01@latest@mesh@model', '00.000000@boost_factors@primary@lc01@phoebe01@latest@mesh@model', '00.000000@pblum_ext@primary@lc01@phoebe01@latest@mesh@model', '00.000000@intensities@secondary@lc01@phoebe01@latest@mesh@model', '00.000000@normal_intensities@secondary@lc01@phoebe01@latest@mesh@model', '00.000000@abs_intensities@secondary@lc01@phoebe01@latest@mesh@model', '00.000000@abs_normal_intensities@secondary@lc01@phoebe01@latest@mesh@model', '00.000000@boost_factors@secondary@lc01@phoebe01@latest@mesh@model', '00.000000@pblum_ext@secondary@lc01@phoebe01@latest@mesh@model']\n"
     ]
    }
   ],
   "source": [
    "print(b.filter(dataset='lc01', kind='mesh', context='model').twigs)"
   ]
  },
  {
   "cell_type": "markdown",
   "metadata": {},
   "source": [
    "Any of these columns are then available to use as edge or facecolors when plotting the mesh (see the section on the [mesh dataset](MESH))."
   ]
  },
  {
   "cell_type": "code",
   "execution_count": 49,
   "metadata": {},
   "outputs": [
    {
     "data": {
      "image/png": "[encoded data removed]",
      "text/plain": [
       "<Figure size 576x432 with 1 Axes>"
      ]
     },
     "metadata": {
      "needs_background": "light"
     },
     "output_type": "display_data"
    }
   ],
   "source": [
    "afig, mplfig = b.filter(kind='mesh').plot(fc='intensities', ec='None', show=True)"
   ]
  },
  {
   "cell_type": "markdown",
   "metadata": {},
   "source": [
    "Now let's look at each of the available fields."
   ]
  },
  {
   "cell_type": "markdown",
   "metadata": {},
   "source": [
    "### pblum\n",
    "\n",
    "For more details, see the tutorial on [Passband Luminosities](pblum)"
   ]
  },
  {
   "cell_type": "code",
   "execution_count": 50,
   "metadata": {},
   "outputs": [
    {
     "name": "stdout",
     "output_type": "stream",
     "text": [
      "Parameter: pblum_ext@primary@latest@model\n",
      "                       Qualifier: pblum_ext\n",
      "                     Description: Passband Luminosity of entire star (after pblum scaling)\n",
      "                           Value: 12.638505526584439 W\n",
      "                  Constrained by: \n",
      "                      Constrains: None\n",
      "                      Related to: None\n",
      "\n"
     ]
    }
   ],
   "source": [
    "print(b.get_parameter(qualifier='pblum_ext', \n",
    "                      component='primary', \n",
    "                      dataset='lc01', \n",
    "                      kind='mesh', \n",
    "                      context='model'))"
   ]
  },
  {
   "cell_type": "markdown",
   "metadata": {},
   "source": [
    "`pblum_ext` is the *extrinsic* passband luminosity of the entire star/mesh - this is a single value (unlike most of the parameters in the mesh) and does not have per-element values."
   ]
  },
  {
   "cell_type": "markdown",
   "metadata": {},
   "source": [
    "### abs_normal_intensities"
   ]
  },
  {
   "cell_type": "code",
   "execution_count": 51,
   "metadata": {},
   "outputs": [
    {
     "name": "stdout",
     "output_type": "stream",
     "text": [
      "Parameter: abs_normal_intensities@primary@latest@model\n",
      "                       Qualifier: abs_normal_intensities\n",
      "                     Description: Per-element value of abs_normal_intensities for lc01 dataset\n",
      "                           Value: [4.29459195e+13 4.29476393e+13 4.29458145e+13 ... 4.19353759e+13\n",
      " 4.19285231e+13 4.19559313e+13] W / m3\n",
      "                  Constrained by: \n",
      "                      Constrains: None\n",
      "                      Related to: None\n",
      "\n"
     ]
    }
   ],
   "source": [
    "print(b.get_parameter(qualifier='abs_normal_intensities', \n",
    "                      component='primary', \n",
    "                      dataset='lc01', \n",
    "                      kind='mesh', \n",
    "                      context='model'))"
   ]
  },
  {
   "cell_type": "markdown",
   "metadata": {},
   "source": [
    "`abs_normal_intensities` are the absolute normal intensities per-element."
   ]
  },
  {
   "cell_type": "markdown",
   "metadata": {},
   "source": [
    "### normal_intensities"
   ]
  },
  {
   "cell_type": "code",
   "execution_count": 52,
   "metadata": {},
   "outputs": [
    {
     "name": "stdout",
     "output_type": "stream",
     "text": [
      "Parameter: normal_intensities@primary@latest@model\n",
      "                       Qualifier: normal_intensities\n",
      "                     Description: Per-element value of normal_intensities for lc01 dataset\n",
      "                           Value: [8.28012159e-12 8.28045318e-12 8.28010134e-12 ... 8.08528530e-12\n",
      " 8.08396406e-12 8.08924844e-12] W / m3\n",
      "                  Constrained by: \n",
      "                      Constrains: None\n",
      "                      Related to: None\n",
      "\n"
     ]
    }
   ],
   "source": [
    "print(b.get_parameter(qualifier='normal_intensities', \n",
    "                      component='primary', \n",
    "                      dataset='lc01', \n",
    "                      kind='mesh', \n",
    "                      context='model'))"
   ]
  },
  {
   "cell_type": "markdown",
   "metadata": {},
   "source": [
    "`normal_intensities` are the relative normal intensities per-element."
   ]
  },
  {
   "cell_type": "markdown",
   "metadata": {},
   "source": [
    "### abs_intensities"
   ]
  },
  {
   "cell_type": "code",
   "execution_count": 53,
   "metadata": {},
   "outputs": [
    {
     "name": "stdout",
     "output_type": "stream",
     "text": [
      "Parameter: abs_intensities@primary@latest@model\n",
      "                       Qualifier: abs_intensities\n",
      "                     Description: Per-element value of abs_intensities for lc01 dataset\n",
      "                           Value: [4.29451532e+13 4.29468577e+13 4.29450482e+13 ...            nan\n",
      "            nan            nan] W / m3\n",
      "                  Constrained by: \n",
      "                      Constrains: None\n",
      "                      Related to: None\n",
      "\n"
     ]
    }
   ],
   "source": [
    "print(b.get_parameter(qualifier='abs_intensities', \n",
    "                      component='primary', \n",
    "                      dataset='lc01', \n",
    "                      kind='mesh', \n",
    "                      context='model'))"
   ]
  },
  {
   "cell_type": "markdown",
   "metadata": {},
   "source": [
    "`abs_intensities` are the projected absolute intensities (towards the observer) per-element."
   ]
  },
  {
   "cell_type": "markdown",
   "metadata": {},
   "source": [
    "### intensities"
   ]
  },
  {
   "cell_type": "code",
   "execution_count": 54,
   "metadata": {},
   "outputs": [
    {
     "name": "stdout",
     "output_type": "stream",
     "text": [
      "Parameter: intensities@primary@latest@model\n",
      "                       Qualifier: intensities\n",
      "                     Description: Per-element value of intensities for lc01 dataset\n",
      "                           Value: [8.27997385e-12 8.28030249e-12 8.27995360e-12 ...            nan\n",
      "            nan            nan] W / m3\n",
      "                  Constrained by: \n",
      "                      Constrains: None\n",
      "                      Related to: None\n",
      "\n"
     ]
    }
   ],
   "source": [
    "print(b.get_parameter(qualifier='intensities', \n",
    "                      component='primary', \n",
    "                      dataset='lc01', \n",
    "                      kind='mesh', \n",
    "                      context='model'))"
   ]
  },
  {
   "cell_type": "markdown",
   "metadata": {},
   "source": [
    "`intensities` are the projected relative intensities (towards the observer) per-element."
   ]
  },
  {
   "cell_type": "markdown",
   "metadata": {},
   "source": [
    "### boost_factors"
   ]
  },
  {
   "cell_type": "code",
   "execution_count": 55,
   "metadata": {},
   "outputs": [
    {
     "name": "stdout",
     "output_type": "stream",
     "text": [
      "Parameter: boost_factors@primary@latest@model\n",
      "                       Qualifier: boost_factors\n",
      "                     Description: Per-element value of boost_factors for lc01 dataset\n",
      "                           Value: [1. 1. 1. ... 1. 1. 1.]\n",
      "                  Constrained by: \n",
      "                      Constrains: None\n",
      "                      Related to: None\n",
      "\n"
     ]
    }
   ],
   "source": [
    "print(b.get_parameter(qualifier='boost_factors', \n",
    "                      component='primary', \n",
    "                      dataset='lc01', \n",
    "                      kind='mesh', \n",
    "                      context='model'))"
   ]
  },
  {
   "cell_type": "markdown",
   "metadata": {},
   "source": [
    "`boost_factors` are the boosting amplitudes per-element.  See the [boosting tutorial](./beaming_boosting.ipynb) for more details."
   ]
  }
 ],
 "metadata": {
  "kernelspec": {
   "display_name": "Python 3",
   "language": "python",
   "name": "python3"
  },
  "language_info": {
   "codemirror_mode": {
    "name": "ipython",
    "version": 3
   },
   "file_extension": ".py",
   "mimetype": "text/x-python",
   "name": "python",
   "nbconvert_exporter": "python",
   "pygments_lexer": "ipython3",
   "version": "3.8.2"
  }
 },
 "nbformat": 4,
 "nbformat_minor": 1
}
