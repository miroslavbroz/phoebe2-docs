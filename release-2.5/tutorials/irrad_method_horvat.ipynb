{
 "cells": [
  {
   "cell_type": "markdown",
   "metadata": {},
   "source": [
    "Lambert Scattering (irrad_method='horvat')\n",
    "============================\n",
    "\n",
    "Setup\n",
    "-----------------------------"
   ]
  },
  {
   "cell_type": "markdown",
   "metadata": {},
   "source": [
    "Let's first make sure we have the latest version of PHOEBE 2.4 installed (uncomment this line if running in an online notebook session such as colab)."
   ]
  },
  {
   "cell_type": "code",
   "execution_count": 1,
   "metadata": {},
   "outputs": [],
   "source": [
    "#!pip install -I \"phoebe>=2.4,<2.5\""
   ]
  },
  {
   "cell_type": "markdown",
   "metadata": {
    "collapsed": true
   },
   "source": [
    "As always, let's do imports and initialize a logger and a new bundle."
   ]
  },
  {
   "cell_type": "code",
   "execution_count": 2,
   "metadata": {},
   "outputs": [],
   "source": [
    "import phoebe\n",
    "from phoebe import u # units\n",
    "import numpy as np\n",
    "import matplotlib.pyplot as plt\n",
    "\n",
    "logger = phoebe.logger('error')\n",
    "\n",
    "b = phoebe.default_binary()"
   ]
  },
  {
   "cell_type": "markdown",
   "metadata": {
    "collapsed": true
   },
   "source": [
    "Relevant Parameters\n",
    "---------------------------------"
   ]
  },
  {
   "cell_type": "markdown",
   "metadata": {},
   "source": [
    "For parameters that affect reflection and heating (irrad_frac_\\*) see the tutorial on [reflection and heating](./reflection_heating.ipynb).\n",
    "\n",
    "The 'irrad_method' compute option dictates whether irradiation is handled according to the new Horvat scheme which includes Lambert Scattering, Wilson's original reflection scheme, or ignored entirely."
   ]
  },
  {
   "cell_type": "code",
   "execution_count": 3,
   "metadata": {},
   "outputs": [
    {
     "name": "stdout",
     "output_type": "stream",
     "text": [
      "Parameter: irrad_method@phoebe01@compute\n",
      "                       Qualifier: irrad_method\n",
      "                     Description: Which method to use to handle all irradiation effects (reflection, redistribution)\n",
      "                           Value: horvat\n",
      "                         Choices: none, wilson, horvat\n",
      "                  Constrained by: \n",
      "                      Constrains: None\n",
      "                      Related to: None\n",
      "\n"
     ]
    }
   ],
   "source": [
    "print(b['irrad_method'])"
   ]
  },
  {
   "cell_type": "markdown",
   "metadata": {},
   "source": [
    "Influence on Light Curves (fluxes)\n",
    "---------------------------------\n",
    "\n",
    "Let's (roughtly) reproduce Figure 8 from [Prsa et al. 2016](http://phoebe-project.org/publications/2016Prsa+) which shows the difference between Wilson and Horvat schemes for various inclinations.\n",
    "\n",
    "<img src=\"prsa+2016_fig8.png\" alt=\"Figure 8\" width=\"600px\"/>\n",
    "\n",
    "First we'll roughly create a A0-K0 binary and set reasonable albedos."
   ]
  },
  {
   "cell_type": "code",
   "execution_count": 4,
   "metadata": {},
   "outputs": [],
   "source": [
    "b['teff@primary'] = 11000\n",
    "b['requiv@primary'] = 2.5\n",
    "b['gravb_bol@primary'] = 1.0\n",
    "\n",
    "b['teff@secondary'] = 5000\n",
    "b['requiv@secondary'] = 0.85\n",
    "\n",
    "b['q@binary'] = 0.8/3.0\n",
    "\n",
    "b.flip_constraint('mass@primary', solve_for='sma@binary')\n",
    "b['mass@primary'] = 3.0"
   ]
  },
  {
   "cell_type": "code",
   "execution_count": 5,
   "metadata": {},
   "outputs": [
    {
     "name": "stdout",
     "output_type": "stream",
     "text": [
      "ParameterSet: 6 parameters\n",
      "         requiv@primary@component: 2.5 solRad\n",
      "           teff@primary@component: 11000.0 K\n",
      "           mass@primary@component: 3.0 solMass\n",
      "       requiv@secondary@component: 0.85 solRad\n",
      "         teff@secondary@component: 5000.0 K\n",
      "C        mass@secondary@component: 0.7999999999999997 solMass\n"
     ]
    }
   ],
   "source": [
    "print(b.filter(qualifier=['mass', 'requiv', 'teff'], context='component'))"
   ]
  },
  {
   "cell_type": "code",
   "execution_count": 6,
   "metadata": {},
   "outputs": [],
   "source": [
    "b['irrad_frac_refl_bol@primary'] = 1.0\n",
    "b['irrad_frac_refl_bol@secondary'] = 0.6"
   ]
  },
  {
   "cell_type": "markdown",
   "metadata": {},
   "source": [
    "We'll also disable any eclipsing effects."
   ]
  },
  {
   "cell_type": "code",
   "execution_count": 7,
   "metadata": {},
   "outputs": [],
   "source": [
    "b['eclipse_method'] = 'only_horizon'"
   ]
  },
  {
   "cell_type": "markdown",
   "metadata": {},
   "source": [
    "Now we'll compute the light curves with wilson and horvat irradiation, and plot the relative differences between the two as a function of phase, for several different values of the inclination."
   ]
  },
  {
   "cell_type": "code",
   "execution_count": 8,
   "metadata": {},
   "outputs": [
    {
     "data": {
      "text/plain": [
       "<ParameterSet: 73 parameters | contexts: figure, dataset, compute, constraint>"
      ]
     },
     "execution_count": 8,
     "metadata": {},
     "output_type": "execute_result"
    }
   ],
   "source": [
    "phases = phoebe.linspace(0,1,101)\n",
    "b.add_dataset('lc', times=b.to_time(phases))"
   ]
  },
  {
   "cell_type": "code",
   "execution_count": 9,
   "metadata": {},
   "outputs": [
    {
     "name": "stderr",
     "output_type": "stream",
     "text": [
      "100%|██████████| 101/101 [00:00<00:00, 146.76it/s]\n",
      "100%|██████████| 101/101 [00:00<00:00, 151.91it/s]\n",
      "100%|██████████| 101/101 [00:00<00:00, 151.82it/s]\n",
      "100%|██████████| 101/101 [00:00<00:00, 151.21it/s]\n",
      "100%|██████████| 101/101 [00:00<00:00, 143.97it/s]\n",
      "100%|██████████| 101/101 [00:00<00:00, 152.83it/s]\n",
      "100%|██████████| 101/101 [00:00<00:00, 155.34it/s]\n",
      "100%|██████████| 101/101 [00:00<00:00, 152.11it/s]\n"
     ]
    },
    {
     "data": {
      "image/png": "[encoded data removed]",
      "text/plain": [
       "<Figure size 432x288 with 1 Axes>"
      ]
     },
     "metadata": {
      "needs_background": "light"
     },
     "output_type": "display_data"
    }
   ],
   "source": [
    "for incl in [0,30,60,90]:\n",
    "    b.set_value('incl@binary', incl)\n",
    "    b.run_compute(irrad_method='wilson')\n",
    "    fluxes_wilson = b.get_value('fluxes', context='model')\n",
    "    b.run_compute(irrad_method='horvat')\n",
    "    fluxes_horvat = b.get_value('fluxes', context='model')\n",
    "    plt.plot(phases, (fluxes_wilson-fluxes_horvat)/fluxes_wilson, label='i={}'.format(incl))\n",
    "    \n",
    "plt.xlabel('phase')\n",
    "plt.ylabel('[F(wilson) - F(horvat)] / F(wilson)')\n",
    "plt.legend(loc='upper center')\n",
    "plt.show()"
   ]
  },
  {
   "cell_type": "code",
   "execution_count": null,
   "metadata": {},
   "outputs": [],
   "source": []
  }
 ],
 "metadata": {
  "kernelspec": {
   "display_name": "Python 3",
   "language": "python",
   "name": "python3"
  },
  "language_info": {
   "codemirror_mode": {
    "name": "ipython",
    "version": 3
   },
   "file_extension": ".py",
   "mimetype": "text/x-python",
   "name": "python",
   "nbconvert_exporter": "python",
   "pygments_lexer": "ipython3",
   "version": "3.8.2"
  }
 },
 "nbformat": 4,
 "nbformat_minor": 1
}
