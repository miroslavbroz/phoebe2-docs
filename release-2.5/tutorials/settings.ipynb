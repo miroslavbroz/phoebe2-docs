{
 "cells": [
  {
   "cell_type": "markdown",
   "metadata": {},
   "source": [
    "Advanced: Settings\n",
    "============================\n",
    "\n",
    "The Bundle also contains a few Parameters that provide settings for that Bundle.  Note that these are not system-wide and only apply to the current Bundle.  They are however maintained when [saving and loading](./saving_and_loading.ipynb) a Bundle.\n",
    "\n",
    "Setup\n",
    "-----------------------------"
   ]
  },
  {
   "cell_type": "markdown",
   "metadata": {},
   "source": [
    "Let's first make sure we have the latest version of PHOEBE 2.4 installed (uncomment this line if running in an online notebook session such as colab)."
   ]
  },
  {
   "cell_type": "code",
   "execution_count": 1,
   "metadata": {},
   "outputs": [],
   "source": [
    "#!pip install -I \"phoebe>=2.4,<2.5\""
   ]
  },
  {
   "cell_type": "markdown",
   "metadata": {
    "collapsed": true
   },
   "source": [
    "As always, let's do imports and initialize a longger and a new Bundle."
   ]
  },
  {
   "cell_type": "code",
   "execution_count": 2,
   "metadata": {},
   "outputs": [],
   "source": [
    "import phoebe\n",
    "from phoebe import u # units\n",
    "\n",
    "logger = phoebe.logger()\n",
    "\n",
    "b = phoebe.default_binary()"
   ]
  },
  {
   "cell_type": "markdown",
   "metadata": {
    "collapsed": true
   },
   "source": [
    "Accessing Settings\n",
    "---------------------------"
   ]
  },
  {
   "cell_type": "markdown",
   "metadata": {},
   "source": [
    "Settings are found with their own context in the Bundle and can be accessed through the get_setting method"
   ]
  },
  {
   "cell_type": "code",
   "execution_count": 3,
   "metadata": {},
   "outputs": [
    {
     "data": {
      "text/plain": [
       "<ParameterSet: 11 parameters | qualifiers: auto_remove_figure, dict_filter, run_checks_compute, run_checks_solver, auto_add_figure, dict_set_all, run_checks_solution, web_client, web_client_url, phoebe_version, run_checks_figure>"
      ]
     },
     "execution_count": 3,
     "metadata": {},
     "output_type": "execute_result"
    }
   ],
   "source": [
    "b.get_setting()"
   ]
  },
  {
   "cell_type": "markdown",
   "metadata": {},
   "source": [
    "or via filtering/twig access"
   ]
  },
  {
   "cell_type": "code",
   "execution_count": 4,
   "metadata": {},
   "outputs": [
    {
     "data": {
      "text/plain": [
       "<ParameterSet: 11 parameters | qualifiers: auto_remove_figure, dict_filter, run_checks_compute, run_checks_solver, auto_add_figure, dict_set_all, run_checks_solution, web_client, web_client_url, phoebe_version, run_checks_figure>"
      ]
     },
     "execution_count": 4,
     "metadata": {},
     "output_type": "execute_result"
    }
   ],
   "source": [
    "b['setting']"
   ]
  },
  {
   "cell_type": "markdown",
   "metadata": {},
   "source": [
    "and can be set as any other Parameter in the Bundle"
   ]
  },
  {
   "cell_type": "markdown",
   "metadata": {},
   "source": [
    "Available Settings\n",
    "--------------------------\n",
    "\n",
    "Now let's look at each of the available settings and what they do"
   ]
  },
  {
   "cell_type": "markdown",
   "metadata": {},
   "source": [
    "### phoebe_version\n",
    "\n",
    "`phoebe_version` is a read-only parameter in the settings to store the version of PHOEBE used."
   ]
  },
  {
   "cell_type": "markdown",
   "metadata": {},
   "source": [
    "### dict_set_all\n",
    "\n",
    "`dict_set_all` is a BooleanParameter (defaults to False) that controls whether attempting to set a value to a ParameterSet via dictionary access will set all the values in that ParameterSet (if True) or raise an error (if False)"
   ]
  },
  {
   "cell_type": "code",
   "execution_count": 5,
   "metadata": {},
   "outputs": [
    {
     "data": {
      "text/plain": [
       "<Parameter: dict_set_all=False | keys: description, value, visible_if, copy_for, readonly, advanced, latexfmt>"
      ]
     },
     "execution_count": 5,
     "metadata": {},
     "output_type": "execute_result"
    }
   ],
   "source": [
    "b['dict_set_all@setting']"
   ]
  },
  {
   "cell_type": "code",
   "execution_count": 6,
   "metadata": {},
   "outputs": [
    {
     "data": {
      "text/plain": [
       "<ParameterSet: 2 parameters | components: primary, secondary>"
      ]
     },
     "execution_count": 6,
     "metadata": {},
     "output_type": "execute_result"
    }
   ],
   "source": [
    "b['teff@component']"
   ]
  },
  {
   "cell_type": "markdown",
   "metadata": {},
   "source": [
    "In our default binary there are temperatures ('teff') parameters for each of the components ('primary' and 'secondary').  If we were to do:\n",
    "\n",
    "b['teff@component'] = 6000\n",
    "\n",
    "this would raise an error.  Under-the-hood, this is simply calling:\n",
    "\n",
    "b.set_value('teff@component', 6000)\n",
    "\n",
    "which of course would also raise an error.\n",
    "\n",
    "In order to set both temperatures to 6000, you would either have to loop over the components or call the set_value_all method:"
   ]
  },
  {
   "cell_type": "code",
   "execution_count": 7,
   "metadata": {},
   "outputs": [
    {
     "name": "stdout",
     "output_type": "stream",
     "text": [
      "4000.0 4000.0\n"
     ]
    }
   ],
   "source": [
    "b.set_value_all('teff@component', 4000)\n",
    "print(b['value@teff@primary@component'], b['value@teff@secondary@component'])"
   ]
  },
  {
   "cell_type": "markdown",
   "metadata": {},
   "source": [
    "If you want dictionary access to use set_value_all instead of set_value, you can enable this parameter"
   ]
  },
  {
   "cell_type": "code",
   "execution_count": 8,
   "metadata": {},
   "outputs": [
    {
     "name": "stderr",
     "output_type": "stream",
     "text": [
      "Wed, 16 Sep 2020 22:04 BUNDLE       WARNING 'primary' probably has a radiative atm (teff=8000K>8000K), for which gravb_bol>=0.9 might be a better approx than gravb_bol=0.32.\n",
      "Wed, 16 Sep 2020 22:04 BUNDLE       WARNING 'primary' probably has a radiative atm (teff=8000K>=8000K), for which irrad_frac_refl_bol>0.8 (suggestion: 1.0) might be a better approx than irrad_frac_refl_bol=0.60.\n",
      "Wed, 16 Sep 2020 22:04 BUNDLE       WARNING 'primary' probably has a radiative atm (teff=8000K>8000K), for which gravb_bol>=0.9 might be a better approx than gravb_bol=0.32.\n",
      "Wed, 16 Sep 2020 22:04 BUNDLE       WARNING 'secondary' probably has a radiative atm (teff=8000K>8000K), for which gravb_bol>=0.9 might be a better approx than gravb_bol=0.32.\n",
      "Wed, 16 Sep 2020 22:04 BUNDLE       WARNING 'primary' probably has a radiative atm (teff=8000K>=8000K), for which irrad_frac_refl_bol>0.8 (suggestion: 1.0) might be a better approx than irrad_frac_refl_bol=0.60.\n",
      "Wed, 16 Sep 2020 22:04 BUNDLE       WARNING 'secondary' probably has a radiative atm (teff=8000K>=8000K), for which irrad_frac_refl_bol>0.8 (suggestion: 1.0) might be a better approx than irrad_frac_refl_bol=0.60.\n"
     ]
    },
    {
     "name": "stdout",
     "output_type": "stream",
     "text": [
      "8000.0 8000.0\n"
     ]
    }
   ],
   "source": [
    "b['dict_set_all@setting'] = True\n",
    "b['teff@component'] = 8000\n",
    "print(b['value@teff@primary@component'], b['value@teff@secondary@component'])"
   ]
  },
  {
   "cell_type": "markdown",
   "metadata": {},
   "source": [
    "Now let's disable this so it doesn't confuse us while looking at the other options"
   ]
  },
  {
   "cell_type": "code",
   "execution_count": 9,
   "metadata": {},
   "outputs": [
    {
     "name": "stderr",
     "output_type": "stream",
     "text": [
      "Wed, 16 Sep 2020 22:04 BUNDLE       WARNING 'secondary' probably has a radiative atm (teff=8000K>8000K), for which gravb_bol>=0.9 might be a better approx than gravb_bol=0.32.\n",
      "Wed, 16 Sep 2020 22:04 BUNDLE       WARNING 'secondary' probably has a radiative atm (teff=8000K>=8000K), for which irrad_frac_refl_bol>0.8 (suggestion: 1.0) might be a better approx than irrad_frac_refl_bol=0.60.\n"
     ]
    }
   ],
   "source": [
    "b.set_value_all('teff@component', 6000)\n",
    "b['dict_set_all@setting'] = False"
   ]
  },
  {
   "cell_type": "markdown",
   "metadata": {},
   "source": [
    "### dict_filter\n",
    "\n",
    "`dict_filter` is a Parameter that accepts a dictionary.  This dictionary will then always be sent to the filter call which is done under-the-hood during dictionary access."
   ]
  },
  {
   "cell_type": "code",
   "execution_count": 10,
   "metadata": {},
   "outputs": [
    {
     "data": {
      "text/plain": [
       "<ParameterSet: 5 parameters | contexts: constraint, component>"
      ]
     },
     "execution_count": 10,
     "metadata": {},
     "output_type": "execute_result"
    }
   ],
   "source": [
    "b['incl']"
   ]
  },
  {
   "cell_type": "markdown",
   "metadata": {},
   "source": [
    "In our default binary, there are several inclination parameters - one for each component ('primary', 'secondary', 'binary') and one with the constraint context (to keep the inclinations aligned).\n",
    "\n",
    "This can be inconvenient... if you want to set the value of the binary's inclination, you must always provide extra information (like '@component').\n",
    "\n",
    "Instead, we can always have the dictionary access search in the component context by doing the following"
   ]
  },
  {
   "cell_type": "code",
   "execution_count": 11,
   "metadata": {},
   "outputs": [],
   "source": [
    "b['dict_filter@setting'] = {'context': 'component'}"
   ]
  },
  {
   "cell_type": "code",
   "execution_count": 12,
   "metadata": {},
   "outputs": [
    {
     "data": {
      "text/plain": [
       "<ParameterSet: 3 parameters | kinds: star, orbit>"
      ]
     },
     "execution_count": 12,
     "metadata": {},
     "output_type": "execute_result"
    }
   ],
   "source": [
    "b['incl']"
   ]
  },
  {
   "cell_type": "markdown",
   "metadata": {},
   "source": [
    "Now we no longer see the constraint parameters.\n",
    "\n",
    "All parameters are always accessible with method access:"
   ]
  },
  {
   "cell_type": "code",
   "execution_count": 13,
   "metadata": {},
   "outputs": [
    {
     "data": {
      "text/plain": [
       "<ParameterSet: 5 parameters | contexts: constraint, component>"
      ]
     },
     "execution_count": 13,
     "metadata": {},
     "output_type": "execute_result"
    }
   ],
   "source": [
    "b.filter(qualifier='incl')"
   ]
  },
  {
   "cell_type": "markdown",
   "metadata": {},
   "source": [
    "Now let's reset this option... keeping in mind that we no longer have access to the 'setting' context through twig access, we'll have to use methods to clear the dict_filter"
   ]
  },
  {
   "cell_type": "code",
   "execution_count": 14,
   "metadata": {},
   "outputs": [],
   "source": [
    "b.set_value('dict_filter@setting', {})"
   ]
  },
  {
   "cell_type": "markdown",
   "metadata": {},
   "source": [
    "### run_checks_compute (/figure/solver/solution)\n",
    "\n",
    "The `run_checks_compute` option allows setting the default compute option(s) sent to [b.run_checks](../api/phoebe.frontend.bundle.Bundle.run_checks.md), including warnings in the logger raised by interactive checks (see [phoebe.interactive_checks_on](../api/phoebe.interactive_checks_on.md)).\n",
    "\n",
    "Similar options also exist for checks at the figure, solver, and solution level."
   ]
  },
  {
   "cell_type": "code",
   "execution_count": 15,
   "metadata": {},
   "outputs": [
    {
     "data": {
      "text/plain": [
       "<Parameter: run_checks_compute=['*'] | keys: description, choices, value, visible_if, readonly, copy_for, latexfmt>"
      ]
     },
     "execution_count": 15,
     "metadata": {},
     "output_type": "execute_result"
    }
   ],
   "source": [
    "b['run_checks_compute@setting']"
   ]
  },
  {
   "cell_type": "code",
   "execution_count": 16,
   "metadata": {},
   "outputs": [
    {
     "name": "stdout",
     "output_type": "stream",
     "text": [
      "Run Checks Report: FAIL\n",
      "ERROR: ld_mode='interp' not supported by 'legacy' backend used by compute='legacy01'.  Change ld_mode@primary@lc01. (2 affected parameters, affecting run_compute)\n",
      "ERROR: ld_mode='interp' not supported by 'legacy' backend used by compute='legacy01'.  Change ld_mode@secondary@lc01. (2 affected parameters, affecting run_compute)\n"
     ]
    }
   ],
   "source": [
    "b.add_dataset('lc')\n",
    "b.add_compute('legacy')\n",
    "print(b.run_checks())"
   ]
  },
  {
   "cell_type": "code",
   "execution_count": 17,
   "metadata": {},
   "outputs": [],
   "source": [
    "b['run_checks_compute@setting'] = ['phoebe01']"
   ]
  },
  {
   "cell_type": "code",
   "execution_count": 18,
   "metadata": {},
   "outputs": [
    {
     "name": "stdout",
     "output_type": "stream",
     "text": [
      "Run Checks Report: PASS\n",
      "\n"
     ]
    }
   ],
   "source": [
    "print(b.run_checks())"
   ]
  },
  {
   "cell_type": "markdown",
   "metadata": {},
   "source": [
    "### auto_add_figure, auto_remove_figure\n",
    "\n",
    "The `auto_add_figure` and `auto_remove_figure` determine whether new figures are automatically added to the Bundle when new datasets, distributions, etc are added.  This is False by default within Python, but True by default within the [UI clients](http://phoebe-project.org/clients)."
   ]
  },
  {
   "cell_type": "code",
   "execution_count": 19,
   "metadata": {},
   "outputs": [
    {
     "data": {
      "text/plain": [
       "<Parameter: auto_add_figure=True | keys: description, value, visible_if, copy_for, readonly, advanced, latexfmt>"
      ]
     },
     "execution_count": 19,
     "metadata": {},
     "output_type": "execute_result"
    }
   ],
   "source": [
    "b['auto_add_figure']"
   ]
  },
  {
   "cell_type": "code",
   "execution_count": 20,
   "metadata": {},
   "outputs": [
    {
     "data": {
      "text/plain": [
       "'Whether to automatically add figure parameters when a dataset is added with a new dataset type, or a solution is added.'"
      ]
     },
     "execution_count": 20,
     "metadata": {},
     "output_type": "execute_result"
    }
   ],
   "source": [
    "b['auto_add_figure'].description"
   ]
  },
  {
   "cell_type": "code",
   "execution_count": 21,
   "metadata": {},
   "outputs": [
    {
     "data": {
      "text/plain": [
       "<Parameter: auto_remove_figure=True | keys: description, value, visible_if, copy_for, readonly, advanced, latexfmt>"
      ]
     },
     "execution_count": 21,
     "metadata": {},
     "output_type": "execute_result"
    }
   ],
   "source": [
    "b['auto_remove_figure']"
   ]
  },
  {
   "cell_type": "code",
   "execution_count": 22,
   "metadata": {},
   "outputs": [
    {
     "data": {
      "text/plain": [
       "'Whether to automatically remove figure parameters when the referenced dataset/solution are removed.'"
      ]
     },
     "execution_count": 22,
     "metadata": {},
     "output_type": "execute_result"
    }
   ],
   "source": [
    "b['auto_remove_figure'].description"
   ]
  },
  {
   "cell_type": "markdown",
   "metadata": {},
   "source": [
    "### web_client, web_client_url\n",
    "\n",
    "The `web_client` and `web_client_url` settings determine whether the [client](http://phoebe-project.org/clients) is opened in a web-browser or with the installed desktop client whenever calling [b.ui](../api/phoebe.parameters.ParameterSet.ui.md) or [b.ui_figures](../api/phoebe.frontend.bundle.Bundle.ui_figures.md).  For more information, see the [UI from Jupyter tutorial](./ui_jupyter.ipynb)."
   ]
  },
  {
   "cell_type": "code",
   "execution_count": 23,
   "metadata": {},
   "outputs": [
    {
     "data": {
      "text/plain": [
       "<Parameter: web_client=False | keys: description, value, visible_if, copy_for, readonly, advanced, latexfmt>"
      ]
     },
     "execution_count": 23,
     "metadata": {},
     "output_type": "execute_result"
    }
   ],
   "source": [
    "b['web_client']"
   ]
  },
  {
   "cell_type": "code",
   "execution_count": 24,
   "metadata": {},
   "outputs": [
    {
     "data": {
      "text/plain": [
       "'Whether to default to using the web-client over a locally installed desktop-client when opening the UI from the desktop client.'"
      ]
     },
     "execution_count": 24,
     "metadata": {},
     "output_type": "execute_result"
    }
   ],
   "source": [
    "b['web_client'].description"
   ]
  },
  {
   "cell_type": "code",
   "execution_count": 25,
   "metadata": {},
   "outputs": [
    {
     "data": {
      "text/plain": [
       "<Parameter: web_client_url=ui.phoebe-project.org | keys: description, value, visible_if, copy_for, readonly, advanced, latexfmt>"
      ]
     },
     "execution_count": 25,
     "metadata": {},
     "output_type": "execute_result"
    }
   ],
   "source": [
    "b['web_client_url']"
   ]
  },
  {
   "cell_type": "code",
   "execution_count": 26,
   "metadata": {},
   "outputs": [
    {
     "data": {
      "text/plain": [
       "'Default location of web-client.  Will only be used if web_client is True.'"
      ]
     },
     "execution_count": 26,
     "metadata": {},
     "output_type": "execute_result"
    }
   ],
   "source": [
    "b['web_client_url'].description"
   ]
  }
 ],
 "metadata": {
  "kernelspec": {
   "display_name": "Python 3",
   "language": "python",
   "name": "python3"
  },
  "language_info": {
   "codemirror_mode": {
    "name": "ipython",
    "version": 3
   },
   "file_extension": ".py",
   "mimetype": "text/x-python",
   "name": "python",
   "nbconvert_exporter": "python",
   "pygments_lexer": "ipython3",
   "version": "3.8.2"
  }
 },
 "nbformat": 4,
 "nbformat_minor": 1
}
