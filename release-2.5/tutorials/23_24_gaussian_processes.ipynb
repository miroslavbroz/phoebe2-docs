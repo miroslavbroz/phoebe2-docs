{
 "cells": [
  {
   "cell_type": "markdown",
   "id": "65334961-1d16-4b9c-99fb-abb9c7ca507f",
   "metadata": {},
   "source": [
    "# 2.3 - 2.4 Migration: new backends for Gaussian Processes\n",
    "\n",
    "As of 2.4, the gaussian_process feature, which wrapped around `celerite`, has been replaced with the GP implementation in `scikit-learn` and `celerite2`. Adding a gaussian process feature now requires a `kind='sklearn'` or `kind='celerite2'` to be provided.\n",
    "\n",
    "For more see the [GPs tutorial](gaussian_processes.ipynb)"
   ]
  },
  {
   "cell_type": "code",
   "execution_count": null,
   "id": "ecbe6e0f-696b-4fed-ace9-cb80c05d484a",
   "metadata": {},
   "outputs": [],
   "source": []
  }
 ],
 "metadata": {
  "kernelspec": {
   "display_name": "Python 3 (ipykernel)",
   "language": "python",
   "name": "python3"
  },
  "language_info": {
   "codemirror_mode": {
    "name": "ipython",
    "version": 3
   },
   "file_extension": ".py",
   "mimetype": "text/x-python",
   "name": "python",
   "nbconvert_exporter": "python",
   "pygments_lexer": "ipython3",
   "version": "3.9.7"
  }
 },
 "nbformat": 4,
 "nbformat_minor": 5
}
