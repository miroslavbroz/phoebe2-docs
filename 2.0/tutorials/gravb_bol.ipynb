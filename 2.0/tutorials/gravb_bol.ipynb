{
 "cells": [
  {
   "cell_type": "markdown",
   "metadata": {},
   "source": [
    "Gravity Brightening/Darkening (gravb_bol)\n",
    "============================\n",
    "\n",
    "Setup\n",
    "-----------------------------"
   ]
  },
  {
   "cell_type": "markdown",
   "metadata": {},
   "source": [
    "Let's first make sure we have the latest version of PHOEBE 2.0 installed. (You can comment out this line if you don't use pip for your installation or don't want to update to the latest release)."
   ]
  },
  {
   "cell_type": "code",
   "execution_count": null,
   "metadata": {},
   "outputs": [],
   "source": [
    "!pip install -I \"phoebe>=2.0,<2.1\""
   ]
  },
  {
   "cell_type": "markdown",
   "metadata": {
    "collapsed": true
   },
   "source": [
    "As always, let's do imports and initialize a logger and a new bundle.  See [Building a System](../tutorials/building_a_system.html) for more details."
   ]
  },
  {
   "cell_type": "code",
   "execution_count": 1,
   "metadata": {},
   "outputs": [],
   "source": [
    "%matplotlib inline"
   ]
  },
  {
   "cell_type": "code",
   "execution_count": 2,
   "metadata": {},
   "outputs": [
    {
     "name": "stderr",
     "output_type": "stream",
     "text": [
      "/usr/lib/python2.7/dist-packages/matplotlib/cbook/deprecation.py:106: MatplotlibDeprecationWarning: The mpl_toolkits.axes_grid module was deprecated in version 2.1. Use mpl_toolkits.axes_grid1 and mpl_toolkits.axisartist provies the same functionality instead.\n",
      "  warnings.warn(message, mplDeprecation, stacklevel=1)\n"
     ]
    }
   ],
   "source": [
    "import phoebe\n",
    "from phoebe import u # units\n",
    "import numpy as np\n",
    "import matplotlib.pyplot as plt\n",
    "\n",
    "logger = phoebe.logger()\n",
    "\n",
    "b = phoebe.default_binary()"
   ]
  },
  {
   "cell_type": "markdown",
   "metadata": {},
   "source": [
    "Relevant Parameters\n",
    "--------------------\n",
    "\n",
    "The 'gravb_bol' parameter corresponds to the &beta; coefficient for gravity darkening corrections."
   ]
  },
  {
   "cell_type": "code",
   "execution_count": 3,
   "metadata": {},
   "outputs": [
    {
     "name": "stdout",
     "output_type": "stream",
     "text": [
      "ParameterSet: 2 parameters\n",
      "     gravb_bol@primary@component: 0.32\n",
      "   gravb_bol@secondary@component: 0.32\n"
     ]
    }
   ],
   "source": [
    "print(b['gravb_bol'])"
   ]
  },
  {
   "cell_type": "code",
   "execution_count": 4,
   "metadata": {},
   "outputs": [
    {
     "name": "stdout",
     "output_type": "stream",
     "text": [
      "Parameter: gravb_bol@primary@component\n",
      "                       Qualifier: gravb_bol\n",
      "                     Description: Bolometric gravity brightening\n",
      "                           Value: 0.32\n",
      "                  Constrained by: \n",
      "                      Constrains: None\n",
      "                      Related to: None\n",
      "\n"
     ]
    }
   ],
   "source": [
    "print(b['gravb_bol@primary'])"
   ]
  },
  {
   "cell_type": "markdown",
   "metadata": {},
   "source": [
    "If you have a logger enabled, PHOEBE will print a warning if the value of gravb_bol is outside the \"suggested\" ranges.  Note that this is strictly a warning, and will never turn into an error at [b.run_compute()](../api/phoebe.frontend.bundle.Bundle.run_compute.md).\n",
    "\n",
    "You can also manually call [b.run_checks()](../api/phoebe.frontend.bundle.Bundle.run_checks.md).  The first returned item tells whether the system has passed checks: True means it has, False means it has failed, and None means the tests pass but with a warning.  The second argument tells the first warning/error message raised by the checks.\n",
    "\n",
    "The checks use the following \"suggested\" values:\n",
    " * teff 8000+: gravb_bol >= 0.9 (suggest 1.0)\n",
    " * teff 6600-8000: gravb_bol 0.32-1.0\n",
    " * teff 6600-: grav_bol < 0.9 (suggest 0.32)"
   ]
  },
  {
   "cell_type": "code",
   "execution_count": 5,
   "metadata": {},
   "outputs": [
    {
     "name": "stdout",
     "output_type": "stream",
     "text": [
      "(True, '')\n"
     ]
    }
   ],
   "source": [
    "print(b.run_checks())"
   ]
  },
  {
   "cell_type": "code",
   "execution_count": 6,
   "metadata": {},
   "outputs": [
    {
     "name": "stderr",
     "output_type": "stream",
     "text": [
      "Fri, 01 Feb 2019 13:53 PARAMETERS   WARNING 'primary' probably has a radiative atm (teff=8500K>8000K), for which gravb_bol=1.00 might be a better approx than gravb_bol=0.32\n",
      "Fri, 01 Feb 2019 13:53 PARAMETERS   WARNING 'primary' probably has a radiative atm (teff=8500K>8000K), for which gravb_bol=1.00 might be a better approx than gravb_bol=0.80\n"
     ]
    },
    {
     "name": "stdout",
     "output_type": "stream",
     "text": [
      "(None, \"'primary' probably has a radiative atm (teff=8500K>8000K), for which gravb_bol=1.00 might be a better approx than gravb_bol=0.80\")\n"
     ]
    }
   ],
   "source": [
    "b['teff@primary'] = 8500\n",
    "b['gravb_bol@primary'] = 0.8\n",
    "print(b.run_checks())"
   ]
  },
  {
   "cell_type": "code",
   "execution_count": 7,
   "metadata": {},
   "outputs": [
    {
     "name": "stderr",
     "output_type": "stream",
     "text": [
      "Fri, 01 Feb 2019 13:53 PARAMETERS   WARNING 'primary' has intermittent temperature (6600K<teff=7000K<8000K), gravb_bol might be better between 0.32-1.00 than gravb_bol=0.20\n"
     ]
    },
    {
     "name": "stdout",
     "output_type": "stream",
     "text": [
      "(None, \"'primary' has intermittent temperature (6600K<teff=7000K<8000K), gravb_bol might be better between 0.32-1.00 than gravb_bol=0.20\")\n"
     ]
    }
   ],
   "source": [
    "b['teff@primary'] = 7000\n",
    "b['gravb_bol@primary'] = 0.2\n",
    "print(b.run_checks())"
   ]
  },
  {
   "cell_type": "code",
   "execution_count": 8,
   "metadata": {},
   "outputs": [
    {
     "name": "stderr",
     "output_type": "stream",
     "text": [
      "Fri, 01 Feb 2019 13:53 PARAMETERS   WARNING 'primary' has intermittent temperature (6600K<teff=6000K<8000K), gravb_bol might be better between 0.32-1.00 than gravb_bol=0.20\n",
      "Fri, 01 Feb 2019 13:53 PARAMETERS   WARNING 'primary' probably has a convective atm (teff=6000K<6600K), for which gravb_bol=0.32 might be a better approx than gravb_bol=1.00\n"
     ]
    },
    {
     "name": "stdout",
     "output_type": "stream",
     "text": [
      "(None, \"'primary' probably has a convective atm (teff=6000K<6600K), for which gravb_bol=0.32 might be a better approx than gravb_bol=1.00\")\n"
     ]
    }
   ],
   "source": [
    "b['teff@primary'] = 6000\n",
    "b['gravb_bol@primary'] = 1.0\n",
    "print(b.run_checks())"
   ]
  },
  {
   "cell_type": "code",
   "execution_count": null,
   "metadata": {},
   "outputs": [],
   "source": []
  }
 ],
 "metadata": {
  "kernelspec": {
   "display_name": "Python 2",
   "language": "python",
   "name": "python2"
  },
  "language_info": {
   "codemirror_mode": {
    "name": "ipython",
    "version": 2
   },
   "file_extension": ".py",
   "mimetype": "text/x-python",
   "name": "python",
   "nbconvert_exporter": "python",
   "pygments_lexer": "ipython2",
   "version": "2.7.15rc1"
  }
 },
 "nbformat": 4,
 "nbformat_minor": 1
}
