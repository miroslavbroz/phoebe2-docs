{
 "cells": [
  {
   "cell_type": "markdown",
   "metadata": {},
   "source": [
    "DI Her: Misaligned Binary\n",
    "============================\n",
    "\n",
    "In this example, we'll reproduce Figure 8 in the misalignment release paper ([Horvat et al. 2018](http://phoebe-project.org/publications/2018Horvat+)).\n",
    "\n",
    "<img src=\"horvat+18_fig8.png\" alt=\"Figure 8\" width=\"400px\"/>\n",
    "\n",
    "Setup\n",
    "-----------------------------"
   ]
  },
  {
   "cell_type": "markdown",
   "metadata": {},
   "source": [
    "Let's first make sure we have the latest version of PHOEBE 2.4 installed (uncomment this line if running in an online notebook session such as colab)."
   ]
  },
  {
   "cell_type": "code",
   "execution_count": 1,
   "metadata": {},
   "outputs": [],
   "source": [
    "#!pip install -I \"phoebe>=2.4,<2.5\""
   ]
  },
  {
   "cell_type": "markdown",
   "metadata": {
    "collapsed": true
   },
   "source": [
    "As always, let's do imports and initialize a logger and a new bundle."
   ]
  },
  {
   "cell_type": "code",
   "execution_count": 2,
   "metadata": {},
   "outputs": [],
   "source": [
    "import phoebe\n",
    "from phoebe import u # units\n",
    "import numpy as np\n",
    "import matplotlib.pyplot as plt\n",
    "\n",
    "logger = phoebe.logger('error')\n",
    "\n",
    "b = phoebe.default_binary()"
   ]
  },
  {
   "cell_type": "markdown",
   "metadata": {},
   "source": [
    "System Parameters\n",
    "------------\n",
    "\n",
    "We'll adopt and set parameters from the following sources:\n",
    "   * Albrecht et al. (2009), Nature: https://arxiv.org/pdf/0909.2861\n",
    "   * https://en.wikipedia.org/wiki/DI_Herculis\n",
    "   * Claret et al (2010) https://arxiv.org/pdf/1002.2949.pdf"
   ]
  },
  {
   "cell_type": "code",
   "execution_count": 3,
   "metadata": {},
   "outputs": [],
   "source": [
    "Nt = 2000\n",
    "\n",
    "b.set_value('t0_supconj@orbit', 2442233.3481)\n",
    "b.set_value('vgamma@system', 9.1)    # [km/s] (Albrecht et al. 2009) \n",
    "b.set_value('ntriangles@primary', Nt)\n",
    "b.set_value('ntriangles@secondary', Nt)\n",
    "\n",
    "mass1 = 5.1                           # [M_sun] (Albrecht et al. 2009)\n",
    "mass2 = 4.4                           # [M_sun] (Albrecht et al. 2009)\n",
    "\n",
    "P = 10.550164                         # [d] (Albrecht et al. 2009)\n",
    "mu_sun = 1.32712440018e20             # = G M_sun [m3 s^-2], Wiki Standard_gravitational_parameter\n",
    "R_sun = 695700000                     # [m] Wiki Sun\n",
    "\n",
    "sma = (mu_sun*(mass1 + mass2)*(P*86400/(2*np.pi))**2)**(1./3)/R_sun   # Kepler equation\n",
    "\n",
    "incl = 89.3                           # deg (Albrecht et al. 2009)\n",
    "vp_sini = 109                         # [km/s] (Albrecht et al. 2009)\n",
    "vs_sini = 117                         # [km/s] (Albrecht et al. 2009)\n",
    "\n",
    "Rp = 2.68                             # [R_sun] (Albrecht et al. 2009)\n",
    "Rs = 2.48                             # [R_sun] (Albrecht et al. 2009) \n",
    "   \n",
    "sini = np.sin(np.pi*incl/180)\n",
    "\n",
    "vp = vp_sini*86400/sini               # [km/s]\n",
    "vs = vs_sini*86400/sini               # [km/s]\n",
    "\n",
    "Pp = 2*np.pi*Rp*R_sun/1000/vp\n",
    "Ps = 2*np.pi*Rs*R_sun/1000/vs\n",
    "\n",
    "Fp = P/Pp\n",
    "Fs = P/Ps\n",
    "\n",
    "b.set_value('q', mass2/mass1)\n",
    "b.set_value('incl@binary', incl)      # (Albrecht et al. 2009)\n",
    "b.set_value('sma@binary', sma)        # calculated\n",
    "b.set_value('ecc@binary', 0.489)      # (Albrecht et al. 2009)\n",
    "\n",
    "b.set_value('per0@binary', 330.2)     # (Albrecht et al. 2009)\n",
    "b.set_value('period@binary', P)       # calculated\n",
    "\n",
    "b.set_value('syncpar@primary', Fp)    # calculated\n",
    "b.set_value('syncpar@secondary', Fs)  # calculated\n",
    "\n",
    "b.set_value('requiv@primary', Rp)      # !!! requiv (Albrecht et al. 2009)\n",
    "b.set_value('requiv@secondary', Rs)    # !!! requiv (Albrecht et al. 2009)\n",
    "\n",
    "b.set_value('teff@primary', 17300)    # Wiki DI_Herculis\n",
    "b.set_value('teff@secondary', 15400)  # Wiki DI_Herculis\n",
    "    \n",
    "b.set_value('gravb_bol@primary', 1.)\n",
    "b.set_value('gravb_bol@secondary', 1.)\n",
    "\n",
    "\n",
    "# beta = 72 deg (Albrecht et al. 2009)\n",
    "dOmega_p = 72\n",
    "di_p = 62  - incl\n",
    "b.set_value('pitch@primary', di_p) # di\n",
    "b.set_value('yaw@primary', dOmega_p) # dOmega\n",
    "\n",
    "# beta = - 84 deg (Albrecht et al. 2009)\n",
    "dOmega_s = -84\n",
    "di_s = 100 - incl\n",
    "b.set_value('pitch@secondary', di_s) # di\n",
    "b.set_value('yaw@secondary', dOmega_s) # dOmega\n",
    "  \n",
    "b.set_value_all('atm','extern_planckint')\n",
    "b.set_value_all('irrad_method', 'none')\n"
   ]
  },
  {
   "cell_type": "markdown",
   "metadata": {},
   "source": [
    "Datasets\n",
    "---------------\n",
    "\n",
    "Let's compute an LC and RV dataset sampled at 200 points in phase (with some aliasing)."
   ]
  },
  {
   "cell_type": "code",
   "execution_count": 4,
   "metadata": {},
   "outputs": [
    {
     "data": {
      "text/plain": [
       "<ParameterSet: 76 parameters | contexts: figure, dataset, compute, constraint>"
      ]
     },
     "execution_count": 4,
     "metadata": {},
     "output_type": "execute_result"
    }
   ],
   "source": [
    "n = 200\n",
    "times = b.to_time(np.linspace(-0.05, 1.05, n))\n",
    "\n",
    "b.add_dataset('lc', times=times, dataset='lc01', ld_mode='manual', ld_func='logarithmic', ld_coeffs = [0.5,0.5])\n",
    "b.add_dataset('rv', times=times, dataset='rv01', ld_mode='manual', ld_func='logarithmic', ld_coeffs = [0.5,0.5])"
   ]
  },
  {
   "cell_type": "markdown",
   "metadata": {},
   "source": [
    "Compute\n",
    "--------------"
   ]
  },
  {
   "cell_type": "code",
   "execution_count": 5,
   "metadata": {},
   "outputs": [
    {
     "name": "stderr",
     "output_type": "stream",
     "text": [
      "100%|██████████| 200/200 [00:17<00:00, 11.23it/s]\n"
     ]
    },
    {
     "data": {
      "text/plain": [
       "<ParameterSet: 7 parameters | kinds: rv, lc>"
      ]
     },
     "execution_count": 5,
     "metadata": {},
     "output_type": "execute_result"
    }
   ],
   "source": [
    "b.run_compute(ltte=False)"
   ]
  },
  {
   "cell_type": "markdown",
   "metadata": {},
   "source": [
    "Plotting\n",
    "-------------"
   ]
  },
  {
   "cell_type": "code",
   "execution_count": 6,
   "metadata": {},
   "outputs": [
    {
     "data": {
      "image/png": "[encoded data removed]",
      "text/plain": [
       "<Figure size 576x432 with 1 Axes>"
      ]
     },
     "metadata": {
      "needs_background": "light"
     },
     "output_type": "display_data"
    }
   ],
   "source": [
    "afig, mplfig = b.plot(kind='lc', show=True)"
   ]
  },
  {
   "cell_type": "code",
   "execution_count": 7,
   "metadata": {},
   "outputs": [
    {
     "data": {
      "image/png": "[encoded data removed]",
      "text/plain": [
       "<Figure size 576x432 with 1 Axes>"
      ]
     },
     "metadata": {
      "needs_background": "light"
     },
     "output_type": "display_data"
    }
   ],
   "source": [
    "afig, mplfig = b.plot(kind='rv', show=True)"
   ]
  },
  {
   "cell_type": "code",
   "execution_count": null,
   "metadata": {},
   "outputs": [],
   "source": []
  }
 ],
 "metadata": {
  "kernelspec": {
   "display_name": "Python 3",
   "language": "python",
   "name": "python3"
  },
  "language_info": {
   "codemirror_mode": {
    "name": "ipython",
    "version": 3
   },
   "file_extension": ".py",
   "mimetype": "text/x-python",
   "name": "python",
   "nbconvert_exporter": "python",
   "pygments_lexer": "ipython3",
   "version": "3.8.2"
  }
 },
 "nbformat": 4,
 "nbformat_minor": 1
}
