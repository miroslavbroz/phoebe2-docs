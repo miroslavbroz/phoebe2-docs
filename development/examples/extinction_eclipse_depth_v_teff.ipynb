{
 "cells": [
  {
   "cell_type": "markdown",
   "metadata": {},
   "source": [
    "Extinction: Eclipse Depth Difference as Function of Temperature\n",
    "============================\n",
    "\n",
    "In this example, we'll reproduce Figure 3 in the extinction release paper ([Jones et al. 2020](http://phoebe-project.org/publications/2020Jones+)).\n",
    "\n",
    "**NOTE**: this script takes a long time to run.\n",
    "\n",
    "<img src=\"jones+20_fig3.png\" alt=\"Figure 3\" width=\"800px\"/>\n",
    "\n",
    "Setup\n",
    "-----------------------------"
   ]
  },
  {
   "cell_type": "markdown",
   "metadata": {},
   "source": [
    "\n",
    "Let's first make sure we have the latest version of PHOEBE 2.3 installed. (You can comment out this line if you don't use pip for your installation or don't want to update to the latest release)."
   ]
  },
  {
   "cell_type": "code",
   "execution_count": null,
   "metadata": {},
   "outputs": [],
   "source": [
    "!pip install -I \"phoebe>=2.3,<2.4\""
   ]
  },
  {
   "cell_type": "markdown",
   "metadata": {
    "collapsed": true
   },
   "source": [
    "As always, let's do imports and initialize a logger and a new bundle.  See [Building a System](../tutorials/building_a_system.ipynb) for more details."
   ]
  },
  {
   "cell_type": "code",
   "execution_count": 1,
   "metadata": {},
   "outputs": [],
   "source": [
    "import matplotlib\n",
    "matplotlib.rcParams['text.usetex'] = True\n",
    "matplotlib.rcParams['pdf.fonttype'] = 42\n",
    "matplotlib.rcParams['ps.fonttype'] = 42\n",
    "matplotlib.rcParams['mathtext.fontset'] = 'stix'\n",
    "matplotlib.rcParams['font.family'] = 'STIXGeneral'\n",
    "from matplotlib import gridspec"
   ]
  },
  {
   "cell_type": "code",
   "execution_count": 2,
   "metadata": {},
   "outputs": [],
   "source": [
    "%matplotlib inline"
   ]
  },
  {
   "cell_type": "code",
   "execution_count": 3,
   "metadata": {},
   "outputs": [],
   "source": [
    "from astropy.table import Table"
   ]
  },
  {
   "cell_type": "code",
   "execution_count": 4,
   "metadata": {},
   "outputs": [],
   "source": [
    "import phoebe\n",
    "from phoebe import u # units\n",
    "import numpy as np\n",
    "import matplotlib.pyplot as plt\n",
    "\n",
    "logger = phoebe.logger('error')\n",
    "\n",
    "b = phoebe.default_binary()"
   ]
  },
  {
   "cell_type": "markdown",
   "metadata": {},
   "source": [
    "First we'll define the system parameters"
   ]
  },
  {
   "cell_type": "code",
   "execution_count": 5,
   "metadata": {},
   "outputs": [
    {
     "data": {
      "text/plain": [
       "<ConstraintParameter: {q@binary@component} = {mass@secondary@component} / {mass@primary@component} (solar units) => 1.0>"
      ]
     },
     "execution_count": 5,
     "metadata": {},
     "output_type": "execute_result"
    }
   ],
   "source": [
    "b['period@orbit']=10*u.d\n",
    "b['teff@secondary']=5780.*u.K\n",
    "b['requiv@secondary']=1.0*u.solRad\n",
    "b.flip_constraint('mass@primary', solve_for='sma@binary')\n",
    "b.flip_constraint('mass@secondary', solve_for='q')"
   ]
  },
  {
   "cell_type": "markdown",
   "metadata": {},
   "source": [
    "And then create three light curve datasets at the same times, but in different passbands"
   ]
  },
  {
   "cell_type": "code",
   "execution_count": 6,
   "metadata": {},
   "outputs": [
    {
     "data": {
      "text/plain": [
       "<ParameterSet: 43 parameters | contexts: constraint, figure, compute, dataset>"
      ]
     },
     "execution_count": 6,
     "metadata": {},
     "output_type": "execute_result"
    }
   ],
   "source": [
    "times = phoebe.linspace(0, 10, 301)\n",
    "b.add_dataset('lc', times=times, dataset='B', passband=\"Johnson:B\")\n",
    "b.add_dataset('lc', times=times, dataset='R', passband=\"Cousins:R\")"
   ]
  },
  {
   "cell_type": "markdown",
   "metadata": {},
   "source": [
    "Now we'll set some atmosphere and limb-darkening options"
   ]
  },
  {
   "cell_type": "code",
   "execution_count": 7,
   "metadata": {},
   "outputs": [],
   "source": [
    "b.set_value_all('gravb_bol', 0.0)\n",
    "b.set_value_all('ld_mode', 'manual')\n",
    "b.set_value_all('ld_func', 'linear')\n",
    "b.set_value_all('ld_coeffs', [0.0])"
   ]
  },
  {
   "cell_type": "markdown",
   "metadata": {},
   "source": [
    "And flip the extinction constraint so we can provide E(B-V)."
   ]
  },
  {
   "cell_type": "code",
   "execution_count": 9,
   "metadata": {},
   "outputs": [],
   "source": [
    "b.flip_constraint('ebv', solve_for='Av')"
   ]
  },
  {
   "cell_type": "code",
   "execution_count": 10,
   "metadata": {},
   "outputs": [],
   "source": [
    "masses=np.array([ 0.6 ,  0.7 ,  0.8 ,  0.9 ,  1.  ,  1.1 ,  1.2 ,  1.3 ,  1.4 ,\n",
    "        1.5 ,  1.6 ,  1.7 ,  1.8 ,  1.9 ,  1.95,  2.  ,  2.1 ,  2.2 ,\n",
    "        2.3 ,  2.5 ,  3.  ,  3.5 ,  4.  ,  4.5 ,  5.  ,  6.  ,  7.  ,\n",
    "        8.  , 10.  , 12.  , 15.  , 20.  ])\n",
    "temps=np.array([ 4285.,  4471.,  4828.,  5242.,\n",
    "        5616.,  5942.,  6237.,  6508.,\n",
    "        6796.,  7121.,  7543.,  7968.,\n",
    "        8377.,  8759.,  8947.,  9130.,\n",
    "        9538.,  9883., 10155., 10801.,\n",
    "       12251., 13598., 14852., 16151.,\n",
    "       17092., 19199., 21013., 22526.,\n",
    "       25438., 27861., 30860., 34753.])\n",
    "radii=np.array([0.51, 0.63, 0.72, 0.80, 0.90,\n",
    "       1.01, 1.13, 1.26, 1.36, 1.44,\n",
    "       1.48, 1.51, 1.54, 1.57, 1.59,\n",
    "       1.61, 1.65, 1.69, 1.71, 1.79,\n",
    "       1.97, 2.14, 2.30, 2.48, 2.59,\n",
    "       2.90, 3.17, 3.39, 3.87, 4.29,\n",
    "       4.85, 5.69])\n",
    "\n",
    "t=Table(names=('Mass','Tdiff','B1','B2','R1','R2'), dtype=('f4', 'f4', 'f8', 'f8', 'f8', 'f8'))"
   ]
  },
  {
   "cell_type": "code",
   "execution_count": 11,
   "metadata": {},
   "outputs": [],
   "source": [
    "def binmodel(teff,requiv,mass):\n",
    "    b.set_value('teff', component='primary', value=teff*u.K)\n",
    "    b.set_value('requiv', component='primary', value=requiv*u.solRad)\n",
    "    b.set_value('mass', component='primary', value=mass*u.solMass)\n",
    "    b.set_value('mass', component='secondary', value=1.0*u.solMass)\n",
    "    \n",
    "    b.set_value('ebv', value=0.0)\n",
    "    b.run_compute(distortion_method='rotstar', irrad_method='none', model='noext', overwrite=True)\n",
    "    \n",
    "    b.set_value('ebv', value=1.0)\n",
    "    b.run_compute(distortion_method='rotstar', irrad_method='none', model='ext', overwrite=True)\n",
    "    \n",
    "    Bextmags=-2.5*np.log10(b['value@fluxes@B@ext@model'])\n",
    "    Bnoextmags=-2.5*np.log10(b['value@fluxes@B@noext@model'])\n",
    "    Bdiff=(Bextmags-Bextmags.min())-(Bnoextmags-Bnoextmags.min())\n",
    "    Rextmags=-2.5*np.log10(b['value@fluxes@R@ext@model'])\n",
    "    Rnoextmags=-2.5*np.log10(b['value@fluxes@R@noext@model'])\n",
    "    Rdiff=(Rextmags-Rextmags.min())-(Rnoextmags-Rnoextmags.min())\n",
    "    tdiff=teff-5780\n",
    "    t.add_row((mass, tdiff, Bdiff[0],Bdiff[150],Rdiff[0],Rdiff[150]))"
   ]
  },
  {
   "cell_type": "code",
   "execution_count": 12,
   "metadata": {},
   "outputs": [],
   "source": [
    "def binmodel_teff(teff):\n",
    "    b.set_value('teff', component='primary', value=teff*u.K)\n",
    "    \n",
    "    b.set_value('ebv', value=0.0)\n",
    "    b.run_compute(distortion_method='rotstar', irrad_method='none', model='noext', overwrite=True)\n",
    "    \n",
    "    b.set_value('ebv', value=1.0)\n",
    "    b.run_compute(distortion_method='rotstar', irrad_method='none', model='ext', overwrite=True)\n",
    "    \n",
    "    Bextmags=-2.5*np.log10(b['value@fluxes@B@ext@model'])\n",
    "    Bnoextmags=-2.5*np.log10(b['value@fluxes@B@noext@model'])\n",
    "    Bdiff=(Bextmags-Bextmags.min())-(Bnoextmags-Bnoextmags.min())\n",
    "    Rextmags=-2.5*np.log10(b['value@fluxes@R@ext@model'])\n",
    "    Rnoextmags=-2.5*np.log10(b['value@fluxes@R@noext@model'])\n",
    "    Rdiff=(Rextmags-Rextmags.min())-(Rnoextmags-Rnoextmags.min())\n",
    "    tdiff=teff-5780\n",
    "    t_teff.add_row((tdiff, Bdiff[0],Bdiff[150],Rdiff[0],Rdiff[150]))"
   ]
  },
  {
   "cell_type": "code",
   "execution_count": 13,
   "metadata": {},
   "outputs": [],
   "source": [
    "# NOTE: this loop takes a long time to run\n",
    "for i in range(0,len(masses)):\n",
    "    binmodel(temps[i], radii[i], masses[i])\n",
    "    \n",
    "#t.write(\"Extinction_G2V_ZAMS.dat\", format='ascii', overwrite=True)"
   ]
  },
  {
   "cell_type": "code",
   "execution_count": 15,
   "metadata": {},
   "outputs": [
    {
     "data": {
      "text/plain": [
       "(-1450, 25000)"
      ]
     },
     "execution_count": 15,
     "metadata": {},
     "output_type": "execute_result"
    },
    {
     "data": {
      "image/png": "[encoded data removed]",
      "text/plain": [
       "<Figure size 432x288 with 1 Axes>"
      ]
     },
     "metadata": {
      "needs_background": "light"
     },
     "output_type": "display_data"
    }
   ],
   "source": [
    "#t=Table.read(\"Extinction_G2V_ZAMS.dat\", format='ascii')\n",
    "\n",
    "plt.clf()\n",
    "plt.plot(t['Tdiff'],t['B1'],color=\"b\",ls=\"-\", label=\"G2V eclipsed\")\n",
    "plt.plot(t['Tdiff'],t['B2'],color=\"b\",ls=\"--\", label=\"Secondary eclipsed\")\n",
    "\n",
    "plt.plot(t['Tdiff'],t['R1'],color=\"r\",ls=\"-\", label=\"\")\n",
    "plt.plot(t['Tdiff'],t['R2'],color=\"r\",ls=\"--\", label=\"\")\n",
    "\n",
    "plt.ylabel(r'$\\Delta m$ ')\n",
    "plt.xlabel(r'$T_\\mathrm{secondary} - T_\\mathrm{G2V}$')\n",
    "plt.legend()\n",
    "plt.xlim([-1450,25000])"
   ]
  },
  {
   "cell_type": "code",
   "execution_count": 14,
   "metadata": {},
   "outputs": [],
   "source": [
    "t_teff=Table(names=('Tdiff','B1','B2','R1','R2'), dtype=('f4', 'f8', 'f8', 'f8', 'f8'))\n",
    "b.set_value('requiv', component='primary', value=1.0*u.solRad)\n",
    "b.set_value('mass', component='primary', value=1.0*u.solMass)\n",
    "b.set_value('mass', component='secondary', value=1.0*u.solMass)\n",
    "\n",
    "# NOTE: this loop takes a long time to run\n",
    "for i in range(0,len(temps)):\n",
    "    binmodel_teff(temps[i])\n",
    "    \n",
    "#t_teff.write(\"Extinction_Solar_exceptTeff_test.dat\", format='ascii', overwrite=True)"
   ]
  },
  {
   "cell_type": "code",
   "execution_count": 16,
   "metadata": {},
   "outputs": [
    {
     "data": {
      "text/plain": [
       "(-1450, 25000)"
      ]
     },
     "execution_count": 16,
     "metadata": {},
     "output_type": "execute_result"
    },
    {
     "data": {
      "image/png": "[encoded data removed]",
      "text/plain": [
       "<Figure size 432x288 with 1 Axes>"
      ]
     },
     "metadata": {
      "needs_background": "light"
     },
     "output_type": "display_data"
    }
   ],
   "source": [
    "#t_teff=Table.read(\"Extinction_Solar_exceptTeff_test.dat\", format='ascii')\n",
    "\n",
    "plt.clf()\n",
    "plt.plot(t_teff['Tdiff'],t_teff['B1'],color=\"b\",ls=\"-\", label=\"G2V eclipsed\")\n",
    "plt.plot(t_teff['Tdiff'],t_teff['B2'],color=\"b\",ls=\"--\", label=\"Secondary eclipsed\")\n",
    "\n",
    "plt.plot(t_teff['Tdiff'],t_teff['R1'],color=\"r\",ls=\"-\", label=\"\")\n",
    "plt.plot(t_teff['Tdiff'],t_teff['R2'],color=\"r\",ls=\"--\", label=\"\")\n",
    "\n",
    "plt.ylabel(r'$\\Delta m$ ')\n",
    "plt.xlabel(r'$T_\\mathrm{secondary} - T_\\mathrm{G2V}$')\n",
    "plt.legend()\n",
    "plt.xlim([-1450,25000])"
   ]
  },
  {
   "cell_type": "code",
   "execution_count": null,
   "metadata": {},
   "outputs": [],
   "source": []
  }
 ],
 "metadata": {
  "kernelspec": {
   "display_name": "Python 3",
   "language": "python",
   "name": "python3"
  },
  "language_info": {
   "codemirror_mode": {
    "name": "ipython",
    "version": 3
   },
   "file_extension": ".py",
   "mimetype": "text/x-python",
   "name": "python",
   "nbconvert_exporter": "python",
   "pygments_lexer": "ipython3",
   "version": "3.7.5"
  }
 },
 "nbformat": 4,
 "nbformat_minor": 1
}
