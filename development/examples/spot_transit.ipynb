{
 "cells": [
  {
   "cell_type": "markdown",
   "metadata": {},
   "source": [
    "Spot Transit\n",
    "============================\n",
    "\n",
    "Setup\n",
    "-----------------------------"
   ]
  },
  {
   "cell_type": "markdown",
   "metadata": {},
   "source": [
    "Let's first make sure we have the latest version of PHOEBE 2.2 installed. (You can comment out this line if you don't use pip for your installation or don't want to update to the latest release)."
   ]
  },
  {
   "cell_type": "code",
   "execution_count": null,
   "metadata": {},
   "outputs": [],
   "source": [
    "!pip install -I \"phoebe>=2.2,<2.3\""
   ]
  },
  {
   "cell_type": "code",
   "execution_count": 1,
   "metadata": {},
   "outputs": [],
   "source": [
    "%matplotlib inline"
   ]
  },
  {
   "cell_type": "markdown",
   "metadata": {
    "collapsed": true
   },
   "source": [
    "As always, let's do imports and initialize a logger and a new bundle.  See [Building a System](../tutorials/building_a_system.ipynb) for more details."
   ]
  },
  {
   "cell_type": "code",
   "execution_count": 1,
   "metadata": {},
   "outputs": [],
   "source": [
    "import phoebe\n",
    "import numpy as np\n",
    "\n",
    "b = phoebe.default_binary()"
   ]
  },
  {
   "cell_type": "markdown",
   "metadata": {},
   "source": [
    "Let's set reasonable (although not necessarily physical) values for the secondary component."
   ]
  },
  {
   "cell_type": "code",
   "execution_count": 2,
   "metadata": {},
   "outputs": [],
   "source": [
    "b.flip_constraint('mass@secondary', solve_for='q')\n",
    "b.set_value(qualifier='mass', component='secondary', value=0.2)\n",
    "b.set_value(qualifier='requiv', component='secondary', value=0.2)\n",
    "b.set_value(qualifier='teff', component='secondary', value=100)\n"
   ]
  },
  {
   "cell_type": "markdown",
   "metadata": {},
   "source": [
    "We'll add a spot to the primary component."
   ]
  },
  {
   "cell_type": "code",
   "execution_count": 3,
   "metadata": {},
   "outputs": [
    {
     "data": {
      "text/plain": [
       "<ParameterSet: 4 parameters | qualifiers: colat, radius, long, relteff>"
      ]
     },
     "execution_count": 3,
     "metadata": {},
     "output_type": "execute_result"
    }
   ],
   "source": [
    "b.add_spot(component='primary', \n",
    "           relteff=0.90, \n",
    "           long=0, \n",
    "           colat=90, \n",
    "           radius=20, \n",
    "           feature='spot01')"
   ]
  },
  {
   "cell_type": "markdown",
   "metadata": {
    "collapsed": true
   },
   "source": [
    "Adding Datasets\n",
    "-------------------"
   ]
  },
  {
   "cell_type": "code",
   "execution_count": 4,
   "metadata": {},
   "outputs": [
    {
     "data": {
      "text/plain": [
       "<ParameterSet: 20 parameters | contexts: dataset, compute, constraint>"
      ]
     },
     "execution_count": 4,
     "metadata": {},
     "output_type": "execute_result"
    }
   ],
   "source": [
    "b.add_dataset('lc', compute_times=phoebe.linspace(-0.1, 0.1, 201))"
   ]
  },
  {
   "cell_type": "markdown",
   "metadata": {},
   "source": [
    "Because we have such a cool transiting object, we'll have to use blackbody atmospheres and manually provide limb-darkening."
   ]
  },
  {
   "cell_type": "code",
   "execution_count": 5,
   "metadata": {},
   "outputs": [],
   "source": [
    "b.set_value(qualifier='atm', component='secondary', value='blackbody')\n",
    "b.set_value(qualifier='ld_mode', component='secondary', value='func_provided')"
   ]
  },
  {
   "cell_type": "code",
   "execution_count": 6,
   "metadata": {},
   "outputs": [],
   "source": [
    "anim_times = phoebe.linspace(-0.1, 0.1, 101)"
   ]
  },
  {
   "cell_type": "code",
   "execution_count": 7,
   "metadata": {},
   "outputs": [
    {
     "data": {
      "text/plain": [
       "<ParameterSet: 7 parameters | contexts: dataset, compute, constraint>"
      ]
     },
     "execution_count": 7,
     "metadata": {},
     "output_type": "execute_result"
    }
   ],
   "source": [
    "b.add_dataset('mesh', compute_times=anim_times, coordinates='uvw', columns='teffs')"
   ]
  },
  {
   "cell_type": "markdown",
   "metadata": {},
   "source": [
    "Running Compute\n",
    "--------------------"
   ]
  },
  {
   "cell_type": "code",
   "execution_count": 8,
   "metadata": {},
   "outputs": [
    {
     "data": {
      "text/plain": [
       "<ParameterSet: 610 parameters | kinds: mesh, lc>"
      ]
     },
     "execution_count": 8,
     "metadata": {},
     "output_type": "execute_result"
    }
   ],
   "source": [
    "b.run_compute(distortion_method='sphere', irrad_method='none')"
   ]
  },
  {
   "cell_type": "markdown",
   "metadata": {},
   "source": [
    "Plotting \n",
    "---------------"
   ]
  },
  {
   "cell_type": "code",
   "execution_count": 9,
   "metadata": {},
   "outputs": [
    {
     "name": "stdout",
     "output_type": "stream",
     "text": [
      "(5400.0, 6000.0)\n"
     ]
    }
   ],
   "source": [
    "print(np.min(b.get_value('teffs', time=0.0, component='primary')), np.max(b.get_value('teffs', time=0.0, component='primary')))"
   ]
  },
  {
   "cell_type": "markdown",
   "metadata": {},
   "source": [
    "Let's go through these options:\n",
    "* `time`: make the plot at this single time\n",
    "* `fc`: (will be ignored by everything but the mesh): set the facecolor to the teffs column.\n",
    "* `fcmap`: use 'plasma' colormap instead of the default to avoid whites.\n",
    "* `fclim`: set the limits on facecolor so that the much cooler transiting object doesn't drive the entire range.\n",
    "* `ec`: disable drawing the edges of the triangles in a separate color.  We could also set this to 'none', but then we'd be able to \"see-through\" the triangle edges.\n",
    "* `tight_layout`: use matplotlib's tight layout to ensure we have enough padding between axes to see the labels.\n"
   ]
  },
  {
   "cell_type": "code",
   "execution_count": 10,
   "metadata": {},
   "outputs": [
    {
     "name": "stdout",
     "output_type": "stream",
     "text": [
      "WARNING: direction fc for lim not supported for Plot, ignoring\n"
     ]
    },
    {
     "data": {
      "image/png": "[encoded data removed]",
      "text/plain": [
       "<matplotlib.figure.Figure at 0x7fb36c74cb90>"
      ]
     },
     "metadata": {},
     "output_type": "display_data"
    }
   ],
   "source": [
    "afig, mplfig = b.plot(time=0.0,\n",
    "                      fc='teffs', fcmap='plasma', fclim=(5000, 6000), \n",
    "                      ec='face', \n",
    "                      tight_layout=True,\n",
    "                      show=True)"
   ]
  },
  {
   "cell_type": "markdown",
   "metadata": {},
   "source": [
    "Now let's animate the same figure in time.  We'll use the same arguments as the static plot above, with the following exceptions:\n",
    "\n",
    "* `times`: pass our array of times that we want the animation to loop over.\n",
    "* `consider_for_limits`: for the mesh panel, keep the primary star centered and allow the transiting object to move in and out of the frame.\n",
    "* `pad_aspect`: pad_aspect doesn't work with animations, so we'll disable to avoid the warning messages.\n",
    "* `animate`: self-explanatory.\n",
    "* `save`: we could use `show=True`, but that doesn't always play nice with jupyter notebooks\n",
    "* `save_kwargs`: may need to change these for your setup, to create a gif, passing {'writer': 'imagemagick'} is often useful."
   ]
  },
  {
   "cell_type": "code",
   "execution_count": 11,
   "metadata": {
    "collapsed": true
   },
   "outputs": [
    {
     "name": "stderr",
     "output_type": "stream",
     "text": [
      "/home/kyle/.local/lib/python2.7/site-packages/phoebe/dependencies/nparray/nparray.py:360: FutureWarning: elementwise comparison failed; returning scalar instead, but in the future will perform elementwise comparison\n",
      "  return getattr(self.array, operator)(other)\n"
     ]
    },
    {
     "name": "stdout",
     "output_type": "stream",
     "text": [
      "WARNING: direction fc for lim not supported for Plot, ignoring\n",
      "WARNING: tight_layout with fixed limits may cause jittering in the animation\n"
     ]
    },
    {
     "data": {
      "image/png": "[encoded data removed]",
      "text/plain": [
       "<matplotlib.figure.Figure at 0x7fb3679880d0>"
      ]
     },
     "metadata": {},
     "output_type": "display_data"
    }
   ],
   "source": [
    "afig, mplfig = b.plot(times=anim_times,\n",
    "                      fc='teffs', fcmap='plasma', fclim=(5000, 6000), \n",
    "                      ec='face', \n",
    "                      consider_for_limits={'primary': True, 'secondary': False},\n",
    "                      tight_layout=True, pad_aspect=False,\n",
    "                      animate=True, \n",
    "                      save='spot_transit.gif',\n",
    "                      save_kwargs={'writer': 'imagemagick'})"
   ]
  },
  {
   "cell_type": "markdown",
   "metadata": {},
   "source": [
    "![gif](spot_transit.gif)"
   ]
  }
 ],
 "metadata": {
  "kernelspec": {
   "display_name": "Python 2",
   "language": "python",
   "name": "python2"
  },
  "language_info": {
   "codemirror_mode": {
    "name": "ipython",
    "version": 2
   },
   "file_extension": ".py",
   "mimetype": "text/x-python",
   "name": "python",
   "nbconvert_exporter": "python",
   "pygments_lexer": "ipython2",
   "version": "2.7.15rc1"
  }
 },
 "nbformat": 4,
 "nbformat_minor": 1
}
