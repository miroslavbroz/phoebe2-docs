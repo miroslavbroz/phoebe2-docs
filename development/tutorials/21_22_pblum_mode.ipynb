{
 "cells": [
  {
   "cell_type": "markdown",
   "metadata": {},
   "source": [
    "2.1 - 2.2 Migration: pblum_mode and pblum vs pblum_ext\n",
    "=============================="
   ]
  },
  {
   "cell_type": "markdown",
   "metadata": {},
   "source": [
    "PHOEBE 2.2 introduces new modes for handling the scaling between absolute and relative luminosities/intensities/fluxes via the new `pblum_mode` parameter, which will exist for each LC dataset attached to the bundle.  By default `pblum_mode` will be set to 'component-coupled', which mimics the default behavior prior to version 2.2."
   ]
  },
  {
   "cell_type": "code",
   "execution_count": 1,
   "metadata": {},
   "outputs": [
    {
     "name": "stdout",
     "output_type": "stream",
     "text": [
      "ParameterSet: 3 parameters\n",
      "         pblum_mode@lc01@dataset: component-coupled\n",
      "    pblum_component@lc01@dataset: primary\n",
      "      pblum@primary@lc01@dataset: 12.566370614359172 W\n"
     ]
    }
   ],
   "source": [
    "import phoebe\n",
    "b = phoebe.default_binary()\n",
    "b.add_dataset('lc', dataset='lc01')\n",
    "print(b.filter(qualifier='pblum*', dataset='lc01'))"
   ]
  },
  {
   "cell_type": "code",
   "execution_count": 2,
   "metadata": {},
   "outputs": [
    {
     "name": "stdout",
     "output_type": "stream",
     "text": [
      "Parameter: pblum_mode@lc01@dataset\n",
      "                       Qualifier: pblum_mode\n",
      "                     Description: Mode for scaling passband luminosities\n",
      "                           Value: component-coupled\n",
      "                         Choices: decoupled, component-coupled, dataset-coupled, dataset-scaled, absolute\n",
      "                  Constrained by: \n",
      "                      Constrains: None\n",
      "                      Related to: None\n",
      "\n"
     ]
    }
   ],
   "source": [
    "print(b.get_parameter('pblum_mode'))"
   ]
  },
  {
   "cell_type": "markdown",
   "metadata": {},
   "source": [
    "In the default mode, you can change which of the stars you'd like to provide the luminosity.  By default, this is the primary component.  To provide the luminosity of the secondary star *instead*, set `pblum_component`.  \n",
    "\n",
    "Previously this was achieved by setting `pblum_ref@primary = 'secondary'` and `pblum_ref@secondary = 'self'`.  Note that the `pblum_ref` parameter has been removed in 2.2+ in favor of the more flexible and intuitive `pblum_mode` parameter."
   ]
  },
  {
   "cell_type": "code",
   "execution_count": 3,
   "metadata": {},
   "outputs": [
    {
     "name": "stdout",
     "output_type": "stream",
     "text": [
      "Parameter: pblum_component@lc01@dataset\n",
      "                       Qualifier: pblum_component\n",
      "                     Description: Which component's pblum will be provided\n",
      "                           Value: primary\n",
      "                         Choices: primary, secondary\n",
      "                  Constrained by: \n",
      "                      Constrains: None\n",
      "                      Related to: None\n",
      "                 Only visible if: pblum_mode:component-coupled\n",
      "\n"
     ]
    }
   ],
   "source": [
    "print(b.get_parameter('pblum_component'))"
   ]
  },
  {
   "cell_type": "code",
   "execution_count": 4,
   "metadata": {},
   "outputs": [
    {
     "name": "stdout",
     "output_type": "stream",
     "text": [
      "ParameterSet: 3 parameters\n",
      "         pblum_mode@lc01@dataset: component-coupled\n",
      "    pblum_component@lc01@dataset: secondary\n",
      "    pblum@secondary@lc01@dataset: 12.566370614359172 W\n"
     ]
    }
   ],
   "source": [
    "b.set_value('pblum_component', 'secondary')\n",
    "print(b.filter(qualifier='pblum*', dataset='lc01'))"
   ]
  },
  {
   "cell_type": "markdown",
   "metadata": {},
   "source": [
    "Previously, you could 'decouple' the luminisoties by setting `pblum_ref` of both components to 'self'.  In PHOEBE 2.2+, you will instead change `pblum_mode` to 'decoupled', in which case multiple `pblum` parameters will become visible."
   ]
  },
  {
   "cell_type": "code",
   "execution_count": 5,
   "metadata": {},
   "outputs": [
    {
     "name": "stdout",
     "output_type": "stream",
     "text": [
      "ParameterSet: 3 parameters\n",
      "         pblum_mode@lc01@dataset: decoupled\n",
      "      pblum@primary@lc01@dataset: 12.566370614359172 W\n",
      "    pblum@secondary@lc01@dataset: 12.566370614359172 W\n"
     ]
    }
   ],
   "source": [
    "b.set_value('pblum_mode', 'decoupled')\n",
    "print(b.filter(qualifier='pblum*', dataset='lc01'))"
   ]
  },
  {
   "cell_type": "markdown",
   "metadata": {},
   "source": [
    "For more information on the behavior for all of these supported modes, see the [pblum tutorial](./pblum.ipynb).\n",
    "\n",
    "In addition, PHOEBE 2.2 distinguishes between intrinsic passband luminosities (`pblum`) and extrinsic passband luminosities (`pblum_ext`).  The returned dictionary from [b.compute_pblums](../api/phoebe.frontend.bundle.Bundle.compute_pblums.md) now includes both intrinsic and extrinsic values, with the keys of the dictionary now including `pblum@` or `pblum_ext@`."
   ]
  },
  {
   "cell_type": "code",
   "execution_count": 6,
   "metadata": {},
   "outputs": [
    {
     "name": "stdout",
     "output_type": "stream",
     "text": [
      "{'pblum_ext@primary@lc01': <Quantity 12.64179719 W>, 'pblum_ext@secondary@lc01': <Quantity 12.64179719 W>, 'pblum@primary@lc01': <Quantity 12.56637061 W>, 'pblum@secondary@lc01': <Quantity 12.56637061 W>}\n"
     ]
    }
   ],
   "source": [
    "print(b.compute_pblums())"
   ]
  },
  {
   "cell_type": "markdown",
   "metadata": {},
   "source": [
    "This also means that the mesh column to expose luminosities is renamed to `pblum_ext` (and `abs_pblum_ext`) as these expose the extrinsic luminosities (including features such as spots, irradiation, etc)."
   ]
  },
  {
   "cell_type": "code",
   "execution_count": 7,
   "metadata": {},
   "outputs": [
    {
     "data": {
      "text/plain": [
       "<ParameterSet: 8 parameters | contexts: constraint, dataset, compute>"
      ]
     },
     "execution_count": 7,
     "metadata": {},
     "output_type": "execute_result"
    }
   ],
   "source": [
    "b.add_dataset('mesh', dataset='mesh01')"
   ]
  },
  {
   "cell_type": "code",
   "execution_count": 8,
   "metadata": {},
   "outputs": [
    {
     "name": "stdout",
     "output_type": "stream",
     "text": [
      "['volume', 'xs', 'ys', 'zs', 'vxs', 'vys', 'vzs', 'nxs', 'nys', 'nzs', 'us', 'vs', 'ws', 'vus', 'vvs', 'vws', 'nus', 'nvs', 'nws', 'areas', 'loggs', 'teffs', 'rprojs', 'mus', 'visibilities', 'visible_centroids', 'rs', 'intensities@lc01', 'normal_intensities@lc01', 'abs_intensities@lc01', 'abs_normal_intensities@lc01', 'boost_factors@lc01', 'ldint@lc01', 'pblum_ext@lc01', 'abs_pblum_ext@lc01', 'ptfarea@lc01']\n"
     ]
    }
   ],
   "source": [
    "print(b.get_parameter('columns', dataset='mesh01').choices)"
   ]
  },
  {
   "cell_type": "code",
   "execution_count": null,
   "metadata": {},
   "outputs": [],
   "source": []
  }
 ],
 "metadata": {
  "kernelspec": {
   "display_name": "Python 3",
   "language": "python",
   "name": "python3"
  },
  "language_info": {
   "codemirror_mode": {
    "name": "ipython",
    "version": 3
   },
   "file_extension": ".py",
   "mimetype": "text/x-python",
   "name": "python",
   "nbconvert_exporter": "python",
   "pygments_lexer": "ipython3",
   "version": "3.7.3"
  }
 },
 "nbformat": 4,
 "nbformat_minor": 2
}
