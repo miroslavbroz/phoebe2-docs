{
 "cells": [
  {
   "cell_type": "markdown",
   "metadata": {},
   "source": [
    "Passband Luminosity\n",
    "============================\n",
    "\n",
    "Setup\n",
    "-----------------------------"
   ]
  },
  {
   "cell_type": "markdown",
   "metadata": {},
   "source": [
    "Let's first make sure we have the latest version of PHOEBE 2.2 installed. (You can comment out this line if you don't use pip for your installation or don't want to update to the latest release)."
   ]
  },
  {
   "cell_type": "code",
   "execution_count": null,
   "metadata": {},
   "outputs": [],
   "source": [
    "!pip install -I \"phoebe>=2.2,<2.3\""
   ]
  },
  {
   "cell_type": "markdown",
   "metadata": {
    "collapsed": true
   },
   "source": [
    "As always, let's do imports and initialize a logger and a new bundle.  See [Building a System](building_a_system.html) for more details."
   ]
  },
  {
   "cell_type": "code",
   "execution_count": 1,
   "metadata": {},
   "outputs": [],
   "source": [
    "%matplotlib inline"
   ]
  },
  {
   "cell_type": "code",
   "execution_count": 2,
   "metadata": {},
   "outputs": [],
   "source": [
    "import phoebe\n",
    "from phoebe import u # units\n",
    "import numpy as np\n",
    "\n",
    "logger = phoebe.logger()\n",
    "\n",
    "b = phoebe.default_binary()"
   ]
  },
  {
   "cell_type": "markdown",
   "metadata": {},
   "source": [
    "And we'll add a single light curve dataset so that we can see how passband luminosities affect the resulting synthetic light curve model."
   ]
  },
  {
   "cell_type": "code",
   "execution_count": 3,
   "metadata": {},
   "outputs": [
    {
     "data": {
      "text/plain": [
       "<ParameterSet: 20 parameters | contexts: dataset, compute, constraint>"
      ]
     },
     "execution_count": 3,
     "metadata": {},
     "output_type": "execute_result"
    }
   ],
   "source": [
    "b.add_dataset('lc', times=phoebe.linspace(0,1,101), dataset='lc01')"
   ]
  },
  {
   "cell_type": "markdown",
   "metadata": {},
   "source": [
    "Lastly, just to make things a bit easier, we'll turn off [limb-darkening](limb_darkening.ipynb) and [irradiation (reflection)](reflection_heating.ipynb) and use blackbody atmospheres."
   ]
  },
  {
   "cell_type": "code",
   "execution_count": 4,
   "metadata": {},
   "outputs": [],
   "source": [
    "b.set_value_all('ld_func', 'logarithmic')\n",
    "b.set_value_all('ld_coeffs_source', 'none')\n",
    "b.set_value_all('ld_coeffs', [0,0])\n",
    "b.set_value_all('atm', 'blackbody')\n",
    "b.set_value('irrad_method', 'none')"
   ]
  },
  {
   "cell_type": "markdown",
   "metadata": {},
   "source": [
    "Relevant Parameters & Methods\n",
    "--------------------------------"
   ]
  },
  {
   "cell_type": "markdown",
   "metadata": {},
   "source": [
    "**NEW in PHOEBE 2.2:** A 'pblum_mode' parameter exists for each LC dataset in the bundle.  This parameter defines how passband luminosities are handled.  The subsections below describe the use and parameters exposed depening on the value of this parameter."
   ]
  },
  {
   "cell_type": "code",
   "execution_count": 5,
   "metadata": {},
   "outputs": [
    {
     "name": "stdout",
     "output_type": "stream",
     "text": [
      "Parameter: pblum_mode@lc01@dataset\n",
      "                       Qualifier: pblum_mode\n",
      "                     Description: Mode for scaling passband luminosities\n",
      "                           Value: provided\n",
      "                         Choices: provided, color coupled, total flux, scale to data, absolute\n",
      "\n"
     ]
    }
   ],
   "source": [
    "print(b.get_parameter(qualifier='pblum_mode', dataset='lc01'))"
   ]
  },
  {
   "cell_type": "markdown",
   "metadata": {},
   "source": [
    "For any of these modes, you can expose the intrinsic (excluding extrinsic effects such as [spots](./spots.ipynb) and [irradiation](./reflection_heating.ipynb)) and extrinsic computed luminosities of each star (in each dataset) by calling [b.compute_pblums](../api/phoebe.frontend.bundle.Bundle.compute_pblums.md).\n",
    "\n",
    "Note that as its an aspect-dependent effect, [boosting](boosting.ipynb) is ignored in all of these output values."
   ]
  },
  {
   "cell_type": "code",
   "execution_count": 6,
   "metadata": {},
   "outputs": [
    {
     "name": "stdout",
     "output_type": "stream",
     "text": [
      "{'pblum@secondary@lc01': <Quantity 12.56637061 W>, 'pblum_ext@secondary@lc01': <Quantity 12.56637061 W>, 'pblum@primary@lc01': <Quantity 12.56637061 W>, 'pblum_ext@primary@lc01': <Quantity 12.56637061 W>}\n"
     ]
    }
   ],
   "source": [
    "print(b.compute_pblums())"
   ]
  },
  {
   "cell_type": "markdown",
   "metadata": {},
   "source": [
    "For more details, see the section below on \"Accessing Model Luminosities\" as well as the [b.compute_pblums API docs](../api/phoebe.frontend.bundle.Bundle.compute_pblums.md)"
   ]
  },
  {
   "cell_type": "markdown",
   "metadata": {},
   "source": [
    "pblum_mode = 'provided'\n",
    "-----------------------\n",
    "\n"
   ]
  },
  {
   "cell_type": "markdown",
   "metadata": {},
   "source": [
    "pblum_mode='provided' is the default option and maintains the default behavior from previous releases.  Here the user provides *passband luminosities* for the stars in the system for the given dataset/passband.\n",
    "\n",
    "The 'pblum_ref' parameter exists for each component-dataset pair and it determines how the intensities for that star in that passband should be scaled, i.e. by the pblum provided by that component ('self') or coupled to the pblum provided by another component.  For any component in which pblum_ref='self', a 'pblum' parameter will also be visible.\n",
    "\n",
    "By default the passband luminosities are *coupled* (see below for explanations of coupled vs decoupled), with the passband luminosity being defined by the primary component in the system."
   ]
  },
  {
   "cell_type": "code",
   "execution_count": 7,
   "metadata": {},
   "outputs": [
    {
     "name": "stdout",
     "output_type": "stream",
     "text": [
      "ParameterSet: 2 parameters\n",
      "  pblum_ref@primary@lc01@dataset: self\n",
      "  pblum_ref@secondary@lc01@da...: primary\n"
     ]
    }
   ],
   "source": [
    "print(b.filter(qualifier='pblum_ref'))"
   ]
  },
  {
   "cell_type": "code",
   "execution_count": 8,
   "metadata": {},
   "outputs": [
    {
     "name": "stdout",
     "output_type": "stream",
     "text": [
      "Parameter: pblum_ref@primary@lc01@dataset\n",
      "                       Qualifier: pblum_ref\n",
      "                     Description: Whether to use this components pblum or to couple to that from another component in the system\n",
      "                           Value: self\n",
      "                         Choices: self, secondary\n",
      "                 Only visible if: [component]pblum_mode:provided\n",
      "\n"
     ]
    }
   ],
   "source": [
    "print(b.get_parameter(qualifier='pblum_ref', component='primary'))"
   ]
  },
  {
   "cell_type": "markdown",
   "metadata": {},
   "source": [
    "The 'pblum' parameter is only visible for each component-dataset pair in which pblum_ref=='self'.  This component will then have its intensities scaled such that they match the value provided by pblum.  In general, a pblum of 4pi will result in an out-of-eclipse flux of ~1."
   ]
  },
  {
   "cell_type": "code",
   "execution_count": 9,
   "metadata": {},
   "outputs": [
    {
     "name": "stdout",
     "output_type": "stream",
     "text": [
      "ParameterSet: 1 parameters\n",
      "      pblum@primary@lc01@dataset: 12.5663706144 W\n"
     ]
    }
   ],
   "source": [
    "print(b.filter(qualifier='pblum'))"
   ]
  },
  {
   "cell_type": "code",
   "execution_count": 10,
   "metadata": {},
   "outputs": [
    {
     "name": "stdout",
     "output_type": "stream",
     "text": [
      "Parameter: pblum@primary@lc01@dataset\n",
      "                       Qualifier: pblum\n",
      "                     Description: Passband luminosity (defined at t0)\n",
      "                           Value: 12.5663706144 W\n",
      "                  Constrained by: \n",
      "                      Constrains: None\n",
      "                      Related to: None\n",
      "                 Only visible if: [component]pblum_mode:provided,pblum_ref:self\n",
      "\n"
     ]
    }
   ],
   "source": [
    "print(b.get_parameter(qualifier='pblum', component='primary'))"
   ]
  },
  {
   "cell_type": "markdown",
   "metadata": {},
   "source": [
    "**NOTE:** other parameters also affect flux-levels, including [limb darkening](limb_darkening.ipynb), [third light](l3.ipynb), [boosting](boosting.ipynb), [irradiation](reflection_heating.ipynb), and [distance](distance.ipynb)"
   ]
  },
  {
   "cell_type": "markdown",
   "metadata": {},
   "source": [
    "### Coupled Luminosities\n",
    "\n",
    "\n",
    "Passband luminosities are considered coupled when a single pblum value is provided, while the passband luminosity of the other component(s) is scaled by the same factor.  To accomplish this, ONE pblum_ref in the system must be set as 'self' and ALL OTHER pbscales must refer to that component. This is the default case, set explicitly by:"
   ]
  },
  {
   "cell_type": "code",
   "execution_count": 11,
   "metadata": {},
   "outputs": [],
   "source": [
    "b.set_value('pblum_ref', component='primary', value='self')"
   ]
  },
  {
   "cell_type": "code",
   "execution_count": 12,
   "metadata": {},
   "outputs": [],
   "source": [
    "b.set_value('pblum_ref', component='secondary', value='primary')"
   ]
  },
  {
   "cell_type": "markdown",
   "metadata": {},
   "source": [
    "Now note that only a single pblum parameter is visible."
   ]
  },
  {
   "cell_type": "code",
   "execution_count": 13,
   "metadata": {},
   "outputs": [
    {
     "name": "stdout",
     "output_type": "stream",
     "text": [
      "Parameter: pblum@primary@lc01@dataset\n",
      "                       Qualifier: pblum\n",
      "                     Description: Passband luminosity (defined at t0)\n",
      "                           Value: 12.5663706144 W\n",
      "                  Constrained by: \n",
      "                      Constrains: None\n",
      "                      Related to: None\n",
      "                 Only visible if: [component]pblum_mode:provided,pblum_ref:self\n",
      "\n"
     ]
    }
   ],
   "source": [
    "print(b.get_parameter('pblum'))"
   ]
  },
  {
   "cell_type": "markdown",
   "metadata": {},
   "source": [
    "If we call [b.compute_pblums](../api/phoebe.frontend.bundle.Bundle.compute_pblums.md), we'll see that the computed intrinsic luminosity of the primary star (pblum@primary@lc01) matches the value of the parameter above."
   ]
  },
  {
   "cell_type": "code",
   "execution_count": 14,
   "metadata": {},
   "outputs": [
    {
     "name": "stdout",
     "output_type": "stream",
     "text": [
      "{'pblum@secondary@lc01': <Quantity 12.56637061 W>, 'pblum_ext@secondary@lc01': <Quantity 12.56637061 W>, 'pblum@primary@lc01': <Quantity 12.56637061 W>, 'pblum_ext@primary@lc01': <Quantity 12.56637061 W>}\n"
     ]
    }
   ],
   "source": [
    "print(b.compute_pblums())"
   ]
  },
  {
   "cell_type": "markdown",
   "metadata": {},
   "source": [
    "Let's see how changing the value of pblum affects the computed light curve.  By default, pblum is set to be 4 pi, giving a total flux for the primary star of ~1.\n",
    "\n",
    "Since the secondary star in the default binary is identical to the primary star, we'd expect an out-of-eclipse flux of the binary to be ~2."
   ]
  },
  {
   "cell_type": "code",
   "execution_count": 15,
   "metadata": {},
   "outputs": [
    {
     "data": {
      "text/plain": [
       "<ParameterSet: 2 parameters | qualifiers: fluxes, times>"
      ]
     },
     "execution_count": 15,
     "metadata": {},
     "output_type": "execute_result"
    }
   ],
   "source": [
    "b.run_compute()"
   ]
  },
  {
   "cell_type": "code",
   "execution_count": 16,
   "metadata": {},
   "outputs": [
    {
     "data": {
      "image/png": "[encoded data removed]",
      "text/plain": [
       "<matplotlib.figure.Figure at 0x7f6dc4163d10>"
      ]
     },
     "metadata": {},
     "output_type": "display_data"
    }
   ],
   "source": [
    "afig, mplfig = b.plot(show=True)"
   ]
  },
  {
   "cell_type": "markdown",
   "metadata": {},
   "source": [
    "If we now set pblum to be only 2 pi, we should expect the luminosities as well as entire light curve to be scaled in half."
   ]
  },
  {
   "cell_type": "code",
   "execution_count": 17,
   "metadata": {},
   "outputs": [],
   "source": [
    "b.set_value('pblum', component='primary', value=2*np.pi)"
   ]
  },
  {
   "cell_type": "code",
   "execution_count": 18,
   "metadata": {},
   "outputs": [
    {
     "name": "stdout",
     "output_type": "stream",
     "text": [
      "{'pblum@secondary@lc01': <Quantity 6.28318531 W>, 'pblum_ext@secondary@lc01': <Quantity 6.28318531 W>, 'pblum@primary@lc01': <Quantity 6.28318531 W>, 'pblum_ext@primary@lc01': <Quantity 6.28318531 W>}\n"
     ]
    }
   ],
   "source": [
    "print(b.compute_pblums())"
   ]
  },
  {
   "cell_type": "code",
   "execution_count": 19,
   "metadata": {},
   "outputs": [
    {
     "name": "stderr",
     "output_type": "stream",
     "text": [
      "Sat, 01 Jun 2019 13:17 BUNDLE       WARNING overwriting model: latest\n"
     ]
    },
    {
     "data": {
      "text/plain": [
       "<ParameterSet: 2 parameters | qualifiers: fluxes, times>"
      ]
     },
     "execution_count": 19,
     "metadata": {},
     "output_type": "execute_result"
    }
   ],
   "source": [
    "b.run_compute()"
   ]
  },
  {
   "cell_type": "code",
   "execution_count": 20,
   "metadata": {},
   "outputs": [
    {
     "data": {
      "image/png": "[encoded data removed]",
      "text/plain": [
       "<matplotlib.figure.Figure at 0x7f6d873d3650>"
      ]
     },
     "metadata": {},
     "output_type": "display_data"
    }
   ],
   "source": [
    "afig, mplfig = b.plot(show=True)"
   ]
  },
  {
   "cell_type": "markdown",
   "metadata": {},
   "source": [
    "And if we halve the temperature of the secondary star - the resulting light curve changes to the new sum of fluxes, where the primary star dominates since the secondary star flux is reduced by a factor of 16, so we expect a total out-of-eclipse flux of ~0.5 + ~0.5/16 = ~0.53."
   ]
  },
  {
   "cell_type": "code",
   "execution_count": 21,
   "metadata": {},
   "outputs": [],
   "source": [
    "b.set_value('teff', component='secondary', value=0.5 * b.get_value('teff', component='primary'))"
   ]
  },
  {
   "cell_type": "code",
   "execution_count": 22,
   "metadata": {},
   "outputs": [
    {
     "name": "stdout",
     "output_type": "stream",
     "text": [
      "ParameterSet: 2 parameters\n",
      "          teff@primary@component: 6000.0 K\n",
      "        teff@secondary@component: 3000.0 K\n"
     ]
    }
   ],
   "source": [
    "print(b.filter(qualifier='teff'))"
   ]
  },
  {
   "cell_type": "code",
   "execution_count": 23,
   "metadata": {},
   "outputs": [
    {
     "name": "stdout",
     "output_type": "stream",
     "text": [
      "{'pblum@secondary@lc01': <Quantity 0.08022599 W>, 'pblum_ext@secondary@lc01': <Quantity 0.08022599 W>, 'pblum@primary@lc01': <Quantity 6.28318531 W>, 'pblum_ext@primary@lc01': <Quantity 6.28318531 W>}\n"
     ]
    }
   ],
   "source": [
    "print(b.compute_pblums())"
   ]
  },
  {
   "cell_type": "code",
   "execution_count": 24,
   "metadata": {},
   "outputs": [
    {
     "name": "stderr",
     "output_type": "stream",
     "text": [
      "Sat, 01 Jun 2019 13:17 BUNDLE       WARNING overwriting model: latest\n"
     ]
    },
    {
     "data": {
      "text/plain": [
       "<ParameterSet: 2 parameters | qualifiers: fluxes, times>"
      ]
     },
     "execution_count": 24,
     "metadata": {},
     "output_type": "execute_result"
    }
   ],
   "source": [
    "b.run_compute()"
   ]
  },
  {
   "cell_type": "code",
   "execution_count": 25,
   "metadata": {},
   "outputs": [
    {
     "data": {
      "image/png": "[encoded data removed]",
      "text/plain": [
       "<matplotlib.figure.Figure at 0x7f6d87453dd0>"
      ]
     },
     "metadata": {},
     "output_type": "display_data"
    }
   ],
   "source": [
    "afig, mplfig = b.plot(show=True)"
   ]
  },
  {
   "cell_type": "markdown",
   "metadata": {},
   "source": [
    "Let us undo our changes before we look at decoupled luminosities."
   ]
  },
  {
   "cell_type": "code",
   "execution_count": 26,
   "metadata": {},
   "outputs": [],
   "source": [
    "b.set_value_all('teff', 6000)\n",
    "b.set_value_all('pblum', 4*np.pi)"
   ]
  },
  {
   "cell_type": "markdown",
   "metadata": {},
   "source": [
    "### Decoupled Luminosities\n",
    "\n",
    "The luminosities are decoupled when pblums are provided for the individual components.  To accomplish this, all 'pblum_ref' parameters should be set to 'self'."
   ]
  },
  {
   "cell_type": "code",
   "execution_count": 27,
   "metadata": {},
   "outputs": [],
   "source": [
    "b.set_value_all('pblum_ref', 'self')"
   ]
  },
  {
   "cell_type": "markdown",
   "metadata": {},
   "source": [
    "Now we see that both pblums are available and can have different values."
   ]
  },
  {
   "cell_type": "code",
   "execution_count": 28,
   "metadata": {},
   "outputs": [
    {
     "name": "stdout",
     "output_type": "stream",
     "text": [
      "ParameterSet: 2 parameters\n",
      "      pblum@primary@lc01@dataset: 12.5663706144 W\n",
      "    pblum@secondary@lc01@dataset: 12.5663706144 W\n"
     ]
    }
   ],
   "source": [
    "print(b.filter(qualifier='pblum'))"
   ]
  },
  {
   "cell_type": "markdown",
   "metadata": {},
   "source": [
    "If we set these to 4pi, then we'd expect each star to contribute 1.0 in flux units, meaning the baseline of the light curve should be at approximately 2.0"
   ]
  },
  {
   "cell_type": "code",
   "execution_count": 29,
   "metadata": {},
   "outputs": [],
   "source": [
    "b.set_value_all('pblum', 4*np.pi)"
   ]
  },
  {
   "cell_type": "code",
   "execution_count": 30,
   "metadata": {},
   "outputs": [
    {
     "name": "stdout",
     "output_type": "stream",
     "text": [
      "{'pblum@secondary@lc01': <Quantity 12.56637061 W>, 'pblum_ext@secondary@lc01': <Quantity 12.56637061 W>, 'pblum@primary@lc01': <Quantity 12.56637061 W>, 'pblum_ext@primary@lc01': <Quantity 12.56637061 W>}\n"
     ]
    }
   ],
   "source": [
    "print(b.compute_pblums())"
   ]
  },
  {
   "cell_type": "code",
   "execution_count": 31,
   "metadata": {},
   "outputs": [
    {
     "name": "stderr",
     "output_type": "stream",
     "text": [
      "Sat, 01 Jun 2019 13:18 BUNDLE       WARNING overwriting model: latest\n"
     ]
    },
    {
     "data": {
      "text/plain": [
       "<ParameterSet: 2 parameters | qualifiers: fluxes, times>"
      ]
     },
     "execution_count": 31,
     "metadata": {},
     "output_type": "execute_result"
    }
   ],
   "source": [
    "b.run_compute()"
   ]
  },
  {
   "cell_type": "code",
   "execution_count": 32,
   "metadata": {},
   "outputs": [
    {
     "data": {
      "image/png": "[encoded data removed]",
      "text/plain": [
       "<matplotlib.figure.Figure at 0x7f6d87449cd0>"
      ]
     },
     "metadata": {},
     "output_type": "display_data"
    }
   ],
   "source": [
    "afig, mplfig = b.plot(show=True)"
   ]
  },
  {
   "cell_type": "markdown",
   "metadata": {},
   "source": [
    "Now let's make a significant temperature-ratio by making a very cool secondary star.  Since the luminosities are decoupled - this temperature change won't affect the resulting light curve very much (compare this to the case above with coupled luminosities).  What is happening here is that even though the secondary star is *cooler*, its luminosity is being rescaled to the same value as the primary star, so the eclipse depth doesn't change (you would see a similar lack-of-effect if you changed the radii)."
   ]
  },
  {
   "cell_type": "code",
   "execution_count": 33,
   "metadata": {},
   "outputs": [
    {
     "name": "stdout",
     "output_type": "stream",
     "text": [
      "ParameterSet: 2 parameters\n",
      "          teff@primary@component: 6000.0 K\n",
      "        teff@secondary@component: 6000.0 K\n"
     ]
    }
   ],
   "source": [
    "print(b.filter(qualifier='teff'))"
   ]
  },
  {
   "cell_type": "code",
   "execution_count": 34,
   "metadata": {},
   "outputs": [],
   "source": [
    "b.set_value('teff', component='secondary', value=3000)"
   ]
  },
  {
   "cell_type": "code",
   "execution_count": 35,
   "metadata": {},
   "outputs": [
    {
     "name": "stdout",
     "output_type": "stream",
     "text": [
      "{'pblum@secondary@lc01': <Quantity 12.56637061 W>, 'pblum_ext@secondary@lc01': <Quantity 12.56637061 W>, 'pblum@primary@lc01': <Quantity 12.56637061 W>, 'pblum_ext@primary@lc01': <Quantity 12.56637061 W>}\n"
     ]
    }
   ],
   "source": [
    "print(b.compute_pblums())"
   ]
  },
  {
   "cell_type": "code",
   "execution_count": 36,
   "metadata": {},
   "outputs": [
    {
     "name": "stderr",
     "output_type": "stream",
     "text": [
      "Sat, 01 Jun 2019 13:19 BUNDLE       WARNING overwriting model: latest\n"
     ]
    },
    {
     "data": {
      "text/plain": [
       "<ParameterSet: 2 parameters | qualifiers: fluxes, times>"
      ]
     },
     "execution_count": 36,
     "metadata": {},
     "output_type": "execute_result"
    }
   ],
   "source": [
    "b.run_compute()"
   ]
  },
  {
   "cell_type": "code",
   "execution_count": 37,
   "metadata": {},
   "outputs": [
    {
     "data": {
      "image/png": "[encoded data removed]",
      "text/plain": [
       "<matplotlib.figure.Figure at 0x7f6dc4163b50>"
      ]
     },
     "metadata": {},
     "output_type": "display_data"
    }
   ],
   "source": [
    "afig, mplfig = b.plot(show=True)"
   ]
  },
  {
   "cell_type": "markdown",
   "metadata": {},
   "source": [
    "In most cases you will *not want* decoupled luminosities as they can easily break the self-consistency of your model."
   ]
  },
  {
   "cell_type": "markdown",
   "metadata": {},
   "source": [
    "Now we'll just undo our changes before we look at accessing model luminosities."
   ]
  },
  {
   "cell_type": "code",
   "execution_count": 38,
   "metadata": {},
   "outputs": [],
   "source": [
    "b.set_value_all('teff', 6000)\n",
    "b.set_value_all('pblum', 4*np.pi)\n",
    "b['pblum_ref@primary'] = 'self'\n",
    "b['pblum_ref@secondary'] = 'primary'"
   ]
  },
  {
   "cell_type": "markdown",
   "metadata": {},
   "source": [
    "pblum_mode = 'absolute'\n",
    "-----------------------------------\n",
    "\n",
    "By setting pblum_mode to 'absolute', luminosities and fluxes will be returned in absolute units and not rescaled.  Note that [third light](l3) and [distance](distance) will still affect the resulting flux levels."
   ]
  },
  {
   "cell_type": "code",
   "execution_count": 39,
   "metadata": {},
   "outputs": [],
   "source": [
    "b.set_value('pblum_mode', 'absolute')"
   ]
  },
  {
   "cell_type": "markdown",
   "metadata": {},
   "source": [
    "As we no longer provide pblum values to scale, those parameters are not visible when filtering."
   ]
  },
  {
   "cell_type": "code",
   "execution_count": 40,
   "metadata": {},
   "outputs": [
    {
     "name": "stdout",
     "output_type": "stream",
     "text": [
      "ParameterSet: 0 parameters\n",
      "NO PARAMETERS\n"
     ]
    }
   ],
   "source": [
    "print(b.filter(qualifier='pblum'))"
   ]
  },
  {
   "cell_type": "code",
   "execution_count": 41,
   "metadata": {},
   "outputs": [
    {
     "name": "stdout",
     "output_type": "stream",
     "text": [
      "{'pblum@secondary@lc01': <Quantity 5.06092179e+25 W>, 'pblum_ext@secondary@lc01': <Quantity 5.06092179e+25 W>, 'pblum@primary@lc01': <Quantity 5.06092179e+25 W>, 'pblum_ext@primary@lc01': <Quantity 5.06092179e+25 W>}\n"
     ]
    }
   ],
   "source": [
    "print(b.compute_pblums())"
   ]
  },
  {
   "cell_type": "code",
   "execution_count": 42,
   "metadata": {},
   "outputs": [
    {
     "name": "stderr",
     "output_type": "stream",
     "text": [
      "Sat, 01 Jun 2019 13:20 BUNDLE       WARNING overwriting model: latest\n"
     ]
    },
    {
     "data": {
      "text/plain": [
       "<ParameterSet: 2 parameters | qualifiers: fluxes, times>"
      ]
     },
     "execution_count": 42,
     "metadata": {},
     "output_type": "execute_result"
    }
   ],
   "source": [
    "b.run_compute()"
   ]
  },
  {
   "cell_type": "code",
   "execution_count": 43,
   "metadata": {},
   "outputs": [
    {
     "data": {
      "image/png": "[encoded data removed]",
      "text/plain": [
       "<matplotlib.figure.Figure at 0x7f6d873ca790>"
      ]
     },
     "metadata": {},
     "output_type": "display_data"
    }
   ],
   "source": [
    "afig, mplfig = b.plot(show=True)"
   ]
  },
  {
   "cell_type": "markdown",
   "metadata": {},
   "source": [
    "(note the exponent on the y-axis of the above figure)"
   ]
  },
  {
   "cell_type": "markdown",
   "metadata": {},
   "source": [
    "pblum_mode = 'total flux'\n",
    "------------------------------\n",
    "\n",
    "By setting pblum_mode to 'total flux', the user can scale the resulting luminosities and fluxes by the total flux (extrinsic, including [third light](l3.ipynb), excluding [boosting](beaming_boosting.ipynb)).  Note that the scaling under-the-hood makes the approximation that each star will contribution its *extrinsic* luminosity (ie. `pblum_ext`) over 4pi (under the spherical star assumption) to the overall flux.  \n",
    "\n",
    "The total flux will also account for third light, but will *not* account for [boosting](beaming_boosting.ipynb) (as boosting does not contribute to luminosities and requires aspect-dependent information)."
   ]
  },
  {
   "cell_type": "code",
   "execution_count": 44,
   "metadata": {},
   "outputs": [],
   "source": [
    "b.set_value('pblum_mode', 'total flux')"
   ]
  },
  {
   "cell_type": "code",
   "execution_count": 45,
   "metadata": {},
   "outputs": [
    {
     "name": "stdout",
     "output_type": "stream",
     "text": [
      "Parameter: pbflux@lc01@dataset\n",
      "                       Qualifier: pbflux\n",
      "                     Description: Total inrinsic (excluding features and irradiation) passband flux (at t0, including l3 if pblum_mode='total flux')\n",
      "                           Value: 1.0 W / m2\n",
      "                  Constrained by: \n",
      "                      Constrains: None\n",
      "                      Related to: None\n",
      "                 Only visible if: pblum_mode:system flux|total flux\n",
      "\n"
     ]
    }
   ],
   "source": [
    "print(b.get_parameter('pbflux'))"
   ]
  },
  {
   "cell_type": "code",
   "execution_count": 46,
   "metadata": {},
   "outputs": [
    {
     "name": "stdout",
     "output_type": "stream",
     "text": [
      "{'pblum@secondary@lc01': <Quantity 6.28318531 W>, 'pblum_ext@secondary@lc01': <Quantity 6.28318531 W>, 'pblum@primary@lc01': <Quantity 6.28318531 W>, 'pblum_ext@primary@lc01': <Quantity 6.28318531 W>}\n"
     ]
    }
   ],
   "source": [
    "print(b.compute_pblums())"
   ]
  },
  {
   "cell_type": "code",
   "execution_count": 47,
   "metadata": {},
   "outputs": [
    {
     "name": "stderr",
     "output_type": "stream",
     "text": [
      "Sat, 01 Jun 2019 13:20 BUNDLE       WARNING overwriting model: latest\n"
     ]
    },
    {
     "data": {
      "text/plain": [
       "<ParameterSet: 2 parameters | qualifiers: fluxes, times>"
      ]
     },
     "execution_count": 47,
     "metadata": {},
     "output_type": "execute_result"
    }
   ],
   "source": [
    "b.run_compute()"
   ]
  },
  {
   "cell_type": "code",
   "execution_count": 48,
   "metadata": {},
   "outputs": [
    {
     "data": {
      "image/png": "[encoded data removed]",
      "text/plain": [
       "<matplotlib.figure.Figure at 0x7f6d8721e710>"
      ]
     },
     "metadata": {},
     "output_type": "display_data"
    }
   ],
   "source": [
    "afig, mplfig = b.plot(show=True)"
   ]
  },
  {
   "cell_type": "markdown",
   "metadata": {},
   "source": [
    "pblum_mode = 'scale to data'\n",
    "----------------------------------\n",
    "\n",
    "Setting pblum_mode to 'scale to data' is only allowed if fluxes are attached to the dataset itself.  Let's use our existing model to generate \"fake\" data and then populate the dataset."
   ]
  },
  {
   "cell_type": "code",
   "execution_count": 49,
   "metadata": {},
   "outputs": [],
   "source": [
    "fluxes = b.get_value('fluxes', context='model') * 0.8 + (np.random.random(101) * 0.1)"
   ]
  },
  {
   "cell_type": "code",
   "execution_count": 50,
   "metadata": {},
   "outputs": [],
   "source": [
    "b.set_value('fluxes', context='dataset', value=fluxes)"
   ]
  },
  {
   "cell_type": "code",
   "execution_count": 51,
   "metadata": {},
   "outputs": [
    {
     "data": {
      "image/png": "[encoded data removed]",
      "text/plain": [
       "<matplotlib.figure.Figure at 0x7f6d87237790>"
      ]
     },
     "metadata": {},
     "output_type": "display_data"
    }
   ],
   "source": [
    "afig, mplfig = b.plot(context='dataset', show=True)"
   ]
  },
  {
   "cell_type": "markdown",
   "metadata": {},
   "source": [
    "Now if we set pblum_mode to 'scale to data', the resulting model will be scaled to best fit the data.  Note that in this mode we cannot access computed luminosities via [b.compute_pblums](../api/phoebe.frontend.bundle.Bundle.compute_pblums.md) (which would raise an error if we attempted to do so)."
   ]
  },
  {
   "cell_type": "code",
   "execution_count": 52,
   "metadata": {},
   "outputs": [],
   "source": [
    "b.set_value('pblum_mode', 'scale to data')"
   ]
  },
  {
   "cell_type": "code",
   "execution_count": 53,
   "metadata": {},
   "outputs": [
    {
     "name": "stdout",
     "output_type": "stream",
     "text": [
      "{'pblum@secondary@lc01': <Quantity 5.06092179e+25 W>, 'pblum_ext@secondary@lc01': <Quantity 5.06092179e+25 W>, 'pblum@primary@lc01': <Quantity 5.06092179e+25 W>, 'pblum_ext@primary@lc01': <Quantity 5.06092179e+25 W>}\n"
     ]
    }
   ],
   "source": [
    "print(b.compute_pblums())"
   ]
  },
  {
   "cell_type": "code",
   "execution_count": 54,
   "metadata": {},
   "outputs": [
    {
     "name": "stderr",
     "output_type": "stream",
     "text": [
      "Sat, 01 Jun 2019 13:21 BUNDLE       WARNING overwriting model: latest\n"
     ]
    },
    {
     "data": {
      "text/plain": [
       "<ParameterSet: 2 parameters | qualifiers: fluxes, times>"
      ]
     },
     "execution_count": 54,
     "metadata": {},
     "output_type": "execute_result"
    }
   ],
   "source": [
    "b.run_compute()"
   ]
  },
  {
   "cell_type": "code",
   "execution_count": 55,
   "metadata": {},
   "outputs": [
    {
     "data": {
      "image/png": "[encoded data removed]",
      "text/plain": [
       "<matplotlib.figure.Figure at 0x7f6d87143a90>"
      ]
     },
     "metadata": {},
     "output_type": "display_data"
    }
   ],
   "source": [
    "afig, mplfig = b.plot(show=True)"
   ]
  },
  {
   "cell_type": "markdown",
   "metadata": {},
   "source": [
    "Before moving on, let's reset pblum_mode to 'provided' and remove our fake data"
   ]
  },
  {
   "cell_type": "code",
   "execution_count": 56,
   "metadata": {},
   "outputs": [],
   "source": [
    "b.set_value('pblum_mode', 'provided')"
   ]
  },
  {
   "cell_type": "code",
   "execution_count": 57,
   "metadata": {},
   "outputs": [],
   "source": [
    "b.set_value('fluxes', context='dataset', value=[])"
   ]
  },
  {
   "cell_type": "markdown",
   "metadata": {},
   "source": [
    "pblum_mode = 'color coupled'\n",
    "--------------------------------"
   ]
  },
  {
   "cell_type": "markdown",
   "metadata": {},
   "source": [
    "Setting pblum_mode to 'color coupled' allows for the same scaling factor to be applied to two different datasets.  In order to see this in action, we'll add another LC dataset in a different passband."
   ]
  },
  {
   "cell_type": "code",
   "execution_count": 58,
   "metadata": {},
   "outputs": [
    {
     "name": "stderr",
     "output_type": "stream",
     "text": [
      "Sat, 01 Jun 2019 13:21 PARAMETERS   WARNING ld_func='interp' not supported by atm='blackbody'.  Either change atm@primary@phoebe01 or ld_func@primary@lc02.  If not addressed, this warning will continue to be raised and will throw an error at run_compute.\n",
      "Sat, 01 Jun 2019 13:21 PARAMETERS   WARNING ld_func='interp' not supported by atm='blackbody'.  Either change atm@primary@phoebe01 or ld_func@primary@lc02.  If not addressed, this warning will continue to be raised and will throw an error at run_compute.\n",
      "Sat, 01 Jun 2019 13:21 PARAMETERS   WARNING ld_func='interp' not supported by atm='blackbody'.  Either change atm@primary@phoebe01 or ld_func@primary@lc02.  If not addressed, this warning will continue to be raised and will throw an error at run_compute.\n",
      "Sat, 01 Jun 2019 13:21 PARAMETERS   WARNING ld_func='interp' not supported by atm='blackbody'.  Either change atm@primary@phoebe01 or ld_func@primary@lc02.  If not addressed, this warning will continue to be raised and will throw an error at run_compute.\n",
      "Sat, 01 Jun 2019 13:21 PARAMETERS   WARNING ld_func='interp' not supported by atm='blackbody'.  Either change atm@primary@phoebe01 or ld_func@primary@lc02.  If not addressed, this warning will continue to be raised and will throw an error at run_compute.\n",
      "Sat, 01 Jun 2019 13:21 PARAMETERS   WARNING ld_func='interp' not supported by atm='blackbody'.  Either change atm@primary@phoebe01 or ld_func@primary@lc02.  If not addressed, this warning will continue to be raised and will throw an error at run_compute.\n",
      "Sat, 01 Jun 2019 13:21 PARAMETERS   WARNING ld_func='interp' not supported by atm='blackbody'.  Either change atm@primary@phoebe01 or ld_func@primary@lc02.  If not addressed, this warning will continue to be raised and will throw an error at run_compute.\n",
      "Sat, 01 Jun 2019 13:21 PARAMETERS   WARNING ld_func='interp' not supported by atm='blackbody'.  Either change atm@primary@phoebe01 or ld_func@primary@lc02.  If not addressed, this warning will continue to be raised and will throw an error at run_compute.\n"
     ]
    },
    {
     "data": {
      "text/plain": [
       "<ParameterSet: 20 parameters | contexts: dataset, compute, constraint>"
      ]
     },
     "execution_count": 58,
     "metadata": {},
     "output_type": "execute_result"
    }
   ],
   "source": [
    "b.add_dataset('lc', times=phoebe.linspace(0,1,101), passband='Johnson:B', dataset='lc02')"
   ]
  },
  {
   "cell_type": "code",
   "execution_count": 59,
   "metadata": {},
   "outputs": [
    {
     "name": "stderr",
     "output_type": "stream",
     "text": [
      "Sat, 01 Jun 2019 13:21 PARAMETERS   WARNING ld_func='interp' not supported by atm='blackbody'.  Either change atm@primary@phoebe01 or ld_func@primary@lc02.  If not addressed, this warning will continue to be raised and will throw an error at run_compute.\n",
      "Sat, 01 Jun 2019 13:21 PARAMETERS   WARNING ld_func='interp' not supported by atm='blackbody'.  Either change atm@primary@phoebe01 or ld_func@primary@lc02.  If not addressed, this warning will continue to be raised and will throw an error at run_compute.\n",
      "Sat, 01 Jun 2019 13:21 PARAMETERS   WARNING ld_func='interp' not supported by atm='blackbody'.  Either change atm@primary@phoebe01 or ld_func@primary@lc02.  If not addressed, this warning will continue to be raised and will throw an error at run_compute.\n",
      "Sat, 01 Jun 2019 13:22 PARAMETERS   WARNING ld_func='interp' not supported by atm='blackbody'.  Either change atm@primary@phoebe01 or ld_func@primary@lc02.  If not addressed, this warning will continue to be raised and will throw an error at run_compute.\n",
      "Sat, 01 Jun 2019 13:22 PARAMETERS   WARNING ld_func='interp' not supported by atm='blackbody'.  Either change atm@secondary@phoebe01 or ld_func@secondary@lc02.  If not addressed, this warning will continue to be raised and will throw an error at run_compute.\n"
     ]
    }
   ],
   "source": [
    "b.set_value_all('ld_func', 'logarithmic')\n",
    "b.set_value_all('ld_coeffs_source', 'none')\n",
    "b.set_value_all('ld_coeffs', [0,0])\n",
    "b.set_value_all('atm', 'blackbody')\n",
    "b.set_value('irrad_method', 'none')"
   ]
  },
  {
   "cell_type": "code",
   "execution_count": 60,
   "metadata": {},
   "outputs": [],
   "source": [
    "b.set_value('pblum_mode', dataset='lc02', value='color coupled')"
   ]
  },
  {
   "cell_type": "markdown",
   "metadata": {},
   "source": [
    "Here we see the pblum\\_mode@lc01 is set to 'provided' with pblum\\_ref@secondary set to 'primary', meaning it will follow the coupled rules described earlier.  pblum\\_mode@lc02 is set to 'color coupled' with pblum\\_ref@lc01 pointing to 'lc01'."
   ]
  },
  {
   "cell_type": "code",
   "execution_count": 61,
   "metadata": {},
   "outputs": [
    {
     "name": "stdout",
     "output_type": "stream",
     "text": [
      "ParameterSet: 6 parameters\n",
      "         pblum_mode@lc01@dataset: provided\n",
      "  pblum_ref@primary@lc01@dataset: self\n",
      "  pblum_ref@secondary@lc01@da...: primary\n",
      "      pblum@primary@lc01@dataset: 12.5663706144 W\n",
      "         pblum_mode@lc02@dataset: color coupled\n",
      "       pblum_ref@lc02@lc@dataset: lc01\n"
     ]
    }
   ],
   "source": [
    "print(b.filter('pblum*'))"
   ]
  },
  {
   "cell_type": "code",
   "execution_count": 62,
   "metadata": {},
   "outputs": [
    {
     "name": "stdout",
     "output_type": "stream",
     "text": [
      "{'pblum_ext@secondary@lc01': <Quantity 12.56637061 W>, 'pblum_ext@secondary@lc02': <Quantity 14.74418694 W>, 'pblum@primary@lc02': <Quantity 14.74418694 W>, 'pblum@primary@lc01': <Quantity 12.56637061 W>, 'pblum@secondary@lc01': <Quantity 12.56637061 W>, 'pblum_ext@primary@lc02': <Quantity 14.74418694 W>, 'pblum_ext@primary@lc01': <Quantity 12.56637061 W>, 'pblum@secondary@lc02': <Quantity 14.74418694 W>}\n"
     ]
    }
   ],
   "source": [
    "print(b.compute_pblums())"
   ]
  },
  {
   "cell_type": "code",
   "execution_count": 63,
   "metadata": {},
   "outputs": [
    {
     "name": "stderr",
     "output_type": "stream",
     "text": [
      "Sat, 01 Jun 2019 13:23 BUNDLE       WARNING overwriting model: latest\n"
     ]
    },
    {
     "data": {
      "text/plain": [
       "<ParameterSet: 4 parameters | datasets: lc02, lc01>"
      ]
     },
     "execution_count": 63,
     "metadata": {},
     "output_type": "execute_result"
    }
   ],
   "source": [
    "b.run_compute()"
   ]
  },
  {
   "cell_type": "code",
   "execution_count": 64,
   "metadata": {},
   "outputs": [
    {
     "data": {
      "image/png": "[encoded data removed]",
      "text/plain": [
       "<matplotlib.figure.Figure at 0x7f6d87064b90>"
      ]
     },
     "metadata": {},
     "output_type": "display_data"
    }
   ],
   "source": [
    "afig, mplfig = b.plot(show=True)"
   ]
  },
  {
   "cell_type": "markdown",
   "metadata": {},
   "source": [
    "Accessing Model Luminosities\n",
    "-----------------------------------"
   ]
  },
  {
   "cell_type": "markdown",
   "metadata": {},
   "source": [
    "Passband luminosities at t0@system per-star (including following all coupling logic) can be computed and exposed on the fly by calling `compute_pblums`."
   ]
  },
  {
   "cell_type": "code",
   "execution_count": 65,
   "metadata": {},
   "outputs": [
    {
     "name": "stdout",
     "output_type": "stream",
     "text": [
      "{'pblum_ext@secondary@lc01': <Quantity 12.56637061 W>, 'pblum_ext@secondary@lc02': <Quantity 14.74418694 W>, 'pblum@primary@lc02': <Quantity 14.74418694 W>, 'pblum@primary@lc01': <Quantity 12.56637061 W>, 'pblum@secondary@lc01': <Quantity 12.56637061 W>, 'pblum_ext@primary@lc02': <Quantity 14.74418694 W>, 'pblum_ext@primary@lc01': <Quantity 12.56637061 W>, 'pblum@secondary@lc02': <Quantity 14.74418694 W>}\n"
     ]
    }
   ],
   "source": [
    "print b.compute_pblums()"
   ]
  },
  {
   "cell_type": "markdown",
   "metadata": {},
   "source": [
    "By default this exposes 'pblum' and 'pblum_ext' for all component-dataset pairs in the form of a dictionary.  Alternatively, you can pass a label or list of labels to component and/or dataset."
   ]
  },
  {
   "cell_type": "code",
   "execution_count": 66,
   "metadata": {},
   "outputs": [
    {
     "name": "stdout",
     "output_type": "stream",
     "text": [
      "{'pblum@primary@lc01': <Quantity 12.56637061 W>, 'pblum_ext@primary@lc01': <Quantity 12.56637061 W>}\n"
     ]
    }
   ],
   "source": [
    "print b.compute_pblums(dataset='lc01', component='primary')"
   ]
  },
  {
   "cell_type": "markdown",
   "metadata": {},
   "source": [
    "For more options, see the [b.compute_pblums API docs](../api/phoebe.frontend.bundle.Bundle.compute_pblums.md)."
   ]
  },
  {
   "cell_type": "markdown",
   "metadata": {},
   "source": [
    "Note that this same logic is applied (at t0) to initialize all passband luminosities within the backend, so there is no need to call `compute_pblums` before `run_compute`."
   ]
  },
  {
   "cell_type": "markdown",
   "metadata": {},
   "source": [
    "In order to access passband luminosities at times other than t0, you can add a mesh dataset and request the pblum_ext column to be exposed.  For stars that have pblum defined (as opposed to coupled to another star in the system), this value should be equivalent to the value of the parameter (at t0 if no features or irradiation are present, and in simple circular cases will probably be equivalent at all times).\n",
    "\n",
    "Let's create a mesh dataset at a few times and then access the synthetic luminosities."
   ]
  },
  {
   "cell_type": "code",
   "execution_count": 67,
   "metadata": {},
   "outputs": [
    {
     "data": {
      "text/plain": [
       "<ParameterSet: 4 parameters | contexts: compute, dataset>"
      ]
     },
     "execution_count": 67,
     "metadata": {},
     "output_type": "execute_result"
    }
   ],
   "source": [
    "b.add_dataset('mesh', times=np.linspace(0,1,5), dataset='mesh01', columns=['areas', 'pblum_ext@lc01', 'ldint@lc01', 'ptfarea@lc01', 'abs_normal_intensities@lc01', 'normal_intensities@lc01'])"
   ]
  },
  {
   "cell_type": "code",
   "execution_count": 68,
   "metadata": {},
   "outputs": [
    {
     "name": "stderr",
     "output_type": "stream",
     "text": [
      "Sat, 01 Jun 2019 13:25 BUNDLE       WARNING overwriting model: latest\n"
     ]
    },
    {
     "data": {
      "text/plain": [
       "<ParameterSet: 86 parameters | kinds: mesh, lc>"
      ]
     },
     "execution_count": 68,
     "metadata": {},
     "output_type": "execute_result"
    }
   ],
   "source": [
    "b.run_compute()"
   ]
  },
  {
   "cell_type": "markdown",
   "metadata": {},
   "source": [
    "Since the luminosities are passband-dependent, they are stored with the same dataset as the light curve (or RV), but with the mesh method, and are available at each of the times at which a mesh was stored."
   ]
  },
  {
   "cell_type": "code",
   "execution_count": 69,
   "metadata": {},
   "outputs": [
    {
     "name": "stdout",
     "output_type": "stream",
     "text": [
      "['00.000000@pblum_ext@primary@lc01@phoebe01@latest@mesh@model', '00.250000@pblum_ext@primary@lc01@phoebe01@latest@mesh@model', '00.500000@pblum_ext@primary@lc01@phoebe01@latest@mesh@model', '00.750000@pblum_ext@primary@lc01@phoebe01@latest@mesh@model', '01.000000@pblum_ext@primary@lc01@phoebe01@latest@mesh@model', '00.000000@pblum_ext@secondary@lc01@phoebe01@latest@mesh@model', '00.250000@pblum_ext@secondary@lc01@phoebe01@latest@mesh@model', '00.500000@pblum_ext@secondary@lc01@phoebe01@latest@mesh@model', '00.750000@pblum_ext@secondary@lc01@phoebe01@latest@mesh@model', '01.000000@pblum_ext@secondary@lc01@phoebe01@latest@mesh@model']\n"
     ]
    }
   ],
   "source": [
    "print b.filter(qualifier='pblum_ext', context='model').twigs"
   ]
  },
  {
   "cell_type": "markdown",
   "metadata": {},
   "source": [
    "Now let's compare the value of the *synthetic* luminosities to those of the *input* pblum"
   ]
  },
  {
   "cell_type": "code",
   "execution_count": 70,
   "metadata": {},
   "outputs": [],
   "source": [
    "t0 = b.get_value('t0@system')"
   ]
  },
  {
   "cell_type": "code",
   "execution_count": 71,
   "metadata": {},
   "outputs": [
    {
     "name": "stdout",
     "output_type": "stream",
     "text": [
      "12.5663706144\n"
     ]
    }
   ],
   "source": [
    "print b.get_value(qualifier='pblum_ext', time=t0, component='primary', kind='mesh', context='model')"
   ]
  },
  {
   "cell_type": "code",
   "execution_count": 72,
   "metadata": {},
   "outputs": [
    {
     "name": "stdout",
     "output_type": "stream",
     "text": [
      "12.5663706144\n"
     ]
    }
   ],
   "source": [
    "print b.get_value('pblum@primary@dataset')"
   ]
  },
  {
   "cell_type": "code",
   "execution_count": 73,
   "metadata": {},
   "outputs": [
    {
     "name": "stdout",
     "output_type": "stream",
     "text": [
      "{'pblum@primary@lc01': <Quantity 12.56637061 W>, 'pblum_ext@primary@lc01': <Quantity 12.56637061 W>}\n"
     ]
    }
   ],
   "source": [
    "print(b.compute_pblums(component='primary', dataset='lc01'))"
   ]
  },
  {
   "cell_type": "markdown",
   "metadata": {},
   "source": [
    "In this case, since our two stars are identical, the *synthetic* luminosity of the secondary star should be the same as the primary (and the same as pblum@primary)."
   ]
  },
  {
   "cell_type": "code",
   "execution_count": 74,
   "metadata": {},
   "outputs": [
    {
     "name": "stdout",
     "output_type": "stream",
     "text": [
      "12.5663706144\n"
     ]
    }
   ],
   "source": [
    "print b.get_value(qualifier='pblum_ext', time=t0, component='primary', kind='mesh', context='model')"
   ]
  },
  {
   "cell_type": "code",
   "execution_count": 75,
   "metadata": {},
   "outputs": [
    {
     "name": "stdout",
     "output_type": "stream",
     "text": [
      "12.5663706144\n"
     ]
    }
   ],
   "source": [
    "print b.get_value(qualifier='pblum_ext', time=t0, component='secondary', kind='mesh', context='model')"
   ]
  },
  {
   "cell_type": "markdown",
   "metadata": {},
   "source": [
    "However, if we change the temperature of the secondary star again, since the pblums are coupled, we'd expect the *synthetic* luminosity of the primary to remain fixed but the secondary to decrease."
   ]
  },
  {
   "cell_type": "code",
   "execution_count": 76,
   "metadata": {},
   "outputs": [],
   "source": [
    "b['teff@secondary@component'] = 3000"
   ]
  },
  {
   "cell_type": "code",
   "execution_count": 77,
   "metadata": {},
   "outputs": [
    {
     "name": "stdout",
     "output_type": "stream",
     "text": [
      "{'pblum@secondary@lc01': <Quantity 0.16045198 W>, 'pblum_ext@secondary@lc01': <Quantity 0.16045198 W>, 'pblum@primary@lc01': <Quantity 12.56637061 W>, 'pblum_ext@primary@lc01': <Quantity 12.56637061 W>}\n"
     ]
    }
   ],
   "source": [
    "print(b.compute_pblums(dataset='lc01'))"
   ]
  },
  {
   "cell_type": "code",
   "execution_count": 78,
   "metadata": {},
   "outputs": [
    {
     "name": "stderr",
     "output_type": "stream",
     "text": [
      "Sat, 01 Jun 2019 13:26 BUNDLE       WARNING overwriting model: latest\n"
     ]
    },
    {
     "data": {
      "text/plain": [
       "<ParameterSet: 86 parameters | kinds: mesh, lc>"
      ]
     },
     "execution_count": 78,
     "metadata": {},
     "output_type": "execute_result"
    }
   ],
   "source": [
    "b.run_compute()"
   ]
  },
  {
   "cell_type": "code",
   "execution_count": 79,
   "metadata": {},
   "outputs": [
    {
     "name": "stdout",
     "output_type": "stream",
     "text": [
      "12.5663706144\n"
     ]
    }
   ],
   "source": [
    "print b.get_value(qualifier='pblum_ext', time=t0, component='primary', kind='mesh', context='model')"
   ]
  },
  {
   "cell_type": "code",
   "execution_count": 80,
   "metadata": {},
   "outputs": [
    {
     "name": "stdout",
     "output_type": "stream",
     "text": [
      "0.160451977895\n"
     ]
    }
   ],
   "source": [
    "print b.get_value(qualifier='pblum_ext', time=t0, component='secondary', kind='mesh', context='model')"
   ]
  },
  {
   "cell_type": "markdown",
   "metadata": {},
   "source": [
    "And lastly, if we re-enable irradiation, we'll see that the extrinsic luminosities do not match the prescribed value of `pblum` (an intrinsic luminosity)."
   ]
  },
  {
   "cell_type": "code",
   "execution_count": 81,
   "metadata": {},
   "outputs": [
    {
     "name": "stderr",
     "output_type": "stream",
     "text": [
      "Sat, 01 Jun 2019 13:26 BUNDLE       WARNING overwriting model: latest\n"
     ]
    },
    {
     "data": {
      "text/plain": [
       "<ParameterSet: 86 parameters | kinds: mesh, lc>"
      ]
     },
     "execution_count": 81,
     "metadata": {},
     "output_type": "execute_result"
    }
   ],
   "source": [
    "b.run_compute(irrad_method='horvat')"
   ]
  },
  {
   "cell_type": "code",
   "execution_count": 82,
   "metadata": {},
   "outputs": [
    {
     "name": "stdout",
     "output_type": "stream",
     "text": [
      "12.5724436159\n"
     ]
    }
   ],
   "source": [
    "print b.get_value(qualifier='pblum_ext', time=t0, component='primary', kind='mesh', context='model')"
   ]
  },
  {
   "cell_type": "code",
   "execution_count": 83,
   "metadata": {},
   "outputs": [
    {
     "name": "stdout",
     "output_type": "stream",
     "text": [
      "12.5663706144\n"
     ]
    }
   ],
   "source": [
    "print b.get_value('pblum@primary@dataset')"
   ]
  },
  {
   "cell_type": "code",
   "execution_count": 84,
   "metadata": {},
   "outputs": [
    {
     "name": "stdout",
     "output_type": "stream",
     "text": [
      "{'pblum@secondary@lc01': <Quantity 0.16045198 W>, 'pblum_ext@secondary@lc01': <Quantity 0.1935855 W>, 'pblum@primary@lc01': <Quantity 12.56637061 W>, 'pblum_ext@primary@lc01': <Quantity 12.57244362 W>}\n"
     ]
    }
   ],
   "source": [
    "print(b.compute_pblums(dataset='lc01', irrad_method='horvat'))"
   ]
  },
  {
   "cell_type": "markdown",
   "metadata": {},
   "source": [
    "Now, we'll just undo our changes before continuing"
   ]
  },
  {
   "cell_type": "code",
   "execution_count": 85,
   "metadata": {},
   "outputs": [],
   "source": [
    "b.set_value_all('teff@component', 6000)"
   ]
  },
  {
   "cell_type": "markdown",
   "metadata": {},
   "source": [
    "Role of Pblum\n",
    "----------------------"
   ]
  },
  {
   "cell_type": "markdown",
   "metadata": {},
   "source": [
    "Let's now look at the intensities in the mesh to see how they're being scaled under-the-hood.  First we'll recompute our model with the equal temperatures and irradiation disabled (to ignore the difference between pblum and pblum_ext)."
   ]
  },
  {
   "cell_type": "code",
   "execution_count": 86,
   "metadata": {},
   "outputs": [
    {
     "name": "stderr",
     "output_type": "stream",
     "text": [
      "Sat, 01 Jun 2019 13:27 BUNDLE       WARNING overwriting model: latest\n"
     ]
    },
    {
     "data": {
      "text/plain": [
       "<ParameterSet: 86 parameters | kinds: mesh, lc>"
      ]
     },
     "execution_count": 86,
     "metadata": {},
     "output_type": "execute_result"
    }
   ],
   "source": [
    "b.run_compute()"
   ]
  },
  {
   "cell_type": "code",
   "execution_count": 87,
   "metadata": {},
   "outputs": [],
   "source": [
    "areas = b.get_value(qualifier='areas', dataset='mesh01', time=t0, component='primary', unit='m^2')\n",
    "ldint = b.get_value(qualifier='ldint', component='primary', time=t0)\n",
    "ptfarea = b.get_value(qualifier='ptfarea', component='primary', time=t0)\n",
    "\n",
    "abs_normal_intensities = b.get_value(qualifier='abs_normal_intensities', dataset='lc01', time=t0, component='primary')\n",
    "normal_intensities = b.get_value(qualifier='normal_intensities', dataset='lc01', time=t0, component='primary')"
   ]
  },
  {
   "cell_type": "markdown",
   "metadata": {},
   "source": [
    "'abs_normal_intensities' are the intensities per triangle in absolute units, i.e. W/m^3."
   ]
  },
  {
   "cell_type": "code",
   "execution_count": 88,
   "metadata": {},
   "outputs": [
    {
     "data": {
      "text/plain": [
       "30448834948512.58"
      ]
     },
     "execution_count": 88,
     "metadata": {},
     "output_type": "execute_result"
    }
   ],
   "source": [
    "np.median(abs_normal_intensities)"
   ]
  },
  {
   "cell_type": "markdown",
   "metadata": {},
   "source": [
    "The values of 'normal_intensities', however, are significantly samller (in this case).  These are the intensities in relative units which will eventually be integrated to give us flux for a light curve."
   ]
  },
  {
   "cell_type": "code",
   "execution_count": 89,
   "metadata": {
    "scrolled": false
   },
   "outputs": [
    {
     "data": {
      "text/plain": [
       "7.560506972544786e-12"
      ]
     },
     "execution_count": 89,
     "metadata": {},
     "output_type": "execute_result"
    }
   ],
   "source": [
    "np.median(normal_intensities)"
   ]
  },
  {
   "cell_type": "markdown",
   "metadata": {},
   "source": [
    "'normal_intensities' are scaled from 'abs_normal_intensities' **so that** the computed luminosity matches the prescribed luminosity (pblum).\n",
    "\n",
    "Here we compute the luminosity by summing over each triangle's intensity in the normal direction, and multiply it by pi to account for blackbody intensity emitted in all directions in the solid angle, and by the area of that triangle."
   ]
  },
  {
   "cell_type": "code",
   "execution_count": 90,
   "metadata": {},
   "outputs": [
    {
     "name": "stdout",
     "output_type": "stream",
     "text": [
      "(12.56637061435917, 12.566370614359172)\n"
     ]
    }
   ],
   "source": [
    "pblum = b.get_value(qualifier='pblum', component='primary', context='dataset')\n",
    "print(np.sum(normal_intensities * ldint * np.pi * areas) * ptfarea, pblum)"
   ]
  },
  {
   "cell_type": "code",
   "execution_count": null,
   "metadata": {},
   "outputs": [],
   "source": []
  }
 ],
 "metadata": {
  "kernelspec": {
   "display_name": "Python 2",
   "language": "python",
   "name": "python2"
  },
  "language_info": {
   "codemirror_mode": {
    "name": "ipython",
    "version": 2
   },
   "file_extension": ".py",
   "mimetype": "text/x-python",
   "name": "python",
   "nbconvert_exporter": "python",
   "pygments_lexer": "ipython2",
   "version": "2.7.15rc1"
  }
 },
 "nbformat": 4,
 "nbformat_minor": 1
}
