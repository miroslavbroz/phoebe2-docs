{
 "cells": [
  {
   "cell_type": "markdown",
   "metadata": {},
   "source": [
    "2.1 - 2.2 Migration: compute_times & compute_phases\n",
    "=============================="
   ]
  },
  {
   "cell_type": "markdown",
   "metadata": {},
   "source": [
    "The 2.2 release brings support for defining the times/phases at which a dataset should be computed during [run_compute](../api/phoebe.frontend.bundle.Bundle.run_compute.md) *separately* from the times at which the dataset itself is defined.  This is particularly useful for computing residuals between a dataset with a large number of timepoints and a model computed evenly in phase space, for example.\n",
    "\n",
    "Besides the introduction of this new ability, the only significant change between 2.1 and 2.2 is that the [mesh dataset](MESH.ipynb) and [orb dataset](ORB.ipynb) **no longer** have `times` parameters.  The `times` parameter has been **replaced** by the `compute_times` parameter (as neither the mesh or orbits have the ability to attach observable data to the dataset).  Passing `times` to [add_dataset](../api/phoebe.frontend.bundle.Bundle.add_dataset.md) (for example: `b.add_dataset('mesh', times=[...])`) will raise a warning in the logger and apply that value to the `compute_times` parameter.  However, any scripts that attempts to find the `times` parameter will need to be updated to use the `compute_times` parameter instead.\n",
    "\n",
    "For a more thorough explanation of the new behavior, see the new [Compute Times & Phases tutorial](compute_times_phases.ipynb)."
   ]
  },
  {
   "cell_type": "code",
   "execution_count": null,
   "metadata": {},
   "outputs": [],
   "source": []
  }
 ],
 "metadata": {
  "kernelspec": {
   "display_name": "Python 2",
   "language": "python",
   "name": "python2"
  },
  "language_info": {
   "codemirror_mode": {
    "name": "ipython",
    "version": 2
   },
   "file_extension": ".py",
   "mimetype": "text/x-python",
   "name": "python",
   "nbconvert_exporter": "python",
   "pygments_lexer": "ipython2",
   "version": "2.7.15+"
  }
 },
 "nbformat": 4,
 "nbformat_minor": 2
}
