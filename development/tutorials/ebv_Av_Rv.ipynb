{
 "cells": [
  {
   "cell_type": "markdown",
   "metadata": {},
   "source": [
    "Extinction (ebv, Av, & Rv)\n",
    "============================\n",
    "\n",
    "Setup\n",
    "-----------------------------"
   ]
  },
  {
   "cell_type": "markdown",
   "metadata": {},
   "source": [
    "Let's first make sure we have the latest version of PHOEBE 2.3 installed. (You can comment out this line if you don't use pip for your installation or don't want to update to the latest release)."
   ]
  },
  {
   "cell_type": "code",
   "execution_count": null,
   "metadata": {},
   "outputs": [],
   "source": [
    "#!pip install -I \"phoebe>=2.3,<2.4\""
   ]
  },
  {
   "cell_type": "markdown",
   "metadata": {
    "collapsed": true
   },
   "source": [
    "As always, let's do imports and initialize a logger and a new Bundle."
   ]
  },
  {
   "cell_type": "code",
   "execution_count": 2,
   "metadata": {},
   "outputs": [],
   "source": [
    "import phoebe\n",
    "from phoebe import u # units\n",
    "import numpy as np\n",
    "import matplotlib.pyplot as plt\n",
    "\n",
    "logger = phoebe.logger()\n",
    "\n",
    "b = phoebe.default_binary()"
   ]
  },
  {
   "cell_type": "markdown",
   "metadata": {
    "collapsed": true
   },
   "source": [
    "**NOTE** extinction parameters were [moved from the dataset to system context in the 2.3 release](./22_23_extinction.ipynb)"
   ]
  },
  {
   "cell_type": "markdown",
   "metadata": {},
   "source": [
    "Relevant Parameters\n",
    "------------------------"
   ]
  },
  {
   "cell_type": "markdown",
   "metadata": {},
   "source": [
    "Extinction is parameterized by 3 parameters: `ebv` (E(B-V)), `Av`, and `Rv`.  Of these three, two can be provided and the other must be constrained.  By default, `ebv` is the constrained parameter.  To change this, see the [tutorial on constraints](constraints.ipynb) and the [b.flip_constraint API docs](../api/phoebe.frontend.bundle.Bundle.flip_constraint.md)."
   ]
  },
  {
   "cell_type": "code",
   "execution_count": 3,
   "metadata": {},
   "outputs": [
    {
     "name": "stdout",
     "output_type": "stream",
     "text": [
      "ParameterSet: 2 parameters\n",
      "C                      ebv@system: 0.0\n",
      "                   ebv@constraint: {Av@system} / {Rv@system}\n"
     ]
    }
   ],
   "source": [
    "print(b.filter(qualifier='ebv'))"
   ]
  },
  {
   "cell_type": "code",
   "execution_count": 4,
   "metadata": {},
   "outputs": [
    {
     "name": "stdout",
     "output_type": "stream",
     "text": [
      "Parameter: ebv@system\n",
      "                       Qualifier: ebv\n",
      "                     Description: Extinction E(B-V)\n",
      "                           Value: 0.0\n",
      "                  Constrained by: Av@system, Rv@system\n",
      "                      Constrains: None\n",
      "                      Related to: Av@system, Rv@system\n",
      "\n"
     ]
    }
   ],
   "source": [
    "print(b.get_parameter(qualifier='ebv', context='system'))"
   ]
  },
  {
   "cell_type": "code",
   "execution_count": 5,
   "metadata": {},
   "outputs": [
    {
     "name": "stdout",
     "output_type": "stream",
     "text": [
      "Constrains (qualifier): ebv\n",
      "Expression in solar units (value): {Av@system} / {Rv@system}\n",
      "Current Result (result): 0.0\n"
     ]
    }
   ],
   "source": [
    "print(b.get_parameter(qualifier='ebv', context='constraint'))"
   ]
  },
  {
   "cell_type": "code",
   "execution_count": 6,
   "metadata": {},
   "outputs": [
    {
     "name": "stdout",
     "output_type": "stream",
     "text": [
      "Parameter: Av@system\n",
      "                       Qualifier: Av\n",
      "                     Description: Extinction Av\n",
      "                           Value: 0.0\n",
      "                  Constrained by: \n",
      "                      Constrains: ebv@system\n",
      "                      Related to: Rv@system, ebv@system\n",
      "\n"
     ]
    }
   ],
   "source": [
    "print(b.get_parameter(qualifier='Av'))"
   ]
  },
  {
   "cell_type": "code",
   "execution_count": 7,
   "metadata": {},
   "outputs": [
    {
     "name": "stdout",
     "output_type": "stream",
     "text": [
      "Parameter: Rv@system\n",
      "                       Qualifier: Rv\n",
      "                     Description: Extinction law parameter\n",
      "                           Value: 3.1\n",
      "                  Constrained by: \n",
      "                      Constrains: ebv@system\n",
      "                      Related to: Av@system, ebv@system\n",
      "\n"
     ]
    }
   ],
   "source": [
    "print(b.get_parameter(qualifier='Rv'))"
   ]
  },
  {
   "cell_type": "markdown",
   "metadata": {},
   "source": [
    "For more details on the contribution of extinction to observables, see the following example scripts:\n",
    "* [Extinction: B-K Binary](../examples/extinction_BK_binary.ipynb) ([Jones+ 2020](http://phoebe-project.org/publications/2020Jones+), Figures 1 and 2)\n",
    "* [Extinction: Eclipse Depth Difference as Function of Temperature](../examples/extinction_eclipse_depth_v_teff.ipynb) ([Jones+ 2020](http://phoebe-project.org/publications/2020Jones+), Figure 3)\n",
    "* [Extinction: White Dwarf - Subdwarf Binary](../examples/extinction_wd_subdwarf.ipynb) ([Jones+ 2020](http://phoebe-project.org/publications/2020Jones+), Figure 4)"
   ]
  },
  {
   "cell_type": "code",
   "execution_count": null,
   "metadata": {},
   "outputs": [],
   "source": []
  }
 ],
 "metadata": {
  "kernelspec": {
   "display_name": "Python 3",
   "language": "python",
   "name": "python3"
  },
  "language_info": {
   "codemirror_mode": {
    "name": "ipython",
    "version": 3
   },
   "file_extension": ".py",
   "mimetype": "text/x-python",
   "name": "python",
   "nbconvert_exporter": "python",
   "pygments_lexer": "ipython3",
   "version": "3.8.2"
  }
 },
 "nbformat": 4,
 "nbformat_minor": 1
}
