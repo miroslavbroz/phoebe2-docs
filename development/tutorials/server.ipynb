{
 "cells": [
  {
   "cell_type": "markdown",
   "metadata": {},
   "source": [
    "Servers: Running Jobs on External Compute Resources\n",
    "============================\n",
    "\n",
    "\n",
    "Setup\n",
    "-----------------------------"
   ]
  },
  {
   "cell_type": "markdown",
   "metadata": {},
   "source": [
    "Let's first make sure we have the latest version of PHOEBE 2.4 installed (uncomment this line if running in an online notebook session such as colab)."
   ]
  },
  {
   "cell_type": "code",
   "execution_count": 1,
   "metadata": {},
   "outputs": [],
   "source": [
    "#!pip install -I \"phoebe>=2.4,<2.5\""
   ]
  },
  {
   "cell_type": "code",
   "execution_count": 2,
   "metadata": {},
   "outputs": [
    {
     "data": {
      "text/plain": [
       "<ParameterSet: 13 parameters | qualifiers: priors_combine, compute, use_server, fatol, adaptive, expose_lnprobabilities, initial_values, xatol, maxiter, maxfev, fit_parameters, priors, comments>"
      ]
     },
     "execution_count": 2,
     "metadata": {},
     "output_type": "execute_result"
    }
   ],
   "source": [
    "import phoebe\n",
    "from phoebe import u # units\n",
    "import numpy as np\n",
    "\n",
    "logger = phoebe.logger('error')\n",
    "\n",
    "b = phoebe.default_binary()\n",
    "b.add_dataset('lc', compute_times=phoebe.linspace(0,1,501))\n",
    "b.add_solver('optimizer.nelder_mead', solver='nm_solver')"
   ]
  },
  {
   "cell_type": "markdown",
   "metadata": {},
   "source": [
    "PHOEBE makes use of [crimpl](http://crimpl.readthedocs.io) as a built-in depedency to manage submitting and monitoring jobs on external compute resources.  In order to make use of one of these server, you must first configure the server within [crimpl](http://crimpl.readthedocs.io) (this only needs to be done once, after which the name of the crimpl server can be referenced from within PHOEBE on your local machine).\n",
    "\n",
    "The available server types include:\n",
    "* [LocalThread](https://crimpl.readthedocs.io/en/latest/LocalThread/)\n",
    "* [RemoteSlurm](https://crimpl.readthedocs.io/en/latest/RemoteSlurm/)\n",
    "* [AWSEC2](https://crimpl.readthedocs.io/en/latest/AWSEC2/)\n",
    "\n",
    "As the configuration for remote servers can differ significantly and to keep this example working for all users, we'll initialize a [LocalThread](https://crimpl.readthedocs.io/en/latest/LocalThread/) server in order to run our compute and solver jobs within MPI while running the rest of the commands in this notebook on a single processor.  Besides the crimpl configuration itself and a few different exposed options in the bundle (which we will briefly overview), the servers can essentially be swapped."
   ]
  },
  {
   "cell_type": "code",
   "execution_count": 3,
   "metadata": {},
   "outputs": [],
   "source": [
    "from phoebe.dependencies import crimpl"
   ]
  },
  {
   "cell_type": "code",
   "execution_count": 4,
   "metadata": {},
   "outputs": [],
   "source": [
    "s = crimpl.LocalThreadServer()"
   ]
  },
  {
   "cell_type": "code",
   "execution_count": 5,
   "metadata": {},
   "outputs": [
    {
     "name": "stdout",
     "output_type": "stream",
     "text": [
      "<LocalThreadServer directory=/home/kyle/crimpl>\n"
     ]
    }
   ],
   "source": [
    "print(s)"
   ]
  },
  {
   "cell_type": "code",
   "execution_count": 6,
   "metadata": {},
   "outputs": [
    {
     "data": {
      "text/plain": [
       "'/home/kyle/.crimpl/servers/local.json'"
      ]
     },
     "execution_count": 6,
     "metadata": {},
     "output_type": "execute_result"
    }
   ],
   "source": [
    "s.save('local', overwrite=True)"
   ]
  },
  {
   "cell_type": "markdown",
   "metadata": {},
   "source": [
    "The name provided when saving the crimpl configuration is the same name that we will reference later in PHOEBE as `crimpl_name`.  This keeps all the server configuration and potential sensitive information out of the bundle or so that the bundle (or notebook) can safely be saved and shared, while also not requiring the servers to be re-configured in each case.  If `crimpl_name` is not available from `crimpl` on the local machine, an error will be raised and the server can easily be configured or swapped."
   ]
  },
  {
   "cell_type": "markdown",
   "metadata": {},
   "source": [
    "Servers in the Bundle\n",
    "-------------------------------\n",
    "\n",
    "Servers in the bundle are added and managed as any other set of options via [b.add_server](../api/phoebe.frontend.bundle.Bundle.add_server.md) and with \"kinds\" for each of the supported crimpl server types listed above:\n",
    "\n",
    "* [localthread](../api/phoebe.parameters.server.localthread.md)\n",
    "* [remoteslurm](../api/phoebe.parameters.server.remoteslurm.md)\n",
    "* [awsec2](../api/phoebe.parameters.server.awsec2.md)"
   ]
  },
  {
   "cell_type": "code",
   "execution_count": 7,
   "metadata": {},
   "outputs": [
    {
     "data": {
      "text/plain": [
       "<ParameterSet: 7 parameters | qualifiers: conda_env, use_mpi, nprocs, install_deps, crimpl_name, use_conda, isolate_env>"
      ]
     },
     "execution_count": 7,
     "metadata": {},
     "output_type": "execute_result"
    }
   ],
   "source": [
    "b.add_server('localthread', crimpl_name='local',\n",
    "             server='mylocalserver', overwrite=True)"
   ]
  },
  {
   "cell_type": "code",
   "execution_count": 9,
   "metadata": {},
   "outputs": [
    {
     "name": "stdout",
     "output_type": "stream",
     "text": [
      "ParameterSet: 5 parameters\n",
      "   crimpl_name@mylocalserver@s...: local\n",
      "   use_conda@mylocalserver@server: False\n",
      "     use_mpi@mylocalserver@server: True\n",
      "      nprocs@mylocalserver@server: 4\n",
      "   install_deps@mylocalserver@...: True\n"
     ]
    }
   ],
   "source": [
    "print(b.get_server('mylocalserver'))"
   ]
  },
  {
   "cell_type": "markdown",
   "metadata": {},
   "source": [
    "In this case, we'll skip having crimpl install the necessary dependencies, as we know they are already installed.  If running PHOEBE in a conda environment locally, you could set `use_conda=True` and reference the same conda environment in the then-exposed `conda_env` parameter."
   ]
  },
  {
   "cell_type": "code",
   "execution_count": 10,
   "metadata": {},
   "outputs": [],
   "source": [
    "b.set_value('install_deps', False)"
   ]
  },
  {
   "cell_type": "markdown",
   "metadata": {},
   "source": [
    "use_server parameters\n",
    "--------------------------\n",
    "\n",
    "compute and solver options both have `use_server` parameters that will then dictate how [b.run_compute](../api/phoebe.frontend.bundle.Bundle.run_compute.md) and [b.run_solver](../api/phoebe.frontend.bundle.Bundle.run_solver.md) should handle running on external resources.  \n",
    "\n",
    "If 'none' (as by default), the job is run in the current thread.  `use_server` in solver options are set to 'compute' by default, which means they will fallback on the `use_server` parameter in the referenced compute options."
   ]
  },
  {
   "cell_type": "code",
   "execution_count": 11,
   "metadata": {},
   "outputs": [
    {
     "name": "stdout",
     "output_type": "stream",
     "text": [
      "ParameterSet: 2 parameters\n",
      "      use_server@phoebe01@compute: none\n",
      "      use_server@nm_solver@solver: compute\n"
     ]
    }
   ],
   "source": [
    "print(b.filter(qualifier='use_server'))"
   ]
  },
  {
   "cell_type": "markdown",
   "metadata": {},
   "source": [
    "So in this case, if running the `nm_solver`, PHOEBE will use the solver options for the `phoebe01` compute options."
   ]
  },
  {
   "cell_type": "code",
   "execution_count": 12,
   "metadata": {},
   "outputs": [
    {
     "name": "stdout",
     "output_type": "stream",
     "text": [
      "ParameterSet: 1 parameters\n",
      "         compute@nm_solver@solver: phoebe01\n"
     ]
    }
   ],
   "source": [
    "print(b.filter(qualifier='compute'))"
   ]
  },
  {
   "cell_type": "markdown",
   "metadata": {},
   "source": [
    "As with any other parameter in compute or solver options, these can either be set or overridden as keyword arguments when calling [b.run_compute](../api/phoebe.frontend.bundle.Bundle.run_compute.md) and [b.run_solver](../api/phoebe.frontend.bundle.Bundle.run_solver.md), respectively."
   ]
  },
  {
   "cell_type": "markdown",
   "metadata": {},
   "source": [
    "Running External Jobs with crimpl\n",
    "--------------------------------\n",
    "\n",
    "There are several different use-cases for running compute or solver jobs on external servers\n",
    "\n",
    "### 1. wait and load results automatically\n",
    "\n",
    "As always, we can send kwargs to `run_compute` or `run_solver` to override any compute/solver options.  Here we can pass the server tag (note: this is the PHOEBE server tag, not the crimpl server name) to `run_compute` overriding the `use_server` parameter, which then looks up the server options, loads the corresponding crimpl object, and passes the job to the remote (albeit not so remote in this case) machine."
   ]
  },
  {
   "cell_type": "code",
   "execution_count": 13,
   "metadata": {},
   "outputs": [
    {
     "name": "stdout",
     "output_type": "stream",
     "text": [
      "# crimpl: ls -d /home/kyle/crimpl/crimpl-job-*\n",
      "# crimpl: ls /home/kyle/crimpl/crimpl-job-2021.05.06-13.36.45/*\n",
      "# crimpl: mkdir -p /home/kyle/crimpl\n",
      "# crimpl: cp exportpath.sh /home/kyle/crimpl/\n",
      "# crimpl: source /home/kyle/crimpl/exportpath.sh; conda -V\n",
      "# crimpl: source /home/kyle/crimpl/exportpath.sh; mkdir -p /home/kyle/crimpl/crimpl-job-2021.05.06-13.36.45\n",
      "# crimpl: cp crimpl_submit_script.sh /home/kyle/research/phoebe_git/phoebe2-docs/tutorials/_HNSWQEFBBgKUsfeGXekjkKpZYGiIDC.py /home/kyle/crimpl/crimpl-job-2021.05.06-13.36.45/\n",
      "# crimpl: source /home/kyle/crimpl/exportpath.sh; echo '_HNSWQEFBBgKUsfeGXekjkKpZYGiIDC.py' >> /home/kyle/crimpl/crimpl-job-2021.05.06-13.36.45/crimpl-input-files.list\n",
      "# crimpl: source /home/kyle/crimpl/exportpath.sh; echo 'False' > /home/kyle/crimpl/crimpl-job-2021.05.06-13.36.45/crimpl-conda-environment\n",
      "# crimpl (detached): source /home/kyle/crimpl/exportpath.sh; cd /home/kyle/crimpl/crimpl-job-2021.05.06-13.36.45; chmod +x ./crimpl_submit_script.sh; nohup bash ./crimpl_submit_script.sh 2>&1 & echo $! > crimpl-nohup.pid\n",
      "# crimpl: ls -d /home/kyle/crimpl/crimpl-job-*\n",
      "# crimpl: cat /home/kyle/crimpl/crimpl-job-2021.05.06-13.36.45/crimpl-job.status\n",
      "# crimpl: cat /home/kyle/crimpl/crimpl-job-2021.05.06-13.36.45/crimpl-job.status\n",
      "# crimpl: ls /home/kyle/crimpl/crimpl-job-2021.05.06-13.36.45/*\n",
      "# crimpl: ls /home/kyle/crimpl/crimpl-job-2021.05.06-13.36.45/*\n",
      "# crimpl: cp /home/kyle/crimpl/crimpl-job-2021.05.06-13.36.45/_HNSWQEFBBgKUsfeGXekjkKpZYGiIDC.out ./\n"
     ]
    },
    {
     "data": {
      "text/plain": [
       "<ParameterSet: 3 parameters | qualifiers: comments, fluxes, times>"
      ]
     },
     "execution_count": 13,
     "metadata": {},
     "output_type": "execute_result"
    }
   ],
   "source": [
    "b.run_compute(use_server='mylocalserver')"
   ]
  },
  {
   "cell_type": "code",
   "execution_count": 14,
   "metadata": {},
   "outputs": [
    {
     "data": {
      "image/png": "[encoded data removed]",
      "text/plain": [
       "<Figure size 576x432 with 1 Axes>"
      ]
     },
     "metadata": {
      "needs_background": "light"
     },
     "output_type": "display_data"
    }
   ],
   "source": [
    "_ = b.plot(show=True)"
   ]
  },
  {
   "cell_type": "markdown",
   "metadata": {},
   "source": [
    "### 2. detach and monitor/retrieve results \n",
    "\n",
    "For long jobs, we can submit the job and immediately detach from `run_compute` or `run_solver`.  This results in a a \"Job Parameter\" in the model or solution holding the necessary information to check the progress and retrieve the results at any time in the future. "
   ]
  },
  {
   "cell_type": "code",
   "execution_count": 15,
   "metadata": {},
   "outputs": [
    {
     "name": "stdout",
     "output_type": "stream",
     "text": [
      "# crimpl: ls -d /home/kyle/crimpl/crimpl-job-*\n",
      "# crimpl: ls /home/kyle/crimpl/crimpl-job-2021.05.06-13.36.55/*\n",
      "# crimpl: source /home/kyle/crimpl/exportpath.sh; conda -V\n",
      "# crimpl: source /home/kyle/crimpl/exportpath.sh; mkdir -p /home/kyle/crimpl/crimpl-job-2021.05.06-13.36.55\n",
      "# crimpl: cp crimpl_submit_script.sh /home/kyle/research/phoebe_git/phoebe2-docs/tutorials/_KSeBWOzxpVtkYbWXvLANIsUoHZHjzm.py /home/kyle/crimpl/crimpl-job-2021.05.06-13.36.55/\n",
      "# crimpl: source /home/kyle/crimpl/exportpath.sh; echo '_KSeBWOzxpVtkYbWXvLANIsUoHZHjzm.py' >> /home/kyle/crimpl/crimpl-job-2021.05.06-13.36.55/crimpl-input-files.list\n",
      "# crimpl: source /home/kyle/crimpl/exportpath.sh; echo 'False' > /home/kyle/crimpl/crimpl-job-2021.05.06-13.36.55/crimpl-conda-environment\n",
      "# crimpl (detached): source /home/kyle/crimpl/exportpath.sh; cd /home/kyle/crimpl/crimpl-job-2021.05.06-13.36.55; chmod +x ./crimpl_submit_script.sh; nohup bash ./crimpl_submit_script.sh 2>&1 & echo $! > crimpl-nohup.pid\n"
     ]
    },
    {
     "data": {
      "text/plain": [
       "<Parameter: detached_job=unknown | keys: description, value, job_name, uniqueid, readonly, advanced, latexfmt>"
      ]
     },
     "execution_count": 15,
     "metadata": {},
     "output_type": "execute_result"
    }
   ],
   "source": [
    "b.run_compute(use_server='mylocalserver', detach=True)"
   ]
  },
  {
   "cell_type": "code",
   "execution_count": 16,
   "metadata": {},
   "outputs": [
    {
     "name": "stdout",
     "output_type": "stream",
     "text": [
      "ParameterSet: 2 parameters\n",
      "R       detached_job@latest@model: unknown\n",
      "            comments@latest@model: \n"
     ]
    }
   ],
   "source": [
    "print(b.get_model())"
   ]
  },
  {
   "cell_type": "markdown",
   "metadata": {},
   "source": [
    "We can now (optionally) save the bundle, turn off our local machine, start a new python session, load the bundle, and all necessary information to check the job's status and retrieve results are handled automatically (with job information in the detached_job parameter and server setup/credentials in the crimpl configuration to avoid any security concerns when sharing bundles)."
   ]
  },
  {
   "cell_type": "code",
   "execution_count": 17,
   "metadata": {},
   "outputs": [],
   "source": [
    "b.save('running_job.phoebe')\n",
    "\n",
    "import phoebe\n",
    "b = phoebe.open('running_job.phoebe')"
   ]
  },
  {
   "cell_type": "markdown",
   "metadata": {},
   "source": [
    "Depending on how long we expect the job to take, we have a number of available methods we can call to act on this detached job parameter:\n",
    "\n",
    "* [b.get_job_status](../api/phoebe.frontend.bundle.Bundle.get_job_status.md)\n",
    "* [b.get_job_crimpl_object](../api/phoebe.frontend.bundle.Bundle.get_job_crimpl_object.md)\n",
    "* [b.attach_job](../api/phoebe.frontend.bundle.Bundle.attach_job.md)\n",
    "* [b.load_job_progress](../api/phoebe.frontend.bundle.Bundle.load_job_progress.md)\n",
    "* [b.kill_job](../api/phoebe.frontend.bundle.Bundle.kill_job.md)\n",
    "* [b.resubmit_job](../api/phoebe.frontend.bundle.Bundle.resubmit_job.md)\n",
    "\n",
    "Here we'll call [b.attach_job](../api/phoebe.frontend.bundle.Bundle.attach_job.md), which will re-enter the loop waiting for the job to complete and then load the results."
   ]
  },
  {
   "cell_type": "code",
   "execution_count": 18,
   "metadata": {},
   "outputs": [
    {
     "name": "stdout",
     "output_type": "stream",
     "text": [
      "# crimpl: ls -d /home/kyle/crimpl/crimpl-job-*\n",
      "# crimpl: cat /home/kyle/crimpl/crimpl-job-2021.05.06-13.36.55/crimpl-job.status\n",
      "# crimpl: cat /home/kyle/crimpl/crimpl-job-2021.05.06-13.36.55/crimpl-job.status\n",
      "# crimpl: cat /home/kyle/crimpl/crimpl-job-2021.05.06-13.36.55/crimpl-job.status\n",
      "# crimpl: ls /home/kyle/crimpl/crimpl-job-2021.05.06-13.36.55/*\n",
      "# crimpl: ls /home/kyle/crimpl/crimpl-job-2021.05.06-13.36.55/*\n",
      "# crimpl: cp /home/kyle/crimpl/crimpl-job-2021.05.06-13.36.55/_KSeBWOzxpVtkYbWXvLANIsUoHZHjzm.out ./\n"
     ]
    },
    {
     "data": {
      "text/plain": [
       "<ParameterSet: 3 parameters | qualifiers: comments, fluxes, times>"
      ]
     },
     "execution_count": 18,
     "metadata": {},
     "output_type": "execute_result"
    }
   ],
   "source": [
    "b.attach_job()"
   ]
  },
  {
   "cell_type": "markdown",
   "metadata": {},
   "source": [
    "### 3. export script and submit manually\n",
    "\n",
    "And lastly, for cases where we want to run the job later or _from_ a different machine, we can call [b.export_compute](../api/phoebe.frontend.bundle.Bundle.export_compute.md) (or [b.export_solver](../api/phoebe.frontend.bundle.Bundle.export_solver.md)).  If `use_server` is 'none', this exports the python script directly.  If `use_server` is not 'none', this exports a script which accepts the following command-line options:\n",
    "\n",
    "* `export_compute_to_server.py submit` to submit the job to the server according to the set options\n",
    "* `export_compute_to_server.py status` to query the status of the job on the remote server\n",
    "* `export_compute_to_server.py wait` to query the status until complete or failed\n",
    "* `export_compute_to_server.py output` to retrieve the results\n",
    "* `export_compute_to_server.py kill` to terminate a job before it completes\n",
    "* `export_compute_to_server.py continue` to continue a job.  Only supported for solvers that have a `continue_from` parameter.\n",
    "\n",
    "Once the job is complete and the results retrieved, we can then call [b.import_model](../api/phoebe.frontend.bundle.Bundle.import_model.md) (or [b.import_solution](../api/phoebe.frontend.bundle.Bundle.import_solution.md))."
   ]
  },
  {
   "cell_type": "code",
   "execution_count": 19,
   "metadata": {},
   "outputs": [],
   "source": [
    "script_fname, results_fname = b.export_compute('export_compute_to_server.py', \n",
    "                                               use_server='mylocalserver')"
   ]
  },
  {
   "cell_type": "markdown",
   "metadata": {},
   "source": [
    "Note that the top of this file includes the `crimpl` options themselves, allowing the script to easily be modified to change the compute resources (particularly handy if sharing this file with a collaborator)."
   ]
  },
  {
   "cell_type": "code",
   "execution_count": 20,
   "metadata": {},
   "outputs": [
    {
     "name": "stdout",
     "output_type": "stream",
     "text": [
      "crimpl_name = 'local'\r\n",
      "nprocs = 4\r\n",
      "use_mpi = True\r\n",
      "use_conda = False\r\n",
      "conda_env = 'default'\r\n",
      "install_deps = False\r\n",
      "job_name = '2021.05.06-13.37.07'\r\n",
      "server_options = {'isolate_env': False}\r\n",
      "\r\n",
      "\r\n"
     ]
    }
   ],
   "source": [
    "!head export_compute_to_server.py"
   ]
  },
  {
   "cell_type": "markdown",
   "metadata": {},
   "source": [
    "If we just call the exported script, we'll see that it provides the available command-line arguments."
   ]
  },
  {
   "cell_type": "code",
   "execution_count": 22,
   "metadata": {},
   "outputs": [
    {
     "name": "stdout",
     "output_type": "stream",
     "text": [
      "usage: export_compute_to_server.py [submit, status, wait, output, kill]\r\n"
     ]
    }
   ],
   "source": [
    "!python3 export_compute_to_server.py"
   ]
  },
  {
   "cell_type": "markdown",
   "metadata": {},
   "source": [
    "We can now use these command line arguments to submit the script, check its status, wait for it to complete, and retrieve any output files."
   ]
  },
  {
   "cell_type": "code",
   "execution_count": 23,
   "metadata": {},
   "outputs": [
    {
     "name": "stdout",
     "output_type": "stream",
     "text": [
      "# crimpl: ls -d /home/kyle/crimpl/crimpl-job-*\n",
      "# crimpl: ls -d /home/kyle/crimpl/crimpl-job-*\n",
      "# crimpl: ls /home/kyle/crimpl/crimpl-job-2021.05.06-13.37.07/*\n",
      "# crimpl: mkdir -p /home/kyle/crimpl\n",
      "# crimpl: cp exportpath.sh /home/kyle/crimpl/\n",
      "# crimpl: source /home/kyle/crimpl/exportpath.sh; conda -V\n",
      "# crimpl: source /home/kyle/crimpl/exportpath.sh; mkdir -p /home/kyle/crimpl/crimpl-job-2021.05.06-13.37.07\n",
      "# crimpl: cp crimpl_submit_script.sh /home/kyle/crimpl/crimpl-job-2021.05.06-13.37.07/\n",
      "# crimpl: source /home/kyle/crimpl/exportpath.sh; echo 'server_tmp_script.py' >> /home/kyle/crimpl/crimpl-job-2021.05.06-13.37.07/crimpl-input-files.list\n",
      "# crimpl: source /home/kyle/crimpl/exportpath.sh; echo 'False' > /home/kyle/crimpl/crimpl-job-2021.05.06-13.37.07/crimpl-conda-environment\n",
      "# crimpl (detached): source /home/kyle/crimpl/exportpath.sh; cd /home/kyle/crimpl/crimpl-job-2021.05.06-13.37.07; chmod +x ./crimpl_submit_script.sh; nohup bash ./crimpl_submit_script.sh 2>&1 & echo $! > crimpl-nohup.pid\n",
      "nohup: appending output to 'nohup.out'\n"
     ]
    }
   ],
   "source": [
    "!python3 export_compute_to_server.py submit"
   ]
  },
  {
   "cell_type": "code",
   "execution_count": 24,
   "metadata": {},
   "outputs": [
    {
     "name": "stdout",
     "output_type": "stream",
     "text": [
      "# crimpl: ls -d /home/kyle/crimpl/crimpl-job-*\n",
      "# crimpl: cat /home/kyle/crimpl/crimpl-job-2021.05.06-13.37.07/crimpl-job.status\n",
      "# crimpl: job_status=running\n",
      "# crimpl: cat /home/kyle/crimpl/crimpl-job-2021.05.06-13.37.07/crimpl-job.status\n",
      "# crimpl: job_status=running\n",
      "# crimpl: cat /home/kyle/crimpl/crimpl-job-2021.05.06-13.37.07/crimpl-job.status\n",
      "# crimpl: job_status=complete\n"
     ]
    }
   ],
   "source": [
    "!python3 export_compute_to_server.py wait"
   ]
  },
  {
   "cell_type": "code",
   "execution_count": 25,
   "metadata": {},
   "outputs": [
    {
     "name": "stdout",
     "output_type": "stream",
     "text": [
      "# crimpl: ls -d /home/kyle/crimpl/crimpl-job-*\r\n",
      "# crimpl: ls /home/kyle/crimpl/crimpl-job-2021.05.06-13.37.07/*\r\n",
      "# crimpl: cat /home/kyle/crimpl/crimpl-job-2021.05.06-13.37.07/crimpl-input-files.list\r\n",
      "# crimpl: cp /home/kyle/crimpl/crimpl-job-2021.05.06-13.37.07/export_compute_to_server.py.out ./\r\n",
      "# crimpl: cp /home/kyle/crimpl/crimpl-job-2021.05.06-13.37.07/nohup.out ./\r\n",
      "['export_compute_to_server.py.out', 'nohup.out']\r\n"
     ]
    }
   ],
   "source": [
    "!python3 export_compute_to_server.py output"
   ]
  },
  {
   "cell_type": "code",
   "execution_count": 26,
   "metadata": {},
   "outputs": [
    {
     "data": {
      "text/plain": [
       "<ParameterSet: 3 parameters | qualifiers: comments, fluxes, times>"
      ]
     },
     "execution_count": 26,
     "metadata": {},
     "output_type": "execute_result"
    }
   ],
   "source": [
    "b.import_model('export_compute_to_server.py.out', overwrite=True)"
   ]
  },
  {
   "cell_type": "markdown",
   "metadata": {},
   "source": [
    "Exporting External Jobs without crimpl\n",
    "------------------------------\n",
    "\n",
    "Alternatively, you can always call [b.export_compute](../api/phoebe.frontend.bundle.Bundle.export_compute.md) (or [b.export_solver](../api/phoebe.frontend.bundle.Bundle.export_solver.md)) with `use_server='none'`, in which case the returned script does not use `crimpl` at all but rather can be manually copied to any machine, run or submit to any type of scheduler, and have the results manually copied back and imported.  If the implemented crimpl configurations do not meet your setup or you would just rather have fine control over the submission of the script, then this is your best bet.\n",
    "\n",
    "In this case, you can still save and load the bundle and import the model or solution - but you're responsible for keeping track of filenames, dependencies, and monitoring the status of external threads."
   ]
  },
  {
   "cell_type": "code",
   "execution_count": 27,
   "metadata": {},
   "outputs": [],
   "source": [
    "script_fname, results_fname = b.export_compute('export_compute.py', \n",
    "                                               use_server='none')"
   ]
  },
  {
   "cell_type": "code",
   "execution_count": 28,
   "metadata": {},
   "outputs": [
    {
     "name": "stdout",
     "output_type": "stream",
     "text": [
      "model_ps = b.run_compute(out_fname=sys.argv[0]+'.out', use_server='none', in_export_script=True, compute=['phoebe01'],model='latest',dataset=None,do_create_fig_params=False);\r\n",
      "b.filter(context='model', model=model_ps.model, check_visible=False).save(sys.argv[0]+'.out', incl_uniqueid=True);\r\n",
      "# NOTE: this script only includes parameters needed to call the requested run_compute, edit manually with caution!\r\n"
     ]
    }
   ],
   "source": [
    "!tail -3 export_compute.py"
   ]
  },
  {
   "cell_type": "code",
   "execution_count": 29,
   "metadata": {},
   "outputs": [
    {
     "name": "stdout",
     "output_type": "stream",
     "text": [
      "100%|█████████████████████████████████████████| 501/501 [00:07<00:00, 70.10it/s]\n"
     ]
    }
   ],
   "source": [
    "!python3 export_compute.py"
   ]
  },
  {
   "cell_type": "code",
   "execution_count": 30,
   "metadata": {},
   "outputs": [
    {
     "data": {
      "text/plain": [
       "<ParameterSet: 3 parameters | qualifiers: comments, fluxes, times>"
      ]
     },
     "execution_count": 30,
     "metadata": {},
     "output_type": "execute_result"
    }
   ],
   "source": [
    "b.import_model(results_fname, overwrite=True)"
   ]
  },
  {
   "cell_type": "markdown",
   "metadata": {},
   "source": [
    "Next\n",
    "----------\n",
    "\n",
    "That's it!! You've completed all the basic tutorials.  Now give PHOEBE a try or dig into some of the [advanced tutorials](../tutorials.md) and [example scripts](../examples.md).\n",
    "\n"
   ]
  }
 ],
 "metadata": {
  "kernelspec": {
   "display_name": "Python 3",
   "language": "python",
   "name": "python3"
  },
  "language_info": {
   "codemirror_mode": {
    "name": "ipython",
    "version": 3
   },
   "file_extension": ".py",
   "mimetype": "text/x-python",
   "name": "python",
   "nbconvert_exporter": "python",
   "pygments_lexer": "ipython3",
   "version": "3.8.5"
  }
 },
 "nbformat": 4,
 "nbformat_minor": 1
}
