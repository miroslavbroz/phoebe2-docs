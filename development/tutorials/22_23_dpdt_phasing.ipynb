{
 "cells": [
  {
   "cell_type": "markdown",
   "metadata": {},
   "source": [
    "2.2 - 2.3 Migration: phasing in time-dependent systems\n",
    "============================\n",
    "\n",
    "The equations used in [b.to_time](../api/phoebe.frontend.bundle.Bundle.to_time.md) and [b.to_phase](../api/phoebe.frontend.bundle.Bundle.to_phase.md) for cases where `dpdt != 0.0` were incorrect.  These have no been fixed.  In addition, it is now possible to override the `dpdt` used in phasing (including by passing `dpdt=0.0` to ignore `dpdt` entirely) when calling [b.to_time](../api/phoebe.frontend.bundle.Bundle.to_time.md), [b.to_phase](../api/phoebe.frontend.bundle.Bundle.to_phase.md), [b.get_ephemeris](../api/phoebe.frontend.bundle.Bundle.get_ephemeris.md), or when plotting in phase via [b.plot](../api/phoebe.parameters.ParameterSet.plot.md).\n",
    "\n",
    "See also:\n",
    "\n",
    "* [dpdt](dpdt.ipynb)\n",
    "* [mask_phases](mask_phases.ipynb)\n",
    "* [compute times & phases](compute_times_phases.ipynb)"
   ]
  },
  {
   "cell_type": "code",
   "execution_count": null,
   "metadata": {},
   "outputs": [],
   "source": []
  }
 ],
 "metadata": {
  "kernelspec": {
   "display_name": "Python 3",
   "language": "python",
   "name": "python3"
  },
  "language_info": {
   "codemirror_mode": {
    "name": "ipython",
    "version": 3
   },
   "file_extension": ".py",
   "mimetype": "text/x-python",
   "name": "python",
   "nbconvert_exporter": "python",
   "pygments_lexer": "ipython3",
   "version": "3.8.2"
  }
 },
 "nbformat": 4,
 "nbformat_minor": 2
}
