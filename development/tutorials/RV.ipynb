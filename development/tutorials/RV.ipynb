{
 "cells": [
  {
   "cell_type": "markdown",
   "metadata": {},
   "source": [
    "'rv' Datasets and Options\n",
    "============================\n",
    "\n",
    "Setup\n",
    "-----------------------------"
   ]
  },
  {
   "cell_type": "markdown",
   "metadata": {},
   "source": [
    "Let's first make sure we have the latest version of PHOEBE 2.2 installed. (You can comment out this line if you don't use pip for your installation or don't want to update to the latest release)."
   ]
  },
  {
   "cell_type": "code",
   "execution_count": null,
   "metadata": {},
   "outputs": [],
   "source": [
    "!pip install -I \"phoebe>=2.2,<2.3\""
   ]
  },
  {
   "cell_type": "markdown",
   "metadata": {
    "collapsed": true
   },
   "source": [
    "As always, let's do imports and initialize a logger and a new Bundle.  See [Building a System](building_a_system.ipynb) for more details."
   ]
  },
  {
   "cell_type": "code",
   "execution_count": 1,
   "metadata": {},
   "outputs": [],
   "source": [
    "%matplotlib inline"
   ]
  },
  {
   "cell_type": "code",
   "execution_count": 2,
   "metadata": {},
   "outputs": [],
   "source": [
    "import phoebe\n",
    "from phoebe import u # units\n",
    "\n",
    "logger = phoebe.logger()\n",
    "\n",
    "b = phoebe.default_binary()"
   ]
  },
  {
   "cell_type": "markdown",
   "metadata": {
    "collapsed": true
   },
   "source": [
    "Dataset Parameters\n",
    "--------------------------\n",
    "\n",
    "Let's add an RV dataset to the Bundle (see also the [rv API docs](../api/phoebe.parameters.dataset.rv.md)).  Some parameters are only visible based on the values of other parameters, so we'll pass `check_visible=False` (see the [filter API docs](../api/phoebe.parameters.ParameterSet.filter.md) for more details).  These visibility rules will be explained below."
   ]
  },
  {
   "cell_type": "code",
   "execution_count": 3,
   "metadata": {},
   "outputs": [
    {
     "name": "stdout",
     "output_type": "stream",
     "text": [
      "ParameterSet: 19 parameters\n",
      "      compute_times@rv01@dataset: [] d\n",
      "*    compute_phases@rv01@dataset: []\n",
      "  compute_phases_t0@rv01@dataset: t0_supconj\n",
      "           passband@rv01@dataset: Johnson:V\n",
      "   intens_weighting@rv01@dataset: energy\n",
      "      times@primary@rv01@dataset: [] d\n",
      "    times@secondary@rv01@dataset: [] d\n",
      "        rvs@primary@rv01@dataset: [] km / s\n",
      "      rvs@secondary@rv01@dataset: [] km / s\n",
      "     sigmas@primary@rv01@dataset: [] km / s\n",
      "   sigmas@secondary@rv01@dataset: [] km / s\n",
      "    ld_mode@primary@rv01@dataset: interp\n",
      "  ld_mode@secondary@rv01@dataset: interp\n",
      "    ld_func@primary@rv01@dataset: logarithmic\n",
      "  ld_func@secondary@rv01@dataset: logarithmic\n",
      "  ld_coeffs_source@primary@rv...: auto\n",
      "  ld_coeffs_source@secondary@...: auto\n",
      "  ld_coeffs@primary@rv01@dataset: [0.5 0.5]\n",
      "  ld_coeffs@secondary@rv01@da...: [0.5 0.5]\n"
     ]
    }
   ],
   "source": [
    "b.add_dataset('rv')\n",
    "print(b.get_dataset(kind='rv', check_visible=False))"
   ]
  },
  {
   "cell_type": "markdown",
   "metadata": {},
   "source": [
    "For information on the included passband-dependent parameters (not mentioned below), see the section on the [lc dataset](LC.ipynb) (these are used only to compute fluxes when `rv_method` is 'flux-weighted')"
   ]
  },
  {
   "cell_type": "markdown",
   "metadata": {},
   "source": [
    "### times"
   ]
  },
  {
   "cell_type": "code",
   "execution_count": 4,
   "metadata": {},
   "outputs": [
    {
     "name": "stdout",
     "output_type": "stream",
     "text": [
      "Parameter: times@primary@rv01@dataset\n",
      "                       Qualifier: times\n",
      "                     Description: Observed times\n",
      "                           Value: [] d\n",
      "                  Constrained by: \n",
      "                      Constrains: None\n",
      "                      Related to: None\n",
      "\n"
     ]
    }
   ],
   "source": [
    "print(b.get_parameter(qualifier='times', component='primary'))"
   ]
  },
  {
   "cell_type": "markdown",
   "metadata": {},
   "source": [
    "### rvs\n",
    "\n",
    "The `rvs` parameter is only visible if the respective `times` parameter is not empty."
   ]
  },
  {
   "cell_type": "code",
   "execution_count": 5,
   "metadata": {},
   "outputs": [],
   "source": [
    "b.set_value('times', component='primary', value=[0])"
   ]
  },
  {
   "cell_type": "code",
   "execution_count": 6,
   "metadata": {},
   "outputs": [
    {
     "name": "stdout",
     "output_type": "stream",
     "text": [
      "Parameter: rvs@primary@rv01@dataset\n",
      "                       Qualifier: rvs\n",
      "                     Description: Observed radial velocity\n",
      "                           Value: [] km / s\n",
      "                  Constrained by: \n",
      "                      Constrains: None\n",
      "                      Related to: None\n",
      "                 Only visible if: times:<notempty>\n",
      "\n"
     ]
    }
   ],
   "source": [
    "print(b.get_parameter(qualifier='rvs', component='primary'))"
   ]
  },
  {
   "cell_type": "markdown",
   "metadata": {},
   "source": [
    "### sigmas"
   ]
  },
  {
   "cell_type": "markdown",
   "metadata": {},
   "source": [
    "The `sigmas` parameter is also only visible if the respective `times` parameter is not empty."
   ]
  },
  {
   "cell_type": "code",
   "execution_count": 7,
   "metadata": {},
   "outputs": [
    {
     "name": "stdout",
     "output_type": "stream",
     "text": [
      "Parameter: sigmas@primary@rv01@dataset\n",
      "                       Qualifier: sigmas\n",
      "                     Description: Observed uncertainty on rv\n",
      "                           Value: [] km / s\n",
      "                  Constrained by: \n",
      "                      Constrains: None\n",
      "                      Related to: None\n",
      "                 Only visible if: times:<notempty>\n",
      "\n"
     ]
    }
   ],
   "source": [
    "print(b.get_parameter(qualifier='sigmas', component='primary'))"
   ]
  },
  {
   "cell_type": "markdown",
   "metadata": {},
   "source": [
    "### compute_times / compute_phases\n",
    "\n",
    "See the [Compute Times & Phases tutorial](compute_times_phases.ipynb)."
   ]
  },
  {
   "cell_type": "code",
   "execution_count": 8,
   "metadata": {},
   "outputs": [
    {
     "name": "stdout",
     "output_type": "stream",
     "text": [
      "Parameter: compute_times@rv01@dataset\n",
      "                       Qualifier: compute_times\n",
      "                     Description: Times to use during run_compute.  If empty, will use times parameter\n",
      "                           Value: [] d\n",
      "                  Constrained by: \n",
      "                      Constrains: compute_phases@rv01@dataset\n",
      "                      Related to: period@binary@component, dpdt@binary@component, compute_phases_t0@rv01@dataset, t0_supconj@binary@component, t0_perpass@binary@component, t0_ref@binary@component, compute_phases@rv01@dataset\n",
      "\n"
     ]
    }
   ],
   "source": [
    "print(b.get_parameter(qualifier='compute_times'))"
   ]
  },
  {
   "cell_type": "code",
   "execution_count": 9,
   "metadata": {},
   "outputs": [
    {
     "name": "stdout",
     "output_type": "stream",
     "text": [
      "Parameter: compute_phases@rv01@dataset\n",
      "                       Qualifier: compute_phases\n",
      "                     Description: Phases associated with compute_times.\n",
      "                           Value: []\n",
      "                  Constrained by: compute_times@rv01@dataset, period@binary@component, dpdt@binary@component, compute_phases_t0@rv01@dataset, t0_supconj@binary@component, t0_perpass@binary@component, t0_ref@binary@component\n",
      "                      Constrains: None\n",
      "                      Related to: compute_times@rv01@dataset, period@binary@component, dpdt@binary@component, compute_phases_t0@rv01@dataset, t0_supconj@binary@component, t0_perpass@binary@component, t0_ref@binary@component\n",
      "\n"
     ]
    }
   ],
   "source": [
    "print(b.get_parameter(qualifier='compute_phases', context='dataset'))"
   ]
  },
  {
   "cell_type": "code",
   "execution_count": 10,
   "metadata": {},
   "outputs": [
    {
     "name": "stdout",
     "output_type": "stream",
     "text": [
      "Parameter: compute_phases_t0@rv01@dataset\n",
      "                       Qualifier: compute_phases_t0\n",
      "                     Description: t0 to use when converting between compute_times and compute_phases.\n",
      "                           Value: t0_supconj\n",
      "                         Choices: t0_supconj, t0_perpass, t0_ref\n",
      "                  Constrained by: \n",
      "                      Constrains: compute_phases@rv01@dataset\n",
      "                      Related to: compute_times@rv01@dataset, period@binary@component, dpdt@binary@component, t0_supconj@binary@component, t0_perpass@binary@component, t0_ref@binary@component, compute_phases@rv01@dataset\n",
      "                 Only visible if: hierarchy.is_meshable:False\n",
      "\n"
     ]
    }
   ],
   "source": [
    "print(b.get_parameter(qualifier='compute_phases_t0'))"
   ]
  },
  {
   "cell_type": "markdown",
   "metadata": {},
   "source": [
    "Compute Options\n",
    "------------------\n",
    "\n",
    "Let's look at the compute options (for the default PHOEBE 2 backend) that relate to the RV dataset.\n",
    "\n",
    "Other compute options are covered elsewhere:\n",
    "* parameters related to dynamics are explained in the section on the [orb dataset](ORB.ipynb)\n",
    "* parameters related to meshing, eclipse detection, and subdivision (used if `rv_method`=='flux-weighted') are explained in the section on the [mesh dataset](MESH.ipynb)\n",
    "* parameters related to computing fluxes (used if `rv_method`=='flux-weighted') are explained in the section on the [lc dataset](LC.ipynb)"
   ]
  },
  {
   "cell_type": "code",
   "execution_count": 11,
   "metadata": {},
   "outputs": [
    {
     "name": "stdout",
     "output_type": "stream",
     "text": [
      "ParameterSet: 19 parameters\n",
      "  dynamics_method@phoebe01@co...: keplerian\n",
      "           ltte@phoebe01@compute: False\n",
      "   irrad_method@phoebe01@compute: wilson\n",
      "  boosting_method@phoebe01@co...: none\n",
      "  eclipse_method@phoebe01@com...: native\n",
      "  horizon_method@phoebe01@com...: boolean\n",
      "  mesh_method@primary@phoebe0...: marching\n",
      "  mesh_method@secondary@phoeb...: marching\n",
      "  ntriangles@primary@phoebe01...: 1500\n",
      "  ntriangles@secondary@phoebe...: 1500\n",
      "  distortion_method@primary@p...: roche\n",
      "  distortion_method@secondary...: roche\n",
      "    atm@primary@phoebe01@compute: ck2004\n",
      "  atm@secondary@phoebe01@compute: ck2004\n",
      "        enabled@phoebe01@compute: True\n",
      "  rv_method@primary@phoebe01@...: flux-weighted\n",
      "  rv_method@secondary@phoebe0...: flux-weighted\n",
      "  rv_grav@primary@phoebe01@co...: False\n",
      "  rv_grav@secondary@phoebe01@...: False\n"
     ]
    }
   ],
   "source": [
    "print(b.get_compute())"
   ]
  },
  {
   "cell_type": "markdown",
   "metadata": {},
   "source": [
    "### rv_method"
   ]
  },
  {
   "cell_type": "code",
   "execution_count": 12,
   "metadata": {},
   "outputs": [
    {
     "name": "stdout",
     "output_type": "stream",
     "text": [
      "Parameter: rv_method@primary@phoebe01@compute\n",
      "                       Qualifier: rv_method\n",
      "                     Description: Method to use for computing RVs (must be flux-weighted for Rossiter-McLaughlin effects)\n",
      "                           Value: flux-weighted\n",
      "                         Choices: flux-weighted, dynamical\n",
      "                  Constrained by: \n",
      "                      Constrains: None\n",
      "                      Related to: None\n",
      "\n"
     ]
    }
   ],
   "source": [
    "print(b.get_parameter(qualifier='rv_method', component='primary'))"
   ]
  },
  {
   "cell_type": "markdown",
   "metadata": {},
   "source": [
    "If `rv_method` is set to 'dynamical' then the computed radial velocities are simply the z-velocities of the centers of mass of each component.  In this case, only the dynamical options are relevant.  For more details on these, see the section on the [orb dataset](ORB.ipynb).\n",
    "\n",
    "If `rv_method` is set to 'flux-weighted' then radial velocities are determined by the z-velocity of each visible surface element of the mesh, weighted by their respective intensities.  Since the stars are placed in their orbits by the dynamic options, the section on the [orb dataset](ORB.ipynb) is still applicable.  So are the meshing options described in [mesh dataset](MESH.ipynb) and the options for computing fluxes in [lc dataset](LC.ipynb).  See also the [Rossiter-McLaughlin example](../examples/rossiter_mclaughlin.ipynb)."
   ]
  },
  {
   "cell_type": "markdown",
   "metadata": {},
   "source": [
    "### rv_grav"
   ]
  },
  {
   "cell_type": "code",
   "execution_count": 13,
   "metadata": {
    "scrolled": true
   },
   "outputs": [
    {
     "name": "stdout",
     "output_type": "stream",
     "text": [
      "Parameter: rv_grav@primary@phoebe01@compute\n",
      "                       Qualifier: rv_grav\n",
      "                     Description: Whether gravitational redshift effects are enabled for RVs\n",
      "                           Value: False\n",
      "                  Constrained by: \n",
      "                      Constrains: None\n",
      "                      Related to: None\n",
      "                 Only visible if: rv_method:flux-weighted\n",
      "\n"
     ]
    }
   ],
   "source": [
    "print(b.get_parameter(qualifier='rv_grav', component='primary'))"
   ]
  },
  {
   "cell_type": "markdown",
   "metadata": {},
   "source": [
    "See the [Gravitational Redshift example](../examples/grav_redshift.ipynb) for more details on the influence this parameter has on radial velocities."
   ]
  },
  {
   "cell_type": "markdown",
   "metadata": {},
   "source": [
    "Synthetics\n",
    "------------------"
   ]
  },
  {
   "cell_type": "code",
   "execution_count": 14,
   "metadata": {},
   "outputs": [],
   "source": [
    "b.set_value_all('times', phoebe.linspace(0,1,101))"
   ]
  },
  {
   "cell_type": "code",
   "execution_count": 15,
   "metadata": {},
   "outputs": [
    {
     "data": {
      "text/plain": [
       "<ParameterSet: 4 parameters | components: primary, secondary>"
      ]
     },
     "execution_count": 15,
     "metadata": {},
     "output_type": "execute_result"
    }
   ],
   "source": [
    "b.run_compute(irrad_method='none')"
   ]
  },
  {
   "cell_type": "code",
   "execution_count": 16,
   "metadata": {},
   "outputs": [
    {
     "name": "stdout",
     "output_type": "stream",
     "text": [
      "['times@primary@rv01@phoebe01@latest@rv@model', 'rvs@primary@rv01@phoebe01@latest@rv@model', 'times@secondary@rv01@phoebe01@latest@rv@model', 'rvs@secondary@rv01@phoebe01@latest@rv@model']\n"
     ]
    }
   ],
   "source": [
    "print(b.filter(context='model').twigs)"
   ]
  },
  {
   "cell_type": "code",
   "execution_count": 17,
   "metadata": {},
   "outputs": [
    {
     "name": "stdout",
     "output_type": "stream",
     "text": [
      "Parameter: times@primary@latest@model\n",
      "                       Qualifier: times\n",
      "                     Description: Model (synthetic) times\n",
      "                           Value: [0.   0.01 0.02 ... 0.98 0.99 1.  ] d\n",
      "                  Constrained by: \n",
      "                      Constrains: None\n",
      "                      Related to: None\n",
      "\n"
     ]
    }
   ],
   "source": [
    "print(b.get_parameter(qualifier='times', component='primary', kind='rv', context='model'))"
   ]
  },
  {
   "cell_type": "code",
   "execution_count": 18,
   "metadata": {},
   "outputs": [
    {
     "name": "stdout",
     "output_type": "stream",
     "text": [
      "Parameter: rvs@primary@latest@model\n",
      "                       Qualifier: rvs\n",
      "                     Description: Model (synthetic) radial velocities\n",
      "                           Value: [  0.13568518 -40.16927882 -40.1705636  ...  40.17567288\n",
      "  40.16257634   0.13568518] km / s\n",
      "                  Constrained by: \n",
      "                      Constrains: None\n",
      "                      Related to: None\n",
      "                 Only visible if: times:<notempty>\n",
      "\n"
     ]
    }
   ],
   "source": [
    "print(b.get_parameter(qualifier='rvs', component='primary', kind='rv', context='model'))"
   ]
  },
  {
   "cell_type": "markdown",
   "metadata": {},
   "source": [
    "Plotting\n",
    "---------------\n",
    "\n",
    "By default, RV datasets plot as 'rvs' vs 'times'."
   ]
  },
  {
   "cell_type": "code",
   "execution_count": 19,
   "metadata": {},
   "outputs": [
    {
     "data": {
      "image/png": "[encoded data removed]",
      "text/plain": [
       "<matplotlib.figure.Figure at 0x7f932b567b10>"
      ]
     },
     "metadata": {},
     "output_type": "display_data"
    }
   ],
   "source": [
    "afig, mplfig = b.plot(show=True)"
   ]
  },
  {
   "cell_type": "markdown",
   "metadata": {},
   "source": [
    "Since these are the only two columns available in the synthetic model, the only other options is to plot in phase instead of time."
   ]
  },
  {
   "cell_type": "code",
   "execution_count": 20,
   "metadata": {},
   "outputs": [
    {
     "data": {
      "image/png": "[encoded data removed]",
      "text/plain": [
       "<matplotlib.figure.Figure at 0x7f932b567890>"
      ]
     },
     "metadata": {},
     "output_type": "display_data"
    }
   ],
   "source": [
    "afig, mplfig = b.plot(x='phases', show=True)"
   ]
  },
  {
   "cell_type": "markdown",
   "metadata": {},
   "source": [
    "In system hierarchies where there may be multiple periods, it is also possible to determine whose period to use for phasing."
   ]
  },
  {
   "cell_type": "code",
   "execution_count": 21,
   "metadata": {},
   "outputs": [
    {
     "name": "stdout",
     "output_type": "stream",
     "text": [
      "['primary', 'secondary', 'binary']\n"
     ]
    }
   ],
   "source": [
    "print(b.filter(qualifier='period').components)"
   ]
  },
  {
   "cell_type": "code",
   "execution_count": 22,
   "metadata": {},
   "outputs": [
    {
     "data": {
      "image/png": "[encoded data removed]",
      "text/plain": [
       "<matplotlib.figure.Figure at 0x7f932b455610>"
      ]
     },
     "metadata": {},
     "output_type": "display_data"
    }
   ],
   "source": [
    "afig, mplfig = b.plot(x='phases:binary', show=True)"
   ]
  },
  {
   "cell_type": "markdown",
   "metadata": {},
   "source": [
    "Mesh Fields\n",
    "---------------------\n",
    "\n",
    "\n",
    "By adding a mesh dataset and setting the columns parameter, radial velocities per-element quantities can be exposed and plotted.  Since the radial velocities are flux-weighted, the flux-related quantities are also included (except relative intensities/luminosities that would require pblum scaling).  For a description of these, see the section on the [lc dataset](LC.ipynb).\n",
    "\n",
    "Let's add a mesh at the first time of the rv dataset and re-call run_compute"
   ]
  },
  {
   "cell_type": "code",
   "execution_count": 23,
   "metadata": {},
   "outputs": [
    {
     "name": "stderr",
     "output_type": "stream",
     "text": [
      "Wed, 04 Sep 2019 15:52 BUNDLE       WARNING mesh dataset uses 'compute_times' instead of 'times', applying value sent as 'times' to 'compute_times'.\n"
     ]
    },
    {
     "data": {
      "text/plain": [
       "<ParameterSet: 8 parameters | contexts: dataset, compute, constraint>"
      ]
     },
     "execution_count": 23,
     "metadata": {},
     "output_type": "execute_result"
    }
   ],
   "source": [
    "b.add_dataset('mesh', times=[0], dataset='mesh01')"
   ]
  },
  {
   "cell_type": "code",
   "execution_count": 24,
   "metadata": {},
   "outputs": [
    {
     "name": "stdout",
     "output_type": "stream",
     "text": [
      "['volume', 'xs', 'ys', 'zs', 'vxs', 'vys', 'vzs', 'nxs', 'nys', 'nzs', 'us', 'vs', 'ws', 'vus', 'vvs', 'vws', 'nus', 'nvs', 'nws', 'areas', 'loggs', 'teffs', 'rprojs', 'mus', 'visibilities', 'visible_centroids', 'rs', 'abs_intensities@rv01', 'abs_normal_intensities@rv01', 'boost_factors@rv01', 'ldint@rv01', 'abs_pblum_ext@rv01', 'ptfarea@rv01', 'rvs@rv01']\n"
     ]
    }
   ],
   "source": [
    "print(b.get_parameter(qualifier='columns').choices)"
   ]
  },
  {
   "cell_type": "code",
   "execution_count": 25,
   "metadata": {},
   "outputs": [],
   "source": [
    "b.set_value('columns', value=['rvs@rv01'])"
   ]
  },
  {
   "cell_type": "code",
   "execution_count": 26,
   "metadata": {},
   "outputs": [
    {
     "name": "stderr",
     "output_type": "stream",
     "text": [
      "Wed, 04 Sep 2019 15:52 BUNDLE       WARNING overwriting model: latest\n"
     ]
    },
    {
     "data": {
      "text/plain": [
       "<ParameterSet: 16 parameters | kinds: rv, mesh>"
      ]
     },
     "execution_count": 26,
     "metadata": {},
     "output_type": "execute_result"
    }
   ],
   "source": [
    "b.run_compute(irrad_method='none')"
   ]
  },
  {
   "cell_type": "code",
   "execution_count": 27,
   "metadata": {},
   "outputs": [
    {
     "name": "stdout",
     "output_type": "stream",
     "text": [
      "['rv01', 'mesh01']\n"
     ]
    }
   ],
   "source": [
    "print(b.get_model().datasets)"
   ]
  },
  {
   "cell_type": "markdown",
   "metadata": {},
   "source": [
    "These new columns are stored with the rv's dataset tag, but with the mesh model-kind."
   ]
  },
  {
   "cell_type": "code",
   "execution_count": 28,
   "metadata": {},
   "outputs": [
    {
     "name": "stdout",
     "output_type": "stream",
     "text": [
      "['00.000000@rvs@primary@rv01@phoebe01@latest@mesh@model', '00.000000@rvs@secondary@rv01@phoebe01@latest@mesh@model']\n"
     ]
    }
   ],
   "source": [
    "print(b.filter(dataset='rv01', kind='mesh', context='model').twigs)"
   ]
  },
  {
   "cell_type": "markdown",
   "metadata": {},
   "source": [
    "Any of these columns are then available to use as edge or facecolors when plotting the mesh (see the section on the [MESH dataset](MESH))."
   ]
  },
  {
   "cell_type": "code",
   "execution_count": 29,
   "metadata": {},
   "outputs": [
    {
     "data": {
      "image/png": "[encoded data removed]",
      "text/plain": [
       "<matplotlib.figure.Figure at 0x7f9327b186d0>"
      ]
     },
     "metadata": {},
     "output_type": "display_data"
    }
   ],
   "source": [
    "afig, mplfig = b.filter(kind='mesh').plot(fc='rvs', ec='None', show=True)"
   ]
  },
  {
   "cell_type": "markdown",
   "metadata": {},
   "source": [
    "### rvs"
   ]
  },
  {
   "cell_type": "code",
   "execution_count": 30,
   "metadata": {},
   "outputs": [
    {
     "name": "stdout",
     "output_type": "stream",
     "text": [
      "Parameter: 00.000000@rvs@primary@latest@model\n",
      "                       Qualifier: rvs\n",
      "                     Description: Per-element value of rvs for rv01 dataset\n",
      "                           Value: [-3.51428103e+00 -1.88225026e-05  3.51419791e+00 ...\n",
      "  3.84090451e+01  3.72780179e+01  3.84944182e+01] km / s\n",
      "                  Constrained by: \n",
      "                      Constrains: None\n",
      "                      Related to: None\n",
      "\n"
     ]
    }
   ],
   "source": [
    "print(b.get_parameter(qualifier='rvs', \n",
    "                      component='primary', \n",
    "                      dataset='rv01', \n",
    "                      kind='mesh', \n",
    "                      context='model'))"
   ]
  }
 ],
 "metadata": {
  "kernelspec": {
   "display_name": "Python 2",
   "language": "python",
   "name": "python2"
  },
  "language_info": {
   "codemirror_mode": {
    "name": "ipython",
    "version": 2
   },
   "file_extension": ".py",
   "mimetype": "text/x-python",
   "name": "python",
   "nbconvert_exporter": "python",
   "pygments_lexer": "ipython2",
   "version": "2.7.16"
  }
 },
 "nbformat": 4,
 "nbformat_minor": 1
}
