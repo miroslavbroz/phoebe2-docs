{
 "cells": [
  {
   "cell_type": "markdown",
   "metadata": {},
   "source": [
    "# Advanced: Custom Constraints\n",
    "\n",
    "**NOTE**: support for custom constraints was fixed in PHOEBE 2.3.18.  This notebook will fail to run on earlier versions.\n",
    "\n",
    "[Built-in Constraints](./constraints_builtin.ipynb) are convenient as they automatically determine the correct expression and include support for multiple parameterizations via [b.flip_constraint](../api/phoebe.frontend.bundle.Bundle.flip_constraint.md).  However, for cases where a built-in constraint does not exist, PHOEBE provides a framework for easily creating your own expression to link multiple parameters via [b.add_constraint](../api/phoebe.frontend.bundle.Bundle.add_constraint.md)."
   ]
  },
  {
   "cell_type": "code",
   "execution_count": 1,
   "metadata": {},
   "outputs": [],
   "source": [
    "import phoebe\n",
    "\n",
    "b = phoebe.default_binary()"
   ]
  },
  {
   "cell_type": "markdown",
   "metadata": {},
   "source": [
    "In this case, the two positional arguments to [b.add_constraint](../api/phoebe.frontend.bundle.Bundle.add_constraint.md) must be the left-hand side of the expression (which will become the constrained parameter) and the right-hand side of the expression (either another parameter or a [ConstraintParameter](../api/phoebe.parameters.ConstraintParameter.md)).\n",
    "\n",
    "The easiest way to create a constraint parameter is via math operations on existing parameters.  For example, let's say we wanted the secondary temperature to always be half the primary temperature:"
   ]
  },
  {
   "cell_type": "code",
   "execution_count": 4,
   "metadata": {},
   "outputs": [
    {
     "name": "stdout",
     "output_type": "stream",
     "text": [
      "ParameterSet: 2 parameters\n",
      "           teff@primary@component: 6000.0 K\n",
      "         teff@secondary@component: 6000.0 K\n"
     ]
    }
   ],
   "source": [
    "print(b.filter(qualifier='teff'))"
   ]
  },
  {
   "cell_type": "code",
   "execution_count": 5,
   "metadata": {},
   "outputs": [],
   "source": [
    "lhs = b.get_parameter(qualifier='teff', component='secondary')\n",
    "rhs = 0.5 * b.get_parameter(qualifier='teff', component='primary')"
   ]
  },
  {
   "cell_type": "code",
   "execution_count": 8,
   "metadata": {},
   "outputs": [
    {
     "data": {
      "text/plain": [
       "<ConstraintParameter: 0.500000 * {teff@primary@component} (SI) => 3000.0 K>"
      ]
     },
     "execution_count": 8,
     "metadata": {},
     "output_type": "execute_result"
    }
   ],
   "source": [
    "rhs"
   ]
  },
  {
   "cell_type": "code",
   "execution_count": 9,
   "metadata": {},
   "outputs": [
    {
     "data": {
      "text/plain": [
       "<ParameterSet: 1 parameters>"
      ]
     },
     "execution_count": 9,
     "metadata": {},
     "output_type": "execute_result"
    }
   ],
   "source": [
    "b.add_constraint(lhs, rhs)"
   ]
  },
  {
   "cell_type": "code",
   "execution_count": 10,
   "metadata": {},
   "outputs": [
    {
     "name": "stdout",
     "output_type": "stream",
     "text": [
      "ParameterSet: 3 parameters\n",
      "           teff@primary@component: 6000.0 K\n",
      "C        teff@secondary@component: 3000.0 K\n",
      "                  teff@constraint: 0.500000 * {teff@primary@component}\n"
     ]
    }
   ],
   "source": [
    "print(b.filter(qualifier='teff'))"
   ]
  },
  {
   "cell_type": "markdown",
   "metadata": {},
   "source": [
    "Now, as with any other constraint, if we change the value of a parameter in the constraint, the constrained value will automatically adjust."
   ]
  },
  {
   "cell_type": "code",
   "execution_count": 11,
   "metadata": {},
   "outputs": [],
   "source": [
    "b.set_value(qualifier='teff', component='primary', value=7000)"
   ]
  },
  {
   "cell_type": "code",
   "execution_count": 12,
   "metadata": {},
   "outputs": [
    {
     "name": "stdout",
     "output_type": "stream",
     "text": [
      "ParameterSet: 3 parameters\n",
      "           teff@primary@component: 7000.0 K\n",
      "C        teff@secondary@component: 3500.0 K\n",
      "                  teff@constraint: 0.500000 * {teff@primary@component}\n"
     ]
    }
   ],
   "source": [
    "print(b.filter(qualifier='teff'))"
   ]
  }
 ],
 "metadata": {
  "kernelspec": {
   "display_name": "Python 3",
   "language": "python",
   "name": "python3"
  },
  "language_info": {
   "codemirror_mode": {
    "name": "ipython",
    "version": 3
   },
   "file_extension": ".py",
   "mimetype": "text/x-python",
   "name": "python",
   "nbconvert_exporter": "python",
   "pygments_lexer": "ipython3",
   "version": "3.8.5"
  }
 },
 "nbformat": 4,
 "nbformat_minor": 2
}
