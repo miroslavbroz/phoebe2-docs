{
 "cells": [
  {
   "cell_type": "markdown",
   "metadata": {},
   "source": [
    "2.2 - 2.3 Migration: requivsumfrac\n",
    "============================\n",
    "\n",
    "The 2.3 release replaces the `requivsum` constraint with the fractional [requivsumfrac](../api/phoebe.parameters.constraint.requivsumfrac.md) constraint.  The `requivsum` constraint was not added to a system by default in earlier versions and was not well-advertised, so has been removed entirely in favor of the fractional version."
   ]
  },
  {
   "cell_type": "code",
   "execution_count": null,
   "metadata": {},
   "outputs": [],
   "source": []
  }
 ],
 "metadata": {
  "kernelspec": {
   "display_name": "Python 3",
   "language": "python",
   "name": "python3"
  },
  "language_info": {
   "codemirror_mode": {
    "name": "ipython",
    "version": 3
   },
   "file_extension": ".py",
   "mimetype": "text/x-python",
   "name": "python",
   "nbconvert_exporter": "python",
   "pygments_lexer": "ipython3",
   "version": "3.7.5"
  }
 },
 "nbformat": 4,
 "nbformat_minor": 2
}
