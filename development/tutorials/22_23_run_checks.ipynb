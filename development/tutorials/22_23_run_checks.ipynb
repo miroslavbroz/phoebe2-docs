{
 "cells": [
  {
   "cell_type": "markdown",
   "metadata": {},
   "source": [
    "2.2 - 2.3 Migration: run_checks\n",
    "============================\n",
    "\n",
    "To add increased flexibility for solvers, [b.run_checks](../api/phoebe.frontend.bundle.Bundle.run_checks.md) has been split into multiple methods:\n",
    "\n",
    "* [b.run_checks_system](../api/phoebe.frontend.bundle.Bundle.run_checks_system.md)\n",
    "* [b.run_checks_compute](../api/phoebe.frontend.bundle.Bundle.run_checks_compute.md)\n",
    "* [b.run_checks_solver](../api/phoebe.frontend.bundle.Bundle.run_checks_solver.md)\n",
    "* [b.run_checks_solution](../api/phoebe.frontend.bundle.Bundle.run_checks_solution.md)\n",
    "\n",
    "[b.run_checks](../api/phoebe.frontend.bundle.Bundle.run_checks.md) still exists and calls all the sub-checks, but now [run_compute](../api/phoebe.frontend.bundle.Bundle.run_compute.md) will only call and require [b.run_checks_system](../api/phoebe.frontend.bundle.Bundle.run_checks_system.md) and [b.run_checks_compute](../api/phoebe.frontend.bundle.Bundle.run_checks_compute.md) to pass, wherease [run_solver](../api/phoebe.frontend.bundle.Bundle.run_solver.md) will also require [b.run_checks_solver](../api/phoebe.frontend.bundle.Bundle.run_checks_solver.md) to pass (in addition to [b.run_checks_compute](../api/phoebe.frontend.bundle.Bundle.run_checks_compute.md) at each iteration of the solver)"
   ]
  },
  {
   "cell_type": "code",
   "execution_count": null,
   "metadata": {},
   "outputs": [],
   "source": []
  }
 ],
 "metadata": {
  "kernelspec": {
   "display_name": "Python 3",
   "language": "python",
   "name": "python3"
  },
  "language_info": {
   "codemirror_mode": {
    "name": "ipython",
    "version": 3
   },
   "file_extension": ".py",
   "mimetype": "text/x-python",
   "name": "python",
   "nbconvert_exporter": "python",
   "pygments_lexer": "ipython3",
   "version": "3.7.5"
  }
 },
 "nbformat": 4,
 "nbformat_minor": 2
}
