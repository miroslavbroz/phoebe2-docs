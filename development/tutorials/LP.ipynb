{
 "cells": [
  {
   "cell_type": "markdown",
   "metadata": {},
   "source": [
    "'lp' (Line Profile) Datasets and Options\n",
    "============================\n",
    "\n",
    "Setup\n",
    "-----------------------------"
   ]
  },
  {
   "cell_type": "markdown",
   "metadata": {},
   "source": [
    "Let's first make sure we have the latest version of PHOEBE 2.2 installed. (You can comment out this line if you don't use pip for your installation or don't want to update to the latest release)."
   ]
  },
  {
   "cell_type": "code",
   "execution_count": null,
   "metadata": {},
   "outputs": [],
   "source": [
    "!pip install -I \"phoebe>=2.2,<2.3\""
   ]
  },
  {
   "cell_type": "markdown",
   "metadata": {
    "collapsed": true
   },
   "source": [
    "As always, let's do imports and initialize a logger and a new Bundle.  See [Building a System](building_a_system.ipynb) for more details."
   ]
  },
  {
   "cell_type": "code",
   "execution_count": 1,
   "metadata": {},
   "outputs": [],
   "source": [
    "%matplotlib inline"
   ]
  },
  {
   "cell_type": "code",
   "execution_count": 2,
   "metadata": {},
   "outputs": [],
   "source": [
    "import phoebe\n",
    "from phoebe import u # units\n",
    "\n",
    "\n",
    "logger = phoebe.logger()\n",
    "\n",
    "b = phoebe.default_binary()"
   ]
  },
  {
   "cell_type": "markdown",
   "metadata": {
    "collapsed": true
   },
   "source": [
    "Dataset Parameters\n",
    "--------------------------"
   ]
  },
  {
   "cell_type": "markdown",
   "metadata": {},
   "source": [
    "Line profiles have an extra dimension than [LC](LC.ipynb) and [RV](RV.ipynb) datasets which have times as their independent variable.  For that reason, the parameters in the LP dataset are tagged with individual times instead of having a separate times array.  This allows the flux_densities and sigmas to be per-time.  Because of this, times is not a variable, but instead **must** be passed when you call [b.add_dataset](../api/phoebe.frontend.bundle.Bundle.add_dataset.md).  At that point, in order to change the times you would need to remove and re-add the dataset.\n",
    "\n",
    "Let's add a line profile dataset to the Bundle (see also the [lp API docs](../api/phoebe.parameters.dataset.lp.md)).  Some parameters are only visible based on the values of other parameters, so we'll pass `check_visible=False` (see the [filter API docs](../api/phoebe.parameters.ParameterSet.filter.md) for more details).  These visibility rules will be explained below."
   ]
  },
  {
   "cell_type": "code",
   "execution_count": 4,
   "metadata": {},
   "outputs": [
    {
     "name": "stdout",
     "output_type": "stream",
     "text": [
      "ParameterSet: 32 parameters\n",
      "       profile_func@lp01@dataset: gaussian\n",
      "       profile_rest@lp01@dataset: 550.0 nm\n",
      "         profile_sv@lp01@dataset: 0.0001\n",
      "           passband@lp01@dataset: Johnson:V\n",
      "   intens_weighting@lp01@dataset: energy\n",
      "  wavelengths@primary@lp01@da...: [] nm\n",
      "  wavelengths@secondary@lp01@...: [] nm\n",
      "  wavelengths@binary@lp01@dat...: [549.   549.02 549.04 ... 550.96 550.98\n",
      " 551.  ] nm\n",
      "  00.000000@flux_densities@pr...: [] W / (m2 nm)\n",
      "  00.000000@flux_densities@se...: [] W / (m2 nm)\n",
      "  00.000000@flux_densities@bi...: [] W / (m2 nm)\n",
      "  00.000000@sigmas@primary@lp...: [] W / (m2 nm)\n",
      "  00.000000@sigmas@secondary@...: [] W / (m2 nm)\n",
      "  00.000000@sigmas@binary@lp0...: [] W / (m2 nm)\n",
      "  01.000000@flux_densities@pr...: [] W / (m2 nm)\n",
      "  01.000000@flux_densities@se...: [] W / (m2 nm)\n",
      "  01.000000@flux_densities@bi...: [] W / (m2 nm)\n",
      "  01.000000@sigmas@primary@lp...: [] W / (m2 nm)\n",
      "  01.000000@sigmas@secondary@...: [] W / (m2 nm)\n",
      "  01.000000@sigmas@binary@lp0...: [] W / (m2 nm)\n",
      "  02.000000@flux_densities@pr...: [] W / (m2 nm)\n",
      "  02.000000@flux_densities@se...: [] W / (m2 nm)\n",
      "  02.000000@flux_densities@bi...: [] W / (m2 nm)\n",
      "  02.000000@sigmas@primary@lp...: [] W / (m2 nm)\n",
      "  02.000000@sigmas@secondary@...: [] W / (m2 nm)\n",
      "  02.000000@sigmas@binary@lp0...: [] W / (m2 nm)\n",
      "    ld_func@primary@lp01@dataset: interp\n",
      "  ld_func@secondary@lp01@dataset: interp\n",
      "  ld_coeffs_source@primary@lp...: auto\n",
      "  ld_coeffs_source@secondary@...: auto\n",
      "  ld_coeffs@primary@lp01@dataset: [0.5 0.5]\n",
      "  ld_coeffs@secondary@lp01@da...: [0.5 0.5]\n"
     ]
    }
   ],
   "source": [
    "b.add_dataset('lp', times=[0,1,2], wavelengths=phoebe.linspace(549, 551, 101))\n",
    "print(b.get_dataset(kind='lp', check_visible=False))"
   ]
  },
  {
   "cell_type": "markdown",
   "metadata": {},
   "source": [
    "For information on the included passband-dependent parameters (not mentioned below), see the section on the [lc dataset](LC.ipynb)."
   ]
  },
  {
   "cell_type": "markdown",
   "metadata": {},
   "source": [
    "### times"
   ]
  },
  {
   "cell_type": "code",
   "execution_count": 7,
   "metadata": {},
   "outputs": [
    {
     "name": "stdout",
     "output_type": "stream",
     "text": [
      "['00.000000', '01.000000', '02.000000']\n"
     ]
    }
   ],
   "source": [
    "print(b.get_dataset(kind='lp').times)"
   ]
  },
  {
   "cell_type": "markdown",
   "metadata": {},
   "source": [
    "### wavelengths"
   ]
  },
  {
   "cell_type": "code",
   "execution_count": 9,
   "metadata": {},
   "outputs": [
    {
     "name": "stdout",
     "output_type": "stream",
     "text": [
      "ParameterSet: 3 parameters\n",
      "  wavelengths@primary@lp01@da...: [] nm\n",
      "  wavelengths@secondary@lp01@...: [] nm\n",
      "  wavelengths@binary@lp01@dat...: [549.   549.02 549.04 ... 550.96 550.98\n",
      " 551.  ] nm\n"
     ]
    }
   ],
   "source": [
    "print(b.filter(qualifier='wavelengths'))"
   ]
  },
  {
   "cell_type": "code",
   "execution_count": 10,
   "metadata": {},
   "outputs": [
    {
     "name": "stdout",
     "output_type": "stream",
     "text": [
      "Parameter: wavelengths@binary@lp01@dataset\n",
      "                       Qualifier: wavelengths\n",
      "                     Description: Wavelengths of the observations\n",
      "                           Value: <linspace start=549.0 stop=551.0 num=101 endpoint=True unit=nm>\n",
      "                  Constrained by: \n",
      "                      Constrains: None\n",
      "                      Related to: None\n",
      "\n"
     ]
    }
   ],
   "source": [
    "print(b.get_parameter(qualifier='wavelengths', component='binary'))"
   ]
  },
  {
   "cell_type": "markdown",
   "metadata": {},
   "source": [
    "### components"
   ]
  },
  {
   "cell_type": "markdown",
   "metadata": {},
   "source": [
    "Line profiles will be computed for each component in which the wavelengths are provided.  If we wanted to expose the line profile for the binary as a whole, we'd set the wavelenghts for `wavelengths@binary`.  If instead we wanted to expose per-star line profiles, we could set the wavelengths for both `wavelengths@primary` and `wavelengths@secondary`.\n",
    "\n",
    "If you're passing wavelengths to the [b.add_dataset](../api/phoebe.frontend.bundle.Bundle.add_dataset.md) call, it will default to filling the wavelengths at the *system-level*.  To override this, pass `components=['primary', 'secondary']`, as well.  For example: `b.add_dataset('lp', wavelengths=np.linspace(549,551,101), components=['primary', 'secondary'])`."
   ]
  },
  {
   "cell_type": "markdown",
   "metadata": {},
   "source": [
    "### flux_densities"
   ]
  },
  {
   "cell_type": "code",
   "execution_count": 11,
   "metadata": {},
   "outputs": [
    {
     "name": "stdout",
     "output_type": "stream",
     "text": [
      "ParameterSet: 3 parameters\n",
      "  00.000000@flux_densities@bi...: [] W / (m2 nm)\n",
      "  01.000000@flux_densities@bi...: [] W / (m2 nm)\n",
      "  02.000000@flux_densities@bi...: [] W / (m2 nm)\n"
     ]
    }
   ],
   "source": [
    "print(b.filter(qualifier='flux_densities'))"
   ]
  },
  {
   "cell_type": "code",
   "execution_count": 13,
   "metadata": {},
   "outputs": [
    {
     "name": "stdout",
     "output_type": "stream",
     "text": [
      "Parameter: 00.000000@flux_densities@binary@lp01@dataset\n",
      "                       Qualifier: flux_densities\n",
      "                     Description: Flux density per wavelength (must be same length as wavelengths or empty)\n",
      "                           Value: [] W / (m2 nm)\n",
      "                  Constrained by: \n",
      "                      Constrains: None\n",
      "                      Related to: None\n",
      "                 Only visible if: [time]wavelengths:<notempty>\n",
      "\n"
     ]
    }
   ],
   "source": [
    "print(b.get_parameter(qualifier='flux_densities', \n",
    "                      component='binary',\n",
    "                      time=0.0))"
   ]
  },
  {
   "cell_type": "markdown",
   "metadata": {},
   "source": [
    "### sigmas"
   ]
  },
  {
   "cell_type": "code",
   "execution_count": 14,
   "metadata": {},
   "outputs": [
    {
     "name": "stdout",
     "output_type": "stream",
     "text": [
      "ParameterSet: 3 parameters\n",
      "  00.000000@sigmas@binary@lp0...: [] W / (m2 nm)\n",
      "  01.000000@sigmas@binary@lp0...: [] W / (m2 nm)\n",
      "  02.000000@sigmas@binary@lp0...: [] W / (m2 nm)\n"
     ]
    }
   ],
   "source": [
    "print(b.filter(qualifier='sigmas'))"
   ]
  },
  {
   "cell_type": "code",
   "execution_count": 15,
   "metadata": {},
   "outputs": [
    {
     "name": "stdout",
     "output_type": "stream",
     "text": [
      "Parameter: 00.000000@sigmas@binary@lp01@dataset\n",
      "                       Qualifier: sigmas\n",
      "                     Description: Observed uncertainty on flux_densities\n",
      "                           Value: [] W / (m2 nm)\n",
      "                  Constrained by: \n",
      "                      Constrains: None\n",
      "                      Related to: None\n",
      "                 Only visible if: [time]wavelengths:<notempty>\n",
      "\n"
     ]
    }
   ],
   "source": [
    "print(b.get_parameter(qualifier='sigmas', \n",
    "                      component='binary',\n",
    "                      time=0))"
   ]
  },
  {
   "cell_type": "markdown",
   "metadata": {},
   "source": [
    "### profile_func"
   ]
  },
  {
   "cell_type": "code",
   "execution_count": 16,
   "metadata": {},
   "outputs": [
    {
     "name": "stdout",
     "output_type": "stream",
     "text": [
      "Parameter: profile_func@lp01@dataset\n",
      "                       Qualifier: profile_func\n",
      "                     Description: Function to use for the rest line profile\n",
      "                           Value: gaussian\n",
      "                         Choices: gaussian, lorentzian\n",
      "\n"
     ]
    }
   ],
   "source": [
    "print(b.get_parameter(qualifier='profile_func'))"
   ]
  },
  {
   "cell_type": "markdown",
   "metadata": {},
   "source": [
    "### profile_rest"
   ]
  },
  {
   "cell_type": "code",
   "execution_count": 17,
   "metadata": {},
   "outputs": [
    {
     "name": "stdout",
     "output_type": "stream",
     "text": [
      "Parameter: profile_rest@lp01@dataset\n",
      "                       Qualifier: profile_rest\n",
      "                     Description: Rest central wavelength of the profile\n",
      "                           Value: 550.0 nm\n",
      "                  Constrained by: \n",
      "                      Constrains: None\n",
      "                      Related to: None\n",
      "\n"
     ]
    }
   ],
   "source": [
    "print(b.get_parameter(qualifier='profile_rest'))"
   ]
  },
  {
   "cell_type": "markdown",
   "metadata": {},
   "source": [
    "### profile_sv"
   ]
  },
  {
   "cell_type": "code",
   "execution_count": 18,
   "metadata": {},
   "outputs": [
    {
     "name": "stdout",
     "output_type": "stream",
     "text": [
      "Parameter: profile_sv@lp01@dataset\n",
      "                       Qualifier: profile_sv\n",
      "                     Description: Subsidiary value of the profile\n",
      "                           Value: 0.0001\n",
      "                  Constrained by: \n",
      "                      Constrains: None\n",
      "                      Related to: None\n",
      "\n"
     ]
    }
   ],
   "source": [
    "print(b.get_parameter(qualifier='profile_sv'))"
   ]
  },
  {
   "cell_type": "markdown",
   "metadata": {},
   "source": [
    "Synthetics\n",
    "------------------"
   ]
  },
  {
   "cell_type": "code",
   "execution_count": 19,
   "metadata": {},
   "outputs": [
    {
     "data": {
      "text/plain": [
       "<ParameterSet: 4 parameters | qualifiers: wavelengths, flux_densities>"
      ]
     },
     "execution_count": 19,
     "metadata": {},
     "output_type": "execute_result"
    }
   ],
   "source": [
    "b.run_compute(irrad_method='none')"
   ]
  },
  {
   "cell_type": "code",
   "execution_count": 20,
   "metadata": {},
   "outputs": [
    {
     "name": "stdout",
     "output_type": "stream",
     "text": [
      "['wavelengths@binary@lp01@phoebe01@latest@lp@model', '00.000000@flux_densities@binary@lp01@phoebe01@latest@lp@model', '01.000000@flux_densities@binary@lp01@phoebe01@latest@lp@model', '02.000000@flux_densities@binary@lp01@phoebe01@latest@lp@model']\n"
     ]
    }
   ],
   "source": [
    "print(b.filter(context='model').twigs)"
   ]
  },
  {
   "cell_type": "markdown",
   "metadata": {},
   "source": [
    "The model for a line profile dataset will expose flux-densities at each time and for each component where the corresponding wavelengths Parameter was not empty.  Here since we used the default and exposed line-profiles for the entire system, we have a single entry per-time."
   ]
  },
  {
   "cell_type": "code",
   "execution_count": 21,
   "metadata": {},
   "outputs": [
    {
     "name": "stdout",
     "output_type": "stream",
     "text": [
      "ParameterSet: 3 parameters\n",
      "  00.000000@flux_densities@la...: [1. 1. 1. ... 1. 1. 1.] W / (m2 nm)\n",
      "  01.000000@flux_densities@la...: [1. 1. 1. ... 1. 1. 1.] W / (m2 nm)\n",
      "  02.000000@flux_densities@la...: [1. 1. 1. ... 1. 1. 1.] W / (m2 nm)\n"
     ]
    }
   ],
   "source": [
    "print(b.filter(qualifier='flux_densities', context='model'))"
   ]
  },
  {
   "cell_type": "code",
   "execution_count": 22,
   "metadata": {},
   "outputs": [
    {
     "name": "stdout",
     "output_type": "stream",
     "text": [
      "Parameter: 00.000000@flux_densities@latest@model\n",
      "                       Qualifier: flux_densities\n",
      "                     Description: Flux density per wavelength (must be same length as wavelengths or empty)\n",
      "                           Value: [1. 1. 1. ... 1. 1. 1.] W / (m2 nm)\n",
      "                  Constrained by: \n",
      "                      Constrains: None\n",
      "                      Related to: None\n",
      "                 Only visible if: [time]wavelengths:<notempty>\n",
      "\n"
     ]
    }
   ],
   "source": [
    "print(b.get_parameter(qualifier='flux_densities', context='model', time=0))"
   ]
  },
  {
   "cell_type": "markdown",
   "metadata": {},
   "source": [
    "Plotting\n",
    "---------------\n",
    "\n",
    "By default, LP datasets plot as 'flux_densities' vs 'wavelengths' for a **single time**."
   ]
  },
  {
   "cell_type": "code",
   "execution_count": 23,
   "metadata": {},
   "outputs": [
    {
     "data": {
      "image/png": "[encoded data removed]",
      "text/plain": [
       "<matplotlib.figure.Figure at 0x7fc03687c710>"
      ]
     },
     "metadata": {},
     "output_type": "display_data"
    }
   ],
   "source": [
    "afig, mplfig = b.filter(dataset='lp01', context='model', time=0).plot(show=True)"
   ]
  },
  {
   "cell_type": "markdown",
   "metadata": {},
   "source": [
    "Mesh Fields\n",
    "---------------------\n",
    "\n",
    "Let's add a single mesh and see which columns from the line profile dataset are available to expose as a column in the mesh."
   ]
  },
  {
   "cell_type": "code",
   "execution_count": 24,
   "metadata": {},
   "outputs": [
    {
     "data": {
      "text/plain": [
       "<ParameterSet: 4 parameters | contexts: compute, dataset>"
      ]
     },
     "execution_count": 24,
     "metadata": {},
     "output_type": "execute_result"
    }
   ],
   "source": [
    "b.add_dataset('mesh', times=[0], dataset='mesh01')"
   ]
  },
  {
   "cell_type": "code",
   "execution_count": 25,
   "metadata": {},
   "outputs": [
    {
     "name": "stdout",
     "output_type": "stream",
     "text": [
      "['volume', 'xs', 'ys', 'zs', 'vxs', 'vys', 'vzs', 'nxs', 'nys', 'nzs', 'us', 'vs', 'ws', 'vus', 'vvs', 'vws', 'nus', 'nvs', 'nws', 'areas', 'loggs', 'teffs', 'rprojs', 'mus', 'visibilities', 'visible_centroids', 'rs', 'intensities@lp01', 'normal_intensities@lp01', 'abs_intensities@lp01', 'abs_normal_intensities@lp01', 'boost_factors@lp01', 'ldint@lp01', 'pblum_ext@lp01', 'abs_pblum_ext@lp01', 'ptfarea@lp01', 'rvs@lp01']\n"
     ]
    }
   ],
   "source": [
    "print(b.get_parameter(qualifier='columns').choices)"
   ]
  },
  {
   "cell_type": "markdown",
   "metadata": {},
   "source": [
    "Since line profiles are passband-dependent, we get all passband-dependent mesh quantities as options (see [LC](LC.ipynb) for details).  Additionally, we get `rvs@lp01`, which under-the-hood is being used to determine the doppler shift of the line profile per-element and then summed over the star (see [RV](RV.ipynb) for details).  To avoid large amounts of data being stored in the mesh with an extra dimension, the per-element line profiles are never stored, and therefore not able to be exposed to the user."
   ]
  }
 ],
 "metadata": {
  "kernelspec": {
   "display_name": "Python 2",
   "language": "python",
   "name": "python2"
  },
  "language_info": {
   "codemirror_mode": {
    "name": "ipython",
    "version": 2
   },
   "file_extension": ".py",
   "mimetype": "text/x-python",
   "name": "python",
   "nbconvert_exporter": "python",
   "pygments_lexer": "ipython2",
   "version": "2.7.15rc1"
  }
 },
 "nbformat": 4,
 "nbformat_minor": 1
}
