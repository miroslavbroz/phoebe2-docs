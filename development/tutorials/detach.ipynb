{
 "cells": [
  {
   "cell_type": "markdown",
   "metadata": {},
   "source": [
    "Advanced: Detaching from Run Compute\n",
    "============================\n",
    "\n",
    "Although experimental support for `detach` still exists, in PHOEBE 2.3+, it is preferred to use [b.export_compute](../api/phoebe.frontend.bundle.Bundle.export_compute.md) or [b.as_client](../api/phoebe.frontend.bundle.Bundle.as_client.md) to manage running scripts outside the main thread."
   ]
  }
 ],
 "metadata": {
  "kernelspec": {
   "display_name": "Python 2",
   "language": "python",
   "name": "python2"
  },
  "language_info": {
   "codemirror_mode": {
    "name": "ipython",
    "version": 2
   },
   "file_extension": ".py",
   "mimetype": "text/x-python",
   "name": "python",
   "nbconvert_exporter": "python",
   "pygments_lexer": "ipython2",
   "version": "2.7.18rc1"
  }
 },
 "nbformat": 4,
 "nbformat_minor": 1
}
