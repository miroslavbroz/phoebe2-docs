{
 "cells": [
  {
   "cell_type": "markdown",
   "metadata": {},
   "source": [
    "Advanced: Constraints and Changing Hierarchies\n",
    "============================\n",
    "\n",
    "Setup\n",
    "-----------------------------"
   ]
  },
  {
   "cell_type": "markdown",
   "metadata": {},
   "source": [
    "Let's first make sure we have the latest version of PHOEBE 2.3 installed (uncomment this line if running in an online notebook session such as colab)."
   ]
  },
  {
   "cell_type": "code",
   "execution_count": 1,
   "metadata": {},
   "outputs": [],
   "source": [
    "#!pip install -I \"phoebe>=2.3,<2.4\""
   ]
  },
  {
   "cell_type": "markdown",
   "metadata": {
    "collapsed": true
   },
   "source": [
    "As always, let's do imports and initialize a logger and a new Bundle."
   ]
  },
  {
   "cell_type": "code",
   "execution_count": 2,
   "metadata": {},
   "outputs": [],
   "source": [
    "import phoebe\n",
    "from phoebe import u # units\n",
    "import numpy as np\n",
    "import matplotlib.pyplot as plt\n",
    "\n",
    "logger = phoebe.logger()\n",
    "\n",
    "b = phoebe.default_binary()"
   ]
  },
  {
   "cell_type": "markdown",
   "metadata": {},
   "source": [
    "Changing Hierarchies\n",
    "-------------------------------------\n",
    "\n",
    "Some of the built-in constraints depend on the system hierarchy, and will automatically adjust to reflect changes to the hierarchy.\n",
    "\n",
    "For example, the masses depend on the period and semi-major axis of the parent orbit but also depend on the mass-ratio (q) which is defined as the primary mass over secondary mass.  For this reason, changing the roles of the primary and secondary components should be reflected in the masses (so long as q remains fixed).\n",
    "\n",
    "In order to show this example, let's set the mass-ratio to be non-unity."
   ]
  },
  {
   "cell_type": "code",
   "execution_count": 3,
   "metadata": {},
   "outputs": [],
   "source": [
    "b.set_value('q', 0.8)"
   ]
  },
  {
   "cell_type": "markdown",
   "metadata": {},
   "source": [
    "Here the star with component tag 'primary' is actually the primary component in the hierarchy, so should have the LARGER mass (for a q < 1.0)."
   ]
  },
  {
   "cell_type": "code",
   "execution_count": 4,
   "metadata": {},
   "outputs": [
    {
     "name": "stdout",
     "output_type": "stream",
     "text": [
      "M1: 1.109792373117589, M2: 0.8878338984940712\n"
     ]
    }
   ],
   "source": [
    "print(\"M1: {}, M2: {}\".format(b.get_value('mass@primary@component'),\n",
    "                              b.get_value('mass@secondary@component')))"
   ]
  },
  {
   "cell_type": "markdown",
   "metadata": {},
   "source": [
    "Now let's flip the hierarchy so that the star with the 'primary' component tag is actually the secondary component in the system (and so takes the role of numerator in q = M2/M1).\n",
    "\n",
    "For more information on the syntax for setting hierarchies, see the [Building a System Tutorial](building_a_system.ipynb)."
   ]
  },
  {
   "cell_type": "code",
   "execution_count": 5,
   "metadata": {},
   "outputs": [
    {
     "data": {
      "text/plain": [
       "<ParameterSet: 2 parameters | contexts: component, constraint>"
      ]
     },
     "execution_count": 5,
     "metadata": {},
     "output_type": "execute_result"
    }
   ],
   "source": [
    "b['mass@primary']"
   ]
  },
  {
   "cell_type": "code",
   "execution_count": 6,
   "metadata": {},
   "outputs": [],
   "source": [
    "b.set_hierarchy('orbit:binary(star:secondary, star:primary)')"
   ]
  },
  {
   "cell_type": "code",
   "execution_count": 7,
   "metadata": {},
   "outputs": [
    {
     "data": {
      "text/plain": [
       "<Parameter: mass=0.8878338984940712 solMass | keys: description, value, quantity, default_unit, limits, visible_if, copy_for, readonly, advanced, latexfmt>"
      ]
     },
     "execution_count": 7,
     "metadata": {},
     "output_type": "execute_result"
    }
   ],
   "source": [
    "b['mass@primary@star@component']"
   ]
  },
  {
   "cell_type": "code",
   "execution_count": 8,
   "metadata": {},
   "outputs": [
    {
     "name": "stdout",
     "output_type": "stream",
     "text": [
      "0.8\n"
     ]
    }
   ],
   "source": [
    "print(b.get_value('q'))"
   ]
  },
  {
   "cell_type": "code",
   "execution_count": 9,
   "metadata": {},
   "outputs": [
    {
     "name": "stdout",
     "output_type": "stream",
     "text": [
      "M1: 0.8878338984940712, M2: 1.109792373117589\n"
     ]
    }
   ],
   "source": [
    "print(\"M1: {}, M2: {}\".format(b.get_value('mass@primary@component'),\n",
    "                              b.get_value('mass@secondary@component')))"
   ]
  },
  {
   "cell_type": "markdown",
   "metadata": {},
   "source": [
    "Even though under-the-hood the constraints are being rebuilt from scratch, they will remember if you have flipped them to solve for some other parameter.\n",
    "\n",
    "To show this, let's flip the constraint for the secondary mass to solve for 'period' and then change the hierarchy back to its original value."
   ]
  },
  {
   "cell_type": "code",
   "execution_count": 10,
   "metadata": {},
   "outputs": [
    {
     "name": "stdout",
     "output_type": "stream",
     "text": [
      "M1: 0.8878338984940712, M2: 1.109792373117589, period: 1.0, q: 0.8\n"
     ]
    }
   ],
   "source": [
    "print(\"M1: {}, M2: {}, period: {}, q: {}\".format(b.get_value('mass@primary@component'),\n",
    "                                                 b.get_value('mass@secondary@component'),\n",
    "                                                 b.get_value('period@binary@component'),\n",
    "                                                 b.get_value('q@binary@component')))"
   ]
  },
  {
   "cell_type": "code",
   "execution_count": 11,
   "metadata": {},
   "outputs": [
    {
     "data": {
      "text/plain": [
       "<ConstraintParameter: {period@binary@component} = ((39.478418 * ({sma@binary@component} ** 3.000000)) / (({mass@secondary@component} * (1.000000 + {q@binary@component})) * 2942.206217504419328179210424423218)) ** (1./2) (solar units) => 1.0 d>"
      ]
     },
     "execution_count": 11,
     "metadata": {},
     "output_type": "execute_result"
    }
   ],
   "source": [
    "b.flip_constraint('mass@secondary@constraint', 'period')"
   ]
  },
  {
   "cell_type": "code",
   "execution_count": 12,
   "metadata": {},
   "outputs": [
    {
     "name": "stdout",
     "output_type": "stream",
     "text": [
      "M1: 0.8878338984940712, M2: 1.109792373117589, period: 1.0, q: 0.8\n"
     ]
    }
   ],
   "source": [
    "print(\"M1: {}, M2: {}, period: {}, q: {}\".format(b.get_value('mass@primary@component'),\n",
    "                                                 b.get_value('mass@secondary@component'),\n",
    "                                                 b.get_value('period@binary@component'),\n",
    "                                                 b.get_value('q@binary@component')))"
   ]
  },
  {
   "cell_type": "code",
   "execution_count": 13,
   "metadata": {},
   "outputs": [],
   "source": [
    "b.set_value('mass@secondary@component', 1.0)"
   ]
  },
  {
   "cell_type": "code",
   "execution_count": 14,
   "metadata": {
    "scrolled": true
   },
   "outputs": [
    {
     "name": "stdout",
     "output_type": "stream",
     "text": [
      "M1: 0.8, M2: 1.0, period: 1.0534668353192658, q: 0.8\n"
     ]
    }
   ],
   "source": [
    "print(\"M1: {}, M2: {}, period: {}, q: {}\".format(b.get_value('mass@primary@component'),\n",
    "                                                 b.get_value('mass@secondary@component'),\n",
    "                                                 b.get_value('period@binary@component'),\n",
    "                                                 b.get_value('q@binary@component')))"
   ]
  },
  {
   "cell_type": "code",
   "execution_count": null,
   "metadata": {},
   "outputs": [],
   "source": []
  }
 ],
 "metadata": {
  "kernelspec": {
   "display_name": "Python 3",
   "language": "python",
   "name": "python3"
  },
  "language_info": {
   "codemirror_mode": {
    "name": "ipython",
    "version": 3
   },
   "file_extension": ".py",
   "mimetype": "text/x-python",
   "name": "python",
   "nbconvert_exporter": "python",
   "pygments_lexer": "ipython3",
   "version": "3.8.2"
  }
 },
 "nbformat": 4,
 "nbformat_minor": 1
}
