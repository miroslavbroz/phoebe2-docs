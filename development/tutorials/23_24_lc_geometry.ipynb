{
 "cells": [
  {
   "cell_type": "markdown",
   "id": "d3b33398-628d-47d8-a768-e6be6d4fefb3",
   "metadata": {},
   "source": [
    "# 2.3 - 2.4 Migration: using ligeor as a built-in dependency\n",
    "\n",
    "The lc_geometry estimator now uses [ligeor](https://github.com/gecheline/ligeor) as a built-in dependency, which allows for estimates of additional parameters, compared to 2.3. In addition to `ecc` and `per0`, lc_geometry now returns estimates of `requivsumfrac`, `teffratio`, and if ellc is available as a backend, can also quickly optimize for `requivratio` and `incl@binary`."
   ]
  },
  {
   "cell_type": "code",
   "execution_count": null,
   "id": "b5497bd3-55af-43d5-bab2-fa8197360393",
   "metadata": {},
   "outputs": [],
   "source": []
  }
 ],
 "metadata": {
  "kernelspec": {
   "display_name": "Python 3 (ipykernel)",
   "language": "python",
   "name": "python3"
  },
  "language_info": {
   "codemirror_mode": {
    "name": "ipython",
    "version": 3
   },
   "file_extension": ".py",
   "mimetype": "text/x-python",
   "name": "python",
   "nbconvert_exporter": "python",
   "pygments_lexer": "ipython3",
   "version": "3.9.7"
  }
 },
 "nbformat": 4,
 "nbformat_minor": 5
}
