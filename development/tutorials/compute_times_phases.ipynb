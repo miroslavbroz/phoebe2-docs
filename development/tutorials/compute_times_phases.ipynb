{
 "cells": [
  {
   "cell_type": "markdown",
   "metadata": {},
   "source": [
    "Advanced: compute_times & compute_phases\n",
    "============================\n",
    "\n",
    "Setup\n",
    "-----------------------------"
   ]
  },
  {
   "cell_type": "markdown",
   "metadata": {},
   "source": [
    "Let's first make sure we have the latest version of PHOEBE 2.2 installed. (You can comment out this line if you don't use pip for your installation or don't want to update to the latest release)."
   ]
  },
  {
   "cell_type": "code",
   "execution_count": null,
   "metadata": {},
   "outputs": [],
   "source": [
    "!pip install -I \"phoebe>=2.2,<2.3\""
   ]
  },
  {
   "cell_type": "markdown",
   "metadata": {},
   "source": [
    "As always, let's do imports and create a new Bundle.  See [Building a System](building_a_system.html) for more details."
   ]
  },
  {
   "cell_type": "code",
   "execution_count": 1,
   "metadata": {},
   "outputs": [],
   "source": [
    "import phoebe\n",
    "from phoebe import u # units\n",
    "\n",
    "b = phoebe.default_binary()"
   ]
  },
  {
   "cell_type": "code",
   "execution_count": 2,
   "metadata": {},
   "outputs": [
    {
     "data": {
      "text/plain": [
       "<ParameterSet: 36 parameters | contexts: dataset, compute, constraint>"
      ]
     },
     "execution_count": 2,
     "metadata": {},
     "output_type": "execute_result"
    }
   ],
   "source": [
    "b.add_dataset('lc', times=phoebe.linspace(0,10,101), dataset='lc01')"
   ]
  },
  {
   "cell_type": "markdown",
   "metadata": {
    "collapsed": true
   },
   "source": [
    "Overriding Computation Times\n",
    "----------------------------\n",
    "\n",
    "If `compute_times` is not empty (by either providing `compute_times` *or* `compute_phases`), the provided value will be used to compute the model instead of those in the `times` parameter.\n",
    "\n",
    "In the case of a [mesh dataset](MESH.ipynb) or [orbit dataset](ORB.ipynb), observations cannot be attached to the dataset, so a `times` parameter does not exist.  In this case `compute_times` or `compute_phases` will *always* be used."
   ]
  },
  {
   "cell_type": "code",
   "execution_count": 3,
   "metadata": {},
   "outputs": [
    {
     "name": "stdout",
     "output_type": "stream",
     "text": [
      "ParameterSet: 2 parameters\n",
      "              times@lc01@dataset: [ 0.   0.1  0.2 ...  9.8  9.9 10. ] d\n",
      "      compute_times@lc01@dataset: [] d\n"
     ]
    }
   ],
   "source": [
    "print(b.filter(qualifier=['times', 'compute_times'], context='dataset'))"
   ]
  },
  {
   "cell_type": "code",
   "execution_count": 4,
   "metadata": {},
   "outputs": [],
   "source": [
    "b.set_value('compute_times', phoebe.linspace(0,3,11))"
   ]
  },
  {
   "cell_type": "code",
   "execution_count": 5,
   "metadata": {},
   "outputs": [
    {
     "data": {
      "text/plain": [
       "<ParameterSet: 2 parameters | qualifiers: fluxes, times>"
      ]
     },
     "execution_count": 5,
     "metadata": {},
     "output_type": "execute_result"
    }
   ],
   "source": [
    "b.run_compute()"
   ]
  },
  {
   "cell_type": "code",
   "execution_count": 6,
   "metadata": {},
   "outputs": [
    {
     "name": "stdout",
     "output_type": "stream",
     "text": [
      "dataset times: [ 0.   0.1  0.2  0.3  0.4  0.5  0.6  0.7  0.8  0.9  1.   1.1  1.2  1.3\n",
      "  1.4  1.5  1.6  1.7  1.8  1.9  2.   2.1  2.2  2.3  2.4  2.5  2.6  2.7\n",
      "  2.8  2.9  3.   3.1  3.2  3.3  3.4  3.5  3.6  3.7  3.8  3.9  4.   4.1\n",
      "  4.2  4.3  4.4  4.5  4.6  4.7  4.8  4.9  5.   5.1  5.2  5.3  5.4  5.5\n",
      "  5.6  5.7  5.8  5.9  6.   6.1  6.2  6.3  6.4  6.5  6.6  6.7  6.8  6.9\n",
      "  7.   7.1  7.2  7.3  7.4  7.5  7.6  7.7  7.8  7.9  8.   8.1  8.2  8.3\n",
      "  8.4  8.5  8.6  8.7  8.8  8.9  9.   9.1  9.2  9.3  9.4  9.5  9.6  9.7\n",
      "  9.8  9.9 10. ]\n",
      "dataset compute_times: [0.  0.3 0.6 0.9 1.2 1.5 1.8 2.1 2.4 2.7 3. ]\n",
      "model times: [0.  0.3 0.6 0.9 1.2 1.5 1.8 2.1 2.4 2.7 3. ]\n"
     ]
    }
   ],
   "source": [
    "print(\"dataset times: {}\\ndataset compute_times: {}\\nmodel times: {}\".format(\n",
    "    b.get_value('times', context='dataset'),\n",
    "    b.get_value('compute_times', context='dataset'),\n",
    "    b.get_value('times', context='model')\n",
    "    ))"
   ]
  },
  {
   "cell_type": "markdown",
   "metadata": {},
   "source": [
    "`compute_times` (when not empty) overrides the value of `times` when computing the model.  However, passing `times` as a keyword argument to [run_compute](../api/phoebe.frontend.bundle.Bundle.run_compute.md) will take precedence over either - and override the computed times across *all* enabled datasets."
   ]
  },
  {
   "cell_type": "code",
   "execution_count": 7,
   "metadata": {},
   "outputs": [
    {
     "data": {
      "text/plain": [
       "<ParameterSet: 2 parameters | qualifiers: fluxes, times>"
      ]
     },
     "execution_count": 7,
     "metadata": {},
     "output_type": "execute_result"
    }
   ],
   "source": [
    "b.run_compute(times=[0,0.2])"
   ]
  },
  {
   "cell_type": "code",
   "execution_count": 8,
   "metadata": {},
   "outputs": [
    {
     "name": "stdout",
     "output_type": "stream",
     "text": [
      "dataset times: [ 0.   0.1  0.2  0.3  0.4  0.5  0.6  0.7  0.8  0.9  1.   1.1  1.2  1.3\n",
      "  1.4  1.5  1.6  1.7  1.8  1.9  2.   2.1  2.2  2.3  2.4  2.5  2.6  2.7\n",
      "  2.8  2.9  3.   3.1  3.2  3.3  3.4  3.5  3.6  3.7  3.8  3.9  4.   4.1\n",
      "  4.2  4.3  4.4  4.5  4.6  4.7  4.8  4.9  5.   5.1  5.2  5.3  5.4  5.5\n",
      "  5.6  5.7  5.8  5.9  6.   6.1  6.2  6.3  6.4  6.5  6.6  6.7  6.8  6.9\n",
      "  7.   7.1  7.2  7.3  7.4  7.5  7.6  7.7  7.8  7.9  8.   8.1  8.2  8.3\n",
      "  8.4  8.5  8.6  8.7  8.8  8.9  9.   9.1  9.2  9.3  9.4  9.5  9.6  9.7\n",
      "  9.8  9.9 10. ]\n",
      "dataset compute_times: [0.  0.3 0.6 0.9 1.2 1.5 1.8 2.1 2.4 2.7 3. ]\n",
      "model times: [0.  0.2]\n"
     ]
    }
   ],
   "source": [
    "print(\"dataset times: {}\\ndataset compute_times: {}\\nmodel times: {}\".format(\n",
    "    b.get_value('times', context='dataset'),\n",
    "    b.get_value('compute_times', context='dataset'),\n",
    "    b.get_value('times', context='model')\n",
    "    ))"
   ]
  },
  {
   "cell_type": "code",
   "execution_count": 9,
   "metadata": {},
   "outputs": [
    {
     "data": {
      "text/plain": [
       "<ParameterSet: 2 parameters | qualifiers: fluxes, times>"
      ]
     },
     "execution_count": 9,
     "metadata": {},
     "output_type": "execute_result"
    }
   ],
   "source": [
    "b.run_compute()"
   ]
  },
  {
   "cell_type": "code",
   "execution_count": 10,
   "metadata": {},
   "outputs": [
    {
     "name": "stdout",
     "output_type": "stream",
     "text": [
      "dataset times: [ 0.   0.1  0.2  0.3  0.4  0.5  0.6  0.7  0.8  0.9  1.   1.1  1.2  1.3\n",
      "  1.4  1.5  1.6  1.7  1.8  1.9  2.   2.1  2.2  2.3  2.4  2.5  2.6  2.7\n",
      "  2.8  2.9  3.   3.1  3.2  3.3  3.4  3.5  3.6  3.7  3.8  3.9  4.   4.1\n",
      "  4.2  4.3  4.4  4.5  4.6  4.7  4.8  4.9  5.   5.1  5.2  5.3  5.4  5.5\n",
      "  5.6  5.7  5.8  5.9  6.   6.1  6.2  6.3  6.4  6.5  6.6  6.7  6.8  6.9\n",
      "  7.   7.1  7.2  7.3  7.4  7.5  7.6  7.7  7.8  7.9  8.   8.1  8.2  8.3\n",
      "  8.4  8.5  8.6  8.7  8.8  8.9  9.   9.1  9.2  9.3  9.4  9.5  9.6  9.7\n",
      "  9.8  9.9 10. ]\n",
      "dataset compute_times: [0.  0.3 0.6 0.9 1.2 1.5 1.8 2.1 2.4 2.7 3. ]\n",
      "model times: [0.  0.3 0.6 0.9 1.2 1.5 1.8 2.1 2.4 2.7 3. ]\n"
     ]
    }
   ],
   "source": [
    "print(\"dataset times: {}\\ndataset compute_times: {}\\nmodel times: {}\".format(\n",
    "    b.get_value('times', context='dataset'),\n",
    "    b.get_value('compute_times', context='dataset'),\n",
    "    b.get_value('times', context='model')\n",
    "    ))"
   ]
  },
  {
   "cell_type": "markdown",
   "metadata": {},
   "source": [
    "Phase-Time Conversion\n",
    "----------------------------------"
   ]
  },
  {
   "cell_type": "markdown",
   "metadata": {},
   "source": [
    "In addition to the ability to provide `compute_times`, we can alternatively provide `compute_phases`.  These two parameters are linked via a constraint (see the [constraints tutorial](./constraints.ipynb)), with `compute_phases` *constrained* by default."
   ]
  },
  {
   "cell_type": "code",
   "execution_count": 11,
   "metadata": {},
   "outputs": [
    {
     "name": "stdout",
     "output_type": "stream",
     "text": [
      "ParameterSet: 4 parameters\n",
      "              times@lc01@dataset: [ 0.   0.1  0.2 ...  9.8  9.9 10. ] d\n",
      "      compute_times@lc01@dataset: [0.  0.3 0.6 ... 2.4 2.7 3. ] d\n",
      "*    compute_phases@lc01@dataset: [ 0.   0.3 -0.4 ...  0.4 -0.3  0. ]\n",
      "  compute_phases_t0@lc01@dataset: t0_supconj\n"
     ]
    }
   ],
   "source": [
    "print(b.filter(qualifier=['times', 'compute_times', 'compute_phases', 'compute_phases_t0'], context='dataset'))"
   ]
  },
  {
   "cell_type": "markdown",
   "metadata": {},
   "source": [
    "Essentially, this constraint does the same thing as [b.to_phase](../api/phoebe.frontend.bundle.Bundle.to_phase.md) or [b.to_time](../api/phoebe.frontend.bundle.Bundle.to_time.md), using the appropriate t0 according to `compute_phases_t0` from the **top-level** orbit in the hierarchy."
   ]
  },
  {
   "cell_type": "code",
   "execution_count": 12,
   "metadata": {},
   "outputs": [
    {
     "name": "stdout",
     "output_type": "stream",
     "text": [
      "Constrains (qualifier): compute_phases\n",
      "Expression in solar units (value): times_to_phases({compute_times@lc01@dataset}, {period@binary@component}, {dpdt@binary@component}, {compute_phases_t0@lc01@dataset}, {t0_supconj@binary@component}, {t0_perpass@binary@component}, {t0_ref@binary@component})\n",
      "Current Result (result): [ 0.   0.3 -0.4 -0.1  0.2  0.5 -0.2  0.1  0.4 -0.3  0. ]\n"
     ]
    }
   ],
   "source": [
    "print(b.get_constraint('compute_phases'))"
   ]
  },
  {
   "cell_type": "code",
   "execution_count": 13,
   "metadata": {},
   "outputs": [
    {
     "name": "stdout",
     "output_type": "stream",
     "text": [
      "['t0_supconj', 't0_perpass', 't0_ref']\n"
     ]
    }
   ],
   "source": [
    "print(b.get_parameter('compute_phases_t0').choices)"
   ]
  },
  {
   "cell_type": "markdown",
   "metadata": {},
   "source": [
    "In order to provide `compute_phases` instead of `compute_times`, we must call [b.flip_constraint](../api/phoebe.frontend.bundle.Bundle.flip_constraint.md)."
   ]
  },
  {
   "cell_type": "code",
   "execution_count": 14,
   "metadata": {},
   "outputs": [
    {
     "data": {
      "text/plain": [
       "<ConstraintParameter: {compute_times@lc01@dataset} = phases_to_times({compute_phases@lc01@dataset}, {period@binary@component}, {dpdt@binary@component}, {compute_phases_t0@lc01@dataset}, {t0_supconj@binary@component}, {t0_perpass@binary@component}, {t0_ref@binary@component}) (solar units) => [ 0.   0.3 -0.4 -0.1  0.2  0.5 -0.2  0.1  0.4 -0.3  0. ] d>"
      ]
     },
     "execution_count": 14,
     "metadata": {},
     "output_type": "execute_result"
    }
   ],
   "source": [
    "b.flip_constraint('compute_phases', solve_for='compute_times')"
   ]
  },
  {
   "cell_type": "code",
   "execution_count": 15,
   "metadata": {},
   "outputs": [],
   "source": [
    "b.set_value('compute_phases', phoebe.linspace(0,1,11))"
   ]
  },
  {
   "cell_type": "code",
   "execution_count": 16,
   "metadata": {},
   "outputs": [
    {
     "name": "stdout",
     "output_type": "stream",
     "text": [
      "ParameterSet: 4 parameters\n",
      "              times@lc01@dataset: [ 0.   0.1  0.2 ...  9.8  9.9 10. ] d\n",
      "*     compute_times@lc01@dataset: [0.  0.1 0.2 ... 0.8 0.9 1. ] d\n",
      "     compute_phases@lc01@dataset: [0.  0.1 0.2 ... 0.8 0.9 1. ]\n",
      "  compute_phases_t0@lc01@dataset: t0_supconj\n"
     ]
    }
   ],
   "source": [
    "print(b.filter(qualifier=['times', 'compute_times', 'compute_phases', 'compute_phases_t0'], context='dataset'))"
   ]
  },
  {
   "cell_type": "markdown",
   "metadata": {},
   "source": [
    "Note that under the hood, PHOEBE **always** works in time-space, meaning it is the *constrained* value of `compute_times` that is being passed under-the-hood."
   ]
  },
  {
   "cell_type": "markdown",
   "metadata": {},
   "source": [
    "Also note that if directly passing `compute_phases` to [b.add_dataset](../api/phoebe.frontend.bundle.Bundle.add_dataset.md), the constraint will be flipped on our behalf.  We would then need to flip the constraint in order to provide `compute_times` instead."
   ]
  },
  {
   "cell_type": "markdown",
   "metadata": {},
   "source": [
    "Finally, it is important to make the distinction that this is **not** adding support for **observations** in phases.  If we have an old light curve that is only available in phase, we still must convert these to times manually (or via [b.to_time](../api/phoebe.frontend.bundle.Bundle.to_time.md)).  This restriction is intentional: we do not want the mapping between phase and time to change as the ephemeris is changed or fitted, rather we want to try to map from phase to time using the ephemeris that was originally used when the dataset was recorded (if possible, or the best possible guess)."
   ]
  },
  {
   "cell_type": "markdown",
   "metadata": {},
   "source": [
    "Interpolating the Model\n",
    "------------------------------"
   ]
  },
  {
   "cell_type": "markdown",
   "metadata": {},
   "source": [
    "Whether or not we used `compute_times`/`compute_phases` or not, it is sometimes useful to be able to interpolate on the resulting model.  In the case where we provided `compute_times`/`compute_phases` to \"down-sample\" from a large dataset, this can be particularly useful.\n",
    "\n",
    "We can call [interp_value](../api/phoebe.parameters.FloatArrayParameter.interp_value.md) on any [FloatArrayParameter](../api/phoebe.parameters.FloatArrayParameter.md).  "
   ]
  },
  {
   "cell_type": "code",
   "execution_count": 17,
   "metadata": {},
   "outputs": [
    {
     "data": {
      "text/plain": [
       "array([0.98321474, 2.00648595, 1.99254683, 1.99240273, 2.0063705 ,\n",
       "       0.98321474, 2.00648595, 1.99254683, 1.99240273, 2.0063705 ,\n",
       "       0.98321474])"
      ]
     },
     "execution_count": 17,
     "metadata": {},
     "output_type": "execute_result"
    }
   ],
   "source": [
    "b.get_parameter('fluxes', context='model').get_value()"
   ]
  },
  {
   "cell_type": "code",
   "execution_count": 18,
   "metadata": {},
   "outputs": [
    {
     "data": {
      "text/plain": [
       "1.9970586511176034"
      ]
     },
     "execution_count": 18,
     "metadata": {},
     "output_type": "execute_result"
    }
   ],
   "source": [
    "b.get_parameter('fluxes', context='model').interp_value(times=1.0)"
   ]
  },
  {
   "cell_type": "code",
   "execution_count": 19,
   "metadata": {},
   "outputs": [
    {
     "data": {
      "text/plain": [
       "array([0.98321474, 1.08554186, 1.18786898, 1.2901961 , 1.39252322,\n",
       "       1.49485034, 1.59717747, 1.69950459, 1.80183171, 1.90415883,\n",
       "       2.00648595, 2.00509204, 2.00369813, 2.00230422, 2.0009103 ,\n",
       "       1.99951639, 1.99812248, 1.99672857, 1.99533466, 1.99394075,\n",
       "       1.99254683, 1.99253242, 1.99251801, 1.9925036 , 1.99248919,\n",
       "       1.99247478, 1.99246037, 1.99244596, 1.99243155, 1.99241714,\n",
       "       1.99240273, 1.99379951, 1.99519628, 1.99659306, 1.99798984,\n",
       "       1.99938661, 2.00078339, 2.00218017, 2.00357694, 2.00497372,\n",
       "       2.0063705 , 1.90405492, 1.80173934, 1.69942377, 1.59710819,\n",
       "       1.49479262, 1.39247704, 1.29016147, 1.18784589, 1.08553031,\n",
       "       0.98321474, 1.08554186, 1.18786898, 1.2901961 , 1.39252322,\n",
       "       1.49485034, 1.59717747, 1.69950459, 1.80183171, 1.90415883,\n",
       "       2.00648595, 2.00509204, 2.00369813, 2.00230422, 2.0009103 ,\n",
       "       1.99951639, 1.99812248, 1.99672857, 1.99533466, 1.99394075,\n",
       "       1.99254683, 1.99253242, 1.99251801, 1.9925036 , 1.99248919,\n",
       "       1.99247478, 1.99246037, 1.99244596, 1.99243155, 1.99241714,\n",
       "       1.99240273, 1.99379951, 1.99519628, 1.99659306, 1.99798984,\n",
       "       1.99938661, 2.00078339, 2.00218017, 2.00357694, 2.00497372,\n",
       "       2.0063705 , 1.90405492, 1.80173934, 1.69942377, 1.59710819,\n",
       "       1.49479262, 1.39247704, 1.29016147, 1.18784589, 1.08553031,\n",
       "       0.98321474])"
      ]
     },
     "execution_count": 19,
     "metadata": {},
     "output_type": "execute_result"
    }
   ],
   "source": [
    "b.get_parameter('fluxes', context='model').interp_value(times=phoebe.linspace(0,3,101))"
   ]
  },
  {
   "cell_type": "markdown",
   "metadata": {},
   "source": [
    "In the case of times, this will *automatically* interpolate in phase-space if the provided time is outside the range of the referenced times array.  If you have a logger enabled with at least the 'warning' level, this will raise a warning and state the phases at which the interpolation will be completed."
   ]
  },
  {
   "cell_type": "code",
   "execution_count": 20,
   "metadata": {},
   "outputs": [
    {
     "data": {
      "text/plain": [
       "0.9832147378019486"
      ]
     },
     "execution_count": 20,
     "metadata": {},
     "output_type": "execute_result"
    }
   ],
   "source": [
    "b.get_parameter('fluxes', context='model').interp_value(times=5)"
   ]
  },
  {
   "cell_type": "markdown",
   "metadata": {},
   "source": [
    "Determining & Plotting Residuals\n",
    "----------------------------"
   ]
  },
  {
   "cell_type": "markdown",
   "metadata": {},
   "source": [
    "One particularly useful case for interpolating is to compare a model (perhaps computed in phase-space) to a dataset with a large number of datapoints.  We can do this directly by calling [compute_residuals](../api/phoebe.parameters.ParameterSet.compute_residuals.md), which will handle any necessary interpolation and compare the dependent variable between the dataset and models.\n",
    "\n",
    "Note that if there are more than one dataset or model attached to the bundle, it may be necessary to pass `dataset` and/or `model` (or filter in advanced and call compute_residuals on the filtered [ParameterSet](../api/phoebe.paraemters.ParameterSet.md).\n",
    "\n",
    "To see this in action, we'll first create a \"fake\" observational dataset, add some noise, recompute the model using `compute_phases`, and then compute the residuals."
   ]
  },
  {
   "cell_type": "code",
   "execution_count": 21,
   "metadata": {},
   "outputs": [
    {
     "data": {
      "text/plain": [
       "<ParameterSet: 36 parameters | contexts: dataset, compute, constraint>"
      ]
     },
     "execution_count": 21,
     "metadata": {},
     "output_type": "execute_result"
    }
   ],
   "source": [
    "b.add_dataset('lc', \n",
    "              times=phoebe.linspace(0,10,1000),\n",
    "              dataset='lc01',\n",
    "              overwrite=True)"
   ]
  },
  {
   "cell_type": "code",
   "execution_count": 22,
   "metadata": {},
   "outputs": [
    {
     "data": {
      "text/plain": [
       "<ParameterSet: 2 parameters | qualifiers: fluxes, times>"
      ]
     },
     "execution_count": 22,
     "metadata": {},
     "output_type": "execute_result"
    }
   ],
   "source": [
    "b.run_compute(irrad_method='none')"
   ]
  },
  {
   "cell_type": "code",
   "execution_count": 23,
   "metadata": {},
   "outputs": [],
   "source": [
    "fluxes = b.get_value('fluxes', context='model')\n",
    "b.set_value('fluxes', context='dataset', value=fluxes)"
   ]
  },
  {
   "cell_type": "code",
   "execution_count": 24,
   "metadata": {},
   "outputs": [
    {
     "data": {
      "text/plain": [
       "<ConstraintParameter: {compute_times@lc01@dataset} = phases_to_times({compute_phases@lc01@dataset}, {period@binary@component}, {dpdt@binary@component}, {compute_phases_t0@lc01@dataset}, {t0_supconj@binary@component}, {t0_perpass@binary@component}, {t0_ref@binary@component}) (solar units) => [] d>"
      ]
     },
     "execution_count": 24,
     "metadata": {},
     "output_type": "execute_result"
    }
   ],
   "source": [
    "b.flip_constraint('compute_phases', solve_for='compute_times')"
   ]
  },
  {
   "cell_type": "code",
   "execution_count": 25,
   "metadata": {},
   "outputs": [],
   "source": [
    "b.set_value('compute_phases', phoebe.linspace(0,1,101))"
   ]
  },
  {
   "cell_type": "code",
   "execution_count": 26,
   "metadata": {},
   "outputs": [],
   "source": [
    "b.set_value('teff', component='primary', value=5950)"
   ]
  },
  {
   "cell_type": "code",
   "execution_count": 27,
   "metadata": {},
   "outputs": [
    {
     "data": {
      "text/plain": [
       "<ParameterSet: 2 parameters | qualifiers: fluxes, times>"
      ]
     },
     "execution_count": 27,
     "metadata": {},
     "output_type": "execute_result"
    }
   ],
   "source": [
    "b.run_compute(irrad_method='none')"
   ]
  },
  {
   "cell_type": "code",
   "execution_count": 28,
   "metadata": {},
   "outputs": [
    {
     "name": "stdout",
     "output_type": "stream",
     "text": [
      "(1000, 101)\n"
     ]
    }
   ],
   "source": [
    "print(len(b.get_value('fluxes', context='dataset')), len(b.get_value('fluxes', context='model')))"
   ]
  },
  {
   "cell_type": "code",
   "execution_count": 29,
   "metadata": {},
   "outputs": [
    {
     "data": {
      "text/latex": [
       "$[-0.03678538,~-0.036513363,~-0.036560199,~\\dots,~-0.03655964,~-0.036512688,~-0.03678538] \\; \\mathrm{\\frac{W}{m^{2}}}$"
      ],
      "text/plain": [
       "<Quantity [-0.03678538, -0.03651336, -0.0365602 , -0.03669856, -0.03679351,\n",
       "           -0.0367476 , -0.03672942, -0.03688905, -0.03692179, -0.03696139,\n",
       "           -0.03699784, -0.03703974, -0.03707496, -0.03712044, -0.0371645 ,\n",
       "           -0.03720938, -0.03725356, -0.03729226, -0.03734189, -0.0373645 ,\n",
       "           -0.03740442, -0.0374236 , -0.03745088, -0.03745887, -0.03746325,\n",
       "           -0.0374846 , -0.03749697, -0.03749536, -0.03747545, -0.0374708 ,\n",
       "           -0.03744064, -0.03740618, -0.03736284, -0.03734352, -0.03729775,\n",
       "           -0.03726241, -0.03722327, -0.03716329, -0.03710647, -0.03706809,\n",
       "           -0.03705868, -0.03699903, -0.03696222, -0.03680388, -0.0348211 ,\n",
       "           -0.03261927, -0.02777459, -0.02129602, -0.01406285, -0.00764566,\n",
       "           -0.17033377, -0.00719887, -0.01440611, -0.02159709, -0.02787471,\n",
       "           -0.03225873, -0.03564985, -0.03691578, -0.03695968, -0.03702781,\n",
       "           -0.03704352, -0.03709418, -0.03711171, -0.03716458, -0.03722025,\n",
       "           -0.0372635 , -0.0373127 , -0.03733779, -0.03741303, -0.037409  ,\n",
       "           -0.03745767, -0.03745602, -0.03748275, -0.03746271, -0.03743684,\n",
       "           -0.03747751, -0.03749985, -0.03749637, -0.03745232, -0.03745398,\n",
       "           -0.03740603, -0.03735378, -0.03728842, -0.03729585, -0.03723168,\n",
       "           -0.03720253, -0.03717242, -0.03710729, -0.03703155, -0.03701316,\n",
       "           -0.03704906, -0.03697011, -0.03694862, -0.03666227, -0.03320245,\n",
       "           -0.03446225, -0.03525368, -0.0359461 , -0.03692946, -0.03965285,\n",
       "           -0.04305028, -0.03727387, -0.03607445, -0.03520459, -0.03446699,\n",
       "           -0.03332847, -0.03506196, -0.03688811, -0.03693633, -0.03702274,\n",
       "           -0.037008  , -0.03705939, -0.03704673, -0.03710306, -0.03716723,\n",
       "           -0.03720519, -0.03725561, -0.03727737, -0.03737699, -0.03736292,\n",
       "           -0.03742528, -0.03741773, -0.03745288, -0.03742725, -0.03739389,\n",
       "           -0.037463  , -0.03750986, -0.03751819, -0.03747892, -0.03749212,\n",
       "           -0.03744554, -0.0373862 , -0.03730719, -0.03734627, -0.03726728,\n",
       "           -0.03724042, -0.03721857, -0.03714739, -0.03704729, -0.0370439 ,\n",
       "           -0.03708675, -0.03699992, -0.03698826, -0.03653294, -0.03115842,\n",
       "           -0.02980893, -0.02560059, -0.01982553, -0.01363651, -0.00998676,\n",
       "           -0.15774665, -0.00858555, -0.01470196, -0.02090845, -0.02629802,\n",
       "           -0.02946474, -0.03475443, -0.03690316, -0.03696692, -0.0370862 ,\n",
       "           -0.0370503 , -0.03711098, -0.0370825 , -0.03715479, -0.03722598,\n",
       "           -0.03726923, -0.03731177, -0.03732235, -0.03744114, -0.03741776,\n",
       "           -0.03748548, -0.03745612, -0.03747815, -0.03743699, -0.03738327,\n",
       "           -0.03744638, -0.03748607, -0.03751493, -0.03746566, -0.03747812,\n",
       "           -0.03742114, -0.03733209, -0.03724004, -0.03731133, -0.03720619,\n",
       "           -0.03718644, -0.03717571, -0.03710531, -0.03698415, -0.0369888 ,\n",
       "           -0.03704253, -0.03696629, -0.03697226, -0.03640083, -0.03032866,\n",
       "           -0.03247363, -0.03396101, -0.03535465, -0.03728353, -0.04245163,\n",
       "           -0.04622505, -0.03774868, -0.03563078, -0.03398963, -0.03262073,\n",
       "           -0.03060049, -0.03494781, -0.03686975, -0.03694077, -0.03706805,\n",
       "           -0.03700806, -0.03707029, -0.0370237 , -0.03710592, -0.03716656,\n",
       "           -0.03721769, -0.03725886, -0.03725172, -0.03740176, -0.03737505,\n",
       "           -0.03745847, -0.03741511, -0.03745042, -0.03740729, -0.03735327,\n",
       "           -0.03742195, -0.03747404, -0.03754407, -0.0374984 , -0.03751849,\n",
       "           -0.03746974, -0.03736481, -0.03726796, -0.03736306, -0.03725265,\n",
       "           -0.03723191, -0.03722554, -0.03715813, -0.03701266, -0.0370137 ,\n",
       "           -0.03706655, -0.03698997, -0.03700917, -0.03627296, -0.0284635 ,\n",
       "           -0.02760778, -0.02384178, -0.01857845, -0.0131979 , -0.01191272,\n",
       "           -0.14321198, -0.00972941, -0.01505164, -0.02052185, -0.02522208,\n",
       "           -0.02735739, -0.03501933, -0.03688336, -0.03697315, -0.03710733,\n",
       "           -0.03704911, -0.03711548, -0.03707226, -0.03717187, -0.03721187,\n",
       "           -0.03726751, -0.03730743, -0.03728573, -0.03746478, -0.03743755,\n",
       "           -0.03751285, -0.03744535, -0.03748748, -0.03742386, -0.03734917,\n",
       "           -0.03740719, -0.0374541 , -0.03753254, -0.03747844, -0.03749014,\n",
       "           -0.0374517 , -0.03731703, -0.03721218, -0.0373091 , -0.03720791,\n",
       "           -0.03717793, -0.03717869, -0.03713093, -0.03696452, -0.03695548,\n",
       "           -0.03701859, -0.03696055, -0.03699634, -0.03616161, -0.02833346,\n",
       "           -0.03109591, -0.03307223, -0.0349839 , -0.03760459, -0.04480693,\n",
       "           -0.04780916, -0.0379902 , -0.035257  , -0.0330924 , -0.03127964,\n",
       "           -0.02857805, -0.03520026, -0.03685395, -0.03694799, -0.03707326,\n",
       "           -0.03701531, -0.03707349, -0.03701884, -0.03713017, -0.03715172,\n",
       "           -0.03720272, -0.03725019, -0.03721254, -0.03742214, -0.03739744,\n",
       "           -0.03747607, -0.03740714, -0.03747794, -0.03739985, -0.03732896,\n",
       "           -0.03739283, -0.03745625, -0.03752777, -0.03751307, -0.03751666,\n",
       "           -0.03749592, -0.03735237, -0.03724768, -0.03733352, -0.03726393,\n",
       "           -0.03721851, -0.03723129, -0.03718911, -0.03700812, -0.0369813 ,\n",
       "           -0.03704647, -0.03699042, -0.0370361 , -0.03602495, -0.02662048,\n",
       "           -0.02601629, -0.02247013, -0.01754543, -0.01270682, -0.01335203,\n",
       "           -0.1273416 , -0.01064657, -0.01548844, -0.02046017, -0.02463831,\n",
       "           -0.02597936, -0.03526914, -0.0368725 , -0.03698235, -0.03710844,\n",
       "           -0.0370643 , -0.03712957, -0.03706931, -0.0371879 , -0.03720277,\n",
       "           -0.03725497, -0.03730328, -0.03725145, -0.03746816, -0.03745299,\n",
       "           -0.03752454, -0.03744863, -0.03751777, -0.03741827, -0.03733068,\n",
       "           -0.03738988, -0.0374489 , -0.03749523, -0.03750804, -0.03747992,\n",
       "           -0.03747366, -0.03730663, -0.03719453, -0.0372694 , -0.03722465,\n",
       "           -0.03716499, -0.03719589, -0.03715722, -0.036972  , -0.03692852,\n",
       "           -0.03699047, -0.03696439, -0.03701314, -0.0359282 , -0.02719968,\n",
       "           -0.03030713, -0.03255075, -0.03481001, -0.03786553, -0.04662449,\n",
       "           -0.0482594 , -0.03804304, -0.03498352, -0.03253308, -0.03043456,\n",
       "           -0.02729607, -0.03543921, -0.03684811, -0.0369548 , -0.03706194,\n",
       "           -0.03703252, -0.03709298, -0.03701729, -0.0371408 , -0.03713796,\n",
       "           -0.03718892, -0.03724577, -0.03718156, -0.03739763, -0.03740842,\n",
       "           -0.03749227, -0.03742684, -0.03750011, -0.03740898, -0.03731355,\n",
       "           -0.03738433, -0.0374569 , -0.037487  , -0.03752993, -0.03751204,\n",
       "           -0.0375271 , -0.03734829, -0.03723818, -0.0373048 , -0.03727606,\n",
       "           -0.03720475, -0.03724986, -0.03721415, -0.03702914, -0.03695554,\n",
       "           -0.03700708, -0.03700197, -0.03703481, -0.03577908, -0.02563883,\n",
       "           -0.02500185, -0.02145636, -0.01669914, -0.01215032, -0.01420242,\n",
       "           -0.11047932, -0.01141184, -0.01603254, -0.02074755, -0.02456717,\n",
       "           -0.02534662, -0.03552463, -0.03687942, -0.03698616, -0.03709133,\n",
       "           -0.03708428, -0.03714481, -0.03707069, -0.03719839, -0.03719073,\n",
       "           -0.03724303, -0.037303  , -0.03722863, -0.03742959, -0.03743842,\n",
       "           -0.03754445, -0.03748244, -0.03753995, -0.03743614, -0.03731695,\n",
       "           -0.03738057, -0.03745253, -0.03745182, -0.03748971, -0.03749142,\n",
       "           -0.0375084 , -0.03731071, -0.03720031, -0.03724779, -0.03722425,\n",
       "           -0.03714714, -0.0372085 , -0.03717081, -0.03700392, -0.03690414,\n",
       "           -0.03695876, -0.03698066, -0.03700864, -0.03568049, -0.02689827,\n",
       "           -0.03009193, -0.03238731, -0.03480814, -0.03804574, -0.04781277,\n",
       "           -0.04781812, -0.0379567 , -0.03482765, -0.03232021, -0.03011914,\n",
       "           -0.02677021, -0.03569203, -0.03686588, -0.03695025, -0.03704656,\n",
       "           -0.03705655, -0.03710215, -0.03702317, -0.03714527, -0.03713985,\n",
       "           -0.03718876, -0.03725524, -0.03717644, -0.03736757, -0.03736976,\n",
       "           -0.03750981, -0.03746162, -0.03753579, -0.03743474, -0.03730136,\n",
       "           -0.03737665, -0.03746665, -0.03745289, -0.03750017, -0.03753185,\n",
       "           -0.03755957, -0.03736366, -0.03725963, -0.03728564, -0.03726978,\n",
       "           -0.03719033, -0.03725756, -0.03719553, -0.03706888, -0.03693963,\n",
       "           -0.03697763, -0.03701532, -0.03703053, -0.03551233, -0.02545207,\n",
       "           -0.02453978, -0.02080409, -0.01600353, -0.01148951, -0.01438535,\n",
       "           -0.09280666, -0.01205462, -0.01671256, -0.02138022, -0.02503959,\n",
       "           -0.02548766, -0.03579043, -0.03690138, -0.03697175, -0.03707604,\n",
       "           -0.03710393, -0.03714978, -0.03707988, -0.03719796, -0.03720984,\n",
       "           -0.03725195, -0.0373142 , -0.03723987, -0.03741403, -0.03740324,\n",
       "           -0.03754874, -0.03751342, -0.03758343, -0.03746858, -0.03730191,\n",
       "           -0.03737306, -0.03745866, -0.03742199, -0.03746163, -0.03748502,\n",
       "           -0.03753554, -0.0373429 , -0.03723387, -0.03723563, -0.0372213 ,\n",
       "           -0.03714046, -0.03720646, -0.03713487, -0.03705334, -0.03690604,\n",
       "           -0.03693504, -0.03698495, -0.03699369, -0.03542225, -0.02737362,\n",
       "           -0.03039993, -0.03259739, -0.03494594, -0.0381062 , -0.0482684 ,\n",
       "           -0.04663273, -0.03776642, -0.03482345, -0.03246749, -0.03035491,\n",
       "           -0.02703991, -0.03593947, -0.03688276, -0.03693705, -0.0370358 ,\n",
       "           -0.03705868, -0.03709831, -0.03703167, -0.03713738, -0.03716206,\n",
       "           -0.03720567, -0.03726593, -0.03720135, -0.03735627, -0.03734715,\n",
       "           -0.03749779, -0.03748788, -0.03757436, -0.0374728 , -0.03729419,\n",
       "           -0.03737574, -0.03746639, -0.03743068, -0.03747586, -0.03749553,\n",
       "           -0.03757792, -0.03740964, -0.03730107, -0.0372826 , -0.03727129,\n",
       "           -0.03718444, -0.03724914, -0.03716605, -0.03712621, -0.03694852,\n",
       "           -0.03696063, -0.0370025 , -0.03699354, -0.03524053, -0.02604219,\n",
       "           -0.02459796, -0.02052686, -0.01543302, -0.0107005 , -0.01375062,\n",
       "           -0.07444605, -0.01261312, -0.0175565 , -0.02238689, -0.02607271,\n",
       "           -0.02645787, -0.03604473, -0.03691752, -0.03696785, -0.03707134,\n",
       "           -0.03709782, -0.03714673, -0.0370906 , -0.03719242, -0.03722376,\n",
       "           -0.03728158, -0.03733929, -0.03726858, -0.03739628, -0.03738997,\n",
       "           -0.03752504, -0.0375092 , -0.03761621, -0.03750621, -0.03731036,\n",
       "           -0.03737621, -0.03745039, -0.03740618, -0.03743689, -0.03744411,\n",
       "           -0.03751129, -0.03738539, -0.03727812, -0.03723559, -0.03722185,\n",
       "           -0.03713351, -0.0371998 , -0.03711402, -0.03710669, -0.03691932,\n",
       "           -0.0369252 , -0.03695975, -0.03694204, -0.03515937, -0.02862714,\n",
       "           -0.03124313, -0.0331531 , -0.03519786, -0.03802305, -0.04781304,\n",
       "           -0.04481134, -0.03750833, -0.03499586, -0.03298618, -0.03116936,\n",
       "           -0.02816654, -0.03618144, -0.03690186, -0.03693295, -0.03702702,\n",
       "           -0.03704693, -0.03709604, -0.03704971, -0.03714317, -0.03717527,\n",
       "           -0.03723429, -0.03729427, -0.03722314, -0.03733855, -0.03734702,\n",
       "           -0.03747312, -0.0374644 , -0.03760737, -0.03750541, -0.03731891,\n",
       "           -0.03738312, -0.03745438, -0.03742416, -0.03744614, -0.03746655,\n",
       "           -0.03752218, -0.0374372 , -0.03734263, -0.03728409, -0.03726895,\n",
       "           -0.03717897, -0.03724354, -0.03714835, -0.03715361, -0.03696418,\n",
       "           -0.03695581, -0.03697374, -0.03694028, -0.03496383, -0.02740689,\n",
       "           -0.02519315, -0.02057138, -0.01499106, -0.00974937, -0.01210363,\n",
       "           -0.05549762, -0.01310788, -0.01859866, -0.02376614, -0.02768754,\n",
       "           -0.02830104, -0.03629294, -0.03693674, -0.03696775, -0.03705581,\n",
       "           -0.0370854 , -0.03714427, -0.03710867, -0.03720692, -0.03723956,\n",
       "           -0.03729872, -0.03735201, -0.0372871 , -0.03738975, -0.03740203,\n",
       "           -0.03750113, -0.03749139, -0.03762622, -0.03753962, -0.03734649,\n",
       "           -0.03739048, -0.03744042, -0.03740975, -0.0374055 , -0.03742649,\n",
       "           -0.0374617 , -0.03739348, -0.03730428, -0.03724051, -0.0372163 ,\n",
       "           -0.03713178, -0.03719517, -0.03709479, -0.03709971, -0.03693255,\n",
       "           -0.03692704, -0.03693129, -0.03690067, -0.03489253, -0.03064614,\n",
       "           -0.03261017, -0.03403056, -0.03557857, -0.03776524, -0.04621434,\n",
       "           -0.04245588, -0.03719534, -0.03538118, -0.03389619, -0.03255649,\n",
       "           -0.03018577, -0.03641844, -0.03692086, -0.03693606, -0.03700215,\n",
       "           -0.03703723, -0.03709629, -0.03706557, -0.03715619, -0.03718527,\n",
       "           -0.0372469 , -0.03729413, -0.03724872, -0.03734676, -0.03735918,\n",
       "           -0.03745312, -0.03745131, -0.03757945, -0.03753699, -0.03737101,\n",
       "           -0.03740853, -0.03744963, -0.03743789, -0.0374279 , -0.03745043,\n",
       "           -0.03747708, -0.03742779, -0.03735732, -0.03729458, -0.03726854,\n",
       "           -0.03717865, -0.03723197, -0.03713017, -0.03712975, -0.03698029,\n",
       "           -0.0369649 , -0.03694697, -0.03691259, -0.03469534, -0.02950954,\n",
       "           -0.02630294, -0.02093859, -0.01464533, -0.00860719, -0.00913273,\n",
       "           -0.03606703, -0.01356534, -0.0198464 , -0.02556069, -0.02988474,\n",
       "           -0.03106562, -0.03654505, -0.03694757, -0.03697056, -0.03703066,\n",
       "           -0.03708052, -0.03714513, -0.0371341 , -0.03721351, -0.03724816,\n",
       "           -0.03730599, -0.03734454, -0.03731973, -0.03740411, -0.03740968,\n",
       "           -0.03748151, -0.0374753 , -0.03757289, -0.03754945, -0.03741204,\n",
       "           -0.03742758, -0.0374396 , -0.03743013, -0.03740399, -0.03741063,\n",
       "           -0.03741555, -0.03737028, -0.03731858, -0.03724885, -0.03722013,\n",
       "           -0.03713738, -0.03717709, -0.03708551, -0.03708248, -0.03695608,\n",
       "           -0.03694336, -0.03691747, -0.03688452, -0.03502749, -0.0333677 ,\n",
       "           -0.03448139, -0.03522512, -0.03602965, -0.03728664, -0.04305375,\n",
       "           -0.03965459, -0.03686709, -0.03597085, -0.03523079, -0.0345266 ,\n",
       "           -0.03315194, -0.0366623 , -0.03692425, -0.0369398 , -0.03698743,\n",
       "           -0.03703352, -0.03709486, -0.03710131, -0.03716689, -0.0371956 ,\n",
       "           -0.03725465, -0.03728706, -0.03728696, -0.0373636 , -0.03737328,\n",
       "           -0.03743136, -0.03744197, -0.03751225, -0.03750906, -0.03743964,\n",
       "           -0.0374553 , -0.03746378, -0.03746418, -0.03744023, -0.03744005,\n",
       "           -0.0374339 , -0.03740149, -0.03735635, -0.03730387, -0.03726813,\n",
       "           -0.03719844, -0.03720735, -0.03713089, -0.0371101 , -0.03701047,\n",
       "           -0.03698246, -0.03694718, -0.03690627, -0.03562257, -0.03229025,\n",
       "           -0.02788487, -0.02160624, -0.01437517, -0.00720134, -0.0042074 ,\n",
       "           -0.01622608, -0.01402524, -0.02130973, -0.02776804, -0.03265022,\n",
       "           -0.03479889, -0.03679858, -0.03694912, -0.03697976, -0.03703042,\n",
       "           -0.03707819, -0.03713925, -0.03717039, -0.03722435, -0.03726148,\n",
       "           -0.03730978, -0.03734548, -0.03736633, -0.03741577, -0.03743252,\n",
       "           -0.03746677, -0.03747713, -0.03750474, -0.03750673, -0.0374793 ,\n",
       "           -0.03747619, -0.03746739, -0.03745717, -0.03742664, -0.03740573,\n",
       "           -0.03737953, -0.0373457 , -0.03730297, -0.03725831, -0.03721623,\n",
       "           -0.03716821, -0.03713533, -0.03708773, -0.03704421, -0.03699301,\n",
       "           -0.03695973, -0.03692279, -0.03689079, -0.03673028, -0.03675187,\n",
       "           -0.03679562, -0.0366994 , -0.03655964, -0.03651269, -0.03678538] W / m2>"
      ]
     },
     "execution_count": 29,
     "metadata": {},
     "output_type": "execute_result"
    }
   ],
   "source": [
    "b.compute_residuals()"
   ]
  },
  {
   "cell_type": "markdown",
   "metadata": {},
   "source": [
    "If we plot the dataset and model, we see that the model was only computed for one cycle, whereas the dataset extends further in time."
   ]
  },
  {
   "cell_type": "code",
   "execution_count": 30,
   "metadata": {},
   "outputs": [
    {
     "data": {
      "image/png": "[encoded data removed]",
      "text/plain": [
       "<matplotlib.figure.Figure at 0x7f7101f4d090>"
      ]
     },
     "metadata": {},
     "output_type": "display_data"
    }
   ],
   "source": [
    "afig, mplfig = b.plot(show=True)"
   ]
  },
  {
   "cell_type": "markdown",
   "metadata": {},
   "source": [
    "But we can also plot the residuals.  Here, [compute_residuals](../api/phoebe.parameters.ParameterSet.compute_residuals.md) is called internally, interpolating in phase-space, and then plotted in time-space.  See the options for `y` in the [plot API docs](../api/phoebe.parameters.ParameterSet.plot.md) for more details."
   ]
  },
  {
   "cell_type": "code",
   "execution_count": 31,
   "metadata": {},
   "outputs": [
    {
     "data": {
      "image/png": "[encoded data removed]",
      "text/plain": [
       "<matplotlib.figure.Figure at 0x7f71020627d0>"
      ]
     },
     "metadata": {},
     "output_type": "display_data"
    }
   ],
   "source": [
    "afig, mplfig = b.plot(y='residuals', show=True)"
   ]
  },
  {
   "cell_type": "code",
   "execution_count": null,
   "metadata": {},
   "outputs": [],
   "source": []
  }
 ],
 "metadata": {
  "kernelspec": {
   "display_name": "Python 2",
   "language": "python",
   "name": "python2"
  },
  "language_info": {
   "codemirror_mode": {
    "name": "ipython",
    "version": 2
   },
   "file_extension": ".py",
   "mimetype": "text/x-python",
   "name": "python",
   "nbconvert_exporter": "python",
   "pygments_lexer": "ipython2",
   "version": "2.7.15+"
  }
 },
 "nbformat": 4,
 "nbformat_minor": 1
}
