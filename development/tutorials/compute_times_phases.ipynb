{
 "cells": [
  {
   "cell_type": "markdown",
   "metadata": {},
   "source": [
    "Advanced: compute_times & compute_phases\n",
    "============================\n",
    "\n",
    "Setup\n",
    "-----------------------------"
   ]
  },
  {
   "cell_type": "markdown",
   "metadata": {},
   "source": [
    "Let's first make sure we have the latest version of PHOEBE 2.3 installed (uncomment this line if running in an online notebook session such as colab)."
   ]
  },
  {
   "cell_type": "code",
   "execution_count": 1,
   "metadata": {},
   "outputs": [],
   "source": [
    "#!pip install -I \"phoebe>=2.3,<2.4\""
   ]
  },
  {
   "cell_type": "markdown",
   "metadata": {},
   "source": [
    "Let's get started with some basic imports."
   ]
  },
  {
   "cell_type": "code",
   "execution_count": 2,
   "metadata": {},
   "outputs": [],
   "source": [
    "import phoebe\n",
    "from phoebe import u # units\n",
    "\n",
    "b = phoebe.default_binary()"
   ]
  },
  {
   "cell_type": "code",
   "execution_count": 3,
   "metadata": {},
   "outputs": [
    {
     "data": {
      "text/plain": [
       "<ParameterSet: 73 parameters | contexts: constraint, dataset, figure, compute>"
      ]
     },
     "execution_count": 3,
     "metadata": {},
     "output_type": "execute_result"
    }
   ],
   "source": [
    "b.add_dataset('lc', times=phoebe.linspace(0,10,101), dataset='lc01')"
   ]
  },
  {
   "cell_type": "markdown",
   "metadata": {
    "collapsed": true
   },
   "source": [
    "Overriding Computation Times\n",
    "----------------------------\n",
    "\n",
    "If `compute_times` is not empty (by either providing `compute_times` *or* `compute_phases`), the provided value will be used to compute the model instead of those in the `times` parameter.\n",
    "\n",
    "In the case of a [mesh dataset](MESH.ipynb) or [orbit dataset](ORB.ipynb), observations cannot be attached to the dataset, so a `times` parameter does not exist.  In this case `compute_times` or `compute_phases` will *always* be used."
   ]
  },
  {
   "cell_type": "code",
   "execution_count": 4,
   "metadata": {},
   "outputs": [
    {
     "name": "stdout",
     "output_type": "stream",
     "text": [
      "ParameterSet: 2 parameters\n",
      "               times@lc01@dataset: [ 0.   0.1  0.2 ...  9.8  9.9 10. ] d\n",
      "       compute_times@lc01@dataset: [] d\n"
     ]
    }
   ],
   "source": [
    "print(b.filter(qualifier=['times', 'compute_times'], context='dataset'))"
   ]
  },
  {
   "cell_type": "code",
   "execution_count": 5,
   "metadata": {},
   "outputs": [],
   "source": [
    "b.set_value('compute_times', phoebe.linspace(0,3,11))"
   ]
  },
  {
   "cell_type": "code",
   "execution_count": 6,
   "metadata": {},
   "outputs": [
    {
     "name": "stderr",
     "output_type": "stream",
     "text": [
      "100%|██████████| 11/11 [00:00<00:00, 65.23it/s]\n"
     ]
    },
    {
     "data": {
      "text/plain": [
       "<ParameterSet: 3 parameters | qualifiers: times, comments, fluxes>"
      ]
     },
     "execution_count": 6,
     "metadata": {},
     "output_type": "execute_result"
    }
   ],
   "source": [
    "b.run_compute()"
   ]
  },
  {
   "cell_type": "code",
   "execution_count": 7,
   "metadata": {},
   "outputs": [
    {
     "name": "stdout",
     "output_type": "stream",
     "text": [
      "dataset times: [ 0.   0.1  0.2  0.3  0.4  0.5  0.6  0.7  0.8  0.9  1.   1.1  1.2  1.3\n",
      "  1.4  1.5  1.6  1.7  1.8  1.9  2.   2.1  2.2  2.3  2.4  2.5  2.6  2.7\n",
      "  2.8  2.9  3.   3.1  3.2  3.3  3.4  3.5  3.6  3.7  3.8  3.9  4.   4.1\n",
      "  4.2  4.3  4.4  4.5  4.6  4.7  4.8  4.9  5.   5.1  5.2  5.3  5.4  5.5\n",
      "  5.6  5.7  5.8  5.9  6.   6.1  6.2  6.3  6.4  6.5  6.6  6.7  6.8  6.9\n",
      "  7.   7.1  7.2  7.3  7.4  7.5  7.6  7.7  7.8  7.9  8.   8.1  8.2  8.3\n",
      "  8.4  8.5  8.6  8.7  8.8  8.9  9.   9.1  9.2  9.3  9.4  9.5  9.6  9.7\n",
      "  9.8  9.9 10. ]\n",
      "dataset compute_times: [0.  0.3 0.6 0.9 1.2 1.5 1.8 2.1 2.4 2.7 3. ]\n",
      "model times: [0.  0.3 0.6 0.9 1.2 1.5 1.8 2.1 2.4 2.7 3. ]\n"
     ]
    }
   ],
   "source": [
    "print(\"dataset times: {}\\ndataset compute_times: {}\\nmodel times: {}\".format(\n",
    "    b.get_value('times', context='dataset'),\n",
    "    b.get_value('compute_times', context='dataset'),\n",
    "    b.get_value('times', context='model')\n",
    "    ))"
   ]
  },
  {
   "cell_type": "markdown",
   "metadata": {},
   "source": [
    "`compute_times` (when not empty) overrides the value of `times` when computing the model.  However, passing `times` as a keyword argument to [run_compute](../api/phoebe.frontend.bundle.Bundle.run_compute.md) will take precedence over either - and override the computed times across *all* enabled datasets."
   ]
  },
  {
   "cell_type": "code",
   "execution_count": 8,
   "metadata": {},
   "outputs": [
    {
     "name": "stderr",
     "output_type": "stream",
     "text": [
      "100%|██████████| 2/2 [00:00<00:00, 19.32it/s]\n"
     ]
    },
    {
     "data": {
      "text/plain": [
       "<ParameterSet: 3 parameters | qualifiers: times, comments, fluxes>"
      ]
     },
     "execution_count": 8,
     "metadata": {},
     "output_type": "execute_result"
    }
   ],
   "source": [
    "b.run_compute(times=[0,0.2])"
   ]
  },
  {
   "cell_type": "code",
   "execution_count": 9,
   "metadata": {},
   "outputs": [
    {
     "name": "stdout",
     "output_type": "stream",
     "text": [
      "dataset times: [ 0.   0.1  0.2  0.3  0.4  0.5  0.6  0.7  0.8  0.9  1.   1.1  1.2  1.3\n",
      "  1.4  1.5  1.6  1.7  1.8  1.9  2.   2.1  2.2  2.3  2.4  2.5  2.6  2.7\n",
      "  2.8  2.9  3.   3.1  3.2  3.3  3.4  3.5  3.6  3.7  3.8  3.9  4.   4.1\n",
      "  4.2  4.3  4.4  4.5  4.6  4.7  4.8  4.9  5.   5.1  5.2  5.3  5.4  5.5\n",
      "  5.6  5.7  5.8  5.9  6.   6.1  6.2  6.3  6.4  6.5  6.6  6.7  6.8  6.9\n",
      "  7.   7.1  7.2  7.3  7.4  7.5  7.6  7.7  7.8  7.9  8.   8.1  8.2  8.3\n",
      "  8.4  8.5  8.6  8.7  8.8  8.9  9.   9.1  9.2  9.3  9.4  9.5  9.6  9.7\n",
      "  9.8  9.9 10. ]\n",
      "dataset compute_times: [0.  0.3 0.6 0.9 1.2 1.5 1.8 2.1 2.4 2.7 3. ]\n",
      "model times: [0.  0.2]\n"
     ]
    }
   ],
   "source": [
    "print(\"dataset times: {}\\ndataset compute_times: {}\\nmodel times: {}\".format(\n",
    "    b.get_value('times', context='dataset'),\n",
    "    b.get_value('compute_times', context='dataset'),\n",
    "    b.get_value('times', context='model')\n",
    "    ))"
   ]
  },
  {
   "cell_type": "code",
   "execution_count": 10,
   "metadata": {},
   "outputs": [
    {
     "name": "stderr",
     "output_type": "stream",
     "text": [
      "100%|██████████| 11/11 [00:00<00:00, 65.19it/s]\n"
     ]
    },
    {
     "data": {
      "text/plain": [
       "<ParameterSet: 3 parameters | qualifiers: times, comments, fluxes>"
      ]
     },
     "execution_count": 10,
     "metadata": {},
     "output_type": "execute_result"
    }
   ],
   "source": [
    "b.run_compute()"
   ]
  },
  {
   "cell_type": "code",
   "execution_count": 11,
   "metadata": {},
   "outputs": [
    {
     "name": "stdout",
     "output_type": "stream",
     "text": [
      "dataset times: [ 0.   0.1  0.2  0.3  0.4  0.5  0.6  0.7  0.8  0.9  1.   1.1  1.2  1.3\n",
      "  1.4  1.5  1.6  1.7  1.8  1.9  2.   2.1  2.2  2.3  2.4  2.5  2.6  2.7\n",
      "  2.8  2.9  3.   3.1  3.2  3.3  3.4  3.5  3.6  3.7  3.8  3.9  4.   4.1\n",
      "  4.2  4.3  4.4  4.5  4.6  4.7  4.8  4.9  5.   5.1  5.2  5.3  5.4  5.5\n",
      "  5.6  5.7  5.8  5.9  6.   6.1  6.2  6.3  6.4  6.5  6.6  6.7  6.8  6.9\n",
      "  7.   7.1  7.2  7.3  7.4  7.5  7.6  7.7  7.8  7.9  8.   8.1  8.2  8.3\n",
      "  8.4  8.5  8.6  8.7  8.8  8.9  9.   9.1  9.2  9.3  9.4  9.5  9.6  9.7\n",
      "  9.8  9.9 10. ]\n",
      "dataset compute_times: [0.  0.3 0.6 0.9 1.2 1.5 1.8 2.1 2.4 2.7 3. ]\n",
      "model times: [0.  0.3 0.6 0.9 1.2 1.5 1.8 2.1 2.4 2.7 3. ]\n"
     ]
    }
   ],
   "source": [
    "print(\"dataset times: {}\\ndataset compute_times: {}\\nmodel times: {}\".format(\n",
    "    b.get_value('times', context='dataset'),\n",
    "    b.get_value('compute_times', context='dataset'),\n",
    "    b.get_value('times', context='model')\n",
    "    ))"
   ]
  },
  {
   "cell_type": "markdown",
   "metadata": {},
   "source": [
    "Phase-Time Conversion\n",
    "----------------------------------"
   ]
  },
  {
   "cell_type": "markdown",
   "metadata": {},
   "source": [
    "In addition to the ability to provide `compute_times`, we can alternatively provide `compute_phases`.  These two parameters are linked via a constraint (see the [constraints tutorial](./constraints.ipynb)), with `compute_phases` *constrained* by default."
   ]
  },
  {
   "cell_type": "code",
   "execution_count": 12,
   "metadata": {},
   "outputs": [
    {
     "name": "stdout",
     "output_type": "stream",
     "text": [
      "ParameterSet: 3 parameters\n",
      "               times@lc01@dataset: [ 0.   0.1  0.2 ...  9.8  9.9 10. ] d\n",
      "       compute_times@lc01@dataset: [0.  0.3 0.6 ... 2.4 2.7 3. ] d\n",
      "C     compute_phases@lc01@dataset: [ 0.   0.3 -0.4 ...  0.4 -0.3  0. ]\n"
     ]
    }
   ],
   "source": [
    "print(b.filter(qualifier=['times', 'compute_times', 'compute_phases', 'compute_phases_t0'], context='dataset'))"
   ]
  },
  {
   "cell_type": "markdown",
   "metadata": {},
   "source": [
    "Essentially, this constraint does the same thing as [b.to_phase](../api/phoebe.frontend.bundle.Bundle.to_phase.md) or [b.to_time](../api/phoebe.frontend.bundle.Bundle.to_time.md), using the appropriate t0 according to `phases_t0` from the **top-level** orbit in the hierarchy."
   ]
  },
  {
   "cell_type": "code",
   "execution_count": 13,
   "metadata": {},
   "outputs": [
    {
     "name": "stdout",
     "output_type": "stream",
     "text": [
      "Constrains (qualifier): compute_phases\n",
      "Expression in solar units (value): times_to_phases({compute_times@lc01@dataset}, {period@binary@component}, {dpdt@binary@component}, {phases_t0@lc01@dataset}, {t0_supconj@binary@component}, {t0_perpass@binary@component}, {t0_ref@binary@component})\n",
      "Current Result (result): [ 0.   0.3 -0.4 -0.1  0.2  0.5 -0.2  0.1  0.4 -0.3  0. ]\n"
     ]
    }
   ],
   "source": [
    "print(b.get_constraint('compute_phases'))"
   ]
  },
  {
   "cell_type": "code",
   "execution_count": 14,
   "metadata": {},
   "outputs": [
    {
     "name": "stdout",
     "output_type": "stream",
     "text": [
      "['t0_supconj', 't0_perpass', 't0_ref']\n"
     ]
    }
   ],
   "source": [
    "print(b.get_parameter('phases_t0').choices)"
   ]
  },
  {
   "cell_type": "markdown",
   "metadata": {},
   "source": [
    "In order to provide `compute_phases` instead of `compute_times`, we must call [b.flip_constraint](../api/phoebe.frontend.bundle.Bundle.flip_constraint.md)."
   ]
  },
  {
   "cell_type": "code",
   "execution_count": 15,
   "metadata": {},
   "outputs": [
    {
     "data": {
      "text/plain": [
       "<ConstraintParameter: {compute_times@lc01@dataset} = phases_to_times({compute_phases@lc01@dataset}, {period@binary@component}, {dpdt@binary@component}, {phases_t0@lc01@dataset}, {t0_supconj@binary@component}, {t0_perpass@binary@component}, {t0_ref@binary@component}) (solar units) => [ 0.   0.3 -0.4 -0.1  0.2  0.5 -0.2  0.1  0.4 -0.3  0. ] d>"
      ]
     },
     "execution_count": 15,
     "metadata": {},
     "output_type": "execute_result"
    }
   ],
   "source": [
    "b.flip_constraint('compute_phases', solve_for='compute_times')"
   ]
  },
  {
   "cell_type": "code",
   "execution_count": 16,
   "metadata": {},
   "outputs": [],
   "source": [
    "b.set_value('compute_phases', phoebe.linspace(0,1,11))"
   ]
  },
  {
   "cell_type": "code",
   "execution_count": 17,
   "metadata": {},
   "outputs": [
    {
     "name": "stdout",
     "output_type": "stream",
     "text": [
      "ParameterSet: 4 parameters\n",
      "               times@lc01@dataset: [ 0.   0.1  0.2 ...  9.8  9.9 10. ] d\n",
      "C      compute_times@lc01@dataset: [0.  0.1 0.2 ... 0.8 0.9 1. ] d\n",
      "      compute_phases@lc01@dataset: [0.  0.1 0.2 ... 0.8 0.9 1. ]\n",
      "           phases_t0@lc01@dataset: t0_supconj\n"
     ]
    }
   ],
   "source": [
    "print(b.filter(qualifier=['times', 'compute_times', 'compute_phases', 'phases_t0'], context='dataset'))"
   ]
  },
  {
   "cell_type": "markdown",
   "metadata": {},
   "source": [
    "Note that under the hood, PHOEBE **always** works in time-space, meaning it is the *constrained* value of `compute_times` that is being passed under-the-hood."
   ]
  },
  {
   "cell_type": "markdown",
   "metadata": {},
   "source": [
    "Also note that if directly passing `compute_phases` to [b.add_dataset](../api/phoebe.frontend.bundle.Bundle.add_dataset.md), the constraint will be flipped on our behalf.  We would then need to flip the constraint in order to provide `compute_times` instead."
   ]
  },
  {
   "cell_type": "markdown",
   "metadata": {},
   "source": [
    "Finally, it is important to make the distinction that this is **not** adding support for **observations** in phases.  If we have an old light curve that is only available in phase, we still must convert these to times manually (or via [b.to_time](../api/phoebe.frontend.bundle.Bundle.to_time.md)).  This restriction is intentional: we do not want the mapping between phase and time to change as the ephemeris is changed or fitted, rather we want to try to map from phase to time using the ephemeris that was originally used when the dataset was recorded (if possible, or the best possible guess)."
   ]
  },
  {
   "cell_type": "markdown",
   "metadata": {},
   "source": [
    "Interpolating the Model\n",
    "------------------------------"
   ]
  },
  {
   "cell_type": "markdown",
   "metadata": {},
   "source": [
    "Whether or not we used `compute_times`/`compute_phases` or not, it is sometimes useful to be able to interpolate on the resulting model.  In the case where we provided `compute_times`/`compute_phases` to \"down-sample\" from a large dataset, this can be particularly useful.\n",
    "\n",
    "We can call [interp_value](../api/phoebe.parameters.FloatArrayParameter.interp_value.md) on any [FloatArrayParameter](../api/phoebe.parameters.FloatArrayParameter.md).  "
   ]
  },
  {
   "cell_type": "code",
   "execution_count": 18,
   "metadata": {},
   "outputs": [
    {
     "data": {
      "text/plain": [
       "array([0.98295179, 2.00574046, 1.99149134, 1.99134384, 2.00559345,\n",
       "       0.98295179, 2.00574046, 1.99149134, 1.99134384, 2.00559345,\n",
       "       0.98295179])"
      ]
     },
     "execution_count": 18,
     "metadata": {},
     "output_type": "execute_result"
    }
   ],
   "source": [
    "b.get_parameter('fluxes', context='model').get_value()"
   ]
  },
  {
   "cell_type": "code",
   "execution_count": 19,
   "metadata": {},
   "outputs": [
    {
     "data": {
      "text/plain": [
       "1.9960937087074677"
      ]
     },
     "execution_count": 19,
     "metadata": {},
     "output_type": "execute_result"
    }
   ],
   "source": [
    "b.get_parameter('fluxes', context='model').interp_value(times=1.0)"
   ]
  },
  {
   "cell_type": "code",
   "execution_count": 20,
   "metadata": {},
   "outputs": [
    {
     "data": {
      "text/plain": [
       "array([0.98295179, 1.08523066, 1.18750952, 1.28978839, 1.39206726,\n",
       "       1.49434612, 1.59662499, 1.69890386, 1.80118272, 1.90346159,\n",
       "       2.00574046, 2.00431555, 2.00289063, 2.00146572, 2.00004081,\n",
       "       1.9986159 , 1.99719099, 1.99576608, 1.99434116, 1.99291625,\n",
       "       1.99149134, 1.99147659, 1.99146184, 1.99144709, 1.99143234,\n",
       "       1.99141759, 1.99140284, 1.99138809, 1.99137334, 1.99135859,\n",
       "       1.99134384, 1.9927688 , 1.99419376, 1.99561872, 1.99704368,\n",
       "       1.99846864, 1.9998936 , 2.00131856, 2.00274352, 2.00416848,\n",
       "       2.00559345, 1.90332928, 1.80106511, 1.69880095, 1.59653678,\n",
       "       1.49427262, 1.39200845, 1.28974429, 1.18748012, 1.08521596,\n",
       "       0.98295179, 1.08523066, 1.18750952, 1.28978839, 1.39206726,\n",
       "       1.49434612, 1.59662499, 1.69890386, 1.80118272, 1.90346159,\n",
       "       2.00574046, 2.00431555, 2.00289063, 2.00146572, 2.00004081,\n",
       "       1.9986159 , 1.99719099, 1.99576608, 1.99434116, 1.99291625,\n",
       "       1.99149134, 1.99147659, 1.99146184, 1.99144709, 1.99143234,\n",
       "       1.99141759, 1.99140284, 1.99138809, 1.99137334, 1.99135859,\n",
       "       1.99134384, 1.9927688 , 1.99419376, 1.99561872, 1.99704368,\n",
       "       1.99846864, 1.9998936 , 2.00131856, 2.00274352, 2.00416848,\n",
       "       2.00559345, 1.90332928, 1.80106511, 1.69880095, 1.59653678,\n",
       "       1.49427262, 1.39200845, 1.28974429, 1.18748012, 1.08521596,\n",
       "       0.98295179])"
      ]
     },
     "execution_count": 20,
     "metadata": {},
     "output_type": "execute_result"
    }
   ],
   "source": [
    "b.get_parameter('fluxes', context='model').interp_value(times=phoebe.linspace(0,3,101))"
   ]
  },
  {
   "cell_type": "markdown",
   "metadata": {},
   "source": [
    "In the case of times, this will *automatically* interpolate in phase-space if the provided time is outside the range of the referenced times array.  If you have a logger enabled with at least the 'warning' level, this will raise a warning and state the phases at which the interpolation will be completed."
   ]
  },
  {
   "cell_type": "code",
   "execution_count": 21,
   "metadata": {},
   "outputs": [
    {
     "data": {
      "text/plain": [
       "0.9829517904235248"
      ]
     },
     "execution_count": 21,
     "metadata": {},
     "output_type": "execute_result"
    }
   ],
   "source": [
    "b.get_parameter('fluxes', context='model').interp_value(times=5)"
   ]
  },
  {
   "cell_type": "markdown",
   "metadata": {},
   "source": [
    "Determining & Plotting Residuals\n",
    "----------------------------"
   ]
  },
  {
   "cell_type": "markdown",
   "metadata": {},
   "source": [
    "One particularly useful case for interpolating is to compare a model (perhaps computed in phase-space) to a dataset with a large number of datapoints.  We can do this directly by calling [compute_residuals](../api/phoebe.parameters.ParameterSet.compute_residuals.md), which will handle any necessary interpolation and compare the dependent variable between the dataset and models.\n",
    "\n",
    "Note that if there are more than one dataset or model attached to the bundle, it may be necessary to pass `dataset` and/or `model` (or filter in advanced and call compute_residuals on the filtered [ParameterSet](../api/phoebe.paraemters.ParameterSet.md).\n",
    "\n",
    "To see this in action, we'll first create a \"fake\" observational dataset, add some noise, recompute the model using `compute_phases`, and then calculate the residuals."
   ]
  },
  {
   "cell_type": "code",
   "execution_count": 22,
   "metadata": {},
   "outputs": [
    {
     "data": {
      "text/plain": [
       "<ParameterSet: 43 parameters | contexts: constraint, dataset, figure, compute>"
      ]
     },
     "execution_count": 22,
     "metadata": {},
     "output_type": "execute_result"
    }
   ],
   "source": [
    "b.add_dataset('lc', \n",
    "              times=phoebe.linspace(0,10,1000),\n",
    "              dataset='lc01',\n",
    "              overwrite=True)"
   ]
  },
  {
   "cell_type": "code",
   "execution_count": 23,
   "metadata": {},
   "outputs": [
    {
     "name": "stderr",
     "output_type": "stream",
     "text": [
      "100%|██████████| 1000/1000 [00:11<00:00, 84.15it/s]\n"
     ]
    },
    {
     "data": {
      "text/plain": [
       "<ParameterSet: 3 parameters | qualifiers: times, comments, fluxes>"
      ]
     },
     "execution_count": 23,
     "metadata": {},
     "output_type": "execute_result"
    }
   ],
   "source": [
    "b.run_compute(irrad_method='none')"
   ]
  },
  {
   "cell_type": "code",
   "execution_count": 24,
   "metadata": {},
   "outputs": [],
   "source": [
    "fluxes = b.get_value('fluxes', context='model')\n",
    "b.set_value('fluxes', context='dataset', value=fluxes)"
   ]
  },
  {
   "cell_type": "code",
   "execution_count": 25,
   "metadata": {},
   "outputs": [
    {
     "data": {
      "text/plain": [
       "<ConstraintParameter: {compute_times@lc01@dataset} = phases_to_times({compute_phases@lc01@dataset}, {period@binary@component}, {dpdt@binary@component}, {phases_t0@lc01@dataset}, {t0_supconj@binary@component}, {t0_perpass@binary@component}, {t0_ref@binary@component}) (solar units) => [] d>"
      ]
     },
     "execution_count": 25,
     "metadata": {},
     "output_type": "execute_result"
    }
   ],
   "source": [
    "b.flip_constraint('compute_phases', solve_for='compute_times')"
   ]
  },
  {
   "cell_type": "code",
   "execution_count": 26,
   "metadata": {},
   "outputs": [],
   "source": [
    "b.set_value('compute_phases', phoebe.linspace(0,1,101))"
   ]
  },
  {
   "cell_type": "code",
   "execution_count": 27,
   "metadata": {},
   "outputs": [],
   "source": [
    "b.set_value('teff', component='primary', value=5950)"
   ]
  },
  {
   "cell_type": "code",
   "execution_count": 28,
   "metadata": {},
   "outputs": [
    {
     "name": "stderr",
     "output_type": "stream",
     "text": [
      "100%|██████████| 101/101 [00:01<00:00, 73.50it/s]\n"
     ]
    },
    {
     "data": {
      "text/plain": [
       "<ParameterSet: 3 parameters | qualifiers: times, comments, fluxes>"
      ]
     },
     "execution_count": 28,
     "metadata": {},
     "output_type": "execute_result"
    }
   ],
   "source": [
    "b.run_compute(irrad_method='none')"
   ]
  },
  {
   "cell_type": "code",
   "execution_count": 29,
   "metadata": {},
   "outputs": [
    {
     "name": "stdout",
     "output_type": "stream",
     "text": [
      "1000 101\n"
     ]
    }
   ],
   "source": [
    "print(len(b.get_value('fluxes', context='dataset')), len(b.get_value('fluxes', context='model')))"
   ]
  },
  {
   "cell_type": "code",
   "execution_count": 30,
   "metadata": {},
   "outputs": [
    {
     "data": {
      "text/latex": [
       "$[-0.039192588,~-0.038914735,~-0.038925918,~\\dots,~-0.038926521,~-0.038914901,~-0.039192588] \\; \\mathrm{\\frac{W}{m^{2}}}$"
      ],
      "text/plain": [
       "<Quantity [-0.03919259, -0.03891473, -0.03892592, -0.0390291 , -0.03912399,\n",
       "           -0.03906194, -0.03896983, -0.0391932 , -0.03922817, -0.039223  ,\n",
       "           -0.03931289, -0.03935991, -0.03939581, -0.03940949, -0.03943771,\n",
       "           -0.03949875, -0.03958616, -0.03963467, -0.03966851, -0.03970103,\n",
       "           -0.03969459, -0.03972186, -0.03979163, -0.03979245, -0.03984494,\n",
       "           -0.03968708, -0.03983116, -0.03982519, -0.03978305, -0.03992245,\n",
       "           -0.03981527, -0.03977707, -0.03959781, -0.03969196, -0.03951844,\n",
       "           -0.03952143, -0.0393614 , -0.03947918, -0.03940271, -0.03935815,\n",
       "           -0.03926228, -0.03930334, -0.0392275 , -0.03894731, -0.03701471,\n",
       "           -0.03461487, -0.029458  , -0.02243477, -0.01477014, -0.00780992,\n",
       "           -0.1702242 , -0.00743577, -0.0151405 , -0.02286919, -0.02956625,\n",
       "           -0.0344172 , -0.03777343, -0.03931521, -0.03928961, -0.03924041,\n",
       "           -0.03937496, -0.0393687 , -0.03938041, -0.03933989, -0.03951704,\n",
       "           -0.03954504, -0.03958809, -0.0397866 , -0.03962624, -0.03975115,\n",
       "           -0.03960426, -0.03973642, -0.03987467, -0.03977945, -0.03976276,\n",
       "           -0.03966911, -0.03983056, -0.03999327, -0.03977175, -0.03996863,\n",
       "           -0.03971512, -0.03964205, -0.03954823, -0.03958261, -0.03954658,\n",
       "           -0.03954739, -0.03933712, -0.03941924, -0.03932481, -0.03925461,\n",
       "           -0.03943694, -0.03933919, -0.03929778, -0.03883226, -0.03554049,\n",
       "           -0.03676342, -0.0376364 , -0.03821696, -0.03938724, -0.04202157,\n",
       "           -0.04531584, -0.03967256, -0.03840365, -0.03764757, -0.03677893,\n",
       "           -0.03566883, -0.03726853, -0.03929879, -0.03930689, -0.03934909,\n",
       "           -0.03940959, -0.03939289, -0.03931817, -0.03934678, -0.0395036 ,\n",
       "           -0.03949544, -0.03952375, -0.03963302, -0.03967654, -0.03977059,\n",
       "           -0.03959465, -0.03978964, -0.0398265 , -0.03974956, -0.03973512,\n",
       "           -0.03970704, -0.03996124, -0.03989995, -0.03978074, -0.03991056,\n",
       "           -0.0396994 , -0.03969473, -0.0395203 , -0.03963653, -0.03947141,\n",
       "           -0.03946888, -0.0393155 , -0.03943249, -0.03925567, -0.03919903,\n",
       "           -0.03939791, -0.03921085, -0.03927031, -0.03855457, -0.03333637,\n",
       "           -0.03183351, -0.02719388, -0.02093667, -0.0142978 , -0.01008663,\n",
       "           -0.15757148, -0.00887164, -0.01546396, -0.02223319, -0.02801618,\n",
       "           -0.03170476, -0.03685801, -0.03914176, -0.03925753, -0.03932197,\n",
       "           -0.03929741, -0.0393731 , -0.03928444, -0.03938773, -0.03950609,\n",
       "           -0.03954563, -0.03952906, -0.03960065, -0.03971647, -0.03989994,\n",
       "           -0.0396368 , -0.03988161, -0.03986916, -0.03974841, -0.03993364,\n",
       "           -0.03968467, -0.03987753, -0.03996934, -0.03984785, -0.03986403,\n",
       "           -0.03969826, -0.03961037, -0.03954676, -0.03970895, -0.03945869,\n",
       "           -0.03951277, -0.03934743, -0.03939453, -0.0393532 , -0.03929086,\n",
       "           -0.03944279, -0.03930957, -0.03932124, -0.03854989, -0.03269132,\n",
       "           -0.03493525, -0.03625493, -0.0376341 , -0.0397335 , -0.0448172 ,\n",
       "           -0.04852784, -0.04012559, -0.03800791, -0.03632809, -0.03493172,\n",
       "           -0.03295727, -0.03714403, -0.03912596, -0.03923717, -0.03934164,\n",
       "           -0.03941805, -0.03947661, -0.03941951, -0.03934506, -0.03949357,\n",
       "           -0.03951649, -0.03953677, -0.0396321 , -0.03967754, -0.03971259,\n",
       "           -0.03968472, -0.03990475, -0.03978871, -0.03977754, -0.03987552,\n",
       "           -0.03966192, -0.03996101, -0.0400161 , -0.03984548, -0.03987456,\n",
       "           -0.03971708, -0.03960398, -0.03952164, -0.03986235, -0.03953254,\n",
       "           -0.0395208 , -0.0394276 , -0.03935437, -0.03924969, -0.03925509,\n",
       "           -0.03931842, -0.0392557 , -0.0391839 , -0.03829238, -0.03062618,\n",
       "           -0.02953393, -0.02542234, -0.01955862, -0.013973  , -0.0120572 ,\n",
       "           -0.1430497 , -0.01007347, -0.0159441 , -0.02190047, -0.02705928,\n",
       "           -0.02949532, -0.03712351, -0.03904924, -0.03917878, -0.03937313,\n",
       "           -0.03928068, -0.03940478, -0.03931866, -0.03935166, -0.03944331,\n",
       "           -0.03961585, -0.03966872, -0.03960476, -0.03966945, -0.03972707,\n",
       "           -0.03968161, -0.03985726, -0.03980333, -0.03973078, -0.03975119,\n",
       "           -0.03958794, -0.03978547, -0.03996776, -0.03981964, -0.0398155 ,\n",
       "           -0.03968092, -0.03962751, -0.0394551 , -0.0398311 , -0.03945113,\n",
       "           -0.03942595, -0.03935981, -0.03956615, -0.03926668, -0.03916197,\n",
       "           -0.0393079 , -0.03938318, -0.03935559, -0.03828022, -0.03068058,\n",
       "           -0.03339381, -0.03538785, -0.03721034, -0.04000496, -0.04719698,\n",
       "           -0.05001656, -0.04036548, -0.03767348, -0.03540139, -0.03367672,\n",
       "           -0.03090104, -0.0374055 , -0.03911526, -0.03924104, -0.03949566,\n",
       "           -0.03937406, -0.03942587, -0.03943236, -0.03937585, -0.03943931,\n",
       "           -0.03956913, -0.03966818, -0.03957031, -0.03978129, -0.0397732 ,\n",
       "           -0.03968307, -0.03982215, -0.03981094, -0.03971902, -0.0397832 ,\n",
       "           -0.03957003, -0.03977367, -0.0399079 , -0.03983699, -0.03987983,\n",
       "           -0.03970019, -0.03959758, -0.03951037, -0.03960304, -0.03945077,\n",
       "           -0.03939503, -0.03935632, -0.03939649, -0.0391843 , -0.03909518,\n",
       "           -0.03933484, -0.03918467, -0.03919854, -0.03816176, -0.02876318,\n",
       "           -0.02790322, -0.02396714, -0.01851435, -0.01325712, -0.01342927,\n",
       "           -0.12716941, -0.01101498, -0.01638779, -0.02188137, -0.02645779,\n",
       "           -0.02807385, -0.03744589, -0.03914653, -0.03928606, -0.03944026,\n",
       "           -0.0392645 , -0.03938092, -0.03932329, -0.03931976, -0.03942962,\n",
       "           -0.03949815, -0.03965677, -0.03966055, -0.0396767 , -0.03984025,\n",
       "           -0.03978101, -0.03984019, -0.03984079, -0.03979539, -0.03966994,\n",
       "           -0.03957363, -0.03977783, -0.03987822, -0.03992285, -0.03984031,\n",
       "           -0.03971541, -0.0396788 , -0.03944071, -0.03963203, -0.03950482,\n",
       "           -0.03945087, -0.03943637, -0.03946915, -0.03922234, -0.03910779,\n",
       "           -0.03934506, -0.0392287 , -0.03931444, -0.03813042, -0.02954653,\n",
       "           -0.03261439, -0.03480844, -0.03704371, -0.04031461, -0.04896725,\n",
       "           -0.05048287, -0.04044875, -0.03727885, -0.0349608 , -0.032778  ,\n",
       "           -0.02963903, -0.03767359, -0.03911876, -0.03924033, -0.03939427,\n",
       "           -0.03942094, -0.03941671, -0.03927581, -0.03940374, -0.0394389 ,\n",
       "           -0.03949194, -0.03959342, -0.03951835, -0.03963867, -0.03987923,\n",
       "           -0.03977318, -0.03978965, -0.0398749 , -0.03996745, -0.03960881,\n",
       "           -0.03957524, -0.03977314, -0.03985527, -0.03995719, -0.03978345,\n",
       "           -0.03985829, -0.03961001, -0.03944227, -0.03963785, -0.03946895,\n",
       "           -0.03937396, -0.0394568 , -0.03942718, -0.03921273, -0.03905081,\n",
       "           -0.03925287, -0.03917697, -0.03932543, -0.03800975, -0.0278096 ,\n",
       "           -0.02689163, -0.02285247, -0.01758653, -0.01265   , -0.01412149,\n",
       "           -0.11040819, -0.01190691, -0.0169167 , -0.02228262, -0.02641569,\n",
       "           -0.02748671, -0.03774171, -0.03907075, -0.03918841, -0.03933109,\n",
       "           -0.03928494, -0.03939691, -0.03929652, -0.03932192, -0.03938221,\n",
       "           -0.03953315, -0.03954922, -0.03951632, -0.03963393, -0.03975426,\n",
       "           -0.0398501 , -0.03986376, -0.03986106, -0.03986339, -0.03959038,\n",
       "           -0.03959567, -0.03979387, -0.03991066, -0.03982348, -0.03979047,\n",
       "           -0.03981768, -0.03967061, -0.03946072, -0.03961941, -0.03948305,\n",
       "           -0.03946361, -0.03953504, -0.03954754, -0.03927475, -0.03907089,\n",
       "           -0.03929339, -0.0392397 , -0.03938757, -0.03796907, -0.02925903,\n",
       "           -0.03259071, -0.03463344, -0.03706444, -0.04046915, -0.05012776,\n",
       "           -0.05006875, -0.04045693, -0.03718587, -0.03470746, -0.03240671,\n",
       "           -0.02905927, -0.03811367, -0.03923391, -0.03931003, -0.03932044,\n",
       "           -0.03938495, -0.03943402, -0.0392944 , -0.03937802, -0.03939181,\n",
       "           -0.03955149, -0.03968916, -0.03950085, -0.03961183, -0.03968749,\n",
       "           -0.03981991, -0.03983451, -0.03987875, -0.03975808, -0.03953473,\n",
       "           -0.03970026, -0.03986135, -0.03986588, -0.03986248, -0.03985895,\n",
       "           -0.03978136, -0.03966896, -0.03959504, -0.03960917, -0.03954062,\n",
       "           -0.03939209, -0.03953438, -0.03951246, -0.0392855 , -0.03902807,\n",
       "           -0.03927066, -0.03919437, -0.03942767, -0.03759714, -0.02759534,\n",
       "           -0.02648736, -0.02214828, -0.01691119, -0.01198624, -0.01423056,\n",
       "           -0.0927687 , -0.0126981 , -0.01770333, -0.02288143, -0.02686863,\n",
       "           -0.02764338, -0.03798967, -0.03931414, -0.03917528, -0.0393196 ,\n",
       "           -0.03931243, -0.03935871, -0.03932613, -0.03936066, -0.03946357,\n",
       "           -0.03955536, -0.03970821, -0.03956641, -0.03963456, -0.03966881,\n",
       "           -0.03986804, -0.03988548, -0.03992155, -0.03978348, -0.03963559,\n",
       "           -0.03965514, -0.03987632, -0.0398755 , -0.0398242 , -0.03982748,\n",
       "           -0.03980355, -0.03976402, -0.03956395, -0.03960632, -0.0395153 ,\n",
       "           -0.03944051, -0.03944602, -0.03945369, -0.03947051, -0.03907517,\n",
       "           -0.03935621, -0.03933578, -0.03921494, -0.03760869, -0.02976559,\n",
       "           -0.03280538, -0.03486104, -0.03728405, -0.04059684, -0.05053423,\n",
       "           -0.04897626, -0.04024648, -0.03720294, -0.03481913, -0.03263089,\n",
       "           -0.02932025, -0.03817034, -0.03917552, -0.03920928, -0.03942627,\n",
       "           -0.03941269, -0.03946739, -0.0392436 , -0.03932898, -0.0394983 ,\n",
       "           -0.03952236, -0.03954982, -0.03947252, -0.03970572, -0.03962666,\n",
       "           -0.03975026, -0.0399928 , -0.03998452, -0.03984854, -0.03956367,\n",
       "           -0.03960555, -0.03995357, -0.03987482, -0.03980763, -0.03974214,\n",
       "           -0.03988461, -0.03971088, -0.03959969, -0.03956738, -0.03969067,\n",
       "           -0.0393627 , -0.03947558, -0.03955392, -0.03946693, -0.03904327,\n",
       "           -0.0391929 , -0.03918822, -0.03915605, -0.03735521, -0.02821452,\n",
       "           -0.02648262, -0.02189433, -0.01635045, -0.01118755, -0.01358311,\n",
       "           -0.07443656, -0.0133732 , -0.01854448, -0.02392823, -0.02800503,\n",
       "           -0.02856933, -0.03818746, -0.03912136, -0.03919888, -0.03927811,\n",
       "           -0.03933947, -0.0393968 , -0.03927292, -0.03932597, -0.0394814 ,\n",
       "           -0.03974127, -0.03967623, -0.03956953, -0.03962363, -0.03957517,\n",
       "           -0.0397593 , -0.03996429, -0.04003877, -0.03992369, -0.03951798,\n",
       "           -0.03961226, -0.03985436, -0.03980047, -0.03978628, -0.03971749,\n",
       "           -0.03984507, -0.03973312, -0.03963253, -0.03957634, -0.03955547,\n",
       "           -0.03941699, -0.03948448, -0.03951945, -0.03946873, -0.03909524,\n",
       "           -0.03934189, -0.03922566, -0.0391971 , -0.03737885, -0.03107386,\n",
       "           -0.03368843, -0.03546771, -0.03761908, -0.04043726, -0.05011299,\n",
       "           -0.04710809, -0.03990202, -0.03727259, -0.03530015, -0.0334465 ,\n",
       "           -0.03044275, -0.03849725, -0.03929205, -0.03924007, -0.03937067,\n",
       "           -0.0394192 , -0.03935701, -0.03930318, -0.03935687, -0.03950842,\n",
       "           -0.03954515, -0.03957141, -0.03959678, -0.03960652, -0.03956015,\n",
       "           -0.03981986, -0.03993376, -0.04007278, -0.03999264, -0.03957582,\n",
       "           -0.03963366, -0.03976994, -0.03979295, -0.03975152, -0.03982892,\n",
       "           -0.03986741, -0.03984629, -0.03970277, -0.03963164, -0.03960806,\n",
       "           -0.03939872, -0.03942827, -0.03946561, -0.03957739, -0.03907671,\n",
       "           -0.03920579, -0.03915737, -0.03910798, -0.0371517 , -0.0295576 ,\n",
       "           -0.02709021, -0.02194558, -0.015795  , -0.01009989, -0.01197313,\n",
       "           -0.055533  , -0.0136927 , -0.01962859, -0.02538071, -0.02959175,\n",
       "           -0.03048532, -0.03844682, -0.03922286, -0.03913843, -0.03926536,\n",
       "           -0.03944095, -0.03936635, -0.03923053, -0.03947758, -0.03945562,\n",
       "           -0.03954561, -0.03957853, -0.03954811, -0.03968635, -0.03973953,\n",
       "           -0.03975273, -0.03996774, -0.04009169, -0.03993534, -0.03954055,\n",
       "           -0.03972294, -0.03975779, -0.03979027, -0.03971359, -0.03982113,\n",
       "           -0.03979269, -0.03979674, -0.03963322, -0.03960071, -0.03956665,\n",
       "           -0.03938347, -0.03965674, -0.03947797, -0.03940045, -0.03921943,\n",
       "           -0.03941063, -0.03920686, -0.03907038, -0.0371362 , -0.03308575,\n",
       "           -0.03506583, -0.03645907, -0.03789385, -0.04026586, -0.04846368,\n",
       "           -0.04477138, -0.03954741, -0.03774626, -0.03628808, -0.03483971,\n",
       "           -0.0324988 , -0.03868559, -0.03933198, -0.03919224, -0.03928124,\n",
       "           -0.03932932, -0.03934812, -0.03923938, -0.03951365, -0.03950576,\n",
       "           -0.03953046, -0.0396864 , -0.03955158, -0.03963965, -0.03968392,\n",
       "           -0.03984552, -0.03988191, -0.03994841, -0.03998203, -0.03961494,\n",
       "           -0.03972995, -0.03981307, -0.03981657, -0.03977222, -0.03978932,\n",
       "           -0.03973867, -0.03983058, -0.03964014, -0.03968622, -0.03966574,\n",
       "           -0.03935694, -0.03942225, -0.03944857, -0.03935005, -0.03911913,\n",
       "           -0.03926402, -0.03918816, -0.0390364 , -0.03689927, -0.03171369,\n",
       "           -0.02814934, -0.02223982, -0.01539078, -0.00891752, -0.00886336,\n",
       "           -0.03614595, -0.01417806, -0.0209518 , -0.02741813, -0.03189277,\n",
       "           -0.03325349, -0.03869426, -0.03916257, -0.03914352, -0.03926144,\n",
       "           -0.03928744, -0.03933462, -0.03924296, -0.03943678, -0.03951314,\n",
       "           -0.03960098, -0.03962206, -0.03959573, -0.03967591, -0.03964315,\n",
       "           -0.03974008, -0.03981791, -0.03991775, -0.04005918, -0.03959805,\n",
       "           -0.03970975, -0.03975814, -0.03986844, -0.03979087, -0.03972887,\n",
       "           -0.03976212, -0.03973478, -0.03970393, -0.03955014, -0.03973036,\n",
       "           -0.0394091 , -0.03942161, -0.03959957, -0.03952427, -0.03929137,\n",
       "           -0.03924598, -0.03930046, -0.03901494, -0.03737503, -0.03577227,\n",
       "           -0.03698   , -0.03771392, -0.03834966, -0.03978246, -0.04534219,\n",
       "           -0.04202697, -0.03926112, -0.03825231, -0.03767599, -0.03682693,\n",
       "           -0.03541631, -0.03897866, -0.03926657, -0.03922715, -0.03926417,\n",
       "           -0.03931625, -0.03936446, -0.03927881, -0.03948718, -0.03946873,\n",
       "           -0.0396017 , -0.03955853, -0.03960877, -0.0397475 , -0.03962064,\n",
       "           -0.03976992, -0.03978404, -0.03985632, -0.03984429, -0.03962995,\n",
       "           -0.03974924, -0.03986064, -0.03984436, -0.03973592, -0.03966307,\n",
       "           -0.03968584, -0.03972253, -0.03957645, -0.03954952, -0.03967506,\n",
       "           -0.03931829, -0.03938518, -0.03944904, -0.03951978, -0.03928274,\n",
       "           -0.03920678, -0.03923586, -0.03907005, -0.03788915, -0.03446206,\n",
       "           -0.02967219, -0.02286152, -0.01508007, -0.00742348, -0.00395387,\n",
       "           -0.01643078, -0.0146858 , -0.02245703, -0.02943771, -0.03466972,\n",
       "           -0.03694524, -0.03903546, -0.03916263, -0.03919612, -0.03926653,\n",
       "           -0.03934467, -0.03940378, -0.0393325 , -0.0394925 , -0.03962676,\n",
       "           -0.03964874, -0.03957297, -0.03971909, -0.0397202 , -0.03968619,\n",
       "           -0.03973708, -0.03979855, -0.03983375, -0.03993873, -0.0398194 ,\n",
       "           -0.0398095 , -0.03985669, -0.03987442, -0.03975478, -0.03974138,\n",
       "           -0.0397154 , -0.03972045, -0.03957208, -0.0395962 , -0.03959927,\n",
       "           -0.03942976, -0.03939196, -0.03944748, -0.03935313, -0.03930412,\n",
       "           -0.0392684 , -0.03922742, -0.03919061, -0.03902761, -0.03906519,\n",
       "           -0.03912597, -0.03904472, -0.03892652, -0.0389149 , -0.03919259] W / m2>"
      ]
     },
     "execution_count": 30,
     "metadata": {},
     "output_type": "execute_result"
    }
   ],
   "source": [
    "b.calculate_residuals()"
   ]
  },
  {
   "cell_type": "markdown",
   "metadata": {},
   "source": [
    "If we plot the dataset and model, we see that the model was only computed for one cycle, whereas the dataset extends further in time."
   ]
  },
  {
   "cell_type": "code",
   "execution_count": 31,
   "metadata": {},
   "outputs": [
    {
     "data": {
      "image/png": "[encoded data removed]",
      "text/plain": [
       "<Figure size 576x432 with 1 Axes>"
      ]
     },
     "metadata": {
      "needs_background": "light"
     },
     "output_type": "display_data"
    }
   ],
   "source": [
    "afig, mplfig = b.plot(show=True)"
   ]
  },
  {
   "cell_type": "markdown",
   "metadata": {},
   "source": [
    "But we can also plot the residuals.  Here, [calculate_residuals](../api/phoebe.parameters.ParameterSet.calculate_residuals.md) is called internally, interpolating in phase-space, and then plotted in time-space.  See the options for `y` in the [plot API docs](../api/phoebe.parameters.ParameterSet.plot.md) for more details."
   ]
  },
  {
   "cell_type": "code",
   "execution_count": 32,
   "metadata": {},
   "outputs": [
    {
     "name": "stderr",
     "output_type": "stream",
     "text": [
      "'c' argument looks like a single numeric RGB or RGBA sequence, which should be avoided as value-mapping will have precedence in case its length matches with 'x' & 'y'.  Please use a 2-D array with a single row if you really want to specify the same RGB or RGBA value for all points.\n"
     ]
    },
    {
     "data": {
      "image/png": "[encoded data removed]",
      "text/plain": [
       "<Figure size 576x432 with 1 Axes>"
      ]
     },
     "metadata": {
      "needs_background": "light"
     },
     "output_type": "display_data"
    }
   ],
   "source": [
    "afig, mplfig = b.plot(y='residuals', show=True)"
   ]
  },
  {
   "cell_type": "markdown",
   "metadata": {},
   "source": [
    "## See Also\n",
    "\n",
    "The following other advanced tutorials may interest you:\n",
    "* [Advanced: Phase Masking](./mask_phases.ipynb)\n",
    "* [Advanced: Solver Times](./solver_times.ipynb)"
   ]
  }
 ],
 "metadata": {
  "kernelspec": {
   "display_name": "Python 3",
   "language": "python",
   "name": "python3"
  },
  "language_info": {
   "codemirror_mode": {
    "name": "ipython",
    "version": 3
   },
   "file_extension": ".py",
   "mimetype": "text/x-python",
   "name": "python",
   "nbconvert_exporter": "python",
   "pygments_lexer": "ipython3",
   "version": "3.8.2"
  }
 },
 "nbformat": 4,
 "nbformat_minor": 1
}
