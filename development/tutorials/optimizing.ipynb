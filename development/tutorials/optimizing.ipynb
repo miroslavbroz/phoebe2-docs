{
 "cells": [
  {
   "cell_type": "markdown",
   "metadata": {},
   "source": [
    "Advanced: Optimizing Performance with PHOEBE\n",
    "============================\n",
    "\n",
    "Setup\n",
    "-----------------------------"
   ]
  },
  {
   "cell_type": "markdown",
   "metadata": {},
   "source": [
    "Let's first make sure we have the latest version of PHOEBE 2.2 installed. (You can comment out this line if you don't use pip for your installation or don't want to update to the latest release)."
   ]
  },
  {
   "cell_type": "code",
   "execution_count": null,
   "metadata": {},
   "outputs": [],
   "source": [
    "!pip install -I \"phoebe>=2.2,<2.3\""
   ]
  },
  {
   "cell_type": "code",
   "execution_count": 1,
   "metadata": {},
   "outputs": [],
   "source": [
    "import phoebe"
   ]
  },
  {
   "cell_type": "code",
   "execution_count": 2,
   "metadata": {},
   "outputs": [],
   "source": [
    "b = phoebe.default_binary()"
   ]
  },
  {
   "cell_type": "markdown",
   "metadata": {},
   "source": [
    "Interactivity Options\n",
    "--------------------------"
   ]
  },
  {
   "cell_type": "markdown",
   "metadata": {},
   "source": [
    "When running in an interactive Python session, PHOEBE updates all constraints and runs various checks after **each** command.  Although this is convenient, it does take some time, and it can sometimes be advantageous to disable this to save computation time.\n",
    "\n",
    "### Interactive Checks\n",
    "\n",
    "By default, interactive checks are **enabled** when PHOEBE is being run in an interactive session (either an interactive python, IPython, or Jupyter notebook session), but **disabled** when PHOEBE is run as a script directly from the console.  When enabled, PHOEBE will re-run the system checks after every single change to the bundle, raising warnings via the logger as soon as they occur.\n",
    "\n",
    "This default behavior can be changed via [phoebe.interactive_checks_on()](../api/phoebe.interactive_checks_on.md) or [phoebe.interactive_checks_off()](../api/phoebe.interactive_checks_off.md).  The current value can be accessed via phoebe.conf.interactive_checks."
   ]
  },
  {
   "cell_type": "code",
   "execution_count": 3,
   "metadata": {},
   "outputs": [
    {
     "name": "stdout",
     "output_type": "stream",
     "text": [
      "True\n"
     ]
    }
   ],
   "source": [
    "print(phoebe.conf.interactive_checks)"
   ]
  },
  {
   "cell_type": "code",
   "execution_count": 4,
   "metadata": {},
   "outputs": [],
   "source": [
    "phoebe.interactive_checks_off()"
   ]
  },
  {
   "cell_type": "code",
   "execution_count": 5,
   "metadata": {},
   "outputs": [
    {
     "name": "stdout",
     "output_type": "stream",
     "text": [
      "False\n"
     ]
    }
   ],
   "source": [
    "print(phoebe.conf.interactive_checks)"
   ]
  },
  {
   "cell_type": "markdown",
   "metadata": {},
   "source": [
    "If disabled, you can always manually run the checks via [b.run_checks()](../api/phoebe.frontend.bundle.Bundle.run_checks.md)."
   ]
  },
  {
   "cell_type": "code",
   "execution_count": 6,
   "metadata": {},
   "outputs": [
    {
     "name": "stdout",
     "output_type": "stream",
     "text": [
      "(True, '')\n"
     ]
    }
   ],
   "source": [
    "passed, msg = b.run_checks()\n",
    "print(passed, msg)"
   ]
  },
  {
   "cell_type": "code",
   "execution_count": 7,
   "metadata": {},
   "outputs": [],
   "source": [
    "b.set_value('requiv', component='primary', value=50)"
   ]
  },
  {
   "cell_type": "code",
   "execution_count": 8,
   "metadata": {},
   "outputs": [
    {
     "name": "stdout",
     "output_type": "stream",
     "text": [
      "(False, 'primary is overflowing at periastron (requiv=50.0, requiv_max=2.0132751765)')\n"
     ]
    }
   ],
   "source": [
    "passed, msg = b.run_checks()\n",
    "print(passed, msg)"
   ]
  },
  {
   "cell_type": "markdown",
   "metadata": {},
   "source": [
    "### Interactive Constraints\n",
    "\n",
    "By default, interactive constraints are **always enabled** in PHOEBE, unless explicitly disabled.  Whenever a value is changed in the bundle that affects the value of a constrained value, that constraint is immediately executed and all applicable values updated.  The ensures that all constrained values are \"up-to-date\".\n",
    "\n",
    "If disabled, constraints are delayed and only executed when needed by PHOEBE (when calling run_compute, for example).  This can save significant time, as each value that needs updating only needs to have its constraint executed once, instead of multiple times.\n",
    "\n",
    "This default behavior can be changed via [phoebe.interactive_constraints_on()](../api/phoebe.interactive_constraints_on.md) or [phoebe.interactive_constraints_off()](../api/phoebe.interactive_constraints_off.md).  The current value can be accessed via phoebe.conf.interactive_constraints.\n",
    "\n",
    "Let's first look at the default behavior with interactive constraints on."
   ]
  },
  {
   "cell_type": "code",
   "execution_count": 9,
   "metadata": {},
   "outputs": [
    {
     "name": "stdout",
     "output_type": "stream",
     "text": [
      "True\n"
     ]
    }
   ],
   "source": [
    "print(phoebe.conf.interactive_constraints)"
   ]
  },
  {
   "cell_type": "code",
   "execution_count": 10,
   "metadata": {},
   "outputs": [
    {
     "name": "stdout",
     "output_type": "stream",
     "text": [
      "ParameterSet: 2 parameters\n",
      "*         mass@primary@component: 0.9988131358 solMass\n",
      "         mass@primary@constraint: (39.478418 * ({sma@binary@component} ** 3.000000)) / ((({period@binary@component} ** 2.000000) * (1.000000 + {q@binary@component})) * 2942.206217504418873431859537959099)\n"
     ]
    }
   ],
   "source": [
    "print(b.filter('mass', component='primary'))"
   ]
  },
  {
   "cell_type": "code",
   "execution_count": 11,
   "metadata": {},
   "outputs": [],
   "source": [
    "b.set_value('sma@binary', 10)"
   ]
  },
  {
   "cell_type": "code",
   "execution_count": 12,
   "metadata": {},
   "outputs": [
    {
     "name": "stdout",
     "output_type": "stream",
     "text": [
      "ParameterSet: 2 parameters\n",
      "*         mass@primary@component: 6.70898215175 solMass\n",
      "         mass@primary@constraint: (39.478418 * ({sma@binary@component} ** 3.000000)) / ((({period@binary@component} ** 2.000000) * (1.000000 + {q@binary@component})) * 2942.206217504418873431859537959099)\n"
     ]
    }
   ],
   "source": [
    "print(b.filter('mass', component='primary'))"
   ]
  },
  {
   "cell_type": "markdown",
   "metadata": {},
   "source": [
    "Note that the mass has already updated, according to the constraint, when the value of the semi-major axes was changed.  If we disable interactive constraints this will not be the case."
   ]
  },
  {
   "cell_type": "code",
   "execution_count": 13,
   "metadata": {},
   "outputs": [],
   "source": [
    "phoebe.interactive_constraints_off()"
   ]
  },
  {
   "cell_type": "code",
   "execution_count": 14,
   "metadata": {},
   "outputs": [
    {
     "name": "stdout",
     "output_type": "stream",
     "text": [
      "False\n"
     ]
    }
   ],
   "source": [
    "print(phoebe.conf.interactive_constraints)"
   ]
  },
  {
   "cell_type": "code",
   "execution_count": 15,
   "metadata": {},
   "outputs": [
    {
     "name": "stdout",
     "output_type": "stream",
     "text": [
      "ParameterSet: 2 parameters\n",
      "*         mass@primary@component: 6.70898215175 solMass\n",
      "         mass@primary@constraint: (39.478418 * ({sma@binary@component} ** 3.000000)) / ((({period@binary@component} ** 2.000000) * (1.000000 + {q@binary@component})) * 2942.206217504418873431859537959099)\n"
     ]
    }
   ],
   "source": [
    "print(b.filter('mass', component='primary'))"
   ]
  },
  {
   "cell_type": "code",
   "execution_count": 16,
   "metadata": {},
   "outputs": [],
   "source": [
    "b.set_value('sma@binary', 15)"
   ]
  },
  {
   "cell_type": "code",
   "execution_count": 17,
   "metadata": {},
   "outputs": [
    {
     "name": "stdout",
     "output_type": "stream",
     "text": [
      "ParameterSet: 2 parameters\n",
      "*         mass@primary@component: 6.70898215175 solMass\n",
      "         mass@primary@constraint: (39.478418 * ({sma@binary@component} ** 3.000000)) / ((({period@binary@component} ** 2.000000) * (1.000000 + {q@binary@component})) * 2942.206217504418873431859537959099)\n"
     ]
    }
   ],
   "source": [
    "print(b.filter('mass', component='primary'))"
   ]
  },
  {
   "cell_type": "markdown",
   "metadata": {},
   "source": [
    "No need to worry though - all constraints will be run automatically before passing to the backend.  If you need to access the value of a constrained parameter, you can explicitly ask for all delayed constraints to be executed via [b.run_delayed_constraints()](../api/phoebe.frontend.bundle.Bundle.run_delayed_constraints)."
   ]
  },
  {
   "cell_type": "code",
   "execution_count": 18,
   "metadata": {},
   "outputs": [
    {
     "data": {
      "text/plain": [
       "[<Parameter: asini=15.0 solRad | keys: description, value, quantity, default_unit, limits, visible_if, copy_for>,\n",
       " <Parameter: mass=22.6428147622 solMass | keys: description, value, quantity, default_unit, limits, visible_if, copy_for>,\n",
       " <Parameter: sma=7.5 solRad | keys: description, value, quantity, default_unit, limits, visible_if, copy_for>,\n",
       " <Parameter: requiv_max=5.69794861284 solRad | keys: description, value, quantity, default_unit, limits, visible_if, copy_for>,\n",
       " <Parameter: mass=22.6428147622 solMass | keys: description, value, quantity, default_unit, limits, visible_if, copy_for>,\n",
       " <Parameter: sma=7.5 solRad | keys: description, value, quantity, default_unit, limits, visible_if, copy_for>,\n",
       " <Parameter: requiv_max=5.69794861284 solRad | keys: description, value, quantity, default_unit, limits, visible_if, copy_for>]"
      ]
     },
     "execution_count": 18,
     "metadata": {},
     "output_type": "execute_result"
    }
   ],
   "source": [
    "b.run_delayed_constraints()"
   ]
  },
  {
   "cell_type": "code",
   "execution_count": 19,
   "metadata": {},
   "outputs": [
    {
     "name": "stdout",
     "output_type": "stream",
     "text": [
      "ParameterSet: 2 parameters\n",
      "*         mass@primary@component: 22.6428147622 solMass\n",
      "         mass@primary@constraint: (39.478418 * ({sma@binary@component} ** 3.000000)) / ((({period@binary@component} ** 2.000000) * (1.000000 + {q@binary@component})) * 2942.206217504418873431859537959099)\n"
     ]
    }
   ],
   "source": [
    "print(b.filter('mass', component='primary'))"
   ]
  },
  {
   "cell_type": "code",
   "execution_count": 20,
   "metadata": {},
   "outputs": [],
   "source": [
    "phoebe.reset_settings()"
   ]
  },
  {
   "cell_type": "markdown",
   "metadata": {},
   "source": [
    "Filtering Options\n",
    "-------------------------\n",
    "\n",
    "### check_visible\n",
    "\n",
    "By default, everytime you call filter or set_value, PHOEBE checks to see if the current value is visible (meaning it is relevant given the value of other parameters).  Although not terribly expensive, these checks can add up... so disabling these checks can save time.  Note that these are automatically *temporarily* disabled during [run_compute](../api/phoebe.frontend.bundle.Bundle.run_compute.md).  If disabling these checks, be aware that changing the value of some parameters may have no affect on the resulting computations.  You can always manually check the visibility/relevance of a parameter by calling [parameter.is_visible](../api/phoebe.parameters.Parameter.is_visible.md).\n",
    "\n",
    "This default behavior can be changed via [phoebe.check_visible_on()](../api/phoebe.check_visible_on.md) or [phoebe.check_visible_off()](../api/phoebe.check_visible_off.md).\n",
    "\n",
    "Let's first look at the default behavior with check_visible on."
   ]
  },
  {
   "cell_type": "code",
   "execution_count": 21,
   "metadata": {},
   "outputs": [
    {
     "data": {
      "text/plain": [
       "<ParameterSet: 20 parameters | contexts: dataset, compute, constraint>"
      ]
     },
     "execution_count": 21,
     "metadata": {},
     "output_type": "execute_result"
    }
   ],
   "source": [
    "b.add_dataset('lc')"
   ]
  },
  {
   "cell_type": "code",
   "execution_count": 22,
   "metadata": {},
   "outputs": [
    {
     "name": "stdout",
     "output_type": "stream",
     "text": [
      "ParameterSet: 16 parameters\n",
      "              times@lc01@dataset: [] d\n",
      "             fluxes@lc01@dataset: [] W / m2\n",
      "           passband@lc01@dataset: Johnson:V\n",
      "   intens_weighting@lc01@dataset: energy\n",
      "      compute_times@lc01@dataset: [] d\n",
      "*    compute_phases@lc01@dataset: []\n",
      "             sigmas@lc01@dataset: [] W / m2\n",
      "         pblum_mode@lc01@dataset: provided\n",
      "            l3_mode@lc01@dataset: flux\n",
      "                 l3@lc01@dataset: 0.0 W / m2\n",
      "            exptime@lc01@dataset: 0.0 s\n",
      "    ld_mode@primary@lc01@dataset: interp\n",
      "  ld_mode@secondary@lc01@dataset: interp\n",
      "  pblum_ref@primary@lc01@dataset: self\n",
      "  pblum_ref@secondary@lc01@da...: primary\n",
      "      pblum@primary@lc01@dataset: 12.5663706144 W\n"
     ]
    }
   ],
   "source": [
    "print(b.get_dataset())"
   ]
  },
  {
   "cell_type": "markdown",
   "metadata": {},
   "source": [
    "Now if we disable check_visible, we'll see the same thing as if we passed `check_visible=False` to any filter call."
   ]
  },
  {
   "cell_type": "code",
   "execution_count": 23,
   "metadata": {},
   "outputs": [],
   "source": [
    "phoebe.check_visible_off()"
   ]
  },
  {
   "cell_type": "code",
   "execution_count": 24,
   "metadata": {},
   "outputs": [
    {
     "name": "stdout",
     "output_type": "stream",
     "text": [
      "ParameterSet: 26 parameters\n",
      "              times@lc01@dataset: [] d\n",
      "             fluxes@lc01@dataset: [] W / m2\n",
      "           passband@lc01@dataset: Johnson:V\n",
      "   intens_weighting@lc01@dataset: energy\n",
      "      compute_times@lc01@dataset: [] d\n",
      "*    compute_phases@lc01@dataset: []\n",
      "             sigmas@lc01@dataset: [] W / m2\n",
      "         pblum_mode@lc01@dataset: provided\n",
      "       pblum_ref@lc01@lc@dataset: \n",
      "             pbflux@lc01@dataset: 1.0 W / m2\n",
      "            l3_mode@lc01@dataset: flux\n",
      "                 l3@lc01@dataset: 0.0 W / m2\n",
      "            l3_frac@lc01@dataset: 0.0\n",
      "            exptime@lc01@dataset: 0.0 s\n",
      "    ld_mode@primary@lc01@dataset: interp\n",
      "  ld_mode@secondary@lc01@dataset: interp\n",
      "    ld_func@primary@lc01@dataset: logarithmic\n",
      "  ld_func@secondary@lc01@dataset: logarithmic\n",
      "  ld_coeffs_source@primary@lc...: auto\n",
      "  ld_coeffs_source@secondary@...: auto\n",
      "  ld_coeffs@primary@lc01@dataset: [0.5 0.5]\n",
      "  ld_coeffs@secondary@lc01@da...: [0.5 0.5]\n",
      "  pblum_ref@primary@lc01@dataset: self\n",
      "  pblum_ref@secondary@lc01@da...: primary\n",
      "      pblum@primary@lc01@dataset: 12.5663706144 W\n",
      "    pblum@secondary@lc01@dataset: 12.5663706144 W\n"
     ]
    }
   ],
   "source": [
    "print(b.get_dataset())"
   ]
  },
  {
   "cell_type": "markdown",
   "metadata": {},
   "source": [
    "Now the same filter is returning additional parameters.  For example, `ld_coeffs_source` parameters were initially hidden because `ld_mode` is set to 'interp'.  We can see the rules that are being followed:"
   ]
  },
  {
   "cell_type": "code",
   "execution_count": 25,
   "metadata": {},
   "outputs": [
    {
     "name": "stdout",
     "output_type": "stream",
     "text": [
      "ld_mode:func_lookup\n"
     ]
    }
   ],
   "source": [
    "print(b.get_parameter(qualifier='ld_coeffs_source', component='primary').visible_if)"
   ]
  },
  {
   "cell_type": "markdown",
   "metadata": {},
   "source": [
    "and can still manually check to see that it shouldn't be visible (isn't currently relevant given the value of `ld_func`):"
   ]
  },
  {
   "cell_type": "code",
   "execution_count": 26,
   "metadata": {},
   "outputs": [
    {
     "name": "stdout",
     "output_type": "stream",
     "text": [
      "False\n"
     ]
    }
   ],
   "source": [
    "print(b.get_parameter(qualifier='ld_coeffs_source', component='primary').is_visible)"
   ]
  },
  {
   "cell_type": "code",
   "execution_count": 27,
   "metadata": {},
   "outputs": [],
   "source": [
    "phoebe.reset_settings()"
   ]
  },
  {
   "cell_type": "markdown",
   "metadata": {},
   "source": [
    "### check_default\n",
    "\n",
    "Similarly, PHOEBE automatically excludes any parameter which is tagged with a '\\_default' tag.  These parameters exist to provide default values when a new component or dataset are added to the bundle, but can usually be ignored, and so are excluded from any filter calls.  Although not at all expensive, this too can be disabled at the settings level or by passing `check_default=False` to any filter call.  \n",
    "\n",
    "This default behavior can be changed via [phoebe.check_default_on()](../api/phoebe.check_default_on.md) or [phoebe.check_default_off()](../api/phoebe.check_default_off.md)."
   ]
  },
  {
   "cell_type": "code",
   "execution_count": 28,
   "metadata": {},
   "outputs": [
    {
     "name": "stdout",
     "output_type": "stream",
     "text": [
      "ParameterSet: 16 parameters\n",
      "              times@lc01@dataset: [] d\n",
      "             fluxes@lc01@dataset: [] W / m2\n",
      "           passband@lc01@dataset: Johnson:V\n",
      "   intens_weighting@lc01@dataset: energy\n",
      "      compute_times@lc01@dataset: [] d\n",
      "*    compute_phases@lc01@dataset: []\n",
      "             sigmas@lc01@dataset: [] W / m2\n",
      "         pblum_mode@lc01@dataset: provided\n",
      "            l3_mode@lc01@dataset: flux\n",
      "                 l3@lc01@dataset: 0.0 W / m2\n",
      "            exptime@lc01@dataset: 0.0 s\n",
      "    ld_mode@primary@lc01@dataset: interp\n",
      "  ld_mode@secondary@lc01@dataset: interp\n",
      "  pblum_ref@primary@lc01@dataset: self\n",
      "  pblum_ref@secondary@lc01@da...: primary\n",
      "      pblum@primary@lc01@dataset: 12.5663706144 W\n"
     ]
    }
   ],
   "source": [
    "print(b.get_dataset())"
   ]
  },
  {
   "cell_type": "code",
   "execution_count": 29,
   "metadata": {},
   "outputs": [
    {
     "name": "stdout",
     "output_type": "stream",
     "text": [
      "ParameterSet: 18 parameters\n",
      "              times@lc01@dataset: [] d\n",
      "             fluxes@lc01@dataset: [] W / m2\n",
      "   ld_mode@_default@lc01@dataset: interp\n",
      "           passband@lc01@dataset: Johnson:V\n",
      "   intens_weighting@lc01@dataset: energy\n",
      "      compute_times@lc01@dataset: [] d\n",
      "*    compute_phases@lc01@dataset: []\n",
      "             sigmas@lc01@dataset: [] W / m2\n",
      "         pblum_mode@lc01@dataset: provided\n",
      "  pblum_ref@_default@lc01@dat...: primary\n",
      "            l3_mode@lc01@dataset: flux\n",
      "                 l3@lc01@dataset: 0.0 W / m2\n",
      "            exptime@lc01@dataset: 0.0 s\n",
      "    ld_mode@primary@lc01@dataset: interp\n",
      "  ld_mode@secondary@lc01@dataset: interp\n",
      "  pblum_ref@primary@lc01@dataset: self\n",
      "  pblum_ref@secondary@lc01@da...: primary\n",
      "      pblum@primary@lc01@dataset: 12.5663706144 W\n"
     ]
    }
   ],
   "source": [
    "print(b.get_dataset(check_default=False))"
   ]
  },
  {
   "cell_type": "code",
   "execution_count": 30,
   "metadata": {},
   "outputs": [],
   "source": [
    "phoebe.check_default_off()"
   ]
  },
  {
   "cell_type": "code",
   "execution_count": 31,
   "metadata": {},
   "outputs": [
    {
     "name": "stdout",
     "output_type": "stream",
     "text": [
      "ParameterSet: 18 parameters\n",
      "              times@lc01@dataset: [] d\n",
      "             fluxes@lc01@dataset: [] W / m2\n",
      "   ld_mode@_default@lc01@dataset: interp\n",
      "           passband@lc01@dataset: Johnson:V\n",
      "   intens_weighting@lc01@dataset: energy\n",
      "      compute_times@lc01@dataset: [] d\n",
      "*    compute_phases@lc01@dataset: []\n",
      "             sigmas@lc01@dataset: [] W / m2\n",
      "         pblum_mode@lc01@dataset: provided\n",
      "  pblum_ref@_default@lc01@dat...: primary\n",
      "            l3_mode@lc01@dataset: flux\n",
      "                 l3@lc01@dataset: 0.0 W / m2\n",
      "            exptime@lc01@dataset: 0.0 s\n",
      "    ld_mode@primary@lc01@dataset: interp\n",
      "  ld_mode@secondary@lc01@dataset: interp\n",
      "  pblum_ref@primary@lc01@dataset: self\n",
      "  pblum_ref@secondary@lc01@da...: primary\n",
      "      pblum@primary@lc01@dataset: 12.5663706144 W\n"
     ]
    }
   ],
   "source": [
    "print(b.get_dataset())"
   ]
  },
  {
   "cell_type": "code",
   "execution_count": 32,
   "metadata": {},
   "outputs": [],
   "source": [
    "phoebe.reset_settings()"
   ]
  },
  {
   "cell_type": "markdown",
   "metadata": {},
   "source": [
    "## Environment Variables"
   ]
  },
  {
   "cell_type": "markdown",
   "metadata": {},
   "source": [
    "Some settings cannot be changed after importing PHOEBE, so they are available via environment variables.  These can be set in a variety of ways:\n",
    "\n",
    "Setting inline before calling python will set for that single session of PHOEBE:\n",
    "```\n",
    "PHOEBE_ENABLE_PLOTTING=FALSE python [script.py]\n",
    "```\n",
    "\n",
    "Setting via the os package in python **before** importing PHOEBE allows you to set the setting everytime you run a given script:\n",
    "```py\n",
    "import os\n",
    "os.environ['PHOEBE_ENABLE_PLOTTING'] = 'FALSE'\n",
    "import phoebe\n",
    "```\n",
    "\n",
    "Note for all boolean settings, the string is converted to uppercase and compared to 'TRUE'."
   ]
  },
  {
   "cell_type": "markdown",
   "metadata": {},
   "source": [
    "### PHOEBE_ENABLE_PLOTTING\n",
    "\n",
    "PHOEBE_ENABLE_PLOTTING (TRUE by default) allows for disabling plotting within PHOEBE and therefore skipping the import of all plotting libraries (which take up a significant amount of the time it takes to import phoebe)."
   ]
  },
  {
   "cell_type": "markdown",
   "metadata": {},
   "source": [
    "### PHOEBE_ENABLE_ONLINE_PASSBANDS\n",
    "\n",
    "PHOEBE_ENABLE_ONLINE_PASSBANDS (TRUE by default) dictates whether online passbands are queried and available for on-the-fly downloading.  If you are sure you have all the local passbands you need, set this to False to save some time."
   ]
  }
 ],
 "metadata": {
  "kernelspec": {
   "display_name": "Python 2",
   "language": "python",
   "name": "python2"
  },
  "language_info": {
   "codemirror_mode": {
    "name": "ipython",
    "version": 2
   },
   "file_extension": ".py",
   "mimetype": "text/x-python",
   "name": "python",
   "nbconvert_exporter": "python",
   "pygments_lexer": "ipython2",
   "version": "2.7.15rc1"
  }
 },
 "nbformat": 4,
 "nbformat_minor": 1
}
