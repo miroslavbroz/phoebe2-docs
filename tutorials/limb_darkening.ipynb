{
 "cells": [
  {
   "cell_type": "markdown",
   "metadata": {},
   "source": [
    "Limb Darkening\n",
    "============================\n",
    "\n",
    "Setup\n",
    "-----------------------------"
   ]
  },
  {
   "cell_type": "markdown",
   "metadata": {},
   "source": [
    "Let's first make sure we have the latest version of PHOEBE 2.3 installed (uncomment this line if running in an online notebook session such as colab)."
   ]
  },
  {
   "cell_type": "code",
   "execution_count": 1,
   "metadata": {},
   "outputs": [
    {
     "name": "stdout",
     "output_type": "stream",
     "text": [
      "\u001b[33mDEPRECATION: Python 2.7 reached the end of its life on January 1st, 2020. Please upgrade your Python as Python 2.7 is no longer maintained. pip 21.0 will drop support for Python 2.7 in January 2021. More details about Python 2 support in pip, can be found at https://pip.pypa.io/en/latest/development/release-process/#python-2-support\u001b[0m\n",
      "Defaulting to user installation because normal site-packages is not writeable\n",
      "\u001b[31mERROR: Could not find a version that satisfies the requirement phoebe<2.4,>=2.3 (from versions: 2.0, 2.0.1, 2.0.2, 2.0.3, 2.0.4, 2.0.5, 2.0.6, 2.0.7, 2.0.8, 2.0.9, 2.0.10, 2.0.11, 2.1.0, 2.1.1, 2.1.2, 2.1.3, 2.1.4, 2.1.5, 2.1.6, 2.1.7, 2.1.8, 2.1.9, 2.1.10, 2.1.11, 2.1.12, 2.1.13, 2.1.14, 2.1.15, 2.1.16, 2.1.17, 2.2.0, 2.2.1, 2.2.2)\u001b[0m\n",
      "\u001b[31mERROR: No matching distribution found for phoebe<2.4,>=2.3\u001b[0m\n",
      "\u001b[33mWARNING: You are using pip version 20.1.1; however, version 20.2.3 is available.\n",
      "You should consider upgrading via the '/usr/bin/python2 -m pip install --upgrade pip' command.\u001b[0m\n"
     ]
    }
   ],
   "source": [
    "!pip install -I \"phoebe>=2.3,<2.4\""
   ]
  },
  {
   "cell_type": "markdown",
   "metadata": {
    "collapsed": true
   },
   "source": [
    "As always, let's do imports and initialize a logger and a new bundle. "
   ]
  },
  {
   "cell_type": "code",
   "execution_count": 2,
   "metadata": {},
   "outputs": [],
   "source": [
    "import phoebe\n",
    "\n",
    "logger = phoebe.logger()\n",
    "\n",
    "b = phoebe.default_binary()"
   ]
  },
  {
   "cell_type": "markdown",
   "metadata": {
    "collapsed": true
   },
   "source": [
    "We'll just add an 'lc' dataset"
   ]
  },
  {
   "cell_type": "code",
   "execution_count": 3,
   "metadata": {},
   "outputs": [
    {
     "data": {
      "text/plain": [
       "<ParameterSet: 73 parameters | contexts: figure, compute, dataset, constraint>"
      ]
     },
     "execution_count": 3,
     "metadata": {},
     "output_type": "execute_result"
    }
   ],
   "source": [
    "b.add_dataset('lc', times=phoebe.linspace(0,1,101), dataset='lc01')"
   ]
  },
  {
   "cell_type": "markdown",
   "metadata": {},
   "source": [
    "Relevant Parameters\n",
    "-----------------------------"
   ]
  },
  {
   "cell_type": "markdown",
   "metadata": {},
   "source": [
    "`ld_mode_bol`, `ld_func_bol`, `ld_coeffs_source_bol`, and `ld_coeffs_bol` are for bolometric limb-darkening, which is only currently used for [irradiation/reflection](./reflection_heating.ipynb).  These are per-component parameters that have context='component'."
   ]
  },
  {
   "cell_type": "code",
   "execution_count": 4,
   "metadata": {},
   "outputs": [
    {
     "name": "stdout",
     "output_type": "stream",
     "text": [
      "Parameter: ld_mode_bol@primary@component\n",
      "                       Qualifier: ld_mode_bol\n",
      "                     Description: Mode to use for bolometric limb-darkening (used only for irradiation).\n",
      "                           Value: lookup\n",
      "                         Choices: lookup, manual\n",
      "                  Constrained by: \n",
      "                      Constrains: None\n",
      "                      Related to: None\n",
      "\n"
     ]
    }
   ],
   "source": [
    "print(b['ld_mode_bol@primary'])"
   ]
  },
  {
   "cell_type": "code",
   "execution_count": 5,
   "metadata": {},
   "outputs": [
    {
     "name": "stdout",
     "output_type": "stream",
     "text": [
      "Parameter: ld_func_bol@primary@component\n",
      "                       Qualifier: ld_func_bol\n",
      "                     Description: Bolometric limb darkening model (used only for irradiation).\n",
      "                           Value: logarithmic\n",
      "                         Choices: linear, logarithmic, quadratic, square_root, power\n",
      "                  Constrained by: \n",
      "                      Constrains: None\n",
      "                      Related to: None\n",
      "\n"
     ]
    }
   ],
   "source": [
    "print(b['ld_func_bol@primary'])"
   ]
  },
  {
   "cell_type": "code",
   "execution_count": 6,
   "metadata": {},
   "outputs": [
    {
     "name": "stdout",
     "output_type": "stream",
     "text": [
      "['linear', 'logarithmic', 'quadratic', 'square_root', 'power']\n"
     ]
    }
   ],
   "source": [
    "print(b['ld_func_bol@primary'].choices)"
   ]
  },
  {
   "cell_type": "markdown",
   "metadata": {},
   "source": [
    "### ld_mode_bol = 'lookup'\n",
    "\n",
    "By default, `ld_mode_bol` is set to 'lookup', in which case the coefficients are pulled from the atmosphere table (according to `ld_coeffs_source_bol`) per-component (but not per-element).  Note that this differs slightly from the dataset-treatment where the lookup is handled per-element."
   ]
  },
  {
   "cell_type": "code",
   "execution_count": 7,
   "metadata": {},
   "outputs": [
    {
     "name": "stdout",
     "output_type": "stream",
     "text": [
      "Parameter: ld_coeffs_source_bol@primary@component\n",
      "                       Qualifier: ld_coeffs_source_bol\n",
      "                     Description: Source for bolometric limb darkening coefficients (used only for irradiation; 'auto' to interpolate from the applicable table according to the 'atm' parameter, or the name of a specific atmosphere table)\n",
      "                           Value: auto\n",
      "                         Choices: auto, ck2004, phoenix\n",
      "                  Constrained by: \n",
      "                      Constrains: None\n",
      "                      Related to: None\n",
      "                 Only visible if: ld_mode_bol:lookup\n",
      "\n"
     ]
    }
   ],
   "source": [
    "print(b['ld_coeffs_source_bol@primary'])"
   ]
  },
  {
   "cell_type": "markdown",
   "metadata": {},
   "source": [
    "To access the interpolated values that will be used under-the-hood, we can call [b.compute_ld_coeffs](../api/phoebe.frontend.bundle.Bundle.compute_ld_coeffs.md).\n",
    "\n",
    "(To only compute the bolometric quantities, pass `dataset='bol'`)"
   ]
  },
  {
   "cell_type": "code",
   "execution_count": 8,
   "metadata": {},
   "outputs": [
    {
     "data": {
      "text/plain": [
       "{'ld_coeffs_bol@primary@component': array([0.70974057, 0.2862986 ]),\n",
       " 'ld_coeffs_bol@secondary@component': array([0.70974057, 0.2862986 ])}"
      ]
     },
     "execution_count": 8,
     "metadata": {},
     "output_type": "execute_result"
    }
   ],
   "source": [
    "b.compute_ld_coeffs(dataset='bol')"
   ]
  },
  {
   "cell_type": "markdown",
   "metadata": {},
   "source": [
    "### ld_mode_bol = 'manual'\n",
    "\n",
    "To pass coefficients manually, we can change `ld_mode_bol` to 'manual'"
   ]
  },
  {
   "cell_type": "code",
   "execution_count": 9,
   "metadata": {},
   "outputs": [],
   "source": [
    "b.set_value_all('ld_mode_bol', value='manual')"
   ]
  },
  {
   "cell_type": "code",
   "execution_count": 10,
   "metadata": {},
   "outputs": [
    {
     "name": "stdout",
     "output_type": "stream",
     "text": [
      "Parameter: ld_coeffs_bol@primary@component\n",
      "                       Qualifier: ld_coeffs_bol\n",
      "                     Description: Bolometric limb darkening coefficients (used only for irradiation).\n",
      "                           Value: [0.5 0.5]\n",
      "                  Constrained by: \n",
      "                      Constrains: None\n",
      "                      Related to: None\n",
      "                 Only visible if: ld_mode_bol:manual\n",
      "\n"
     ]
    }
   ],
   "source": [
    "print(b['ld_coeffs_bol@primary'])"
   ]
  },
  {
   "cell_type": "markdown",
   "metadata": {},
   "source": [
    "All other limb-darkening parameters (`ld_mode`, `ld_func`, `ld_coeffs_source`, and `ld_coeffs`) are per-component and per-dataset parameters with context='dataset'."
   ]
  },
  {
   "cell_type": "code",
   "execution_count": 11,
   "metadata": {},
   "outputs": [
    {
     "name": "stdout",
     "output_type": "stream",
     "text": [
      "ParameterSet: 2 parameters\n",
      "     ld_mode@primary@lc01@dataset: interp\n",
      "   ld_mode@secondary@lc01@dataset: interp\n"
     ]
    }
   ],
   "source": [
    "print(b.filter(qualifier='ld_mode', dataset='lc01'))"
   ]
  },
  {
   "cell_type": "markdown",
   "metadata": {},
   "source": [
    "### ld_mode = 'interp'\n",
    "\n",
    "Unlike bolometric limb-darkening, passband limb-darkening coefficients can be interpolated directly from atmosphere tables, this is the default case, with `ld_mode` set to 'interp'.  \n",
    "\n",
    "Note that before PHOEBE 2.2, this was accomplished by setting `ld_func` to 'interp' (see [this explanation for migrating from earlier versions](./21_22_ld_coeffs_source.ipynb))."
   ]
  },
  {
   "cell_type": "code",
   "execution_count": 12,
   "metadata": {},
   "outputs": [
    {
     "name": "stdout",
     "output_type": "stream",
     "text": [
      "['interp', 'lookup', 'manual']\n"
     ]
    }
   ],
   "source": [
    "print(b.get_parameter(qualifier='ld_mode', dataset='lc01', component='primary').choices)"
   ]
  },
  {
   "cell_type": "markdown",
   "metadata": {},
   "source": [
    "Note that `ld_func`, `ld_coeffs_source`, and `ld_coeffs` aren't visible (relevant) if `ld_mode` is set to  'interp' (which it is by default)."
   ]
  },
  {
   "cell_type": "code",
   "execution_count": 13,
   "metadata": {},
   "outputs": [
    {
     "name": "stdout",
     "output_type": "stream",
     "text": [
      "ParameterSet: 2 parameters\n",
      "     ld_mode@primary@lc01@dataset: interp\n",
      "   ld_mode@secondary@lc01@dataset: interp\n"
     ]
    }
   ],
   "source": [
    "print(b.filter(qualifier='ld*', dataset='lc01'))"
   ]
  },
  {
   "cell_type": "markdown",
   "metadata": {},
   "source": [
    "### ld_mode = 'lookup'\n",
    "\n",
    "Setting the value of `ld_mode` to 'lookup' will expose the `ld_func` and `ld_coeffs_source` parameters.  Note that this behavior is slightly new as of PHOEBE 2.2 (see [this explanation for migrating from earlier versions](./21_22_ld_coeffs_source.ipynb)).\n",
    "\n",
    "When set to 'lookup', then the limb-darkening will be interpolated **per-element** (for PHOEBE 2, other backends may interpolate per-star) for the function given in `ld_func` from the atmosphere table dictated by the `ld_coeffs_source` parameter (or the `atm` parameter and falling back on 'ck2004' if no match is found if `ld_coeffs_source` is set to 'auto').\n",
    "\n",
    "Note that the bolometric `ld_mode_bol` of 'lookup' interpolates per-component, but not per-element."
   ]
  },
  {
   "cell_type": "code",
   "execution_count": 14,
   "metadata": {},
   "outputs": [],
   "source": [
    "b.set_value(qualifier='ld_mode', dataset='lc01', component='primary', value='lookup')"
   ]
  },
  {
   "cell_type": "code",
   "execution_count": 15,
   "metadata": {},
   "outputs": [
    {
     "name": "stdout",
     "output_type": "stream",
     "text": [
      "ParameterSet: 3 parameters\n",
      "     ld_mode@primary@lc01@dataset: lookup\n",
      "     ld_func@primary@lc01@dataset: logarithmic\n",
      "   ld_coeffs_source@primary@lc...: auto\n"
     ]
    }
   ],
   "source": [
    "print(b.filter(qualifier='ld*', dataset='lc01', component='primary'))"
   ]
  },
  {
   "cell_type": "markdown",
   "metadata": {},
   "source": [
    "To manually choose an available atmosphere table, you can choose some other value ('ck2004', for example)."
   ]
  },
  {
   "cell_type": "code",
   "execution_count": 16,
   "metadata": {},
   "outputs": [
    {
     "name": "stdout",
     "output_type": "stream",
     "text": [
      "Parameter: ld_coeffs_source@primary@lc01@dataset\n",
      "                       Qualifier: ld_coeffs_source\n",
      "                     Description: Source for limb darkening coefficients ('auto' to interpolate from the applicable table according to the 'atm' parameter, or the name of a specific atmosphere table)\n",
      "                           Value: auto\n",
      "                         Choices: auto, phoenix, ck2004\n",
      "                  Constrained by: \n",
      "                      Constrains: None\n",
      "                      Related to: None\n",
      "                 Only visible if: ld_mode:lookup\n",
      "\n"
     ]
    }
   ],
   "source": [
    "print(b.get_parameter(qualifier='ld_coeffs_source', dataset='lc01', component='primary'))"
   ]
  },
  {
   "cell_type": "markdown",
   "metadata": {},
   "source": [
    "Although not necesary, we can access the interpolated coefficients by calling [b.compute_ld_coeffs](../api/phoebe.frontend.bundle.Bundle.compute_ld_coeffs.md)."
   ]
  },
  {
   "cell_type": "code",
   "execution_count": 17,
   "metadata": {},
   "outputs": [
    {
     "name": "stdout",
     "output_type": "stream",
     "text": [
      "{'ld_coeffs@primary@lc01': array([0.78822538, 0.27905826])}\n"
     ]
    }
   ],
   "source": [
    "print(b.compute_ld_coeffs(dataset='lc01'))"
   ]
  },
  {
   "cell_type": "markdown",
   "metadata": {},
   "source": [
    "### ld_mode = 'manual'\n",
    "\n",
    "Setting the value of `ld_mode` to 'manual' will expose the `ld_func` and `ld_coeffs` parameters.  Again, note that this behavior is slightly new as of PHOEBE 2.2 (see [this explanation for migrating from earlier versions](./21_22_ld_coeffs_source.ipynb)).\n",
    "\n",
    "In this case, we can manually provide the coefficients through the `ld_coeffs` parameter, keeping care that they are of the correct length for the given value of `ld_func`.  To ensure this is the case, call [b.run_checks](../api/phoebe.frontend.bundle.Bundle.run_checks.md) (or wait until [b.run_compute](../api/phoebe.frontend.bundle.Bundle.run_compute.md) which will raise an error if the length is in conflict)."
   ]
  },
  {
   "cell_type": "code",
   "execution_count": 18,
   "metadata": {},
   "outputs": [],
   "source": [
    "b.set_value(qualifier='ld_mode', dataset='lc01', component='primary', value='manual')"
   ]
  },
  {
   "cell_type": "code",
   "execution_count": 19,
   "metadata": {},
   "outputs": [
    {
     "name": "stdout",
     "output_type": "stream",
     "text": [
      "ParameterSet: 3 parameters\n",
      "     ld_mode@primary@lc01@dataset: manual\n",
      "     ld_func@primary@lc01@dataset: logarithmic\n",
      "   ld_coeffs@primary@lc01@dataset: [0.5 0.5]\n"
     ]
    }
   ],
   "source": [
    "print(b.filter(qualifier='ld*', dataset='lc01', component='primary'))"
   ]
  },
  {
   "cell_type": "code",
   "execution_count": 20,
   "metadata": {},
   "outputs": [
    {
     "name": "stdout",
     "output_type": "stream",
     "text": [
      "Parameter: ld_coeffs@primary@lc01@dataset\n",
      "                       Qualifier: ld_coeffs\n",
      "                     Description: Limb darkening coefficients\n",
      "                           Value: [0.5 0.5]\n",
      "                  Constrained by: \n",
      "                      Constrains: None\n",
      "                      Related to: None\n",
      "                 Only visible if: ld_mode:manual\n",
      "\n"
     ]
    }
   ],
   "source": [
    "print(b.get_parameter(qualifier='ld_coeffs', dataset='lc01', component='primary'))"
   ]
  }
 ],
 "metadata": {
  "kernelspec": {
   "display_name": "Python 3",
   "language": "python",
   "name": "python3"
  },
  "language_info": {
   "codemirror_mode": {
    "name": "ipython",
    "version": 3
   },
   "file_extension": ".py",
   "mimetype": "text/x-python",
   "name": "python",
   "nbconvert_exporter": "python",
   "pygments_lexer": "ipython3",
   "version": "3.8.2"
  }
 },
 "nbformat": 4,
 "nbformat_minor": 1
}
