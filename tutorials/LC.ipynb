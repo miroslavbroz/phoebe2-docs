{
 "cells": [
  {
   "cell_type": "markdown",
   "metadata": {},
   "source": [
    "[IPython Notebook](LC.ipynb) |  [Python Script](LC.py)"
   ]
  },
  {
   "cell_type": "markdown",
   "metadata": {},
   "source": [
    "'lc' Datasets and Options\n",
    "============================\n",
    "\n",
    "Setup\n",
    "-----------------------------"
   ]
  },
  {
   "cell_type": "markdown",
   "metadata": {
    "collapsed": true
   },
   "source": [
    "As always, let's do imports and initialize a logger and a new Bundle.  See [Building a System](building_a_system.html) for more details."
   ]
  },
  {
   "cell_type": "code",
   "execution_count": 1,
   "metadata": {
    "collapsed": true
   },
   "outputs": [],
   "source": [
    "%matplotlib inline"
   ]
  },
  {
   "cell_type": "code",
   "execution_count": 2,
   "metadata": {
    "collapsed": false
   },
   "outputs": [
    {
     "name": "stderr",
     "output_type": "stream",
     "text": [
      "WARNING: Constant u'Gravitational constant' is already has a definition in the u'si' system [astropy.constants.constant]\n",
      "WARNING: Constant u'Solar mass' is already has a definition in the u'si' system [astropy.constants.constant]\n",
      "WARNING: Constant u'Solar radius' is already has a definition in the u'si' system [astropy.constants.constant]\n",
      "WARNING: Constant u'Solar luminosity' is already has a definition in the u'si' system [astropy.constants.constant]\n",
      "/usr/local/lib/python2.7/dist-packages/astropy/units/quantity.py:782: FutureWarning: comparison to `None` will result in an elementwise object comparison in the future.\n",
      "  return super(Quantity, self).__eq__(other)\n"
     ]
    }
   ],
   "source": [
    "import phoebe\n",
    "from phoebe import u # units\n",
    "import numpy as np\n",
    "import matplotlib.pyplot as plt\n",
    "\n",
    "logger = phoebe.logger()\n",
    "\n",
    "b = phoebe.default_binary()"
   ]
  },
  {
   "cell_type": "markdown",
   "metadata": {
    "collapsed": true
   },
   "source": [
    "Dataset Parameters\n",
    "--------------------------\n",
    "\n",
    "Let's create the ParameterSets which would be added to the Bundle when calling add_dataset. Later we'll call add_dataset, which will create and attach both these ParameterSets for us."
   ]
  },
  {
   "cell_type": "code",
   "execution_count": 3,
   "metadata": {
    "collapsed": false
   },
   "outputs": [
    {
     "name": "stdout",
     "output_type": "stream",
     "text": [
      "ParameterSet: 3 parameters\n",
      "                           times: [] d\n",
      "                          fluxes: [] W / m2\n",
      "                          sigmas: [] W / m2\n"
     ]
    }
   ],
   "source": [
    "ps, constraints = phoebe.dataset.lc()\n",
    "print ps"
   ]
  },
  {
   "cell_type": "code",
   "execution_count": 4,
   "metadata": {
    "collapsed": false
   },
   "outputs": [
    {
     "name": "stdout",
     "output_type": "stream",
     "text": [
      "ParameterSet: 8 parameters\n",
      "                ld_func@_default: interp\n",
      "              ld_coeffs@_default: [ 0.5  0.5]\n",
      "                        passband: Johnson:V\n",
      "                intens_weighting: energy\n",
      "              pblum_ref@_default: \n",
      "                  pblum@_default: 12.5663706144 W\n",
      "                              l3: 0.0 W / m3\n",
      "                         exptime: 0.0 s\n"
     ]
    }
   ],
   "source": [
    "ps_dep = phoebe.dataset.lc_dep()\n",
    "print ps_dep"
   ]
  },
  {
   "cell_type": "markdown",
   "metadata": {},
   "source": [
    "### times"
   ]
  },
  {
   "cell_type": "code",
   "execution_count": 5,
   "metadata": {
    "collapsed": false
   },
   "outputs": [
    {
     "name": "stdout",
     "output_type": "stream",
     "text": [
      "Parameter: times\n",
      "                       Qualifier: times\n",
      "                     Description: Observed times\n",
      "                           Value: [] d\n",
      "                  Constrained by: \n",
      "                      Constrains: None\n",
      "                      Related to: None\n",
      "\n"
     ]
    }
   ],
   "source": [
    "print ps['times']"
   ]
  },
  {
   "cell_type": "markdown",
   "metadata": {},
   "source": [
    "### fluxes"
   ]
  },
  {
   "cell_type": "code",
   "execution_count": 6,
   "metadata": {
    "collapsed": false
   },
   "outputs": [
    {
     "name": "stdout",
     "output_type": "stream",
     "text": [
      "Parameter: fluxes\n",
      "                       Qualifier: fluxes\n",
      "                     Description: Observed flux\n",
      "                           Value: [] W / m2\n",
      "                  Constrained by: \n",
      "                      Constrains: None\n",
      "                      Related to: None\n",
      "\n"
     ]
    }
   ],
   "source": [
    "print ps['fluxes']"
   ]
  },
  {
   "cell_type": "markdown",
   "metadata": {},
   "source": [
    "### sigmas"
   ]
  },
  {
   "cell_type": "code",
   "execution_count": 7,
   "metadata": {
    "collapsed": false
   },
   "outputs": [
    {
     "name": "stdout",
     "output_type": "stream",
     "text": [
      "Parameter: sigmas\n",
      "                       Qualifier: sigmas\n",
      "                     Description: Observed uncertainty on flux\n",
      "                           Value: [] W / m2\n",
      "                  Constrained by: \n",
      "                      Constrains: None\n",
      "                      Related to: None\n",
      "\n"
     ]
    }
   ],
   "source": [
    "print ps['sigmas']"
   ]
  },
  {
   "cell_type": "markdown",
   "metadata": {},
   "source": [
    "### ld_func"
   ]
  },
  {
   "cell_type": "code",
   "execution_count": 8,
   "metadata": {
    "collapsed": false
   },
   "outputs": [
    {
     "name": "stdout",
     "output_type": "stream",
     "text": [
      "Parameter: ld_func@_default\n",
      "                       Qualifier: ld_func\n",
      "                     Description: Limb darkening model\n",
      "                           Value: interp\n",
      "                         Choices: interp, linear, logarithmic, quadratic, square_root, power\n",
      "\n"
     ]
    }
   ],
   "source": [
    "print ps_dep['ld_func']"
   ]
  },
  {
   "cell_type": "markdown",
   "metadata": {},
   "source": [
    "### ld_coeffs"
   ]
  },
  {
   "cell_type": "code",
   "execution_count": 9,
   "metadata": {
    "collapsed": false
   },
   "outputs": [
    {
     "name": "stdout",
     "output_type": "stream",
     "text": [
      "Parameter: ld_coeffs@_default\n",
      "                       Qualifier: ld_coeffs\n",
      "                     Description: Limb darkening coefficients\n",
      "                           Value: [ 0.5  0.5]\n",
      "                  Constrained by: \n",
      "                      Constrains: None\n",
      "                      Related to: None\n",
      "                 Only visible if: ld_func:!interp\n",
      "\n"
     ]
    }
   ],
   "source": [
    "print ps_dep['ld_coeffs']"
   ]
  },
  {
   "cell_type": "markdown",
   "metadata": {},
   "source": [
    "### passband"
   ]
  },
  {
   "cell_type": "code",
   "execution_count": 10,
   "metadata": {
    "collapsed": false
   },
   "outputs": [
    {
     "name": "stdout",
     "output_type": "stream",
     "text": [
      "Parameter: passband\n",
      "                       Qualifier: passband\n",
      "                     Description: Passband\n",
      "                           Value: Johnson:V\n",
      "                         Choices: Johnson:B, Johnson:R, Stromgren:b, Stromgren:v, Cousins:R, Cousins:I, Stromgren:u, Bolometric:1760-40000, Johnson:U, Johnson:V, Kepler:mean, Stromgren:y\n",
      "\n"
     ]
    }
   ],
   "source": [
    "print ps_dep['passband']"
   ]
  },
  {
   "cell_type": "markdown",
   "metadata": {},
   "source": [
    "### intens_weighting\n",
    "\n",
    "See the [Intensity Weighting tutorial](intens_weighting)"
   ]
  },
  {
   "cell_type": "code",
   "execution_count": 11,
   "metadata": {
    "collapsed": false
   },
   "outputs": [
    {
     "name": "stdout",
     "output_type": "stream",
     "text": [
      "Parameter: intens_weighting\n",
      "                       Qualifier: intens_weighting\n",
      "                     Description: Whether passband intensities are weighted by energy of photons\n",
      "                           Value: energy\n",
      "                         Choices: energy, photon\n",
      "\n"
     ]
    }
   ],
   "source": [
    "print ps_dep['intens_weighting']"
   ]
  },
  {
   "cell_type": "markdown",
   "metadata": {},
   "source": [
    "### pblum\n",
    "\n",
    "See the [Passband Luminosity tutorial](pblum)"
   ]
  },
  {
   "cell_type": "code",
   "execution_count": 12,
   "metadata": {
    "collapsed": false
   },
   "outputs": [
    {
     "name": "stdout",
     "output_type": "stream",
     "text": [
      "Parameter: pblum@_default\n",
      "                       Qualifier: pblum\n",
      "                     Description: Passband luminosity (defined at t0)\n",
      "                           Value: 12.5663706144 W\n",
      "                  Constrained by: \n",
      "                      Constrains: None\n",
      "                      Related to: None\n",
      "                 Only visible if: pblum_ref:self\n",
      "\n"
     ]
    }
   ],
   "source": [
    "print ps_dep['pblum']"
   ]
  },
  {
   "cell_type": "markdown",
   "metadata": {},
   "source": [
    "### l3\n",
    "\n",
    "See the [\"Third\" Light tutorial](l3)"
   ]
  },
  {
   "cell_type": "code",
   "execution_count": 13,
   "metadata": {
    "collapsed": false
   },
   "outputs": [
    {
     "name": "stdout",
     "output_type": "stream",
     "text": [
      "Parameter: l3\n",
      "                       Qualifier: l3\n",
      "                     Description: Third light\n",
      "                           Value: 0.0 W / m3\n",
      "                  Constrained by: \n",
      "                      Constrains: None\n",
      "                      Related to: None\n",
      "\n"
     ]
    }
   ],
   "source": [
    "print ps_dep['l3']"
   ]
  },
  {
   "cell_type": "markdown",
   "metadata": {},
   "source": [
    "Compute Options\n",
    "------------------\n",
    "\n",
    "Let's look at the compute options (for the default PHOEBE 2 backend) that relate to computing fluxes and the LC dataset.\n",
    "\n",
    "Other compute options are covered elsewhere:\n",
    "* parameters related to dynamics are explained in the section on the [orb dataset](ORB)\n",
    "* parameters related to meshing, eclipse detection, and subdivision are explained in the section on the [mesh dataset](MESH)"
   ]
  },
  {
   "cell_type": "code",
   "execution_count": 14,
   "metadata": {
    "collapsed": false
   },
   "outputs": [
    {
     "name": "stdout",
     "output_type": "stream",
     "text": [
      "ParameterSet: 23 parameters\n",
      "                enabled@_default: True\n",
      "                 dynamics_method: keplerian\n",
      "                            ltte: False\n",
      "                              gr: False\n",
      "                        stepsize: 0.01\n",
      "                      integrator: ias15\n",
      "               reflection_method: wilson\n",
      "                 boosting_method: none\n",
      "                       protomesh: False\n",
      "                          pbmesh: False\n",
      "            mesh_method@_default: marching\n",
      "                  delta@_default: 0.1\n",
      "              maxpoints@_default: 100000\n",
      "      distortion_method@_default: roche\n",
      "               gridsize@_default: 40\n",
      "                  eclipse_method: native\n",
      "                  horizon_method: boolean\n",
      "                    atm@_default: ck2004\n",
      "              lc_method@_default: numerical\n",
      "             fti_method@_default: None\n",
      "  fti_oversample@_default@_de...: 5\n",
      "     rv_method@_default@_default: flux-weighted\n",
      "       rv_grav@_default@_default: False\n"
     ]
    }
   ],
   "source": [
    "ps_compute = phoebe.compute.phoebe()\n",
    "print ps_compute"
   ]
  },
  {
   "cell_type": "markdown",
   "metadata": {},
   "source": [
    "### lc_method"
   ]
  },
  {
   "cell_type": "code",
   "execution_count": 15,
   "metadata": {
    "collapsed": false
   },
   "outputs": [
    {
     "name": "stdout",
     "output_type": "stream",
     "text": [
      "Parameter: lc_method@_default\n",
      "                       Qualifier: lc_method\n",
      "                     Description: Method to use for computing LC fluxes\n",
      "                           Value: numerical\n",
      "                         Choices: numerical\n",
      "\n"
     ]
    }
   ],
   "source": [
    "print ps_compute['lc_method']"
   ]
  },
  {
   "cell_type": "markdown",
   "metadata": {},
   "source": [
    "### reflection_method"
   ]
  },
  {
   "cell_type": "code",
   "execution_count": 40,
   "metadata": {
    "collapsed": false,
    "scrolled": true
   },
   "outputs": [
    {
     "name": "stdout",
     "output_type": "stream",
     "text": [
      "Parameter: reflection_method\n",
      "                       Qualifier: reflection_method\n",
      "                     Description: Which method to use to handle all reflection\n",
      "                           Value: wilson\n",
      "                         Choices: none, wilson\n",
      "\n"
     ]
    }
   ],
   "source": [
    "print ps_compute['reflection_method']"
   ]
  },
  {
   "cell_type": "markdown",
   "metadata": {
    "collapsed": true
   },
   "source": [
    "### boosting_method"
   ]
  },
  {
   "cell_type": "code",
   "execution_count": 17,
   "metadata": {
    "collapsed": false
   },
   "outputs": [
    {
     "name": "stdout",
     "output_type": "stream",
     "text": [
      "Parameter: boosting_method\n",
      "                       Qualifier: boosting_method\n",
      "                     Description: Type of boosting method\n",
      "                           Value: none\n",
      "                         Choices: none, linear\n",
      "\n"
     ]
    }
   ],
   "source": [
    "print ps_compute['boosting_method']"
   ]
  },
  {
   "cell_type": "markdown",
   "metadata": {},
   "source": [
    "For more details on boosting, see the [Beaming and Boosting example script](../examples/beaming_boosting)"
   ]
  },
  {
   "cell_type": "markdown",
   "metadata": {},
   "source": [
    "### atm"
   ]
  },
  {
   "cell_type": "code",
   "execution_count": 18,
   "metadata": {
    "collapsed": false
   },
   "outputs": [
    {
     "name": "stdout",
     "output_type": "stream",
     "text": [
      "Parameter: atm@_default\n",
      "                       Qualifier: atm\n",
      "                     Description: Atmosphere table\n",
      "                           Value: ck2004\n",
      "                         Choices: blackbody, ck2004_all, ck2004, extern_atmx, ck2004_ldint, extern_planckint\n",
      "\n"
     ]
    }
   ],
   "source": [
    "print ps_compute['atm']"
   ]
  },
  {
   "cell_type": "markdown",
   "metadata": {},
   "source": [
    "For more details on heating, see the [Reflection and Heating example script](../examples/reflection_heating)"
   ]
  },
  {
   "cell_type": "markdown",
   "metadata": {},
   "source": [
    "Synthetics\n",
    "------------------"
   ]
  },
  {
   "cell_type": "code",
   "execution_count": 19,
   "metadata": {
    "collapsed": false
   },
   "outputs": [
    {
     "data": {
      "text/plain": [
       "<ParameterSet: 12 parameters | kinds: lc, lc_dep>"
      ]
     },
     "execution_count": 19,
     "metadata": {},
     "output_type": "execute_result"
    }
   ],
   "source": [
    "b.add_dataset('lc', times=np.linspace(0,3,101), dataset='lc01')"
   ]
  },
  {
   "cell_type": "code",
   "execution_count": 20,
   "metadata": {
    "collapsed": false
   },
   "outputs": [
    {
     "data": {
      "text/plain": [
       "<ParameterSet: 21 parameters | components: primary, secondary>"
      ]
     },
     "execution_count": 20,
     "metadata": {},
     "output_type": "execute_result"
    }
   ],
   "source": [
    "b.add_compute()"
   ]
  },
  {
   "cell_type": "code",
   "execution_count": 21,
   "metadata": {
    "collapsed": false
   },
   "outputs": [
    {
     "data": {
      "text/plain": [
       "<ParameterSet: 2 parameters | qualifiers: fluxes, times>"
      ]
     },
     "execution_count": 21,
     "metadata": {},
     "output_type": "execute_result"
    }
   ],
   "source": [
    "b.run_compute()"
   ]
  },
  {
   "cell_type": "code",
   "execution_count": 22,
   "metadata": {
    "collapsed": false
   },
   "outputs": [
    {
     "data": {
      "text/plain": [
       "['times@lc01@phoebe01@latest@lc@model', 'fluxes@lc01@phoebe01@latest@lc@model']"
      ]
     },
     "execution_count": 22,
     "metadata": {},
     "output_type": "execute_result"
    }
   ],
   "source": [
    "b['lc@model'].twigs"
   ]
  },
  {
   "cell_type": "code",
   "execution_count": 23,
   "metadata": {
    "collapsed": false
   },
   "outputs": [
    {
     "name": "stdout",
     "output_type": "stream",
     "text": [
      "Parameter: times@latest@model\n",
      "                       Qualifier: times\n",
      "                     Description: Observed times\n",
      "                           Value: [ 0.    0.03  0.06 ...,  2.94  2.97  3.  ] d\n",
      "                  Constrained by: \n",
      "                      Constrains: None\n",
      "                      Related to: None\n",
      "\n"
     ]
    }
   ],
   "source": [
    "print b['times@lc@model']"
   ]
  },
  {
   "cell_type": "code",
   "execution_count": 24,
   "metadata": {
    "collapsed": false
   },
   "outputs": [
    {
     "name": "stdout",
     "output_type": "stream",
     "text": [
      "Parameter: fluxes@latest@model\n",
      "                       Qualifier: fluxes\n",
      "                     Description: Observed flux\n",
      "                           Value: [ 0.99450011  1.28613202  1.59813899 ...,  1.5981239   1.28615335\n",
      "  0.99450011] W / m2\n",
      "                  Constrained by: \n",
      "                      Constrains: None\n",
      "                      Related to: None\n",
      "\n"
     ]
    }
   ],
   "source": [
    "print b['fluxes@lc@model']"
   ]
  },
  {
   "cell_type": "markdown",
   "metadata": {},
   "source": [
    "Plotting\n",
    "---------------\n",
    "\n",
    "By default, LC datasets plot as flux vs time."
   ]
  },
  {
   "cell_type": "code",
   "execution_count": 25,
   "metadata": {
    "collapsed": false
   },
   "outputs": [
    {
     "data": {
      "image/png": "[encoded data removed]",
      "text/plain": [
       "<matplotlib.figure.Figure at 0x7fbff1bca6d0>"
      ]
     },
     "metadata": {},
     "output_type": "display_data"
    }
   ],
   "source": [
    "axs, artists = b['lc@model'].plot()"
   ]
  },
  {
   "cell_type": "markdown",
   "metadata": {},
   "source": [
    "Since these are the only two columns available in the synthetic model, the only other option is to plot in phase instead of time."
   ]
  },
  {
   "cell_type": "code",
   "execution_count": 26,
   "metadata": {
    "collapsed": false
   },
   "outputs": [
    {
     "data": {
      "image/png": "[encoded data removed]",
      "text/plain": [
       "<matplotlib.figure.Figure at 0x7fbffc4f1090>"
      ]
     },
     "metadata": {},
     "output_type": "display_data"
    }
   ],
   "source": [
    "axs, artists = b['lc@model'].plot(x='phases')"
   ]
  },
  {
   "cell_type": "markdown",
   "metadata": {},
   "source": [
    "In system hierarchies where there may be multiple periods, it is also possible to determine whose period to use for phasing."
   ]
  },
  {
   "cell_type": "code",
   "execution_count": 27,
   "metadata": {
    "collapsed": false
   },
   "outputs": [
    {
     "data": {
      "text/plain": [
       "['binary', 'primary', 'secondary']"
      ]
     },
     "execution_count": 27,
     "metadata": {},
     "output_type": "execute_result"
    }
   ],
   "source": [
    "b['period'].components"
   ]
  },
  {
   "cell_type": "code",
   "execution_count": 28,
   "metadata": {
    "collapsed": false
   },
   "outputs": [
    {
     "data": {
      "image/png": "[encoded data removed]",
      "text/plain": [
       "<matplotlib.figure.Figure at 0x7fbff1ceb090>"
      ]
     },
     "metadata": {},
     "output_type": "display_data"
    }
   ],
   "source": [
    "axs, artists = b['lc@model'].plot(x='phases:binary')"
   ]
  },
  {
   "cell_type": "markdown",
   "metadata": {},
   "source": [
    "Mesh Fields\n",
    "---------------------\n",
    "\n",
    "If a mesh dataset exists at any of the same times as the time array in the lc dataset, OR if store_mesh is set to True in the compute options, then flux-related surface element quantities will be available in the model as well.\n",
    "\n",
    "Let's add a single mesh at the first time of the light-curve and re-call run_compute"
   ]
  },
  {
   "cell_type": "code",
   "execution_count": 29,
   "metadata": {
    "collapsed": false
   },
   "outputs": [
    {
     "data": {
      "text/plain": [
       "<ParameterSet: 2 parameters | contexts: compute, dataset>"
      ]
     },
     "execution_count": 29,
     "metadata": {},
     "output_type": "execute_result"
    }
   ],
   "source": [
    "b.add_dataset('mesh', times=[0], dataset='mesh01')"
   ]
  },
  {
   "cell_type": "code",
   "execution_count": 30,
   "metadata": {
    "collapsed": false
   },
   "outputs": [
    {
     "name": "stderr",
     "output_type": "stream",
     "text": [
      "Wed, 21 Sep 2016 15:04 BUNDLE       WARNING overwriting model: latest\n"
     ]
    },
    {
     "data": {
      "text/plain": [
       "<ParameterSet: 72 parameters | kinds: mesh, lc>"
      ]
     },
     "execution_count": 30,
     "metadata": {},
     "output_type": "execute_result"
    }
   ],
   "source": [
    "b.run_compute()"
   ]
  },
  {
   "cell_type": "code",
   "execution_count": 31,
   "metadata": {
    "collapsed": false
   },
   "outputs": [
    {
     "name": "stdout",
     "output_type": "stream",
     "text": [
      "['mesh01', 'lc01']\n"
     ]
    }
   ],
   "source": [
    "print b['model'].datasets"
   ]
  },
  {
   "cell_type": "markdown",
   "metadata": {},
   "source": [
    "These new columns are stored with the lc's dataset tag, but with the 'mesh' dataset-kind."
   ]
  },
  {
   "cell_type": "code",
   "execution_count": 32,
   "metadata": {
    "collapsed": false
   },
   "outputs": [
    {
     "data": {
      "text/plain": [
       "['0.0@pblum@primary@lc01@phoebe01@latest@mesh@model',\n",
       " '0.0@normal_intensities@primary@lc01@phoebe01@latest@mesh@model',\n",
       " '0.0@intensities@primary@lc01@phoebe01@latest@mesh@model',\n",
       " '0.0@boost_factors@primary@lc01@phoebe01@latest@mesh@model',\n",
       " '0.0@pblum@secondary@lc01@phoebe01@latest@mesh@model',\n",
       " '0.0@normal_intensities@secondary@lc01@phoebe01@latest@mesh@model',\n",
       " '0.0@intensities@secondary@lc01@phoebe01@latest@mesh@model',\n",
       " '0.0@boost_factors@secondary@lc01@phoebe01@latest@mesh@model']"
      ]
     },
     "execution_count": 32,
     "metadata": {},
     "output_type": "execute_result"
    }
   ],
   "source": [
    "b.filter(dataset='lc01', kind='mesh', context='model').twigs"
   ]
  },
  {
   "cell_type": "markdown",
   "metadata": {},
   "source": [
    "Any of these columns are then available to use as edge or facecolors when plotting the mesh (see the section on the [mesh dataset](MESH)), but since the mesh elements are stored with the 'mesh01' dataset tag, and the LC quantities are stored with the 'lc01' dataset tag, it is important not to provide the 'mesh01' dataset tag before plotting."
   ]
  },
  {
   "cell_type": "code",
   "execution_count": 33,
   "metadata": {
    "collapsed": false
   },
   "outputs": [
    {
     "name": "stderr",
     "output_type": "stream",
     "text": [
      "/home/kyle/.local/lib/python2.7/site-packages/phoebe/frontend/plotting.py:242: FutureWarning: elementwise comparison failed; returning scalar instead, but in the future will perform elementwise comparison\n",
      "  if pckwargs['edgecolors'] in ['none', 'None', None] and pckwargs['facecolors'] not in ['none', 'None', None]:\n",
      "/home/kyle/.local/lib/python2.7/site-packages/phoebe/frontend/plotting.py:242: FutureWarning: comparison to `None` will result in an elementwise object comparison in the future.\n",
      "  if pckwargs['edgecolors'] in ['none', 'None', None] and pckwargs['facecolors'] not in ['none', 'None', None]:\n"
     ]
    },
    {
     "data": {
      "image/png": "[encoded data removed]",
      "text/plain": [
       "<matplotlib.figure.Figure at 0x7fbff1cd3750>"
      ]
     },
     "metadata": {},
     "output_type": "display_data"
    }
   ],
   "source": [
    "axs, artists = b['mesh@model'].plot(facecolor='intensities', edgecolor=None)\n",
    "# NOT:\n",
    "# b['mesh01@model'].plot(facecolor='intens_norm_rel', edgecolor=None)"
   ]
  },
  {
   "cell_type": "markdown",
   "metadata": {},
   "source": [
    "Now let's look at each of the available fields."
   ]
  },
  {
   "cell_type": "markdown",
   "metadata": {},
   "source": [
    "### pblum\n",
    "\n",
    "For more details, see the tutorial on [Passband Luminosities](pblum)"
   ]
  },
  {
   "cell_type": "code",
   "execution_count": 34,
   "metadata": {
    "collapsed": false
   },
   "outputs": [
    {
     "name": "stdout",
     "output_type": "stream",
     "text": [
      "Parameter: 0.0@pblum@primary@latest@model\n",
      "                       Qualifier: pblum\n",
      "                     Description: Passband Luminosity of entire star\n",
      "                           Value: 12.5822048821 W\n",
      "                  Constrained by: \n",
      "                      Constrains: None\n",
      "                      Related to: None\n",
      "\n"
     ]
    }
   ],
   "source": [
    "print b['pblum@primary@lc01@mesh@model']"
   ]
  },
  {
   "cell_type": "markdown",
   "metadata": {},
   "source": [
    "'pblum' is the passband luminosity of the entire star/mesh - this is a single value (unlike most of the parameters in the mesh) and does not have per-element values."
   ]
  },
  {
   "cell_type": "markdown",
   "metadata": {},
   "source": [
    "### abs_normal_intensities"
   ]
  },
  {
   "cell_type": "code",
   "execution_count": 35,
   "metadata": {
    "collapsed": false
   },
   "outputs": [
    {
     "name": "stdout",
     "output_type": "stream",
     "text": [
      "ParameterSet: 0 parameters\n",
      "NO PARAMETERS\n"
     ]
    }
   ],
   "source": [
    "print b['abs_normal_intensities@primary@lc01@mesh@model']"
   ]
  },
  {
   "cell_type": "markdown",
   "metadata": {},
   "source": [
    "'abs_normal_intensities' are the absolute normal intensities per-element."
   ]
  },
  {
   "cell_type": "markdown",
   "metadata": {},
   "source": [
    "### normal_intensities"
   ]
  },
  {
   "cell_type": "code",
   "execution_count": 36,
   "metadata": {
    "collapsed": false
   },
   "outputs": [
    {
     "name": "stdout",
     "output_type": "stream",
     "text": [
      "Parameter: 0.0@normal_intensities@primary@latest@model\n",
      "                       Qualifier: normal_intensities\n",
      "                     Description: Per-element value for lc01 dataset\n",
      "                           Value: [  7.57599511e-19   7.57607005e-19   7.57599689e-19 ...,\n",
      "   7.56915027e-19   7.57074828e-19   7.56964008e-19] W / m3\n",
      "                  Constrained by: \n",
      "                      Constrains: None\n",
      "                      Related to: None\n",
      "\n"
     ]
    }
   ],
   "source": [
    "print b['normal_intensities@primary@lc01@mesh@model']"
   ]
  },
  {
   "cell_type": "markdown",
   "metadata": {},
   "source": [
    "'normal_intensities' are the relative normal intensities per-element."
   ]
  },
  {
   "cell_type": "markdown",
   "metadata": {},
   "source": [
    "### abs_intensities"
   ]
  },
  {
   "cell_type": "code",
   "execution_count": 37,
   "metadata": {
    "collapsed": false
   },
   "outputs": [
    {
     "name": "stdout",
     "output_type": "stream",
     "text": [
      "ParameterSet: 0 parameters\n",
      "NO PARAMETERS\n"
     ]
    }
   ],
   "source": [
    "print b['abs_intensities@primary@lc01@mesh@model']"
   ]
  },
  {
   "cell_type": "markdown",
   "metadata": {},
   "source": [
    "'abs_intensities' are the projected absolute intensities (towards the observer) per-element."
   ]
  },
  {
   "cell_type": "markdown",
   "metadata": {},
   "source": [
    "### intensities"
   ]
  },
  {
   "cell_type": "code",
   "execution_count": 38,
   "metadata": {
    "collapsed": false
   },
   "outputs": [
    {
     "name": "stdout",
     "output_type": "stream",
     "text": [
      "Parameter: 0.0@intensities@primary@latest@model\n",
      "                       Qualifier: intensities\n",
      "                     Description: Per-element value for lc01 dataset\n",
      "                           Value: [  7.56753927e-19   7.56758933e-19   7.56754105e-19 ...,\n",
      "   6.22647979e-19   6.08320772e-19   6.09516338e-19] W / m3\n",
      "                  Constrained by: \n",
      "                      Constrains: None\n",
      "                      Related to: None\n",
      "\n"
     ]
    }
   ],
   "source": [
    "print b['intensities@primary@lc01@mesh@model']"
   ]
  },
  {
   "cell_type": "markdown",
   "metadata": {},
   "source": [
    "'intensities' are the projected relative intensities (towards the observer) per-element."
   ]
  },
  {
   "cell_type": "markdown",
   "metadata": {},
   "source": [
    "### boost_factors"
   ]
  },
  {
   "cell_type": "code",
   "execution_count": 39,
   "metadata": {
    "collapsed": false
   },
   "outputs": [
    {
     "name": "stdout",
     "output_type": "stream",
     "text": [
      "Parameter: 0.0@boost_factors@primary@latest@model\n",
      "                       Qualifier: boost_factors\n",
      "                     Description: Per-element value for lc01 dataset\n",
      "                           Value: [ 1.  1.  1. ...,  1.  1.  1.]\n",
      "                  Constrained by: \n",
      "                      Constrains: None\n",
      "                      Related to: None\n",
      "\n"
     ]
    }
   ],
   "source": [
    "print b['boost_factors@primary@lc01@mesh@model']"
   ]
  },
  {
   "cell_type": "markdown",
   "metadata": {},
   "source": [
    "'boost_factors' are the boosting amplitudes per-element."
   ]
  }
 ],
 "metadata": {
  "kernelspec": {
   "display_name": "Python 2",
   "language": "python",
   "name": "python2"
  },
  "language_info": {
   "codemirror_mode": {
    "name": "ipython",
    "version": 2
   },
   "file_extension": ".py",
   "mimetype": "text/x-python",
   "name": "python",
   "nbconvert_exporter": "python",
   "pygments_lexer": "ipython2",
   "version": "2.7.12"
  }
 },
 "nbformat": 4,
 "nbformat_minor": 0
}
