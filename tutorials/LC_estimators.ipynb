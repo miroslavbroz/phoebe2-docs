{
 "cells": [
  {
   "cell_type": "markdown",
   "metadata": {},
   "source": [
    "# Advanced: LC estimators"
   ]
  },
  {
   "cell_type": "markdown",
   "metadata": {},
   "source": [
    "## Setup\n",
    "\n",
    "Let's first make sure we have the latest version of PHOEBE 2.3 installed (uncomment this line if running in an online notebook session such as colab)."
   ]
  },
  {
   "cell_type": "code",
   "execution_count": 1,
   "metadata": {},
   "outputs": [],
   "source": [
    "#!pip install -I \"phoebe>=2.3,<2.4\""
   ]
  },
  {
   "cell_type": "code",
   "execution_count": 2,
   "metadata": {},
   "outputs": [],
   "source": [
    "import phoebe\n",
    "from phoebe import u # units\n",
    "import numpy as np\n",
    "\n",
    "logger = phoebe.logger()"
   ]
  },
  {
   "cell_type": "markdown",
   "metadata": {},
   "source": [
    "## Generate data"
   ]
  },
  {
   "cell_type": "markdown",
   "metadata": {},
   "source": [
    "Let's first initialize a bundle and change some of the parameter values. We'll then export the computed models as \"observables\" to use with the [EBAI](../api/phoebe.parameters.solver.estimator.ebai.md) and [lc_geometry](../api/phoebe.parameters.solver.estimator.lc_geometry.md) estimators.\n",
    "\n",
    "We'll use blackbody atmospheres with manual limb-darkening just to avoid any out-of-bounds errors if the estimates aren't perfectly physical.  Normally we would check these values to make sure they're reasonable before adopting and would definitely want to revert to physical atmospheres and appropriate limb-darkening when optimizing."
   ]
  },
  {
   "cell_type": "code",
   "execution_count": 3,
   "metadata": {},
   "outputs": [
    {
     "name": "stderr",
     "output_type": "stream",
     "text": [
      "100%|██████████| 101/101 [00:08<00:00, 11.51it/s]\n"
     ]
    }
   ],
   "source": [
    "b = phoebe.default_binary()\n",
    "# set parameter values\n",
    "b.set_value('q', value = 0.6)\n",
    "b.set_value('incl', component='binary', value = 84.5)\n",
    "b.set_value('ecc', 0.2)\n",
    "b.set_value('per0', 63.7)\n",
    "b.set_value('requiv', component='primary', value=1.)\n",
    "b.set_value('requiv', component='secondary', value=0.6)\n",
    "b.set_value('teff', component='secondary', value=5500.)\n",
    "\n",
    "# add an lc dataset\n",
    "b.add_dataset('lc', compute_phases=phoebe.linspace(0,1,101))\n",
    "b.set_value_all('ld_mode', 'manual')\n",
    "b.set_value_all('ld_mode_bol', 'manual')\n",
    "b.set_value_all('atm', 'blackbody')\n",
    "\n",
    "#compute the model\n",
    "b.run_compute(irrad_method='none')\n",
    "\n",
    "# extract the arrays from the model that we'll use as observables in the next step\n",
    "times = b.get_value('times', context='model', dataset='lc01')\n",
    "# here we're adding noise to the fluxes as well to make the fake data more \"realistic\"\n",
    "np.random.seed(0) # to ensure reproducibility with added noise\n",
    "fluxes = b.get_value('fluxes', context='model', dataset='lc01') + np.random.normal(size=times.shape) * 0.02\n",
    "sigmas_lc = np.ones_like(times) * 0.04"
   ]
  },
  {
   "cell_type": "markdown",
   "metadata": {},
   "source": [
    "## Initialize the bundle"
   ]
  },
  {
   "cell_type": "markdown",
   "metadata": {},
   "source": [
    "To showcase the estimators, we'll start with a fresh default bundle and set the `pblum_mode` to 'dataset-scaled' to simplify the comparison between the light curves.  Fore more information, see the [pblum tutorial](./pblum.ipynb)."
   ]
  },
  {
   "cell_type": "code",
   "execution_count": 4,
   "metadata": {},
   "outputs": [
    {
     "name": "stderr",
     "output_type": "stream",
     "text": [
      "100%|██████████| 101/101 [00:01<00:00, 77.76it/s]\n"
     ]
    },
    {
     "data": {
      "image/png": "[encoded data removed]",
      "text/plain": [
       "<Figure size 576x432 with 1 Axes>"
      ]
     },
     "metadata": {
      "needs_background": "light"
     },
     "output_type": "display_data"
    }
   ],
   "source": [
    "b = phoebe.default_binary()\n",
    "b.add_dataset('lc', times=times, fluxes=fluxes, sigmas=sigmas_lc)\n",
    "b.set_value_all('ld_mode', 'manual')\n",
    "b.set_value_all('ld_mode_bol', 'manual')\n",
    "b.set_value_all('atm', 'blackbody')\n",
    "b.set_value('pblum_mode', 'dataset-scaled')\n",
    "\n",
    "b.run_compute(model='default')\n",
    "_ = b.plot(x='phase', show=True)"
   ]
  },
  {
   "cell_type": "markdown",
   "metadata": {},
   "source": [
    "## EBAI"
   ]
  },
  {
   "cell_type": "markdown",
   "metadata": {},
   "source": [
    "Let's start with the [EBAI estimator](../api/phoebe.parameters.solver.estimator.ebai.md), which with the help of a trained neural network estimates of the time of superior conjunction, sum of equivalent radii, inclination,  temperature ratio, esinw and ecosw.  \n",
    "\n",
    "**NOTE**: EBAI currently only works if the eclipse widths are less than 0.25 in phase.  If (either) eclipse is detected to be wider than 0.25, NANs will be returned and an error will be raised when attempting to adopt the solution. \n",
    "\n",
    "First we add the solver options via [add_solver](../api/phoebe.frontend.bundle.Bundle.add_solver.md):"
   ]
  },
  {
   "cell_type": "code",
   "execution_count": 5,
   "metadata": {},
   "outputs": [
    {
     "name": "stderr",
     "output_type": "stream",
     "text": [
      "Tue, 30 Mar 2021 09:37 BUNDLE       WARNING adding teffratio constraint to binary orbit (needed for ebai solver)\n",
      "Tue, 30 Mar 2021 09:37 BUNDLE       WARNING adding requivsumfrac constraint to binary orbit (needed for ebai solver)\n"
     ]
    },
    {
     "name": "stdout",
     "output_type": "stream",
     "text": [
      "ParameterSet: 5 parameters\n",
      "           comments@ebai01@solver: \n",
      "        lc_datasets@ebai01@solver: ['*']\n",
      "          phase_bin@ebai01@solver: True\n",
      "        phase_nbins@ebai01@solver: 500\n",
      "              orbit@ebai01@solver: binary\n"
     ]
    }
   ],
   "source": [
    "b.add_solver('estimator.ebai', solver='ebai01')\n",
    "print(b.filter(solver='ebai01'))"
   ]
  },
  {
   "cell_type": "markdown",
   "metadata": {},
   "source": [
    "As we can see, by default it selects all available LC datasets and bins the light curves to 500 bins. We can change any of these in the 'ebai01' object or in the call to [run_solver](../api/phoebe.frontend.bundle.Bundle.run_solver.md). If there are less points that bins, the phase binning is skipped. Just in case, let's turn off the phase binning for this example, since we already have only 100 data points."
   ]
  },
  {
   "cell_type": "code",
   "execution_count": 6,
   "metadata": {},
   "outputs": [
    {
     "name": "stdout",
     "output_type": "stream",
     "text": [
      "ParameterSet: 4 parameters\n",
      "           comments@ebai01@solver: \n",
      "        lc_datasets@ebai01@solver: ['*']\n",
      "          phase_bin@ebai01@solver: False\n",
      "              orbit@ebai01@solver: binary\n"
     ]
    }
   ],
   "source": [
    "b['phase_bin@ebai01'] = False\n",
    "print(b.filter(solver='ebai01'))"
   ]
  },
  {
   "cell_type": "code",
   "execution_count": 7,
   "metadata": {},
   "outputs": [
    {
     "data": {
      "text/plain": [
       "<ParameterSet: 14 parameters | qualifiers: adopt_distributions, ebai_phases, input_sigmas, fitted_twigs, adopt_values, comments, ebai_fluxes, input_phases, fitted_values, fitted_units, adopt_parameters, orbit, fitted_uniqueids, input_fluxes>"
      ]
     },
     "execution_count": 7,
     "metadata": {},
     "output_type": "execute_result"
    }
   ],
   "source": [
    "b.run_solver('ebai01', solution='ebai_solution')"
   ]
  },
  {
   "cell_type": "markdown",
   "metadata": {},
   "source": [
    "Some of the parameters that the EBAI estimator returns are constrained, so to properly set their values through [adopt_solution](../api/phoebe.frontend.bundle.Bundle.adopt_solution.md), we need to flip the relevant constraints first. Note that simply running `b.adopt_solution()` without this step will result in an error."
   ]
  },
  {
   "cell_type": "code",
   "execution_count": 8,
   "metadata": {},
   "outputs": [
    {
     "name": "stderr",
     "output_type": "stream",
     "text": [
      "Tue, 30 Mar 2021 09:37 BUNDLE       WARNING solution='ebai_solution' is not included in run_checks_solution@setting, so will not raise interactive warnings\n",
      "Tue, 30 Mar 2021 09:37 BUNDLE       WARNING teffratio@binary@orbit@component is currently constrained but cannot automatically temporarily flip as solve_for has several options (teff@secondary@star@component, teff@primary@star@component).  Flip the constraint manually first, set adopt_values=False, or remove teffratio@binary@orbit@component from adopt_parameters.  If not addressed, this warning will continue to be raised and will throw an error at adopt_solution.\n",
      "Tue, 30 Mar 2021 09:37 BUNDLE       WARNING requivsumfrac@binary@orbit@component is currently constrained but cannot automatically temporarily flip as solve_for has several options (requiv@primary@star@component, requiv@secondary@star@component, sma@binary@orbit@component).  Flip the constraint manually first, set adopt_values=False, or remove requivsumfrac@binary@orbit@component from adopt_parameters.  If not addressed, this warning will continue to be raised and will throw an error at adopt_solution.\n",
      "Tue, 30 Mar 2021 09:37 BUNDLE       WARNING esinw@binary@orbit@component is currently constrained but cannot automatically temporarily flip as solve_for has several options (ecc@binary@orbit@component, per0@binary@orbit@component).  Flip the constraint manually first, set adopt_values=False, or remove esinw@binary@orbit@component from adopt_parameters.  If not addressed, this warning will continue to be raised and will throw an error at adopt_solution.\n",
      "Tue, 30 Mar 2021 09:37 BUNDLE       WARNING ecosw@binary@orbit@component is currently constrained but cannot automatically temporarily flip as solve_for has several options (ecc@binary@orbit@component, per0@binary@orbit@component).  Flip the constraint manually first, set adopt_values=False, or remove ecosw@binary@orbit@component from adopt_parameters.  If not addressed, this warning will continue to be raised and will throw an error at adopt_solution.\n"
     ]
    },
    {
     "name": "stdout",
     "output_type": "stream",
     "text": [
      "failed to pass checks\n",
      "Run Checks Report: FAIL\n",
      "WARNING: solution='ebai_solution' is not included in run_checks_solution@setting, so will not raise interactive warnings (1 affected parameters, affecting )\n",
      "ERROR: teffratio@binary@orbit@component is currently constrained but cannot automatically temporarily flip as solve_for has several options (teff@secondary@star@component, teff@primary@star@component).  Flip the constraint manually first, set adopt_values=False, or remove teffratio@binary@orbit@component from adopt_parameters. (3 affected parameters, affecting adopt_solution)\n",
      "ERROR: requivsumfrac@binary@orbit@component is currently constrained but cannot automatically temporarily flip as solve_for has several options (requiv@primary@star@component, requiv@secondary@star@component, sma@binary@orbit@component).  Flip the constraint manually first, set adopt_values=False, or remove requivsumfrac@binary@orbit@component from adopt_parameters. (3 affected parameters, affecting adopt_solution)\n",
      "ERROR: esinw@binary@orbit@component is currently constrained but cannot automatically temporarily flip as solve_for has several options (ecc@binary@orbit@component, per0@binary@orbit@component).  Flip the constraint manually first, set adopt_values=False, or remove esinw@binary@orbit@component from adopt_parameters. (3 affected parameters, affecting adopt_solution)\n",
      "ERROR: ecosw@binary@orbit@component is currently constrained but cannot automatically temporarily flip as solve_for has several options (ecc@binary@orbit@component, per0@binary@orbit@component).  Flip the constraint manually first, set adopt_values=False, or remove ecosw@binary@orbit@component from adopt_parameters. (3 affected parameters, affecting adopt_solution)\n"
     ]
    }
   ],
   "source": [
    "try:\n",
    "    b.adopt_solution('ebai_solution')\n",
    "except Exception as e:\n",
    "    print(e)"
   ]
  },
  {
   "cell_type": "code",
   "execution_count": 9,
   "metadata": {},
   "outputs": [
    {
     "name": "stderr",
     "output_type": "stream",
     "text": [
      "Tue, 30 Mar 2021 09:37 BUNDLE       ERROR   Constraint 'ecc@binary@orbit@constraint' raised the following error while attempting to solve for 'ecc@binary@orbit@component'.  Consider flipping the constraint or changing the value of one of ['per0@binary@orbit@component', 'esinw@binary@orbit@component', 'ecosw@binary@orbit@component', 'ecc@binary@orbit@component'] until the constraint succeeds.  Original error: esinw=0.0 and per0=0.0 results in nan for ecc\n"
     ]
    },
    {
     "data": {
      "text/plain": [
       "<ConstraintParameter: {per0@binary@component} = arctan2({esinw@binary@component}, {ecosw@binary@component}) (solar units) => 0.0 deg>"
      ]
     },
     "execution_count": 9,
     "metadata": {},
     "output_type": "execute_result"
    }
   ],
   "source": [
    "b.flip_constraint('requivsumfrac', solve_for='requiv@secondary')\n",
    "\n",
    "b.flip_constraint('teffratio', solve_for='teff@secondary')\n",
    "b.flip_constraint('esinw', solve_for='ecc')\n",
    "b.flip_constraint('ecosw', solve_for='per0')"
   ]
  },
  {
   "cell_type": "markdown",
   "metadata": {},
   "source": [
    "Finally, we can adopt the EBAI solution and see how it has improved the model light curve:"
   ]
  },
  {
   "cell_type": "code",
   "execution_count": 10,
   "metadata": {},
   "outputs": [
    {
     "name": "stderr",
     "output_type": "stream",
     "text": [
      "Tue, 30 Mar 2021 09:37 BUNDLE       WARNING solution='ebai_solution' is not included in run_checks_solution@setting, so will not raise interactive warnings\n"
     ]
    },
    {
     "name": "stdout",
     "output_type": "stream",
     "text": [
      "ParameterSet: 22 parameters\n",
      "      t0_supconj@binary@component: 0.0 d\n",
      "       teffratio@binary@component: 0.9452120645340858\n",
      "   requivsumfrac@binary@component: 0.27105169344875957\n",
      "           esinw@binary@component: 0.09596544317931732\n",
      "           ecosw@binary@component: 0.16501851747946783\n",
      "            incl@binary@component: 85.10664388760809 deg\n",
      "C        teff@secondary@component: 5671.272387204515 K\n",
      "C      requiv@secondary@component: 0.4365739752784257 solRad\n",
      "C            ecc@binary@component: 0.190893890409631\n",
      "C           per0@binary@component: 30.179862857755072 deg\n",
      "C          asini@binary@component: 5.2806825294905195 solRad\n",
      "C         asini@primary@component: 2.6403412647452598 solRad\n",
      "C          incl@primary@component: 85.10664388760809 deg\n",
      "C    requiv_max@primary@component: 1.6771211942687534 solRad\n",
      "C       asini@secondary@component: 2.6403412647452598 solRad\n",
      "C        incl@secondary@component: 85.10664388760809 deg\n",
      "C  requiv_max@secondary@component: 1.6771211942687534 solRad\n",
      "C        logg@secondary@component: 5.157436190956978\n",
      "C     t0_perpass@binary@component: -0.11741403919482019 d\n",
      "C         t0_ref@binary@component: 0.04875300842252686 d\n",
      "C      mean_anom@binary@component: 42.26905204363715 deg\n",
      "C     compute_phases@lc01@dataset: []\n"
     ]
    }
   ],
   "source": [
    "print(b.adopt_solution('ebai_solution'))"
   ]
  },
  {
   "cell_type": "code",
   "execution_count": 11,
   "metadata": {},
   "outputs": [
    {
     "name": "stderr",
     "output_type": "stream",
     "text": [
      "100%|██████████| 101/101 [00:10<00:00,  9.59it/s]\n"
     ]
    },
    {
     "data": {
      "image/png": "[encoded data removed]",
      "text/plain": [
       "<Figure size 576x432 with 1 Axes>"
      ]
     },
     "metadata": {
      "needs_background": "light"
     },
     "output_type": "display_data"
    }
   ],
   "source": [
    "b.run_compute(model='ebai_model')\n",
    "_ = b.plot(x='phase', ls='-', legend=True, show=True)"
   ]
  },
  {
   "cell_type": "markdown",
   "metadata": {},
   "source": [
    "## lc_geometry"
   ]
  },
  {
   "cell_type": "markdown",
   "metadata": {},
   "source": [
    "The EBAI estimator is known to have deficiencies in correctly estimating the eccentricity and argument of periastron, which can be seen in our solution too. To improve this, we can use the [lc_geometry estimator](../api/phoebe.parameters.solver.estimator.lc_geometry.md), which is specifically tailored to estimating eccentricty and argument of periastron by determining the eclipse separation and widths."
   ]
  },
  {
   "cell_type": "code",
   "execution_count": 12,
   "metadata": {},
   "outputs": [
    {
     "data": {
      "text/plain": [
       "<ParameterSet: 8 parameters | qualifiers: phase_nbins, lc_datasets, comments, expose_model, orbit, t0_near_times, lc_combine, phase_bin>"
      ]
     },
     "execution_count": 12,
     "metadata": {},
     "output_type": "execute_result"
    }
   ],
   "source": [
    "b.add_solver('estimator.lc_geometry', solver='lcgeom')"
   ]
  },
  {
   "cell_type": "code",
   "execution_count": 13,
   "metadata": {},
   "outputs": [
    {
     "name": "stdout",
     "output_type": "stream",
     "text": [
      "ParameterSet: 7 parameters\n",
      "           comments@lcgeom@solver: \n",
      "        lc_datasets@lcgeom@solver: ['*']\n",
      "          phase_bin@lcgeom@solver: True\n",
      "        phase_nbins@lcgeom@solver: 500\n",
      "              orbit@lcgeom@solver: binary\n",
      "      t0_near_times@lcgeom@solver: True\n",
      "       expose_model@lcgeom@solver: True\n"
     ]
    }
   ],
   "source": [
    "print(b.filter(solver='lcgeom'))"
   ]
  },
  {
   "cell_type": "markdown",
   "metadata": {},
   "source": [
    "The lc_geometry estimator takes similar inputs as EBAI, with two additions: `t0_near_times`, which will return the value of t0_supconj such that it falls within or near the provided times array (otherwise it will be a value in the range [0, period]) and `expose_model`, which if true returns the analytical, two-Gaussian model fit that's used to determine the eclipse parameters."
   ]
  },
  {
   "cell_type": "code",
   "execution_count": 14,
   "metadata": {},
   "outputs": [
    {
     "name": "stderr",
     "output_type": "stream",
     "text": [
      "/home/kyle/.local/lib/python3.8/site-packages/phoebe/parameters/parameters.py:10103: VisibleDeprecationWarning: Creating an ndarray from ragged nested sequences (which is a list-or-tuple of lists-or-tuples-or ndarrays with different lengths or shapes) is deprecated. If you meant to do this, you must specify 'dtype=object' when creating the ndarray.\n",
      "  self._value = np.array(value)\n"
     ]
    },
    {
     "data": {
      "text/plain": [
       "<ParameterSet: 22 parameters | qualifiers: adopt_distributions, input_sigmas, secondary_depth, adopt_parameters, fitted_uniqueids, primary_depth, secondary_phase, comments, input_phases, secondary_width, analytic_phases, eclipse_edges, input_fluxes, primary_width, primary_phase, analytic_best_model, orbit, analytic_fluxes, adopt_values, fitted_units, fitted_values, fitted_twigs>"
      ]
     },
     "execution_count": 14,
     "metadata": {},
     "output_type": "execute_result"
    }
   ],
   "source": [
    "b.run_solver('lcgeom', solution='lcgeom_solution')"
   ]
  },
  {
   "cell_type": "markdown",
   "metadata": {},
   "source": [
    "The resulting solution returns our values of interest: eccentricity and argument of periastron, as well as the analytical fluxes of all two-Gaussian models (since `expose_model = True`) and the eclipse parameters determined from the best fit:"
   ]
  },
  {
   "cell_type": "code",
   "execution_count": 15,
   "metadata": {
    "scrolled": true
   },
   "outputs": [
    {
     "name": "stdout",
     "output_type": "stream",
     "text": [
      "ParameterSet: 22 parameters\n",
      "R  orbit@lcgeom@lcgeom_solutio...: binary\n",
      "R  input_phases@lcgeom@lcgeom_...: [-0.49 -0.48 -0.47 ...  0.48\n",
      "  0.49  0.5 ]\n",
      "R  input_fluxes@lcgeom@lcgeom_...: [0.99742541 0.94659581\n",
      " 0.89184777 ... 0.9772116\n",
      " 1.         0.98871388]\n",
      "R  input_sigmas@lcgeom@lcgeom_...: [0.0325658 0.0325658\n",
      " 0.0325658 ... 0.0325658\n",
      " 0.0325658 0.0325658]\n",
      "R  analytic_phases@lcgeom_solu...: [-0.5   -0.495 -0.49  ...  0.49\n",
      "  0.495  0.5  ]\n",
      "R  analytic_fluxes@lcgeom_solu...: {'C': array([0.98376088, 0.98376088, 0.98376088, 0.98376088, 0.98376088,\n",
      "       0.98376088, 0.98376088, 0.98376088, 0.98376088, 0.98376088,\n",
      "       0.98376088, 0.98376088, 0.98376088, 0.98376088, 0.98376088,\n",
      "       0.98376088, 0.98376088, 0.98376088, 0.98376088, 0.98376088,\n",
      "       0.98376088, 0.98376088, 0.98376088, 0.98376088, 0.98376088,\n",
      "       0.98376088, 0.98376088, 0.98376088, 0.98376088, 0.98376088,\n",
      "       0.98376088, 0.98376088, 0.98376088, 0.98376088, 0.98376088,\n",
      "       0.98376088, 0.98376088, 0.98376088, 0.98376088, 0.98376088,\n",
      "       0.98376088, 0.98376088, 0.98376088, 0.98376088, 0.98376088,\n",
      "       0.98376088, 0.98376088, 0.98376088, 0.98376088, 0.98376088,\n",
      "       0.98376088, 0.98376088, 0.98376088, 0.98376088, 0.98376088,\n",
      "       0.98376088, 0.98376088, 0.98376088, 0.98376088, 0.98376088,\n",
      "       0.98376088, 0.98376088, 0.98376088, 0.98376088, 0.98376088,\n",
      "       0.98376088, 0.98376088, 0.98376088, 0.98376088, 0.98376088,\n",
      "       0.98376088, 0.98376088, 0.98376088, 0.98376088, 0.98376088,\n",
      "       0.98376088, 0.98376088, 0.98376088, 0.98376088, 0.98376088,\n",
      "       0.98376088, 0.98376088, 0.98376088, 0.98376088, 0.98376088,\n",
      "       0.98376088, 0.98376088, 0.98376088, 0.98376088, 0.98376088,\n",
      "       0.98376088, 0.98376088, 0.98376088, 0.98376088, 0.98376088,\n",
      "       0.98376088, 0.98376088, 0.98376088, 0.98376088, 0.98376088,\n",
      "       0.98376088, 0.98376088, 0.98376088, 0.98376088, 0.98376088,\n",
      "       0.98376088, 0.98376088, 0.98376088, 0.98376088, 0.98376088,\n",
      "       0.98376088, 0.98376088, 0.98376088, 0.98376088, 0.98376088,\n",
      "       0.98376088, 0.98376088, 0.98376088, 0.98376088, 0.98376088,\n",
      "       0.98376088, 0.98376088, 0.98376088, 0.98376088, 0.98376088,\n",
      "       0.98376088, 0.98376088, 0.98376088, 0.98376088, 0.98376088,\n",
      "       0.98376088, 0.98376088, 0.98376088, 0.98376088, 0.98376088,\n",
      "       0.98376088, 0.98376088, 0.98376088, 0.98376088, 0.98376088,\n",
      "       0.98376088, 0.98376088, 0.98376088, 0.98376088, 0.98376088,\n",
      "       0.98376088, 0.98376088, 0.98376088, 0.98376088, 0.98376088,\n",
      "       0.98376088, 0.98376088, 0.98376088, 0.98376088, 0.98376088,\n",
      "       0.98376088, 0.98376088, 0.98376088, 0.98376088, 0.98376088,\n",
      "       0.98376088, 0.98376088, 0.98376088, 0.98376088, 0.98376088,\n",
      "       0.98376088, 0.98376088, 0.98376088, 0.98376088, 0.98376088,\n",
      "       0.98376088, 0.98376088, 0.98376088, 0.98376088, 0.98376088,\n",
      "       0.98376088, 0.98376088, 0.98376088, 0.98376088, 0.98376088,\n",
      "       0.98376088, 0.98376088, 0.98376088, 0.98376088, 0.98376088,\n",
      "       0.98376088, 0.98376088, 0.98376088, 0.98376088, 0.98376088,\n",
      "       0.98376088, 0.98376088, 0.98376088, 0.98376088, 0.98376088,\n",
      "       0.98376088, 0.98376088, 0.98376088, 0.98376088, 0.98376088,\n",
      "       0.98376088]), 'CE': array([0.94367194, 0.94375105, 0.94398806, 0.94438203, 0.94493141,\n",
      "       0.94563404, 0.94648713, 0.94748733, 0.94863068, 0.94991267,\n",
      "       0.95132825, 0.95287182, 0.9545373 , 0.95631811, 0.95820723,\n",
      "       0.96019719, 0.96228015, 0.96444789, 0.96669184, 0.96900316,\n",
      "       0.97137272, 0.97379117, 0.97624896, 0.9787364 , 0.98124368,\n",
      "       0.98376088, 0.98627809, 0.98878536, 0.9912728 , 0.99373059,\n",
      "       0.99614904, 0.9985186 , 1.00082992, 1.00307387, 1.00524161,\n",
      "       1.00732457, 1.00931453, 1.01120365, 1.01298446, 1.01464994,\n",
      "       1.01619351, 1.01760909, 1.01889109, 1.02003444, 1.02103463,\n",
      "       1.02188773, 1.02259035, 1.02313973, 1.02353371, 1.02377071,\n",
      "       1.02384982, 1.02377071, 1.02353371, 1.02313973, 1.02259035,\n",
      "       1.02188773, 1.02103463, 1.02003444, 1.01889109, 1.01760909,\n",
      "       1.01619351, 1.01464994, 1.01298446, 1.01120365, 1.00931453,\n",
      "       1.00732457, 1.00524161, 1.00307387, 1.00082992, 0.9985186 ,\n",
      "       0.99614904, 0.99373059, 0.9912728 , 0.98878536, 0.98627809,\n",
      "       0.98376088, 0.98124368, 0.9787364 , 0.97624896, 0.97379117,\n",
      "       0.97137272, 0.96900316, 0.96669184, 0.96444789, 0.96228015,\n",
      "       0.96019719, 0.95820723, 0.95631811, 0.9545373 , 0.95287182,\n",
      "       0.95132825, 0.94991267, 0.94863068, 0.94748733, 0.94648713,\n",
      "       0.94563404, 0.94493141, 0.94438203, 0.94398806, 0.94375105,\n",
      "       0.94367194, 0.94375105, 0.94398806, 0.94438203, 0.94493141,\n",
      "       0.94563404, 0.94648713, 0.94748733, 0.94863068, 0.94991267,\n",
      "       0.95132825, 0.95287182, 0.9545373 , 0.95631811, 0.95820723,\n",
      "       0.96019719, 0.96228015, 0.96444789, 0.96669184, 0.96900316,\n",
      "       0.97137272, 0.97379117, 0.97624896, 0.9787364 , 0.98124368,\n",
      "       0.98376088, 0.98627809, 0.98878536, 0.9912728 , 0.99373059,\n",
      "       0.99614904, 0.9985186 , 1.00082992, 1.00307387, 1.00524161,\n",
      "       1.00732457, 1.00931453, 1.01120365, 1.01298446, 1.01464994,\n",
      "       1.01619351, 1.01760909, 1.01889109, 1.02003444, 1.02103463,\n",
      "       1.02188773, 1.02259035, 1.02313973, 1.02353371, 1.02377071,\n",
      "       1.02384982, 1.02377071, 1.02353371, 1.02313973, 1.02259035,\n",
      "       1.02188773, 1.02103463, 1.02003444, 1.01889109, 1.01760909,\n",
      "       1.01619351, 1.01464994, 1.01298446, 1.01120365, 1.00931453,\n",
      "       1.00732457, 1.00524161, 1.00307387, 1.00082992, 0.9985186 ,\n",
      "       0.99614904, 0.99373059, 0.9912728 , 0.98878536, 0.98627809,\n",
      "       0.98376088, 0.98124368, 0.9787364 , 0.97624896, 0.97379117,\n",
      "       0.97137272, 0.96900316, 0.96669184, 0.96444789, 0.96228015,\n",
      "       0.96019719, 0.95820723, 0.95631811, 0.9545373 , 0.95287182,\n",
      "       0.95132825, 0.94991267, 0.94863068, 0.94748733, 0.94648713,\n",
      "       0.94563404, 0.94493141, 0.94438203, 0.94398806, 0.94375105,\n",
      "       0.94367194]), 'CG': array([0.99497378, 0.99497378, 0.99497378, 0.99497378, 0.99497378,\n",
      "       0.99497378, 0.99497378, 0.99497378, 0.99497378, 0.99497378,\n",
      "       0.99497378, 0.99497378, 0.99497378, 0.99497378, 0.99497378,\n",
      "       0.99497378, 0.99497378, 0.99497378, 0.99497378, 0.99497378,\n",
      "       0.99497378, 0.99497378, 0.99497378, 0.99497378, 0.99497378,\n",
      "       0.99497378, 0.99497378, 0.99497378, 0.99497378, 0.99497378,\n",
      "       0.99497378, 0.99497378, 0.99497378, 0.99497378, 0.99497378,\n",
      "       0.99497378, 0.99497378, 0.99497378, 0.99497378, 0.99497378,\n",
      "       0.99497378, 0.99497378, 0.99497378, 0.99497378, 0.99497378,\n",
      "       0.99497378, 0.99497378, 0.99497378, 0.99497378, 0.99497378,\n",
      "       0.99497378, 0.99497378, 0.99497378, 0.99497378, 0.99497378,\n",
      "       0.99497378, 0.99497378, 0.99497378, 0.99497378, 0.99497378,\n",
      "       0.99497378, 0.99497378, 0.99497378, 0.99497378, 0.99497378,\n",
      "       0.99497378, 0.99497378, 0.99497378, 0.99497378, 0.99497378,\n",
      "       0.99497378, 0.99497378, 0.99497378, 0.99497378, 0.99497378,\n",
      "       0.99497378, 0.99497378, 0.99497378, 0.99497378, 0.99497378,\n",
      "       0.99497378, 0.99497378, 0.99497377, 0.99497372, 0.99497342,\n",
      "       0.99497188, 0.99496481, 0.99493579, 0.99482934, 0.99448077,\n",
      "       0.99346298, 0.9908172 , 0.98470667, 0.9722049 , 0.94964054,\n",
      "       0.91393864, 0.86492341, 0.80759026, 0.75257368, 0.71344954,\n",
      "       0.70142493, 0.72016756, 0.76400444, 0.82068731, 0.87689968,\n",
      "       0.9231568 , 0.95575615, 0.97574654, 0.98651059, 0.99162926,\n",
      "       0.99378715, 0.99459579, 0.99486568, 0.99494602, 0.99496738,\n",
      "       0.99497246, 0.99497353, 0.99497374, 0.99497377, 0.99497378,\n",
      "       0.99497378, 0.99497378, 0.99497378, 0.99497378, 0.99497378,\n",
      "       0.99497378, 0.99497378, 0.99497378, 0.99497378, 0.99497378,\n",
      "       0.99497378, 0.99497378, 0.99497378, 0.99497378, 0.99497378,\n",
      "       0.99497378, 0.99497378, 0.99497378, 0.99497378, 0.99497378,\n",
      "       0.99497378, 0.99497378, 0.99497378, 0.99497378, 0.99497378,\n",
      "       0.99497378, 0.99497378, 0.99497378, 0.99497378, 0.99497378,\n",
      "       0.99497378, 0.99497378, 0.99497378, 0.99497378, 0.99497378,\n",
      "       0.99497378, 0.99497378, 0.99497378, 0.99497378, 0.99497378,\n",
      "       0.99497378, 0.99497378, 0.99497378, 0.99497378, 0.99497378,\n",
      "       0.99497378, 0.99497378, 0.99497378, 0.99497378, 0.99497378,\n",
      "       0.99497378, 0.99497378, 0.99497378, 0.99497378, 0.99497378,\n",
      "       0.99497378, 0.99497378, 0.99497378, 0.99497378, 0.99497378,\n",
      "       0.99497378, 0.99497378, 0.99497378, 0.99497378, 0.99497378,\n",
      "       0.99497378, 0.99497378, 0.99497378, 0.99497378, 0.99497378,\n",
      "       0.99497378, 0.99497378, 0.99497378, 0.99497378, 0.99497378,\n",
      "       0.99497378, 0.99497378, 0.99497378, 0.99497378, 0.99497378,\n",
      "       0.99497378]), 'CGE': array([0.97241215, 0.97245551, 0.97258166, 0.97279011, 0.97308003,\n",
      "       0.97345029, 0.97389943, 0.97442566, 0.97502691, 0.97570082,\n",
      "       0.97644471, 0.97725566, 0.97813046, 0.97906567, 0.98005758,\n",
      "       0.98110229, 0.98219567, 0.98333341, 0.98451102, 0.98572385,\n",
      "       0.98696712, 0.98823591, 0.98952522, 0.99082996, 0.99214498,\n",
      "       0.9934651 , 0.9947851 , 0.99609977, 0.99740393, 0.99869242,\n",
      "       0.99996017, 1.00120217, 1.00241351, 1.00358942, 1.00472526,\n",
      "       1.00581654, 1.00685896, 1.00784841, 1.00878097, 1.00965297,\n",
      "       1.01046096, 1.01120177, 1.01187245, 1.01247038, 1.01299318,\n",
      "       1.0134388 , 1.01380547, 1.01409175, 1.01429651, 1.01441894,\n",
      "       1.01445856, 1.0144152 , 1.01428905, 1.0140806 , 1.01379068,\n",
      "       1.01342042, 1.01297128, 1.01244505, 1.0118438 , 1.01116989,\n",
      "       1.010426  , 1.00961505, 1.00874025, 1.00780505, 1.00681313,\n",
      "       1.00576842, 1.00467504, 1.0035373 , 1.00235969, 1.00114686,\n",
      "       0.9999036 , 0.99863481, 0.9973455 , 0.99604075, 0.99472573,\n",
      "       0.99340561, 0.99208561, 0.99077094, 0.98946679, 0.98817829,\n",
      "       0.98691054, 0.98566855, 0.9844572 , 0.98328128, 0.98214542,\n",
      "       0.98105394, 0.98001035, 0.97901482, 0.97805425, 0.9770692 ,\n",
      "       0.975861  , 0.97387941, 0.96984667, 0.9613093 , 0.94451184,\n",
      "       0.91528332, 0.8714237 , 0.81594639, 0.75895797, 0.71561028,\n",
      "       0.69981013, 0.71705253, 0.76135157, 0.81857796, 0.87369652,\n",
      "       0.91691195, 0.94550685, 0.96183932, 0.97010168, 0.97399949,\n",
      "       0.97592593, 0.97711602, 0.97809728, 0.97905871, 0.98005629,\n",
      "       0.98110208, 0.98219564, 0.98333341, 0.98451102, 0.98572385,\n",
      "       0.98696712, 0.98823591, 0.98952522, 0.99082996, 0.99214498,\n",
      "       0.9934651 , 0.9947851 , 0.99609977, 0.99740393, 0.99869242,\n",
      "       0.99996017, 1.00120217, 1.00241351, 1.00358942, 1.00472526,\n",
      "       1.00581654, 1.00685896, 1.00784841, 1.00878097, 1.00965297,\n",
      "       1.01046096, 1.01120177, 1.01187245, 1.01247038, 1.01299318,\n",
      "       1.0134388 , 1.01380547, 1.01409175, 1.01429651, 1.01441894,\n",
      "       1.01445856, 1.0144152 , 1.01428905, 1.0140806 , 1.01379068,\n",
      "       1.01342042, 1.01297128, 1.01244505, 1.0118438 , 1.01116989,\n",
      "       1.010426  , 1.00961505, 1.00874025, 1.00780505, 1.00681313,\n",
      "       1.00576842, 1.00467504, 1.0035373 , 1.00235969, 1.00114686,\n",
      "       0.9999036 , 0.99863481, 0.9973455 , 0.99604075, 0.99472573,\n",
      "       0.99340561, 0.99208561, 0.99077094, 0.98946679, 0.98817829,\n",
      "       0.98691054, 0.98566855, 0.9844572 , 0.98328129, 0.98214545,\n",
      "       0.98105417, 0.98001175, 0.9790223 , 0.97808974, 0.97721774,\n",
      "       0.97640975, 0.97566894, 0.97499826, 0.97440033, 0.97387753,\n",
      "       0.97343191, 0.97306524, 0.97277896, 0.9725742 , 0.97245177,\n",
      "       0.97241215]), 'CG12': array([0.99140716, 0.98371294, 0.97351988, 0.9606207 , 0.94506417,\n",
      "       0.92724349, 0.90794612, 0.8883402 , 0.8698832 , 0.85415536,\n",
      "       0.8426412 , 0.83649968, 0.83637223, 0.84227231, 0.85358313,\n",
      "       0.86916383, 0.88753895, 0.90712764, 0.92646355, 0.94436411,\n",
      "       0.96002527, 0.97303804, 0.98334094, 0.9911326 , 0.99677087,\n",
      "       1.00068008, 1.0032797 , 1.00493915, 1.00595668, 1.00655631,\n",
      "       1.00689608, 1.00708126, 1.00717836, 1.00722738, 1.00725119,\n",
      "       1.00726233, 1.00726735, 1.00726953, 1.00727044, 1.0072708 ,\n",
      "       1.00727095, 1.007271  , 1.00727102, 1.00727102, 1.00727103,\n",
      "       1.00727103, 1.00727103, 1.00727103, 1.00727103, 1.00727103,\n",
      "       1.00727103, 1.00727103, 1.00727103, 1.00727103, 1.00727103,\n",
      "       1.00727103, 1.00727103, 1.00727103, 1.00727103, 1.00727103,\n",
      "       1.00727103, 1.00727103, 1.00727103, 1.00727103, 1.00727103,\n",
      "       1.00727103, 1.00727103, 1.00727103, 1.00727103, 1.00727103,\n",
      "       1.00727103, 1.00727103, 1.00727103, 1.00727103, 1.00727103,\n",
      "       1.00727103, 1.00727103, 1.00727103, 1.00727103, 1.00727103,\n",
      "       1.00727103, 1.00727102, 1.00727098, 1.00727078, 1.0072698 ,\n",
      "       1.00726545, 1.00724805, 1.00718517, 1.00698034, 1.00637912,\n",
      "       1.00479111, 1.00102241, 0.99300324, 0.97774826, 0.9519125 ,\n",
      "       0.91320357, 0.86242001, 0.80514093, 0.751667  , 0.71436272,\n",
      "       0.70309641, 0.72102364, 0.76316   , 0.81861941, 0.87515334,\n",
      "       0.92342381, 0.9590492 , 0.98213909, 0.99540144, 1.00219093,\n",
      "       1.00530071, 1.00657851, 1.00705046, 1.00720736, 1.00725438,\n",
      "       1.00726708, 1.00727018, 1.00727086, 1.007271  , 1.00727102,\n",
      "       1.00727103, 1.00727103, 1.00727103, 1.00727103, 1.00727103,\n",
      "       1.00727103, 1.00727103, 1.00727103, 1.00727103, 1.00727103,\n",
      "       1.00727103, 1.00727103, 1.00727103, 1.00727103, 1.00727103,\n",
      "       1.00727103, 1.00727103, 1.00727103, 1.00727103, 1.00727103,\n",
      "       1.00727103, 1.00727103, 1.00727103, 1.00727103, 1.00727103,\n",
      "       1.00727103, 1.00727103, 1.00727103, 1.00727103, 1.00727103,\n",
      "       1.00727103, 1.00727103, 1.00727103, 1.00727103, 1.00727103,\n",
      "       1.00727103, 1.00727103, 1.00727103, 1.00727103, 1.00727103,\n",
      "       1.00727103, 1.00727103, 1.00727103, 1.00727103, 1.00727103,\n",
      "       1.00727103, 1.00727103, 1.00727103, 1.00727103, 1.00727103,\n",
      "       1.00727103, 1.00727103, 1.00727103, 1.00727103, 1.00727103,\n",
      "       1.00727103, 1.00727103, 1.00727103, 1.00727103, 1.00727103,\n",
      "       1.00727102, 1.00727102, 1.007271  , 1.00727095, 1.00727081,\n",
      "       1.00727046, 1.00726958, 1.00726748, 1.00726263, 1.00725184,\n",
      "       1.00722875, 1.00718116, 1.0070867 , 1.00690629, 1.00657474,\n",
      "       1.00598865, 1.00499247, 1.00336512, 1.00081151, 0.9969649 ,\n",
      "       0.99140716]), 'CG12E1': array([0.99127773, 0.98362976, 0.97348491, 0.96063112, 0.94511178,\n",
      "       0.92731527, 0.90802583, 0.88841112, 0.86993125, 0.85417196,\n",
      "       0.84262497, 0.83645656, 0.83631377, 0.84221277, 0.85353601,\n",
      "       0.8691389 , 0.88754048, 0.90715413, 0.9265089 , 0.94441971,\n",
      "       0.96008223, 0.97308912, 0.98338164, 0.99116151, 0.99678923,\n",
      "       1.000691  , 1.00328722, 1.00494746, 1.00596954, 1.00657674,\n",
      "       1.00692628, 1.00712268, 1.00723181, 1.00729318, 1.00732932,\n",
      "       1.00735253, 1.0073692 , 1.00738249, 1.00739389, 1.00740408,\n",
      "       1.00741332, 1.00742171, 1.00742926, 1.00743598, 1.00744183,\n",
      "       1.00744681, 1.00745089, 1.00745405, 1.00745629, 1.00745759,\n",
      "       1.00745795, 1.00745737, 1.00745585, 1.00745339, 1.00745002,\n",
      "       1.00744573, 1.00744055, 1.00743449, 1.00742759, 1.00741986,\n",
      "       1.00741134, 1.00740207, 1.00739207, 1.00738139, 1.00737007,\n",
      "       1.00735816, 1.0073457 , 1.00733273, 1.00731933, 1.00730552,\n",
      "       1.00729138, 1.00727695, 1.0072623 , 1.00724747, 1.00723254,\n",
      "       1.00721755, 1.00720256, 1.00718765, 1.00717286, 1.00715825,\n",
      "       1.00714388, 1.00712981, 1.00711606, 1.00710255, 1.00708875,\n",
      "       1.00707216, 1.00704331, 1.00697029, 1.0067578 , 1.00615374,\n",
      "       1.00457172, 1.00082318, 0.99284304, 0.97764618, 0.95187904,\n",
      "       0.91323138, 0.86248095, 0.80519567, 0.75168474, 0.7143391 ,\n",
      "       0.70305542, 0.72100011, 0.76317451, 0.81866376, 0.87519582,\n",
      "       0.923428  , 0.95899196, 0.98201738, 0.99522782, 1.00198423,\n",
      "       1.00507835, 1.00635298, 1.00682931, 1.00699467, 1.00705221,\n",
      "       1.00707658, 1.00709207, 1.0071057 , 1.00711924, 1.00713306,\n",
      "       1.00714721, 1.00716164, 1.0071763 , 1.00719112, 1.00720606,\n",
      "       1.00722104, 1.00723603, 1.00725094, 1.00726573, 1.00728034,\n",
      "       1.00729471, 1.00730878, 1.00732249, 1.0073358 , 1.00734865,\n",
      "       1.00736099, 1.00737277, 1.00738394, 1.00739446, 1.0074043 ,\n",
      "       1.0074134 , 1.00742173, 1.00742927, 1.00743598, 1.00744183,\n",
      "       1.00744681, 1.00745089, 1.00745405, 1.00745629, 1.00745759,\n",
      "       1.00745795, 1.00745737, 1.00745585, 1.00745339, 1.00745002,\n",
      "       1.00744573, 1.00744055, 1.00743449, 1.00742759, 1.00741986,\n",
      "       1.00741134, 1.00740207, 1.00739207, 1.00738139, 1.00737007,\n",
      "       1.00735816, 1.0073457 , 1.00733273, 1.00731933, 1.00730552,\n",
      "       1.00729138, 1.00727695, 1.0072623 , 1.00724747, 1.00723254,\n",
      "       1.00721755, 1.00720256, 1.00718765, 1.00717286, 1.00715825,\n",
      "       1.00714388, 1.00712981, 1.00711607, 1.00710272, 1.00708974,\n",
      "       1.00707706, 1.00706444, 1.00705124, 1.00703602, 1.00701573,\n",
      "       1.00698418, 1.00692945, 1.00682961, 1.00664619, 1.00631486,\n",
      "       1.00573332, 1.00474728, 1.00313694, 1.00060822, 0.99679474,\n",
      "       0.99127773]), 'CG12E2': array([0.99122603, 0.98363328, 0.97354293, 0.96073367, 0.9452397 ,\n",
      "       0.92744259, 0.90812458, 0.88845754, 0.86991208, 0.85408883,\n",
      "       0.84249533, 0.83631044, 0.83618697, 0.84213812, 0.85353514,\n",
      "       0.86921684, 0.88768436, 0.9073363 , 0.92669313, 0.94456876,\n",
      "       0.96016465, 0.97308391, 0.98328004, 0.99096612, 0.99651141,\n",
      "       1.00034738, 1.0028964 , 1.00452741, 1.00553595, 1.00614234,\n",
      "       1.00650079, 1.00671318, 1.0068433 , 1.00692911, 1.00699211,\n",
      "       1.00704385, 1.00709027, 1.00713421, 1.00717694, 1.00721894,\n",
      "       1.00726034, 1.00730108, 1.00734107, 1.00738015, 1.00741818,\n",
      "       1.00745502, 1.00749052, 1.00752454, 1.00755694, 1.0075876 ,\n",
      "       1.00761639, 1.00764321, 1.00766794, 1.00769049, 1.00771078,\n",
      "       1.00772871, 1.00774423, 1.00775726, 1.00776775, 1.00777568,\n",
      "       1.007781  , 1.00778369, 1.00778374, 1.00778115, 1.00777594,\n",
      "       1.00776812, 1.00775773, 1.00774479, 1.00772938, 1.00771154,\n",
      "       1.00769135, 1.00766889, 1.00764424, 1.0076175 , 1.00758878,\n",
      "       1.0075582 , 1.00752586, 1.00749191, 1.00745647, 1.00741968,\n",
      "       1.00738169, 1.00734265, 1.00730268, 1.00726182, 1.00721963,\n",
      "       1.00717381, 1.00711516, 1.00701238, 1.00677139, 1.0061425 ,\n",
      "       1.00454312, 1.00078946, 0.9928199 , 0.97764768, 0.95190934,\n",
      "       0.91327787, 0.86251615, 0.80519182, 0.75163484, 0.71426883,\n",
      "       0.70301273, 0.72102506, 0.76326938, 0.81878513, 0.87527417,\n",
      "       0.92340008, 0.95882485, 0.98171298, 0.99481147, 1.0014887 ,\n",
      "       1.00453228, 1.00577646, 1.00623456, 1.00638861, 1.00643893,\n",
      "       1.00645886, 1.00647219, 1.00648577, 1.00650131, 1.00651917,\n",
      "       1.00653936, 1.00656183, 1.00658648, 1.00661321, 1.00664193,\n",
      "       1.00667252, 1.00670485, 1.00673881, 1.00677425, 1.00681103,\n",
      "       1.00684902, 1.00688806, 1.00692799, 1.00696867, 1.00700992,\n",
      "       1.00705159, 1.00709351, 1.00713552, 1.00717745, 1.00721913,\n",
      "       1.00726041, 1.00730111, 1.00734108, 1.00738015, 1.00741819,\n",
      "       1.00745502, 1.00749052, 1.00752454, 1.00755694, 1.0075876 ,\n",
      "       1.00761639, 1.00764321, 1.00766794, 1.00769049, 1.00771078,\n",
      "       1.00772871, 1.00774423, 1.00775726, 1.00776775, 1.00777568,\n",
      "       1.007781  , 1.00778369, 1.00778374, 1.00778115, 1.00777594,\n",
      "       1.00776812, 1.00775773, 1.00774479, 1.00772938, 1.00771154,\n",
      "       1.00769135, 1.00766889, 1.00764424, 1.0076175 , 1.00758878,\n",
      "       1.0075582 , 1.00752586, 1.00749191, 1.00745647, 1.00741968,\n",
      "       1.00738169, 1.00734265, 1.0073027 , 1.00726198, 1.00722061,\n",
      "       1.00717863, 1.00713594, 1.00709206, 1.00704579, 1.00699434,\n",
      "       1.00693196, 1.00684739, 1.00671963, 1.00651155, 1.0061606 ,\n",
      "       1.00556667, 1.00457795, 1.00297698, 1.00047127, 0.9966946 ,\n",
      "       0.99122603])}\n",
      "R  analytic_best_model@lcgeom_...: CG12\n",
      "R  primary_width@lcgeom_soluti...: 0.08922093776687444\n",
      "R  secondary_width@lcgeom_solu...: 0.14781969048557556\n",
      "R  primary_phase@lcgeom_soluti...: -0.0005839089142617397\n",
      "R  secondary_phase@lcgeom_solu...: -0.4423960339348709\n",
      "R  primary_depth@lcgeom_soluti...: 0.2785616905555801\n",
      "R  secondary_depth@lcgeom_solu...: 0.1707480906611859\n",
      "R  eclipse_edges@lcgeom_soluti...: [-0.04519438  0.04402656\n",
      " -0.51630588 -0.36848619]\n",
      "R  fitted_uniqueids@lcgeom@lcg...: ['wtbwKMHKLitlNayMFaXfKBYLiRkYjU' 'fXaGwwpRxKcReOqXmXZsyJnBzINWag'\n",
      " 'feVyGwlysJpTGHQMjPRWBAxdsLenWd' 'rOIGtybeJbpaoAbMqfbXRpGJiwtbyR']\n",
      "R  fitted_twigs@lcgeom@lcgeom_...: ['t0_supconj@binary@orbit@component' 'ecc@binary@orbit@component'\n",
      " 'per0@binary@orbit@component' 'mask_phases@binary@lc01@lc@dataset']\n",
      "R  fitted_values@lcgeom@lcgeom...: [0.9994160910857383 0.2626371731381993 1.22634103675407\n",
      " list([(-0.07196065912776128, 0.07079284129923781), (-0.5606517863233313, -0.3241402815464105)])]\n",
      "R  fitted_units@lcgeom@lcgeom_...: ['d' '' 'rad' '']\n",
      "   adopt_parameters@lcgeom@lcg...: ['t0_supconj@binary@orbit@component', 'ecc@binary@orbit@component', 'per0@binary@orbit@component']\n",
      "   adopt_distributions@lcgeom@...: False\n",
      "   adopt_values@lcgeom@lcgeom_...: True\n",
      "   comments@lcgeom@lcgeom_solu...: \n"
     ]
    }
   ],
   "source": [
    "print(b.filter(solution='lcgeom_solution'))"
   ]
  },
  {
   "cell_type": "markdown",
   "metadata": {},
   "source": [
    "To update the values in the bundle, we need to reverse-flip the constraints for esinw and ecosw and adopt the solution."
   ]
  },
  {
   "cell_type": "code",
   "execution_count": 16,
   "metadata": {},
   "outputs": [
    {
     "data": {
      "text/plain": [
       "<ConstraintParameter: {esinw@binary@component} = {ecc@binary@component} * (sin({per0@binary@component})) (solar units) => 0.09596544317931734>"
      ]
     },
     "execution_count": 16,
     "metadata": {},
     "output_type": "execute_result"
    }
   ],
   "source": [
    "b.flip_constraint('per0', solve_for='ecosw')\n",
    "b.flip_constraint('ecc', solve_for='esinw')"
   ]
  },
  {
   "cell_type": "code",
   "execution_count": 17,
   "metadata": {},
   "outputs": [
    {
     "name": "stderr",
     "output_type": "stream",
     "text": [
      "Tue, 30 Mar 2021 09:38 BUNDLE       WARNING solution='lcgeom_solution' is not included in run_checks_solution@setting, so will not raise interactive warnings\n",
      "Tue, 30 Mar 2021 09:38 PARAMETERS   WARNING wrapping value of mean_anom to 11.423035904805317 deg\n"
     ]
    },
    {
     "name": "stdout",
     "output_type": "stream",
     "text": [
      "ParameterSet: 11 parameters\n",
      "      t0_supconj@binary@component: 0.9994160910857383 d\n",
      "             ecc@binary@component: 0.2626371731381993\n",
      "            per0@binary@component: 70.26416564970597 deg\n",
      "C     t0_perpass@binary@component: 0.9682693920467413 d\n",
      "C         t0_ref@binary@component: 1.0230911541308914 d\n",
      "C     compute_phases@lc01@dataset: []\n",
      "C    requiv_max@primary@component: 1.5411280459489891 solRad\n",
      "C  requiv_max@secondary@component: 1.5411280459489891 solRad\n",
      "C          ecosw@binary@component: 0.0886883748322164\n",
      "C          esinw@binary@component: 0.24720974269564044\n",
      "C      mean_anom@binary@component: 11.423035904805317 deg\n"
     ]
    }
   ],
   "source": [
    "print(b.adopt_solution('lcgeom_solution'))"
   ]
  },
  {
   "cell_type": "code",
   "execution_count": 18,
   "metadata": {},
   "outputs": [
    {
     "name": "stderr",
     "output_type": "stream",
     "text": [
      "100%|██████████| 101/101 [00:10<00:00,  9.67it/s]\n"
     ]
    },
    {
     "data": {
      "image/png": "[encoded data removed]",
      "text/plain": [
       "<Figure size 576x432 with 1 Axes>"
      ]
     },
     "metadata": {
      "needs_background": "light"
     },
     "output_type": "display_data"
    }
   ],
   "source": [
    "b.run_compute(model='lcgeom_model')\n",
    "_ = b.plot(x='phases', ls='-', legend=True, show=True)"
   ]
  },
  {
   "cell_type": "markdown",
   "metadata": {},
   "source": [
    "## phase masking"
   ]
  },
  {
   "cell_type": "markdown",
   "metadata": {},
   "source": [
    "For more details on phase-masking see [Advanced: Phase Masking](mask_phases.ipynb).\n",
    "\n",
    "lc_geometry also returns suggested `mask_phases` computed from the eclipse widths, which we can notice in the list of `fitted_twigs`. However, by default it is excluded from the `adopt_parameters` list:"
   ]
  },
  {
   "cell_type": "code",
   "execution_count": 19,
   "metadata": {},
   "outputs": [
    {
     "name": "stdout",
     "output_type": "stream",
     "text": [
      "['t0_supconj@binary@orbit@component' 'ecc@binary@orbit@component'\n",
      " 'per0@binary@orbit@component' 'mask_phases@binary@lc01@lc@dataset']\n",
      "['t0_supconj@binary@orbit@component', 'ecc@binary@orbit@component', 'per0@binary@orbit@component']\n"
     ]
    }
   ],
   "source": [
    "print(b.get_value('fitted_twigs', solution='lcgeom_solution'))\n",
    "print(b.get_value('adopt_parameters', solution='lcgeom_solution'))"
   ]
  },
  {
   "cell_type": "markdown",
   "metadata": {},
   "source": [
    "Therefore, we can set them in the bundle by either adding `mask_phases` the to the `adopt_parameters` list before calling `adopt_solution()`, or after, as:"
   ]
  },
  {
   "cell_type": "code",
   "execution_count": 20,
   "metadata": {},
   "outputs": [],
   "source": [
    "b.set_value('mask_phases', b.get_value('fitted_values', solution='lcgeom_solution')[-1])"
   ]
  },
  {
   "cell_type": "markdown",
   "metadata": {},
   "source": [
    "If we now plot the light curves, we'll see only the eclipses have been \"masked out\" of the data."
   ]
  },
  {
   "cell_type": "code",
   "execution_count": 21,
   "metadata": {},
   "outputs": [
    {
     "data": {
      "image/png": "[encoded data removed]",
      "text/plain": [
       "<Figure size 576x432 with 1 Axes>"
      ]
     },
     "metadata": {
      "needs_background": "light"
     },
     "output_type": "display_data"
    }
   ],
   "source": [
    "_ = b.plot(x='phases', ls='-', legend=True, show=True)"
   ]
  },
  {
   "cell_type": "code",
   "execution_count": null,
   "metadata": {},
   "outputs": [],
   "source": []
  }
 ],
 "metadata": {
  "kernelspec": {
   "display_name": "Python 3",
   "language": "python",
   "name": "python3"
  },
  "language_info": {
   "codemirror_mode": {
    "name": "ipython",
    "version": 3
   },
   "file_extension": ".py",
   "mimetype": "text/x-python",
   "name": "python",
   "nbconvert_exporter": "python",
   "pygments_lexer": "ipython3",
   "version": "3.8.5"
  }
 },
 "nbformat": 4,
 "nbformat_minor": 4
}
