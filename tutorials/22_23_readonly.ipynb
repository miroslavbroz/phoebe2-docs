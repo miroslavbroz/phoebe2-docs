{
 "cells": [
  {
   "cell_type": "markdown",
   "metadata": {},
   "source": [
    "2.2 - 2.3 Migration: Read Only and Constrained Notation\n",
    "============================\n",
    "\n",
    "In the string representation of a [ParameterSet](../api/phoebe.parameters.ParameterSet.md), constrained parameters were notated with a `\\*` symbol in the far left.  \n",
    "\n",
    "In version 2.3, this is replaced with a `C`.  Parameters that are read-only for other reasons (i.e. exposed model parameters) are noted with an `R`."
   ]
  },
  {
   "cell_type": "code",
   "execution_count": 1,
   "metadata": {},
   "outputs": [],
   "source": [
    "import phoebe"
   ]
  },
  {
   "cell_type": "code",
   "execution_count": 2,
   "metadata": {},
   "outputs": [],
   "source": [
    "b = phoebe.default_binary()"
   ]
  },
  {
   "cell_type": "code",
   "execution_count": 3,
   "metadata": {},
   "outputs": [
    {
     "name": "stdout",
     "output_type": "stream",
     "text": [
      "ParameterSet: 12 parameters\n",
      "C          incl@primary@component: 90.0 deg\n",
      "C        incl@secondary@component: 90.0 deg\n",
      "            incl@binary@component: 90.0 deg\n",
      "             sma@binary@component: 5.3 solRad\n",
      "C          asini@binary@component: 5.3 solRad\n",
      "C           sma@primary@component: 2.65 solRad\n",
      "C         sma@secondary@component: 2.65 solRad\n",
      "                 asini@constraint: {sma@binary@component} * (sin({incl@binary@component}))\n",
      "           sma@primary@constraint: {sma@binary@component} / (1.000000 + (1.000000 / {q@binary@component}))\n",
      "          incl@primary@constraint: {incl@binary@component} + {pitch@primary@component}\n",
      "         sma@secondary@constraint: {sma@binary@component} / (1.000000 + {q@binary@component})\n",
      "        incl@secondary@constraint: {incl@binary@component} + {pitch@secondary@component}\n"
     ]
    }
   ],
   "source": [
    "print(b.filter(qualifier=['sma', 'incl', 'asini']))"
   ]
  }
 ],
 "metadata": {
  "kernelspec": {
   "display_name": "Python 3",
   "language": "python",
   "name": "python3"
  },
  "language_info": {
   "codemirror_mode": {
    "name": "ipython",
    "version": 3
   },
   "file_extension": ".py",
   "mimetype": "text/x-python",
   "name": "python",
   "nbconvert_exporter": "python",
   "pygments_lexer": "ipython3",
   "version": "3.7.5"
  }
 },
 "nbformat": 4,
 "nbformat_minor": 2
}
