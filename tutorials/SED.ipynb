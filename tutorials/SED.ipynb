{
 "cells": [
  {
   "cell_type": "markdown",
   "metadata": {},
   "source": [
    "'sed' (Spectral Energy Distribution) Dataset\n",
    "===================================\n",
    "\n",
    "Setup\n",
    "--------\n",
    "\n",
    "As a preparatory task, we create a file `Sed.dat`, containing common spectroscopic data. Apart from times, we also need wavelengths. For simplicity, the \"observed\" flux was set to 0.0. Of course, in real life this value is observed (in W m^-2 m^-1 units)."
   ]
  },
  {
   "cell_type": "code",
   "execution_count": 41,
   "metadata": {},
   "outputs": [],
   "source": [
    "f = open(\"Sed.dat\", \"w\")\n",
    "f.write(\"# time wavelength flux sigma\\n\")\n",
    "\n",
    "t = 0.0             # d\n",
    "wave1 = 6500.0e-10  # m\n",
    "wave2 = 6600.0e-10  # m\n",
    "dwave = 1.0e-10     # m\n",
    "flux = 0.0          # 1\n",
    "sigma = 1.0e-8      # 1\n",
    "    \n",
    "wave = wave1\n",
    "while wave < wave2+0.5*dwave:\n",
    "    f.write(\"%.8f  %.8e  %.8f  %.8f\\n\" % (t, wave, flux, sigma))\n",
    "    wave += dwave\n",
    "    \n",
    "f.close()"
   ]
  },
  {
   "cell_type": "markdown",
   "metadata": {},
   "source": [
    "Modelling of SED requires a grid of synthetic spectra (usually, >>10 GB). Here, a tiny 'test' grid will be used, so that this tutorial works without any installation; it is set up as:"
   ]
  },
  {
   "cell_type": "code",
   "execution_count": 75,
   "metadata": {},
   "outputs": [],
   "source": [
    "from phoebe.backend import spectroscopy\n",
    "from phoebe.backend import pyterpolmini\n",
    "\n",
    "pyterpolmini.grid_directory_ABS = 'grids_ABS'\n",
    "pyterpolmini.grid_dict_ABS = dict(\n",
    "    identification=[\n",
    "        'test',\n",
    "        ],\n",
    "    directories=[\n",
    "        ['TEST'],\n",
    "        ],\n",
    "    families=[\n",
    "        ['test'],\n",
    "        ],\n",
    "    columns=[\n",
    "        ['filename', 'teff', 'logg', 'z'],\n",
    "        ],\n",
    "    )\n",
    "\n",
    "spectroscopy.sg2 = pyterpolmini.SyntheticGrid(mode='test', flux_type='absolute')"
   ]
  },
  {
   "cell_type": "markdown",
   "metadata": {},
   "source": [
    "Note: Make sure to have the latest version of PHOEBE 2.5 installed (uncomment this line if running in an online notebook session such as colab)."
   ]
  },
  {
   "cell_type": "code",
   "execution_count": 76,
   "metadata": {},
   "outputs": [],
   "source": [
    "#!pip install -I \"phoebe>=2.5,<2.6\""
   ]
  },
  {
   "cell_type": "markdown",
   "metadata": {
    "collapsed": true
   },
   "source": [
    "As always, let's do imports and add a new Bundle."
   ]
  },
  {
   "cell_type": "code",
   "execution_count": 77,
   "metadata": {},
   "outputs": [],
   "source": [
    "import phoebe\n",
    "\n",
    "b = phoebe.default_binary()"
   ]
  },
  {
   "cell_type": "markdown",
   "metadata": {
    "collapsed": true
   },
   "source": [
    "Parameters\n",
    "----------------\n",
    "\n",
    "Next read `Sed.dat` back and add the corresponding 'sed' dataset:"
   ]
  },
  {
   "cell_type": "code",
   "execution_count": 78,
   "metadata": {
    "scrolled": true
   },
   "outputs": [
    {
     "data": {
      "text/plain": [
       "<ParameterSet: 44 parameters | contexts: compute, figure, dataset>"
      ]
     },
     "execution_count": 78,
     "metadata": {},
     "output_type": "execute_result"
    }
   ],
   "source": [
    "import numpy as np\n",
    "\n",
    "times, wavelengths, fluxes, sigmas = np.loadtxt(\"Sed.dat\", usecols=[0, 1, 2, 3], unpack=True)\n",
    "\n",
    "b.add_dataset('sed', times=times, wavelengths=wavelengths, fluxes=fluxes, sigmas=sigmas)"
   ]
  },
  {
   "cell_type": "markdown",
   "metadata": {},
   "source": [
    "To verify:"
   ]
  },
  {
   "cell_type": "code",
   "execution_count": 79,
   "metadata": {},
   "outputs": [
    {
     "name": "stdout",
     "output_type": "stream",
     "text": [
      "ParameterSet: 10 parameters\n",
      "              times@sed01@dataset: [0.25 0.25 0.25 ... 0.25 0.25 0.25] d\n",
      "        wavelengths@sed01@dataset: [6.500e-07 6.501e-07 6.502e-07 ... 6.598e-07\n",
      " 6.599e-07 6.600e-07] m\n",
      "             fluxes@sed01@dataset: [0. 0. 0. ... 0. 0. 0.] W / m3\n",
      "      compute_times@sed01@dataset: [] d\n",
      "             sigmas@sed01@dataset: [1.e-08 1.e-08 1.e-08 ... 1.e-08 1.e-08 1.e-08] W / m3\n",
      "         sed_method@sed01@dataset: integrate\n",
      "           passband@sed01@dataset: Johnson:V\n",
      "   intens_weighting@sed01@dataset: energy\n",
      "    ld_mode@primary@sed01@dataset: interp\n",
      "   ld_mode@secondary@sed01@dat...: interp\n"
     ]
    }
   ],
   "source": [
    "print(b.get_dataset(kind='sed'))"
   ]
  },
  {
   "cell_type": "markdown",
   "metadata": {},
   "source": [
    "### times\n",
    "To see explanations:"
   ]
  },
  {
   "cell_type": "code",
   "execution_count": 80,
   "metadata": {},
   "outputs": [
    {
     "name": "stdout",
     "output_type": "stream",
     "text": [
      "Parameter: times@sed01@dataset\n",
      "                       Qualifier: times\n",
      "                     Description: Observed times\n",
      "                           Value: [0.25 0.25 0.25 ... 0.25 0.25 0.25] d\n",
      "                  Constrained by: \n",
      "                      Constrains: None\n",
      "                      Related to: None\n",
      "\n"
     ]
    }
   ],
   "source": [
    "print(b.get_parameter(kind='sed', qualifier='times', context='dataset'))"
   ]
  },
  {
   "cell_type": "markdown",
   "metadata": {},
   "source": [
    "### wavelengths\n",
    "Alternatively, one can use the `twig` syntax."
   ]
  },
  {
   "cell_type": "code",
   "execution_count": 81,
   "metadata": {},
   "outputs": [
    {
     "name": "stdout",
     "output_type": "stream",
     "text": [
      "Parameter: wavelengths@sed01@dataset\n",
      "                       Qualifier: wavelengths\n",
      "                     Description: Observed wavelengths\n",
      "                           Value: [6.500e-07 6.501e-07 6.502e-07 ... 6.598e-07 6.599e-07 6.600e-07] m\n",
      "                  Constrained by: \n",
      "                      Constrains: None\n",
      "                      Related to: None\n",
      "\n"
     ]
    }
   ],
   "source": [
    "print(b['wavelengths@sed01@sed@dataset'])"
   ]
  },
  {
   "cell_type": "markdown",
   "metadata": {},
   "source": [
    "### fluxes"
   ]
  },
  {
   "cell_type": "code",
   "execution_count": 82,
   "metadata": {},
   "outputs": [
    {
     "name": "stdout",
     "output_type": "stream",
     "text": [
      "Parameter: fluxes@sed01@dataset\n",
      "                       Qualifier: fluxes\n",
      "                     Description: Observed fluxes\n",
      "                           Value: [0. 0. 0. ... 0. 0. 0.] W / m3\n",
      "                  Constrained by: \n",
      "                      Constrains: None\n",
      "                      Related to: None\n",
      "\n"
     ]
    }
   ],
   "source": [
    "print(b['fluxes@sed01@sed@dataset'])"
   ]
  },
  {
   "cell_type": "markdown",
   "metadata": {},
   "source": [
    "### sigmas"
   ]
  },
  {
   "cell_type": "code",
   "execution_count": 83,
   "metadata": {},
   "outputs": [
    {
     "name": "stdout",
     "output_type": "stream",
     "text": [
      "Parameter: sigmas@sed01@dataset\n",
      "                       Qualifier: sigmas\n",
      "                     Description: Observed uncertainty of flux\n",
      "                           Value: [1.e-08 1.e-08 1.e-08 ... 1.e-08 1.e-08 1.e-08] W / m3\n",
      "                  Constrained by: \n",
      "                      Constrains: None\n",
      "                      Related to: None\n",
      "\n"
     ]
    }
   ],
   "source": [
    "print(b['sigmas@sed01@sed@dataset'])"
   ]
  },
  {
   "cell_type": "markdown",
   "metadata": {},
   "source": [
    "### sed_method\n",
    "One can choose either a simple model, assuming a uniform disk(s), or a complex model, with integration over meshes --- i.e., applicable to contact or eclipsing binaries."
   ]
  },
  {
   "cell_type": "code",
   "execution_count": 84,
   "metadata": {},
   "outputs": [
    {
     "name": "stdout",
     "output_type": "stream",
     "text": [
      "Parameter: sed_method@sed01@dataset\n",
      "                       Qualifier: sed_method\n",
      "                     Description: Method to use for computing synthetic spectra (must be integrate for eclipse effects)\n",
      "                           Value: integrate\n",
      "                         Choices: integrate, simple\n",
      "                  Constrained by: \n",
      "                      Constrains: None\n",
      "                      Related to: None\n",
      "\n"
     ]
    }
   ],
   "source": [
    "print(b.get_parameter(qualifier='sed_method', context='dataset'))"
   ]
  },
  {
   "cell_type": "markdown",
   "metadata": {},
   "source": [
    "Of course, one has to set up the distance, because the absolute flux is measured at Earth!"
   ]
  },
  {
   "cell_type": "code",
   "execution_count": 85,
   "metadata": {},
   "outputs": [],
   "source": [
    "from astropy import units\n",
    "\n",
    "b.set_value('distance', context='system', value=1*units.au)"
   ]
  },
  {
   "cell_type": "markdown",
   "metadata": {},
   "source": [
    "Model\n",
    "---------\n",
    "\n",
    "Before we proceed, let's decrease the resolution of meshes:"
   ]
  },
  {
   "cell_type": "code",
   "execution_count": 86,
   "metadata": {},
   "outputs": [],
   "source": [
    "b.set_value('ntriangles@primary', context='compute', value=100)\n",
    "b.set_value('ntriangles@secondary', context='compute', value=100)"
   ]
  },
  {
   "cell_type": "markdown",
   "metadata": {},
   "source": [
    "Eventually, a computation is run as:"
   ]
  },
  {
   "cell_type": "code",
   "execution_count": 87,
   "metadata": {},
   "outputs": [
    {
     "name": "stderr",
     "output_type": "stream",
     "text": [
      "\r",
      "  0%|          | 0/1 [00:00<?, ?it/s]"
     ]
    },
    {
     "name": "stdout",
     "output_type": "stream",
     "text": [
      "Loading spectrum: filename:grids_ABS/TEST/lte06000-4.50-0.0.PHOENIX-ACES-AGSS-COND-2011-HiRes.vis.dat loaded:False family:test teff:6000.0 logg:4.5 z:1.0 \n",
      "Loading spectrum: filename:grids_ABS/TEST/lte06000-4.00-0.0.PHOENIX-ACES-AGSS-COND-2011-HiRes.vis.dat loaded:False family:test teff:6000.0 logg:4.0 z:1.0 \n",
      "Loading spectrum: filename:grids_ABS/TEST/lte06100-4.50-0.0.PHOENIX-ACES-AGSS-COND-2011-HiRes.vis.dat loaded:False family:test teff:6100.0 logg:4.5 z:1.0 \n",
      "Loading spectrum: filename:grids_ABS/TEST/lte06100-4.00-0.0.PHOENIX-ACES-AGSS-COND-2011-HiRes.vis.dat loaded:False family:test teff:6100.0 logg:4.0 z:1.0 \n",
      "Loading spectrum: filename:grids_ABS/TEST/lte05900-4.50-0.0.PHOENIX-ACES-AGSS-COND-2011-HiRes.vis.dat loaded:False family:test teff:5900.0 logg:4.5 z:1.0 \n",
      "Loading spectrum: filename:grids_ABS/TEST/lte05900-4.00-0.0.PHOENIX-ACES-AGSS-COND-2011-HiRes.vis.dat loaded:False family:test teff:5900.0 logg:4.0 z:1.0 \n"
     ]
    },
    {
     "name": "stderr",
     "output_type": "stream",
     "text": [
      "100%|██████████| 1/1 [00:00<00:00,  1.22it/s]\n"
     ]
    },
    {
     "data": {
      "text/plain": [
       "<ParameterSet: 5 parameters | qualifiers: comments, wavelengths, fluxes, sed_method, times>"
      ]
     },
     "execution_count": 87,
     "metadata": {},
     "output_type": "execute_result"
    }
   ],
   "source": [
    "b.run_compute()"
   ]
  },
  {
   "cell_type": "markdown",
   "metadata": {},
   "source": [
    "Now, I know that I can print, e.g.:"
   ]
  },
  {
   "cell_type": "code",
   "execution_count": 88,
   "metadata": {},
   "outputs": [
    {
     "name": "stdout",
     "output_type": "stream",
     "text": [
      "ParameterSet: 4 parameters\n",
      "R              times@latest@model: [0.25 0.25 0.25 ... 0.25 0.25 0.25] d\n",
      "R        wavelengths@latest@model: [6.500e-07 6.501e-07 6.502e-07 ... 6.598e-07\n",
      " 6.599e-07 6.600e-07] m\n",
      "R             fluxes@latest@model: [3.55439809e+09 3.57441091e+09 3.50341543e+09 ...\n",
      " 3.57812795e+09 3.55806042e+09 3.56097285e+09] W / m3\n",
      "          sed_method@latest@model: integrate\n"
     ]
    }
   ],
   "source": [
    "print(b.get_model(kind='sed'))"
   ]
  },
  {
   "cell_type": "markdown",
   "metadata": {},
   "source": [
    "To save results:"
   ]
  },
  {
   "cell_type": "code",
   "execution_count": 89,
   "metadata": {},
   "outputs": [],
   "source": [
    "times = b['times@sed01@phoebe01@latest@sed@model'].value\n",
    "wavelengths = b['wavelengths@sed01@phoebe01@latest@sed@model'].value\n",
    "fluxes = b['fluxes@sed01@phoebe01@latest@sed@model'].value\n",
    "\n",
    "np.savetxt('model.out', np.c_[times, wavelengths, fluxes], header='times wavelenghts fluxes')"
   ]
  },
  {
   "cell_type": "markdown",
   "metadata": {},
   "source": [
    "Plotting\n",
    "-----------\n",
    "\n",
    "To plot results:"
   ]
  },
  {
   "cell_type": "code",
   "execution_count": 90,
   "metadata": {},
   "outputs": [
    {
     "name": "stderr",
     "output_type": "stream",
     "text": [
      "/home/mira/.local/lib/python3.9/site-packages/phoebe/dependencies/autofig/axes.py:1273: UserWarning: Attempting to set identical left == right == 0.25 results in singular transformations; automatically expanding.\n",
      "  ax.set_xlim(xlim)\n"
     ]
    },
    {
     "data": {
      "image/png": "[encoded data removed]",
      "text/plain": [
       "<Figure size 576x432 with 1 Axes>"
      ]
     },
     "metadata": {
      "needs_background": "light"
     },
     "output_type": "display_data"
    },
    {
     "data": {
      "text/plain": [
       "(<autofig.figure.Figure | 1 axes | 2 call(s)>,\n",
       " <Figure size 576x432 with 1 Axes>)"
      ]
     },
     "execution_count": 90,
     "metadata": {},
     "output_type": "execute_result"
    }
   ],
   "source": [
    "b.plot(show=True)"
   ]
  },
  {
   "cell_type": "markdown",
   "metadata": {},
   "source": [
    "Well, this was for a single time, wasn't it? However, it is much more interesting to see the dependence on wavelengths!"
   ]
  },
  {
   "cell_type": "code",
   "execution_count": 91,
   "metadata": {},
   "outputs": [
    {
     "data": {
      "image/png": "[encoded data removed]",
      "text/plain": [
       "<Figure size 576x432 with 1 Axes>"
      ]
     },
     "metadata": {
      "needs_background": "light"
     },
     "output_type": "display_data"
    },
    {
     "data": {
      "text/plain": [
       "(<autofig.figure.Figure | 1 axes | 2 call(s)>,\n",
       " <Figure size 576x432 with 1 Axes>)"
      ]
     },
     "execution_count": 91,
     "metadata": {},
     "output_type": "execute_result"
    }
   ],
   "source": [
    "b.plot(x='wavelengths', marker='.', linestyle='none', show=True)"
   ]
  },
  {
   "cell_type": "markdown",
   "metadata": {},
   "source": [
    "Since the phase is 0.0, one of the stars is eclipsed. Consequently, the monochromatic flux F_nu corresponds approximately to the solar value, i.e., 2 x 10^9 W m^-2 m^-1. Of course, if the time is modified (0.25), it should be twice as much...\n",
    "\n",
    "Note: A 'miniaturized' version of Pyterpol3 (Nemravová et al. 2016, A&A 594, A55) is used internally to interpolate synthetic spectra. Supported grids include: OSTAR, BSTAR, POLLUX, or PHOENIX. They must be downloaded (http://sirrah.troja.mff.cuni.cz/~mira/xitau/) and present in the `grids_ABS` directory."
   ]
  },
  {
   "cell_type": "code",
   "execution_count": null,
   "metadata": {},
   "outputs": [],
   "source": []
  }
 ],
 "metadata": {
  "kernelspec": {
   "display_name": "Python 3",
   "language": "python",
   "name": "python3"
  },
  "language_info": {
   "codemirror_mode": {
    "name": "ipython",
    "version": 3
   },
   "file_extension": ".py",
   "mimetype": "text/x-python",
   "name": "python",
   "nbconvert_exporter": "python",
   "pygments_lexer": "ipython3",
   "version": "3.9.2"
  }
 },
 "nbformat": 4,
 "nbformat_minor": 1
}
