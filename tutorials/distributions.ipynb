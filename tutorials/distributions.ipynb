{
 "cells": [
  {
   "cell_type": "markdown",
   "metadata": {},
   "source": [
    "Distributions\n",
    "============================\n",
    "\n",
    "Distributions are mostly useful when using samplers (which we'll see in the next tutorial on [solving the inverse problem](./solver.ipynb)) - but can also be useful to propagate any set of distributions (whether those be uncertainties in the literature, etc) through the forward model.\n",
    "\n",
    "Setup\n",
    "-----------------------------"
   ]
  },
  {
   "cell_type": "markdown",
   "metadata": {},
   "source": [
    "Let's first make sure we have the latest version of PHOEBE 2.3 installed (uncomment this line if running in an online notebook session such as colab)."
   ]
  },
  {
   "cell_type": "code",
   "execution_count": 1,
   "metadata": {},
   "outputs": [],
   "source": [
    "#!pip install -I \"phoebe>=2.3,<2.4\""
   ]
  },
  {
   "cell_type": "code",
   "execution_count": 2,
   "metadata": {},
   "outputs": [
    {
     "data": {
      "text/plain": [
       "<ParameterSet: 78 parameters | contexts: dataset, figure, compute, constraint>"
      ]
     },
     "execution_count": 2,
     "metadata": {},
     "output_type": "execute_result"
    }
   ],
   "source": [
    "import phoebe\n",
    "\n",
    "logger = phoebe.logger()\n",
    "\n",
    "b = phoebe.default_binary()\n",
    "b.add_dataset('lc', compute_phases=phoebe.linspace(0,1,101))"
   ]
  },
  {
   "cell_type": "markdown",
   "metadata": {},
   "source": [
    "Adding Distributions\n",
    "----------------------\n",
    "\n",
    "Distributions can be attached to most any FloatParameter in the Bundle.  To see a list of these available parameters, we can call [b.get_adjustable_parameters](../api/phoebe.frontend.bundle.Bundle.get_adjustable_parameters.md).  Note the `exclude_constrained` option which defaults to True: we can set distributions on constrained parameters (for priors, for example), but those will not be able to be sampled from in the forward model or while fitting.  We'll come back to this in the next tutorial when looking at priors.\n"
   ]
  },
  {
   "cell_type": "code",
   "execution_count": 3,
   "metadata": {},
   "outputs": [
    {
     "data": {
      "text/plain": [
       "<ParameterSet: 35 parameters | contexts: component, dataset, system>"
      ]
     },
     "execution_count": 3,
     "metadata": {},
     "output_type": "execute_result"
    }
   ],
   "source": [
    "b.get_adjustable_parameters()"
   ]
  },
  {
   "cell_type": "markdown",
   "metadata": {},
   "source": [
    "[add_distribution](../api/phoebe.frontend.bundle.Bundle.add_distribution.md) is quite flexible and accepts several different syntaxes to add multiple distributions in one line.  Here we'll just attach a distribution to a single parameter at a time.  Just like when calling [add_dataset](../api/phoebe.frontend.bundle.Bundle.add_dataset.md) or [add_compute](../api/phoebe.frontend.bundle.Bundle.add_compute.md), [add_distribution](../api/phoebe.frontend.bundle.Bundle.add_distribution.md) optionally takes a `distribution` tag -- and in the cases of distributions, we can attach distributions to multiple parameters with the same `distribution` tag.\n",
    "\n",
    "The values of the [DistributionParameters](../api/phoebe.parameters.DistributionParameter.md) are [distl](https://distl.readthedocs.io) distribution objects -- the most common of which are conveniently available at the top-level of PHOEBE:\n",
    "\n",
    "* [phoebe.gaussian](../api/phoebe.gaussian.md)\n",
    "* [phoebe.gaussian_around](../api/phoebe.gaussian_around.md)\n",
    "* [phoebe.uniform](../api/phoebe.uniform.md)\n",
    "* [phoebe.uniform_around](../api/phoebe.uniform_around.md)\n",
    "\n",
    "For an overview of the different available types as they apply in PHOEBE, see [Advanced: Distribution Types](distribution_types.ipynb).\n",
    "\n",
    "Now let's attach a gaussian distribution on the temperature of the primary star."
   ]
  },
  {
   "cell_type": "code",
   "execution_count": 4,
   "metadata": {},
   "outputs": [
    {
     "data": {
      "text/plain": [
       "<ParameterSet: 1 parameters>"
      ]
     },
     "execution_count": 4,
     "metadata": {},
     "output_type": "execute_result"
    }
   ],
   "source": [
    "b.add_distribution(qualifier='teff', component='primary', \n",
    "                   value=phoebe.gaussian(6000,100), \n",
    "                   distribution='mydist')"
   ]
  },
  {
   "cell_type": "markdown",
   "metadata": {},
   "source": [
    "As you probably can expect by now, we also have methods to:\n",
    "\n",
    "* [get_distribution](../api/phoebe.frontend.bundle.Bundle.get_distribution.md)\n",
    "* [rename_distribution](../api/phoebe.frontend.bundle.Bundle.rename_distribution.md)\n",
    "* [remove_distribution](../api/phoebe.frontend.bundle.Bundle.remove_distribution.md)"
   ]
  },
  {
   "cell_type": "code",
   "execution_count": 5,
   "metadata": {},
   "outputs": [
    {
     "name": "stdout",
     "output_type": "stream",
     "text": [
      "ParameterSet: 1 parameters\n",
      "         teff@mydist@distribution: <distl.gaussian loc=6000.0 scale=100.0 unit=K>\n"
     ]
    }
   ],
   "source": [
    "print(b.get_distribution(distribution='mydist'))"
   ]
  },
  {
   "cell_type": "markdown",
   "metadata": {},
   "source": [
    "Now let's add another distribution, with the same `distribution` tag, to the inclination of the binary."
   ]
  },
  {
   "cell_type": "code",
   "execution_count": 6,
   "metadata": {},
   "outputs": [
    {
     "data": {
      "text/plain": [
       "<ParameterSet: 1 parameters>"
      ]
     },
     "execution_count": 6,
     "metadata": {},
     "output_type": "execute_result"
    }
   ],
   "source": [
    "b.add_distribution(qualifier='incl', component='binary',\n",
    "                   value=phoebe.uniform(80,90),\n",
    "                   distribution='mydist')"
   ]
  },
  {
   "cell_type": "code",
   "execution_count": 7,
   "metadata": {},
   "outputs": [
    {
     "name": "stdout",
     "output_type": "stream",
     "text": [
      "ParameterSet: 2 parameters\n",
      "         teff@mydist@distribution: <distl.gaussian loc=6000.0 scale=100.0 unit=K>\n",
      "         incl@mydist@distribution: <distl.uniform low=80.0 high=90.0 unit=deg>\n"
     ]
    }
   ],
   "source": [
    "print(b.get_distribution(distribution='mydist'))"
   ]
  },
  {
   "cell_type": "markdown",
   "metadata": {},
   "source": [
    "Accessing & Plotting Distributions\n",
    "--------------------"
   ]
  },
  {
   "cell_type": "markdown",
   "metadata": {},
   "source": [
    "The parameters we've created and attached are [DistributionParameters](../api/phoebe.parameters.DistributionParameter.md) and live in `context='distribution'`, with all other tags matching the parameter they're referencing.  For example, let's filter and look at the distributions we've added."
   ]
  },
  {
   "cell_type": "code",
   "execution_count": 8,
   "metadata": {},
   "outputs": [
    {
     "name": "stdout",
     "output_type": "stream",
     "text": [
      "ParameterSet: 2 parameters\n",
      "         teff@mydist@distribution: <distl.gaussian loc=6000.0 scale=100.0 unit=K>\n",
      "         incl@mydist@distribution: <distl.uniform low=80.0 high=90.0 unit=deg>\n"
     ]
    }
   ],
   "source": [
    "print(b.filter(context='distribution'))"
   ]
  },
  {
   "cell_type": "code",
   "execution_count": 9,
   "metadata": {},
   "outputs": [
    {
     "name": "stdout",
     "output_type": "stream",
     "text": [
      "Parameter: incl@mydist@distribution\n",
      "                       Qualifier: incl\n",
      "                     Description: distribution for the referenced parameter\n",
      "                           Value: <distl.uniform low=80.0 high=90.0 unit=deg>\n",
      "                  Constrained by: \n",
      "                      Constrains: None\n",
      "                      Related to: None\n",
      "\n"
     ]
    }
   ],
   "source": [
    "print(b.get_parameter(context='distribution', qualifier='incl'))"
   ]
  },
  {
   "cell_type": "code",
   "execution_count": 10,
   "metadata": {},
   "outputs": [
    {
     "name": "stdout",
     "output_type": "stream",
     "text": [
      "OrderedDict([('time', None), ('qualifier', 'incl'), ('feature', None), ('component', 'binary'), ('dataset', None), ('constraint', None), ('distribution', 'mydist'), ('compute', None), ('model', None), ('solver', None), ('solution', None), ('figure', None), ('kind', None), ('context', 'distribution')])\n"
     ]
    }
   ],
   "source": [
    "print(b.get_parameter(context='distribution', qualifier='incl').tags)"
   ]
  },
  {
   "cell_type": "markdown",
   "metadata": {},
   "source": [
    "The \"value\" of the parameter, is the [distl](https://distl.readthedocs.io) distributon object itself."
   ]
  },
  {
   "cell_type": "code",
   "execution_count": 11,
   "metadata": {},
   "outputs": [
    {
     "data": {
      "text/plain": [
       "<distl.uniform low=80.0 high=90.0 unit=deg>"
      ]
     },
     "execution_count": 11,
     "metadata": {},
     "output_type": "execute_result"
    }
   ],
   "source": [
    "b.get_value(context='distribution', qualifier='incl')"
   ]
  },
  {
   "cell_type": "markdown",
   "metadata": {},
   "source": [
    "And because of that, we can call any method on the [distl](https://distl.readthedocs.io) object, including plotting the distribution."
   ]
  },
  {
   "cell_type": "code",
   "execution_count": 12,
   "metadata": {},
   "outputs": [
    {
     "data": {
      "image/png": "[encoded data removed]",
      "text/plain": [
       "<Figure size 432x288 with 1 Axes>"
      ]
     },
     "metadata": {
      "needs_background": "light"
     },
     "output_type": "display_data"
    }
   ],
   "source": [
    "_ = b.get_value(context='distribution', qualifier='incl').plot(show=True)"
   ]
  },
  {
   "cell_type": "markdown",
   "metadata": {},
   "source": [
    "If we want to see how multiple individual distributions interact and are correlated with each other via a corner plot, we can access the combined \"distribution collection\" from any number of `distribution` tags. This may not be terribly useful now, but is very useful when trying to create multivariate priors.\n",
    "\n",
    "* [b.get_distribution_collection](../api/phoebe.frontend.bundle.Bundle.get_distribution_collection.md)\n",
    "* [b.plot_distribution_collection](../api/phoebe.frontend.bundle.Bundle.plot_distribution_collection.md)"
   ]
  },
  {
   "cell_type": "code",
   "execution_count": 13,
   "metadata": {},
   "outputs": [
    {
     "data": {
      "image/png": "[encoded data removed]",
      "text/plain": [
       "<Figure size 396x396 with 4 Axes>"
      ]
     },
     "metadata": {
      "needs_background": "light"
     },
     "output_type": "display_data"
    }
   ],
   "source": [
    "_ = b.plot_distribution_collection(distribution='mydist', show=True)"
   ]
  },
  {
   "cell_type": "markdown",
   "metadata": {},
   "source": [
    "Sampling Distributions\n",
    "-------------------"
   ]
  },
  {
   "cell_type": "markdown",
   "metadata": {},
   "source": [
    "We can also sample from these distributions - either manually by calling sample on the [distl](https://distl.readthedocs.io) or in bulk by respecting any covariances in the \"distributon collection\" via:\n",
    "\n",
    "* [b.sample_distribution_collection](../api/phoebe.frontend.bundle.Bundle.sample_distribution_collection.md)"
   ]
  },
  {
   "cell_type": "code",
   "execution_count": 14,
   "metadata": {},
   "outputs": [
    {
     "data": {
      "text/plain": [
       "{'teff@primary@star@component': 5868.749841594311,\n",
       " 'incl@binary@orbit@component': 84.46696942047119}"
      ]
     },
     "execution_count": 14,
     "metadata": {},
     "output_type": "execute_result"
    }
   ],
   "source": [
    "b.sample_distribution_collection(distribution='mydist')"
   ]
  },
  {
   "cell_type": "markdown",
   "metadata": {},
   "source": [
    "By default this just returns a dictionary with the twigs and sampled values.  But if we wanted, we could have these applied immediately to the face-values by passing `set_value=True`, in which case a [ParameterSet](../api/phoebe.parameters.ParameterSet.md) of changed parameters (including those via constraints) is returned instead."
   ]
  },
  {
   "cell_type": "code",
   "execution_count": 15,
   "metadata": {},
   "outputs": [],
   "source": [
    "changed_params = b.sample_distribution_collection(distribution='mydist', set_value=True)"
   ]
  },
  {
   "cell_type": "code",
   "execution_count": 16,
   "metadata": {},
   "outputs": [
    {
     "name": "stdout",
     "output_type": "stream",
     "text": [
      "ParameterSet: 11 parameters\n",
      "           teff@primary@component: 5892.109685011345 K\n",
      "            incl@binary@component: 81.11158020909615 deg\n",
      "C          asini@binary@component: 5.236352907041227 solRad\n",
      "C         asini@primary@component: 2.6181764535206136 solRad\n",
      "C          incl@primary@component: 81.11158020909615 deg\n",
      "C    requiv_max@primary@component: 2.013275176537638 solRad\n",
      "C       asini@secondary@component: 2.6181764535206136 solRad\n",
      "C        incl@secondary@component: 81.11158020909615 deg\n",
      "C  requiv_max@secondary@component: 2.013275176537638 solRad\n",
      "C    requiv_max@primary@component: 2.013275176537638 solRad\n",
      "C  requiv_max@secondary@component: 2.013275176537638 solRad\n"
     ]
    }
   ],
   "source": [
    "print(changed_params)"
   ]
  },
  {
   "cell_type": "markdown",
   "metadata": {},
   "source": [
    "Propagating Distributions through Forward Model\n",
    "-------------------"
   ]
  },
  {
   "cell_type": "markdown",
   "metadata": {},
   "source": [
    "Lastly, we can have PHOEBE automatically draw from a \"distribution collection\" multiple times and expose the distribution of the model itself."
   ]
  },
  {
   "cell_type": "code",
   "execution_count": 17,
   "metadata": {},
   "outputs": [
    {
     "name": "stdout",
     "output_type": "stream",
     "text": [
      "Parameter: sample_from@phoebe01@compute\n",
      "                       Qualifier: sample_from\n",
      "                     Description: distributions or solutions to use for sampling.  If pointing to a solution, adopt_solution(as_distributions=True, **kwargs) will be called to create a temporary distribution which will be removed automatically.  If all distributions are delta functions (face-values), sample_mode and sample_num will be ignored with a warning.\n",
      "                           Value: []\n",
      "                         Choices: mydist\n",
      "                  Constrained by: \n",
      "                      Constrains: None\n",
      "                      Related to: None\n",
      "\n"
     ]
    }
   ],
   "source": [
    "print(b.get_parameter(qualifier='sample_from', context='compute'))"
   ]
  },
  {
   "cell_type": "markdown",
   "metadata": {},
   "source": [
    "Once `sample_from` is set, `sample_num` and `sample_mode` are exposed as visible parameters"
   ]
  },
  {
   "cell_type": "code",
   "execution_count": 18,
   "metadata": {},
   "outputs": [],
   "source": [
    "b.set_value('sample_from', value='mydist')"
   ]
  },
  {
   "cell_type": "code",
   "execution_count": 19,
   "metadata": {},
   "outputs": [
    {
     "name": "stdout",
     "output_type": "stream",
     "text": [
      "ParameterSet: 4 parameters\n",
      "     sample_from@phoebe01@compute: ['mydist']\n",
      "   sample_from_combine@phoebe0...: first\n",
      "      sample_num@phoebe01@compute: 10\n",
      "     sample_mode@phoebe01@compute: 1-sigma\n"
     ]
    }
   ],
   "source": [
    "print(b.filter(qualifier='sample*'))"
   ]
  },
  {
   "cell_type": "markdown",
   "metadata": {},
   "source": [
    "Now when we call [run_compute](../api/phoebe.frontend.bundle.Bundle.run_compute.md), 10 different instances of the forward model will be computed from 10 random draws from the \"distribution collection\" but only the median and 1-sigma uncertainties will be exposed in the model."
   ]
  },
  {
   "cell_type": "code",
   "execution_count": 20,
   "metadata": {},
   "outputs": [
    {
     "name": "stderr",
     "output_type": "stream",
     "text": [
      "100%|██████████| 101/101 [00:02<00:00, 36.11it/s]\n",
      "100%|██████████| 101/101 [00:02<00:00, 34.52it/s]\n",
      "100%|██████████| 101/101 [00:03<00:00, 33.55it/s]\n",
      "100%|██████████| 101/101 [00:03<00:00, 32.05it/s]\n",
      "100%|██████████| 101/101 [00:03<00:00, 32.31it/s]\n",
      "100%|██████████| 101/101 [00:03<00:00, 31.84it/s]\n",
      "100%|██████████| 101/101 [00:01<00:00, 58.62it/s]\n",
      "100%|██████████| 101/101 [00:01<00:00, 56.92it/s]\n",
      "100%|██████████| 101/101 [00:09<00:00, 10.89it/s]\n",
      "100%|██████████| 101/101 [00:10<00:00,  9.95it/s]\n"
     ]
    },
    {
     "data": {
      "text/plain": [
       "<ParameterSet: 8 parameters | qualifiers: sampled_twigs, comments, samples, failed_samples, sampled_uniqueids, times, fluxes, sample_mode>"
      ]
     },
     "execution_count": 20,
     "metadata": {},
     "output_type": "execute_result"
    }
   ],
   "source": [
    "b.run_compute(irrad_method='none')"
   ]
  },
  {
   "cell_type": "code",
   "execution_count": 21,
   "metadata": {},
   "outputs": [
    {
     "data": {
      "image/png": "[encoded data removed]",
      "text/plain": [
       "<Figure size 576x432 with 1 Axes>"
      ]
     },
     "metadata": {
      "needs_background": "light"
     },
     "output_type": "display_data"
    }
   ],
   "source": [
    "_ = b.plot(show=True)"
   ]
  },
  {
   "cell_type": "markdown",
   "metadata": {},
   "source": [
    "Next\n",
    "----------\n",
    "\n",
    "Next up: let's learn about [solving the inverse problem](./solver.ipynb)\n",
    "\n",
    "Or more about these advanced distributions topics:\n",
    "* [Advanced: Distribution Types](./distribution_types.ipynb)\n",
    "* [Advanced: Latex Representation](./latex_repr.ipynb)\n"
   ]
  }
 ],
 "metadata": {
  "kernelspec": {
   "display_name": "Python 3",
   "language": "python",
   "name": "python3"
  },
  "language_info": {
   "codemirror_mode": {
    "name": "ipython",
    "version": 3
   },
   "file_extension": ".py",
   "mimetype": "text/x-python",
   "name": "python",
   "nbconvert_exporter": "python",
   "pygments_lexer": "ipython3",
   "version": "3.8.5"
  }
 },
 "nbformat": 4,
 "nbformat_minor": 1
}
