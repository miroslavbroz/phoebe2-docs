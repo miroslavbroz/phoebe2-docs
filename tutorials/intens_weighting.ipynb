{
 "cells": [
  {
   "cell_type": "markdown",
   "metadata": {},
   "source": [
    "[IPython Notebook](intens_weighting.ipynb) |  [Python Script](intens_weighting.py)"
   ]
  },
  {
   "cell_type": "markdown",
   "metadata": {},
   "source": [
    "Intensity Weighting\n",
    "============================\n",
    "\n",
    "Setup\n",
    "-----------------------------"
   ]
  },
  {
   "cell_type": "markdown",
   "metadata": {
    "collapsed": true
   },
   "source": [
    "As always, let's do imports and initialize a logger and a new Bundle.  See [Building a System](building_a_system.html) for more details."
   ]
  },
  {
   "cell_type": "code",
   "execution_count": 1,
   "metadata": {
    "collapsed": true
   },
   "outputs": [],
   "source": [
    "%matplotlib inline"
   ]
  },
  {
   "cell_type": "code",
   "execution_count": 2,
   "metadata": {
    "collapsed": false
   },
   "outputs": [
    {
     "name": "stderr",
     "output_type": "stream",
     "text": [
      "/usr/local/lib/python2.7/dist-packages/IPython/kernel/__init__.py:13: ShimWarning: The `IPython.kernel` package has been deprecated. You should import from ipykernel or jupyter_client instead.\n",
      "  \"You should import from ipykernel or jupyter_client instead.\", ShimWarning)\n",
      "WARNING: Constant u'Gravitational constant' is already has a definition in the u'si' system [astropy.constants.constant]\n",
      "WARNING:astropy:Constant u'Gravitational constant' is already has a definition in the u'si' system\n",
      "WARNING: Constant u'Solar mass' is already has a definition in the u'si' system [astropy.constants.constant]\n",
      "WARNING:astropy:Constant u'Solar mass' is already has a definition in the u'si' system\n",
      "WARNING: Constant u'Solar radius' is already has a definition in the u'si' system [astropy.constants.constant]\n",
      "WARNING:astropy:Constant u'Solar radius' is already has a definition in the u'si' system\n",
      "WARNING: Constant u'Solar luminosity' is already has a definition in the u'si' system [astropy.constants.constant]\n",
      "WARNING:astropy:Constant u'Solar luminosity' is already has a definition in the u'si' system\n",
      "/usr/local/lib/python2.7/dist-packages/astropy/units/quantity.py:732: FutureWarning: comparison to `None` will result in an elementwise object comparison in the future.\n",
      "  return super(Quantity, self).__eq__(other)\n"
     ]
    }
   ],
   "source": [
    "import phoebe\n",
    "from phoebe import u # units\n",
    "import numpy as np\n",
    "import matplotlib.pyplot as plt\n",
    "\n",
    "logger = phoebe.logger()\n",
    "\n",
    "b = phoebe.default_binary()"
   ]
  },
  {
   "cell_type": "code",
   "execution_count": 3,
   "metadata": {
    "collapsed": false
   },
   "outputs": [
    {
     "data": {
      "text/plain": [
       "<ParameterSet: 15 parameters | contexts: compute, dataset>"
      ]
     },
     "execution_count": 3,
     "metadata": {},
     "output_type": "execute_result"
    }
   ],
   "source": [
    "b.add_dataset('lc', times=np.linspace(0,1,101))"
   ]
  },
  {
   "cell_type": "code",
   "execution_count": 4,
   "metadata": {
    "collapsed": false
   },
   "outputs": [
    {
     "data": {
      "text/plain": [
       "<ParameterSet: 2 parameters | contexts: compute, dataset>"
      ]
     },
     "execution_count": 4,
     "metadata": {},
     "output_type": "execute_result"
    }
   ],
   "source": [
    "b.add_dataset('mesh', times=[0])"
   ]
  },
  {
   "cell_type": "markdown",
   "metadata": {},
   "source": [
    "Relevant Parameters \n",
    "-------------------------------"
   ]
  },
  {
   "cell_type": "code",
   "execution_count": 5,
   "metadata": {
    "collapsed": false
   },
   "outputs": [
    {
     "data": {
      "text/plain": [
       "<Parameter: intens_weighting=energy | keys: description, choices, value, visible_if, copy_for>"
      ]
     },
     "execution_count": 5,
     "metadata": {},
     "output_type": "execute_result"
    }
   ],
   "source": [
    "b['intens_weighting']"
   ]
  },
  {
   "cell_type": "code",
   "execution_count": 6,
   "metadata": {
    "collapsed": false
   },
   "outputs": [
    {
     "name": "stdout",
     "output_type": "stream",
     "text": [
      "Parameter: intens_weighting@lc01@dataset\n",
      "                       Qualifier: intens_weighting\n",
      "                     Description: Whether passband intensities are weighted by energy of photons\n",
      "                           Value: energy\n",
      "                         Choices: energy, photon\n",
      "\n"
     ]
    }
   ],
   "source": [
    "print b['intens_weighting']"
   ]
  },
  {
   "cell_type": "markdown",
   "metadata": {},
   "source": [
    "Influence on Light Curves (fluxes)\n",
    "---------------------------------------------"
   ]
  },
  {
   "cell_type": "code",
   "execution_count": 7,
   "metadata": {
    "collapsed": false
   },
   "outputs": [
    {
     "name": "stderr",
     "output_type": "stream",
     "text": [
      "WARNING:PARAMETERS:'primary' probably has a radiative atm (teff=10000K>8000K), for which gravb_bol=1.00 might be a better approx than gravb_bol=0.32\n",
      "WARNING:PARAMETERS:'primary' probably has a radiative atm (teff=10000K>8000K), for which gravb_bol=1.00 might be a better approx than gravb_bol=0.32\n",
      "WARNING:PARAMETERS:'primary' probably has a radiative atm (teff=10000K>8000K), for which gravb_bol=1.00 might be a better approx than gravb_bol=0.32\n",
      "WARNING:BUNDLE:'primary' probably has a radiative atm (teff=10000K>8000K), for which gravb_bol=1.00 might be a better approx than gravb_bol=0.32\n",
      "WARNING:PARAMETERS:'primary' probably has a radiative atm (teff=10000K>8000K), for which gravb_bol=1.00 might be a better approx than gravb_bol=0.32\n",
      "WARNING:BUNDLE:'primary' probably has a radiative atm (teff=10000K>8000K), for which gravb_bol=1.00 might be a better approx than gravb_bol=0.32\n",
      "WARNING:PARAMETERS:'primary' probably has a radiative atm (teff=12500K>8000K), for which gravb_bol=1.00 might be a better approx than gravb_bol=0.32\n",
      "WARNING:PARAMETERS:'primary' probably has a radiative atm (teff=12500K>8000K), for which gravb_bol=1.00 might be a better approx than gravb_bol=0.32\n",
      "WARNING:PARAMETERS:'primary' probably has a radiative atm (teff=12500K>8000K), for which gravb_bol=1.00 might be a better approx than gravb_bol=0.32\n",
      "WARNING:BUNDLE:'primary' probably has a radiative atm (teff=12500K>8000K), for which gravb_bol=1.00 might be a better approx than gravb_bol=0.32\n",
      "WARNING:PARAMETERS:'primary' probably has a radiative atm (teff=12500K>8000K), for which gravb_bol=1.00 might be a better approx than gravb_bol=0.32\n",
      "WARNING:BUNDLE:'primary' probably has a radiative atm (teff=12500K>8000K), for which gravb_bol=1.00 might be a better approx than gravb_bol=0.32\n",
      "WARNING:PARAMETERS:'primary' probably has a radiative atm (teff=15000K>8000K), for which gravb_bol=1.00 might be a better approx than gravb_bol=0.32\n",
      "WARNING:PARAMETERS:'primary' probably has a radiative atm (teff=15000K>8000K), for which gravb_bol=1.00 might be a better approx than gravb_bol=0.32\n",
      "WARNING:PARAMETERS:'primary' probably has a radiative atm (teff=15000K>8000K), for which gravb_bol=1.00 might be a better approx than gravb_bol=0.32\n",
      "WARNING:BUNDLE:'primary' probably has a radiative atm (teff=15000K>8000K), for which gravb_bol=1.00 might be a better approx than gravb_bol=0.32\n",
      "WARNING:PARAMETERS:'primary' probably has a radiative atm (teff=15000K>8000K), for which gravb_bol=1.00 might be a better approx than gravb_bol=0.32\n",
      "WARNING:BUNDLE:'primary' probably has a radiative atm (teff=15000K>8000K), for which gravb_bol=1.00 might be a better approx than gravb_bol=0.32\n"
     ]
    }
   ],
   "source": [
    "for teff_primary in [5000,7500,10000,12500,15000]:\n",
    "    b['teff@primary'] = teff_primary\n",
    "    b['teff@secondary'] = 0.9 * teff_primary\n",
    "    \n",
    "    for weighting in ['energy', 'photon']:\n",
    "        b['intens_weighting'] = weighting\n",
    "        b.run_compute(irrad_method='none', model='{}_{}'.format(teff_primary, weighting))"
   ]
  },
  {
   "cell_type": "code",
   "execution_count": 8,
   "metadata": {
    "collapsed": false
   },
   "outputs": [
    {
     "data": {
      "image/png": "[encoded data removed]",
      "text/plain": [
       "<matplotlib.figure.Figure at 0x7fd1279fbe10>"
      ]
     },
     "metadata": {},
     "output_type": "display_data"
    }
   ],
   "source": [
    "teff_colormap = {5000: 'm', 7500: 'r', 10000: 'g', 12500: 'c', 15000: 'b'}\n",
    "\n",
    "fig = plt.figure()\n",
    "ax1, ax2 = fig.add_subplot(211), fig.add_subplot(212)\n",
    "\n",
    "for teff, color in teff_colormap.items():\n",
    "    fluxes_energy = b.get_value('fluxes@{}_energy'.format(teff))\n",
    "    fluxes_photon = b.get_value('fluxes@{}_photon'.format(teff))\n",
    "    phases = b.to_phase('times@lc@dataset')\n",
    "    \n",
    "    # alias data from -0.6 to 0.6\n",
    "    fluxes_energy = np.append(fluxes_energy, fluxes_energy[abs(phases) > 0.4])\n",
    "    fluxes_photon = np.append(fluxes_photon, fluxes_photon[abs(phases) > 0.4])\n",
    "    phases = np.append(phases, phases[abs(phases)>0.4]+1.0)\n",
    "    phases[phases > 1.0] = phases[phases > 1.0] - 2.0\n",
    "    \n",
    "    sort = phases.argsort()\n",
    "    phases = phases[sort]\n",
    "    fluxes_energy = fluxes_energy[sort]\n",
    "    fluxes_photon = fluxes_photon[sort]\n",
    "    \n",
    "    ax1.plot(phases, fluxes_energy, color=color)\n",
    "    ax2.plot(phases, fluxes_photon-fluxes_energy, color=color)\n",
    "\n",
    "lbl = ax1.set_xlabel('')\n",
    "lbl = ax1.set_ylabel('flux')\n",
    "lbl = ax2.set_xlabel('phase')\n",
    "lbl = ax2.set_ylabel('flux diff')"
   ]
  },
  {
   "cell_type": "code",
   "execution_count": null,
   "metadata": {
    "collapsed": true
   },
   "outputs": [],
   "source": []
  }
 ],
 "metadata": {
  "kernelspec": {
   "display_name": "Python 2",
   "language": "python",
   "name": "python2"
  },
  "language_info": {
   "codemirror_mode": {
    "name": "ipython",
    "version": 2
   },
   "file_extension": ".py",
   "mimetype": "text/x-python",
   "name": "python",
   "nbconvert_exporter": "python",
   "pygments_lexer": "ipython2",
   "version": "2.7.12+"
  }
 },
 "nbformat": 4,
 "nbformat_minor": 0
}
