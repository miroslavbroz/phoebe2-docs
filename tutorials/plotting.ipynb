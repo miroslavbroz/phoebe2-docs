{
 "cells": [
  {
   "cell_type": "markdown",
   "metadata": {},
   "source": [
    "[IPython Notebook](plotting.ipynb) |  [Python Script](plotting.py)"
   ]
  },
  {
   "cell_type": "markdown",
   "metadata": {},
   "source": [
    "Plotting\n",
    "============================\n",
    "\n",
    "This tutorial explains the high-level interface to plotting provided by the Bundle.  You are of course always welcome to access arrays and plot manually.\n",
    "\n",
    "The default plotting backend in PHOEBE is [matplotlib](http://matplotlib.org), and this tutorial will focus solely on matplotlib plots and will assume some familiarity with matplotlib and its terminology (ie axes, artists, subplots, etc).\n",
    "\n",
    "Setup\n",
    "-----------------------------"
   ]
  },
  {
   "cell_type": "markdown",
   "metadata": {},
   "source": [
    "This first line is only necessary for ipython noteboooks - it allows the plots to be shown on this page instead of in interactive mode"
   ]
  },
  {
   "cell_type": "code",
   "execution_count": null,
   "metadata": {
    "collapsed": true
   },
   "outputs": [],
   "source": [
    "%matplotlib inline"
   ]
  },
  {
   "cell_type": "markdown",
   "metadata": {
    "collapsed": true
   },
   "source": [
    "As always, let's do imports and initialize a logger and a new Bundle.  See [Building a System](building_a_system.html) for more details.\n"
   ]
  },
  {
   "cell_type": "code",
   "execution_count": null,
   "metadata": {
    "collapsed": false
   },
   "outputs": [
    {
     "name": "stderr",
     "output_type": "stream",
     "text": [
      "WARNING: Constant u'Gravitational constant' is already has a definition in the u'si' system [astropy.constants.constant]\n",
      "WARNING: Constant u'Solar mass' is already has a definition in the u'si' system [astropy.constants.constant]\n",
      "WARNING: Constant u'Solar radius' is already has a definition in the u'si' system [astropy.constants.constant]\n",
      "WARNING: Constant u'Solar luminosity' is already has a definition in the u'si' system [astropy.constants.constant]\n",
      "/usr/local/lib/python2.7/dist-packages/astropy/units/quantity.py:782: FutureWarning: comparison to `None` will result in an elementwise object comparison in the future.\n",
      "  return super(Quantity, self).__eq__(other)\n",
      "Fri, 10 Feb 2017 12:48 BUNDLE       INFO    setting 'freq@primary@component'=6.283185 rad / d from 'freq@constraint' constraint\n",
      "Fri, 10 Feb 2017 12:48 BUNDLE       INFO    setting 'irrad_frac_lost_bol@primary@component'=0.4 from 'irrad_frac_lost_bol@constraint' constraint\n",
      "Fri, 10 Feb 2017 12:48 BUNDLE       INFO    setting 'freq@secondary@component'=6.283185 rad / d from 'freq@secondary@constraint' constraint\n",
      "Fri, 10 Feb 2017 12:48 BUNDLE       INFO    setting 'irrad_frac_lost_bol@secondary@component'=0.4 from 'irrad_frac_lost_bol@secondary@constraint' constraint\n",
      "Fri, 10 Feb 2017 12:48 PARAMETERS   INFO    creating and attaching new parameter: asini\n",
      "Fri, 10 Feb 2017 12:48 BUNDLE       INFO    setting 'asini@binary@component'=5.3 solRad from 'asini@constraint' constraint\n",
      "Fri, 10 Feb 2017 12:48 BUNDLE       INFO    setting 't0_perpass@binary@component'=-0.25 d from 't0_perpass@constraint' constraint\n"
     ]
    }
   ],
   "source": [
    "import phoebe\n",
    "from phoebe import u # units\n",
    "import numpy as np\n",
    "import matplotlib.pyplot as plt\n",
    "\n",
    "logger = phoebe.logger(clevel='INFO')\n",
    "\n",
    "b = phoebe.default_binary()\n",
    "b['q'] = 0.8\n",
    "b['ecc'] = 0.1\n",
    "b['irrad_method'] = 'none'"
   ]
  },
  {
   "cell_type": "markdown",
   "metadata": {},
   "source": [
    "And we'll attach some dummy datasets.  See [Datasets](datasets) for more details."
   ]
  },
  {
   "cell_type": "code",
   "execution_count": null,
   "metadata": {
    "collapsed": false
   },
   "outputs": [],
   "source": [
    "b.add_dataset('orb', times=np.linspace(0,40,1000), dataset='orb01', component=['primary', 'secondary'])\n",
    "\n",
    "times, fluxes, sigmas = np.loadtxt('test.lc.in', unpack=True)\n",
    "times = times [::10]\n",
    "fluxes = fluxes [::10]\n",
    "sigmas = sigmas[::10]\n",
    "\n",
    "b.add_dataset('lc', times=times, fluxes=fluxes, sigmas=sigmas, dataset='lc01')"
   ]
  },
  {
   "cell_type": "markdown",
   "metadata": {},
   "source": [
    "And run the forward models.  See [Computing Observables](compute.html) for more details."
   ]
  },
  {
   "cell_type": "code",
   "execution_count": null,
   "metadata": {
    "collapsed": false
   },
   "outputs": [],
   "source": [
    "b.set_value('incl@orbit', 90)\n",
    "b.run_compute(model='run_with_incl_90') \n",
    "\n",
    "b.set_value('incl@orbit', 85)\n",
    "b.run_compute(model='run_with_incl_85')\n",
    "\n",
    "b.set_value('incl@orbit', 80)\n",
    "b.run_compute(model='run_with_incl_80')"
   ]
  },
  {
   "cell_type": "markdown",
   "metadata": {},
   "source": [
    "Showing and Saving\n",
    "-----------------------\n",
    "\n",
    "**NOTE:** in IPython notebooks calling plot will display directly below the call to plot.  When not in IPython you have several options for viewing the figure:\n",
    "\n",
    "- call plt.show() after calling plot\n",
    "- use the returned axes and artist objects however you'd like\n",
    "- pass show=True to the plot method (same as calling plt.show())\n",
    "- pass save='myfilename.png' to the plot method (same as calling plt.savefig('myfilename.png'))"
   ]
  },
  {
   "cell_type": "markdown",
   "metadata": {},
   "source": [
    "Default Plots\n",
    "-----------------\n",
    "\n",
    "To see the options for plotting that are dataset-dependent see the tutorials on that dataset method:\n",
    "\n",
    "- [ORB dataset](ORB)\n",
    "- [MESH dataset](MESH)\n",
    "- [LC dataset](LC)\n",
    "- [RV dataset](RV)\n",
    "\n",
    "By calling the plot method on the bundle (or any ParameterSet) without any arguments, a plot or series of subplots will be built based on the contents of that ParameterSet."
   ]
  },
  {
   "cell_type": "code",
   "execution_count": null,
   "metadata": {
    "collapsed": false
   },
   "outputs": [],
   "source": [
    "axs, artists = b.plot()"
   ]
  },
  {
   "cell_type": "markdown",
   "metadata": {},
   "source": [
    "Any call to plot returns 2 lists - a list of the axes and a list of the artists that were drawn on those axes.  Generally we won't need to do anything with these, but having them returned could come in handy if you want to manually edit those axes or artists before saving the image."
   ]
  },
  {
   "cell_type": "markdown",
   "metadata": {},
   "source": [
    "In this example with so many different models and datasets, it is quite simple to build a single plot by filtering the bundle and calling the plot method on the resulting ParameterSet."
   ]
  },
  {
   "cell_type": "code",
   "execution_count": null,
   "metadata": {
    "collapsed": false
   },
   "outputs": [],
   "source": [
    "axs, artists = b['orb@run_with_incl_80'].plot()"
   ]
  },
  {
   "cell_type": "markdown",
   "metadata": {},
   "source": [
    "Time (highlight and uncover)\n",
    "----------------------------------------------\n",
    "\n",
    "The built-in plot method also provides convenience options to either highlight the interpolated point for a given time, or only show the dataset up to a given time.\n",
    "\n",
    "### Highlight\n",
    "\n",
    "The higlight option is enabled by default so long as a time (or times) is passed to plot.  It simply adds an extra marker at the sent time - interpolating in the synthetic model if necessary."
   ]
  },
  {
   "cell_type": "code",
   "execution_count": null,
   "metadata": {
    "collapsed": false
   },
   "outputs": [],
   "source": [
    "axs, artists = b['orb@run_with_incl_80'].plot(time=1.0)"
   ]
  },
  {
   "cell_type": "markdown",
   "metadata": {},
   "source": [
    "To change the style of the \"highlighted\" points, you can pass matplotlib recognized [markers](http://matplotlib.org/api/markers_api.html), [colors](http://matplotlib.org/api/colors_api.html), and markersizes to the highlight_marker, highlight_color, and highlight_ms keywords, respectively."
   ]
  },
  {
   "cell_type": "code",
   "execution_count": null,
   "metadata": {
    "collapsed": false
   },
   "outputs": [],
   "source": [
    "axs, artists = b['orb@run_with_incl_80'].plot(time=1.0, highlight_marker='s', highlight_color='g', highlight_ms=20)"
   ]
  },
  {
   "cell_type": "markdown",
   "metadata": {},
   "source": [
    "To disable highlighting, simply send highlight=False"
   ]
  },
  {
   "cell_type": "code",
   "execution_count": null,
   "metadata": {
    "collapsed": false
   },
   "outputs": [],
   "source": [
    "axs, artists = b['orb@run_with_incl_80'].plot(time=1.0, highlight=False)"
   ]
  },
  {
   "cell_type": "markdown",
   "metadata": {},
   "source": [
    "### Uncover\n",
    "\n",
    "Uncover shows the observations or synthetic model up to the provided time and is disabled by default, even when a time is provided, but is enabled simply by providing uncover=True.  There are no additional options available for uncover.\n",
    "\n"
   ]
  },
  {
   "cell_type": "code",
   "execution_count": null,
   "metadata": {
    "collapsed": false
   },
   "outputs": [],
   "source": [
    "axs, artists = b['orb@run_with_incl_80'].plot(time=1.0, uncover=True)"
   ]
  },
  {
   "cell_type": "markdown",
   "metadata": {},
   "source": [
    "Selecting Datasets\n",
    "-------------------------\n",
    "\n",
    "In addition to filtering and calling plot on the resulting ParameterSet, plot can accept a twig or filter on any of the available parameter tags.\n",
    "\n",
    "For this reason, any of the following give identical results:"
   ]
  },
  {
   "cell_type": "code",
   "execution_count": null,
   "metadata": {
    "collapsed": false
   },
   "outputs": [],
   "source": [
    "axs, artists = b['primary@orb@run_with_incl_80'].plot()"
   ]
  },
  {
   "cell_type": "code",
   "execution_count": null,
   "metadata": {
    "collapsed": false
   },
   "outputs": [],
   "source": [
    "axs, artists = b.plot(component='primary', kind='orb', model='run_with_incl_80')"
   ]
  },
  {
   "cell_type": "code",
   "execution_count": null,
   "metadata": {
    "collapsed": false
   },
   "outputs": [],
   "source": [
    "axs, artists = b.plot('primary@orb@run_with_incl_80')"
   ]
  },
  {
   "cell_type": "markdown",
   "metadata": {},
   "source": [
    "An advantage to this last approach (providing a twig as a positional argument to the plot method) is that it can accept multiple positional arguments to plot from multiple datasets in a single call.\n",
    "\n",
    "When these have the same dataset method, they will automatically be drawn to the same axes (by default)."
   ]
  },
  {
   "cell_type": "code",
   "execution_count": null,
   "metadata": {
    "collapsed": false
   },
   "outputs": [],
   "source": [
    "axs, artists = b.plot('primary@orb@run_with_incl_80', 'secondary@orb@run_with_incl_80')"
   ]
  },
  {
   "cell_type": "markdown",
   "metadata": {},
   "source": [
    "If the datasets have multiple dataset kinds, subplots will automatically be created."
   ]
  },
  {
   "cell_type": "code",
   "execution_count": null,
   "metadata": {
    "collapsed": false
   },
   "outputs": [],
   "source": [
    "axs, artists = b['run_with_incl_80'].plot('primary@orb', 'lc01')"
   ]
  },
  {
   "cell_type": "markdown",
   "metadata": {},
   "source": [
    "Later we'll see how to customize the layout of these subplots in the figure and how to pass other plotting options."
   ]
  },
  {
   "cell_type": "markdown",
   "metadata": {},
   "source": [
    "Selecting Arrays\n",
    "--------------------\n",
    "\n",
    "So far, each plotting call automatically chose default arrays from that dataset to plot along each axis.  To override these defaults, simply point to the qualifier of the array that you'd like plotted along a given axis."
   ]
  },
  {
   "cell_type": "code",
   "execution_count": null,
   "metadata": {
    "collapsed": false
   },
   "outputs": [],
   "source": [
    "axs, artists = b['orb01@primary@run_with_incl_80'].plot(x='times', y='vxs')"
   ]
  },
  {
   "cell_type": "markdown",
   "metadata": {},
   "source": [
    "To see the list of available qualifiers that could be passed for x or y, call the qualifiers (or twigs) property on the ParameterSet."
   ]
  },
  {
   "cell_type": "code",
   "execution_count": null,
   "metadata": {
    "collapsed": false
   },
   "outputs": [],
   "source": [
    "b['orb01@primary@run_with_incl_80'].qualifiers"
   ]
  },
  {
   "cell_type": "markdown",
   "metadata": {},
   "source": [
    "For more information on each of the available arrays, see the relevant tutorial on that dataset method:\n",
    "\n",
    "- [orb dataset](ORB)\n",
    "- [mesh dataset](MESH)\n",
    "- [lc dataset](LC)\n",
    "- [rv dataset](RV)"
   ]
  },
  {
   "cell_type": "markdown",
   "metadata": {},
   "source": [
    "### Selecting Phase\n",
    "\n",
    "And to plot in phase we just send x='phases' or x='phases:binary'.\n",
    "\n",
    "Setting x='phases' will use the ephemeris from the top-level of the hierarchy\n",
    "(as if you called b.get_ephemeris()), whereas passing a string after the colon, \n",
    "will use the ephemeris of that component."
   ]
  },
  {
   "cell_type": "code",
   "execution_count": null,
   "metadata": {
    "collapsed": false
   },
   "outputs": [],
   "source": [
    "axs, artists = b['lc01@dataset'].plot(x='phases', yerrors=None)"
   ]
  },
  {
   "cell_type": "markdown",
   "metadata": {},
   "source": [
    "Units\n",
    "---------------------\n",
    "\n",
    "Likewise, each array that is plotted is automatically plotted in its default units. To override these defaults, simply provide the unit (as a string or as a astropy units object) for a given axis."
   ]
  },
  {
   "cell_type": "code",
   "execution_count": null,
   "metadata": {
    "collapsed": false
   },
   "outputs": [],
   "source": [
    "axs, artists = b['orb01@primary@run_with_incl_80'].plot(xunit='AU', yunit='AU')"
   ]
  },
  {
   "cell_type": "markdown",
   "metadata": {},
   "source": [
    "**WARNING**: when plotting two arrays with the same dimensions, PHOEBE attempts to set the aspect ratio to equal, but overriding to use two different units will result in undesired results.  This may be fixed in the future, but for now can be avoided by using consistent units for the x and y axes when they have the same dimensions."
   ]
  },
  {
   "cell_type": "markdown",
   "metadata": {},
   "source": [
    "Axes Labels\n",
    "--------------------\n",
    "\n",
    "Axes labels are automatically generated from the qualifier of the array and the plotted units.  To override these defaults, simply pass a string for the label of a given axis."
   ]
  },
  {
   "cell_type": "code",
   "execution_count": null,
   "metadata": {
    "collapsed": false
   },
   "outputs": [],
   "source": [
    "axs, artists = b['orb01@primary@run_with_incl_80'].plot(xlabel='X POS', ylabel='Z POS')"
   ]
  },
  {
   "cell_type": "markdown",
   "metadata": {},
   "source": [
    "Axes Limits\n",
    "----------------------\n",
    "\n",
    "Axes limits are determined by the data automatically.  To set custom axes limits, either use matplotlib methods on the returned axes objects, or pass limits as a list or tuple."
   ]
  },
  {
   "cell_type": "code",
   "execution_count": null,
   "metadata": {
    "collapsed": false
   },
   "outputs": [],
   "source": [
    "axs, artists = b['orb01@primary@run_with_incl_80'].plot(xlim=(-2,2))"
   ]
  },
  {
   "cell_type": "markdown",
   "metadata": {},
   "source": [
    "Errorbars\n",
    "------------\n",
    "\n",
    "In the cases of observational data and synthetics, errorbars will automatically \n",
    "be added."
   ]
  },
  {
   "cell_type": "code",
   "execution_count": null,
   "metadata": {
    "collapsed": false
   },
   "outputs": [],
   "source": [
    "axs, artists = b['lc01@dataset'].plot()"
   ]
  },
  {
   "cell_type": "markdown",
   "metadata": {},
   "source": [
    "To disable the errorbars, simply set yerrors=None."
   ]
  },
  {
   "cell_type": "code",
   "execution_count": null,
   "metadata": {
    "collapsed": false
   },
   "outputs": [],
   "source": [
    "axs, artists = b['lc01@dataset'].plot(yerrors=None)"
   ]
  },
  {
   "cell_type": "markdown",
   "metadata": {},
   "source": [
    "Colors\n",
    "----------------------\n",
    "\n",
    "Colors of points and lines, by default, cycle according to matplotlib's color policy.  To manually set the color, simply pass a matplotlib recognized [color](http://matplotlib.org/api/colors_api.html) to the color keyword."
   ]
  },
  {
   "cell_type": "code",
   "execution_count": null,
   "metadata": {
    "collapsed": false
   },
   "outputs": [],
   "source": [
    "axs, artists = b['orb01@primary@run_with_incl_80'].plot(color='r')"
   ]
  },
  {
   "cell_type": "markdown",
   "metadata": {},
   "source": [
    "In addition, you can point to an array in the dataset to use as color."
   ]
  },
  {
   "cell_type": "code",
   "execution_count": null,
   "metadata": {
    "collapsed": false
   },
   "outputs": [],
   "source": [
    "axs, artists = b['orb01@primary@run_with_incl_80'].plot(time=1.0, x='times', color='vzs')"
   ]
  },
  {
   "cell_type": "markdown",
   "metadata": {},
   "source": [
    "Choosing colors works slightly differently for meshes (ie you can set facecolor and edgecolor and facecmap and edgecmap).  For more details, see the tutorial on the [MESH dataset](MESH)."
   ]
  },
  {
   "cell_type": "markdown",
   "metadata": {},
   "source": [
    "### Colormaps\n",
    "\n",
    "The colormaps is determined automatically based on the parameter used for coloring (ie RVs will be a red-blue colormap).  To override this, pass a matplotlib recognized [colormap](http://matplotlib.org/api/pyplot_summary.html#matplotlib.pyplot.colormaps) to the cmap keyword."
   ]
  },
  {
   "cell_type": "code",
   "execution_count": null,
   "metadata": {
    "collapsed": false
   },
   "outputs": [],
   "source": [
    "axs, artists = b['orb01@primary@run_with_incl_80'].plot(time=1.0, x='times', color='vzs', cmap='spring')"
   ]
  },
  {
   "cell_type": "markdown",
   "metadata": {},
   "source": [
    "Labels and Legends\n",
    "-----------------------\n",
    "\n",
    "To add a legend, simply call plt.legend (for the current axes) or ax.legend on one of the returned axes.\n",
    "\n",
    "For details on placement and formatting of the legend see [matplotlib's documentation](http://matplotlib.org/users/legend_guide.html#plotting-guide-legend)."
   ]
  },
  {
   "cell_type": "code",
   "execution_count": null,
   "metadata": {
    "collapsed": false
   },
   "outputs": [],
   "source": [
    "axs, artists = b['orb@run_with_incl_80'].plot()\n",
    "legend = plt.legend()"
   ]
  },
  {
   "cell_type": "markdown",
   "metadata": {},
   "source": [
    "The legend labels are generated automatically, but can be overriden by passing a string to the label keyword."
   ]
  },
  {
   "cell_type": "code",
   "execution_count": null,
   "metadata": {
    "collapsed": false
   },
   "outputs": [],
   "source": [
    "axs, artists = b['primary@orb@run_with_incl_80'].plot(label='primary')\n",
    "axs, artists = b['secondary@orb@run_with_incl_80'].plot(label='secondary')\n",
    "legend = axs[0].legend()"
   ]
  },
  {
   "cell_type": "markdown",
   "metadata": {},
   "source": [
    "Other Plotting Options\n",
    "----------------------\n",
    "\n",
    "Valid plotting options that are directly passed to matplotlib include:\n",
    "- linestyle\n",
    "- linewidth\n",
    "- marker\n",
    "- markersize\n",
    "- color (see section above on Providing Colors)"
   ]
  },
  {
   "cell_type": "code",
   "execution_count": null,
   "metadata": {
    "collapsed": false
   },
   "outputs": [],
   "source": [
    "axs, artists = b['orb01@primary@run_with_incl_80'].plot(linestyle=':', linewidth=4)"
   ]
  },
  {
   "cell_type": "markdown",
   "metadata": {},
   "source": [
    "Custom Subplots\n",
    "-------------------\n",
    "\n",
    "The plot method can both optionally take and return a matplotlib axes object.\n",
    "This makes it quite easy to quickly build a figure with multiple subplots.\n",
    "\n",
    "Below we'll mix a bunch of different ways to call plotting , and mix in highlighting\n",
    "and uncovering.  The only real difference here from before is that we pass a \n",
    "single matplotlib axes to the plot call - that is the axes on which all lines \n",
    "will be drawn during that call, even if it loops and creates multiple lines.  \n",
    "The actual axes instance is returned, and we want to create the legend on that \n",
    "axes."
   ]
  },
  {
   "cell_type": "code",
   "execution_count": null,
   "metadata": {
    "collapsed": false
   },
   "outputs": [],
   "source": [
    "fig = plt.figure(figsize=(14,10))\n",
    "ax = [fig.add_subplot(2,2,i+1) for i in range(4)]\n",
    "\n",
    "axs, artists = b.plot('orb01@primary', y='ys', ax=ax[0])\n",
    "ax[0].legend()\n",
    "\n",
    "axs, artists = b['orb01@run_with_incl_80'].plot(y='ys', linestyle='--', time=5, uncover=True, ax=ax[1])\n",
    "ax[1].legend()\n",
    "\n",
    "axs, artists = b.plot(dataset='orb01', y='ys', ax=ax[2])\n",
    "ax[2].legend()\n",
    "\n",
    "axs, artists = b.plot(dataset='orb01', model='run_with_incl_80', x='times', y='vys', time=5, uncover=True, ax=ax[3])\n",
    "ax[3].legend()"
   ]
  },
  {
   "cell_type": "markdown",
   "metadata": {},
   "source": [
    "Alternatively, this can be done in a single call to plot by passing dictionaries as positional arguments.  Each dictionary, in essence, is passed on to its own plot call.\n",
    "\n"
   ]
  },
  {
   "cell_type": "code",
   "execution_count": null,
   "metadata": {
    "collapsed": false,
    "scrolled": true
   },
   "outputs": [],
   "source": [
    "fig = plt.figure(figsize=(14,10))\n",
    "ax = [fig.add_subplot(2,2,i+1) for i in range(4)]\n",
    "\n",
    "plot1 = {'twig': 'orb01@primary', 'y': 'ys', 'ax':ax[0]}\n",
    "plot2 = {'twig': 'orb01@run_with_incl_80', 'y': 'ys', 'linestyle': '--', 'time': 5, 'uncover': True, 'ax':ax[1]}\n",
    "plot3 = {'twig': 'orb01', 'y': 'ys', 'ax': ax[2]}\n",
    "plot4 = {'dataset': 'orb01', 'model': 'run_with_incl_80', 'x': 'times', 'y': 'vys', 'time': 5, 'uncover': True, 'ax': ax[3]}\n",
    "\n",
    "axs, artists = b.plot(plot1, plot2, plot3, plot4)\n",
    "for axi in ax:\n",
    "    axi.legend()"
   ]
  },
  {
   "cell_type": "markdown",
   "metadata": {},
   "source": [
    "Note that now when passing additional arguments, those will apply as defaults to **EACH** of the dictionaries, but will not override any values explicitly provided in the dictionaries."
   ]
  },
  {
   "cell_type": "code",
   "execution_count": null,
   "metadata": {
    "collapsed": false
   },
   "outputs": [],
   "source": [
    "fig = plt.figure(figsize=(14,10))\n",
    "ax = [fig.add_subplot(2,2,i+1) for i in range(4)]\n",
    "\n",
    "plot1 = {'twig': 'orb01@primary', 'y': 'ys', 'ax':ax[0]}\n",
    "plot2 = {'twig': 'orb01@run_with_incl_80', 'y': 'ys', 'linestyle': '--', 'time': 5, 'uncover': True, 'ax':ax[1]}\n",
    "plot3 = {'twig': 'orb01', 'y': 'ys', 'ax': ax[2]}\n",
    "plot4 = {'dataset': 'orb01', 'model': 'run_with_incl_80', 'x': 'times', 'y': 'vys', 'time': 5, 'uncover': True, 'ax': ax[3]}\n",
    "\n",
    "axs, artists = b.plot(plot1, plot2, plot3, plot4, x='xs', y='zs', color='r')\n",
    "for axi in ax:\n",
    "    axi.legend()"
   ]
  },
  {
   "cell_type": "markdown",
   "metadata": {},
   "source": [
    "3D Axes\n",
    "-------------\n",
    "\n",
    "To plot a in 3d, simply provide a 3D axes (or have it as your current axes available through plt.gca())\n",
    "\n",
    "Here many of the same principles apply as above - you can change the array by pointing to a parameter for z, set zlim, zunit, zlabel, etc."
   ]
  },
  {
   "cell_type": "code",
   "execution_count": null,
   "metadata": {
    "collapsed": false
   },
   "outputs": [],
   "source": [
    "figure = plt.figure()\n",
    "ax = figure.add_subplot(111, projection='3d')\n",
    "\n",
    "axes, artists = b['orb@run_with_incl_80'].plot(time=0, facecolor='teffs', edgecolor=None, ax=ax)"
   ]
  }
 ],
 "metadata": {
  "kernelspec": {
   "display_name": "Python 2",
   "language": "python",
   "name": "python2"
  },
  "language_info": {
   "codemirror_mode": {
    "name": "ipython",
    "version": 2
   },
   "file_extension": ".py",
   "mimetype": "text/x-python",
   "name": "python",
   "nbconvert_exporter": "python",
   "pygments_lexer": "ipython2",
   "version": "2.7.12"
  }
 },
 "nbformat": 4,
 "nbformat_minor": 0
}
