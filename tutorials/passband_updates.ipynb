{
 "cells": [
  {
   "cell_type": "markdown",
   "metadata": {},
   "source": [
    "Advanced: passband versioning & updates\n",
    "=============================="
   ]
  },
  {
   "cell_type": "markdown",
   "metadata": {},
   "source": [
    "As of the 2.2 release, PHOEBE allows you to check for online updates to local install passbands.  If we add a new atmosphere table or feature (extinction as in this release, for example) to a passband table, you can now update directly from the python interface of PHOEBE.\n",
    "\n",
    "If you try using extinction in a version of a table that does not support extinction, an error will be raised (either during [run_compute](../api/phoebe.frontend.bundle.Bundle.run_compute.md) or you can check by calling [run_checks](../api/phoebe.frontend.bundle.Bundle.run_checks.md) manually) with instructions on how to update the passband.\n",
    "\n",
    "If you'd like to manually check for updates, you can use [phoebe.list_all_update_passbands_available](../api/list_all_update_passbands_available.md) or [phoebe.update_passband_available](../api/update_passband_available.md)."
   ]
  },
  {
   "cell_type": "code",
   "execution_count": 1,
   "metadata": {},
   "outputs": [
    {
     "name": "stdout",
     "output_type": "stream",
     "text": [
      "['Johnson:V', 'Kepler:mean']\n"
     ]
    }
   ],
   "source": [
    "import phoebe\n",
    "\n",
    "print(phoebe.list_installed_passbands())"
   ]
  },
  {
   "cell_type": "code",
   "execution_count": 2,
   "metadata": {},
   "outputs": [
    {
     "name": "stdout",
     "output_type": "stream",
     "text": [
      "[]\n"
     ]
    }
   ],
   "source": [
    "print(phoebe.list_all_update_passbands_available())"
   ]
  },
  {
   "cell_type": "code",
   "execution_count": 3,
   "metadata": {},
   "outputs": [
    {
     "name": "stdout",
     "output_type": "stream",
     "text": [
      "False\n"
     ]
    }
   ],
   "source": [
    "print(phoebe.update_passband_available('Johnson:V'))"
   ]
  },
  {
   "cell_type": "markdown",
   "metadata": {},
   "source": [
    "If there are updates available that you'd like to apply, you can apply them all via [phoebe.update_all_passbands](../api/update_all_passbands.md)"
   ]
  },
  {
   "cell_type": "code",
   "execution_count": 4,
   "metadata": {},
   "outputs": [],
   "source": [
    "phoebe.update_all_passbands()"
   ]
  },
  {
   "cell_type": "markdown",
   "metadata": {},
   "source": [
    "To update a single passband to the latest online version, call [phoebe.download_passband](../api/phoebe.download_passband.md)"
   ]
  },
  {
   "cell_type": "code",
   "execution_count": 5,
   "metadata": {},
   "outputs": [],
   "source": [
    "phoebe.download_passband('Johnson:V')"
   ]
  },
  {
   "cell_type": "code",
   "execution_count": null,
   "metadata": {},
   "outputs": [],
   "source": []
  }
 ],
 "metadata": {
  "kernelspec": {
   "display_name": "Python 2",
   "language": "python",
   "name": "python2"
  },
  "language_info": {
   "codemirror_mode": {
    "name": "ipython",
    "version": 2
   },
   "file_extension": ".py",
   "mimetype": "text/x-python",
   "name": "python",
   "nbconvert_exporter": "python",
   "pygments_lexer": "ipython2",
   "version": "2.7.15rc1"
  }
 },
 "nbformat": 4,
 "nbformat_minor": 2
}
