{
 "cells": [
  {
   "cell_type": "markdown",
   "metadata": {},
   "source": [
    "Critical Radii: Contact Systems\n",
    "============================\n",
    "\n",
    "Setup\n",
    "-----------------------------"
   ]
  },
  {
   "cell_type": "markdown",
   "metadata": {},
   "source": [
    "Let's first make sure we have the latest version of PHOEBE 2.1 installed. (You can comment out this line if you don't use pip for your installation or don't want to update to the latest release)."
   ]
  },
  {
   "cell_type": "code",
   "execution_count": null,
   "metadata": {},
   "outputs": [],
   "source": [
    "!pip install -I \"phoebe>=2.1,<2.2\""
   ]
  },
  {
   "cell_type": "markdown",
   "metadata": {
    "collapsed": true
   },
   "source": [
    "As always, let's do imports and initialize a logger and a new Bundle.  See [Building a System](building_a_system.html) for more details."
   ]
  },
  {
   "cell_type": "code",
   "execution_count": 1,
   "metadata": {},
   "outputs": [],
   "source": [
    "%matplotlib inline"
   ]
  },
  {
   "cell_type": "code",
   "execution_count": 2,
   "metadata": {},
   "outputs": [],
   "source": [
    "import phoebe\n",
    "from phoebe import u # units\n",
    "import numpy as np\n",
    "import matplotlib.pyplot as plt\n",
    "\n",
    "logger = phoebe.logger()\n",
    "\n",
    "b = phoebe.default_binary(contact_binary=True)"
   ]
  },
  {
   "cell_type": "markdown",
   "metadata": {},
   "source": [
    "Contact Systems\n",
    "-----------------------------\n",
    "\n",
    "Contact systems are created by passing `contact_binary=True` to [phoebe.default_binary()](../api/phoebe.frontend.bundle.Bundle.default_binary.md) or by manually adding an envelope and setting the hierarchy correctly.\n",
    "\n",
    "By default, requiv@primary is the free Parameter, with requiv@secondary, pot@contact_envelope, and fillout_factor@contact_envelope constrained such that there is one single surface defining the envelope."
   ]
  },
  {
   "cell_type": "code",
   "execution_count": 3,
   "metadata": {},
   "outputs": [
    {
     "name": "stdout",
     "output_type": "stream",
     "text": [
      "ParameterSet: 7 parameters\n",
      "        requiv@primary@component: 1.5 solRad\n",
      "*     requiv@secondary@component: 1.5 solRad\n",
      "* fillout_factor@contact_enve...: 0.641789708077\n",
      "* pot@contact_envelope@component: 3.40137740723\n",
      "  pot@contact_envelope@constr...: requiv_to_pot_contact({requiv@primary@component}, {q@binary@component}, {sma@binary@component}, 1)\n",
      "     requiv@secondary@constraint: pot_to_requiv_contact({pot@contact_envelope@component}, {q@binary@component}, {sma@binary@component}, 2)\n",
      "  fillout_factor@contact_enve...: pot_to_fillout_factor({q@binary@component}, {pot@contact_envelope@component})\n"
     ]
    }
   ],
   "source": [
    "print b.filter(qualifier=['requiv', 'pot', 'fillout_factor'])"
   ]
  },
  {
   "cell_type": "markdown",
   "metadata": {},
   "source": [
    "In order to pass the system checks, these values must be between their minimum and maximum value ensuring the system is not underflowing (in which case it should be detached or semi-detached) or overflowing and losing mass.\n",
    "\n",
    "These limiting values are constrained parameters, allowing us to allows see the allowed range for any parameterization."
   ]
  },
  {
   "cell_type": "code",
   "execution_count": 4,
   "metadata": {},
   "outputs": [
    {
     "name": "stdout",
     "output_type": "stream",
     "text": [
      "ParameterSet: 12 parameters\n",
      "*   requiv_max@primary@component: 1.67245639728 solRad\n",
      "*   requiv_min@primary@component: 1.27254185687 solRad\n",
      "* requiv_max@secondary@component: 1.67245639728 solRad\n",
      "* requiv_min@secondary@component: 1.27254185687 solRad\n",
      "* pot_min@contact_envelope@co...: 3.20679622409\n",
      "* pot_max@contact_envelope@co...: 3.75\n",
      "  pot_min@contact_envelope@co...: potential_contact_L23({q@binary@component})\n",
      "  pot_max@contact_envelope@co...: potential_contact_L1({q@binary@component})\n",
      "   requiv_max@primary@constraint: requiv_contact_L23({q@binary@component}, {sma@binary@component}, 1)\n",
      "   requiv_min@primary@constraint: requiv_contact_L1({q@binary@component}, {sma@binary@component}, 1)\n",
      "  requiv_max@secondary@constr...: requiv_contact_L23({q@binary@component}, {sma@binary@component}, 2)\n",
      "  requiv_min@secondary@constr...: requiv_contact_L1({q@binary@component}, {sma@binary@component}, 2)\n"
     ]
    }
   ],
   "source": [
    "print b.filter(qualifier=['requiv_max', 'requiv_min', 'pot_max', 'pot_min'])"
   ]
  },
  {
   "cell_type": "markdown",
   "metadata": {},
   "source": [
    "Changing Parameterization\n",
    "-------------------------------\n",
    "\n",
    "It is possible to change this parameterization to allow any one of the four parameters (requiv@primary, requiv@secondary, pot@contact_envelope, fillout_factor@contact_envelope) to be adjustable and the other two to be constrained.  Doing so requires flipping one or two constraints via [b.flip_constraint()](../api/phoebe.frontend.bundle.Bundle.flip_constraint.md).\n",
    "\n",
    "Let's first flip the  constraints so that we can provide the **potential of the envelope**."
   ]
  },
  {
   "cell_type": "code",
   "execution_count": 5,
   "metadata": {},
   "outputs": [
    {
     "data": {
      "text/plain": [
       "<ConstraintParameter: {requiv@primary@component} = pot_to_requiv_contact({pot@contact_envelope@component}, {q@binary@component}, {sma@binary@component}, 1) (solar units) => 1.5 solRad>"
      ]
     },
     "execution_count": 5,
     "metadata": {},
     "output_type": "execute_result"
    }
   ],
   "source": [
    "b.flip_constraint('pot', solve_for='requiv@primary')"
   ]
  },
  {
   "cell_type": "code",
   "execution_count": 6,
   "metadata": {},
   "outputs": [
    {
     "name": "stdout",
     "output_type": "stream",
     "text": [
      "ParameterSet: 7 parameters\n",
      "*       requiv@primary@component: 1.5 solRad\n",
      "*     requiv@secondary@component: 1.5 solRad\n",
      "* fillout_factor@contact_enve...: 0.641789708077\n",
      "  pot@contact_envelope@component: 3.40137740723\n",
      "       requiv@primary@constraint: pot_to_requiv_contact({pot@contact_envelope@component}, {q@binary@component}, {sma@binary@component}, 1)\n",
      "     requiv@secondary@constraint: pot_to_requiv_contact({pot@contact_envelope@component}, {q@binary@component}, {sma@binary@component}, 2)\n",
      "  fillout_factor@contact_enve...: pot_to_fillout_factor({q@binary@component}, {pot@contact_envelope@component})\n"
     ]
    }
   ],
   "source": [
    "print b.filter(qualifier=['requiv', 'pot', 'fillout_factor'])"
   ]
  },
  {
   "cell_type": "markdown",
   "metadata": {},
   "source": [
    "Or we could instead flip two constraints to have **fillout factor of the envelope** as the adjustable parameter (we'll start with a fresh bundle just to avoid confusion with the flipping we just did):"
   ]
  },
  {
   "cell_type": "code",
   "execution_count": 7,
   "metadata": {},
   "outputs": [
    {
     "data": {
      "text/plain": [
       "<ConstraintParameter: {pot@contact_envelope@component} = fillout_factor_to_pot({q@binary@component}, {fillout_factor@contact_envelope@component}) (solar units) => 3.40137740723>"
      ]
     },
     "execution_count": 7,
     "metadata": {},
     "output_type": "execute_result"
    }
   ],
   "source": [
    "b = phoebe.default_binary(contact_binary=True)\n",
    "b.flip_constraint('pot', solve_for='requiv@primary')\n",
    "b.flip_constraint('fillout_factor', solve_for='pot')"
   ]
  },
  {
   "cell_type": "code",
   "execution_count": 8,
   "metadata": {},
   "outputs": [
    {
     "name": "stdout",
     "output_type": "stream",
     "text": [
      "ParameterSet: 7 parameters\n",
      "*       requiv@primary@component: 1.5 solRad\n",
      "*     requiv@secondary@component: 1.5 solRad\n",
      "  fillout_factor@contact_enve...: 0.641789708077\n",
      "* pot@contact_envelope@component: 3.40137740723\n",
      "       requiv@primary@constraint: pot_to_requiv_contact({pot@contact_envelope@component}, {q@binary@component}, {sma@binary@component}, 1)\n",
      "     requiv@secondary@constraint: pot_to_requiv_contact({pot@contact_envelope@component}, {q@binary@component}, {sma@binary@component}, 2)\n",
      "  pot@contact_envelope@constr...: fillout_factor_to_pot({q@binary@component}, {fillout_factor@contact_envelope@component})\n"
     ]
    }
   ],
   "source": [
    "print b.filter(qualifier=['requiv', 'pot', 'fillout_factor'])"
   ]
  },
  {
   "cell_type": "markdown",
   "metadata": {},
   "source": [
    "Or instead we could allow providing the **equivalent radius of the secondary star**."
   ]
  },
  {
   "cell_type": "code",
   "execution_count": 9,
   "metadata": {},
   "outputs": [
    {
     "data": {
      "text/plain": [
       "<ConstraintParameter: {pot@contact_envelope@component} = requiv_to_pot_contact({requiv@secondary@component}, {q@binary@component}, {sma@binary@component}, 2) (solar units) => 3.40137740723>"
      ]
     },
     "execution_count": 9,
     "metadata": {},
     "output_type": "execute_result"
    }
   ],
   "source": [
    "b = phoebe.default_binary(contact_binary=True)\n",
    "b.flip_constraint('pot', solve_for='requiv@primary')\n",
    "b.flip_constraint('requiv@secondary', solve_for='pot')"
   ]
  },
  {
   "cell_type": "code",
   "execution_count": 10,
   "metadata": {},
   "outputs": [
    {
     "name": "stdout",
     "output_type": "stream",
     "text": [
      "ParameterSet: 7 parameters\n",
      "*       requiv@primary@component: 1.5 solRad\n",
      "      requiv@secondary@component: 1.5 solRad\n",
      "* fillout_factor@contact_enve...: 0.641789708077\n",
      "* pot@contact_envelope@component: 3.40137740723\n",
      "       requiv@primary@constraint: pot_to_requiv_contact({pot@contact_envelope@component}, {q@binary@component}, {sma@binary@component}, 1)\n",
      "  pot@contact_envelope@constr...: requiv_to_pot_contact({requiv@secondary@component}, {q@binary@component}, {sma@binary@component}, 2)\n",
      "  fillout_factor@contact_enve...: pot_to_fillout_factor({q@binary@component}, {pot@contact_envelope@component})\n"
     ]
    }
   ],
   "source": [
    "print b.filter(qualifier=['requiv', 'pot', 'fillout_factor'])"
   ]
  }
 ],
 "metadata": {
  "kernelspec": {
   "display_name": "Python 2",
   "language": "python",
   "name": "python2"
  },
  "language_info": {
   "codemirror_mode": {
    "name": "ipython",
    "version": 2
   },
   "file_extension": ".py",
   "mimetype": "text/x-python",
   "name": "python",
   "nbconvert_exporter": "python",
   "pygments_lexer": "ipython2",
   "version": "2.7.15rc1"
  }
 },
 "nbformat": 4,
 "nbformat_minor": 1
}
