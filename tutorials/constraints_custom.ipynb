{
 "cells": [
  {
   "cell_type": "markdown",
   "metadata": {},
   "source": [
    "# Advanced: Custom Constraints\n",
    "\n",
    "**NOTE**: support for custom constraints was fixed in PHOEBE 2.3.30.  This notebook will fail to run on earlier versions.\n",
    "\n",
    "[Built-in Constraints](./constraints_builtin.ipynb) are convenient as they automatically determine the correct expression and include support for multiple parameterizations via [b.flip_constraint](../api/phoebe.frontend.bundle.Bundle.flip_constraint.md).  However, for cases where a built-in constraint does not exist, PHOEBE provides a framework for easily creating your own expression to link multiple parameters via [b.add_constraint](../api/phoebe.frontend.bundle.Bundle.add_constraint.md)."
   ]
  },
  {
   "cell_type": "code",
   "execution_count": 1,
   "metadata": {},
   "outputs": [],
   "source": [
    "import phoebe\n",
    "from phoebe import u\n",
    "\n",
    "b = phoebe.default_binary()"
   ]
  },
  {
   "cell_type": "markdown",
   "metadata": {},
   "source": [
    "In this case, the two positional arguments to [b.add_constraint](../api/phoebe.frontend.bundle.Bundle.add_constraint.md) must be the left-hand side of the expression (which will become the constrained parameter) and the right-hand side of the expression (either another parameter or a [ConstraintParameter](../api/phoebe.parameters.ConstraintParameter.md)).\n",
    "\n",
    "## Simple Case\n",
    "\n",
    "The easiest way to create a constraint parameter is via math operations on existing parameters.  For example, let's say we wanted the secondary temperature to always be half the primary temperature:"
   ]
  },
  {
   "cell_type": "code",
   "execution_count": 2,
   "metadata": {},
   "outputs": [
    {
     "name": "stdout",
     "output_type": "stream",
     "text": [
      "ParameterSet: 2 parameters\n",
      "           teff@primary@component: 6000.0 K\n",
      "         teff@secondary@component: 6000.0 K\n"
     ]
    }
   ],
   "source": [
    "print(b.filter(qualifier='teff'))"
   ]
  },
  {
   "cell_type": "code",
   "execution_count": 3,
   "metadata": {},
   "outputs": [],
   "source": [
    "lhs = b.get_parameter(qualifier='teff', component='secondary')\n",
    "rhs = 0.5 * b.get_parameter(qualifier='teff', component='primary')"
   ]
  },
  {
   "cell_type": "code",
   "execution_count": 4,
   "metadata": {},
   "outputs": [
    {
     "data": {
      "text/plain": [
       "<ConstraintParameter: 0.500000 * {teff@primary@component} (SI) => 3000.0 K>"
      ]
     },
     "execution_count": 4,
     "metadata": {},
     "output_type": "execute_result"
    }
   ],
   "source": [
    "rhs"
   ]
  },
  {
   "cell_type": "code",
   "execution_count": 5,
   "metadata": {},
   "outputs": [
    {
     "data": {
      "text/plain": [
       "<ParameterSet: 1 parameters>"
      ]
     },
     "execution_count": 5,
     "metadata": {},
     "output_type": "execute_result"
    }
   ],
   "source": [
    "b.add_constraint(lhs, rhs)"
   ]
  },
  {
   "cell_type": "code",
   "execution_count": 6,
   "metadata": {},
   "outputs": [
    {
     "name": "stdout",
     "output_type": "stream",
     "text": [
      "ParameterSet: 3 parameters\n",
      "           teff@primary@component: 6000.0 K\n",
      "C        teff@secondary@component: 3000.0 K\n",
      "                  teff@constraint: 0.500000 * {teff@primary@component}\n"
     ]
    }
   ],
   "source": [
    "print(b.filter(qualifier='teff'))"
   ]
  },
  {
   "cell_type": "markdown",
   "metadata": {},
   "source": [
    "Now, as with any other constraint, if we change the value of a parameter in the constraint, the constrained value will automatically adjust."
   ]
  },
  {
   "cell_type": "code",
   "execution_count": 7,
   "metadata": {},
   "outputs": [],
   "source": [
    "b.set_value(qualifier='teff', component='primary', value=7000)"
   ]
  },
  {
   "cell_type": "code",
   "execution_count": 8,
   "metadata": {},
   "outputs": [
    {
     "name": "stdout",
     "output_type": "stream",
     "text": [
      "ParameterSet: 3 parameters\n",
      "           teff@primary@component: 7000.0 K\n",
      "C        teff@secondary@component: 3500.0 K\n",
      "                  teff@constraint: 0.500000 * {teff@primary@component}\n"
     ]
    }
   ],
   "source": [
    "print(b.filter(qualifier='teff'))"
   ]
  },
  {
   "cell_type": "markdown",
   "metadata": {},
   "source": [
    "## Complex Case with New Parameter\n",
    "\n",
    "Now let's say that instead of hardcoding the ratio between the temperatures, we wanted to parameterize the system in terms of the temperature ratio (a parameter that does not exist in the default bundle).  Of course, this case is already a built-in constraint, so in practice you would use [teffratio](../api/phoebe.parameters.constraint.teffratio.md)... but we'll recreate that constraint from scratch here."
   ]
  },
  {
   "cell_type": "code",
   "execution_count": 9,
   "metadata": {},
   "outputs": [
    {
     "data": {
      "text/plain": [
       "<ParameterSet: EMPTY>"
      ]
     },
     "execution_count": 9,
     "metadata": {},
     "output_type": "execute_result"
    }
   ],
   "source": [
    "b = phoebe.default_binary()\n",
    "b.filter(qualifier='teffratio')"
   ]
  },
  {
   "cell_type": "markdown",
   "metadata": {},
   "source": [
    "First we need to create all the parameters that we need that do not already exist, and attach them to the bundle with appropriate tags.  Ultimately the choice of tags is inconsequential, but here it makes some sense to apply our new `teffratio` to the parent orbit that contains both stars.\n",
    "\n",
    "Almost always (since we're creating constraints), we'll need to define a new [FloatParameter](../api/phoebe.parameters.FloatParameter.md).  Note that the default_unit is quite important here, as the constraint expressions will propagate units."
   ]
  },
  {
   "cell_type": "code",
   "execution_count": 10,
   "metadata": {},
   "outputs": [],
   "source": [
    "teffratio_def = phoebe.parameters.FloatParameter(qualifier='teffratio',\n",
    "                                                 default_unit=u.dimensionless_unscaled,\n",
    "                                                 value=1, \n",
    "                                                 description='effective temperature ratio')"
   ]
  },
  {
   "cell_type": "markdown",
   "metadata": {},
   "source": [
    "We'll attach the new parameter by calling [b.get_or_create](../api/phoebe.parameters.ParameterSet.get_or_create.md).  The first argument here is the qualifier, the second is the parameter object itself, and additional keyword arguments are tags to be applied.  If a parameter already exists that matches the filter (including the qualifier) then that parameter will be returned (and the new parameter will be ignored), otherwise the new parameter will be attached to the bundle and returned.\n",
    "\n",
    "The first returned argument is the matching parameter, and the second is a boolean which tells whether the new parameter was added or if an existing on was retrieved."
   ]
  },
  {
   "cell_type": "code",
   "execution_count": 11,
   "metadata": {},
   "outputs": [],
   "source": [
    "teffratio_param, created = b.get_or_create('teffratio', teffratio_def, context='component', component='binary')"
   ]
  },
  {
   "cell_type": "markdown",
   "metadata": {},
   "source": [
    "Our new parameter is available through filtering as is any other parameter."
   ]
  },
  {
   "cell_type": "code",
   "execution_count": 12,
   "metadata": {},
   "outputs": [
    {
     "name": "stdout",
     "output_type": "stream",
     "text": [
      "ParameterSet: 1 parameters\n",
      "       teffratio@binary@component: 1.0\n"
     ]
    }
   ],
   "source": [
    "print(b.filter(qualifier='teffratio'))"
   ]
  },
  {
   "cell_type": "code",
   "execution_count": 13,
   "metadata": {},
   "outputs": [
    {
     "name": "stdout",
     "output_type": "stream",
     "text": [
      "OrderedDict([('time', None), ('qualifier', 'teffratio'), ('feature', None), ('component', 'binary'), ('dataset', None), ('constraint', None), ('distribution', None), ('compute', None), ('model', None), ('solver', None), ('solution', None), ('figure', None), ('kind', None), ('context', 'component')])\n"
     ]
    }
   ],
   "source": [
    "print(b.get_parameter(qualifier='teffratio').tags)"
   ]
  },
  {
   "cell_type": "markdown",
   "metadata": {},
   "source": [
    "We can now define our constraint as before, but replace the hardcoded `0.5` with the `teffratio` parameter."
   ]
  },
  {
   "cell_type": "code",
   "execution_count": 14,
   "metadata": {},
   "outputs": [],
   "source": [
    "lhs = b.get_parameter(qualifier='teff', component='secondary')\n",
    "rhs = teffratio_param * b.get_parameter(qualifier='teff', component='primary')"
   ]
  },
  {
   "cell_type": "code",
   "execution_count": 15,
   "metadata": {},
   "outputs": [
    {
     "data": {
      "text/plain": [
       "<ConstraintParameter: {teffratio@binary@component} * {teff@primary@component} (SI) => 6000.0 K>"
      ]
     },
     "execution_count": 15,
     "metadata": {},
     "output_type": "execute_result"
    }
   ],
   "source": [
    "rhs"
   ]
  },
  {
   "cell_type": "code",
   "execution_count": 16,
   "metadata": {},
   "outputs": [
    {
     "data": {
      "text/plain": [
       "<ParameterSet: 1 parameters>"
      ]
     },
     "execution_count": 16,
     "metadata": {},
     "output_type": "execute_result"
    }
   ],
   "source": [
    "b.add_constraint(lhs, rhs)"
   ]
  },
  {
   "cell_type": "code",
   "execution_count": 17,
   "metadata": {},
   "outputs": [
    {
     "name": "stdout",
     "output_type": "stream",
     "text": [
      "ParameterSet: 4 parameters\n",
      "           teff@primary@component: 6000.0 K\n",
      "C        teff@secondary@component: 6000.0 K\n",
      "       teffratio@binary@component: 1.0\n",
      "                  teff@constraint: {teffratio@binary@component} * {teff@primary@component}\n"
     ]
    }
   ],
   "source": [
    "print(b.filter(qualifier=['teff', 'teffratio']))"
   ]
  },
  {
   "cell_type": "code",
   "execution_count": 18,
   "metadata": {},
   "outputs": [],
   "source": [
    "b.set_value('teffratio', 0.5)"
   ]
  },
  {
   "cell_type": "code",
   "execution_count": 19,
   "metadata": {},
   "outputs": [
    {
     "name": "stdout",
     "output_type": "stream",
     "text": [
      "ParameterSet: 4 parameters\n",
      "           teff@primary@component: 6000.0 K\n",
      "C        teff@secondary@component: 3000.0 K\n",
      "       teffratio@binary@component: 0.5\n",
      "                  teff@constraint: {teffratio@binary@component} * {teff@primary@component}\n"
     ]
    }
   ],
   "source": [
    "print(b.filter(qualifier=['teff', 'teffratio']))"
   ]
  }
 ],
 "metadata": {
  "kernelspec": {
   "display_name": "Python 3",
   "language": "python",
   "name": "python3"
  },
  "language_info": {
   "codemirror_mode": {
    "name": "ipython",
    "version": 3
   },
   "file_extension": ".py",
   "mimetype": "text/x-python",
   "name": "python",
   "nbconvert_exporter": "python",
   "pygments_lexer": "ipython3",
   "version": "3.8.5"
  }
 },
 "nbformat": 4,
 "nbformat_minor": 2
}
