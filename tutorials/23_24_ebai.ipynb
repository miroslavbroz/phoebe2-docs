{
 "cells": [
  {
   "cell_type": "markdown",
   "id": "134c1e83-35e2-4188-becc-5ec62124ece3",
   "metadata": {},
   "source": [
    "# 2.3 - 2.4 Migration: updates to EBAI\n",
    "\n",
    "The 2.4 release introduces an extra keyword: `ebai_method` that supports the choice of `mlp` (which uses the same AI model as 2.3) or `knn` (which is a new trained kNeighborsRegressor model). The `knn` option also allows for estimating parameters of contact binaries. \n",
    "\n",
    "For more, see the [LC_estimators tutorial](LC_estimators.ipynb)"
   ]
  },
  {
   "cell_type": "code",
   "execution_count": null,
   "id": "cc7a02f7-2511-4320-8322-01a2d6d53f46",
   "metadata": {},
   "outputs": [],
   "source": []
  }
 ],
 "metadata": {
  "kernelspec": {
   "display_name": "Python 3 (ipykernel)",
   "language": "python",
   "name": "python3"
  },
  "language_info": {
   "codemirror_mode": {
    "name": "ipython",
    "version": 3
   },
   "file_extension": ".py",
   "mimetype": "text/x-python",
   "name": "python",
   "nbconvert_exporter": "python",
   "pygments_lexer": "ipython3",
   "version": "3.9.7"
  }
 },
 "nbformat": 4,
 "nbformat_minor": 5
}
