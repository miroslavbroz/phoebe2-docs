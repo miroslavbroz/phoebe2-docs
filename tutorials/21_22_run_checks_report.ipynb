{
 "cells": [
  {
   "cell_type": "markdown",
   "metadata": {},
   "source": [
    "2.1 - 2.2 Migration: run_checks\n",
    "=============================="
   ]
  },
  {
   "cell_type": "markdown",
   "metadata": {},
   "source": [
    "PHOEBE 2.2 includes a more flexible output to [b.run_checks](../api/phoebe.frontend.bundle.Bundle.run_checks.md).\n",
    "\n",
    "In PHOEBE 2.1, run_checks returned a boolean and a warning or error message.  Whenever the first error was reached, run_checks would immediately return `False` along with that first message.  Although this saved a bit of time, it often resulted in confusion as it was impossible to expose additional errors until fixing the first one.\n",
    "\n",
    "Now, a [RunChecksReport](../api/phoebe.frontend.bundle.RunChecksReport.md) object is returned.  This object has a `.passed` attribute which can be used in the same way as the boolean returned in 2.1.  Additionally, if you print the returned object, you'll see a full list of all errors/warnings.\n",
    "\n",
    "If any of your scripts had something like the following:\n",
    "\n",
    "```\n",
    "passed, message = b.run_checks()\n",
    "```\n",
    "\n",
    "you'll need to replace that with something like:\n",
    "\n",
    "```\n",
    "report = b.run_checks()\n",
    "passed = report.passed\n",
    "messages = [item.message for item in report.items]\n",
    "```"
   ]
  }
 ],
 "metadata": {
  "kernelspec": {
   "display_name": "Python 2",
   "language": "python",
   "name": "python2"
  },
  "language_info": {
   "codemirror_mode": {
    "name": "ipython",
    "version": 2
   },
   "file_extension": ".py",
   "mimetype": "text/x-python",
   "name": "python",
   "nbconvert_exporter": "python",
   "pygments_lexer": "ipython2",
   "version": "2.7.15+"
  }
 },
 "nbformat": 4,
 "nbformat_minor": 2
}
