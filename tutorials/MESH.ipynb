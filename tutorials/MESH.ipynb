{
 "cells": [
  {
   "cell_type": "markdown",
   "metadata": {},
   "source": [
    "'mesh' Datasets and Options\n",
    "============================\n",
    "\n",
    "Setup\n",
    "-----------------------------"
   ]
  },
  {
   "cell_type": "markdown",
   "metadata": {},
   "source": [
    "Let's first make sure we have the latest version of PHOEBE 2.2 installed. (You can comment out this line if you don't use pip for your installation or don't want to update to the latest release)."
   ]
  },
  {
   "cell_type": "code",
   "execution_count": null,
   "metadata": {},
   "outputs": [],
   "source": [
    "!pip install -I \"phoebe>=2.2,<2.3\""
   ]
  },
  {
   "cell_type": "markdown",
   "metadata": {
    "collapsed": true
   },
   "source": [
    "As always, let's do imports and initialize a logger and a new Bundle.  See [Building a System](building_a_system.ipynb) for more details."
   ]
  },
  {
   "cell_type": "code",
   "execution_count": 1,
   "metadata": {},
   "outputs": [],
   "source": [
    "%matplotlib inline"
   ]
  },
  {
   "cell_type": "code",
   "execution_count": 1,
   "metadata": {},
   "outputs": [],
   "source": [
    "import phoebe\n",
    "\n",
    "logger = phoebe.logger()\n",
    "\n",
    "b = phoebe.default_binary()"
   ]
  },
  {
   "cell_type": "markdown",
   "metadata": {
    "collapsed": true
   },
   "source": [
    "Dataset Parameters\n",
    "--------------------------\n",
    "\n",
    "Let's add a mesh dataset to the Bundle (see also the [mesh API docs](../api/phoebe.parameters.dataset.mesh.md))."
   ]
  },
  {
   "cell_type": "code",
   "execution_count": 2,
   "metadata": {},
   "outputs": [
    {
     "name": "stdout",
     "output_type": "stream",
     "text": [
      "ParameterSet: 5 parameters\n",
      "    compute_times@mesh01@dataset: [] d\n",
      "*  compute_phases@mesh01@dataset: []\n",
      "    include_times@mesh01@dataset: []\n",
      "      coordinates@mesh01@dataset: ['xyz', 'uvw']\n",
      "          columns@mesh01@dataset: []\n"
     ]
    }
   ],
   "source": [
    "b.add_dataset('mesh')\n",
    "print(b.get_dataset(kind='mesh'))"
   ]
  },
  {
   "cell_type": "markdown",
   "metadata": {},
   "source": [
    "### compute_times / compute_phases\n",
    "\n",
    "Note that as of PHOEBE 2.2, the mesh dataset no longer has a `times` parameter, as observations cannot be attached to the mesh dataset.\n",
    "\n",
    "See the [Compute Times & Phases tutorial](compute_times_phases.ipynb)."
   ]
  },
  {
   "cell_type": "code",
   "execution_count": 3,
   "metadata": {},
   "outputs": [
    {
     "name": "stdout",
     "output_type": "stream",
     "text": [
      "Parameter: compute_times@mesh01@dataset\n",
      "                       Qualifier: compute_times\n",
      "                     Description: Times to use during run_compute.\n",
      "                           Value: [] d\n",
      "                  Constrained by: \n",
      "                      Constrains: compute_phases@mesh01@dataset\n",
      "                      Related to: period@binary@component, compute_phases@mesh01@dataset\n",
      "\n"
     ]
    }
   ],
   "source": [
    "print(b.get_parameter(qualifier='compute_times'))"
   ]
  },
  {
   "cell_type": "code",
   "execution_count": 5,
   "metadata": {},
   "outputs": [
    {
     "name": "stdout",
     "output_type": "stream",
     "text": [
      "Parameter: compute_phases@mesh01@dataset\n",
      "                       Qualifier: compute_phases\n",
      "                     Description: Phases associated with compute_times.  Does not account for t0: for true phases, use b.to_phase or b.to_time\n",
      "                           Value: []\n",
      "                  Constrained by: compute_times@mesh01@dataset, period@binary@component\n",
      "                      Constrains: None\n",
      "                      Related to: compute_times@mesh01@dataset, period@binary@component\n",
      "\n"
     ]
    }
   ],
   "source": [
    "print(b.get_parameter(qualifier='compute_phases', context='dataset'))"
   ]
  },
  {
   "cell_type": "markdown",
   "metadata": {},
   "source": [
    "### include_times"
   ]
  },
  {
   "cell_type": "code",
   "execution_count": 5,
   "metadata": {},
   "outputs": [
    {
     "name": "stdout",
     "output_type": "stream",
     "text": [
      "Parameter: include_times@mesh01@dataset\n",
      "                       Qualifier: include_times\n",
      "                     Description: append to times from the following datasets/time standards\n",
      "                           Value: []\n",
      "                         Choices: t0_perpass@binary, t0_supconj@binary, t0_ref@binary, t0@system\n",
      "\n"
     ]
    }
   ],
   "source": [
    "print(b.get_parameter(qualifier='include_times'))"
   ]
  },
  {
   "cell_type": "markdown",
   "metadata": {},
   "source": [
    "### coordinates"
   ]
  },
  {
   "cell_type": "code",
   "execution_count": 6,
   "metadata": {},
   "outputs": [
    {
     "name": "stdout",
     "output_type": "stream",
     "text": [
      "Parameter: coordinates@mesh01@dataset\n",
      "                       Qualifier: coordinates\n",
      "                     Description: coordinates to expose the mesh.  uvw (plane of sky) and/or xyz (roche)\n",
      "                           Value: ['xyz', 'uvw']\n",
      "                         Choices: xyz, uvw\n",
      "\n"
     ]
    }
   ],
   "source": [
    "print(b.get_parameter(qualifier='coordinates'))"
   ]
  },
  {
   "cell_type": "markdown",
   "metadata": {},
   "source": [
    "### columns"
   ]
  },
  {
   "cell_type": "code",
   "execution_count": 7,
   "metadata": {},
   "outputs": [
    {
     "name": "stdout",
     "output_type": "stream",
     "text": [
      "Parameter: columns@mesh01@dataset\n",
      "                       Qualifier: columns\n",
      "                     Description: columns to expose within the mesh\n",
      "                           Value: []\n",
      "                         Choices: volume, xs, ys, zs, vxs, vys, vzs, nxs, nys, nzs, us, vs, ws, vus, vvs, vws, nus, nvs, nws, areas, loggs, teffs, rprojs, mus, visibilities, visible_centroids, rs\n",
      "\n"
     ]
    }
   ],
   "source": [
    "print(b.get_parameter(qualifier='columns'))"
   ]
  },
  {
   "cell_type": "markdown",
   "metadata": {},
   "source": [
    "Compute Options\n",
    "------------------\n",
    "\n",
    "Let's look at the compute options (for the default PHOEBE 2 backend) that relate to meshes"
   ]
  },
  {
   "cell_type": "code",
   "execution_count": 8,
   "metadata": {},
   "outputs": [
    {
     "name": "stdout",
     "output_type": "stream",
     "text": [
      "ParameterSet: 15 parameters\n",
      "  dynamics_method@phoebe01@co...: keplerian\n",
      "           ltte@phoebe01@compute: False\n",
      "   irrad_method@phoebe01@compute: wilson\n",
      "  boosting_method@phoebe01@co...: none\n",
      "  eclipse_method@phoebe01@com...: native\n",
      "  horizon_method@phoebe01@com...: boolean\n",
      "  mesh_method@primary@phoebe0...: marching\n",
      "  mesh_method@secondary@phoeb...: marching\n",
      "  ntriangles@primary@phoebe01...: 1500\n",
      "  ntriangles@secondary@phoebe...: 1500\n",
      "  distortion_method@primary@p...: roche\n",
      "  distortion_method@secondary...: roche\n",
      "    atm@primary@phoebe01@compute: ck2004\n",
      "  atm@secondary@phoebe01@compute: ck2004\n",
      "        enabled@phoebe01@compute: True\n"
     ]
    }
   ],
   "source": [
    "print(b.get_compute())"
   ]
  },
  {
   "cell_type": "markdown",
   "metadata": {},
   "source": [
    "### mesh_method"
   ]
  },
  {
   "cell_type": "code",
   "execution_count": 9,
   "metadata": {
    "scrolled": true
   },
   "outputs": [
    {
     "name": "stdout",
     "output_type": "stream",
     "text": [
      "Parameter: mesh_method@primary@phoebe01@compute\n",
      "                       Qualifier: mesh_method\n",
      "                     Description: Which method to use for discretizing the surface\n",
      "                           Value: marching\n",
      "                         Choices: marching\n",
      "                 Only visible if: hierarchy.is_meshable:true\n",
      "\n"
     ]
    }
   ],
   "source": [
    "print(b.get_parameter(qualifier='mesh_method', component='primary'))"
   ]
  },
  {
   "cell_type": "markdown",
   "metadata": {},
   "source": [
    "The `mesh_method` parameter determines how each component in the system is discretized into its mesh, and has several options:\n",
    " * marching (default): this is the new method introduced in PHOEBE 2.  The star is discretized into triangles, with the attempt to make them each of equal-area and nearly equilateral.  Although not as fast as 'wd', this method is more robust and will always form a closed surface (when possible).\n",
    " * wd: this is a re-implementation of the Wilson-Devinney style meshing used in PHOEBE 1.0 (legacy), with the stars discretized into trapezoids in strips of latitude (we then split each trapezoid into two triangles).  This is faster, but suffers from gaps between the surface elements, and is mainly meant for testing and comparison with legacy.  See the [WD-Style Meshing Example Script](../examples/wd_mesh.ipynb) for more details."
   ]
  },
  {
   "cell_type": "markdown",
   "metadata": {},
   "source": [
    "### ntriangles\n",
    "\n",
    "The `ntriangles` parameter is only relevenat if `mesh_method` is 'marching' (so will not be available unless that is the case)."
   ]
  },
  {
   "cell_type": "code",
   "execution_count": 10,
   "metadata": {},
   "outputs": [
    {
     "name": "stdout",
     "output_type": "stream",
     "text": [
      "Parameter: ntriangles@primary@phoebe01@compute\n",
      "                       Qualifier: ntriangles\n",
      "                     Description: Requested number of triangles (won't be exact).\n",
      "                           Value: 1500\n",
      "                 Only visible if: mesh_method:marching,hierarchy.is_meshable:true\n",
      "\n"
     ]
    }
   ],
   "source": [
    "print(b.get_parameter(qualifier='ntriangles', component='primary'))"
   ]
  },
  {
   "cell_type": "markdown",
   "metadata": {},
   "source": [
    "Synthetics\n",
    "------------------"
   ]
  },
  {
   "cell_type": "code",
   "execution_count": 11,
   "metadata": {},
   "outputs": [],
   "source": [
    "b.set_value('times', [0])"
   ]
  },
  {
   "cell_type": "code",
   "execution_count": 12,
   "metadata": {},
   "outputs": [],
   "source": [
    "b.set_value('columns', value='*')"
   ]
  },
  {
   "cell_type": "code",
   "execution_count": 13,
   "metadata": {},
   "outputs": [
    {
     "name": "stdout",
     "output_type": "stream",
     "text": [
      "['*']\n"
     ]
    }
   ],
   "source": [
    "print(b.get_value('columns'))"
   ]
  },
  {
   "cell_type": "code",
   "execution_count": 14,
   "metadata": {},
   "outputs": [
    {
     "name": "stdout",
     "output_type": "stream",
     "text": [
      "['volume', 'xs', 'ys', 'zs', 'vxs', 'vys', 'vzs', 'nxs', 'nys', 'nzs', 'us', 'vs', 'ws', 'vus', 'vvs', 'vws', 'nus', 'nvs', 'nws', 'areas', 'loggs', 'teffs', 'rprojs', 'mus', 'visibilities', 'visible_centroids', 'rs']\n"
     ]
    }
   ],
   "source": [
    "print(b.get_value('columns', expand=True))"
   ]
  },
  {
   "cell_type": "code",
   "execution_count": 15,
   "metadata": {
    "scrolled": true
   },
   "outputs": [
    {
     "data": {
      "text/plain": [
       "<ParameterSet: 64 parameters | components: primary, secondary>"
      ]
     },
     "execution_count": 15,
     "metadata": {},
     "output_type": "execute_result"
    }
   ],
   "source": [
    "b.run_compute()"
   ]
  },
  {
   "cell_type": "code",
   "execution_count": 16,
   "metadata": {},
   "outputs": [
    {
     "name": "stdout",
     "output_type": "stream",
     "text": [
      "['times@primary@mesh01@phoebe01@latest@mesh@model', '00.000000@uvw_elements@primary@mesh01@phoebe01@latest@mesh@model', '00.000000@uvw_normals@primary@mesh01@phoebe01@latest@mesh@model', '00.000000@xyz_elements@primary@mesh01@phoebe01@latest@mesh@model', '00.000000@xyz_normals@primary@mesh01@phoebe01@latest@mesh@model', '00.000000@volume@primary@mesh01@phoebe01@latest@mesh@model', '00.000000@xs@primary@mesh01@phoebe01@latest@mesh@model', '00.000000@ys@primary@mesh01@phoebe01@latest@mesh@model', '00.000000@zs@primary@mesh01@phoebe01@latest@mesh@model', '00.000000@vxs@primary@mesh01@phoebe01@latest@mesh@model', '00.000000@vys@primary@mesh01@phoebe01@latest@mesh@model', '00.000000@vzs@primary@mesh01@phoebe01@latest@mesh@model', '00.000000@nxs@primary@mesh01@phoebe01@latest@mesh@model', '00.000000@nys@primary@mesh01@phoebe01@latest@mesh@model', '00.000000@nzs@primary@mesh01@phoebe01@latest@mesh@model', '00.000000@us@primary@mesh01@phoebe01@latest@mesh@model', '00.000000@vs@primary@mesh01@phoebe01@latest@mesh@model', '00.000000@ws@primary@mesh01@phoebe01@latest@mesh@model', '00.000000@vus@primary@mesh01@phoebe01@latest@mesh@model', '00.000000@vvs@primary@mesh01@phoebe01@latest@mesh@model', '00.000000@vws@primary@mesh01@phoebe01@latest@mesh@model', '00.000000@nus@primary@mesh01@phoebe01@latest@mesh@model', '00.000000@nvs@primary@mesh01@phoebe01@latest@mesh@model', '00.000000@nws@primary@mesh01@phoebe01@latest@mesh@model', '00.000000@areas@primary@mesh01@phoebe01@latest@mesh@model', '00.000000@rs@primary@mesh01@phoebe01@latest@mesh@model', '00.000000@loggs@primary@mesh01@phoebe01@latest@mesh@model', '00.000000@teffs@primary@mesh01@phoebe01@latest@mesh@model', '00.000000@rprojs@primary@mesh01@phoebe01@latest@mesh@model', '00.000000@mus@primary@mesh01@phoebe01@latest@mesh@model', '00.000000@visible_centroids@primary@mesh01@phoebe01@latest@mesh@model', '00.000000@visibilities@primary@mesh01@phoebe01@latest@mesh@model', 'times@secondary@mesh01@phoebe01@latest@mesh@model', '00.000000@uvw_elements@secondary@mesh01@phoebe01@latest@mesh@model', '00.000000@uvw_normals@secondary@mesh01@phoebe01@latest@mesh@model', '00.000000@xyz_elements@secondary@mesh01@phoebe01@latest@mesh@model', '00.000000@xyz_normals@secondary@mesh01@phoebe01@latest@mesh@model', '00.000000@volume@secondary@mesh01@phoebe01@latest@mesh@model', '00.000000@xs@secondary@mesh01@phoebe01@latest@mesh@model', '00.000000@ys@secondary@mesh01@phoebe01@latest@mesh@model', '00.000000@zs@secondary@mesh01@phoebe01@latest@mesh@model', '00.000000@vxs@secondary@mesh01@phoebe01@latest@mesh@model', '00.000000@vys@secondary@mesh01@phoebe01@latest@mesh@model', '00.000000@vzs@secondary@mesh01@phoebe01@latest@mesh@model', '00.000000@nxs@secondary@mesh01@phoebe01@latest@mesh@model', '00.000000@nys@secondary@mesh01@phoebe01@latest@mesh@model', '00.000000@nzs@secondary@mesh01@phoebe01@latest@mesh@model', '00.000000@us@secondary@mesh01@phoebe01@latest@mesh@model', '00.000000@vs@secondary@mesh01@phoebe01@latest@mesh@model', '00.000000@ws@secondary@mesh01@phoebe01@latest@mesh@model', '00.000000@vus@secondary@mesh01@phoebe01@latest@mesh@model', '00.000000@vvs@secondary@mesh01@phoebe01@latest@mesh@model', '00.000000@vws@secondary@mesh01@phoebe01@latest@mesh@model', '00.000000@nus@secondary@mesh01@phoebe01@latest@mesh@model', '00.000000@nvs@secondary@mesh01@phoebe01@latest@mesh@model', '00.000000@nws@secondary@mesh01@phoebe01@latest@mesh@model', '00.000000@areas@secondary@mesh01@phoebe01@latest@mesh@model', '00.000000@rs@secondary@mesh01@phoebe01@latest@mesh@model', '00.000000@loggs@secondary@mesh01@phoebe01@latest@mesh@model', '00.000000@teffs@secondary@mesh01@phoebe01@latest@mesh@model', '00.000000@rprojs@secondary@mesh01@phoebe01@latest@mesh@model', '00.000000@mus@secondary@mesh01@phoebe01@latest@mesh@model', '00.000000@visible_centroids@secondary@mesh01@phoebe01@latest@mesh@model', '00.000000@visibilities@secondary@mesh01@phoebe01@latest@mesh@model']\n"
     ]
    }
   ],
   "source": [
    "print(b.filter(context='model').twigs)"
   ]
  },
  {
   "cell_type": "markdown",
   "metadata": {},
   "source": [
    "### Per-Mesh Parameters"
   ]
  },
  {
   "cell_type": "code",
   "execution_count": 17,
   "metadata": {},
   "outputs": [
    {
     "name": "stdout",
     "output_type": "stream",
     "text": [
      "Parameter: times@primary@latest@model\n",
      "                       Qualifier: times\n",
      "                     Description: Synthetic times\n",
      "                           Value: [0.] d\n",
      "                  Constrained by: \n",
      "                      Constrains: None\n",
      "                      Related to: None\n",
      "\n"
     ]
    }
   ],
   "source": [
    "print(b.get_parameter(qualifier='times', \n",
    "                      component='primary', \n",
    "                      dataset='mesh01',\n",
    "                      kind='mesh', \n",
    "                      context='model'))"
   ]
  },
  {
   "cell_type": "markdown",
   "metadata": {},
   "source": [
    "### Per-Time Parameters"
   ]
  },
  {
   "cell_type": "code",
   "execution_count": 18,
   "metadata": {},
   "outputs": [
    {
     "name": "stdout",
     "output_type": "stream",
     "text": [
      "Parameter: volume@primary@latest@model\n",
      "                       Qualifier: volume\n",
      "                     Description: Volume of the stellar surface\n",
      "                           Value: 4.18879020479 solRad3\n",
      "                  Constrained by: \n",
      "                      Constrains: None\n",
      "                      Related to: None\n",
      "\n"
     ]
    }
   ],
   "source": [
    "print(b.get_parameter(qualifier='volume', \n",
    "                      component='primary', \n",
    "                      dataset='mesh01',\n",
    "                      kind='mesh', \n",
    "                      context='model'))"
   ]
  },
  {
   "cell_type": "markdown",
   "metadata": {},
   "source": [
    "### Per-Element Parameters"
   ]
  },
  {
   "cell_type": "markdown",
   "metadata": {},
   "source": [
    "`uvw_elements` and `uvw_normals` (plane-of-sky vertices positions and triangle normals) are used internally when plotting meshes and are only exposed if 'uvw' is in the `coordinates` parameter defined in the dataset (before calling [run_compute](../api/phoebe.frontend.bundle.Bundle.run_compute.md))."
   ]
  },
  {
   "cell_type": "code",
   "execution_count": 19,
   "metadata": {},
   "outputs": [
    {
     "name": "stdout",
     "output_type": "stream",
     "text": [
      "Parameter: uvw_elements@primary@latest@model\n",
      "                       Qualifier: uvw_elements\n",
      "                     Description: Vertices of triangles in the plane-of-sky\n",
      "                           Value: [[[ 1.00235109e-16  1.00235109e-16 -1.63696356e+00]\n",
      "  [-1.38927560e-01  1.00842067e-16 -1.64687593e+00]\n",
      "  [-6.94589659e-02 -1.20310044e-01 -1.64697718e+00]]\n",
      "\n",
      " [[ 1.00235109e-16  1.00235109e-16 -1.63696356e+00]\n",
      "  [-6.94589659e-02 -1.20310044e-01 -1.64697718e+00]\n",
      "  [ 6.94578498e-02 -1.20308085e-01 -1.64699279e+00]]\n",
      "\n",
      " [[ 1.00235109e-16  1.00235109e-16 -1.63696356e+00]\n",
      "  [ 6.94578498e-02 -1.20308085e-01 -1.64699279e+00]\n",
      "  [ 1.38923748e-01  1.55940817e-16 -1.64690258e+00]]\n",
      "\n",
      " ...\n",
      "\n",
      " [[ 8.02647345e-01 -1.34867788e-01 -3.23812373e+00]\n",
      "  [ 7.05300042e-01 -6.64578804e-02 -3.36424509e+00]\n",
      "  [ 7.69595991e-01  4.46209716e-02 -3.29568376e+00]]\n",
      "\n",
      " [[ 8.02647345e-01 -1.34867788e-01 -3.23812373e+00]\n",
      "  [ 7.02529405e-01 -1.80187653e-01 -3.34650497e+00]\n",
      "  [ 7.05300042e-01 -6.64578804e-02 -3.36424509e+00]]\n",
      "\n",
      " [[ 7.02529405e-01 -1.80187653e-01 -3.34650497e+00]\n",
      "  [ 8.02647345e-01 -1.34867788e-01 -3.23812373e+00]\n",
      "  [ 7.77428997e-01 -1.91184860e-01 -3.25508541e+00]]] solRad\n",
      "                  Constrained by: \n",
      "                      Constrains: None\n",
      "                      Related to: None\n",
      "\n"
     ]
    }
   ],
   "source": [
    "print(b.get_parameter(qualifier='uvw_elements', \n",
    "                      component='primary', \n",
    "                      dataset='mesh01',\n",
    "                      kind='mesh', \n",
    "                      context='model'))"
   ]
  },
  {
   "cell_type": "code",
   "execution_count": 20,
   "metadata": {},
   "outputs": [
    {
     "name": "stdout",
     "output_type": "stream",
     "text": [
      "Parameter: uvw_normals@primary@latest@model\n",
      "                       Qualifier: uvw_normals\n",
      "                     Description: Normals of triangles in the plane-of-sky\n",
      "                           Value: [[-7.11058177e-02 -4.18961617e-02  9.96588518e-01]\n",
      " [ 1.13101739e-04 -8.30098856e-02  9.96548717e-01]\n",
      " [ 7.12979065e-02 -4.19146445e-02  9.96574017e-01]\n",
      " ...\n",
      " [ 7.74373602e-01 -5.94178530e-02 -6.29932571e-01]\n",
      " [ 7.53663013e-01 -1.19183532e-01 -6.46364718e-01]\n",
      " [ 7.56432979e-01 -1.46753030e-01 -6.37395244e-01]] solRad\n",
      "                  Constrained by: \n",
      "                      Constrains: None\n",
      "                      Related to: None\n",
      "\n"
     ]
    }
   ],
   "source": [
    "print(b.get_parameter(qualifier='uvw_normals', \n",
    "                      component='primary', \n",
    "                      dataset='mesh01',\n",
    "                      kind='mesh', \n",
    "                      context='model'))"
   ]
  },
  {
   "cell_type": "markdown",
   "metadata": {},
   "source": [
    "`xyz_elements` and `xyz_normals` (roche vertices positions and triangle normals) are used internally when plotting meshes and are only exposed if 'xyz' is in the `coordinates` parameter defined in the dataset (before calling [run_compute](../api/phoebe.frontend.bundle.Bundle.run_compute.md))."
   ]
  },
  {
   "cell_type": "code",
   "execution_count": 21,
   "metadata": {},
   "outputs": [
    {
     "name": "stdout",
     "output_type": "stream",
     "text": [
      "Parameter: xyz_elements@primary@latest@model\n",
      "                       Qualifier: xyz_elements\n",
      "                     Description: Vertices of triangles in Roche coordinates\n",
      "                           Value: [[[ 1.91138952e-01  0.00000000e+00  0.00000000e+00]\n",
      "  [ 1.89268693e-01 -2.62127472e-02  0.00000000e+00]\n",
      "  [ 1.89249588e-01 -1.31054653e-02 -2.27000084e-02]]\n",
      "\n",
      " [[ 1.91138952e-01  0.00000000e+00  0.00000000e+00]\n",
      "  [ 1.89249588e-01 -1.31054653e-02 -2.27000084e-02]\n",
      "  [ 1.89246644e-01  1.31052547e-02 -2.26996386e-02]]\n",
      "\n",
      " [[ 1.91138952e-01  0.00000000e+00  0.00000000e+00]\n",
      "  [ 1.89246644e-01  1.31052547e-02 -2.26996386e-02]\n",
      "  [ 1.89263664e-01  2.62120279e-02  1.03956827e-17]]\n",
      "\n",
      " ...\n",
      "\n",
      " [[-1.10966742e-01  1.51442895e-01 -2.54467525e-02]\n",
      "  [-1.34763225e-01  1.33075480e-01 -1.25392227e-02]\n",
      "  [-1.21827124e-01  1.45206791e-01  8.41905125e-03]]\n",
      "\n",
      " [[-1.10966742e-01  1.51442895e-01 -2.54467525e-02]\n",
      "  [-1.31416032e-01  1.32552718e-01 -3.39976703e-02]\n",
      "  [-1.34763225e-01  1.33075480e-01 -1.25392227e-02]]\n",
      "\n",
      " [[-1.31416032e-01  1.32552718e-01 -3.39976703e-02]\n",
      "  [-1.10966742e-01  1.51442895e-01 -2.54467525e-02]\n",
      "  [-1.14167058e-01  1.46684716e-01 -3.60726151e-02]]]\n",
      "                  Constrained by: \n",
      "                      Constrains: None\n",
      "                      Related to: None\n",
      "\n"
     ]
    }
   ],
   "source": [
    "print(b.get_parameter(qualifier='xyz_elements', \n",
    "                      component='primary', \n",
    "                      dataset='mesh01',\n",
    "                      kind='mesh', \n",
    "                      context='model'))"
   ]
  },
  {
   "cell_type": "code",
   "execution_count": 22,
   "metadata": {},
   "outputs": [
    {
     "name": "stdout",
     "output_type": "stream",
     "text": [
      "Parameter: xyz_normals@primary@latest@model\n",
      "                       Qualifier: xyz_normals\n",
      "                     Description: Normals of triangles in Roche coordinates\n",
      "                           Value: [[ 9.96588518e-01 -7.11058177e-02 -4.18961617e-02]\n",
      " [ 9.96548717e-01  1.13101739e-04 -8.30098856e-02]\n",
      " [ 9.96574017e-01  7.12979065e-02 -4.19146445e-02]\n",
      " ...\n",
      " [-6.29932571e-01  7.74373602e-01 -5.94178530e-02]\n",
      " [-6.46364718e-01  7.53663013e-01 -1.19183532e-01]\n",
      " [-6.37395244e-01  7.56432979e-01 -1.46753030e-01]]\n",
      "                  Constrained by: \n",
      "                      Constrains: None\n",
      "                      Related to: None\n",
      "\n"
     ]
    }
   ],
   "source": [
    "print(b.get_parameter(qualifier='xyz_normals', \n",
    "                      component='primary', \n",
    "                      dataset='mesh01',\n",
    "                      kind='mesh', \n",
    "                      context='model'))"
   ]
  },
  {
   "cell_type": "code",
   "execution_count": 23,
   "metadata": {
    "scrolled": true
   },
   "outputs": [
    {
     "name": "stdout",
     "output_type": "stream",
     "text": [
      "Parameter: us@primary@latest@model\n",
      "                       Qualifier: us\n",
      "                     Description: U coordinate of center of triangles in the plane-of-sky\n",
      "                           Value: [-6.95482180e-02  1.19020929e-16  6.95482180e-02 ...\n",
      "  7.61477837e-01  7.38277630e-01  7.61548025e-01] solRad\n",
      "                  Constrained by: \n",
      "                      Constrains: None\n",
      "                      Related to: None\n",
      "\n"
     ]
    }
   ],
   "source": [
    "print(b.get_parameter(qualifier='us', \n",
    "                      component='primary', \n",
    "                      dataset='mesh01',\n",
    "                      kind='mesh', \n",
    "                      context='model'))"
   ]
  },
  {
   "cell_type": "code",
   "execution_count": 24,
   "metadata": {},
   "outputs": [
    {
     "name": "stdout",
     "output_type": "stream",
     "text": [
      "Parameter: rs@primary@latest@model\n",
      "                       Qualifier: rs\n",
      "                     Description: Distance of each triangle from center of mass (of the half-envelope for contacts)\n",
      "                           Value: [1.01066273 1.01062868 1.01066273 ... 1.00331297 1.00343833\n",
      " 1.00295669] solRad\n",
      "                  Constrained by: \n",
      "                      Constrains: None\n",
      "                      Related to: None\n",
      "\n"
     ]
    }
   ],
   "source": [
    "print(b.get_parameter(qualifier='rs', \n",
    "                      component='primary', \n",
    "                      dataset='mesh01',\n",
    "                      kind='mesh', \n",
    "                      context='model'))"
   ]
  },
  {
   "cell_type": "code",
   "execution_count": 25,
   "metadata": {},
   "outputs": [
    {
     "name": "stdout",
     "output_type": "stream",
     "text": [
      "Parameter: rprojs@primary@latest@model\n",
      "                       Qualifier: rprojs\n",
      "                     Description: Projected distance (on plane of sky) of each triangle from center of mass (of the half-envelope for contacts)\n",
      "                           Value: [0.09241618 0.09241295 0.09241618 ... 0.76293453 0.74785824\n",
      " 0.77879218] solRad\n",
      "                  Constrained by: \n",
      "                      Constrains: None\n",
      "                      Related to: None\n",
      "\n"
     ]
    }
   ],
   "source": [
    "print(b.get_parameter(qualifier='rprojs', \n",
    "                      component='primary', \n",
    "                      dataset='mesh01',\n",
    "                      kind='mesh', \n",
    "                      context='model'))"
   ]
  },
  {
   "cell_type": "code",
   "execution_count": 26,
   "metadata": {},
   "outputs": [
    {
     "name": "stdout",
     "output_type": "stream",
     "text": [
      "Parameter: nxs@primary@latest@model\n",
      "                       Qualifier: nxs\n",
      "                     Description: X component of normals\n",
      "                           Value: [ 0.99658852  0.99654872  0.99657402 ... -0.62993257 -0.64636472\n",
      " -0.63739524]\n",
      "                  Constrained by: \n",
      "                      Constrains: None\n",
      "                      Related to: None\n",
      "\n"
     ]
    }
   ],
   "source": [
    "print(b.get_parameter(qualifier='nxs', \n",
    "                      component='primary', \n",
    "                      dataset='mesh01',\n",
    "                      kind='mesh', \n",
    "                      context='model'))"
   ]
  },
  {
   "cell_type": "code",
   "execution_count": 27,
   "metadata": {},
   "outputs": [
    {
     "name": "stdout",
     "output_type": "stream",
     "text": [
      "Parameter: mus@primary@latest@model\n",
      "                       Qualifier: mus\n",
      "                     Description: Mu\n",
      "                           Value: [ 0.99658852  0.99654872  0.99657402 ... -0.62993257 -0.64636472\n",
      " -0.63739524]\n",
      "                  Constrained by: \n",
      "                      Constrains: None\n",
      "                      Related to: None\n",
      "\n"
     ]
    }
   ],
   "source": [
    "print(b.get_parameter(qualifier='mus', \n",
    "                      component='primary', \n",
    "                      dataset='mesh01',\n",
    "                      kind='mesh', \n",
    "                      context='model'))"
   ]
  },
  {
   "cell_type": "code",
   "execution_count": 28,
   "metadata": {},
   "outputs": [
    {
     "name": "stdout",
     "output_type": "stream",
     "text": [
      "Parameter: vxs@primary@latest@model\n",
      "                       Qualifier: vxs\n",
      "                     Description: X velocity of center of triangles\n",
      "                           Value: [0. 0. 0. ... 0. 0. 0.] km / s\n",
      "                  Constrained by: \n",
      "                      Constrains: None\n",
      "                      Related to: None\n",
      "\n"
     ]
    }
   ],
   "source": [
    "print(b.get_parameter(qualifier='vxs', \n",
    "                      component='primary', \n",
    "                      dataset='mesh01',\n",
    "                      kind='mesh', \n",
    "                      context='model'))"
   ]
  },
  {
   "cell_type": "code",
   "execution_count": 29,
   "metadata": {},
   "outputs": [
    {
     "name": "stdout",
     "output_type": "stream",
     "text": [
      "Parameter: areas@primary@latest@model\n",
      "                       Qualifier: areas\n",
      "                     Description: Area of triangles\n",
      "                           Value: [0.0083858  0.00838542 0.00838555 ... 0.01207408 0.00871089\n",
      " 0.00352643] solRad2\n",
      "                  Constrained by: \n",
      "                      Constrains: None\n",
      "                      Related to: None\n",
      "\n"
     ]
    }
   ],
   "source": [
    "print(b.get_parameter(qualifier='areas', \n",
    "                      component='primary', \n",
    "                      dataset='mesh01',\n",
    "                      kind='mesh', \n",
    "                      context='model'))"
   ]
  },
  {
   "cell_type": "code",
   "execution_count": 30,
   "metadata": {},
   "outputs": [
    {
     "name": "stdout",
     "output_type": "stream",
     "text": [
      "Parameter: loggs@primary@latest@model\n",
      "                       Qualifier: loggs\n",
      "                     Description: Local surface gravity\n",
      "                           Value: [4.41401467 4.41407592 4.41401467 ... 4.42770477 4.42750134\n",
      " 4.4283148 ]\n",
      "                  Constrained by: \n",
      "                      Constrains: None\n",
      "                      Related to: None\n",
      "\n"
     ]
    }
   ],
   "source": [
    "print(b.get_parameter(qualifier='loggs', \n",
    "                      component='primary', \n",
    "                      dataset='mesh01',\n",
    "                      kind='mesh', \n",
    "                      context='model'))"
   ]
  },
  {
   "cell_type": "code",
   "execution_count": 31,
   "metadata": {},
   "outputs": [
    {
     "name": "stdout",
     "output_type": "stream",
     "text": [
      "Parameter: teffs@primary@latest@model\n",
      "                       Qualifier: teffs\n",
      "                     Description: Local effective temperature\n",
      "                           Value: [6026.91748731 6026.97665997 6026.91260356 ... 5993.51016065\n",
      " 5993.2855728  5994.18366387] K\n",
      "                  Constrained by: \n",
      "                      Constrains: None\n",
      "                      Related to: None\n",
      "\n"
     ]
    }
   ],
   "source": [
    "print(b.get_parameter(qualifier='teffs', \n",
    "                      component='primary', \n",
    "                      dataset='mesh01',\n",
    "                      kind='mesh', \n",
    "                      context='model'))"
   ]
  },
  {
   "cell_type": "code",
   "execution_count": 32,
   "metadata": {},
   "outputs": [
    {
     "name": "stdout",
     "output_type": "stream",
     "text": [
      "Parameter: visibilities@primary@latest@model\n",
      "                       Qualifier: visibilities\n",
      "                     Description: Visiblity of triangles (1=visible, 0.5=partial, 0=hidden)\n",
      "                           Value: [0. 0. 0. ... 0. 0. 0.]\n",
      "                  Constrained by: \n",
      "                      Constrains: None\n",
      "                      Related to: None\n",
      "\n"
     ]
    }
   ],
   "source": [
    "print(b.get_parameter(qualifier='visibilities', \n",
    "                      component='primary', \n",
    "                      dataset='mesh01',\n",
    "                      kind='mesh', \n",
    "                      context='model'))"
   ]
  },
  {
   "cell_type": "markdown",
   "metadata": {},
   "source": [
    "Plotting\n",
    "---------------\n",
    "\n",
    "By default, MESH datasets plot as 'vs' vx 'us' (plane of sky coordinates) of just the surface elements, taken from the `uvw_elements` vectors.  If `coordinates` includes 'xyz' but not 'uvw', then the plots default to 'ys' vs 'xs'.  If `coordinates` is empty, then plotting defaults to a scatter plot based on the available parameters based on the value of `columns`."
   ]
  },
  {
   "cell_type": "code",
   "execution_count": 33,
   "metadata": {},
   "outputs": [
    {
     "data": {
      "image/png": "[encoded data removed]",
      "text/plain": [
       "<matplotlib.figure.Figure at 0x7ff4b817fcd0>"
      ]
     },
     "metadata": {},
     "output_type": "display_data"
    }
   ],
   "source": [
    "afig, mplfig = b.plot(show=True)"
   ]
  },
  {
   "cell_type": "markdown",
   "metadata": {},
   "source": [
    "Any of the 1-D fields (ie not vertices or normals) or matplotlib-recognized colornames can be used to color either the faces or edges of the triangles.  Passing none for edgecolor or facecolor turns off the coloring (you may want to set edgecolor=None if setting facecolor to disable the black outline)."
   ]
  },
  {
   "cell_type": "code",
   "execution_count": 34,
   "metadata": {},
   "outputs": [
    {
     "data": {
      "image/png": "[encoded data removed]",
      "text/plain": [
       "<matplotlib.figure.Figure at 0x7ff47f5c8150>"
      ]
     },
     "metadata": {},
     "output_type": "display_data"
    }
   ],
   "source": [
    "afig, mplfig = b.plot(fc='teffs', ec='None', show=True)"
   ]
  },
  {
   "cell_type": "markdown",
   "metadata": {},
   "source": [
    "Alternatively, if you provide simple 1-D fields to plot, a 2D x-y plot will be created using the values from each element (always for a single time - if meshes exist for multiple times in the model, you should provide a single time either in the twig or as a filter).\n",
    "\n",
    "NOTE: providing z=0 will override the default of z-ordering the points by there \"w\" (line-of-sight distance) value, which can be expensive and take a while to draw."
   ]
  },
  {
   "cell_type": "code",
   "execution_count": 35,
   "metadata": {},
   "outputs": [
    {
     "data": {
      "image/png": "[encoded data removed]",
      "text/plain": [
       "<matplotlib.figure.Figure at 0x7ff47aa19950>"
      ]
     },
     "metadata": {},
     "output_type": "display_data"
    }
   ],
   "source": [
    "afig, mplfig = b.plot(x='mus', y='teffs', z=0, show=True)"
   ]
  },
  {
   "cell_type": "markdown",
   "metadata": {},
   "source": [
    "The exception to needing to provide a time is for the per-time parameters mentioned above.  For these, time can be the x-array (not very exciting in this case with only a single time).\n",
    "\n",
    "For more examples see the following:\n",
    "- [Passband Luminosity Tutorial](pblum)"
   ]
  },
  {
   "cell_type": "code",
   "execution_count": 36,
   "metadata": {},
   "outputs": [
    {
     "name": "stderr",
     "output_type": "stream",
     "text": [
      "/home/kyle/.local/lib/python2.7/site-packages/matplotlib/axes/_base.py:2961: UserWarning: Attempting to set identical left==right results\n",
      "in singular transformations; automatically expanding.\n",
      "left=0.0, right=0.0\n",
      "  'left=%s, right=%s') % (left, right))\n",
      "/home/kyle/.local/lib/python2.7/site-packages/matplotlib/axes/_base.py:3285: UserWarning: Attempting to set identical bottom==top results\n",
      "in singular transformations; automatically expanding.\n",
      "bottom=4.188790204786394, top=4.188790204786394\n",
      "  'bottom=%s, top=%s') % (bottom, top))\n"
     ]
    },
    {
     "data": {
      "image/png": "[encoded data removed]",
      "text/plain": [
       "<matplotlib.figure.Figure at 0x7ff477da0fd0>"
      ]
     },
     "metadata": {},
     "output_type": "display_data"
    }
   ],
   "source": [
    "afig, mplfig = b.plot(x='times', y='volume', marker='s', show=True)"
   ]
  }
 ],
 "metadata": {
  "kernelspec": {
   "display_name": "Python 2",
   "language": "python",
   "name": "python2"
  },
  "language_info": {
   "codemirror_mode": {
    "name": "ipython",
    "version": 2
   },
   "file_extension": ".py",
   "mimetype": "text/x-python",
   "name": "python",
   "nbconvert_exporter": "python",
   "pygments_lexer": "ipython2",
   "version": "2.7.15rc1"
  }
 },
 "nbformat": 4,
 "nbformat_minor": 1
}
