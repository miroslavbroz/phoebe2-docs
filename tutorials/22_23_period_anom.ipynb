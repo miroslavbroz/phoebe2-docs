{
 "cells": [
  {
   "cell_type": "markdown",
   "metadata": {},
   "source": [
    "2.2 - 2.3 Migration: distinction between anomalous and sidereal period in apsidal motion cases\n",
    "============================\n",
    "\n",
    "In previous releases, the `period` parameter (in orbits) was defined interenally as the anomalistic period.  In order to more cleanly handle [apsidal motion](apsidal_motion.ipynb), the `period` parameter is now defined clearly as the sidereal period with a new `period_anom` parameter (and [constraint](constraints.ipynb)) visible whenever `dperdt != 0.0`.  Note that these two periods are identical in all cases where `dperdt == 0.0`.\n",
    "\n",
    "In the case where apsidal motion is present, this distinction affects the default phasing as well as the constraint for Kepler's third law, synchronicity, and [dpdt](dpdt.ipynb).  See the [apsidal motion tutorial](apsidal_motion.ipynb) for full details on the current implementation.\n",
    "\n",
    "See also:\n",
    "\n",
    "* [apsidal motion (dperdt, period vs period_anom)](apsidal_motion.ipynb)"
   ]
  },
  {
   "cell_type": "code",
   "execution_count": null,
   "metadata": {},
   "outputs": [],
   "source": []
  }
 ],
 "metadata": {
  "kernelspec": {
   "display_name": "Python 3",
   "language": "python",
   "name": "python3"
  },
  "language_info": {
   "codemirror_mode": {
    "name": "ipython",
    "version": 3
   },
   "file_extension": ".py",
   "mimetype": "text/x-python",
   "name": "python",
   "nbconvert_exporter": "python",
   "pygments_lexer": "ipython3",
   "version": "3.8.2"
  }
 },
 "nbformat": 4,
 "nbformat_minor": 2
}
