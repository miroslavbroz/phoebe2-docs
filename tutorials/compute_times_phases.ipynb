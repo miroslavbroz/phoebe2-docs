{
 "cells": [
  {
   "cell_type": "markdown",
   "metadata": {},
   "source": [
    "Advanced: compute_times & compute_phases\n",
    "============================\n",
    "\n",
    "Setup\n",
    "-----------------------------"
   ]
  },
  {
   "cell_type": "markdown",
   "metadata": {},
   "source": [
    "Let's first make sure we have the latest version of PHOEBE 2.2 installed. (You can comment out this line if you don't use pip for your installation or don't want to update to the latest release)."
   ]
  },
  {
   "cell_type": "code",
   "execution_count": null,
   "metadata": {},
   "outputs": [],
   "source": [
    "!pip install -I \"phoebe>=2.2,<2.3\""
   ]
  },
  {
   "cell_type": "markdown",
   "metadata": {},
   "source": [
    "As always, let's do imports and create a new Bundle.  See [Building a System](building_a_system.html) for more details."
   ]
  },
  {
   "cell_type": "code",
   "execution_count": 1,
   "metadata": {},
   "outputs": [],
   "source": [
    "import phoebe\n",
    "from phoebe import u # units\n",
    "\n",
    "b = phoebe.default_binary()"
   ]
  },
  {
   "cell_type": "code",
   "execution_count": 2,
   "metadata": {},
   "outputs": [
    {
     "data": {
      "text/plain": [
       "<ParameterSet: 20 parameters | contexts: dataset, compute, constraint>"
      ]
     },
     "execution_count": 2,
     "metadata": {},
     "output_type": "execute_result"
    }
   ],
   "source": [
    "b.add_dataset('lc', times=phoebe.linspace(0,10,101), dataset='lc01')"
   ]
  },
  {
   "cell_type": "markdown",
   "metadata": {
    "collapsed": true
   },
   "source": [
    "Overriding Computation Times\n",
    "----------------------------\n",
    "\n",
    "If `compute_times` is not empty (by either providing `compute_times` *or* `compute_phases`), the provided value will be used to compute the model instead of those in the `times` parameter."
   ]
  },
  {
   "cell_type": "code",
   "execution_count": 3,
   "metadata": {},
   "outputs": [
    {
     "name": "stdout",
     "output_type": "stream",
     "text": [
      "ParameterSet: 2 parameters\n",
      "              times@lc01@dataset: [ 0.   0.1  0.2 ...  9.8  9.9 10. ] d\n",
      "      compute_times@lc01@dataset: [] d\n"
     ]
    }
   ],
   "source": [
    "print(b.filter(qualifier=['times', 'compute_times'], context='dataset'))"
   ]
  },
  {
   "cell_type": "code",
   "execution_count": 4,
   "metadata": {},
   "outputs": [],
   "source": [
    "b.set_value('compute_times', phoebe.linspace(0,3,11))"
   ]
  },
  {
   "cell_type": "code",
   "execution_count": 5,
   "metadata": {},
   "outputs": [
    {
     "data": {
      "text/plain": [
       "<ParameterSet: 2 parameters | qualifiers: fluxes, times>"
      ]
     },
     "execution_count": 5,
     "metadata": {},
     "output_type": "execute_result"
    }
   ],
   "source": [
    "b.run_compute()"
   ]
  },
  {
   "cell_type": "code",
   "execution_count": 6,
   "metadata": {},
   "outputs": [
    {
     "name": "stdout",
     "output_type": "stream",
     "text": [
      "dataset times: [ 0.   0.1  0.2  0.3  0.4  0.5  0.6  0.7  0.8  0.9  1.   1.1  1.2  1.3\n",
      "  1.4  1.5  1.6  1.7  1.8  1.9  2.   2.1  2.2  2.3  2.4  2.5  2.6  2.7\n",
      "  2.8  2.9  3.   3.1  3.2  3.3  3.4  3.5  3.6  3.7  3.8  3.9  4.   4.1\n",
      "  4.2  4.3  4.4  4.5  4.6  4.7  4.8  4.9  5.   5.1  5.2  5.3  5.4  5.5\n",
      "  5.6  5.7  5.8  5.9  6.   6.1  6.2  6.3  6.4  6.5  6.6  6.7  6.8  6.9\n",
      "  7.   7.1  7.2  7.3  7.4  7.5  7.6  7.7  7.8  7.9  8.   8.1  8.2  8.3\n",
      "  8.4  8.5  8.6  8.7  8.8  8.9  9.   9.1  9.2  9.3  9.4  9.5  9.6  9.7\n",
      "  9.8  9.9 10. ]\n",
      "dataset compute_times: [0.  0.3 0.6 0.9 1.2 1.5 1.8 2.1 2.4 2.7 3. ]\n",
      "model times: [0.  0.3 0.6 0.9 1.2 1.5 1.8 2.1 2.4 2.7 3. ]\n"
     ]
    }
   ],
   "source": [
    "print(\"dataset times: {}\\ndataset compute_times: {}\\nmodel times: {}\".format(\n",
    "    b.get_value('times', context='dataset'),\n",
    "    b.get_value('compute_times', context='dataset'),\n",
    "    b.get_value('times', context='model')\n",
    "    ))"
   ]
  },
  {
   "cell_type": "markdown",
   "metadata": {},
   "source": [
    "Phase-Time Conversion\n",
    "----------------------------------"
   ]
  },
  {
   "cell_type": "markdown",
   "metadata": {},
   "source": [
    "In addition to the ability to provide `compute_times`, we can alternatively provide `compute_phases`.  These two parameters are linked via a constraint (see the [constraints tutorial](./constraints.ipynb)), with `compute_phases` *constrained* by default."
   ]
  },
  {
   "cell_type": "code",
   "execution_count": 7,
   "metadata": {},
   "outputs": [
    {
     "name": "stdout",
     "output_type": "stream",
     "text": [
      "ParameterSet: 3 parameters\n",
      "              times@lc01@dataset: [ 0.   0.1  0.2 ...  9.8  9.9 10. ] d\n",
      "      compute_times@lc01@dataset: [0.  0.3 0.6 ... 2.4 2.7 3. ] d\n",
      "* compute_phases@binary@lc01@...: [0.  0.3 0.6 ... 0.4 0.7 0. ]\n"
     ]
    }
   ],
   "source": [
    "print(b.filter(qualifier=['times', 'compute_times', 'compute_phases'], context='dataset'))"
   ]
  },
  {
   "cell_type": "markdown",
   "metadata": {},
   "source": [
    "If we look at the constraint itself, we see that this translation is rudimentary and does not include all the same complexity as [b.to_phase](../api/phoebe.frontend.bundle.Bundle.to_phase.md) or [b.to_time](../api/phoebe.frontend.bundle.Bundle.to_time.md), but it will immediately react to a change in the orbital period (of the top-level orbit in the hierarchy)."
   ]
  },
  {
   "cell_type": "code",
   "execution_count": 8,
   "metadata": {},
   "outputs": [
    {
     "name": "stdout",
     "output_type": "stream",
     "text": [
      "Constrains (qualifier): compute_phases\n",
      "Expression in solar units (value): ({compute_times@lc01@dataset} / {period@binary@component}) % 1.000000\n",
      "Current Result (result): [0.  0.3 0.6 0.9 0.2 0.5 0.8 0.1 0.4 0.7 0. ]\n"
     ]
    }
   ],
   "source": [
    "print(b.get_constraint('compute_phases'))"
   ]
  },
  {
   "cell_type": "markdown",
   "metadata": {},
   "source": [
    "In order to provide `compute_phases` instead of `compute_times`, we must call [b.flip_constraint](../api/phoebe.frontend.bundle.Bundle.flip_constraint.md)."
   ]
  },
  {
   "cell_type": "code",
   "execution_count": 9,
   "metadata": {},
   "outputs": [
    {
     "data": {
      "text/plain": [
       "<ConstraintParameter: {compute_times@lc01@dataset} = {compute_phases@binary@lc01@dataset} * {period@binary@component} (solar units) => [0.  0.3 0.6 0.9 0.2 0.5 0.8 0.1 0.4 0.7 0. ] d>"
      ]
     },
     "execution_count": 9,
     "metadata": {},
     "output_type": "execute_result"
    }
   ],
   "source": [
    "b.flip_constraint('compute_phases', solve_for='compute_times')"
   ]
  },
  {
   "cell_type": "code",
   "execution_count": 10,
   "metadata": {},
   "outputs": [],
   "source": [
    "b.set_value('compute_phases', phoebe.linspace(0,1,11))"
   ]
  },
  {
   "cell_type": "code",
   "execution_count": 11,
   "metadata": {},
   "outputs": [
    {
     "name": "stdout",
     "output_type": "stream",
     "text": [
      "ParameterSet: 3 parameters\n",
      "              times@lc01@dataset: [ 0.   0.1  0.2 ...  9.8  9.9 10. ] d\n",
      "*     compute_times@lc01@dataset: [0.  0.1 0.2 ... 0.8 0.9 1. ] d\n",
      "  compute_phases@binary@lc01@...: [0.  0.1 0.2 ... 0.8 0.9 1. ]\n"
     ]
    }
   ],
   "source": [
    "print(b.filter(qualifier=['times', 'compute_times', 'compute_phases'], context='dataset'))"
   ]
  },
  {
   "cell_type": "markdown",
   "metadata": {},
   "source": [
    "Note that under the hood, PHOEBE **always** works in time-space, meaning it is the *constrained* value of `compute_times` that is being passed under-the-hood... even if those will result in slightly different phase-values due to the values of t0, dperdt, etc."
   ]
  },
  {
   "cell_type": "markdown",
   "metadata": {},
   "source": [
    "Also note that if directly passing `compute_phases` to [b.add_dataset](../api/phoebe.frontend.bundle.Bundle.add_dataset.md), the constraint will be flipped on our behalf.  We would then need to flip the constraint in order to provide `compute_times` instead."
   ]
  },
  {
   "cell_type": "markdown",
   "metadata": {},
   "source": [
    "Interpolating the Model\n",
    "------------------------------"
   ]
  },
  {
   "cell_type": "markdown",
   "metadata": {},
   "source": [
    "Whether or not we used `compute_times`/`compute_phases` or not, it is sometimes useful to be able to interpolate on the resulting model.  In the case where we provided `compute_times`/`compute_phases` to \"down-sample\" from a large dataset, this can be particularly useful.\n",
    "\n",
    "We can call [interp_value](../api/phoebe.parameters.FloatArrayParameter.interp_value.md) on any [FloatArrayParameter](../api/phoebe.parameters.FloatArrayParameter.md).  "
   ]
  },
  {
   "cell_type": "code",
   "execution_count": 12,
   "metadata": {},
   "outputs": [
    {
     "data": {
      "text/plain": [
       "array([0.98319279, 2.00645217, 1.99253902, 1.99238306, 2.00632529,\n",
       "       0.98319279, 2.00645217, 1.99253902, 1.99238306, 2.00632529,\n",
       "       0.98319279])"
      ]
     },
     "execution_count": 12,
     "metadata": {},
     "output_type": "execute_result"
    }
   ],
   "source": [
    "b.get_parameter('fluxes', context='model').get_value()"
   ]
  },
  {
   "cell_type": "code",
   "execution_count": 13,
   "metadata": {},
   "outputs": [
    {
     "data": {
      "text/plain": [
       "1.9970304694540848"
      ]
     },
     "execution_count": 13,
     "metadata": {},
     "output_type": "execute_result"
    }
   ],
   "source": [
    "b.get_parameter('fluxes', context='model').interp_value(times=1.0)"
   ]
  },
  {
   "cell_type": "code",
   "execution_count": 15,
   "metadata": {},
   "outputs": [
    {
     "data": {
      "text/plain": [
       "array([0.98319279, 1.08551873, 1.18784467, 1.2901706 , 1.39249654,\n",
       "       1.49482248, 1.59714842, 1.69947435, 1.80180029, 1.90412623,\n",
       "       2.00645217, 2.00506085, 2.00366954, 2.00227822, 2.00088691,\n",
       "       1.99949559, 1.99810428, 1.99671296, 1.99532165, 1.99393033,\n",
       "       1.99253902, 1.99252342, 1.99250782, 1.99249223, 1.99247663,\n",
       "       1.99246104, 1.99244544, 1.99242985, 1.99241425, 1.99239865,\n",
       "       1.99238306, 1.99377728, 1.9951715 , 1.99656573, 1.99795995,\n",
       "       1.99935418, 2.0007484 , 2.00214262, 2.00353685, 2.00493107,\n",
       "       2.00632529, 1.90401204, 1.80169879, 1.69938554, 1.59707229,\n",
       "       1.49475904, 1.39244579, 1.29013254, 1.18781929, 1.08550604,\n",
       "       0.98319279, 1.08551873, 1.18784467, 1.2901706 , 1.39249654,\n",
       "       1.49482248, 1.59714842, 1.69947435, 1.80180029, 1.90412623,\n",
       "       2.00645217, 2.00506085, 2.00366954, 2.00227822, 2.00088691,\n",
       "       1.99949559, 1.99810428, 1.99671296, 1.99532165, 1.99393033,\n",
       "       1.99253902, 1.99252342, 1.99250782, 1.99249223, 1.99247663,\n",
       "       1.99246104, 1.99244544, 1.99242985, 1.99241425, 1.99239865,\n",
       "       1.99238306, 1.99377728, 1.9951715 , 1.99656573, 1.99795995,\n",
       "       1.99935418, 2.0007484 , 2.00214262, 2.00353685, 2.00493107,\n",
       "       2.00632529, 1.90401204, 1.80169879, 1.69938554, 1.59707229,\n",
       "       1.49475904, 1.39244579, 1.29013254, 1.18781929, 1.08550604,\n",
       "       0.98319279])"
      ]
     },
     "execution_count": 15,
     "metadata": {},
     "output_type": "execute_result"
    }
   ],
   "source": [
    "b.get_parameter('fluxes', context='model').interp_value(times=phoebe.linspace(0,3,101))"
   ]
  },
  {
   "cell_type": "markdown",
   "metadata": {},
   "source": [
    "In the case of times, this will *automatically* interpolate in phase-space if the provided time is outside the range of the referenced times array.  If you have a logger enabled with at least the 'warning' level, this will raise a warning and state the phases at which the interpolation will be completed."
   ]
  },
  {
   "cell_type": "code",
   "execution_count": 16,
   "metadata": {},
   "outputs": [
    {
     "data": {
      "text/plain": [
       "0.9831927925898658"
      ]
     },
     "execution_count": 16,
     "metadata": {},
     "output_type": "execute_result"
    }
   ],
   "source": [
    "b.get_parameter('fluxes', context='model').interp_value(times=5)"
   ]
  },
  {
   "cell_type": "markdown",
   "metadata": {},
   "source": [
    "Determining & Plotting Residuals\n",
    "----------------------------"
   ]
  },
  {
   "cell_type": "markdown",
   "metadata": {},
   "source": [
    "One particularly useful case for interpolating is to compare a model (perhaps computed in phase-space) to a dataset with a large number of datapoints.  We can do this directly by calling [compute_residuals](../api/phoebe.parameters.ParameterSet.compute_residuals.md), which will handle any necessary interpolation and compare the dependent variable between the dataset and models.\n",
    "\n",
    "Note that if there are more than one dataset or model attached to the bundle, it may be necessary to pass `dataset` and/or `model` (or filter in advanced and call compute_residuals on the filtered [ParameterSet](../api/phoebe.paraemters.ParameterSet.md).\n",
    "\n",
    "To see this in action, we'll first create a \"fake\" observational dataset, add some noise, recompute the model using `compute_phases`, and then compute the residuals."
   ]
  },
  {
   "cell_type": "code",
   "execution_count": 17,
   "metadata": {},
   "outputs": [
    {
     "data": {
      "text/plain": [
       "<ParameterSet: 20 parameters | contexts: dataset, compute, constraint>"
      ]
     },
     "execution_count": 17,
     "metadata": {},
     "output_type": "execute_result"
    }
   ],
   "source": [
    "b.add_dataset('lc', \n",
    "              times=phoebe.linspace(0,10,1000),\n",
    "              dataset='lc01',\n",
    "              overwrite=True)"
   ]
  },
  {
   "cell_type": "code",
   "execution_count": 18,
   "metadata": {},
   "outputs": [
    {
     "data": {
      "text/plain": [
       "<ParameterSet: 2 parameters | qualifiers: fluxes, times>"
      ]
     },
     "execution_count": 18,
     "metadata": {},
     "output_type": "execute_result"
    }
   ],
   "source": [
    "b.run_compute(irrad_method='none')"
   ]
  },
  {
   "cell_type": "code",
   "execution_count": 19,
   "metadata": {},
   "outputs": [],
   "source": [
    "fluxes = b.get_value('fluxes', context='model')\n",
    "b.set_value('fluxes', context='dataset', value=fluxes)"
   ]
  },
  {
   "cell_type": "code",
   "execution_count": 20,
   "metadata": {},
   "outputs": [
    {
     "data": {
      "text/plain": [
       "<ConstraintParameter: {compute_times@lc01@dataset} = {compute_phases@binary@lc01@dataset} * {period@binary@component} (solar units) => [] d>"
      ]
     },
     "execution_count": 20,
     "metadata": {},
     "output_type": "execute_result"
    }
   ],
   "source": [
    "b.flip_constraint('compute_phases', solve_for='compute_times')"
   ]
  },
  {
   "cell_type": "code",
   "execution_count": 21,
   "metadata": {},
   "outputs": [],
   "source": [
    "b.set_value('compute_phases', phoebe.linspace(0,1,101))"
   ]
  },
  {
   "cell_type": "code",
   "execution_count": 22,
   "metadata": {},
   "outputs": [],
   "source": [
    "b.set_value('teff', component='primary', value=5950)"
   ]
  },
  {
   "cell_type": "code",
   "execution_count": 23,
   "metadata": {},
   "outputs": [
    {
     "data": {
      "text/plain": [
       "<ParameterSet: 2 parameters | qualifiers: fluxes, times>"
      ]
     },
     "execution_count": 23,
     "metadata": {},
     "output_type": "execute_result"
    }
   ],
   "source": [
    "b.run_compute(irrad_method='none')"
   ]
  },
  {
   "cell_type": "code",
   "execution_count": 24,
   "metadata": {},
   "outputs": [
    {
     "name": "stdout",
     "output_type": "stream",
     "text": [
      "(1000, 101)\n"
     ]
    }
   ],
   "source": [
    "print(len(b.get_value('fluxes', context='dataset')), len(b.get_value('fluxes', context='model')))"
   ]
  },
  {
   "cell_type": "code",
   "execution_count": 25,
   "metadata": {},
   "outputs": [
    {
     "data": {
      "text/latex": [
       "$[-0.036818353,~-0.036616191,~-0.036700433,~\\dots,~-0.036700001,~-0.036620371,~-0.036818353] \\; \\mathrm{\\frac{W}{m^{2}}}$"
      ],
      "text/plain": [
       "<Quantity [-0.03681835, -0.03661619, -0.03670043, -0.03685692, -0.03698388,\n",
       "           -0.03696743, -0.03695564, -0.03714817, -0.03717157, -0.0371856 ,\n",
       "           -0.03725332, -0.03730022, -0.03732466, -0.03735579, -0.03738683,\n",
       "           -0.03744787, -0.03747353, -0.03756298, -0.03760218, -0.03761259,\n",
       "           -0.0376065 , -0.03763708, -0.0377037 , -0.03770604, -0.03773001,\n",
       "           -0.03762411, -0.03774265, -0.03775119, -0.03771485, -0.03780185,\n",
       "           -0.03773623, -0.03771217, -0.0375733 , -0.03763671, -0.03749983,\n",
       "           -0.03750276, -0.03743963, -0.037451  , -0.03736805, -0.03731474,\n",
       "           -0.0372846 , -0.0372944 , -0.03723528, -0.0369616 , -0.03508127,\n",
       "           -0.03286511, -0.0280351 , -0.02147501, -0.01432567, -0.0078599 ,\n",
       "           -0.17038423, -0.00744108, -0.01464007, -0.02187356, -0.02811824,\n",
       "           -0.03256804, -0.03586239, -0.03727923, -0.03728409, -0.03727093,\n",
       "           -0.03730617, -0.03739948, -0.03737528, -0.03736783, -0.03747144,\n",
       "           -0.03754932, -0.03755018, -0.03768162, -0.03762145, -0.03767539,\n",
       "           -0.03761022, -0.03767602, -0.0377615 , -0.03770448, -0.03768578,\n",
       "           -0.03760449, -0.03774391, -0.03783869, -0.03768369, -0.03776945,\n",
       "           -0.03765506, -0.03757101, -0.03747971, -0.03754135, -0.03742985,\n",
       "           -0.03743348, -0.03734976, -0.03736981, -0.03725338, -0.03720285,\n",
       "           -0.0373419 , -0.03722649, -0.03724457, -0.03678858, -0.03348382,\n",
       "           -0.03466661, -0.0354635 , -0.03603096, -0.03715086, -0.03971134,\n",
       "           -0.04294004, -0.03737832, -0.03619183, -0.03543578, -0.03464351,\n",
       "           -0.03358068, -0.03524852, -0.03719435, -0.03721083, -0.03730991,\n",
       "           -0.03728358, -0.03730941, -0.03725818, -0.03728158, -0.03743323,\n",
       "           -0.03743901, -0.03745306, -0.03754717, -0.0376117 , -0.03767259,\n",
       "           -0.03756473, -0.03768475, -0.03773996, -0.03766315, -0.03765359,\n",
       "           -0.0375957 , -0.03780808, -0.03780023, -0.03771337, -0.03781057,\n",
       "           -0.03766301, -0.03762327, -0.03749943, -0.03761825, -0.0374581 ,\n",
       "           -0.03746245, -0.03739719, -0.03744039, -0.03726597, -0.03722965,\n",
       "           -0.03740288, -0.03723624, -0.03727917, -0.03664822, -0.03142282,\n",
       "           -0.0300814 , -0.02583671, -0.0200513 , -0.01391265, -0.01016997,\n",
       "           -0.15771686, -0.00881826, -0.01492122, -0.02118718, -0.02653437,\n",
       "           -0.02988481, -0.0349413 , -0.0371903 , -0.03726835, -0.03737076,\n",
       "           -0.03733045, -0.03738981, -0.03730329, -0.03741123, -0.03749899,\n",
       "           -0.03751201, -0.03751476, -0.03759838, -0.03769021, -0.03777448,\n",
       "           -0.03763048, -0.03775503, -0.03779772, -0.03767443, -0.03771437,\n",
       "           -0.03761712, -0.03776348, -0.03779294, -0.03773239, -0.03776092,\n",
       "           -0.03765815, -0.03753779, -0.0374664 , -0.03765174, -0.03738859,\n",
       "           -0.03743062, -0.03735647, -0.03733787, -0.03723456, -0.03718557,\n",
       "           -0.03736437, -0.03720114, -0.03721508, -0.03653174, -0.03060957,\n",
       "           -0.03277889, -0.03411646, -0.03546223, -0.03747243, -0.04248979,\n",
       "           -0.04610786, -0.03786329, -0.03580322, -0.03417477, -0.03280175,\n",
       "           -0.03087445, -0.03512306, -0.03709672, -0.03717629, -0.03730475,\n",
       "           -0.03733039, -0.03736813, -0.03731422, -0.03730947, -0.03742602,\n",
       "           -0.03745627, -0.03746843, -0.03754738, -0.03760404, -0.03764017,\n",
       "           -0.03760892, -0.03774176, -0.03770454, -0.03766814, -0.03772573,\n",
       "           -0.03759421, -0.0377799 , -0.03785682, -0.03775659, -0.03781688,\n",
       "           -0.03767487, -0.03757053, -0.03746999, -0.03778855, -0.03751114,\n",
       "           -0.03752266, -0.03743508, -0.03739074, -0.03726332, -0.03723859,\n",
       "           -0.03731349, -0.03724007, -0.03723771, -0.03637998, -0.02873062,\n",
       "           -0.02785205, -0.02408875, -0.0187361 , -0.01352535, -0.01210831,\n",
       "           -0.14317213, -0.00999606, -0.01529226, -0.02080509, -0.02552148,\n",
       "           -0.02765359, -0.03520696, -0.03711214, -0.03721085, -0.03742043,\n",
       "           -0.03729414, -0.03740216, -0.03732744, -0.03735279, -0.03741879,\n",
       "           -0.03756149, -0.03759358, -0.03758867, -0.03765893, -0.03769445,\n",
       "           -0.03766341, -0.03778071, -0.03773628, -0.03765788, -0.03763229,\n",
       "           -0.03752056, -0.03769534, -0.03782635, -0.03772957, -0.03774229,\n",
       "           -0.037637  , -0.03754792, -0.0373939 , -0.03772928, -0.03738509,\n",
       "           -0.03737563, -0.03736593, -0.03743125, -0.03717129, -0.03710854,\n",
       "           -0.037246  , -0.0372695 , -0.03728015, -0.03626655, -0.0285949 ,\n",
       "           -0.03128773, -0.03322817, -0.03505409, -0.03777111, -0.04485528,\n",
       "           -0.04764658, -0.03810884, -0.03544679, -0.03326257, -0.03150227,\n",
       "           -0.0288254 , -0.03538502, -0.03708212, -0.03718179, -0.03738071,\n",
       "           -0.03725088, -0.03733667, -0.03731509, -0.03730761, -0.03737245,\n",
       "           -0.03750073, -0.03756517, -0.03747104, -0.03765322, -0.03770664,\n",
       "           -0.03763184, -0.03773487, -0.03772716, -0.03763644, -0.03764407,\n",
       "           -0.03750489, -0.03769172, -0.03780661, -0.03776713, -0.03777332,\n",
       "           -0.03768901, -0.03756349, -0.03747324, -0.03760389, -0.03744603,\n",
       "           -0.03741542, -0.0374314 , -0.03743041, -0.03720209, -0.03712646,\n",
       "           -0.03730076, -0.0372087 , -0.0372572 , -0.0361771 , -0.02688165,\n",
       "           -0.02625561, -0.02267133, -0.0177329 , -0.01297058, -0.01352063,\n",
       "           -0.12728053, -0.01088813, -0.01572242, -0.02072304, -0.02489022,\n",
       "           -0.02625259, -0.03550529, -0.03715832, -0.03729567, -0.03745124,\n",
       "           -0.03730681, -0.03740082, -0.03730861, -0.03736472, -0.03742609,\n",
       "           -0.03749425, -0.03756794, -0.03757205, -0.03765965, -0.03779015,\n",
       "           -0.03775145, -0.03773557, -0.03777365, -0.03768883, -0.03756804,\n",
       "           -0.03750552, -0.03768719, -0.03776867, -0.03779708, -0.03772546,\n",
       "           -0.03766696, -0.03757862, -0.03737937, -0.03756979, -0.03742035,\n",
       "           -0.03739233, -0.03742892, -0.03740597, -0.03715968, -0.03705573,\n",
       "           -0.03728052, -0.0371602 , -0.03724879, -0.0361018 , -0.02744832,\n",
       "           -0.03050369, -0.03266848, -0.03488152, -0.03803628, -0.04660649,\n",
       "           -0.04812019, -0.03819527, -0.03508918, -0.03275768, -0.03063187,\n",
       "           -0.02756065, -0.0356522 , -0.03708481, -0.03718474, -0.03730856,\n",
       "           -0.03733922, -0.03733895, -0.03723367, -0.03736269, -0.03734087,\n",
       "           -0.03742756, -0.03751363, -0.03745416, -0.03757613, -0.03777693,\n",
       "           -0.03768315, -0.0377009 , -0.03778714, -0.03778252, -0.03751459,\n",
       "           -0.03751   , -0.03769273, -0.03777044, -0.03785454, -0.03774308,\n",
       "           -0.03777274, -0.03757313, -0.03742943, -0.03756784, -0.03746471,\n",
       "           -0.03740406, -0.03751696, -0.03745609, -0.03723102, -0.03708465,\n",
       "           -0.0372598 , -0.03719894, -0.03736935, -0.03605634, -0.02594042,\n",
       "           -0.02526535, -0.02163807, -0.01686258, -0.01241487, -0.01431083,\n",
       "           -0.11047884, -0.01168378, -0.0162284 , -0.02106459, -0.02480141,\n",
       "           -0.02563173, -0.03576994, -0.03713157, -0.03722473, -0.03736745,\n",
       "           -0.03732586, -0.03741114, -0.03732302, -0.03736456, -0.0373933 ,\n",
       "           -0.03749665, -0.03753811, -0.03749632, -0.03760994, -0.03771779,\n",
       "           -0.0377708 , -0.03776689, -0.03779385, -0.03771204, -0.03748898,\n",
       "           -0.03752643, -0.03770427, -0.03778758, -0.03772806, -0.03772198,\n",
       "           -0.03775745, -0.03757443, -0.03739983, -0.0375248 , -0.03741786,\n",
       "           -0.03736303, -0.03747282, -0.03748994, -0.03721384, -0.03702186,\n",
       "           -0.03720354, -0.03716829, -0.03728418, -0.03589468, -0.02717063,\n",
       "           -0.03044259, -0.03249105, -0.0348937 , -0.0382129 , -0.04776162,\n",
       "           -0.04771571, -0.03817333, -0.03495262, -0.0325476 , -0.03029084,\n",
       "           -0.02700028, -0.03607141, -0.03715124, -0.03723836, -0.03726885,\n",
       "           -0.03733814, -0.03738062, -0.0372413 , -0.0373299 , -0.03733846,\n",
       "           -0.03748143, -0.03756269, -0.03741492, -0.03754587, -0.03759047,\n",
       "           -0.03775588, -0.03774202, -0.0377969 , -0.03767624, -0.03745579,\n",
       "           -0.03759262, -0.03778131, -0.03777309, -0.03777043, -0.03779768,\n",
       "           -0.03776506, -0.03760456, -0.03755162, -0.03754701, -0.03750218,\n",
       "           -0.03742723, -0.03753627, -0.03751936, -0.03730644, -0.03706529,\n",
       "           -0.03724834, -0.03721423, -0.03739457, -0.03567062, -0.02573957,\n",
       "           -0.02486104, -0.02098039, -0.01620558, -0.0117756 , -0.01445878,\n",
       "           -0.09285208, -0.01238942, -0.0169567 , -0.02166336, -0.02525367,\n",
       "           -0.02575528, -0.0360333 , -0.03730464, -0.03721295, -0.03733992,\n",
       "           -0.03735224, -0.03739376, -0.03731831, -0.03737813, -0.03747259,\n",
       "           -0.03754259, -0.0376296 , -0.03747125, -0.03760712, -0.03765346,\n",
       "           -0.03776437, -0.03781355, -0.0378553 , -0.03771012, -0.03750367,\n",
       "           -0.03754395, -0.03773541, -0.03772661, -0.03770024, -0.03774163,\n",
       "           -0.0377477 , -0.03765255, -0.03746028, -0.03748442, -0.03744515,\n",
       "           -0.03736908, -0.03742687, -0.03739494, -0.03732448, -0.03702833,\n",
       "           -0.03725358, -0.03720668, -0.03719015, -0.03557609, -0.02766921,\n",
       "           -0.03061188, -0.03271662, -0.03509094, -0.03829236, -0.04816238,\n",
       "           -0.04661359, -0.03796719, -0.03497957, -0.03265511, -0.03051992,\n",
       "           -0.02727159, -0.0361488 , -0.03714043, -0.03715615, -0.03732049,\n",
       "           -0.03736433, -0.03739531, -0.03721575, -0.03729504, -0.03741517,\n",
       "           -0.03745671, -0.03749258, -0.03741699, -0.03758862, -0.0375504 ,\n",
       "           -0.03768776, -0.03787601, -0.03790104, -0.03774652, -0.03747519,\n",
       "           -0.03753761, -0.03779292, -0.03774303, -0.03773258, -0.03771007,\n",
       "           -0.03782122, -0.03767619, -0.03757014, -0.03754813, -0.03759991,\n",
       "           -0.03740715, -0.03750432, -0.03749774, -0.03745221, -0.03708293,\n",
       "           -0.03722055, -0.03720875, -0.03722627, -0.0354226 , -0.02637253,\n",
       "           -0.02488055, -0.02072532, -0.01566656, -0.01100964, -0.01384906,\n",
       "           -0.07451275, -0.01301977, -0.01776276, -0.02262792, -0.02632788,\n",
       "           -0.02670968, -0.03626601, -0.03717699, -0.03719798, -0.03731085,\n",
       "           -0.03737775, -0.03739414, -0.03729392, -0.03735938, -0.03749303,\n",
       "           -0.03769807, -0.0376146 , -0.03755158, -0.03759152, -0.03757244,\n",
       "           -0.03772209, -0.03785321, -0.03794767, -0.0378139 , -0.03744532,\n",
       "           -0.0375394 , -0.03774474, -0.03767718, -0.03766938, -0.0376583 ,\n",
       "           -0.03774726, -0.0376567 , -0.03753186, -0.03750204, -0.03747928,\n",
       "           -0.03738458, -0.03743199, -0.03744902, -0.03740535, -0.03705008,\n",
       "           -0.03725418, -0.03715449, -0.03716593, -0.03534024, -0.02891783,\n",
       "           -0.03150666, -0.0332967 , -0.03538068, -0.0381736 , -0.04769885,\n",
       "           -0.04478153, -0.03766493, -0.03510742, -0.03315834, -0.03133929,\n",
       "           -0.02840438, -0.0364682 , -0.03721937, -0.03718131, -0.03729447,\n",
       "           -0.0373375 , -0.03730736, -0.03724073, -0.03731786, -0.03742947,\n",
       "           -0.03747845, -0.03751727, -0.03746924, -0.03753271, -0.03752659,\n",
       "           -0.03770914, -0.03779442, -0.03794274, -0.03783496, -0.03749621,\n",
       "           -0.03756536, -0.03769981, -0.03768219, -0.03765837, -0.03773121,\n",
       "           -0.03777883, -0.03776018, -0.03765409, -0.03756197, -0.03758632,\n",
       "           -0.03743711, -0.03747124, -0.03745109, -0.03754481, -0.03711699,\n",
       "           -0.03723651, -0.03718015, -0.03716953, -0.03516911, -0.02774001,\n",
       "           -0.02554515, -0.02084709, -0.01521165, -0.01001526, -0.01223754,\n",
       "           -0.05560209, -0.013351  , -0.01879763, -0.02403234, -0.02790866,\n",
       "           -0.02858866, -0.03652438, -0.03726159, -0.03718111, -0.03729443,\n",
       "           -0.03743307, -0.03736048, -0.03728274, -0.03748991, -0.03747089,\n",
       "           -0.03753432, -0.037577  , -0.03753881, -0.03763109, -0.03765114,\n",
       "           -0.03771111, -0.03784426, -0.03796408, -0.03785247, -0.03747165,\n",
       "           -0.03760604, -0.03767628, -0.03765733, -0.03761995, -0.03768746,\n",
       "           -0.03772099, -0.03768779, -0.03754308, -0.03749282, -0.03747572,\n",
       "           -0.03734891, -0.03750731, -0.03737399, -0.03734459, -0.03711625,\n",
       "           -0.03730223, -0.03713905, -0.03705381, -0.03508974, -0.0309401 ,\n",
       "           -0.03291122, -0.03425484, -0.03569803, -0.03796264, -0.04608212,\n",
       "           -0.04246204, -0.03731478, -0.03557161, -0.03414446, -0.03273626,\n",
       "           -0.03045295, -0.03666442, -0.03722925, -0.03714724, -0.03722081,\n",
       "           -0.0372826 , -0.03729478, -0.03721972, -0.0374385 , -0.03742195,\n",
       "           -0.03746066, -0.03760716, -0.03747175, -0.0375589 , -0.03759925,\n",
       "           -0.03772072, -0.03774897, -0.03786364, -0.03785207, -0.03752288,\n",
       "           -0.03762895, -0.03771423, -0.0377373 , -0.037671  , -0.03776955,\n",
       "           -0.03771425, -0.03777024, -0.0376145 , -0.03759116, -0.03760452,\n",
       "           -0.03742093, -0.03746074, -0.03744743, -0.03737818, -0.03715469,\n",
       "           -0.03724563, -0.03720395, -0.03711031, -0.03492892, -0.0298685 ,\n",
       "           -0.02664031, -0.02120178, -0.0148551 , -0.00888156, -0.0092181 ,\n",
       "           -0.03621049, -0.01378157, -0.02005716, -0.02593549, -0.0301755 ,\n",
       "           -0.03133836, -0.03677155, -0.03720657, -0.03719186, -0.03726173,\n",
       "           -0.03732605, -0.03735813, -0.03729821, -0.0374412 , -0.03748914,\n",
       "           -0.03753669, -0.0375948 , -0.03757597, -0.03762975, -0.03761288,\n",
       "           -0.03769151, -0.03774643, -0.03784478, -0.03788   , -0.03753177,\n",
       "           -0.03762908, -0.03767494, -0.03771063, -0.03769561, -0.03764318,\n",
       "           -0.03767628, -0.03764648, -0.03760122, -0.03747482, -0.03752952,\n",
       "           -0.03736062, -0.03738384, -0.03746207, -0.03736277, -0.03716165,\n",
       "           -0.03718589, -0.03717535, -0.03700942, -0.03527698, -0.03366756,\n",
       "           -0.03478403, -0.03546954, -0.03614705, -0.03746341, -0.04296078,\n",
       "           -0.03970421, -0.03700794, -0.03610051, -0.03546633, -0.03472818,\n",
       "           -0.03339468, -0.03695708, -0.03719891, -0.03715874, -0.03720428,\n",
       "           -0.03727314, -0.03730677, -0.03726124, -0.03741819, -0.0374201 ,\n",
       "           -0.03751835, -0.03750652, -0.03752532, -0.03765796, -0.03755414,\n",
       "           -0.03766384, -0.03769437, -0.03777021, -0.03776086, -0.0375652 ,\n",
       "           -0.03767341, -0.03775066, -0.03777007, -0.03767013, -0.03765746,\n",
       "           -0.03765697, -0.03769054, -0.03758339, -0.03752937, -0.03756656,\n",
       "           -0.03739652, -0.03741963, -0.03741793, -0.03752042, -0.03728191,\n",
       "           -0.03723644, -0.03724507, -0.03710944, -0.03589287, -0.0326494 ,\n",
       "           -0.02815618, -0.02184262, -0.01459493, -0.00743713, -0.00436541,\n",
       "           -0.01645717, -0.01423479, -0.02153006, -0.0280298 , -0.03291059,\n",
       "           -0.03504435, -0.03710932, -0.03720264, -0.03724558, -0.03726136,\n",
       "           -0.03736706, -0.037401  , -0.03735203, -0.03746901, -0.03757556,\n",
       "           -0.03758753, -0.03757247, -0.03763978, -0.03766822, -0.03766422,\n",
       "           -0.03767963, -0.0377285 , -0.03775944, -0.03783213, -0.03772617,\n",
       "           -0.03771778, -0.0377302 , -0.03777711, -0.03766402, -0.03765325,\n",
       "           -0.03760816, -0.03761582, -0.03753065, -0.03748398, -0.03750114,\n",
       "           -0.03744281, -0.03735171, -0.03734755, -0.03729649, -0.03724828,\n",
       "           -0.03720687, -0.0371701 , -0.03714702, -0.03697774, -0.03697068,\n",
       "           -0.03698563, -0.03685728, -0.0367    , -0.03662037, -0.03681835] W / m2>"
      ]
     },
     "execution_count": 25,
     "metadata": {},
     "output_type": "execute_result"
    }
   ],
   "source": [
    "b.compute_residuals()"
   ]
  },
  {
   "cell_type": "markdown",
   "metadata": {},
   "source": [
    "If we plot the dataset and model, we see that the model was only computed for one cycle, whereas the dataset extends further in time."
   ]
  },
  {
   "cell_type": "code",
   "execution_count": 26,
   "metadata": {},
   "outputs": [
    {
     "data": {
      "image/png": "[encoded data removed]",
      "text/plain": [
       "<matplotlib.figure.Figure at 0x7f5418154f10>"
      ]
     },
     "metadata": {},
     "output_type": "display_data"
    }
   ],
   "source": [
    "afig, mplfig = b.plot(show=True)"
   ]
  },
  {
   "cell_type": "markdown",
   "metadata": {},
   "source": [
    "But we can also plot the residuals.  Here, [compute_residuals](../api/phoebe.parameters.ParameterSet.compute_residuals.md) is called internally, interpolating in phase-space, and then plotted in time-space.  See the options for `y` in the [plot API docs](../api/phoebe.parameters.ParameterSet.plot.md) for more details."
   ]
  },
  {
   "cell_type": "code",
   "execution_count": 27,
   "metadata": {},
   "outputs": [
    {
     "data": {
      "image/png": "[encoded data removed]",
      "text/plain": [
       "<matplotlib.figure.Figure at 0x7f541813cc50>"
      ]
     },
     "metadata": {},
     "output_type": "display_data"
    }
   ],
   "source": [
    "afig, mplfig = b.plot(y='residuals', show=True)"
   ]
  }
 ],
 "metadata": {
  "kernelspec": {
   "display_name": "Python 2",
   "language": "python",
   "name": "python2"
  },
  "language_info": {
   "codemirror_mode": {
    "name": "ipython",
    "version": 2
   },
   "file_extension": ".py",
   "mimetype": "text/x-python",
   "name": "python",
   "nbconvert_exporter": "python",
   "pygments_lexer": "ipython2",
   "version": "2.7.15rc1"
  }
 },
 "nbformat": 4,
 "nbformat_minor": 1
}
