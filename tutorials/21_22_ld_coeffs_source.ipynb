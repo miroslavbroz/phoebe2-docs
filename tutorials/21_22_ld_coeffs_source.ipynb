{
 "cells": [
  {
   "cell_type": "markdown",
   "metadata": {},
   "source": [
    "2.1 - 2.2 Migration: ld_coeffs_source\n",
    "=============================="
   ]
  },
  {
   "cell_type": "markdown",
   "metadata": {},
   "source": [
    "PHOEBE 2.2 introduces the capability to interpolate limb-darkening coefficients for a given `ld_func` (i.e. linear, quadratic, etc).  In order to do so, there is now a new parameter called `ld_coeffs_source` which will default to 'auto'.  The `ld_coeffs` parameter will not be visibile, unless `ld_func` is some value other than the default value of 'interp' AND `ld_coeffs_source` is manually set to 'none'.  Any script in which `ld_coeffs` was set manually, will now require an addition line setting `ld_coeffs_source` to 'none' (or alternatively removing the line setting `ld_coeffs` and instead relying on the new capability to interpolate).\n",
    "\n",
    "Below is an example exhibiting the new behavior."
   ]
  },
  {
   "cell_type": "code",
   "execution_count": 1,
   "metadata": {},
   "outputs": [
    {
     "name": "stdout",
     "output_type": "stream",
     "text": [
      "ParameterSet: 2 parameters\n",
      "    ld_func@primary@lc01@dataset: interp\n",
      "  ld_func@secondary@lc01@dataset: interp\n"
     ]
    }
   ],
   "source": [
    "import phoebe\n",
    "b = phoebe.default_binary()\n",
    "b.add_dataset('lc', dataset='lc01')\n",
    "print(b.filter(qualifier='ld*', dataset='lc01'))"
   ]
  },
  {
   "cell_type": "markdown",
   "metadata": {},
   "source": [
    "By default, `ld_func` is set to 'interp'.  This will interpolate the limb-darkening directly, without requiring a specific law/function.\n",
    "\n",
    "Note, however, that the **bolometric** limb-darkening does not have 'interp' as an option.  Bolometric limb-darkening is only used for [irradiation/reflection](../tutorials/reflection_heating.ipynb), and **must** be set manually."
   ]
  },
  {
   "cell_type": "code",
   "execution_count": 2,
   "metadata": {},
   "outputs": [
    {
     "name": "stdout",
     "output_type": "stream",
     "text": [
      "ParameterSet: 4 parameters\n",
      "   ld_func_bol@primary@component: logarithmic\n",
      "  ld_coeffs_bol@primary@compo...: [0.5 0.5]\n",
      "  ld_func_bol@secondary@compo...: logarithmic\n",
      "  ld_coeffs_bol@secondary@com...: [0.5 0.5]\n"
     ]
    }
   ],
   "source": [
    "print(b.filter(qualifier='ld*bol'))"
   ]
  },
  {
   "cell_type": "markdown",
   "metadata": {},
   "source": [
    "Back to the **dataset-specific** limb-darkening, we can see the available options besides 'interp'."
   ]
  },
  {
   "cell_type": "code",
   "execution_count": 3,
   "metadata": {},
   "outputs": [
    {
     "name": "stdout",
     "output_type": "stream",
     "text": [
      "['interp', 'linear', 'logarithmic', 'quadratic', 'square_root', 'power']\n"
     ]
    }
   ],
   "source": [
    "print(b.get_parameter('ld_func', component='primary').choices)"
   ]
  },
  {
   "cell_type": "markdown",
   "metadata": {},
   "source": [
    "And if we set the value of `ld_func` to anything other than 'interp', we'll now see new parameters for `ld_coeffs_source`.  In PHOEBE 2.1, this would expose the `ld_coeffs` parameters instead.  However, in PHOEBE 2.2+,  limb-darkening will be interpolated automatically by default, requiring one extra step to manually set the coefficients."
   ]
  },
  {
   "cell_type": "code",
   "execution_count": 4,
   "metadata": {},
   "outputs": [
    {
     "name": "stdout",
     "output_type": "stream",
     "text": [
      "ParameterSet: 4 parameters\n",
      "    ld_func@primary@lc01@dataset: linear\n",
      "  ld_func@secondary@lc01@dataset: linear\n",
      "  ld_coeffs_source@primary@lc...: auto\n",
      "  ld_coeffs_source@secondary@...: auto\n"
     ]
    }
   ],
   "source": [
    "b.set_value_all('ld_func', 'linear')\n",
    "print(b.filter(qualifier='ld*', dataset='lc01'))"
   ]
  },
  {
   "cell_type": "markdown",
   "metadata": {},
   "source": [
    "Here we see there are several options available for `ld_coeffs_source`.  See the [limb-darkening tutorial](../tutorials/limb_darkening.ipynb) for more details."
   ]
  },
  {
   "cell_type": "code",
   "execution_count": 5,
   "metadata": {},
   "outputs": [
    {
     "name": "stdout",
     "output_type": "stream",
     "text": [
      "['none', 'auto', 'ck2004']\n"
     ]
    }
   ],
   "source": [
    "print(b.get_parameter('ld_coeffs_source', component='primary').choices)"
   ]
  },
  {
   "cell_type": "markdown",
   "metadata": {},
   "source": [
    "To manually set the coefficients, we must also set `ld_coeffs_source` to be 'none'."
   ]
  },
  {
   "cell_type": "code",
   "execution_count": 6,
   "metadata": {},
   "outputs": [
    {
     "name": "stdout",
     "output_type": "stream",
     "text": [
      "ParameterSet: 5 parameters\n",
      "    ld_func@primary@lc01@dataset: linear\n",
      "  ld_func@secondary@lc01@dataset: linear\n",
      "  ld_coeffs_source@primary@lc...: none\n",
      "  ld_coeffs_source@secondary@...: auto\n",
      "  ld_coeffs@primary@lc01@dataset: [0.5 0.5]\n"
     ]
    }
   ],
   "source": [
    "b.set_value('ld_coeffs_source', component='primary', value='none')\n",
    "print(b.filter(qualifier='ld*', dataset='lc01'))"
   ]
  },
  {
   "cell_type": "markdown",
   "metadata": {},
   "source": [
    "Now that `ld_coeffs` is visible, [run_checks](../api/phoebe.frontend.bundle.Bundle.run_checks.md) will fail if they are not of the correct length.  "
   ]
  },
  {
   "cell_type": "code",
   "execution_count": 7,
   "metadata": {},
   "outputs": [
    {
     "name": "stdout",
     "output_type": "stream",
     "text": [
      "(False, \"ld_coeffs=[0.5 0.5] wrong length for ld_func='linear'.\")\n"
     ]
    }
   ],
   "source": [
    "print(b.run_checks())"
   ]
  },
  {
   "cell_type": "markdown",
   "metadata": {},
   "source": [
    "By manually setting the value of `ld_coeffs` to an appropriate value, the checks should pass."
   ]
  },
  {
   "cell_type": "code",
   "execution_count": 8,
   "metadata": {},
   "outputs": [
    {
     "name": "stdout",
     "output_type": "stream",
     "text": [
      "ParameterSet: 5 parameters\n",
      "    ld_func@primary@lc01@dataset: linear\n",
      "  ld_func@secondary@lc01@dataset: linear\n",
      "  ld_coeffs_source@primary@lc...: none\n",
      "  ld_coeffs_source@secondary@...: auto\n",
      "  ld_coeffs@primary@lc01@dataset: [0.5]\n"
     ]
    }
   ],
   "source": [
    "b.set_value('ld_coeffs', component='primary', value=[0.5])\n",
    "print(b.filter(qualifier='ld*', dataset='lc01'))"
   ]
  },
  {
   "cell_type": "code",
   "execution_count": 9,
   "metadata": {},
   "outputs": [
    {
     "name": "stdout",
     "output_type": "stream",
     "text": [
      "(True, '')\n"
     ]
    }
   ],
   "source": [
    "print(b.run_checks())"
   ]
  }
 ],
 "metadata": {
  "kernelspec": {
   "display_name": "Python 2",
   "language": "python",
   "name": "python2"
  },
  "language_info": {
   "codemirror_mode": {
    "name": "ipython",
    "version": 2
   },
   "file_extension": ".py",
   "mimetype": "text/x-python",
   "name": "python",
   "nbconvert_exporter": "python",
   "pygments_lexer": "ipython2",
   "version": "2.7.15rc1"
  }
 },
 "nbformat": 4,
 "nbformat_minor": 2
}
