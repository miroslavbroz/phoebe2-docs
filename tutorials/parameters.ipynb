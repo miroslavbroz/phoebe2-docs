{
 "cells": [
  {
   "cell_type": "markdown",
   "metadata": {},
   "source": [
    "Advanced: Parameter Types\n",
    "======================\n",
    "\n",
    "\n",
    "Setup\n",
    "----------------------------------------------\n",
    "\n"
   ]
  },
  {
   "cell_type": "markdown",
   "metadata": {},
   "source": [
    "Let's first make sure we have the latest version of PHOEBE 2.3 installed (uncomment this line if running in an online notebook session such as colab)."
   ]
  },
  {
   "cell_type": "code",
   "execution_count": 1,
   "metadata": {},
   "outputs": [],
   "source": [
    "#!pip install -I \"phoebe>=2.3,<2.4\""
   ]
  },
  {
   "cell_type": "markdown",
   "metadata": {},
   "source": [
    "Let's get started with some basic imports"
   ]
  },
  {
   "cell_type": "code",
   "execution_count": 2,
   "metadata": {},
   "outputs": [],
   "source": [
    "import phoebe\n",
    "from phoebe import u # units\n",
    "import numpy as np"
   ]
  },
  {
   "cell_type": "code",
   "execution_count": 3,
   "metadata": {},
   "outputs": [],
   "source": [
    "logger = phoebe.logger(clevel='INFO')"
   ]
  },
  {
   "cell_type": "markdown",
   "metadata": {},
   "source": [
    "Parameters\n",
    "------------------------\n",
    "\n",
    "[Parameters](../api/phoebe.parameters.Parameter.md) hold a single value, but need to be aware about their own types, limits, and connection with other Parameters (more on this later when we discuss [ParameterSets](../api/phoebe.parameters.ParameterSet.md)).\n",
    "\n",
    "Note that generally you won't ever have to \"create\" or \"define\" your own Parameters, those will be created for you by helper functions, but we have to start somewhere... so let's create our first Parameter.\n",
    "\n",
    "We'll start with creating a [StringParameter](../api/phoebe.parameters.StringParameter.md) since it is the most generic, and then discuss and specific differences for each type of Parameter."
   ]
  },
  {
   "cell_type": "code",
   "execution_count": 4,
   "metadata": {},
   "outputs": [],
   "source": [
    "param = phoebe.parameters.StringParameter(qualifier='myparameter', \n",
    "                                          description='mydescription',\n",
    "                                          value='myvalue')"
   ]
  },
  {
   "cell_type": "markdown",
   "metadata": {},
   "source": [
    "If you ever need to know the type of a Parameter, you can always use python's built-in type functionality:"
   ]
  },
  {
   "cell_type": "code",
   "execution_count": 5,
   "metadata": {},
   "outputs": [
    {
     "name": "stdout",
     "output_type": "stream",
     "text": [
      "<class 'phoebe.parameters.parameters.StringParameter'>\n"
     ]
    }
   ],
   "source": [
    "print(type(param))"
   ]
  },
  {
   "cell_type": "markdown",
   "metadata": {},
   "source": [
    "If we print the parameter object we can see a summary of information"
   ]
  },
  {
   "cell_type": "code",
   "execution_count": 6,
   "metadata": {},
   "outputs": [
    {
     "name": "stdout",
     "output_type": "stream",
     "text": [
      "Parameter: myparameter\n",
      "                       Qualifier: myparameter\n",
      "                     Description: mydescription\n",
      "                           Value: myvalue\n",
      "                  Constrained by: \n",
      "                      Constrains: None\n",
      "                      Related to: None\n",
      "\n"
     ]
    }
   ],
   "source": [
    "print(param)"
   ]
  },
  {
   "cell_type": "markdown",
   "metadata": {},
   "source": [
    "You can see here that we've defined three a few things about parameter: the qualifier, description, and value (others do exist, they just don't show up in the summary).\n",
    "\n",
    "These \"things\" can be split into two groups: tags and attributes (although in a pythonic sense, both can be accessed as attributes).  Don't worry too much about this distinction - it isn't really important except for the fact that tags are shared across **all** Parameters whereas attributes are dependent on the type of the Parameter.\n",
    "\n",
    "The tags of a Parameter define the Parameter and how it connects to other Parameters (again, more on this when we get to ParameterSets).  For now, just know that you can access a list of all the [tags](../api/phoebe.parameters.Parameter.tags) as follows:"
   ]
  },
  {
   "cell_type": "code",
   "execution_count": 7,
   "metadata": {},
   "outputs": [
    {
     "name": "stdout",
     "output_type": "stream",
     "text": [
      "OrderedDict([('time', None), ('qualifier', 'myparameter'), ('feature', None), ('component', None), ('dataset', None), ('constraint', None), ('distribution', None), ('compute', None), ('model', None), ('solver', None), ('solution', None), ('figure', None), ('kind', None), ('context', None)])\n"
     ]
    }
   ],
   "source": [
    "print(param.tags)"
   ]
  },
  {
   "cell_type": "markdown",
   "metadata": {},
   "source": [
    "and that each of these is available through both a dictionary key and an object attribute.  For example:"
   ]
  },
  {
   "cell_type": "code",
   "execution_count": 8,
   "metadata": {},
   "outputs": [
    {
     "name": "stdout",
     "output_type": "stream",
     "text": [
      "myparameter myparameter\n"
     ]
    }
   ],
   "source": [
    "print(param['qualifier'], param.qualifier)"
   ]
  },
  {
   "cell_type": "markdown",
   "metadata": {},
   "source": [
    "The 'qualifier' attribute is essentially an abbreviated name for the Parameter.\n",
    "\n",
    "These tags will be shared across **all** Parameters, regardless of their type.\n",
    "\n",
    "Attributes, on the other hand, can be dependent on the type of the Parameter and tell the Parameter its rules and how to interpret its value.  You can access a list of available attributes as follows:"
   ]
  },
  {
   "cell_type": "code",
   "execution_count": 9,
   "metadata": {},
   "outputs": [
    {
     "data": {
      "text/plain": [
       "['description',\n",
       " 'value',\n",
       " 'visible_if',\n",
       " 'copy_for',\n",
       " 'readonly',\n",
       " 'advanced',\n",
       " 'latexfmt']"
      ]
     },
     "execution_count": 9,
     "metadata": {},
     "output_type": "execute_result"
    }
   ],
   "source": [
    "param.attributes"
   ]
  },
  {
   "cell_type": "markdown",
   "metadata": {},
   "source": [
    "and again, each of these are available through both a dictionary key and as an object attribute.  For example, all parameters have a **'description'** attribute which gives additional information about what the Parameter means:"
   ]
  },
  {
   "cell_type": "code",
   "execution_count": 10,
   "metadata": {},
   "outputs": [
    {
     "name": "stdout",
     "output_type": "stream",
     "text": [
      "mydescription mydescription\n"
     ]
    }
   ],
   "source": [
    "print(param['description'], param.description)"
   ]
  },
  {
   "cell_type": "markdown",
   "metadata": {},
   "source": [
    "For the special case of the **'value'** attribute, there is also a [get_value](../api/phoebe.parameters.Parameter.get_value.md) method (will become handy later when we want to be able to request the value in a specific unit)."
   ]
  },
  {
   "cell_type": "code",
   "execution_count": 11,
   "metadata": {},
   "outputs": [
    {
     "name": "stdout",
     "output_type": "stream",
     "text": [
      "myvalue myvalue myvalue\n"
     ]
    }
   ],
   "source": [
    "print(param.get_value(), param['value'], param.value)"
   ]
  },
  {
   "cell_type": "markdown",
   "metadata": {},
   "source": [
    "The value attribute is also the only attribute that you'll likely want to change, so it also has a [set_value](../api/phoebe.parameters.Parameter.set_value.md) method:"
   ]
  },
  {
   "cell_type": "code",
   "execution_count": 12,
   "metadata": {},
   "outputs": [
    {
     "name": "stdout",
     "output_type": "stream",
     "text": [
      "newvalue\n"
     ]
    }
   ],
   "source": [
    "param.set_value('newvalue')\n",
    "print(param.get_value())"
   ]
  },
  {
   "cell_type": "markdown",
   "metadata": {},
   "source": [
    "The **'visible_if'** attribute only comes into play when the Parameter is a member of a ParameterSet, so we'll discuss it at the end of this tutorial when we get to ParameterSets.\n",
    "\n",
    "The **'copy_for'** attribute is only used when the Parameter is in a particular type of ParameterSet called a Bundle (explained at the very end of this tutorial).  We'll see the 'copy_for' capability in action later in the [Datasets Tutorial](datasets.ipynb), but for now, just know that you can *view* this property only and cannot change it... and most of the time it will just be an empty string."
   ]
  },
  {
   "cell_type": "markdown",
   "metadata": {},
   "source": [
    "### StringParameters\n",
    "\n",
    "We'll just mention [StringParameters](../api/phoebe.parameters.StringParameter.md) again for completeness, but we've already seen about all they can do - the value must cast to a valid string but no limits or checks are performed at all on the value."
   ]
  },
  {
   "cell_type": "markdown",
   "metadata": {},
   "source": [
    "### ChoiceParameters\n",
    "\n",
    "[ChoiceParameters](../api/phoebe.parameters.ChoiceParameter.md) are essentially StringParameters with one very important exception: the value **must** match one of the prescribed choices.\n",
    "\n",
    "Therefore, they have a 'choice' attribute and an error will be raised if trying to set the value to any string not in that list."
   ]
  },
  {
   "cell_type": "code",
   "execution_count": 13,
   "metadata": {},
   "outputs": [],
   "source": [
    "param = phoebe.parameters.ChoiceParameter(qualifier='mychoiceparameter',\n",
    "                                          description='mydescription',\n",
    "                                          choices=['choice1', 'choice2'],\n",
    "                                          value='choice1')"
   ]
  },
  {
   "cell_type": "code",
   "execution_count": 14,
   "metadata": {},
   "outputs": [
    {
     "name": "stdout",
     "output_type": "stream",
     "text": [
      "Parameter: mychoiceparameter\n",
      "                       Qualifier: mychoiceparameter\n",
      "                     Description: mydescription\n",
      "                           Value: choice1\n",
      "                         Choices: choice1, choice2\n",
      "                  Constrained by: \n",
      "                      Constrains: None\n",
      "                      Related to: None\n",
      "\n"
     ]
    }
   ],
   "source": [
    "print(param)"
   ]
  },
  {
   "cell_type": "code",
   "execution_count": 15,
   "metadata": {},
   "outputs": [
    {
     "name": "stdout",
     "output_type": "stream",
     "text": [
      "['description', 'choices', 'value', 'visible_if', 'copy_for', 'readonly', 'advanced', 'latexfmt']\n"
     ]
    }
   ],
   "source": [
    "print(param.attributes)"
   ]
  },
  {
   "cell_type": "code",
   "execution_count": 16,
   "metadata": {},
   "outputs": [
    {
     "name": "stdout",
     "output_type": "stream",
     "text": [
      "['choice1', 'choice2'] ['choice1', 'choice2']\n"
     ]
    }
   ],
   "source": [
    "print(param['choices'], param.choices)"
   ]
  },
  {
   "cell_type": "code",
   "execution_count": 17,
   "metadata": {},
   "outputs": [
    {
     "name": "stdout",
     "output_type": "stream",
     "text": [
      "choice1\n"
     ]
    }
   ],
   "source": [
    "print(param.get_value())"
   ]
  },
  {
   "cell_type": "code",
   "execution_count": 18,
   "metadata": {},
   "outputs": [
    {
     "name": "stdout",
     "output_type": "stream",
     "text": [
      "choice2\n"
     ]
    }
   ],
   "source": [
    "#param.set_value('not_a_choice') # would raise a ValueError\n",
    "param.set_value('choice2')\n",
    "print(param.get_value())"
   ]
  },
  {
   "cell_type": "markdown",
   "metadata": {},
   "source": [
    "### SelectParameters\n",
    "\n",
    "[SelectParameters](../api/phoebe.parameters.SelectParameter.md) are very similar to ChoiceParameters except that the value is a list, where each item **must** match one of the prescribed choices."
   ]
  },
  {
   "cell_type": "code",
   "execution_count": 19,
   "metadata": {},
   "outputs": [],
   "source": [
    "param = phoebe.parameters.SelectParameter(qualifier='myselectparameter',\n",
    "                                          description='mydescription',\n",
    "                                          choices=['choice1', 'choice2'],\n",
    "                                          value=['choice1'])"
   ]
  },
  {
   "cell_type": "code",
   "execution_count": 20,
   "metadata": {},
   "outputs": [
    {
     "name": "stdout",
     "output_type": "stream",
     "text": [
      "Parameter: myselectparameter\n",
      "                       Qualifier: myselectparameter\n",
      "                     Description: mydescription\n",
      "                           Value: ['choice1']\n",
      "                         Choices: choice1, choice2\n",
      "                  Constrained by: \n",
      "                      Constrains: None\n",
      "                      Related to: None\n",
      "\n"
     ]
    }
   ],
   "source": [
    "print(param)"
   ]
  },
  {
   "cell_type": "code",
   "execution_count": 21,
   "metadata": {},
   "outputs": [
    {
     "name": "stdout",
     "output_type": "stream",
     "text": [
      "['description', 'choices', 'value', 'visible_if', 'readonly', 'copy_for', 'latexfmt']\n"
     ]
    }
   ],
   "source": [
    "print(param.attributes)"
   ]
  },
  {
   "cell_type": "code",
   "execution_count": 22,
   "metadata": {},
   "outputs": [
    {
     "name": "stdout",
     "output_type": "stream",
     "text": [
      "['choice1', 'choice2'] ['choice1', 'choice2']\n"
     ]
    }
   ],
   "source": [
    "print(param['choices'], param.choices)"
   ]
  },
  {
   "cell_type": "code",
   "execution_count": 23,
   "metadata": {},
   "outputs": [
    {
     "name": "stdout",
     "output_type": "stream",
     "text": [
      "['choice1']\n"
     ]
    }
   ],
   "source": [
    "print(param.get_value())"
   ]
  },
  {
   "cell_type": "markdown",
   "metadata": {},
   "source": [
    "However, SelectParameters also allow you to use * as a wildcard and will expand to any of the choices that match that wildcard.  For example,"
   ]
  },
  {
   "cell_type": "code",
   "execution_count": 24,
   "metadata": {},
   "outputs": [],
   "source": [
    "param.set_value([\"choice*\"])"
   ]
  },
  {
   "cell_type": "code",
   "execution_count": 25,
   "metadata": {},
   "outputs": [
    {
     "name": "stdout",
     "output_type": "stream",
     "text": [
      "['choice*']\n"
     ]
    }
   ],
   "source": [
    "print(param.get_value())"
   ]
  },
  {
   "cell_type": "code",
   "execution_count": 26,
   "metadata": {},
   "outputs": [
    {
     "name": "stdout",
     "output_type": "stream",
     "text": [
      "['choice1', 'choice2']\n"
     ]
    }
   ],
   "source": [
    "print(param.expand_value())"
   ]
  },
  {
   "cell_type": "markdown",
   "metadata": {},
   "source": [
    "### FloatParameters\n",
    "\n",
    "[FloatParameters](../api/phoebe.parameters.FloatParameter.md) are probably the most common Parameter used in PHOEBE and hold both a float and a unit, with the ability to retrieve the value in any other convertible unit."
   ]
  },
  {
   "cell_type": "code",
   "execution_count": 27,
   "metadata": {},
   "outputs": [],
   "source": [
    "param = phoebe.parameters.FloatParameter(qualifier='myfloatparameter',\n",
    "                                         description='mydescription',\n",
    "                                         default_unit=u.m,\n",
    "                                         limits=[None,20],\n",
    "                                         value=5)"
   ]
  },
  {
   "cell_type": "code",
   "execution_count": 28,
   "metadata": {},
   "outputs": [
    {
     "name": "stdout",
     "output_type": "stream",
     "text": [
      "Parameter: myfloatparameter\n",
      "                       Qualifier: myfloatparameter\n",
      "                     Description: mydescription\n",
      "                           Value: 5.0 m\n",
      "                  Constrained by: \n",
      "                      Constrains: None\n",
      "                      Related to: None\n",
      "\n"
     ]
    }
   ],
   "source": [
    "print(param)"
   ]
  },
  {
   "cell_type": "markdown",
   "metadata": {},
   "source": [
    "You'll notice here a few new mentions in the summary... \"Constrained by\", \"Constrains\", and \"Related to\" are all referring to [constraints](constraints.ipynb)."
   ]
  },
  {
   "cell_type": "code",
   "execution_count": 29,
   "metadata": {},
   "outputs": [
    {
     "name": "stdout",
     "output_type": "stream",
     "text": [
      "['description', 'value', 'quantity', 'default_unit', 'limits', 'visible_if', 'copy_for', 'readonly', 'advanced', 'latexfmt']\n"
     ]
    }
   ],
   "source": [
    "print(param.attributes)"
   ]
  },
  {
   "cell_type": "markdown",
   "metadata": {},
   "source": [
    "FloatParameters have an attribute which hold the \"limits\" - whenever a value is set it will be checked to make sure it falls within the limits.  If either the lower or upper limit is None, then there is no limit check for that extreme."
   ]
  },
  {
   "cell_type": "code",
   "execution_count": 30,
   "metadata": {},
   "outputs": [
    {
     "name": "stdout",
     "output_type": "stream",
     "text": [
      "[None, <Quantity 20. m>] [None, <Quantity 20. m>]\n"
     ]
    }
   ],
   "source": [
    "print(param['limits'], param.limits)"
   ]
  },
  {
   "cell_type": "code",
   "execution_count": 31,
   "metadata": {},
   "outputs": [
    {
     "name": "stdout",
     "output_type": "stream",
     "text": [
      "2.0\n"
     ]
    }
   ],
   "source": [
    "#param.set_value(30) # would raise a ValueError\n",
    "param.set_value(2)\n",
    "print(param.get_value())"
   ]
  },
  {
   "cell_type": "markdown",
   "metadata": {},
   "source": [
    "FloatParameters have an attribute which holds the \"default_unit\" - this is the unit in which the value is stored **and** the unit that will be provided if not otherwise overriden."
   ]
  },
  {
   "cell_type": "code",
   "execution_count": 32,
   "metadata": {},
   "outputs": [
    {
     "name": "stdout",
     "output_type": "stream",
     "text": [
      "m m\n"
     ]
    }
   ],
   "source": [
    "print(param['default_unit'], param.default_unit)"
   ]
  },
  {
   "cell_type": "markdown",
   "metadata": {},
   "source": [
    "Calling get_value will then return a float in these units"
   ]
  },
  {
   "cell_type": "code",
   "execution_count": 33,
   "metadata": {},
   "outputs": [
    {
     "name": "stdout",
     "output_type": "stream",
     "text": [
      "2.0\n"
     ]
    }
   ],
   "source": [
    "print(param.get_value())"
   ]
  },
  {
   "cell_type": "markdown",
   "metadata": {},
   "source": [
    "But we can also request the value in a different unit, by passing an [astropy Unit object](http://docs.astropy.org/en/stable/units/) or its string representation."
   ]
  },
  {
   "cell_type": "code",
   "execution_count": 34,
   "metadata": {},
   "outputs": [
    {
     "name": "stdout",
     "output_type": "stream",
     "text": [
      "0.002 0.002\n"
     ]
    }
   ],
   "source": [
    "print(param.get_value(unit=u.km), param.get_value(unit='km'))"
   ]
  },
  {
   "cell_type": "markdown",
   "metadata": {},
   "source": [
    "FloatParameters also have their own method to access an [astropy Quantity object](http://docs.astropy.org/en/stable/units/) that includes both the value and the unit"
   ]
  },
  {
   "cell_type": "code",
   "execution_count": 35,
   "metadata": {},
   "outputs": [
    {
     "name": "stdout",
     "output_type": "stream",
     "text": [
      "2.0 m 0.002 km\n"
     ]
    }
   ],
   "source": [
    "print(param.get_quantity(), param.get_quantity(unit=u.km))"
   ]
  },
  {
   "cell_type": "markdown",
   "metadata": {},
   "source": [
    "The set_value method also accepts a unit - this doesn't change the default_unit internally, but instead converts the provided value before storing."
   ]
  },
  {
   "cell_type": "code",
   "execution_count": 36,
   "metadata": {},
   "outputs": [
    {
     "name": "stdout",
     "output_type": "stream",
     "text": [
      "10.0 m\n"
     ]
    }
   ],
   "source": [
    "param.set_value(10)\n",
    "print(param.get_quantity())"
   ]
  },
  {
   "cell_type": "code",
   "execution_count": 37,
   "metadata": {},
   "outputs": [
    {
     "name": "stdout",
     "output_type": "stream",
     "text": [
      "1.0 m\n"
     ]
    }
   ],
   "source": [
    "param.set_value(0.001*u.km)\n",
    "print(param.get_quantity())"
   ]
  },
  {
   "cell_type": "code",
   "execution_count": 38,
   "metadata": {},
   "outputs": [
    {
     "name": "stdout",
     "output_type": "stream",
     "text": [
      "0.1 m\n"
     ]
    }
   ],
   "source": [
    "param.set_value(10, unit='cm')\n",
    "print(param.get_quantity())"
   ]
  },
  {
   "cell_type": "markdown",
   "metadata": {},
   "source": [
    "If for some reason you want to change the default_unit, you can do so as well:"
   ]
  },
  {
   "cell_type": "code",
   "execution_count": 39,
   "metadata": {},
   "outputs": [
    {
     "name": "stdout",
     "output_type": "stream",
     "text": [
      "0.0001 km\n"
     ]
    }
   ],
   "source": [
    "param.set_default_unit(u.km)\n",
    "print(param.get_quantity())"
   ]
  },
  {
   "cell_type": "markdown",
   "metadata": {},
   "source": [
    "But note that the limits are still stored as a quantity object in the originally defined default_units"
   ]
  },
  {
   "cell_type": "code",
   "execution_count": 40,
   "metadata": {},
   "outputs": [
    {
     "name": "stdout",
     "output_type": "stream",
     "text": [
      "[None, <Quantity 20. m>]\n"
     ]
    }
   ],
   "source": [
    "print(param.limits)"
   ]
  },
  {
   "cell_type": "markdown",
   "metadata": {},
   "source": [
    "### IntParameters\n",
    "\n",
    "[IntParameters](../api/phoebe.parameters.IntParameter.md) are essentially the same as FloatParameters except they always cast to an Integer and they have no units."
   ]
  },
  {
   "cell_type": "code",
   "execution_count": 41,
   "metadata": {},
   "outputs": [],
   "source": [
    "param = phoebe.parameters.IntParameter(qualifier='myintparameter',\n",
    "                                       description='mydescription',\n",
    "                                       limits=[0,None],\n",
    "                                       value=1)"
   ]
  },
  {
   "cell_type": "code",
   "execution_count": 42,
   "metadata": {},
   "outputs": [
    {
     "name": "stdout",
     "output_type": "stream",
     "text": [
      "Parameter: myintparameter\n",
      "                       Qualifier: myintparameter\n",
      "                     Description: mydescription\n",
      "                           Value: 1\n",
      "                  Constrained by: \n",
      "                      Constrains: None\n",
      "                      Related to: None\n",
      "\n"
     ]
    }
   ],
   "source": [
    "print(param)"
   ]
  },
  {
   "cell_type": "code",
   "execution_count": 43,
   "metadata": {},
   "outputs": [
    {
     "name": "stdout",
     "output_type": "stream",
     "text": [
      "['description', 'value', 'limits', 'visible_if', 'copy_for', 'readonly', 'advanced', 'latexfmt']\n"
     ]
    }
   ],
   "source": [
    "print(param.attributes)"
   ]
  },
  {
   "cell_type": "markdown",
   "metadata": {},
   "source": [
    "Like FloatParameters above, IntParameters still have limits"
   ]
  },
  {
   "cell_type": "code",
   "execution_count": 44,
   "metadata": {},
   "outputs": [
    {
     "name": "stdout",
     "output_type": "stream",
     "text": [
      "[0, None] [0, None]\n"
     ]
    }
   ],
   "source": [
    "print(param['limits'], param.limits)"
   ]
  },
  {
   "cell_type": "markdown",
   "metadata": {},
   "source": [
    "Note that if you try to set the value to a float it will not raise an error, but will cast that value to an integer (following python rules of truncation, not rounding)"
   ]
  },
  {
   "cell_type": "code",
   "execution_count": 45,
   "metadata": {},
   "outputs": [
    {
     "name": "stdout",
     "output_type": "stream",
     "text": [
      "1\n"
     ]
    }
   ],
   "source": [
    "param.set_value(1.9)\n",
    "print(param.get_value())"
   ]
  },
  {
   "cell_type": "markdown",
   "metadata": {},
   "source": [
    "### Bool Parameters\n",
    "\n",
    "[BoolParameters](../api/phoebe.parameters.BoolParameter.md) are even simpler - they accept True or False."
   ]
  },
  {
   "cell_type": "code",
   "execution_count": 46,
   "metadata": {},
   "outputs": [],
   "source": [
    "param = phoebe.parameters.BoolParameter(qualifier='myboolparameter',\n",
    "                                        description='mydescription',\n",
    "                                        value=True)"
   ]
  },
  {
   "cell_type": "code",
   "execution_count": 47,
   "metadata": {},
   "outputs": [
    {
     "name": "stdout",
     "output_type": "stream",
     "text": [
      "Parameter: myboolparameter\n",
      "                       Qualifier: myboolparameter\n",
      "                     Description: mydescription\n",
      "                           Value: True\n",
      "                  Constrained by: \n",
      "                      Constrains: None\n",
      "                      Related to: None\n",
      "\n"
     ]
    }
   ],
   "source": [
    "print(param)"
   ]
  },
  {
   "cell_type": "code",
   "execution_count": 48,
   "metadata": {},
   "outputs": [
    {
     "name": "stdout",
     "output_type": "stream",
     "text": [
      "['description', 'value', 'visible_if', 'copy_for', 'readonly', 'advanced', 'latexfmt']\n"
     ]
    }
   ],
   "source": [
    "print(param.attributes)"
   ]
  },
  {
   "cell_type": "markdown",
   "metadata": {},
   "source": [
    "Note that, like IntParameters, BoolParameters will attempt to cast anything you give it into True or False."
   ]
  },
  {
   "cell_type": "code",
   "execution_count": 49,
   "metadata": {},
   "outputs": [
    {
     "name": "stdout",
     "output_type": "stream",
     "text": [
      "False\n"
     ]
    }
   ],
   "source": [
    "param.set_value(0)\n",
    "print(param.get_value())"
   ]
  },
  {
   "cell_type": "code",
   "execution_count": 50,
   "metadata": {},
   "outputs": [
    {
     "name": "stdout",
     "output_type": "stream",
     "text": [
      "False\n"
     ]
    }
   ],
   "source": [
    "param.set_value(None)\n",
    "print(param.get_value())"
   ]
  },
  {
   "cell_type": "markdown",
   "metadata": {},
   "source": [
    "As with Python, an empty string will cast to False and a non-empty string will cast to True"
   ]
  },
  {
   "cell_type": "code",
   "execution_count": 51,
   "metadata": {},
   "outputs": [
    {
     "name": "stdout",
     "output_type": "stream",
     "text": [
      "False\n"
     ]
    }
   ],
   "source": [
    "param.set_value('')\n",
    "print(param.get_value())"
   ]
  },
  {
   "cell_type": "code",
   "execution_count": 52,
   "metadata": {},
   "outputs": [
    {
     "name": "stdout",
     "output_type": "stream",
     "text": [
      "True\n"
     ]
    }
   ],
   "source": [
    "param.set_value('some_string')\n",
    "print(param.get_value())"
   ]
  },
  {
   "cell_type": "markdown",
   "metadata": {},
   "source": [
    "The only exception to this is that (unlike Python), 'true' or 'True' will cast to True and 'false' or 'False' will cast to False."
   ]
  },
  {
   "cell_type": "code",
   "execution_count": 53,
   "metadata": {},
   "outputs": [
    {
     "name": "stdout",
     "output_type": "stream",
     "text": [
      "False\n"
     ]
    }
   ],
   "source": [
    "param.set_value('False')\n",
    "print(param.get_value())"
   ]
  },
  {
   "cell_type": "code",
   "execution_count": 54,
   "metadata": {},
   "outputs": [
    {
     "name": "stdout",
     "output_type": "stream",
     "text": [
      "False\n"
     ]
    }
   ],
   "source": [
    "param.set_value('false')\n",
    "print(param.get_value())"
   ]
  },
  {
   "cell_type": "markdown",
   "metadata": {},
   "source": [
    "### FloatArrayParameters\n",
    "\n",
    "[FloatArrayParameters](../api/phoebe.parameters.FloatArrayParameter.md) are essentially the same as FloatParameters (in that they have the same unit treatment, although obviously no limits) but hold numpy arrays rather than a single value.\n",
    "\n",
    "By convention in Phoebe, these will (almost) always have a pluralized qualifier."
   ]
  },
  {
   "cell_type": "code",
   "execution_count": 55,
   "metadata": {},
   "outputs": [],
   "source": [
    "param = phoebe.parameters.FloatArrayParameter(qualifier='myfloatarrayparameters',\n",
    "                                              description='mydescription',\n",
    "                                              default_unit=u.m,\n",
    "                                              value=np.array([0,1,2,3]))"
   ]
  },
  {
   "cell_type": "code",
   "execution_count": 56,
   "metadata": {},
   "outputs": [
    {
     "name": "stdout",
     "output_type": "stream",
     "text": [
      "Parameter: myfloatarrayparameters\n",
      "                       Qualifier: myfloatarrayparameters\n",
      "                     Description: mydescription\n",
      "                           Value: [0. 1. 2. 3.] m\n",
      "                  Constrained by: \n",
      "                      Constrains: None\n",
      "                      Related to: None\n",
      "\n"
     ]
    }
   ],
   "source": [
    "print(param)"
   ]
  },
  {
   "cell_type": "code",
   "execution_count": 57,
   "metadata": {},
   "outputs": [
    {
     "name": "stdout",
     "output_type": "stream",
     "text": [
      "['description', 'value', 'default_unit', 'visible_if', 'required_shape', 'copy_for', 'readonly', 'advanced', 'latexfmt']\n"
     ]
    }
   ],
   "source": [
    "print(param.attributes)"
   ]
  },
  {
   "cell_type": "code",
   "execution_count": 58,
   "metadata": {},
   "outputs": [
    {
     "name": "stdout",
     "output_type": "stream",
     "text": [
      "[0.    0.001 0.002 0.003]\n"
     ]
    }
   ],
   "source": [
    "print(param.get_value(unit=u.km))"
   ]
  },
  {
   "cell_type": "markdown",
   "metadata": {},
   "source": [
    "FloatArrayParameters also allow for built-in interpolation... but this requires them to be a member of a Bundle, so we'll discuss this in just a bit."
   ]
  },
  {
   "cell_type": "markdown",
   "metadata": {
    "collapsed": true
   },
   "source": [
    "ParametersSets\n",
    "----------------------------\n",
    "\n",
    "[ParameterSets](../api/phoebe.parameters.ParameterSet.md) are a collection of [Parameters](../api/phoebe.parameters.Parameter.md) that can be filtered by their tags to return another ParameterSet.\n",
    "\n",
    "For illustration, let's create 3 random FloatParameters and combine them to make a ParameterSet."
   ]
  },
  {
   "cell_type": "code",
   "execution_count": 59,
   "metadata": {},
   "outputs": [],
   "source": [
    "param1 = phoebe.parameters.FloatParameter(qualifier='param1',\n",
    "                                          description='param1 description',\n",
    "                                          default_unit=u.m,\n",
    "                                          limits=[None,20],\n",
    "                                          value=5,\n",
    "                                          context='context1',\n",
    "                                          kind='kind1')\n",
    "\n",
    "param2 = phoebe.parameters.FloatParameter(qualifier='param2',\n",
    "                                          description='param2 description',\n",
    "                                          default_unit=u.deg,\n",
    "                                          limits=[0,2*np.pi],\n",
    "                                          value=0,\n",
    "                                          context='context2',\n",
    "                                          kind='kind2')\n",
    "\n",
    "param3 = phoebe.parameters.FloatParameter(qualifier='param3',\n",
    "                                          description='param3 description',\n",
    "                                          default_unit=u.kg,\n",
    "                                          limits=[0,2*np.pi],\n",
    "                                          value=0,\n",
    "                                          context='context1',\n",
    "                                          kind='kind2')"
   ]
  },
  {
   "cell_type": "code",
   "execution_count": 60,
   "metadata": {},
   "outputs": [],
   "source": [
    "ps = phoebe.parameters.ParameterSet([param1, param2, param3])"
   ]
  },
  {
   "cell_type": "code",
   "execution_count": 61,
   "metadata": {},
   "outputs": [
    {
     "name": "stdout",
     "output_type": "stream",
     "text": [
      "[<Parameter: param1=5.0 m | keys: description, value, quantity, default_unit, limits, visible_if, copy_for, readonly, advanced, latexfmt>, <Parameter: param2=0.0 deg | keys: description, value, quantity, default_unit, limits, visible_if, copy_for, readonly, advanced, latexfmt>, <Parameter: param3=0.0 kg | keys: description, value, quantity, default_unit, limits, visible_if, copy_for, readonly, advanced, latexfmt>]\n"
     ]
    }
   ],
   "source": [
    "print(ps.to_list())"
   ]
  },
  {
   "cell_type": "markdown",
   "metadata": {},
   "source": [
    "If we print a ParameterSet, we'll see a listing of all the Parameters and their values."
   ]
  },
  {
   "cell_type": "code",
   "execution_count": 62,
   "metadata": {},
   "outputs": [
    {
     "name": "stdout",
     "output_type": "stream",
     "text": [
      "ParameterSet: 3 parameters\n",
      "            param1@kind1@context1: 5.0 m\n",
      "            param2@kind2@context2: 0.0 deg\n",
      "            param3@kind2@context1: 0.0 kg\n"
     ]
    }
   ],
   "source": [
    "print(ps)"
   ]
  },
  {
   "cell_type": "markdown",
   "metadata": {},
   "source": [
    "Similarly to Parameters, we can access the tags of a ParameterSet"
   ]
  },
  {
   "cell_type": "code",
   "execution_count": 63,
   "metadata": {},
   "outputs": [
    {
     "name": "stdout",
     "output_type": "stream",
     "text": [
      "{'times': [], 'qualifiers': ['param1', 'param2', 'param3'], 'features': [], 'components': [], 'datasets': [], 'constraints': [], 'distributions': [], 'computes': [], 'models': [], 'solvers': [], 'solutions': [], 'figures': [], 'kinds': ['kind1', 'kind2'], 'contexts': ['context1', 'context2']}\n"
     ]
    }
   ],
   "source": [
    "print(ps.tags)"
   ]
  },
  {
   "cell_type": "markdown",
   "metadata": {},
   "source": [
    "### Twigs"
   ]
  },
  {
   "cell_type": "markdown",
   "metadata": {},
   "source": [
    "The string notation used for the Parameters is called a 'twig' - its simply a combination of all the tags joined with the '@' symbol and gives a very convenient way to access any Parameter.  \n",
    "\n",
    "The order of the tags doesn't matter, and you only need to provide enough tags to produce a unique match.  Since there is only one parameter with kind='kind1', we do not need to provide the extraneous context='context1' in the twig to get a match."
   ]
  },
  {
   "cell_type": "code",
   "execution_count": 64,
   "metadata": {},
   "outputs": [
    {
     "name": "stdout",
     "output_type": "stream",
     "text": [
      "Parameter: param1@kind1@context1\n",
      "                       Qualifier: param1\n",
      "                     Description: param1 description\n",
      "                           Value: 5.0 m\n",
      "                  Constrained by: \n",
      "                      Constrains: None\n",
      "                      Related to: None\n",
      "\n"
     ]
    }
   ],
   "source": [
    "print(ps.get('param1@kind1'))"
   ]
  },
  {
   "cell_type": "markdown",
   "metadata": {},
   "source": [
    "Note that this returned the ParameterObject itself, so you can now use any of the Parameter methods or attributes we saw earlier.  For example:"
   ]
  },
  {
   "cell_type": "code",
   "execution_count": 65,
   "metadata": {},
   "outputs": [
    {
     "name": "stdout",
     "output_type": "stream",
     "text": [
      "param1 description\n"
     ]
    }
   ],
   "source": [
    "print(ps.get('param1@kind1').description)"
   ]
  },
  {
   "cell_type": "markdown",
   "metadata": {},
   "source": [
    "But we can also use set and get_value methods from the ParameterSet itself:"
   ]
  },
  {
   "cell_type": "code",
   "execution_count": 66,
   "metadata": {},
   "outputs": [
    {
     "name": "stdout",
     "output_type": "stream",
     "text": [
      "10.0\n"
     ]
    }
   ],
   "source": [
    "ps.set_value('param1@kind1', 10)\n",
    "print(ps.get_value('param1@kind1'))"
   ]
  },
  {
   "cell_type": "markdown",
   "metadata": {},
   "source": [
    "### Tags"
   ]
  },
  {
   "cell_type": "markdown",
   "metadata": {},
   "source": [
    "Each Parameter has a number of tags, and the ParameterSet has the same tags - where the value of any given tag is None if not shared by all Parameters in that ParameterSet.\n",
    "\n",
    "So let's just print the names of the tags again and then describe what each one means."
   ]
  },
  {
   "cell_type": "code",
   "execution_count": 67,
   "metadata": {},
   "outputs": [
    {
     "name": "stdout",
     "output_type": "stream",
     "text": [
      "odict_keys(['time', 'qualifier', 'feature', 'component', 'dataset', 'constraint', 'distribution', 'compute', 'model', 'solver', 'solution', 'figure', 'kind', 'context'])\n"
     ]
    }
   ],
   "source": [
    "print(ps.meta.keys())"
   ]
  },
  {
   "cell_type": "markdown",
   "metadata": {},
   "source": [
    "Most of these \"metatags\" act as labels - for example, you can give a component tag to each of the components for easier referencing.\n",
    "\n",
    "But a few of these tags are fixed and not editable:\n",
    "\n",
    "* qualifier: literally the name of the parameter.\n",
    "* kind: tells what kind a parameter is (ie whether a component is a star or an orbit).\n",
    "* context: tells what context this parameter belongs to\n",
    "* twig: a shortcut to the parameter in a single string.\n",
    "* uniquetwig: the minimal twig needed to reach this parameter.\n",
    "* uniqueid: an internal representation used to reach this parameter\n",
    "\n",
    "These contexts are (you'll notice that most are represented in the tags):\n",
    "\n",
    "* setting\n",
    "* history\n",
    "* system\n",
    "* figure\n",
    "* component\n",
    "* feature\n",
    "* dataset\n",
    "* distribution\n",
    "* compute\n",
    "* model\n",
    "* solver\n",
    "* solution\n",
    "* time\n",
    "* qualifier\n",
    "\n",
    "One way to distinguish between context and kind is with the following question and answer:\n",
    "\n",
    "\"What kind of **[context]** is this?  It's a **[kind]** tagged **[context]**=**[tag-with-same-name-as-context]**.\"\n",
    "\n",
    "In different cases, this will then become:\n",
    "\n",
    "* \"What kind of **component** is this?  It's a **star** tagged **component**=**starA**.\" (context='component', kind='star', component='starA')\n",
    "* \"What kind of **feature** is this?  It's a **spot** tagged **feature**=**spot01**.\" (context='feature', kind='spot', feature='spot01')\n",
    "* \"What kind of **dataset** is this?  It's a **LC (light curve)** tagged **dataset**=**lc01**.\" (context='dataset', kind='LC', dataset='lc01')\n",
    "* \"What kind of **compute** (options) are these?  They're **phoebe** (compute options) tagged **compute**=**preview**.\" (context='compute', kind='phoebe', compute='preview')\n",
    "\n",
    "\n",
    "As we saw before, these tags can be accessed at the Parameter level as either a dictionary key or as an object attribute.  For ParameterSets, the tags are only accessible through object attributes."
   ]
  },
  {
   "cell_type": "code",
   "execution_count": 68,
   "metadata": {},
   "outputs": [
    {
     "name": "stdout",
     "output_type": "stream",
     "text": [
      "None\n"
     ]
    }
   ],
   "source": [
    "print(ps.context)"
   ]
  },
  {
   "cell_type": "markdown",
   "metadata": {},
   "source": [
    "This returns None since not all objects in this ParameterSet share a single context.  But you can see all the options for a given tag by providing the plural version of that tag name:"
   ]
  },
  {
   "cell_type": "code",
   "execution_count": 69,
   "metadata": {},
   "outputs": [
    {
     "name": "stdout",
     "output_type": "stream",
     "text": [
      "['context1', 'context2']\n"
     ]
    }
   ],
   "source": [
    "print(ps.contexts)"
   ]
  },
  {
   "cell_type": "markdown",
   "metadata": {},
   "source": [
    "### Filtering\n",
    "\n",
    "Any of the tags can also be used to [filter](../api/phoebe.parameters.ParameterSet.filter) the ParameterSet:"
   ]
  },
  {
   "cell_type": "code",
   "execution_count": 70,
   "metadata": {},
   "outputs": [
    {
     "name": "stdout",
     "output_type": "stream",
     "text": [
      "ParameterSet: 2 parameters\n",
      "            param1@kind1@context1: 10.0 m\n",
      "            param3@kind2@context1: 0.0 kg\n"
     ]
    }
   ],
   "source": [
    "print(ps.filter(context='context1'))"
   ]
  },
  {
   "cell_type": "markdown",
   "metadata": {
    "collapsed": true
   },
   "source": [
    "Here we were returned a ParameterSet of all Parameters that matched the filter criteria.  Since we're returned another ParameterSet, we can chain additional filter calls together."
   ]
  },
  {
   "cell_type": "code",
   "execution_count": 71,
   "metadata": {},
   "outputs": [
    {
     "name": "stdout",
     "output_type": "stream",
     "text": [
      "ParameterSet: 1 parameters\n",
      "            param1@kind1@context1: 10.0 m\n"
     ]
    }
   ],
   "source": [
    "print(ps.filter(context='context1', kind='kind1'))"
   ]
  },
  {
   "cell_type": "markdown",
   "metadata": {},
   "source": [
    "Now we see that we have drilled down to a single Parameter.  Note that a ParameterSet is still returned - filter will *always* return a ParameterSet.\n",
    "\n",
    "We could have accomplished the exact same thing with a single call to filter:"
   ]
  },
  {
   "cell_type": "code",
   "execution_count": 72,
   "metadata": {},
   "outputs": [
    {
     "name": "stdout",
     "output_type": "stream",
     "text": [
      "ParameterSet: 1 parameters\n",
      "            param1@kind1@context1: 10.0 m\n"
     ]
    }
   ],
   "source": [
    "print(ps.filter(context='context1', kind='kind1'))"
   ]
  },
  {
   "cell_type": "markdown",
   "metadata": {},
   "source": [
    "If you want to access the actual Parameter, you must use get instead of (or in addition to) filter.  All of the following lines do the exact same thing:"
   ]
  },
  {
   "cell_type": "code",
   "execution_count": 73,
   "metadata": {},
   "outputs": [
    {
     "name": "stdout",
     "output_type": "stream",
     "text": [
      "Parameter: param1@kind1@context1\n",
      "                       Qualifier: param1\n",
      "                     Description: param1 description\n",
      "                           Value: 10.0 m\n",
      "                  Constrained by: \n",
      "                      Constrains: None\n",
      "                      Related to: None\n",
      "\n"
     ]
    }
   ],
   "source": [
    "print(ps.filter(context='context1', kind='kind1').get())"
   ]
  },
  {
   "cell_type": "code",
   "execution_count": 74,
   "metadata": {},
   "outputs": [
    {
     "name": "stdout",
     "output_type": "stream",
     "text": [
      "Parameter: param1@kind1@context1\n",
      "                       Qualifier: param1\n",
      "                     Description: param1 description\n",
      "                           Value: 10.0 m\n",
      "                  Constrained by: \n",
      "                      Constrains: None\n",
      "                      Related to: None\n",
      "\n"
     ]
    }
   ],
   "source": [
    "print(ps.get(context='context1', kind='kind1'))"
   ]
  },
  {
   "cell_type": "markdown",
   "metadata": {},
   "source": [
    "Or we can use those twigs.  Remember that twigs are just a combination of these tags separated by the @ symbol.  You can use these for dictionary access in a ParameterSet - without needing to provide the name of the tag, and without having to worry about order.  And whenever this returns a ParameterSet, these are also chainable, so the following two lines will do the same thing:"
   ]
  },
  {
   "cell_type": "code",
   "execution_count": 75,
   "metadata": {},
   "outputs": [
    {
     "name": "stdout",
     "output_type": "stream",
     "text": [
      "Parameter: param1@kind1@context1\n",
      "                       Qualifier: param1\n",
      "                     Description: param1 description\n",
      "                           Value: 10.0 m\n",
      "                  Constrained by: \n",
      "                      Constrains: None\n",
      "                      Related to: None\n",
      "\n"
     ]
    }
   ],
   "source": [
    "print(ps['context1@kind1'])"
   ]
  },
  {
   "cell_type": "code",
   "execution_count": 76,
   "metadata": {},
   "outputs": [
    {
     "name": "stdout",
     "output_type": "stream",
     "text": [
      "Parameter: param1@kind1@context1\n",
      "                       Qualifier: param1\n",
      "                     Description: param1 description\n",
      "                           Value: 10.0 m\n",
      "                  Constrained by: \n",
      "                      Constrains: None\n",
      "                      Related to: None\n",
      "\n"
     ]
    }
   ],
   "source": [
    "print(ps['context1']['kind1'])"
   ]
  },
  {
   "cell_type": "markdown",
   "metadata": {},
   "source": [
    "You may notice that the final result was a Parameter, not a ParameterSet.  Twig dictionary access tries to be smart - if exactly 1 Parameter is found, it will return that Parameter instead of a ParameterSet.  Notice the difference between the two following lines:"
   ]
  },
  {
   "cell_type": "code",
   "execution_count": 77,
   "metadata": {},
   "outputs": [
    {
     "name": "stdout",
     "output_type": "stream",
     "text": [
      "ParameterSet: 2 parameters\n",
      "            param1@kind1@context1: 10.0 m\n",
      "            param3@kind2@context1: 0.0 kg\n"
     ]
    }
   ],
   "source": [
    "print(ps['context1'])"
   ]
  },
  {
   "cell_type": "code",
   "execution_count": 78,
   "metadata": {},
   "outputs": [
    {
     "name": "stdout",
     "output_type": "stream",
     "text": [
      "Parameter: param1@kind1@context1\n",
      "                       Qualifier: param1\n",
      "                     Description: param1 description\n",
      "                           Value: 10.0 m\n",
      "                  Constrained by: \n",
      "                      Constrains: None\n",
      "                      Related to: None\n",
      "\n"
     ]
    }
   ],
   "source": [
    "print(ps['context1@kind1'])"
   ]
  },
  {
   "cell_type": "markdown",
   "metadata": {},
   "source": [
    "Of course, once you get the Parameter you can then use dictionary keys to access any attributes of that Parameter."
   ]
  },
  {
   "cell_type": "code",
   "execution_count": 79,
   "metadata": {},
   "outputs": [
    {
     "name": "stdout",
     "output_type": "stream",
     "text": [
      "param1 description\n"
     ]
    }
   ],
   "source": [
    "print(ps['context1@kind1']['description'])"
   ]
  },
  {
   "cell_type": "markdown",
   "metadata": {},
   "source": [
    "So we decided we might as well allow access to those attributes directly from the twig as well"
   ]
  },
  {
   "cell_type": "code",
   "execution_count": 80,
   "metadata": {},
   "outputs": [
    {
     "name": "stdout",
     "output_type": "stream",
     "text": [
      "param1 description\n"
     ]
    }
   ],
   "source": [
    "print(ps['description@context1@kind1'])"
   ]
  },
  {
   "cell_type": "markdown",
   "metadata": {},
   "source": [
    "The Bundle\n",
    "------------\n",
    "\n",
    "The [Bundle](../api/phoebe.frontend.bundle.Bundle.md) is nothing more than a glorified [ParameterSet](../api/phoebe.parameters.ParameterSet.md) with some extra methods to compute models, add new components and datasets, etc.\n",
    "\n",
    "You can initialize a bundle for a default detached binary system as follows:"
   ]
  },
  {
   "cell_type": "code",
   "execution_count": 81,
   "metadata": {},
   "outputs": [
    {
     "name": "stdout",
     "output_type": "stream",
     "text": [
      "PHOEBE Bundle: 133 parameters\n",
      "                        t0@system: 0.0 d\n",
      "                        ra@system: 0.0 deg\n",
      "                       dec@system: 0.0 deg\n",
      "                  distance@system: 1.0 m\n",
      "                    vgamma@system: 0.0 km / s\n",
      "C                      ebv@system: 0.0\n",
      "                        Av@system: 0.0\n",
      "                        Rv@system: 3.1\n",
      "                 hierarchy@system: orbit:binary(star:primary, star:secondary)\n",
      "         requiv@primary@component: 1.0 solRad\n",
      "C    requiv_max@primary@component: 2.013275176537638 solRad\n",
      "           teff@primary@component: 6000.0 K\n",
      "           abun@primary@component: 0.0\n",
      "C          logg@primary@component: 4.437551877570185\n",
      "        syncpar@primary@component: 1.0\n",
      "C        period@primary@component: 1.0 d\n",
      "C          freq@primary@component: 6.283185 rad / d\n",
      "          pitch@primary@component: 0.0 deg\n",
      "            yaw@primary@component: 0.0 deg\n",
      "C          incl@primary@component: 90.0 deg\n",
      "C       long_an@primary@component: 0.0 deg\n",
      "      gravb_bol@primary@component: 0.32\n",
      "   irrad_frac_refl_bol@primary...: 0.6\n",
      "C  irrad_frac_lost_bol@primary...: 0.4\n",
      "    ld_mode_bol@primary@component: lookup\n",
      "    ld_func_bol@primary@component: logarithmic\n",
      "   ld_coeffs_source_bol@primar...: auto\n",
      "C          mass@primary@component: 0.9988131358058301 solMass\n",
      "       requiv@secondary@component: 1.0 solRad\n",
      "C  requiv_max@secondary@component: 2.013275176537638 solRad\n",
      "         teff@secondary@component: 6000.0 K\n",
      "         abun@secondary@component: 0.0\n",
      "C        logg@secondary@component: 4.437551877570185\n",
      "      syncpar@secondary@component: 1.0\n",
      "C      period@secondary@component: 1.0 d\n",
      "C        freq@secondary@component: 6.283185 rad / d\n",
      "        pitch@secondary@component: 0.0 deg\n",
      "          yaw@secondary@component: 0.0 deg\n",
      "C        incl@secondary@component: 90.0 deg\n",
      "C     long_an@secondary@component: 0.0 deg\n",
      "    gravb_bol@secondary@component: 0.32\n",
      "   irrad_frac_refl_bol@seconda...: 0.6\n",
      "C  irrad_frac_lost_bol@seconda...: 0.4\n",
      "   ld_mode_bol@secondary@compo...: lookup\n",
      "   ld_func_bol@secondary@compo...: logarithmic\n",
      "   ld_coeffs_source_bol@second...: auto\n",
      "C        mass@secondary@component: 0.9988131358058301 solMass\n",
      "          period@binary@component: 1.0 d\n",
      "C           freq@binary@component: 6.283185 rad / d\n",
      "            dpdt@binary@component: 0.0 s / yr\n",
      "            per0@binary@component: 0.0 deg\n",
      "          dperdt@binary@component: 0.0 deg / yr\n",
      "             ecc@binary@component: 0.0\n",
      "C     t0_perpass@binary@component: -0.25 d\n",
      "      t0_supconj@binary@component: 0.0 d\n",
      "C         t0_ref@binary@component: 0.0 d\n",
      "C      mean_anom@binary@component: 89.99999559997653 deg\n",
      "            incl@binary@component: 90.0 deg\n",
      "               q@binary@component: 1.0\n",
      "             sma@binary@component: 5.3 solRad\n",
      "         long_an@binary@component: 0.0 deg\n",
      "C          asini@binary@component: 5.3 solRad\n",
      "C          ecosw@binary@component: 0.0\n",
      "C          esinw@binary@component: 0.0\n",
      "C           sma@primary@component: 2.65 solRad\n",
      "C         asini@primary@component: 2.65 solRad\n",
      "C         sma@secondary@component: 2.65 solRad\n",
      "C       asini@secondary@component: 2.65 solRad\n",
      "                   ebv@constraint: {Av@system} / {Rv@system}\n",
      "          freq@primary@constraint: 6.283185 / {period@primary@component}\n",
      "          logg@primary@constraint: log10((({mass@primary@component} / ({requiv@primary@component} ** 2.000000)) * 2942.206218) * 9.319541)\n",
      "   irrad_frac_lost_bol@primary...: 1.000000 - {irrad_frac_refl_bol@primary@component}\n",
      "        freq@secondary@constraint: 6.283185 / {period@secondary@component}\n",
      "        logg@secondary@constraint: log10((({mass@secondary@component} / ({requiv@secondary@component} ** 2.000000)) * 2942.206218) * 9.319541)\n",
      "   irrad_frac_lost_bol@seconda...: 1.000000 - {irrad_frac_refl_bol@secondary@component}\n",
      "          asini@binary@constraint: {sma@binary@component} * (sin({incl@binary@component}))\n",
      "            t0_perpass@constraint: t0_supconj_to_perpass({t0_supconj@binary@component}, {period@binary@component}, {ecc@binary@component}, {per0@binary@component}, {dpdt@binary@component}, {dperdt@binary@component}, {t0@system})\n",
      "                t0_ref@constraint: t0_supconj_to_ref({t0_supconj@binary@component}, {period@binary@component}, {ecc@binary@component}, {per0@binary@component}, {dpdt@binary@component}, {dperdt@binary@component}, {t0@system})\n",
      "             mean_anom@constraint: (6.283185 * ({t0@system} - {t0_perpass@binary@component})) / {period@binary@component}\n",
      "                 ecosw@constraint: {ecc@binary@component} * (cos({per0@binary@component}))\n",
      "                 esinw@constraint: {ecc@binary@component} * (sin({per0@binary@component}))\n",
      "           freq@binary@constraint: 6.283185 / {period@binary@component}\n",
      "          mass@primary@constraint: (39.478418 * ({sma@binary@component} ** 3.000000)) / ((({period@binary@component} ** 2.000000) * ({q@binary@component} + 1.000000)) * 2942.206217504419328179210424423218)\n",
      "           sma@primary@constraint: {sma@binary@component} / ((1.000000 / {q@binary@component}) + 1.000000)\n",
      "         asini@primary@constraint: ({sma@binary@component} * (sin({incl@binary@component}))) / ((1.000000 / {q@binary@component}) + 1.000000)\n",
      "        period@primary@constraint: {period@binary@component} / {syncpar@primary@component}\n",
      "          incl@primary@constraint: {incl@binary@component} + {pitch@primary@component}\n",
      "       long_an@primary@constraint: {long_an@binary@component} + {yaw@primary@component}\n",
      "    requiv_max@primary@constraint: requiv_L1({q@binary@component}, {syncpar@primary@component}, {ecc@binary@component}, {sma@binary@component}, {incl@primary@component}, {long_an@primary@component}, {incl@binary@component}, {long_an@binary@component}, 1)\n",
      "        mass@secondary@constraint: (39.478418 * ({sma@binary@component} ** 3.000000)) / ((({period@binary@component} ** 2.000000) * ((1.000000 / {q@binary@component}) + 1.000000)) * 2942.206217504419328179210424423218)\n",
      "         sma@secondary@constraint: {sma@binary@component} / ({q@binary@component} + 1.000000)\n",
      "       asini@secondary@constraint: ({sma@binary@component} * (sin({incl@binary@component}))) / ({q@binary@component} + 1.000000)\n",
      "      period@secondary@constraint: {period@binary@component} / {syncpar@secondary@component}\n",
      "        incl@secondary@constraint: {incl@binary@component} + {pitch@secondary@component}\n",
      "     long_an@secondary@constraint: {long_an@binary@component} + {yaw@secondary@component}\n",
      "   requiv_max@secondary@constr...: requiv_L1({q@binary@component}, {syncpar@secondary@component}, {ecc@binary@component}, {sma@binary@component}, {incl@secondary@component}, {long_an@secondary@component}, {incl@binary@component}, {long_an@binary@component}, 2)\n",
      "     sample_from@phoebe01@compute: []\n",
      "        comments@phoebe01@compute: \n",
      "   dynamics_method@phoebe01@co...: keplerian\n",
      "            ltte@phoebe01@compute: False\n",
      "    irrad_method@phoebe01@compute: horvat\n",
      "   boosting_method@phoebe01@co...: none\n",
      "   eclipse_method@phoebe01@com...: native\n",
      "   horizon_method@phoebe01@com...: boolean\n",
      "   mesh_method@primary@phoebe0...: marching\n",
      "   mesh_method@secondary@phoeb...: marching\n",
      "   ntriangles@primary@phoebe01...: 1500\n",
      "   ntriangles@secondary@phoebe...: 1500\n",
      "   distortion_method@primary@p...: roche\n",
      "   distortion_method@secondary...: roche\n",
      "     atm@primary@phoebe01@compute: ck2004\n",
      "   atm@secondary@phoebe01@compute: ck2004\n",
      "       default_time_source@figure: None\n",
      "        latex_repr@primary@figure: \n",
      "             color@primary@figure: blue\n",
      "            marker@primary@figure: .\n",
      "         linestyle@primary@figure: solid\n",
      "      latex_repr@secondary@figure: \n",
      "           color@secondary@figure: orange\n",
      "          marker@secondary@figure: o\n",
      "       linestyle@secondary@figure: dashed\n",
      "         latex_repr@binary@figure: \n",
      "R          phoebe_version@setting: 2.3.46\n",
      "              dict_filter@setting: {}\n",
      "             dict_set_all@setting: False\n",
      "       run_checks_compute@setting: ['*']\n",
      "        run_checks_solver@setting: ['*']\n",
      "      run_checks_solution@setting: []\n",
      "        run_checks_figure@setting: []\n",
      "          auto_add_figure@setting: True\n",
      "       auto_remove_figure@setting: True\n",
      "               web_client@setting: False\n",
      "           web_client_url@setting: ui.phoebe-project.org\n"
     ]
    }
   ],
   "source": [
    "b = phoebe.default_binary()\n",
    "print(b)"
   ]
  },
  {
   "cell_type": "markdown",
   "metadata": {},
   "source": [
    "and filter just as you would for a ParameterSet"
   ]
  },
  {
   "cell_type": "code",
   "execution_count": 82,
   "metadata": {},
   "outputs": [
    {
     "name": "stdout",
     "output_type": "stream",
     "text": [
      "ParameterSet: 9 parameters\n",
      "                        t0@system: 0.0 d\n",
      "                        ra@system: 0.0 deg\n",
      "                       dec@system: 0.0 deg\n",
      "                  distance@system: 1.0 m\n",
      "                    vgamma@system: 0.0 km / s\n",
      "C                      ebv@system: 0.0\n",
      "                        Av@system: 0.0\n",
      "                        Rv@system: 3.1\n",
      "                 hierarchy@system: orbit:binary(star:primary, star:secondary)\n"
     ]
    }
   ],
   "source": [
    "print(b.filter(context='system'))"
   ]
  },
  {
   "cell_type": "markdown",
   "metadata": {},
   "source": [
    "### Visible If\n",
    "\n",
    "As promised earlier, the 'visible_if' attribute of a Parameter controls whether its visible to a ParameterSet... but it only does anything if the Parameter belongs to a Bundle.\n",
    "\n",
    "Let's look at an example:"
   ]
  },
  {
   "cell_type": "code",
   "execution_count": 83,
   "metadata": {},
   "outputs": [
    {
     "name": "stdout",
     "output_type": "stream",
     "text": [
      "ParameterSet: 3 parameters\n",
      "    ld_mode_bol@primary@component: lookup\n",
      "    ld_func_bol@primary@component: logarithmic\n",
      "   ld_coeffs_source_bol@primar...: auto\n"
     ]
    }
   ],
   "source": [
    "print(b.filter(qualifier='ld*', component='primary'))"
   ]
  },
  {
   "cell_type": "markdown",
   "metadata": {},
   "source": [
    "If we change `ld_mode_bol` from `lookup` to `manual`, the same filter will uncover another `ld_coeffs_bol` parameter that was previously hidden (and hide the `ld_coeffs_source_bol` parameter)."
   ]
  },
  {
   "cell_type": "code",
   "execution_count": 84,
   "metadata": {},
   "outputs": [],
   "source": [
    "b.set_value('ld_mode_bol', component='primary', value='manual')"
   ]
  },
  {
   "cell_type": "code",
   "execution_count": 85,
   "metadata": {},
   "outputs": [
    {
     "name": "stdout",
     "output_type": "stream",
     "text": [
      "ParameterSet: 3 parameters\n",
      "    ld_mode_bol@primary@component: manual\n",
      "    ld_func_bol@primary@component: logarithmic\n",
      "   ld_coeffs_bol@primary@compo...: [0.5 0.5]\n"
     ]
    }
   ],
   "source": [
    "print(b.filter(qualifier='ld*', component='primary'))"
   ]
  },
  {
   "cell_type": "markdown",
   "metadata": {},
   "source": [
    "We can see the \"rule\" that dictates the parameter's visibility"
   ]
  },
  {
   "cell_type": "code",
   "execution_count": 86,
   "metadata": {},
   "outputs": [
    {
     "name": "stdout",
     "output_type": "stream",
     "text": [
      "Parameter: ld_coeffs_bol@primary@component\n",
      "                       Qualifier: ld_coeffs_bol\n",
      "                     Description: Bolometric limb darkening coefficients (used only for irradiation).\n",
      "                           Value: [0.5 0.5]\n",
      "                  Constrained by: \n",
      "                      Constrains: None\n",
      "                      Related to: None\n",
      "                 Only visible if: ld_mode_bol:manual\n",
      "\n"
     ]
    }
   ],
   "source": [
    "print(b.get_parameter(qualifier='ld_coeffs_bol', component='primary'))"
   ]
  },
  {
   "cell_type": "code",
   "execution_count": 87,
   "metadata": {},
   "outputs": [
    {
     "name": "stdout",
     "output_type": "stream",
     "text": [
      "ld_mode_bol:manual\n"
     ]
    }
   ],
   "source": [
    "print(b.get_parameter(qualifier='ld_coeffs_bol', component='primary').visible_if)"
   ]
  },
  {
   "cell_type": "markdown",
   "metadata": {},
   "source": [
    "### FloatArrayParameters: interpolation\n",
    "\n",
    "As mentioned earlier, when a part of a Bundle, FloatArrayParameters can handle simple linear interpolation with respect to another FloatArrayParameter in the same ParameterSet.\n",
    "\n",
    "To see this in action, we'll add a dataset with entirely unrealistic times and fluxes."
   ]
  },
  {
   "cell_type": "code",
   "execution_count": 88,
   "metadata": {},
   "outputs": [
    {
     "name": "stderr",
     "output_type": "stream",
     "text": [
      "Fri, 02 Jul 2021 20:48 BUNDLE       INFO    calling add_figure(kind='dataset.lc') since auto_add_figure@setting=True\n"
     ]
    },
    {
     "data": {
      "text/plain": [
       "<ParameterSet: 78 parameters | contexts: dataset, figure, constraint, compute>"
      ]
     },
     "execution_count": 88,
     "metadata": {},
     "output_type": "execute_result"
    }
   ],
   "source": [
    "b.add_dataset('lc', times=[0, 1, 2, 3], fluxes=[0.5, 0.6, 0.7, 0.8])"
   ]
  },
  {
   "cell_type": "code",
   "execution_count": 89,
   "metadata": {},
   "outputs": [
    {
     "name": "stdout",
     "output_type": "stream",
     "text": [
      "ParameterSet: 2 parameters\n",
      "               times@lc01@dataset: [0. 1. 2. 3.] d\n",
      "              fluxes@lc01@dataset: [0.5 0.6 0.7 0.8] W / m2\n"
     ]
    }
   ],
   "source": [
    "print(b.filter(qualifier=['times', 'fluxes']))"
   ]
  },
  {
   "cell_type": "markdown",
   "metadata": {},
   "source": [
    "Now we can interpolate the 'fluxes' param for any given value of 'times'"
   ]
  },
  {
   "cell_type": "code",
   "execution_count": 90,
   "metadata": {},
   "outputs": [
    {
     "data": {
      "text/plain": [
       "array([0.51])"
      ]
     },
     "execution_count": 90,
     "metadata": {},
     "output_type": "execute_result"
    }
   ],
   "source": [
    "b.get_parameter('fluxes').interp_value(times=[0.1])"
   ]
  },
  {
   "cell_type": "markdown",
   "metadata": {},
   "source": [
    "**NOTE**: interp_value does not (yet) support passing a unit.. it will always return a value (not a quantity) and will always be in the default_unit."
   ]
  }
 ],
 "metadata": {
  "kernelspec": {
   "display_name": "Python 3",
   "language": "python",
   "name": "python3"
  },
  "language_info": {
   "codemirror_mode": {
    "name": "ipython",
    "version": 3
   },
   "file_extension": ".py",
   "mimetype": "text/x-python",
   "name": "python",
   "nbconvert_exporter": "python",
   "pygments_lexer": "ipython3",
   "version": "3.8.5"
  }
 },
 "nbformat": 4,
 "nbformat_minor": 1
}
