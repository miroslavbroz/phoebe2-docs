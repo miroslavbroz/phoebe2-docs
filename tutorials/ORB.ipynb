{
 "cells": [
  {
   "cell_type": "markdown",
   "metadata": {},
   "source": [
    "[IPython Notebook](ORB.ipynb) |  [Python Script](ORB.py)"
   ]
  },
  {
   "cell_type": "markdown",
   "metadata": {},
   "source": [
    "'orb' Datasets and Options\n",
    "============================\n",
    "\n",
    "Setup\n",
    "-----------------------------"
   ]
  },
  {
   "cell_type": "markdown",
   "metadata": {
    "collapsed": true
   },
   "source": [
    "As always, let's do imports and initialize a logger and a new Bundle.  See [Building a System](building_a_system.html) for more details."
   ]
  },
  {
   "cell_type": "code",
   "execution_count": 1,
   "metadata": {
    "collapsed": true
   },
   "outputs": [],
   "source": [
    "%matplotlib inline"
   ]
  },
  {
   "cell_type": "code",
   "execution_count": 2,
   "metadata": {
    "collapsed": false
   },
   "outputs": [
    {
     "name": "stderr",
     "output_type": "stream",
     "text": [
      "/usr/local/lib/python2.7/dist-packages/IPython/kernel/__init__.py:13: ShimWarning: The `IPython.kernel` package has been deprecated. You should import from ipykernel or jupyter_client instead.\n",
      "  \"You should import from ipykernel or jupyter_client instead.\", ShimWarning)\n",
      "WARNING: Constant u'Gravitational constant' is already has a definition in the u'si' system [astropy.constants.constant]\n",
      "WARNING:astropy:Constant u'Gravitational constant' is already has a definition in the u'si' system\n",
      "WARNING: Constant u'Solar mass' is already has a definition in the u'si' system [astropy.constants.constant]\n",
      "WARNING:astropy:Constant u'Solar mass' is already has a definition in the u'si' system\n",
      "WARNING: Constant u'Solar radius' is already has a definition in the u'si' system [astropy.constants.constant]\n",
      "WARNING:astropy:Constant u'Solar radius' is already has a definition in the u'si' system\n",
      "WARNING: Constant u'Solar luminosity' is already has a definition in the u'si' system [astropy.constants.constant]\n",
      "WARNING:astropy:Constant u'Solar luminosity' is already has a definition in the u'si' system\n",
      "/usr/local/lib/python2.7/dist-packages/astropy/units/quantity.py:732: FutureWarning: comparison to `None` will result in an elementwise object comparison in the future.\n",
      "  return super(Quantity, self).__eq__(other)\n"
     ]
    }
   ],
   "source": [
    "import phoebe\n",
    "from phoebe import u # units\n",
    "import numpy as np\n",
    "import matplotlib.pyplot as plt\n",
    "\n",
    "logger = phoebe.logger()\n",
    "\n",
    "b = phoebe.default_binary()"
   ]
  },
  {
   "cell_type": "markdown",
   "metadata": {
    "collapsed": true
   },
   "source": [
    "Dataset Parameters\n",
    "--------------------------\n",
    "\n",
    "Let's create the ParameterSet which would be added to the Bundle when calling add_dataset. Later we'll call add_dataset, which will create and attach this ParameterSet for us."
   ]
  },
  {
   "cell_type": "code",
   "execution_count": 3,
   "metadata": {
    "collapsed": false
   },
   "outputs": [
    {
     "name": "stdout",
     "output_type": "stream",
     "text": [
      "ParameterSet: 1 parameters\n",
      "                  times@_default: [] d\n"
     ]
    }
   ],
   "source": [
    "ps, constraints = phoebe.dataset.orb()\n",
    "print ps"
   ]
  },
  {
   "cell_type": "markdown",
   "metadata": {},
   "source": [
    "### times"
   ]
  },
  {
   "cell_type": "code",
   "execution_count": 4,
   "metadata": {
    "collapsed": false
   },
   "outputs": [
    {
     "name": "stdout",
     "output_type": "stream",
     "text": [
      "Parameter: times@_default\n",
      "                       Qualifier: times\n",
      "                     Description: Observed times\n",
      "                           Value: [] d\n",
      "                  Constrained by: \n",
      "                      Constrains: None\n",
      "                      Related to: None\n",
      "\n"
     ]
    }
   ],
   "source": [
    "print ps['times']"
   ]
  },
  {
   "cell_type": "markdown",
   "metadata": {},
   "source": [
    "Compute Options\n",
    "------------------\n",
    "\n",
    "Let's look at the compute options (for the default PHOEBE 2 backend) that relate to dynamics and the ORB dataset"
   ]
  },
  {
   "cell_type": "code",
   "execution_count": 5,
   "metadata": {
    "collapsed": false
   },
   "outputs": [
    {
     "name": "stdout",
     "output_type": "stream",
     "text": [
      "ParameterSet: 20 parameters\n",
      "                enabled@_default: True\n",
      "                 dynamics_method: keplerian\n",
      "                            ltte: False\n",
      "                    irrad_method: wilson\n",
      "                 boosting_method: none\n",
      "                       protomesh: False\n",
      "                          pbmesh: False\n",
      "                         horizon: False\n",
      "            mesh_method@_default: marching\n",
      "                  delta@_default: 0.1\n",
      "              maxpoints@_default: 100000\n",
      "      distortion_method@_default: roche\n",
      "                  eclipse_method: native\n",
      "                  horizon_method: boolean\n",
      "                    atm@_default: ck2004\n",
      "              lc_method@_default: numerical\n",
      "             fti_method@_default: None\n",
      "  fti_oversample@_default@_de...: 5\n",
      "     rv_method@_default@_default: flux-weighted\n",
      "       rv_grav@_default@_default: False\n"
     ]
    }
   ],
   "source": [
    "ps_compute = phoebe.compute.phoebe()\n",
    "print ps_compute"
   ]
  },
  {
   "cell_type": "markdown",
   "metadata": {},
   "source": [
    "### dynamics_method"
   ]
  },
  {
   "cell_type": "code",
   "execution_count": 6,
   "metadata": {
    "collapsed": false,
    "scrolled": true
   },
   "outputs": [
    {
     "name": "stdout",
     "output_type": "stream",
     "text": [
      "Parameter: dynamics_method\n",
      "                       Qualifier: dynamics_method\n",
      "                     Description: Which method to use to determine the dynamics of components\n",
      "                           Value: keplerian\n",
      "                         Choices: keplerian\n",
      "\n"
     ]
    }
   ],
   "source": [
    "print ps_compute['dynamics_method']"
   ]
  },
  {
   "cell_type": "markdown",
   "metadata": {},
   "source": [
    "The 'dynamics_method' parameter controls how stars and components are placed in the coordinate system as a function of time and has several choices:\n",
    " * keplerian (default): Use Kepler's laws to determine positions.  If the system has more than two components, then each orbit is treated independently and nested (ie there are no dynamical/tidal effects - the inner orbit is treated as a single point mass in the outer orbit).\n",
    " * nbody: Use an n-body integrator to determine positions.  Here the initial conditions (positions and velocities) are still defined by the orbit's Keplerian parameters at 't0@system'.  Closed orbits and orbital stability are not guaranteed and ejections can occur."
   ]
  },
  {
   "cell_type": "markdown",
   "metadata": {},
   "source": [
    "### ltte"
   ]
  },
  {
   "cell_type": "code",
   "execution_count": 7,
   "metadata": {
    "collapsed": false
   },
   "outputs": [
    {
     "name": "stdout",
     "output_type": "stream",
     "text": [
      "Parameter: ltte\n",
      "                       Qualifier: ltte\n",
      "                     Description: Correct for light travel time effects\n",
      "                           Value: False\n",
      "\n"
     ]
    }
   ],
   "source": [
    "print ps_compute['ltte']"
   ]
  },
  {
   "cell_type": "markdown",
   "metadata": {},
   "source": [
    "The 'ltte' parameter sets whether light travel time effects (Roemer delay) are included.  If set to False, the positions and velocities are returned as they actually are for that given object at that given time.  If set to True, they are instead returned as they were or will be when their light reaches the origin of the coordinate system.\n",
    "\n",
    "See the [Systemic Velocity Example Script](../examples/vgamma) for an example of how 'ltte' and 'vgamma' (systemic velocity) interplay."
   ]
  },
  {
   "cell_type": "markdown",
   "metadata": {},
   "source": [
    "### orbiterror\n",
    "\n",
    "The 'orbiterror' parameter is only relevant if dynamics_method=='nbody' (so will not be available unless that is the case)"
   ]
  },
  {
   "cell_type": "code",
   "execution_count": 8,
   "metadata": {
    "collapsed": false
   },
   "outputs": [
    {
     "name": "stdout",
     "output_type": "stream",
     "text": [
      "ParameterSet: 0 parameters\n",
      "NO PARAMETERS\n"
     ]
    }
   ],
   "source": [
    "print ps_compute['orbiterror']"
   ]
  },
  {
   "cell_type": "markdown",
   "metadata": {},
   "source": [
    "### stepsize\n",
    "\n",
    "The 'stepsize' parameter is also only relevenat if dynamics_method=='nbody' (so will not be available unless that is the case)"
   ]
  },
  {
   "cell_type": "code",
   "execution_count": 9,
   "metadata": {
    "collapsed": false
   },
   "outputs": [
    {
     "name": "stdout",
     "output_type": "stream",
     "text": [
      "ParameterSet: 0 parameters\n",
      "NO PARAMETERS\n"
     ]
    }
   ],
   "source": [
    "print ps_compute['stepsize']"
   ]
  },
  {
   "cell_type": "markdown",
   "metadata": {},
   "source": [
    "Synthetics\n",
    "------------------"
   ]
  },
  {
   "cell_type": "code",
   "execution_count": 10,
   "metadata": {
    "collapsed": false
   },
   "outputs": [
    {
     "data": {
      "text/plain": [
       "<ParameterSet: 3 parameters | contexts: compute, dataset>"
      ]
     },
     "execution_count": 10,
     "metadata": {},
     "output_type": "execute_result"
    }
   ],
   "source": [
    "b.add_dataset('orb', times=np.linspace(0,3,201))"
   ]
  },
  {
   "cell_type": "code",
   "execution_count": 11,
   "metadata": {
    "collapsed": false
   },
   "outputs": [
    {
     "data": {
      "text/plain": [
       "<ParameterSet: 14 parameters | components: primary, secondary>"
      ]
     },
     "execution_count": 11,
     "metadata": {},
     "output_type": "execute_result"
    }
   ],
   "source": [
    "b.run_compute()"
   ]
  },
  {
   "cell_type": "code",
   "execution_count": 12,
   "metadata": {
    "collapsed": false
   },
   "outputs": [
    {
     "data": {
      "text/plain": [
       "['times@primary@orb01@phoebe01@latest@orb@model',\n",
       " 'xs@primary@orb01@phoebe01@latest@orb@model',\n",
       " 'ys@primary@orb01@phoebe01@latest@orb@model',\n",
       " 'zs@primary@orb01@phoebe01@latest@orb@model',\n",
       " 'vxs@primary@orb01@phoebe01@latest@orb@model',\n",
       " 'vys@primary@orb01@phoebe01@latest@orb@model',\n",
       " 'vzs@primary@orb01@phoebe01@latest@orb@model',\n",
       " 'times@secondary@orb01@phoebe01@latest@orb@model',\n",
       " 'xs@secondary@orb01@phoebe01@latest@orb@model',\n",
       " 'ys@secondary@orb01@phoebe01@latest@orb@model',\n",
       " 'zs@secondary@orb01@phoebe01@latest@orb@model',\n",
       " 'vxs@secondary@orb01@phoebe01@latest@orb@model',\n",
       " 'vys@secondary@orb01@phoebe01@latest@orb@model',\n",
       " 'vzs@secondary@orb01@phoebe01@latest@orb@model']"
      ]
     },
     "execution_count": 12,
     "metadata": {},
     "output_type": "execute_result"
    }
   ],
   "source": [
    "b['orb@model'].twigs"
   ]
  },
  {
   "cell_type": "code",
   "execution_count": 13,
   "metadata": {
    "collapsed": false
   },
   "outputs": [
    {
     "name": "stdout",
     "output_type": "stream",
     "text": [
      "Parameter: times@primary@latest@model\n",
      "                       Qualifier: times\n",
      "                     Description: Synthetic times\n",
      "                           Value: [ 0.     0.015  0.03   0.045  0.06   0.075  0.09   0.105  0.12   0.135\n",
      "  0.15   0.165  0.18   0.195  0.21   0.225  0.24   0.255  0.27   0.285  0.3\n",
      "  0.315  0.33   0.345  0.36   0.375  0.39   0.405  0.42   0.435  0.45\n",
      "  0.465  0.48   0.495  0.51   0.525  0.54   0.555  0.57   0.585  0.6    0.615\n",
      "  0.63   0.645  0.66   0.675  0.69   0.705  0.72   0.735  0.75   0.765\n",
      "  0.78   0.795  0.81   0.825  0.84   0.855  0.87   0.885  0.9    0.915\n",
      "  0.93   0.945  0.96   0.975  0.99   1.005  1.02   1.035  1.05   1.065\n",
      "  1.08   1.095  1.11   1.125  1.14   1.155  1.17   1.185  1.2    1.215\n",
      "  1.23   1.245  1.26   1.275  1.29   1.305  1.32   1.335  1.35   1.365\n",
      "  1.38   1.395  1.41   1.425  1.44   1.455  1.47   1.485  1.5    1.515\n",
      "  1.53   1.545  1.56   1.575  1.59   1.605  1.62   1.635  1.65   1.665\n",
      "  1.68   1.695  1.71   1.725  1.74   1.755  1.77   1.785  1.8    1.815\n",
      "  1.83   1.845  1.86   1.875  1.89   1.905  1.92   1.935  1.95   1.965\n",
      "  1.98   1.995  2.01   2.025  2.04   2.055  2.07   2.085  2.1    2.115\n",
      "  2.13   2.145  2.16   2.175  2.19   2.205  2.22   2.235  2.25   2.265\n",
      "  2.28   2.295  2.31   2.325  2.34   2.355  2.37   2.385  2.4    2.415\n",
      "  2.43   2.445  2.46   2.475  2.49   2.505  2.52   2.535  2.55   2.565\n",
      "  2.58   2.595  2.61   2.625  2.64   2.655  2.67   2.685  2.7    2.715\n",
      "  2.73   2.745  2.76   2.775  2.79   2.805  2.82   2.835  2.85   2.865\n",
      "  2.88   2.895  2.91   2.925  2.94   2.955  2.97   2.985  3.   ] d\n",
      "                  Constrained by: \n",
      "                      Constrains: None\n",
      "                      Related to: None\n",
      "\n"
     ]
    }
   ],
   "source": [
    "print b['times@primary@orb01@orb@model']"
   ]
  },
  {
   "cell_type": "code",
   "execution_count": 14,
   "metadata": {
    "collapsed": false
   },
   "outputs": [
    {
     "name": "stdout",
     "output_type": "stream",
     "text": [
      "Parameter: xs@primary@latest@model\n",
      "                       Qualifier: xs\n",
      "                     Description: X position\n",
      "                           Value: [  1.62265701e-16  -2.49387030e-01  -4.96560484e-01  -7.39326431e-01\n",
      "  -9.75530065e-01  -1.20307482e+00  -1.41994101e+00  -1.62420369e+00\n",
      "  -1.81404983e+00  -1.98779433e+00  -2.14389504e+00  -2.28096637e+00\n",
      "  -2.39779169e+00  -2.49333404e+00  -2.56674538e+00  -2.61737410e+00\n",
      "  -2.64477083e+00  -2.64869238e+00  -2.62910396e+00  -2.58617942e+00\n",
      "  -2.52029977e+00  -2.43204976e+00  -2.32221270e+00  -2.19176352e+00\n",
      "  -2.04186009e+00  -1.87383297e+00  -1.68917357e+00  -1.48952095e+00\n",
      "  -1.27664724e+00  -1.05244191e+00  -8.18895035e-01  -5.78079590e-01\n",
      "  -3.32133069e-01  -8.32385116e-02   1.66394877e-01   4.14551332e-01\n",
      "   6.59028201e-01   8.97655489e-01   1.12831512e+00   1.34895975e+00\n",
      "   1.55763092e+00   1.75247644e+00   1.93176686e+00   2.09391078e+00\n",
      "   2.23746900e+00   2.36116729e+00   2.46390769e+00   2.54477827e+00\n",
      "   2.60306121e+00   2.63823921e+00   2.65000000e+00   2.63823921e+00\n",
      "   2.60306121e+00   2.54477827e+00   2.46390769e+00   2.36116729e+00\n",
      "   2.23746900e+00   2.09391078e+00   1.93176686e+00   1.75247644e+00\n",
      "   1.55763092e+00   1.34895975e+00   1.12831512e+00   8.97655489e-01\n",
      "   6.59028201e-01   4.14551332e-01   1.66394877e-01  -8.32385116e-02\n",
      "  -3.32133069e-01  -5.78079590e-01  -8.18895035e-01  -1.05244191e+00\n",
      "  -1.27664724e+00  -1.48952095e+00  -1.68917357e+00  -1.87383297e+00\n",
      "  -2.04186009e+00  -2.19176352e+00  -2.32221270e+00  -2.43204976e+00\n",
      "  -2.52029977e+00  -2.58617942e+00  -2.62910396e+00  -2.64869238e+00\n",
      "  -2.64477083e+00  -2.61737410e+00  -2.56674538e+00  -2.49333404e+00\n",
      "  -2.39779169e+00  -2.28096637e+00  -2.14389504e+00  -1.98779433e+00\n",
      "  -1.81404983e+00  -1.62420369e+00  -1.41994101e+00  -1.20307482e+00\n",
      "  -9.75530065e-01  -7.39326431e-01  -4.96560484e-01  -2.49387030e-01\n",
      "  -1.01457071e-15   2.49387030e-01   4.96560484e-01   7.39326431e-01\n",
      "   9.75530065e-01   1.20307482e+00   1.41994101e+00   1.62420369e+00\n",
      "   1.81404983e+00   1.98779433e+00   2.14389504e+00   2.28096637e+00\n",
      "   2.39779169e+00   2.49333404e+00   2.56674538e+00   2.61737410e+00\n",
      "   2.64477083e+00   2.64869238e+00   2.62910396e+00   2.58617942e+00\n",
      "   2.52029977e+00   2.43204976e+00   2.32221270e+00   2.19176352e+00\n",
      "   2.04186009e+00   1.87383297e+00   1.68917357e+00   1.48952095e+00\n",
      "   1.27664724e+00   1.05244191e+00   8.18895035e-01   5.78079590e-01\n",
      "   3.32133069e-01   8.32385116e-02  -1.66394877e-01  -4.14551332e-01\n",
      "  -6.59028201e-01  -8.97655489e-01  -1.12831512e+00  -1.34895975e+00\n",
      "  -1.55763092e+00  -1.75247644e+00  -1.93176686e+00  -2.09391078e+00\n",
      "  -2.23746900e+00  -2.36116729e+00  -2.46390769e+00  -2.54477827e+00\n",
      "  -2.60306121e+00  -2.63823921e+00  -2.65000000e+00  -2.63823921e+00\n",
      "  -2.60306121e+00  -2.54477827e+00  -2.46390769e+00  -2.36116729e+00\n",
      "  -2.23746900e+00  -2.09391078e+00  -1.93176686e+00  -1.75247644e+00\n",
      "  -1.55763092e+00  -1.34895975e+00  -1.12831512e+00  -8.97655489e-01\n",
      "  -6.59028201e-01  -4.14551332e-01  -1.66394877e-01   8.32385116e-02\n",
      "   3.32133069e-01   5.78079590e-01   8.18895035e-01   1.05244191e+00\n",
      "   1.27664724e+00   1.48952095e+00   1.68917357e+00   1.87383297e+00\n",
      "   2.04186009e+00   2.19176352e+00   2.32221270e+00   2.43204976e+00\n",
      "   2.52029977e+00   2.58617942e+00   2.62910396e+00   2.64869238e+00\n",
      "   2.64477083e+00   2.61737410e+00   2.56674538e+00   2.49333404e+00\n",
      "   2.39779169e+00   2.28096637e+00   2.14389504e+00   1.98779433e+00\n",
      "   1.81404983e+00   1.62420369e+00   1.41994101e+00   1.20307482e+00\n",
      "   9.75530065e-01   7.39326431e-01   4.96560484e-01   2.49387030e-01\n",
      "  -2.19140711e-15] solRad\n",
      "                  Constrained by: \n",
      "                      Constrains: None\n",
      "                      Related to: None\n",
      "\n"
     ]
    }
   ],
   "source": [
    "print b['xs@primary@orb01@orb@model']"
   ]
  },
  {
   "cell_type": "code",
   "execution_count": 15,
   "metadata": {
    "collapsed": false
   },
   "outputs": [
    {
     "name": "stdout",
     "output_type": "stream",
     "text": [
      "Parameter: vxs@primary@latest@model\n",
      "                       Qualifier: vxs\n",
      "                     Description: X velocity\n",
      "                           Value: [ -1.66504411e+01  -1.65765458e+01  -1.63555160e+01  -1.59893134e+01\n",
      "  -1.54811886e+01  -1.48356516e+01  -1.40584324e+01  -1.31564295e+01\n",
      "  -1.21376492e+01  -1.10111342e+01  -9.78688370e+00  -8.47576409e+00\n",
      "  -7.08941300e+00  -5.64013578e+00  -4.14079631e+00  -2.60470284e+00\n",
      "  -1.04548984e+00   5.23002993e-01   2.08685362e+00   3.63218118e+00\n",
      "   5.14526925e+00   6.61268755e+00   8.02141116e+00   9.35893616e+00\n",
      "   1.06133906e+01   1.17736398e+01   1.28293853e+01   1.37712564e+01\n",
      "   1.45908927e+01   1.52810193e+01   1.58355105e+01   1.62494445e+01\n",
      "   1.65191474e+01   1.66422251e+01   1.66175852e+01   1.64454465e+01\n",
      "   1.61273368e+01   1.56660798e+01   1.50657695e+01   1.43317344e+01\n",
      "   1.34704898e+01   1.24896802e+01   1.13980112e+01   1.02051728e+01\n",
      "   8.92175247e+00   7.55914206e+00   6.12943617e+00   4.64532497e+00\n",
      "   3.11998154e+00   1.56694492e+00   4.07818187e-15  -1.56694492e+00\n",
      "  -3.11998154e+00  -4.64532497e+00  -6.12943617e+00  -7.55914206e+00\n",
      "  -8.92175247e+00  -1.02051728e+01  -1.13980112e+01  -1.24896802e+01\n",
      "  -1.34704898e+01  -1.43317344e+01  -1.50657695e+01  -1.56660798e+01\n",
      "  -1.61273368e+01  -1.64454465e+01  -1.66175852e+01  -1.66422251e+01\n",
      "  -1.65191474e+01  -1.62494445e+01  -1.58355105e+01  -1.52810193e+01\n",
      "  -1.45908927e+01  -1.37712564e+01  -1.28293853e+01  -1.17736398e+01\n",
      "  -1.06133906e+01  -9.35893616e+00  -8.02141116e+00  -6.61268755e+00\n",
      "  -5.14526925e+00  -3.63218118e+00  -2.08685362e+00  -5.23002993e-01\n",
      "   1.04548984e+00   2.60470284e+00   4.14079631e+00   5.64013578e+00\n",
      "   7.08941300e+00   8.47576409e+00   9.78688370e+00   1.10111342e+01\n",
      "   1.21376492e+01   1.31564295e+01   1.40584324e+01   1.48356516e+01\n",
      "   1.54811886e+01   1.59893134e+01   1.63555160e+01   1.65765458e+01\n",
      "   1.66504411e+01   1.65765458e+01   1.63555160e+01   1.59893134e+01\n",
      "   1.54811886e+01   1.48356516e+01   1.40584324e+01   1.31564295e+01\n",
      "   1.21376492e+01   1.10111342e+01   9.78688370e+00   8.47576409e+00\n",
      "   7.08941300e+00   5.64013578e+00   4.14079631e+00   2.60470284e+00\n",
      "   1.04548984e+00  -5.23002993e-01  -2.08685362e+00  -3.63218118e+00\n",
      "  -5.14526925e+00  -6.61268755e+00  -8.02141116e+00  -9.35893616e+00\n",
      "  -1.06133906e+01  -1.17736398e+01  -1.28293853e+01  -1.37712564e+01\n",
      "  -1.45908927e+01  -1.52810193e+01  -1.58355105e+01  -1.62494445e+01\n",
      "  -1.65191474e+01  -1.66422251e+01  -1.66175852e+01  -1.64454465e+01\n",
      "  -1.61273368e+01  -1.56660798e+01  -1.50657695e+01  -1.43317344e+01\n",
      "  -1.34704898e+01  -1.24896802e+01  -1.13980112e+01  -1.02051728e+01\n",
      "  -8.92175247e+00  -7.55914206e+00  -6.12943617e+00  -4.64532497e+00\n",
      "  -3.11998154e+00  -1.56694492e+00  -9.43337215e-15   1.56694492e+00\n",
      "   3.11998154e+00   4.64532497e+00   6.12943617e+00   7.55914206e+00\n",
      "   8.92175247e+00   1.02051728e+01   1.13980112e+01   1.24896802e+01\n",
      "   1.34704898e+01   1.43317344e+01   1.50657695e+01   1.56660798e+01\n",
      "   1.61273368e+01   1.64454465e+01   1.66175852e+01   1.66422251e+01\n",
      "   1.65191474e+01   1.62494445e+01   1.58355105e+01   1.52810193e+01\n",
      "   1.45908927e+01   1.37712564e+01   1.28293853e+01   1.17736398e+01\n",
      "   1.06133906e+01   9.35893616e+00   8.02141116e+00   6.61268755e+00\n",
      "   5.14526925e+00   3.63218118e+00   2.08685362e+00   5.23002993e-01\n",
      "  -1.04548984e+00  -2.60470284e+00  -4.14079631e+00  -5.64013578e+00\n",
      "  -7.08941300e+00  -8.47576409e+00  -9.78688370e+00  -1.10111342e+01\n",
      "  -1.21376492e+01  -1.31564295e+01  -1.40584324e+01  -1.48356516e+01\n",
      "  -1.54811886e+01  -1.59893134e+01  -1.63555160e+01  -1.65765458e+01\n",
      "  -1.66504411e+01] solRad / d\n",
      "                  Constrained by: \n",
      "                      Constrains: None\n",
      "                      Related to: None\n",
      "\n"
     ]
    }
   ],
   "source": [
    "print b['vxs@primary@orb01@orb@model']"
   ]
  },
  {
   "cell_type": "markdown",
   "metadata": {},
   "source": [
    "Plotting\n",
    "---------------\n",
    "\n",
    "By default, orb datasets plot as 'ys' vx 'xs' (plane of sky).  Notice the y-scale here with inclination set to 90."
   ]
  },
  {
   "cell_type": "code",
   "execution_count": 16,
   "metadata": {
    "collapsed": false
   },
   "outputs": [
    {
     "data": {
      "image/png": "[encoded data removed]",
      "text/plain": [
       "<matplotlib.figure.Figure at 0x7fb27135b650>"
      ]
     },
     "metadata": {},
     "output_type": "display_data"
    }
   ],
   "source": [
    "axs, artists = b['orb@model'].plot()"
   ]
  },
  {
   "cell_type": "markdown",
   "metadata": {
    "collapsed": true
   },
   "source": [
    "As always, you have access to any of the arrays for either axes, so if you want to plot 'vxs' vs 'times'"
   ]
  },
  {
   "cell_type": "code",
   "execution_count": 17,
   "metadata": {
    "collapsed": false
   },
   "outputs": [
    {
     "data": {
      "image/png": "[encoded data removed]",
      "text/plain": [
       "<matplotlib.figure.Figure at 0x7fb27126a7d0>"
      ]
     },
     "metadata": {},
     "output_type": "display_data"
    }
   ],
   "source": [
    "axs, artists = b['orb@model'].plot(x='times', y='vxs')"
   ]
  },
  {
   "cell_type": "markdown",
   "metadata": {},
   "source": [
    "3d axes are not yet supported for orbits, but hopefully will be soon.\n",
    "\n",
    "Once they are supported, they will default to x, y, and z positions plotted on their respective axes."
   ]
  },
  {
   "cell_type": "code",
   "execution_count": 18,
   "metadata": {
    "collapsed": false
   },
   "outputs": [
    {
     "data": {
      "image/png": "[encoded data removed]",
      "text/plain": [
       "<matplotlib.figure.Figure at 0x7fb28015a1d0>"
      ]
     },
     "metadata": {},
     "output_type": "display_data"
    }
   ],
   "source": [
    "fig = plt.figure()\n",
    "ax = fig.add_subplot(111, projection='3d')\n",
    "\n",
    "axs, artists = b['orb@model'].plot(xlim=(-4,4), ylim=(-4,4), zlim=(-4,4))"
   ]
  }
 ],
 "metadata": {
  "kernelspec": {
   "display_name": "Python 2",
   "language": "python",
   "name": "python2"
  },
  "language_info": {
   "codemirror_mode": {
    "name": "ipython",
    "version": 2
   },
   "file_extension": ".py",
   "mimetype": "text/x-python",
   "name": "python",
   "nbconvert_exporter": "python",
   "pygments_lexer": "ipython2",
   "version": "2.7.12+"
  }
 },
 "nbformat": 4,
 "nbformat_minor": 0
}
