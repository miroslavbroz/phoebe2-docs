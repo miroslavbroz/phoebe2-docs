{
 "cells": [
  {
   "cell_type": "markdown",
   "metadata": {},
   "source": [
    "2.1 - 2.2 Migration: l3_mode\n",
    "=============================="
   ]
  },
  {
   "cell_type": "markdown",
   "metadata": {},
   "source": [
    "Similarly to supporting multiple modes for handling passband luminosities, the 2.2 release also introduces support for defining third-light as a fraction of the total light (in addition to the previous support for providing third light in flux units)."
   ]
  },
  {
   "cell_type": "code",
   "execution_count": 1,
   "metadata": {},
   "outputs": [
    {
     "name": "stdout",
     "output_type": "stream",
     "text": [
      "ParameterSet: 2 parameters\n",
      "            l3_mode@lc01@dataset: flux\n",
      "                 l3@lc01@dataset: 0.0 W / m2\n"
     ]
    }
   ],
   "source": [
    "import phoebe\n",
    "b = phoebe.default_binary()\n",
    "b.add_dataset('lc', dataset='lc01')\n",
    "print(b.filter(qualifier='l3*', dataset='lc01'))"
   ]
  },
  {
   "cell_type": "markdown",
   "metadata": {},
   "source": [
    "By default, the value of `l3_mode` is set to 'flux', in which case the behavior of the `l3` parameter is unchanged from previous releases.\n",
    "\n",
    "However, you can change the value of `l3_mode` to expose the `l3_frac` parameter.  For more details, see the [third light tutorial](./l3.ipynb)."
   ]
  },
  {
   "cell_type": "code",
   "execution_count": 2,
   "metadata": {},
   "outputs": [
    {
     "name": "stdout",
     "output_type": "stream",
     "text": [
      "['flux', 'fraction']\n"
     ]
    }
   ],
   "source": [
    "print(b.get_parameter('l3_mode').choices)"
   ]
  },
  {
   "cell_type": "markdown",
   "metadata": {},
   "source": [
    "Additionally, PHOEBE 2.2 introduces a new bundle-method for computing third light in flux or fractional units (whichever is not set by the user according to `l3_mode`.  "
   ]
  },
  {
   "cell_type": "code",
   "execution_count": 3,
   "metadata": {},
   "outputs": [
    {
     "name": "stdout",
     "output_type": "stream",
     "text": [
      "{'l3_frac@lc01': 0.0}\n"
     ]
    }
   ],
   "source": [
    "print(b.compute_l3s())"
   ]
  },
  {
   "cell_type": "markdown",
   "metadata": {},
   "source": [
    "For more details, see the [b.compute_l3s API docs](../api/phoebe.frontend.bundle.Bundle.compute_l3s.md)."
   ]
  }
 ],
 "metadata": {
  "kernelspec": {
   "display_name": "Python 2",
   "language": "python",
   "name": "python2"
  },
  "language_info": {
   "codemirror_mode": {
    "name": "ipython",
    "version": 2
   },
   "file_extension": ".py",
   "mimetype": "text/x-python",
   "name": "python",
   "nbconvert_exporter": "python",
   "pygments_lexer": "ipython2",
   "version": "2.7.15+"
  }
 },
 "nbformat": 4,
 "nbformat_minor": 2
}
