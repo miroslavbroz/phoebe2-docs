{
 "cells": [
  {
   "cell_type": "markdown",
   "metadata": {},
   "source": [
    "[IPython Notebook](backend.ipynb) |  [Python Script](backend.py)"
   ]
  },
  {
   "cell_type": "markdown",
   "metadata": {},
   "source": [
    "Advanced: Digging into the Backend\n",
    "============================\n",
    "\n",
    "Setup\n",
    "-----------------------------"
   ]
  },
  {
   "cell_type": "markdown",
   "metadata": {
    "collapsed": true
   },
   "source": [
    "As always, let's do imports and initialize a logger and a new Bundle.  See [Building a System](building_a_system.html) for more details."
   ]
  },
  {
   "cell_type": "code",
   "execution_count": 1,
   "metadata": {
    "collapsed": true
   },
   "outputs": [],
   "source": [
    "%matplotlib inline"
   ]
  },
  {
   "cell_type": "code",
   "execution_count": 2,
   "metadata": {
    "collapsed": false
   },
   "outputs": [
    {
     "name": "stdout",
     "output_type": "stream",
     "text": [
      "WARNING: developer mode enabled, to disable 'rm ~/.phoebe_devel_enabled' and restart phoebe\n"
     ]
    },
    {
     "name": "stderr",
     "output_type": "stream",
     "text": [
      "WARNING: Constant u'Gravitational constant' is already has a definition in the u'si' system [astropy.constants.constant]\n",
      "WARNING: Constant u'Solar mass' is already has a definition in the u'si' system [astropy.constants.constant]\n",
      "WARNING: Constant u'Solar radius' is already has a definition in the u'si' system [astropy.constants.constant]\n",
      "WARNING: Constant u'Solar luminosity' is already has a definition in the u'si' system [astropy.constants.constant]\n",
      "/usr/local/lib/python2.7/dist-packages/astropy/units/quantity.py:782: FutureWarning: comparison to `None` will result in an elementwise object comparison in the future.\n",
      "  return super(Quantity, self).__eq__(other)\n"
     ]
    }
   ],
   "source": [
    "import phoebe\n",
    "from phoebe import u # units\n",
    "import numpy as np\n",
    "import matplotlib.pyplot as plt\n",
    "\n",
    "logger = phoebe.logger()\n",
    "\n",
    "b = phoebe.default_binary()\n",
    "b['q'] = 0.8\n",
    "b['ecc'] = 0.05"
   ]
  },
  {
   "cell_type": "markdown",
   "metadata": {},
   "source": [
    "And we'll attach some dummy datasets.  See [Datasets](datasets.html) for more details."
   ]
  },
  {
   "cell_type": "code",
   "execution_count": 3,
   "metadata": {
    "collapsed": false
   },
   "outputs": [
    {
     "data": {
      "text/plain": [
       "<ParameterSet: 12 parameters | kinds: lc, lc_dep>"
      ]
     },
     "execution_count": 3,
     "metadata": {},
     "output_type": "execute_result"
    }
   ],
   "source": [
    "b.add_dataset(phoebe.dataset.orb, times=np.linspace(0,10,1000), dataset='orb01', component=['primary', 'secondary'])\n",
    "\n",
    "times, fluxes, sigmas = np.loadtxt('test.lc.in', unpack=True)\n",
    "b.add_dataset(phoebe.dataset.lc, times=times, fluxes=fluxes, sigmas=sigmas, dataset='lc01')"
   ]
  },
  {
   "cell_type": "markdown",
   "metadata": {},
   "source": [
    "From the Bundle\n",
    "-----------------------------------\n",
    "\n",
    "There is a middle-layer that translates the system in the Bundle into\n",
    "the parameters (with correct units) required by the backend functions\n",
    "themselves and returns the results (again with units).  \n",
    "\n",
    "Interaction with this middle-layer is much nicer than manually building\n",
    "the system hierarchy, but doesn't avoid the overhead introduced by the frontend.\n",
    "\n",
    "### Dynamics\n",
    "\n",
    "Let's say that you want to access (without adding a dataset) the dynamics\n",
    "packages for the system you have setup in the Bundle.\n",
    "\n",
    "First we'll look at Nbody dynamics, and later show the same for Keplerian."
   ]
  },
  {
   "cell_type": "code",
   "execution_count": 4,
   "metadata": {
    "collapsed": false
   },
   "outputs": [
    {
     "data": {
      "text/plain": [
       "<ParameterSet: 24 parameters | datasets: lc01, orb01>"
      ]
     },
     "execution_count": 4,
     "metadata": {},
     "output_type": "execute_result"
    }
   ],
   "source": [
    "b.add_compute(compute='default_options')"
   ]
  },
  {
   "cell_type": "code",
   "execution_count": 5,
   "metadata": {
    "collapsed": false
   },
   "outputs": [],
   "source": [
    "ts, xs, ys, zs, vxs, vys, vzs =\\\n",
    "    phoebe.dynamics.nbody.dynamics_from_bundle(b, np.linspace(0, 6, 500), compute='default_options')"
   ]
  },
  {
   "cell_type": "markdown",
   "metadata": {},
   "source": [
    "The first returned item is an array of times - not surprisingly these match the times we just sent.\n",
    "\n",
    "The rest of the returned items (xs, ys, etc) are each a list of arrays.  The list contains an entry for each component in the system.  So in this case, since we have a binary, each is a list of two arrays.\n",
    "\n",
    "Now we can plot any of this information by pulling the correct array from these lists."
   ]
  },
  {
   "cell_type": "code",
   "execution_count": 6,
   "metadata": {
    "collapsed": false
   },
   "outputs": [
    {
     "data": {
      "image/png": "[encoded data removed]",
      "text/plain": [
       "<matplotlib.figure.Figure at 0x7febf8ff9b50>"
      ]
     },
     "metadata": {},
     "output_type": "display_data"
    }
   ],
   "source": [
    "artist, = plt.plot(xs[0], zs[0], 'b-') # primary\n",
    "artist, = plt.plot(xs[1], zs[1], 'r-') # secondary"
   ]
  },
  {
   "cell_type": "markdown",
   "metadata": {},
   "source": [
    "For Keplerian dynamics, there is an additional option whether to return the Euler angles as well.  Since we'll later be using these to place the mesh in orbit, we'll set this to True."
   ]
  },
  {
   "cell_type": "code",
   "execution_count": 7,
   "metadata": {
    "collapsed": false
   },
   "outputs": [],
   "source": [
    "ts, xs, ys, zs, vxs, vys, vzs, ethetas, elongans, eincls =\\\n",
    "    phoebe.dynamics.keplerian.dynamics_from_bundle(b, np.linspace(0, 6, 500), return_euler=True)"
   ]
  },
  {
   "cell_type": "code",
   "execution_count": 8,
   "metadata": {
    "collapsed": false,
    "scrolled": true
   },
   "outputs": [
    {
     "data": {
      "image/png": "[encoded data removed]",
      "text/plain": [
       "<matplotlib.figure.Figure at 0x7febf8fcfcd0>"
      ]
     },
     "metadata": {},
     "output_type": "display_data"
    }
   ],
   "source": [
    "plt.cla()\n",
    "artist, = plt.plot(xs[0], zs[0], 'b-') # primary\n",
    "artist, = plt.plot(xs[1], zs[1], 'r-') # secondary"
   ]
  },
  {
   "cell_type": "markdown",
   "metadata": {},
   "source": [
    "### Meshing\n",
    "\n",
    "Similarly, we can create a backend \"system\" directly from the Bundle"
   ]
  },
  {
   "cell_type": "code",
   "execution_count": 9,
   "metadata": {
    "collapsed": false
   },
   "outputs": [],
   "source": [
    "system = phoebe.backend.universe.System.from_bundle(b)"
   ]
  },
  {
   "cell_type": "markdown",
   "metadata": {},
   "source": [
    "This \"system\" object is just a container of multiple \"bodies\" which are also accessible"
   ]
  },
  {
   "cell_type": "code",
   "execution_count": 10,
   "metadata": {
    "collapsed": false,
    "scrolled": true
   },
   "outputs": [
    {
     "name": "stdout",
     "output_type": "stream",
     "text": [
      "[<phoebe.backend.universe.Star object at 0x7febf9037810>, <phoebe.backend.universe.Star object at 0x7febf8fd1050>]\n"
     ]
    }
   ],
   "source": [
    "print system.bodies"
   ]
  },
  {
   "cell_type": "markdown",
   "metadata": {},
   "source": [
    "First we need to initialize the mesh \"standard\".  By default this is done at periastron and stores a copy of each unscaled mesh at periastron.  This mesh is later scaled, placed in orbit, and reprojected if necessary (for volume conservation in eccentric orbits, for example)."
   ]
  },
  {
   "cell_type": "code",
   "execution_count": 11,
   "metadata": {
    "collapsed": false
   },
   "outputs": [],
   "source": [
    "system.initialize_meshes()"
   ]
  },
  {
   "cell_type": "markdown",
   "metadata": {},
   "source": [
    "These standards can then be accessed:"
   ]
  },
  {
   "cell_type": "code",
   "execution_count": 12,
   "metadata": {
    "collapsed": false
   },
   "outputs": [
    {
     "data": {
      "text/plain": [
       "<phoebe.backend.mesh.ProtoMesh at 0x7febf8d0cd50>"
      ]
     },
     "execution_count": 12,
     "metadata": {},
     "output_type": "execute_result"
    }
   ],
   "source": [
    "system.bodies[0].get_standard_mesh(scaled=False)"
   ]
  },
  {
   "cell_type": "code",
   "execution_count": 13,
   "metadata": {
    "collapsed": false
   },
   "outputs": [
    {
     "data": {
      "text/plain": [
       "<phoebe.backend.mesh.ScaledProtoMesh at 0x7febf8d274d0>"
      ]
     },
     "execution_count": 13,
     "metadata": {},
     "output_type": "execute_result"
    }
   ],
   "source": [
    "system.bodies[0].get_standard_mesh(scaled=True)"
   ]
  },
  {
   "cell_type": "markdown",
   "metadata": {},
   "source": [
    "We then simply need to pass positions, velocities, and euler angles *at a given time* to have the meshes scaled and placed in orbit for us.\n",
    "\n",
    "From the dynamics, we have lists of arrays.  So for the first time, we want ts[0] and xs[:,0], etc."
   ]
  },
  {
   "cell_type": "code",
   "execution_count": 14,
   "metadata": {
    "collapsed": false
   },
   "outputs": [],
   "source": [
    "xi, yi, zi, vxi, vyi, vzi, ethetai, elongani, eincli = phoebe.dynamics.dynamics_at_i(xs, ys, zs, vxs, vys, vzs, ethetas, elongans, eincls, i=0)\n"
   ]
  },
  {
   "cell_type": "code",
   "execution_count": 15,
   "metadata": {
    "collapsed": false,
    "scrolled": true
   },
   "outputs": [],
   "source": [
    "system.update_positions(ts[0], xi, yi, zi,\n",
    "                        vxi, vyi, vzi,\n",
    "                        ethetai, eincli, elongani)"
   ]
  },
  {
   "cell_type": "markdown",
   "metadata": {},
   "source": [
    "The meshes are now placed in orbit at the current time.  These meshes are accessible via:"
   ]
  },
  {
   "cell_type": "code",
   "execution_count": 16,
   "metadata": {
    "collapsed": false
   },
   "outputs": [
    {
     "data": {
      "text/plain": [
       "<phoebe.backend.mesh.Meshes at 0x7febf8ee1410>"
      ]
     },
     "execution_count": 16,
     "metadata": {},
     "output_type": "execute_result"
    }
   ],
   "source": [
    "system.meshes"
   ]
  },
  {
   "cell_type": "markdown",
   "metadata": {},
   "source": [
    "which acts like a dictionary to get a mesh from a single component (if desired)"
   ]
  },
  {
   "cell_type": "code",
   "execution_count": 17,
   "metadata": {
    "collapsed": false
   },
   "outputs": [
    {
     "data": {
      "text/plain": [
       "['primary', 'secondary']"
      ]
     },
     "execution_count": 17,
     "metadata": {},
     "output_type": "execute_result"
    }
   ],
   "source": [
    "system.meshes.keys()"
   ]
  },
  {
   "cell_type": "markdown",
   "metadata": {},
   "source": [
    "We can pull any column out of the mesh in a similar dictionary style (with an entry for each component)"
   ]
  },
  {
   "cell_type": "code",
   "execution_count": 18,
   "metadata": {
    "collapsed": false
   },
   "outputs": [
    {
     "data": {
      "text/plain": [
       "{'primary': array([ 9975.65430662,  9975.69865818,  9975.65430662, ...,  9998.16826004,\n",
       "         9998.06168277,  9998.77664792]),\n",
       " 'secondary': array([  9963.56894237,   9963.62484756,   9963.56894237, ...,\n",
       "         10006.11725662,  10005.54748006,  10005.22787391])}"
      ]
     },
     "execution_count": 18,
     "metadata": {},
     "output_type": "execute_result"
    }
   ],
   "source": [
    "system.meshes.get_column('teffs')"
   ]
  },
  {
   "cell_type": "markdown",
   "metadata": {},
   "source": [
    "or as a single flat array"
   ]
  },
  {
   "cell_type": "code",
   "execution_count": 19,
   "metadata": {
    "collapsed": false
   },
   "outputs": [
    {
     "data": {
      "text/plain": [
       "array([  9975.65430662,   9975.69865818,   9975.65430662, ...,\n",
       "        10006.11725662,  10005.54748006,  10005.22787391])"
      ]
     },
     "execution_count": 19,
     "metadata": {},
     "output_type": "execute_result"
    }
   ],
   "source": [
    "system.meshes.get_column_flat('teffs')"
   ]
  },
  {
   "cell_type": "markdown",
   "metadata": {},
   "source": [
    "Note that the column names are not identical to those exposed in the frontend (since tags do not exist in the backend).  To access the list of available keys in the mesh, we can directly inspect the mesh."
   ]
  },
  {
   "cell_type": "code",
   "execution_count": 20,
   "metadata": {
    "collapsed": false
   },
   "outputs": [
    {
     "data": {
      "text/plain": [
       "['pvertices',\n",
       " 'vertices',\n",
       " 'triangles',\n",
       " 'centers',\n",
       " 'coords_for_computations',\n",
       " 'normals_for_computations',\n",
       " 'rs',\n",
       " 'rprojs',\n",
       " 'cosbetas',\n",
       " 'areas',\n",
       " 'tareas',\n",
       " 'areas_si',\n",
       " 'velocities',\n",
       " 'vnormals',\n",
       " 'tnormals',\n",
       " 'normgrads',\n",
       " 'volume',\n",
       " 'phis',\n",
       " 'thetas',\n",
       " 'env_comp',\n",
       " 'env_comp3',\n",
       " 'compute_at_vertices',\n",
       " 'loggs',\n",
       " 'gravs',\n",
       " 'teffs',\n",
       " 'abuns',\n",
       " 'frac_refls',\n",
       " 'mus',\n",
       " 'visibilities',\n",
       " 'weights',\n",
       " 'observables']"
      ]
     },
     "execution_count": 20,
     "metadata": {},
     "output_type": "execute_result"
    }
   ],
   "source": [
    "system.meshes['primary'].keys()"
   ]
  },
  {
   "cell_type": "markdown",
   "metadata": {},
   "source": [
    "update_positions places the meshes in their orbits, handles volume conservation (for eccentric orbits), and computes instantaneous physical quantities (teff, logg, etc), but does **NOT** handle eclipse detection or subdivision.\n",
    "\n",
    "We can now update the 'visibility' column by running eclipse detection."
   ]
  },
  {
   "cell_type": "code",
   "execution_count": 21,
   "metadata": {
    "collapsed": false
   },
   "outputs": [
    {
     "data": {
      "text/plain": [
       "[array([[ -8.01618158e-01,   8.98127662e-01,  -3.56957558e+00],\n",
       "        [ -7.22379808e-01,   9.33014418e-01,  -3.51512660e+00],\n",
       "        [ -6.64345322e-01,   9.53605474e-01,  -3.57922476e+00],\n",
       "        [ -5.89705053e-01,   9.75074591e-01,  -3.54166859e+00],\n",
       "        [ -5.28084890e-01,   9.86332115e-01,  -3.59655932e+00],\n",
       "        [ -4.75608765e-01,   9.95585768e-01,  -3.53599745e+00],\n",
       "        [ -3.86850307e-01,   1.00200765e+00,  -3.51452429e+00],\n",
       "        [ -3.20397591e-01,   1.00162708e+00,  -3.58892738e+00],\n",
       "        [ -2.10938766e-01,   9.92338968e-01,  -3.56104254e+00],\n",
       "        [ -1.38006665e-01,   9.78868628e-01,  -3.55520726e+00],\n",
       "        [ -7.00896145e-02,   9.60509720e-01,  -3.49843610e+00],\n",
       "        [  2.27629017e-02,   9.27615043e-01,  -3.48264512e+00],\n",
       "        [  3.32446091e-02,   9.23359909e-01,  -3.60389141e+00],\n",
       "        [  1.07913358e-01,   8.89777687e-01,  -3.51829498e+00],\n",
       "        [  1.87945812e-01,   8.43812930e-01,  -3.55610186e+00],\n",
       "        [  2.47575467e-01,   8.00661589e-01,  -3.60479397e+00],\n",
       "        [  2.93998287e-01,   7.65514579e-01,  -3.54805136e+00],\n",
       "        [  3.52079838e-01,   7.12500024e-01,  -3.52655104e+00],\n",
       "        [  4.19567349e-01,   6.39119968e-01,  -3.52942926e+00],\n",
       "        [  4.79347493e-01,   5.59409081e-01,  -3.53400813e+00],\n",
       "        [  5.28937718e-01,   4.77806610e-01,  -3.54086660e+00],\n",
       "        [  5.72129563e-01,   3.87933956e-01,  -3.54335092e+00],\n",
       "        [  6.06147137e-01,   2.94182038e-01,  -3.54485707e+00],\n",
       "        [  6.30390700e-01,   1.98848611e-01,  -3.54668142e+00],\n",
       "        [  6.45280049e-01,   1.00221027e-01,  -3.54668142e+00],\n",
       "        [  6.50244931e-01,   5.99714672e-04,  -3.54668142e+00],\n",
       "        [  6.45464303e-01,  -9.64496852e-02,  -3.54437207e+00],\n",
       "        [  6.32373240e-01,  -1.86664523e-01,  -3.53619642e+00],\n",
       "        [  6.11458113e-01,  -2.73488855e-01,  -3.52075374e+00],\n",
       "        [  5.94771306e-01,  -3.23851784e-01,  -3.59600195e+00],\n",
       "        [  5.82451908e-01,  -3.58380141e-01,  -3.50325045e+00],\n",
       "        [  5.62222767e-01,  -4.08325100e-01,  -3.57726863e+00],\n",
       "        [  5.17990634e-01,  -4.96140141e-01,  -3.56054347e+00],\n",
       "        [  4.70859930e-01,  -5.70722930e-01,  -3.53180643e+00],\n",
       "        [  4.10512572e-01,  -6.48277740e-01,  -3.51477057e+00],\n",
       "        [  3.58724601e-01,  -7.04775072e-01,  -3.52927222e+00],\n",
       "        [  3.09762204e-01,  -7.51531725e-01,  -3.55949725e+00],\n",
       "        [  2.71077258e-01,  -7.82391395e-01,  -3.50167857e+00],\n",
       "        [  2.31689767e-01,  -8.13600599e-01,  -3.55978508e+00],\n",
       "        [  1.58826922e-01,  -8.61219730e-01,  -3.53798586e+00],\n",
       "        [  8.97422378e-02,  -8.98930838e-01,  -3.56307459e+00],\n",
       "        [  3.22186482e-02,  -9.23819994e-01,  -3.50066550e+00],\n",
       "        [ -1.95970105e-03,  -9.38100510e-01,  -3.56467269e+00],\n",
       "        [ -5.87484798e-02,  -9.57534147e-01,  -3.52374807e+00],\n",
       "        [ -1.05984786e-01,  -9.70497068e-01,  -3.57938873e+00],\n",
       "        [ -1.82020903e-01,  -9.87472147e-01,  -3.56698322e+00],\n",
       "        [ -2.27199843e-01,  -9.93489291e-01,  -3.50210657e+00],\n",
       "        [ -2.75468848e-01,  -9.98890816e-01,  -3.58921564e+00],\n",
       "        [ -3.05037278e-01,  -1.00011879e+00,  -3.49752562e+00],\n",
       "        [ -3.69076072e-01,  -1.00262152e+00,  -3.53095208e+00],\n",
       "        [ -4.43896928e-01,  -9.98488863e-01,  -3.58226817e+00],\n",
       "        [ -5.20390976e-01,  -9.89210448e-01,  -3.52112980e+00],\n",
       "        [ -6.30004393e-01,  -9.65246720e-01,  -3.53618289e+00],\n",
       "        [ -7.13157579e-01,  -9.36818437e-01,  -3.58340924e+00],\n",
       "        [ -7.87956573e-01,  -9.05345622e-01,  -3.55408407e+00],\n",
       "        [ -8.71798754e-01,  -8.60485047e-01,  -3.53433580e+00],\n",
       "        [ -9.53869465e-01,  -8.05987680e-01,  -3.54988388e+00],\n",
       "        [ -1.02868574e+00,  -7.44415851e-01,  -3.52172861e+00],\n",
       "        [ -1.08226600e+00,  -6.91591279e-01,  -3.58718955e+00],\n",
       "        [ -1.09381792e+00,  -6.78917336e-01,  -3.49620262e+00],\n",
       "        [ -1.14214201e+00,  -6.24064049e-01,  -3.56405828e+00],\n",
       "        [ -1.19181987e+00,  -5.56229414e-01,  -3.55131867e+00],\n",
       "        [ -1.24801075e+00,  -4.59046039e-01,  -3.49968236e+00],\n",
       "        [ -1.27283017e+00,  -4.08043308e-01,  -3.58172732e+00],\n",
       "        [ -1.28277813e+00,  -3.83849746e-01,  -3.50595664e+00],\n",
       "        [ -1.30783526e+00,  -3.19983542e-01,  -3.55063597e+00],\n",
       "        [ -1.32635205e+00,  -2.54966873e-01,  -3.50429385e+00],\n",
       "        [ -1.34471276e+00,  -1.74777010e-01,  -3.53296022e+00],\n",
       "        [ -1.35577058e+00,  -9.14806428e-02,  -3.52145201e+00],\n",
       "        [ -1.35981860e+00,  -1.31598327e-02,  -3.57465342e+00],\n",
       "        [ -1.35723539e+00,   7.70541592e-02,  -3.53219464e+00],\n",
       "        [ -1.34711330e+00,   1.55045001e-01,  -3.59354245e+00],\n",
       "        [ -1.32956231e+00,   2.46228863e-01,  -3.55711031e+00],\n",
       "        [ -1.30109284e+00,   3.36591471e-01,  -3.50270144e+00],\n",
       "        [ -1.27274326e+00,   4.08764949e-01,  -3.57659519e+00],\n",
       "        [ -1.23628347e+00,   4.80987734e-01,  -3.51826245e+00],\n",
       "        [ -1.19906912e+00,   5.43216009e-01,  -3.51132215e+00],\n",
       "        [ -1.17488059e+00,   5.78803377e-01,  -3.57706741e+00],\n",
       "        [ -1.14804628e+00,   6.15549340e-01,  -3.52036712e+00],\n",
       "        [ -1.10751961e+00,   6.64294646e-01,  -3.55570316e+00],\n",
       "        [ -1.05188253e+00,   7.22681130e-01,  -3.56036764e+00],\n",
       "        [ -9.86659157e-01,   7.79246270e-01,  -3.51042708e+00],\n",
       "        [ -9.76080797e-01,   7.87044033e-01,  -3.59150811e+00],\n",
       "        [ -9.14631905e-01,   8.32443339e-01,  -3.57500182e+00],\n",
       "        [ -8.63623733e-01,   8.64589909e-01,  -3.52549569e+00],\n",
       "        [ -8.01618158e-01,   8.98127662e-01,  -3.56957558e+00]]),\n",
       " array([[  5.47479270e-01,  -9.97630930e-01,   4.46410971e+00],\n",
       "        [  4.60704164e-01,  -1.00305882e+00,   4.40888482e+00],\n",
       "        [  3.72781433e-01,  -1.00030244e+00,   4.39969282e+00],\n",
       "        [  3.36468201e-01,  -9.96289886e-01,   4.48415595e+00],\n",
       "        [  2.73765927e-01,  -9.88322625e-01,   4.40089280e+00],\n",
       "        [  2.50482505e-01,  -9.83735564e-01,   4.47094007e+00],\n",
       "        [  1.79699374e-01,  -9.68183617e-01,   4.42724075e+00],\n",
       "        [  8.50574147e-02,  -9.37679942e-01,   4.41925052e+00],\n",
       "        [  2.35987466e-03,  -9.01268256e-01,   4.46150512e+00],\n",
       "        [ -5.03852040e-02,  -8.73652134e-01,   4.40951650e+00],\n",
       "        [ -8.34080914e-02,  -8.53688468e-01,   4.47961489e+00],\n",
       "        [ -1.34297529e-01,  -8.21042013e-01,   4.39773887e+00],\n",
       "        [ -2.07098168e-01,  -7.65662485e-01,   4.43198348e+00],\n",
       "        [ -2.65025012e-01,  -7.12599467e-01,   4.45355289e+00],\n",
       "        [ -3.32550229e-01,  -6.39243550e-01,   4.45066572e+00],\n",
       "        [ -3.92374418e-01,  -5.59556952e-01,   4.44607133e+00],\n",
       "        [ -4.42001967e-01,  -4.77986963e-01,   4.43919005e+00],\n",
       "        [ -4.85238529e-01,  -3.88128144e-01,   4.43669571e+00],\n",
       "        [ -5.19292769e-01,  -2.94382244e-01,   4.43518338e+00],\n",
       "        [ -5.43559114e-01,  -1.99053670e-01,   4.43335178e+00],\n",
       "        [ -5.58457669e-01,  -1.00420625e-01,   4.43335178e+00],\n",
       "        [ -5.63414586e-01,  -7.92135973e-04,   4.43335178e+00],\n",
       "        [ -5.58611223e-01,   9.62522301e-02,   4.43567011e+00],\n",
       "        [ -5.45492569e-01,   1.86436503e-01,   4.44387529e+00],\n",
       "        [ -5.24547783e-01,   2.73221987e-01,   4.45936955e+00],\n",
       "        [ -5.07841597e-01,   3.23593400e-01,   4.38415134e+00],\n",
       "        [ -4.95510508e-01,   3.58073561e-01,   4.47692615e+00],\n",
       "        [ -4.75265772e-01,   4.08030730e-01,   4.40293930e+00],\n",
       "        [ -4.30997559e-01,   4.95826659e-01,   4.41971547e+00],\n",
       "        [ -3.83853933e-01,   5.70364574e-01,   4.44852264e+00],\n",
       "        [ -3.23487472e-01,   6.47905003e-01,   4.46560513e+00],\n",
       "        [ -2.71736997e-01,   7.04371207e-01,   4.45107701e+00],\n",
       "        [ -2.22731888e-01,   7.50982066e-01,   4.42079832e+00],\n",
       "        [ -1.84292510e-01,   7.82111558e-01,   4.47858156e+00],\n",
       "        [ -1.69930728e-01,   7.92850862e-01,   4.38046923e+00],\n",
       "        [ -1.10011975e-01,   8.37313580e-01,   4.42781610e+00],\n",
       "        [ -2.84133790e-02,   8.84877059e-01,   4.39571820e+00],\n",
       "        [  3.94156892e-02,   9.17968116e-01,   4.46231405e+00],\n",
       "        [  1.27581706e-01,   9.52275211e-01,   4.43068707e+00],\n",
       "        [  2.18813123e-01,   9.77196561e-01,   4.39896280e+00],\n",
       "        [  2.79989912e-01,   9.89489072e-01,   4.45490147e+00],\n",
       "        [  3.74697042e-01,   1.00083319e+00,   4.42575987e+00],\n",
       "        [  4.38180706e-01,   1.00272883e+00,   4.46515208e+00],\n",
       "        [  4.68965291e-01,   1.00224330e+00,   4.39322055e+00],\n",
       "        [  5.36103207e-01,   9.99179459e-01,   4.44655999e+00],\n",
       "        [  6.14865569e-01,   9.88734974e-01,   4.40592783e+00],\n",
       "        [  7.12297569e-01,   9.67484067e-01,   4.45659658e+00],\n",
       "        [  7.87950806e-01,   9.43137849e-01,   4.39626796e+00],\n",
       "        [  8.97615317e-01,   8.96479898e-01,   4.45228322e+00],\n",
       "        [  9.91747591e-01,   8.42448612e-01,   4.40928203e+00],\n",
       "        [  1.05307669e+00,   7.97941202e-01,   4.48501360e+00],\n",
       "        [  1.06268487e+00,   7.90793053e-01,   4.38599675e+00],\n",
       "        [  1.10944722e+00,   7.53421857e-01,   4.44154046e+00],\n",
       "        [  1.15518054e+00,   7.09854963e-01,   4.39872583e+00],\n",
       "        [  1.19898315e+00,   6.64252522e-01,   4.44312480e+00],\n",
       "        [  1.24146376e+00,   6.11789723e-01,   4.39778538e+00],\n",
       "        [  1.28449251e+00,   5.52987125e-01,   4.42531727e+00],\n",
       "        [  1.32538737e+00,   4.84828127e-01,   4.40625440e+00],\n",
       "        [  1.34862719e+00,   4.39647253e-01,   4.46273495e+00],\n",
       "        [  1.37324378e+00,   3.85324602e-01,   4.39891593e+00],\n",
       "        [  1.40015530e+00,   3.14662680e-01,   4.44522902e+00],\n",
       "        [  1.42264740e+00,   2.33825970e-01,   4.46787472e+00],\n",
       "        [  1.43484198e+00,   1.77515949e-01,   4.41641053e+00],\n",
       "        [  1.44486853e+00,   1.07967263e-01,   4.43698420e+00],\n",
       "        [  1.44996891e+00,   2.72122224e-02,   4.45566626e+00],\n",
       "        [  1.44917343e+00,  -5.74342506e-02,   4.45071204e+00],\n",
       "        [  1.44039485e+00,  -1.36100864e-01,   4.39002007e+00],\n",
       "        [  1.43764026e+00,  -1.57527021e-01,   4.46755713e+00],\n",
       "        [  1.42627681e+00,  -2.12927502e-01,   4.38542165e+00],\n",
       "        [  1.42059001e+00,  -2.41939683e-01,   4.45946143e+00],\n",
       "        [  1.39204786e+00,  -3.37177098e-01,   4.45146775e+00],\n",
       "        [  1.35423820e+00,  -4.28643584e-01,   4.43903770e+00],\n",
       "        [  1.31584844e+00,  -5.01439028e-01,   4.43676100e+00],\n",
       "        [  1.26169395e+00,  -5.85185609e-01,   4.43526013e+00],\n",
       "        [  1.19585760e+00,  -6.66658340e-01,   4.46379769e+00],\n",
       "        [  1.14600629e+00,  -7.18240281e-01,   4.39447381e+00],\n",
       "        [  1.07616937e+00,  -7.81013095e-01,   4.42816141e+00],\n",
       "        [  9.93288955e-01,  -8.40199537e-01,   4.47092571e+00],\n",
       "        [  9.22847293e-01,  -8.82530860e-01,   4.41436584e+00],\n",
       "        [  8.55125414e-01,  -9.15316766e-01,   4.46066517e+00],\n",
       "        [  7.83419428e-01,  -9.43577033e-01,   4.46847625e+00],\n",
       "        [  7.04382582e-01,  -9.68438659e-01,   4.46953166e+00],\n",
       "        [  6.31910429e-01,  -9.84941592e-01,   4.47147303e+00],\n",
       "        [  5.86304553e-01,  -9.92200299e-01,   4.38305289e+00],\n",
       "        [  5.47479270e-01,  -9.97630930e-01,   4.46410971e+00]])]"
      ]
     },
     "execution_count": 21,
     "metadata": {},
     "output_type": "execute_result"
    }
   ],
   "source": [
    "system.handle_eclipses(eclipse_alg='graham', subdiv_num=1)"
   ]
  },
  {
   "cell_type": "markdown",
   "metadata": {},
   "source": [
    "We can easily check to make sure an eclipse happened by computing the ratio of triangles for each component that are currently visible."
   ]
  },
  {
   "cell_type": "code",
   "execution_count": 22,
   "metadata": {
    "collapsed": false
   },
   "outputs": [
    {
     "name": "stdout",
     "output_type": "stream",
     "text": [
      "primary visibility: 0.267421904735\n",
      "secondary visibility: 0.507431629013\n"
     ]
    }
   ],
   "source": [
    "visibilities = system.meshes.get_column('visibilities')\n",
    "print \"primary visibility:\", visibilities['primary'].sum() / len(visibilities['primary'])\n",
    "print \"secondary visibility:\", visibilities['secondary'].sum() / len(visibilities['secondary'])"
   ]
  },
  {
   "cell_type": "markdown",
   "metadata": {},
   "source": [
    "Without the Bundle\n",
    "-----------------------\n",
    "\n",
    "Now let's look at how we would setup the backend without a bundle.  Once created, all of the capabilities described above are also available.\n",
    "\n",
    "### Dynamics\n",
    "\n",
    "Dynamics without the bundle is *nearly* as simple, but special care needs to be made with passing values in the right units.\n",
    "\n",
    "Once again, let's look at Nbody first and then Keplerian."
   ]
  },
  {
   "cell_type": "code",
   "execution_count": 23,
   "metadata": {
    "collapsed": true
   },
   "outputs": [],
   "source": [
    "times = np.linspace(0,10,500) # days\n",
    "masses = [1.0, 0.8] # solar masses\n",
    "smas = [1.0, 1.0] # AU\n",
    "eccs = [0.8, 0.8] # unitless\n",
    "incls = [np.pi/2, np.pi/2] # radians\n",
    "per0s = [0, 0] # radians\n",
    "long_ans = [0, 0] # radians\n",
    "mean_anoms = [0, 0]\n",
    "t0 = 0.0 # days"
   ]
  },
  {
   "cell_type": "code",
   "execution_count": 24,
   "metadata": {
    "collapsed": false
   },
   "outputs": [],
   "source": [
    "ts, xs, ys, zs, vxs, vys, vzs =\\\n",
    "    phoebe.dynamics.nbody.dynamics(times, masses, smas,\n",
    "                                    eccs, incls, per0s,\n",
    "                                    long_ans, mean_anoms,\n",
    "                                    t0, stepsize=0.01,\n",
    "                                    gr=False, \n",
    "                                    ltte=False)"
   ]
  },
  {
   "cell_type": "code",
   "execution_count": 25,
   "metadata": {
    "collapsed": true
   },
   "outputs": [],
   "source": [
    "xi, yi, zi, vxi, vyi, vzi, ethetai, elongani, eincli = phoebe.dynamics.dynamics_at_i(xs, ys, zs, vxs, vys, vzs, ethetas, elongans, eincls, i=0)"
   ]
  },
  {
   "cell_type": "code",
   "execution_count": 26,
   "metadata": {
    "collapsed": false
   },
   "outputs": [
    {
     "data": {
      "image/png": "[encoded data removed]",
      "text/plain": [
       "<matplotlib.figure.Figure at 0x7febf8cfb1d0>"
      ]
     },
     "metadata": {},
     "output_type": "display_data"
    }
   ],
   "source": [
    "artist, = plt.plot(xs[0], zs[0], 'b-') # primary\n",
    "artist, = plt.plot(xs[1], zs[1], 'r-') # secondary"
   ]
  },
  {
   "cell_type": "markdown",
   "metadata": {},
   "source": [
    "Now let's look at Keplerian dynamics.  Here we need to provide information for the parent orbit of **each star**.  In the case of a simple binary, this can seem quite redundant."
   ]
  },
  {
   "cell_type": "code",
   "execution_count": 27,
   "metadata": {
    "collapsed": true
   },
   "outputs": [],
   "source": [
    "times = np.linspace(0,10,500) # days\n",
    "periods = [3.0, 3.0] # days\n",
    "eccs = [0.0, 0.0]\n",
    "smas = [1.0, 0.8] # Rsol (sma of the STAR about the CENTER OF MASS)\n",
    "t0_perpasses = [0.0, 0.0] # days\n",
    "per0s = [0.0, 0.0] # radians\n",
    "long_ans = [0.0, 0.0] # radians\n",
    "incls = [np.pi/2, np.pi/2] # radians\n",
    "dpdts = [0.0, 0.0] # days/day\n",
    "deccdts = [0.0, 0.0] # 1/day\n",
    "dperdts = [0.0, 0.0] # radians/day\n",
    "components = ['primary', 'secondary']\n",
    "t0 = 0.0 # days\n",
    "vgamma = 0.0 # solRad/day (TODO: double check!!!)"
   ]
  },
  {
   "cell_type": "code",
   "execution_count": 28,
   "metadata": {
    "collapsed": false
   },
   "outputs": [],
   "source": [
    "ts, xs, ys, zs, vxs, vys, vzs, ethetas, elongans, eincls =\\\n",
    "    phoebe.dynamics.keplerian.dynamics(times, periods,\n",
    "                                        eccs, smas, t0_perpasses,\n",
    "                                        per0s, long_ans, incls,\n",
    "                                        dpdts, deccdts, dperdts,\n",
    "                                        components,\n",
    "                                        t0, vgamma=vgamma,\n",
    "                                        ltte=False,\n",
    "                                        return_euler=True)"
   ]
  },
  {
   "cell_type": "code",
   "execution_count": 29,
   "metadata": {
    "collapsed": false
   },
   "outputs": [
    {
     "data": {
      "image/png": "[encoded data removed]",
      "text/plain": [
       "<matplotlib.figure.Figure at 0x7febf8bd7c90>"
      ]
     },
     "metadata": {},
     "output_type": "display_data"
    }
   ],
   "source": [
    "plt.cla()\n",
    "artist, = plt.plot(xs[0], ys[0], 'b-') # primary\n",
    "artist, = plt.plot(xs[1], ys[1], 'r-') # secondary"
   ]
  },
  {
   "cell_type": "markdown",
   "metadata": {
    "collapsed": true
   },
   "source": [
    "### Meshing"
   ]
  },
  {
   "cell_type": "code",
   "execution_count": 30,
   "metadata": {
    "collapsed": false
   },
   "outputs": [],
   "source": [
    "F = 1.0\n",
    "Phi = 9.5\n",
    "masses = [1.0, 0.8]  # solar Masses\n",
    "sma = 8.0   # solar radii\n",
    "ecc = 0.0\n",
    "freq_rot = 2*np.pi/1  # radians/day\n",
    "abun = 0.0\n",
    "alb_ref = 0.0\n",
    "teff = 6000  # K\n",
    "gravb_bol = 0.2\n",
    "gravb_law = 'zeipel'"
   ]
  },
  {
   "cell_type": "code",
   "execution_count": 31,
   "metadata": {
    "collapsed": false
   },
   "outputs": [],
   "source": [
    "primarymesh = phoebe.backend.universe.Star(F, Phi, masses, sma, ecc,\n",
    "                                           freq_rot, teff, gravb_bol,\n",
    "                                           abun, alb_ref,\n",
    "                                           delta=0.1, maxpoints=1e5,\n",
    "                                           ind_self=0,\n",
    "                                           ind_sibling=1,\n",
    "                                           comp_no=1)"
   ]
  },
  {
   "cell_type": "code",
   "execution_count": 32,
   "metadata": {
    "collapsed": false
   },
   "outputs": [],
   "source": [
    "secondarymesh = primarymesh.copy()"
   ]
  },
  {
   "cell_type": "code",
   "execution_count": 33,
   "metadata": {
    "collapsed": false
   },
   "outputs": [],
   "source": [
    "system = phoebe.backend.universe.System({'primary': primarymesh, 'secondary': secondarymesh})"
   ]
  },
  {
   "cell_type": "markdown",
   "metadata": {
    "collapsed": true
   },
   "source": [
    "Now that the \"system\" object is created, see the section in the \"From the Bundle\" section for details on initializing the meshes, placing them in orbit, eclipse detection, and accessing columns."
   ]
  },
  {
   "cell_type": "code",
   "execution_count": 34,
   "metadata": {
    "collapsed": false
   },
   "outputs": [],
   "source": [
    "system.initialize_meshes()"
   ]
  },
  {
   "cell_type": "code",
   "execution_count": 35,
   "metadata": {
    "collapsed": false
   },
   "outputs": [],
   "source": [
    "system.update_positions(ts, xi, yi, zi,\n",
    "                        vxi, vyi, vzi,\n",
    "                        ethetai, eincli, elongani)"
   ]
  },
  {
   "cell_type": "code",
   "execution_count": 36,
   "metadata": {
    "collapsed": false
   },
   "outputs": [],
   "source": [
    "system.handle_eclipses(eclipse_alg='graham')"
   ]
  },
  {
   "cell_type": "code",
   "execution_count": null,
   "metadata": {
    "collapsed": true
   },
   "outputs": [],
   "source": []
  }
 ],
 "metadata": {
  "kernelspec": {
   "display_name": "Python 2",
   "language": "python",
   "name": "python2"
  },
  "language_info": {
   "codemirror_mode": {
    "name": "ipython",
    "version": 2
   },
   "file_extension": ".py",
   "mimetype": "text/x-python",
   "name": "python",
   "nbconvert_exporter": "python",
   "pygments_lexer": "ipython2",
   "version": "2.7.12"
  }
 },
 "nbformat": 4,
 "nbformat_minor": 0
}
