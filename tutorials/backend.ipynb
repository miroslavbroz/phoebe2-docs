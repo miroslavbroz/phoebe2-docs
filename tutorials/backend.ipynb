{
 "cells": [
  {
   "cell_type": "markdown",
   "metadata": {},
   "source": [
    "[IPython Notebook](backend.ipynb) |  [Python Script](backend.py)"
   ]
  },
  {
   "cell_type": "markdown",
   "metadata": {},
   "source": [
    "Advanced: Digging into the Backend\n",
    "============================\n",
    "\n",
    "Setup\n",
    "-----------------------------"
   ]
  },
  {
   "cell_type": "markdown",
   "metadata": {
    "collapsed": true
   },
   "source": [
    "As always, let's do imports and initialize a logger and a new Bundle.  See [Building a System](building_a_system.html) for more details."
   ]
  },
  {
   "cell_type": "code",
   "execution_count": 1,
   "metadata": {
    "collapsed": true
   },
   "outputs": [],
   "source": [
    "%matplotlib inline"
   ]
  },
  {
   "cell_type": "code",
   "execution_count": 2,
   "metadata": {
    "collapsed": false
   },
   "outputs": [
    {
     "name": "stderr",
     "output_type": "stream",
     "text": [
      "/usr/local/lib/python2.7/dist-packages/IPython/kernel/__init__.py:13: ShimWarning: The `IPython.kernel` package has been deprecated. You should import from ipykernel or jupyter_client instead.\n",
      "  \"You should import from ipykernel or jupyter_client instead.\", ShimWarning)\n",
      "WARNING: Constant u'Gravitational constant' is already has a definition in the u'si' system [astropy.constants.constant]\n",
      "WARNING:astropy:Constant u'Gravitational constant' is already has a definition in the u'si' system\n",
      "WARNING: Constant u'Solar mass' is already has a definition in the u'si' system [astropy.constants.constant]\n",
      "WARNING:astropy:Constant u'Solar mass' is already has a definition in the u'si' system\n",
      "WARNING: Constant u'Solar radius' is already has a definition in the u'si' system [astropy.constants.constant]\n",
      "WARNING:astropy:Constant u'Solar radius' is already has a definition in the u'si' system\n",
      "WARNING: Constant u'Solar luminosity' is already has a definition in the u'si' system [astropy.constants.constant]\n",
      "WARNING:astropy:Constant u'Solar luminosity' is already has a definition in the u'si' system\n"
     ]
    },
    {
     "name": "stdout",
     "output_type": "stream",
     "text": [
      "WARNING: developer mode enabled, to disable 'rm ~/.phoebe_devel_enabled' and restart phoebe\n"
     ]
    },
    {
     "name": "stderr",
     "output_type": "stream",
     "text": [
      "/usr/local/lib/python2.7/dist-packages/astropy/units/quantity.py:732: FutureWarning: comparison to `None` will result in an elementwise object comparison in the future.\n",
      "  return super(Quantity, self).__eq__(other)\n"
     ]
    }
   ],
   "source": [
    "import phoebe\n",
    "from phoebe import u # units\n",
    "import numpy as np\n",
    "import matplotlib.pyplot as plt\n",
    "\n",
    "logger = phoebe.logger()\n",
    "\n",
    "b = phoebe.default_binary()\n",
    "b['q'] = 0.8\n",
    "b['ecc'] = 0.05"
   ]
  },
  {
   "cell_type": "markdown",
   "metadata": {},
   "source": [
    "And we'll attach some dummy datasets.  See [Datasets](datasets.html) for more details."
   ]
  },
  {
   "cell_type": "code",
   "execution_count": 3,
   "metadata": {
    "collapsed": false
   },
   "outputs": [
    {
     "data": {
      "text/plain": [
       "<ParameterSet: 12 parameters | kinds: lc, lc_dep>"
      ]
     },
     "execution_count": 3,
     "metadata": {},
     "output_type": "execute_result"
    }
   ],
   "source": [
    "b.add_dataset(phoebe.dataset.orb, times=np.linspace(0,40,1000), dataset='orb01', component=['primary', 'secondary'])\n",
    "\n",
    "times, fluxes, sigmas = np.loadtxt('test.lc.in', unpack=True)\n",
    "b.add_dataset(phoebe.dataset.lc, times=times, fluxes=fluxes, sigmas=sigmas, dataset='lc01')"
   ]
  },
  {
   "cell_type": "markdown",
   "metadata": {},
   "source": [
    "From the Bundle\n",
    "-----------------------------------\n",
    "\n",
    "There is a middle-layer that translates the system in the Bundle into\n",
    "the parameters (with correct units) required by the backend functions\n",
    "themselves and returns the results (again with units).  \n",
    "\n",
    "Interaction with this middle-layer is much nicer than manually building\n",
    "the system hierarchy, but doesn't avoid the overhead introduced by the frontend.\n",
    "\n",
    "### Dynamics\n",
    "\n",
    "Let's say that you want to access (without adding a dataset) the dynamics\n",
    "packages for the system you have setup in the Bundle.\n",
    "\n",
    "First we'll look at Nbody dynamics, and later show the same for Keplerian."
   ]
  },
  {
   "cell_type": "code",
   "execution_count": 4,
   "metadata": {
    "collapsed": false
   },
   "outputs": [
    {
     "data": {
      "text/plain": [
       "<ParameterSet: 25 parameters | datasets: lc01, orb01>"
      ]
     },
     "execution_count": 4,
     "metadata": {},
     "output_type": "execute_result"
    }
   ],
   "source": [
    "b.add_compute(compute='default_options')"
   ]
  },
  {
   "cell_type": "code",
   "execution_count": 5,
   "metadata": {
    "collapsed": false
   },
   "outputs": [],
   "source": [
    "ts, xs, ys, zs, vxs, vys, vzs =\\\n",
    "    phoebe.dynamics.nbody.dynamics_from_bundle(b, np.linspace(0, 20, 500), compute='default_options')"
   ]
  },
  {
   "cell_type": "markdown",
   "metadata": {},
   "source": [
    "The first returned item is an array of times - not surprisingly these match the times we just sent.\n",
    "\n",
    "The rest of the returned items (xs, ys, etc) are each a list of arrays.  The list contains an entry for each component in the system.  So in this case, since we have a binary, each is a list of two arrays.\n",
    "\n",
    "Now we can plot any of this information by pulling the correct array from these lists."
   ]
  },
  {
   "cell_type": "code",
   "execution_count": 6,
   "metadata": {
    "collapsed": false
   },
   "outputs": [
    {
     "data": {
      "image/png": "[encoded data removed]",
      "text/plain": [
       "<matplotlib.figure.Figure at 0x7f729dae9c10>"
      ]
     },
     "metadata": {},
     "output_type": "display_data"
    }
   ],
   "source": [
    "artist, = plt.plot(xs[0], zs[0], 'b-') # primary\n",
    "artist, = plt.plot(xs[1], zs[1], 'r-') # secondary"
   ]
  },
  {
   "cell_type": "markdown",
   "metadata": {},
   "source": [
    "For Keplerian dynamics, there is an additional option whether to return the Euler angles as well.  Since we'll later be using these to place the mesh in orbit, we'll set this to True."
   ]
  },
  {
   "cell_type": "code",
   "execution_count": 7,
   "metadata": {
    "collapsed": false
   },
   "outputs": [],
   "source": [
    "ts, xs, ys, zs, vxs, vys, vzs, ethetas, elongans, eincls =\\\n",
    "    phoebe.dynamics.keplerian.dynamics_from_bundle(b, np.linspace(0, 6, 500), return_euler=True)"
   ]
  },
  {
   "cell_type": "code",
   "execution_count": 8,
   "metadata": {
    "collapsed": false,
    "scrolled": true
   },
   "outputs": [
    {
     "data": {
      "image/png": "[encoded data removed]",
      "text/plain": [
       "<matplotlib.figure.Figure at 0x7f729db1fe90>"
      ]
     },
     "metadata": {},
     "output_type": "display_data"
    }
   ],
   "source": [
    "plt.cla()\n",
    "artist, = plt.plot(xs[0], zs[0], 'b-') # primary\n",
    "artist, = plt.plot(xs[1], zs[1], 'r-') # secondary"
   ]
  },
  {
   "cell_type": "markdown",
   "metadata": {},
   "source": [
    "### Meshing\n",
    "\n",
    "Similarly, we can create a backend \"system\" directly from the Bundle"
   ]
  },
  {
   "cell_type": "code",
   "execution_count": 9,
   "metadata": {
    "collapsed": false
   },
   "outputs": [],
   "source": [
    "system = phoebe.backend.universe.System.from_bundle(b)"
   ]
  },
  {
   "cell_type": "markdown",
   "metadata": {},
   "source": [
    "This \"system\" object is just a container of multiple \"bodies\" which are also accessible"
   ]
  },
  {
   "cell_type": "code",
   "execution_count": 10,
   "metadata": {
    "collapsed": false,
    "scrolled": true
   },
   "outputs": [
    {
     "name": "stdout",
     "output_type": "stream",
     "text": [
      "[<phoebe.backend.universe.Star object at 0x7f729db88bd0>, <phoebe.backend.universe.Star object at 0x7f729db284d0>]\n"
     ]
    }
   ],
   "source": [
    "print system.bodies"
   ]
  },
  {
   "cell_type": "markdown",
   "metadata": {},
   "source": [
    "First we need to initialize the mesh \"standard\".  By default this is done at periastron and stores a copy of each unscaled mesh at periastron.  This mesh is later scaled, placed in orbit, and reprojected if necessary (for volume conservation in eccentric orbits, for example)."
   ]
  },
  {
   "cell_type": "code",
   "execution_count": 11,
   "metadata": {
    "collapsed": false
   },
   "outputs": [],
   "source": [
    "system.initialize_meshes()"
   ]
  },
  {
   "cell_type": "markdown",
   "metadata": {},
   "source": [
    "These standards can then be accessed:"
   ]
  },
  {
   "cell_type": "code",
   "execution_count": 12,
   "metadata": {
    "collapsed": false
   },
   "outputs": [
    {
     "data": {
      "text/plain": [
       "<phoebe.backend.mesh.ProtoMesh at 0x7f729d179750>"
      ]
     },
     "execution_count": 12,
     "metadata": {},
     "output_type": "execute_result"
    }
   ],
   "source": [
    "system.bodies[0].get_standard_mesh(scaled=False)"
   ]
  },
  {
   "cell_type": "code",
   "execution_count": 13,
   "metadata": {
    "collapsed": false
   },
   "outputs": [
    {
     "data": {
      "text/plain": [
       "<phoebe.backend.mesh.ScaledProtoMesh at 0x7f729d179950>"
      ]
     },
     "execution_count": 13,
     "metadata": {},
     "output_type": "execute_result"
    }
   ],
   "source": [
    "system.bodies[0].get_standard_mesh(scaled=True)"
   ]
  },
  {
   "cell_type": "markdown",
   "metadata": {},
   "source": [
    "We then simply need to pass positions, velocities, and euler angles *at a given time* to have the meshes scaled and placed in orbit for us.\n",
    "\n",
    "From the dynamics, we have lists of arrays.  So for the first time, we want ts[0] and xs[:,0], etc."
   ]
  },
  {
   "cell_type": "code",
   "execution_count": 14,
   "metadata": {
    "collapsed": false
   },
   "outputs": [],
   "source": [
    "xi, yi, zi, vxi, vyi, vzi, ethetai, elongani, eincli = phoebe.dynamics.dynamics_at_i(xs, ys, zs, vxs, vys, vzs, ethetas, elongans, eincls, i=0)\n"
   ]
  },
  {
   "cell_type": "code",
   "execution_count": 15,
   "metadata": {
    "collapsed": false,
    "scrolled": true
   },
   "outputs": [],
   "source": [
    "system.update_positions(ts[0], xi, yi, zi,\n",
    "                        vxi, vyi, vzi,\n",
    "                        ethetai, eincli, elongani)"
   ]
  },
  {
   "cell_type": "markdown",
   "metadata": {},
   "source": [
    "The meshes are now placed in orbit at the current time.  These meshes are accessible via:"
   ]
  },
  {
   "cell_type": "code",
   "execution_count": 16,
   "metadata": {
    "collapsed": false
   },
   "outputs": [
    {
     "data": {
      "text/plain": [
       "<phoebe.backend.mesh.Meshes at 0x7f729db52190>"
      ]
     },
     "execution_count": 16,
     "metadata": {},
     "output_type": "execute_result"
    }
   ],
   "source": [
    "system.meshes"
   ]
  },
  {
   "cell_type": "markdown",
   "metadata": {},
   "source": [
    "which acts like a dictionary to get a mesh from a single component (if desired)"
   ]
  },
  {
   "cell_type": "code",
   "execution_count": 17,
   "metadata": {
    "collapsed": false
   },
   "outputs": [
    {
     "data": {
      "text/plain": [
       "['primary', 'secondary']"
      ]
     },
     "execution_count": 17,
     "metadata": {},
     "output_type": "execute_result"
    }
   ],
   "source": [
    "system.meshes.keys()"
   ]
  },
  {
   "cell_type": "markdown",
   "metadata": {},
   "source": [
    "We can pull any column out of the mesh in a similar dictionary style (with an entry for each component)"
   ]
  },
  {
   "cell_type": "code",
   "execution_count": 18,
   "metadata": {
    "collapsed": false
   },
   "outputs": [
    {
     "data": {
      "text/plain": [
       "{'primary': array([ 5999.8617327 ,  5999.86200662,  5999.8617327 , ...,  6000.05540866,\n",
       "         6000.04555688,  6000.03085122]),\n",
       " 'secondary': array([ 5999.79535632,  5999.7956988 ,  5999.79535632, ...,  6000.0730927 ,\n",
       "         6000.0586651 ,  6000.03773153])}"
      ]
     },
     "execution_count": 18,
     "metadata": {},
     "output_type": "execute_result"
    }
   ],
   "source": [
    "system.meshes.get_column('teffs')"
   ]
  },
  {
   "cell_type": "markdown",
   "metadata": {},
   "source": [
    "or as a single flat array"
   ]
  },
  {
   "cell_type": "code",
   "execution_count": 19,
   "metadata": {
    "collapsed": false
   },
   "outputs": [
    {
     "data": {
      "text/plain": [
       "array([ 5999.8617327 ,  5999.86200662,  5999.8617327 , ...,  6000.0730927 ,\n",
       "        6000.0586651 ,  6000.03773153])"
      ]
     },
     "execution_count": 19,
     "metadata": {},
     "output_type": "execute_result"
    }
   ],
   "source": [
    "system.meshes.get_column_flat('teffs')"
   ]
  },
  {
   "cell_type": "markdown",
   "metadata": {},
   "source": [
    "Note that the column names are not identical to those exposed in the frontend (since tags do not exist in the backend).  To access the list of available keys in the mesh, we can directly inspect the mesh."
   ]
  },
  {
   "cell_type": "code",
   "execution_count": 20,
   "metadata": {
    "collapsed": false
   },
   "outputs": [
    {
     "data": {
      "text/plain": [
       "['pvertices',\n",
       " 'vertices',\n",
       " 'triangles',\n",
       " 'centers',\n",
       " 'coords_for_computations',\n",
       " 'normals_for_computations',\n",
       " 'rs',\n",
       " 'rprojs',\n",
       " 'cosbetas',\n",
       " 'areas',\n",
       " 'tareas',\n",
       " 'areas_si',\n",
       " 'velocities',\n",
       " 'vnormals',\n",
       " 'tnormals',\n",
       " 'normgrads',\n",
       " 'volume',\n",
       " 'phis',\n",
       " 'thetas',\n",
       " 'env_comp',\n",
       " 'env_comp3',\n",
       " 'compute_at_vertices',\n",
       " 'loggs',\n",
       " 'gravs',\n",
       " 'teffs',\n",
       " 'abuns',\n",
       " 'frac_refls',\n",
       " 'mus',\n",
       " 'visibilities',\n",
       " 'weights',\n",
       " 'observables']"
      ]
     },
     "execution_count": 20,
     "metadata": {},
     "output_type": "execute_result"
    }
   ],
   "source": [
    "system.meshes['primary'].keys()"
   ]
  },
  {
   "cell_type": "markdown",
   "metadata": {},
   "source": [
    "update_positions places the meshes in their orbits, handles volume conservation (for eccentric orbits), and computes instantaneous physical quantities (teff, logg, etc), but does **NOT** handle eclipse detection or subdivision.\n",
    "\n",
    "We can now update the 'visibility' column by running eclipse detection."
   ]
  },
  {
   "cell_type": "code",
   "execution_count": 21,
   "metadata": {
    "collapsed": false
   },
   "outputs": [
    {
     "data": {
      "text/plain": [
       "[array([[ -1.72108702e+00,   7.92910536e-01,  -1.10733717e+01],\n",
       "        [ -1.67440105e+00,   8.25186001e-01,  -1.11381115e+01],\n",
       "        [ -1.63879722e+00,   8.49696015e-01,  -1.10482217e+01],\n",
       "        [ -1.58841646e+00,   8.77431404e-01,  -1.11425877e+01],\n",
       "        [ -1.54987209e+00,   8.98532228e-01,  -1.10530794e+01],\n",
       "        [ -1.51866062e+00,   9.12296233e-01,  -1.11339158e+01],\n",
       "        [ -1.47890518e+00,   9.29584483e-01,  -1.10441306e+01],\n",
       "        [ -1.44867580e+00,   9.41476544e-01,  -1.11127901e+01],\n",
       "        [ -1.35843187e+00,   9.69770052e-01,  -1.10842159e+01],\n",
       "        [ -1.26801620e+00,   9.88507289e-01,  -1.10731845e+01],\n",
       "        [ -1.16577157e+00,   9.99129177e-01,  -1.11067720e+01],\n",
       "        [ -1.08898800e+00,   1.00040273e+00,  -1.10545800e+01],\n",
       "        [ -1.01116748e+00,   9.95594158e-01,  -1.11204867e+01],\n",
       "        [ -9.41230042e-01,   9.85989813e-01,  -1.10500455e+01],\n",
       "        [ -8.99032231e-01,   9.77782187e-01,  -1.11253347e+01],\n",
       "        [ -8.67030492e-01,   9.69442459e-01,  -1.10312550e+01],\n",
       "        [ -7.82276570e-01,   9.46191729e-01,  -1.10774757e+01],\n",
       "        [ -6.72831909e-01,   9.00607706e-01,  -1.10927288e+01],\n",
       "        [ -6.13052564e-01,   8.67530851e-01,  -1.10344205e+01],\n",
       "        [ -5.89144480e-01,   8.53545390e-01,  -1.11302248e+01],\n",
       "        [ -5.38185970e-01,   8.20778685e-01,  -1.10481370e+01],\n",
       "        [ -4.65063753e-01,   7.65335466e-01,  -1.10820070e+01],\n",
       "        [ -4.06967880e-01,   7.12113846e-01,  -1.11033944e+01],\n",
       "        [ -3.39499878e-01,   6.38734458e-01,  -1.11005308e+01],\n",
       "        [ -2.79753699e-01,   5.59013615e-01,  -1.10959776e+01],\n",
       "        [ -2.30192367e-01,   4.77377495e-01,  -1.10891557e+01],\n",
       "        [ -1.87046608e-01,   3.87496255e-01,  -1.10866883e+01],\n",
       "        [ -1.53069007e-01,   2.93742739e-01,  -1.10851925e+01],\n",
       "        [ -1.28850449e-01,   1.98404987e-01,  -1.10833795e+01],\n",
       "        [ -1.13972006e-01,   9.97878804e-02,  -1.10833795e+01],\n",
       "        [ -1.08998479e-01,   1.78999948e-04,  -1.10833795e+01],\n",
       "        [ -1.13754597e-01,  -9.68782923e-02,  -1.10856742e+01],\n",
       "        [ -1.26820080e-01,  -1.87142019e-01,  -1.10937998e+01],\n",
       "        [ -1.47712305e-01,  -2.74024878e-01,  -1.11091554e+01],\n",
       "        [ -1.64384294e-01,  -3.24366101e-01,  -1.10338565e+01],\n",
       "        [ -1.76698989e-01,  -3.58970213e-01,  -1.11265692e+01],\n",
       "        [ -1.96924189e-01,  -4.08882539e-01,  -1.10524985e+01],\n",
       "        [ -2.41142541e-01,  -4.96705422e-01,  -1.10691376e+01],\n",
       "        [ -2.88296672e-01,  -5.71332481e-01,  -1.10977597e+01],\n",
       "        [ -3.48666512e-01,  -6.48868271e-01,  -1.11147164e+01],\n",
       "        [ -4.00560287e-01,  -7.05373579e-01,  -1.11002541e+01],\n",
       "        [ -4.49660816e-01,  -7.52126604e-01,  -1.10701161e+01],\n",
       "        [ -4.88391463e-01,  -7.82952646e-01,  -1.11280030e+01],\n",
       "        [ -5.27827520e-01,  -8.14051179e-01,  -1.10698009e+01],\n",
       "        [ -6.00826521e-01,  -8.61533133e-01,  -1.10918642e+01],\n",
       "        [ -6.70019585e-01,  -8.99049999e-01,  -1.10668345e+01],\n",
       "        [ -7.27567552e-01,  -9.23738820e-01,  -1.11292745e+01],\n",
       "        [ -7.61838171e-01,  -9.37905336e-01,  -1.10653019e+01],\n",
       "        [ -8.18657708e-01,  -9.57109641e-01,  -1.11062500e+01],\n",
       "        [ -8.65765634e-01,  -9.69826053e-01,  -1.10506067e+01],\n",
       "        [ -9.41780460e-01,  -9.86447721e-01,  -1.10628716e+01],\n",
       "        [ -9.86755415e-01,  -9.92247058e-01,  -1.11275971e+01],\n",
       "        [ -1.03495296e+00,  -9.97378107e-01,  -1.10404471e+01],\n",
       "        [ -1.06454362e+00,  -9.98512442e-01,  -1.11319050e+01],\n",
       "        [ -1.12843818e+00,  -1.00066676e+00,  -1.10982724e+01],\n",
       "        [ -1.20299176e+00,  -9.96102735e-01,  -1.10467852e+01],\n",
       "        [ -1.27944979e+00,  -9.86461569e-01,  -1.11076440e+01],\n",
       "        [ -1.38871285e+00,  -9.61810409e-01,  -1.10921769e+01],\n",
       "        [ -1.47925467e+00,  -9.29617815e-01,  -1.11188624e+01],\n",
       "        [ -1.55329560e+00,  -8.97613692e-01,  -1.10998752e+01],\n",
       "        [ -1.64027644e+00,  -8.48873470e-01,  -1.11018322e+01],\n",
       "        [ -1.69388638e+00,  -8.12650009e-01,  -1.10618870e+01],\n",
       "        [ -1.76581886e+00,  -7.56336290e-01,  -1.10542647e+01],\n",
       "        [ -1.84937614e+00,  -6.75607294e-01,  -1.10740583e+01],\n",
       "        [ -1.92970039e+00,  -5.75444049e-01,  -1.10762319e+01],\n",
       "        [ -1.99014939e+00,  -4.77947959e-01,  -1.10757505e+01],\n",
       "        [ -2.03711547e+00,  -3.78640941e-01,  -1.10918936e+01],\n",
       "        [ -2.06988823e+00,  -2.85293736e-01,  -1.10756916e+01],\n",
       "        [ -2.09593921e+00,  -1.73763972e-01,  -1.10970275e+01],\n",
       "        [ -2.10541549e+00,  -9.93437193e-02,  -1.11257074e+01],\n",
       "        [ -2.11075076e+00,  -2.23831942e-02,  -1.10625215e+01],\n",
       "        [ -2.10902195e+00,   6.68615757e-02,  -1.10876158e+01],\n",
       "        [ -2.09828452e+00,   1.54791846e-01,  -1.11262541e+01],\n",
       "        [ -2.08318425e+00,   2.34416086e-01,  -1.10681582e+01],\n",
       "        [ -2.06413000e+00,   3.02737088e-01,  -1.10970343e+01],\n",
       "        [ -2.03718865e+00,   3.77046172e-01,  -1.11065469e+01],\n",
       "        [ -2.00648248e+00,   4.43351068e-01,  -1.10341781e+01],\n",
       "        [ -2.00033821e+00,   4.55394002e-01,  -1.11329866e+01],\n",
       "        [ -1.96378545e+00,   5.22982005e-01,  -1.10839276e+01],\n",
       "        [ -1.91219890e+00,   5.98910987e-01,  -1.11066502e+01],\n",
       "        [ -1.88649270e+00,   6.29190429e-01,  -1.10279894e+01],\n",
       "        [ -1.83738552e+00,   6.88092881e-01,  -1.10917274e+01],\n",
       "        [ -1.77840949e+00,   7.44917288e-01,  -1.10946342e+01],\n",
       "        [ -1.72108702e+00,   7.92910536e-01,  -1.10733717e+01]]),\n",
       " array([[  2.11498617e+00,  -6.88088864e-01,   1.38625284e+01],\n",
       "        [  2.05600278e+00,  -7.44919276e-01,   1.38654662e+01],\n",
       "        [  1.99868311e+00,  -7.92909812e-01,   1.38442269e+01],\n",
       "        [  1.95199997e+00,  -8.25183669e-01,   1.39089550e+01],\n",
       "        [  1.91639746e+00,  -8.49693176e-01,   1.38190643e+01],\n",
       "        [  1.86599719e+00,  -8.77440227e-01,   1.39134349e+01],\n",
       "        [  1.82745666e+00,  -8.98539030e-01,   1.38239242e+01],\n",
       "        [  1.79623005e+00,  -9.12309616e-01,   1.39047659e+01],\n",
       "        [  1.75648161e+00,  -9.29594879e-01,   1.38149768e+01],\n",
       "        [  1.72625405e+00,  -9.41486039e-01,   1.38836411e+01],\n",
       "        [  1.63601836e+00,  -9.69778740e-01,   1.38550366e+01],\n",
       "        [  1.54557441e+00,  -9.88522793e-01,   1.38439918e+01],\n",
       "        [  1.44329455e+00,  -9.99148289e-01,   1.38775891e+01],\n",
       "        [  1.36649665e+00,  -1.00041830e+00,   1.38253834e+01],\n",
       "        [  1.28863751e+00,  -9.95606365e-01,   1.38912967e+01],\n",
       "        [  1.21870094e+00,  -9.85995470e-01,   1.38208551e+01],\n",
       "        [  1.17649767e+00,  -9.77786530e-01,   1.38961555e+01],\n",
       "        [  1.14449473e+00,  -9.69442413e-01,   1.38020764e+01],\n",
       "        [  1.05974855e+00,  -9.46190838e-01,   1.38483037e+01],\n",
       "        [  9.50311303e-01,  -9.00606183e-01,   1.38635652e+01],\n",
       "        [  8.90537165e-01,  -8.67530265e-01,   1.38052590e+01],\n",
       "        [  8.66631274e-01,  -8.53546419e-01,   1.39010643e+01],\n",
       "        [  8.15674042e-01,  -8.20779711e-01,   1.38189784e+01],\n",
       "        [  7.42553870e-01,  -7.65338231e-01,   1.38528518e+01],\n",
       "        [  6.84459239e-01,  -7.12118309e-01,   1.38742410e+01],\n",
       "        [  6.16990383e-01,  -6.38739365e-01,   1.38713772e+01],\n",
       "        [  5.57243219e-01,  -5.59018969e-01,   1.38668236e+01],\n",
       "        [  5.07681075e-01,  -4.77383501e-01,   1.38600011e+01],\n",
       "        [  4.64534338e-01,  -3.87502473e-01,   1.38575335e+01],\n",
       "        [  4.30555940e-01,  -2.93748998e-01,   1.38560375e+01],\n",
       "        [  4.06336890e-01,  -1.98411276e-01,   1.38542243e+01],\n",
       "        [  3.91458242e-01,  -9.97939657e-02,   1.38542243e+01],\n",
       "        [  3.86484876e-01,  -1.84845841e-04,   1.38542243e+01],\n",
       "        [  3.91241469e-01,   9.68723989e-02,   1.38565193e+01],\n",
       "        [  4.04307523e-01,   1.87135474e-01,   1.38646456e+01],\n",
       "        [  4.25200358e-01,   2.74017490e-01,   1.38800024e+01],\n",
       "        [  4.41872756e-01,   3.24358962e-01,   1.38047041e+01],\n",
       "        [  4.54187686e-01,   3.58961966e-01,   1.38974175e+01],\n",
       "        [  4.74413200e-01,   4.08874634e-01,   1.38233475e+01],\n",
       "        [  5.18632323e-01,   4.96697181e-01,   1.38399878e+01],\n",
       "        [  5.65786684e-01,   5.71323256e-01,   1.38686116e+01],\n",
       "        [  6.26156923e-01,   6.48858829e-01,   1.38855695e+01],\n",
       "        [  6.78049696e-01,   7.05363446e-01,   1.38711065e+01],\n",
       "        [  7.27148654e-01,   7.52115909e-01,   1.38409670e+01],\n",
       "        [  7.65878984e-01,   7.82942038e-01,   1.38988528e+01],\n",
       "        [  8.05314759e-01,   8.14041700e-01,   1.38406522e+01],\n",
       "        [  8.78312277e-01,   8.61524705e-01,   1.38627113e+01],\n",
       "        [  9.47504229e-01,   8.99043500e-01,   1.38376806e+01],\n",
       "        [  1.00505221e+00,   9.23734609e-01,   1.39001202e+01],\n",
       "        [  1.03932167e+00,   9.37902278e-01,   1.38361470e+01],\n",
       "        [  1.09614105e+00,   9.57109280e-01,   1.38770947e+01],\n",
       "        [  1.14325075e+00,   9.69828571e-01,   1.38214513e+01],\n",
       "        [  1.21926602e+00,   9.86454510e-01,   1.38337180e+01],\n",
       "        [  1.26424341e+00,   9.92256560e-01,   1.38984455e+01],\n",
       "        [  1.31244199e+00,   9.97390929e-01,   1.38112960e+01],\n",
       "        [  1.34203221e+00,   9.98526550e-01,   1.39027568e+01],\n",
       "        [  1.40592874e+00,   1.00068533e+00,   1.38691266e+01],\n",
       "        [  1.48048677e+00,   9.96126851e-01,   1.38176418e+01],\n",
       "        [  1.55694576e+00,   9.86490540e-01,   1.38785052e+01],\n",
       "        [  1.66621294e+00,   9.61848048e-01,   1.38630443e+01],\n",
       "        [  1.75675682e+00,   9.29663060e-01,   1.38897330e+01],\n",
       "        [  1.83080216e+00,   8.97665878e-01,   1.38707495e+01],\n",
       "        [  1.91778801e+00,   8.48934139e-01,   1.38727096e+01],\n",
       "        [  1.97140341e+00,   8.12716643e-01,   1.38327650e+01],\n",
       "        [  2.04334238e+00,   7.56410690e-01,   1.38251454e+01],\n",
       "        [  2.12692391e+00,   6.75673220e-01,   1.38449460e+01],\n",
       "        [  2.20726394e+00,   5.75507145e-01,   1.38471584e+01],\n",
       "        [  2.26771838e+00,   4.78019130e-01,   1.38466883e+01],\n",
       "        [  2.31468117e+00,   3.78738931e-01,   1.38628354e+01],\n",
       "        [  2.34745881e+00,   2.85416902e-01,   1.38466145e+01],\n",
       "        [  2.37352029e+00,   1.73901351e-01,   1.38679449e+01],\n",
       "        [  2.38300470e+00,   9.94832342e-02,   1.38966176e+01],\n",
       "        [  2.38835443e+00,   2.25238754e-02,   1.38334312e+01],\n",
       "        [  2.38663555e+00,  -6.67249591e-02,   1.38585280e+01],\n",
       "        [  2.37590859e+00,  -1.54640819e-01,   1.38971727e+01],\n",
       "        [  2.36082326e+00,  -2.34269697e-01,   1.38390789e+01],\n",
       "        [  2.34178395e+00,  -3.02570040e-01,   1.38679311e+01],\n",
       "        [  2.31486254e+00,  -3.76865436e-01,   1.38774090e+01],\n",
       "        [  2.28417418e+00,  -4.43164985e-01,   1.38050122e+01],\n",
       "        [  2.27802558e+00,  -4.55224223e-01,   1.39038188e+01],\n",
       "        [  2.24147582e+00,  -5.22833681e-01,   1.38547482e+01],\n",
       "        [  2.18986223e+00,  -5.98826622e-01,   1.38774364e+01],\n",
       "        [  2.16408002e+00,  -6.29197151e-01,   1.37987697e+01],\n",
       "        [  2.11498617e+00,  -6.88088864e-01,   1.38625284e+01]])]"
      ]
     },
     "execution_count": 21,
     "metadata": {},
     "output_type": "execute_result"
    }
   ],
   "source": [
    "system.handle_eclipses(eclipse_alg='graham', subdiv_num=1)"
   ]
  },
  {
   "cell_type": "markdown",
   "metadata": {},
   "source": [
    "We can easily check to make sure an eclipse happened by computing the ratio of triangles for each component that are currently visible."
   ]
  },
  {
   "cell_type": "code",
   "execution_count": 22,
   "metadata": {
    "collapsed": false
   },
   "outputs": [
    {
     "name": "stdout",
     "output_type": "stream",
     "text": [
      "primary visibility: 0.488934066422\n",
      "secondary visibility: 0.510197960408\n"
     ]
    }
   ],
   "source": [
    "visibilities = system.meshes.get_column('visibilities')\n",
    "print \"primary visibility:\", visibilities['primary'].sum() / len(visibilities['primary'])\n",
    "print \"secondary visibility:\", visibilities['secondary'].sum() / len(visibilities['secondary'])"
   ]
  },
  {
   "cell_type": "markdown",
   "metadata": {},
   "source": [
    "Without the Bundle\n",
    "-----------------------\n",
    "\n",
    "Now let's look at how we would setup the backend without a bundle.  Once created, all of the capabilities described above are also available.\n",
    "\n",
    "### Dynamics\n",
    "\n",
    "Dynamics without the bundle is *nearly* as simple, but special care needs to be made with passing values in the right units.\n",
    "\n",
    "Once again, let's look at Nbody first and then Keplerian."
   ]
  },
  {
   "cell_type": "code",
   "execution_count": 23,
   "metadata": {
    "collapsed": true
   },
   "outputs": [],
   "source": [
    "times = np.linspace(0,10,500) # days\n",
    "masses = [1.0, 0.8] # solar masses\n",
    "smas = [1.0, 1.0] # AU\n",
    "eccs = [0.8, 0.8] # unitless\n",
    "incls = [np.pi/2, np.pi/2] # radians\n",
    "per0s = [0, 0] # radians\n",
    "long_ans = [0, 0] # radians\n",
    "mean_anoms = [0, 0]\n",
    "t0 = 0.0 # days"
   ]
  },
  {
   "cell_type": "code",
   "execution_count": 24,
   "metadata": {
    "collapsed": false
   },
   "outputs": [],
   "source": [
    "ts, xs, ys, zs, vxs, vys, vzs =\\\n",
    "    phoebe.dynamics.nbody.dynamics(times, masses, smas,\n",
    "                                    eccs, incls, per0s,\n",
    "                                    long_ans, mean_anoms,\n",
    "                                    t0, stepsize=0.01,\n",
    "                                    gr=False, \n",
    "                                    ltte=False)"
   ]
  },
  {
   "cell_type": "code",
   "execution_count": 25,
   "metadata": {
    "collapsed": true
   },
   "outputs": [],
   "source": [
    "xi, yi, zi, vxi, vyi, vzi, ethetai, elongani, eincli = phoebe.dynamics.dynamics_at_i(xs, ys, zs, vxs, vys, vzs, ethetas, elongans, eincls, i=0)"
   ]
  },
  {
   "cell_type": "code",
   "execution_count": 26,
   "metadata": {
    "collapsed": false
   },
   "outputs": [
    {
     "data": {
      "image/png": "[encoded data removed]",
      "text/plain": [
       "<matplotlib.figure.Figure at 0x7f729d16bb50>"
      ]
     },
     "metadata": {},
     "output_type": "display_data"
    }
   ],
   "source": [
    "artist, = plt.plot(xs[0], zs[0], 'b-') # primary\n",
    "artist, = plt.plot(xs[1], zs[1], 'r-') # secondary"
   ]
  },
  {
   "cell_type": "markdown",
   "metadata": {},
   "source": [
    "Now let's look at Keplerian dynamics.  Here we need to provide information for the parent orbit of **each star**.  In the case of a simple binary, this can seem quite redundant."
   ]
  },
  {
   "cell_type": "code",
   "execution_count": 27,
   "metadata": {
    "collapsed": true
   },
   "outputs": [],
   "source": [
    "times = np.linspace(0,10,500) # days\n",
    "periods = [3.0, 3.0] # days\n",
    "eccs = [0.0, 0.0]\n",
    "smas = [1.0, 0.8] # Rsol (sma of the STAR about the CENTER OF MASS)\n",
    "t0_perpasses = [0.0, 0.0] # days\n",
    "per0s = [0.0, 0.0] # radians\n",
    "long_ans = [0.0, 0.0] # radians\n",
    "incls = [np.pi/2, np.pi/2] # radians\n",
    "dpdts = [0.0, 0.0] # days/day\n",
    "deccdts = [0.0, 0.0] # 1/day\n",
    "dperdts = [0.0, 0.0] # radians/day\n",
    "components = ['primary', 'secondary']\n",
    "t0 = 0.0 # days\n",
    "vgamma = 0.0 # solRad/day (TODO: double check!!!)"
   ]
  },
  {
   "cell_type": "code",
   "execution_count": 28,
   "metadata": {
    "collapsed": false
   },
   "outputs": [],
   "source": [
    "ts, xs, ys, zs, vxs, vys, vzs, ethetas, elongans, eincls =\\\n",
    "    phoebe.dynamics.keplerian.dynamics(times, periods,\n",
    "                                        eccs, smas, t0_perpasses,\n",
    "                                        per0s, long_ans, incls,\n",
    "                                        dpdts, deccdts, dperdts,\n",
    "                                        components,\n",
    "                                        t0, vgamma=vgamma,\n",
    "                                        ltte=False,\n",
    "                                        return_euler=True)"
   ]
  },
  {
   "cell_type": "code",
   "execution_count": 29,
   "metadata": {
    "collapsed": false
   },
   "outputs": [
    {
     "data": {
      "image/png": "[encoded data removed]",
      "text/plain": [
       "<matplotlib.figure.Figure at 0x7f729d018e10>"
      ]
     },
     "metadata": {},
     "output_type": "display_data"
    }
   ],
   "source": [
    "plt.cla()\n",
    "artist, = plt.plot(xs[0], ys[0], 'b-') # primary\n",
    "artist, = plt.plot(xs[1], ys[1], 'r-') # secondary"
   ]
  },
  {
   "cell_type": "markdown",
   "metadata": {
    "collapsed": true
   },
   "source": [
    "### Meshing"
   ]
  },
  {
   "cell_type": "code",
   "execution_count": 30,
   "metadata": {
    "collapsed": false
   },
   "outputs": [],
   "source": [
    "F = 1.0\n",
    "Phi = 9.5\n",
    "masses = [1.0, 0.8]  # solar Masses\n",
    "sma = 8.0   # solar radii\n",
    "ecc = 0.0\n",
    "freq_rot = 2*np.pi/1  # radians/day\n",
    "abun = 0.0\n",
    "alb_ref = 0.0\n",
    "teff = 6000  # K\n",
    "gravb_bol = 0.2\n",
    "gravb_law = 'zeipel'"
   ]
  },
  {
   "cell_type": "code",
   "execution_count": 31,
   "metadata": {
    "collapsed": false
   },
   "outputs": [],
   "source": [
    "primarymesh = phoebe.backend.universe.Star(F, Phi, masses, sma, ecc,\n",
    "                                           freq_rot, teff, gravb_bol,\n",
    "                                           abun, alb_ref,\n",
    "                                           delta=0.1, maxpoints=1e5,\n",
    "                                           ind_self=0,\n",
    "                                           ind_sibling=1,\n",
    "                                           comp_no=1)"
   ]
  },
  {
   "cell_type": "code",
   "execution_count": 32,
   "metadata": {
    "collapsed": false
   },
   "outputs": [],
   "source": [
    "secondarymesh = primarymesh.copy()"
   ]
  },
  {
   "cell_type": "code",
   "execution_count": 33,
   "metadata": {
    "collapsed": false
   },
   "outputs": [],
   "source": [
    "system = phoebe.backend.universe.System({'primary': primarymesh, 'secondary': secondarymesh})"
   ]
  },
  {
   "cell_type": "markdown",
   "metadata": {
    "collapsed": true
   },
   "source": [
    "Now that the \"system\" object is created, see the section in the \"From the Bundle\" section for details on initializing the meshes, placing them in orbit, eclipse detection, and accessing columns."
   ]
  },
  {
   "cell_type": "code",
   "execution_count": 34,
   "metadata": {
    "collapsed": false
   },
   "outputs": [],
   "source": [
    "system.initialize_meshes()"
   ]
  },
  {
   "cell_type": "code",
   "execution_count": 35,
   "metadata": {
    "collapsed": false
   },
   "outputs": [],
   "source": [
    "system.update_positions(ts, xi, yi, zi,\n",
    "                        vxi, vyi, vzi,\n",
    "                        ethetai, eincli, elongani)"
   ]
  },
  {
   "cell_type": "code",
   "execution_count": 36,
   "metadata": {
    "collapsed": false
   },
   "outputs": [
    {
     "name": "stderr",
     "output_type": "stream",
     "text": [
      "/home/kyle/.local/lib/python2.7/site-packages/phoebe/backend/eclipse.py:14: DeprecationWarning: PyArray_FromDims: use PyArray_SimpleNew.\n",
      "  hull, inside = ceclipse.graham_scan_inside_hull(front[sa], back)\n",
      "/home/kyle/.local/lib/python2.7/site-packages/phoebe/backend/eclipse.py:14: DeprecationWarning: PyArray_FromDimsAndDataAndDescr: use PyArray_NewFromDescr.\n",
      "  hull, inside = ceclipse.graham_scan_inside_hull(front[sa], back)\n",
      "/home/kyle/.local/lib/python2.7/site-packages/phoebe/backend/eclipse.py:14: DeprecationWarning: PyArray_FromDims: use PyArray_SimpleNew.\n",
      "  hull, inside = ceclipse.graham_scan_inside_hull(front[sa], back)\n",
      "/home/kyle/.local/lib/python2.7/site-packages/phoebe/backend/eclipse.py:14: DeprecationWarning: PyArray_FromDimsAndDataAndDescr: use PyArray_NewFromDescr.\n",
      "  hull, inside = ceclipse.graham_scan_inside_hull(front[sa], back)\n"
     ]
    }
   ],
   "source": [
    "system.handle_eclipses(eclipse_alg='graham')"
   ]
  },
  {
   "cell_type": "code",
   "execution_count": null,
   "metadata": {
    "collapsed": true
   },
   "outputs": [],
   "source": []
  }
 ],
 "metadata": {
  "kernelspec": {
   "display_name": "Python 2",
   "language": "python",
   "name": "python2"
  },
  "language_info": {
   "codemirror_mode": {
    "name": "ipython",
    "version": 2
   },
   "file_extension": ".py",
   "mimetype": "text/x-python",
   "name": "python",
   "nbconvert_exporter": "python",
   "pygments_lexer": "ipython2",
   "version": "2.7.12"
  }
 },
 "nbformat": 4,
 "nbformat_minor": 0
}
