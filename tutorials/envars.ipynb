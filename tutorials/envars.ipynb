{
 "cells": [
  {
   "cell_type": "markdown",
   "metadata": {},
   "source": [
    "Advanced: Environment Variables\n",
    "============================\n",
    "\n",
    "Setup\n",
    "-----------------------------"
   ]
  },
  {
   "cell_type": "markdown",
   "metadata": {},
   "source": [
    "Let's first make sure we have the latest version of PHOEBE 2.3 installed (uncomment this line if running in an online notebook session such as colab)."
   ]
  },
  {
   "cell_type": "code",
   "execution_count": null,
   "metadata": {},
   "outputs": [],
   "source": [
    "#!pip install -I \"phoebe>=2.3,<2.4\""
   ]
  },
  {
   "cell_type": "markdown",
   "metadata": {},
   "source": [
    "## Setting Environment Variables"
   ]
  },
  {
   "cell_type": "markdown",
   "metadata": {},
   "source": [
    "Some settings cannot be changed after importing PHOEBE, so they are available via environment variables.  These can be set in a variety of ways:\n",
    "\n",
    "Setting inline before calling python will set for that single session of PHOEBE:\n",
    "```\n",
    "PHOEBE_ENABLE_PLOTTING=FALSE python [script.py]\n",
    "```\n",
    "\n",
    "Setting via the os package in python **before** importing PHOEBE allows you to set the setting everytime you run a given script:\n",
    "```py\n",
    "import os\n",
    "os.environ['PHOEBE_ENABLE_PLOTTING'] = 'FALSE'\n",
    "import phoebe\n",
    "```\n",
    "\n",
    "Note for all boolean settings, the string is converted to uppercase and compared to 'TRUE'."
   ]
  },
  {
   "cell_type": "markdown",
   "metadata": {},
   "source": [
    "## Plotting Options"
   ]
  },
  {
   "cell_type": "markdown",
   "metadata": {},
   "source": [
    "### PHOEBE_ENABLE_PLOTTING\n",
    "\n",
    "PHOEBE_ENABLE_PLOTTING (TRUE by default) allows for disabling plotting within PHOEBE and therefore skipping the import of all plotting libraries (which take up a significant amount of the time it takes to import phoebe)."
   ]
  },
  {
   "cell_type": "markdown",
   "metadata": {},
   "source": [
    "## Passband Options"
   ]
  },
  {
   "cell_type": "markdown",
   "metadata": {},
   "source": [
    "### PHOEBE_ENABLE_ONLINE_PASSBANDS\n",
    "\n",
    "PHOEBE_ENABLE_ONLINE_PASSBANDS (TRUE by default) dictates whether online passbands are queried and available for on-the-fly downloading.  If you are sure you have all the local passbands you need, set this to False to save some time."
   ]
  },
  {
   "cell_type": "markdown",
   "metadata": {},
   "source": [
    "### PHOEBE_DOWNLOAD_PASSBAND_DEFAULTS_CONTENT\n",
    "\n",
    "PHOEBE_DOWNLOAD_PASSBAND_DEFAULTS_CONTENT ('all' by default, use comma separate for a list: 'ck2004,phoenix') allows setting the value for `content` in [phoebe.set_download_passband_defaults](../api/phoebe.set_download_passband_defaults.md).  For more details, see the section above."
   ]
  },
  {
   "cell_type": "markdown",
   "metadata": {},
   "source": [
    "### PHOEBE_DOWNLOAD_PASSBAND_DEFAULTS_GZIPPED\n",
    "\n",
    "PHOEBE_DOWNLOAD_PASSBAND_DEFAULTS_GZIPPED (FALSE by default) allows setting the value for `gzipped` in [phoebe.set_download_passband_defaults](../api/phoebe.set_download_passband_defaults.md).  For more details, see the section above."
   ]
  },
  {
   "cell_type": "markdown",
   "metadata": {},
   "source": [
    "### PHOEBE_UPDATE_PASSBAND_IGNORE_VERSION\n",
    "\n",
    "PHOEBE_UPDATE_PASSBAND_IGNORE_VERSION (FALSE by default) allows disabling the timestamp check used to require manually updating passbands when required content is missing.  See [phoebe.update_passband_ignore_version_on](../api/phoebe.update_passband_ignore_version_on.md) and [phoebe.update_passband_ignore_version_off](../api/phoebe.update_passband_ignore_version_off.md)"
   ]
  },
  {
   "cell_type": "markdown",
   "metadata": {},
   "source": [
    "### PHOEBE_PBDIR\n",
    "\n",
    "PHOEBE_PBDIR (empty by default) allows setting an additional custom directory to query for passbands, in addition to [phoebe.list_passband_directories](../api/phoebe.list_passband_directories.md)"
   ]
  },
  {
   "cell_type": "markdown",
   "metadata": {},
   "source": [
    "## MPI Options"
   ]
  },
  {
   "cell_type": "markdown",
   "metadata": {},
   "source": [
    "### PHOEBE_ENABLE_MPI\n",
    "\n",
    "PHOEBE_ENABLE_MPI (defaults to TRUE if within mpirun/mpiexec, otherwise FALSE): whether to use internal parallelization.  See also [phoebe.mpi_on](../api/phoebe.mpi_on.md) and [phoebe.mpi_off](../api/phoebe.mpi_off.md)"
   ]
  },
  {
   "cell_type": "markdown",
   "metadata": {},
   "source": [
    "### PHOEBE_MPI_NPROCS\n",
    "\n",
    "PHOEBE_MPI_NPROCS (defaults to 4) allows setting the number of processors to spawn if MPI is enabled but **not** running within mpirun/mpiexec.  See also: [phoebe.mpi_on](../api/phoebe.mpi_on.md)."
   ]
  },
  {
   "cell_type": "markdown",
   "metadata": {},
   "source": [
    "## Multiprocessing Options\n",
    "\n",
    "### PHOEBE_MULTIPROC_NPROCS  (NEW IN 2.3.26)\n",
    "\n",
    "PHOEBE_MULTIPROC_NPROCS (defaults to using all available CPUs, when supported, and only if not within MPI): number of processors to expose to multiprocessing.  See also [phoebe.multiprocessing_on](../api/phoebe.multiprocessing_on.md), [phoebe.multiprocessing_off](../api/phoebe.multiprocessing_off.md), and [phoebe.multiprocessing_set_nprocs](../api/phoebe.multiprocessing_set_nprocs.md)."
   ]
  },
  {
   "cell_type": "code",
   "execution_count": null,
   "metadata": {},
   "outputs": [],
   "source": []
  }
 ],
 "metadata": {
  "kernelspec": {
   "display_name": "Python 3",
   "language": "python",
   "name": "python3"
  },
  "language_info": {
   "codemirror_mode": {
    "name": "ipython",
    "version": 3
   },
   "file_extension": ".py",
   "mimetype": "text/x-python",
   "name": "python",
   "nbconvert_exporter": "python",
   "pygments_lexer": "ipython3",
   "version": "3.8.5"
  }
 },
 "nbformat": 4,
 "nbformat_minor": 1
}
