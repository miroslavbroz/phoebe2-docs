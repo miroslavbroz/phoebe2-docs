{
 "cells": [
  {
   "cell_type": "markdown",
   "metadata": {},
   "source": [
    "[IPython Notebook](alternate_backends.ipynb) |  [Python Script](alternate_backends.py)"
   ]
  },
  {
   "cell_type": "markdown",
   "metadata": {},
   "source": [
    "Advanced: Alternate Backends\n",
    "============================\n",
    "\n",
    "Setup\n",
    "-----------------------------"
   ]
  },
  {
   "cell_type": "markdown",
   "metadata": {},
   "source": [
    "As always, let's do imports and initialize a logger and a new Bundle.  See [Building a System](building_a_system.html) for more details."
   ]
  },
  {
   "cell_type": "code",
   "execution_count": 1,
   "metadata": {
    "collapsed": false
   },
   "outputs": [
    {
     "name": "stderr",
     "output_type": "stream",
     "text": [
      "/usr/local/lib/python2.7/dist-packages/IPython/kernel/__init__.py:13: ShimWarning: The `IPython.kernel` package has been deprecated. You should import from ipykernel or jupyter_client instead.\n",
      "  \"You should import from ipykernel or jupyter_client instead.\", ShimWarning)\n",
      "WARNING: Constant u'Gravitational constant' is already has a definition in the u'si' system [astropy.constants.constant]\n",
      "WARNING:astropy:Constant u'Gravitational constant' is already has a definition in the u'si' system\n",
      "WARNING: Constant u'Solar mass' is already has a definition in the u'si' system [astropy.constants.constant]\n",
      "WARNING:astropy:Constant u'Solar mass' is already has a definition in the u'si' system\n",
      "WARNING: Constant u'Solar radius' is already has a definition in the u'si' system [astropy.constants.constant]\n",
      "WARNING:astropy:Constant u'Solar radius' is already has a definition in the u'si' system\n",
      "WARNING: Constant u'Solar luminosity' is already has a definition in the u'si' system [astropy.constants.constant]\n",
      "WARNING:astropy:Constant u'Solar luminosity' is already has a definition in the u'si' system\n"
     ]
    },
    {
     "name": "stdout",
     "output_type": "stream",
     "text": [
      "WARNING: developer mode enabled, to disable 'rm ~/.phoebe_devel_enabled' and restart phoebe or phoebe._devel_enabled=False to temporarily disable\n"
     ]
    },
    {
     "name": "stderr",
     "output_type": "stream",
     "text": [
      "/usr/local/lib/python2.7/dist-packages/astropy/units/quantity.py:732: FutureWarning: comparison to `None` will result in an elementwise object comparison in the future.\n",
      "  return super(Quantity, self).__eq__(other)\n"
     ]
    }
   ],
   "source": [
    "import phoebe\n",
    "from phoebe import u # units\n",
    "import numpy as np\n",
    "import matplotlib.pyplot as plt\n",
    "\n",
    "logger = phoebe.logger()\n",
    "\n",
    "b = phoebe.default_binary()"
   ]
  },
  {
   "cell_type": "markdown",
   "metadata": {},
   "source": [
    "And we'll attach some dummy datasets.  See [Datasets](datasets.html) for more details."
   ]
  },
  {
   "cell_type": "code",
   "execution_count": 2,
   "metadata": {
    "collapsed": false
   },
   "outputs": [
    {
     "data": {
      "text/plain": [
       "<ParameterSet: 2 parameters | components: primary, secondary>"
      ]
     },
     "execution_count": 2,
     "metadata": {},
     "output_type": "execute_result"
    }
   ],
   "source": [
    "b.add_dataset('orb', times=np.linspace(0,10,1000), dataset='orb01', component=['primary', 'secondary'])"
   ]
  },
  {
   "cell_type": "code",
   "execution_count": 3,
   "metadata": {
    "collapsed": false
   },
   "outputs": [
    {
     "data": {
      "text/plain": [
       "<ParameterSet: 11 parameters | kinds: lc, lc_dep>"
      ]
     },
     "execution_count": 3,
     "metadata": {},
     "output_type": "execute_result"
    }
   ],
   "source": [
    "b.add_dataset('lc', times=np.linspace(0,10,1000), dataset='lc01')"
   ]
  },
  {
   "cell_type": "markdown",
   "metadata": {
    "collapsed": true
   },
   "source": [
    "Available Backends\n",
    "----------------------------\n",
    "\n",
    "See the [Compute Tutorial](./compute) for details on adding compute options and using them to create synthetic models.\n"
   ]
  },
  {
   "cell_type": "markdown",
   "metadata": {},
   "source": [
    "### PHOEBE 1.0 Legacy\n",
    "\n",
    "For more details, see [Comparing PHOEBE 2.0 vs PHOEBE Legacy](../examples/legacy)"
   ]
  },
  {
   "cell_type": "code",
   "execution_count": 4,
   "metadata": {
    "collapsed": false
   },
   "outputs": [
    {
     "name": "stdout",
     "output_type": "stream",
     "text": [
      "ParameterSet: 10 parameters\n",
      "  store_mesh@legacycompute@co...: False\n",
      "  morphology@legacycompute@co...: Detached binary\n",
      "    cindex@legacycompute@compute: False\n",
      "  refl_num@legacycompute@compute: 1\n",
      "        ie@legacycompute@compute: False\n",
      "   enabled@legacycompute@compute: True\n",
      "  atm@primary@legacycompute@c...: kurucz\n",
      "  atm@secondary@legacycompute...: kurucz\n",
      "  gridsize@primary@legacycomp...: 40\n",
      "  gridsize@secondary@legacyco...: 40\n"
     ]
    }
   ],
   "source": [
    "b.add_compute('legacy', compute='legacycompute')\n",
    "print b['legacycompute']"
   ]
  },
  {
   "cell_type": "markdown",
   "metadata": {},
   "source": [
    "### Photodynam\n",
    "\n",
    "For more details, see [Comparing PHOEBE 2.0 vs Photodynam (Binary)](../examples/photodynam) and [Comparing PHOEBE 2.0 vs Photodynam (Hierarchical Triple)](../examples/hierarchical_triple)"
   ]
  },
  {
   "cell_type": "code",
   "execution_count": 5,
   "metadata": {
    "collapsed": false
   },
   "outputs": [
    {
     "name": "stdout",
     "output_type": "stream",
     "text": [
      "ParameterSet: 4 parameters\n",
      "  stepsize@photodynamcompute@...: 0.01\n",
      "  orbiterror@photodynamcomput...: 1e-20\n",
      "  enabled@lc01@photodynamcomp...: True\n",
      "  enabled@orb01@photodynamcom...: True\n"
     ]
    }
   ],
   "source": [
    "b.add_compute('photodynam', compute='photodynamcompute')\n",
    "print b['photodynamcompute']"
   ]
  },
  {
   "cell_type": "markdown",
   "metadata": {},
   "source": [
    "### JKTEBOP\n",
    "\n",
    "For more details, see [Comparing PHOEBE 2.0 vs JKTEBOP](../examples/jktebop)"
   ]
  },
  {
   "cell_type": "code",
   "execution_count": 6,
   "metadata": {
    "collapsed": false
   },
   "outputs": [
    {
     "name": "stdout",
     "output_type": "stream",
     "text": [
      "ParameterSet: 2 parameters\n",
      "  ringsize@jktebopcompute@com...: 5.0 deg\n",
      "  enabled@lc01@jktebopcompute...: True\n"
     ]
    }
   ],
   "source": [
    "b.add_compute('jktebop', compute='jktebopcompute')\n",
    "print b['jktebopcompute']"
   ]
  },
  {
   "cell_type": "markdown",
   "metadata": {},
   "source": [
    "Using Alternate Backends\n",
    "---------------------------------\n"
   ]
  },
  {
   "cell_type": "markdown",
   "metadata": {},
   "source": [
    "### Adding Compute Options\n",
    "\n",
    "Adding a set of compute options for an alternate backend is just as easy as for the PHOEBE backend.  Simply provide the function or name of the function in phoebe.parameters.compute that points to the parameters for that backend.\n",
    "\n",
    "Here we'll add the default PHOEBE backend as well as photodynam by Josh Carter.  Note that in order to use an alternate backend, that backend must be installed on your machine."
   ]
  },
  {
   "cell_type": "code",
   "execution_count": 7,
   "metadata": {
    "collapsed": false,
    "scrolled": true
   },
   "outputs": [
    {
     "data": {
      "text/plain": [
       "<ParameterSet: 20 parameters | datasets: lc01, orb01>"
      ]
     },
     "execution_count": 7,
     "metadata": {},
     "output_type": "execute_result"
    }
   ],
   "source": [
    "b.add_compute('phoebe', compute='phoebebackend')"
   ]
  },
  {
   "cell_type": "code",
   "execution_count": 8,
   "metadata": {
    "collapsed": false
   },
   "outputs": [
    {
     "name": "stdout",
     "output_type": "stream",
     "text": [
      "ParameterSet: 20 parameters\n",
      "  dynamics_method@phoebebacke...: keplerian\n",
      "      ltte@phoebebackend@compute: False\n",
      "      refl@phoebebackend@compute: False\n",
      "  store_mesh@phoebebackend@co...: False\n",
      "  mesh_offset@phoebebackend@c...: True\n",
      "  eclipse_method@phoebebacken...: native\n",
      "  enabled@lc01@phoebebackend@...: True\n",
      "  enabled@orb01@phoebebackend...: True\n",
      "  mesh_method@primary@phoebeb...: marching\n",
      "  mesh_method@secondary@phoeb...: marching\n",
      "  delta@primary@phoebebackend...: 0.1\n",
      "  delta@secondary@phoebebacke...: 0.1\n",
      "  maxpoints@primary@phoebebac...: 100000\n",
      "  maxpoints@secondary@phoebeb...: 100000\n",
      "  distortion_method@primary@p...: roche\n",
      "  distortion_method@secondary...: roche\n",
      "  atm@primary@phoebebackend@c...: ck2004\n",
      "  atm@secondary@phoebebackend...: ck2004\n",
      "  lc_method@phoebebackend@com...: numerical\n",
      "  fti_method@phoebebackend@co...: None\n"
     ]
    }
   ],
   "source": [
    "print b['phoebebackend']"
   ]
  },
  {
   "cell_type": "code",
   "execution_count": 9,
   "metadata": {
    "collapsed": false
   },
   "outputs": [
    {
     "data": {
      "text/plain": [
       "<ParameterSet: 4 parameters | datasets: lc01, orb01>"
      ]
     },
     "execution_count": 9,
     "metadata": {},
     "output_type": "execute_result"
    }
   ],
   "source": [
    "b.add_compute('photodynam', compute='pdbackend')"
   ]
  },
  {
   "cell_type": "code",
   "execution_count": 10,
   "metadata": {
    "collapsed": false,
    "scrolled": true
   },
   "outputs": [
    {
     "name": "stdout",
     "output_type": "stream",
     "text": [
      "ParameterSet: 4 parameters\n",
      "      stepsize@pdbackend@compute: 0.01\n",
      "    orbiterror@pdbackend@compute: 1e-20\n",
      "  enabled@lc01@pdbackend@compute: True\n",
      "  enabled@orb01@pdbackend@com...: True\n"
     ]
    }
   ],
   "source": [
    "print b['pdbackend']"
   ]
  },
  {
   "cell_type": "markdown",
   "metadata": {},
   "source": [
    "### Running Compute\n",
    "\n",
    "Nothing changes for running compute - simply provide the compute tag for those options.  Do note, however, that not all backends support all dataset types."
   ]
  },
  {
   "cell_type": "code",
   "execution_count": 12,
   "metadata": {
    "collapsed": false
   },
   "outputs": [],
   "source": [
    "b.set_value_all('pblum_ref', 'self')\n",
    "# TODO: remove this once other backends support coupled pblums"
   ]
  },
  {
   "cell_type": "code",
   "execution_count": 13,
   "metadata": {
    "collapsed": false
   },
   "outputs": [
    {
     "name": "stderr",
     "output_type": "stream",
     "text": [
      "WARNING:BACKENDS:ld_func for primary lc01 must be 'quadratic' for the photodynam backend, but is not: defaulting to quadratic with coeffs of (0, 0)\n",
      "WARNING:BACKENDS:ld_func for secondary lc01 must be 'quadratic' for the photodynam backend, but is not: defaulting to quadratic with coeffs of (0, 0)\n"
     ]
    },
    {
     "data": {
      "text/plain": [
       "<ParameterSet: 16 parameters | kinds: orb, lc>"
      ]
     },
     "execution_count": 13,
     "metadata": {},
     "output_type": "execute_result"
    }
   ],
   "source": [
    "b.run_compute('pdbackend', model='pdresults')"
   ]
  },
  {
   "cell_type": "markdown",
   "metadata": {},
   "source": [
    "### Running Fitting\n",
    "\n",
    "COMING SOMEDAY"
   ]
  },
  {
   "cell_type": "markdown",
   "metadata": {},
   "source": [
    "Running Multiple Backends Simultaneously\n",
    "---------------------------------------------------\n",
    "\n",
    "Running multiple backends simultaneously is just as simple as running the PHOEBE backend with multiple sets of compute options (see [Compute](compute.html)).\n",
    "\n",
    "We just need to make sure that each dataset is only enabled for one (or none) of the backends that we want to use, and then send a list of the compute tags to run_compute.  Here we'll use the PHOEBE backend to compute orbits and the photodynam backend to compute light curves."
   ]
  },
  {
   "cell_type": "code",
   "execution_count": 14,
   "metadata": {
    "collapsed": false
   },
   "outputs": [
    {
     "name": "stdout",
     "output_type": "stream",
     "text": [
      "ParameterSet: 8 parameters\n",
      "  enabled@lc01@legacycompute@...: True\n",
      "  enabled@lc01@photodynamcomp...: True\n",
      "  enabled@orb01@photodynamcom...: True\n",
      "  enabled@lc01@jktebopcompute...: True\n",
      "  enabled@lc01@phoebebackend@...: False\n",
      "  enabled@orb01@phoebebackend...: True\n",
      "  enabled@lc01@pdbackend@compute: True\n",
      "  enabled@orb01@pdbackend@com...: False\n"
     ]
    }
   ],
   "source": [
    "b.set_value_all('enabled@lc01@phoebebackend', False)\n",
    "b.set_value_all('enabled@orb01@pdbackend', False)\n",
    "print b['enabled']"
   ]
  },
  {
   "cell_type": "code",
   "execution_count": 15,
   "metadata": {
    "collapsed": false
   },
   "outputs": [
    {
     "name": "stderr",
     "output_type": "stream",
     "text": [
      "WARNING:BACKENDS:ld_func for primary lc01 must be 'quadratic' for the photodynam backend, but is not: defaulting to quadratic with coeffs of (0, 0)\n",
      "WARNING:BACKENDS:ld_func for secondary lc01 must be 'quadratic' for the photodynam backend, but is not: defaulting to quadratic with coeffs of (0, 0)\n"
     ]
    },
    {
     "data": {
      "text/plain": [
       "<ParameterSet: 16 parameters | kinds: orb, lc>"
      ]
     },
     "execution_count": 15,
     "metadata": {},
     "output_type": "execute_result"
    }
   ],
   "source": [
    "b.run_compute(['phoebebackend', 'pdbackend'], model='mixedresults')"
   ]
  },
  {
   "cell_type": "markdown",
   "metadata": {},
   "source": [
    "The parameters inside the returned model even remember which set of compute options (and therefore, in this case, which backend) were used to compute them."
   ]
  },
  {
   "cell_type": "code",
   "execution_count": 16,
   "metadata": {
    "collapsed": false,
    "scrolled": true
   },
   "outputs": [
    {
     "name": "stdout",
     "output_type": "stream",
     "text": [
      "['phoebebackend', 'pdbackend']\n"
     ]
    }
   ],
   "source": [
    "print b['mixedresults'].computes"
   ]
  },
  {
   "cell_type": "code",
   "execution_count": 17,
   "metadata": {
    "collapsed": false
   },
   "outputs": [
    {
     "data": {
      "text/plain": [
       "['orb01']"
      ]
     },
     "execution_count": 17,
     "metadata": {},
     "output_type": "execute_result"
    }
   ],
   "source": [
    "b['mixedresults@phoebebackend'].datasets"
   ]
  },
  {
   "cell_type": "code",
   "execution_count": 18,
   "metadata": {
    "collapsed": false
   },
   "outputs": [
    {
     "data": {
      "text/plain": [
       "['lc01']"
      ]
     },
     "execution_count": 18,
     "metadata": {},
     "output_type": "execute_result"
    }
   ],
   "source": [
    "b['mixedresults@pdbackend'].datasets"
   ]
  },
  {
   "cell_type": "code",
   "execution_count": null,
   "metadata": {
    "collapsed": true
   },
   "outputs": [],
   "source": []
  }
 ],
 "metadata": {
  "kernelspec": {
   "display_name": "Python 2",
   "language": "python",
   "name": "python2"
  },
  "language_info": {
   "codemirror_mode": {
    "name": "ipython",
    "version": 2
   },
   "file_extension": ".py",
   "mimetype": "text/x-python",
   "name": "python",
   "nbconvert_exporter": "python",
   "pygments_lexer": "ipython2",
   "version": "2.7.12"
  }
 },
 "nbformat": 4,
 "nbformat_minor": 0
}
