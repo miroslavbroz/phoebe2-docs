{
 "cells": [
  {
   "cell_type": "markdown",
   "metadata": {},
   "source": [
    "Advanced: Alternate Backends\n",
    "============================\n",
    "\n",
    "Setup\n",
    "-----------------------------"
   ]
  },
  {
   "cell_type": "markdown",
   "metadata": {},
   "source": [
    "Let's first make sure we have the latest version of PHOEBE 2.4 installed (uncomment this line if running in an online notebook session such as colab)."
   ]
  },
  {
   "cell_type": "code",
   "execution_count": 1,
   "metadata": {},
   "outputs": [],
   "source": [
    "#!pip install -I \"phoebe>=2.4,<2.5\""
   ]
  },
  {
   "cell_type": "code",
   "execution_count": 2,
   "metadata": {},
   "outputs": [],
   "source": [
    "import phoebe\n",
    "from phoebe import u # units\n",
    "\n",
    "logger = phoebe.logger()\n",
    "\n",
    "b = phoebe.default_binary()"
   ]
  },
  {
   "cell_type": "markdown",
   "metadata": {},
   "source": [
    "And we'll attach some dummy datasets.  See [Datasets](datasets.html) for more details."
   ]
  },
  {
   "cell_type": "code",
   "execution_count": 3,
   "metadata": {},
   "outputs": [
    {
     "data": {
      "text/plain": [
       "<ParameterSet: 50 parameters | contexts: dataset, figure, compute, constraint>"
      ]
     },
     "execution_count": 3,
     "metadata": {},
     "output_type": "execute_result"
    }
   ],
   "source": [
    "b.add_dataset('orb', \n",
    "              compute_times=phoebe.linspace(0,10,1000), \n",
    "              dataset='orb01')"
   ]
  },
  {
   "cell_type": "code",
   "execution_count": 4,
   "metadata": {},
   "outputs": [
    {
     "data": {
      "text/plain": [
       "<ParameterSet: 78 parameters | contexts: dataset, figure, compute, constraint>"
      ]
     },
     "execution_count": 4,
     "metadata": {},
     "output_type": "execute_result"
    }
   ],
   "source": [
    "b.add_dataset('lc', \n",
    "              compute_times=phoebe.linspace(0,10,1000), \n",
    "              dataset='lc01')"
   ]
  },
  {
   "cell_type": "markdown",
   "metadata": {
    "collapsed": true
   },
   "source": [
    "Available Backends\n",
    "----------------------------\n",
    "\n",
    "See the [Compute Tutorial](./compute) for details on adding compute options and using them to create synthetic models.\n",
    "\n",
    "The following list in any version of PHOEBE can always be accessed via [phoebe.list_available_computes](../api/phoebe.list_available_computes.md).\n",
    "\n",
    "Note also that all of these are listed on the [backends](../backends.md) page and their available functionality is compared in the [compute backend comparison table](../examples/compute_comparison_table.ipynb)."
   ]
  },
  {
   "cell_type": "code",
   "execution_count": 5,
   "metadata": {},
   "outputs": [
    {
     "data": {
      "text/plain": [
       "['ellc', 'jktebop', 'legacy', 'phoebe']"
      ]
     },
     "execution_count": 5,
     "metadata": {},
     "output_type": "execute_result"
    }
   ],
   "source": [
    "phoebe.list_available_computes()"
   ]
  },
  {
   "cell_type": "markdown",
   "metadata": {},
   "source": [
    "### PHOEBE 1.0 Legacy\n",
    "\n",
    "For more details, see [Comparing PHOEBE 2.0 vs PHOEBE Legacy](../examples/legacy) and the [legacy compute API docs](../api/phoebe.parameters.compute.legacy.md)."
   ]
  },
  {
   "cell_type": "code",
   "execution_count": 6,
   "metadata": {},
   "outputs": [
    {
     "name": "stdout",
     "output_type": "stream",
     "text": [
      "ParameterSet: 14 parameters\n",
      "   sample_from@legacybackend@c...: []\n",
      "   comments@legacybackend@compute: \n",
      "   pblum_method@legacybackend@...: phoebe\n",
      "   irrad_method@legacybackend@...: wilson\n",
      "   refl_num@legacybackend@compute: 1\n",
      "         ie@legacybackend@compute: False\n",
      "    enabled@legacybackend@compute: True\n",
      "   atm@primary@legacybackend@c...: extern_atmx\n",
      "   atm@secondary@legacybackend...: extern_atmx\n",
      "   gridsize@primary@legacyback...: 60\n",
      "   gridsize@secondary@legacyba...: 60\n",
      "   distortion_method@primary@l...: roche\n",
      "   distortion_method@secondary...: roche\n",
      "   fti_method@legacybackend@co...: none\n"
     ]
    }
   ],
   "source": [
    "b.add_compute('legacy', compute='legacybackend')\n",
    "print(b.get_compute('legacybackend'))"
   ]
  },
  {
   "cell_type": "markdown",
   "metadata": {},
   "source": [
    "### ellc\n",
    "\n",
    "For more details, see the the [ellc compute API docs](../api/phoebe.parameters.compute.ellc.md)."
   ]
  },
  {
   "cell_type": "code",
   "execution_count": 7,
   "metadata": {},
   "outputs": [
    {
     "name": "stdout",
     "output_type": "stream",
     "text": [
      "ParameterSet: 13 parameters\n",
      "   sample_from@ellcbackend@com...: []\n",
      "     comments@ellcbackend@compute: \n",
      "   pblum_method@ellcbackend@co...: stefan-boltzmann\n",
      "   exact_grav@ellcbackend@compute: False\n",
      "   irrad_method@ellcbackend@co...: lambert\n",
      "      enabled@ellcbackend@compute: True\n",
      "   atm@primary@ellcbackend@com...: ck2004\n",
      "   atm@secondary@ellcbackend@c...: ck2004\n",
      "   distortion_method@primary@e...: roche\n",
      "   distortion_method@secondary...: roche\n",
      "   grid@primary@ellcbackend@co...: default\n",
      "   grid@secondary@ellcbackend@...: default\n",
      "   fti_method@ellcbackend@compute: none\n"
     ]
    }
   ],
   "source": [
    "b.add_compute('ellc', compute='ellcbackend')\n",
    "print(b.get_compute('ellcbackend'))"
   ]
  },
  {
   "cell_type": "markdown",
   "metadata": {},
   "source": [
    "### jktebop\n",
    "\n",
    "For more details, see the the [jktebop compute API docs](../api/phoebe.parameters.compute.jktebop.md)."
   ]
  },
  {
   "cell_type": "code",
   "execution_count": 8,
   "metadata": {},
   "outputs": [
    {
     "name": "stdout",
     "output_type": "stream",
     "text": [
      "ParameterSet: 11 parameters\n",
      "   sample_from@jktebopcompute@...: []\n",
      "   comments@jktebopcompute@com...: \n",
      "   requiv_max_limit@jktebopcom...: 0.5\n",
      "   pblum_method@jktebopcompute...: stefan-boltzmann\n",
      "   ringsize@jktebopcompute@com...: 5.0 deg\n",
      "   distortion_method@jktebopco...: sphere/biaxial spheroid\n",
      "   irrad_method@jktebopcompute...: biaxial-spheroid\n",
      "   enabled@jktebopcompute@compute: True\n",
      "   atm@primary@jktebopcompute@...: ck2004\n",
      "   atm@secondary@jktebopcomput...: ck2004\n",
      "   fti_method@jktebopcompute@c...: none\n"
     ]
    }
   ],
   "source": [
    "b.add_compute('jktebop', compute='jktebopcompute')\n",
    "print(b.get_compute('jktebopcompute'))"
   ]
  },
  {
   "cell_type": "markdown",
   "metadata": {},
   "source": [
    "Using Alternate Backends\n",
    "---------------------------------\n"
   ]
  },
  {
   "cell_type": "markdown",
   "metadata": {},
   "source": [
    "### Adding Compute Options\n",
    "\n",
    "Adding a set of compute options, via [b.add_compute](../api/phoebe.frontend.bundle.Bundle.add_compute.md) for an alternate backend is just as easy as for the PHOEBE backend.  Simply provide the function or name of the function in [phoebe.parameters.compute](../api/phoebe.parameters.compute.md) that points to the parameters for that backend.\n",
    "\n",
    "Here we'll add the default PHOEBE backend as well as the PHOEBE 1.0 (legacy) backend.  Note that in order to use an alternate backend, that backend must be installed on your machine."
   ]
  },
  {
   "cell_type": "code",
   "execution_count": 9,
   "metadata": {
    "scrolled": true
   },
   "outputs": [
    {
     "data": {
      "text/plain": [
       "<ParameterSet: 35 parameters | datasets: lc01, _default, orb01>"
      ]
     },
     "execution_count": 9,
     "metadata": {},
     "output_type": "execute_result"
    }
   ],
   "source": [
    "b.add_compute('phoebe', compute='phoebebackend')"
   ]
  },
  {
   "cell_type": "code",
   "execution_count": 10,
   "metadata": {},
   "outputs": [
    {
     "name": "stdout",
     "output_type": "stream",
     "text": [
      "ParameterSet: 19 parameters\n",
      "   sample_from@phoebebackend@c...: []\n",
      "   comments@phoebebackend@compute: \n",
      "   dynamics_method@phoebebacke...: keplerian\n",
      "       ltte@phoebebackend@compute: False\n",
      "   irrad_method@phoebebackend@...: horvat\n",
      "   boosting_method@phoebebacke...: none\n",
      "   eclipse_method@phoebebacken...: native\n",
      "   horizon_method@phoebebacken...: boolean\n",
      "   enabled@orb01@phoebebackend...: True\n",
      "   enabled@lc01@phoebebackend@...: True\n",
      "   mesh_method@primary@phoebeb...: marching\n",
      "   mesh_method@secondary@phoeb...: marching\n",
      "   ntriangles@primary@phoebeba...: 1500\n",
      "   ntriangles@secondary@phoebe...: 1500\n",
      "   distortion_method@primary@p...: roche\n",
      "   distortion_method@secondary...: roche\n",
      "   atm@primary@phoebebackend@c...: ck2004\n",
      "   atm@secondary@phoebebackend...: ck2004\n",
      "   fti_method@phoebebackend@co...: none\n"
     ]
    }
   ],
   "source": [
    "print(b.get_compute('phoebebackend'))"
   ]
  },
  {
   "cell_type": "markdown",
   "metadata": {},
   "source": [
    "### Running Compute\n",
    "\n",
    "Nothing changes when calling [b.run_compute](../api/phoebe.frontend.bundle.Bundle.run_compute.md) - simply provide the compute tag for those options.  Do note, however, that not all backends support all dataset types."
   ]
  },
  {
   "cell_type": "markdown",
   "metadata": {},
   "source": [
    "But, since the legacy backend doesn't support ck2004 atmospheres and interpolated limb-darkening, we do need to choose a limb-darkening law.  We can do this for all passband-component combinations by using [set_value_all](../api/phoebe.parameters.ParameterSet.set_value_all.md).\n",
    "\n",
    "For more information on limb-darkening options, see the [limb-darkening tutorial](limb_darkening.ipynb)."
   ]
  },
  {
   "cell_type": "code",
   "execution_count": 11,
   "metadata": {},
   "outputs": [
    {
     "name": "stderr",
     "output_type": "stream",
     "text": [
      "Wed, 24 Feb 2021 10:41 BUNDLE       WARNING ld_mode='interp' not supported by 'legacy' backend used by compute='legacybackend'.  Change ld_mode@primary@lc01.  If not addressed, this warning will continue to be raised and will throw an error at run_compute.\n",
      "Wed, 24 Feb 2021 10:41 BUNDLE       WARNING ld_mode='interp' not supported by 'ellc' backend used by compute='ellcbackend'.  Change ld_mode@primary@lc01.  If not addressed, this warning will continue to be raised and will throw an error at run_compute.\n",
      "Wed, 24 Feb 2021 10:41 BUNDLE       WARNING ld_mode='interp' not supported by 'jktebop' backend used by compute='jktebopcompute'.  Change ld_mode@primary@lc01.  If not addressed, this warning will continue to be raised and will throw an error at run_compute.\n",
      "Wed, 24 Feb 2021 10:41 BUNDLE       WARNING ld_mode='interp' not supported by 'legacy' backend used by compute='legacybackend'.  Change ld_mode@secondary@lc01.  If not addressed, this warning will continue to be raised and will throw an error at run_compute.\n",
      "Wed, 24 Feb 2021 10:41 BUNDLE       WARNING ld_mode='interp' not supported by 'ellc' backend used by compute='ellcbackend'.  Change ld_mode@secondary@lc01.  If not addressed, this warning will continue to be raised and will throw an error at run_compute.\n",
      "Wed, 24 Feb 2021 10:41 BUNDLE       WARNING ld_mode='interp' not supported by 'jktebop' backend used by compute='jktebopcompute'.  Change ld_mode@secondary@lc01.  If not addressed, this warning will continue to be raised and will throw an error at run_compute.\n",
      "Wed, 24 Feb 2021 10:41 BUNDLE       WARNING ld_mode='interp' not supported by 'legacy' backend used by compute='legacybackend'.  Change ld_mode@secondary@lc01.  If not addressed, this warning will continue to be raised and will throw an error at run_compute.\n",
      "Wed, 24 Feb 2021 10:41 BUNDLE       WARNING ld_mode='interp' not supported by 'ellc' backend used by compute='ellcbackend'.  Change ld_mode@secondary@lc01.  If not addressed, this warning will continue to be raised and will throw an error at run_compute.\n",
      "Wed, 24 Feb 2021 10:41 BUNDLE       WARNING ld_mode='interp' not supported by 'jktebop' backend used by compute='jktebopcompute'.  Change ld_mode@secondary@lc01.  If not addressed, this warning will continue to be raised and will throw an error at run_compute.\n"
     ]
    }
   ],
   "source": [
    "b.set_value_all(qualifier='ld_mode', value='manual')"
   ]
  },
  {
   "cell_type": "code",
   "execution_count": 12,
   "metadata": {},
   "outputs": [],
   "source": [
    "b.set_value_all(qualifier='ld_func', value='logarithmic')"
   ]
  },
  {
   "cell_type": "code",
   "execution_count": 13,
   "metadata": {},
   "outputs": [
    {
     "name": "stderr",
     "output_type": "stream",
     "text": [
      "Wed, 24 Feb 2021 10:41 IO           WARNING requiv_max@primary@star@component has no phoebe 1 corollary\n",
      "Wed, 24 Feb 2021 10:41 IO           WARNING logg@primary@star@component has no phoebe 1 corollary\n",
      "Wed, 24 Feb 2021 10:41 IO           WARNING freq@primary@star@component has no phoebe 1 corollary\n",
      "Wed, 24 Feb 2021 10:41 IO           WARNING pitch@primary@star@component has no phoebe 1 corollary\n",
      "Wed, 24 Feb 2021 10:41 IO           WARNING yaw@primary@star@component has no phoebe 1 corollary\n",
      "Wed, 24 Feb 2021 10:41 IO           WARNING long_an@primary@star@component has no phoebe 1 corollary\n",
      "Wed, 24 Feb 2021 10:41 IO           WARNING irrad_frac_lost_bol@primary@star@component has no phoebe 1 corollary\n",
      "Wed, 24 Feb 2021 10:41 IO           WARNING ld_mode_bol@primary@star@component has no phoebe 1 corollary\n",
      "Wed, 24 Feb 2021 10:41 IO           WARNING ld_func_bol@primary@star@component has no phoebe 1 corollary\n",
      "Wed, 24 Feb 2021 10:41 IO           WARNING ld_coeffs_source_bol@primary@star@component has no phoebe 1 corollary\n",
      "Wed, 24 Feb 2021 10:41 IO           WARNING mass@primary@star@component has no phoebe 1 corollary\n",
      "Wed, 24 Feb 2021 10:41 IO           WARNING asini@primary@star@component has no phoebe 1 corollary\n",
      "Wed, 24 Feb 2021 10:41 IO           WARNING requiv_max@secondary@star@component has no phoebe 1 corollary\n",
      "Wed, 24 Feb 2021 10:41 IO           WARNING logg@secondary@star@component has no phoebe 1 corollary\n",
      "Wed, 24 Feb 2021 10:41 IO           WARNING freq@secondary@star@component has no phoebe 1 corollary\n",
      "Wed, 24 Feb 2021 10:41 IO           WARNING pitch@secondary@star@component has no phoebe 1 corollary\n",
      "Wed, 24 Feb 2021 10:41 IO           WARNING yaw@secondary@star@component has no phoebe 1 corollary\n",
      "Wed, 24 Feb 2021 10:41 IO           WARNING long_an@secondary@star@component has no phoebe 1 corollary\n",
      "Wed, 24 Feb 2021 10:41 IO           WARNING irrad_frac_lost_bol@secondary@star@component has no phoebe 1 corollary\n",
      "Wed, 24 Feb 2021 10:41 IO           WARNING ld_mode_bol@secondary@star@component has no phoebe 1 corollary\n",
      "Wed, 24 Feb 2021 10:41 IO           WARNING ld_func_bol@secondary@star@component has no phoebe 1 corollary\n",
      "Wed, 24 Feb 2021 10:41 IO           WARNING ld_coeffs_source_bol@secondary@star@component has no phoebe 1 corollary\n",
      "Wed, 24 Feb 2021 10:41 IO           WARNING mass@secondary@star@component has no phoebe 1 corollary\n",
      "Wed, 24 Feb 2021 10:41 IO           WARNING asini@secondary@star@component has no phoebe 1 corollary\n",
      "Wed, 24 Feb 2021 10:41 IO           WARNING intens_weighting@lc01@lc@dataset has no phoebe 1 corollary\n",
      "Wed, 24 Feb 2021 10:41 IO           WARNING compute_times@lc01@lc@dataset has no phoebe 1 corollary\n",
      "Wed, 24 Feb 2021 10:41 IO           WARNING compute_phases@binary@lc01@lc@dataset has no phoebe 1 corollary\n",
      "Wed, 24 Feb 2021 10:41 IO           WARNING phases_period@binary@lc01@lc@dataset has no phoebe 1 corollary\n",
      "Wed, 24 Feb 2021 10:41 IO           WARNING phases_dpdt@binary@lc01@lc@dataset has no phoebe 1 corollary\n",
      "Wed, 24 Feb 2021 10:41 IO           WARNING phases_t0@binary@lc01@lc@dataset has no phoebe 1 corollary\n",
      "Wed, 24 Feb 2021 10:41 IO           WARNING mask_enabled@lc01@lc@dataset has no phoebe 1 corollary\n",
      "Wed, 24 Feb 2021 10:41 IO           WARNING mask_phases@binary@lc01@lc@dataset has no phoebe 1 corollary\n",
      "Wed, 24 Feb 2021 10:41 IO           WARNING solver_times@lc01@lc@dataset has no phoebe 1 corollary\n",
      "Wed, 24 Feb 2021 10:41 IO           WARNING sigmas_lnf@lc01@lc@dataset has no phoebe 1 corollary\n",
      "Wed, 24 Feb 2021 10:41 IO           WARNING pblum_mode@lc01@lc@dataset has no phoebe 1 corollary\n",
      "Wed, 24 Feb 2021 10:41 IO           WARNING pblum_component@lc01@lc@dataset has no phoebe 1 corollary\n",
      "Wed, 24 Feb 2021 10:41 IO           WARNING pblum_dataset@lc01@lc@dataset has no phoebe 1 corollary\n",
      "Wed, 24 Feb 2021 10:41 IO           WARNING pbflux@lc01@lc@dataset has no phoebe 1 corollary\n",
      "Wed, 24 Feb 2021 10:41 IO           WARNING Finite integration Time is not fully supported and will be turned off by legacy wrapper before computation\n",
      "Wed, 24 Feb 2021 10:41 IO           WARNING fti_method@lc01@phoebe01@phoebe@compute has no phoebe 1 corollary\n",
      "Wed, 24 Feb 2021 10:41 IO           WARNING fti_oversample@lc01@phoebe01@phoebe@compute has no phoebe 1 corollary\n",
      "Wed, 24 Feb 2021 10:41 IO           WARNING ld_mode@primary@lc01@lc@dataset has no phoebe 1 corollary\n",
      "Wed, 24 Feb 2021 10:41 IO           WARNING ld_mode@secondary@lc01@lc@dataset has no phoebe 1 corollary\n",
      "Wed, 24 Feb 2021 10:41 IO           WARNING ld_coeffs_source@primary@lc01@lc@dataset has no phoebe 1 corollary\n",
      "Wed, 24 Feb 2021 10:41 IO           WARNING ld_coeffs_source@secondary@lc01@lc@dataset has no phoebe 1 corollary\n",
      "Wed, 24 Feb 2021 10:41 IO           WARNING fti_method@lc01@legacybackend@legacy@compute has no phoebe 1 corollary\n",
      "Wed, 24 Feb 2021 10:41 IO           WARNING fti_oversample@lc01@legacybackend@legacy@compute has no phoebe 1 corollary\n",
      "Wed, 24 Feb 2021 10:41 IO           WARNING fti_method@lc01@ellcbackend@ellc@compute has no phoebe 1 corollary\n",
      "Wed, 24 Feb 2021 10:41 IO           WARNING fti_oversample@lc01@ellcbackend@ellc@compute has no phoebe 1 corollary\n",
      "Wed, 24 Feb 2021 10:41 IO           WARNING fti_method@lc01@jktebopcompute@jktebop@compute has no phoebe 1 corollary\n",
      "Wed, 24 Feb 2021 10:41 IO           WARNING fti_oversample@lc01@jktebopcompute@jktebop@compute has no phoebe 1 corollary\n",
      "Wed, 24 Feb 2021 10:41 IO           WARNING fti_method@lc01@phoebebackend@phoebe@compute has no phoebe 1 corollary\n",
      "Wed, 24 Feb 2021 10:41 IO           WARNING fti_oversample@lc01@phoebebackend@phoebe@compute has no phoebe 1 corollary\n",
      "Wed, 24 Feb 2021 10:41 IO           WARNING freq@binary@orbit@component has no phoebe 1 corollary\n",
      "Wed, 24 Feb 2021 10:41 IO           WARNING t0_perpass@binary@orbit@component has no phoebe 1 corollary\n",
      "Wed, 24 Feb 2021 10:41 IO           WARNING t0_supconj@binary@orbit@component has no phoebe 1 corollary\n",
      "Wed, 24 Feb 2021 10:41 IO           WARNING mean_anom@binary@orbit@component has no phoebe 1 corollary\n",
      "Wed, 24 Feb 2021 10:41 IO           WARNING long_an@binary@orbit@component has no phoebe 1 corollary\n",
      "Wed, 24 Feb 2021 10:41 IO           WARNING asini@binary@orbit@component has no phoebe 1 corollary\n",
      "Wed, 24 Feb 2021 10:41 IO           WARNING ecosw@binary@orbit@component has no phoebe 1 corollary\n",
      "Wed, 24 Feb 2021 10:41 IO           WARNING esinw@binary@orbit@component has no phoebe 1 corollary\n",
      "Wed, 24 Feb 2021 10:41 IO           WARNING sample_from@legacybackend@legacy@compute has no phoebe 1 corollary\n",
      "Wed, 24 Feb 2021 10:41 IO           WARNING comments@legacybackend@legacy@compute has no phoebe 1 corollary\n",
      "Wed, 24 Feb 2021 10:41 IO           WARNING pblum_method@legacybackend@legacy@compute has no phoebe 1 corollary\n",
      "Wed, 24 Feb 2021 10:41 IO           WARNING irrad_method@legacybackend@legacy@compute has no phoebe 1 corollary\n",
      "Wed, 24 Feb 2021 10:41 IO           WARNING distortion_method@primary@legacybackend@legacy@compute has no phoebe 1 corollary\n",
      "Wed, 24 Feb 2021 10:41 IO           WARNING distortion_method@secondary@legacybackend@legacy@compute has no phoebe 1 corollary\n",
      "Wed, 24 Feb 2021 10:41 IO           WARNING fti_method@lc01@legacybackend@legacy@compute has no phoebe 1 corollary\n",
      "Wed, 24 Feb 2021 10:41 IO           WARNING t0@system has no phoebe 1 corollary\n",
      "Wed, 24 Feb 2021 10:41 IO           WARNING ra@system has no phoebe 1 corollary\n",
      "Wed, 24 Feb 2021 10:41 IO           WARNING dec@system has no phoebe 1 corollary\n",
      "Wed, 24 Feb 2021 10:41 IO           WARNING distance@system has no phoebe 1 corollary\n",
      "Wed, 24 Feb 2021 10:41 IO           WARNING ebv@system has no phoebe 1 corollary\n",
      "Wed, 24 Feb 2021 10:41 IO           WARNING Av@system has no phoebe 1 corollary\n",
      "Wed, 24 Feb 2021 10:41 IO           WARNING Rv@system has no phoebe 1 corollary\n",
      "Wed, 24 Feb 2021 10:41 IO           WARNING hierarchy@system has no phoebe 1 corollary\n",
      "100%|██████████| 1/1 [00:01<00:00,  1.04s/it]\n"
     ]
    },
    {
     "data": {
      "text/plain": [
       "<ParameterSet: 3 parameters | qualifiers: times, fluxes, comments>"
      ]
     },
     "execution_count": 13,
     "metadata": {},
     "output_type": "execute_result"
    }
   ],
   "source": [
    "b.run_compute('legacybackend', model='legacyresults')"
   ]
  },
  {
   "cell_type": "markdown",
   "metadata": {},
   "source": [
    "Running Multiple Backends Simultaneously\n",
    "---------------------------------------------------\n",
    "\n",
    "Running multiple backends simultaneously is just as simple as running the PHOEBE backend with multiple sets of compute options (see [Compute](compute.html)).\n",
    "\n",
    "We just need to make sure that each dataset is only enabled for one (or none) of the backends that we want to use, and then send a list of the compute tags to run_compute.  Here we'll use the PHOEBE backend to compute orbits and the legacy backend to compute light curves."
   ]
  },
  {
   "cell_type": "code",
   "execution_count": 14,
   "metadata": {},
   "outputs": [
    {
     "name": "stdout",
     "output_type": "stream",
     "text": [
      "ParameterSet: 7 parameters\n",
      "   enabled@orb01@phoebe01@compute: True\n",
      "    enabled@lc01@phoebe01@compute: True\n",
      "    enabled@legacybackend@compute: True\n",
      "      enabled@ellcbackend@compute: True\n",
      "   enabled@jktebopcompute@compute: True\n",
      "   enabled@orb01@phoebebackend...: True\n",
      "   enabled@lc01@phoebebackend@...: False\n"
     ]
    }
   ],
   "source": [
    "b.set_value_all(qualifier='enabled', dataset='lc01', compute='phoebebackend', value=False)\n",
    "#b.set_value_all(qualifier='enabled', dataset='orb01', compute='legacybackend', value=False)  # don't need this since legacy NEVER computes orbits\n",
    "print(b.filter(qualifier='enabled'))"
   ]
  },
  {
   "cell_type": "code",
   "execution_count": 15,
   "metadata": {},
   "outputs": [
    {
     "name": "stderr",
     "output_type": "stream",
     "text": [
      "100%|██████████| 1000/1000 [00:00<00:00, 4767.99it/s]\n",
      "Wed, 24 Feb 2021 10:41 IO           WARNING requiv_max@primary@star@component has no phoebe 1 corollary\n",
      "Wed, 24 Feb 2021 10:41 IO           WARNING logg@primary@star@component has no phoebe 1 corollary\n",
      "Wed, 24 Feb 2021 10:41 IO           WARNING freq@primary@star@component has no phoebe 1 corollary\n",
      "Wed, 24 Feb 2021 10:41 IO           WARNING pitch@primary@star@component has no phoebe 1 corollary\n",
      "Wed, 24 Feb 2021 10:41 IO           WARNING yaw@primary@star@component has no phoebe 1 corollary\n",
      "Wed, 24 Feb 2021 10:41 IO           WARNING long_an@primary@star@component has no phoebe 1 corollary\n",
      "Wed, 24 Feb 2021 10:41 IO           WARNING irrad_frac_lost_bol@primary@star@component has no phoebe 1 corollary\n",
      "Wed, 24 Feb 2021 10:41 IO           WARNING ld_mode_bol@primary@star@component has no phoebe 1 corollary\n",
      "Wed, 24 Feb 2021 10:41 IO           WARNING ld_func_bol@primary@star@component has no phoebe 1 corollary\n",
      "Wed, 24 Feb 2021 10:41 IO           WARNING ld_coeffs_source_bol@primary@star@component has no phoebe 1 corollary\n",
      "Wed, 24 Feb 2021 10:41 IO           WARNING mass@primary@star@component has no phoebe 1 corollary\n",
      "Wed, 24 Feb 2021 10:41 IO           WARNING asini@primary@star@component has no phoebe 1 corollary\n",
      "Wed, 24 Feb 2021 10:41 IO           WARNING requiv_max@secondary@star@component has no phoebe 1 corollary\n",
      "Wed, 24 Feb 2021 10:41 IO           WARNING logg@secondary@star@component has no phoebe 1 corollary\n",
      "Wed, 24 Feb 2021 10:41 IO           WARNING freq@secondary@star@component has no phoebe 1 corollary\n",
      "Wed, 24 Feb 2021 10:41 IO           WARNING pitch@secondary@star@component has no phoebe 1 corollary\n",
      "Wed, 24 Feb 2021 10:41 IO           WARNING yaw@secondary@star@component has no phoebe 1 corollary\n",
      "Wed, 24 Feb 2021 10:41 IO           WARNING long_an@secondary@star@component has no phoebe 1 corollary\n",
      "Wed, 24 Feb 2021 10:41 IO           WARNING irrad_frac_lost_bol@secondary@star@component has no phoebe 1 corollary\n",
      "Wed, 24 Feb 2021 10:41 IO           WARNING ld_mode_bol@secondary@star@component has no phoebe 1 corollary\n",
      "Wed, 24 Feb 2021 10:41 IO           WARNING ld_func_bol@secondary@star@component has no phoebe 1 corollary\n",
      "Wed, 24 Feb 2021 10:41 IO           WARNING ld_coeffs_source_bol@secondary@star@component has no phoebe 1 corollary\n",
      "Wed, 24 Feb 2021 10:41 IO           WARNING mass@secondary@star@component has no phoebe 1 corollary\n",
      "Wed, 24 Feb 2021 10:41 IO           WARNING asini@secondary@star@component has no phoebe 1 corollary\n",
      "Wed, 24 Feb 2021 10:41 IO           WARNING intens_weighting@lc01@lc@dataset has no phoebe 1 corollary\n",
      "Wed, 24 Feb 2021 10:41 IO           WARNING compute_times@lc01@lc@dataset has no phoebe 1 corollary\n",
      "Wed, 24 Feb 2021 10:41 IO           WARNING compute_phases@binary@lc01@lc@dataset has no phoebe 1 corollary\n",
      "Wed, 24 Feb 2021 10:41 IO           WARNING phases_period@binary@lc01@lc@dataset has no phoebe 1 corollary\n",
      "Wed, 24 Feb 2021 10:41 IO           WARNING phases_dpdt@binary@lc01@lc@dataset has no phoebe 1 corollary\n",
      "Wed, 24 Feb 2021 10:41 IO           WARNING phases_t0@binary@lc01@lc@dataset has no phoebe 1 corollary\n",
      "Wed, 24 Feb 2021 10:41 IO           WARNING mask_enabled@lc01@lc@dataset has no phoebe 1 corollary\n",
      "Wed, 24 Feb 2021 10:41 IO           WARNING mask_phases@binary@lc01@lc@dataset has no phoebe 1 corollary\n",
      "Wed, 24 Feb 2021 10:41 IO           WARNING solver_times@lc01@lc@dataset has no phoebe 1 corollary\n",
      "Wed, 24 Feb 2021 10:41 IO           WARNING sigmas_lnf@lc01@lc@dataset has no phoebe 1 corollary\n",
      "Wed, 24 Feb 2021 10:41 IO           WARNING pblum_mode@lc01@lc@dataset has no phoebe 1 corollary\n",
      "Wed, 24 Feb 2021 10:41 IO           WARNING pblum_component@lc01@lc@dataset has no phoebe 1 corollary\n",
      "Wed, 24 Feb 2021 10:41 IO           WARNING pblum_dataset@lc01@lc@dataset has no phoebe 1 corollary\n",
      "Wed, 24 Feb 2021 10:41 IO           WARNING pbflux@lc01@lc@dataset has no phoebe 1 corollary\n",
      "Wed, 24 Feb 2021 10:41 IO           WARNING Finite integration Time is not fully supported and will be turned off by legacy wrapper before computation\n",
      "Wed, 24 Feb 2021 10:41 IO           WARNING fti_method@lc01@phoebe01@phoebe@compute has no phoebe 1 corollary\n",
      "Wed, 24 Feb 2021 10:41 IO           WARNING fti_oversample@lc01@phoebe01@phoebe@compute has no phoebe 1 corollary\n",
      "Wed, 24 Feb 2021 10:41 IO           WARNING ld_mode@primary@lc01@lc@dataset has no phoebe 1 corollary\n",
      "Wed, 24 Feb 2021 10:41 IO           WARNING ld_mode@secondary@lc01@lc@dataset has no phoebe 1 corollary\n",
      "Wed, 24 Feb 2021 10:41 IO           WARNING ld_coeffs_source@primary@lc01@lc@dataset has no phoebe 1 corollary\n",
      "Wed, 24 Feb 2021 10:41 IO           WARNING ld_coeffs_source@secondary@lc01@lc@dataset has no phoebe 1 corollary\n",
      "Wed, 24 Feb 2021 10:41 IO           WARNING fti_method@lc01@legacybackend@legacy@compute has no phoebe 1 corollary\n",
      "Wed, 24 Feb 2021 10:41 IO           WARNING fti_oversample@lc01@legacybackend@legacy@compute has no phoebe 1 corollary\n",
      "Wed, 24 Feb 2021 10:41 IO           WARNING fti_method@lc01@ellcbackend@ellc@compute has no phoebe 1 corollary\n",
      "Wed, 24 Feb 2021 10:41 IO           WARNING fti_oversample@lc01@ellcbackend@ellc@compute has no phoebe 1 corollary\n",
      "Wed, 24 Feb 2021 10:41 IO           WARNING fti_method@lc01@jktebopcompute@jktebop@compute has no phoebe 1 corollary\n",
      "Wed, 24 Feb 2021 10:41 IO           WARNING fti_oversample@lc01@jktebopcompute@jktebop@compute has no phoebe 1 corollary\n",
      "Wed, 24 Feb 2021 10:41 IO           WARNING fti_method@lc01@phoebebackend@phoebe@compute has no phoebe 1 corollary\n",
      "Wed, 24 Feb 2021 10:41 IO           WARNING fti_oversample@lc01@phoebebackend@phoebe@compute has no phoebe 1 corollary\n",
      "Wed, 24 Feb 2021 10:41 IO           WARNING freq@binary@orbit@component has no phoebe 1 corollary\n",
      "Wed, 24 Feb 2021 10:41 IO           WARNING t0_perpass@binary@orbit@component has no phoebe 1 corollary\n",
      "Wed, 24 Feb 2021 10:41 IO           WARNING t0_supconj@binary@orbit@component has no phoebe 1 corollary\n",
      "Wed, 24 Feb 2021 10:41 IO           WARNING mean_anom@binary@orbit@component has no phoebe 1 corollary\n",
      "Wed, 24 Feb 2021 10:41 IO           WARNING long_an@binary@orbit@component has no phoebe 1 corollary\n",
      "Wed, 24 Feb 2021 10:41 IO           WARNING asini@binary@orbit@component has no phoebe 1 corollary\n",
      "Wed, 24 Feb 2021 10:41 IO           WARNING ecosw@binary@orbit@component has no phoebe 1 corollary\n",
      "Wed, 24 Feb 2021 10:41 IO           WARNING esinw@binary@orbit@component has no phoebe 1 corollary\n",
      "Wed, 24 Feb 2021 10:41 IO           WARNING sample_from@legacybackend@legacy@compute has no phoebe 1 corollary\n",
      "Wed, 24 Feb 2021 10:41 IO           WARNING comments@legacybackend@legacy@compute has no phoebe 1 corollary\n",
      "Wed, 24 Feb 2021 10:41 IO           WARNING pblum_method@legacybackend@legacy@compute has no phoebe 1 corollary\n",
      "Wed, 24 Feb 2021 10:41 IO           WARNING irrad_method@legacybackend@legacy@compute has no phoebe 1 corollary\n",
      "Wed, 24 Feb 2021 10:41 IO           WARNING distortion_method@primary@legacybackend@legacy@compute has no phoebe 1 corollary\n",
      "Wed, 24 Feb 2021 10:41 IO           WARNING distortion_method@secondary@legacybackend@legacy@compute has no phoebe 1 corollary\n",
      "Wed, 24 Feb 2021 10:41 IO           WARNING fti_method@lc01@legacybackend@legacy@compute has no phoebe 1 corollary\n",
      "Wed, 24 Feb 2021 10:41 IO           WARNING t0@system has no phoebe 1 corollary\n",
      "Wed, 24 Feb 2021 10:41 IO           WARNING ra@system has no phoebe 1 corollary\n",
      "Wed, 24 Feb 2021 10:41 IO           WARNING dec@system has no phoebe 1 corollary\n",
      "Wed, 24 Feb 2021 10:41 IO           WARNING distance@system has no phoebe 1 corollary\n",
      "Wed, 24 Feb 2021 10:41 IO           WARNING ebv@system has no phoebe 1 corollary\n",
      "Wed, 24 Feb 2021 10:41 IO           WARNING Av@system has no phoebe 1 corollary\n",
      "Wed, 24 Feb 2021 10:41 IO           WARNING Rv@system has no phoebe 1 corollary\n",
      "Wed, 24 Feb 2021 10:41 IO           WARNING hierarchy@system has no phoebe 1 corollary\n",
      "100%|██████████| 1/1 [00:00<00:00,  2.25it/s]\n"
     ]
    },
    {
     "data": {
      "text/plain": [
       "<ParameterSet: 18 parameters | kinds: orb, lc>"
      ]
     },
     "execution_count": 15,
     "metadata": {},
     "output_type": "execute_result"
    }
   ],
   "source": [
    "b.run_compute(['phoebebackend', 'legacybackend'], model='mixedresults')"
   ]
  },
  {
   "cell_type": "markdown",
   "metadata": {},
   "source": [
    "The parameters inside the returned model even remember which set of compute options (and therefore, in this case, which backend) were used to compute them."
   ]
  },
  {
   "cell_type": "code",
   "execution_count": 16,
   "metadata": {
    "scrolled": true
   },
   "outputs": [
    {
     "name": "stdout",
     "output_type": "stream",
     "text": [
      "['phoebebackend', 'legacybackend']\n"
     ]
    }
   ],
   "source": [
    "print(b.filter(model='mixedresults').computes)"
   ]
  },
  {
   "cell_type": "code",
   "execution_count": 17,
   "metadata": {},
   "outputs": [
    {
     "data": {
      "text/plain": [
       "['orb01']"
      ]
     },
     "execution_count": 17,
     "metadata": {},
     "output_type": "execute_result"
    }
   ],
   "source": [
    "b.filter(model='mixedresults', compute='phoebebackend').datasets"
   ]
  },
  {
   "cell_type": "code",
   "execution_count": 18,
   "metadata": {},
   "outputs": [
    {
     "data": {
      "text/plain": [
       "['lc01']"
      ]
     },
     "execution_count": 18,
     "metadata": {},
     "output_type": "execute_result"
    }
   ],
   "source": [
    "b.filter(model='mixedresults', compute='legacybackend').datasets"
   ]
  }
 ],
 "metadata": {
  "kernelspec": {
   "display_name": "Python 3",
   "language": "python",
   "name": "python3"
  },
  "language_info": {
   "codemirror_mode": {
    "name": "ipython",
    "version": 3
   },
   "file_extension": ".py",
   "mimetype": "text/x-python",
   "name": "python",
   "nbconvert_exporter": "python",
   "pygments_lexer": "ipython3",
   "version": "3.8.5"
  }
 },
 "nbformat": 4,
 "nbformat_minor": 1
}
