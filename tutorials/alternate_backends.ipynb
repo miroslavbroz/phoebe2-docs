{
 "cells": [
  {
   "cell_type": "markdown",
   "metadata": {},
   "source": [
    "[IPython Notebook](alternate_backends.ipynb) |  [Python Script](alternate_backends.py)"
   ]
  },
  {
   "cell_type": "markdown",
   "metadata": {},
   "source": [
    "Advanced: Alternate Backends\n",
    "============================\n",
    "\n",
    "Setup\n",
    "-----------------------------"
   ]
  },
  {
   "cell_type": "markdown",
   "metadata": {},
   "source": [
    "As always, let's do imports and initialize a logger and a new Bundle.  See [Building a System](building_a_system.html) for more details."
   ]
  },
  {
   "cell_type": "code",
   "execution_count": 1,
   "metadata": {
    "collapsed": false
   },
   "outputs": [
    {
     "name": "stderr",
     "output_type": "stream",
     "text": [
      "WARNING: Constant u'Gravitational constant' is already has a definition in the u'si' system [astropy.constants.constant]\n",
      "WARNING: Constant u'Solar mass' is already has a definition in the u'si' system [astropy.constants.constant]\n",
      "WARNING: Constant u'Solar radius' is already has a definition in the u'si' system [astropy.constants.constant]\n",
      "WARNING: Constant u'Solar luminosity' is already has a definition in the u'si' system [astropy.constants.constant]\n",
      "/usr/local/lib/python2.7/dist-packages/astropy/units/quantity.py:782: FutureWarning: comparison to `None` will result in an elementwise object comparison in the future.\n",
      "  return super(Quantity, self).__eq__(other)\n"
     ]
    }
   ],
   "source": [
    "import phoebe\n",
    "from phoebe import u # units\n",
    "import numpy as np\n",
    "import matplotlib.pyplot as plt\n",
    "\n",
    "logger = phoebe.logger()\n",
    "\n",
    "b = phoebe.default_binary()"
   ]
  },
  {
   "cell_type": "markdown",
   "metadata": {},
   "source": [
    "And we'll attach some dummy datasets.  See [Datasets](datasets.html) for more details."
   ]
  },
  {
   "cell_type": "code",
   "execution_count": 2,
   "metadata": {
    "collapsed": false
   },
   "outputs": [
    {
     "data": {
      "text/plain": [
       "<ParameterSet: 2 parameters | components: primary, secondary>"
      ]
     },
     "execution_count": 2,
     "metadata": {},
     "output_type": "execute_result"
    }
   ],
   "source": [
    "b.add_dataset('orb', times=np.linspace(0,10,1000), dataset='orb01', component=['primary', 'secondary'])"
   ]
  },
  {
   "cell_type": "code",
   "execution_count": 3,
   "metadata": {
    "collapsed": false
   },
   "outputs": [
    {
     "data": {
      "text/plain": [
       "<ParameterSet: 12 parameters | kinds: lc, lc_dep>"
      ]
     },
     "execution_count": 3,
     "metadata": {},
     "output_type": "execute_result"
    }
   ],
   "source": [
    "b.add_dataset('lc', times=np.linspace(0,10,1000), dataset='lc01')"
   ]
  },
  {
   "cell_type": "markdown",
   "metadata": {
    "collapsed": true
   },
   "source": [
    "Available Backends\n",
    "----------------------------\n",
    "\n",
    "See the [Compute Tutorial](./compute) for details on adding compute options and using them to create synthetic models.\n"
   ]
  },
  {
   "cell_type": "markdown",
   "metadata": {},
   "source": [
    "### PHOEBE 1.0 Legacy\n",
    "\n",
    "For more details, see [Comparing PHOEBE 2.0 vs PHOEBE Legacy](../examples/legacy)"
   ]
  },
  {
   "cell_type": "code",
   "execution_count": 4,
   "metadata": {
    "collapsed": false
   },
   "outputs": [
    {
     "name": "stdout",
     "output_type": "stream",
     "text": [
      "ParameterSet: 11 parameters\n",
      "  protomesh@legacycompute@com...: False\n",
      "    pbmesh@legacycompute@compute: False\n",
      "  morphology@legacycompute@co...: Detached binary\n",
      "    cindex@legacycompute@compute: False\n",
      "  refl_num@legacycompute@compute: 1\n",
      "        ie@legacycompute@compute: False\n",
      "   enabled@legacycompute@compute: True\n",
      "  atm@primary@legacycompute@c...: kurucz\n",
      "  atm@secondary@legacycompute...: kurucz\n",
      "  gridsize@primary@legacycomp...: 40\n",
      "  gridsize@secondary@legacyco...: 40\n"
     ]
    }
   ],
   "source": [
    "b.add_compute('legacy', compute='legacycompute')\n",
    "print b['legacycompute']"
   ]
  },
  {
   "cell_type": "markdown",
   "metadata": {},
   "source": [
    "Using Alternate Backends\n",
    "---------------------------------\n"
   ]
  },
  {
   "cell_type": "markdown",
   "metadata": {},
   "source": [
    "### Adding Compute Options\n",
    "\n",
    "Adding a set of compute options for an alternate backend is just as easy as for the PHOEBE backend.  Simply provide the function or name of the function in phoebe.parameters.compute that points to the parameters for that backend.\n",
    "\n",
    "Here we'll add the default PHOEBE backend as well as photodynam by Josh Carter.  Note that in order to use an alternate backend, that backend must be installed on your machine."
   ]
  },
  {
   "cell_type": "code",
   "execution_count": 5,
   "metadata": {
    "collapsed": false,
    "scrolled": true
   },
   "outputs": [
    {
     "data": {
      "text/plain": [
       "<ParameterSet: 22 parameters | datasets: lc01, orb01>"
      ]
     },
     "execution_count": 5,
     "metadata": {},
     "output_type": "execute_result"
    }
   ],
   "source": [
    "b.add_compute('phoebe', compute='phoebebackend')"
   ]
  },
  {
   "cell_type": "code",
   "execution_count": 6,
   "metadata": {
    "collapsed": false
   },
   "outputs": [
    {
     "name": "stdout",
     "output_type": "stream",
     "text": [
      "ParameterSet: 22 parameters\n",
      "  dynamics_method@phoebebacke...: keplerian\n",
      "      ltte@phoebebackend@compute: False\n",
      "  reflection_method@phoebebac...: wilson\n",
      "  boosting_method@phoebebacke...: none\n",
      "  protomesh@phoebebackend@com...: False\n",
      "    pbmesh@phoebebackend@compute: False\n",
      "  eclipse_method@phoebebacken...: native\n",
      "  horizon_method@phoebebacken...: boolean\n",
      "  enabled@lc01@phoebebackend@...: True\n",
      "  enabled@orb01@phoebebackend...: True\n",
      "  mesh_method@primary@phoebeb...: marching\n",
      "  mesh_method@secondary@phoeb...: marching\n",
      "  delta@primary@phoebebackend...: 0.1\n",
      "  delta@secondary@phoebebacke...: 0.1\n",
      "  maxpoints@primary@phoebebac...: 100000\n",
      "  maxpoints@secondary@phoebeb...: 100000\n",
      "  distortion_method@primary@p...: roche\n",
      "  distortion_method@secondary...: roche\n",
      "  atm@primary@phoebebackend@c...: ck2004\n",
      "  atm@secondary@phoebebackend...: ck2004\n",
      "  lc_method@phoebebackend@com...: numerical\n",
      "  fti_method@phoebebackend@co...: None\n"
     ]
    }
   ],
   "source": [
    "print b['phoebebackend']"
   ]
  },
  {
   "cell_type": "code",
   "execution_count": 7,
   "metadata": {
    "collapsed": false
   },
   "outputs": [
    {
     "data": {
      "text/plain": [
       "<ParameterSet: 11 parameters | components: primary, secondary>"
      ]
     },
     "execution_count": 7,
     "metadata": {},
     "output_type": "execute_result"
    }
   ],
   "source": [
    "b.add_compute('legacy', compute='legacybackend')"
   ]
  },
  {
   "cell_type": "code",
   "execution_count": 8,
   "metadata": {
    "collapsed": false,
    "scrolled": true
   },
   "outputs": [
    {
     "name": "stdout",
     "output_type": "stream",
     "text": [
      "ParameterSet: 11 parameters\n",
      "  protomesh@legacybackend@com...: False\n",
      "    pbmesh@legacybackend@compute: False\n",
      "  morphology@legacybackend@co...: Detached binary\n",
      "    cindex@legacybackend@compute: False\n",
      "  refl_num@legacybackend@compute: 1\n",
      "        ie@legacybackend@compute: False\n",
      "  enabled@lc01@legacybackend@...: True\n",
      "  atm@primary@legacybackend@c...: kurucz\n",
      "  atm@secondary@legacybackend...: kurucz\n",
      "  gridsize@primary@legacyback...: 40\n",
      "  gridsize@secondary@legacyba...: 40\n"
     ]
    }
   ],
   "source": [
    "print b['legacybackend']"
   ]
  },
  {
   "cell_type": "markdown",
   "metadata": {},
   "source": [
    "### Running Compute\n",
    "\n",
    "Nothing changes for running compute - simply provide the compute tag for those options.  Do note, however, that not all backends support all dataset types.  And some will raise errors - for instance, legacy doesn't support ld_func=='interp' so we'll have to change it to a supported option manually."
   ]
  },
  {
   "cell_type": "code",
   "execution_count": 10,
   "metadata": {
    "collapsed": false
   },
   "outputs": [
    {
     "name": "stderr",
     "output_type": "stream",
     "text": [
      "Wed, 21 Sep 2016 14:38 PARAMETERS   WARNING ld_func='interp' only supported by atm='ck2004'\n",
      "Wed, 21 Sep 2016 14:38 PARAMETERS   WARNING ld_func='interp' only supported by atm='ck2004'\n",
      "Wed, 21 Sep 2016 14:38 IO           WARNING rpole has no phoebe 1 corollary\n",
      "Wed, 21 Sep 2016 14:38 IO           WARNING freq has no phoebe 1 corollary\n",
      "Wed, 21 Sep 2016 14:38 IO           WARNING frac_lost_bol has no phoebe 1 corollary\n",
      "Wed, 21 Sep 2016 14:38 IO           WARNING ld_func_bol has no phoebe 1 corollary\n",
      "Wed, 21 Sep 2016 14:38 IO           WARNING mass has no phoebe 1 corollary\n",
      "Wed, 21 Sep 2016 14:38 IO           WARNING rpole has no phoebe 1 corollary\n",
      "Wed, 21 Sep 2016 14:38 IO           WARNING freq has no phoebe 1 corollary\n",
      "Wed, 21 Sep 2016 14:38 IO           WARNING frac_lost_bol has no phoebe 1 corollary\n",
      "Wed, 21 Sep 2016 14:38 IO           WARNING ld_func_bol has no phoebe 1 corollary\n",
      "Wed, 21 Sep 2016 14:38 IO           WARNING mass has no phoebe 1 corollary\n",
      "Wed, 21 Sep 2016 14:38 IO           WARNING intens_weighting has no phoebe 1 corollary\n",
      "Wed, 21 Sep 2016 14:38 IO           WARNING exptime has no phoebe 1 corollary\n",
      "Wed, 21 Sep 2016 14:38 IO           WARNING pblum_ref has no phoebe 1 corollary\n",
      "Wed, 21 Sep 2016 14:38 IO           WARNING pblum_ref has no phoebe 1 corollary\n",
      "Wed, 21 Sep 2016 14:38 IO           WARNING freq has no phoebe 1 corollary\n",
      "Wed, 21 Sep 2016 14:38 IO           WARNING t0_perpass has no phoebe 1 corollary\n",
      "Wed, 21 Sep 2016 14:38 IO           WARNING mean_anom has no phoebe 1 corollary\n",
      "Wed, 21 Sep 2016 14:38 IO           WARNING long_an has no phoebe 1 corollary\n",
      "Wed, 21 Sep 2016 14:38 IO           WARNING asini has no phoebe 1 corollary\n",
      "Wed, 21 Sep 2016 14:38 IO           WARNING ecosw has no phoebe 1 corollary\n",
      "Wed, 21 Sep 2016 14:38 IO           WARNING esinw has no phoebe 1 corollary\n",
      "Wed, 21 Sep 2016 14:38 IO           WARNING protomesh has no phoebe 1 corollary\n",
      "Wed, 21 Sep 2016 14:38 IO           WARNING pbmesh has no phoebe 1 corollary\n",
      "Wed, 21 Sep 2016 14:38 IO           WARNING cindex has no phoebe 1 corollary\n",
      "Wed, 21 Sep 2016 14:38 IO           WARNING protomesh has no phoebe 1 corollary\n",
      "Wed, 21 Sep 2016 14:38 IO           WARNING pbmesh has no phoebe 1 corollary\n",
      "Wed, 21 Sep 2016 14:38 IO           WARNING cindex has no phoebe 1 corollary\n",
      "Wed, 21 Sep 2016 14:38 IO           WARNING t0 has no phoebe 1 corollary\n",
      "Wed, 21 Sep 2016 14:38 IO           WARNING ra has no phoebe 1 corollary\n",
      "Wed, 21 Sep 2016 14:38 IO           WARNING dec has no phoebe 1 corollary\n",
      "Wed, 21 Sep 2016 14:38 IO           WARNING epoch has no phoebe 1 corollary\n",
      "Wed, 21 Sep 2016 14:38 IO           WARNING distance has no phoebe 1 corollary\n",
      "Wed, 21 Sep 2016 14:38 IO           WARNING hierarchy has no phoebe 1 corollary\n"
     ]
    },
    {
     "data": {
      "text/plain": [
       "<ParameterSet: 2 parameters | qualifiers: fluxes, times>"
      ]
     },
     "execution_count": 10,
     "metadata": {},
     "output_type": "execute_result"
    }
   ],
   "source": [
    "b.set_value_all('ld_func', 'logarithmic')\n",
    "b.run_compute('legacybackend', model='pdresults')"
   ]
  },
  {
   "cell_type": "code",
   "execution_count": null,
   "metadata": {
    "collapsed": true
   },
   "outputs": [],
   "source": []
  }
 ],
 "metadata": {
  "kernelspec": {
   "display_name": "Python 2",
   "language": "python",
   "name": "python2"
  },
  "language_info": {
   "codemirror_mode": {
    "name": "ipython",
    "version": 2
   },
   "file_extension": ".py",
   "mimetype": "text/x-python",
   "name": "python",
   "nbconvert_exporter": "python",
   "pygments_lexer": "ipython2",
   "version": "2.7.12"
  }
 },
 "nbformat": 4,
 "nbformat_minor": 0
}
