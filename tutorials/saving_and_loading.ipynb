{
 "cells": [
  {
   "cell_type": "markdown",
   "metadata": {},
   "source": [
    "[IPython Notebook](saving_and_loading.ipynb) |  [Python Script](saving_and_loading.py)"
   ]
  },
  {
   "cell_type": "markdown",
   "metadata": {},
   "source": [
    "Saving and Loading\n",
    "============================\n",
    "\n",
    "Setup\n",
    "-----------------------------"
   ]
  },
  {
   "cell_type": "markdown",
   "metadata": {
    "collapsed": true
   },
   "source": [
    "As always, let's do imports and initialize a logger and a new bundle.  See [Building a System](building_a_system.html) for more details."
   ]
  },
  {
   "cell_type": "code",
   "execution_count": 1,
   "metadata": {
    "collapsed": false
   },
   "outputs": [
    {
     "name": "stderr",
     "output_type": "stream",
     "text": [
      "WARNING: Constant u'Gravitational constant' is already has a definition in the u'si' system [astropy.constants.constant]\n",
      "WARNING: Constant u'Solar mass' is already has a definition in the u'si' system [astropy.constants.constant]\n",
      "WARNING: Constant u'Solar radius' is already has a definition in the u'si' system [astropy.constants.constant]\n",
      "WARNING: Constant u'Solar luminosity' is already has a definition in the u'si' system [astropy.constants.constant]\n",
      "/usr/local/lib/python2.7/dist-packages/astropy/units/quantity.py:782: FutureWarning: comparison to `None` will result in an elementwise object comparison in the future.\n",
      "  return super(Quantity, self).__eq__(other)\n"
     ]
    }
   ],
   "source": [
    "import phoebe\n",
    "from phoebe import u # units\n",
    "import numpy as np\n",
    "import matplotlib.pyplot as plt\n",
    "\n",
    "logger = phoebe.logger()\n",
    "\n",
    "b = phoebe.default_binary()"
   ]
  },
  {
   "cell_type": "markdown",
   "metadata": {},
   "source": [
    "Saving a Bundle\n",
    "-----------------------\n",
    "\n"
   ]
  },
  {
   "cell_type": "code",
   "execution_count": 2,
   "metadata": {
    "collapsed": false
   },
   "outputs": [
    {
     "name": "stderr",
     "output_type": "stream",
     "text": [
      "Wed, 21 Sep 2016 14:11 PARAMETERS   WARNING misaligned orbits are not currently supported.\n",
      "Wed, 21 Sep 2016 14:11 PARAMETERS   WARNING misaligned orbits are not currently supported.\n"
     ]
    }
   ],
   "source": [
    "b['incl@orbit'] = 56.789"
   ]
  },
  {
   "cell_type": "markdown",
   "metadata": {},
   "source": [
    "To save the Bundle to a file, we can call the save method of the Bundle and pass a filename."
   ]
  },
  {
   "cell_type": "code",
   "execution_count": 3,
   "metadata": {
    "collapsed": false
   },
   "outputs": [
    {
     "name": "stdout",
     "output_type": "stream",
     "text": [
      "test.phoebe\n"
     ]
    }
   ],
   "source": [
    "print b.save('test.phoebe')"
   ]
  },
  {
   "cell_type": "markdown",
   "metadata": {},
   "source": [
    "We can now inspect the contents of the created file.\n",
    "\n",
    "This file is in the JSON-format and is simply a list of dictionaries - where each dictionary represents the attributes of a single Parameter.\n",
    "\n",
    "You could edit this file in a text-editor - but do be careful if changing any of the tags.  For example: if you want to change the component tag of one of your stars, make sure to change ALL instances of the component tag to match (as well as the hierarchy Parameter)."
   ]
  },
  {
   "cell_type": "code",
   "execution_count": 4,
   "metadata": {
    "collapsed": false
   },
   "outputs": [
    {
     "name": "stdout",
     "output_type": "stream",
     "text": [
      "[\r\n",
      "{\r\n",
      "\"Class\": \"FloatParameter\",\r\n",
      "\"context\": \"system\",\r\n",
      "\"copy_for\": false,\r\n",
      "\"default_unit\": \"d\",\r\n",
      "\"description\": \"Time at which all values are provided\",\r\n",
      "\"limits\": [\r\n",
      "null,\r\n",
      "null\r\n",
      "],\r\n",
      "\"qualifier\": \"t0\",\r\n",
      "\"value\": 0.0\r\n",
      "},\r\n",
      "{\r\n",
      "\"Class\": \"FloatParameter\",\r\n",
      "\"context\": \"system\",\r\n",
      "\"copy_for\": false,\r\n",
      "\"default_unit\": \"deg\",\r\n",
      "\"description\": \"Right ascension\",\r\n",
      "\"limits\": [\r\n",
      "null,\r\n",
      "null\r\n",
      "],\r\n",
      "\"qualifier\": \"ra\",\r\n",
      "\"value\": 0.0\r\n",
      "},\r\n",
      "{\r\n",
      "\"Class\": \"FloatParameter\",\r\n",
      "\"context\": \"system\",\r\n"
     ]
    }
   ],
   "source": [
    "!head -n 30 test.phoebe"
   ]
  },
  {
   "cell_type": "markdown",
   "metadata": {},
   "source": [
    "Loading a Bundle\n",
    "----------------------"
   ]
  },
  {
   "cell_type": "markdown",
   "metadata": {},
   "source": [
    "To open an existing Bundle from the file we just created, call Bundle.open and pass the filename."
   ]
  },
  {
   "cell_type": "code",
   "execution_count": 5,
   "metadata": {
    "collapsed": false
   },
   "outputs": [],
   "source": [
    "b2 = phoebe.Bundle.open('test.phoebe')"
   ]
  },
  {
   "cell_type": "markdown",
   "metadata": {},
   "source": [
    "Just to prove this worked, we can check to make sure we retained the changed value of inclination."
   ]
  },
  {
   "cell_type": "code",
   "execution_count": 6,
   "metadata": {
    "collapsed": false
   },
   "outputs": [
    {
     "name": "stdout",
     "output_type": "stream",
     "text": [
      "56.789\n"
     ]
    }
   ],
   "source": [
    "print b2.get_value('incl@orbit')"
   ]
  },
  {
   "cell_type": "markdown",
   "metadata": {
    "collapsed": true
   },
   "source": [
    "Support for Other Codes\n",
    "------------------------------\n",
    "\n",
    "### Legacy\n",
    "\n",
    "Importing from a PHOEBE Legacy file is as simple as passing the filename to from_legacy:"
   ]
  },
  {
   "cell_type": "code",
   "execution_count": 7,
   "metadata": {
    "collapsed": false
   },
   "outputs": [
    {
     "name": "stderr",
     "output_type": "stream",
     "text": [
      "Wed, 21 Sep 2016 14:11 PARAMETERS   WARNING Object probably has a radiative atm (teff=10000K>8000K), for which gravb_bol=1.00 might be a better approx than gravb_bol=0.32\n",
      "Wed, 21 Sep 2016 14:11 PARAMETERS   WARNING Object probably has a radiative atm (teff=10000K>8000K), for which gravb_bol=1.00 might be a better approx than gravb_bol=0.32\n",
      "Wed, 21 Sep 2016 14:11 PARAMETERS   WARNING misaligned orbits are not currently supported.\n",
      "Wed, 21 Sep 2016 14:11 PARAMETERS   WARNING misaligned orbits are not currently supported.\n",
      "Wed, 21 Sep 2016 14:11 PARAMETERS   WARNING Object probably has a radiative atm (teff=10000K>8000K), for which gravb_bol=1.00 might be a better approx than gravb_bol=0.32\n",
      "Wed, 21 Sep 2016 14:11 PARAMETERS   WARNING Object probably has a radiative atm (teff=10000K>8000K), for which gravb_bol=1.00 might be a better approx than gravb_bol=0.32\n",
      "Wed, 21 Sep 2016 14:11 PARAMETERS   WARNING Object probably has a radiative atm (teff=10000K>8000K), for which gravb_bol=1.00 might be a better approx than gravb_bol=0.32\n",
      "Wed, 21 Sep 2016 14:11 PARAMETERS   WARNING Object probably has a radiative atm (teff=10000K>8000K), for which gravb_bol=1.00 might be a better approx than gravb_bol=0.32\n",
      "Wed, 21 Sep 2016 14:11 PARAMETERS   WARNING Object probably has a radiative atm (teff=10000K>8000K), for which gravb_bol=1.00 might be a better approx than gravb_bol=0.32\n",
      "Wed, 21 Sep 2016 14:11 PARAMETERS   WARNING Object probably has a radiative atm (teff=10000K>8000K), for which gravb_bol=1.00 might be a better approx than gravb_bol=0.32\n",
      "Wed, 21 Sep 2016 14:11 PARAMETERS   WARNING Object probably has a radiative atm (teff=10000K>8000K), for which gravb_bol=1.00 might be a better approx than gravb_bol=0.32\n",
      "Wed, 21 Sep 2016 14:11 PARAMETERS   WARNING Object probably has a radiative atm (teff=10000K>8000K), for which gravb_bol=1.00 might be a better approx than gravb_bol=0.32\n",
      "Wed, 21 Sep 2016 14:11 PARAMETERS   WARNING Object probably has a radiative atm (teff=10000K>8000K), for which gravb_bol=1.00 might be a better approx than gravb_bol=0.32\n",
      "Wed, 21 Sep 2016 14:11 PARAMETERS   WARNING Object probably has a radiative atm (teff=10000K>8000K), for which gravb_bol=1.00 might be a better approx than gravb_bol=0.32\n",
      "Wed, 21 Sep 2016 14:11 PARAMETERS   WARNING Object probably has a radiative atm (teff=10000K>8000K), for which gravb_bol=1.00 might be a better approx than gravb_bol=0.32\n",
      "Wed, 21 Sep 2016 14:11 PARAMETERS   WARNING Object probably has a radiative atm (teff=10000K>8000K), for which gravb_bol=1.00 might be a better approx than gravb_bol=0.32\n",
      "Wed, 21 Sep 2016 14:11 PARAMETERS   WARNING Object probably has a radiative atm (teff=10000K>8000K), for which gravb_bol=1.00 might be a better approx than gravb_bol=0.32\n",
      "Wed, 21 Sep 2016 14:11 IO           WARNING If you would like to use phoebe 1 atmospheres, you must add this manually\n",
      "Wed, 21 Sep 2016 14:11 PARAMETERS   WARNING Object probably has a radiative atm (teff=10000K>8000K), for which gravb_bol=1.00 might be a better approx than gravb_bol=0.32\n",
      "Wed, 21 Sep 2016 14:11 PARAMETERS   WARNING Object probably has a radiative atm (teff=10000K>8000K), for which gravb_bol=1.00 might be a better approx than gravb_bol=0.32\n",
      "Wed, 21 Sep 2016 14:11 PARAMETERS   WARNING Object probably has a radiative atm (teff=10000K>8000K), for which gravb_bol=1.00 might be a better approx than gravb_bol=0.32\n",
      "Wed, 21 Sep 2016 14:11 PARAMETERS   WARNING Object probably has a radiative atm (teff=10000K>8000K), for which gravb_bol=1.00 might be a better approx than gravb_bol=0.32\n",
      "Wed, 21 Sep 2016 14:11 PARAMETERS   WARNING Object probably has a radiative atm (teff=10000K>8000K), for which gravb_bol=1.00 might be a better approx than gravb_bol=0.32\n",
      "Wed, 21 Sep 2016 14:11 PARAMETERS   WARNING Object probably has a radiative atm (teff=10000K>8000K), for which gravb_bol=1.00 might be a better approx than gravb_bol=0.32\n",
      "Wed, 21 Sep 2016 14:11 PARAMETERS   WARNING Object probably has a radiative atm (teff=10000K>8000K), for which gravb_bol=1.00 might be a better approx than gravb_bol=0.32\n",
      "Wed, 21 Sep 2016 14:11 PARAMETERS   WARNING Object probably has a radiative atm (teff=10000K>8000K), for which gravb_bol=1.00 might be a better approx than gravb_bol=0.32\n",
      "Wed, 21 Sep 2016 14:11 PARAMETERS   WARNING Object probably has a radiative atm (teff=10000K>8000K), for which gravb_bol=1.00 might be a better approx than gravb_bol=0.32\n",
      "Wed, 21 Sep 2016 14:11 PARAMETERS   WARNING Object probably has a radiative atm (teff=10000K>8000K), for which gravb_bol=1.00 might be a better approx than gravb_bol=0.32\n",
      "Wed, 21 Sep 2016 14:11 PARAMETERS   WARNING Object probably has a radiative atm (teff=10000K>8000K), for which gravb_bol=1.00 might be a better approx than gravb_bol=0.32\n",
      "Wed, 21 Sep 2016 14:11 PARAMETERS   WARNING Object probably has a radiative atm (teff=10000K>8000K), for which gravb_bol=1.00 might be a better approx than gravb_bol=0.32\n",
      "Wed, 21 Sep 2016 14:11 PARAMETERS   WARNING Object probably has a radiative atm (teff=10000K>8000K), for which gravb_bol=1.00 might be a better approx than gravb_bol=0.32\n",
      "Wed, 21 Sep 2016 14:11 IO           WARNING If you would like to use phoebe 1 atmospheres, you must add this manually\n",
      "Wed, 21 Sep 2016 14:11 PARAMETERS   WARNING Object probably has a radiative atm (teff=10000K>8000K), for which gravb_bol=1.00 might be a better approx than gravb_bol=0.32\n",
      "Wed, 21 Sep 2016 14:11 PARAMETERS   WARNING Object probably has a radiative atm (teff=10000K>8000K), for which gravb_bol=1.00 might be a better approx than gravb_bol=0.32\n",
      "Wed, 21 Sep 2016 14:11 PARAMETERS   WARNING Object probably has a radiative atm (teff=10000K>8000K), for which gravb_bol=1.00 might be a better approx than gravb_bol=0.32\n",
      "Wed, 21 Sep 2016 14:11 PARAMETERS   WARNING Object probably has a radiative atm (teff=10000K>8000K), for which gravb_bol=1.00 might be a better approx than gravb_bol=0.32\n",
      "Wed, 21 Sep 2016 14:11 PARAMETERS   WARNING Object probably has a radiative atm (teff=10000K>8000K), for which gravb_bol=1.00 might be a better approx than gravb_bol=0.32\n",
      "Wed, 21 Sep 2016 14:11 PARAMETERS   WARNING Object probably has a radiative atm (teff=10000K>8000K), for which gravb_bol=1.00 might be a better approx than gravb_bol=0.32\n",
      "Wed, 21 Sep 2016 14:11 PARAMETERS   WARNING Object probably has a radiative atm (teff=10000K>8000K), for which gravb_bol=1.00 might be a better approx than gravb_bol=0.32\n",
      "Wed, 21 Sep 2016 14:11 PARAMETERS   WARNING Object probably has a radiative atm (teff=10000K>8000K), for which gravb_bol=1.00 might be a better approx than gravb_bol=0.32\n",
      "Wed, 21 Sep 2016 14:11 PARAMETERS   WARNING Object probably has a radiative atm (teff=10000K>8000K), for which gravb_bol=1.00 might be a better approx than gravb_bol=0.32\n",
      "Wed, 21 Sep 2016 14:11 PARAMETERS   WARNING Object probably has a radiative atm (teff=10000K>8000K), for which gravb_bol=1.00 might be a better approx than gravb_bol=0.32\n",
      "Wed, 21 Sep 2016 14:11 PARAMETERS   WARNING Object probably has a radiative atm (teff=10000K>8000K), for which gravb_bol=1.00 might be a better approx than gravb_bol=0.32\n",
      "Wed, 21 Sep 2016 14:11 PARAMETERS   WARNING Object probably has a radiative atm (teff=10000K>8000K), for which gravb_bol=1.00 might be a better approx than gravb_bol=0.32\n",
      "Wed, 21 Sep 2016 14:11 PARAMETERS   WARNING Object probably has a radiative atm (teff=10000K>8000K), for which gravb_bol=1.00 might be a better approx than gravb_bol=0.32\n",
      "Wed, 21 Sep 2016 14:11 PARAMETERS   WARNING Object probably has a radiative atm (teff=10000K>8000K), for which gravb_bol=1.00 might be a better approx than gravb_bol=0.32\n",
      "Wed, 21 Sep 2016 14:11 PARAMETERS   WARNING Object probably has a radiative atm (teff=10000K>8000K), for which gravb_bol=1.00 might be a better approx than gravb_bol=0.32\n",
      "Wed, 21 Sep 2016 14:11 PARAMETERS   WARNING Object probably has a radiative atm (teff=10000K>8000K), for which gravb_bol=1.00 might be a better approx than gravb_bol=0.32\n",
      "Wed, 21 Sep 2016 14:11 PARAMETERS   WARNING Object probably has a radiative atm (teff=10000K>8000K), for which gravb_bol=1.00 might be a better approx than gravb_bol=0.32\n",
      "Wed, 21 Sep 2016 14:11 PARAMETERS   WARNING Object probably has a radiative atm (teff=10000K>8000K), for which gravb_bol=1.00 might be a better approx than gravb_bol=0.32\n",
      "Wed, 21 Sep 2016 14:11 PARAMETERS   WARNING Object probably has a radiative atm (teff=10000K>8000K), for which gravb_bol=1.00 might be a better approx than gravb_bol=0.32\n",
      "Wed, 21 Sep 2016 14:11 PARAMETERS   WARNING Object probably has a radiative atm (teff=10000K>8000K), for which gravb_bol=1.00 might be a better approx than gravb_bol=0.32\n",
      "Wed, 21 Sep 2016 14:11 PARAMETERS   WARNING Object probably has a radiative atm (teff=10000K>8000K), for which gravb_bol=1.00 might be a better approx than gravb_bol=0.32\n",
      "Wed, 21 Sep 2016 14:11 PARAMETERS   WARNING Object probably has a radiative atm (teff=10000K>8000K), for which gravb_bol=1.00 might be a better approx than gravb_bol=0.32\n",
      "Wed, 21 Sep 2016 14:11 PARAMETERS   WARNING Object probably has a radiative atm (teff=10000K>8000K), for which gravb_bol=1.00 might be a better approx than gravb_bol=0.32\n",
      "Wed, 21 Sep 2016 14:11 PARAMETERS   WARNING Object probably has a radiative atm (teff=10000K>8000K), for which gravb_bol=1.00 might be a better approx than gravb_bol=0.32\n",
      "Wed, 21 Sep 2016 14:11 PARAMETERS   WARNING Object probably has a radiative atm (teff=10000K>8000K), for which gravb_bol=1.00 might be a better approx than gravb_bol=0.32\n",
      "Wed, 21 Sep 2016 14:11 PARAMETERS   WARNING Object probably has a radiative atm (teff=10000K>8000K), for which gravb_bol=1.00 might be a better approx than gravb_bol=0.32\n",
      "Wed, 21 Sep 2016 14:11 PARAMETERS   WARNING Object probably has a radiative atm (teff=10000K>8000K), for which gravb_bol=1.00 might be a better approx than gravb_bol=0.32\n",
      "Wed, 21 Sep 2016 14:11 PARAMETERS   WARNING Object probably has a radiative atm (teff=10000K>8000K), for which gravb_bol=1.00 might be a better approx than gravb_bol=0.32\n",
      "Wed, 21 Sep 2016 14:11 PARAMETERS   WARNING Object probably has a radiative atm (teff=10000K>8000K), for which gravb_bol=1.00 might be a better approx than gravb_bol=0.32\n",
      "Wed, 21 Sep 2016 14:11 PARAMETERS   WARNING Object probably has a radiative atm (teff=10000K>8000K), for which gravb_bol=1.00 might be a better approx than gravb_bol=0.32\n",
      "Wed, 21 Sep 2016 14:11 PARAMETERS   WARNING Object probably has a radiative atm (teff=10000K>8000K), for which gravb_bol=1.00 might be a better approx than gravb_bol=0.32\n",
      "Wed, 21 Sep 2016 14:11 PARAMETERS   WARNING Object probably has a radiative atm (teff=10000K>8000K), for which gravb_bol=1.00 might be a better approx than gravb_bol=0.32\n",
      "Wed, 21 Sep 2016 14:11 PARAMETERS   WARNING Object probably has a radiative atm (teff=10000K>8000K), for which gravb_bol=1.00 might be a better approx than gravb_bol=0.32\n",
      "Wed, 21 Sep 2016 14:11 PARAMETERS   WARNING Object probably has a radiative atm (teff=10000K>8000K), for which gravb_bol=1.00 might be a better approx than gravb_bol=0.32\n",
      "Wed, 21 Sep 2016 14:11 PARAMETERS   WARNING Object probably has a radiative atm (teff=10000K>8000K), for which gravb_bol=1.00 might be a better approx than gravb_bol=0.32\n",
      "Wed, 21 Sep 2016 14:11 PARAMETERS   WARNING Object probably has a radiative atm (teff=10000K>8000K), for which gravb_bol=1.00 might be a better approx than gravb_bol=0.32\n",
      "Wed, 21 Sep 2016 14:11 PARAMETERS   WARNING Object probably has a radiative atm (teff=10000K>8000K), for which gravb_bol=1.00 might be a better approx than gravb_bol=0.32\n",
      "Wed, 21 Sep 2016 14:11 PARAMETERS   WARNING Object probably has a radiative atm (teff=10000K>8000K), for which gravb_bol=1.00 might be a better approx than gravb_bol=0.32\n",
      "Wed, 21 Sep 2016 14:11 PARAMETERS   WARNING Object probably has a radiative atm (teff=10000K>8000K), for which gravb_bol=1.00 might be a better approx than gravb_bol=0.32\n",
      "Wed, 21 Sep 2016 14:11 PARAMETERS   WARNING Object probably has a radiative atm (teff=10000K>8000K), for which gravb_bol=1.00 might be a better approx than gravb_bol=0.32\n",
      "Wed, 21 Sep 2016 14:11 PARAMETERS   WARNING Object probably has a radiative atm (teff=10000K>8000K), for which gravb_bol=1.00 might be a better approx than gravb_bol=0.32\n",
      "Wed, 21 Sep 2016 14:11 PARAMETERS   WARNING Object probably has a radiative atm (teff=10000K>8000K), for which gravb_bol=1.00 might be a better approx than gravb_bol=0.32\n",
      "Wed, 21 Sep 2016 14:11 PARAMETERS   WARNING Object probably has a radiative atm (teff=10000K>8000K), for which gravb_bol=1.00 might be a better approx than gravb_bol=0.32\n",
      "Wed, 21 Sep 2016 14:11 PARAMETERS   WARNING Object probably has a radiative atm (teff=10000K>8000K), for which gravb_bol=1.00 might be a better approx than gravb_bol=0.32\n"
     ]
    }
   ],
   "source": [
    "b = phoebe.Bundle.from_legacy('legacy.phoebe')"
   ]
  },
  {
   "cell_type": "markdown",
   "metadata": {},
   "source": [
    "Exporting to a PHOEBE Legacy file is also possible (although note that some parameters don't translate exactly or are not supported in PHOEBE Legacy)."
   ]
  },
  {
   "cell_type": "code",
   "execution_count": 8,
   "metadata": {
    "collapsed": false
   },
   "outputs": [
    {
     "name": "stderr",
     "output_type": "stream",
     "text": [
      "Wed, 21 Sep 2016 14:11 IO           WARNING rpole has no phoebe 1 corollary\n",
      "Wed, 21 Sep 2016 14:11 IO           WARNING freq has no phoebe 1 corollary\n",
      "Wed, 21 Sep 2016 14:11 IO           WARNING frac_lost_bol has no phoebe 1 corollary\n",
      "Wed, 21 Sep 2016 14:11 IO           WARNING ld_func_bol has no phoebe 1 corollary\n",
      "Wed, 21 Sep 2016 14:11 IO           WARNING mass has no phoebe 1 corollary\n",
      "Wed, 21 Sep 2016 14:11 IO           WARNING rpole has no phoebe 1 corollary\n",
      "Wed, 21 Sep 2016 14:11 IO           WARNING freq has no phoebe 1 corollary\n",
      "Wed, 21 Sep 2016 14:11 IO           WARNING frac_lost_bol has no phoebe 1 corollary\n",
      "Wed, 21 Sep 2016 14:11 IO           WARNING ld_func_bol has no phoebe 1 corollary\n",
      "Wed, 21 Sep 2016 14:11 IO           WARNING mass has no phoebe 1 corollary\n",
      "Wed, 21 Sep 2016 14:11 IO           WARNING freq has no phoebe 1 corollary\n",
      "Wed, 21 Sep 2016 14:11 IO           WARNING t0_perpass has no phoebe 1 corollary\n",
      "Wed, 21 Sep 2016 14:11 IO           WARNING mean_anom has no phoebe 1 corollary\n",
      "Wed, 21 Sep 2016 14:11 IO           WARNING long_an has no phoebe 1 corollary\n",
      "Wed, 21 Sep 2016 14:11 IO           WARNING asini has no phoebe 1 corollary\n",
      "Wed, 21 Sep 2016 14:11 IO           WARNING ecosw has no phoebe 1 corollary\n",
      "Wed, 21 Sep 2016 14:11 IO           WARNING esinw has no phoebe 1 corollary\n",
      "Wed, 21 Sep 2016 14:11 IO           WARNING protomesh has no phoebe 1 corollary\n",
      "Wed, 21 Sep 2016 14:11 IO           WARNING pbmesh has no phoebe 1 corollary\n",
      "Wed, 21 Sep 2016 14:11 IO           WARNING cindex has no phoebe 1 corollary\n",
      "Wed, 21 Sep 2016 14:11 IO           WARNING t0 has no phoebe 1 corollary\n",
      "Wed, 21 Sep 2016 14:11 IO           WARNING ra has no phoebe 1 corollary\n",
      "Wed, 21 Sep 2016 14:11 IO           WARNING dec has no phoebe 1 corollary\n",
      "Wed, 21 Sep 2016 14:11 IO           WARNING epoch has no phoebe 1 corollary\n",
      "Wed, 21 Sep 2016 14:11 IO           WARNING distance has no phoebe 1 corollary\n",
      "Wed, 21 Sep 2016 14:11 IO           WARNING hierarchy has no phoebe 1 corollary\n"
     ]
    }
   ],
   "source": [
    "b.export_legacy('legacy_export.phoebe')"
   ]
  },
  {
   "cell_type": "markdown",
   "metadata": {},
   "source": [
    "For the parameters that could not be directly translated, you should see a warning message (if you have warning messages enabled in your logger).\n",
    "\n",
    "We can now look at the beginning of the saved file and see that it matches the PHOEBE Legacy file-format."
   ]
  },
  {
   "cell_type": "code",
   "execution_count": 9,
   "metadata": {
    "collapsed": false
   },
   "outputs": [
    {
     "name": "stdout",
     "output_type": "stream",
     "text": [
      "# Phoebe 1 file created from phoebe 2 bundle\r\n",
      "phoebe_rvno = 0\r\n",
      "phoebe_spots_no = 0\r\n",
      "phoebe_lcno = 0\r\n",
      "phoebe_indep = \"Time (HJD)\"\r\n",
      "phoebe_pot1.VAL = 8.00000029416\r\n",
      "phoebe_teff1.VAL = 6000.0\r\n",
      "phoebe_met1.VAL = 0.0\r\n",
      "phoebe_f1.VAL = 1.0\r\n",
      "phoebe_grb1.VAL = 0.32\r\n",
      "phoebe_alb1.VAL = 0.6\r\n",
      "phoebe_ld_xbol1 = 0.5\r\n",
      "phoebe_ld_ybol1 = 0.5\r\n",
      "phoebe_pot2.VAL = 8.00000029416\r\n",
      "phoebe_teff2.VAL = 6000.0\r\n",
      "phoebe_met2.VAL = 0.0\r\n",
      "phoebe_f2.VAL = 1.0\r\n",
      "phoebe_grb2.VAL = 0.32\r\n",
      "phoebe_alb2.VAL = 0.6\r\n",
      "phoebe_ld_xbol2 = 0.5\r\n",
      "phoebe_ld_ybol2 = 0.5\r\n",
      "phoebe_spots_units = \"Degrees\"\r\n",
      "phoebe_period.VAL = 1.0\r\n",
      "phoebe_dpdt.VAL = 0.0\r\n",
      "phoebe_perr0.VAL = 0.0\r\n",
      "phoebe_dperdt.VAL = 0.0\r\n",
      "phoebe_ecc.VAL = 0.0\r\n",
      "phoebe_hjd0.VAL = 0.0\r\n",
      "phoebe_incl.VAL = 80.0\r\n",
      "phoebe_pshift.VAL = 0.0\r\n"
     ]
    }
   ],
   "source": [
    "!head -n 30 legacy_export.phoebe"
   ]
  }
 ],
 "metadata": {
  "kernelspec": {
   "display_name": "Python 2",
   "language": "python",
   "name": "python2"
  },
  "language_info": {
   "codemirror_mode": {
    "name": "ipython",
    "version": 2
   },
   "file_extension": ".py",
   "mimetype": "text/x-python",
   "name": "python",
   "nbconvert_exporter": "python",
   "pygments_lexer": "ipython2",
   "version": "2.7.12"
  }
 },
 "nbformat": 4,
 "nbformat_minor": 0
}
