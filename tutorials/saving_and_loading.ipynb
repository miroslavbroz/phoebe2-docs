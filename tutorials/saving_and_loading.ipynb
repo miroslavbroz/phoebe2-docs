{
 "cells": [
  {
   "cell_type": "markdown",
   "metadata": {},
   "source": [
    "[IPython Notebook](saving_and_loading.ipynb) |  [Python Script](saving_and_loading.py)"
   ]
  },
  {
   "cell_type": "markdown",
   "metadata": {},
   "source": [
    "Saving and Loading\n",
    "============================\n",
    "\n",
    "Setup\n",
    "-----------------------------"
   ]
  },
  {
   "cell_type": "markdown",
   "metadata": {
    "collapsed": true
   },
   "source": [
    "As always, let's do imports and initialize a logger and a new bundle.  See [Building a System](building_a_system.html) for more details."
   ]
  },
  {
   "cell_type": "code",
   "execution_count": 1,
   "metadata": {
    "collapsed": false
   },
   "outputs": [
    {
     "name": "stderr",
     "output_type": "stream",
     "text": [
      "WARNING: Constant u'Gravitational constant' is already has a definition in the u'si' system [astropy.constants.constant]\n",
      "WARNING: Constant u'Solar mass' is already has a definition in the u'si' system [astropy.constants.constant]\n",
      "WARNING: Constant u'Solar radius' is already has a definition in the u'si' system [astropy.constants.constant]\n",
      "WARNING: Constant u'Solar luminosity' is already has a definition in the u'si' system [astropy.constants.constant]\n",
      "/usr/local/lib/python2.7/dist-packages/astropy/units/quantity.py:782: FutureWarning: comparison to `None` will result in an elementwise object comparison in the future.\n",
      "  return super(Quantity, self).__eq__(other)\n",
      "Fri, 10 Feb 2017 11:44 BUNDLE       INFO    setting 'freq@primary@component'=6.283185 rad / d from 'freq@constraint' constraint\n",
      "Fri, 10 Feb 2017 11:44 BUNDLE       INFO    setting 'irrad_frac_lost_bol@primary@component'=0.4 from 'irrad_frac_lost_bol@constraint' constraint\n",
      "Fri, 10 Feb 2017 11:44 BUNDLE       INFO    setting 'freq@secondary@component'=6.283185 rad / d from 'freq@secondary@constraint' constraint\n",
      "Fri, 10 Feb 2017 11:44 BUNDLE       INFO    setting 'irrad_frac_lost_bol@secondary@component'=0.4 from 'irrad_frac_lost_bol@secondary@constraint' constraint\n",
      "Fri, 10 Feb 2017 11:44 PARAMETERS   INFO    creating and attaching new parameter: asini\n",
      "Fri, 10 Feb 2017 11:44 BUNDLE       INFO    setting 'asini@binary@component'=5.3 solRad from 'asini@constraint' constraint\n",
      "Fri, 10 Feb 2017 11:44 BUNDLE       INFO    setting 't0_perpass@binary@component'=-0.25 d from 't0_perpass@constraint' constraint\n",
      "Fri, 10 Feb 2017 11:44 BUNDLE       INFO    setting 'mean_anom@binary@component'=89.9999956 deg from 'mean_anom@constraint' constraint\n",
      "Fri, 10 Feb 2017 11:44 PARAMETERS   INFO    creating and attaching new parameter: ecosw\n",
      "Fri, 10 Feb 2017 11:44 BUNDLE       INFO    setting 'ecosw@binary@component'=0.0 from 'ecosw@constraint' constraint\n",
      "Fri, 10 Feb 2017 11:44 PARAMETERS   INFO    creating and attaching new parameter: esinw\n",
      "Fri, 10 Feb 2017 11:44 BUNDLE       INFO    setting 'esinw@binary@component'=0.0 from 'esinw@constraint' constraint\n",
      "Fri, 10 Feb 2017 11:44 BUNDLE       INFO    setting 'freq@binary@component'=6.283185 rad / d from 'freq@binary@constraint' constraint\n",
      "Fri, 10 Feb 2017 11:44 BUNDLE       INFO    re-creating mass constraint for primary\n",
      "Fri, 10 Feb 2017 11:44 BUNDLE       INFO    setting 'mass@primary@component'=0.998813135806 solMass from 'mass@constraint' constraint\n",
      "Fri, 10 Feb 2017 11:44 BUNDLE       INFO    re-creating comp_sma constraint for primary\n",
      "Fri, 10 Feb 2017 11:44 PARAMETERS   INFO    creating and attaching new parameter: sma\n",
      "Fri, 10 Feb 2017 11:44 BUNDLE       INFO    setting 'sma@primary@component'=2.65 solRad from 'sma@constraint' constraint\n",
      "Fri, 10 Feb 2017 11:44 BUNDLE       INFO    re-creating rotation_period constraint for primary\n",
      "Fri, 10 Feb 2017 11:44 BUNDLE       INFO    setting 'freq@primary@component'=6.283185 rad / d from 'freq@primary@constraint' constraint\n",
      "Fri, 10 Feb 2017 11:44 BUNDLE       INFO    setting 'period@primary@component'=1.0 d from 'period@constraint' constraint\n",
      "Fri, 10 Feb 2017 11:44 BUNDLE       INFO    re-creating incl_aligned constraint for primary\n",
      "Fri, 10 Feb 2017 11:44 BUNDLE       INFO    setting 'incl@primary@component'=90.0 deg from 'incl@constraint' constraint\n",
      "Fri, 10 Feb 2017 11:44 BUNDLE       INFO    re-creating potential constraint for primary\n",
      "Fri, 10 Feb 2017 11:44 BUNDLE       INFO    setting 'pot@primary@component'=6.28266165375 from 'pot@constraint' constraint\n",
      "Fri, 10 Feb 2017 11:44 BUNDLE       INFO    re-creating mass constraint for secondary\n",
      "Fri, 10 Feb 2017 11:44 BUNDLE       INFO    setting 'mass@secondary@component'=0.998813135806 solMass from 'mass@secondary@constraint' constraint\n",
      "Fri, 10 Feb 2017 11:44 BUNDLE       INFO    re-creating comp_sma constraint for secondary\n",
      "Fri, 10 Feb 2017 11:44 PARAMETERS   INFO    creating and attaching new parameter: sma\n",
      "Fri, 10 Feb 2017 11:44 BUNDLE       INFO    setting 'sma@secondary@component'=2.65 solRad from 'sma@secondary@constraint' constraint\n",
      "Fri, 10 Feb 2017 11:44 BUNDLE       INFO    re-creating rotation_period constraint for secondary\n",
      "Fri, 10 Feb 2017 11:44 BUNDLE       INFO    setting 'freq@secondary@component'=6.283185 rad / d from 'freq@secondary@constraint' constraint\n",
      "Fri, 10 Feb 2017 11:44 BUNDLE       INFO    setting 'period@secondary@component'=1.0 d from 'period@secondary@constraint' constraint\n",
      "Fri, 10 Feb 2017 11:44 BUNDLE       INFO    re-creating incl_aligned constraint for secondary\n",
      "Fri, 10 Feb 2017 11:45 BUNDLE       INFO    setting 'incl@secondary@component'=90.0 deg from 'incl@secondary@constraint' constraint\n",
      "Fri, 10 Feb 2017 11:45 BUNDLE       INFO    re-creating potential constraint for secondary\n",
      "Fri, 10 Feb 2017 11:45 BUNDLE       INFO    setting 'pot@secondary@component'=6.28266165375 from 'pot@secondary@constraint' constraint\n",
      "Fri, 10 Feb 2017 11:45 BUNDLE       INFO    adding phoebe 'phoebe01' compute to bundle\n",
      "Fri, 10 Feb 2017 11:45 PARAMETERS   INFO    copying 'mesh_method' parameter for {'component': 'primary'}\n",
      "Fri, 10 Feb 2017 11:45 PARAMETERS   INFO    copying 'mesh_method' parameter for {'component': 'secondary'}\n",
      "Fri, 10 Feb 2017 11:45 PARAMETERS   INFO    copying 'ntriangles' parameter for {'component': 'primary'}\n",
      "Fri, 10 Feb 2017 11:45 PARAMETERS   INFO    copying 'ntriangles' parameter for {'component': 'secondary'}\n",
      "Fri, 10 Feb 2017 11:45 PARAMETERS   INFO    copying 'distortion_method' parameter for {'component': 'primary'}\n",
      "Fri, 10 Feb 2017 11:45 PARAMETERS   INFO    copying 'distortion_method' parameter for {'component': 'secondary'}\n",
      "Fri, 10 Feb 2017 11:45 PARAMETERS   INFO    copying 'atm' parameter for {'component': 'primary'}\n",
      "Fri, 10 Feb 2017 11:45 PARAMETERS   INFO    copying 'atm' parameter for {'component': 'secondary'}\n"
     ]
    }
   ],
   "source": [
    "import phoebe\n",
    "from phoebe import u # units\n",
    "import numpy as np\n",
    "import matplotlib.pyplot as plt\n",
    "\n",
    "logger = phoebe.logger()\n",
    "\n",
    "b = phoebe.default_binary()"
   ]
  },
  {
   "cell_type": "markdown",
   "metadata": {},
   "source": [
    "Saving a Bundle\n",
    "-----------------------\n",
    "\n"
   ]
  },
  {
   "cell_type": "code",
   "execution_count": 2,
   "metadata": {
    "collapsed": false
   },
   "outputs": [
    {
     "name": "stderr",
     "output_type": "stream",
     "text": [
      "Fri, 10 Feb 2017 11:45 PARAMETERS   WARNING misaligned orbits are not currently supported.\n",
      "Fri, 10 Feb 2017 11:45 BUNDLE       INFO    setting 'asini@binary@component'=4.43429361927 solRad from 'asini@constraint' constraint\n",
      "Fri, 10 Feb 2017 11:45 PARAMETERS   WARNING misaligned orbits are not currently supported.\n",
      "Fri, 10 Feb 2017 11:45 BUNDLE       INFO    setting 'incl@primary@component'=56.789 deg from 'incl@primary@constraint' constraint\n",
      "Fri, 10 Feb 2017 11:45 BUNDLE       INFO    setting 'incl@secondary@component'=56.789 deg from 'incl@secondary@constraint' constraint\n"
     ]
    }
   ],
   "source": [
    "b['incl@orbit'] = 56.789"
   ]
  },
  {
   "cell_type": "markdown",
   "metadata": {},
   "source": [
    "To save the Bundle to a file, we can call the save method of the Bundle and pass a filename."
   ]
  },
  {
   "cell_type": "code",
   "execution_count": 3,
   "metadata": {
    "collapsed": false
   },
   "outputs": [
    {
     "name": "stdout",
     "output_type": "stream",
     "text": [
      "test.phoebe\n"
     ]
    }
   ],
   "source": [
    "print b.save('test.phoebe')"
   ]
  },
  {
   "cell_type": "markdown",
   "metadata": {},
   "source": [
    "We can now inspect the contents of the created file.\n",
    "\n",
    "This file is in the JSON-format and is simply a list of dictionaries - where each dictionary represents the attributes of a single Parameter.\n",
    "\n",
    "You could edit this file in a text-editor - but do be careful if changing any of the tags.  For example: if you want to change the component tag of one of your stars, make sure to change ALL instances of the component tag to match (as well as the hierarchy Parameter)."
   ]
  },
  {
   "cell_type": "code",
   "execution_count": 4,
   "metadata": {
    "collapsed": false
   },
   "outputs": [
    {
     "name": "stdout",
     "output_type": "stream",
     "text": [
      "[\r\n",
      "{\r\n",
      "\"Class\": \"FloatParameter\",\r\n",
      "\"context\": \"system\",\r\n",
      "\"copy_for\": false,\r\n",
      "\"default_unit\": \"d\",\r\n",
      "\"description\": \"Time at which all values are provided\",\r\n",
      "\"limits\": [\r\n",
      "null,\r\n",
      "null\r\n",
      "],\r\n",
      "\"qualifier\": \"t0\",\r\n",
      "\"value\": 0.0\r\n",
      "},\r\n",
      "{\r\n",
      "\"Class\": \"FloatParameter\",\r\n",
      "\"context\": \"system\",\r\n",
      "\"copy_for\": false,\r\n",
      "\"default_unit\": \"deg\",\r\n",
      "\"description\": \"Right ascension\",\r\n",
      "\"limits\": [\r\n",
      "null,\r\n",
      "null\r\n",
      "],\r\n",
      "\"qualifier\": \"ra\",\r\n",
      "\"value\": 0.0\r\n",
      "},\r\n",
      "{\r\n",
      "\"Class\": \"FloatParameter\",\r\n",
      "\"context\": \"system\",\r\n"
     ]
    }
   ],
   "source": [
    "!head -n 30 test.phoebe"
   ]
  },
  {
   "cell_type": "markdown",
   "metadata": {},
   "source": [
    "Loading a Bundle\n",
    "----------------------"
   ]
  },
  {
   "cell_type": "markdown",
   "metadata": {},
   "source": [
    "To open an existing Bundle from the file we just created, call Bundle.open and pass the filename."
   ]
  },
  {
   "cell_type": "code",
   "execution_count": 5,
   "metadata": {
    "collapsed": false
   },
   "outputs": [],
   "source": [
    "b2 = phoebe.Bundle.open('test.phoebe')"
   ]
  },
  {
   "cell_type": "markdown",
   "metadata": {},
   "source": [
    "Just to prove this worked, we can check to make sure we retained the changed value of inclination."
   ]
  },
  {
   "cell_type": "code",
   "execution_count": 6,
   "metadata": {
    "collapsed": false
   },
   "outputs": [
    {
     "name": "stdout",
     "output_type": "stream",
     "text": [
      "56.789\n"
     ]
    }
   ],
   "source": [
    "print b2.get_value('incl@orbit')"
   ]
  },
  {
   "cell_type": "markdown",
   "metadata": {
    "collapsed": true
   },
   "source": [
    "Support for Other Codes\n",
    "------------------------------\n",
    "\n",
    "### Legacy\n",
    "\n",
    "Importing from a PHOEBE Legacy file is as simple as passing the filename to from_legacy:"
   ]
  },
  {
   "cell_type": "code",
   "execution_count": 7,
   "metadata": {
    "collapsed": false
   },
   "outputs": [
    {
     "name": "stderr",
     "output_type": "stream",
     "text": [
      "Fri, 10 Feb 2017 11:45 PHOEBE       WARNING constraints will not be run until 'run_delayed_constraints' or 'run_compute' is called.  This may result in inconsistent parameters if printing values before calling either of these methods.\n",
      "Fri, 10 Feb 2017 11:45 BUNDLE       INFO    setting 'freq@primary@component'=6.283185 rad / d from 'freq@constraint' constraint\n",
      "Fri, 10 Feb 2017 11:45 BUNDLE       INFO    setting 'irrad_frac_lost_bol@primary@component'=0.4 from 'irrad_frac_lost_bol@constraint' constraint\n",
      "Fri, 10 Feb 2017 11:45 BUNDLE       INFO    setting 'freq@secondary@component'=6.283185 rad / d from 'freq@secondary@constraint' constraint\n",
      "Fri, 10 Feb 2017 11:45 BUNDLE       INFO    setting 'irrad_frac_lost_bol@secondary@component'=0.4 from 'irrad_frac_lost_bol@secondary@constraint' constraint\n",
      "Fri, 10 Feb 2017 11:45 PARAMETERS   INFO    creating and attaching new parameter: asini\n",
      "Fri, 10 Feb 2017 11:45 BUNDLE       INFO    setting 'asini@binary@component'=5.3 solRad from 'asini@constraint' constraint\n",
      "Fri, 10 Feb 2017 11:45 BUNDLE       INFO    setting 't0_perpass@binary@component'=-0.25 d from 't0_perpass@constraint' constraint\n",
      "Fri, 10 Feb 2017 11:45 BUNDLE       INFO    setting 'mean_anom@binary@component'=89.9999956 deg from 'mean_anom@constraint' constraint\n",
      "Fri, 10 Feb 2017 11:45 PARAMETERS   INFO    creating and attaching new parameter: ecosw\n",
      "Fri, 10 Feb 2017 11:45 BUNDLE       INFO    setting 'ecosw@binary@component'=0.0 from 'ecosw@constraint' constraint\n",
      "Fri, 10 Feb 2017 11:45 PARAMETERS   INFO    creating and attaching new parameter: esinw\n",
      "Fri, 10 Feb 2017 11:45 BUNDLE       INFO    setting 'esinw@binary@component'=0.0 from 'esinw@constraint' constraint\n",
      "Fri, 10 Feb 2017 11:45 BUNDLE       INFO    setting 'freq@binary@component'=6.283185 rad / d from 'freq@binary@constraint' constraint\n",
      "Fri, 10 Feb 2017 11:45 BUNDLE       INFO    re-creating mass constraint for primary\n",
      "Fri, 10 Feb 2017 11:45 BUNDLE       INFO    setting 'mass@primary@component'=0.998813135806 solMass from 'mass@constraint' constraint\n",
      "Fri, 10 Feb 2017 11:45 BUNDLE       INFO    re-creating comp_sma constraint for primary\n",
      "Fri, 10 Feb 2017 11:45 PARAMETERS   INFO    creating and attaching new parameter: sma\n",
      "Fri, 10 Feb 2017 11:45 BUNDLE       INFO    setting 'sma@primary@component'=2.65 solRad from 'sma@constraint' constraint\n",
      "Fri, 10 Feb 2017 11:45 BUNDLE       INFO    re-creating rotation_period constraint for primary\n",
      "Fri, 10 Feb 2017 11:45 BUNDLE       INFO    setting 'freq@primary@component'=6.283185 rad / d from 'freq@primary@constraint' constraint\n",
      "Fri, 10 Feb 2017 11:45 BUNDLE       INFO    setting 'period@primary@component'=1.0 d from 'period@constraint' constraint\n",
      "Fri, 10 Feb 2017 11:45 BUNDLE       INFO    re-creating incl_aligned constraint for primary\n",
      "Fri, 10 Feb 2017 11:45 BUNDLE       INFO    setting 'incl@primary@component'=90.0 deg from 'incl@constraint' constraint\n",
      "Fri, 10 Feb 2017 11:45 BUNDLE       INFO    re-creating potential constraint for primary\n",
      "Fri, 10 Feb 2017 11:45 BUNDLE       INFO    setting 'pot@primary@component'=6.28266165375 from 'pot@constraint' constraint\n",
      "Fri, 10 Feb 2017 11:45 BUNDLE       INFO    re-creating mass constraint for secondary\n",
      "Fri, 10 Feb 2017 11:45 BUNDLE       INFO    setting 'mass@secondary@component'=0.998813135806 solMass from 'mass@secondary@constraint' constraint\n",
      "Fri, 10 Feb 2017 11:45 BUNDLE       INFO    re-creating comp_sma constraint for secondary\n",
      "Fri, 10 Feb 2017 11:45 PARAMETERS   INFO    creating and attaching new parameter: sma\n",
      "Fri, 10 Feb 2017 11:45 BUNDLE       INFO    setting 'sma@secondary@component'=2.65 solRad from 'sma@secondary@constraint' constraint\n",
      "Fri, 10 Feb 2017 11:45 BUNDLE       INFO    re-creating rotation_period constraint for secondary\n",
      "Fri, 10 Feb 2017 11:45 BUNDLE       INFO    setting 'freq@secondary@component'=6.283185 rad / d from 'freq@secondary@constraint' constraint\n",
      "Fri, 10 Feb 2017 11:45 BUNDLE       INFO    setting 'period@secondary@component'=1.0 d from 'period@secondary@constraint' constraint\n",
      "Fri, 10 Feb 2017 11:45 BUNDLE       INFO    re-creating incl_aligned constraint for secondary\n",
      "Fri, 10 Feb 2017 11:45 BUNDLE       INFO    setting 'incl@secondary@component'=90.0 deg from 'incl@secondary@constraint' constraint\n",
      "Fri, 10 Feb 2017 11:45 BUNDLE       INFO    re-creating potential constraint for secondary\n",
      "Fri, 10 Feb 2017 11:45 BUNDLE       INFO    setting 'pot@secondary@component'=6.28266165375 from 'pot@secondary@constraint' constraint\n",
      "Fri, 10 Feb 2017 11:45 BUNDLE       INFO    adding phoebe 'phoebe01' compute to bundle\n",
      "Fri, 10 Feb 2017 11:45 PARAMETERS   INFO    copying 'mesh_method' parameter for {'component': 'primary'}\n",
      "Fri, 10 Feb 2017 11:45 PARAMETERS   INFO    copying 'mesh_method' parameter for {'component': 'secondary'}\n",
      "Fri, 10 Feb 2017 11:45 PARAMETERS   INFO    copying 'ntriangles' parameter for {'component': 'primary'}\n",
      "Fri, 10 Feb 2017 11:45 PARAMETERS   INFO    copying 'ntriangles' parameter for {'component': 'secondary'}\n",
      "Fri, 10 Feb 2017 11:45 PARAMETERS   INFO    copying 'distortion_method' parameter for {'component': 'primary'}\n",
      "Fri, 10 Feb 2017 11:45 PARAMETERS   INFO    copying 'distortion_method' parameter for {'component': 'secondary'}\n",
      "Fri, 10 Feb 2017 11:45 PARAMETERS   INFO    copying 'atm' parameter for {'component': 'primary'}\n",
      "Fri, 10 Feb 2017 11:45 PARAMETERS   INFO    copying 'atm' parameter for {'component': 'secondary'}\n",
      "Fri, 10 Feb 2017 11:45 IO           WARNING Phoebe Legacy reflection effect switch is set to false so refl_num is being set to 0.\n",
      "Fri, 10 Feb 2017 11:45 PARAMETERS   INFO    copying 'enabled' parameter for {'dataset': 'lc01'}\n",
      "Fri, 10 Feb 2017 11:45 PARAMETERS   INFO    copying 'lc_method' parameter for {'dataset': 'lc01'}\n",
      "Fri, 10 Feb 2017 11:45 PARAMETERS   INFO    copying 'fti_method' parameter for {'dataset': 'lc01'}\n",
      "Fri, 10 Feb 2017 11:45 PARAMETERS   INFO    copying 'fti_oversample' parameter for {'dataset': 'lc01'}\n",
      "Fri, 10 Feb 2017 11:45 PARAMETERS   INFO    copying 'ld_func' parameter for {'component': 'primary'}\n",
      "Fri, 10 Feb 2017 11:45 PARAMETERS   INFO    copying 'ld_func' parameter for {'component': 'secondary'}\n",
      "Fri, 10 Feb 2017 11:45 PARAMETERS   INFO    copying 'ld_coeffs' parameter for {'component': 'primary'}\n",
      "Fri, 10 Feb 2017 11:45 PARAMETERS   INFO    copying 'ld_coeffs' parameter for {'component': 'secondary'}\n",
      "Fri, 10 Feb 2017 11:45 PARAMETERS   INFO    copying 'pblum_ref' parameter for {'component': 'primary'}\n",
      "Fri, 10 Feb 2017 11:45 PARAMETERS   INFO    copying 'pblum_ref' parameter for {'component': 'secondary'}\n",
      "Fri, 10 Feb 2017 11:45 PARAMETERS   INFO    copying 'pblum' parameter for {'component': 'primary'}\n",
      "Fri, 10 Feb 2017 11:45 PARAMETERS   INFO    copying 'pblum' parameter for {'component': 'secondary'}\n",
      "Fri, 10 Feb 2017 11:45 IO           INFO    Parameter phoebe_lc_cadence_switch has no Phoebe 2 counterpart\n",
      "Fri, 10 Feb 2017 11:45 IO           INFO    Parameter phoebe_lc_indweight has no Phoebe 2 counterpart\n",
      "Fri, 10 Feb 2017 11:45 IO           INFO    Parameter phoebe_lc_levweight has no Phoebe 2 counterpart\n",
      "Fri, 10 Feb 2017 11:45 IO           INFO    Parameter phoebe_lc_cadence_rate has no Phoebe 2 counterpart\n",
      "Fri, 10 Feb 2017 11:45 IO           INFO    Parameter phoebe_lc_filename has no Phoebe 2 counterpart\n",
      "Fri, 10 Feb 2017 11:45 IO           INFO    Parameter phoebe_lc_sigma has no Phoebe 2 counterpart\n",
      "Fri, 10 Feb 2017 11:45 IO           INFO    Parameter phoebe_lc_dep has no Phoebe 2 counterpart\n",
      "Fri, 10 Feb 2017 11:45 IO           INFO    Parameter phoebe_lc_cadence_timestamp has no Phoebe 2 counterpart\n",
      "Fri, 10 Feb 2017 11:45 IO           INFO    Parameter phoebe_lc_indep has no Phoebe 2 counterpart\n",
      "Fri, 10 Feb 2017 11:45 PARAMETERS   INFO    copying 'enabled' parameter for {'dataset': 'lc02'}\n",
      "Fri, 10 Feb 2017 11:45 PARAMETERS   INFO    copying 'lc_method' parameter for {'dataset': 'lc02'}\n",
      "Fri, 10 Feb 2017 11:45 PARAMETERS   INFO    copying 'fti_method' parameter for {'dataset': 'lc02'}\n",
      "Fri, 10 Feb 2017 11:45 PARAMETERS   INFO    copying 'fti_oversample' parameter for {'dataset': 'lc02'}\n",
      "Fri, 10 Feb 2017 11:45 PARAMETERS   INFO    copying 'ld_func' parameter for {'component': 'primary'}\n",
      "Fri, 10 Feb 2017 11:45 PARAMETERS   INFO    copying 'ld_func' parameter for {'component': 'secondary'}\n",
      "Fri, 10 Feb 2017 11:45 PARAMETERS   INFO    copying 'ld_coeffs' parameter for {'component': 'primary'}\n",
      "Fri, 10 Feb 2017 11:45 PARAMETERS   INFO    copying 'ld_coeffs' parameter for {'component': 'secondary'}\n",
      "Fri, 10 Feb 2017 11:45 PARAMETERS   INFO    copying 'pblum_ref' parameter for {'component': 'primary'}\n",
      "Fri, 10 Feb 2017 11:45 PARAMETERS   INFO    copying 'pblum_ref' parameter for {'component': 'secondary'}\n",
      "Fri, 10 Feb 2017 11:45 PARAMETERS   INFO    copying 'pblum' parameter for {'component': 'primary'}\n",
      "Fri, 10 Feb 2017 11:45 PARAMETERS   INFO    copying 'pblum' parameter for {'component': 'secondary'}\n",
      "Fri, 10 Feb 2017 11:45 IO           INFO    Parameter phoebe_lc_cadence_switch has no Phoebe 2 counterpart\n",
      "Fri, 10 Feb 2017 11:45 IO           INFO    Parameter phoebe_lc_indweight has no Phoebe 2 counterpart\n",
      "Fri, 10 Feb 2017 11:45 IO           INFO    Parameter phoebe_lc_levweight has no Phoebe 2 counterpart\n",
      "Fri, 10 Feb 2017 11:45 IO           INFO    Parameter phoebe_lc_cadence_rate has no Phoebe 2 counterpart\n",
      "Fri, 10 Feb 2017 11:45 IO           INFO    Parameter phoebe_lc_filename has no Phoebe 2 counterpart\n",
      "Fri, 10 Feb 2017 11:45 IO           INFO    Parameter phoebe_lc_sigma has no Phoebe 2 counterpart\n",
      "Fri, 10 Feb 2017 11:45 IO           INFO    Parameter phoebe_lc_dep has no Phoebe 2 counterpart\n",
      "Fri, 10 Feb 2017 11:45 IO           INFO    Parameter phoebe_lc_cadence_timestamp has no Phoebe 2 counterpart\n",
      "Fri, 10 Feb 2017 11:45 IO           INFO    Parameter phoebe_lc_indep has no Phoebe 2 counterpart\n",
      "Fri, 10 Feb 2017 11:45 PARAMETERS   INFO    copying 'enabled' parameter for {'dataset': 'rv1'}\n",
      "Fri, 10 Feb 2017 11:46 PARAMETERS   INFO    copying 'rv_method' parameter for {'component': '_default', 'dataset': 'rv1'}\n",
      "Fri, 10 Feb 2017 11:46 PARAMETERS   INFO    copying 'rv_grav' parameter for {'component': '_default', 'dataset': 'rv1'}\n",
      "Fri, 10 Feb 2017 11:46 PARAMETERS   INFO    copying 'times' parameter for {'component': 'primary'}\n",
      "Fri, 10 Feb 2017 11:46 PARAMETERS   INFO    copying 'times' parameter for {'component': 'secondary'}\n",
      "Fri, 10 Feb 2017 11:46 PARAMETERS   INFO    copying 'rvs' parameter for {'component': 'primary'}\n",
      "Fri, 10 Feb 2017 11:46 PARAMETERS   INFO    copying 'rvs' parameter for {'component': 'secondary'}\n",
      "Fri, 10 Feb 2017 11:46 PARAMETERS   INFO    copying 'sigmas' parameter for {'component': 'primary'}\n",
      "Fri, 10 Feb 2017 11:46 PARAMETERS   INFO    copying 'sigmas' parameter for {'component': 'secondary'}\n",
      "Fri, 10 Feb 2017 11:46 PARAMETERS   INFO    copying 'rv_method' parameter for {'component': 'primary', 'dataset': 'rv1'}\n",
      "Fri, 10 Feb 2017 11:46 PARAMETERS   INFO    copying 'rv_method' parameter for {'component': 'secondary', 'dataset': 'rv1'}\n",
      "Fri, 10 Feb 2017 11:46 PARAMETERS   INFO    copying 'rv_grav' parameter for {'component': 'primary', 'dataset': 'rv1'}\n",
      "Fri, 10 Feb 2017 11:46 PARAMETERS   INFO    copying 'rv_grav' parameter for {'component': 'secondary', 'dataset': 'rv1'}\n",
      "Fri, 10 Feb 2017 11:46 PARAMETERS   INFO    copying 'ld_func' parameter for {'component': 'primary'}\n",
      "Fri, 10 Feb 2017 11:46 PARAMETERS   INFO    copying 'ld_func' parameter for {'component': 'secondary'}\n",
      "Fri, 10 Feb 2017 11:46 PARAMETERS   INFO    copying 'ld_coeffs' parameter for {'component': 'primary'}\n",
      "Fri, 10 Feb 2017 11:46 PARAMETERS   INFO    copying 'ld_coeffs' parameter for {'component': 'secondary'}\n",
      "Fri, 10 Feb 2017 11:46 IO           INFO    Parameter phoebe_rv_cadence_switch has no Phoebe 2 counterpart\n",
      "Fri, 10 Feb 2017 11:46 IO           INFO    Parameter phoebe_rv_filename has no Phoebe 2 counterpart\n",
      "Fri, 10 Feb 2017 11:46 IO           INFO    Parameter phoebe_rv_sigma has no Phoebe 2 counterpart\n",
      "Fri, 10 Feb 2017 11:46 IO           INFO    Parameter phoebe_rv_dep has no Phoebe 2 counterpart\n",
      "Fri, 10 Feb 2017 11:46 IO           INFO    Parameter phoebe_rv_indweight has no Phoebe 2 counterpart\n",
      "Fri, 10 Feb 2017 11:46 IO           INFO    Parameter phoebe_rv_cadence_timestamp has no Phoebe 2 counterpart\n",
      "Fri, 10 Feb 2017 11:46 IO           INFO    Parameter phoebe_rv_indep has no Phoebe 2 counterpart\n",
      "Fri, 10 Feb 2017 11:46 IO           INFO    Parameter phoebe_rv_cadence_switch has no Phoebe 2 counterpart\n",
      "Fri, 10 Feb 2017 11:46 IO           INFO    Parameter phoebe_rv_filename has no Phoebe 2 counterpart\n",
      "Fri, 10 Feb 2017 11:46 IO           INFO    Parameter phoebe_rv_sigma has no Phoebe 2 counterpart\n",
      "Fri, 10 Feb 2017 11:46 IO           INFO    Parameter phoebe_rv_dep has no Phoebe 2 counterpart\n",
      "Fri, 10 Feb 2017 11:46 IO           INFO    Parameter phoebe_rv_indweight has no Phoebe 2 counterpart\n",
      "Fri, 10 Feb 2017 11:46 IO           INFO    Parameter phoebe_rv_cadence_timestamp has no Phoebe 2 counterpart\n",
      "Fri, 10 Feb 2017 11:46 IO           INFO    Parameter phoebe_rv_indep has no Phoebe 2 counterpart\n",
      "Fri, 10 Feb 2017 11:46 IO           INFO    Parameter phoebe_spno has no Phoebe 2 counterpart\n",
      "Fri, 10 Feb 2017 11:46 IO           INFO    Parameter phoebe_opsf[1] has no Phoebe 2 counterpart\n",
      "Fri, 10 Feb 2017 11:46 IO           INFO    Parameter phoebe_opsf[2] has no Phoebe 2 counterpart\n",
      "Fri, 10 Feb 2017 11:46 IO           INFO    Parameter phoebe_name has no Phoebe 2 counterpart\n",
      "Fri, 10 Feb 2017 11:46 IO           INFO    Parameter phoebe_reffect_switch has no Phoebe 2 counterpart\n",
      "Fri, 10 Feb 2017 11:46 IO           INFO    Parameter phoebe_logg1 has no Phoebe 2 counterpart\n",
      "Fri, 10 Feb 2017 11:46 IO           INFO    Parameter phoebe_logg2 has no Phoebe 2 counterpart\n",
      "Fri, 10 Feb 2017 11:46 IO           INFO    Parameter phoebe_compute_hla_switch has no Phoebe 2 counterpart\n",
      "Fri, 10 Feb 2017 11:46 IO           INFO    Parameter phoebe_bins_switch has no Phoebe 2 counterpart\n",
      "Fri, 10 Feb 2017 11:46 IO           INFO    Parameter phoebe_compute_logg_switch has no Phoebe 2 counterpart\n",
      "Fri, 10 Feb 2017 11:46 IO           INFO    Parameter phoebe_dc_spot2id has no Phoebe 2 counterpart\n",
      "Fri, 10 Feb 2017 11:46 IO           INFO    Parameter phoebe_el3_units has no Phoebe 2 counterpart\n",
      "Fri, 10 Feb 2017 11:46 IO           INFO    Parameter phoebe_ie_factor has no Phoebe 2 counterpart\n",
      "Fri, 10 Feb 2017 11:46 IO           INFO    Parameter phoebe_nms_accuracy has no Phoebe 2 counterpart\n",
      "Fri, 10 Feb 2017 11:46 IO           INFO    Parameter phoebe_indep has no Phoebe 2 counterpart\n",
      "Fri, 10 Feb 2017 11:46 IO           INFO    Parameter phoebe_grid_coarsesize1 has no Phoebe 2 counterpart\n",
      "Fri, 10 Feb 2017 11:46 IO           INFO    Parameter phoebe_grid_coarsesize2 has no Phoebe 2 counterpart\n",
      "Fri, 10 Feb 2017 11:46 IO           WARNING If you would like to use phoebe 1 atmospheres, you must add this manually\n",
      "Fri, 10 Feb 2017 11:46 IO           INFO    Parameter phoebe_model has no Phoebe 2 counterpart\n",
      "Fri, 10 Feb 2017 11:46 IO           INFO    Parameter phoebe_bins has no Phoebe 2 counterpart\n",
      "Fri, 10 Feb 2017 11:46 IO           WARNING If you would like to use phoebe 1 atmospheres, you must add this manually\n",
      "Fri, 10 Feb 2017 11:46 IO           INFO    Parameter phoebe_nms_iters_max has no Phoebe 2 counterpart\n",
      "Fri, 10 Feb 2017 11:46 IO           INFO    Parameter phoebe_dc_spot1src has no Phoebe 2 counterpart\n",
      "Fri, 10 Feb 2017 11:46 IO           INFO    Parameter phoebe_synscatter_seed has no Phoebe 2 counterpart\n",
      "Fri, 10 Feb 2017 11:46 IO           INFO    Parameter phoebe_mbol1 has no Phoebe 2 counterpart\n",
      "Fri, 10 Feb 2017 11:46 IO           INFO    Parameter phoebe_synscatter_switch has no Phoebe 2 counterpart\n",
      "Fri, 10 Feb 2017 11:46 IO           INFO    Parameter phoebe_proximity_rv2_switch has no Phoebe 2 counterpart\n",
      "Fri, 10 Feb 2017 11:46 IO           INFO    Parameter phoebe_mbol2 has no Phoebe 2 counterpart\n",
      "Fri, 10 Feb 2017 11:46 IO           INFO    Parameter phoebe_sbr1 has no Phoebe 2 counterpart\n",
      "Fri, 10 Feb 2017 11:46 IO           INFO    Parameter phoebe_synscatter_sigma has no Phoebe 2 counterpart\n",
      "Fri, 10 Feb 2017 11:46 IO           INFO    Parameter phoebe_sbr2 has no Phoebe 2 counterpart\n",
      "Fri, 10 Feb 2017 11:46 IO           INFO    Parameter phoebe_spectra_disptype has no Phoebe 2 counterpart\n",
      "Fri, 10 Feb 2017 11:46 IO           INFO    Parameter phoebe_mnorm has no Phoebe 2 counterpart\n",
      "Fri, 10 Feb 2017 11:46 IO           INFO    Parameter phoebe_mass1 has no Phoebe 2 counterpart\n",
      "Fri, 10 Feb 2017 11:46 IO           INFO    Parameter phoebe_dc_spot2src has no Phoebe 2 counterpart\n",
      "Fri, 10 Feb 2017 11:46 IO           INFO    Parameter phoebe_mass2 has no Phoebe 2 counterpart\n",
      "Fri, 10 Feb 2017 11:46 IO           INFO    Parameter phoebe_ie_excess has no Phoebe 2 counterpart\n"
     ]
    },
    {
     "ename": "ValueError",
     "evalue": "no parameters found",
     "output_type": "error",
     "traceback": [
      "\u001b[0;31m---------------------------------------------------------------------------\u001b[0m",
      "\u001b[0;31mValueError\u001b[0m                                Traceback (most recent call last)",
      "\u001b[0;32m<ipython-input-7-601172b48c45>\u001b[0m in \u001b[0;36m<module>\u001b[0;34m()\u001b[0m\n\u001b[0;32m----> 1\u001b[0;31m \u001b[0mb\u001b[0m \u001b[0;34m=\u001b[0m \u001b[0mphoebe\u001b[0m\u001b[0;34m.\u001b[0m\u001b[0mBundle\u001b[0m\u001b[0;34m.\u001b[0m\u001b[0mfrom_legacy\u001b[0m\u001b[0;34m(\u001b[0m\u001b[0;34m'legacy.phoebe'\u001b[0m\u001b[0;34m)\u001b[0m\u001b[0;34m\u001b[0m\u001b[0m\n\u001b[0m",
      "\u001b[0;32m/home/kyle/.local/lib/python2.7/site-packages/phoebe/frontend/bundle.pyc\u001b[0m in \u001b[0;36mfrom_legacy\u001b[0;34m(cls, filename, add_compute_legacy, add_compute_phoebe)\u001b[0m\n\u001b[1;32m    253\u001b[0m         \u001b[0;34m:\u001b[0m\u001b[0;32mreturn\u001b[0m\u001b[0;34m:\u001b[0m \u001b[0minstantiated\u001b[0m \u001b[0;34m:\u001b[0m\u001b[0;32mclass\u001b[0m\u001b[0;34m:\u001b[0m\u001b[0;34m`\u001b[0m\u001b[0mBundle\u001b[0m\u001b[0;34m`\u001b[0m \u001b[0mobject\u001b[0m\u001b[0;34m\u001b[0m\u001b[0m\n\u001b[1;32m    254\u001b[0m         \"\"\"\n\u001b[0;32m--> 255\u001b[0;31m         \u001b[0;32mreturn\u001b[0m \u001b[0mio\u001b[0m\u001b[0;34m.\u001b[0m\u001b[0mload_legacy\u001b[0m\u001b[0;34m(\u001b[0m\u001b[0mfilename\u001b[0m\u001b[0;34m,\u001b[0m \u001b[0madd_compute_legacy\u001b[0m\u001b[0;34m,\u001b[0m \u001b[0madd_compute_phoebe\u001b[0m\u001b[0;34m)\u001b[0m\u001b[0;34m\u001b[0m\u001b[0m\n\u001b[0m\u001b[1;32m    256\u001b[0m \u001b[0;34m\u001b[0m\u001b[0m\n\u001b[1;32m    257\u001b[0m     \u001b[0;34m@\u001b[0m\u001b[0mclassmethod\u001b[0m\u001b[0;34m\u001b[0m\u001b[0m\n",
      "\u001b[0;32m/home/kyle/.local/lib/python2.7/site-packages/phoebe/frontend/io.pyc\u001b[0m in \u001b[0;36mload_legacy\u001b[0;34m(filename, add_compute_legacy, add_compute_phoebe)\u001b[0m\n\u001b[1;32m    798\u001b[0m                     \u001b[0;31m# set gridsize\u001b[0m\u001b[0;34m\u001b[0m\u001b[0;34m\u001b[0m\u001b[0m\n\u001b[1;32m    799\u001b[0m             \u001b[0md\u001b[0m\u001b[0;34m[\u001b[0m\u001b[0;34m'value'\u001b[0m\u001b[0;34m]\u001b[0m \u001b[0;34m=\u001b[0m \u001b[0mval\u001b[0m\u001b[0;34m\u001b[0m\u001b[0m\n\u001b[0;32m--> 800\u001b[0;31m             \u001b[0meb\u001b[0m\u001b[0;34m.\u001b[0m\u001b[0mset_value_all\u001b[0m\u001b[0;34m(\u001b[0m\u001b[0mcheck_visible\u001b[0m\u001b[0;34m=\u001b[0m\u001b[0mFalse\u001b[0m\u001b[0;34m,\u001b[0m \u001b[0;34m**\u001b[0m\u001b[0md\u001b[0m\u001b[0;34m)\u001b[0m\u001b[0;34m\u001b[0m\u001b[0m\n\u001b[0m\u001b[1;32m    801\u001b[0m             \u001b[0;31m# change parameter and value to ntriangles\u001b[0m\u001b[0;34m\u001b[0m\u001b[0;34m\u001b[0m\u001b[0m\n\u001b[1;32m    802\u001b[0m             \u001b[0mval\u001b[0m \u001b[0;34m=\u001b[0m \u001b[0mN_to_Ntriangles\u001b[0m\u001b[0;34m(\u001b[0m\u001b[0mint\u001b[0m\u001b[0;34m(\u001b[0m\u001b[0mnp\u001b[0m\u001b[0;34m.\u001b[0m\u001b[0mfloat\u001b[0m\u001b[0;34m(\u001b[0m\u001b[0mval\u001b[0m\u001b[0;34m)\u001b[0m\u001b[0;34m)\u001b[0m\u001b[0;34m)\u001b[0m\u001b[0;34m\u001b[0m\u001b[0m\n",
      "\u001b[0;32m/home/kyle/.local/lib/python2.7/site-packages/phoebe/parameters/parameters.pyc\u001b[0m in \u001b[0;36mset_value_all\u001b[0;34m(self, twig, value, check_default, **kwargs)\u001b[0m\n\u001b[1;32m   1684\u001b[0m \u001b[0;34m\u001b[0m\u001b[0m\n\u001b[1;32m   1685\u001b[0m         \u001b[0;32mif\u001b[0m \u001b[0;32mnot\u001b[0m \u001b[0mkwargs\u001b[0m\u001b[0;34m.\u001b[0m\u001b[0mpop\u001b[0m\u001b[0;34m(\u001b[0m\u001b[0;34m'ignore_none'\u001b[0m\u001b[0;34m,\u001b[0m \u001b[0mFalse\u001b[0m\u001b[0;34m)\u001b[0m \u001b[0;32mand\u001b[0m \u001b[0;32mnot\u001b[0m \u001b[0mlen\u001b[0m\u001b[0;34m(\u001b[0m\u001b[0mparams\u001b[0m\u001b[0;34m)\u001b[0m\u001b[0;34m:\u001b[0m\u001b[0;34m\u001b[0m\u001b[0m\n\u001b[0;32m-> 1686\u001b[0;31m             \u001b[0;32mraise\u001b[0m \u001b[0mValueError\u001b[0m\u001b[0;34m(\u001b[0m\u001b[0;34m\"no parameters found\"\u001b[0m\u001b[0;34m)\u001b[0m\u001b[0;34m\u001b[0m\u001b[0m\n\u001b[0m\u001b[1;32m   1687\u001b[0m \u001b[0;34m\u001b[0m\u001b[0m\n\u001b[1;32m   1688\u001b[0m         \u001b[0;32mfor\u001b[0m \u001b[0mparam\u001b[0m \u001b[0;32min\u001b[0m \u001b[0mparams\u001b[0m\u001b[0;34m:\u001b[0m\u001b[0;34m\u001b[0m\u001b[0m\n",
      "\u001b[0;31mValueError\u001b[0m: no parameters found"
     ]
    }
   ],
   "source": [
    "b = phoebe.Bundle.from_legacy('legacy.phoebe')"
   ]
  },
  {
   "cell_type": "markdown",
   "metadata": {},
   "source": [
    "Exporting to a PHOEBE Legacy file is also possible (although note that some parameters don't translate exactly or are not supported in PHOEBE Legacy)."
   ]
  },
  {
   "cell_type": "code",
   "execution_count": null,
   "metadata": {
    "collapsed": false
   },
   "outputs": [],
   "source": [
    "b.export_legacy('legacy_export.phoebe')"
   ]
  },
  {
   "cell_type": "markdown",
   "metadata": {},
   "source": [
    "For the parameters that could not be directly translated, you should see a warning message (if you have warning messages enabled in your logger).\n",
    "\n",
    "We can now look at the beginning of the saved file and see that it matches the PHOEBE Legacy file-format."
   ]
  },
  {
   "cell_type": "code",
   "execution_count": null,
   "metadata": {
    "collapsed": false
   },
   "outputs": [],
   "source": [
    "!head -n 30 legacy_export.phoebe"
   ]
  }
 ],
 "metadata": {
  "kernelspec": {
   "display_name": "Python 2",
   "language": "python",
   "name": "python2"
  }
 },
 "nbformat": 4,
 "nbformat_minor": 0
}
