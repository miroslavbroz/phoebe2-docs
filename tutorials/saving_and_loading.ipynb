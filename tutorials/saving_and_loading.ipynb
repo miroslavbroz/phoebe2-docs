{
 "cells": [
  {
   "cell_type": "markdown",
   "metadata": {},
   "source": [
    "Advanced: Saving, Loading, and Exporting\n",
    "============================\n",
    "\n",
    "Setup\n",
    "-----------------------------"
   ]
  },
  {
   "cell_type": "markdown",
   "metadata": {},
   "source": [
    "Let's first make sure we have the latest version of PHOEBE 2.3 installed (uncomment this line if running in an online notebook session such as colab)."
   ]
  },
  {
   "cell_type": "code",
   "execution_count": 1,
   "metadata": {},
   "outputs": [],
   "source": [
    "#!pip install -I \"phoebe>=2.3,<2.4\""
   ]
  },
  {
   "cell_type": "code",
   "execution_count": 2,
   "metadata": {},
   "outputs": [],
   "source": [
    "import phoebe\n",
    "from phoebe import u # units\n",
    "import numpy as np\n",
    "import matplotlib.pyplot as plt\n",
    "\n",
    "logger = phoebe.logger(clevel='INFO')\n",
    "\n",
    "b = phoebe.default_binary()"
   ]
  },
  {
   "cell_type": "markdown",
   "metadata": {},
   "source": [
    "Saving a Bundle\n",
    "-----------------------\n",
    "\n"
   ]
  },
  {
   "cell_type": "code",
   "execution_count": 3,
   "metadata": {},
   "outputs": [],
   "source": [
    "b['incl@orbit'] = 56.789"
   ]
  },
  {
   "cell_type": "markdown",
   "metadata": {},
   "source": [
    "To save the Bundle to a file, we can call the [save](../api/phoebe.parameters.ParameterSet.save.md) method of the Bundle and pass a filename."
   ]
  },
  {
   "cell_type": "code",
   "execution_count": 4,
   "metadata": {},
   "outputs": [
    {
     "name": "stdout",
     "output_type": "stream",
     "text": [
      "test.phoebe\n"
     ]
    }
   ],
   "source": [
    "print(b.save('test.phoebe'))"
   ]
  },
  {
   "cell_type": "markdown",
   "metadata": {},
   "source": [
    "We can now inspect the contents of the created file.\n",
    "\n",
    "This file is in the JSON-format and is simply a list of dictionaries - where each dictionary represents the attributes of a single Parameter.\n",
    "\n",
    "You could edit this file in a text-editor - but do be careful if changing any of the tags.  For example: if you want to change the component tag of one of your stars, make sure to change ALL instances of the component tag to match (as well as the hierarchy Parameter)."
   ]
  },
  {
   "cell_type": "code",
   "execution_count": 5,
   "metadata": {},
   "outputs": [
    {
     "name": "stdout",
     "output_type": "stream",
     "text": [
      "[\r\n",
      "{\r\n",
      "\"Class\": \"FloatParameter\",\r\n",
      "\"context\": \"system\",\r\n",
      "\"copy_for\": false,\r\n",
      "\"default_unit\": \"d\",\r\n",
      "\"description\": \"Time at which all values are provided\",\r\n",
      "\"limits\": [\r\n",
      "null,\r\n",
      "null\r\n",
      "],\r\n",
      "\"qualifier\": \"t0\",\r\n",
      "\"uniqueid\": \"UbRfhbRqLTfswYWdzADamYdKOetLjl\",\r\n",
      "\"value\": 0.0\r\n",
      "},\r\n",
      "{\r\n",
      "\"Class\": \"FloatParameter\",\r\n",
      "\"advanced\": true,\r\n",
      "\"context\": \"system\",\r\n",
      "\"copy_for\": false,\r\n",
      "\"default_unit\": \"deg\",\r\n",
      "\"description\": \"Right ascension\",\r\n",
      "\"limits\": [\r\n",
      "null,\r\n",
      "null\r\n",
      "],\r\n",
      "\"qualifier\": \"ra\",\r\n",
      "\"uniqueid\": \"ulQCockYIeZTuHDNgLHEsVChljetOA\",\r\n",
      "\"value\": 0.0\r\n",
      "},\r\n"
     ]
    }
   ],
   "source": [
    "!head -n 30 test.phoebe"
   ]
  },
  {
   "cell_type": "markdown",
   "metadata": {},
   "source": [
    "Loading a Bundle\n",
    "----------------------"
   ]
  },
  {
   "cell_type": "markdown",
   "metadata": {},
   "source": [
    "To open an existing Bundle from the file we just created, call [Bundle.open](../api/phoebe.frontend.bundle.Bundle.open.md) and pass the filename."
   ]
  },
  {
   "cell_type": "code",
   "execution_count": 6,
   "metadata": {},
   "outputs": [],
   "source": [
    "b2 = phoebe.Bundle.open('test.phoebe')"
   ]
  },
  {
   "cell_type": "markdown",
   "metadata": {},
   "source": [
    "Just to prove this worked, we can check to make sure we retained the changed value of inclination."
   ]
  },
  {
   "cell_type": "code",
   "execution_count": 7,
   "metadata": {},
   "outputs": [
    {
     "name": "stdout",
     "output_type": "stream",
     "text": [
      "56.789\n"
     ]
    }
   ],
   "source": [
    "print(b2.get_value('incl@orbit'))"
   ]
  },
  {
   "cell_type": "markdown",
   "metadata": {
    "collapsed": true
   },
   "source": [
    "Support for Other Codes\n",
    "------------------------------\n",
    "\n",
    "### Legacy\n",
    "\n",
    "Importing from a PHOEBE Legacy file is as simple as passing the filename to [from_legacy](../api/phoebe.frontend.bundle.Bundle.from_legacy.md):"
   ]
  },
  {
   "cell_type": "code",
   "execution_count": 8,
   "metadata": {},
   "outputs": [
    {
     "name": "stderr",
     "output_type": "stream",
     "text": [
      "Mon, 25 May 2020 13:04 BUNDLE       WARNING importing from legacy is experimental until official 1.0 release\n",
      "Mon, 25 May 2020 13:04 BUNDLE       INFO    adding legacy 'legacy01' compute to bundle\n",
      "Mon, 25 May 2020 13:04 IO           WARNING Phoebe Legacy reflection effect switch is set to false so refl_num is being set to 0.\n",
      "Mon, 25 May 2020 13:04 IO           INFO    Parameter phoebe_spno has no Phoebe 2 counterpart\n",
      "Mon, 25 May 2020 13:04 IO           INFO    Parameter phoebe_opsf[1] has no Phoebe 2 counterpart\n",
      "Mon, 25 May 2020 13:04 IO           INFO    Parameter phoebe_opsf[2] has no Phoebe 2 counterpart\n",
      "Mon, 25 May 2020 13:04 IO           INFO    Parameter phoebe_name has no Phoebe 2 counterpart\n",
      "Mon, 25 May 2020 13:04 IO           INFO    Parameter phoebe_reffect_switch has no Phoebe 2 counterpart\n",
      "Mon, 25 May 2020 13:04 IO           INFO    Parameter phoebe_logg1 has no Phoebe 2 counterpart\n",
      "Mon, 25 May 2020 13:04 IO           INFO    Parameter phoebe_logg2 has no Phoebe 2 counterpart\n",
      "Mon, 25 May 2020 13:04 IO           INFO    Parameter phoebe_compute_hla_switch has no Phoebe 2 counterpart\n",
      "Mon, 25 May 2020 13:04 IO           INFO    Parameter phoebe_bins_switch has no Phoebe 2 counterpart\n",
      "Mon, 25 May 2020 13:04 IO           INFO    Parameter phoebe_compute_logg_switch has no Phoebe 2 counterpart\n",
      "Mon, 25 May 2020 13:04 IO           INFO    Parameter phoebe_dc_spot2id has no Phoebe 2 counterpart\n",
      "Mon, 25 May 2020 13:04 IO           INFO    Parameter phoebe_ie_factor has no Phoebe 2 counterpart\n",
      "Mon, 25 May 2020 13:04 IO           INFO    Parameter phoebe_nms_accuracy has no Phoebe 2 counterpart\n",
      "Mon, 25 May 2020 13:04 IO           INFO    Parameter phoebe_indep has no Phoebe 2 counterpart\n",
      "Mon, 25 May 2020 13:04 IO           INFO    Parameter phoebe_grid_coarsesize1 has no Phoebe 2 counterpart\n",
      "Mon, 25 May 2020 13:04 IO           INFO    Parameter phoebe_grid_coarsesize2 has no Phoebe 2 counterpart\n",
      "Mon, 25 May 2020 13:04 IO           WARNING If you would like to use phoebe 1 atmospheres, you must add this manually\n",
      "Mon, 25 May 2020 13:04 IO           INFO    Parameter phoebe_model has no Phoebe 2 counterpart\n",
      "Mon, 25 May 2020 13:04 IO           INFO    Parameter phoebe_bins has no Phoebe 2 counterpart\n",
      "Mon, 25 May 2020 13:04 IO           WARNING If you would like to use phoebe 1 atmospheres, you must add this manually\n",
      "Mon, 25 May 2020 13:04 IO           INFO    Parameter phoebe_nms_iters_max has no Phoebe 2 counterpart\n",
      "Mon, 25 May 2020 13:05 BUNDLE       INFO    flipping constraint 't0_ref@constraint' to solve for 't0_supconj'\n",
      "Mon, 25 May 2020 13:05 IO           INFO    Parameter phoebe_dc_spot1src has no Phoebe 2 counterpart\n",
      "Mon, 25 May 2020 13:05 IO           INFO    Parameter phoebe_synscatter_seed has no Phoebe 2 counterpart\n",
      "Mon, 25 May 2020 13:05 IO           INFO    Parameter phoebe_mbol1 has no Phoebe 2 counterpart\n",
      "Mon, 25 May 2020 13:05 IO           INFO    Parameter phoebe_synscatter_switch has no Phoebe 2 counterpart\n",
      "Mon, 25 May 2020 13:05 IO           INFO    Parameter phoebe_proximity_rv2_switch has no Phoebe 2 counterpart\n",
      "Mon, 25 May 2020 13:05 IO           INFO    Parameter phoebe_mbol2 has no Phoebe 2 counterpart\n",
      "Mon, 25 May 2020 13:05 IO           INFO    Parameter phoebe_pshift has no Phoebe 2 counterpart\n",
      "Mon, 25 May 2020 13:05 IO           INFO    Parameter phoebe_sbr1 has no Phoebe 2 counterpart\n",
      "Mon, 25 May 2020 13:05 IO           INFO    Parameter phoebe_synscatter_sigma has no Phoebe 2 counterpart\n",
      "Mon, 25 May 2020 13:05 IO           INFO    Parameter phoebe_sbr2 has no Phoebe 2 counterpart\n",
      "Mon, 25 May 2020 13:05 IO           INFO    Parameter phoebe_spectra_disptype has no Phoebe 2 counterpart\n",
      "Mon, 25 May 2020 13:05 IO           INFO    Parameter phoebe_cla[1] has no Phoebe 2 counterpart\n",
      "Mon, 25 May 2020 13:05 IO           INFO    Parameter phoebe_cla[2] has no Phoebe 2 counterpart\n",
      "Mon, 25 May 2020 13:05 IO           INFO    Parameter phoebe_mnorm has no Phoebe 2 counterpart\n",
      "Mon, 25 May 2020 13:05 IO           INFO    Parameter phoebe_mass1 has no Phoebe 2 counterpart\n",
      "Mon, 25 May 2020 13:05 IO           INFO    Parameter phoebe_dc_spot2src has no Phoebe 2 counterpart\n",
      "Mon, 25 May 2020 13:05 IO           INFO    Parameter phoebe_mass2 has no Phoebe 2 counterpart\n",
      "Mon, 25 May 2020 13:05 IO           INFO    Parameter phoebe_ie_excess has no Phoebe 2 counterpart\n",
      "Mon, 25 May 2020 13:05 IO           INFO    Parameter phoebe_vol1 has no Phoebe 2 counterpart\n",
      "Mon, 25 May 2020 13:05 IO           INFO    Parameter phoebe_passband_mode has no Phoebe 2 counterpart\n",
      "Mon, 25 May 2020 13:05 IO           INFO    Parameter phoebe_vol2 has no Phoebe 2 counterpart\n",
      "Mon, 25 May 2020 13:05 IO           INFO    Parameter phoebe_plum1 has no Phoebe 2 counterpart\n",
      "Mon, 25 May 2020 13:05 IO           INFO    Parameter phoebe_plum2 has no Phoebe 2 counterpart\n",
      "Mon, 25 May 2020 13:05 IO           INFO    Parameter phoebe_extinction[1] has no Phoebe 2 counterpart\n",
      "Mon, 25 May 2020 13:05 IO           INFO    Parameter phoebe_extinction[2] has no Phoebe 2 counterpart\n",
      "Mon, 25 May 2020 13:05 IO           INFO    Parameter phoebe_proximity_rv1_switch has no Phoebe 2 counterpart\n",
      "Mon, 25 May 2020 13:05 IO           INFO    Parameter phoebe_usecla_switch has no Phoebe 2 counterpart\n",
      "Mon, 25 May 2020 13:05 IO           INFO    Parameter phoebe_el3[1] has no Phoebe 2 counterpart\n",
      "Mon, 25 May 2020 13:05 IO           INFO    Parameter phoebe_el3[2] has no Phoebe 2 counterpart\n",
      "Mon, 25 May 2020 13:05 IO           INFO    Parameter phoebe_dc_symder_switch has no Phoebe 2 counterpart\n",
      "Mon, 25 May 2020 13:05 IO           INFO    Parameter phoebe_dc_spot1id has no Phoebe 2 counterpart\n",
      "Mon, 25 May 2020 13:05 IO           INFO    Parameter phoebe_radius1 has no Phoebe 2 counterpart\n",
      "Mon, 25 May 2020 13:05 IO           INFO    Parameter phoebe_radius2 has no Phoebe 2 counterpart\n",
      "Mon, 25 May 2020 13:05 IO           INFO    Parameter phoebe_synscatter_levweight has no Phoebe 2 counterpart\n",
      "Mon, 25 May 2020 13:05 IO           INFO    Parameter phoebe_dc_lambda has no Phoebe 2 counterpart\n",
      "Mon, 25 May 2020 13:05 IO           INFO    Parameter phoebe_compute_vga_switch has no Phoebe 2 counterpart\n",
      "Mon, 25 May 2020 13:05 IO           INFO    Parameter phoebe_lc_dep has no Phoebe 2 counterpart\n",
      "Mon, 25 May 2020 13:05 IO           INFO    Parameter phoebe_lc_indep has no Phoebe 2 counterpart\n",
      "Mon, 25 May 2020 13:05 IO           INFO    Parameter phoebe_lc_indweight has no Phoebe 2 counterpart\n",
      "Mon, 25 May 2020 13:05 IO           INFO    Parameter phoebe_lc_filename has no Phoebe 2 counterpart\n",
      "Mon, 25 May 2020 13:05 IO           INFO    Parameter phoebe_lc_sigma has no Phoebe 2 counterpart\n",
      "Mon, 25 May 2020 13:05 IO           INFO    Parameter phoebe_lc_levweight has no Phoebe 2 counterpart\n",
      "Mon, 25 May 2020 13:05 IO           INFO    Parameter phoebe_lc_dep has no Phoebe 2 counterpart\n",
      "Mon, 25 May 2020 13:05 IO           INFO    Parameter phoebe_lc_indep has no Phoebe 2 counterpart\n",
      "Mon, 25 May 2020 13:05 IO           INFO    Parameter phoebe_lc_indweight has no Phoebe 2 counterpart\n",
      "Mon, 25 May 2020 13:05 IO           INFO    Parameter phoebe_lc_filename has no Phoebe 2 counterpart\n",
      "Mon, 25 May 2020 13:05 IO           INFO    Parameter phoebe_lc_sigma has no Phoebe 2 counterpart\n",
      "Mon, 25 May 2020 13:05 IO           INFO    Parameter phoebe_lc_levweight has no Phoebe 2 counterpart\n",
      "Mon, 25 May 2020 13:05 IO           INFO    Parameter phoebe_rv_cadence_switch has no Phoebe 2 counterpart\n",
      "Mon, 25 May 2020 13:05 IO           INFO    Parameter phoebe_rv_filename has no Phoebe 2 counterpart\n",
      "Mon, 25 May 2020 13:05 IO           INFO    Parameter phoebe_rv_indep has no Phoebe 2 counterpart\n",
      "Mon, 25 May 2020 13:05 IO           INFO    Parameter phoebe_rv_cadence_timestamp has no Phoebe 2 counterpart\n",
      "Mon, 25 May 2020 13:05 IO           INFO    Parameter phoebe_rv_sigma has no Phoebe 2 counterpart\n",
      "Mon, 25 May 2020 13:05 IO           INFO    Parameter phoebe_rv_indweight has no Phoebe 2 counterpart\n",
      "Mon, 25 May 2020 13:05 IO           INFO    Parameter phoebe_rv_dep has no Phoebe 2 counterpart\n",
      "Mon, 25 May 2020 13:05 IO           INFO    Parameter phoebe_rv_cadence_switch has no Phoebe 2 counterpart\n",
      "Mon, 25 May 2020 13:05 IO           INFO    Parameter phoebe_rv_filename has no Phoebe 2 counterpart\n"
     ]
    },
    {
     "name": "stderr",
     "output_type": "stream",
     "text": [
      "Mon, 25 May 2020 13:05 IO           INFO    Parameter phoebe_rv_indep has no Phoebe 2 counterpart\n",
      "Mon, 25 May 2020 13:05 IO           INFO    Parameter phoebe_rv_cadence_timestamp has no Phoebe 2 counterpart\n",
      "Mon, 25 May 2020 13:05 IO           INFO    Parameter phoebe_rv_sigma has no Phoebe 2 counterpart\n",
      "Mon, 25 May 2020 13:05 IO           INFO    Parameter phoebe_rv_indweight has no Phoebe 2 counterpart\n",
      "Mon, 25 May 2020 13:05 IO           INFO    Parameter phoebe_rv_dep has no Phoebe 2 counterpart\n",
      "Mon, 25 May 2020 13:05 BUNDLE       INFO    flipping constraint 't0_supconj@constraint' to solve for 't0_ref'\n"
     ]
    }
   ],
   "source": [
    "b = phoebe.Bundle.from_legacy('legacy.phoebe')"
   ]
  },
  {
   "cell_type": "markdown",
   "metadata": {},
   "source": [
    "Exporting to a PHOEBE Legacy file is also possible (although note that some parameters don't translate exactly or are not supported in PHOEBE Legacy), via [b.export_legacy](../api/phoebe.frontend.bundle.Bundle.export_legacy.md)."
   ]
  },
  {
   "cell_type": "code",
   "execution_count": 9,
   "metadata": {},
   "outputs": [
    {
     "name": "stderr",
     "output_type": "stream",
     "text": [
      "Mon, 25 May 2020 13:05 BUNDLE       WARNING exporting to legacy is experimental until official 1.0 release\n",
      "Mon, 25 May 2020 13:05 IO           WARNING requiv_max@primary@star@component has no phoebe 1 corollary\n",
      "Mon, 25 May 2020 13:05 IO           WARNING logg@primary@star@component has no phoebe 1 corollary\n",
      "Mon, 25 May 2020 13:05 IO           WARNING freq@primary@star@component has no phoebe 1 corollary\n",
      "Mon, 25 May 2020 13:05 IO           WARNING pitch@primary@star@component has no phoebe 1 corollary\n",
      "Mon, 25 May 2020 13:05 IO           WARNING yaw@primary@star@component has no phoebe 1 corollary\n",
      "Mon, 25 May 2020 13:05 IO           WARNING long_an@primary@star@component has no phoebe 1 corollary\n",
      "Mon, 25 May 2020 13:05 IO           WARNING irrad_frac_lost_bol@primary@star@component has no phoebe 1 corollary\n",
      "Mon, 25 May 2020 13:05 IO           WARNING ld_mode_bol@primary@star@component has no phoebe 1 corollary\n",
      "Mon, 25 May 2020 13:05 IO           WARNING ld_func_bol@primary@star@component has no phoebe 1 corollary\n",
      "Mon, 25 May 2020 13:05 IO           WARNING mass@primary@star@component has no phoebe 1 corollary\n",
      "Mon, 25 May 2020 13:05 IO           WARNING requiv_max@secondary@star@component has no phoebe 1 corollary\n",
      "Mon, 25 May 2020 13:05 IO           WARNING logg@secondary@star@component has no phoebe 1 corollary\n",
      "Mon, 25 May 2020 13:05 IO           WARNING freq@secondary@star@component has no phoebe 1 corollary\n",
      "Mon, 25 May 2020 13:05 IO           WARNING pitch@secondary@star@component has no phoebe 1 corollary\n",
      "Mon, 25 May 2020 13:05 IO           WARNING yaw@secondary@star@component has no phoebe 1 corollary\n",
      "Mon, 25 May 2020 13:05 IO           WARNING long_an@secondary@star@component has no phoebe 1 corollary\n",
      "Mon, 25 May 2020 13:05 IO           WARNING irrad_frac_lost_bol@secondary@star@component has no phoebe 1 corollary\n",
      "Mon, 25 May 2020 13:05 IO           WARNING ld_mode_bol@secondary@star@component has no phoebe 1 corollary\n",
      "Mon, 25 May 2020 13:05 IO           WARNING ld_func_bol@secondary@star@component has no phoebe 1 corollary\n",
      "Mon, 25 May 2020 13:05 IO           WARNING mass@secondary@star@component has no phoebe 1 corollary\n",
      "Mon, 25 May 2020 13:05 IO           WARNING intens_weighting@lc01@lc@dataset has no phoebe 1 corollary\n",
      "Mon, 25 May 2020 13:05 IO           WARNING compute_times@lc01@lc@dataset has no phoebe 1 corollary\n",
      "Mon, 25 May 2020 13:05 IO           WARNING compute_phases@binary@lc01@lc@dataset has no phoebe 1 corollary\n",
      "Mon, 25 May 2020 13:05 IO           WARNING phases_t0@binary@lc01@lc@dataset has no phoebe 1 corollary\n",
      "Mon, 25 May 2020 13:05 IO           WARNING mask_enabled@lc01@lc@dataset has no phoebe 1 corollary\n",
      "Mon, 25 May 2020 13:05 IO           WARNING mask_phases@binary@lc01@lc@dataset has no phoebe 1 corollary\n",
      "Mon, 25 May 2020 13:05 IO           WARNING solver_times@lc01@lc@dataset has no phoebe 1 corollary\n",
      "Mon, 25 May 2020 13:05 IO           WARNING sigmas_lnf@lc01@lc@dataset has no phoebe 1 corollary\n",
      "Mon, 25 May 2020 13:05 IO           WARNING pblum_mode@lc01@lc@dataset has no phoebe 1 corollary\n",
      "Mon, 25 May 2020 13:05 IO           WARNING pblum_component@lc01@lc@dataset has no phoebe 1 corollary\n",
      "Mon, 25 May 2020 13:05 IO           WARNING pblum_dataset@lc01@lc@dataset has no phoebe 1 corollary\n",
      "Mon, 25 May 2020 13:05 IO           WARNING pbflux@lc01@lc@dataset has no phoebe 1 corollary\n",
      "Mon, 25 May 2020 13:05 IO           WARNING Finite integration Time is not fully supported and will be turned off by legacy wrapper before computation\n",
      "Mon, 25 May 2020 13:05 IO           WARNING fti_method@lc01@phoebe01@phoebe@compute has no phoebe 1 corollary\n",
      "Mon, 25 May 2020 13:05 IO           WARNING fti_oversample@lc01@phoebe01@phoebe@compute has no phoebe 1 corollary\n",
      "Mon, 25 May 2020 13:05 IO           WARNING fti_method@lc01@legacy01@legacy@compute has no phoebe 1 corollary\n",
      "Mon, 25 May 2020 13:05 IO           WARNING fti_oversample@lc01@legacy01@legacy@compute has no phoebe 1 corollary\n",
      "Mon, 25 May 2020 13:05 IO           WARNING ld_mode@primary@lc01@lc@dataset has no phoebe 1 corollary\n",
      "Mon, 25 May 2020 13:05 IO           WARNING ld_mode@secondary@lc01@lc@dataset has no phoebe 1 corollary\n",
      "Mon, 25 May 2020 13:05 IO           WARNING ld_coeffs_source@primary@lc01@lc@dataset has no phoebe 1 corollary\n",
      "Mon, 25 May 2020 13:05 IO           WARNING ld_coeffs_source@secondary@lc01@lc@dataset has no phoebe 1 corollary\n",
      "Mon, 25 May 2020 13:05 IO           WARNING intens_weighting@lc02@lc@dataset has no phoebe 1 corollary\n",
      "Mon, 25 May 2020 13:05 IO           WARNING compute_times@lc02@lc@dataset has no phoebe 1 corollary\n",
      "Mon, 25 May 2020 13:05 IO           WARNING compute_phases@binary@lc02@lc@dataset has no phoebe 1 corollary\n",
      "Mon, 25 May 2020 13:05 IO           WARNING phases_t0@binary@lc02@lc@dataset has no phoebe 1 corollary\n",
      "Mon, 25 May 2020 13:05 IO           WARNING mask_enabled@lc02@lc@dataset has no phoebe 1 corollary\n",
      "Mon, 25 May 2020 13:05 IO           WARNING mask_phases@binary@lc02@lc@dataset has no phoebe 1 corollary\n",
      "Mon, 25 May 2020 13:05 IO           WARNING solver_times@lc02@lc@dataset has no phoebe 1 corollary\n",
      "Mon, 25 May 2020 13:05 IO           WARNING sigmas_lnf@lc02@lc@dataset has no phoebe 1 corollary\n",
      "Mon, 25 May 2020 13:05 IO           WARNING pblum_mode@lc02@lc@dataset has no phoebe 1 corollary\n",
      "Mon, 25 May 2020 13:05 IO           WARNING pblum_component@lc02@lc@dataset has no phoebe 1 corollary\n",
      "Mon, 25 May 2020 13:05 IO           WARNING pblum_dataset@lc02@lc@dataset has no phoebe 1 corollary\n",
      "Mon, 25 May 2020 13:05 IO           WARNING pbflux@lc02@lc@dataset has no phoebe 1 corollary\n",
      "Mon, 25 May 2020 13:05 IO           WARNING Finite integration Time is not fully supported and will be turned off by legacy wrapper before computation\n",
      "Mon, 25 May 2020 13:05 IO           WARNING fti_method@lc02@phoebe01@phoebe@compute has no phoebe 1 corollary\n",
      "Mon, 25 May 2020 13:05 IO           WARNING fti_oversample@lc02@phoebe01@phoebe@compute has no phoebe 1 corollary\n",
      "Mon, 25 May 2020 13:05 IO           WARNING fti_method@lc02@legacy01@legacy@compute has no phoebe 1 corollary\n",
      "Mon, 25 May 2020 13:05 IO           WARNING fti_oversample@lc02@legacy01@legacy@compute has no phoebe 1 corollary\n",
      "Mon, 25 May 2020 13:05 IO           WARNING ld_mode@primary@lc02@lc@dataset has no phoebe 1 corollary\n",
      "Mon, 25 May 2020 13:05 IO           WARNING ld_mode@secondary@lc02@lc@dataset has no phoebe 1 corollary\n",
      "Mon, 25 May 2020 13:05 IO           WARNING ld_coeffs_source@primary@lc02@lc@dataset has no phoebe 1 corollary\n",
      "Mon, 25 May 2020 13:05 IO           WARNING ld_coeffs_source@secondary@lc02@lc@dataset has no phoebe 1 corollary\n",
      "Mon, 25 May 2020 13:05 IO           WARNING compute_times@rv1@rv@dataset has no phoebe 1 corollary\n",
      "Mon, 25 May 2020 13:05 IO           WARNING mask_enabled@rv1@rv@dataset has no phoebe 1 corollary\n",
      "Mon, 25 May 2020 13:05 IO           WARNING solver_times@rv1@rv@dataset has no phoebe 1 corollary\n",
      "Mon, 25 May 2020 13:05 IO           WARNING intens_weighting@rv1@rv@dataset has no phoebe 1 corollary\n",
      "Mon, 25 May 2020 13:05 IO           WARNING rv_method@primary@rv1@phoebe01@phoebe@compute has no phoebe 1 corollary\n",
      "Mon, 25 May 2020 13:05 IO           WARNING rv_grav@primary@rv1@phoebe01@phoebe@compute has no phoebe 1 corollary\n",
      "Mon, 25 May 2020 13:05 IO           WARNING rv_method@primary@rv1@legacy01@legacy@compute has no phoebe 1 corollary\n",
      "Mon, 25 May 2020 13:05 IO           WARNING sigmas_lnf@primary@rv1@rv@dataset has no phoebe 1 corollary\n",
      "Mon, 25 May 2020 13:05 IO           WARNING rv_offset@primary@rv1@rv@dataset has no phoebe 1 corollary\n",
      "Mon, 25 May 2020 13:05 IO           WARNING ld_mode@primary@rv1@rv@dataset has no phoebe 1 corollary\n",
      "Mon, 25 May 2020 13:05 IO           WARNING ld_coeffs_source@primary@rv1@rv@dataset has no phoebe 1 corollary\n",
      "Mon, 25 May 2020 13:05 IO           WARNING compute_times@rv1@rv@dataset has no phoebe 1 corollary\n",
      "Mon, 25 May 2020 13:05 IO           WARNING mask_enabled@rv1@rv@dataset has no phoebe 1 corollary\n",
      "Mon, 25 May 2020 13:05 IO           WARNING solver_times@rv1@rv@dataset has no phoebe 1 corollary\n",
      "Mon, 25 May 2020 13:05 IO           WARNING intens_weighting@rv1@rv@dataset has no phoebe 1 corollary\n",
      "Mon, 25 May 2020 13:05 IO           WARNING rv_method@secondary@rv1@phoebe01@phoebe@compute has no phoebe 1 corollary\n"
     ]
    },
    {
     "name": "stderr",
     "output_type": "stream",
     "text": [
      "Mon, 25 May 2020 13:05 IO           WARNING rv_grav@secondary@rv1@phoebe01@phoebe@compute has no phoebe 1 corollary\n",
      "Mon, 25 May 2020 13:05 IO           WARNING rv_method@secondary@rv1@legacy01@legacy@compute has no phoebe 1 corollary\n",
      "Mon, 25 May 2020 13:05 IO           WARNING sigmas_lnf@secondary@rv1@rv@dataset has no phoebe 1 corollary\n",
      "Mon, 25 May 2020 13:05 IO           WARNING rv_offset@secondary@rv1@rv@dataset has no phoebe 1 corollary\n",
      "Mon, 25 May 2020 13:05 IO           WARNING ld_mode@secondary@rv1@rv@dataset has no phoebe 1 corollary\n",
      "Mon, 25 May 2020 13:05 IO           WARNING ld_coeffs_source@secondary@rv1@rv@dataset has no phoebe 1 corollary\n",
      "Mon, 25 May 2020 13:05 IO           WARNING compute_times@rv2@rv@dataset has no phoebe 1 corollary\n",
      "Mon, 25 May 2020 13:05 IO           WARNING mask_enabled@rv2@rv@dataset has no phoebe 1 corollary\n",
      "Mon, 25 May 2020 13:05 IO           WARNING solver_times@rv2@rv@dataset has no phoebe 1 corollary\n",
      "Mon, 25 May 2020 13:05 IO           WARNING intens_weighting@rv2@rv@dataset has no phoebe 1 corollary\n",
      "Mon, 25 May 2020 13:05 IO           WARNING rv_method@primary@rv2@phoebe01@phoebe@compute has no phoebe 1 corollary\n",
      "Mon, 25 May 2020 13:05 IO           WARNING rv_grav@primary@rv2@phoebe01@phoebe@compute has no phoebe 1 corollary\n",
      "Mon, 25 May 2020 13:05 IO           WARNING rv_method@primary@rv2@legacy01@legacy@compute has no phoebe 1 corollary\n",
      "Mon, 25 May 2020 13:05 IO           WARNING sigmas_lnf@primary@rv2@rv@dataset has no phoebe 1 corollary\n",
      "Mon, 25 May 2020 13:05 IO           WARNING rv_offset@primary@rv2@rv@dataset has no phoebe 1 corollary\n",
      "Mon, 25 May 2020 13:05 IO           WARNING ld_mode@primary@rv2@rv@dataset has no phoebe 1 corollary\n",
      "Mon, 25 May 2020 13:05 IO           WARNING ld_coeffs_source@primary@rv2@rv@dataset has no phoebe 1 corollary\n",
      "Mon, 25 May 2020 13:05 IO           WARNING compute_times@rv2@rv@dataset has no phoebe 1 corollary\n",
      "Mon, 25 May 2020 13:05 IO           WARNING mask_enabled@rv2@rv@dataset has no phoebe 1 corollary\n",
      "Mon, 25 May 2020 13:05 IO           WARNING solver_times@rv2@rv@dataset has no phoebe 1 corollary\n",
      "Mon, 25 May 2020 13:05 IO           WARNING intens_weighting@rv2@rv@dataset has no phoebe 1 corollary\n",
      "Mon, 25 May 2020 13:05 IO           WARNING rv_method@secondary@rv2@phoebe01@phoebe@compute has no phoebe 1 corollary\n",
      "Mon, 25 May 2020 13:05 IO           WARNING rv_grav@secondary@rv2@phoebe01@phoebe@compute has no phoebe 1 corollary\n",
      "Mon, 25 May 2020 13:05 IO           WARNING rv_method@secondary@rv2@legacy01@legacy@compute has no phoebe 1 corollary\n",
      "Mon, 25 May 2020 13:05 IO           WARNING sigmas_lnf@secondary@rv2@rv@dataset has no phoebe 1 corollary\n",
      "Mon, 25 May 2020 13:05 IO           WARNING rv_offset@secondary@rv2@rv@dataset has no phoebe 1 corollary\n",
      "Mon, 25 May 2020 13:05 IO           WARNING ld_mode@secondary@rv2@rv@dataset has no phoebe 1 corollary\n",
      "Mon, 25 May 2020 13:05 IO           WARNING ld_coeffs_source@secondary@rv2@rv@dataset has no phoebe 1 corollary\n",
      "Mon, 25 May 2020 13:05 IO           WARNING freq@binary@orbit@component has no phoebe 1 corollary\n",
      "Mon, 25 May 2020 13:05 IO           WARNING t0_perpass@binary@orbit@component has no phoebe 1 corollary\n",
      "Mon, 25 May 2020 13:05 IO           WARNING t0_supconj@binary@orbit@component has no phoebe 1 corollary\n",
      "Mon, 25 May 2020 13:05 IO           WARNING mean_anom@binary@orbit@component has no phoebe 1 corollary\n",
      "Mon, 25 May 2020 13:05 IO           WARNING long_an@binary@orbit@component has no phoebe 1 corollary\n",
      "Mon, 25 May 2020 13:05 IO           WARNING asini@binary@orbit@component has no phoebe 1 corollary\n",
      "Mon, 25 May 2020 13:05 IO           WARNING ecosw@binary@orbit@component has no phoebe 1 corollary\n",
      "Mon, 25 May 2020 13:05 IO           WARNING esinw@binary@orbit@component has no phoebe 1 corollary\n",
      "Mon, 25 May 2020 13:05 IO           WARNING sample_from@legacy01@legacy@compute has no phoebe 1 corollary\n",
      "Mon, 25 May 2020 13:05 IO           WARNING sample_from_combine@legacy01@legacy@compute has no phoebe 1 corollary\n",
      "Mon, 25 May 2020 13:05 IO           WARNING sample_num@legacy01@legacy@compute has no phoebe 1 corollary\n",
      "Mon, 25 May 2020 13:05 IO           WARNING sample_mode@legacy01@legacy@compute has no phoebe 1 corollary\n",
      "Mon, 25 May 2020 13:05 IO           WARNING expose_samples@legacy01@legacy@compute has no phoebe 1 corollary\n",
      "Mon, 25 May 2020 13:05 IO           WARNING expose_failed@legacy01@legacy@compute has no phoebe 1 corollary\n",
      "Mon, 25 May 2020 13:05 IO           WARNING comments@legacy01@legacy@compute has no phoebe 1 corollary\n",
      "Mon, 25 May 2020 13:05 IO           WARNING pblum_method@legacy01@legacy@compute has no phoebe 1 corollary\n",
      "Mon, 25 May 2020 13:05 IO           WARNING irrad_method@legacy01@legacy@compute has no phoebe 1 corollary\n",
      "Mon, 25 May 2020 13:05 IO           WARNING To completely remove irradiation effects in PHOEBE Legacy irrad_frac_refl_bol must be set to zero for both components\n",
      "Mon, 25 May 2020 13:05 IO           WARNING distortion_method@primary@legacy01@legacy@compute has no phoebe 1 corollary\n",
      "Mon, 25 May 2020 13:05 IO           WARNING distortion_method@secondary@legacy01@legacy@compute has no phoebe 1 corollary\n",
      "Mon, 25 May 2020 13:05 IO           WARNING fti_method@lc01@legacy01@legacy@compute has no phoebe 1 corollary\n",
      "Mon, 25 May 2020 13:05 IO           WARNING fti_oversample@lc01@legacy01@legacy@compute has no phoebe 1 corollary\n",
      "Mon, 25 May 2020 13:05 IO           WARNING fti_method@lc02@legacy01@legacy@compute has no phoebe 1 corollary\n",
      "Mon, 25 May 2020 13:05 IO           WARNING fti_oversample@lc02@legacy01@legacy@compute has no phoebe 1 corollary\n",
      "Mon, 25 May 2020 13:05 IO           WARNING rv_method@primary@rv1@legacy01@legacy@compute has no phoebe 1 corollary\n",
      "Mon, 25 May 2020 13:05 IO           WARNING rv_method@secondary@rv1@legacy01@legacy@compute has no phoebe 1 corollary\n",
      "Mon, 25 May 2020 13:05 IO           WARNING rv_method@primary@rv2@legacy01@legacy@compute has no phoebe 1 corollary\n",
      "Mon, 25 May 2020 13:05 IO           WARNING rv_method@secondary@rv2@legacy01@legacy@compute has no phoebe 1 corollary\n",
      "Mon, 25 May 2020 13:05 IO           WARNING t0@system has no phoebe 1 corollary\n",
      "Mon, 25 May 2020 13:05 IO           WARNING ra@system has no phoebe 1 corollary\n",
      "Mon, 25 May 2020 13:05 IO           WARNING dec@system has no phoebe 1 corollary\n",
      "Mon, 25 May 2020 13:05 IO           WARNING distance@system has no phoebe 1 corollary\n",
      "Mon, 25 May 2020 13:05 IO           WARNING ebv@system has no phoebe 1 corollary\n",
      "Mon, 25 May 2020 13:05 IO           WARNING Av@system has no phoebe 1 corollary\n",
      "Mon, 25 May 2020 13:05 IO           WARNING Rv@system has no phoebe 1 corollary\n",
      "Mon, 25 May 2020 13:05 IO           WARNING hierarchy@system has no phoebe 1 corollary\n"
     ]
    }
   ],
   "source": [
    "b.export_legacy('legacy_export.phoebe')"
   ]
  },
  {
   "cell_type": "markdown",
   "metadata": {},
   "source": [
    "For the parameters that could not be directly translated, you should see a warning message (if you have warning messages enabled in your logger).\n",
    "\n",
    "We can now look at the beginning of the saved file and see that it matches the PHOEBE Legacy file-format."
   ]
  },
  {
   "cell_type": "code",
   "execution_count": 10,
   "metadata": {},
   "outputs": [
    {
     "name": "stdout",
     "output_type": "stream",
     "text": [
      "# Phoebe 1 file created from phoebe 2 bundle. Some functionality may be lost\r\n",
      "phoebe_rvno = 4\r\n",
      "phoebe_spots_no = 0\r\n",
      "phoebe_lcno = 2\r\n",
      "phoebe_indep = Time (HJD)\r\n",
      "phoebe_el3_units = \"Total light\"\r\n",
      "phoebe_ld_model = \"Logarithmic law\"\r\n",
      "phoebe_usecla_switch = 0\r\n",
      "phoebe_model = \"Detached binary\"\r\n",
      "phoebe_pot1.VAL = 10.0\r\n",
      "phoebe_teff1.VAL = 6000.0\r\n",
      "phoebe_met1.VAL = 0.0\r\n",
      "phoebe_f1.VAL = 1.0\r\n",
      "phoebe_grb1.VAL = 0.0\r\n",
      "phoebe_alb1.VAL = 0.0\r\n",
      "phoebe_ld_xbol1 = 0.0\r\n",
      "phoebe_ld_ybol1 = 0.0\r\n",
      "phoebe_pot2.VAL = 10.0\r\n",
      "phoebe_teff2.VAL = 6000.0\r\n",
      "phoebe_met2.VAL = 0.0\r\n",
      "phoebe_f2.VAL = 1.0\r\n",
      "phoebe_grb2.VAL = 0.32\r\n",
      "phoebe_alb2.VAL = 0.0\r\n",
      "phoebe_ld_xbol2 = 0.0\r\n",
      "phoebe_ld_ybol2 = 0.0\r\n",
      "phoebe_lc_indep[1] = Time (HJD)\r\n",
      "phoebe_lc_dep[1] = Flux\r\n",
      "phoebe_lc_id[1] = lc01\r\n",
      "phoebe_lc_filter[1] = Johnson:V\r\n",
      "phoebe_el3[1].VAL = 0.0\r\n"
     ]
    }
   ],
   "source": [
    "!head -n 30 legacy_export.phoebe"
   ]
  }
 ],
 "metadata": {
  "kernelspec": {
   "display_name": "Python 3",
   "language": "python",
   "name": "python3"
  },
  "language_info": {
   "codemirror_mode": {
    "name": "ipython",
    "version": 3
   },
   "file_extension": ".py",
   "mimetype": "text/x-python",
   "name": "python",
   "nbconvert_exporter": "python",
   "pygments_lexer": "ipython3",
   "version": "3.7.5"
  }
 },
 "nbformat": 4,
 "nbformat_minor": 1
}
