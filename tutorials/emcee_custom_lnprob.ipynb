{
 "cells": [
  {
   "cell_type": "markdown",
   "metadata": {},
   "source": [
    "# Advanced: Custom Cost Funtion (with emcee)\n",
    "\n",
    "**IMPORTANT**: this tutorial assumes basic knowledge (and uses a file resulting from) the [emcee tutorial](./emcee.ipynb), although the custom cost function itself can be used for any optimizer or sampler.\n",
    "\n",
    "**NOTE**: several bugs related to custom cost functions were fixed in version 2.3.40."
   ]
  },
  {
   "cell_type": "markdown",
   "metadata": {},
   "source": [
    "## Setup\n",
    "\n",
    "Let's first make sure we have the latest version of PHOEBE 2.3 installed (uncomment this line if running in an online notebook session such as colab)."
   ]
  },
  {
   "cell_type": "code",
   "execution_count": 1,
   "metadata": {},
   "outputs": [],
   "source": [
    "#!pip install -I \"phoebe>=2.3,<2.4\""
   ]
  },
  {
   "cell_type": "code",
   "execution_count": 2,
   "metadata": {},
   "outputs": [],
   "source": [
    "import phoebe\n",
    "from phoebe import u # units\n",
    "import numpy as np\n",
    "\n",
    "logger = phoebe.logger('error')"
   ]
  },
  {
   "cell_type": "markdown",
   "metadata": {},
   "source": [
    "We'll then start with the bundle from the end of the [emcee tutorial](./emcee.ipynb).  If you're running this notebook locally, you will need to run that first to create the `emcee_advanced_tutorials.bundle` file that we will use here."
   ]
  },
  {
   "cell_type": "code",
   "execution_count": 3,
   "metadata": {},
   "outputs": [],
   "source": [
    "b = phoebe.load('emcee_advanced_tutorials.bundle')"
   ]
  },
  {
   "cell_type": "markdown",
   "metadata": {},
   "source": [
    "## Defining the custom cost function\n",
    "\n",
    "As is described in the [b.run_solver API docs](../api/phoebe.frontend.bundle.Bundle.run_solver.md), a custom function can be passed which overrides the internal default cost function.  This function must accept `b, model, lnpriors, priors, priors_combine` as arguments and return the `lnprobability` (cost function).  The arguments are as follows:\n",
    "* `b`: the bundle with the current face-values for this forward model\n",
    "* `model`: the name of the forward model in `b`\n",
    "* `lnpriors`: the pre-computed value of the log-priors by passing `priors` and `priors_combine` to [b.calculate_lnp](../api/phoebe.frontend.bundle.Bundle.calculate_lnp.md)\n",
    "* `priors`: the name(s) of the prior distributions\n",
    "* `priors_combine`: the choice for how to combine priors if `priors` includes more than one distribution for any single parameter.\n",
    "\n",
    "If a custom function is not passed, the default cost function is the sum of the lnlikelihood (from [b.calculate_lnlikelihood](../api/phoebe.parameters.ParameterSet.calculate_lnlikelihood.md)) and the probability of drawing the current face-values from the passed priors.\n",
    "\n",
    "Let's reproduce this default case for the sake of this example.  We'll include a print statement just for confirmation that our function is being called.  In practice, you could do any modifications here with access to parameter values, distributions, synthetic models, and observations."
   ]
  },
  {
   "cell_type": "code",
   "execution_count": 4,
   "metadata": {},
   "outputs": [],
   "source": [
    "def default_lnprob(b, model, lnpriors, priors, priors_combine):\n",
    "    print(\"* calling default_lnprob\")\n",
    "    return lnpriors + b.calculate_lnlikelihood(model=model)"
   ]
  },
  {
   "cell_type": "markdown",
   "metadata": {},
   "source": [
    "## run_solver\n",
    "\n",
    "In order to swap out the default cost function with our custom cost function, we must pass the function itself to `custom_lnprobability_callable` when calling [b.run_solver](../api/phoebe.frontend.bundle.Bundle.run_solver.md)"
   ]
  },
  {
   "cell_type": "code",
   "execution_count": 5,
   "metadata": {},
   "outputs": [
    {
     "name": "stdout",
     "output_type": "stream",
     "text": [
      "* calling default_lnprob\n",
      "* calling default_lnprob\n",
      "* calling default_lnprob\n",
      "* calling default_lnprob\n",
      "* calling default_lnprob* calling default_lnprob\n",
      "\n",
      "* calling default_lnprob\n",
      "* calling default_lnprob\n",
      "* calling default_lnprob\n",
      "* calling default_lnprob\n",
      "* calling default_lnprob\n",
      "* calling default_lnprob\n"
     ]
    },
    {
     "name": "stderr",
     "output_type": "stream",
     "text": [
      "\r",
      "  0%|          | 0/1 [00:00<?, ?it/s]"
     ]
    },
    {
     "name": "stdout",
     "output_type": "stream",
     "text": [
      "* calling default_lnprob\n",
      "* calling default_lnprob\n",
      "* calling default_lnprob\n",
      "* calling default_lnprob\n",
      "* calling default_lnprob\n",
      "* calling default_lnprob\n",
      "* calling default_lnprob\n",
      "* calling default_lnprob\n",
      "* calling default_lnprob\n",
      "* calling default_lnprob\n",
      "* calling default_lnprob\n",
      "* calling default_lnprob\n"
     ]
    },
    {
     "name": "stderr",
     "output_type": "stream",
     "text": [
      "100%|██████████| 1/1 [00:02<00:00,  2.99s/it]/home/kyle/.local/lib/python3.8/site-packages/emcee/autocorr.py:36: RuntimeWarning: invalid value encountered in true_divide\n",
      "  acf /= acf[0]\n",
      "100%|██████████| 1/1 [00:02<00:00,  3.00s/it]\n"
     ]
    },
    {
     "data": {
      "text/plain": [
       "<ParameterSet: 20 parameters | qualifiers: nwalkers, autocorr_times, acceptance_fractions, adopt_distributions, thin, failed_samples, burnin, adopt_values, progress, comments, distributions_convert, lnprob_cutoff, adopt_parameters, niters, fitted_twigs, fitted_uniqueids, fitted_units, lnprobabilities, wrap_central_values, samples>"
      ]
     },
     "execution_count": 5,
     "metadata": {},
     "output_type": "execute_result"
    }
   ],
   "source": [
    "b.run_solver('emcee_solver',\n",
    "             custom_lnprobability_callable=default_lnprob,\n",
    "             niters=1,\n",
    "             solution='emcee_sol_custom_lnprob', overwrite=True)"
   ]
  }
 ],
 "metadata": {
  "kernelspec": {
   "display_name": "Python 3",
   "language": "python",
   "name": "python3"
  },
  "language_info": {
   "codemirror_mode": {
    "name": "ipython",
    "version": 3
   },
   "file_extension": ".py",
   "mimetype": "text/x-python",
   "name": "python",
   "nbconvert_exporter": "python",
   "pygments_lexer": "ipython3",
   "version": "3.8.5"
  }
 },
 "nbformat": 4,
 "nbformat_minor": 4
}
