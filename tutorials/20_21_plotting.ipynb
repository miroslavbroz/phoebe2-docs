{
 "cells": [
  {
   "cell_type": "markdown",
   "metadata": {},
   "source": [
    "[IPython Notebook](20_21_plotting.ipynb) |  [Python Script](20_21_plotting.py)"
   ]
  },
  {
   "cell_type": "markdown",
   "metadata": {},
   "source": [
    "2.0 - 2.1 Migration: Plotting\n",
    "============================"
   ]
  },
  {
   "cell_type": "markdown",
   "metadata": {
    "collapsed": true
   },
   "source": [
    "In PHOEBE 2.1, the plotting logic has been completely rewritten from scratch within a separate package called [autofig](https://github.com/kecnry/autofig).  By doing so, the plotting is now much more flexible and significantly less-buggy while also allowing the plotting logic itself to be tested and used outside of PHOEBE.\n",
    "\n",
    "Version [XXXX of autofig](https://github.com/kecnry/autofig) is included and built within PHOEBE 2.1 as `phoebe.dependencies.autofig`, regardless of whether you have autofig installed on your machine.\n",
    "\n",
    "When calling `b.plot`, PHOEBE simply loops through the filtered ParameterSet and makes one or multiple calls to autofig by extracting the necessary arrays and setting reasonable defaults.  To see what these calls are, make sure to have the logger set to a level of 'INFO'.  `b.plot` then returns the autofig object itself as well as the matplotlib figure object (if you set `show=True` or `save=filename`).\n",
    "\n",
    "Below we mention the changes to syntax that you need to know if migrating from PHOEBE 2.0 to PHOEBE 2.1."
   ]
  },
  {
   "cell_type": "markdown",
   "metadata": {},
   "source": [
    "### Linewidth/Markersize\n",
    "\n",
    "Autofig attempts to unify calls across matplotlib, including linewidth and markersize, and does so by including the size as an addition dimension `s`.  This means that you can pass a value (float) for the size and it will apply to both the linewidth and markersize.  If you want separate sizes, you must make multiple calls, one with linestyle disabled and the other with marker disabled.\n",
    "\n",
    "The benefit of this is that you can also pass an array (or access a PHOEBE array by passing a twig/qualifier) and autofig will map that array and scale the size per-point.\n",
    "\n",
    "In PHOEBE 2.0.x:\n",
    "\n",
    "`b.plot(linewidth=4)`\n",
    "\n",
    "&nbsp;\n",
    "\n",
    "In PHOEBE 2.1.x:\n",
    "\n",
    "`b.plot(s=4)`\n",
    "\n",
    "or\n",
    "\n",
    "`b.plot(s='teffs')`"
   ]
  },
  {
   "cell_type": "markdown",
   "metadata": {},
   "source": [
    "### Facecolor/Edgecolor Options for Meshes\n",
    "\n",
    "\n",
    "Similar to size, autofig includes color (for markers and lines), facecolor (for mesh plots only) and edgecolor (for mesh plots only) as additional dimensions.  These are called `c`, `fc`, and `ec`, respectively.  If you refer to the old arguments of `facecolor`/`facecolors`, etc, \n",
    "\n",
    "This means that you can pass a color (as a string, like 'blue') to any of these arguments, an array (with same length as the underlying data), or a twig/qualifier.  The other options for colors (map, lim, unit, label) are all prefixed with this single character (e.g., `fcmap='axmhot'`, `eclabel='temperatures'`).\n",
    "\n",
    "PHOEBE 2.1 will try to map those onto the autofig names, but it may be least confusing to just stick to the single letter versions.  The order of preference for PHOEBE 2.1 is the single character, then if that isn't found it will look for the plural version (facecolors), and finally the singular version (facecolor).  However, this mapping is NOT done for the extra options (map, lim, etc).\n"
   ]
  },
  {
   "cell_type": "markdown",
   "metadata": {},
   "source": [
    "### Animations\n",
    "\n",
    "The `b.animate` or `PS.animate` methods have been removed.  Instead, to create an animation, simply send `animate=True` (along with `show=True` or `save=filename`) to the `b.plot` call.  In this case, `b.plot` will accept *either* `times` or `time` to be sent as the time for each frame of the animation.\n",
    "\n",
    "When animating, `b.plot` will still return the autofig object, but the second returned object will be the matplotlib animation object instead of the figure."
   ]
  },
  {
   "cell_type": "markdown",
   "metadata": {
    "collapsed": true
   },
   "source": [
    "### Returned Autofig Object\n",
    "\n",
    "Calling `b.plot` now returns the autofig object (as well as the matplotlib figure if showing or saving a figure, otherwise the second returned item will be `None`).\n",
    "\n",
    "In PHOEBE 2.0.x:\n",
    "\n",
    "`axs, artists = b.plot(..., show=True)`\n",
    "\n",
    "&nbsp;\n",
    "\n",
    "In PHOEBE 2.1.x:\n",
    "\n",
    "`afig, mplfig = b.plot(..., show=True)`\n",
    "\n",
    "or\n",
    "\n",
    "`afig, mplanim = b.plot(..., animate=True, show=True)`\n",
    "\n",
    "With the returned autofig object, you can do anything in the autofig docs, including adding your own external data, re-drawing at different times, re-animating, changing options, etc.  With the returned matplotlib object, you can do anything hacky to the matplotlib figure that you'd like.\n",
    "\n",
    "But be careful: successive calls to `b.plot` will keep appending to the same autofig figure **until** you call show and/or save.  At that point, the next call to `b.plot` will start over on a fresh figure.  So, if you want to make any changes, you'll either need to rerun the same lines of code, or keep track of the autofig object itself and make changes there."
   ]
  },
  {
   "cell_type": "code",
   "execution_count": null,
   "metadata": {},
   "outputs": [],
   "source": []
  }
 ],
 "metadata": {
  "kernelspec": {
   "display_name": "Python 2",
   "language": "python",
   "name": "python2"
  },
  "language_info": {
   "codemirror_mode": {
    "name": "ipython",
    "version": 2
   },
   "file_extension": ".py",
   "mimetype": "text/x-python",
   "name": "python",
   "nbconvert_exporter": "python",
   "pygments_lexer": "ipython2",
   "version": "2.7.15rc1"
  }
 },
 "nbformat": 4,
 "nbformat_minor": 1
}
