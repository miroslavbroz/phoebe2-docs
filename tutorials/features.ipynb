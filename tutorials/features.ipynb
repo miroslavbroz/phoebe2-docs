{
 "cells": [
  {
   "cell_type": "markdown",
   "metadata": {},
   "source": [
    "Features\n",
    "============================\n",
    "\n",
    "Features within PHOEBE are anything that can be \"attached\" to a component or a dataset to inform how to compute the forward-model.  These currently include spots and gaussian processes - but the framework is flexible enough to handle future development to support pulsations, rings, disks, etc.\n",
    "\n",
    "Although features are entirely optional and may not be used for most systems, let's get familiar with the basics before moving on to computing the forward model.\n",
    "\n",
    "Setup\n",
    "-----------------------------"
   ]
  },
  {
   "cell_type": "markdown",
   "metadata": {},
   "source": [
    "Let's first make sure we have the latest version of PHOEBE 2.3 installed (uncomment this line if running in an online notebook session such as colab)."
   ]
  },
  {
   "cell_type": "code",
   "execution_count": 1,
   "metadata": {},
   "outputs": [],
   "source": [
    "#!pip install -I \"phoebe>=2.3,<2.4\""
   ]
  },
  {
   "cell_type": "code",
   "execution_count": 2,
   "metadata": {},
   "outputs": [],
   "source": [
    "import phoebe\n",
    "from phoebe import u # units\n",
    "\n",
    "logger = phoebe.logger()\n",
    "\n",
    "b = phoebe.default_binary()"
   ]
  },
  {
   "cell_type": "markdown",
   "metadata": {},
   "source": [
    "## Available Features\n",
    "\n",
    "As you may expect by now, adding a feature will be done through a call to [b.add_feature](../api/phoebe.frontend.bundle.Bundle.add_feature.md) where the first argument is the \"kind\" of the feature - a list of available options which can be accessed via [phoebe.list_available_features](../api/phoebe.list_available_features.md)."
   ]
  },
  {
   "cell_type": "code",
   "execution_count": 3,
   "metadata": {},
   "outputs": [
    {
     "data": {
      "text/plain": [
       "['gaussian_process', 'spot']"
      ]
     },
     "execution_count": 3,
     "metadata": {},
     "output_type": "execute_result"
    }
   ],
   "source": [
    "phoebe.list_available_features()"
   ]
  },
  {
   "cell_type": "markdown",
   "metadata": {},
   "source": [
    "The API docs for each of these can be found in [phoebe.parameters.feature](../api/phoebe.parameters.feature.md).  Each entry will list the allowable component and/or dataset-types that that kind of feature can be attached to.  For example:"
   ]
  },
  {
   "cell_type": "code",
   "execution_count": 4,
   "metadata": {},
   "outputs": [
    {
     "name": "stdout",
     "output_type": "stream",
     "text": [
      "Help on function spot in module phoebe.parameters.feature:\n",
      "\n",
      "spot(feature, **kwargs)\n",
      "    Create a <phoebe.parameters.ParameterSet> for a spot feature.\n",
      "    \n",
      "    Generally, this will be used as an input to the kind argument in\n",
      "    <phoebe.frontend.bundle.Bundle.add_feature>.  If attaching through\n",
      "    <phoebe.frontend.bundle.Bundle.add_feature>, all `**kwargs` will be\n",
      "    passed on to set the values as described in the arguments below.  Alternatively,\n",
      "    see <phoebe.parameters.ParameterSet.set_value> to set/change the values\n",
      "    after creating the Parameters.\n",
      "    \n",
      "    Allowed to attach to:\n",
      "    * components with kind: star\n",
      "    * datasets: not allowed\n",
      "    \n",
      "    Arguments\n",
      "    ----------\n",
      "    * `colat` (float/quantity, optional): colatitude of the center of the spot\n",
      "        wrt spin axis.\n",
      "    * `long` (float/quantity, optional): longitude of the center of the spot wrt\n",
      "        spin axis.\n",
      "    * `radius` (float/quantity, optional): angular radius of the spot.\n",
      "    * `relteff` (float/quantity, optional): temperature of the spot relative\n",
      "        to the intrinsic temperature.\n",
      "    \n",
      "    Returns\n",
      "    --------\n",
      "    * (<phoebe.parameters.ParameterSet>, list): ParameterSet of all newly created\n",
      "        <phoebe.parameters.Parameter> objects and a list of all necessary\n",
      "        constraints.\n",
      "\n"
     ]
    }
   ],
   "source": [
    "help(phoebe.parameters.feature.spot)"
   ]
  },
  {
   "cell_type": "markdown",
   "metadata": {},
   "source": [
    "## Adding a Feature"
   ]
  },
  {
   "cell_type": "markdown",
   "metadata": {},
   "source": [
    "If we look at the API docs for a [spot](../api/phoebe.parameters.feature.spot.md), we can see that it can be attached to any star component, but not attached to a dataset.  So when calling [b.add_feature](../api/phoebe.frontend.bundle.Bundle.add_feature.md), we need to send a valid tag for component that points to a star (i.e. 'primary' or 'secondary')"
   ]
  },
  {
   "cell_type": "code",
   "execution_count": 5,
   "metadata": {},
   "outputs": [
    {
     "data": {
      "text/plain": [
       "<ParameterSet: 5 parameters | contexts: compute, feature>"
      ]
     },
     "execution_count": 5,
     "metadata": {},
     "output_type": "execute_result"
    }
   ],
   "source": [
    "b.add_feature('spot', component='primary', feature='spot01')"
   ]
  },
  {
   "cell_type": "code",
   "execution_count": 6,
   "metadata": {},
   "outputs": [
    {
     "data": {
      "text/plain": [
       "<ParameterSet: 4 parameters | qualifiers: relteff, colat, radius, long>"
      ]
     },
     "execution_count": 6,
     "metadata": {},
     "output_type": "execute_result"
    }
   ],
   "source": [
    "b.get_feature('spot01')"
   ]
  },
  {
   "cell_type": "markdown",
   "metadata": {},
   "source": [
    "Next\n",
    "----------\n",
    "\n",
    "Next up: let's learn how to [compute observables](compute.ipynb) and create our first synthetic model.\n",
    "\n",
    "Or see some of these advanced topics:\n",
    "\n",
    "* [Advanced: Spots](spots.ipynb)\n",
    "* [Example: Gaussian Processes](../examples/minimial_gps.ipynb)"
   ]
  },
  {
   "cell_type": "code",
   "execution_count": null,
   "metadata": {},
   "outputs": [],
   "source": []
  }
 ],
 "metadata": {
  "kernelspec": {
   "display_name": "Python 3",
   "language": "python",
   "name": "python3"
  },
  "language_info": {
   "codemirror_mode": {
    "name": "ipython",
    "version": 3
   },
   "file_extension": ".py",
   "mimetype": "text/x-python",
   "name": "python",
   "nbconvert_exporter": "python",
   "pygments_lexer": "ipython3",
   "version": "3.8.2"
  }
 },
 "nbformat": 4,
 "nbformat_minor": 1
}
