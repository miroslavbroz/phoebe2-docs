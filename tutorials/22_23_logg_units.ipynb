{
 "cells": [
  {
   "cell_type": "markdown",
   "metadata": {},
   "source": [
    "2.2 - 2.3 Migration: logg constraint units\n",
    "============================\n",
    "\n",
    "The [logg constraint](../api/phoebe.parameters.constraint.logg) used to work in SI units, but has now been changed to deal with solar units.  When importing a bundle file from before PHOEBE 2.3, the constraint will be rebuilt.  This change was due to an inconsistency in the way units were translated to SI units within MPI."
   ]
  },
  {
   "cell_type": "code",
   "execution_count": null,
   "metadata": {},
   "outputs": [],
   "source": []
  }
 ],
 "metadata": {
  "kernelspec": {
   "display_name": "Python 3",
   "language": "python",
   "name": "python3"
  },
  "language_info": {
   "codemirror_mode": {
    "name": "ipython",
    "version": 3
   },
   "file_extension": ".py",
   "mimetype": "text/x-python",
   "name": "python",
   "nbconvert_exporter": "python",
   "pygments_lexer": "ipython3",
   "version": "3.8.2"
  }
 },
 "nbformat": 4,
 "nbformat_minor": 2
}
