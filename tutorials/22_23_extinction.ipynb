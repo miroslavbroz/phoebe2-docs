{
 "cells": [
  {
   "cell_type": "markdown",
   "metadata": {},
   "source": [
    "2.2 - 2.3 Migration: Extinction\n",
    "============================\n",
    "\n",
    "The extinction parameters (`ebv`, `Av`, `Rv`) were originally in the 'dataset' context in the 2.2 release.  These have now been moved to the 'system' context, which means there will only be one set of the parameters per-bundle, making fitting extinction much more practical.  If importing a bundle created in version 2.2, these will be migrated automatically, with a warning raised if different values were found (but ultimately adopting the first set of values found).\n",
    "\n",
    "See the [extinction tutorial](./ebv_Av_Rv.ipynb) for more details."
   ]
  },
  {
   "cell_type": "code",
   "execution_count": null,
   "metadata": {},
   "outputs": [],
   "source": []
  }
 ],
 "metadata": {
  "kernelspec": {
   "display_name": "Python 3",
   "language": "python",
   "name": "python3"
  },
  "language_info": {
   "codemirror_mode": {
    "name": "ipython",
    "version": 3
   },
   "file_extension": ".py",
   "mimetype": "text/x-python",
   "name": "python",
   "nbconvert_exporter": "python",
   "pygments_lexer": "ipython3",
   "version": "3.7.5"
  }
 },
 "nbformat": 4,
 "nbformat_minor": 2
}
