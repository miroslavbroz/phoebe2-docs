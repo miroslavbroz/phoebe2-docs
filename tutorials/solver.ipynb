{
 "cells": [
  {
   "cell_type": "markdown",
   "metadata": {},
   "source": [
    "Solvers: The Inverse Problem\n",
    "============================\n",
    "\n",
    "\n",
    "Setup\n",
    "-----------------------------"
   ]
  },
  {
   "cell_type": "markdown",
   "metadata": {},
   "source": [
    "Let's first make sure we have the latest version of PHOEBE 2.3 installed (uncomment this line if running in an online notebook session such as colab)."
   ]
  },
  {
   "cell_type": "code",
   "execution_count": 1,
   "metadata": {},
   "outputs": [],
   "source": [
    "#!pip install -I \"phoebe>=2.3,<2.4\""
   ]
  },
  {
   "cell_type": "code",
   "execution_count": 2,
   "metadata": {},
   "outputs": [],
   "source": [
    "import phoebe\n",
    "from phoebe import u # units\n",
    "import numpy as np\n",
    "\n",
    "logger = phoebe.logger()"
   ]
  },
  {
   "cell_type": "markdown",
   "metadata": {},
   "source": [
    "General \"Fitting\" Workflow\n",
    "---------------------------------------\n",
    "\n",
    "PHOEBE includes wrappers around several different inverse-problem \"algorithms\" with a common interface.  These available \"algorithms\" are divided into three categories:\n",
    "\n",
    "* estimators: provides proposed values for a number of parameters from the datasets as input alone, not requiring full forward-models via [run_compute](../api/phoebe.frontend.bundle.Bundle.run_compute.md).\n",
    "* optimizers: runs off-the-shelf optimizers to attempt to find the local (or global) solution.\n",
    "* samplers: samples the local parameter space to estimate uncertainties and correlations.\n",
    "\n",
    "To see the currently implemented set of solvers, we can call [phoebe.list_available_solvers](../api/phoebe.list_available_solvers.md)"
   ]
  },
  {
   "cell_type": "code",
   "execution_count": 3,
   "metadata": {},
   "outputs": [
    {
     "name": "stdout",
     "output_type": "stream",
     "text": [
      "['estimator.ebai', 'estimator.lc_geometry', 'estimator.lc_periodogram', 'estimator.rv_geometry', 'estimator.rv_periodogram', 'optimizer.cg', 'optimizer.differential_evolution', 'optimizer.nelder_mead', 'optimizer.powell', 'sampler.dynesty', 'sampler.emcee']\n"
     ]
    }
   ],
   "source": [
    "print(phoebe.list_available_solvers())"
   ]
  },
  {
   "cell_type": "markdown",
   "metadata": {},
   "source": [
    "Solving an eclipsing binary is a very time-intensive task (both for you as well as your computer).  There is no one-size-fits-all recipe to follow, but in general you might find the following workflow useful:\n",
    "\n",
    "1. Create a bundle with the appropriate configuration (single star, detached binary, semi-detached, contact, etc).\n",
    "2. Attach observational datasets\n",
    "3. Flip constraints as necessary to parameterize the system in the way that makes sense for any information you know in advance, types of data, and scientific goals.  For example: if you have an SB2 system with RVs, it might make sense to reparameterize to \"fit\" for `asini` instead of `sma` and `incl`.\n",
    "4. Manually set known or approximate values for parameters wherever possible.\n",
    "5. Run the appropriate estimators, checking to see if the proposed values make sense before adopting them.\n",
    "6. Try to optimize the forward model.  See which expensive effects can be disabled without affecting the synthetic model (to some precision tolerance).  Make sure to revisit these assumptions as optimizers may move the system to different areas of parameter space where they are no longer valid.\n",
    "7. Run optimizers to find (what you hope and assume to be) the global solution.  Start with just a few parameters that are most sensitive to the remaining residuals and add more until the residuals are flat (no systematics).  Check all read-only constrained parameters to make sure that they make sense, are consistent with known information, and are physical.\n",
    "8. Run samplers around the global solution found by the optimizers to explore that local parameter space and the correlations between parameters.  Check for convergence before interpreting the resulting posteriors."
   ]
  },
  {
   "cell_type": "markdown",
   "metadata": {},
   "source": [
    "For the sake of a simple crude example, we'll just use the synthetic light curve of a default binary with a bit of noise as our \"observations\".   See the [inverse problem example scripts](../examples.md) for more realistic examples."
   ]
  },
  {
   "cell_type": "code",
   "execution_count": 4,
   "metadata": {},
   "outputs": [
    {
     "name": "stderr",
     "output_type": "stream",
     "text": [
      "100%|██████████| 101/101 [00:01<00:00, 77.47it/s]\n"
     ]
    },
    {
     "data": {
      "text/plain": [
       "<ParameterSet: 78 parameters | contexts: compute, dataset, figure, constraint>"
      ]
     },
     "execution_count": 4,
     "metadata": {},
     "output_type": "execute_result"
    }
   ],
   "source": [
    "b = phoebe.default_binary()\n",
    "b.add_dataset('lc', compute_phases=phoebe.linspace(0,1,101))\n",
    "b.run_compute(irrad_method='none')\n",
    "\n",
    "times = b.get_value('times', context='model')\n",
    "fluxes = b.get_value('fluxes', context='model') + np.random.normal(size=times.shape) * 0.01\n",
    "sigmas = np.ones_like(times) * 0.02\n",
    "\n",
    "b = phoebe.default_binary()\n",
    "b.add_dataset('lc', times=times, fluxes=fluxes, sigmas=np.full_like(fluxes, fill_value=0.1))"
   ]
  },
  {
   "cell_type": "markdown",
   "metadata": {},
   "source": [
    "Adding Solver Options\n",
    "----------------------------------\n",
    "\n",
    "As there are quite a few different solvers implemented in PHOEBE and each have their own available options, we won't get in to the details here.  See [LC esimators](./LC_estimators.ipynb), [RV estimators](./RV_estimators.ipynb), [Nelder-Mead Optimizer](./nelder_mead.ipynb), and [emcee sampler](./emcee.ipynb) for details on some of the most commonly-used solver.  The [solver API docs](../api/phoebe.parameters.solver.md) or [solver example scripts](../examples.md) may also help.\n",
    "\n",
    "As you may expect, to use a solver you must first call [b.add_solver](../api/phoebe.frontend.bundle.Bundle.add_solver.md), set the desired options, and then call [b.run_solver](../api/phoebe.frontend.bundle.Bundle.run_solver.md) (or [b.export_solver](../api/phoebe.frontend.bundle.Bundle.export_solver.md) and [b.import_solution](../api/phoebe.frontend.bundle.Bundle.import_solution.md))."
   ]
  },
  {
   "cell_type": "code",
   "execution_count": 5,
   "metadata": {},
   "outputs": [
    {
     "data": {
      "text/plain": [
       "<ParameterSet: 8 parameters | qualifiers: comments, t0_near_times, lc_combine, phase_bin, phase_nbins, expose_model, lc_datasets, orbit>"
      ]
     },
     "execution_count": 5,
     "metadata": {},
     "output_type": "execute_result"
    }
   ],
   "source": [
    "b.add_solver('estimator.lc_geometry', solver='my_lcgeom_solver')"
   ]
  },
  {
   "cell_type": "code",
   "execution_count": 6,
   "metadata": {},
   "outputs": [
    {
     "name": "stdout",
     "output_type": "stream",
     "text": [
      "ParameterSet: 7 parameters\n",
      "   comments@my_lcgeom_solver@s...: \n",
      "   lc_datasets@my_lcgeom_solve...: ['*']\n",
      "   phase_bin@my_lcgeom_solver@...: True\n",
      "   phase_nbins@my_lcgeom_solve...: 500\n",
      "    orbit@my_lcgeom_solver@solver: binary\n",
      "   t0_near_times@my_lcgeom_sol...: True\n",
      "   expose_model@my_lcgeom_solv...: True\n"
     ]
    }
   ],
   "source": [
    "print(b.get_solver(solver='my_lcgeom_solver'))"
   ]
  },
  {
   "cell_type": "markdown",
   "metadata": {},
   "source": [
    "In addition to the [solver API docs](../api/phoebe.parameters.solver.md), remember that each parameter has a description and possibly a set of available choices (if its a [ChoiceParameter](../api/phoebe.parameters.ChoiceParameter.md) or [SelectParameter](../api/phoebe.parameters.SelectParameter.md))."
   ]
  },
  {
   "cell_type": "code",
   "execution_count": 7,
   "metadata": {},
   "outputs": [
    {
     "name": "stdout",
     "output_type": "stream",
     "text": [
      "Whether to expose the 2-gaussian analytical models in the solution\n"
     ]
    }
   ],
   "source": [
    "print(b.get_parameter('expose_model').description)"
   ]
  },
  {
   "cell_type": "code",
   "execution_count": 8,
   "metadata": {},
   "outputs": [
    {
     "name": "stdout",
     "output_type": "stream",
     "text": [
      "Light curve dataset(s) to use to extract eclipse geometry\n"
     ]
    }
   ],
   "source": [
    "print(b.get_parameter('lc_datasets').description)"
   ]
  },
  {
   "cell_type": "code",
   "execution_count": 9,
   "metadata": {},
   "outputs": [
    {
     "name": "stdout",
     "output_type": "stream",
     "text": [
      "['lc01']\n"
     ]
    }
   ],
   "source": [
    "print(b.get_parameter('lc_datasets').choices)"
   ]
  },
  {
   "cell_type": "markdown",
   "metadata": {},
   "source": [
    "run_solver\n",
    "---------------"
   ]
  },
  {
   "cell_type": "markdown",
   "metadata": {},
   "source": [
    "[b.run_solver](../api/phoebe.frontend.bundle.Bundle.run_solver.md) (or [b.export_solver](../api/phoebe.frontend.bundle.Bundle.export_solver.md) and [b.import_solution](../api/phoebe.frontend.bundle.Bundle.import_solution.md)) allows optionally setting a `solution` tag (if not provided, one will be created automatically), just as [b.run_compute](../api/phoebe.frontend.bundle.Bundle.run_compute.md) allows setting a `model` tag.  "
   ]
  },
  {
   "cell_type": "code",
   "execution_count": 10,
   "metadata": {},
   "outputs": [
    {
     "name": "stderr",
     "output_type": "stream",
     "text": [
      "/home/kyle/.local/lib/python3.8/site-packages/phoebe/parameters/parameters.py:10124: VisibleDeprecationWarning: Creating an ndarray from ragged nested sequences (which is a list-or-tuple of lists-or-tuples-or ndarrays with different lengths or shapes) is deprecated. If you meant to do this, you must specify 'dtype=object' when creating the ndarray.\n",
      "  self._value = np.array(value)\n"
     ]
    },
    {
     "data": {
      "text/plain": [
       "<ParameterSet: 22 parameters | qualifiers: adopt_distributions, analytic_best_model, primary_depth, analytic_fluxes, input_phases, fitted_twigs, primary_width, adopt_parameters, adopt_values, fitted_uniqueids, fitted_units, input_sigmas, input_fluxes, primary_phase, analytic_phases, eclipse_edges, secondary_phase, comments, secondary_depth, secondary_width, fitted_values, orbit>"
      ]
     },
     "execution_count": 10,
     "metadata": {},
     "output_type": "execute_result"
    }
   ],
   "source": [
    "b.run_solver(solver='my_lcgeom_solver', solution='my_lcgeom_solution')"
   ]
  },
  {
   "cell_type": "markdown",
   "metadata": {},
   "source": [
    "In many cases, the `solution` itself is plottable - showing some sort of diagnostic figures.  In some cases, such as [sampler.emcee](../api/phoebe.parameters.solver.sampler.emcee.md) or [sampler.dynesty](../api/phoebe.parameters.solver.sampler.dynesty.md), there are several different diagnostic figures available which can be chosen by passing the available options to `style`."
   ]
  },
  {
   "cell_type": "code",
   "execution_count": 11,
   "metadata": {},
   "outputs": [
    {
     "name": "stderr",
     "output_type": "stream",
     "text": [
      "/home/kyle/.local/lib/python3.8/site-packages/phoebe/dependencies/autofig/call.py:1097: VisibleDeprecationWarning: Creating an ndarray from ragged nested sequences (which is a list-or-tuple of lists-or-tuples-or ndarrays with different lengths or shapes) is deprecated. If you meant to do this, you must specify 'dtype=object' when creating the ndarray.\n",
      "  data = np.array([x, y])\n",
      "/home/kyle/.local/lib/python3.8/site-packages/phoebe/dependencies/autofig/call.py:1098: VisibleDeprecationWarning: Creating an ndarray from ragged nested sequences (which is a list-or-tuple of lists-or-tuples-or ndarrays with different lengths or shapes) is deprecated. If you meant to do this, you must specify 'dtype=object' when creating the ndarray.\n",
      "  points = np.array([x, y]).T.reshape(-1, 1, 2)\n"
     ]
    },
    {
     "data": {
      "image/png": "[encoded data removed]",
      "text/plain": [
       "<Figure size 576x432 with 1 Axes>"
      ]
     },
     "metadata": {
      "needs_background": "light"
     },
     "output_type": "display_data"
    }
   ],
   "source": [
    "_ = b.plot(solution='my_lcgeom_solution', show=True)"
   ]
  },
  {
   "cell_type": "markdown",
   "metadata": {},
   "source": [
    "The proposed values can be viewed via [b.adopt_solution](../api/phoebe.frontend.bundle.Bundle.adopt_solution.md).\n",
    "\n",
    "By passing `trial_run=True` the proposed changed parameters will be shown, but not changed in the bundle itself."
   ]
  },
  {
   "cell_type": "code",
   "execution_count": 12,
   "metadata": {},
   "outputs": [
    {
     "name": "stderr",
     "output_type": "stream",
     "text": [
      "Fri, 02 Jul 2021 19:31 BUNDLE       WARNING solution='my_lcgeom_solution' is not included in run_checks_solution@setting, so will not raise interactive warnings\n"
     ]
    },
    {
     "name": "stdout",
     "output_type": "stream",
     "text": [
      "ParameterSet: 3 parameters\n",
      "   t0_supconj@binary@orbit@com...: 0.49999999999999994 d\n",
      "       ecc@binary@orbit@component: 0.01049431112018779\n",
      "      per0@binary@orbit@component: 91.41530726419818 deg\n"
     ]
    }
   ],
   "source": [
    "print(b.adopt_solution(trial_run=True))"
   ]
  },
  {
   "cell_type": "markdown",
   "metadata": {},
   "source": [
    "Otherwise, the changes will be made and all changed parameters (including those changed via [constraints](constraints.ipynb)) will be returned."
   ]
  },
  {
   "cell_type": "code",
   "execution_count": 13,
   "metadata": {},
   "outputs": [
    {
     "name": "stderr",
     "output_type": "stream",
     "text": [
      "Fri, 02 Jul 2021 19:31 BUNDLE       WARNING solution='my_lcgeom_solution' is not included in run_checks_solution@setting, so will not raise interactive warnings\n",
      "Fri, 02 Jul 2021 19:31 PARAMETERS   WARNING wrapping value of mean_anom to 178.61417184387332 deg\n"
     ]
    },
    {
     "name": "stdout",
     "output_type": "stream",
     "text": [
      "ParameterSet: 11 parameters\n",
      "      t0_supconj@binary@component: 0.49999999999999994 d\n",
      "             ecc@binary@component: 0.01049431112018779\n",
      "            per0@binary@component: 91.41530726419818 deg\n",
      "C     t0_perpass@binary@component: 0.5038495472886834 d\n",
      "C         t0_ref@binary@component: 0.49991813822146625 d\n",
      "C     compute_phases@lc01@dataset: []\n",
      "C          ecosw@binary@component: -0.00025920171558992285\n",
      "C          esinw@binary@component: 0.010491109586594372\n",
      "C    requiv_max@primary@component: 1.9958898799375482 solRad\n",
      "C  requiv_max@secondary@component: 1.9958898799375482 solRad\n",
      "C      mean_anom@binary@component: 178.61417184387332 deg\n"
     ]
    }
   ],
   "source": [
    "print(b.adopt_solution())"
   ]
  },
  {
   "cell_type": "markdown",
   "metadata": {},
   "source": [
    "The Merit Function\n",
    "-----------------\n",
    "\n",
    "Both [optimizers](../api/phoebe.parameters.solver.optimizer.md) and [samplers](../api/phoebe.parameters.solver.sampler.md) require running a forward model and use a merit function to compare the synthetic model to the observational data.  This merit function is described in detail in the 2.3 release paper ([Conroy+ 2020](http://phoebe-project.org/publications/2020Conroy+)).\n",
    "\n",
    "Several bundle methods allow for accessing the values used in the merit function:\n",
    "\n",
    "* [b.calculate_residuals](../api/phoebe.parameters.ParameterSet.calculate_residuals.md)\n",
    "* [b.calculate_chi2](../api/phoebe.parameters.ParameterSet.calculate_chi2.md)\n",
    "* [b.calculate_lnlikelihood](../api/phoebe.parameters.ParameterSet.calculate_lnlikelihood.md)\n",
    "* [b.calculate_lnp](../api/phoebe.frontend.bundle.Bundle.calculate_lnp.md)\n",
    "\n",
    "The log-probability used as the merit function within optimizers and samplers is defined as [calculate_lnp](../api/phoebe.frontend.bundle.Bundle.calculate_lnp.md)`(priors, combine=priors_combine)` + [calculate_lnlikelihood](../api/phoebe.parameters.ParameterSet.calculate_lnlikelihood).\n",
    "\n",
    "To see the affect of `priors_combine`, we can pass the `solver` tag directly to [b.get_distribution_collection](../api/phoebe.frontend.bundle.Bundle.get_distribution_collection.md), [b.plot_distribution_collection](../api/phoebe.frontend.bundle.Bundle.plot_distribution_collection.md), or [b.calculate_lnp](../api/phoebe.frontend.bundle.Bundle.calculate_lnp.md)."
   ]
  },
  {
   "cell_type": "code",
   "execution_count": 14,
   "metadata": {},
   "outputs": [
    {
     "data": {
      "text/plain": [
       "<ParameterSet: 1 parameters>"
      ]
     },
     "execution_count": 14,
     "metadata": {},
     "output_type": "execute_result"
    }
   ],
   "source": [
    "b.add_distribution('teff@primary', phoebe.gaussian(6000,100), distribution='mydist01')\n",
    "b.add_distribution('teff@secondary', phoebe.gaussian(5500,600), distribution='mydist01')\n",
    "\n",
    "b.add_distribution('teff@primary', phoebe.uniform(5800,6200), distribution='mydist02')"
   ]
  },
  {
   "cell_type": "code",
   "execution_count": 15,
   "metadata": {},
   "outputs": [
    {
     "name": "stderr",
     "output_type": "stream",
     "text": [
      "Fri, 02 Jul 2021 19:31 BUNDLE       WARNING no valid distributions in init_from  If not addressed, this warning will continue to be raised and will throw an error at run_solver.\n"
     ]
    },
    {
     "data": {
      "text/plain": [
       "<ParameterSet: 13 parameters | qualifiers: niters, init_from_combine, comments, priors_combine, nwalkers, priors, continue_from, progress_every_niters, expose_failed, compute, thin_factor, init_from, burnin_factor>"
      ]
     },
     "execution_count": 15,
     "metadata": {},
     "output_type": "execute_result"
    }
   ],
   "source": [
    "b.add_solver('sampler.emcee', priors=['mydist01', 'mydist02'], solver='myemceesolver')"
   ]
  },
  {
   "cell_type": "code",
   "execution_count": 16,
   "metadata": {},
   "outputs": [
    {
     "name": "stdout",
     "output_type": "stream",
     "text": [
      "ParameterSet: 2 parameters\n",
      "      priors@myemceesolver@solver: ['mydist01', 'mydist02']\n",
      "   priors_combine@myemceesolve...: and\n"
     ]
    }
   ],
   "source": [
    "print(b.filter(qualifier='prior*'))"
   ]
  },
  {
   "cell_type": "markdown",
   "metadata": {},
   "source": [
    "Now we'll look at the affect of `priors_combine` on the resulting priors distributions that would be sent to the merit function."
   ]
  },
  {
   "cell_type": "code",
   "execution_count": 17,
   "metadata": {},
   "outputs": [
    {
     "name": "stdout",
     "output_type": "stream",
     "text": [
      "Method to use to combine multiple distributions from priors for the same parameter.  first: ignore duplicate entries and take the first in the priors parameter. and: combine duplicate entries via AND logic, dropping covariances.  or: combine duplicate entries via OR logic, dropping covariances.\n"
     ]
    }
   ],
   "source": [
    "print(b.get_parameter('priors_combine').description)"
   ]
  },
  {
   "cell_type": "code",
   "execution_count": 18,
   "metadata": {},
   "outputs": [
    {
     "data": {
      "image/png": "[encoded data removed]",
      "text/plain": [
       "<Figure size 396x396 with 4 Axes>"
      ]
     },
     "metadata": {
      "needs_background": "light"
     },
     "output_type": "display_data"
    }
   ],
   "source": [
    "_ = b.plot_distribution_collection('priors@myemceesolver', show=True)"
   ]
  },
  {
   "cell_type": "code",
   "execution_count": 19,
   "metadata": {},
   "outputs": [
    {
     "ename": "ValueError",
     "evalue": "247 results found: ['t0@system', 'ra@system', 'dec@system', 'distance@system', 'vgamma@system', 'ebv@system', 'Av@system', 'Rv@system', 'hierarchy@system', 'requiv@primary@star@component', 'requiv_max@primary@star@component', 'requiv_min@primary@star@component', 'teff@primary@star@component', 'abun@primary@star@component', 'logg@primary@star@component', 'syncpar@primary@star@component', 'period@primary@star@component', 'freq@primary@star@component', 'pitch@primary@star@component', 'yaw@primary@star@component', 'incl@primary@star@component', 'long_an@primary@star@component', 'gravb_bol@primary@star@component', 'irrad_frac_refl_bol@primary@star@component', 'irrad_frac_lost_bol@primary@star@component', 'ld_mode_bol@primary@star@component', 'ld_func_bol@primary@star@component', 'ld_coeffs_source_bol@primary@star@component', 'ld_coeffs_bol@primary@star@component', 'mass@primary@star@component', 'requiv@secondary@star@component', 'requiv_max@secondary@star@component', 'requiv_min@secondary@star@component', 'teff@secondary@star@component', 'abun@secondary@star@component', 'logg@secondary@star@component', 'syncpar@secondary@star@component', 'period@secondary@star@component', 'freq@secondary@star@component', 'pitch@secondary@star@component', 'yaw@secondary@star@component', 'incl@secondary@star@component', 'long_an@secondary@star@component', 'gravb_bol@secondary@star@component', 'irrad_frac_refl_bol@secondary@star@component', 'irrad_frac_lost_bol@secondary@star@component', 'ld_mode_bol@secondary@star@component', 'ld_func_bol@secondary@star@component', 'ld_coeffs_source_bol@secondary@star@component', 'ld_coeffs_bol@secondary@star@component', 'mass@secondary@star@component', 'period@binary@orbit@component', 'period_anom@binary@orbit@component', 'freq@binary@orbit@component', 'dpdt@binary@orbit@component', 'per0@binary@orbit@component', 'dperdt@binary@orbit@component', 'ecc@binary@orbit@component', 't0_perpass@binary@orbit@component', 't0_supconj@binary@orbit@component', 't0_ref@binary@orbit@component', 'mean_anom@binary@orbit@component', 'incl@binary@orbit@component', 'q@binary@orbit@component', 'sma@binary@orbit@component', 'long_an@binary@orbit@component', 'asini@binary@orbit@component', 'ecosw@binary@orbit@component', 'esinw@binary@orbit@component', 'sma@primary@star@component', 'asini@primary@star@component', 'sma@secondary@star@component', 'asini@secondary@star@component', 'sample_from@phoebe01@phoebe@compute', 'sample_from_combine@phoebe01@phoebe@compute', 'sample_num@phoebe01@phoebe@compute', 'sample_mode@phoebe01@phoebe@compute', 'expose_samples@phoebe01@phoebe@compute', 'expose_failed@phoebe01@phoebe@compute', 'comments@phoebe01@phoebe@compute', 'enabled@_default@phoebe01@phoebe@compute', 'enabled@_default@phoebe01@phoebe@compute', 'dynamics_method@phoebe01@phoebe@compute', 'ltte@phoebe01@phoebe@compute', 'irrad_method@phoebe01@phoebe@compute', 'boosting_method@phoebe01@phoebe@compute', 'mesh_method@_default@phoebe01@phoebe@compute', 'ntriangles@_default@phoebe01@phoebe@compute', 'distortion_method@_default@phoebe01@phoebe@compute', 'eclipse_method@phoebe01@phoebe@compute', 'horizon_method@phoebe01@phoebe@compute', 'atm@_default@phoebe01@phoebe@compute', 'fti_method@_default@phoebe01@phoebe@compute', 'fti_oversample@_default@phoebe01@phoebe@compute', 'rv_method@_default@_default@phoebe01@phoebe@compute', 'rv_grav@_default@_default@phoebe01@phoebe@compute', 'mesh_method@primary@phoebe01@phoebe@compute', 'mesh_method@secondary@phoebe01@phoebe@compute', 'ntriangles@primary@phoebe01@phoebe@compute', 'ntriangles@secondary@phoebe01@phoebe@compute', 'distortion_method@primary@phoebe01@phoebe@compute', 'distortion_method@secondary@phoebe01@phoebe@compute', 'atm@primary@phoebe01@phoebe@compute', 'atm@secondary@phoebe01@phoebe@compute', 'default_time_source@figure', 'default_time@figure', 'latex_repr@primary@star@figure', 'color@primary@star@figure', 'marker@primary@star@figure', 'linestyle@primary@star@figure', 'latex_repr@secondary@star@figure', 'color@secondary@star@figure', 'marker@secondary@star@figure', 'linestyle@secondary@star@figure', 'latex_repr@binary@orbit@figure', 'phoebe_version@setting', 'dict_filter@setting', 'dict_set_all@setting', 'run_checks_compute@setting', 'run_checks_solver@setting', 'run_checks_solution@setting', 'run_checks_figure@setting', 'auto_add_figure@setting', 'auto_remove_figure@setting', 'web_client@setting', 'web_client_url@setting', 'times@lc01@lc@dataset', 'fluxes@lc01@lc@dataset', 'ld_mode@_default@lc01@lc@dataset', 'ld_func@_default@lc01@lc@dataset', 'ld_coeffs_source@_default@lc01@lc@dataset', 'ld_coeffs@_default@lc01@lc@dataset', 'passband@lc01@lc@dataset', 'intens_weighting@lc01@lc@dataset', 'compute_times@lc01@lc@dataset', 'compute_phases@binary@lc01@lc@dataset', 'phases_period@binary@lc01@lc@dataset', 'phases_dpdt@binary@lc01@lc@dataset', 'phases_t0@binary@lc01@lc@dataset', 'mask_enabled@lc01@lc@dataset', 'mask_phases@binary@lc01@lc@dataset', 'solver_times@lc01@lc@dataset', 'sigmas@lc01@lc@dataset', 'sigmas_lnf@lc01@lc@dataset', 'pblum_mode@lc01@lc@dataset', 'pblum_component@lc01@lc@dataset', 'pblum@_default@lc01@lc@dataset', 'pblum_dataset@lc01@lc@dataset', 'pbflux@lc01@lc@dataset', 'l3_mode@lc01@lc@dataset', 'l3@lc01@lc@dataset', 'l3_frac@lc01@lc@dataset', 'exptime@lc01@lc@dataset', 'enabled@lc01@phoebe01@phoebe@compute', 'fti_method@lc01@phoebe01@phoebe@compute', 'fti_oversample@lc01@phoebe01@phoebe@compute', 'ld_mode@primary@lc01@lc@dataset', 'ld_mode@secondary@lc01@lc@dataset', 'ld_func@primary@lc01@lc@dataset', 'ld_func@secondary@lc01@lc@dataset', 'ld_coeffs_source@primary@lc01@lc@dataset', 'ld_coeffs_source@secondary@lc01@lc@dataset', 'ld_coeffs@primary@lc01@lc@dataset', 'ld_coeffs@secondary@lc01@lc@dataset', 'pblum@primary@lc01@lc@dataset', 'pblum@secondary@lc01@lc@dataset', 'latex_repr@lc01@lc@figure', 'color@lc01@lc@figure', 'marker@lc01@lc@figure', 'linestyle@lc01@lc@figure', 'contexts@lcfig01@lc@figure', 'datasets@lcfig01@lc@figure', 'models@lcfig01@lc@figure', 'x@lcfig01@lc@figure', 'period@lcfig01@lc@figure', 'dpdt@lcfig01@lc@figure', 't0@lcfig01@lc@figure', 'y@lcfig01@lc@figure', 'xlabel_source@lcfig01@lc@figure', 'xlabel@lcfig01@lc@figure', 'xunit_source@lcfig01@lc@figure', 'xlim_source@lcfig01@lc@figure', 'xunit@lcfig01@lc@figure', 'xlim@lcfig01@lc@figure', 'xunit@lcfig01@lc@figure', 'xlim@lcfig01@lc@figure', 'ylabel_source@lcfig01@lc@figure', 'ylabel@lcfig01@lc@figure', 'yunit_source@lcfig01@lc@figure', 'ylim_source@lcfig01@lc@figure', 'yunit@lcfig01@lc@figure', 'ylim@lcfig01@lc@figure', 'color_source@lcfig01@lc@figure', 'color@lcfig01@lc@figure', 'marker_source@lcfig01@lc@figure', 'marker@lcfig01@lc@figure', 'linestyle_source@lcfig01@lc@figure', 'linestyle@lcfig01@lc@figure', 'legend@lcfig01@lc@figure', 'uncover@lcfig01@lc@figure', 'highlight@lcfig01@lc@figure', 'time_source@lcfig01@lc@figure', 'time@lcfig01@lc@figure', 'comments@my_lcgeom_solver@lc_geometry@solver', 'lc_datasets@my_lcgeom_solver@lc_geometry@solver', 'lc_combine@my_lcgeom_solver@lc_geometry@solver', 'phase_bin@my_lcgeom_solver@lc_geometry@solver', 'phase_nbins@my_lcgeom_solver@lc_geometry@solver', 'orbit@my_lcgeom_solver@lc_geometry@solver', 't0_near_times@my_lcgeom_solver@lc_geometry@solver', 'expose_model@my_lcgeom_solver@lc_geometry@solver', 'orbit@my_lcgeom_solver@my_lcgeom_solution@lc_geometry@solution', 'input_phases@my_lcgeom_solver@my_lcgeom_solution@lc_geometry@solution', 'input_fluxes@my_lcgeom_solver@my_lcgeom_solution@lc_geometry@solution', 'input_sigmas@my_lcgeom_solver@my_lcgeom_solution@lc_geometry@solution', 'analytic_phases@my_lcgeom_solver@my_lcgeom_solution@lc_geometry@solution', 'analytic_fluxes@my_lcgeom_solver@my_lcgeom_solution@lc_geometry@solution', 'analytic_best_model@my_lcgeom_solver@my_lcgeom_solution@lc_geometry@solution', 'primary_width@my_lcgeom_solver@my_lcgeom_solution@lc_geometry@solution', 'secondary_width@my_lcgeom_solver@my_lcgeom_solution@lc_geometry@solution', 'primary_phase@my_lcgeom_solver@my_lcgeom_solution@lc_geometry@solution', 'secondary_phase@my_lcgeom_solver@my_lcgeom_solution@lc_geometry@solution', 'primary_depth@my_lcgeom_solver@my_lcgeom_solution@lc_geometry@solution', 'secondary_depth@my_lcgeom_solver@my_lcgeom_solution@lc_geometry@solution', 'eclipse_edges@my_lcgeom_solver@my_lcgeom_solution@lc_geometry@solution', 'fitted_uniqueids@my_lcgeom_solver@my_lcgeom_solution@lc_geometry@solution', 'fitted_twigs@my_lcgeom_solver@my_lcgeom_solution@lc_geometry@solution', 'fitted_values@my_lcgeom_solver@my_lcgeom_solution@lc_geometry@solution', 'fitted_units@my_lcgeom_solver@my_lcgeom_solution@lc_geometry@solution', 'adopt_parameters@my_lcgeom_solver@my_lcgeom_solution@lc_geometry@solution', 'adopt_distributions@my_lcgeom_solver@my_lcgeom_solution@lc_geometry@solution', 'adopt_values@my_lcgeom_solver@my_lcgeom_solution@lc_geometry@solution', 'comments@my_lcgeom_solver@my_lcgeom_solution@lc_geometry@solution', 'solution@lc_geometryfig01@lc_geometry@figure', 'comments@myemceesolver@emcee@solver', 'compute@myemceesolver@emcee@solver', 'continue_from@myemceesolver@emcee@solver', 'init_from@myemceesolver@emcee@solver', 'init_from_combine@myemceesolver@emcee@solver', 'priors@myemceesolver@emcee@solver', 'priors_combine@myemceesolver@emcee@solver', 'nwalkers@myemceesolver@emcee@solver', 'niters@myemceesolver@emcee@solver', 'burnin_factor@myemceesolver@emcee@solver', 'thin_factor@myemceesolver@emcee@solver', 'progress_every_niters@myemceesolver@emcee@solver', 'expose_failed@myemceesolver@emcee@solver']",
     "output_type": "error",
     "traceback": [
      "\u001b[0;31m---------------------------------------------------------------------------\u001b[0m",
      "\u001b[0;31mValueError\u001b[0m                                Traceback (most recent call last)",
      "\u001b[0;32m<ipython-input-19-61c698681fcf>\u001b[0m in \u001b[0;36m<module>\u001b[0;34m\u001b[0m\n\u001b[0;32m----> 1\u001b[0;31m \u001b[0mb\u001b[0m\u001b[0;34m.\u001b[0m\u001b[0mcalculate_lnp\u001b[0m\u001b[0;34m(\u001b[0m\u001b[0;34m'priors@myemceesolver'\u001b[0m\u001b[0;34m)\u001b[0m\u001b[0;34m\u001b[0m\u001b[0;34m\u001b[0m\u001b[0m\n\u001b[0m",
      "\u001b[0;32m~/.local/lib/python3.8/site-packages/phoebe/frontend/bundle.py\u001b[0m in \u001b[0;36mcalculate_lnp\u001b[0;34m(self, twig, **kwargs)\u001b[0m\n\u001b[1;32m   8323\u001b[0m         \u001b[0;32mif\u001b[0m \u001b[0mlen\u001b[0m\u001b[0;34m(\u001b[0m\u001b[0mdc\u001b[0m\u001b[0;34m.\u001b[0m\u001b[0mdists_unpacked\u001b[0m\u001b[0;34m)\u001b[0m \u001b[0;34m!=\u001b[0m \u001b[0mlen\u001b[0m\u001b[0;34m(\u001b[0m\u001b[0muniqueids\u001b[0m\u001b[0;34m)\u001b[0m\u001b[0;34m:\u001b[0m\u001b[0;34m\u001b[0m\u001b[0;34m\u001b[0m\u001b[0m\n\u001b[1;32m   8324\u001b[0m             \u001b[0mps\u001b[0m \u001b[0;34m=\u001b[0m \u001b[0mself\u001b[0m\u001b[0;34m.\u001b[0m\u001b[0mexclude\u001b[0m\u001b[0;34m(\u001b[0m\u001b[0mcontext\u001b[0m\u001b[0;34m=\u001b[0m\u001b[0;34m[\u001b[0m\u001b[0;34m'distribution'\u001b[0m\u001b[0;34m,\u001b[0m \u001b[0;34m'constraint'\u001b[0m\u001b[0;34m]\u001b[0m\u001b[0;34m,\u001b[0m \u001b[0;34m**\u001b[0m\u001b[0m_skip_filter_checks\u001b[0m\u001b[0;34m)\u001b[0m\u001b[0;34m\u001b[0m\u001b[0;34m\u001b[0m\u001b[0m\n\u001b[0;32m-> 8325\u001b[0;31m             \u001b[0mvalues\u001b[0m \u001b[0;34m=\u001b[0m \u001b[0;34m[\u001b[0m\u001b[0mps\u001b[0m\u001b[0;34m.\u001b[0m\u001b[0mget_value\u001b[0m\u001b[0;34m(\u001b[0m\u001b[0mtwig\u001b[0m\u001b[0;34m=\u001b[0m\u001b[0mdist\u001b[0m\u001b[0;34m.\u001b[0m\u001b[0mlabel\u001b[0m\u001b[0;34m,\u001b[0m \u001b[0munit\u001b[0m\u001b[0;34m=\u001b[0m\u001b[0mdist\u001b[0m\u001b[0;34m.\u001b[0m\u001b[0munit\u001b[0m\u001b[0;34m,\u001b[0m \u001b[0;34m**\u001b[0m\u001b[0m_skip_filter_checks\u001b[0m\u001b[0;34m)\u001b[0m \u001b[0;32mfor\u001b[0m \u001b[0mdist\u001b[0m \u001b[0;32min\u001b[0m \u001b[0mdc\u001b[0m\u001b[0;34m.\u001b[0m\u001b[0mdists_unpacked\u001b[0m\u001b[0;34m]\u001b[0m\u001b[0;34m\u001b[0m\u001b[0;34m\u001b[0m\u001b[0m\n\u001b[0m\u001b[1;32m   8326\u001b[0m         \u001b[0;32melse\u001b[0m\u001b[0;34m:\u001b[0m\u001b[0;34m\u001b[0m\u001b[0;34m\u001b[0m\u001b[0m\n\u001b[1;32m   8327\u001b[0m             \u001b[0;31m# then we can do the faster lookup by uniqueid\u001b[0m\u001b[0;34m\u001b[0m\u001b[0;34m\u001b[0m\u001b[0;34m\u001b[0m\u001b[0m\n",
      "\u001b[0;32m~/.local/lib/python3.8/site-packages/phoebe/frontend/bundle.py\u001b[0m in \u001b[0;36m<listcomp>\u001b[0;34m(.0)\u001b[0m\n\u001b[1;32m   8323\u001b[0m         \u001b[0;32mif\u001b[0m \u001b[0mlen\u001b[0m\u001b[0;34m(\u001b[0m\u001b[0mdc\u001b[0m\u001b[0;34m.\u001b[0m\u001b[0mdists_unpacked\u001b[0m\u001b[0;34m)\u001b[0m \u001b[0;34m!=\u001b[0m \u001b[0mlen\u001b[0m\u001b[0;34m(\u001b[0m\u001b[0muniqueids\u001b[0m\u001b[0;34m)\u001b[0m\u001b[0;34m:\u001b[0m\u001b[0;34m\u001b[0m\u001b[0;34m\u001b[0m\u001b[0m\n\u001b[1;32m   8324\u001b[0m             \u001b[0mps\u001b[0m \u001b[0;34m=\u001b[0m \u001b[0mself\u001b[0m\u001b[0;34m.\u001b[0m\u001b[0mexclude\u001b[0m\u001b[0;34m(\u001b[0m\u001b[0mcontext\u001b[0m\u001b[0;34m=\u001b[0m\u001b[0;34m[\u001b[0m\u001b[0;34m'distribution'\u001b[0m\u001b[0;34m,\u001b[0m \u001b[0;34m'constraint'\u001b[0m\u001b[0;34m]\u001b[0m\u001b[0;34m,\u001b[0m \u001b[0;34m**\u001b[0m\u001b[0m_skip_filter_checks\u001b[0m\u001b[0;34m)\u001b[0m\u001b[0;34m\u001b[0m\u001b[0;34m\u001b[0m\u001b[0m\n\u001b[0;32m-> 8325\u001b[0;31m             \u001b[0mvalues\u001b[0m \u001b[0;34m=\u001b[0m \u001b[0;34m[\u001b[0m\u001b[0mps\u001b[0m\u001b[0;34m.\u001b[0m\u001b[0mget_value\u001b[0m\u001b[0;34m(\u001b[0m\u001b[0mtwig\u001b[0m\u001b[0;34m=\u001b[0m\u001b[0mdist\u001b[0m\u001b[0;34m.\u001b[0m\u001b[0mlabel\u001b[0m\u001b[0;34m,\u001b[0m \u001b[0munit\u001b[0m\u001b[0;34m=\u001b[0m\u001b[0mdist\u001b[0m\u001b[0;34m.\u001b[0m\u001b[0munit\u001b[0m\u001b[0;34m,\u001b[0m \u001b[0;34m**\u001b[0m\u001b[0m_skip_filter_checks\u001b[0m\u001b[0;34m)\u001b[0m \u001b[0;32mfor\u001b[0m \u001b[0mdist\u001b[0m \u001b[0;32min\u001b[0m \u001b[0mdc\u001b[0m\u001b[0;34m.\u001b[0m\u001b[0mdists_unpacked\u001b[0m\u001b[0;34m]\u001b[0m\u001b[0;34m\u001b[0m\u001b[0;34m\u001b[0m\u001b[0m\n\u001b[0m\u001b[1;32m   8326\u001b[0m         \u001b[0;32melse\u001b[0m\u001b[0;34m:\u001b[0m\u001b[0;34m\u001b[0m\u001b[0;34m\u001b[0m\u001b[0m\n\u001b[1;32m   8327\u001b[0m             \u001b[0;31m# then we can do the faster lookup by uniqueid\u001b[0m\u001b[0;34m\u001b[0m\u001b[0;34m\u001b[0m\u001b[0;34m\u001b[0m\u001b[0m\n",
      "\u001b[0;32m~/.local/lib/python3.8/site-packages/phoebe/parameters/parameters.py\u001b[0m in \u001b[0;36mget_value\u001b[0;34m(self, twig, unit, default, t, **kwargs)\u001b[0m\n\u001b[1;32m   3237\u001b[0m             \u001b[0mkwargs\u001b[0m\u001b[0;34m[\u001b[0m\u001b[0;34m'uniqueid'\u001b[0m\u001b[0;34m]\u001b[0m\u001b[0;34m,\u001b[0m \u001b[0mindex\u001b[0m \u001b[0;34m=\u001b[0m \u001b[0m_extract_index_from_string\u001b[0m\u001b[0;34m(\u001b[0m\u001b[0mkwargs\u001b[0m\u001b[0;34m.\u001b[0m\u001b[0mget\u001b[0m\u001b[0;34m(\u001b[0m\u001b[0;34m'uniqueid'\u001b[0m\u001b[0;34m)\u001b[0m\u001b[0;34m)\u001b[0m\u001b[0;34m\u001b[0m\u001b[0;34m\u001b[0m\u001b[0m\n\u001b[1;32m   3238\u001b[0m \u001b[0;34m\u001b[0m\u001b[0m\n\u001b[0;32m-> 3239\u001b[0;31m         \u001b[0mparam\u001b[0m \u001b[0;34m=\u001b[0m \u001b[0mself\u001b[0m\u001b[0;34m.\u001b[0m\u001b[0mget_parameter\u001b[0m\u001b[0;34m(\u001b[0m\u001b[0mtwig\u001b[0m\u001b[0;34m=\u001b[0m\u001b[0mtwig\u001b[0m\u001b[0;34m,\u001b[0m \u001b[0;34m**\u001b[0m\u001b[0mkwargs\u001b[0m\u001b[0;34m)\u001b[0m\u001b[0;34m\u001b[0m\u001b[0;34m\u001b[0m\u001b[0m\n\u001b[0m\u001b[1;32m   3240\u001b[0m \u001b[0;34m\u001b[0m\u001b[0m\n\u001b[1;32m   3241\u001b[0m         \u001b[0;31m# if hasattr(param, 'default_unit'):\u001b[0m\u001b[0;34m\u001b[0m\u001b[0;34m\u001b[0m\u001b[0;34m\u001b[0m\u001b[0m\n",
      "\u001b[0;32m~/.local/lib/python3.8/site-packages/phoebe/parameters/parameters.py\u001b[0m in \u001b[0;36mget_parameter\u001b[0;34m(self, twig, **kwargs)\u001b[0m\n\u001b[1;32m   2953\u001b[0m             \u001b[0mmatching\u001b[0m \u001b[0mthe\u001b[0m \u001b[0msearch\u001b[0m\u001b[0;34m.\u001b[0m\u001b[0;34m\u001b[0m\u001b[0;34m\u001b[0m\u001b[0m\n\u001b[1;32m   2954\u001b[0m         \"\"\"\n\u001b[0;32m-> 2955\u001b[0;31m         \u001b[0;32mreturn\u001b[0m \u001b[0mself\u001b[0m\u001b[0;34m.\u001b[0m\u001b[0mget\u001b[0m\u001b[0;34m(\u001b[0m\u001b[0mtwig\u001b[0m\u001b[0;34m=\u001b[0m\u001b[0mtwig\u001b[0m\u001b[0;34m,\u001b[0m \u001b[0;34m**\u001b[0m\u001b[0mkwargs\u001b[0m\u001b[0;34m)\u001b[0m\u001b[0;34m\u001b[0m\u001b[0;34m\u001b[0m\u001b[0m\n\u001b[0m\u001b[1;32m   2956\u001b[0m \u001b[0;34m\u001b[0m\u001b[0m\n\u001b[1;32m   2957\u001b[0m     \u001b[0;32mdef\u001b[0m \u001b[0mget_or_create\u001b[0m\u001b[0;34m(\u001b[0m\u001b[0mself\u001b[0m\u001b[0;34m,\u001b[0m \u001b[0mqualifier\u001b[0m\u001b[0;34m,\u001b[0m \u001b[0mnew_parameter\u001b[0m\u001b[0;34m,\u001b[0m \u001b[0mattach_to_bundle\u001b[0m\u001b[0;34m=\u001b[0m\u001b[0;32mFalse\u001b[0m\u001b[0;34m,\u001b[0m \u001b[0;34m**\u001b[0m\u001b[0mkwargs\u001b[0m\u001b[0;34m)\u001b[0m\u001b[0;34m:\u001b[0m\u001b[0;34m\u001b[0m\u001b[0;34m\u001b[0m\u001b[0m\n",
      "\u001b[0;32m~/.local/lib/python3.8/site-packages/phoebe/parameters/parameters.py\u001b[0m in \u001b[0;36mget\u001b[0;34m(self, twig, check_visible, check_default, check_advanced, check_single, **kwargs)\u001b[0m\n\u001b[1;32m   2603\u001b[0m         \u001b[0;32melif\u001b[0m \u001b[0mlen\u001b[0m\u001b[0;34m(\u001b[0m\u001b[0mps\u001b[0m\u001b[0;34m)\u001b[0m \u001b[0;34m!=\u001b[0m \u001b[0;36m1\u001b[0m\u001b[0;34m:\u001b[0m\u001b[0;34m\u001b[0m\u001b[0;34m\u001b[0m\u001b[0m\n\u001b[1;32m   2604\u001b[0m             \u001b[0;31m# TODO: custom exception?\u001b[0m\u001b[0;34m\u001b[0m\u001b[0;34m\u001b[0m\u001b[0;34m\u001b[0m\u001b[0m\n\u001b[0;32m-> 2605\u001b[0;31m             \u001b[0;32mraise\u001b[0m \u001b[0mValueError\u001b[0m\u001b[0;34m(\u001b[0m\u001b[0;34m\"{} results found: {}\"\u001b[0m\u001b[0;34m.\u001b[0m\u001b[0mformat\u001b[0m\u001b[0;34m(\u001b[0m\u001b[0mlen\u001b[0m\u001b[0;34m(\u001b[0m\u001b[0mps\u001b[0m\u001b[0;34m)\u001b[0m\u001b[0;34m,\u001b[0m \u001b[0mps\u001b[0m\u001b[0;34m.\u001b[0m\u001b[0mtwigs\u001b[0m\u001b[0;34m)\u001b[0m\u001b[0;34m)\u001b[0m\u001b[0;34m\u001b[0m\u001b[0;34m\u001b[0m\u001b[0m\n\u001b[0m\u001b[1;32m   2606\u001b[0m         \u001b[0;32melse\u001b[0m\u001b[0;34m:\u001b[0m\u001b[0;34m\u001b[0m\u001b[0;34m\u001b[0m\u001b[0m\n\u001b[1;32m   2607\u001b[0m             \u001b[0;31m# then only 1 item, so return the parameter\u001b[0m\u001b[0;34m\u001b[0m\u001b[0;34m\u001b[0m\u001b[0;34m\u001b[0m\u001b[0m\n",
      "\u001b[0;31mValueError\u001b[0m: 247 results found: ['t0@system', 'ra@system', 'dec@system', 'distance@system', 'vgamma@system', 'ebv@system', 'Av@system', 'Rv@system', 'hierarchy@system', 'requiv@primary@star@component', 'requiv_max@primary@star@component', 'requiv_min@primary@star@component', 'teff@primary@star@component', 'abun@primary@star@component', 'logg@primary@star@component', 'syncpar@primary@star@component', 'period@primary@star@component', 'freq@primary@star@component', 'pitch@primary@star@component', 'yaw@primary@star@component', 'incl@primary@star@component', 'long_an@primary@star@component', 'gravb_bol@primary@star@component', 'irrad_frac_refl_bol@primary@star@component', 'irrad_frac_lost_bol@primary@star@component', 'ld_mode_bol@primary@star@component', 'ld_func_bol@primary@star@component', 'ld_coeffs_source_bol@primary@star@component', 'ld_coeffs_bol@primary@star@component', 'mass@primary@star@component', 'requiv@secondary@star@component', 'requiv_max@secondary@star@component', 'requiv_min@secondary@star@component', 'teff@secondary@star@component', 'abun@secondary@star@component', 'logg@secondary@star@component', 'syncpar@secondary@star@component', 'period@secondary@star@component', 'freq@secondary@star@component', 'pitch@secondary@star@component', 'yaw@secondary@star@component', 'incl@secondary@star@component', 'long_an@secondary@star@component', 'gravb_bol@secondary@star@component', 'irrad_frac_refl_bol@secondary@star@component', 'irrad_frac_lost_bol@secondary@star@component', 'ld_mode_bol@secondary@star@component', 'ld_func_bol@secondary@star@component', 'ld_coeffs_source_bol@secondary@star@component', 'ld_coeffs_bol@secondary@star@component', 'mass@secondary@star@component', 'period@binary@orbit@component', 'period_anom@binary@orbit@component', 'freq@binary@orbit@component', 'dpdt@binary@orbit@component', 'per0@binary@orbit@component', 'dperdt@binary@orbit@component', 'ecc@binary@orbit@component', 't0_perpass@binary@orbit@component', 't0_supconj@binary@orbit@component', 't0_ref@binary@orbit@component', 'mean_anom@binary@orbit@component', 'incl@binary@orbit@component', 'q@binary@orbit@component', 'sma@binary@orbit@component', 'long_an@binary@orbit@component', 'asini@binary@orbit@component', 'ecosw@binary@orbit@component', 'esinw@binary@orbit@component', 'sma@primary@star@component', 'asini@primary@star@component', 'sma@secondary@star@component', 'asini@secondary@star@component', 'sample_from@phoebe01@phoebe@compute', 'sample_from_combine@phoebe01@phoebe@compute', 'sample_num@phoebe01@phoebe@compute', 'sample_mode@phoebe01@phoebe@compute', 'expose_samples@phoebe01@phoebe@compute', 'expose_failed@phoebe01@phoebe@compute', 'comments@phoebe01@phoebe@compute', 'enabled@_default@phoebe01@phoebe@compute', 'enabled@_default@phoebe01@phoebe@compute', 'dynamics_method@phoebe01@phoebe@compute', 'ltte@phoebe01@phoebe@compute', 'irrad_method@phoebe01@phoebe@compute', 'boosting_method@phoebe01@phoebe@compute', 'mesh_method@_default@phoebe01@phoebe@compute', 'ntriangles@_default@phoebe01@phoebe@compute', 'distortion_method@_default@phoebe01@phoebe@compute', 'eclipse_method@phoebe01@phoebe@compute', 'horizon_method@phoebe01@phoebe@compute', 'atm@_default@phoebe01@phoebe@compute', 'fti_method@_default@phoebe01@phoebe@compute', 'fti_oversample@_default@phoebe01@phoebe@compute', 'rv_method@_default@_default@phoebe01@phoebe@compute', 'rv_grav@_default@_default@phoebe01@phoebe@compute', 'mesh_method@primary@phoebe01@phoebe@compute', 'mesh_method@secondary@phoebe01@phoebe@compute', 'ntriangles@primary@phoebe01@phoebe@compute', 'ntriangles@secondary@phoebe01@phoebe@compute', 'distortion_method@primary@phoebe01@phoebe@compute', 'distortion_method@secondary@phoebe01@phoebe@compute', 'atm@primary@phoebe01@phoebe@compute', 'atm@secondary@phoebe01@phoebe@compute', 'default_time_source@figure', 'default_time@figure', 'latex_repr@primary@star@figure', 'color@primary@star@figure', 'marker@primary@star@figure', 'linestyle@primary@star@figure', 'latex_repr@secondary@star@figure', 'color@secondary@star@figure', 'marker@secondary@star@figure', 'linestyle@secondary@star@figure', 'latex_repr@binary@orbit@figure', 'phoebe_version@setting', 'dict_filter@setting', 'dict_set_all@setting', 'run_checks_compute@setting', 'run_checks_solver@setting', 'run_checks_solution@setting', 'run_checks_figure@setting', 'auto_add_figure@setting', 'auto_remove_figure@setting', 'web_client@setting', 'web_client_url@setting', 'times@lc01@lc@dataset', 'fluxes@lc01@lc@dataset', 'ld_mode@_default@lc01@lc@dataset', 'ld_func@_default@lc01@lc@dataset', 'ld_coeffs_source@_default@lc01@lc@dataset', 'ld_coeffs@_default@lc01@lc@dataset', 'passband@lc01@lc@dataset', 'intens_weighting@lc01@lc@dataset', 'compute_times@lc01@lc@dataset', 'compute_phases@binary@lc01@lc@dataset', 'phases_period@binary@lc01@lc@dataset', 'phases_dpdt@binary@lc01@lc@dataset', 'phases_t0@binary@lc01@lc@dataset', 'mask_enabled@lc01@lc@dataset', 'mask_phases@binary@lc01@lc@dataset', 'solver_times@lc01@lc@dataset', 'sigmas@lc01@lc@dataset', 'sigmas_lnf@lc01@lc@dataset', 'pblum_mode@lc01@lc@dataset', 'pblum_component@lc01@lc@dataset', 'pblum@_default@lc01@lc@dataset', 'pblum_dataset@lc01@lc@dataset', 'pbflux@lc01@lc@dataset', 'l3_mode@lc01@lc@dataset', 'l3@lc01@lc@dataset', 'l3_frac@lc01@lc@dataset', 'exptime@lc01@lc@dataset', 'enabled@lc01@phoebe01@phoebe@compute', 'fti_method@lc01@phoebe01@phoebe@compute', 'fti_oversample@lc01@phoebe01@phoebe@compute', 'ld_mode@primary@lc01@lc@dataset', 'ld_mode@secondary@lc01@lc@dataset', 'ld_func@primary@lc01@lc@dataset', 'ld_func@secondary@lc01@lc@dataset', 'ld_coeffs_source@primary@lc01@lc@dataset', 'ld_coeffs_source@secondary@lc01@lc@dataset', 'ld_coeffs@primary@lc01@lc@dataset', 'ld_coeffs@secondary@lc01@lc@dataset', 'pblum@primary@lc01@lc@dataset', 'pblum@secondary@lc01@lc@dataset', 'latex_repr@lc01@lc@figure', 'color@lc01@lc@figure', 'marker@lc01@lc@figure', 'linestyle@lc01@lc@figure', 'contexts@lcfig01@lc@figure', 'datasets@lcfig01@lc@figure', 'models@lcfig01@lc@figure', 'x@lcfig01@lc@figure', 'period@lcfig01@lc@figure', 'dpdt@lcfig01@lc@figure', 't0@lcfig01@lc@figure', 'y@lcfig01@lc@figure', 'xlabel_source@lcfig01@lc@figure', 'xlabel@lcfig01@lc@figure', 'xunit_source@lcfig01@lc@figure', 'xlim_source@lcfig01@lc@figure', 'xunit@lcfig01@lc@figure', 'xlim@lcfig01@lc@figure', 'xunit@lcfig01@lc@figure', 'xlim@lcfig01@lc@figure', 'ylabel_source@lcfig01@lc@figure', 'ylabel@lcfig01@lc@figure', 'yunit_source@lcfig01@lc@figure', 'ylim_source@lcfig01@lc@figure', 'yunit@lcfig01@lc@figure', 'ylim@lcfig01@lc@figure', 'color_source@lcfig01@lc@figure', 'color@lcfig01@lc@figure', 'marker_source@lcfig01@lc@figure', 'marker@lcfig01@lc@figure', 'linestyle_source@lcfig01@lc@figure', 'linestyle@lcfig01@lc@figure', 'legend@lcfig01@lc@figure', 'uncover@lcfig01@lc@figure', 'highlight@lcfig01@lc@figure', 'time_source@lcfig01@lc@figure', 'time@lcfig01@lc@figure', 'comments@my_lcgeom_solver@lc_geometry@solver', 'lc_datasets@my_lcgeom_solver@lc_geometry@solver', 'lc_combine@my_lcgeom_solver@lc_geometry@solver', 'phase_bin@my_lcgeom_solver@lc_geometry@solver', 'phase_nbins@my_lcgeom_solver@lc_geometry@solver', 'orbit@my_lcgeom_solver@lc_geometry@solver', 't0_near_times@my_lcgeom_solver@lc_geometry@solver', 'expose_model@my_lcgeom_solver@lc_geometry@solver', 'orbit@my_lcgeom_solver@my_lcgeom_solution@lc_geometry@solution', 'input_phases@my_lcgeom_solver@my_lcgeom_solution@lc_geometry@solution', 'input_fluxes@my_lcgeom_solver@my_lcgeom_solution@lc_geometry@solution', 'input_sigmas@my_lcgeom_solver@my_lcgeom_solution@lc_geometry@solution', 'analytic_phases@my_lcgeom_solver@my_lcgeom_solution@lc_geometry@solution', 'analytic_fluxes@my_lcgeom_solver@my_lcgeom_solution@lc_geometry@solution', 'analytic_best_model@my_lcgeom_solver@my_lcgeom_solution@lc_geometry@solution', 'primary_width@my_lcgeom_solver@my_lcgeom_solution@lc_geometry@solution', 'secondary_width@my_lcgeom_solver@my_lcgeom_solution@lc_geometry@solution', 'primary_phase@my_lcgeom_solver@my_lcgeom_solution@lc_geometry@solution', 'secondary_phase@my_lcgeom_solver@my_lcgeom_solution@lc_geometry@solution', 'primary_depth@my_lcgeom_solver@my_lcgeom_solution@lc_geometry@solution', 'secondary_depth@my_lcgeom_solver@my_lcgeom_solution@lc_geometry@solution', 'eclipse_edges@my_lcgeom_solver@my_lcgeom_solution@lc_geometry@solution', 'fitted_uniqueids@my_lcgeom_solver@my_lcgeom_solution@lc_geometry@solution', 'fitted_twigs@my_lcgeom_solver@my_lcgeom_solution@lc_geometry@solution', 'fitted_values@my_lcgeom_solver@my_lcgeom_solution@lc_geometry@solution', 'fitted_units@my_lcgeom_solver@my_lcgeom_solution@lc_geometry@solution', 'adopt_parameters@my_lcgeom_solver@my_lcgeom_solution@lc_geometry@solution', 'adopt_distributions@my_lcgeom_solver@my_lcgeom_solution@lc_geometry@solution', 'adopt_values@my_lcgeom_solver@my_lcgeom_solution@lc_geometry@solution', 'comments@my_lcgeom_solver@my_lcgeom_solution@lc_geometry@solution', 'solution@lc_geometryfig01@lc_geometry@figure', 'comments@myemceesolver@emcee@solver', 'compute@myemceesolver@emcee@solver', 'continue_from@myemceesolver@emcee@solver', 'init_from@myemceesolver@emcee@solver', 'init_from_combine@myemceesolver@emcee@solver', 'priors@myemceesolver@emcee@solver', 'priors_combine@myemceesolver@emcee@solver', 'nwalkers@myemceesolver@emcee@solver', 'niters@myemceesolver@emcee@solver', 'burnin_factor@myemceesolver@emcee@solver', 'thin_factor@myemceesolver@emcee@solver', 'progress_every_niters@myemceesolver@emcee@solver', 'expose_failed@myemceesolver@emcee@solver']"
     ]
    }
   ],
   "source": [
    "b.calculate_lnp('priors@myemceesolver')"
   ]
  },
  {
   "cell_type": "code",
   "execution_count": null,
   "metadata": {},
   "outputs": [],
   "source": [
    "b.set_value('priors_combine', 'first')"
   ]
  },
  {
   "cell_type": "code",
   "execution_count": null,
   "metadata": {},
   "outputs": [],
   "source": [
    "_ = b.plot_distribution_collection('priors@myemceesolver', show=True)"
   ]
  },
  {
   "cell_type": "code",
   "execution_count": null,
   "metadata": {},
   "outputs": [],
   "source": [
    "b.calculate_lnp('priors@myemceesolver')"
   ]
  },
  {
   "cell_type": "markdown",
   "metadata": {},
   "source": [
    "As with the example above, to run an `emcee` run, just set all the desired options in the `solver` parameters, and then call [b.run_solver](../api/phoebe.frontend.bundle.Bundle.run_solver.md).  This will then expose the resulting chains in the solution, which are available for plotting and adopting.  See the  [solver example scripts](../examples.md) or the individual [API docs for solvers](../api/phoebe.parameters.solver.md) for more details on each available algorithm."
   ]
  },
  {
   "cell_type": "markdown",
   "metadata": {},
   "source": [
    "Next\n",
    "----------\n",
    "\n",
    "That's it!! You've completed all the basic tutorials.  Now give PHOEBE a try or dig into some of the [advanced tutorials](../tutorials.md) and [example scripts](../examples.md).\n",
    "\n",
    "Or look at any of these advanced topics related to running solvers:\n",
    "* [Advanced: Solver Times](./solver_times.ipynb)\n",
    "* [Advanced: LC Estimators](./LC_estimators.ipynb)\n",
    "* [Advanced: RV Estimators](./RV_estimators.ipynb)\n",
    "* [Advanced: Nelder-Mead Optimizer](./nelder_mead.ipynb)\n",
    "* [Advanced: Emcee Sampler](./emcee.ipynb)\n",
    "* [Advanced: Running Solvers on an External Machine](./export_solver.ipynb)\n",
    "* [Advanced: Fitting Limb Darkening Coefficients](./fitting_ld_coeffs.ipynb)"
   ]
  }
 ],
 "metadata": {
  "kernelspec": {
   "display_name": "Python 3",
   "language": "python",
   "name": "python3"
  },
  "language_info": {
   "codemirror_mode": {
    "name": "ipython",
    "version": 3
   },
   "file_extension": ".py",
   "mimetype": "text/x-python",
   "name": "python",
   "nbconvert_exporter": "python",
   "pygments_lexer": "ipython3",
   "version": "3.8.5"
  }
 },
 "nbformat": 4,
 "nbformat_minor": 1
}
