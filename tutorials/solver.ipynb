{
 "cells": [
  {
   "cell_type": "markdown",
   "metadata": {},
   "source": [
    "Solvers: The Inverse Problem\n",
    "============================\n",
    "\n",
    "\n",
    "Setup\n",
    "-----------------------------"
   ]
  },
  {
   "cell_type": "markdown",
   "metadata": {},
   "source": [
    "Let's first make sure we have the latest version of PHOEBE 2.3 installed (uncomment this line if running in an online notebook session such as colab)."
   ]
  },
  {
   "cell_type": "code",
   "execution_count": 1,
   "metadata": {},
   "outputs": [],
   "source": [
    "#!pip install -I \"phoebe>=2.3,<2.4\""
   ]
  },
  {
   "cell_type": "code",
   "execution_count": 2,
   "metadata": {},
   "outputs": [],
   "source": [
    "import phoebe\n",
    "from phoebe import u # units\n",
    "import numpy as np\n",
    "\n",
    "logger = phoebe.logger()"
   ]
  },
  {
   "cell_type": "markdown",
   "metadata": {},
   "source": [
    "General \"Fitting\" Workflow\n",
    "---------------------------------------\n",
    "\n",
    "PHOEBE includes wrappers around several different inverse-problem \"algorithms\" with a common interface.  These available \"algorithms\" are divided into three categories:\n",
    "\n",
    "* estimators: provides proposed values for a number of parameters from the datasets as input alone, not requiring full forward-models via [run_compute](../api/phoebe.frontend.bundle.Bundle.run_compute.md).\n",
    "* optimizers: runs off-the-shelf optimizers to attempt to find the local (or global) solution.\n",
    "* samplers: samples the local parameter space to estimate uncertainties and correlations.\n",
    "\n",
    "To see the currently implemented set of solvers, we can call [phoebe.list_available_solvers](../api/phoebe.list_available_solvers.md)"
   ]
  },
  {
   "cell_type": "code",
   "execution_count": 3,
   "metadata": {},
   "outputs": [
    {
     "name": "stdout",
     "output_type": "stream",
     "text": [
      "['estimator.ebai', 'estimator.lc_geometry', 'estimator.lc_periodogram', 'estimator.rv_geometry', 'estimator.rv_periodogram', 'optimizer.cg', 'optimizer.differential_evolution', 'optimizer.nelder_mead', 'optimizer.powell', 'sampler.dynesty', 'sampler.emcee']\n"
     ]
    }
   ],
   "source": [
    "print(phoebe.list_available_solvers())"
   ]
  },
  {
   "cell_type": "markdown",
   "metadata": {},
   "source": [
    "Solving an eclipsing binary is a very time-intensive task (both for you as well as your computer).  There is no one-size-fits-all recipe to follow, but in general you might find the following workflow useful:\n",
    "\n",
    "1. Create a bundle with the appropriate configuration (single star, detached binary, semi-detached, contact, etc).\n",
    "2. Attach observational datasets\n",
    "3. Flip constraints as necessary to parameterize the system in the way that makes sense for any information you know in advance, types of data, and scientific goals.  For example: if you have an SB2 system with RVs, it might make sense to reparameterize to \"fit\" for `asini` instead of `sma` and `incl`.\n",
    "4. Manually set known or approximate values for parameters wherever possible.\n",
    "5. Run the appropriate estimators, checking to see if the proposed values make sense before adopting them.\n",
    "6. Try to optimize the forward model.  See which expensive effects can be disabled without affecting the synthetic model (to some precision tolerance).  Make sure to revisit these assumptions as optimizers may move the system to different areas of parameter space where they are no longer valid.\n",
    "7. Run optimizers to find (what you hope and assume to be) the global solution.  Start with just a few parameters that are most sensitive to the remaining residuals and add more until the residuals are flat (no systematics).  Check all read-only constrained parameters to make sure that they make sense, are consistent with known information, and are physical.\n",
    "8. Run samplers around the global solution found by the optimizers to explore that local parameter space and the correlations between parameters.  Check for convergence before interpreting the resulting posteriors."
   ]
  },
  {
   "cell_type": "markdown",
   "metadata": {},
   "source": [
    "For the sake of a simple crude example, we'll just use the synthetic light curve of a default binary with a bit of noise as our \"observations\".   See the [inverse problem example scripts](../examples.md) for more realistic examples."
   ]
  },
  {
   "cell_type": "code",
   "execution_count": 4,
   "metadata": {},
   "outputs": [
    {
     "name": "stderr",
     "output_type": "stream",
     "text": [
      "100%|██████████| 101/101 [00:01<00:00, 75.77it/s]\n"
     ]
    },
    {
     "data": {
      "text/plain": [
       "<ParameterSet: 78 parameters | contexts: compute, figure, constraint, dataset>"
      ]
     },
     "execution_count": 4,
     "metadata": {},
     "output_type": "execute_result"
    }
   ],
   "source": [
    "b = phoebe.default_binary()\n",
    "b.add_dataset('lc', compute_phases=phoebe.linspace(0,1,101))\n",
    "b.run_compute(irrad_method='none')\n",
    "\n",
    "times = b.get_value('times', context='model')\n",
    "fluxes = b.get_value('fluxes', context='model') + np.random.normal(size=times.shape) * 0.01\n",
    "sigmas = np.ones_like(times) * 0.02\n",
    "\n",
    "b = phoebe.default_binary()\n",
    "b.add_dataset('lc', times=times, fluxes=fluxes, sigmas=np.full_like(fluxes, fill_value=0.1))"
   ]
  },
  {
   "cell_type": "markdown",
   "metadata": {},
   "source": [
    "Adding Solver Options\n",
    "----------------------------------\n",
    "\n",
    "As there are quite a few different solvers implemented in PHOEBE and each have their own available options, we won't get in to the details here.  See [LC esimators](./LC_estimators.ipynb), [RV estimators](./RV_estimators.ipynb), [Nelder-Mead Optimizer](./nelder_mead.ipynb), and [emcee sampler](./emcee.ipynb) for details on some of the most commonly-used solver.  The [solver API docs](../api/phoebe.parameters.solver.md) or [solver example scripts](../examples.md) may also help.\n",
    "\n",
    "As you may expect, to use a solver you must first call [b.add_solver](../api/phoebe.frontend.bundle.Bundle.add_solver.md), set the desired options, and then call [b.run_solver](../api/phoebe.frontend.bundle.Bundle.run_solver.md) (or [b.export_solver](../api/phoebe.frontend.bundle.Bundle.export_solver.md) and [b.import_solution](../api/phoebe.frontend.bundle.Bundle.import_solution.md))."
   ]
  },
  {
   "cell_type": "code",
   "execution_count": 5,
   "metadata": {},
   "outputs": [
    {
     "data": {
      "text/plain": [
       "<ParameterSet: 8 parameters | qualifiers: phase_bin, phase_nbins, expose_model, lc_datasets, orbit, lc_combine, t0_near_times, comments>"
      ]
     },
     "execution_count": 5,
     "metadata": {},
     "output_type": "execute_result"
    }
   ],
   "source": [
    "b.add_solver('estimator.lc_geometry', solver='my_lcgeom_solver')"
   ]
  },
  {
   "cell_type": "code",
   "execution_count": 6,
   "metadata": {},
   "outputs": [
    {
     "name": "stdout",
     "output_type": "stream",
     "text": [
      "ParameterSet: 7 parameters\n",
      "   comments@my_lcgeom_solver@s...: \n",
      "   lc_datasets@my_lcgeom_solve...: ['*']\n",
      "   phase_bin@my_lcgeom_solver@...: True\n",
      "   phase_nbins@my_lcgeom_solve...: 500\n",
      "    orbit@my_lcgeom_solver@solver: binary\n",
      "   t0_near_times@my_lcgeom_sol...: True\n",
      "   expose_model@my_lcgeom_solv...: True\n"
     ]
    }
   ],
   "source": [
    "print(b.get_solver(solver='my_lcgeom_solver'))"
   ]
  },
  {
   "cell_type": "markdown",
   "metadata": {},
   "source": [
    "In addition to the [solver API docs](../api/phoebe.parameters.solver.md), remember that each parameter has a description and possibly a set of available choices (if its a [ChoiceParameter](../api/phoebe.parameters.ChoiceParameter.md) or [SelectParameter](../api/phoebe.parameters.SelectParameter.md))."
   ]
  },
  {
   "cell_type": "code",
   "execution_count": 7,
   "metadata": {},
   "outputs": [
    {
     "name": "stdout",
     "output_type": "stream",
     "text": [
      "Whether to expose the 2-gaussian analytical models in the solution\n"
     ]
    }
   ],
   "source": [
    "print(b.get_parameter('expose_model').description)"
   ]
  },
  {
   "cell_type": "code",
   "execution_count": 8,
   "metadata": {},
   "outputs": [
    {
     "name": "stdout",
     "output_type": "stream",
     "text": [
      "Light curve dataset(s) to use to extract eclipse geometry\n"
     ]
    }
   ],
   "source": [
    "print(b.get_parameter('lc_datasets').description)"
   ]
  },
  {
   "cell_type": "code",
   "execution_count": 9,
   "metadata": {},
   "outputs": [
    {
     "name": "stdout",
     "output_type": "stream",
     "text": [
      "['lc01']\n"
     ]
    }
   ],
   "source": [
    "print(b.get_parameter('lc_datasets').choices)"
   ]
  },
  {
   "cell_type": "markdown",
   "metadata": {},
   "source": [
    "run_solver\n",
    "---------------"
   ]
  },
  {
   "cell_type": "markdown",
   "metadata": {},
   "source": [
    "[b.run_solver](../api/phoebe.frontend.bundle.Bundle.run_solver.md) (or [b.export_solver](../api/phoebe.frontend.bundle.Bundle.export_solver.md) and [b.import_solution](../api/phoebe.frontend.bundle.Bundle.import_solution.md)) allows optionally setting a `solution` tag (if not provided, one will be created automatically), just as [b.run_compute](../api/phoebe.frontend.bundle.Bundle.run_compute.md) allows setting a `model` tag.  "
   ]
  },
  {
   "cell_type": "code",
   "execution_count": 10,
   "metadata": {},
   "outputs": [
    {
     "name": "stderr",
     "output_type": "stream",
     "text": [
      "/home/kyle/.local/lib/python3.8/site-packages/phoebe/parameters/parameters.py:10124: VisibleDeprecationWarning: Creating an ndarray from ragged nested sequences (which is a list-or-tuple of lists-or-tuples-or ndarrays with different lengths or shapes) is deprecated. If you meant to do this, you must specify 'dtype=object' when creating the ndarray.\n",
      "  self._value = np.array(value)\n"
     ]
    },
    {
     "data": {
      "text/plain": [
       "<ParameterSet: 22 parameters | qualifiers: analytic_fluxes, adopt_parameters, fitted_values, primary_phase, secondary_phase, fitted_twigs, primary_depth, analytic_phases, secondary_depth, input_fluxes, input_phases, adopt_values, eclipse_edges, input_sigmas, fitted_uniqueids, analytic_best_model, secondary_width, orbit, adopt_distributions, fitted_units, comments, primary_width>"
      ]
     },
     "execution_count": 10,
     "metadata": {},
     "output_type": "execute_result"
    }
   ],
   "source": [
    "b.run_solver(solver='my_lcgeom_solver', solution='my_lcgeom_solution')"
   ]
  },
  {
   "cell_type": "markdown",
   "metadata": {},
   "source": [
    "In many cases, the `solution` itself is plottable - showing some sort of diagnostic figures.  In some cases, such as [sampler.emcee](../api/phoebe.parameters.solver.sampler.emcee.md) or [sampler.dynesty](../api/phoebe.parameters.solver.sampler.dynesty.md), there are several different diagnostic figures available which can be chosen by passing the available options to `style`."
   ]
  },
  {
   "cell_type": "code",
   "execution_count": 11,
   "metadata": {},
   "outputs": [
    {
     "name": "stderr",
     "output_type": "stream",
     "text": [
      "/home/kyle/.local/lib/python3.8/site-packages/phoebe/dependencies/autofig/call.py:1097: VisibleDeprecationWarning: Creating an ndarray from ragged nested sequences (which is a list-or-tuple of lists-or-tuples-or ndarrays with different lengths or shapes) is deprecated. If you meant to do this, you must specify 'dtype=object' when creating the ndarray.\n",
      "  data = np.array([x, y])\n",
      "/home/kyle/.local/lib/python3.8/site-packages/phoebe/dependencies/autofig/call.py:1098: VisibleDeprecationWarning: Creating an ndarray from ragged nested sequences (which is a list-or-tuple of lists-or-tuples-or ndarrays with different lengths or shapes) is deprecated. If you meant to do this, you must specify 'dtype=object' when creating the ndarray.\n",
      "  points = np.array([x, y]).T.reshape(-1, 1, 2)\n"
     ]
    },
    {
     "data": {
      "image/png": "[encoded data removed]",
      "text/plain": [
       "<Figure size 576x432 with 1 Axes>"
      ]
     },
     "metadata": {
      "needs_background": "light"
     },
     "output_type": "display_data"
    }
   ],
   "source": [
    "_ = b.plot(solution='my_lcgeom_solution', show=True)"
   ]
  },
  {
   "cell_type": "markdown",
   "metadata": {},
   "source": [
    "The proposed values can be viewed via [b.adopt_solution](../api/phoebe.frontend.bundle.Bundle.adopt_solution.md).\n",
    "\n",
    "By passing `trial_run=True` the proposed changed parameters will be shown, but not changed in the bundle itself."
   ]
  },
  {
   "cell_type": "code",
   "execution_count": 12,
   "metadata": {},
   "outputs": [
    {
     "name": "stderr",
     "output_type": "stream",
     "text": [
      "Fri, 02 Jul 2021 20:32 BUNDLE       WARNING solution='my_lcgeom_solution' is not included in run_checks_solution@setting, so will not raise interactive warnings\n"
     ]
    },
    {
     "name": "stdout",
     "output_type": "stream",
     "text": [
      "ParameterSet: 3 parameters\n",
      "   t0_supconj@binary@orbit@com...: 0.9998420306538168 d\n",
      "       ecc@binary@orbit@component: 0.0028043864401915484\n",
      "      per0@binary@orbit@component: 89.27630064942747 deg\n"
     ]
    }
   ],
   "source": [
    "print(b.adopt_solution(trial_run=True))"
   ]
  },
  {
   "cell_type": "markdown",
   "metadata": {},
   "source": [
    "Otherwise, the changes will be made and all changed parameters (including those changed via [constraints](constraints.ipynb)) will be returned."
   ]
  },
  {
   "cell_type": "code",
   "execution_count": 13,
   "metadata": {},
   "outputs": [
    {
     "name": "stderr",
     "output_type": "stream",
     "text": [
      "Fri, 02 Jul 2021 20:32 BUNDLE       WARNING solution='my_lcgeom_solution' is not included in run_checks_solution@setting, so will not raise interactive warnings\n",
      "Fri, 02 Jul 2021 20:32 PARAMETERS   WARNING wrapping value of mean_anom to 0.7765354405323137 deg\n"
     ]
    },
    {
     "name": "stdout",
     "output_type": "stream",
     "text": [
      "ParameterSet: 11 parameters\n",
      "      t0_supconj@binary@component: 0.9998420306538168 d\n",
      "             ecc@binary@component: 0.0028043864401915484\n",
      "            per0@binary@component: 89.27630064942747 deg\n",
      "C     t0_perpass@binary@component: 0.9978430058933286 d\n",
      "C         t0_ref@binary@component: 0.9998532818671413 d\n",
      "C     compute_phases@lc01@dataset: []\n",
      "C          ecosw@binary@component: 3.542108507358831e-05\n",
      "C          esinw@binary@component: 0.002804162736479899\n",
      "C    requiv_max@primary@component: 2.008642720833111 solRad\n",
      "C  requiv_max@secondary@component: 2.008642720833111 solRad\n",
      "C      mean_anom@binary@component: 0.7765354405323137 deg\n"
     ]
    }
   ],
   "source": [
    "print(b.adopt_solution())"
   ]
  },
  {
   "cell_type": "markdown",
   "metadata": {},
   "source": [
    "The Merit Function\n",
    "-----------------\n",
    "\n",
    "Both [optimizers](../api/phoebe.parameters.solver.optimizer.md) and [samplers](../api/phoebe.parameters.solver.sampler.md) require running a forward model and use a merit function to compare the synthetic model to the observational data.  This merit function is described in detail in the 2.3 release paper ([Conroy+ 2020](http://phoebe-project.org/publications/2020Conroy+)).\n",
    "\n",
    "Several bundle methods allow for accessing the values used in the merit function:\n",
    "\n",
    "* [b.calculate_residuals](../api/phoebe.parameters.ParameterSet.calculate_residuals.md)\n",
    "* [b.calculate_chi2](../api/phoebe.parameters.ParameterSet.calculate_chi2.md)\n",
    "* [b.calculate_lnlikelihood](../api/phoebe.parameters.ParameterSet.calculate_lnlikelihood.md)\n",
    "* [b.calculate_lnp](../api/phoebe.frontend.bundle.Bundle.calculate_lnp.md)\n",
    "\n",
    "The log-probability used as the merit function within optimizers and samplers is defined as [calculate_lnp](../api/phoebe.frontend.bundle.Bundle.calculate_lnp.md)`(priors, combine=priors_combine)` + [calculate_lnlikelihood](../api/phoebe.parameters.ParameterSet.calculate_lnlikelihood).\n",
    "\n",
    "To see the affect of `priors_combine`, we can pass the `solver` tag directly to [b.get_distribution_collection](../api/phoebe.frontend.bundle.Bundle.get_distribution_collection.md), [b.plot_distribution_collection](../api/phoebe.frontend.bundle.Bundle.plot_distribution_collection.md), or [b.calculate_lnp](../api/phoebe.frontend.bundle.Bundle.calculate_lnp.md)."
   ]
  },
  {
   "cell_type": "code",
   "execution_count": 14,
   "metadata": {},
   "outputs": [
    {
     "data": {
      "text/plain": [
       "<ParameterSet: 1 parameters>"
      ]
     },
     "execution_count": 14,
     "metadata": {},
     "output_type": "execute_result"
    }
   ],
   "source": [
    "b.add_distribution('teff@primary', phoebe.gaussian(6000,100), distribution='mydist01')\n",
    "b.add_distribution('teff@secondary', phoebe.gaussian(5500,600), distribution='mydist01')\n",
    "\n",
    "b.add_distribution('teff@primary', phoebe.uniform(5800,6200), distribution='mydist02')"
   ]
  },
  {
   "cell_type": "code",
   "execution_count": 15,
   "metadata": {},
   "outputs": [
    {
     "name": "stderr",
     "output_type": "stream",
     "text": [
      "Fri, 02 Jul 2021 20:32 BUNDLE       WARNING no valid distributions in init_from  If not addressed, this warning will continue to be raised and will throw an error at run_solver.\n"
     ]
    },
    {
     "data": {
      "text/plain": [
       "<ParameterSet: 13 parameters | qualifiers: priors, burnin_factor, priors_combine, progress_every_niters, init_from, nwalkers, init_from_combine, thin_factor, expose_failed, niters, compute, comments, continue_from>"
      ]
     },
     "execution_count": 15,
     "metadata": {},
     "output_type": "execute_result"
    }
   ],
   "source": [
    "b.add_solver('sampler.emcee', priors=['mydist01', 'mydist02'], solver='myemceesolver')"
   ]
  },
  {
   "cell_type": "code",
   "execution_count": 16,
   "metadata": {},
   "outputs": [
    {
     "name": "stdout",
     "output_type": "stream",
     "text": [
      "ParameterSet: 2 parameters\n",
      "      priors@myemceesolver@solver: ['mydist01', 'mydist02']\n",
      "   priors_combine@myemceesolve...: and\n"
     ]
    }
   ],
   "source": [
    "print(b.filter(qualifier='prior*'))"
   ]
  },
  {
   "cell_type": "markdown",
   "metadata": {},
   "source": [
    "Now we'll look at the affect of `priors_combine` on the resulting priors distributions that would be sent to the merit function."
   ]
  },
  {
   "cell_type": "code",
   "execution_count": 17,
   "metadata": {},
   "outputs": [
    {
     "name": "stdout",
     "output_type": "stream",
     "text": [
      "Method to use to combine multiple distributions from priors for the same parameter.  first: ignore duplicate entries and take the first in the priors parameter. and: combine duplicate entries via AND logic, dropping covariances.  or: combine duplicate entries via OR logic, dropping covariances.\n"
     ]
    }
   ],
   "source": [
    "print(b.get_parameter('priors_combine').description)"
   ]
  },
  {
   "cell_type": "code",
   "execution_count": 18,
   "metadata": {},
   "outputs": [
    {
     "data": {
      "image/png": "[encoded data removed]",
      "text/plain": [
       "<Figure size 396x396 with 4 Axes>"
      ]
     },
     "metadata": {
      "needs_background": "light"
     },
     "output_type": "display_data"
    }
   ],
   "source": [
    "_ = b.plot_distribution_collection('priors@myemceesolver', show=True)"
   ]
  },
  {
   "cell_type": "code",
   "execution_count": 19,
   "metadata": {},
   "outputs": [
    {
     "name": "stderr",
     "output_type": "stream",
     "text": [
      "Fri, 02 Jul 2021 20:32 BUNDLE       ERROR   calculate_pdf(priors@myemceesolver, **{'keys': 'uniqueid', 'include_constrained': True}) failed with as_univariates=False, falling back on as_univariates=True (covariances will be dropped in any multivariate distributions).  Original error: values must be same length as self.distributions_unpacked (length=3).  To use self.distributions instead, pass as_univariates=True\n"
     ]
    },
    {
     "data": {
      "text/plain": [
       "-13.140649347269667"
      ]
     },
     "execution_count": 19,
     "metadata": {},
     "output_type": "execute_result"
    }
   ],
   "source": [
    "b.calculate_lnp('priors@myemceesolver')"
   ]
  },
  {
   "cell_type": "code",
   "execution_count": 20,
   "metadata": {},
   "outputs": [
    {
     "name": "stderr",
     "output_type": "stream",
     "text": [
      "Fri, 02 Jul 2021 20:32 BUNDLE       WARNING no valid distributions in init_from  If not addressed, this warning will continue to be raised and will throw an error at run_solver.\n"
     ]
    }
   ],
   "source": [
    "b.set_value('priors_combine', 'first')"
   ]
  },
  {
   "cell_type": "code",
   "execution_count": 21,
   "metadata": {},
   "outputs": [
    {
     "name": "stderr",
     "output_type": "stream",
     "text": [
      "Fri, 02 Jul 2021 20:32 BUNDLE       WARNING ignoring distribution on teff@primary@star@component with distribution='mydist02' as distribution existed on an earlier distribution which takes precedence.\n"
     ]
    },
    {
     "data": {
      "image/png": "[encoded data removed]",
      "text/plain": [
       "<Figure size 396x396 with 4 Axes>"
      ]
     },
     "metadata": {
      "needs_background": "light"
     },
     "output_type": "display_data"
    }
   ],
   "source": [
    "_ = b.plot_distribution_collection('priors@myemceesolver', show=True)"
   ]
  },
  {
   "cell_type": "code",
   "execution_count": 22,
   "metadata": {},
   "outputs": [
    {
     "name": "stderr",
     "output_type": "stream",
     "text": [
      "Fri, 02 Jul 2021 20:32 BUNDLE       WARNING ignoring distribution on teff@primary@star@component with distribution='mydist02' as distribution existed on an earlier distribution which takes precedence.\n"
     ]
    },
    {
     "data": {
      "text/plain": [
       "-13.187199129835806"
      ]
     },
     "execution_count": 22,
     "metadata": {},
     "output_type": "execute_result"
    }
   ],
   "source": [
    "b.calculate_lnp('priors@myemceesolver')"
   ]
  },
  {
   "cell_type": "markdown",
   "metadata": {},
   "source": [
    "As with the example above, to run an `emcee` run, just set all the desired options in the `solver` parameters, and then call [b.run_solver](../api/phoebe.frontend.bundle.Bundle.run_solver.md).  This will then expose the resulting chains in the solution, which are available for plotting and adopting.  See the  [solver example scripts](../examples.md) or the individual [API docs for solvers](../api/phoebe.parameters.solver.md) for more details on each available algorithm."
   ]
  },
  {
   "cell_type": "markdown",
   "metadata": {},
   "source": [
    "Next\n",
    "----------\n",
    "\n",
    "Solver jobs can be quite computationally expensive, and so you may wish to set up the job locally and then [submit it on external compute resources](./server.ipynb).\n",
    "\n",
    "\n",
    "Or look at any of these advanced topics related to running solvers:\n",
    "* [Advanced: Solver Times](./solver_times.ipynb)\n",
    "* [Advanced: LC Estimators](./LC_estimators.ipynb)\n",
    "* [Advanced: RV Estimators](./RV_estimators.ipynb)\n",
    "* [Advanced: Nelder-Mead Optimizer](./nelder_mead.ipynb)\n",
    "* [Advanced: Emcee Sampler](./emcee.ipynb)\n",
    "* [Advanced: Running Solvers on an External Machine](./export_solver.ipynb)\n",
    "* [Advanced: Fitting Limb Darkening Coefficients](./fitting_ld_coeffs.ipynb)"
   ]
  }
 ],
 "metadata": {
  "kernelspec": {
   "display_name": "Python 3",
   "language": "python",
   "name": "python3"
  },
  "language_info": {
   "codemirror_mode": {
    "name": "ipython",
    "version": 3
   },
   "file_extension": ".py",
   "mimetype": "text/x-python",
   "name": "python",
   "nbconvert_exporter": "python",
   "pygments_lexer": "ipython3",
   "version": "3.8.5"
  }
 },
 "nbformat": 4,
 "nbformat_minor": 1
}
