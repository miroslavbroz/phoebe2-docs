{
 "cells": [
  {
   "cell_type": "markdown",
   "metadata": {},
   "source": [
    "\"Third\" Light\n",
    "============================\n",
    "\n",
    "Setup\n",
    "-----------------------------"
   ]
  },
  {
   "cell_type": "markdown",
   "metadata": {},
   "source": [
    "Let's first make sure we have the latest version of PHOEBE 2.2 installed. (You can comment out this line if you don't use pip for your installation or don't want to update to the latest release)."
   ]
  },
  {
   "cell_type": "code",
   "execution_count": null,
   "metadata": {},
   "outputs": [],
   "source": [
    "!pip install -I \"phoebe>=2.2,<2.3\""
   ]
  },
  {
   "cell_type": "markdown",
   "metadata": {
    "collapsed": true
   },
   "source": [
    "As always, let's do imports and initialize a logger and a new bundle.  See [Building a System](building_a_system.ipynb) for more details."
   ]
  },
  {
   "cell_type": "code",
   "execution_count": 1,
   "metadata": {},
   "outputs": [],
   "source": [
    "%matplotlib inline"
   ]
  },
  {
   "cell_type": "code",
   "execution_count": 2,
   "metadata": {},
   "outputs": [],
   "source": [
    "import phoebe\n",
    "from phoebe import u # units\n",
    "import numpy as np\n",
    "import matplotlib.pyplot as plt\n",
    "\n",
    "logger = phoebe.logger()\n",
    "\n",
    "b = phoebe.default_binary()"
   ]
  },
  {
   "cell_type": "markdown",
   "metadata": {
    "collapsed": true
   },
   "source": [
    "Relevant Parameters\n",
    "-----------------------\n",
    "\n",
    "**NEW in PHOEBE 2.2**: an `l3_mode` parameter exists for each LC dataset, which determines whether third light will be provided in flux units, or as a fraction of the total flux.\n",
    "\n",
    "Since this is passband dependent and only used for flux measurments - it does not yet exist for a new empty Bundle."
   ]
  },
  {
   "cell_type": "code",
   "execution_count": 3,
   "metadata": {},
   "outputs": [
    {
     "data": {
      "text/plain": [
       "<ParameterSet: EMPTY>"
      ]
     },
     "execution_count": 3,
     "metadata": {},
     "output_type": "execute_result"
    }
   ],
   "source": [
    "b.filter(qualifier='l3_mode')"
   ]
  },
  {
   "cell_type": "markdown",
   "metadata": {},
   "source": [
    "So let's add a LC dataset"
   ]
  },
  {
   "cell_type": "code",
   "execution_count": 4,
   "metadata": {},
   "outputs": [
    {
     "data": {
      "text/plain": [
       "<ParameterSet: 19 parameters | contexts: dataset, compute, constraint>"
      ]
     },
     "execution_count": 4,
     "metadata": {},
     "output_type": "execute_result"
    }
   ],
   "source": [
    "b.add_dataset('lc', times=np.linspace(0,1,101), dataset='lc01')"
   ]
  },
  {
   "cell_type": "markdown",
   "metadata": {},
   "source": [
    "We now see that the LC dataset created an 'l3_mode' parameter, and since l3_mode is set to 'flux' the 'l3' parameter is also visible."
   ]
  },
  {
   "cell_type": "code",
   "execution_count": 5,
   "metadata": {},
   "outputs": [
    {
     "name": "stdout",
     "output_type": "stream",
     "text": [
      "ParameterSet: 2 parameters\n",
      "            l3_mode@lc01@dataset: flux\n",
      "                 l3@lc01@dataset: 0.0 W / m2\n"
     ]
    }
   ],
   "source": [
    "print(b.filter(qualifier='l3*'))"
   ]
  },
  {
   "cell_type": "markdown",
   "metadata": {},
   "source": [
    "## l3_mode = 'flux'\n",
    "\n",
    "When `l3_mode` is set to 'flux', the `l3` parameter defines (in flux units) how much extraneous light is added to the light curve in that particular passband/dataset."
   ]
  },
  {
   "cell_type": "code",
   "execution_count": 6,
   "metadata": {},
   "outputs": [
    {
     "name": "stdout",
     "output_type": "stream",
     "text": [
      "ParameterSet: 2 parameters\n",
      "            l3_mode@lc01@dataset: flux\n",
      "                 l3@lc01@dataset: 0.0 W / m2\n"
     ]
    }
   ],
   "source": [
    "print(b.filter(qualifier='l3*'))"
   ]
  },
  {
   "cell_type": "code",
   "execution_count": 7,
   "metadata": {},
   "outputs": [
    {
     "name": "stdout",
     "output_type": "stream",
     "text": [
      "Parameter: l3@lc01@dataset\n",
      "                       Qualifier: l3\n",
      "                     Description: Third light in flux units\n",
      "                           Value: 0.0 W / m2\n",
      "                  Constrained by: \n",
      "                      Constrains: None\n",
      "                      Related to: None\n",
      "                 Only visible if: l3_mode:flux\n",
      "\n"
     ]
    }
   ],
   "source": [
    "print(b.get_parameter('l3'))"
   ]
  },
  {
   "cell_type": "markdown",
   "metadata": {},
   "source": [
    "To compute the fractional third light from the provided value in flux units, call [b.compute_l3s](../api/phoebe.frontend.bundle.Bundle.compute_l3s).  This assumes that the flux of the system is the sum of the extrinsic passband luminosities (see the [pblum tutorial](./pblum.ipynb) for more details on intrinsic vs extrinsic passband luminosities) divided by $4\\pi$ at t0@system, and according to the compute options.\n",
    "\n",
    "Note that calling `compute_l3s` is not necessary, as the backend will handle the conversion automatically."
   ]
  },
  {
   "cell_type": "code",
   "execution_count": 8,
   "metadata": {},
   "outputs": [
    {
     "name": "stdout",
     "output_type": "stream",
     "text": [
      "{'l3_frac@lc01': 0.0}\n"
     ]
    }
   ],
   "source": [
    "print(b.compute_l3s())"
   ]
  },
  {
   "cell_type": "markdown",
   "metadata": {},
   "source": [
    "## l3_mode = 'fraction'\n",
    "\n",
    "When `l3_mode` is set to 'fraction', the `l3` parameter is now replaced by an `l3_frac` parameter."
   ]
  },
  {
   "cell_type": "code",
   "execution_count": 9,
   "metadata": {},
   "outputs": [],
   "source": [
    "b.set_value('l3_mode', 'fraction')"
   ]
  },
  {
   "cell_type": "code",
   "execution_count": 10,
   "metadata": {},
   "outputs": [
    {
     "name": "stdout",
     "output_type": "stream",
     "text": [
      "ParameterSet: 2 parameters\n",
      "            l3_mode@lc01@dataset: fraction\n",
      "            l3_frac@lc01@dataset: 0.0\n"
     ]
    }
   ],
   "source": [
    "print(b.filter(qualifier='l3*'))"
   ]
  },
  {
   "cell_type": "code",
   "execution_count": 11,
   "metadata": {},
   "outputs": [
    {
     "name": "stdout",
     "output_type": "stream",
     "text": [
      "Parameter: l3_frac@lc01@dataset\n",
      "                       Qualifier: l3_frac\n",
      "                     Description: Third light as a fraction of total light\n",
      "                           Value: 0.0\n",
      "                  Constrained by: \n",
      "                      Constrains: None\n",
      "                      Related to: None\n",
      "                 Only visible if: l3_mode:fraction\n",
      "\n"
     ]
    }
   ],
   "source": [
    "print(b.get_parameter('l3_frac'))"
   ]
  },
  {
   "cell_type": "markdown",
   "metadata": {},
   "source": [
    "Similarly to above, we can convert to actual flux units (under the same assumptions), by calling [b.compute_l3s](../api/phoebe.frontend.bundle.Bundle.compute_l3s.md).\n",
    "\n",
    "\n",
    "Note that calling `compute_l3s` is not necessary, as the backend will handle the conversion automatically."
   ]
  },
  {
   "cell_type": "code",
   "execution_count": 12,
   "metadata": {},
   "outputs": [
    {
     "name": "stdout",
     "output_type": "stream",
     "text": [
      "{'l3@lc01': <Quantity 0. W / m2>}\n"
     ]
    }
   ],
   "source": [
    "print(b.compute_l3s())"
   ]
  },
  {
   "cell_type": "markdown",
   "metadata": {},
   "source": [
    "Influence on Light Curves (Fluxes)\n",
    "-----------------------------------------\n",
    "\n",
    "\"Third\" light is simply additional flux added to the light curve from some external source - whether it be crowding from a background object, light from the sky, or an extra component in the system that is unaccounted for in the system hierarchy.\n",
    "\n",
    "To see this we'll compare a light curve with and without \"third\" light."
   ]
  },
  {
   "cell_type": "code",
   "execution_count": 13,
   "metadata": {},
   "outputs": [
    {
     "data": {
      "text/plain": [
       "<ParameterSet: 2 parameters | qualifiers: fluxes, times>"
      ]
     },
     "execution_count": 13,
     "metadata": {},
     "output_type": "execute_result"
    }
   ],
   "source": [
    "b.run_compute(irrad_method='none', model='no_third_light')"
   ]
  },
  {
   "cell_type": "code",
   "execution_count": 14,
   "metadata": {},
   "outputs": [],
   "source": [
    "b.set_value('l3_mode', 'flux')\n",
    "b.set_value('l3', 5)"
   ]
  },
  {
   "cell_type": "code",
   "execution_count": 15,
   "metadata": {},
   "outputs": [
    {
     "data": {
      "text/plain": [
       "<ParameterSet: 2 parameters | qualifiers: fluxes, times>"
      ]
     },
     "execution_count": 15,
     "metadata": {},
     "output_type": "execute_result"
    }
   ],
   "source": [
    "b.run_compute(irrad_method='none', model='with_third_light')"
   ]
  },
  {
   "cell_type": "markdown",
   "metadata": {},
   "source": [
    "As expected, adding 5 W/m^3 of third light simply shifts the light curve up by that exact same amount."
   ]
  },
  {
   "cell_type": "code",
   "execution_count": 16,
   "metadata": {},
   "outputs": [
    {
     "data": {
      "image/png": "[encoded data removed]",
      "text/plain": [
       "<matplotlib.figure.Figure at 0x7f563a053990>"
      ]
     },
     "metadata": {},
     "output_type": "display_data"
    }
   ],
   "source": [
    "afig, mplfig = b['lc01'].plot(model='no_third_light')\n",
    "afig, mplfig = b['lc01'].plot(model='with_third_light', legend=True, show=True)"
   ]
  },
  {
   "cell_type": "markdown",
   "metadata": {},
   "source": [
    "Influence on Meshes (Intensities)\n",
    "-----------------------------------------\n",
    "\n",
    "\"Third\" light does not affect the intensities stored in the mesh (including those in relative units).  In other words, like [distance](distance), \"third\" light only scales the fluxes.\n",
    "\n",
    "NOTE: this is different than pblums which **DO** affect the relative intensities.  Again, see the [pblum tutorial](pblum) for more details.\n",
    "\n",
    "To see this we can run both of our models again and look at the values of the intensities in the mesh."
   ]
  },
  {
   "cell_type": "code",
   "execution_count": 17,
   "metadata": {},
   "outputs": [
    {
     "name": "stderr",
     "output_type": "stream",
     "text": [
      "Tue, 25 Jun 2019 11:38 BUNDLE       WARNING mesh dataset uses 'compute_times' instead of 'times', applying value sent as 'times' to 'compute_times'.\n"
     ]
    },
    {
     "data": {
      "text/plain": [
       "<ParameterSet: 7 parameters | contexts: dataset, compute, constraint>"
      ]
     },
     "execution_count": 17,
     "metadata": {},
     "output_type": "execute_result"
    }
   ],
   "source": [
    "b.add_dataset('mesh', times=[0], dataset='mesh01', columns=['intensities@lc01', 'abs_intensities@lc01'])"
   ]
  },
  {
   "cell_type": "code",
   "execution_count": 18,
   "metadata": {},
   "outputs": [],
   "source": [
    "b.set_value('l3', 0.0)"
   ]
  },
  {
   "cell_type": "code",
   "execution_count": 19,
   "metadata": {},
   "outputs": [
    {
     "name": "stderr",
     "output_type": "stream",
     "text": [
      "Tue, 25 Jun 2019 11:38 BUNDLE       WARNING overwriting model: no_third_light\n"
     ]
    },
    {
     "data": {
      "text/plain": [
       "<ParameterSet: 16 parameters | kinds: mesh, lc>"
      ]
     },
     "execution_count": 19,
     "metadata": {},
     "output_type": "execute_result"
    }
   ],
   "source": [
    "b.run_compute(irrad_method='none', model='no_third_light', overwrite=True)"
   ]
  },
  {
   "cell_type": "code",
   "execution_count": 20,
   "metadata": {},
   "outputs": [],
   "source": [
    "b.set_value('l3', 5)"
   ]
  },
  {
   "cell_type": "code",
   "execution_count": 21,
   "metadata": {},
   "outputs": [
    {
     "name": "stderr",
     "output_type": "stream",
     "text": [
      "Tue, 25 Jun 2019 11:38 BUNDLE       WARNING overwriting model: with_third_light\n"
     ]
    },
    {
     "data": {
      "text/plain": [
       "<ParameterSet: 16 parameters | kinds: mesh, lc>"
      ]
     },
     "execution_count": 21,
     "metadata": {},
     "output_type": "execute_result"
    }
   ],
   "source": [
    "b.run_compute(irrad_method='none', model='with_third_light', overwrite=True)"
   ]
  },
  {
   "cell_type": "code",
   "execution_count": 22,
   "metadata": {},
   "outputs": [
    {
     "name": "stdout",
     "output_type": "stream",
     "text": [
      "no_third_light abs_intensities:  27864675903844.145\n",
      "with_third_light abs_intensities:  27864675903844.145\n"
     ]
    }
   ],
   "source": [
    "print \"no_third_light abs_intensities: \", np.nanmean(b.get_value(qualifier='abs_intensities', component='primary', dataset='lc01', model='no_third_light'))\n",
    "print \"with_third_light abs_intensities: \", np.nanmean(b.get_value(qualifier='abs_intensities', component='primary', dataset='lc01', model='with_third_light'))"
   ]
  },
  {
   "cell_type": "code",
   "execution_count": 23,
   "metadata": {},
   "outputs": [
    {
     "name": "stdout",
     "output_type": "stream",
     "text": [
      "no_third_light intensities:  6.331527425555268e-12\n",
      "with_third_light intensities:  6.331527425555268e-12\n"
     ]
    }
   ],
   "source": [
    "print \"no_third_light intensities: \", np.nanmean(b.get_value(qualifier='intensities', component='primary', dataset='lc01', model='no_third_light'))\n",
    "print \"with_third_light intensities: \", np.nanmean(b.get_value(qualifier='intensities', component='primary', dataset='lc01', model='with_third_light'))"
   ]
  },
  {
   "cell_type": "code",
   "execution_count": null,
   "metadata": {},
   "outputs": [],
   "source": []
  }
 ],
 "metadata": {
  "kernelspec": {
   "display_name": "Python 2",
   "language": "python",
   "name": "python2"
  },
  "language_info": {
   "codemirror_mode": {
    "name": "ipython",
    "version": 2
   },
   "file_extension": ".py",
   "mimetype": "text/x-python",
   "name": "python",
   "nbconvert_exporter": "python",
   "pygments_lexer": "ipython2",
   "version": "2.7.15+"
  }
 },
 "nbformat": 4,
 "nbformat_minor": 1
}
