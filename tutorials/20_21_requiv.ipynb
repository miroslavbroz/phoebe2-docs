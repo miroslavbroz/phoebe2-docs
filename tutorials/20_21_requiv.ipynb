{
 "cells": [
  {
   "cell_type": "markdown",
   "metadata": {},
   "source": [
    "[IPython Notebook](20_21_requiv.ipynb) |  [Python Script](20_21_requiv.py)"
   ]
  },
  {
   "cell_type": "markdown",
   "metadata": {},
   "source": [
    "2.0 - 2.1 Migration: requiv\n",
    "============================"
   ]
  },
  {
   "cell_type": "code",
   "execution_count": 1,
   "metadata": {},
   "outputs": [],
   "source": [
    "import phoebe"
   ]
  },
  {
   "cell_type": "markdown",
   "metadata": {
    "collapsed": true
   },
   "source": [
    "PHOEBE 2.0.x defined the size of a star according to its polar radius, `rpole`.  Additionally, there was a constraint between `rpole` and the equipotential, `pot`, which could be flipped by the user.  When using different values for `distortion_method` (roche, rotstar, sphere, etc), the polar radius was conserved.\n",
    "\n",
    "However, with the introduction of misalignment in PHOEBE 2.1, this way of parameterizing the stars became insufficient.  Starting in PHOEBE 2.1, the sizes of stars are now parameterized according to their *equivalent* radius, `requiv`.  When using different values for `distortion_method`, it is the value of `requiv` that is now conserved, perhaps meaning a different polar radius.\n",
    "\n",
    "For contact binary systems, there is an `requiv` Parameter for each star (or each \"half\" of the contact system), as well as a constrained Parameter for the potential (`pot`) and fillout-factor (`fillout_factor`) for the envelope as a whole.  As contact binary systems must be aligned, circular, and synchronous, and only support `distortion_method='roche'`, this mapping is still possible and provides significant conveniences.  By default, the `requiv` of the primary star is adjustable by the user, but the constraints can be flipped so any *one* of these four Parameters can be set, with the rest constrained (read-only)."
   ]
  },
  {
   "cell_type": "code",
   "execution_count": null,
   "metadata": {},
   "outputs": [],
   "source": []
  }
 ],
 "metadata": {
  "kernelspec": {
   "display_name": "Python 2",
   "language": "python",
   "name": "python2"
  },
  "language_info": {
   "codemirror_mode": {
    "name": "ipython",
    "version": 2
   },
   "file_extension": ".py",
   "mimetype": "text/x-python",
   "name": "python",
   "nbconvert_exporter": "python",
   "pygments_lexer": "ipython2",
   "version": "2.7.15rc1"
  }
 },
 "nbformat": 4,
 "nbformat_minor": 1
}
