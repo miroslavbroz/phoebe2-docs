{
 "cells": [
  {
   "cell_type": "markdown",
   "metadata": {},
   "source": [
    "[IPython Notebook](20_21_meshes.ipynb) |  [Python Script](20_21_meshes.py)"
   ]
  },
  {
   "cell_type": "markdown",
   "metadata": {},
   "source": [
    "2.0 - 2.1 Migration: Meshes\n",
    "============================"
   ]
  },
  {
   "cell_type": "code",
   "execution_count": 1,
   "metadata": {},
   "outputs": [],
   "source": [
    "import phoebe"
   ]
  },
  {
   "cell_type": "markdown",
   "metadata": {
    "collapsed": true
   },
   "source": [
    "PHOEBE 2.0 had a mesh dataset along with `pbmesh` and `protomesh` options you could send to `b.run_compute`.  These options were quite convenient, but had a few inherit problems:\n",
    "\n",
    "* The protomesh was exposed at only t0 and was in roche coordinates, despite using the same 'x', 'y', 'z' qualifiers.\n",
    "* Passband-dependent Parameters were exposed for the mesh if `pbmesh=True`, but only if the times matched exactly with the passband (lc, rv, etc) dataset.\n",
    "* Storing more than a few meshes become very memory intensive due to their large size and the large number of columns.\n",
    "\n",
    "Addressing these shortcomings required a complete redesign of the mesh dataset.  The most important changes are the following:\n",
    "\n",
    "* `pbmesh` and `protomesh` are no longer valid options.  Everything is done through the mesh dataset itself.\n",
    "* The `columns` Parameter in the mesh dataset lists the extra columns that will be exposed in the model mesh when calling `run_compute`.  By default only the elements (in both roche and plane-of-sky) are returned (and these columns cannot be disabled).  See the section on columns below for more details.\n",
    "* Included in the `columns` Parameter, you can choose whether to expose coordinates in the Roche system (xyz) or the plane-of-sky system (uvw).  When plotting, the defaults remain plane-of-sky, but will now see plotting in uvw, whereas in PHOEBE 2.0.x these were still called xyz.  Note that this also applies to velocities (vxs, vys, vzs vs vus, vvs, vws).\n",
    "* The `include_times` Parameter allows for importing times (at `run_compute` time) from other datasets or various t0s.  In this way, you can include a mesh for all times in your light curve without worrying about the arrays getting out-of-sync.\n",
    "* By default, as with all datasets now, the `times` Parameter is empty.  If you do not set `times` or `include_times` before calling `run_compute`, your model will be empty."
   ]
  },
  {
   "cell_type": "markdown",
   "metadata": {},
   "source": [
    "### columns\n",
    "\n",
    "The `columns` Parameter is a SelectParameter (a new type of Parameter introduced in PHOEBE 2.1), meaning its value is a list of strings, each of which must be a valid entry.  You can find the list of entries by calling `param.get_choices()` (same as you would for a ChoiceParameter).  Additionally, the value accepts wildcards, so long as at least one match is made with the choices.  This allows you to easily select `rvs` from all datasets, for example.\n",
    "\n",
    "As an example let's add a few datasets and look at the available choices for the `columns` Parameter."
   ]
  },
  {
   "cell_type": "code",
   "execution_count": 2,
   "metadata": {},
   "outputs": [
    {
     "name": "stdout",
     "output_type": "stream",
     "text": [
      "['pot', 'rpole', 'volume', 'xs', 'ys', 'zs', 'vxs', 'vys', 'vzs', 'nxs', 'nys', 'nzs', 'us', 'vs', 'ws', 'vus', 'vvs', 'vws', 'nus', 'nvs', 'nws', 'areas', 'loggs', 'teffs', 'rprojs', 'mus', 'visibilities', 'visible_centroids', 'rs']\n"
     ]
    }
   ],
   "source": [
    "b = phoebe.default_binary()\n",
    "b.add_dataset('mesh')\n",
    "print b.get_parameter('columns').get_choices()"
   ]
  },
  {
   "cell_type": "code",
   "execution_count": 3,
   "metadata": {},
   "outputs": [
    {
     "name": "stdout",
     "output_type": "stream",
     "text": [
      "['pot', 'rpole', 'volume', 'xs', 'ys', 'zs', 'vxs', 'vys', 'vzs', 'nxs', 'nys', 'nzs', 'us', 'vs', 'ws', 'vus', 'vvs', 'vws', 'nus', 'nvs', 'nws', 'areas', 'loggs', 'teffs', 'rprojs', 'mus', 'visibilities', 'visible_centroids', 'rs', 'intensities@lc01', 'normal_intensities@lc01', 'abs_intensities@lc01', 'abs_normal_intensities@lc01', 'boost_factors@lc01', 'ldint@lc01', 'pblum@lc01', 'ptfarea@lc01']\n"
     ]
    }
   ],
   "source": [
    "b.add_dataset('lc')\n",
    "print b.get_parameter('columns').get_choices()"
   ]
  },
  {
   "cell_type": "code",
   "execution_count": 6,
   "metadata": {},
   "outputs": [
    {
     "data": {
      "text/plain": [
       "['*@lc01', 'teffs']"
      ]
     },
     "execution_count": 6,
     "metadata": {},
     "output_type": "execute_result"
    }
   ],
   "source": [
    "b['columns'] = ['*@lc01', 'teffs']\n",
    "b.get_parameter('columns').get_value()"
   ]
  },
  {
   "cell_type": "code",
   "execution_count": 7,
   "metadata": {},
   "outputs": [
    {
     "data": {
      "text/plain": [
       "['intensities@lc01',\n",
       " 'normal_intensities@lc01',\n",
       " 'abs_intensities@lc01',\n",
       " 'abs_normal_intensities@lc01',\n",
       " 'boost_factors@lc01',\n",
       " 'ldint@lc01',\n",
       " 'pblum@lc01',\n",
       " 'ptfarea@lc01',\n",
       " 'teffs']"
      ]
     },
     "execution_count": 7,
     "metadata": {},
     "output_type": "execute_result"
    }
   ],
   "source": [
    "b.get_parameter('columns').expand_value()"
   ]
  },
  {
   "cell_type": "markdown",
   "metadata": {},
   "source": [
    "### include_times\n",
    "\n",
    "Similarly, the `include_times` Parameter is a SelectParameter, with the choices being the existing datasets as well as various t0s."
   ]
  },
  {
   "cell_type": "code",
   "execution_count": 8,
   "metadata": {},
   "outputs": [
    {
     "name": "stdout",
     "output_type": "stream",
     "text": [
      "[]\n"
     ]
    }
   ],
   "source": [
    "b = phoebe.default_binary()\n",
    "b.add_dataset('mesh')\n",
    "print b.get_parameter('include_times').get_value()"
   ]
  },
  {
   "cell_type": "code",
   "execution_count": 9,
   "metadata": {},
   "outputs": [
    {
     "name": "stdout",
     "output_type": "stream",
     "text": [
      "['t0_perpass@binary', 't0_supconj@binary', 't0_ref@binary', 't0@system']\n"
     ]
    }
   ],
   "source": [
    "print b.get_parameter('include_times').get_choices()"
   ]
  },
  {
   "cell_type": "code",
   "execution_count": 10,
   "metadata": {},
   "outputs": [
    {
     "name": "stdout",
     "output_type": "stream",
     "text": [
      "['lc01', 't0_perpass@binary', 't0_supconj@binary', 't0_ref@binary', 't0@system']\n"
     ]
    }
   ],
   "source": [
    "b.add_dataset('lc')\n",
    "print b.get_parameter('include_times').get_choices()"
   ]
  },
  {
   "cell_type": "code",
   "execution_count": 11,
   "metadata": {},
   "outputs": [],
   "source": [
    "b['include_times'] = ['lc01', 't0@system']"
   ]
  },
  {
   "cell_type": "code",
   "execution_count": 12,
   "metadata": {},
   "outputs": [
    {
     "name": "stdout",
     "output_type": "stream",
     "text": [
      "['lc01', 't0@system']\n"
     ]
    }
   ],
   "source": [
    "print b.get_parameter('include_times').get_value()"
   ]
  }
 ],
 "metadata": {
  "kernelspec": {
   "display_name": "Python 2",
   "language": "python",
   "name": "python2"
  },
  "language_info": {
   "codemirror_mode": {
    "name": "ipython",
    "version": 2
   },
   "file_extension": ".py",
   "mimetype": "text/x-python",
   "name": "python",
   "nbconvert_exporter": "python",
   "pygments_lexer": "ipython2",
   "version": "2.7.15rc1"
  }
 },
 "nbformat": 4,
 "nbformat_minor": 1
}
