{
 "cells": [
  {
   "cell_type": "markdown",
   "metadata": {},
   "source": [
    "Atmospheres & Passbands\n",
    "============================\n",
    "\n",
    "Setup\n",
    "-----------------------------"
   ]
  },
  {
   "cell_type": "markdown",
   "metadata": {},
   "source": [
    "Let's first make sure we have the latest version of PHOEBE 2.0 installed. (You can comment out this line if you don't use pip for your installation or don't want to update to the latest release)."
   ]
  },
  {
   "cell_type": "code",
   "execution_count": null,
   "metadata": {},
   "outputs": [],
   "source": [
    "!pip install -I \"phoebe>=2.0,<2.1\""
   ]
  },
  {
   "cell_type": "markdown",
   "metadata": {
    "collapsed": true
   },
   "source": [
    "As always, let's do imports and initialize a logger and a new bundle.  See [Building a System](building_a_system.ipynb) for more details."
   ]
  },
  {
   "cell_type": "code",
   "execution_count": 1,
   "metadata": {},
   "outputs": [],
   "source": [
    "%matplotlib inline"
   ]
  },
  {
   "cell_type": "code",
   "execution_count": 2,
   "metadata": {},
   "outputs": [
    {
     "name": "stderr",
     "output_type": "stream",
     "text": [
      "/usr/lib/python2.7/dist-packages/matplotlib/cbook/deprecation.py:106: MatplotlibDeprecationWarning: The mpl_toolkits.axes_grid module was deprecated in version 2.1. Use mpl_toolkits.axes_grid1 and mpl_toolkits.axisartist provies the same functionality instead.\n",
      "  warnings.warn(message, mplDeprecation, stacklevel=1)\n"
     ]
    }
   ],
   "source": [
    "import phoebe\n",
    "from phoebe import u # units\n",
    "import numpy as np\n",
    "import matplotlib.pyplot as plt\n",
    "\n",
    "logger = phoebe.logger()\n",
    "\n",
    "b = phoebe.default_binary()"
   ]
  },
  {
   "cell_type": "markdown",
   "metadata": {},
   "source": [
    "And we'll add a single light curve dataset to expose all the passband-dependent options."
   ]
  },
  {
   "cell_type": "code",
   "execution_count": 3,
   "metadata": {},
   "outputs": [
    {
     "data": {
      "text/plain": [
       "<ParameterSet: 15 parameters | contexts: compute, dataset>"
      ]
     },
     "execution_count": 3,
     "metadata": {},
     "output_type": "execute_result"
    }
   ],
   "source": [
    "b.add_dataset('lc', times=np.linspace(0,1,101), dataset='lc01')"
   ]
  },
  {
   "cell_type": "markdown",
   "metadata": {},
   "source": [
    "Relevant Parameters\n",
    "-----------------------\n",
    "\n",
    "An 'atm' parameter exists for each of the components in the system (for each set of compute options) and defines which atmosphere table should be used.\n",
    "\n",
    "By default, these are set to 'ck2004' (Castelli-Kurucz) but can be set to 'blackbody' as well as 'extern_atmx' and 'extern_planckint' (which are included primarily for direct comparison with PHOEBE legacy)."
   ]
  },
  {
   "cell_type": "code",
   "execution_count": 4,
   "metadata": {},
   "outputs": [
    {
     "data": {
      "text/plain": [
       "<ParameterSet: 2 parameters | components: primary, secondary>"
      ]
     },
     "execution_count": 4,
     "metadata": {},
     "output_type": "execute_result"
    }
   ],
   "source": [
    "b['atm']"
   ]
  },
  {
   "cell_type": "code",
   "execution_count": 5,
   "metadata": {},
   "outputs": [
    {
     "data": {
      "text/plain": [
       "<Parameter: atm=ck2004 | keys: description, choices, value, visible_if, copy_for>"
      ]
     },
     "execution_count": 5,
     "metadata": {},
     "output_type": "execute_result"
    }
   ],
   "source": [
    "b['atm@primary']"
   ]
  },
  {
   "cell_type": "code",
   "execution_count": 6,
   "metadata": {},
   "outputs": [
    {
     "data": {
      "text/plain": [
       "'Atmosphere table'"
      ]
     },
     "execution_count": 6,
     "metadata": {},
     "output_type": "execute_result"
    }
   ],
   "source": [
    "b['atm@primary'].description"
   ]
  },
  {
   "cell_type": "code",
   "execution_count": 7,
   "metadata": {},
   "outputs": [
    {
     "data": {
      "text/plain": [
       "[u'blackbody', u'extern_atmx', u'extern_planckint', u'ck2004']"
      ]
     },
     "execution_count": 7,
     "metadata": {},
     "output_type": "execute_result"
    }
   ],
   "source": [
    "b['atm@primary'].choices"
   ]
  },
  {
   "cell_type": "markdown",
   "metadata": {},
   "source": [
    "Note that if you change the value of 'atm' to anything other than 'ck2004', the corresponding 'ld_func' will need to be changed to something other than 'interp' (warnings and errors will be raised to remind you of this)."
   ]
  },
  {
   "cell_type": "code",
   "execution_count": 8,
   "metadata": {},
   "outputs": [
    {
     "data": {
      "text/plain": [
       "<Parameter: ld_func=interp | keys: description, choices, value, visible_if, copy_for>"
      ]
     },
     "execution_count": 8,
     "metadata": {},
     "output_type": "execute_result"
    }
   ],
   "source": [
    "b['ld_func@primary']"
   ]
  },
  {
   "cell_type": "code",
   "execution_count": 9,
   "metadata": {},
   "outputs": [
    {
     "name": "stderr",
     "output_type": "stream",
     "text": [
      "Fri, 01 Feb 2019 14:04 PARAMETERS   WARNING ld_func='interp' only supported by atm='ck2004'\n"
     ]
    }
   ],
   "source": [
    "b['atm@primary'] = 'blackbody'"
   ]
  },
  {
   "cell_type": "code",
   "execution_count": 10,
   "metadata": {},
   "outputs": [
    {
     "name": "stdout",
     "output_type": "stream",
     "text": [
      "(False, \"ld_func='interp' only supported by atm='ck2004'\")\n"
     ]
    }
   ],
   "source": [
    "print(b.run_checks())"
   ]
  },
  {
   "cell_type": "code",
   "execution_count": 11,
   "metadata": {},
   "outputs": [],
   "source": [
    "b['ld_func@primary'] = 'logarithmic'"
   ]
  },
  {
   "cell_type": "code",
   "execution_count": 12,
   "metadata": {},
   "outputs": [
    {
     "name": "stdout",
     "output_type": "stream",
     "text": [
      "(True, '')\n"
     ]
    }
   ],
   "source": [
    "print(b.run_checks())"
   ]
  },
  {
   "cell_type": "markdown",
   "metadata": {},
   "source": [
    "A 'passband' parameter exists for each passband-dependent-dataset (i.e. not meshes or orbits, but light curves and radial velocities).  This parameter dictates which passband should be used for the computation of all intensities."
   ]
  },
  {
   "cell_type": "code",
   "execution_count": 13,
   "metadata": {},
   "outputs": [
    {
     "data": {
      "text/plain": [
       "<Parameter: passband=Johnson:V | keys: description, choices, value, visible_if, copy_for>"
      ]
     },
     "execution_count": 13,
     "metadata": {},
     "output_type": "execute_result"
    }
   ],
   "source": [
    "b['passband']"
   ]
  },
  {
   "cell_type": "markdown",
   "metadata": {},
   "source": [
    "The available choices will include both locally installed passbands as well as passbands currently available from the online PHOEBE repository.  If you choose an online-passband, it will be downloaded and installed locally as soon as required by [b.run_compute](../api/phoebe.frontend.bundle.Bundle.run_compute.md)."
   ]
  },
  {
   "cell_type": "code",
   "execution_count": 14,
   "metadata": {},
   "outputs": [
    {
     "name": "stdout",
     "output_type": "stream",
     "text": [
      "[u'STEREO:HI1A-noQE', u'Cousins:R', u'Stromgren:b', u'Brite:B', u'STEREO:HI1B-QE', u'Stromgren:v', u'Hipparcos:Hp', u'Stromgren:u', u'Brite:R', u'Stromgren:y', u'Johnson:B', u'Gaia:RP', u'STEREO:HI1B-noQE', u'Tycho:VT', u'Bolometric:900-40000', u'Johnson:R', u'Johnson:V', u'Johnson:U', u'Gaia:RVS', u'Kepler:mean', u'Gaia:G', u'Tycho:BT', u'Spitzer:5.8um', u'Gaia:BP', u'Spitzer:4.5um', u'KELT:R', u'LSST:i', u'LSST:g', u'TESS:default', u'Spitzer:3.6um', u'Cousins:I', u'LSST:z', u'STEREO:HI1A-QE', u'LSST:y', u'LSST:u', u'LSST:r', u'Spitzer:8.0um']\n"
     ]
    }
   ],
   "source": [
    "print(b['passband'].choices)"
   ]
  },
  {
   "cell_type": "markdown",
   "metadata": {},
   "source": [
    "To see your current locally-installed passbands, call [phoebe.list_installed_passbands()](../api/phoebe.list_installed_passbands.md)."
   ]
  },
  {
   "cell_type": "code",
   "execution_count": 15,
   "metadata": {},
   "outputs": [
    {
     "name": "stdout",
     "output_type": "stream",
     "text": [
      "[u'Johnson:V']\n"
     ]
    }
   ],
   "source": [
    "print(phoebe.list_installed_passbands())"
   ]
  },
  {
   "cell_type": "markdown",
   "metadata": {},
   "source": [
    "These installed passbands can be in any of a number of directories, which can be accessed via [phoebe.list_passband_directories()](../api/phoebe.list_passband_directories.md).\n",
    "\n",
    "The first entry is the global location - this is where passbands can be stored by a server-admin to be available to all PHOEBE-users on that machine.\n",
    "\n",
    "The second entry is the local location - this is where individual users can store passbands and where PHOEBE will download and install passbands (by default)."
   ]
  },
  {
   "cell_type": "code",
   "execution_count": 16,
   "metadata": {},
   "outputs": [
    {
     "name": "stdout",
     "output_type": "stream",
     "text": [
      "('/home/kyle/.local/lib/python2.7/site-packages/phoebe/atmospheres/tables/passbands/', '/home/kyle/.phoebe/atmospheres/tables/passbands/')\n"
     ]
    }
   ],
   "source": [
    "print(phoebe.list_passband_directories())"
   ]
  },
  {
   "cell_type": "markdown",
   "metadata": {},
   "source": [
    "To see the passbands available from the [online repository](http://github.com/phoebe-project/phoebe2-tables), call [phoebe.list_online_passbands()](../api/phoebe.list_online_passbands.md)."
   ]
  },
  {
   "cell_type": "code",
   "execution_count": 17,
   "metadata": {},
   "outputs": [
    {
     "name": "stdout",
     "output_type": "stream",
     "text": [
      "[u'STEREO:HI1A-noQE', u'Spitzer:3.6um', u'Stromgren:b', u'Brite:B', u'STEREO:HI1B-QE', u'Stromgren:v', u'Hipparcos:Hp', u'Stromgren:u', u'Brite:R', u'Stromgren:y', u'Johnson:B', u'Gaia:RP', u'STEREO:HI1B-noQE', u'Tycho:VT', u'Bolometric:900-40000', u'Johnson:R', u'Johnson:V', u'Johnson:U', u'Gaia:RVS', u'Kepler:mean', u'LSST:i', u'Gaia:G', u'Tycho:BT', u'Spitzer:5.8um', u'Spitzer:4.5um', u'KELT:R', u'Gaia:BP', u'LSST:g', u'TESS:default', u'Cousins:R', u'Cousins:I', u'LSST:z', u'STEREO:HI1A-QE', u'LSST:y', u'LSST:u', u'LSST:r', u'Spitzer:8.0um']\n"
     ]
    }
   ],
   "source": [
    "print(phoebe.list_online_passbands())"
   ]
  },
  {
   "cell_type": "markdown",
   "metadata": {},
   "source": [
    "Lastly, to manually download and install one of these online passbands, you can do so explicitly via [phoebe.download_passband](../api/phoebe.download_passband.md).\n",
    "\n",
    "Note that this isn't necessary unless you want to explicitly download passbands before needed by run_compute (perhaps if you're expecting to have unreliable network connection in the future and want to ensure you have all needed passbands)."
   ]
  },
  {
   "cell_type": "code",
   "execution_count": 18,
   "metadata": {},
   "outputs": [],
   "source": [
    "phoebe.download_passband('Cousins:R')"
   ]
  },
  {
   "cell_type": "code",
   "execution_count": 19,
   "metadata": {},
   "outputs": [
    {
     "name": "stdout",
     "output_type": "stream",
     "text": [
      "[u'Cousins:R', u'Johnson:V']\n"
     ]
    }
   ],
   "source": [
    "print(phoebe.list_installed_passbands())"
   ]
  },
  {
   "cell_type": "code",
   "execution_count": null,
   "metadata": {},
   "outputs": [],
   "source": []
  }
 ],
 "metadata": {
  "kernelspec": {
   "display_name": "Python 2",
   "language": "python",
   "name": "python2"
  },
  "language_info": {
   "codemirror_mode": {
    "name": "ipython",
    "version": 2
   },
   "file_extension": ".py",
   "mimetype": "text/x-python",
   "name": "python",
   "nbconvert_exporter": "python",
   "pygments_lexer": "ipython2",
   "version": "2.7.15rc1"
  }
 },
 "nbformat": 4,
 "nbformat_minor": 1
}
