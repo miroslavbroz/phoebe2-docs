{
 "cells": [
  {
   "cell_type": "markdown",
   "metadata": {},
   "source": [
    "[IPython Notebook](RV.ipynb) |  [Python Script](RV.py)"
   ]
  },
  {
   "cell_type": "markdown",
   "metadata": {},
   "source": [
    "'rv' Datasets and Options\n",
    "============================\n",
    "\n",
    "Setup\n",
    "-----------------------------"
   ]
  },
  {
   "cell_type": "markdown",
   "metadata": {
    "collapsed": true
   },
   "source": [
    "As always, let's do imports and initialize a logger and a new Bundle.  See [Building a System](building_a_system.html) for more details."
   ]
  },
  {
   "cell_type": "code",
   "execution_count": 1,
   "metadata": {
    "collapsed": true
   },
   "outputs": [],
   "source": [
    "%matplotlib inline"
   ]
  },
  {
   "cell_type": "code",
   "execution_count": 2,
   "metadata": {
    "collapsed": false
   },
   "outputs": [
    {
     "name": "stderr",
     "output_type": "stream",
     "text": [
      "/usr/local/lib/python2.7/dist-packages/IPython/kernel/__init__.py:13: ShimWarning: The `IPython.kernel` package has been deprecated. You should import from ipykernel or jupyter_client instead.\n",
      "  \"You should import from ipykernel or jupyter_client instead.\", ShimWarning)\n",
      "WARNING: Constant u'Gravitational constant' is already has a definition in the u'si' system [astropy.constants.constant]\n",
      "WARNING:astropy:Constant u'Gravitational constant' is already has a definition in the u'si' system\n",
      "WARNING: Constant u'Solar mass' is already has a definition in the u'si' system [astropy.constants.constant]\n",
      "WARNING:astropy:Constant u'Solar mass' is already has a definition in the u'si' system\n",
      "WARNING: Constant u'Solar radius' is already has a definition in the u'si' system [astropy.constants.constant]\n",
      "WARNING:astropy:Constant u'Solar radius' is already has a definition in the u'si' system\n",
      "WARNING: Constant u'Solar luminosity' is already has a definition in the u'si' system [astropy.constants.constant]\n",
      "WARNING:astropy:Constant u'Solar luminosity' is already has a definition in the u'si' system\n"
     ]
    },
    {
     "name": "stdout",
     "output_type": "stream",
     "text": [
      "WARNING: developer mode enabled, to disable 'rm ~/.phoebe_devel_enabled' and restart phoebe or phoebe._devel_enabled=False to temporarily disable\n"
     ]
    },
    {
     "name": "stderr",
     "output_type": "stream",
     "text": [
      "/usr/local/lib/python2.7/dist-packages/astropy/units/quantity.py:732: FutureWarning: comparison to `None` will result in an elementwise object comparison in the future.\n",
      "  return super(Quantity, self).__eq__(other)\n"
     ]
    }
   ],
   "source": [
    "import phoebe\n",
    "from phoebe import u # units\n",
    "import numpy as np\n",
    "import matplotlib.pyplot as plt\n",
    "\n",
    "logger = phoebe.logger()\n",
    "\n",
    "b = phoebe.default_binary()"
   ]
  },
  {
   "cell_type": "markdown",
   "metadata": {
    "collapsed": true
   },
   "source": [
    "Dataset Parameters\n",
    "--------------------------\n",
    "\n",
    "Let's create the ParameterSets which would be added to the Bundle when calling add_dataset. Later we'll call add_dataset, which will create and attach both these ParameterSets for us."
   ]
  },
  {
   "cell_type": "code",
   "execution_count": 3,
   "metadata": {
    "collapsed": false
   },
   "outputs": [
    {
     "name": "stdout",
     "output_type": "stream",
     "text": [
      "ParameterSet: 3 parameters\n",
      "                  times@_default: [] d\n",
      "                    rvs@_default: [] km / s\n",
      "                 sigmas@_default: [] km / s\n"
     ]
    }
   ],
   "source": [
    "ps, constraints = phoebe.dataset.rv()\n",
    "print ps"
   ]
  },
  {
   "cell_type": "code",
   "execution_count": 4,
   "metadata": {
    "collapsed": false
   },
   "outputs": [
    {
     "name": "stdout",
     "output_type": "stream",
     "text": [
      "ParameterSet: 3 parameters\n",
      "                ld_func@_default: interp\n",
      "              ld_coeffs@_default: [ 0.5  0.5]\n",
      "                        passband: Johnson:V\n"
     ]
    }
   ],
   "source": [
    "ps_dep = phoebe.dataset.rv_dep()\n",
    "print ps_dep"
   ]
  },
  {
   "cell_type": "markdown",
   "metadata": {},
   "source": [
    "For information on these passband-dependent parameters, see the section on the [lc dataset](LC) (these are used only to compute fluxes when rv_method=='flux-weighted')"
   ]
  },
  {
   "cell_type": "markdown",
   "metadata": {},
   "source": [
    "### times"
   ]
  },
  {
   "cell_type": "code",
   "execution_count": 5,
   "metadata": {
    "collapsed": false
   },
   "outputs": [
    {
     "name": "stdout",
     "output_type": "stream",
     "text": [
      "Parameter: times@_default\n",
      "                       Qualifier: times\n",
      "                     Description: Observed times\n",
      "                           Value: [] d\n",
      "                  Constrained by: \n",
      "                      Constrains: None\n",
      "                      Related to: None\n",
      "\n"
     ]
    }
   ],
   "source": [
    "print ps['times']"
   ]
  },
  {
   "cell_type": "markdown",
   "metadata": {},
   "source": [
    "### rvs"
   ]
  },
  {
   "cell_type": "code",
   "execution_count": 6,
   "metadata": {
    "collapsed": false
   },
   "outputs": [
    {
     "name": "stdout",
     "output_type": "stream",
     "text": [
      "Parameter: rvs@_default\n",
      "                       Qualifier: rvs\n",
      "                     Description: Observed radial velocity\n",
      "                           Value: [] km / s\n",
      "                  Constrained by: \n",
      "                      Constrains: None\n",
      "                      Related to: None\n",
      "\n"
     ]
    }
   ],
   "source": [
    "print ps['rvs']"
   ]
  },
  {
   "cell_type": "markdown",
   "metadata": {},
   "source": [
    "### sigmas"
   ]
  },
  {
   "cell_type": "code",
   "execution_count": 7,
   "metadata": {
    "collapsed": false
   },
   "outputs": [
    {
     "name": "stdout",
     "output_type": "stream",
     "text": [
      "Parameter: sigmas@_default\n",
      "                       Qualifier: sigmas\n",
      "                     Description: Observed uncertainty on rv\n",
      "                           Value: [] km / s\n",
      "                  Constrained by: \n",
      "                      Constrains: None\n",
      "                      Related to: None\n",
      "\n"
     ]
    }
   ],
   "source": [
    "print ps['sigmas']"
   ]
  },
  {
   "cell_type": "markdown",
   "metadata": {},
   "source": [
    "Compute Options\n",
    "------------------\n",
    "\n",
    "Let's look at the compute options (for the default PHOEBE 2 backend) that relate to the RV dataset.\n",
    "\n",
    "Other compute options are covered elsewhere:\n",
    "* parameters related to dynamics are explained in the section on the [orb dataset](ORB)\n",
    "* parameters related to meshing, eclipse detection, and subdivision (used if rv_method=='flux-weighted') are explained in the section on the [mesh dataset](MESH)\n",
    "* parameters related to computing fluxes (used if rv_method=='flux-weighted') are explained in the section on the [lc dataset](LC)"
   ]
  },
  {
   "cell_type": "code",
   "execution_count": 8,
   "metadata": {
    "collapsed": false
   },
   "outputs": [
    {
     "name": "stdout",
     "output_type": "stream",
     "text": [
      "ParameterSet: 24 parameters\n",
      "                enabled@_default: True\n",
      "                 dynamics_method: keplerian\n",
      "                            ltte: False\n",
      "                              gr: False\n",
      "                        stepsize: 0.01\n",
      "                      integrator: ias15\n",
      "                            refl: False\n",
      "                       protomesh: False\n",
      "                          pbmesh: False\n",
      "            mesh_method@_default: marching\n",
      "                  delta@_default: 0.1\n",
      "              maxpoints@_default: 100000\n",
      "      distortion_method@_default: roche\n",
      "               gridsize@_default: 40\n",
      "                     mesh_offset: True\n",
      "                  eclipse_method: native\n",
      "                    atm@_default: ck2004\n",
      "              lc_method@_default: numerical\n",
      "             fti_method@_default: None\n",
      "  fti_oversample@_default@_de...: 5\n",
      "     rv_method@_default@_default: flux-weighted\n",
      "       rv_grav@_default@_default: False\n",
      "    etv_method@_default@_default: crossing\n",
      "       etv_tol@_default@_default: 0.0001 d\n"
     ]
    }
   ],
   "source": [
    "ps_compute = phoebe.compute.phoebe()\n",
    "print ps_compute"
   ]
  },
  {
   "cell_type": "markdown",
   "metadata": {},
   "source": [
    "### rv_method"
   ]
  },
  {
   "cell_type": "code",
   "execution_count": 9,
   "metadata": {
    "collapsed": false
   },
   "outputs": [
    {
     "name": "stdout",
     "output_type": "stream",
     "text": [
      "Parameter: rv_method@_default@_default\n",
      "                       Qualifier: rv_method\n",
      "                     Description: Method to use for computing RVs (must be flux-weighted for Rossiter-McLaughlin)\n",
      "                           Value: flux-weighted\n",
      "                         Choices: flux-weighted, dynamical\n",
      "\n"
     ]
    }
   ],
   "source": [
    "print ps_compute['rv_method']"
   ]
  },
  {
   "cell_type": "markdown",
   "metadata": {},
   "source": [
    "If rv_method is set to 'dynamical' then the computed radial velocities are simply the z-velocities of the centers of mass of each component.  In this case, only the dynamical options are relevant.  For more details on these, see the section on the [orb dataset](ORB).\n",
    "\n",
    "If rv_method is set to 'flux-weighted' then radial velocities are determined by the z-velocity of each visible surface element of the mesh, weighted by their respective intensities.  Since the stars are placed in their orbits by the dynamic options, the section on the [orb dataset](ORB) is still applicable.  So are the meshing options described in [mesh dataset](MESH) and the options for computing fluxes in [lc dataset](LC)."
   ]
  },
  {
   "cell_type": "markdown",
   "metadata": {},
   "source": [
    "### rv_grav"
   ]
  },
  {
   "cell_type": "code",
   "execution_count": 10,
   "metadata": {
    "collapsed": false,
    "scrolled": true
   },
   "outputs": [
    {
     "name": "stdout",
     "output_type": "stream",
     "text": [
      "Parameter: rv_grav@_default@_default\n",
      "                       Qualifier: rv_grav\n",
      "                     Description: Whether gravitational redshift effects are enabled for RVs\n",
      "                           Value: False\n",
      "                 Only visible if: rv_method:flux-weighted\n",
      "\n"
     ]
    }
   ],
   "source": [
    "print ps_compute['rv_grav']"
   ]
  },
  {
   "cell_type": "markdown",
   "metadata": {},
   "source": [
    "See the [Gravitational Redshift Example Script](../examples/grav_redshift) for more details on the influence this parameter has on radial velocities."
   ]
  },
  {
   "cell_type": "markdown",
   "metadata": {},
   "source": [
    "Synthetics\n",
    "------------------"
   ]
  },
  {
   "cell_type": "code",
   "execution_count": 11,
   "metadata": {
    "collapsed": false
   },
   "outputs": [
    {
     "data": {
      "text/plain": [
       "<ParameterSet: 9 parameters | kinds: rv, rv_dep>"
      ]
     },
     "execution_count": 11,
     "metadata": {},
     "output_type": "execute_result"
    }
   ],
   "source": [
    "b.add_dataset('rv', times=np.linspace(0,3,101), dataset='rv01')"
   ]
  },
  {
   "cell_type": "code",
   "execution_count": 12,
   "metadata": {
    "collapsed": false
   },
   "outputs": [
    {
     "data": {
      "text/plain": [
       "<ParameterSet: 22 parameters | components: primary, secondary>"
      ]
     },
     "execution_count": 12,
     "metadata": {},
     "output_type": "execute_result"
    }
   ],
   "source": [
    "b.add_compute()"
   ]
  },
  {
   "cell_type": "code",
   "execution_count": 13,
   "metadata": {
    "collapsed": false
   },
   "outputs": [
    {
     "data": {
      "text/plain": [
       "<ParameterSet: 4 parameters | components: primary, secondary>"
      ]
     },
     "execution_count": 13,
     "metadata": {},
     "output_type": "execute_result"
    }
   ],
   "source": [
    "b.run_compute()"
   ]
  },
  {
   "cell_type": "code",
   "execution_count": 14,
   "metadata": {
    "collapsed": false
   },
   "outputs": [
    {
     "data": {
      "text/plain": [
       "['times@primary@rv01@phoebe01@latest@rv@model',\n",
       " 'rvs@primary@rv01@phoebe01@latest@rv@model',\n",
       " 'times@secondary@rv01@phoebe01@latest@rv@model',\n",
       " 'rvs@secondary@rv01@phoebe01@latest@rv@model']"
      ]
     },
     "execution_count": 14,
     "metadata": {},
     "output_type": "execute_result"
    }
   ],
   "source": [
    "b['rv@model'].twigs"
   ]
  },
  {
   "cell_type": "code",
   "execution_count": 15,
   "metadata": {
    "collapsed": false
   },
   "outputs": [
    {
     "name": "stdout",
     "output_type": "stream",
     "text": [
      "Parameter: times@primary@latest@model\n",
      "                       Qualifier: times\n",
      "                     Description: Observed times\n",
      "                           Value: [ 0.    0.03  0.06  0.09  0.12  0.15  0.18  0.21  0.24  0.27  0.3   0.33\n",
      "  0.36  0.39  0.42  0.45  0.48  0.51  0.54  0.57  0.6   0.63  0.66  0.69\n",
      "  0.72  0.75  0.78  0.81  0.84  0.87  0.9   0.93  0.96  0.99  1.02  1.05\n",
      "  1.08  1.11  1.14  1.17  1.2   1.23  1.26  1.29  1.32  1.35  1.38  1.41\n",
      "  1.44  1.47  1.5   1.53  1.56  1.59  1.62  1.65  1.68  1.71  1.74  1.77\n",
      "  1.8   1.83  1.86  1.89  1.92  1.95  1.98  2.01  2.04  2.07  2.1   2.13\n",
      "  2.16  2.19  2.22  2.25  2.28  2.31  2.34  2.37  2.4   2.43  2.46  2.49\n",
      "  2.52  2.55  2.58  2.61  2.64  2.67  2.7   2.73  2.76  2.79  2.82  2.85\n",
      "  2.88  2.91  2.94  2.97  3.  ] d\n",
      "                  Constrained by: \n",
      "                      Constrains: None\n",
      "                      Related to: None\n",
      "\n"
     ]
    }
   ],
   "source": [
    "print b['times@primary@rv@model']"
   ]
  },
  {
   "cell_type": "code",
   "execution_count": 16,
   "metadata": {
    "collapsed": false
   },
   "outputs": [
    {
     "name": "stdout",
     "output_type": "stream",
     "text": [
      "Parameter: rvs@primary@latest@model\n",
      "                       Qualifier: rvs\n",
      "                     Description: Observed radial velocity\n",
      "                           Value: [ -2.15033262e+00  -1.34123286e+01  -1.37204168e+01  -1.46102212e+01\n",
      "  -1.67855711e+01  -2.08482507e+01  -2.48360059e+01  -2.87256978e+01\n",
      "  -3.25012607e+01  -3.61493715e+01  -3.96536594e+01  -4.30030475e+01\n",
      "  -4.61813207e+01  -4.91780332e+01  -5.19804844e+01  -5.45770120e+01\n",
      "  -5.69588354e+01  -5.91152336e+01  -6.10385584e+01  -6.27209099e+01\n",
      "  -6.41559273e+01  -6.53375379e+01  -6.62612324e+01  -6.69242957e+01\n",
      "  -6.73220319e+01  -6.74567347e+01  -6.73211063e+01  -6.69227701e+01\n",
      "  -6.62597274e+01  -6.53346213e+01  -6.41527020e+01  -6.27166077e+01\n",
      "  -6.10330900e+01  -5.91100061e+01  -5.69526468e+01  -5.45705306e+01\n",
      "  -5.19743255e+01  -4.91720451e+01  -4.61752004e+01  -4.29969361e+01\n",
      "  -3.96493892e+01  -3.61442089e+01  -3.24975572e+01  -2.87214163e+01\n",
      "  -2.48315988e+01  -2.08445332e+01  -1.67753189e+01  -1.26394986e+01\n",
      "  -8.45434953e+00  -4.23645177e+00   4.68886424e-04   4.23508123e+00\n",
      "   8.45429077e+00   1.26391758e+01   1.67751397e+01   2.08450362e+01\n",
      "   2.48319892e+01   2.87210853e+01   3.24965071e+01   3.61441867e+01\n",
      "   3.96485170e+01   4.29979823e+01   4.61760977e+01   4.91727091e+01\n",
      "   5.19749934e+01   5.45714722e+01   5.69537573e+01   5.91108660e+01\n",
      "   6.10347115e+01   6.27173935e+01   6.41532449e+01   6.53355126e+01\n",
      "   6.62597544e+01   6.69233071e+01   6.73220972e+01   6.74571995e+01\n",
      "   6.73223107e+01   6.69247310e+01   6.62618835e+01   6.53373545e+01\n",
      "   6.41558674e+01   6.27202638e+01   6.10372582e+01   5.91146565e+01\n",
      "   5.69576181e+01   5.45763490e+01   5.19796162e+01   4.91772907e+01\n",
      "   4.61804872e+01   4.30017207e+01   3.96537742e+01   3.61483223e+01\n",
      "   3.25013573e+01   2.87248794e+01   2.48348181e+01   2.08471982e+01\n",
      "   1.67849124e+01   1.46099793e+01   1.37205555e+01   1.34143720e+01\n",
      "  -2.15033262e+00] km / s\n",
      "                  Constrained by: \n",
      "                      Constrains: None\n",
      "                      Related to: None\n",
      "\n"
     ]
    }
   ],
   "source": [
    "print b['rvs@primary@rv@model']"
   ]
  },
  {
   "cell_type": "markdown",
   "metadata": {},
   "source": [
    "Plotting\n",
    "---------------\n",
    "\n",
    "By default, RV datasets plot as 'rvs' vs 'times'."
   ]
  },
  {
   "cell_type": "code",
   "execution_count": 17,
   "metadata": {
    "collapsed": false
   },
   "outputs": [
    {
     "data": {
      "image/png": "[encoded data removed]",
      "text/plain": [
       "<matplotlib.figure.Figure at 0x7f57e8f5b8d0>"
      ]
     },
     "metadata": {},
     "output_type": "display_data"
    }
   ],
   "source": [
    "axs, artists = b['rv@model'].plot()"
   ]
  },
  {
   "cell_type": "markdown",
   "metadata": {},
   "source": [
    "Since these are the only two columns available in the synthetic model, the only other options is to plot in phase instead of time."
   ]
  },
  {
   "cell_type": "code",
   "execution_count": 18,
   "metadata": {
    "collapsed": false
   },
   "outputs": [
    {
     "data": {
      "image/png": "[encoded data removed]",
      "text/plain": [
       "<matplotlib.figure.Figure at 0x7f57e8f2db90>"
      ]
     },
     "metadata": {},
     "output_type": "display_data"
    }
   ],
   "source": [
    "axs, artists = b['rv@model'].plot(x='phases')"
   ]
  },
  {
   "cell_type": "markdown",
   "metadata": {},
   "source": [
    "In system hierarchies where there may be multiple periods, it is also possible to determine whose period to use for phasing."
   ]
  },
  {
   "cell_type": "code",
   "execution_count": 19,
   "metadata": {
    "collapsed": false
   },
   "outputs": [
    {
     "data": {
      "text/plain": [
       "['binary', 'primary', 'secondary']"
      ]
     },
     "execution_count": 19,
     "metadata": {},
     "output_type": "execute_result"
    }
   ],
   "source": [
    "b['period'].components"
   ]
  },
  {
   "cell_type": "code",
   "execution_count": 20,
   "metadata": {
    "collapsed": false
   },
   "outputs": [
    {
     "data": {
      "image/png": "[encoded data removed]",
      "text/plain": [
       "<matplotlib.figure.Figure at 0x7f57e8e04510>"
      ]
     },
     "metadata": {},
     "output_type": "display_data"
    }
   ],
   "source": [
    "axs, artists = b['rv@model'].plot(x='phases:binary')"
   ]
  },
  {
   "cell_type": "markdown",
   "metadata": {},
   "source": [
    "Mesh Fields\n",
    "---------------------\n",
    "\n",
    "If a mesh dataset exists at any of the same times as the time array in the rv dataset, *or* if pbmesh is set to True in the compute options, then radial velocities for each surface element will be available in the model as well (only if mesh_method=='flux_weighted').\n",
    "\n",
    "Since the radial velocities are flux-weighted, the flux-related quantities are also included.  For a description of these, see the section on the [lc dataset](LC).\n",
    "\n",
    "Let's add a single mesh at the first time of the rv dataset and re-call run_compute"
   ]
  },
  {
   "cell_type": "code",
   "execution_count": 21,
   "metadata": {
    "collapsed": false
   },
   "outputs": [
    {
     "data": {
      "text/plain": [
       "<ParameterSet: 2 parameters | contexts: compute, dataset>"
      ]
     },
     "execution_count": 21,
     "metadata": {},
     "output_type": "execute_result"
    }
   ],
   "source": [
    "b.add_dataset('mesh', times=[0], dataset='mesh01')"
   ]
  },
  {
   "cell_type": "code",
   "execution_count": 22,
   "metadata": {
    "collapsed": false
   },
   "outputs": [
    {
     "name": "stderr",
     "output_type": "stream",
     "text": [
      "WARNING:BUNDLE:overwriting model: latest\n"
     ]
    },
    {
     "data": {
      "text/plain": [
       "<ParameterSet: 68 parameters | kinds: rv, mesh>"
      ]
     },
     "execution_count": 22,
     "metadata": {},
     "output_type": "execute_result"
    }
   ],
   "source": [
    "b.run_compute()"
   ]
  },
  {
   "cell_type": "code",
   "execution_count": 23,
   "metadata": {
    "collapsed": false
   },
   "outputs": [
    {
     "name": "stdout",
     "output_type": "stream",
     "text": [
      "['mesh01', 'rv01']\n"
     ]
    }
   ],
   "source": [
    "print b['model'].datasets"
   ]
  },
  {
   "cell_type": "markdown",
   "metadata": {},
   "source": [
    "These new columns are stored with the rv's dataset tag, but with the mesh model-kind."
   ]
  },
  {
   "cell_type": "code",
   "execution_count": 24,
   "metadata": {
    "collapsed": false
   },
   "outputs": [
    {
     "data": {
      "text/plain": [
       "['0.0@pblum@primary@rv01@phoebe01@latest@mesh@model',\n",
       " '0.0@normal_intensities@primary@rv01@phoebe01@latest@mesh@model',\n",
       " '0.0@ampl_boosts@primary@rv01@phoebe01@latest@mesh@model',\n",
       " '0.0@abs_intensities@primary@rv01@phoebe01@latest@mesh@model',\n",
       " '0.0@abs_normal_intensities@primary@rv01@phoebe01@latest@mesh@model',\n",
       " '0.0@rvs@primary@rv01@phoebe01@latest@mesh@model',\n",
       " '0.0@intensities@primary@rv01@phoebe01@latest@mesh@model',\n",
       " '0.0@pblum@secondary@rv01@phoebe01@latest@mesh@model',\n",
       " '0.0@normal_intensities@secondary@rv01@phoebe01@latest@mesh@model',\n",
       " '0.0@ampl_boosts@secondary@rv01@phoebe01@latest@mesh@model',\n",
       " '0.0@abs_intensities@secondary@rv01@phoebe01@latest@mesh@model',\n",
       " '0.0@abs_normal_intensities@secondary@rv01@phoebe01@latest@mesh@model',\n",
       " '0.0@rvs@secondary@rv01@phoebe01@latest@mesh@model',\n",
       " '0.0@intensities@secondary@rv01@phoebe01@latest@mesh@model']"
      ]
     },
     "execution_count": 24,
     "metadata": {},
     "output_type": "execute_result"
    }
   ],
   "source": [
    "b.filter(dataset='rv01', kind='mesh', context='model').twigs"
   ]
  },
  {
   "cell_type": "markdown",
   "metadata": {},
   "source": [
    "Any of these columns are then available to use as edge or facecolors when plotting the mesh (see the section on the [MESH dataset](MESH)), but since the mesh elements are stored with the 'mesh01' dataset tag, and the rv (including flux-related) quantities are stored with the 'rv01' dataset tag, it is important not to provide the 'mesh01' dataset tag before plotting."
   ]
  },
  {
   "cell_type": "code",
   "execution_count": 25,
   "metadata": {
    "collapsed": false
   },
   "outputs": [
    {
     "name": "stderr",
     "output_type": "stream",
     "text": [
      "/home/kyle/.local/lib/python2.7/site-packages/phoebe/frontend/plotting.py:242: FutureWarning: elementwise comparison failed; returning scalar instead, but in the future will perform elementwise comparison\n",
      "  if pckwargs['edgecolors'] in ['none', 'None', None] and pckwargs['facecolors'] not in ['none', 'None', None]:\n",
      "/home/kyle/.local/lib/python2.7/site-packages/phoebe/frontend/plotting.py:242: FutureWarning: comparison to `None` will result in an elementwise object comparison in the future.\n",
      "  if pckwargs['edgecolors'] in ['none', 'None', None] and pckwargs['facecolors'] not in ['none', 'None', None]:\n",
      "/usr/local/lib/python2.7/dist-packages/matplotlib/collections.py:590: FutureWarning: elementwise comparison failed; returning scalar instead, but in the future will perform elementwise comparison\n",
      "  if self._edgecolors == str('face'):\n"
     ]
    },
    {
     "data": {
      "image/png": "[encoded data removed]",
      "text/plain": [
       "<matplotlib.figure.Figure at 0x7f57e8c5ac50>"
      ]
     },
     "metadata": {},
     "output_type": "display_data"
    }
   ],
   "source": [
    "axs, artists = b['mesh@model'].plot(facecolor='rvs', edgecolor=None)\n",
    "# NOT:\n",
    "# axs, artists = b['mesh01@model'].plot(facecolor='rv', edgecolor=None)"
   ]
  },
  {
   "cell_type": "markdown",
   "metadata": {},
   "source": [
    "### rvs"
   ]
  },
  {
   "cell_type": "code",
   "execution_count": 26,
   "metadata": {
    "collapsed": false
   },
   "outputs": [
    {
     "name": "stdout",
     "output_type": "stream",
     "text": [
      "Parameter: 0.0@rvs@primary@latest@model\n",
      "                       Qualifier: rvs\n",
      "                     Description: Per-element value for rv01 dataset\n",
      "                           Value: [ -1.04307016e-01  -3.48430615e-08   1.04307243e-01 ...,   1.54928801e+00\n",
      "   1.61647665e+00   1.65364353e+00] solRad / d\n",
      "                  Constrained by: \n",
      "                      Constrains: None\n",
      "                      Related to: None\n",
      "\n"
     ]
    }
   ],
   "source": [
    "print b['rvs@primary@rv01@mesh@model']"
   ]
  }
 ],
 "metadata": {
  "kernelspec": {
   "display_name": "Python 2",
   "language": "python",
   "name": "python2"
  },
  "language_info": {
   "codemirror_mode": {
    "name": "ipython",
    "version": 2
   },
   "file_extension": ".py",
   "mimetype": "text/x-python",
   "name": "python",
   "nbconvert_exporter": "python",
   "pygments_lexer": "ipython2",
   "version": "2.7.12"
  }
 },
 "nbformat": 4,
 "nbformat_minor": 0
}
