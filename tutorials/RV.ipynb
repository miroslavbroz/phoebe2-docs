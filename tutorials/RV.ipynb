{
 "cells": [
  {
   "cell_type": "markdown",
   "metadata": {},
   "source": [
    "[IPython Notebook](RV.ipynb) |  [Python Script](RV.py)"
   ]
  },
  {
   "cell_type": "markdown",
   "metadata": {},
   "source": [
    "'rv' Datasets and Options\n",
    "============================\n",
    "\n",
    "Setup\n",
    "-----------------------------"
   ]
  },
  {
   "cell_type": "markdown",
   "metadata": {
    "collapsed": true
   },
   "source": [
    "As always, let's do imports and initialize a logger and a new Bundle.  See [Building a System](building_a_system.html) for more details."
   ]
  },
  {
   "cell_type": "code",
   "execution_count": 1,
   "metadata": {
    "collapsed": true
   },
   "outputs": [],
   "source": [
    "%matplotlib inline"
   ]
  },
  {
   "cell_type": "code",
   "execution_count": 2,
   "metadata": {
    "collapsed": false
   },
   "outputs": [
    {
     "name": "stderr",
     "output_type": "stream",
     "text": [
      "/usr/local/lib/python2.7/dist-packages/IPython/kernel/__init__.py:13: ShimWarning: The `IPython.kernel` package has been deprecated. You should import from ipykernel or jupyter_client instead.\n",
      "  \"You should import from ipykernel or jupyter_client instead.\", ShimWarning)\n",
      "WARNING: Constant u'Gravitational constant' is already has a definition in the u'si' system [astropy.constants.constant]\n",
      "WARNING:astropy:Constant u'Gravitational constant' is already has a definition in the u'si' system\n",
      "WARNING: Constant u'Solar mass' is already has a definition in the u'si' system [astropy.constants.constant]\n",
      "WARNING:astropy:Constant u'Solar mass' is already has a definition in the u'si' system\n",
      "WARNING: Constant u'Solar radius' is already has a definition in the u'si' system [astropy.constants.constant]\n",
      "WARNING:astropy:Constant u'Solar radius' is already has a definition in the u'si' system\n",
      "WARNING: Constant u'Solar luminosity' is already has a definition in the u'si' system [astropy.constants.constant]\n",
      "WARNING:astropy:Constant u'Solar luminosity' is already has a definition in the u'si' system\n",
      "/usr/local/lib/python2.7/dist-packages/astropy/units/quantity.py:732: FutureWarning: comparison to `None` will result in an elementwise object comparison in the future.\n",
      "  return super(Quantity, self).__eq__(other)\n"
     ]
    }
   ],
   "source": [
    "import phoebe\n",
    "from phoebe import u # units\n",
    "import numpy as np\n",
    "import matplotlib.pyplot as plt\n",
    "\n",
    "logger = phoebe.logger()\n",
    "\n",
    "b = phoebe.default_binary()"
   ]
  },
  {
   "cell_type": "markdown",
   "metadata": {
    "collapsed": true
   },
   "source": [
    "Dataset Parameters\n",
    "--------------------------\n",
    "\n",
    "Let's create the ParameterSets which would be added to the Bundle when calling add_dataset. Later we'll call add_dataset, which will create and attach both these ParameterSets for us."
   ]
  },
  {
   "cell_type": "code",
   "execution_count": 3,
   "metadata": {
    "collapsed": false
   },
   "outputs": [
    {
     "name": "stdout",
     "output_type": "stream",
     "text": [
      "ParameterSet: 3 parameters\n",
      "                  times@_default: [] d\n",
      "                    rvs@_default: [] km / s\n",
      "                 sigmas@_default: [] km / s\n"
     ]
    }
   ],
   "source": [
    "ps, constraints = phoebe.dataset.rv()\n",
    "print ps"
   ]
  },
  {
   "cell_type": "code",
   "execution_count": 4,
   "metadata": {
    "collapsed": false
   },
   "outputs": [
    {
     "name": "stdout",
     "output_type": "stream",
     "text": [
      "ParameterSet: 4 parameters\n",
      "                ld_func@_default: interp\n",
      "              ld_coeffs@_default: [ 0.5  0.5]\n",
      "                        passband: Johnson:V\n",
      "                intens_weighting: energy\n"
     ]
    }
   ],
   "source": [
    "ps_dep = phoebe.dataset.rv_dep()\n",
    "print ps_dep"
   ]
  },
  {
   "cell_type": "markdown",
   "metadata": {},
   "source": [
    "For information on these passband-dependent parameters, see the section on the [lc dataset](LC) (these are used only to compute fluxes when rv_method=='flux-weighted')"
   ]
  },
  {
   "cell_type": "markdown",
   "metadata": {},
   "source": [
    "### times"
   ]
  },
  {
   "cell_type": "code",
   "execution_count": 5,
   "metadata": {
    "collapsed": false
   },
   "outputs": [
    {
     "name": "stdout",
     "output_type": "stream",
     "text": [
      "Parameter: times@_default\n",
      "                       Qualifier: times\n",
      "                     Description: Observed times\n",
      "                           Value: [] d\n",
      "                  Constrained by: \n",
      "                      Constrains: None\n",
      "                      Related to: None\n",
      "\n"
     ]
    }
   ],
   "source": [
    "print ps['times']"
   ]
  },
  {
   "cell_type": "markdown",
   "metadata": {},
   "source": [
    "### rvs"
   ]
  },
  {
   "cell_type": "code",
   "execution_count": 6,
   "metadata": {
    "collapsed": false
   },
   "outputs": [
    {
     "name": "stdout",
     "output_type": "stream",
     "text": [
      "Parameter: rvs@_default\n",
      "                       Qualifier: rvs\n",
      "                     Description: Observed radial velocity\n",
      "                           Value: [] km / s\n",
      "                  Constrained by: \n",
      "                      Constrains: None\n",
      "                      Related to: None\n",
      "\n"
     ]
    }
   ],
   "source": [
    "print ps['rvs']"
   ]
  },
  {
   "cell_type": "markdown",
   "metadata": {},
   "source": [
    "### sigmas"
   ]
  },
  {
   "cell_type": "code",
   "execution_count": 7,
   "metadata": {
    "collapsed": false
   },
   "outputs": [
    {
     "name": "stdout",
     "output_type": "stream",
     "text": [
      "Parameter: sigmas@_default\n",
      "                       Qualifier: sigmas\n",
      "                     Description: Observed uncertainty on rv\n",
      "                           Value: [] km / s\n",
      "                  Constrained by: \n",
      "                      Constrains: None\n",
      "                      Related to: None\n",
      "\n"
     ]
    }
   ],
   "source": [
    "print ps['sigmas']"
   ]
  },
  {
   "cell_type": "markdown",
   "metadata": {},
   "source": [
    "Compute Options\n",
    "------------------\n",
    "\n",
    "Let's look at the compute options (for the default PHOEBE 2 backend) that relate to the RV dataset.\n",
    "\n",
    "Other compute options are covered elsewhere:\n",
    "* parameters related to dynamics are explained in the section on the [orb dataset](ORB)\n",
    "* parameters related to meshing, eclipse detection, and subdivision (used if rv_method=='flux-weighted') are explained in the section on the [mesh dataset](MESH)\n",
    "* parameters related to computing fluxes (used if rv_method=='flux-weighted') are explained in the section on the [lc dataset](LC)"
   ]
  },
  {
   "cell_type": "code",
   "execution_count": 8,
   "metadata": {
    "collapsed": false
   },
   "outputs": [
    {
     "name": "stdout",
     "output_type": "stream",
     "text": [
      "ParameterSet: 20 parameters\n",
      "                enabled@_default: True\n",
      "                 dynamics_method: keplerian\n",
      "                            ltte: False\n",
      "                    irrad_method: wilson\n",
      "                 boosting_method: none\n",
      "                       protomesh: False\n",
      "                          pbmesh: False\n",
      "                         horizon: False\n",
      "            mesh_method@_default: marching\n",
      "                  delta@_default: 0.1\n",
      "              maxpoints@_default: 100000\n",
      "      distortion_method@_default: roche\n",
      "                  eclipse_method: native\n",
      "                  horizon_method: boolean\n",
      "                    atm@_default: ck2004\n",
      "              lc_method@_default: numerical\n",
      "             fti_method@_default: None\n",
      "  fti_oversample@_default@_de...: 5\n",
      "     rv_method@_default@_default: flux-weighted\n",
      "       rv_grav@_default@_default: False\n"
     ]
    }
   ],
   "source": [
    "ps_compute = phoebe.compute.phoebe()\n",
    "print ps_compute"
   ]
  },
  {
   "cell_type": "markdown",
   "metadata": {},
   "source": [
    "### rv_method"
   ]
  },
  {
   "cell_type": "code",
   "execution_count": 9,
   "metadata": {
    "collapsed": false
   },
   "outputs": [
    {
     "name": "stdout",
     "output_type": "stream",
     "text": [
      "Parameter: rv_method@_default@_default\n",
      "                       Qualifier: rv_method\n",
      "                     Description: Method to use for computing RVs (must be flux-weighted for Rossiter-McLaughlin)\n",
      "                           Value: flux-weighted\n",
      "                         Choices: flux-weighted, dynamical\n",
      "\n"
     ]
    }
   ],
   "source": [
    "print ps_compute['rv_method']"
   ]
  },
  {
   "cell_type": "markdown",
   "metadata": {},
   "source": [
    "If rv_method is set to 'dynamical' then the computed radial velocities are simply the z-velocities of the centers of mass of each component.  In this case, only the dynamical options are relevant.  For more details on these, see the section on the [orb dataset](ORB).\n",
    "\n",
    "If rv_method is set to 'flux-weighted' then radial velocities are determined by the z-velocity of each visible surface element of the mesh, weighted by their respective intensities.  Since the stars are placed in their orbits by the dynamic options, the section on the [orb dataset](ORB) is still applicable.  So are the meshing options described in [mesh dataset](MESH) and the options for computing fluxes in [lc dataset](LC)."
   ]
  },
  {
   "cell_type": "markdown",
   "metadata": {},
   "source": [
    "### rv_grav"
   ]
  },
  {
   "cell_type": "code",
   "execution_count": 10,
   "metadata": {
    "collapsed": false,
    "scrolled": true
   },
   "outputs": [
    {
     "name": "stdout",
     "output_type": "stream",
     "text": [
      "Parameter: rv_grav@_default@_default\n",
      "                       Qualifier: rv_grav\n",
      "                     Description: Whether gravitational redshift effects are enabled for RVs\n",
      "                           Value: False\n",
      "                 Only visible if: rv_method:flux-weighted\n",
      "\n"
     ]
    }
   ],
   "source": [
    "print ps_compute['rv_grav']"
   ]
  },
  {
   "cell_type": "markdown",
   "metadata": {},
   "source": [
    "See the [Gravitational Redshift Example Script](../examples/grav_redshift) for more details on the influence this parameter has on radial velocities."
   ]
  },
  {
   "cell_type": "markdown",
   "metadata": {},
   "source": [
    "Synthetics\n",
    "------------------"
   ]
  },
  {
   "cell_type": "code",
   "execution_count": 11,
   "metadata": {
    "collapsed": false
   },
   "outputs": [
    {
     "data": {
      "text/plain": [
       "<ParameterSet: 15 parameters | contexts: compute, dataset>"
      ]
     },
     "execution_count": 11,
     "metadata": {},
     "output_type": "execute_result"
    }
   ],
   "source": [
    "b.add_dataset('rv', times=np.linspace(0,1,101), dataset='rv01')"
   ]
  },
  {
   "cell_type": "code",
   "execution_count": 12,
   "metadata": {
    "collapsed": false
   },
   "outputs": [
    {
     "data": {
      "text/plain": [
       "<ParameterSet: 4 parameters | components: primary, secondary>"
      ]
     },
     "execution_count": 12,
     "metadata": {},
     "output_type": "execute_result"
    }
   ],
   "source": [
    "b.run_compute(irrad_method='none')"
   ]
  },
  {
   "cell_type": "code",
   "execution_count": 13,
   "metadata": {
    "collapsed": false
   },
   "outputs": [
    {
     "data": {
      "text/plain": [
       "['times@primary@rv01@phoebe01@latest@rv@model',\n",
       " 'rvs@primary@rv01@phoebe01@latest@rv@model',\n",
       " 'times@secondary@rv01@phoebe01@latest@rv@model',\n",
       " 'rvs@secondary@rv01@phoebe01@latest@rv@model']"
      ]
     },
     "execution_count": 13,
     "metadata": {},
     "output_type": "execute_result"
    }
   ],
   "source": [
    "b['rv@model'].twigs"
   ]
  },
  {
   "cell_type": "code",
   "execution_count": 14,
   "metadata": {
    "collapsed": false
   },
   "outputs": [
    {
     "name": "stdout",
     "output_type": "stream",
     "text": [
      "Parameter: times@primary@latest@model\n",
      "                       Qualifier: times\n",
      "                     Description: Observed times\n",
      "                           Value: [ 0.    0.01  0.02  0.03  0.04  0.05  0.06  0.07  0.08  0.09  0.1   0.11\n",
      "  0.12  0.13  0.14  0.15  0.16  0.17  0.18  0.19  0.2   0.21  0.22  0.23\n",
      "  0.24  0.25  0.26  0.27  0.28  0.29  0.3   0.31  0.32  0.33  0.34  0.35\n",
      "  0.36  0.37  0.38  0.39  0.4   0.41  0.42  0.43  0.44  0.45  0.46  0.47\n",
      "  0.48  0.49  0.5   0.51  0.52  0.53  0.54  0.55  0.56  0.57  0.58  0.59\n",
      "  0.6   0.61  0.62  0.63  0.64  0.65  0.66  0.67  0.68  0.69  0.7   0.71\n",
      "  0.72  0.73  0.74  0.75  0.76  0.77  0.78  0.79  0.8   0.81  0.82  0.83\n",
      "  0.84  0.85  0.86  0.87  0.88  0.89  0.9   0.91  0.92  0.93  0.94  0.95\n",
      "  0.96  0.97  0.98  0.99  1.  ] d\n",
      "                  Constrained by: \n",
      "                      Constrains: None\n",
      "                      Related to: None\n",
      "\n"
     ]
    }
   ],
   "source": [
    "print b['times@primary@rv@model']"
   ]
  },
  {
   "cell_type": "code",
   "execution_count": 15,
   "metadata": {
    "collapsed": false
   },
   "outputs": [
    {
     "name": "stdout",
     "output_type": "stream",
     "text": [
      "Parameter: rvs@primary@latest@model\n",
      "                       Qualifier: rvs\n",
      "                     Description: Observed radial velocity\n",
      "                           Value: [  7.81828821e-01  -4.04738812e+01  -4.04849631e+01  -4.10610196e+01\n",
      "  -4.24430228e+01  -4.50169449e+01  -4.96437762e+01  -5.71858784e+01\n",
      "  -6.46956470e+01  -7.19480499e+01  -7.89150530e+01  -8.55678483e+01\n",
      "  -9.18807826e+01  -9.78296423e+01  -1.03390606e+02  -1.08540733e+02\n",
      "  -1.13263841e+02  -1.17538621e+02  -1.21348565e+02  -1.24679528e+02\n",
      "  -1.27519606e+02  -1.29856974e+02  -1.31682104e+02  -1.32989036e+02\n",
      "  -1.33773185e+02  -1.34032505e+02  -1.33759807e+02  -1.32963575e+02\n",
      "  -1.31643922e+02  -1.29804647e+02  -1.27455730e+02  -1.24604702e+02\n",
      "  -1.21262259e+02  -1.17442813e+02  -1.13160128e+02  -1.08429947e+02\n",
      "  -1.03269411e+02  -9.77064215e+01  -9.17544731e+01  -8.54419902e+01\n",
      "  -7.87919740e+01  -7.18280430e+01  -6.45831959e+01  -5.70792317e+01\n",
      "  -4.93497355e+01  -4.14285498e+01  -3.33404998e+01  -2.51200552e+01\n",
      "  -1.68023564e+01  -8.41621918e+00   1.37721304e-03   8.41947847e+00\n",
      "   1.68060682e+01   2.51241821e+01   3.33433661e+01   4.14310029e+01\n",
      "   4.93541134e+01   5.70829639e+01   6.45843263e+01   7.18307790e+01\n",
      "   7.87929237e+01   8.54442199e+01   9.17562634e+01   9.77081065e+01\n",
      "   1.03271972e+02   1.08428384e+02   1.13158981e+02   1.17442358e+02\n",
      "   1.21262132e+02   1.24603115e+02   1.27454705e+02   1.29804454e+02\n",
      "   1.31642312e+02   1.32961242e+02   1.33758999e+02   1.34031069e+02\n",
      "   1.33771835e+02   1.32988341e+02   1.31681246e+02   1.29854927e+02\n",
      "   1.27517714e+02   1.24678563e+02   1.21346546e+02   1.17536600e+02\n",
      "   1.13262357e+02   1.08541054e+02   1.03386089e+02   9.78288730e+01\n",
      "   9.18786679e+01   8.55662077e+01   7.89146693e+01   7.19467514e+01\n",
      "   6.46968534e+01   5.71848049e+01   4.96426211e+01   4.50175145e+01\n",
      "   4.24428326e+01   4.10590808e+01   4.04867843e+01   4.04724530e+01\n",
      "   7.81828821e-01] km / s\n",
      "                  Constrained by: \n",
      "                      Constrains: None\n",
      "                      Related to: None\n",
      "\n"
     ]
    }
   ],
   "source": [
    "print b['rvs@primary@rv@model']"
   ]
  },
  {
   "cell_type": "markdown",
   "metadata": {},
   "source": [
    "Plotting\n",
    "---------------\n",
    "\n",
    "By default, RV datasets plot as 'rvs' vs 'times'."
   ]
  },
  {
   "cell_type": "code",
   "execution_count": 16,
   "metadata": {
    "collapsed": false
   },
   "outputs": [
    {
     "data": {
      "image/png": "[encoded data removed]",
      "text/plain": [
       "<matplotlib.figure.Figure at 0x7ff5c12d63d0>"
      ]
     },
     "metadata": {},
     "output_type": "display_data"
    }
   ],
   "source": [
    "axs, artists = b['rv@model'].plot()"
   ]
  },
  {
   "cell_type": "markdown",
   "metadata": {},
   "source": [
    "Since these are the only two columns available in the synthetic model, the only other options is to plot in phase instead of time."
   ]
  },
  {
   "cell_type": "code",
   "execution_count": 17,
   "metadata": {
    "collapsed": false
   },
   "outputs": [
    {
     "data": {
      "image/png": "[encoded data removed]",
      "text/plain": [
       "<matplotlib.figure.Figure at 0x7ff595e87790>"
      ]
     },
     "metadata": {},
     "output_type": "display_data"
    }
   ],
   "source": [
    "axs, artists = b['rv@model'].plot(x='phases')"
   ]
  },
  {
   "cell_type": "markdown",
   "metadata": {},
   "source": [
    "In system hierarchies where there may be multiple periods, it is also possible to determine whose period to use for phasing."
   ]
  },
  {
   "cell_type": "code",
   "execution_count": 18,
   "metadata": {
    "collapsed": false
   },
   "outputs": [
    {
     "data": {
      "text/plain": [
       "['binary', 'primary', 'secondary']"
      ]
     },
     "execution_count": 18,
     "metadata": {},
     "output_type": "execute_result"
    }
   ],
   "source": [
    "b['period'].components"
   ]
  },
  {
   "cell_type": "code",
   "execution_count": 19,
   "metadata": {
    "collapsed": false
   },
   "outputs": [
    {
     "data": {
      "image/png": "[encoded data removed]",
      "text/plain": [
       "<matplotlib.figure.Figure at 0x7ff5d4718c10>"
      ]
     },
     "metadata": {},
     "output_type": "display_data"
    }
   ],
   "source": [
    "axs, artists = b['rv@model'].plot(x='phases:binary')"
   ]
  },
  {
   "cell_type": "markdown",
   "metadata": {},
   "source": [
    "Mesh Fields\n",
    "---------------------\n",
    "\n",
    "If a mesh dataset exists at any of the same times as the time array in the rv dataset, *or* if pbmesh is set to True in the compute options, then radial velocities for each surface element will be available in the model as well (only if mesh_method=='flux_weighted').\n",
    "\n",
    "Since the radial velocities are flux-weighted, the flux-related quantities are also included.  For a description of these, see the section on the [lc dataset](LC).\n",
    "\n",
    "Let's add a single mesh at the first time of the rv dataset and re-call run_compute"
   ]
  },
  {
   "cell_type": "code",
   "execution_count": 20,
   "metadata": {
    "collapsed": false
   },
   "outputs": [
    {
     "data": {
      "text/plain": [
       "<ParameterSet: 2 parameters | contexts: compute, dataset>"
      ]
     },
     "execution_count": 20,
     "metadata": {},
     "output_type": "execute_result"
    }
   ],
   "source": [
    "b.add_dataset('mesh', times=[0], dataset='mesh01')"
   ]
  },
  {
   "cell_type": "code",
   "execution_count": 21,
   "metadata": {
    "collapsed": false
   },
   "outputs": [
    {
     "name": "stderr",
     "output_type": "stream",
     "text": [
      "WARNING:BUNDLE:overwriting model: latest\n"
     ]
    },
    {
     "data": {
      "text/plain": [
       "<ParameterSet: 80 parameters | kinds: rv, mesh>"
      ]
     },
     "execution_count": 21,
     "metadata": {},
     "output_type": "execute_result"
    }
   ],
   "source": [
    "b.run_compute(irrad_method='none')"
   ]
  },
  {
   "cell_type": "code",
   "execution_count": 22,
   "metadata": {
    "collapsed": false
   },
   "outputs": [
    {
     "name": "stdout",
     "output_type": "stream",
     "text": [
      "['mesh01', 'rv01']\n"
     ]
    }
   ],
   "source": [
    "print b['model'].datasets"
   ]
  },
  {
   "cell_type": "markdown",
   "metadata": {},
   "source": [
    "These new columns are stored with the rv's dataset tag, but with the mesh model-kind."
   ]
  },
  {
   "cell_type": "code",
   "execution_count": 23,
   "metadata": {
    "collapsed": false
   },
   "outputs": [
    {
     "data": {
      "text/plain": [
       "['0.0@pblum@primary@rv01@phoebe01@latest@mesh@model',\n",
       " '0.0@normal_intensities@primary@rv01@phoebe01@latest@mesh@model',\n",
       " '0.0@abs_intensities@primary@rv01@phoebe01@latest@mesh@model',\n",
       " '0.0@abs_normal_intensities@primary@rv01@phoebe01@latest@mesh@model',\n",
       " '0.0@rvs@primary@rv01@phoebe01@latest@mesh@model',\n",
       " '0.0@intensities@primary@rv01@phoebe01@latest@mesh@model',\n",
       " '0.0@boost_factors@primary@rv01@phoebe01@latest@mesh@model',\n",
       " '0.0@pblum@secondary@rv01@phoebe01@latest@mesh@model',\n",
       " '0.0@normal_intensities@secondary@rv01@phoebe01@latest@mesh@model',\n",
       " '0.0@abs_intensities@secondary@rv01@phoebe01@latest@mesh@model',\n",
       " '0.0@abs_normal_intensities@secondary@rv01@phoebe01@latest@mesh@model',\n",
       " '0.0@rvs@secondary@rv01@phoebe01@latest@mesh@model',\n",
       " '0.0@intensities@secondary@rv01@phoebe01@latest@mesh@model',\n",
       " '0.0@boost_factors@secondary@rv01@phoebe01@latest@mesh@model']"
      ]
     },
     "execution_count": 23,
     "metadata": {},
     "output_type": "execute_result"
    }
   ],
   "source": [
    "b.filter(dataset='rv01', kind='mesh', context='model').twigs"
   ]
  },
  {
   "cell_type": "markdown",
   "metadata": {},
   "source": [
    "Any of these columns are then available to use as edge or facecolors when plotting the mesh (see the section on the [MESH dataset](MESH)), but since the mesh elements are stored with the 'mesh01' dataset tag, and the rv (including flux-related) quantities are stored with the 'rv01' dataset tag, it is important not to provide the 'mesh01' dataset tag before plotting."
   ]
  },
  {
   "cell_type": "code",
   "execution_count": 24,
   "metadata": {
    "collapsed": false
   },
   "outputs": [
    {
     "name": "stderr",
     "output_type": "stream",
     "text": [
      "/home/kyle/.local/lib/python2.7/site-packages/phoebe/frontend/plotting.py:257: FutureWarning: elementwise comparison failed; returning scalar instead, but in the future will perform elementwise comparison\n",
      "  if pckwargs['edgecolors'] in ['none', 'None', None] and pckwargs['facecolors'] not in ['none', 'None', None]:\n",
      "/home/kyle/.local/lib/python2.7/site-packages/phoebe/frontend/plotting.py:257: FutureWarning: comparison to `None` will result in an elementwise object comparison in the future.\n",
      "  if pckwargs['edgecolors'] in ['none', 'None', None] and pckwargs['facecolors'] not in ['none', 'None', None]:\n"
     ]
    },
    {
     "data": {
      "image/png": "[encoded data removed]",
      "text/plain": [
       "<matplotlib.figure.Figure at 0x7ff595e1b650>"
      ]
     },
     "metadata": {},
     "output_type": "display_data"
    }
   ],
   "source": [
    "axs, artists = b['mesh@model'].plot(facecolor='rvs', edgecolor=None)\n",
    "# NOT:\n",
    "# axs, artists = b['mesh01@model'].plot(facecolor='rv', edgecolor=None)"
   ]
  },
  {
   "cell_type": "markdown",
   "metadata": {},
   "source": [
    "### rvs"
   ]
  },
  {
   "cell_type": "code",
   "execution_count": 25,
   "metadata": {
    "collapsed": false
   },
   "outputs": [
    {
     "name": "stdout",
     "output_type": "stream",
     "text": [
      "Parameter: 0.0@rvs@primary@latest@model\n",
      "                       Qualifier: rvs\n",
      "                     Description: Per-element value for rv01 dataset\n",
      "                           Value: [ -3.12888785e-01  -1.11682473e-07   3.12889504e-01 ...,   3.70200258e+00\n",
      "   3.32945666e+00   3.09544836e+00] solRad / d\n",
      "                  Constrained by: \n",
      "                      Constrains: None\n",
      "                      Related to: None\n",
      "\n"
     ]
    }
   ],
   "source": [
    "print b['rvs@primary@rv01@mesh@model']"
   ]
  }
 ],
 "metadata": {
  "kernelspec": {
   "display_name": "Python 2",
   "language": "python",
   "name": "python2"
  },
  "language_info": {
   "codemirror_mode": {
    "name": "ipython",
    "version": 2
   },
   "file_extension": ".py",
   "mimetype": "text/x-python",
   "name": "python",
   "nbconvert_exporter": "python",
   "pygments_lexer": "ipython2",
   "version": "2.7.12+"
  }
 },
 "nbformat": 4,
 "nbformat_minor": 0
}
