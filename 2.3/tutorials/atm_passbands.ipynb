{
 "cells": [
  {
   "cell_type": "markdown",
   "metadata": {},
   "source": [
    "Atmospheres & Passbands\n",
    "============================\n",
    "\n",
    "Setup\n",
    "-----------------------------"
   ]
  },
  {
   "cell_type": "markdown",
   "metadata": {},
   "source": [
    "Let's first make sure we have the latest version of PHOEBE 2.3 installed (uncomment this line if running in an online notebook session such as colab)."
   ]
  },
  {
   "cell_type": "code",
   "execution_count": 1,
   "metadata": {},
   "outputs": [],
   "source": [
    "#!pip install -I \"phoebe>=2.3,<2.4\""
   ]
  },
  {
   "cell_type": "markdown",
   "metadata": {
    "collapsed": true
   },
   "source": [
    "As always, let's do imports and initialize a logger and a new bundle."
   ]
  },
  {
   "cell_type": "code",
   "execution_count": 2,
   "metadata": {},
   "outputs": [],
   "source": [
    "import phoebe\n",
    "from phoebe import u # units\n",
    "import numpy as np\n",
    "import matplotlib.pyplot as plt\n",
    "\n",
    "logger = phoebe.logger()\n",
    "\n",
    "b = phoebe.default_binary()"
   ]
  },
  {
   "cell_type": "markdown",
   "metadata": {},
   "source": [
    "And we'll add a single light curve dataset to expose all the passband-dependent options."
   ]
  },
  {
   "cell_type": "code",
   "execution_count": 3,
   "metadata": {},
   "outputs": [
    {
     "data": {
      "text/plain": [
       "<ParameterSet: 73 parameters | contexts: constraint, dataset, figure, compute>"
      ]
     },
     "execution_count": 3,
     "metadata": {},
     "output_type": "execute_result"
    }
   ],
   "source": [
    "b.add_dataset('lc', times=np.linspace(0,1,101), dataset='lc01')"
   ]
  },
  {
   "cell_type": "markdown",
   "metadata": {},
   "source": [
    "Relevant Parameters\n",
    "-----------------------\n",
    "\n",
    "An 'atm' parameter exists for each of the components in the system (for each set of compute options) and defines which atmosphere table should be used.\n",
    "\n",
    "By default, these are set to 'ck2004' (Castelli-Kurucz) but can be set to 'blackbody' as well as 'extern_atmx' and 'extern_planckint' (which are included primarily for direct comparison with PHOEBE legacy)."
   ]
  },
  {
   "cell_type": "code",
   "execution_count": 4,
   "metadata": {},
   "outputs": [
    {
     "data": {
      "text/plain": [
       "<ParameterSet: 2 parameters | components: secondary, primary>"
      ]
     },
     "execution_count": 4,
     "metadata": {},
     "output_type": "execute_result"
    }
   ],
   "source": [
    "b['atm']"
   ]
  },
  {
   "cell_type": "code",
   "execution_count": 5,
   "metadata": {},
   "outputs": [
    {
     "data": {
      "text/plain": [
       "<Parameter: atm=ck2004 | keys: description, choices, value, visible_if, copy_for, readonly, advanced, latexfmt>"
      ]
     },
     "execution_count": 5,
     "metadata": {},
     "output_type": "execute_result"
    }
   ],
   "source": [
    "b['atm@primary']"
   ]
  },
  {
   "cell_type": "code",
   "execution_count": 6,
   "metadata": {},
   "outputs": [
    {
     "data": {
      "text/plain": [
       "'Atmosphere table'"
      ]
     },
     "execution_count": 6,
     "metadata": {},
     "output_type": "execute_result"
    }
   ],
   "source": [
    "b['atm@primary'].description"
   ]
  },
  {
   "cell_type": "code",
   "execution_count": 7,
   "metadata": {},
   "outputs": [
    {
     "data": {
      "text/plain": [
       "['phoenix', 'extern_atmx', 'extern_planckint', 'blackbody', 'ck2004']"
      ]
     },
     "execution_count": 7,
     "metadata": {},
     "output_type": "execute_result"
    }
   ],
   "source": [
    "b['atm@primary'].choices"
   ]
  },
  {
   "cell_type": "markdown",
   "metadata": {},
   "source": [
    "Note that if you change the value of 'atm' to anything other than 'ck2004', the corresponding 'ld_func' will need to be changed to something other than 'interp' (warnings and errors will be raised to remind you of this)."
   ]
  },
  {
   "cell_type": "code",
   "execution_count": 8,
   "metadata": {},
   "outputs": [
    {
     "data": {
      "text/plain": [
       "<ParameterSet: EMPTY>"
      ]
     },
     "execution_count": 8,
     "metadata": {},
     "output_type": "execute_result"
    }
   ],
   "source": [
    "b['ld_func@primary']"
   ]
  },
  {
   "cell_type": "code",
   "execution_count": 9,
   "metadata": {},
   "outputs": [
    {
     "name": "stderr",
     "output_type": "stream",
     "text": [
      "Thu, 17 Sep 2020 10:52 BUNDLE       WARNING ld_mode='interp' not supported by atm='blackbody'.  Either change atm@primary@phoebe01 or ld_mode@primary@lc01.  If not addressed, this warning will continue to be raised and will throw an error at run_compute.\n"
     ]
    }
   ],
   "source": [
    "b['atm@primary'] = 'blackbody'"
   ]
  },
  {
   "cell_type": "code",
   "execution_count": 10,
   "metadata": {},
   "outputs": [
    {
     "name": "stdout",
     "output_type": "stream",
     "text": [
      "Run Checks Report: FAIL\n",
      "ERROR: ld_mode='interp' not supported by atm='blackbody'.  Either change atm@primary@phoebe01 or ld_mode@primary@lc01. (3 affected parameters, affecting run_compute)\n"
     ]
    }
   ],
   "source": [
    "print(b.run_checks())"
   ]
  },
  {
   "cell_type": "code",
   "execution_count": 11,
   "metadata": {},
   "outputs": [],
   "source": [
    "b['ld_mode@primary'] = 'manual'\n",
    "b['ld_func@primary'] = 'logarithmic'"
   ]
  },
  {
   "cell_type": "code",
   "execution_count": 12,
   "metadata": {},
   "outputs": [
    {
     "name": "stdout",
     "output_type": "stream",
     "text": [
      "Run Checks Report: PASS\n",
      "\n"
     ]
    }
   ],
   "source": [
    "print(b.run_checks())"
   ]
  },
  {
   "cell_type": "markdown",
   "metadata": {},
   "source": [
    "A 'passband' parameter exists for each passband-dependent-dataset (i.e. not meshes or orbits, but light curves and radial velocities).  This parameter dictates which passband should be used for the computation of all intensities."
   ]
  },
  {
   "cell_type": "code",
   "execution_count": 13,
   "metadata": {},
   "outputs": [
    {
     "data": {
      "text/plain": [
       "<Parameter: passband=Johnson:V | keys: description, choices, value, visible_if, copy_for, readonly, advanced, latexfmt>"
      ]
     },
     "execution_count": 13,
     "metadata": {},
     "output_type": "execute_result"
    }
   ],
   "source": [
    "b['passband']"
   ]
  },
  {
   "cell_type": "markdown",
   "metadata": {},
   "source": [
    "The available choices will include both locally installed passbands as well as passbands currently available from the online PHOEBE repository.  If you choose an online-passband, it will be downloaded and installed locally as soon as required by [b.run_compute](../api/phoebe.frontend.bundle.Bundle.run_compute.md)."
   ]
  },
  {
   "cell_type": "code",
   "execution_count": 14,
   "metadata": {},
   "outputs": [
    {
     "name": "stdout",
     "output_type": "stream",
     "text": [
      "['Stromgren:y', 'Stromgren:b', 'Tycho:B', 'KELT:R', 'Cousins:I', 'Gaia:RVS', 'Kepler:mean', 'Gaia:G', 'Johnson:V', 'LSST:y3', 'Stromgren:u', 'Hipparcos:Hp', 'LSST:z', 'Johnson:B', 'Johnson:I', 'Tycho:V', 'TESS:T', 'Gaia:RP', 'BRITE:red', 'LSST:i', 'BRITE:blue', 'Cousins:R', 'LSST:r', 'LSST:g', 'LSST:u', 'Stromgren:v', 'Johnson:R', 'Johnson:U', 'Bolometric:900-40000', 'Gaia:BP']\n"
     ]
    }
   ],
   "source": [
    "print(b['passband'].choices)"
   ]
  },
  {
   "cell_type": "markdown",
   "metadata": {},
   "source": [
    "To see your current locally-installed passbands, call [phoebe.list_installed_passbands()](../api/phoebe.list_installed_passbands.md)."
   ]
  },
  {
   "cell_type": "code",
   "execution_count": 15,
   "metadata": {},
   "outputs": [
    {
     "name": "stdout",
     "output_type": "stream",
     "text": [
      "['Bolometric:900-40000', 'Johnson:R', 'Johnson:V', 'TESS:T']\n"
     ]
    }
   ],
   "source": [
    "print(phoebe.list_installed_passbands())"
   ]
  },
  {
   "cell_type": "markdown",
   "metadata": {},
   "source": [
    "These installed passbands can be in any of a number of directories, which can be accessed via [phoebe.list_passband_directories()](../api/phoebe.list_passband_directories.md).\n",
    "\n",
    "The first entry is the global location - this is where passbands can be stored by a server-admin to be available to all PHOEBE-users on that machine.\n",
    "\n",
    "The second entry is the local location - this is where individual users can store passbands and where PHOEBE will download and install passbands (by default)."
   ]
  },
  {
   "cell_type": "code",
   "execution_count": 16,
   "metadata": {},
   "outputs": [
    {
     "name": "stdout",
     "output_type": "stream",
     "text": [
      "['/home/kyle/.local/lib/python3.8/site-packages/phoebe/atmospheres/tables/passbands/', '/home/kyle/.phoebe/atmospheres/tables/passbands/']\n"
     ]
    }
   ],
   "source": [
    "print(phoebe.list_passband_directories())"
   ]
  },
  {
   "cell_type": "markdown",
   "metadata": {},
   "source": [
    "To see the passbands available from the [online repository](http://github.com/phoebe-project/phoebe2-tables), call [phoebe.list_online_passbands()](../api/phoebe.list_online_passbands.md)."
   ]
  },
  {
   "cell_type": "code",
   "execution_count": 17,
   "metadata": {},
   "outputs": [
    {
     "name": "stdout",
     "output_type": "stream",
     "text": [
      "['BRITE:blue', 'BRITE:red', 'Bolometric:900-40000', 'Cousins:I', 'Cousins:R', 'Gaia:BP', 'Gaia:G', 'Gaia:RP', 'Gaia:RVS', 'Hipparcos:Hp', 'Johnson:B', 'Johnson:I', 'Johnson:R', 'Johnson:U', 'Johnson:V', 'KELT:R', 'Kepler:mean', 'LSST:g', 'LSST:i', 'LSST:r', 'LSST:u', 'LSST:y3', 'LSST:z', 'Stromgren:b', 'Stromgren:u', 'Stromgren:v', 'Stromgren:y', 'TESS:T', 'Tycho:B', 'Tycho:V']\n"
     ]
    }
   ],
   "source": [
    "print(phoebe.list_online_passbands())"
   ]
  },
  {
   "cell_type": "markdown",
   "metadata": {},
   "source": [
    "Lastly, to manually download and install one of these online passbands, you can do so explicitly via [phoebe.download_passband](../api/phoebe.download_passband.md) or by visiting [tables.phoebe-project.org](http://phoebe-project.org/tables).  See also the tutorial on [updating passbands](./passband_updates.ipynb).\n",
    "\n",
    "Note that this isn't necessary unless you want to explicitly download passbands before needed by run_compute (perhaps if you're expecting to have unreliable network connection in the future and want to ensure you have all needed passbands)."
   ]
  },
  {
   "cell_type": "code",
   "execution_count": 19,
   "metadata": {},
   "outputs": [],
   "source": [
    "phoebe.download_passband('Cousins:R')"
   ]
  },
  {
   "cell_type": "code",
   "execution_count": 20,
   "metadata": {},
   "outputs": [
    {
     "name": "stdout",
     "output_type": "stream",
     "text": [
      "['Bolometric:900-40000', 'Cousins:R', 'Johnson:R', 'Johnson:V', 'TESS:T']\n"
     ]
    }
   ],
   "source": [
    "print(phoebe.list_installed_passbands())"
   ]
  },
  {
   "cell_type": "code",
   "execution_count": null,
   "metadata": {},
   "outputs": [],
   "source": []
  }
 ],
 "metadata": {
  "kernelspec": {
   "display_name": "Python 3",
   "language": "python",
   "name": "python3"
  },
  "language_info": {
   "codemirror_mode": {
    "name": "ipython",
    "version": 3
   },
   "file_extension": ".py",
   "mimetype": "text/x-python",
   "name": "python",
   "nbconvert_exporter": "python",
   "pygments_lexer": "ipython3",
   "version": "3.8.2"
  }
 },
 "nbformat": 4,
 "nbformat_minor": 1
}
