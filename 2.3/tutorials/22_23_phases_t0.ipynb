{
 "cells": [
  {
   "cell_type": "markdown",
   "metadata": {},
   "source": [
    "2.2 - 2.3 Migration: compute_phases_t0 renamed to phases_t0\n",
    "============================\n",
    "\n",
    "The parameter which defines the `t0` to use when translating between `compute_times` and `compute_phases` has been renamed in PHOEBE 2.3 from `compute_phases_t0` to `phases_t0` as it is now also used for `mask_phases` and `solver_times`.\n",
    "\n",
    "For more details see:\n",
    "* [Advanced: Compute Times & Phases](./compute_times_phases.ipynb)\n",
    "* [Advanced: Phase Masking](./mask_phases.ipynb)\n",
    "* [Advanced: Solver Times](./solver_times.ipynb)\n"
   ]
  }
 ],
 "metadata": {
  "kernelspec": {
   "display_name": "Python 3",
   "language": "python",
   "name": "python3"
  },
  "language_info": {
   "codemirror_mode": {
    "name": "ipython",
    "version": 3
   },
   "file_extension": ".py",
   "mimetype": "text/x-python",
   "name": "python",
   "nbconvert_exporter": "python",
   "pygments_lexer": "ipython3",
   "version": "3.8.5"
  }
 },
 "nbformat": 4,
 "nbformat_minor": 2
}
