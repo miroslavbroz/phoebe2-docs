{
 "cells": [
  {
   "cell_type": "markdown",
   "metadata": {},
   "source": [
    "Advanced: Interacting with the UI in Jupyter\n",
    "============================\n",
    "\n",
    "\n",
    "Setup\n",
    "-----------------------------"
   ]
  },
  {
   "cell_type": "markdown",
   "metadata": {},
   "source": [
    "Let's first make sure we have the latest version of PHOEBE 2.3 installed (uncomment this line if running in an online notebook session such as colab)."
   ]
  },
  {
   "cell_type": "code",
   "execution_count": 1,
   "metadata": {},
   "outputs": [],
   "source": [
    "#!pip install -I \"phoebe>=2.3,<2.4\""
   ]
  },
  {
   "cell_type": "code",
   "execution_count": 2,
   "metadata": {},
   "outputs": [],
   "source": [
    "import phoebe\n",
    "from phoebe import u # units\n",
    "\n",
    "logger = phoebe.logger()\n",
    "\n",
    "b = phoebe.default_binary()"
   ]
  },
  {
   "cell_type": "markdown",
   "metadata": {},
   "source": [
    "## Showing the Jupyter in-line UI\n",
    "\n",
    "Whether you have the [UI Client](http://phoebe-project.org/clients) installed locally or not, calling [b.ui or PS.ui](../api/phoebe.parameters.ParameterSet.ui.md) will launch an inline-representation of that ParameterSet directly below the cell by default.  This allows you to interactively view and change parameter values without having to write code.\n",
    "\n",
    "This can be super useful to create \"interactive\" scripts where you (or a student, etc) can change specific values at certain points throughout the script.  But do keep in mind that any values you change in the UI will not be reproduced when re-running the notebook (unless you manually do the exact same thing).\n",
    "\n",
    "By default this is \"blocking\", which means that Jupyter will not continue to the next line until you click the blue \"continue\" button.  Once clicked, the UI will become \"frozen\" (and will show a \"disconnected\" note in the corner in place of the \"continue\" button) and Jupyter will continue to allow further entry and execution.\n",
    "\n",
    "**NOTE**: The following lines are commented-out to avoid the error messages when viewing the notebook in read-only mode.  Below each commented line are a screenshot of the resulting UI.  To see the interactive versions, run this notebook locally and uncomment the calls to ui."
   ]
  },
  {
   "cell_type": "code",
   "execution_count": 3,
   "metadata": {},
   "outputs": [],
   "source": [
    "#b.ui()"
   ]
  },
  {
   "cell_type": "markdown",
   "metadata": {},
   "source": [
    "![ui](ui_jupyter_b_ui.png)"
   ]
  },
  {
   "cell_type": "code",
   "execution_count": 4,
   "metadata": {},
   "outputs": [],
   "source": [
    "#b.filter(qualifier='sma', context='component').ui()"
   ]
  },
  {
   "cell_type": "markdown",
   "metadata": {},
   "source": [
    "![ui](ui_jupyter_b_filter_ui.png)"
   ]
  },
  {
   "cell_type": "markdown",
   "metadata": {},
   "source": [
    "Additionally, if you have figures attached to the Bundle (see [settings](settings.ipynb) for `auto_add_figure` and `auto_remove_figure` or [b.add_figure](../api/phoebe.frontend.bundle.Bundle.add_figure.md)), calling [b.ui_figures](../api/phoebe.frontend.bundle.Bundle.ui_figures.md) will launch the UI panel showing the figures."
   ]
  },
  {
   "cell_type": "markdown",
   "metadata": {},
   "source": [
    "## Launching the UI outside Jupyter\n",
    "\n",
    "Calling [PS.ui](../api/phoebe.parameters.ParameterSet.ui.md) or [b.ui_figures](../api/phoebe.frontend.bundle.Bundle.ui_figures.md) from a Python or IPython instance will launch the desktop client (if installed) or the web-client in a browser.\n",
    "\n",
    "This is still \"blocking\" by default, but by passing `blocking=False` to the UI call, you can interact with the bundle through the UI and Python simultaneously.  Similarly, you could have started in the UI and clicked the terminal button in the upper-right corner to launch a Python client.\n",
    "\n",
    "Calling [b.ui_figures](../api/phoebe.frontend.bundle.Bundle.ui_figures.md) with `blocking=False` can be convenient to see the figures automatically update whenever there are changes to the datasets or models (for example, whenever calling [b.run_compute](../api/phoebe.frontend.bundle.Bundle.run_compute.md)."
   ]
  },
  {
   "cell_type": "code",
   "execution_count": null,
   "metadata": {},
   "outputs": [],
   "source": []
  },
  {
   "cell_type": "code",
   "execution_count": null,
   "metadata": {},
   "outputs": [],
   "source": []
  }
 ],
 "metadata": {
  "kernelspec": {
   "display_name": "Python 3",
   "language": "python",
   "name": "python3"
  },
  "language_info": {
   "codemirror_mode": {
    "name": "ipython",
    "version": 3
   },
   "file_extension": ".py",
   "mimetype": "text/x-python",
   "name": "python",
   "nbconvert_exporter": "python",
   "pygments_lexer": "ipython3",
   "version": "3.8.2"
  }
 },
 "nbformat": 4,
 "nbformat_minor": 1
}
