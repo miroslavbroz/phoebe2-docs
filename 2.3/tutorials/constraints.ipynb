{
 "cells": [
  {
   "cell_type": "markdown",
   "metadata": {},
   "source": [
    "Constraints\n",
    "============================\n",
    "\n",
    "Setup\n",
    "-----------------------------"
   ]
  },
  {
   "cell_type": "markdown",
   "metadata": {},
   "source": [
    "Let's first make sure we have the latest version of PHOEBE 2.3 installed (uncomment this line if running in an online notebook session such as colab)."
   ]
  },
  {
   "cell_type": "code",
   "execution_count": 1,
   "metadata": {},
   "outputs": [],
   "source": [
    "#!pip install -I \"phoebe>=2.3,<2.4\""
   ]
  },
  {
   "cell_type": "code",
   "execution_count": 2,
   "metadata": {},
   "outputs": [],
   "source": [
    "import phoebe\n",
    "from phoebe import u # units\n",
    "import numpy as np\n",
    "import matplotlib.pyplot as plt\n",
    "\n",
    "logger = phoebe.logger()\n",
    "\n",
    "b = phoebe.default_binary()"
   ]
  },
  {
   "cell_type": "markdown",
   "metadata": {},
   "source": [
    "What are Constraints?\n",
    "----------------------------"
   ]
  },
  {
   "cell_type": "markdown",
   "metadata": {},
   "source": [
    "Constraints live in their own context of the Bundle, and many are created\n",
    "by default - either when you add a component or when you set the system hierarchy.\n",
    "\n",
    "Let's look at all the existing constraints for our binary system by filtering on `context='constraint'`."
   ]
  },
  {
   "cell_type": "code",
   "execution_count": 3,
   "metadata": {},
   "outputs": [
    {
     "data": {
      "text/plain": [
       "<ParameterSet: 26 parameters | kinds: extinction, star, orbit>"
      ]
     },
     "execution_count": 3,
     "metadata": {},
     "output_type": "execute_result"
    }
   ],
   "source": [
    "b.filter(context='constraint')"
   ]
  },
  {
   "cell_type": "markdown",
   "metadata": {},
   "source": [
    "To see what all of these constraints do, see [Advanced: Built-In Constraints](constraints_builtin.ipynb) or look at the [constraint API docs](../api/phoebe.parameters.constraint.md).\n",
    "\n",
    "For now let's look at a single constraint by accessing a [ConstraintParameter](../api/phoebe.parameters.ConstraintParameter.md)."
   ]
  },
  {
   "cell_type": "code",
   "execution_count": 4,
   "metadata": {},
   "outputs": [
    {
     "data": {
      "text/plain": [
       "<ConstraintParameter: {mass@primary@component} = (39.478418 * ({sma@binary@component} ** 3.000000)) / ((({period@binary@component} ** 2.000000) * (1.000000 + {q@binary@component})) * 2942.206217504418873431859537959099) (solar units) => 0.9988131358058302 solMass>"
      ]
     },
     "execution_count": 4,
     "metadata": {},
     "output_type": "execute_result"
    }
   ],
   "source": [
    "b['constraint']['primary']['mass']"
   ]
  },
  {
   "cell_type": "markdown",
   "metadata": {},
   "source": [
    "Here we see the equation used to derive the mass of the primary star\n",
    "from its orbit, as well as the current value\n",
    "\n",
    "If we access the Parameter that it is constraining we can see that it\n",
    "is automatically kept up-to-date."
   ]
  },
  {
   "cell_type": "code",
   "execution_count": 5,
   "metadata": {},
   "outputs": [
    {
     "name": "stdout",
     "output_type": "stream",
     "text": [
      "0.9988131358058302\n"
     ]
    }
   ],
   "source": [
    "print(b.get_value('mass@primary@component'))"
   ]
  },
  {
   "cell_type": "markdown",
   "metadata": {},
   "source": [
    "The parameter is aware that it's being constrained and has references to all the relevant linking parameters."
   ]
  },
  {
   "cell_type": "code",
   "execution_count": 6,
   "metadata": {},
   "outputs": [
    {
     "name": "stdout",
     "output_type": "stream",
     "text": [
      "Parameter: mass@primary@component\n",
      "                       Qualifier: mass\n",
      "                     Description: Mass\n",
      "                           Value: 0.9988131358058302 solMass\n",
      "                  Constrained by: sma@binary@component, period@binary@component, q@binary@component\n",
      "                      Constrains: logg@primary@component, mass@secondary@component\n",
      "                      Related to: requiv@primary@component, logg@primary@component, sma@binary@component, period@binary@component, q@binary@component, mass@secondary@component\n",
      "\n"
     ]
    }
   ],
   "source": [
    "print(b['mass@primary@component'])"
   ]
  },
  {
   "cell_type": "markdown",
   "metadata": {},
   "source": [
    "If you change the hierarchy, built-in cross-object constraints (like mass\n",
    "that depends on its parent orbit), will be adjusted to reflect the new hierarchy.  See [Advanced: Constraints and Changing Hierarchices](constraints_hierarchies.ipynb) for more details."
   ]
  },
  {
   "cell_type": "markdown",
   "metadata": {},
   "source": [
    "Re-Parameterizing or \"Flipping\" Constraints\n",
    "----------------------------\n",
    "\n",
    "**NOTE:** when re-parameterizing, please be careful and make sure all results and parameters make sense.\n",
    "\n",
    "As we've just seen, the mass is a constrained (ie. derived) parameter.  But\n",
    "let's say that we would rather provide masses for some reason (perhaps\n",
    "that was what was provided in a paper).  We can choose to provide mass\n",
    "and instead have one of its related parameters constrained by calling [b.flip_constraint](../api/phoebe.frontend.bundle.Bundle.flip_constraint.md)."
   ]
  },
  {
   "cell_type": "code",
   "execution_count": 7,
   "metadata": {},
   "outputs": [
    {
     "name": "stdout",
     "output_type": "stream",
     "text": [
      "[<Parameter: sma=5.3 solRad | keys: description, value, quantity, default_unit, limits, visible_if, copy_for, readonly, advanced>, <Parameter: period=1.0 d | keys: description, value, quantity, default_unit, limits, visible_if, copy_for, readonly, advanced>, <Parameter: q=1.0 | keys: description, value, quantity, default_unit, limits, visible_if, copy_for, readonly, advanced>]\n"
     ]
    }
   ],
   "source": [
    "print(b['mass@primary@component'].constrained_by)"
   ]
  },
  {
   "cell_type": "code",
   "execution_count": 8,
   "metadata": {},
   "outputs": [
    {
     "name": "stdout",
     "output_type": "stream",
     "text": [
      "0.9988131358058302 0.9988131358058302 1.0\n"
     ]
    }
   ],
   "source": [
    "print(b['value@mass@primary@component'], b['value@mass@secondary@component'], b['value@period@orbit@component'])"
   ]
  },
  {
   "cell_type": "code",
   "execution_count": 9,
   "metadata": {},
   "outputs": [
    {
     "data": {
      "text/plain": [
       "<ConstraintParameter: {period@binary@component} = ((39.478418 * ({sma@binary@component} ** 3.000000)) / (({mass@primary@component} * (1.000000 + {q@binary@component})) * 2942.206217504418873431859537959099)) ** (1./2) (solar units) => 1.0 d>"
      ]
     },
     "execution_count": 9,
     "metadata": {},
     "output_type": "execute_result"
    }
   ],
   "source": [
    "b.flip_constraint('mass@primary', solve_for='period')"
   ]
  },
  {
   "cell_type": "code",
   "execution_count": 10,
   "metadata": {},
   "outputs": [],
   "source": [
    "b['mass@primary@component'] = 1.0"
   ]
  },
  {
   "cell_type": "code",
   "execution_count": 11,
   "metadata": {},
   "outputs": [
    {
     "name": "stdout",
     "output_type": "stream",
     "text": [
      "1.0 1.0000000000000002 0.9994063917175185\n"
     ]
    }
   ],
   "source": [
    "print(b['value@mass@primary@component'], b['value@mass@secondary@component'], b['value@period@orbit@component'])"
   ]
  },
  {
   "cell_type": "markdown",
   "metadata": {},
   "source": [
    "You'll see that when we set the primary mass, the secondary mass has also changed (because the masses are related through q) and the period has changed (based on resolving the Kepler's third law constraint).\n",
    "\n",
    "Note that the tags for the constraint are based on those of the *constrained* parameter, so to switch the parameterization back, we'll have to use a slightly different twig."
   ]
  },
  {
   "cell_type": "code",
   "execution_count": 12,
   "metadata": {},
   "outputs": [
    {
     "name": "stdout",
     "output_type": "stream",
     "text": [
      "ParameterSet: 26 parameters\n",
      "                   ebv@constraint: {Av@system} / {Rv@system}\n",
      "          freq@primary@constraint: 6.283185 / {period@primary@component}\n",
      "          logg@primary@constraint: log10((({mass@primary@component} / ({requiv@primary@component} ** 2.000000)) * 0.000000000066740800000000003352) * 100.000000)\n",
      "   irrad_frac_lost_bol@primary...: 1.000000 - {irrad_frac_refl_bol@primary@component}\n",
      "        freq@secondary@constraint: 6.283185 / {period@secondary@component}\n",
      "        logg@secondary@constraint: log10((({mass@secondary@component} / ({requiv@secondary@component} ** 2.000000)) * 0.000000000066740800000000003352) * 100.000000)\n",
      "   irrad_frac_lost_bol@seconda...: 1.000000 - {irrad_frac_refl_bol@secondary@component}\n",
      "                 asini@constraint: {sma@binary@component} * (sin({incl@binary@component}))\n",
      "            t0_perpass@constraint: t0_supconj_to_perpass({t0_supconj@binary@component}, {period@binary@component}, {ecc@binary@component}, {per0@binary@component}, {dpdt@binary@component}, {dperdt@binary@component}, {t0@system})\n",
      "                t0_ref@constraint: t0_supconj_to_ref({t0_supconj@binary@component}, {period@binary@component}, {ecc@binary@component}, {per0@binary@component}, {dpdt@binary@component}, {dperdt@binary@component}, {t0@system})\n",
      "             mean_anom@constraint: (6.283185 * ({t0@system} - {t0_perpass@binary@component})) / {period@binary@component}\n",
      "                 ecosw@constraint: {ecc@binary@component} * (cos({per0@binary@component}))\n",
      "                 esinw@constraint: {ecc@binary@component} * (sin({per0@binary@component}))\n",
      "           freq@binary@constraint: 6.283185 / {period@binary@component}\n",
      "         period@binary@constraint: ((39.478418 * ({sma@binary@component} ** 3.000000)) / (({mass@primary@component} * (1.000000 + {q@binary@component})) * 2942.206217504418873431859537959099)) ** (1./2)\n",
      "           sma@primary@constraint: {sma@binary@component} / (1.000000 + (1.000000 / {q@binary@component}))\n",
      "        period@primary@constraint: {period@binary@component} / {syncpar@primary@component}\n",
      "          incl@primary@constraint: {incl@binary@component} + {pitch@primary@component}\n",
      "       long_an@primary@constraint: {long_an@binary@component} + {yaw@primary@component}\n",
      "    requiv_max@primary@constraint: requiv_L1({q@binary@component}, {syncpar@primary@component}, {ecc@binary@component}, {sma@binary@component}, {incl@primary@component}, {long_an@primary@component}, {incl@binary@component}, {long_an@binary@component}, 1)\n",
      "                  mass@constraint: (39.478418 * ({sma@binary@component} ** 3.000000)) / ((({period@binary@component} ** 2.000000) * (1.000000 + (1.000000 / {q@binary@component}))) * 2942.206217504418873431859537959099)\n",
      "         sma@secondary@constraint: {sma@binary@component} / (1.000000 + {q@binary@component})\n",
      "      period@secondary@constraint: {period@binary@component} / {syncpar@secondary@component}\n",
      "        incl@secondary@constraint: {incl@binary@component} + {pitch@secondary@component}\n",
      "     long_an@secondary@constraint: {long_an@binary@component} + {yaw@secondary@component}\n",
      "   requiv_max@secondary@constr...: requiv_L1({q@binary@component}, {syncpar@secondary@component}, {ecc@binary@component}, {sma@binary@component}, {incl@secondary@component}, {long_an@secondary@component}, {incl@binary@component}, {long_an@binary@component}, 2)\n"
     ]
    }
   ],
   "source": [
    "print(b['constraint'])"
   ]
  },
  {
   "cell_type": "code",
   "execution_count": 13,
   "metadata": {},
   "outputs": [
    {
     "data": {
      "text/plain": [
       "<ConstraintParameter: {period@binary@component} = ((39.478418 * ({sma@binary@component} ** 3.000000)) / (({mass@primary@component} * (1.000000 + {q@binary@component})) * 2942.206217504418873431859537959099)) ** (1./2) (solar units) => 0.9994063917175185 d>"
      ]
     },
     "execution_count": 13,
     "metadata": {},
     "output_type": "execute_result"
    }
   ],
   "source": [
    "b['period@constraint@binary']"
   ]
  },
  {
   "cell_type": "code",
   "execution_count": 14,
   "metadata": {},
   "outputs": [
    {
     "data": {
      "text/plain": [
       "OrderedDict([('time', None),\n",
       "             ('qualifier', 'period'),\n",
       "             ('history', None),\n",
       "             ('feature', None),\n",
       "             ('component', 'binary'),\n",
       "             ('dataset', None),\n",
       "             ('constraint', None),\n",
       "             ('distribution', None),\n",
       "             ('compute', None),\n",
       "             ('model', None),\n",
       "             ('solver', None),\n",
       "             ('solution', None),\n",
       "             ('figure', None),\n",
       "             ('kind', 'orbit'),\n",
       "             ('context', 'constraint'),\n",
       "             ('twig', 'period@binary@orbit@constraint'),\n",
       "             ('uniquetwig', 'period@binary@constraint')])"
      ]
     },
     "execution_count": 14,
     "metadata": {},
     "output_type": "execute_result"
    }
   ],
   "source": [
    "b['period@constraint@binary'].meta"
   ]
  },
  {
   "cell_type": "markdown",
   "metadata": {},
   "source": [
    "Notice that the qualifier tag has changed from 'mass' to 'period' and the 'component' tag has changed from 'primary' to 'binary' (since sma is in the binary)."
   ]
  },
  {
   "cell_type": "markdown",
   "metadata": {
    "collapsed": true
   },
   "source": [
    "Next\n",
    "----------\n",
    "\n",
    "Next up: let's add a [dataset](datasets.ipynb) to our Bundle.\n",
    "\n",
    "Or look at any of the advanced constraints topics:\n",
    "* [Advanced: Built-In Constraints](constraints_builtin.ipynb)\n",
    "* [Advanced: Constraints and Changing Hierarchices](constraints_hierarchies.ipynb)"
   ]
  }
 ],
 "metadata": {
  "kernelspec": {
   "display_name": "Python 3",
   "language": "python",
   "name": "python3"
  },
  "language_info": {
   "codemirror_mode": {
    "name": "ipython",
    "version": 3
   },
   "file_extension": ".py",
   "mimetype": "text/x-python",
   "name": "python",
   "nbconvert_exporter": "python",
   "pygments_lexer": "ipython3",
   "version": "3.7.5"
  }
 },
 "nbformat": 4,
 "nbformat_minor": 1
}
