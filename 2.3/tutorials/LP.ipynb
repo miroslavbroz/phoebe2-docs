{
 "cells": [
  {
   "cell_type": "markdown",
   "metadata": {},
   "source": [
    "'lp' (Line Profile) Datasets and Options\n",
    "============================\n",
    "\n",
    "Setup\n",
    "-----------------------------"
   ]
  },
  {
   "cell_type": "markdown",
   "metadata": {},
   "source": [
    "Let's first make sure we have the latest version of PHOEBE 2.3 installed (uncomment this line if running in an online notebook session such as colab)."
   ]
  },
  {
   "cell_type": "code",
   "execution_count": 1,
   "metadata": {},
   "outputs": [],
   "source": [
    "#!pip install -I \"phoebe>=2.3,<2.4\""
   ]
  },
  {
   "cell_type": "markdown",
   "metadata": {
    "collapsed": true
   },
   "source": [
    "As always, let's do imports and initialize a logger and a new Bundle."
   ]
  },
  {
   "cell_type": "code",
   "execution_count": 2,
   "metadata": {},
   "outputs": [],
   "source": [
    "import phoebe\n",
    "\n",
    "logger = phoebe.logger()\n",
    "\n",
    "b = phoebe.default_binary()"
   ]
  },
  {
   "cell_type": "markdown",
   "metadata": {
    "collapsed": true
   },
   "source": [
    "Dataset Parameters\n",
    "--------------------------"
   ]
  },
  {
   "cell_type": "markdown",
   "metadata": {},
   "source": [
    "Line profiles have an extra dimension than [LC](LC.ipynb) and [RV](RV.ipynb) datasets which have times as their independent variable.  For that reason, the parameters in the LP dataset are tagged with individual times instead of having a separate times array.  This allows the flux_densities and sigmas to be per-time.  Because of this, `times` is not a parameter, but instead **must** be passed when you call [b.add_dataset](../api/phoebe.frontend.bundle.Bundle.add_dataset.md) if you want to attach actual line-profile data (`flux_densities`) to your dataset.  At that point, in order to change the times you would need to remove and re-add the dataset.  If you only want to compute synthetic line profiles, use `compute_times` or `compute_phases` instead.\n",
    "\n",
    "Let's add a line profile dataset to the Bundle (see also the [lp API docs](../api/phoebe.parameters.dataset.lp.md)).  Some parameters are only visible based on the values of other parameters, so we'll pass `check_visible=False` (see the [filter API docs](../api/phoebe.parameters.ParameterSet.filter.md) for more details).  These visibility rules will be explained below."
   ]
  },
  {
   "cell_type": "code",
   "execution_count": 3,
   "metadata": {},
   "outputs": [
    {
     "name": "stdout",
     "output_type": "stream",
     "text": [
      "ParameterSet: 47 parameters\n",
      "       compute_times@lp01@dataset: [] d\n",
      "C     compute_phases@lp01@dataset: []\n",
      "           phases_t0@lp01@dataset: t0_supconj\n",
      "        solver_times@lp01@dataset: auto\n",
      "        profile_func@lp01@dataset: gaussian\n",
      "        profile_rest@lp01@dataset: 550.0 nm\n",
      "          profile_sv@lp01@dataset: 0.0001\n",
      "            passband@lp01@dataset: Johnson:V\n",
      "    intens_weighting@lp01@dataset: energy\n",
      "   wavelengths@primary@lp01@da...: [] nm\n",
      "   wavelengths@secondary@lp01@...: [] nm\n",
      "   wavelengths@binary@lp01@dat...: [549.   549.02 549.04 ... 550.96 550.98\n",
      " 551.  ] nm\n",
      "   00.000000@flux_densities@pr...: [] W / (m2 nm)\n",
      "   00.000000@flux_densities@se...: [] W / (m2 nm)\n",
      "   00.000000@flux_densities@bi...: [] W / (m2 nm)\n",
      "   00.000000@sigmas@primary@lp...: [] W / (m2 nm)\n",
      "   00.000000@sigmas@secondary@...: [] W / (m2 nm)\n",
      "   00.000000@sigmas@binary@lp0...: [] W / (m2 nm)\n",
      "   00.000000@sigmas_lnf@primar...: -inf\n",
      "   00.000000@sigmas_lnf@second...: -inf\n",
      "   00.000000@sigmas_lnf@binary...: -inf\n",
      "   01.000000@flux_densities@pr...: [] W / (m2 nm)\n",
      "   01.000000@flux_densities@se...: [] W / (m2 nm)\n",
      "   01.000000@flux_densities@bi...: [] W / (m2 nm)\n",
      "   01.000000@sigmas@primary@lp...: [] W / (m2 nm)\n",
      "   01.000000@sigmas@secondary@...: [] W / (m2 nm)\n",
      "   01.000000@sigmas@binary@lp0...: [] W / (m2 nm)\n",
      "   01.000000@sigmas_lnf@primar...: -inf\n",
      "   01.000000@sigmas_lnf@second...: -inf\n",
      "   01.000000@sigmas_lnf@binary...: -inf\n",
      "   02.000000@flux_densities@pr...: [] W / (m2 nm)\n",
      "   02.000000@flux_densities@se...: [] W / (m2 nm)\n",
      "   02.000000@flux_densities@bi...: [] W / (m2 nm)\n",
      "   02.000000@sigmas@primary@lp...: [] W / (m2 nm)\n",
      "   02.000000@sigmas@secondary@...: [] W / (m2 nm)\n",
      "   02.000000@sigmas@binary@lp0...: [] W / (m2 nm)\n",
      "   02.000000@sigmas_lnf@primar...: -inf\n",
      "   02.000000@sigmas_lnf@second...: -inf\n",
      "   02.000000@sigmas_lnf@binary...: -inf\n",
      "     ld_mode@primary@lp01@dataset: interp\n",
      "   ld_mode@secondary@lp01@dataset: interp\n",
      "     ld_func@primary@lp01@dataset: logarithmic\n",
      "   ld_func@secondary@lp01@dataset: logarithmic\n",
      "   ld_coeffs_source@primary@lp...: auto\n",
      "   ld_coeffs_source@secondary@...: auto\n",
      "   ld_coeffs@primary@lp01@dataset: [0.5 0.5]\n",
      "   ld_coeffs@secondary@lp01@da...: [0.5 0.5]\n"
     ]
    }
   ],
   "source": [
    "b.add_dataset('lp', times=[0,1,2], wavelengths=phoebe.linspace(549, 551, 101))\n",
    "print(b.get_dataset(kind='lp', check_visible=False))"
   ]
  },
  {
   "cell_type": "markdown",
   "metadata": {},
   "source": [
    "For information on the included passband-dependent parameters (not mentioned below), see the section on the [lc dataset](LC.ipynb)."
   ]
  },
  {
   "cell_type": "markdown",
   "metadata": {},
   "source": [
    "### times"
   ]
  },
  {
   "cell_type": "code",
   "execution_count": 4,
   "metadata": {},
   "outputs": [
    {
     "name": "stdout",
     "output_type": "stream",
     "text": [
      "['00.000000', '01.000000', '02.000000']\n"
     ]
    }
   ],
   "source": [
    "print(b.get_dataset(kind='lp').times)"
   ]
  },
  {
   "cell_type": "markdown",
   "metadata": {},
   "source": [
    "### compute_times / compute_phases\n",
    "\n",
    "See the [Compute Times & Phases tutorial](compute_times_phases.ipynb)."
   ]
  },
  {
   "cell_type": "code",
   "execution_count": 5,
   "metadata": {},
   "outputs": [
    {
     "name": "stdout",
     "output_type": "stream",
     "text": [
      "Parameter: compute_times@lp01@dataset\n",
      "                       Qualifier: compute_times\n",
      "                     Description: Times to use during run_compute.  If empty, will use times of individual entries.  Note that interpolation is not currently supported for lp datasets.\n",
      "                           Value: [] d\n",
      "                  Constrained by: \n",
      "                      Constrains: compute_phases@lp01@dataset\n",
      "                      Related to: period@binary@component, dpdt@binary@component, phases_t0@lp01@dataset, t0_supconj@binary@component, t0_perpass@binary@component, t0_ref@binary@component, compute_phases@lp01@dataset\n",
      "\n"
     ]
    }
   ],
   "source": [
    "print(b.get_parameter(qualifier='compute_times'))"
   ]
  },
  {
   "cell_type": "code",
   "execution_count": 6,
   "metadata": {},
   "outputs": [
    {
     "name": "stdout",
     "output_type": "stream",
     "text": [
      "Parameter: compute_phases@lp01@dataset\n",
      "                       Qualifier: compute_phases\n",
      "                     Description: Phases associated with compute_times.\n",
      "                           Value: []\n",
      "                  Constrained by: compute_times@lp01@dataset, period@binary@component, dpdt@binary@component, phases_t0@lp01@dataset, t0_supconj@binary@component, t0_perpass@binary@component, t0_ref@binary@component\n",
      "                      Constrains: None\n",
      "                      Related to: compute_times@lp01@dataset, period@binary@component, dpdt@binary@component, phases_t0@lp01@dataset, t0_supconj@binary@component, t0_perpass@binary@component, t0_ref@binary@component\n",
      "\n"
     ]
    }
   ],
   "source": [
    "print(b.get_parameter(qualifier='compute_phases', context='dataset'))"
   ]
  },
  {
   "cell_type": "code",
   "execution_count": 7,
   "metadata": {},
   "outputs": [
    {
     "name": "stdout",
     "output_type": "stream",
     "text": [
      "Parameter: phases_t0@lp01@dataset\n",
      "                       Qualifier: phases_t0\n",
      "                     Description: t0 to use when converting between compute_times and compute_phases as well as when applying mask_phases\n",
      "                           Value: t0_supconj\n",
      "                         Choices: t0_supconj, t0_perpass, t0_ref\n",
      "                  Constrained by: \n",
      "                      Constrains: compute_phases@lp01@dataset\n",
      "                      Related to: compute_times@lp01@dataset, period@binary@component, dpdt@binary@component, t0_supconj@binary@component, t0_perpass@binary@component, t0_ref@binary@component, compute_phases@lp01@dataset\n",
      "                 Only visible if: hierarchy.is_meshable:False\n",
      "\n"
     ]
    }
   ],
   "source": [
    "print(b.get_parameter(qualifier='phases_t0'))"
   ]
  },
  {
   "cell_type": "markdown",
   "metadata": {},
   "source": [
    "### wavelengths"
   ]
  },
  {
   "cell_type": "code",
   "execution_count": 8,
   "metadata": {},
   "outputs": [
    {
     "name": "stdout",
     "output_type": "stream",
     "text": [
      "ParameterSet: 3 parameters\n",
      "   wavelengths@primary@lp01@da...: [] nm\n",
      "   wavelengths@secondary@lp01@...: [] nm\n",
      "   wavelengths@binary@lp01@dat...: [549.   549.02 549.04 ... 550.96 550.98\n",
      " 551.  ] nm\n"
     ]
    }
   ],
   "source": [
    "print(b.filter(qualifier='wavelengths'))"
   ]
  },
  {
   "cell_type": "code",
   "execution_count": 9,
   "metadata": {},
   "outputs": [
    {
     "name": "stdout",
     "output_type": "stream",
     "text": [
      "Parameter: wavelengths@binary@lp01@dataset\n",
      "                       Qualifier: wavelengths\n",
      "                     Description: Wavelengths of the observations\n",
      "                           Value: <linspace start=549.0 stop=551.0 num=101 endpoint=True unit=nm>\n",
      "                  Constrained by: \n",
      "                      Constrains: None\n",
      "                      Related to: None\n",
      "\n"
     ]
    }
   ],
   "source": [
    "print(b.get_parameter(qualifier='wavelengths', component='binary'))"
   ]
  },
  {
   "cell_type": "markdown",
   "metadata": {},
   "source": [
    "### components"
   ]
  },
  {
   "cell_type": "markdown",
   "metadata": {},
   "source": [
    "Line profiles will be computed for each component in which the wavelengths are provided.  If we wanted to expose the line profile for the binary as a whole, we'd set the wavelenghts for `wavelengths@binary`.  If instead we wanted to expose per-star line profiles, we could set the wavelengths for both `wavelengths@primary` and `wavelengths@secondary`.\n",
    "\n",
    "If you're passing wavelengths to the [b.add_dataset](../api/phoebe.frontend.bundle.Bundle.add_dataset.md) call, it will default to filling the wavelengths at the *system-level*.  To override this, pass `components=['primary', 'secondary']`, as well.  For example: `b.add_dataset('lp', wavelengths=np.linspace(549,551,101), components=['primary', 'secondary'])`."
   ]
  },
  {
   "cell_type": "markdown",
   "metadata": {},
   "source": [
    "### flux_densities\n",
    "\n",
    "Note that observation `flux_densities` parameters are exposed per-time, according to the value of `times` passed to [add_dataset](../api/phoebe.frontend.bundle.Bundle.add_dataset.md).\n",
    "\n",
    "`flux_densities` parameters will be exposed in the model based on `compute_times`/`compute_phases` if not empty, otherwise according to `times`.  For more information, see the [Compute Times & Phases tutorial](compute_times_phases.ipynb)."
   ]
  },
  {
   "cell_type": "code",
   "execution_count": 10,
   "metadata": {},
   "outputs": [
    {
     "name": "stdout",
     "output_type": "stream",
     "text": [
      "ParameterSet: 3 parameters\n",
      "   00.000000@flux_densities@bi...: [] W / (m2 nm)\n",
      "   01.000000@flux_densities@bi...: [] W / (m2 nm)\n",
      "   02.000000@flux_densities@bi...: [] W / (m2 nm)\n"
     ]
    }
   ],
   "source": [
    "print(b.filter(qualifier='flux_densities'))"
   ]
  },
  {
   "cell_type": "code",
   "execution_count": 11,
   "metadata": {},
   "outputs": [
    {
     "name": "stdout",
     "output_type": "stream",
     "text": [
      "Parameter: 00.000000@flux_densities@binary@lp01@dataset\n",
      "                       Qualifier: flux_densities\n",
      "                     Description: Flux density per wavelength (must be same length as wavelengths or empty)\n",
      "                           Value: [] W / (m2 nm)\n",
      "                  Constrained by: \n",
      "                      Constrains: None\n",
      "                      Related to: None\n",
      "                 Only visible if: [time]wavelengths:<notempty>\n",
      "\n"
     ]
    }
   ],
   "source": [
    "print(b.get_parameter(qualifier='flux_densities', \n",
    "                      component='binary',\n",
    "                      time=0.0))"
   ]
  },
  {
   "cell_type": "markdown",
   "metadata": {},
   "source": [
    "### sigmas\n",
    "\n",
    "Note that, like `flux_densities`, `sigmas` parameters are exposed per-time, according to the value of `times` passed to [add_dataset](../api/phoebe.frontend.bundle.Bundle.add_dataset.md)."
   ]
  },
  {
   "cell_type": "code",
   "execution_count": 12,
   "metadata": {},
   "outputs": [
    {
     "name": "stdout",
     "output_type": "stream",
     "text": [
      "ParameterSet: 3 parameters\n",
      "   00.000000@sigmas@binary@lp0...: [] W / (m2 nm)\n",
      "   01.000000@sigmas@binary@lp0...: [] W / (m2 nm)\n",
      "   02.000000@sigmas@binary@lp0...: [] W / (m2 nm)\n"
     ]
    }
   ],
   "source": [
    "print(b.filter(qualifier='sigmas'))"
   ]
  },
  {
   "cell_type": "code",
   "execution_count": 13,
   "metadata": {},
   "outputs": [
    {
     "name": "stdout",
     "output_type": "stream",
     "text": [
      "Parameter: 00.000000@sigmas@binary@lp01@dataset\n",
      "                       Qualifier: sigmas\n",
      "                     Description: Observed uncertainty on flux_densities\n",
      "                           Value: [] W / (m2 nm)\n",
      "                  Constrained by: \n",
      "                      Constrains: None\n",
      "                      Related to: None\n",
      "                 Only visible if: [time]wavelengths:<notempty>\n",
      "\n"
     ]
    }
   ],
   "source": [
    "print(b.get_parameter(qualifier='sigmas', \n",
    "                      component='binary',\n",
    "                      time=0))"
   ]
  },
  {
   "cell_type": "markdown",
   "metadata": {},
   "source": [
    "### profile_func"
   ]
  },
  {
   "cell_type": "code",
   "execution_count": 14,
   "metadata": {},
   "outputs": [
    {
     "name": "stdout",
     "output_type": "stream",
     "text": [
      "Parameter: profile_func@lp01@dataset\n",
      "                       Qualifier: profile_func\n",
      "                     Description: Function to use for the rest line profile\n",
      "                           Value: gaussian\n",
      "                         Choices: gaussian, lorentzian\n",
      "                  Constrained by: \n",
      "                      Constrains: None\n",
      "                      Related to: None\n",
      "\n"
     ]
    }
   ],
   "source": [
    "print(b.get_parameter(qualifier='profile_func'))"
   ]
  },
  {
   "cell_type": "markdown",
   "metadata": {},
   "source": [
    "### profile_rest"
   ]
  },
  {
   "cell_type": "code",
   "execution_count": 15,
   "metadata": {},
   "outputs": [
    {
     "name": "stdout",
     "output_type": "stream",
     "text": [
      "Parameter: profile_rest@lp01@dataset\n",
      "                       Qualifier: profile_rest\n",
      "                     Description: Rest central wavelength of the profile\n",
      "                           Value: 550.0 nm\n",
      "                  Constrained by: \n",
      "                      Constrains: None\n",
      "                      Related to: None\n",
      "\n"
     ]
    }
   ],
   "source": [
    "print(b.get_parameter(qualifier='profile_rest'))"
   ]
  },
  {
   "cell_type": "markdown",
   "metadata": {},
   "source": [
    "### profile_sv"
   ]
  },
  {
   "cell_type": "code",
   "execution_count": 16,
   "metadata": {},
   "outputs": [
    {
     "name": "stdout",
     "output_type": "stream",
     "text": [
      "Parameter: profile_sv@lp01@dataset\n",
      "                       Qualifier: profile_sv\n",
      "                     Description: Subsidiary value of the profile\n",
      "                           Value: 0.0001\n",
      "                  Constrained by: \n",
      "                      Constrains: None\n",
      "                      Related to: None\n",
      "\n"
     ]
    }
   ],
   "source": [
    "print(b.get_parameter(qualifier='profile_sv'))"
   ]
  },
  {
   "cell_type": "markdown",
   "metadata": {},
   "source": [
    "Synthetics\n",
    "------------------"
   ]
  },
  {
   "cell_type": "code",
   "execution_count": 17,
   "metadata": {},
   "outputs": [
    {
     "name": "stderr",
     "output_type": "stream",
     "text": [
      "100%|██████████| 3/3 [00:00<00:00, 18.36it/s]\n"
     ]
    },
    {
     "data": {
      "text/plain": [
       "<ParameterSet: 5 parameters | qualifiers: comments, flux_densities, wavelengths>"
      ]
     },
     "execution_count": 17,
     "metadata": {},
     "output_type": "execute_result"
    }
   ],
   "source": [
    "b.run_compute(irrad_method='none')"
   ]
  },
  {
   "cell_type": "code",
   "execution_count": 18,
   "metadata": {},
   "outputs": [
    {
     "name": "stdout",
     "output_type": "stream",
     "text": [
      "['wavelengths@binary@lp01@phoebe01@latest@lp@model', '00.000000@flux_densities@binary@lp01@phoebe01@latest@lp@model', '01.000000@flux_densities@binary@lp01@phoebe01@latest@lp@model', '02.000000@flux_densities@binary@lp01@phoebe01@latest@lp@model', 'comments@phoebe01@latest@model']\n"
     ]
    }
   ],
   "source": [
    "print(b.filter(context='model').twigs)"
   ]
  },
  {
   "cell_type": "markdown",
   "metadata": {},
   "source": [
    "The model for a line profile dataset will expose flux-densities at each time and for each component where the corresponding wavelengths Parameter was not empty.  Here since we used the default and exposed line-profiles for the entire system, we have a single entry per-time."
   ]
  },
  {
   "cell_type": "code",
   "execution_count": 19,
   "metadata": {},
   "outputs": [
    {
     "name": "stdout",
     "output_type": "stream",
     "text": [
      "ParameterSet: 3 parameters\n",
      "R  00.000000@flux_densities@la...: [1. 1. 1. ... 1. 1. 1.] W / (m2 nm)\n",
      "R  01.000000@flux_densities@la...: [1. 1. 1. ... 1. 1. 1.] W / (m2 nm)\n",
      "R  02.000000@flux_densities@la...: [1. 1. 1. ... 1. 1. 1.] W / (m2 nm)\n"
     ]
    }
   ],
   "source": [
    "print(b.filter(qualifier='flux_densities', context='model'))"
   ]
  },
  {
   "cell_type": "code",
   "execution_count": 20,
   "metadata": {},
   "outputs": [
    {
     "name": "stdout",
     "output_type": "stream",
     "text": [
      "Parameter: 00.000000@flux_densities@latest@model\n",
      "                       Qualifier: flux_densities\n",
      "                     Description: Flux density per wavelength (must be same length as wavelengths or empty)\n",
      "                           Value: [1. 1. 1. ... 1. 1. 1.] W / (m2 nm)\n",
      "                  Constrained by: \n",
      "                      Constrains: None\n",
      "                      Related to: None\n",
      "                 Only visible if: [time]wavelengths:<notempty>\n",
      "\n"
     ]
    }
   ],
   "source": [
    "print(b.get_parameter(qualifier='flux_densities', context='model', time=0))"
   ]
  },
  {
   "cell_type": "markdown",
   "metadata": {},
   "source": [
    "Plotting\n",
    "---------------\n",
    "\n",
    "By default, LP datasets plot as 'flux_densities' vs 'wavelengths' for a **single time**."
   ]
  },
  {
   "cell_type": "code",
   "execution_count": 21,
   "metadata": {},
   "outputs": [
    {
     "data": {
      "image/png": "[encoded data removed]",
      "text/plain": [
       "<Figure size 576x432 with 1 Axes>"
      ]
     },
     "metadata": {
      "needs_background": "light"
     },
     "output_type": "display_data"
    }
   ],
   "source": [
    "afig, mplfig = b.filter(dataset='lp01', context='model', time=0).plot(show=True)"
   ]
  },
  {
   "cell_type": "markdown",
   "metadata": {},
   "source": [
    "Mesh Fields\n",
    "---------------------\n",
    "\n",
    "Let's add a single mesh and see which columns from the line profile dataset are available to expose as a column in the mesh."
   ]
  },
  {
   "cell_type": "code",
   "execution_count": 22,
   "metadata": {},
   "outputs": [
    {
     "name": "stderr",
     "output_type": "stream",
     "text": [
      "Thu, 17 Sep 2020 11:07 BUNDLE       WARNING mesh dataset uses 'compute_times' instead of 'times', applying value sent as 'times' to 'compute_times'.\n"
     ]
    },
    {
     "data": {
      "text/plain": [
       "<ParameterSet: 83 parameters | contexts: compute, constraint, figure, dataset>"
      ]
     },
     "execution_count": 22,
     "metadata": {},
     "output_type": "execute_result"
    }
   ],
   "source": [
    "b.add_dataset('mesh', times=[0], dataset='mesh01')"
   ]
  },
  {
   "cell_type": "code",
   "execution_count": 23,
   "metadata": {},
   "outputs": [
    {
     "name": "stdout",
     "output_type": "stream",
     "text": [
      "['volume', 'xs', 'ys', 'zs', 'vxs', 'vys', 'vzs', 'nxs', 'nys', 'nzs', 'us', 'vs', 'ws', 'vus', 'vvs', 'vws', 'nus', 'nvs', 'nws', 'areas', 'loggs', 'teffs', 'rprojs', 'mus', 'visibilities', 'visible_centroids', 'rs', 'abs_intensities@lp01', 'abs_normal_intensities@lp01', 'boost_factors@lp01', 'ldint@lp01', 'abs_pblum_ext@lp01', 'ptfarea@lp01', 'rvs@lp01']\n"
     ]
    }
   ],
   "source": [
    "print(b.get_parameter(qualifier='columns').choices)"
   ]
  },
  {
   "cell_type": "markdown",
   "metadata": {},
   "source": [
    "Since line profiles are passband-dependent, we get all passband-dependent mesh quantities (except relative intensities/luminosities that would require pblum scaling) as options (see [LC](LC.ipynb) for details).  Additionally, we get `rvs@lp01`, which under-the-hood is being used to determine the doppler shift of the line profile per-element and then summed over the star (see [RV](RV.ipynb) for details).  To avoid large amounts of data being stored in the mesh with an extra dimension, the per-element line profiles are never stored, and therefore not able to be exposed to the user."
   ]
  }
 ],
 "metadata": {
  "kernelspec": {
   "display_name": "Python 3",
   "language": "python",
   "name": "python3"
  },
  "language_info": {
   "codemirror_mode": {
    "name": "ipython",
    "version": 3
   },
   "file_extension": ".py",
   "mimetype": "text/x-python",
   "name": "python",
   "nbconvert_exporter": "python",
   "pygments_lexer": "ipython3",
   "version": "3.8.2"
  }
 },
 "nbformat": 4,
 "nbformat_minor": 1
}
