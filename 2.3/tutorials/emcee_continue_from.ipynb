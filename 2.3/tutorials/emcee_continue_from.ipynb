{
 "cells": [
  {
   "cell_type": "markdown",
   "metadata": {},
   "source": [
    "# Advanced: Continuing Emcee from a Previous Run\n",
    "\n",
    "**NOTE**: support for `continue_from` was fixed in PHOEBE 2.3.11.  Earlier version may raise an error while running this notebook."
   ]
  },
  {
   "cell_type": "markdown",
   "metadata": {},
   "source": [
    "## Setup\n",
    "\n",
    "Let's first make sure we have the latest version of PHOEBE 2.3 installed (uncomment this line if running in an online notebook session such as colab)."
   ]
  },
  {
   "cell_type": "code",
   "execution_count": 1,
   "metadata": {},
   "outputs": [],
   "source": [
    "#!pip install -I \"phoebe>=2.3,<2.4\""
   ]
  },
  {
   "cell_type": "code",
   "execution_count": 2,
   "metadata": {},
   "outputs": [],
   "source": [
    "import phoebe\n",
    "from phoebe import u # units\n",
    "import numpy as np\n",
    "\n",
    "logger = phoebe.logger('error')"
   ]
  },
  {
   "cell_type": "markdown",
   "metadata": {},
   "source": [
    "We'll then start with the bundle from the end of the [emcee tutorial](./emcee.ipynb).  If you're running this notebook locally, you will need to run that first to create the `emcee_advanced_tutorials.bundle` file that we will use here."
   ]
  },
  {
   "cell_type": "code",
   "execution_count": 3,
   "metadata": {},
   "outputs": [],
   "source": [
    "b = phoebe.load('emcee_advanced_tutorials.bundle')"
   ]
  },
  {
   "cell_type": "markdown",
   "metadata": {},
   "source": [
    "## continue_from parameter\n",
    "\n",
    "Once we have an existing solution(s) in the bundle that used emcee, the `continue_from` parameter (in the emcee solver) will have those available as valid options."
   ]
  },
  {
   "cell_type": "code",
   "execution_count": 4,
   "metadata": {},
   "outputs": [
    {
     "name": "stdout",
     "output_type": "stream",
     "text": [
      "['emcee_solver'] ['emcee_sol']\n"
     ]
    }
   ],
   "source": [
    "print(b.solvers, b.solutions)"
   ]
  },
  {
   "cell_type": "code",
   "execution_count": 5,
   "metadata": {},
   "outputs": [
    {
     "name": "stdout",
     "output_type": "stream",
     "text": [
      "ParameterSet: 12 parameters\n",
      "     comments@emcee_solver@solver: \n",
      "      compute@emcee_solver@solver: fastcompute\n",
      "   continue_from@emcee_solver@...: None\n",
      "    init_from@emcee_solver@solver: ['ball_around_guess']\n",
      "   init_from_combine@emcee_sol...: first\n",
      "       priors@emcee_solver@solver: []\n",
      "     nwalkers@emcee_solver@solver: 12\n",
      "       niters@emcee_solver@solver: 250\n",
      "   burnin_factor@emcee_solver@...: 2.0\n",
      "   thin_factor@emcee_solver@so...: 0.5\n",
      "   progress_every_niters@emcee...: 0\n",
      "   expose_failed@emcee_solver@...: True\n"
     ]
    }
   ],
   "source": [
    "print(b.filter(solver='emcee_solver', context='solver'))"
   ]
  },
  {
   "cell_type": "code",
   "execution_count": 6,
   "metadata": {},
   "outputs": [
    {
     "name": "stdout",
     "output_type": "stream",
     "text": [
      "Parameter: continue_from@emcee_solver@solver\n",
      "                       Qualifier: continue_from\n",
      "                     Description: continue the MCMC run from an existing emcee solution.  Chains will be appended to existing chains (so it is safe to overwrite the existing solution).  If None, will start a new run using init_from.\n",
      "                           Value: None\n",
      "                         Choices: None, emcee_sol\n",
      "                  Constrained by: \n",
      "                      Constrains: None\n",
      "                      Related to: None\n",
      "\n"
     ]
    }
   ],
   "source": [
    "print(b.get_parameter(qualifier='continue_from', solver='emcee_solver'))"
   ]
  },
  {
   "cell_type": "markdown",
   "metadata": {},
   "source": [
    "By setting this to the existing solution, we will know longer have options for `nwalkers`, `init_from`, or `init_from_combine`.  Instead, the new run will use the same number of walkers as the previous run (to change the number of walkers, [resample emcee from a previous run](./emcee_resampling.ipynb) instead) and will continue with the parameters exactly where the left-off in the latest iteration."
   ]
  },
  {
   "cell_type": "code",
   "execution_count": 7,
   "metadata": {},
   "outputs": [],
   "source": [
    "b.set_value('continue_from', 'emcee_sol')"
   ]
  },
  {
   "cell_type": "code",
   "execution_count": 8,
   "metadata": {},
   "outputs": [
    {
     "name": "stdout",
     "output_type": "stream",
     "text": [
      "ParameterSet: 8 parameters\n",
      "     comments@emcee_solver@solver: \n",
      "      compute@emcee_solver@solver: fastcompute\n",
      "   continue_from@emcee_solver@...: emcee_sol\n",
      "       priors@emcee_solver@solver: []\n",
      "       niters@emcee_solver@solver: 250\n",
      "   burnin_factor@emcee_solver@...: 2.0\n",
      "   thin_factor@emcee_solver@so...: 0.5\n",
      "   progress_every_niters@emcee...: 0\n"
     ]
    }
   ],
   "source": [
    "print(b.filter(solver='emcee_solver', context='solver'))"
   ]
  },
  {
   "cell_type": "markdown",
   "metadata": {},
   "source": [
    "Note that `niters` now defines the number of **additional iterations**."
   ]
  },
  {
   "cell_type": "code",
   "execution_count": 9,
   "metadata": {},
   "outputs": [],
   "source": [
    "b.set_value('niters', solver='emcee_solver', context='solver', value=50)"
   ]
  },
  {
   "cell_type": "markdown",
   "metadata": {},
   "source": [
    "## run_solver"
   ]
  },
  {
   "cell_type": "code",
   "execution_count": 10,
   "metadata": {},
   "outputs": [
    {
     "name": "stderr",
     "output_type": "stream",
     "text": [
      "  2%|▏         | 1/50 [00:02<02:07,  2.60s/it]/home/kyle/.local/lib/python3.8/site-packages/phoebe/parameters/parameters.py:3729: RuntimeWarning: overflow encountered in exp\n",
      "  sigmas2 += model_interp.value ** 2 * np.exp(2 * sigmas_lnf)\n",
      "/home/kyle/.local/lib/python3.8/site-packages/phoebe/parameters/parameters.py:3729: RuntimeWarning: overflow encountered in exp\n",
      "  sigmas2 += model_interp.value ** 2 * np.exp(2 * sigmas_lnf)\n",
      "  4%|▍         | 2/50 [00:05<02:11,  2.74s/it]/home/kyle/.local/lib/python3.8/site-packages/phoebe/parameters/parameters.py:3729: RuntimeWarning: overflow encountered in exp\n",
      "  sigmas2 += model_interp.value ** 2 * np.exp(2 * sigmas_lnf)\n",
      "  8%|▊         | 4/50 [00:11<02:11,  2.86s/it]/home/kyle/.local/lib/python3.8/site-packages/phoebe/parameters/parameters.py:3729: RuntimeWarning: overflow encountered in exp\n",
      "  sigmas2 += model_interp.value ** 2 * np.exp(2 * sigmas_lnf)\n",
      "/home/kyle/.local/lib/python3.8/site-packages/phoebe/parameters/parameters.py:3729: RuntimeWarning: overflow encountered in exp\n",
      "  sigmas2 += model_interp.value ** 2 * np.exp(2 * sigmas_lnf)\n",
      "/home/kyle/.local/lib/python3.8/site-packages/phoebe/parameters/parameters.py:3729: RuntimeWarning: overflow encountered in exp\n",
      "  sigmas2 += model_interp.value ** 2 * np.exp(2 * sigmas_lnf)\n",
      " 16%|█▌        | 8/50 [00:22<01:59,  2.85s/it]/home/kyle/.local/lib/python3.8/site-packages/phoebe/parameters/parameters.py:3729: RuntimeWarning: overflow encountered in exp\n",
      "  sigmas2 += model_interp.value ** 2 * np.exp(2 * sigmas_lnf)\n",
      " 22%|██▏       | 11/50 [00:32<01:55,  2.97s/it]/home/kyle/.local/lib/python3.8/site-packages/phoebe/parameters/parameters.py:3729: RuntimeWarning: overflow encountered in exp\n",
      "  sigmas2 += model_interp.value ** 2 * np.exp(2 * sigmas_lnf)\n",
      "100%|██████████| 50/50 [02:18<00:00,  2.78s/it]\n"
     ]
    },
    {
     "data": {
      "text/plain": [
       "<ParameterSet: 20 parameters | qualifiers: burnin, nwalkers, comments, samples, fitted_uniqueids, adopt_distributions, adopt_values, niters, wrap_central_values, progress, acceptance_fractions, lnprob_cutoff, autocorr_times, fitted_units, adopt_parameters, distributions_convert, failed_samples, fitted_twigs, lnprobabilities, thin>"
      ]
     },
     "execution_count": 10,
     "metadata": {},
     "output_type": "execute_result"
    }
   ],
   "source": [
    "b.run_solver('emcee_solver', solution='emcee_sol_contd')"
   ]
  },
  {
   "cell_type": "markdown",
   "metadata": {},
   "source": [
    "To overwrite the existing solution, we could have passed `solution='emcee_sol', overwrite=True`."
   ]
  },
  {
   "cell_type": "markdown",
   "metadata": {},
   "source": [
    "## Solution\n",
    "\n",
    "Now if we look at the original and new solution, we can see that the chains have been extended by `niters` iterations."
   ]
  },
  {
   "cell_type": "code",
   "execution_count": 11,
   "metadata": {},
   "outputs": [
    {
     "name": "stdout",
     "output_type": "stream",
     "text": [
      "ParameterSet: 2 parameters\n",
      "R       niters@emcee_sol@solution: 250\n",
      "R  niters@emcee_sol_contd@solu...: 300\n"
     ]
    }
   ],
   "source": [
    "print(b.filter(qualifier='niters', context='solution'))"
   ]
  },
  {
   "cell_type": "code",
   "execution_count": 12,
   "metadata": {},
   "outputs": [
    {
     "data": {
      "image/png": "[encoded data removed]",
      "text/plain": [
       "<Figure size 576x432 with 1 Axes>"
      ]
     },
     "metadata": {
      "needs_background": "light"
     },
     "output_type": "display_data"
    }
   ],
   "source": [
    "_ = b.plot(solution='emcee_sol', style='lnprobability', burnin=0, thin=1, show=True)"
   ]
  },
  {
   "cell_type": "code",
   "execution_count": 13,
   "metadata": {},
   "outputs": [
    {
     "data": {
      "image/png": "[encoded data removed]",
      "text/plain": [
       "<Figure size 576x432 with 1 Axes>"
      ]
     },
     "metadata": {
      "needs_background": "light"
     },
     "output_type": "display_data"
    }
   ],
   "source": [
    "_ = b.plot(solution='emcee_sol_contd', style='lnprobability', burnin=0, thin=1, show=True)"
   ]
  },
  {
   "cell_type": "markdown",
   "metadata": {},
   "source": [
    "## See Also\n",
    "\n",
    "See the following for even more advanced use cases of emcee.\n",
    "\n",
    "* [Advanced: resampling emcee from a previous run](./emcee_resample.ipynb)"
   ]
  }
 ],
 "metadata": {
  "kernelspec": {
   "display_name": "Python 3",
   "language": "python",
   "name": "python3"
  },
  "language_info": {
   "codemirror_mode": {
    "name": "ipython",
    "version": 3
   },
   "file_extension": ".py",
   "mimetype": "text/x-python",
   "name": "python",
   "nbconvert_exporter": "python",
   "pygments_lexer": "ipython3",
   "version": "3.8.5"
  }
 },
 "nbformat": 4,
 "nbformat_minor": 4
}
