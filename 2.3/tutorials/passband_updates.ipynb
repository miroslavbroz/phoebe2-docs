{
 "cells": [
  {
   "cell_type": "markdown",
   "metadata": {},
   "source": [
    "Advanced: passband versioning & updates\n",
    "=============================="
   ]
  },
  {
   "cell_type": "markdown",
   "metadata": {},
   "source": [
    "Let's first make sure we have the latest version of PHOEBE 2.3 installed (uncomment this line if running in an online notebook session such as colab)."
   ]
  },
  {
   "cell_type": "code",
   "execution_count": 1,
   "metadata": {},
   "outputs": [],
   "source": [
    "#!pip install -I \"phoebe>=2.3,<2.4\""
   ]
  },
  {
   "cell_type": "markdown",
   "metadata": {},
   "source": [
    "PHOEBE allows you to check for online updates to local install passbands.  If we add a new atmosphere table or feature (extinction as in this release, for example) to a passband table, you can now update directly from the python interface of PHOEBE.\n",
    "\n",
    "If you try using extinction in a version of a table that does not support extinction, for example, an error will be raised (either during [run_compute](../api/phoebe.frontend.bundle.Bundle.run_compute.md) or you can check by calling [run_checks](../api/phoebe.frontend.bundle.Bundle.run_checks.md) manually).  If extinction tables are available in the online version of the passband (from [tables.phoebe-project.org](http://phoebe-project.org/tables)), then the local installed version will automatically be updated if the timestamps on the passbands match, otherwise a message will be raised with instructions to manually call [phoebe.update_passband](../api/update_passband.md).\n",
    "\n",
    "If you'd like to manually check for updates, you can use [phoebe.list_all_update_passbands_available](../api/list_all_update_passbands_available.md) or [phoebe.update_passband_available](../api/update_passband_available.md)."
   ]
  },
  {
   "cell_type": "code",
   "execution_count": 2,
   "metadata": {},
   "outputs": [
    {
     "name": "stdout",
     "output_type": "stream",
     "text": [
      "['Bolometric:900-40000', 'Johnson:R', 'Johnson:V', 'TESS:T']\n"
     ]
    }
   ],
   "source": [
    "import phoebe\n",
    "\n",
    "print(phoebe.list_installed_passbands())"
   ]
  },
  {
   "cell_type": "code",
   "execution_count": 3,
   "metadata": {},
   "outputs": [
    {
     "name": "stdout",
     "output_type": "stream",
     "text": [
      "[]\n"
     ]
    }
   ],
   "source": [
    "print(phoebe.list_all_update_passbands_available())"
   ]
  },
  {
   "cell_type": "code",
   "execution_count": 4,
   "metadata": {},
   "outputs": [
    {
     "name": "stdout",
     "output_type": "stream",
     "text": [
      "False\n"
     ]
    }
   ],
   "source": [
    "print(phoebe.update_passband_available('Johnson:V'))"
   ]
  },
  {
   "cell_type": "markdown",
   "metadata": {},
   "source": [
    "If there are updates available that you'd like to apply, you can apply them all via [phoebe.update_all_passbands](../api/update_all_passbands.md)"
   ]
  },
  {
   "cell_type": "code",
   "execution_count": 5,
   "metadata": {},
   "outputs": [],
   "source": [
    "phoebe.update_all_passbands()"
   ]
  },
  {
   "cell_type": "markdown",
   "metadata": {},
   "source": [
    "To update a single passband to the latest online version with the same contents as the locally installed version (or with new tables, see the `content` argument), call [phoebe.update_passband](../api/phoebe.update_passband.md).  "
   ]
  },
  {
   "cell_type": "code",
   "execution_count": 6,
   "metadata": {},
   "outputs": [],
   "source": [
    "phoebe.update_passband('Johnson:V')"
   ]
  },
  {
   "cell_type": "code",
   "execution_count": null,
   "metadata": {},
   "outputs": [],
   "source": []
  }
 ],
 "metadata": {
  "kernelspec": {
   "display_name": "Python 3",
   "language": "python",
   "name": "python3"
  },
  "language_info": {
   "codemirror_mode": {
    "name": "ipython",
    "version": 3
   },
   "file_extension": ".py",
   "mimetype": "text/x-python",
   "name": "python",
   "nbconvert_exporter": "python",
   "pygments_lexer": "ipython3",
   "version": "3.8.2"
  }
 },
 "nbformat": 4,
 "nbformat_minor": 2
}
