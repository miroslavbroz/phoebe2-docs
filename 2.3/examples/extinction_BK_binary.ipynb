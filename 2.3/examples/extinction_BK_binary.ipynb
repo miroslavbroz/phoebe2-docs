{
 "cells": [
  {
   "cell_type": "markdown",
   "metadata": {},
   "source": [
    "Extinction: B-K Binary\n",
    "============================\n",
    "\n",
    "In this example, we'll reproduce Figures 1 and 2 in the extinction release paper ([Jones et al. 2020](http://phoebe-project.org/publications/2020Jones+)).\n",
    "\n",
    "> \"Let us begin with a rather extreme case, a synthetic binary  comprised  of  a  hot,  B-type  main  sequence  star(M=6.5 Msol,Teff=17000  K,  and R=4.2 Rsol)  anda  cool  K-type  giant  (M=1.8 Msol,Teff=4000 K, and R=39.5 Rsol)vin a 1000 day orbit -- a  system  where, while the temperature difference is large, the luminosities are similar.\" ([Jones et al. 2020](http://phoebe-project.org/publications/2020Jones+))\n",
    "\n",
    "<img src=\"jones+20_fig1.png\" alt=\"Figure 1\" width=\"800px\"/>\n",
    "<img src=\"jones+20_fig2.png\" alt=\"Figure 2\" width=\"400px\"/>\n",
    "\n",
    "Setup\n",
    "-----------------------------"
   ]
  },
  {
   "cell_type": "markdown",
   "metadata": {},
   "source": [
    "Let's first make sure we have the latest version of PHOEBE 2.3 installed (uncomment this line if running in an online notebook session such as colab)."
   ]
  },
  {
   "cell_type": "code",
   "execution_count": null,
   "metadata": {},
   "outputs": [],
   "source": [
    "#!pip install -I \"phoebe>=2.3,<2.4\""
   ]
  },
  {
   "cell_type": "markdown",
   "metadata": {
    "collapsed": true
   },
   "source": [
    "As always, let's do imports and initialize a logger and a new bundle. "
   ]
  },
  {
   "cell_type": "code",
   "execution_count": 1,
   "metadata": {},
   "outputs": [],
   "source": [
    "import matplotlib\n",
    "matplotlib.rcParams['text.usetex'] = True\n",
    "matplotlib.rcParams['pdf.fonttype'] = 42\n",
    "matplotlib.rcParams['ps.fonttype'] = 42\n",
    "matplotlib.rcParams['mathtext.fontset'] = 'stix'\n",
    "matplotlib.rcParams['font.family'] = 'STIXGeneral'\n",
    "from matplotlib import gridspec"
   ]
  },
  {
   "cell_type": "code",
   "execution_count": 2,
   "metadata": {},
   "outputs": [],
   "source": [
    "%matplotlib inline"
   ]
  },
  {
   "cell_type": "code",
   "execution_count": 3,
   "metadata": {},
   "outputs": [],
   "source": [
    "import phoebe\n",
    "from phoebe import u # units\n",
    "import numpy as np\n",
    "import matplotlib.pyplot as plt\n",
    "\n",
    "logger = phoebe.logger('error')\n",
    "\n",
    "b = phoebe.default_binary()"
   ]
  },
  {
   "cell_type": "markdown",
   "metadata": {},
   "source": [
    "First we'll define the system parameters"
   ]
  },
  {
   "cell_type": "code",
   "execution_count": 4,
   "metadata": {},
   "outputs": [],
   "source": [
    "b.set_value('period', component='binary', value=1000.0*u.d)\n",
    "b.set_value('teff', component='primary', value=17000*u.K)\n",
    "b.set_value('teff', component='secondary', value=4000*u.K)\n",
    "b.set_value('requiv', component='primary', value=4.22173036*u.solRad)\n",
    "b.set_value('requiv', component='secondary', value=40.732435*u.solRad)\n",
    "b.flip_constraint('mass@primary', solve_for='sma@binary')\n",
    "b.set_value('mass', component='primary', value=6.5*u.solMass)\n",
    "b.flip_constraint('mass@secondary', solve_for='q')\n",
    "b.set_value('mass', component='secondary', value=1.9145*u.solMass)"
   ]
  },
  {
   "cell_type": "markdown",
   "metadata": {},
   "source": [
    "And then create three light curve datasets at the same times, but in different passbands"
   ]
  },
  {
   "cell_type": "code",
   "execution_count": 5,
   "metadata": {},
   "outputs": [
    {
     "data": {
      "text/plain": [
       "<ParameterSet: 42 parameters | contexts: figure, compute, dataset, constraint>"
      ]
     },
     "execution_count": 5,
     "metadata": {},
     "output_type": "execute_result"
    }
   ],
   "source": [
    "times = phoebe.linspace(-20, 20, 101)\n",
    "b.add_dataset('lc', times=times, dataset='B', passband=\"Johnson:B\")\n",
    "b.add_dataset('lc', times=times, dataset='R', passband=\"Cousins:R\")\n",
    "b.add_dataset('lc', times=times, dataset='KEP', passband=\"Kepler:mean\")"
   ]
  },
  {
   "cell_type": "markdown",
   "metadata": {},
   "source": [
    "Now we'll set some atmosphere and limb-darkening options"
   ]
  },
  {
   "cell_type": "code",
   "execution_count": 6,
   "metadata": {},
   "outputs": [],
   "source": [
    "b.set_value_all('atm', 'ck2004')\n",
    "b.set_value_all('gravb_bol', 0.0)\n",
    "b.set_value_all('ld_mode_bol', 'manual')\n",
    "b.set_value_all('ld_func_bol', 'linear')\n",
    "b.set_value_all('ld_coeffs_bol', [0.0])"
   ]
  },
  {
   "cell_type": "markdown",
   "metadata": {},
   "source": [
    "And flip the extinction constraint so we can provide E(B-V)."
   ]
  },
  {
   "cell_type": "code",
   "execution_count": 7,
   "metadata": {},
   "outputs": [
    {
     "data": {
      "text/plain": [
       "<ConstraintParameter: {Av@system} = {Rv@system} * {Av@system} (solar units) => 0.0>"
      ]
     },
     "execution_count": 7,
     "metadata": {},
     "output_type": "execute_result"
    }
   ],
   "source": [
    "b.flip_constraint('ebv', solve_for='Av')"
   ]
  },
  {
   "cell_type": "markdown",
   "metadata": {},
   "source": [
    "For comparison, we'll run a model without extinction"
   ]
  },
  {
   "cell_type": "code",
   "execution_count": 9,
   "metadata": {},
   "outputs": [
    {
     "data": {
      "text/plain": [
       "<ParameterSet: 7 parameters | datasets: KEP, B, R>"
      ]
     },
     "execution_count": 9,
     "metadata": {},
     "output_type": "execute_result"
    }
   ],
   "source": [
    "b.set_value('ebv', 0.0)\n",
    "b.run_compute(distortion_method='rotstar', irrad_method='none', model='noext')"
   ]
  },
  {
   "cell_type": "markdown",
   "metadata": {},
   "source": [
    "and then another model with extinction"
   ]
  },
  {
   "cell_type": "code",
   "execution_count": 10,
   "metadata": {},
   "outputs": [
    {
     "data": {
      "text/plain": [
       "<ParameterSet: 7 parameters | datasets: KEP, B, R>"
      ]
     },
     "execution_count": 10,
     "metadata": {},
     "output_type": "execute_result"
    }
   ],
   "source": [
    "b.set_value('ebv', 1.0)\n",
    "b.run_compute(distortion_method='rotstar', irrad_method='none', model='ext')"
   ]
  },
  {
   "cell_type": "markdown",
   "metadata": {},
   "source": [
    "Lastly, we'll convert the model fluxes into magnitudes and format the figures."
   ]
  },
  {
   "cell_type": "code",
   "execution_count": 11,
   "metadata": {},
   "outputs": [],
   "source": [
    "Bextmags=-2.5*np.log10(b['value@fluxes@B@ext@model'])\n",
    "Bnoextmags=-2.5*np.log10(b['value@fluxes@B@noext@model'])\n",
    "Bextmags_norm=Bextmags-Bextmags.min()+1\n",
    "Bnoextmags_norm=Bnoextmags-Bnoextmags.min()+1\n",
    "Bresid=Bextmags_norm-Bnoextmags_norm\n",
    "\n",
    "Rextmags=-2.5*np.log10(b['value@fluxes@R@ext@model'])\n",
    "Rnoextmags=-2.5*np.log10(b['value@fluxes@R@noext@model'])\n",
    "Rextmags_norm=Rextmags-Rextmags.min()+1\n",
    "Rnoextmags_norm=Rnoextmags-Rnoextmags.min()+1\n",
    "Rresid=Rextmags_norm-Rnoextmags_norm"
   ]
  },
  {
   "cell_type": "code",
   "execution_count": 12,
   "metadata": {},
   "outputs": [
    {
     "data": {
      "image/png": "[encoded data removed]",
      "text/plain": [
       "<Figure size 864x432 with 4 Axes>"
      ]
     },
     "metadata": {
      "needs_background": "light"
     },
     "output_type": "display_data"
    }
   ],
   "source": [
    "fig=plt.figure(figsize=(12,6))\n",
    "gs=gridspec.GridSpec(2,2,height_ratios=[4,1],width_ratios=[1,1])\n",
    "\n",
    "ax=plt.subplot(gs[0,0])\n",
    "ax.plot(b['value@times@B@noext@model']/1000,Bnoextmags_norm,color='k',linestyle=\"--\")\n",
    "ax.plot(b['value@times@B@ext@model']/1000,Bextmags_norm,color='k',linestyle=\"-\")\n",
    "ax.set_ylabel('Magnitude')\n",
    "ax.set_xticklabels([])\n",
    "ax.set_xlim([-0.02,0.02])\n",
    "ax.set_ylim([3.5,0.8])\n",
    "ax.set_title('(a) Johnson B')\n",
    "\n",
    "ax2=plt.subplot(gs[0,1])\n",
    "ax2.plot(b['value@times@R@noext@model']/1000,Rnoextmags_norm,color='k',linestyle=\"--\")\n",
    "ax2.plot(b['value@times@R@ext@model']/1000,Rextmags_norm,color='k',linestyle=\"-\")\n",
    "ax2.set_ylabel('Magnitude')\n",
    "ax2.set_xticklabels([])\n",
    "ax2.set_xlim([-0.02,0.02])\n",
    "ax2.set_ylim([3.5,0.8])\n",
    "ax2.set_title('(b) Cousins Rc')\n",
    "\n",
    "ax_1=plt.subplot(gs[1,0])\n",
    "ax_1.plot(b['value@times@B@noext@model']/1000,Bresid,color='k',linestyle='-')\n",
    "ax_1.set_ylabel(r'$\\Delta m$')\n",
    "ax_1.set_xlabel('Phase')\n",
    "ax_1.set_xlim([-0.02,0.02])\n",
    "ax_1.set_ylim([0.05,-0.3])\n",
    "ax_1.axhline(y=0., linestyle='dashed',color='k',linewidth=0.5)\n",
    "\n",
    "\n",
    "ax2_1=plt.subplot(gs[1,1])\n",
    "ax2_1.plot(b['value@times@R@noext@model']/1000,Rresid,color='k',linestyle='-')\n",
    "ax2_1.set_ylabel(r'$\\Delta m$')\n",
    "ax2_1.set_xlabel('Phase')\n",
    "ax2_1.set_xlim([-0.02,0.02])\n",
    "ax2_1.set_ylim([0.05,-0.3])\n",
    "ax2_1.axhline(y=0., linestyle='dashed',color='k',linewidth=0.5)\n",
    "\n",
    "plt.tight_layout()\n",
    "fig.canvas.draw()"
   ]
  },
  {
   "cell_type": "code",
   "execution_count": 13,
   "metadata": {},
   "outputs": [],
   "source": [
    "KEPextmags=-2.5*np.log10(b['value@fluxes@KEP@ext@model'])\n",
    "KEPnoextmags=-2.5*np.log10(b['value@fluxes@KEP@noext@model'])\n",
    "KEPextmags_norm=KEPextmags-KEPextmags.min()+1\n",
    "KEPnoextmags_norm=KEPnoextmags-KEPnoextmags.min()+1\n",
    "KEPresid=KEPextmags_norm-KEPnoextmags_norm"
   ]
  },
  {
   "cell_type": "code",
   "execution_count": 14,
   "metadata": {},
   "outputs": [
    {
     "data": {
      "image/png": "[encoded data removed]",
      "text/plain": [
       "<Figure size 432x432 with 2 Axes>"
      ]
     },
     "metadata": {
      "needs_background": "light"
     },
     "output_type": "display_data"
    }
   ],
   "source": [
    "fig=plt.figure(figsize=(6,6))\n",
    "gs=gridspec.GridSpec(2,1,height_ratios=[4,1])\n",
    "\n",
    "ax=plt.subplot(gs[0])\n",
    "ax.plot(b['value@times@KEP@noext@model']/1000,KEPnoextmags_norm,color='k',linestyle=\"--\")\n",
    "ax.plot(b['value@times@KEP@ext@model']/1000,KEPextmags_norm,color='k',linestyle=\"-\")\n",
    "ax.set_ylabel('Magnitude')\n",
    "ax.set_xticklabels([])\n",
    "ax.set_xlim([-0.02,0.02])\n",
    "ax.set_ylim([3.5,0.8])\n",
    "ax.set_title('Kepler K')\n",
    "\n",
    "ax_1=plt.subplot(gs[1])\n",
    "ax_1.plot(b['value@times@KEP@noext@model']/1000,KEPresid,color='k',linestyle='-')\n",
    "ax_1.set_ylabel(r'$\\Delta m$')\n",
    "ax_1.set_xlabel('Phase')\n",
    "ax_1.set_xlim([-0.02,0.02])\n",
    "ax_1.set_ylim([0.05,-0.3])\n",
    "ax_1.axhline(y=0., linestyle='dashed',color='k',linewidth=0.5)\n",
    "\n",
    "plt.tight_layout()\n",
    "fig.canvas.draw()"
   ]
  },
  {
   "cell_type": "code",
   "execution_count": null,
   "metadata": {},
   "outputs": [],
   "source": []
  }
 ],
 "metadata": {
  "kernelspec": {
   "display_name": "Python 3",
   "language": "python",
   "name": "python3"
  },
  "language_info": {
   "codemirror_mode": {
    "name": "ipython",
    "version": 3
   },
   "file_extension": ".py",
   "mimetype": "text/x-python",
   "name": "python",
   "nbconvert_exporter": "python",
   "pygments_lexer": "ipython3",
   "version": "3.8.2"
  }
 },
 "nbformat": 4,
 "nbformat_minor": 1
}
