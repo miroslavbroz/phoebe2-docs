{
 "cells": [
  {
   "cell_type": "markdown",
   "metadata": {},
   "source": [
    "Intensity Weighting\n",
    "============================\n",
    "\n",
    "Setup\n",
    "-----------------------------"
   ]
  },
  {
   "cell_type": "markdown",
   "metadata": {},
   "source": [
    "Let's first make sure we have the latest version of PHOEBE 2.2 installed. (You can comment out this line if you don't use pip for your installation or don't want to update to the latest release)."
   ]
  },
  {
   "cell_type": "code",
   "execution_count": null,
   "metadata": {},
   "outputs": [],
   "source": [
    "!pip install -I \"phoebe>=2.2,<2.3\""
   ]
  },
  {
   "cell_type": "markdown",
   "metadata": {
    "collapsed": true
   },
   "source": [
    "As always, let's do imports and initialize a logger and a new Bundle.  See [Building a System](building_a_system.ipynb) for more details."
   ]
  },
  {
   "cell_type": "code",
   "execution_count": 1,
   "metadata": {},
   "outputs": [],
   "source": [
    "%matplotlib inline"
   ]
  },
  {
   "cell_type": "code",
   "execution_count": 2,
   "metadata": {},
   "outputs": [],
   "source": [
    "import phoebe\n",
    "from phoebe import u # units\n",
    "import numpy as np\n",
    "import matplotlib.pyplot as plt\n",
    "\n",
    "logger = phoebe.logger()\n",
    "\n",
    "b = phoebe.default_binary()"
   ]
  },
  {
   "cell_type": "code",
   "execution_count": 3,
   "metadata": {},
   "outputs": [
    {
     "data": {
      "text/plain": [
       "<ParameterSet: 43 parameters | contexts: dataset, figure, constraint, compute>"
      ]
     },
     "execution_count": 3,
     "metadata": {},
     "output_type": "execute_result"
    }
   ],
   "source": [
    "b.add_dataset('lc', times=np.linspace(0,1,101))"
   ]
  },
  {
   "cell_type": "markdown",
   "metadata": {},
   "source": [
    "Relevant Parameters \n",
    "-------------------------------"
   ]
  },
  {
   "cell_type": "code",
   "execution_count": 4,
   "metadata": {},
   "outputs": [
    {
     "data": {
      "text/plain": [
       "<Parameter: intens_weighting=energy | keys: description, choices, value, visible_if, copy_for, advanced>"
      ]
     },
     "execution_count": 4,
     "metadata": {},
     "output_type": "execute_result"
    }
   ],
   "source": [
    "b['intens_weighting']"
   ]
  },
  {
   "cell_type": "code",
   "execution_count": 5,
   "metadata": {},
   "outputs": [
    {
     "name": "stdout",
     "output_type": "stream",
     "text": [
      "Parameter: intens_weighting@lc01@dataset\n",
      "                       Qualifier: intens_weighting\n",
      "                     Description: Whether passband intensities are weighted by energy or photons\n",
      "                           Value: energy\n",
      "                         Choices: energy, photon\n",
      "                  Constrained by: \n",
      "                      Constrains: None\n",
      "                      Related to: None\n",
      "\n"
     ]
    }
   ],
   "source": [
    "print(b['intens_weighting'])"
   ]
  },
  {
   "cell_type": "markdown",
   "metadata": {},
   "source": [
    "Influence on Light Curves (fluxes)\n",
    "---------------------------------------------\n",
    "\n",
    "Let's (roughtly) reproduce Figure 5 from [Prsa et al. 2016](http://phoebe-project.org/publications/2016Prsa+) which shows the difference between photon and energy intensity weighting.\n",
    "\n",
    "<img src=\"prsa+2016_fig5.png\" alt=\"Figure 8\" width=\"600px\"/>"
   ]
  },
  {
   "cell_type": "code",
   "execution_count": 6,
   "metadata": {},
   "outputs": [
    {
     "name": "stderr",
     "output_type": "stream",
     "text": [
      "Wed, 11 Dec 2019 13:35 BUNDLE       WARNING ld_mode_bol of 'lookup' uses a bolometric passband which is not reliable for hot stars.  Consider using ld_mode_bol of manual and providing ld_coeffs instead.\n",
      "Wed, 11 Dec 2019 13:35 BUNDLE       WARNING 'primary' probably has a radiative atm (teff=10000K>8000K), for which gravb_bol>=0.9 might be a better approx than gravb_bol=0.32.\n",
      "Wed, 11 Dec 2019 13:35 BUNDLE       WARNING 'primary' probably has a radiative atm (teff=10000K>=8000K), for which irrad_frac_refl_bol>0.8 (suggestion: 1.0) might be a better approx than irrad_frac_refl_bol=0.60.\n",
      "Wed, 11 Dec 2019 13:35 BUNDLE       WARNING ld_mode_bol of 'lookup' uses a bolometric passband which is not reliable for hot stars.  Consider using ld_mode_bol of manual and providing ld_coeffs instead.\n",
      "Wed, 11 Dec 2019 13:35 BUNDLE       WARNING 'primary' probably has a radiative atm (teff=10000K>8000K), for which gravb_bol>=0.9 might be a better approx than gravb_bol=0.32.\n",
      "Wed, 11 Dec 2019 13:35 BUNDLE       WARNING 'secondary' probably has a radiative atm (teff=9000K>8000K), for which gravb_bol>=0.9 might be a better approx than gravb_bol=0.32.\n",
      "Wed, 11 Dec 2019 13:35 BUNDLE       WARNING 'primary' probably has a radiative atm (teff=10000K>=8000K), for which irrad_frac_refl_bol>0.8 (suggestion: 1.0) might be a better approx than irrad_frac_refl_bol=0.60.\n",
      "Wed, 11 Dec 2019 13:35 BUNDLE       WARNING 'secondary' probably has a radiative atm (teff=9000K>=8000K), for which irrad_frac_refl_bol>0.8 (suggestion: 1.0) might be a better approx than irrad_frac_refl_bol=0.60.\n",
      "Wed, 11 Dec 2019 13:35 BUNDLE       WARNING ld_mode_bol of 'lookup' uses a bolometric passband which is not reliable for hot stars.  Consider using ld_mode_bol of manual and providing ld_coeffs instead.\n",
      "Wed, 11 Dec 2019 13:35 BUNDLE       WARNING 'primary' probably has a radiative atm (teff=10000K>8000K), for which gravb_bol>=0.9 might be a better approx than gravb_bol=0.32.\n",
      "Wed, 11 Dec 2019 13:35 BUNDLE       WARNING 'secondary' probably has a radiative atm (teff=9000K>8000K), for which gravb_bol>=0.9 might be a better approx than gravb_bol=0.32.\n",
      "Wed, 11 Dec 2019 13:35 BUNDLE       WARNING 'primary' probably has a radiative atm (teff=10000K>=8000K), for which irrad_frac_refl_bol>0.8 (suggestion: 1.0) might be a better approx than irrad_frac_refl_bol=0.60.\n",
      "Wed, 11 Dec 2019 13:35 BUNDLE       WARNING 'secondary' probably has a radiative atm (teff=9000K>=8000K), for which irrad_frac_refl_bol>0.8 (suggestion: 1.0) might be a better approx than irrad_frac_refl_bol=0.60.\n",
      "Wed, 11 Dec 2019 13:35 BUNDLE       WARNING ld_mode_bol of 'lookup' uses a bolometric passband which is not reliable for hot stars.  Consider using ld_mode_bol of manual and providing ld_coeffs instead.\n",
      "Wed, 11 Dec 2019 13:35 BUNDLE       WARNING 'primary' probably has a radiative atm (teff=10000K>8000K), for which gravb_bol>=0.9 might be a better approx than gravb_bol=0.32.\n",
      "Wed, 11 Dec 2019 13:35 BUNDLE       WARNING 'secondary' probably has a radiative atm (teff=9000K>8000K), for which gravb_bol>=0.9 might be a better approx than gravb_bol=0.32.\n",
      "Wed, 11 Dec 2019 13:35 BUNDLE       WARNING 'primary' probably has a radiative atm (teff=10000K>=8000K), for which irrad_frac_refl_bol>0.8 (suggestion: 1.0) might be a better approx than irrad_frac_refl_bol=0.60.\n",
      "Wed, 11 Dec 2019 13:35 BUNDLE       WARNING 'secondary' probably has a radiative atm (teff=9000K>=8000K), for which irrad_frac_refl_bol>0.8 (suggestion: 1.0) might be a better approx than irrad_frac_refl_bol=0.60.\n",
      "Wed, 11 Dec 2019 13:35 BUNDLE       WARNING ld_mode_bol of 'lookup' uses a bolometric passband which is not reliable for hot stars.  Consider using ld_mode_bol of manual and providing ld_coeffs instead.\n",
      "Wed, 11 Dec 2019 13:35 BUNDLE       WARNING 'primary' probably has a radiative atm (teff=10000K>8000K), for which gravb_bol>=0.9 might be a better approx than gravb_bol=0.32.\n",
      "Wed, 11 Dec 2019 13:35 BUNDLE       WARNING 'secondary' probably has a radiative atm (teff=9000K>8000K), for which gravb_bol>=0.9 might be a better approx than gravb_bol=0.32.\n",
      "Wed, 11 Dec 2019 13:35 BUNDLE       WARNING 'primary' probably has a radiative atm (teff=10000K>=8000K), for which irrad_frac_refl_bol>0.8 (suggestion: 1.0) might be a better approx than irrad_frac_refl_bol=0.60.\n",
      "Wed, 11 Dec 2019 13:35 BUNDLE       WARNING 'secondary' probably has a radiative atm (teff=9000K>=8000K), for which irrad_frac_refl_bol>0.8 (suggestion: 1.0) might be a better approx than irrad_frac_refl_bol=0.60.\n",
      "Wed, 11 Dec 2019 13:35 BUNDLE       WARNING ld_mode_bol of 'lookup' uses a bolometric passband which is not reliable for hot stars.  Consider using ld_mode_bol of manual and providing ld_coeffs instead.\n",
      "Wed, 11 Dec 2019 13:35 BUNDLE       WARNING 'primary' probably has a radiative atm (teff=10000K>8000K), for which gravb_bol>=0.9 might be a better approx than gravb_bol=0.32.\n",
      "Wed, 11 Dec 2019 13:35 BUNDLE       WARNING 'secondary' probably has a radiative atm (teff=9000K>8000K), for which gravb_bol>=0.9 might be a better approx than gravb_bol=0.32.\n",
      "Wed, 11 Dec 2019 13:35 BUNDLE       WARNING 'primary' probably has a radiative atm (teff=10000K>=8000K), for which irrad_frac_refl_bol>0.8 (suggestion: 1.0) might be a better approx than irrad_frac_refl_bol=0.60.\n",
      "Wed, 11 Dec 2019 13:35 BUNDLE       WARNING 'secondary' probably has a radiative atm (teff=9000K>=8000K), for which irrad_frac_refl_bol>0.8 (suggestion: 1.0) might be a better approx than irrad_frac_refl_bol=0.60.\n",
      "Wed, 11 Dec 2019 13:35 BUNDLE       WARNING ld_mode_bol of 'lookup' uses a bolometric passband which is not reliable for hot stars.  Consider using ld_mode_bol of manual and providing ld_coeffs instead.\n",
      "Wed, 11 Dec 2019 13:35 BUNDLE       WARNING 'primary' probably has a radiative atm (teff=12500K>8000K), for which gravb_bol>=0.9 might be a better approx than gravb_bol=0.32.\n",
      "Wed, 11 Dec 2019 13:35 BUNDLE       WARNING 'secondary' probably has a radiative atm (teff=9000K>8000K), for which gravb_bol>=0.9 might be a better approx than gravb_bol=0.32.\n",
      "Wed, 11 Dec 2019 13:35 BUNDLE       WARNING 'primary' probably has a radiative atm (teff=12500K>=8000K), for which irrad_frac_refl_bol>0.8 (suggestion: 1.0) might be a better approx than irrad_frac_refl_bol=0.60.\n",
      "Wed, 11 Dec 2019 13:35 BUNDLE       WARNING 'secondary' probably has a radiative atm (teff=9000K>=8000K), for which irrad_frac_refl_bol>0.8 (suggestion: 1.0) might be a better approx than irrad_frac_refl_bol=0.60.\n",
      "Wed, 11 Dec 2019 13:35 BUNDLE       WARNING ld_mode_bol of 'lookup' uses a bolometric passband which is not reliable for hot stars.  Consider using ld_mode_bol of manual and providing ld_coeffs instead.\n",
      "Wed, 11 Dec 2019 13:35 BUNDLE       WARNING ld_mode_bol of 'lookup' uses a bolometric passband which is not reliable for hot stars.  Consider using ld_mode_bol of manual and providing ld_coeffs instead.\n",
      "Wed, 11 Dec 2019 13:35 BUNDLE       WARNING 'primary' probably has a radiative atm (teff=12500K>8000K), for which gravb_bol>=0.9 might be a better approx than gravb_bol=0.32.\n",
      "Wed, 11 Dec 2019 13:35 BUNDLE       WARNING 'secondary' probably has a radiative atm (teff=11250K>8000K), for which gravb_bol>=0.9 might be a better approx than gravb_bol=0.32.\n",
      "Wed, 11 Dec 2019 13:35 BUNDLE       WARNING 'primary' probably has a radiative atm (teff=12500K>=8000K), for which irrad_frac_refl_bol>0.8 (suggestion: 1.0) might be a better approx than irrad_frac_refl_bol=0.60.\n",
      "Wed, 11 Dec 2019 13:35 BUNDLE       WARNING 'secondary' probably has a radiative atm (teff=11250K>=8000K), for which irrad_frac_refl_bol>0.8 (suggestion: 1.0) might be a better approx than irrad_frac_refl_bol=0.60.\n",
      "Wed, 11 Dec 2019 13:35 BUNDLE       WARNING ld_mode_bol of 'lookup' uses a bolometric passband which is not reliable for hot stars.  Consider using ld_mode_bol of manual and providing ld_coeffs instead.\n",
      "Wed, 11 Dec 2019 13:35 BUNDLE       WARNING ld_mode_bol of 'lookup' uses a bolometric passband which is not reliable for hot stars.  Consider using ld_mode_bol of manual and providing ld_coeffs instead.\n",
      "Wed, 11 Dec 2019 13:35 BUNDLE       WARNING 'primary' probably has a radiative atm (teff=12500K>8000K), for which gravb_bol>=0.9 might be a better approx than gravb_bol=0.32.\n"
     ]
    },
    {
     "name": "stderr",
     "output_type": "stream",
     "text": [
      "Wed, 11 Dec 2019 13:35 BUNDLE       WARNING 'secondary' probably has a radiative atm (teff=11250K>8000K), for which gravb_bol>=0.9 might be a better approx than gravb_bol=0.32.\n",
      "Wed, 11 Dec 2019 13:35 BUNDLE       WARNING 'primary' probably has a radiative atm (teff=12500K>=8000K), for which irrad_frac_refl_bol>0.8 (suggestion: 1.0) might be a better approx than irrad_frac_refl_bol=0.60.\n",
      "Wed, 11 Dec 2019 13:35 BUNDLE       WARNING 'secondary' probably has a radiative atm (teff=11250K>=8000K), for which irrad_frac_refl_bol>0.8 (suggestion: 1.0) might be a better approx than irrad_frac_refl_bol=0.60.\n",
      "Wed, 11 Dec 2019 13:35 BUNDLE       WARNING ld_mode_bol of 'lookup' uses a bolometric passband which is not reliable for hot stars.  Consider using ld_mode_bol of manual and providing ld_coeffs instead.\n",
      "Wed, 11 Dec 2019 13:35 BUNDLE       WARNING ld_mode_bol of 'lookup' uses a bolometric passband which is not reliable for hot stars.  Consider using ld_mode_bol of manual and providing ld_coeffs instead.\n",
      "Wed, 11 Dec 2019 13:35 BUNDLE       WARNING 'primary' probably has a radiative atm (teff=12500K>8000K), for which gravb_bol>=0.9 might be a better approx than gravb_bol=0.32.\n",
      "Wed, 11 Dec 2019 13:35 BUNDLE       WARNING 'secondary' probably has a radiative atm (teff=11250K>8000K), for which gravb_bol>=0.9 might be a better approx than gravb_bol=0.32.\n",
      "Wed, 11 Dec 2019 13:35 BUNDLE       WARNING 'primary' probably has a radiative atm (teff=12500K>=8000K), for which irrad_frac_refl_bol>0.8 (suggestion: 1.0) might be a better approx than irrad_frac_refl_bol=0.60.\n",
      "Wed, 11 Dec 2019 13:35 BUNDLE       WARNING 'secondary' probably has a radiative atm (teff=11250K>=8000K), for which irrad_frac_refl_bol>0.8 (suggestion: 1.0) might be a better approx than irrad_frac_refl_bol=0.60.\n",
      "Wed, 11 Dec 2019 13:35 BUNDLE       WARNING ld_mode_bol of 'lookup' uses a bolometric passband which is not reliable for hot stars.  Consider using ld_mode_bol of manual and providing ld_coeffs instead.\n",
      "Wed, 11 Dec 2019 13:35 BUNDLE       WARNING ld_mode_bol of 'lookup' uses a bolometric passband which is not reliable for hot stars.  Consider using ld_mode_bol of manual and providing ld_coeffs instead.\n",
      "Wed, 11 Dec 2019 13:35 BUNDLE       WARNING 'primary' probably has a radiative atm (teff=12500K>8000K), for which gravb_bol>=0.9 might be a better approx than gravb_bol=0.32.\n",
      "Wed, 11 Dec 2019 13:35 BUNDLE       WARNING 'secondary' probably has a radiative atm (teff=11250K>8000K), for which gravb_bol>=0.9 might be a better approx than gravb_bol=0.32.\n",
      "Wed, 11 Dec 2019 13:35 BUNDLE       WARNING 'primary' probably has a radiative atm (teff=12500K>=8000K), for which irrad_frac_refl_bol>0.8 (suggestion: 1.0) might be a better approx than irrad_frac_refl_bol=0.60.\n",
      "Wed, 11 Dec 2019 13:35 BUNDLE       WARNING 'secondary' probably has a radiative atm (teff=11250K>=8000K), for which irrad_frac_refl_bol>0.8 (suggestion: 1.0) might be a better approx than irrad_frac_refl_bol=0.60.\n",
      "Wed, 11 Dec 2019 13:35 BUNDLE       WARNING ld_mode_bol of 'lookup' uses a bolometric passband which is not reliable for hot stars.  Consider using ld_mode_bol of manual and providing ld_coeffs instead.\n",
      "Wed, 11 Dec 2019 13:35 BUNDLE       WARNING ld_mode_bol of 'lookup' uses a bolometric passband which is not reliable for hot stars.  Consider using ld_mode_bol of manual and providing ld_coeffs instead.\n",
      "Wed, 11 Dec 2019 13:35 BUNDLE       WARNING 'primary' probably has a radiative atm (teff=12500K>8000K), for which gravb_bol>=0.9 might be a better approx than gravb_bol=0.32.\n",
      "Wed, 11 Dec 2019 13:35 BUNDLE       WARNING 'secondary' probably has a radiative atm (teff=11250K>8000K), for which gravb_bol>=0.9 might be a better approx than gravb_bol=0.32.\n",
      "Wed, 11 Dec 2019 13:35 BUNDLE       WARNING 'primary' probably has a radiative atm (teff=12500K>=8000K), for which irrad_frac_refl_bol>0.8 (suggestion: 1.0) might be a better approx than irrad_frac_refl_bol=0.60.\n",
      "Wed, 11 Dec 2019 13:35 BUNDLE       WARNING 'secondary' probably has a radiative atm (teff=11250K>=8000K), for which irrad_frac_refl_bol>0.8 (suggestion: 1.0) might be a better approx than irrad_frac_refl_bol=0.60.\n",
      "Wed, 11 Dec 2019 13:35 BUNDLE       WARNING ld_mode_bol of 'lookup' uses a bolometric passband which is not reliable for hot stars.  Consider using ld_mode_bol of manual and providing ld_coeffs instead.\n",
      "Wed, 11 Dec 2019 13:35 BUNDLE       WARNING ld_mode_bol of 'lookup' uses a bolometric passband which is not reliable for hot stars.  Consider using ld_mode_bol of manual and providing ld_coeffs instead.\n",
      "Wed, 11 Dec 2019 13:35 BUNDLE       WARNING 'primary' probably has a radiative atm (teff=15000K>8000K), for which gravb_bol>=0.9 might be a better approx than gravb_bol=0.32.\n",
      "Wed, 11 Dec 2019 13:35 BUNDLE       WARNING 'secondary' probably has a radiative atm (teff=11250K>8000K), for which gravb_bol>=0.9 might be a better approx than gravb_bol=0.32.\n",
      "Wed, 11 Dec 2019 13:35 BUNDLE       WARNING 'primary' probably has a radiative atm (teff=15000K>=8000K), for which irrad_frac_refl_bol>0.8 (suggestion: 1.0) might be a better approx than irrad_frac_refl_bol=0.60.\n",
      "Wed, 11 Dec 2019 13:35 BUNDLE       WARNING 'secondary' probably has a radiative atm (teff=11250K>=8000K), for which irrad_frac_refl_bol>0.8 (suggestion: 1.0) might be a better approx than irrad_frac_refl_bol=0.60.\n",
      "Wed, 11 Dec 2019 13:35 BUNDLE       WARNING ld_mode_bol of 'lookup' uses a bolometric passband which is not reliable for hot stars.  Consider using ld_mode_bol of manual and providing ld_coeffs instead.\n",
      "Wed, 11 Dec 2019 13:35 BUNDLE       WARNING ld_mode_bol of 'lookup' uses a bolometric passband which is not reliable for hot stars.  Consider using ld_mode_bol of manual and providing ld_coeffs instead.\n",
      "Wed, 11 Dec 2019 13:35 BUNDLE       WARNING 'primary' probably has a radiative atm (teff=15000K>8000K), for which gravb_bol>=0.9 might be a better approx than gravb_bol=0.32.\n",
      "Wed, 11 Dec 2019 13:35 BUNDLE       WARNING 'secondary' probably has a radiative atm (teff=13500K>8000K), for which gravb_bol>=0.9 might be a better approx than gravb_bol=0.32.\n",
      "Wed, 11 Dec 2019 13:35 BUNDLE       WARNING 'primary' probably has a radiative atm (teff=15000K>=8000K), for which irrad_frac_refl_bol>0.8 (suggestion: 1.0) might be a better approx than irrad_frac_refl_bol=0.60.\n",
      "Wed, 11 Dec 2019 13:35 BUNDLE       WARNING 'secondary' probably has a radiative atm (teff=13500K>=8000K), for which irrad_frac_refl_bol>0.8 (suggestion: 1.0) might be a better approx than irrad_frac_refl_bol=0.60.\n",
      "Wed, 11 Dec 2019 13:35 BUNDLE       WARNING ld_mode_bol of 'lookup' uses a bolometric passband which is not reliable for hot stars.  Consider using ld_mode_bol of manual and providing ld_coeffs instead.\n",
      "Wed, 11 Dec 2019 13:35 BUNDLE       WARNING ld_mode_bol of 'lookup' uses a bolometric passband which is not reliable for hot stars.  Consider using ld_mode_bol of manual and providing ld_coeffs instead.\n",
      "Wed, 11 Dec 2019 13:35 BUNDLE       WARNING 'primary' probably has a radiative atm (teff=15000K>8000K), for which gravb_bol>=0.9 might be a better approx than gravb_bol=0.32.\n",
      "Wed, 11 Dec 2019 13:35 BUNDLE       WARNING 'secondary' probably has a radiative atm (teff=13500K>8000K), for which gravb_bol>=0.9 might be a better approx than gravb_bol=0.32.\n",
      "Wed, 11 Dec 2019 13:35 BUNDLE       WARNING 'primary' probably has a radiative atm (teff=15000K>=8000K), for which irrad_frac_refl_bol>0.8 (suggestion: 1.0) might be a better approx than irrad_frac_refl_bol=0.60.\n",
      "Wed, 11 Dec 2019 13:35 BUNDLE       WARNING 'secondary' probably has a radiative atm (teff=13500K>=8000K), for which irrad_frac_refl_bol>0.8 (suggestion: 1.0) might be a better approx than irrad_frac_refl_bol=0.60.\n",
      "Wed, 11 Dec 2019 13:35 BUNDLE       WARNING ld_mode_bol of 'lookup' uses a bolometric passband which is not reliable for hot stars.  Consider using ld_mode_bol of manual and providing ld_coeffs instead.\n",
      "Wed, 11 Dec 2019 13:35 BUNDLE       WARNING ld_mode_bol of 'lookup' uses a bolometric passband which is not reliable for hot stars.  Consider using ld_mode_bol of manual and providing ld_coeffs instead.\n",
      "Wed, 11 Dec 2019 13:35 BUNDLE       WARNING 'primary' probably has a radiative atm (teff=15000K>8000K), for which gravb_bol>=0.9 might be a better approx than gravb_bol=0.32.\n"
     ]
    },
    {
     "name": "stderr",
     "output_type": "stream",
     "text": [
      "Wed, 11 Dec 2019 13:35 BUNDLE       WARNING 'secondary' probably has a radiative atm (teff=13500K>8000K), for which gravb_bol>=0.9 might be a better approx than gravb_bol=0.32.\n",
      "Wed, 11 Dec 2019 13:35 BUNDLE       WARNING 'primary' probably has a radiative atm (teff=15000K>=8000K), for which irrad_frac_refl_bol>0.8 (suggestion: 1.0) might be a better approx than irrad_frac_refl_bol=0.60.\n",
      "Wed, 11 Dec 2019 13:35 BUNDLE       WARNING 'secondary' probably has a radiative atm (teff=13500K>=8000K), for which irrad_frac_refl_bol>0.8 (suggestion: 1.0) might be a better approx than irrad_frac_refl_bol=0.60.\n",
      "Wed, 11 Dec 2019 13:35 BUNDLE       WARNING ld_mode_bol of 'lookup' uses a bolometric passband which is not reliable for hot stars.  Consider using ld_mode_bol of manual and providing ld_coeffs instead.\n",
      "Wed, 11 Dec 2019 13:35 BUNDLE       WARNING ld_mode_bol of 'lookup' uses a bolometric passband which is not reliable for hot stars.  Consider using ld_mode_bol of manual and providing ld_coeffs instead.\n",
      "Wed, 11 Dec 2019 13:35 BUNDLE       WARNING 'primary' probably has a radiative atm (teff=15000K>8000K), for which gravb_bol>=0.9 might be a better approx than gravb_bol=0.32.\n",
      "Wed, 11 Dec 2019 13:35 BUNDLE       WARNING 'secondary' probably has a radiative atm (teff=13500K>8000K), for which gravb_bol>=0.9 might be a better approx than gravb_bol=0.32.\n",
      "Wed, 11 Dec 2019 13:35 BUNDLE       WARNING 'primary' probably has a radiative atm (teff=15000K>=8000K), for which irrad_frac_refl_bol>0.8 (suggestion: 1.0) might be a better approx than irrad_frac_refl_bol=0.60.\n",
      "Wed, 11 Dec 2019 13:35 BUNDLE       WARNING 'secondary' probably has a radiative atm (teff=13500K>=8000K), for which irrad_frac_refl_bol>0.8 (suggestion: 1.0) might be a better approx than irrad_frac_refl_bol=0.60.\n",
      "Wed, 11 Dec 2019 13:35 BUNDLE       WARNING ld_mode_bol of 'lookup' uses a bolometric passband which is not reliable for hot stars.  Consider using ld_mode_bol of manual and providing ld_coeffs instead.\n",
      "Wed, 11 Dec 2019 13:35 BUNDLE       WARNING ld_mode_bol of 'lookup' uses a bolometric passband which is not reliable for hot stars.  Consider using ld_mode_bol of manual and providing ld_coeffs instead.\n",
      "Wed, 11 Dec 2019 13:35 BUNDLE       WARNING 'primary' probably has a radiative atm (teff=15000K>8000K), for which gravb_bol>=0.9 might be a better approx than gravb_bol=0.32.\n",
      "Wed, 11 Dec 2019 13:35 BUNDLE       WARNING 'secondary' probably has a radiative atm (teff=13500K>8000K), for which gravb_bol>=0.9 might be a better approx than gravb_bol=0.32.\n",
      "Wed, 11 Dec 2019 13:35 BUNDLE       WARNING 'primary' probably has a radiative atm (teff=15000K>=8000K), for which irrad_frac_refl_bol>0.8 (suggestion: 1.0) might be a better approx than irrad_frac_refl_bol=0.60.\n",
      "Wed, 11 Dec 2019 13:35 BUNDLE       WARNING 'secondary' probably has a radiative atm (teff=13500K>=8000K), for which irrad_frac_refl_bol>0.8 (suggestion: 1.0) might be a better approx than irrad_frac_refl_bol=0.60.\n"
     ]
    }
   ],
   "source": [
    "for teff_primary in [5000,7500,10000,12500,15000]:\n",
    "    b['teff@primary'] = teff_primary\n",
    "    b['teff@secondary'] = 0.9 * teff_primary\n",
    "    \n",
    "    for weighting in ['energy', 'photon']:\n",
    "        b['intens_weighting'] = weighting\n",
    "        b.run_compute(irrad_method='none', model='{}_{}'.format(teff_primary, weighting))"
   ]
  },
  {
   "cell_type": "code",
   "execution_count": 7,
   "metadata": {},
   "outputs": [
    {
     "data": {
      "image/png": "[encoded data removed]",
      "text/plain": [
       "<Figure size 432x288 with 2 Axes>"
      ]
     },
     "metadata": {
      "needs_background": "light"
     },
     "output_type": "display_data"
    }
   ],
   "source": [
    "teff_colormap = {5000: 'm', 7500: 'r', 10000: 'g', 12500: 'c', 15000: 'b'}\n",
    "\n",
    "fig = plt.figure()\n",
    "ax1, ax2 = fig.add_subplot(211), fig.add_subplot(212)\n",
    "\n",
    "for teff, color in teff_colormap.items():\n",
    "    fluxes_energy = b.get_value('fluxes@{}_energy'.format(teff))\n",
    "    fluxes_photon = b.get_value('fluxes@{}_photon'.format(teff))\n",
    "    phases = b.to_phase('times@lc@dataset')\n",
    "    \n",
    "    # alias data from -0.6 to 0.6\n",
    "    fluxes_energy = np.append(fluxes_energy, fluxes_energy[abs(phases) > 0.4])\n",
    "    fluxes_photon = np.append(fluxes_photon, fluxes_photon[abs(phases) > 0.4])\n",
    "    phases = np.append(phases, phases[abs(phases)>0.4]+1.0)\n",
    "    phases[phases > 1.0] = phases[phases > 1.0] - 2.0\n",
    "    \n",
    "    sort = phases.argsort()\n",
    "    phases = phases[sort]\n",
    "    fluxes_energy = fluxes_energy[sort]\n",
    "    fluxes_photon = fluxes_photon[sort]\n",
    "    \n",
    "    ax1.plot(phases, fluxes_energy, color=color)\n",
    "    ax2.plot(phases, fluxes_photon-fluxes_energy, color=color)\n",
    "\n",
    "lbl = ax1.set_xlabel('')\n",
    "lbl = ax1.set_ylabel('flux')\n",
    "lbl = ax2.set_xlabel('phase')\n",
    "lbl = ax2.set_ylabel('flux diff')"
   ]
  },
  {
   "cell_type": "code",
   "execution_count": null,
   "metadata": {},
   "outputs": [],
   "source": []
  }
 ],
 "metadata": {
  "kernelspec": {
   "display_name": "Python 3",
   "language": "python",
   "name": "python3"
  },
  "language_info": {
   "codemirror_mode": {
    "name": "ipython",
    "version": 3
   },
   "file_extension": ".py",
   "mimetype": "text/x-python",
   "name": "python",
   "nbconvert_exporter": "python",
   "pygments_lexer": "ipython3",
   "version": "3.7.3"
  }
 },
 "nbformat": 4,
 "nbformat_minor": 1
}
