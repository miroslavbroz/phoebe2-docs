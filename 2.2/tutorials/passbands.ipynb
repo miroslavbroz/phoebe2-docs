{
 "cells": [
  {
   "cell_type": "markdown",
   "metadata": {},
   "source": [
    "# Adding new passbands to PHOEBE\n",
    "\n",
    "In this tutorial we will show you how to add your own passband to PHOEBE. Adding a custom passband involves:\n",
    "\n",
    "* downloading and setting up model atmosphere tables;\n",
    "* providing a passband transmission function;\n",
    "* defining and registering passband parameters;\n",
    "* computing blackbody response for the passband;\n",
    "* \\[optional\\] computing Castelli & Kurucz (2004) passband tables;\n",
    "* \\[optional\\] computing Husser et al. (2013) PHOENIX passband tables;\n",
    "* \\[optional\\] if the passband is one of the passbands included in the Wilson-Devinney code, importing the WD response; and\n",
    "* saving the generated passband file.\n",
    "<!-- * \\[optional\\] computing Werner et al. (2012) TMAP passband tables; -->"
   ]
  },
  {
   "cell_type": "markdown",
   "metadata": {},
   "source": [
    "Let's first make sure we have the correct version of PHOEBE installed. Uncomment the following line if running in an online notebook session such as colab."
   ]
  },
  {
   "cell_type": "code",
   "execution_count": null,
   "metadata": {},
   "outputs": [],
   "source": [
    "#!pip install -I \"phoebe>=2.2,<2.3\""
   ]
  },
  {
   "cell_type": "markdown",
   "metadata": {},
   "source": [
    "If you plan on computing model atmosphere intensities (as opposed to only blackbody intensities), you will need to download atmosphere tables and unpack them into a local directory of your choice. Keep in mind that this will take a long time. Plan to go for lunch or leave it overnight. The good news is that this needs to be done only once. For the purpose of this document, we will use a local `tables/` directory and assume that we are computing intensities for all available model atmospheres:\n",
    "```\n",
    "mkdir tables\n",
    "cd tables\n",
    "wget http://phoebe-project.org/static/atms/ck2004.tgz\n",
    "wget http://phoebe-project.org/static/atms/phoenix.tgz\n",
    "```\n",
    "<!-- wget http://phoebe-project.org/static/atms/tmap.tgz -->\n",
    "\n",
    "Once the data are downloaded, unpack the archives:\n",
    "```\n",
    "tar xvzf ck2004.tgz\n",
    "tar xvzf phoenix.tgz\n",
    "```\n",
    "<!-- tar xvzf tmap.tgz -->\n",
    "\n",
    "That should leave you with the following directory structure:\n",
    "```\n",
    "tables\n",
    "|____ck2004\n",
    "|     |____TxxxxxGxxPxx.fits (3800 files)\n",
    "|____phoenix\n",
    "|     |____ltexxxxx-x.xx-x.x.PHOENIX-ACES-AGSS-COND-SPECINT-2011.fits (7260 files)\n",
    "```"
   ]
  },
  {
   "cell_type": "markdown",
   "metadata": {},
   "source": [
    "## I don't care about the details, just show/remind me how it's done\n",
    "\n",
    "Makes sense, and we don't judge: you want to get to science. Provided that you have the [passband transmission file](https://raw.githubusercontent.com/phoebe-project/phoebe2-docs/2.2/tutorials/my_passband.ptf) available and the atmosphere tables already downloaded, the sequence that will generate/register a new passband is:"
   ]
  },
  {
   "cell_type": "code",
   "execution_count": null,
   "metadata": {},
   "outputs": [],
   "source": [
    "import phoebe\n",
    "from phoebe import u\n",
    "\n",
    "# Register a passband:\n",
    "pb = phoebe.atmospheres.passbands.Passband(\n",
    "    ptf='my_passband.ptf',\n",
    "    pbset='Custom',\n",
    "    pbname='mypb',\n",
    "    effwl=330,\n",
    "    wlunits=u.nm,\n",
    "    calibrated=True,\n",
    "    reference='A completely made-up passband published in Nowhere (2017)',\n",
    "    version=1.0,\n",
    "    comments='This is my first custom passband'\n",
    ")\n",
    "\n",
    "# Blackbody response:\n",
    "pb.compute_blackbody_response()\n",
    "\n",
    "# CK2004 response:\n",
    "pb.compute_ck2004_response(path='tables/ck2004')\n",
    "pb.compute_ck2004_intensities(path='tables/ck2004')\n",
    "pb.compute_ck2004_ldcoeffs()\n",
    "pb.compute_ck2004_ldints()\n",
    "\n",
    "# PHOENIX response:\n",
    "pb.compute_phoenix_response(path='tables/phoenix')\n",
    "pb.compute_phoenix_intensities(path='tables/phoenix')\n",
    "pb.compute_phoenix_ldcoeffs()\n",
    "pb.compute_phoenix_ldints()\n",
    "\n",
    "# Impute missing values from the PHOENIX model atmospheres:\n",
    "pb.impute_atmosphere_grid(pb._phoenix_energy_grid)\n",
    "pb.impute_atmosphere_grid(pb._phoenix_photon_grid)\n",
    "pb.impute_atmosphere_grid(pb._phoenix_ld_energy_grid)\n",
    "pb.impute_atmosphere_grid(pb._phoenix_ld_photon_grid)\n",
    "pb.impute_atmosphere_grid(pb._phoenix_ldint_energy_grid)\n",
    "pb.impute_atmosphere_grid(pb._phoenix_ldint_photon_grid)\n",
    "for i in range(len(pb._phoenix_intensity_axes[3])):\n",
    "    pb.impute_atmosphere_grid(pb._phoenix_Imu_energy_grid[:,:,:,i,:])\n",
    "    pb.impute_atmosphere_grid(pb._phoenix_Imu_photon_grid[:,:,:,i,:])\n",
    "\n",
    "# Wilson-Devinney response:\n",
    "pb.import_wd_atmcof('atmcofplanck.dat', 'atmcof.dat', 22)\n",
    "\n",
    "# Save the passband:\n",
    "pb.save('my_passband.fits')"
   ]
  },
  {
   "cell_type": "markdown",
   "metadata": {},
   "source": [
    "## Getting started\n",
    "\n",
    "Let us start by importing phoebe, numpy and matplotlib:"
   ]
  },
  {
   "cell_type": "code",
   "execution_count": 1,
   "metadata": {},
   "outputs": [],
   "source": [
    "%matplotlib inline\n",
    "import phoebe\n",
    "from phoebe import u # units\n",
    "import numpy as np\n",
    "import matplotlib.pyplot as plt\n",
    "\n",
    "logger = phoebe.logger(clevel='WARNING')"
   ]
  },
  {
   "cell_type": "markdown",
   "metadata": {
    "collapsed": true
   },
   "source": [
    "## Passband transmission function\n",
    "\n",
    "The passband transmission function is typically a user-provided two-column file. The first column is wavelength, and the second column is passband transmission. For the purposes of this tutorial, we will simulate the passband as a uniform box."
   ]
  },
  {
   "cell_type": "code",
   "execution_count": 2,
   "metadata": {},
   "outputs": [],
   "source": [
    "wl = np.linspace(300, 360, 61)\n",
    "ptf = np.zeros(len(wl))\n",
    "ptf[(wl>=320) & (wl<=340)] = 1.0"
   ]
  },
  {
   "cell_type": "markdown",
   "metadata": {},
   "source": [
    "Let us plot this mock passband transmission function to see what it looks like:"
   ]
  },
  {
   "cell_type": "code",
   "execution_count": 3,
   "metadata": {},
   "outputs": [
    {
     "data": {
      "image/png": "[encoded data removed]",
      "text/plain": [
       "<Figure size 432x288 with 1 Axes>"
      ]
     },
     "metadata": {
      "needs_background": "light"
     },
     "output_type": "display_data"
    }
   ],
   "source": [
    "plt.xlabel('Wavelength [nm]')\n",
    "plt.ylabel('Passband transmission')\n",
    "plt.plot(wl, ptf, 'b-')\n",
    "plt.show()"
   ]
  },
  {
   "cell_type": "markdown",
   "metadata": {},
   "source": [
    "Let us now save these data in a file that we will use to register a new passband."
   ]
  },
  {
   "cell_type": "code",
   "execution_count": 4,
   "metadata": {},
   "outputs": [],
   "source": [
    "np.savetxt('my_passband.ptf', np.vstack((wl, ptf)).T)"
   ]
  },
  {
   "cell_type": "markdown",
   "metadata": {},
   "source": [
    "Registering a passband\n",
    "-------------------------\n",
    "\n",
    "The first step in introducing a new passband into PHOEBE is registering it with the system. We use the [Passband](../api/phoebe.atmospheres.passbands.Passband.md) class for that."
   ]
  },
  {
   "cell_type": "code",
   "execution_count": 5,
   "metadata": {},
   "outputs": [],
   "source": [
    "pb = phoebe.atmospheres.passbands.Passband(\n",
    "    ptf='my_passband.ptf',\n",
    "    pbset='Custom',\n",
    "    pbname='mypb',\n",
    "    effwl=330.,\n",
    "    wlunits=u.nm,\n",
    "    calibrated=True,\n",
    "    reference='A completely made-up passband published in Nowhere (2017)',\n",
    "    version=1.0,\n",
    "    comments='This is my first custom passband')"
   ]
  },
  {
   "cell_type": "markdown",
   "metadata": {},
   "source": [
    "The first argument, `ptf`, is the passband transmission file we just created. Of course, you would provide an actual passband transmission function that comes from a respectable source rather than this silly tutorial.\n",
    "\n",
    "The next two arguments, `pbset` and `pbname`, should be taken in unison. The way PHOEBE refers to passbands is a `pbset`:`pbname` string, for example `Johnson:V`, `Cousins:Rc`, etc. Thus, our fake passband will be `Custom:mypb`.\n",
    "\n",
    "The following two arguments, `effwl` and `wlunits`, also come as a pair. PHOEBE uses effective wavelength to apply zero-level passband corrections when better options (such as model atmospheres) are unavailable. Effective wavelength is a transmission-weighted average wavelength in the units given by `wlunits`.\n",
    "\n",
    "The `calibrated` parameter instructs PHOEBE whether to take the transmission function as calibrated, i.e. the flux through the passband is absolutely calibrated. If set to `True`, PHOEBE will assume that absolute intensities computed using the passband transmission function do not need further calibration. If `False`, the intensities are considered as scaled rather than absolute, i.e. correct to a scaling constant. Most modern passbands provided in the recent literature are calibrated.\n",
    "\n",
    "The `reference` parameter holds a reference string to the literature from which the transmission function was taken from. It is common that updated transmission functions become available, which is the point of the `version` parameter. If there are multiple versions of the transmission function, PHOEBE will by default take the largest value, or the value that is explicitly requested in the filter string, i.e. `Johnson:V:1.0` or `Johnson:V:2.0`.\n",
    "\n",
    "Finally, the `comments` parameter is a convenience parameter to store any additional pertinent information.\n",
    "\n",
    "Computing blackbody response\n",
    "--------------------------------\n",
    "\n",
    "To significantly speed up calculations, passband intensities are stored in lookup tables instead of computing them over and over again on the fly. Computed passband tables are tagged in the `content` property of the class:"
   ]
  },
  {
   "cell_type": "code",
   "execution_count": 6,
   "metadata": {},
   "outputs": [
    {
     "data": {
      "text/plain": [
       "[]"
      ]
     },
     "execution_count": 6,
     "metadata": {},
     "output_type": "execute_result"
    }
   ],
   "source": [
    "pb.content"
   ]
  },
  {
   "cell_type": "markdown",
   "metadata": {},
   "source": [
    "Since we have not computed any tables yet, the list is empty for now. Blackbody functions for computing the lookup tables are built into PHOEBE and you do not need any auxiliary files to generate them. The lookup tables are defined for effective temperatures between 300K and 500,000K. To compute the blackbody response, issue:"
   ]
  },
  {
   "cell_type": "code",
   "execution_count": 7,
   "metadata": {},
   "outputs": [
    {
     "name": "stderr",
     "output_type": "stream",
     "text": [
      "/home/andrej/system/venvs/phoebe-dev/lib/python3.10/site-packages/phoebe/atmospheres/passbands.py:609: IntegrationWarning: The maximum number of subdivisions (50) has been achieved.\n",
      "  If increasing the limit yields no improvement it is advised to analyze \n",
      "  the integrand in order to determine the difficulties.  If the position of a \n",
      "  local difficulty can be determined (singularity, discontinuity) one will \n",
      "  probably gain from splitting up the interval and calling the integrator \n",
      "  on the subranges.  Perhaps a special-purpose integrator should be used.\n",
      "  return integrate.quad(pb, self.wl[0], self.wl[-1])[0]/self.ptf_area\n",
      "/home/andrej/system/venvs/phoebe-dev/lib/python3.10/site-packages/phoebe/atmospheres/passbands.py:606: IntegrationWarning: The maximum number of subdivisions (50) has been achieved.\n",
      "  If increasing the limit yields no improvement it is advised to analyze \n",
      "  the integrand in order to determine the difficulties.  If the position of a \n",
      "  local difficulty can be determined (singularity, discontinuity) one will \n",
      "  probably gain from splitting up the interval and calling the integrator \n",
      "  on the subranges.  Perhaps a special-purpose integrator should be used.\n",
      "  return integrate.quad(pb, self.wl[0], self.wl[-1])[0]/self.ptf_photon_area\n"
     ]
    }
   ],
   "source": [
    "pb.compute_blackbody_response()"
   ]
  },
  {
   "cell_type": "markdown",
   "metadata": {},
   "source": [
    "Checking the `content` property again shows that the table has been successfully computed:"
   ]
  },
  {
   "cell_type": "code",
   "execution_count": 8,
   "metadata": {},
   "outputs": [
    {
     "data": {
      "text/plain": [
       "['blackbody:Inorm']"
      ]
     },
     "execution_count": 8,
     "metadata": {},
     "output_type": "execute_result"
    }
   ],
   "source": [
    "pb.content"
   ]
  },
  {
   "cell_type": "markdown",
   "metadata": {},
   "source": [
    "We can now test-drive the blackbody lookup table we just created. For this we will use a low-level class method that computes normal emergent passband intensity, `Inorm()`. For the sake of simplicity, we will turn off limb darkening by setting `ld_func` to `'linear'` and `ld_coeffs` to `'[0.0]'`:"
   ]
  },
  {
   "cell_type": "code",
   "execution_count": 9,
   "metadata": {},
   "outputs": [
    {
     "data": {
      "text/plain": [
       "array([1.59532245e+13])"
      ]
     },
     "execution_count": 9,
     "metadata": {},
     "output_type": "execute_result"
    }
   ],
   "source": [
    "pb.Inorm(Teff=5772, atm='blackbody', ld_func='linear', ld_coeffs=[0.0])"
   ]
  },
  {
   "cell_type": "markdown",
   "metadata": {},
   "source": [
    "Let us now plot a range of temperatures, to make sure that normal emergent passband intensities do what they are supposed to do. While at it, let us compare what we get for the Johnson:V passband."
   ]
  },
  {
   "cell_type": "code",
   "execution_count": 10,
   "metadata": {},
   "outputs": [
    {
     "data": {
      "image/png": "[encoded data removed]",
      "text/plain": [
       "<Figure size 432x288 with 1 Axes>"
      ]
     },
     "metadata": {
      "needs_background": "light"
     },
     "output_type": "display_data"
    }
   ],
   "source": [
    "jV = phoebe.get_passband('Johnson:V')\n",
    "teffs = np.linspace(5000, 8000, 100)\n",
    "plt.xlabel('Temperature [K]')\n",
    "plt.ylabel('Inorm [W/m^3]')\n",
    "plt.plot(teffs, pb.Inorm(teffs, atm='blackbody', ld_func='linear', ld_coeffs=[0.0]), label='mypb')\n",
    "plt.plot(teffs, jV.Inorm(teffs, atm='blackbody', ld_func='linear', ld_coeffs=[0.0]), label='jV')\n",
    "plt.legend(loc='lower right')\n",
    "plt.show()"
   ]
  },
  {
   "cell_type": "markdown",
   "metadata": {},
   "source": [
    "This makes perfect sense: Johnson V transmission function is wider than our boxed transmission function, so intensity in the V band is larger the lower temperatures. However, for the hotter temperatures the contribution to the UV flux increases and our box passband with a perfect transmission of 1 takes over."
   ]
  },
  {
   "cell_type": "markdown",
   "metadata": {},
   "source": [
    "Computing Castelli & Kurucz (2004) response\n",
    "-------------------------------------------------\n",
    "\n",
    "For any real science you will want to generate model atmosphere tables. The default choice in PHOEBE are the models computed by Fiorella Castelli and Bob Kurucz ([website](http://wwwuser.oats.inaf.it/castelli/), [paper](https://arxiv.org/abs/astro-ph/0405087)) that feature new opacity distribution functions. In principle, you can generate PHOEBE-compatible tables for *any* model atmospheres, but that would require a bit of book-keeping legwork in the PHOEBE backend. [Contact us](mailto:aprsa@villanova.edu) to discuss an extension to other model atmospheres.\n",
    "\n",
    "To compute Castelli & Kurucz (2004) passband tables, we will use the previously downloaded model atmospheres. We start with the ck2004 normal intensities:"
   ]
  },
  {
   "cell_type": "code",
   "execution_count": 11,
   "metadata": {},
   "outputs": [],
   "source": [
    "pb.compute_ck2004_response(path='tables/ck2004', verbose=False)"
   ]
  },
  {
   "cell_type": "markdown",
   "metadata": {},
   "source": [
    "Note, of course, that you will need to change the `path` to point to the directory where you unpacked the ck2004 tables. The verbosity parameter `verbose` will report on the progress as computation is being done. Depending on your computer speed, this step will take up to a minute to complete. We can now check the passband's `content` attribute again:"
   ]
  },
  {
   "cell_type": "code",
   "execution_count": 12,
   "metadata": {},
   "outputs": [
    {
     "data": {
      "text/plain": [
       "['blackbody:Inorm', 'ck2004:Inorm']"
      ]
     },
     "execution_count": 12,
     "metadata": {},
     "output_type": "execute_result"
    }
   ],
   "source": [
    "pb.content"
   ]
  },
  {
   "cell_type": "markdown",
   "metadata": {},
   "source": [
    "Let us now use the same low-level function as before to compare normal emergent passband intensity for our custom passband for blackbody and ck2004 model atmospheres. One other complication is that, unlike blackbody model that depends only on the temperature, the ck2004 model depends on surface gravity (log g) and heavy metal abundances as well, so we need to pass those arrays."
   ]
  },
  {
   "cell_type": "code",
   "execution_count": 13,
   "metadata": {},
   "outputs": [
    {
     "data": {
      "image/png": "[encoded data removed]",
      "text/plain": [
       "<Figure size 432x288 with 1 Axes>"
      ]
     },
     "metadata": {
      "needs_background": "light"
     },
     "output_type": "display_data"
    }
   ],
   "source": [
    "loggs = np.ones(len(teffs))*4.43\n",
    "abuns = np.zeros(len(teffs))\n",
    "plt.xlabel('Temperature [K]')\n",
    "plt.ylabel('Inorm [W/m^3]')\n",
    "plt.plot(teffs, pb.Inorm(teffs,               atm='blackbody', ld_func='linear', ld_coeffs=[0.0]), label='blackbody')\n",
    "plt.plot(teffs, pb.Inorm(teffs, loggs, abuns, atm='ck2004',    ld_func='linear', ld_coeffs=[0.0]), label='ck2004')\n",
    "plt.legend(loc='lower right')\n",
    "plt.show()"
   ]
  },
  {
   "cell_type": "markdown",
   "metadata": {},
   "source": [
    "Quite a difference. That is why using model atmospheres is superior when accuracy is of importance. Next, we need to compute direction-dependent intensities for all our limb darkening and boosting needs. This is a step that takes a long time; depending on your computer speed, it can take a few minutes to complete."
   ]
  },
  {
   "cell_type": "code",
   "execution_count": 14,
   "metadata": {},
   "outputs": [],
   "source": [
    "pb.compute_ck2004_intensities(path='tables/ck2004', verbose=False)"
   ]
  },
  {
   "cell_type": "markdown",
   "metadata": {},
   "source": [
    "This step will allow PHOEBE to compute all direction-dependent intensities on the fly, including the interpolation of the limb darkening coefficients that is model-independent. When limb darkening models are preferred (for example, when you don't quite trust direction-dependent intensities from the model atmosphere), we need to calculate two more tables: one for limb darkening coefficients and the other for the integrated limb darkening. That is done by two methods that can take a couple of minutes to complete:"
   ]
  },
  {
   "cell_type": "code",
   "execution_count": 15,
   "metadata": {},
   "outputs": [],
   "source": [
    "pb.compute_ck2004_ldcoeffs()\n",
    "pb.compute_ck2004_ldints()"
   ]
  },
  {
   "cell_type": "markdown",
   "metadata": {},
   "source": [
    "This completes the computation of Castelli & Kurucz auxiliary tables.\n",
    "\n",
    "## Computing PHOENIX response\n",
    "\n",
    "PHOENIX is a 3-D model atmosphere code. Because of that, it is more complex and better behaved for cooler stars (down to ~2300K). The steps to compute PHOENIX intensity tables are analogous to the ones we used for ck2004; so we can do all of them in a single step:"
   ]
  },
  {
   "cell_type": "code",
   "execution_count": 16,
   "metadata": {},
   "outputs": [
    {
     "name": "stdout",
     "output_type": "stream",
     "text": [
      "['blackbody:Inorm', 'ck2004:Inorm', 'ck2004:Imu', 'ck2004:ld', 'ck2004:ldint', 'phoenix:Inorm', 'phoenix:Imu', 'phoenix:ld', 'phoenix:ldint']\n"
     ]
    }
   ],
   "source": [
    "pb.compute_phoenix_response(path='tables/phoenix', verbose=False)\n",
    "pb.compute_phoenix_intensities(path='tables/phoenix', verbose=False)\n",
    "pb.compute_phoenix_ldcoeffs()\n",
    "pb.compute_phoenix_ldints()\n",
    "print(pb.content)"
   ]
  },
  {
   "cell_type": "markdown",
   "metadata": {},
   "source": [
    "There is one extra step that we need to do for phoenix atmospheres: because there are gaps in the coverage of atmospheric parameters, we need to impute those values in order to allow for seamless interpolation. This is achieved by the call to `impute_atmosphere_grid()`. It is a computationally intensive step that can take 10+ minutes."
   ]
  },
  {
   "cell_type": "code",
   "execution_count": 17,
   "metadata": {},
   "outputs": [],
   "source": [
    "pb.impute_atmosphere_grid(pb._phoenix_energy_grid)\n",
    "pb.impute_atmosphere_grid(pb._phoenix_photon_grid)\n",
    "pb.impute_atmosphere_grid(pb._phoenix_ld_energy_grid)\n",
    "pb.impute_atmosphere_grid(pb._phoenix_ld_photon_grid)\n",
    "pb.impute_atmosphere_grid(pb._phoenix_ldint_energy_grid)\n",
    "pb.impute_atmosphere_grid(pb._phoenix_ldint_photon_grid)\n",
    "for i in range(len(pb._phoenix_intensity_axes[3])):\n",
    "    pb.impute_atmosphere_grid(pb._phoenix_Imu_energy_grid[:,:,:,i,:])\n",
    "    pb.impute_atmosphere_grid(pb._phoenix_Imu_photon_grid[:,:,:,i,:])"
   ]
  },
  {
   "cell_type": "markdown",
   "metadata": {},
   "source": [
    "Now we can compare all three model atmospheres:"
   ]
  },
  {
   "cell_type": "code",
   "execution_count": 18,
   "metadata": {},
   "outputs": [
    {
     "data": {
      "image/png": "[encoded data removed]",
      "text/plain": [
       "<Figure size 432x288 with 1 Axes>"
      ]
     },
     "metadata": {
      "needs_background": "light"
     },
     "output_type": "display_data"
    }
   ],
   "source": [
    "plt.xlabel('Temperature [K]')\n",
    "plt.ylabel('Inorm [W/m^3]')\n",
    "plt.plot(teffs, pb.Inorm(teffs,               atm='blackbody', ldatm='ck2004',  ld_func='linear', ld_coeffs=[0.0]), label='blackbody')\n",
    "plt.plot(teffs, pb.Inorm(teffs, loggs, abuns, atm='ck2004',    ldatm='ck2004',  ld_func='linear', ld_coeffs=[0.0]), label='ck2004')\n",
    "plt.plot(teffs, pb.Inorm(teffs, loggs, abuns, atm='phoenix',   ldatm='phoenix', ld_func='linear', ld_coeffs=[0.0]), label='phoenix')\n",
    "plt.legend(loc='lower right')\n",
    "plt.show()"
   ]
  },
  {
   "cell_type": "markdown",
   "metadata": {},
   "source": [
    "We see that, as temperature increases, model atmosphere intensities can differ quite a bit. That explains why the choice of a model atmosphere is quite important and should be given proper consideration."
   ]
  },
  {
   "cell_type": "markdown",
   "metadata": {},
   "source": [
    "## Importing Wilson-Devinney response\n",
    "\n",
    "PHOEBE no longer shares any codebase with the WD code, but for comparison purposes it is sometimes useful to use the same atmosphere tables. If the passband you are registering with PHOEBE has been defined in WD's atmcof.dat and atmcofplanck.dat files, PHOEBE can import those coefficients and use them to compute intensities.\n",
    "\n",
    "To import a set of WD atmospheric coefficients, you need to know the corresponding index of the passband (you can look it up in the WD user manual available at ftp://ftp.astro.ufl.edu/pub/wilson/lcdc2003/ebdoc2003.2feb2004.pdf.gz) and you need to grab the files ftp://ftp.astro.ufl.edu/pub/wilson/lcdc2003/atmcofplanck.dat.gz and ftp://ftp.astro.ufl.edu/pub/wilson/lcdc2003/atmcof.dat.gz from Bob Wilson's webpage. For this particular passband the index is 22. To import, issue:"
   ]
  },
  {
   "cell_type": "code",
   "execution_count": 19,
   "metadata": {},
   "outputs": [],
   "source": [
    "pb.import_wd_atmcof('atmcofplanck.dat', 'atmcof.dat', 22)"
   ]
  },
  {
   "cell_type": "markdown",
   "metadata": {},
   "source": [
    "We can consult the `content` attribute to see the entire set of supported tables, and plot different atmosphere models for comparison purposes:"
   ]
  },
  {
   "cell_type": "code",
   "execution_count": 20,
   "metadata": {},
   "outputs": [
    {
     "data": {
      "text/plain": [
       "['blackbody:Inorm',\n",
       " 'ck2004:Inorm',\n",
       " 'ck2004:Imu',\n",
       " 'ck2004:ld',\n",
       " 'ck2004:ldint',\n",
       " 'phoenix:Inorm',\n",
       " 'phoenix:Imu',\n",
       " 'phoenix:ld',\n",
       " 'phoenix:ldint',\n",
       " 'extern_planckint:Inorm',\n",
       " 'extern_atmx:Inorm']"
      ]
     },
     "execution_count": 20,
     "metadata": {},
     "output_type": "execute_result"
    }
   ],
   "source": [
    "pb.content"
   ]
  },
  {
   "cell_type": "code",
   "execution_count": 21,
   "metadata": {},
   "outputs": [
    {
     "data": {
      "image/png": "[encoded data removed]",
      "text/plain": [
       "<Figure size 432x288 with 1 Axes>"
      ]
     },
     "metadata": {
      "needs_background": "light"
     },
     "output_type": "display_data"
    }
   ],
   "source": [
    "plt.xlabel('Temperature [K]')\n",
    "plt.ylabel('Inorm [W/m^3]')\n",
    "plt.plot(teffs, pb.Inorm(teffs,               atm='blackbody',   ldatm='ck2004',  ld_func='linear', ld_coeffs=[0.0]), label='blackbody')\n",
    "plt.plot(teffs, pb.Inorm(teffs, loggs, abuns, atm='ck2004',      ldatm='ck2004',  ld_func='linear', ld_coeffs=[0.0]), label='ck2004')\n",
    "plt.plot(teffs, pb.Inorm(teffs, loggs, abuns, atm='phoenix',     ldatm='phoenix', ld_func='linear', ld_coeffs=[0.0]), label='phoenix')\n",
    "plt.plot(teffs, pb.Inorm(teffs, loggs, abuns, atm='extern_atmx', ldatm='phoenix', ld_func='linear', ld_coeffs=[0.0]), label='wd_atmx')\n",
    "plt.legend(loc='lower right')\n",
    "plt.show()"
   ]
  },
  {
   "cell_type": "markdown",
   "metadata": {},
   "source": [
    "Still an appreciable difference. \n",
    "\n",
    "## Saving the passband table\n",
    "\n",
    "The final step of all this (computer's) hard work is to save the passband file so that these steps do not need to be ever repeated. From now on you will be able to load the passband file explicitly and PHOEBE will have full access to all of its tables. Your new passband will be identified as `'Custom:mypb'`.\n",
    "\n",
    "To make PHOEBE automatically load the passband, it needs to be added to one of the [passband directories](http://phoebe-project.org/docs/2.2/api/phoebe.atmospheres.passbands.list_passband_directories) that PHOEBE recognizes. If there are no proprietary aspects that hinder the dissemination of the tables, please consider contributing them to PHOEBE so that other users can use them."
   ]
  },
  {
   "cell_type": "code",
   "execution_count": 22,
   "metadata": {},
   "outputs": [],
   "source": [
    "pb.save('~/.phoebe/atmospheres/tables/passbands/my_passband.fits')"
   ]
  },
  {
   "cell_type": "markdown",
   "metadata": {},
   "source": []
  }
 ],
 "metadata": {
  "interpreter": {
   "hash": "d03c2550f08e22a77817d932fec0f3802e1fd2540a98dc1f7ee55437152ec9e1"
  },
  "kernelspec": {
   "display_name": "Python 3.10.4 ('phoebe-dev')",
   "language": "python",
   "name": "python3"
  },
  "language_info": {
   "codemirror_mode": {
    "name": "ipython",
    "version": 3
   },
   "file_extension": ".py",
   "mimetype": "text/x-python",
   "name": "python",
   "nbconvert_exporter": "python",
   "pygments_lexer": "ipython3",
   "version": "3.10.4"
  }
 },
 "nbformat": 4,
 "nbformat_minor": 1
}
