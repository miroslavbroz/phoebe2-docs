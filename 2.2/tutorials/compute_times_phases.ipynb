{
 "cells": [
  {
   "cell_type": "markdown",
   "metadata": {},
   "source": [
    "Advanced: compute_times & compute_phases\n",
    "============================\n",
    "\n",
    "Setup\n",
    "-----------------------------"
   ]
  },
  {
   "cell_type": "markdown",
   "metadata": {},
   "source": [
    "Let's first make sure we have the latest version of PHOEBE 2.2 installed. (You can comment out this line if you don't use pip for your installation or don't want to update to the latest release)."
   ]
  },
  {
   "cell_type": "code",
   "execution_count": null,
   "metadata": {},
   "outputs": [],
   "source": [
    "!pip install -I \"phoebe>=2.2,<2.3\""
   ]
  },
  {
   "cell_type": "markdown",
   "metadata": {},
   "source": [
    "As always, let's do imports and create a new Bundle.  See [Building a System](building_a_system.ipynb) for more details."
   ]
  },
  {
   "cell_type": "code",
   "execution_count": 1,
   "metadata": {},
   "outputs": [],
   "source": [
    "import phoebe\n",
    "from phoebe import u # units\n",
    "\n",
    "b = phoebe.default_binary()"
   ]
  },
  {
   "cell_type": "code",
   "execution_count": 2,
   "metadata": {},
   "outputs": [
    {
     "data": {
      "text/plain": [
       "<ParameterSet: 43 parameters | contexts: figure, dataset, compute, constraint>"
      ]
     },
     "execution_count": 2,
     "metadata": {},
     "output_type": "execute_result"
    }
   ],
   "source": [
    "b.add_dataset('lc', times=phoebe.linspace(0,10,101), dataset='lc01')"
   ]
  },
  {
   "cell_type": "markdown",
   "metadata": {
    "collapsed": true
   },
   "source": [
    "Overriding Computation Times\n",
    "----------------------------\n",
    "\n",
    "If `compute_times` is not empty (by either providing `compute_times` *or* `compute_phases`), the provided value will be used to compute the model instead of those in the `times` parameter.\n",
    "\n",
    "In the case of a [mesh dataset](MESH.ipynb) or [orbit dataset](ORB.ipynb), observations cannot be attached to the dataset, so a `times` parameter does not exist.  In this case `compute_times` or `compute_phases` will *always* be used."
   ]
  },
  {
   "cell_type": "code",
   "execution_count": 3,
   "metadata": {},
   "outputs": [
    {
     "name": "stdout",
     "output_type": "stream",
     "text": [
      "ParameterSet: 2 parameters\n",
      "              times@lc01@dataset: [ 0.   0.1  0.2 ...  9.8  9.9 10. ] d\n",
      "      compute_times@lc01@dataset: [] d\n"
     ]
    }
   ],
   "source": [
    "print(b.filter(qualifier=['times', 'compute_times'], context='dataset'))"
   ]
  },
  {
   "cell_type": "code",
   "execution_count": 4,
   "metadata": {},
   "outputs": [],
   "source": [
    "b.set_value('compute_times', phoebe.linspace(0,3,11))"
   ]
  },
  {
   "cell_type": "code",
   "execution_count": 5,
   "metadata": {},
   "outputs": [
    {
     "data": {
      "text/plain": [
       "<ParameterSet: 4 parameters | contexts: figure, model>"
      ]
     },
     "execution_count": 5,
     "metadata": {},
     "output_type": "execute_result"
    }
   ],
   "source": [
    "b.run_compute()"
   ]
  },
  {
   "cell_type": "code",
   "execution_count": 6,
   "metadata": {},
   "outputs": [
    {
     "name": "stdout",
     "output_type": "stream",
     "text": [
      "dataset times: [ 0.   0.1  0.2  0.3  0.4  0.5  0.6  0.7  0.8  0.9  1.   1.1  1.2  1.3\n",
      "  1.4  1.5  1.6  1.7  1.8  1.9  2.   2.1  2.2  2.3  2.4  2.5  2.6  2.7\n",
      "  2.8  2.9  3.   3.1  3.2  3.3  3.4  3.5  3.6  3.7  3.8  3.9  4.   4.1\n",
      "  4.2  4.3  4.4  4.5  4.6  4.7  4.8  4.9  5.   5.1  5.2  5.3  5.4  5.5\n",
      "  5.6  5.7  5.8  5.9  6.   6.1  6.2  6.3  6.4  6.5  6.6  6.7  6.8  6.9\n",
      "  7.   7.1  7.2  7.3  7.4  7.5  7.6  7.7  7.8  7.9  8.   8.1  8.2  8.3\n",
      "  8.4  8.5  8.6  8.7  8.8  8.9  9.   9.1  9.2  9.3  9.4  9.5  9.6  9.7\n",
      "  9.8  9.9 10. ]\n",
      "dataset compute_times: [0.  0.3 0.6 0.9 1.2 1.5 1.8 2.1 2.4 2.7 3. ]\n",
      "model times: [0.  0.3 0.6 0.9 1.2 1.5 1.8 2.1 2.4 2.7 3. ]\n"
     ]
    }
   ],
   "source": [
    "print(\"dataset times: {}\\ndataset compute_times: {}\\nmodel times: {}\".format(\n",
    "    b.get_value('times', context='dataset'),\n",
    "    b.get_value('compute_times', context='dataset'),\n",
    "    b.get_value('times', context='model')\n",
    "    ))"
   ]
  },
  {
   "cell_type": "markdown",
   "metadata": {},
   "source": [
    "`compute_times` (when not empty) overrides the value of `times` when computing the model.  However, passing `times` as a keyword argument to [run_compute](../api/phoebe.frontend.bundle.Bundle.run_compute.md) will take precedence over either - and override the computed times across *all* enabled datasets."
   ]
  },
  {
   "cell_type": "code",
   "execution_count": 7,
   "metadata": {},
   "outputs": [
    {
     "data": {
      "text/plain": [
       "<ParameterSet: 4 parameters | contexts: figure, model>"
      ]
     },
     "execution_count": 7,
     "metadata": {},
     "output_type": "execute_result"
    }
   ],
   "source": [
    "b.run_compute(times=[0,0.2])"
   ]
  },
  {
   "cell_type": "code",
   "execution_count": 8,
   "metadata": {},
   "outputs": [
    {
     "name": "stdout",
     "output_type": "stream",
     "text": [
      "dataset times: [ 0.   0.1  0.2  0.3  0.4  0.5  0.6  0.7  0.8  0.9  1.   1.1  1.2  1.3\n",
      "  1.4  1.5  1.6  1.7  1.8  1.9  2.   2.1  2.2  2.3  2.4  2.5  2.6  2.7\n",
      "  2.8  2.9  3.   3.1  3.2  3.3  3.4  3.5  3.6  3.7  3.8  3.9  4.   4.1\n",
      "  4.2  4.3  4.4  4.5  4.6  4.7  4.8  4.9  5.   5.1  5.2  5.3  5.4  5.5\n",
      "  5.6  5.7  5.8  5.9  6.   6.1  6.2  6.3  6.4  6.5  6.6  6.7  6.8  6.9\n",
      "  7.   7.1  7.2  7.3  7.4  7.5  7.6  7.7  7.8  7.9  8.   8.1  8.2  8.3\n",
      "  8.4  8.5  8.6  8.7  8.8  8.9  9.   9.1  9.2  9.3  9.4  9.5  9.6  9.7\n",
      "  9.8  9.9 10. ]\n",
      "dataset compute_times: [0.  0.3 0.6 0.9 1.2 1.5 1.8 2.1 2.4 2.7 3. ]\n",
      "model times: [0.  0.2]\n"
     ]
    }
   ],
   "source": [
    "print(\"dataset times: {}\\ndataset compute_times: {}\\nmodel times: {}\".format(\n",
    "    b.get_value('times', context='dataset'),\n",
    "    b.get_value('compute_times', context='dataset'),\n",
    "    b.get_value('times', context='model')\n",
    "    ))"
   ]
  },
  {
   "cell_type": "code",
   "execution_count": 9,
   "metadata": {},
   "outputs": [
    {
     "data": {
      "text/plain": [
       "<ParameterSet: 4 parameters | contexts: figure, model>"
      ]
     },
     "execution_count": 9,
     "metadata": {},
     "output_type": "execute_result"
    }
   ],
   "source": [
    "b.run_compute()"
   ]
  },
  {
   "cell_type": "code",
   "execution_count": 10,
   "metadata": {},
   "outputs": [
    {
     "name": "stdout",
     "output_type": "stream",
     "text": [
      "dataset times: [ 0.   0.1  0.2  0.3  0.4  0.5  0.6  0.7  0.8  0.9  1.   1.1  1.2  1.3\n",
      "  1.4  1.5  1.6  1.7  1.8  1.9  2.   2.1  2.2  2.3  2.4  2.5  2.6  2.7\n",
      "  2.8  2.9  3.   3.1  3.2  3.3  3.4  3.5  3.6  3.7  3.8  3.9  4.   4.1\n",
      "  4.2  4.3  4.4  4.5  4.6  4.7  4.8  4.9  5.   5.1  5.2  5.3  5.4  5.5\n",
      "  5.6  5.7  5.8  5.9  6.   6.1  6.2  6.3  6.4  6.5  6.6  6.7  6.8  6.9\n",
      "  7.   7.1  7.2  7.3  7.4  7.5  7.6  7.7  7.8  7.9  8.   8.1  8.2  8.3\n",
      "  8.4  8.5  8.6  8.7  8.8  8.9  9.   9.1  9.2  9.3  9.4  9.5  9.6  9.7\n",
      "  9.8  9.9 10. ]\n",
      "dataset compute_times: [0.  0.3 0.6 0.9 1.2 1.5 1.8 2.1 2.4 2.7 3. ]\n",
      "model times: [0.  0.3 0.6 0.9 1.2 1.5 1.8 2.1 2.4 2.7 3. ]\n"
     ]
    }
   ],
   "source": [
    "print(\"dataset times: {}\\ndataset compute_times: {}\\nmodel times: {}\".format(\n",
    "    b.get_value('times', context='dataset'),\n",
    "    b.get_value('compute_times', context='dataset'),\n",
    "    b.get_value('times', context='model')\n",
    "    ))"
   ]
  },
  {
   "cell_type": "markdown",
   "metadata": {},
   "source": [
    "Phase-Time Conversion\n",
    "----------------------------------"
   ]
  },
  {
   "cell_type": "markdown",
   "metadata": {},
   "source": [
    "In addition to the ability to provide `compute_times`, we can alternatively provide `compute_phases`.  These two parameters are linked via a constraint (see the [constraints tutorial](./constraints.ipynb)), with `compute_phases` *constrained* by default."
   ]
  },
  {
   "cell_type": "code",
   "execution_count": 11,
   "metadata": {},
   "outputs": [
    {
     "name": "stdout",
     "output_type": "stream",
     "text": [
      "ParameterSet: 4 parameters\n",
      "              times@lc01@dataset: [ 0.   0.1  0.2 ...  9.8  9.9 10. ] d\n",
      "      compute_times@lc01@dataset: [0.  0.3 0.6 ... 2.4 2.7 3. ] d\n",
      "*    compute_phases@lc01@dataset: [ 0.   0.3 -0.4 ...  0.4 -0.3  0. ]\n",
      "  compute_phases_t0@lc01@dataset: t0_supconj\n"
     ]
    }
   ],
   "source": [
    "print(b.filter(qualifier=['times', 'compute_times', 'compute_phases', 'compute_phases_t0'], context='dataset'))"
   ]
  },
  {
   "cell_type": "markdown",
   "metadata": {},
   "source": [
    "Essentially, this constraint does the same thing as [b.to_phase](../api/phoebe.frontend.bundle.Bundle.to_phase.md) or [b.to_time](../api/phoebe.frontend.bundle.Bundle.to_time.md), using the appropriate t0 according to `compute_phases_t0` from the **top-level** orbit in the hierarchy."
   ]
  },
  {
   "cell_type": "code",
   "execution_count": 12,
   "metadata": {},
   "outputs": [
    {
     "name": "stdout",
     "output_type": "stream",
     "text": [
      "Constrains (qualifier): compute_phases\n",
      "Expression in solar units (value): times_to_phases({compute_times@lc01@dataset}, {period@binary@component}, {dpdt@binary@component}, {compute_phases_t0@lc01@dataset}, {t0_supconj@binary@component}, {t0_perpass@binary@component}, {t0_ref@binary@component})\n",
      "Current Result (result): [ 0.   0.3 -0.4 -0.1  0.2  0.5 -0.2  0.1  0.4 -0.3  0. ]\n"
     ]
    }
   ],
   "source": [
    "print(b.get_constraint('compute_phases'))"
   ]
  },
  {
   "cell_type": "code",
   "execution_count": 13,
   "metadata": {},
   "outputs": [
    {
     "name": "stdout",
     "output_type": "stream",
     "text": [
      "['t0_supconj', 't0_perpass', 't0_ref']\n"
     ]
    }
   ],
   "source": [
    "print(b.get_parameter('compute_phases_t0').choices)"
   ]
  },
  {
   "cell_type": "markdown",
   "metadata": {},
   "source": [
    "In order to provide `compute_phases` instead of `compute_times`, we must call [b.flip_constraint](../api/phoebe.frontend.bundle.Bundle.flip_constraint.md)."
   ]
  },
  {
   "cell_type": "code",
   "execution_count": 14,
   "metadata": {},
   "outputs": [
    {
     "data": {
      "text/plain": [
       "<ConstraintParameter: {compute_times@lc01@dataset} = phases_to_times({compute_phases@lc01@dataset}, {period@binary@component}, {dpdt@binary@component}, {compute_phases_t0@lc01@dataset}, {t0_supconj@binary@component}, {t0_perpass@binary@component}, {t0_ref@binary@component}) (solar units) => [ 0.   0.3 -0.4 -0.1  0.2  0.5 -0.2  0.1  0.4 -0.3  0. ] d>"
      ]
     },
     "execution_count": 14,
     "metadata": {},
     "output_type": "execute_result"
    }
   ],
   "source": [
    "b.flip_constraint('compute_phases', solve_for='compute_times')"
   ]
  },
  {
   "cell_type": "code",
   "execution_count": 15,
   "metadata": {},
   "outputs": [],
   "source": [
    "b.set_value('compute_phases', phoebe.linspace(0,1,11))"
   ]
  },
  {
   "cell_type": "code",
   "execution_count": 16,
   "metadata": {},
   "outputs": [
    {
     "name": "stdout",
     "output_type": "stream",
     "text": [
      "ParameterSet: 4 parameters\n",
      "              times@lc01@dataset: [ 0.   0.1  0.2 ...  9.8  9.9 10. ] d\n",
      "*     compute_times@lc01@dataset: [0.  0.1 0.2 ... 0.8 0.9 1. ] d\n",
      "     compute_phases@lc01@dataset: [0.  0.1 0.2 ... 0.8 0.9 1. ]\n",
      "  compute_phases_t0@lc01@dataset: t0_supconj\n"
     ]
    }
   ],
   "source": [
    "print(b.filter(qualifier=['times', 'compute_times', 'compute_phases', 'compute_phases_t0'], context='dataset'))"
   ]
  },
  {
   "cell_type": "markdown",
   "metadata": {},
   "source": [
    "Note that under the hood, PHOEBE **always** works in time-space, meaning it is the *constrained* value of `compute_times` that is being passed under-the-hood."
   ]
  },
  {
   "cell_type": "markdown",
   "metadata": {},
   "source": [
    "Also note that if directly passing `compute_phases` to [b.add_dataset](../api/phoebe.frontend.bundle.Bundle.add_dataset.md), the constraint will be flipped on our behalf.  We would then need to flip the constraint in order to provide `compute_times` instead."
   ]
  },
  {
   "cell_type": "markdown",
   "metadata": {},
   "source": [
    "Finally, it is important to make the distinction that this is **not** adding support for **observations** in phases.  If we have an old light curve that is only available in phase, we still must convert these to times manually (or via [b.to_time](../api/phoebe.frontend.bundle.Bundle.to_time.md)).  This restriction is intentional: we do not want the mapping between phase and time to change as the ephemeris is changed or fitted, rather we want to try to map from phase to time using the ephemeris that was originally used when the dataset was recorded (if possible, or the best possible guess)."
   ]
  },
  {
   "cell_type": "markdown",
   "metadata": {},
   "source": [
    "Interpolating the Model\n",
    "------------------------------"
   ]
  },
  {
   "cell_type": "markdown",
   "metadata": {},
   "source": [
    "Whether or not we used `compute_times`/`compute_phases` or not, it is sometimes useful to be able to interpolate on the resulting model.  In the case where we provided `compute_times`/`compute_phases` to \"down-sample\" from a large dataset, this can be particularly useful.\n",
    "\n",
    "We can call [interp_value](../api/phoebe.parameters.FloatArrayParameter.interp_value.md) on any [FloatArrayParameter](../api/phoebe.parameters.FloatArrayParameter.md).  "
   ]
  },
  {
   "cell_type": "code",
   "execution_count": 17,
   "metadata": {},
   "outputs": [
    {
     "data": {
      "text/plain": [
       "array([0.99468924, 2.02972764, 2.01532896, 2.01518487, 2.02963908,\n",
       "       0.99468924, 2.02972764, 2.01532896, 2.01518487, 2.02963908,\n",
       "       0.99468924])"
      ]
     },
     "execution_count": 17,
     "metadata": {},
     "output_type": "execute_result"
    }
   ],
   "source": [
    "b.get_parameter('fluxes', context='model').get_value()"
   ]
  },
  {
   "cell_type": "code",
   "execution_count": 18,
   "metadata": {},
   "outputs": [
    {
     "data": {
      "text/plain": [
       "2.02000294226948"
      ]
     },
     "execution_count": 18,
     "metadata": {},
     "output_type": "execute_result"
    }
   ],
   "source": [
    "b.get_parameter('fluxes', context='model').interp_value(times=1.0)"
   ]
  },
  {
   "cell_type": "code",
   "execution_count": 19,
   "metadata": {},
   "outputs": [
    {
     "data": {
      "text/plain": [
       "array([0.99468924, 1.09819308, 1.20169692, 1.30520076, 1.4087046 ,\n",
       "       1.51220844, 1.61571228, 1.71921612, 1.82271996, 1.9262238 ,\n",
       "       2.02972764, 2.02828777, 2.02684791, 2.02540804, 2.02396817,\n",
       "       2.0225283 , 2.02108843, 2.01964857, 2.0182087 , 2.01676883,\n",
       "       2.01532896, 2.01531455, 2.01530014, 2.01528574, 2.01527133,\n",
       "       2.01525692, 2.01524251, 2.0152281 , 2.01521369, 2.01519928,\n",
       "       2.01518487, 2.01663029, 2.01807571, 2.01952114, 2.02096656,\n",
       "       2.02241198, 2.0238574 , 2.02530282, 2.02674824, 2.02819366,\n",
       "       2.02963908, 1.9261441 , 1.82264911, 1.71915413, 1.61565914,\n",
       "       1.51216416, 1.40866918, 1.30517419, 1.20167921, 1.09818422,\n",
       "       0.99468924, 1.09819308, 1.20169692, 1.30520076, 1.4087046 ,\n",
       "       1.51220844, 1.61571228, 1.71921612, 1.82271996, 1.9262238 ,\n",
       "       2.02972764, 2.02828777, 2.02684791, 2.02540804, 2.02396817,\n",
       "       2.0225283 , 2.02108843, 2.01964857, 2.0182087 , 2.01676883,\n",
       "       2.01532896, 2.01531455, 2.01530014, 2.01528574, 2.01527133,\n",
       "       2.01525692, 2.01524251, 2.0152281 , 2.01521369, 2.01519928,\n",
       "       2.01518487, 2.01663029, 2.01807571, 2.01952114, 2.02096656,\n",
       "       2.02241198, 2.0238574 , 2.02530282, 2.02674824, 2.02819366,\n",
       "       2.02963908, 1.9261441 , 1.82264911, 1.71915413, 1.61565914,\n",
       "       1.51216416, 1.40866918, 1.30517419, 1.20167921, 1.09818422,\n",
       "       0.99468924])"
      ]
     },
     "execution_count": 19,
     "metadata": {},
     "output_type": "execute_result"
    }
   ],
   "source": [
    "b.get_parameter('fluxes', context='model').interp_value(times=phoebe.linspace(0,3,101))"
   ]
  },
  {
   "cell_type": "markdown",
   "metadata": {},
   "source": [
    "In the case of times, this will *automatically* interpolate in phase-space if the provided time is outside the range of the referenced times array.  If you have a logger enabled with at least the 'warning' level, this will raise a warning and state the phases at which the interpolation will be completed."
   ]
  },
  {
   "cell_type": "code",
   "execution_count": 20,
   "metadata": {},
   "outputs": [
    {
     "data": {
      "text/plain": [
       "0.9946892395215293"
      ]
     },
     "execution_count": 20,
     "metadata": {},
     "output_type": "execute_result"
    }
   ],
   "source": [
    "b.get_parameter('fluxes', context='model').interp_value(times=5)"
   ]
  },
  {
   "cell_type": "markdown",
   "metadata": {},
   "source": [
    "Determining & Plotting Residuals\n",
    "----------------------------"
   ]
  },
  {
   "cell_type": "markdown",
   "metadata": {},
   "source": [
    "One particularly useful case for interpolating is to compare a model (perhaps computed in phase-space) to a dataset with a large number of datapoints.  We can do this directly by calling [compute_residuals](../api/phoebe.parameters.ParameterSet.compute_residuals.md), which will handle any necessary interpolation and compare the dependent variable between the dataset and models.\n",
    "\n",
    "Note that if there are more than one dataset or model attached to the bundle, it may be necessary to pass `dataset` and/or `model` (or filter in advanced and call compute_residuals on the filtered [ParameterSet](../api/phoebe.paraemters.ParameterSet.md).\n",
    "\n",
    "To see this in action, we'll first create a \"fake\" observational dataset, add some noise, recompute the model using `compute_phases`, and then calculate the residuals."
   ]
  },
  {
   "cell_type": "code",
   "execution_count": 21,
   "metadata": {},
   "outputs": [
    {
     "data": {
      "text/plain": [
       "<ParameterSet: 43 parameters | contexts: figure, dataset, compute, constraint>"
      ]
     },
     "execution_count": 21,
     "metadata": {},
     "output_type": "execute_result"
    }
   ],
   "source": [
    "b.add_dataset('lc', \n",
    "              times=phoebe.linspace(0,10,1000),\n",
    "              dataset='lc01',\n",
    "              overwrite=True)"
   ]
  },
  {
   "cell_type": "code",
   "execution_count": 22,
   "metadata": {},
   "outputs": [
    {
     "data": {
      "text/plain": [
       "<ParameterSet: 4 parameters | contexts: figure, model>"
      ]
     },
     "execution_count": 22,
     "metadata": {},
     "output_type": "execute_result"
    }
   ],
   "source": [
    "b.run_compute(irrad_method='none')"
   ]
  },
  {
   "cell_type": "code",
   "execution_count": 23,
   "metadata": {},
   "outputs": [],
   "source": [
    "fluxes = b.get_value('fluxes', context='model')\n",
    "b.set_value('fluxes', context='dataset', value=fluxes)"
   ]
  },
  {
   "cell_type": "code",
   "execution_count": 24,
   "metadata": {},
   "outputs": [
    {
     "data": {
      "text/plain": [
       "<ConstraintParameter: {compute_times@lc01@dataset} = phases_to_times({compute_phases@lc01@dataset}, {period@binary@component}, {dpdt@binary@component}, {compute_phases_t0@lc01@dataset}, {t0_supconj@binary@component}, {t0_perpass@binary@component}, {t0_ref@binary@component}) (solar units) => [] d>"
      ]
     },
     "execution_count": 24,
     "metadata": {},
     "output_type": "execute_result"
    }
   ],
   "source": [
    "b.flip_constraint('compute_phases', solve_for='compute_times')"
   ]
  },
  {
   "cell_type": "code",
   "execution_count": 25,
   "metadata": {},
   "outputs": [],
   "source": [
    "b.set_value('compute_phases', phoebe.linspace(0,1,101))"
   ]
  },
  {
   "cell_type": "code",
   "execution_count": 26,
   "metadata": {},
   "outputs": [],
   "source": [
    "b.set_value('teff', component='primary', value=5950)"
   ]
  },
  {
   "cell_type": "code",
   "execution_count": 27,
   "metadata": {},
   "outputs": [
    {
     "data": {
      "text/plain": [
       "<ParameterSet: 4 parameters | contexts: figure, model>"
      ]
     },
     "execution_count": 27,
     "metadata": {},
     "output_type": "execute_result"
    }
   ],
   "source": [
    "b.run_compute(irrad_method='none')"
   ]
  },
  {
   "cell_type": "code",
   "execution_count": 28,
   "metadata": {},
   "outputs": [
    {
     "name": "stdout",
     "output_type": "stream",
     "text": [
      "1000 101\n"
     ]
    }
   ],
   "source": [
    "print(len(b.get_value('fluxes', context='dataset')), len(b.get_value('fluxes', context='model')))"
   ]
  },
  {
   "cell_type": "code",
   "execution_count": 30,
   "metadata": {},
   "outputs": [
    {
     "data": {
      "text/latex": [
       "$[-0.039661666,~-0.039388964,~-0.039417858,~\\dots,~-0.039417296,~-0.039388334,~-0.039661666] \\; \\mathrm{\\frac{W}{m^{2}}}$"
      ],
      "text/plain": [
       "<Quantity [-0.03966167, -0.03938896, -0.03941786, -0.03954585, -0.0396355 ,\n",
       "           -0.03957873, -0.03955132, -0.03971567, -0.039753  , -0.03979723,\n",
       "           -0.0398389 , -0.03988532, -0.03992527, -0.0399747 , -0.04002222,\n",
       "           -0.04007042, -0.04011709, -0.040159  , -0.04020847, -0.04023404,\n",
       "           -0.04027272, -0.04029287, -0.04031928, -0.04032564, -0.04032958,\n",
       "           -0.04034561, -0.04035557, -0.04034968, -0.04032485, -0.04031618,\n",
       "           -0.04027911, -0.0402388 , -0.04018764, -0.04016238, -0.04010731,\n",
       "           -0.04006347, -0.04001612, -0.03995041, -0.03988403, -0.03983627,\n",
       "           -0.03982088, -0.03975174, -0.03970995, -0.03954336, -0.03749611,\n",
       "           -0.03510218, -0.0298464 , -0.02283504, -0.01500079, -0.00802268,\n",
       "           -0.17350858, -0.00756634, -0.0154139 , -0.02320575, -0.02999288,\n",
       "           -0.03475046, -0.03837357, -0.0396595 , -0.03970729, -0.03978156,\n",
       "           -0.03980739, -0.03986483, -0.03989318, -0.03995268, -0.04001676,\n",
       "           -0.04006845, -0.04012354, -0.04016157, -0.04023587, -0.04024672,\n",
       "           -0.04029488, -0.04030407, -0.0403349 , -0.04031764, -0.04030187,\n",
       "           -0.04033822, -0.04036567, -0.04036327, -0.04031954, -0.04032392,\n",
       "           -0.04027405, -0.04022256, -0.04015576, -0.04016475, -0.04009418,\n",
       "           -0.04006139, -0.04002767, -0.03996375, -0.03988085, -0.03985442,\n",
       "           -0.03989074, -0.03980229, -0.03978043, -0.039488  , -0.03594031,\n",
       "           -0.03729616, -0.03810098, -0.03876931, -0.03973804, -0.0426051 ,\n",
       "           -0.04634743, -0.04009001, -0.03889869, -0.03805465, -0.03731407,\n",
       "           -0.03611711, -0.03788493, -0.03971905, -0.03976727, -0.03985724,\n",
       "           -0.03985116, -0.03990426, -0.03989981, -0.03995697, -0.04002534,\n",
       "           -0.04006696, -0.04011725, -0.04014855, -0.04023817, -0.04023698,\n",
       "           -0.04028847, -0.04028943, -0.04032158, -0.04029159, -0.04026658,\n",
       "           -0.04032109, -0.04036807, -0.04036996, -0.04032557, -0.04033591,\n",
       "           -0.0402793 , -0.04021692, -0.04013113, -0.04016678, -0.04007488,\n",
       "           -0.04003868, -0.04000871, -0.03993541, -0.03982393, -0.03980727,\n",
       "           -0.03985055, -0.03974834, -0.03973509, -0.03927186, -0.03373465,\n",
       "           -0.0322533 , -0.02762434, -0.02128308, -0.01446372, -0.01039385,\n",
       "           -0.16088347, -0.00896471, -0.015741  , -0.02257189, -0.02846283,\n",
       "           -0.03193857, -0.03749475, -0.03964872, -0.03971436, -0.03983899,\n",
       "           -0.03981691, -0.03988158, -0.0398674 , -0.03994258, -0.0400217 ,\n",
       "           -0.04007491, -0.04012214, -0.04015028, -0.04026076, -0.04025953,\n",
       "           -0.04031912, -0.04030797, -0.04033031, -0.0402909 , -0.04025448,\n",
       "           -0.04030624, -0.04035305, -0.0403792 , -0.04033162, -0.0403466 ,\n",
       "           -0.04028436, -0.04019995, -0.0401081 , -0.0401822 , -0.04006739,\n",
       "           -0.04004322, -0.04002976, -0.03996183, -0.03983327, -0.03982737,\n",
       "           -0.03988627, -0.03979538, -0.03980237, -0.03922627, -0.03300722,\n",
       "           -0.03531233, -0.03681011, -0.03815795, -0.04005052, -0.04549098,\n",
       "           -0.04964776, -0.04051777, -0.03843128, -0.03684348, -0.03547218,\n",
       "           -0.03334717, -0.03777978, -0.03970089, -0.03977049, -0.03990154,\n",
       "           -0.03985387, -0.03991597, -0.03988091, -0.03995851, -0.04002223,\n",
       "           -0.04008017, -0.04012072, -0.04012702, -0.04025898, -0.0402495 ,\n",
       "           -0.04031841, -0.04029003, -0.04031648, -0.04027088, -0.04022921,\n",
       "           -0.04027954, -0.0403336 , -0.04039317, -0.04034345, -0.04035998,\n",
       "           -0.04029874, -0.0401942 , -0.04009191, -0.04018515, -0.04005886,\n",
       "           -0.04002792, -0.0400149 , -0.03994513, -0.03978844, -0.03977528,\n",
       "           -0.03983088, -0.03973671, -0.03975462, -0.03901058, -0.03097151,\n",
       "           -0.03001415, -0.02581484, -0.01995774, -0.01392401, -0.01235876,\n",
       "           -0.14613962, -0.01013269, -0.01612977, -0.02224219, -0.02743223,\n",
       "           -0.0298127 , -0.03775836, -0.03962988, -0.03971949, -0.03986206,\n",
       "           -0.03981776, -0.03988734, -0.03986078, -0.03995801, -0.04000594,\n",
       "           -0.0400763 , -0.0401205 , -0.04011697, -0.04028034, -0.04027777,\n",
       "           -0.04034478, -0.04029982, -0.04033677, -0.0402775 , -0.0402204 ,\n",
       "           -0.04026654, -0.04032206, -0.04039535, -0.04034316, -0.04035775,\n",
       "           -0.04031158, -0.04018488, -0.04007998, -0.04018119, -0.04006737,\n",
       "           -0.04003258, -0.04003284, -0.039987  , -0.03981238, -0.03979144,\n",
       "           -0.03986226, -0.03978807, -0.03982592, -0.03898701, -0.03098058,\n",
       "           -0.0339375 , -0.03592181, -0.03777079, -0.04033971, -0.04794046,\n",
       "           -0.05124132, -0.04072558, -0.03804123, -0.03595091, -0.03413293,\n",
       "           -0.03128419, -0.03803117, -0.03968714, -0.03977783, -0.03990966,\n",
       "           -0.03986216, -0.03991883, -0.03987805, -0.03998115, -0.04000596,\n",
       "           -0.04006819, -0.04011508, -0.04008883, -0.0402757 , -0.04027089,\n",
       "           -0.04033527, -0.04028317, -0.04034102, -0.04026298, -0.04020235,\n",
       "           -0.04024906, -0.0403149 , -0.04037556, -0.04035589, -0.04035769,\n",
       "           -0.04032245, -0.0401819 , -0.04007107, -0.04015396, -0.04006751,\n",
       "           -0.04001243, -0.04002024, -0.03997402, -0.03978228, -0.03973918,\n",
       "           -0.03981158, -0.03973244, -0.0397802 , -0.0387631 , -0.02908501,\n",
       "           -0.02838485, -0.02439095, -0.01885133, -0.01334233, -0.0138412 ,\n",
       "           -0.12997884, -0.01108778, -0.01661453, -0.02223621, -0.02689007,\n",
       "           -0.02842091, -0.03800998, -0.03962214, -0.03973024, -0.03986456,\n",
       "           -0.03983475, -0.03990041, -0.03985948, -0.03997381, -0.03999692,\n",
       "           -0.0400653 , -0.04011873, -0.04008374, -0.0402818 , -0.04029412,\n",
       "           -0.04035827, -0.0403039 , -0.04036546, -0.04027342, -0.04019947,\n",
       "           -0.04024908, -0.04031654, -0.04035806, -0.04037061, -0.04034771,\n",
       "           -0.04033244, -0.04017606, -0.04006263, -0.04013936, -0.040083  ,\n",
       "           -0.04001953, -0.04005011, -0.0400106 , -0.03981911, -0.03976195,\n",
       "           -0.03983695, -0.03978594, -0.03984174, -0.03875577, -0.02983755,\n",
       "           -0.03315324, -0.03540015, -0.03758527, -0.04058238, -0.04985237,\n",
       "           -0.05164582, -0.04075851, -0.03775964, -0.03539538, -0.03328597,\n",
       "           -0.02996906, -0.03827149, -0.03968338, -0.03978484, -0.03989767,\n",
       "           -0.03988087, -0.03993696, -0.03987672, -0.03999144, -0.03999326,\n",
       "           -0.04005584, -0.04011122, -0.04005808, -0.04024978, -0.04028131,\n",
       "           -0.04035271, -0.04030183, -0.040362  , -0.04027367, -0.04018339,\n",
       "           -0.04024069, -0.04031483, -0.04033579, -0.04037032, -0.04035148,\n",
       "           -0.04035227, -0.04017883, -0.04006105, -0.04012264, -0.04007891,\n",
       "           -0.03999882, -0.04003836, -0.03999667, -0.03980259, -0.03971176,\n",
       "           -0.03977443, -0.0397389 , -0.03978026, -0.03851924, -0.02807998,\n",
       "           -0.0273326 , -0.02332476, -0.01793646, -0.01270962, -0.01473172,\n",
       "           -0.11278681, -0.01190464, -0.0172145 , -0.02257807, -0.02685751,\n",
       "           -0.02778335, -0.03826722, -0.03963031, -0.03973377, -0.03984719,\n",
       "           -0.03985497, -0.03991606, -0.03986107, -0.03998324, -0.03998709,\n",
       "           -0.04005641, -0.04011907, -0.04006118, -0.04024428, -0.04027847,\n",
       "           -0.04037938, -0.04033632, -0.04038699, -0.04029173, -0.04018298,\n",
       "           -0.04024197, -0.04032083, -0.04031789, -0.04035047, -0.04035745,\n",
       "           -0.04036591, -0.04018138, -0.04006884, -0.04011553, -0.04008402,\n",
       "           -0.04000324, -0.04006201, -0.04002417, -0.0398514 , -0.03973728,\n",
       "           -0.03980655, -0.03979849, -0.0398395 , -0.03851042, -0.02954479,\n",
       "           -0.03294148, -0.03523615, -0.03757822, -0.04075779, -0.05113045,\n",
       "           -0.05112849, -0.04066623, -0.03760462, -0.03518245, -0.03296664,\n",
       "           -0.02942051, -0.03852473, -0.03970246, -0.03978179, -0.03988219,\n",
       "           -0.0399037 , -0.03994691, -0.03988198, -0.03999448, -0.03999645,\n",
       "           -0.0400577 , -0.04012115, -0.04005225, -0.04022079, -0.04024081,\n",
       "           -0.04037056, -0.04033468, -0.04039622, -0.0402971 , -0.04016884,\n",
       "           -0.04023532, -0.0403254 , -0.04030383, -0.04033864, -0.04036906,\n",
       "           -0.04038192, -0.04019512, -0.04008265, -0.04010161, -0.04007503,\n",
       "           -0.03998581, -0.04004461, -0.03998074, -0.0398427 , -0.03969579,\n",
       "           -0.03974647, -0.03974983, -0.03977716, -0.03825282, -0.02788511,\n",
       "           -0.02683072, -0.02262062, -0.01717976, -0.01198653, -0.01494747,\n",
       "           -0.09476221, -0.01261338, -0.01795823, -0.02326071, -0.02736761,\n",
       "           -0.02793349, -0.03853133, -0.0396542 , -0.03972124, -0.03983274,\n",
       "           -0.03987457, -0.03992195, -0.03986972, -0.03998343, -0.04000804,\n",
       "           -0.04006695, -0.04013122, -0.04007178, -0.04023064, -0.04024242,\n",
       "           -0.04038438, -0.04036683, -0.04043018, -0.04032288, -0.04016797,\n",
       "           -0.04023646, -0.04032764, -0.04029014, -0.04032155, -0.04035054,\n",
       "           -0.04039182, -0.04021506, -0.04010188, -0.04010252, -0.04008435,\n",
       "           -0.03999815, -0.04005958, -0.03999162, -0.03990057, -0.03973938,\n",
       "           -0.03978432, -0.03980257, -0.03982359, -0.03825414, -0.03004208,\n",
       "           -0.03325029, -0.03544726, -0.03771828, -0.04082755, -0.05166277,\n",
       "           -0.04985315, -0.04048288, -0.03760701, -0.03532712, -0.03319857,\n",
       "           -0.02968407, -0.03876836, -0.03971912, -0.03976847, -0.0398729 ,\n",
       "           -0.03990744, -0.03994356, -0.03988922, -0.03998751, -0.04002032,\n",
       "           -0.04007518, -0.0401308 , -0.04007556, -0.04021141, -0.04021712,\n",
       "           -0.04035889, -0.04036095, -0.04043512, -0.04033465, -0.04016163,\n",
       "           -0.04023449, -0.0403248 , -0.04028288, -0.04031307, -0.04033288,\n",
       "           -0.04040032, -0.04024104, -0.04012159, -0.04009777, -0.04007991,\n",
       "           -0.03998169, -0.0400358 , -0.03995392, -0.0398983 , -0.039705  ,\n",
       "           -0.0397293 , -0.03973779, -0.03973899, -0.03798385, -0.02847903,\n",
       "           -0.02684879, -0.02229334, -0.01655561, -0.01114749, -0.01432502,\n",
       "           -0.07604124, -0.01324964, -0.01887064, -0.02431675, -0.02843898,\n",
       "           -0.0289295 , -0.03878444, -0.03966866, -0.03971685, -0.03982987,\n",
       "           -0.03987121, -0.03991934, -0.03987971, -0.03997979, -0.04002404,\n",
       "           -0.04009765, -0.04015516, -0.0400996 , -0.04021585, -0.0402292 ,\n",
       "           -0.04036269, -0.04036336, -0.04046429, -0.04036164, -0.04017628,\n",
       "           -0.04024051, -0.04031965, -0.04027567, -0.04029738, -0.04031146,\n",
       "           -0.04037077, -0.04025727, -0.04014361, -0.0401026 , -0.04008774,\n",
       "           -0.03999396, -0.04005292, -0.03997301, -0.03995289, -0.03975371,\n",
       "           -0.03977467, -0.03977883, -0.03977364, -0.03799543, -0.03132787,\n",
       "           -0.03409582, -0.0360052 , -0.03797921, -0.04076334, -0.0512551 ,\n",
       "           -0.04793713, -0.04024285, -0.03779016, -0.03584348, -0.03400845,\n",
       "           -0.03082172, -0.03901003, -0.03973754, -0.03976457, -0.03986615,\n",
       "           -0.03989712, -0.03994062, -0.03990638, -0.03999535, -0.04003432,\n",
       "           -0.04010185, -0.04015743, -0.04009596, -0.04019639, -0.04021714,\n",
       "           -0.04033694, -0.04033717, -0.04046807, -0.04036833, -0.04018563,\n",
       "           -0.04024325, -0.04031159, -0.04027657, -0.04028497, -0.04030601,\n",
       "           -0.0403487 , -0.04026805, -0.04016001, -0.04009968, -0.040078  ,\n",
       "           -0.03997708, -0.04002925, -0.03993557, -0.03992589, -0.03972224,\n",
       "           -0.03972399, -0.03971132, -0.0396873 , -0.03771022, -0.02985636,\n",
       "           -0.02740339, -0.02228767, -0.01606567, -0.01015633, -0.0126502 ,\n",
       "           -0.05673258, -0.01383164, -0.01998497, -0.02574526, -0.0300909 ,\n",
       "           -0.03081738, -0.0390332 , -0.03968776, -0.03971794, -0.03981637,\n",
       "           -0.03985932, -0.03991697, -0.03989684, -0.03999787, -0.04003999,\n",
       "           -0.04011123, -0.04016756, -0.04011639, -0.04021322, -0.0402428 ,\n",
       "           -0.04034187, -0.0403455 , -0.0404747 , -0.04039605, -0.04021191,\n",
       "           -0.0402571 , -0.04030865, -0.04027969, -0.0402697 , -0.04029575,\n",
       "           -0.04032507, -0.04026534, -0.04016823, -0.04010859, -0.04008243,\n",
       "           -0.03999185, -0.04004869, -0.03995195, -0.03994598, -0.03976986,\n",
       "           -0.03977484, -0.03975412, -0.03973218, -0.03773215, -0.03338701,\n",
       "           -0.03546233, -0.03688369, -0.03837489, -0.04053745, -0.04964533,\n",
       "           -0.04549051, -0.03995855, -0.03819046, -0.03675073, -0.03539144,\n",
       "           -0.03287175, -0.03924585, -0.03975491, -0.03976934, -0.0398422 ,\n",
       "           -0.03988538, -0.03994081, -0.03992032, -0.04001112, -0.04004387,\n",
       "           -0.04011107, -0.04015846, -0.04011929, -0.04020758, -0.04023021,\n",
       "           -0.04031895, -0.04032272, -0.04044068, -0.04039986, -0.04023586,\n",
       "           -0.04026909, -0.04030611, -0.04029078, -0.04027023, -0.04029033,\n",
       "           -0.04030625, -0.04025867, -0.04017352, -0.04011022, -0.04007684,\n",
       "           -0.03997614, -0.04001692, -0.03991507, -0.03990125, -0.03974032,\n",
       "           -0.0397284 , -0.03968919, -0.0396581 , -0.03744413, -0.03197859,\n",
       "           -0.02846887, -0.02260286, -0.01567985, -0.00898804, -0.00956745,\n",
       "           -0.0369464 , -0.01438945, -0.02130848, -0.02758928, -0.03232671,\n",
       "           -0.03364778, -0.03928505, -0.03969613, -0.03972329, -0.03979267,\n",
       "           -0.0398519 , -0.03991926, -0.03992101, -0.04000632, -0.04004928,\n",
       "           -0.04011681, -0.04016182, -0.04014826, -0.04023141, -0.0402507 ,\n",
       "           -0.04032454, -0.04032825, -0.04042359, -0.04040685, -0.04027551,\n",
       "           -0.04029374, -0.0403082 , -0.04030104, -0.04027171, -0.04028058,\n",
       "           -0.04028199, -0.04024195, -0.04018298, -0.04011573, -0.04008596,\n",
       "           -0.03999727, -0.04002889, -0.0399409 , -0.03992969, -0.03979532,\n",
       "           -0.03978421, -0.0397454 , -0.03971352, -0.03785606, -0.03615329,\n",
       "           -0.03732942, -0.03807727, -0.03885087, -0.04010374, -0.04635892,\n",
       "           -0.04260478, -0.03967266, -0.03879713, -0.03808082, -0.03735925,\n",
       "           -0.03589425, -0.03948971, -0.03975592, -0.03977511, -0.03982843,\n",
       "           -0.03988012, -0.03994152, -0.03995469, -0.040023  , -0.0400552 ,\n",
       "           -0.0401181 , -0.04015165, -0.04015672, -0.04022889, -0.04024329,\n",
       "           -0.04029893, -0.0403114 , -0.04037647, -0.04037278, -0.04030233,\n",
       "           -0.0403148 , -0.04032013, -0.04031607, -0.04028407, -0.04027954,\n",
       "           -0.04026505, -0.0402296 , -0.04017268, -0.04011644, -0.04007415,\n",
       "           -0.03999403, -0.03999146, -0.03991204, -0.03988226, -0.03977259,\n",
       "           -0.03973967, -0.03969319, -0.03964861, -0.03834966, -0.03478037,\n",
       "           -0.03000329, -0.02321557, -0.01538084, -0.00756875, -0.00435832,\n",
       "           -0.01675896, -0.01496231, -0.02285055, -0.02984105, -0.03513242,\n",
       "           -0.03747656, -0.03953981, -0.03969656, -0.03973442, -0.03979275,\n",
       "           -0.03984909, -0.0399168 , -0.0399569 , -0.04001915, -0.04006532,\n",
       "           -0.04012156, -0.04016408, -0.04019423, -0.04024844, -0.04027332,\n",
       "           -0.04031234, -0.04032886, -0.04036   , -0.0403662 , -0.04034312,\n",
       "           -0.04034245, -0.04033578, -0.04032693, -0.04029596, -0.04027577,\n",
       "           -0.04024839, -0.0402145 , -0.04016898, -0.04012265, -0.04007833,\n",
       "           -0.04002675, -0.03998911, -0.03993823, -0.03988991, -0.0398335 ,\n",
       "           -0.03979574, -0.03975318, -0.03971657, -0.03955186, -0.03958218,\n",
       "           -0.03963695, -0.03954663, -0.0394173 , -0.03938833, -0.03966167] W / m2>"
      ]
     },
     "execution_count": 30,
     "metadata": {},
     "output_type": "execute_result"
    }
   ],
   "source": [
    "b.calculate_residuals()"
   ]
  },
  {
   "cell_type": "markdown",
   "metadata": {},
   "source": [
    "If we plot the dataset and model, we see that the model was only computed for one cycle, whereas the dataset extends further in time."
   ]
  },
  {
   "cell_type": "code",
   "execution_count": 31,
   "metadata": {},
   "outputs": [
    {
     "data": {
      "image/png": "[encoded data removed]",
      "text/plain": [
       "<Figure size 432x288 with 1 Axes>"
      ]
     },
     "metadata": {
      "needs_background": "light"
     },
     "output_type": "display_data"
    }
   ],
   "source": [
    "afig, mplfig = b.plot(show=True)"
   ]
  },
  {
   "cell_type": "markdown",
   "metadata": {},
   "source": [
    "But we can also plot the residuals.  Here, [calculate_residuals](../api/phoebe.parameters.ParameterSet.calculate_residuals.md) is called internally, interpolating in phase-space, and then plotted in time-space.  See the options for `y` in the [plot API docs](../api/phoebe.parameters.ParameterSet.plot.md) for more details."
   ]
  },
  {
   "cell_type": "code",
   "execution_count": 32,
   "metadata": {},
   "outputs": [
    {
     "data": {
      "image/png": "[encoded data removed]",
      "text/plain": [
       "<Figure size 432x288 with 1 Axes>"
      ]
     },
     "metadata": {
      "needs_background": "light"
     },
     "output_type": "display_data"
    }
   ],
   "source": [
    "afig, mplfig = b.plot(y='residuals', show=True)"
   ]
  }
 ],
 "metadata": {
  "kernelspec": {
   "display_name": "Python 3",
   "language": "python",
   "name": "python3"
  },
  "language_info": {
   "codemirror_mode": {
    "name": "ipython",
    "version": 3
   },
   "file_extension": ".py",
   "mimetype": "text/x-python",
   "name": "python",
   "nbconvert_exporter": "python",
   "pygments_lexer": "ipython3",
   "version": "3.7.3"
  }
 },
 "nbformat": 4,
 "nbformat_minor": 1
}
