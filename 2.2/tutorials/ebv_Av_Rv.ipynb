{
 "cells": [
  {
   "cell_type": "markdown",
   "metadata": {},
   "source": [
    "Extinction (ebv, Av, & Rv)\n",
    "============================\n",
    "\n",
    "Setup\n",
    "-----------------------------"
   ]
  },
  {
   "cell_type": "markdown",
   "metadata": {},
   "source": [
    "Let's first make sure we have the latest version of PHOEBE 2.2 installed. (You can comment out this line if you don't use pip for your installation or don't want to update to the latest release)."
   ]
  },
  {
   "cell_type": "code",
   "execution_count": null,
   "metadata": {},
   "outputs": [],
   "source": [
    "!pip install -I \"phoebe>=2.2,<2.3\""
   ]
  },
  {
   "cell_type": "markdown",
   "metadata": {
    "collapsed": true
   },
   "source": [
    "As always, let's do imports and initialize a logger and a new Bundle.  See [Building a System](building_a_system.ipynb) for more details."
   ]
  },
  {
   "cell_type": "code",
   "execution_count": 1,
   "metadata": {},
   "outputs": [],
   "source": [
    "%matplotlib inline"
   ]
  },
  {
   "cell_type": "code",
   "execution_count": 2,
   "metadata": {},
   "outputs": [],
   "source": [
    "import phoebe\n",
    "from phoebe import u # units\n",
    "import numpy as np\n",
    "import matplotlib.pyplot as plt\n",
    "\n",
    "logger = phoebe.logger()\n",
    "\n",
    "b = phoebe.default_binary()"
   ]
  },
  {
   "cell_type": "markdown",
   "metadata": {
    "collapsed": true
   },
   "source": [
    "Now let's add a light curve so that we can access the relevant parameters."
   ]
  },
  {
   "cell_type": "code",
   "execution_count": 3,
   "metadata": {},
   "outputs": [
    {
     "data": {
      "text/plain": [
       "<ParameterSet: 43 parameters | contexts: constraint, dataset, compute, figure>"
      ]
     },
     "execution_count": 3,
     "metadata": {},
     "output_type": "execute_result"
    }
   ],
   "source": [
    "b.add_dataset('lc')"
   ]
  },
  {
   "cell_type": "markdown",
   "metadata": {},
   "source": [
    "Relevant Parameters\n",
    "------------------------"
   ]
  },
  {
   "cell_type": "markdown",
   "metadata": {},
   "source": [
    "Extinction is parameterized by 3 parameters: `ebv` (E(B-V)), `Av`, and `Rv`.  Of these three, two can be provided and the other must be constrained.  By default, `ebv` is the constrained parameter.  To change this, see the [tutorial on constraints](constraints.ipynb) and the [b.flip_constraint API docs](../api/phoebe.frontend.bundle.Bundle.flip_constraint.md)."
   ]
  },
  {
   "cell_type": "code",
   "execution_count": 8,
   "metadata": {},
   "outputs": [
    {
     "name": "stdout",
     "output_type": "stream",
     "text": [
      "ParameterSet: 2 parameters\n",
      "*               ebv@lc01@dataset: 0.0\n",
      "                  ebv@constraint: {Av@lc01@dataset} / {Rv@lc01@dataset}\n"
     ]
    }
   ],
   "source": [
    "print(b['ebv'])"
   ]
  },
  {
   "cell_type": "code",
   "execution_count": 10,
   "metadata": {},
   "outputs": [
    {
     "name": "stdout",
     "output_type": "stream",
     "text": [
      "Parameter: ebv@lc01@dataset\n",
      "                       Qualifier: ebv\n",
      "                     Description: Passband extinction E(B-V)\n",
      "                           Value: 0.0\n",
      "                  Constrained by: Av@lc01@dataset, Rv@lc01@dataset\n",
      "                      Constrains: None\n",
      "                      Related to: Av@lc01@dataset, Rv@lc01@dataset\n",
      "\n"
     ]
    }
   ],
   "source": [
    "print(b['ebv@dataset'])"
   ]
  },
  {
   "cell_type": "code",
   "execution_count": 11,
   "metadata": {},
   "outputs": [
    {
     "name": "stdout",
     "output_type": "stream",
     "text": [
      "Constrains (qualifier): ebv\n",
      "Expression in solar units (value): {Av@lc01@dataset} / {Rv@lc01@dataset}\n",
      "Current Result (result): 0.0\n"
     ]
    }
   ],
   "source": [
    "print(b['ebv@constraint'])"
   ]
  },
  {
   "cell_type": "code",
   "execution_count": 6,
   "metadata": {},
   "outputs": [
    {
     "name": "stdout",
     "output_type": "stream",
     "text": [
      "Parameter: Av@lc01@dataset\n",
      "                       Qualifier: Av\n",
      "                     Description: Passband extinction Av\n",
      "                           Value: 0.0\n",
      "                  Constrained by: \n",
      "                      Constrains: ebv@lc01@dataset\n",
      "                      Related to: Rv@lc01@dataset, ebv@lc01@dataset\n",
      "\n"
     ]
    }
   ],
   "source": [
    "print(b['Av'])"
   ]
  },
  {
   "cell_type": "code",
   "execution_count": 7,
   "metadata": {},
   "outputs": [
    {
     "name": "stdout",
     "output_type": "stream",
     "text": [
      "Parameter: Rv@lc01@dataset\n",
      "                       Qualifier: Rv\n",
      "                     Description: Extinction law parameter\n",
      "                           Value: 3.1\n",
      "                  Constrained by: \n",
      "                      Constrains: ebv@lc01@dataset\n",
      "                      Related to: Av@lc01@dataset, ebv@lc01@dataset\n",
      "\n"
     ]
    }
   ],
   "source": [
    "print(b['Rv'])"
   ]
  },
  {
   "cell_type": "markdown",
   "metadata": {},
   "source": [
    "For more details on the contribution of extinction to observables, see the following example scripts:\n",
    "* [Extinction: B-K Binary](examples/extinction_BK_binary.ipynb) ([Jones+ 2020](http://phoebe-project.org/publications/2020Jones+), Figures 1 and 2)\n",
    "* [Extinction: Eclipse Depth Difference as Function of Temperature](examples/extinction_eclipse_depth_v_teff.ipynb) ([Jones+ 2020](http://phoebe-project.org/publications/2020Jones+), Figure 3)\n",
    "* [Extinction: White Dwarf - Subdwarf Binary](examples/extinction_wd_subdwarf.ipynb) ([Jones+ 2020](http://phoebe-project.org/publications/2020Jones+), Figure 4)"
   ]
  },
  {
   "cell_type": "code",
   "execution_count": null,
   "metadata": {},
   "outputs": [],
   "source": []
  }
 ],
 "metadata": {
  "kernelspec": {
   "display_name": "Python 3",
   "language": "python",
   "name": "python3"
  },
  "language_info": {
   "codemirror_mode": {
    "name": "ipython",
    "version": 3
   },
   "file_extension": ".py",
   "mimetype": "text/x-python",
   "name": "python",
   "nbconvert_exporter": "python",
   "pygments_lexer": "ipython3",
   "version": "3.7.3"
  }
 },
 "nbformat": 4,
 "nbformat_minor": 1
}
