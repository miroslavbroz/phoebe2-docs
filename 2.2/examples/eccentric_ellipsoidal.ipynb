{
 "cells": [
  {
   "cell_type": "markdown",
   "metadata": {},
   "source": [
    "Eccentric Ellipsoidal (Heartbeat)\n",
    "============================\n",
    "\n",
    "Setup\n",
    "-----------------------------"
   ]
  },
  {
   "cell_type": "markdown",
   "metadata": {},
   "source": [
    "Let's first make sure we have the latest version of PHOEBE 2.2 installed. (You can comment out this line if you don't use pip for your installation or don't want to update to the latest release)."
   ]
  },
  {
   "cell_type": "code",
   "execution_count": null,
   "metadata": {},
   "outputs": [],
   "source": [
    "!pip install -I \"phoebe>=2.2,<2.3\""
   ]
  },
  {
   "cell_type": "code",
   "execution_count": 1,
   "metadata": {},
   "outputs": [],
   "source": [
    "%matplotlib inline"
   ]
  },
  {
   "cell_type": "markdown",
   "metadata": {
    "collapsed": true
   },
   "source": [
    "As always, let's do imports and initialize a logger and a new bundle.  See [Building a System](../tutorials/building_a_system.ipynb) for more details."
   ]
  },
  {
   "cell_type": "code",
   "execution_count": 1,
   "metadata": {},
   "outputs": [],
   "source": [
    "import phoebe\n",
    "import numpy as np\n",
    "\n",
    "b = phoebe.default_binary()"
   ]
  },
  {
   "cell_type": "markdown",
   "metadata": {},
   "source": [
    "Now we need a highly eccentric system that nearly overflows at periastron and is slightly eclipsing."
   ]
  },
  {
   "cell_type": "code",
   "execution_count": 2,
   "metadata": {},
   "outputs": [],
   "source": [
    "b.set_value('q', value=0.7)\n",
    "b.set_value('period', component='binary', value=10)\n",
    "b.set_value('sma', component='binary', value=25)\n",
    "b.set_value('incl', component='binary', value=0)\n",
    "b.set_value('ecc', component='binary', value=0.9)"
   ]
  },
  {
   "cell_type": "code",
   "execution_count": 3,
   "metadata": {},
   "outputs": [
    {
     "name": "stdout",
     "output_type": "stream",
     "text": [
      "ParameterSet: 4 parameters\n",
      "        requiv@primary@component: 1.0 solRad\n",
      "*   requiv_max@primary@component: 1.1005323225331147 solRad\n",
      "      requiv@secondary@component: 1.0 solRad\n",
      "* requiv_max@secondary@component: 0.928057544397582 solRad\n"
     ]
    }
   ],
   "source": [
    "print(b.filter(qualifier='requiv*', context='component'))"
   ]
  },
  {
   "cell_type": "code",
   "execution_count": 4,
   "metadata": {},
   "outputs": [],
   "source": [
    "b.set_value('requiv', component='primary', value=1.1)\n",
    "b.set_value('requiv', component='secondary', value=0.9)"
   ]
  },
  {
   "cell_type": "markdown",
   "metadata": {
    "collapsed": true
   },
   "source": [
    "Adding Datasets\n",
    "-------------------\n",
    "\n",
    "We'll add light curve, orbit, and mesh datasets."
   ]
  },
  {
   "cell_type": "code",
   "execution_count": 5,
   "metadata": {},
   "outputs": [
    {
     "data": {
      "text/plain": [
       "<ParameterSet: 43 parameters | contexts: figure, constraint, dataset, compute>"
      ]
     },
     "execution_count": 5,
     "metadata": {},
     "output_type": "execute_result"
    }
   ],
   "source": [
    "b.add_dataset('lc', \n",
    "              compute_times=phoebe.linspace(-2, 2, 201),\n",
    "              dataset='lc01')"
   ]
  },
  {
   "cell_type": "code",
   "execution_count": 6,
   "metadata": {},
   "outputs": [
    {
     "data": {
      "text/plain": [
       "<ParameterSet: 8 parameters | contexts: figure, constraint, dataset, compute>"
      ]
     },
     "execution_count": 6,
     "metadata": {},
     "output_type": "execute_result"
    }
   ],
   "source": [
    "b.add_dataset('orb', compute_times=phoebe.linspace(-2, 2, 201))"
   ]
  },
  {
   "cell_type": "code",
   "execution_count": 7,
   "metadata": {},
   "outputs": [],
   "source": [
    "anim_times = phoebe.linspace(-2, 2, 101)"
   ]
  },
  {
   "cell_type": "code",
   "execution_count": 8,
   "metadata": {},
   "outputs": [
    {
     "data": {
      "text/plain": [
       "<ParameterSet: 8 parameters | contexts: constraint, dataset, compute>"
      ]
     },
     "execution_count": 8,
     "metadata": {},
     "output_type": "execute_result"
    }
   ],
   "source": [
    "b.add_dataset('mesh', \n",
    "              compute_times=anim_times,\n",
    "              coordinates='uvw',\n",
    "              dataset='mesh01')"
   ]
  },
  {
   "cell_type": "markdown",
   "metadata": {},
   "source": [
    "Running Compute\n",
    "--------------------"
   ]
  },
  {
   "cell_type": "code",
   "execution_count": 9,
   "metadata": {},
   "outputs": [
    {
     "data": {
      "text/plain": [
       "<ParameterSet: 424 parameters | contexts: figure, model>"
      ]
     },
     "execution_count": 9,
     "metadata": {},
     "output_type": "execute_result"
    }
   ],
   "source": [
    "b.run_compute(irrad_method='none')"
   ]
  },
  {
   "cell_type": "markdown",
   "metadata": {},
   "source": [
    "Plotting \n",
    "---------------"
   ]
  },
  {
   "cell_type": "code",
   "execution_count": 10,
   "metadata": {},
   "outputs": [
    {
     "data": {
      "image/png": "[encoded data removed]",
      "text/plain": [
       "<Figure size 432x288 with 1 Axes>"
      ]
     },
     "metadata": {
      "needs_background": "light"
     },
     "output_type": "display_data"
    }
   ],
   "source": [
    "afig, mplfig = b.plot(kind='lc', x='phases', t0='t0_perpass', show=True)"
   ]
  },
  {
   "cell_type": "markdown",
   "metadata": {},
   "source": [
    "Now let's make a nice figure.\n",
    "\n",
    "Let's go through these options:\n",
    "* `time`: make the plot at this single time\n",
    "* `z`: by default, orbits plot in 2d, but since we're overplotting with a mesh, we want the z-ordering to be correct, so we'll have them plot with w-coordinates in the z-direction.\n",
    "* `c`: (will be ignored by the mesh): set the color to blue for the primary and red for the secondary (will only affect the orbits as the light curve is not tagged with any component).\n",
    "* `fc`: (will be ignored by everything but the mesh): set the facecolor to be blue for the primary and red for the secondary.\n",
    "* `ec`: disable drawing the edges of the triangles in a separate color.  We could also set this to 'none', but then we'd be able to \"see-through\" the triangle edges.\n",
    "* `uncover`: for the orbit, uncover based on the current time.\n",
    "* `trail`: for the orbit, let's show a \"trail\" behind the current position.\n",
    "* `highlight`: disable highlighting for the orbit, since the mesh will be in the same position.\n",
    "* `tight_layout`: use matplotlib's tight layout to ensure we have enough padding between axes to see the labels."
   ]
  },
  {
   "cell_type": "code",
   "execution_count": 11,
   "metadata": {},
   "outputs": [
    {
     "data": {
      "image/png": "[encoded data removed]",
      "text/plain": [
       "<Figure size 432x288 with 2 Axes>"
      ]
     },
     "metadata": {
      "needs_background": "light"
     },
     "output_type": "display_data"
    }
   ],
   "source": [
    "afig, mplfig = b.plot(time=0.0, \n",
    "                      z={'orb': 'ws'},\n",
    "                      c={'primary': 'blue', 'secondary': 'red'},\n",
    "                      fc={'primary': 'blue', 'secondary': 'red'}, \n",
    "                      ec='face', \n",
    "                      uncover={'orb': True},\n",
    "                      trail={'orb': 0.1},\n",
    "                      highlight={'orb': False},\n",
    "                      tight_layout=True,\n",
    "                      show=True)"
   ]
  },
  {
   "cell_type": "markdown",
   "metadata": {},
   "source": [
    "Now let's animate the same figure in time.  We'll use the same arguments as the static plot above, with the following exceptions:\n",
    "\n",
    "* `times`: pass our array of times that we want the animation to loop over.\n",
    "* `pad_aspect`: pad_aspect doesn't work with animations, so we'll disable to avoid the warning messages.\n",
    "* `animate`: self-explanatory.\n",
    "* `save`: we could use `show=True`, but that doesn't always play nice with jupyter notebooks\n",
    "* `save_kwargs`: may need to change these for your setup, to create a gif, passing {'writer': 'imagemagick'} is often useful."
   ]
  },
  {
   "cell_type": "code",
   "execution_count": 12,
   "metadata": {},
   "outputs": [
    {
     "name": "stderr",
     "output_type": "stream",
     "text": [
      "/home/kyle/.local/lib/python3.7/site-packages/phoebe/dependencies/nparray/nparray.py:392: FutureWarning: elementwise comparison failed; returning scalar instead, but in the future will perform elementwise comparison\n",
      "  return getattr(self.array, operator)(other)\n"
     ]
    },
    {
     "name": "stdout",
     "output_type": "stream",
     "text": [
      "WARNING: tight_layout with fixed limits may cause jittering in the animation\n"
     ]
    },
    {
     "data": {
      "image/png": "[encoded data removed]",
      "text/plain": [
       "<Figure size 432x288 with 2 Axes>"
      ]
     },
     "metadata": {
      "needs_background": "light"
     },
     "output_type": "display_data"
    }
   ],
   "source": [
    "afig, mplfig = b.plot(times=anim_times, \n",
    "                      z={'orb': 'ws'},\n",
    "                      c={'primary': 'blue', 'secondary': 'red'},\n",
    "                      fc={'primary': 'blue', 'secondary': 'red'}, \n",
    "                      ec='face', \n",
    "                      uncover={'orb': True},\n",
    "                      trail={'orb': 0.1},\n",
    "                      highlight={'orb': False},\n",
    "                      tight_layout=True, pad_aspect=False,\n",
    "                      animate=True, \n",
    "                      save='eccentric_ellipsoidal.gif',\n",
    "                      save_kwargs={'writer': 'imagemagick'})"
   ]
  },
  {
   "cell_type": "markdown",
   "metadata": {},
   "source": [
    "![gif](eccentric_ellipsoidal.gif)"
   ]
  }
 ],
 "metadata": {
  "kernelspec": {
   "display_name": "Python 3",
   "language": "python",
   "name": "python3"
  },
  "language_info": {
   "codemirror_mode": {
    "name": "ipython",
    "version": 3
   },
   "file_extension": ".py",
   "mimetype": "text/x-python",
   "name": "python",
   "nbconvert_exporter": "python",
   "pygments_lexer": "ipython3",
   "version": "3.7.3"
  }
 },
 "nbformat": 4,
 "nbformat_minor": 1
}
