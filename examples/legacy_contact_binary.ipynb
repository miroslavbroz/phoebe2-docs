{
 "cells": [
  {
   "cell_type": "markdown",
   "metadata": {},
   "source": [
    "[IPython Notebook](legacy_overcontact.ipynb) |  [Python Script](legacy_overcontact.py)"
   ]
  },
  {
   "cell_type": "markdown",
   "metadata": {},
   "source": [
    "Comparing Contacts Binaries in PHOEBE 2.0 vs PHOEBE Legacy\n",
    "============================\n",
    "\n",
    "**NOTE**: PHOEBE 1.0 legacy is an alternate backend and is not installed with PHOEBE 2.0.  In order to run this backend, you'll need to have [PHOEBE 1.0](https://phoebe-project.org/1.0) installed.\n",
    "\n",
    "Setup\n",
    "-----------------------------"
   ]
  },
  {
   "cell_type": "markdown",
   "metadata": {
    "collapsed": true
   },
   "source": [
    "As always, let's do imports and initialize a logger and a new bundle.  See [Building a System](../tutorials/building_a_system.html) for more details."
   ]
  },
  {
   "cell_type": "code",
   "execution_count": 1,
   "metadata": {
    "collapsed": true
   },
   "outputs": [],
   "source": [
    "%matplotlib inline"
   ]
  },
  {
   "cell_type": "code",
   "execution_count": 2,
   "metadata": {
    "collapsed": false
   },
   "outputs": [
    {
     "name": "stdout",
     "output_type": "stream",
     "text": [
      "WARNING: developer mode enabled, to disable 'rm ~/.phoebe_devel_enabled' and restart phoebe\n"
     ]
    },
    {
     "name": "stderr",
     "output_type": "stream",
     "text": [
      "WARNING: Constant u'Gravitational constant' is already has a definition in the u'si' system [astropy.constants.constant]\n",
      "WARNING: Constant u'Solar mass' is already has a definition in the u'si' system [astropy.constants.constant]\n",
      "WARNING: Constant u'Solar radius' is already has a definition in the u'si' system [astropy.constants.constant]\n",
      "WARNING: Constant u'Solar luminosity' is already has a definition in the u'si' system [astropy.constants.constant]\n",
      "/Library/Python/2.7/site-packages/astropy/units/quantity.py:782: FutureWarning: comparison to `None` will result in an elementwise object comparison in the future.\n",
      "  return super(Quantity, self).__eq__(other)\n"
     ]
    }
   ],
   "source": [
    "import phoebe\n",
    "from phoebe import u\n",
    "import numpy as np\n",
    "import matplotlib.pyplot as plt\n",
    "\n",
    "logger = phoebe.logger()\n",
    "\n",
    "b = phoebe.default_binary(contact_binary=True)\n",
    "#b['q'] = 0.7"
   ]
  },
  {
   "cell_type": "markdown",
   "metadata": {
    "collapsed": true
   },
   "source": [
    "Adding Datasets and Compute Options\n",
    "--------------------"
   ]
  },
  {
   "cell_type": "code",
   "execution_count": 3,
   "metadata": {
    "collapsed": false
   },
   "outputs": [
    {
     "data": {
      "text/plain": [
       "<ParameterSet: 11 parameters | kinds: rv, rv_dep>"
      ]
     },
     "execution_count": 3,
     "metadata": {},
     "output_type": "execute_result"
    }
   ],
   "source": [
    "b.add_dataset('lc', times=np.linspace(0,3,101), dataset='lc01')\n",
    "b.add_dataset('rv', times=np.linspace(0,3,101), dataset='rv01')\n",
    "#b.add_dataset('mesh', times=[0], dataset='mesh01')"
   ]
  },
  {
   "cell_type": "markdown",
   "metadata": {},
   "source": [
    "Let's add compute options for phoebe using the new (marching) method for creating meshes."
   ]
  },
  {
   "cell_type": "code",
   "execution_count": 4,
   "metadata": {
    "collapsed": false
   },
   "outputs": [
    {
     "data": {
      "text/plain": [
       "<ParameterSet: 34 parameters | datasets: lc01, rv01>"
      ]
     },
     "execution_count": 4,
     "metadata": {},
     "output_type": "execute_result"
    }
   ],
   "source": [
    "b.add_compute('phoebe', compute='phoebe2', mesh_method='marching')"
   ]
  },
  {
   "cell_type": "markdown",
   "metadata": {},
   "source": [
    "Now we add compute options for the 'legacy' backend."
   ]
  },
  {
   "cell_type": "code",
   "execution_count": 5,
   "metadata": {
    "collapsed": false
   },
   "outputs": [
    {
     "data": {
      "text/plain": [
       "<ParameterSet: 14 parameters | datasets: lc01, rv01>"
      ]
     },
     "execution_count": 5,
     "metadata": {},
     "output_type": "execute_result"
    }
   ],
   "source": [
    "b.add_compute('legacy', compute='phoebe1', morphology = 'Overcontact binary not in thermal contact')"
   ]
  },
  {
   "cell_type": "markdown",
   "metadata": {},
   "source": [
    "The 'blackbody' atmospheres from phoebe1 are comperable to the 'extern_planckint' atmospheres in phoebe."
   ]
  },
  {
   "cell_type": "code",
   "execution_count": 6,
   "metadata": {
    "collapsed": false
   },
   "outputs": [
    {
     "name": "stderr",
     "output_type": "stream",
     "text": [
      "Thu, 01 Dec 2016 14:33 PARAMETERS   WARNING ld_func='interp' only supported by atm='ck2004'\n",
      "Thu, 01 Dec 2016 14:33 PARAMETERS   WARNING ld_func='interp' only supported by atm='ck2004'\n",
      "Thu, 01 Dec 2016 14:33 PARAMETERS   WARNING ld_func='interp' only supported by atm='ck2004'\n",
      "Thu, 01 Dec 2016 14:33 PARAMETERS   WARNING ld_func='interp' only supported by atm='ck2004'\n",
      "Thu, 01 Dec 2016 14:33 PARAMETERS   WARNING ld_func='interp' only supported by atm='ck2004'\n",
      "Thu, 01 Dec 2016 14:33 PARAMETERS   WARNING ld_func='interp' only supported by atm='ck2004'\n",
      "Thu, 01 Dec 2016 14:33 PARAMETERS   WARNING ld_func='interp' only supported by atm='ck2004'\n"
     ]
    }
   ],
   "source": [
    "b.set_value_all('atm@phoebe2', 'extern_planckint')\n",
    "b.set_value_all('atm@phoebe1', 'blackbody')"
   ]
  },
  {
   "cell_type": "markdown",
   "metadata": {},
   "source": [
    "Set value of gridsize for the trapezoidal (WD) mesh."
   ]
  },
  {
   "cell_type": "code",
   "execution_count": 7,
   "metadata": {
    "collapsed": true
   },
   "outputs": [],
   "source": [
    "b.set_value_all('gridsize', 30)"
   ]
  },
  {
   "cell_type": "markdown",
   "metadata": {},
   "source": [
    "Let's also disable other special effect such as heating, gravity, and light-time effects."
   ]
  },
  {
   "cell_type": "code",
   "execution_count": 8,
   "metadata": {
    "collapsed": false
   },
   "outputs": [
    {
     "name": "stderr",
     "output_type": "stream",
     "text": [
      "Thu, 01 Dec 2016 14:33 PARAMETERS   WARNING ld_func='interp' only supported by atm='ck2004'\n",
      "Thu, 01 Dec 2016 14:33 PARAMETERS   WARNING ld_func='interp' only supported by atm='ck2004'\n",
      "Thu, 01 Dec 2016 14:33 PARAMETERS   WARNING ld_func='interp' only supported by atm='ck2004'\n",
      "Thu, 01 Dec 2016 14:33 PARAMETERS   WARNING ld_func='interp' only supported by atm='ck2004'\n",
      "Thu, 01 Dec 2016 14:33 PARAMETERS   WARNING ld_func='interp' only supported by atm='ck2004'\n",
      "Thu, 01 Dec 2016 14:33 PARAMETERS   WARNING ld_func='interp' only supported by atm='ck2004'\n",
      "Thu, 01 Dec 2016 14:33 PARAMETERS   WARNING ld_func='interp' only supported by atm='ck2004'\n"
     ]
    }
   ],
   "source": [
    "b.set_value_all('ld_func', 'logarithmic')\n",
    "    b.set_value_all('ld_coeffs', [0.0, 0.0])\n",
    "\n",
    "    b.set_value_all('refl_num',0)\n",
    "    b.set_value_all('rv_grav', False)\n",
    "    b.set_value_all('ltte', False)"
   ]
  },
  {
   "cell_type": "markdown",
   "metadata": {},
   "source": [
    "Finally, let's compute our models"
   ]
  },
  {
   "cell_type": "code",
   "execution_count": 9,
   "metadata": {
    "collapsed": false
   },
   "outputs": [
    {
     "data": {
      "text/plain": [
       "<ParameterSet: 6 parameters | kinds: rv, lc>"
      ]
     },
     "execution_count": 9,
     "metadata": {},
     "output_type": "execute_result"
    }
   ],
   "source": [
    "b.run_compute(compute='phoebe2', model='phoebe2model', reflection_method='none')"
   ]
  },
  {
   "cell_type": "code",
   "execution_count": 10,
   "metadata": {
    "collapsed": false
   },
   "outputs": [
    {
     "name": "stderr",
     "output_type": "stream",
     "text": [
      "Thu, 01 Dec 2016 14:34 IO           WARNING frac_lost_bol has no phoebe 1 corollary\n",
      "Thu, 01 Dec 2016 14:34 IO           WARNING ld_func_bol has no phoebe 1 corollary\n",
      "Thu, 01 Dec 2016 14:34 IO           WARNING mass has no phoebe 1 corollary\n",
      "Thu, 01 Dec 2016 14:34 IO           WARNING frac_lost_bol has no phoebe 1 corollary\n",
      "Thu, 01 Dec 2016 14:34 IO           WARNING ld_func_bol has no phoebe 1 corollary\n",
      "Thu, 01 Dec 2016 14:34 IO           WARNING mass has no phoebe 1 corollary\n",
      "Thu, 01 Dec 2016 14:34 IO           WARNING pblum_ref has no phoebe 1 corollary\n",
      "Thu, 01 Dec 2016 14:34 IO           WARNING intens_weighting has no phoebe 1 corollary\n",
      "Thu, 01 Dec 2016 14:34 IO           WARNING lc_method has no phoebe 1 corollary\n",
      "Thu, 01 Dec 2016 14:34 IO           WARNING pblum_ref has no phoebe 1 corollary\n",
      "Thu, 01 Dec 2016 14:34 IO           WARNING fti_method has no phoebe 1 corollary\n",
      "Thu, 01 Dec 2016 14:34 IO           WARNING exptime has no phoebe 1 corollary\n",
      "Thu, 01 Dec 2016 14:34 IO           WARNING rv_grav has no phoebe 1 corollary\n",
      "Thu, 01 Dec 2016 14:34 IO           WARNING intens_weighting has no phoebe 1 corollary\n",
      "Thu, 01 Dec 2016 14:34 IO           WARNING rv_grav has no phoebe 1 corollary\n",
      "Thu, 01 Dec 2016 14:34 IO           WARNING rv_method has no phoebe 1 corollary\n",
      "Thu, 01 Dec 2016 14:34 IO           WARNING rv_method has no phoebe 1 corollary\n",
      "Thu, 01 Dec 2016 14:34 IO           WARNING rv_method has no phoebe 1 corollary\n",
      "Thu, 01 Dec 2016 14:34 IO           WARNING rv_method has no phoebe 1 corollary\n",
      "Thu, 01 Dec 2016 14:34 IO           WARNING rv_grav has no phoebe 1 corollary\n",
      "Thu, 01 Dec 2016 14:34 IO           WARNING intens_weighting has no phoebe 1 corollary\n",
      "Thu, 01 Dec 2016 14:34 IO           WARNING rv_grav has no phoebe 1 corollary\n",
      "Thu, 01 Dec 2016 14:34 IO           WARNING rv_method has no phoebe 1 corollary\n",
      "Thu, 01 Dec 2016 14:34 IO           WARNING rv_method has no phoebe 1 corollary\n",
      "Thu, 01 Dec 2016 14:34 IO           WARNING rv_method has no phoebe 1 corollary\n",
      "Thu, 01 Dec 2016 14:34 IO           WARNING rv_method has no phoebe 1 corollary\n",
      "Thu, 01 Dec 2016 14:34 IO           WARNING freq has no phoebe 1 corollary\n",
      "Thu, 01 Dec 2016 14:34 IO           WARNING deccdt has no phoebe 1 corollary\n",
      "Thu, 01 Dec 2016 14:34 IO           WARNING t0_perpass has no phoebe 1 corollary\n",
      "Thu, 01 Dec 2016 14:34 IO           WARNING mean_anom has no phoebe 1 corollary\n",
      "Thu, 01 Dec 2016 14:34 IO           WARNING long_an has no phoebe 1 corollary\n",
      "Thu, 01 Dec 2016 14:34 IO           WARNING asini has no phoebe 1 corollary\n",
      "Thu, 01 Dec 2016 14:34 IO           WARNING ecosw has no phoebe 1 corollary\n",
      "Thu, 01 Dec 2016 14:34 IO           WARNING esinw has no phoebe 1 corollary\n",
      "Thu, 01 Dec 2016 14:34 IO           WARNING protomesh has no phoebe 1 corollary\n",
      "Thu, 01 Dec 2016 14:34 IO           WARNING pbmesh has no phoebe 1 corollary\n",
      "Thu, 01 Dec 2016 14:34 IO           WARNING cindex has no phoebe 1 corollary\n",
      "Thu, 01 Dec 2016 14:34 IO           WARNING rv_method has no phoebe 1 corollary\n",
      "Thu, 01 Dec 2016 14:34 IO           WARNING rv_method has no phoebe 1 corollary\n",
      "Thu, 01 Dec 2016 14:34 IO           WARNING t0 has no phoebe 1 corollary\n",
      "Thu, 01 Dec 2016 14:34 IO           WARNING ra has no phoebe 1 corollary\n",
      "Thu, 01 Dec 2016 14:34 IO           WARNING dec has no phoebe 1 corollary\n",
      "Thu, 01 Dec 2016 14:34 IO           WARNING epoch has no phoebe 1 corollary\n",
      "Thu, 01 Dec 2016 14:34 IO           WARNING distance has no phoebe 1 corollary\n",
      "Thu, 01 Dec 2016 14:34 IO           WARNING hierarchy has no phoebe 1 corollary\n"
     ]
    },
    {
     "name": "stdout",
     "output_type": "stream",
     "text": [
      "primary\n",
      "secondary\n"
     ]
    },
    {
     "data": {
      "text/plain": [
       "<ParameterSet: 6 parameters | kinds: rv, lc>"
      ]
     },
     "execution_count": 10,
     "metadata": {},
     "output_type": "execute_result"
    }
   ],
   "source": [
    "b.run_compute(compute='phoebe1', model='phoebe1model')"
   ]
  },
  {
   "cell_type": "markdown",
   "metadata": {},
   "source": [
    "Plotting\n",
    "-------------------------"
   ]
  },
  {
   "cell_type": "markdown",
   "metadata": {},
   "source": [
    "### Light Curve"
   ]
  },
  {
   "cell_type": "code",
   "execution_count": 11,
   "metadata": {
    "collapsed": false
   },
   "outputs": [
    {
     "data": {
      "image/png": "[encoded data removed]",
      "text/plain": [
       "<matplotlib.figure.Figure at 0x11b8bce50>"
      ]
     },
     "metadata": {},
     "output_type": "display_data"
    }
   ],
   "source": [
    "axs, artists = b['lc01@phoebe2model'].plot(color='g')\n",
    "axs, artists = b['lc01@phoebe1model'].plot(color='r')\n",
    "leg = plt.legend(loc=4)"
   ]
  },
  {
   "cell_type": "markdown",
   "metadata": {},
   "source": [
    "Now let's plot the residuals between these two models"
   ]
  },
  {
   "cell_type": "code",
   "execution_count": 12,
   "metadata": {
    "collapsed": false
   },
   "outputs": [
    {
     "data": {
      "image/png": "[encoded data removed]",
      "text/plain": [
       "<matplotlib.figure.Figure at 0x11b85efd0>"
      ]
     },
     "metadata": {},
     "output_type": "display_data"
    }
   ],
   "source": [
    "artist, = plt.plot(b.get_value('fluxes@lc01@phoebe2model') - b.get_value('fluxes@lc01@phoebe1model'), 'g-')\n",
    "artist = plt.axhline(0.0, linestyle='dashed', color='k')"
   ]
  },
  {
   "cell_type": "markdown",
   "metadata": {},
   "source": [
    "### RVs"
   ]
  },
  {
   "cell_type": "code",
   "execution_count": 19,
   "metadata": {
    "collapsed": false,
    "scrolled": true
   },
   "outputs": [
    {
     "name": "stderr",
     "output_type": "stream",
     "text": [
      "Thu, 01 Dec 2016 14:38 PARAMETERS   WARNING attempting to plot but could not find parameter times - skipping\n",
      "Thu, 01 Dec 2016 14:38 PARAMETERS   WARNING attempting to plot but could not find parameter times - skipping\n",
      "Thu, 01 Dec 2016 14:39 PARAMETERS   WARNING attempting to plot but could not find parameter times - skipping\n",
      "Thu, 01 Dec 2016 14:39 PARAMETERS   WARNING attempting to plot but could not find parameter times - skipping\n"
     ]
    },
    {
     "data": {
      "image/png": "[encoded data removed]",
      "text/plain": [
       "<matplotlib.figure.Figure at 0x11e031890>"
      ]
     },
     "metadata": {},
     "output_type": "display_data"
    }
   ],
   "source": [
    "# TODO: Fix this part (plot can't find parameter times)\n",
    "axs, artists = b['rvs@phoebe2model'].plot(color='g')\n",
    "axs, artists = b['rvs@phoebe1model'].plot(color='r')"
   ]
  },
  {
   "cell_type": "code",
   "execution_count": 26,
   "metadata": {
    "collapsed": false
   },
   "outputs": [
    {
     "name": "stdout",
     "output_type": "stream",
     "text": [
      "ParameterSet: 2 parameters\n",
      "  times@primary@phoebe2@phoeb...: [ 0.    0.03  0.06 ...,  2.94\n",
      "  2.97  3.  ] d\n",
      "  rvs@primary@phoebe2@phoebe2...: [  6.88677459 -43.45133984\n",
      " -43.63920836 ...,  43.63527148\n",
      "  43.46268828   6.88677856] km / s\n"
     ]
    },
    {
     "data": {
      "image/png": "[encoded data removed]",
      "text/plain": [
       "<matplotlib.figure.Figure at 0x110364a90>"
      ]
     },
     "metadata": {},
     "output_type": "display_data"
    }
   ],
   "source": [
    "print b['primary@phoebe2model']\n",
    "artist, = plt.plot(b.get_value('rvs@primary@phoebe2model', ) - b.get_value('rvs@primary@phoebe1model'), color='g', ls=':')\n",
    "artist, = plt.plot(b.get_value('rvs@secondary@phoebe2model') - b.get_value('rvs@secondary@phoebe1model'), color='g', ls='-.')\n",
    "artist = plt.axhline(0.0, linestyle='dashed', color='k')\n",
    "ylim = plt.ylim(-0.3, 0.3)"
   ]
  },
  {
   "cell_type": "code",
   "execution_count": null,
   "metadata": {
    "collapsed": true
   },
   "outputs": [],
   "source": [
    ""
   ]
  }
 ],
 "metadata": {
  "kernelspec": {
   "display_name": "Python 2",
   "language": "python",
   "name": "python2"
  },
  "language_info": {
   "codemirror_mode": {
    "name": "ipython",
    "version": 2.0
   },
   "file_extension": ".py",
   "mimetype": "text/x-python",
   "name": "python",
   "nbconvert_exporter": "python",
   "pygments_lexer": "ipython2",
   "version": "2.7.12"
  }
 },
 "nbformat": 4,
 "nbformat_minor": 0
}