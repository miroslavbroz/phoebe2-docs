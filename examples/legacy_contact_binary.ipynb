{
 "cells": [
  {
   "cell_type": "markdown",
   "metadata": {},
   "source": [
    "[IPython Notebook](legacy_contact_binary.ipynb) |  [Python Script](legacy_contact_binary.py)"
   ]
  },
  {
   "cell_type": "markdown",
   "metadata": {},
   "source": [
    "Comparing Contacts Binaries in PHOEBE 2.0 vs PHOEBE Legacy\n",
    "============================\n",
    "\n",
    "**NOTE**: PHOEBE 1.0 legacy is an alternate backend and is not installed with PHOEBE 2.0.  In order to run this backend, you'll need to have [PHOEBE 1.0](https://phoebe-project.org/1.0) installed.\n",
    "\n",
    "Setup\n",
    "-----------------------------"
   ]
  },
  {
   "cell_type": "markdown",
   "metadata": {
    "collapsed": true
   },
   "source": [
    "As always, let's do imports and initialize a logger and a new bundle.  See [Building a System](../tutorials/building_a_system.html) for more details."
   ]
  },
  {
   "cell_type": "code",
   "execution_count": 1,
   "metadata": {
    "collapsed": true
   },
   "outputs": [],
   "source": [
    "%matplotlib inline"
   ]
  },
  {
   "cell_type": "code",
   "execution_count": 2,
   "metadata": {
    "collapsed": false
   },
   "outputs": [
    {
     "name": "stderr",
     "output_type": "stream",
     "text": [
      "/usr/local/lib/python2.7/dist-packages/IPython/kernel/__init__.py:13: ShimWarning: The `IPython.kernel` package has been deprecated. You should import from ipykernel or jupyter_client instead.\n",
      "  \"You should import from ipykernel or jupyter_client instead.\", ShimWarning)\n",
      "WARNING: Constant u'Gravitational constant' is already has a definition in the u'si' system [astropy.constants.constant]\n",
      "WARNING:astropy:Constant u'Gravitational constant' is already has a definition in the u'si' system\n",
      "WARNING: Constant u'Solar mass' is already has a definition in the u'si' system [astropy.constants.constant]\n",
      "WARNING:astropy:Constant u'Solar mass' is already has a definition in the u'si' system\n",
      "WARNING: Constant u'Solar radius' is already has a definition in the u'si' system [astropy.constants.constant]\n",
      "WARNING:astropy:Constant u'Solar radius' is already has a definition in the u'si' system\n",
      "WARNING: Constant u'Solar luminosity' is already has a definition in the u'si' system [astropy.constants.constant]\n",
      "WARNING:astropy:Constant u'Solar luminosity' is already has a definition in the u'si' system\n"
     ]
    },
    {
     "name": "stdout",
     "output_type": "stream",
     "text": [
      "WARNING: developer mode enabled, to disable 'rm ~/.phoebe_devel_enabled' and restart phoebe\n"
     ]
    },
    {
     "name": "stderr",
     "output_type": "stream",
     "text": [
      "/usr/local/lib/python2.7/dist-packages/astropy/units/quantity.py:732: FutureWarning: comparison to `None` will result in an elementwise object comparison in the future.\n",
      "  return super(Quantity, self).__eq__(other)\n"
     ]
    }
   ],
   "source": [
    "import phoebe\n",
    "from phoebe import u\n",
    "import numpy as np\n",
    "import matplotlib.pyplot as plt\n",
    "\n",
    "logger = phoebe.logger()\n",
    "\n",
    "b = phoebe.default_binary(contact_binary=True)\n",
    "#b['q'] = 0.7"
   ]
  },
  {
   "cell_type": "markdown",
   "metadata": {
    "collapsed": true
   },
   "source": [
    "Adding Datasets and Compute Options\n",
    "--------------------"
   ]
  },
  {
   "cell_type": "code",
   "execution_count": 3,
   "metadata": {
    "collapsed": false
   },
   "outputs": [
    {
     "data": {
      "text/plain": [
       "<ParameterSet: 11 parameters | kinds: rv, rv_dep>"
      ]
     },
     "execution_count": 3,
     "metadata": {},
     "output_type": "execute_result"
    }
   ],
   "source": [
    "b.add_dataset('lc', times=np.linspace(0,3,101), dataset='lc01')\n",
    "b.add_dataset('rv', times=np.linspace(0,3,101), dataset='rv01')\n",
    "#b.add_dataset('mesh', times=[0], dataset='mesh01')"
   ]
  },
  {
   "cell_type": "markdown",
   "metadata": {},
   "source": [
    "Let's add compute options for phoebe using the new (marching) method for creating meshes."
   ]
  },
  {
   "cell_type": "code",
   "execution_count": 4,
   "metadata": {
    "collapsed": false
   },
   "outputs": [
    {
     "data": {
      "text/plain": [
       "<ParameterSet: 34 parameters | datasets: lc01, rv01>"
      ]
     },
     "execution_count": 4,
     "metadata": {},
     "output_type": "execute_result"
    }
   ],
   "source": [
    "b.add_compute('phoebe', compute='phoebe2', mesh_method='marching')"
   ]
  },
  {
   "cell_type": "markdown",
   "metadata": {},
   "source": [
    "Now we add compute options for the 'legacy' backend."
   ]
  },
  {
   "cell_type": "code",
   "execution_count": 5,
   "metadata": {
    "collapsed": false
   },
   "outputs": [
    {
     "data": {
      "text/plain": [
       "<ParameterSet: 14 parameters | datasets: lc01, rv01>"
      ]
     },
     "execution_count": 5,
     "metadata": {},
     "output_type": "execute_result"
    }
   ],
   "source": [
    "b.add_compute('legacy', compute='phoebe1', morphology = 'Overcontact binary not in thermal contact')"
   ]
  },
  {
   "cell_type": "markdown",
   "metadata": {},
   "source": [
    "The 'blackbody' atmospheres from phoebe1 are comperable to the 'extern_planckint' atmospheres in phoebe."
   ]
  },
  {
   "cell_type": "code",
   "execution_count": 6,
   "metadata": {
    "collapsed": false
   },
   "outputs": [
    {
     "name": "stderr",
     "output_type": "stream",
     "text": [
      "WARNING:PARAMETERS:ld_func='interp' only supported by atm='ck2004'\n",
      "WARNING:PARAMETERS:ld_func='interp' only supported by atm='ck2004'\n",
      "WARNING:PARAMETERS:ld_func='interp' only supported by atm='ck2004'\n",
      "WARNING:PARAMETERS:ld_func='interp' only supported by atm='ck2004'\n",
      "WARNING:PARAMETERS:ld_func='interp' only supported by atm='ck2004'\n",
      "WARNING:PARAMETERS:ld_func='interp' only supported by atm='ck2004'\n",
      "WARNING:PARAMETERS:ld_func='interp' only supported by atm='ck2004'\n"
     ]
    }
   ],
   "source": [
    "b.set_value_all('atm@phoebe2', 'extern_planckint')\n",
    "b.set_value_all('atm@phoebe1', 'blackbody')"
   ]
  },
  {
   "cell_type": "markdown",
   "metadata": {},
   "source": [
    "Set value of gridsize for the trapezoidal (WD) mesh."
   ]
  },
  {
   "cell_type": "code",
   "execution_count": 7,
   "metadata": {
    "collapsed": true
   },
   "outputs": [],
   "source": [
    "b.set_value_all('gridsize', 30)"
   ]
  },
  {
   "cell_type": "markdown",
   "metadata": {},
   "source": [
    "Let's also disable other special effect such as heating, gravity, and light-time effects."
   ]
  },
  {
   "cell_type": "code",
   "execution_count": 8,
   "metadata": {
    "collapsed": false
   },
   "outputs": [
    {
     "name": "stderr",
     "output_type": "stream",
     "text": [
      "WARNING:PARAMETERS:ld_func='interp' only supported by atm='ck2004'\n",
      "WARNING:PARAMETERS:ld_func='interp' only supported by atm='ck2004'\n",
      "WARNING:PARAMETERS:ld_func='interp' only supported by atm='ck2004'\n",
      "WARNING:PARAMETERS:ld_func='interp' only supported by atm='ck2004'\n",
      "WARNING:PARAMETERS:ld_func='interp' only supported by atm='ck2004'\n",
      "WARNING:PARAMETERS:ld_func='interp' only supported by atm='ck2004'\n",
      "WARNING:PARAMETERS:ld_func='interp' only supported by atm='ck2004'\n"
     ]
    }
   ],
   "source": [
    "b.set_value_all('ld_func', 'logarithmic')\n",
    "b.set_value_all('ld_coeffs', [0.0, 0.0])\n",
    "\n",
    "b.set_value_all('refl_num',0)\n",
    "b.set_value_all('rv_grav', False)\n",
    "b.set_value_all('ltte', False)"
   ]
  },
  {
   "cell_type": "markdown",
   "metadata": {},
   "source": [
    "Finally, let's compute our models"
   ]
  },
  {
   "cell_type": "code",
   "execution_count": 9,
   "metadata": {
    "collapsed": false
   },
   "outputs": [
    {
     "data": {
      "text/plain": [
       "<ParameterSet: 6 parameters | kinds: rv, lc>"
      ]
     },
     "execution_count": 9,
     "metadata": {},
     "output_type": "execute_result"
    }
   ],
   "source": [
    "b.run_compute(compute='phoebe2', model='phoebe2model', reflection_method='none')"
   ]
  },
  {
   "cell_type": "code",
   "execution_count": 10,
   "metadata": {
    "collapsed": false
   },
   "outputs": [
    {
     "name": "stderr",
     "output_type": "stream",
     "text": [
      "WARNING:IO:frac_lost_bol has no phoebe 1 corollary\n",
      "WARNING:IO:ld_func_bol has no phoebe 1 corollary\n",
      "WARNING:IO:mass has no phoebe 1 corollary\n",
      "WARNING:IO:frac_lost_bol has no phoebe 1 corollary\n",
      "WARNING:IO:ld_func_bol has no phoebe 1 corollary\n",
      "WARNING:IO:mass has no phoebe 1 corollary\n",
      "WARNING:IO:lc_method has no phoebe 1 corollary\n",
      "WARNING:IO:fti_method has no phoebe 1 corollary\n",
      "WARNING:IO:exptime has no phoebe 1 corollary\n",
      "WARNING:IO:pblum_ref has no phoebe 1 corollary\n",
      "WARNING:IO:intens_weighting has no phoebe 1 corollary\n",
      "WARNING:IO:pblum_ref has no phoebe 1 corollary\n",
      "WARNING:IO:rv_grav has no phoebe 1 corollary\n",
      "WARNING:IO:rv_grav has no phoebe 1 corollary\n",
      "WARNING:IO:rv_method has no phoebe 1 corollary\n",
      "WARNING:IO:rv_method has no phoebe 1 corollary\n",
      "WARNING:IO:rv_method has no phoebe 1 corollary\n",
      "WARNING:IO:rv_method has no phoebe 1 corollary\n",
      "WARNING:IO:intens_weighting has no phoebe 1 corollary\n",
      "WARNING:IO:rv_grav has no phoebe 1 corollary\n",
      "WARNING:IO:rv_grav has no phoebe 1 corollary\n",
      "WARNING:IO:rv_method has no phoebe 1 corollary\n",
      "WARNING:IO:rv_method has no phoebe 1 corollary\n",
      "WARNING:IO:rv_method has no phoebe 1 corollary\n",
      "WARNING:IO:rv_method has no phoebe 1 corollary\n",
      "WARNING:IO:intens_weighting has no phoebe 1 corollary\n",
      "WARNING:IO:freq has no phoebe 1 corollary\n",
      "WARNING:IO:deccdt has no phoebe 1 corollary\n",
      "WARNING:IO:t0_perpass has no phoebe 1 corollary\n",
      "WARNING:IO:mean_anom has no phoebe 1 corollary\n",
      "WARNING:IO:long_an has no phoebe 1 corollary\n",
      "WARNING:IO:asini has no phoebe 1 corollary\n",
      "WARNING:IO:ecosw has no phoebe 1 corollary\n",
      "WARNING:IO:esinw has no phoebe 1 corollary\n",
      "WARNING:IO:protomesh has no phoebe 1 corollary\n",
      "WARNING:IO:pbmesh has no phoebe 1 corollary\n",
      "WARNING:IO:cindex has no phoebe 1 corollary\n",
      "WARNING:IO:rv_method has no phoebe 1 corollary\n",
      "WARNING:IO:rv_method has no phoebe 1 corollary\n",
      "WARNING:IO:t0 has no phoebe 1 corollary\n",
      "WARNING:IO:ra has no phoebe 1 corollary\n",
      "WARNING:IO:dec has no phoebe 1 corollary\n",
      "WARNING:IO:epoch has no phoebe 1 corollary\n",
      "WARNING:IO:distance has no phoebe 1 corollary\n",
      "WARNING:IO:hierarchy has no phoebe 1 corollary\n"
     ]
    },
    {
     "name": "stdout",
     "output_type": "stream",
     "text": [
      "primary\n",
      "secondary\n"
     ]
    },
    {
     "data": {
      "text/plain": [
       "<ParameterSet: 6 parameters | kinds: rv, lc>"
      ]
     },
     "execution_count": 10,
     "metadata": {},
     "output_type": "execute_result"
    }
   ],
   "source": [
    "b.run_compute(compute='phoebe1', model='phoebe1model')"
   ]
  },
  {
   "cell_type": "markdown",
   "metadata": {},
   "source": [
    "Plotting\n",
    "-------------------------"
   ]
  },
  {
   "cell_type": "markdown",
   "metadata": {},
   "source": [
    "### Light Curve"
   ]
  },
  {
   "cell_type": "code",
   "execution_count": 11,
   "metadata": {
    "collapsed": false
   },
   "outputs": [
    {
     "data": {
      "image/png": "[encoded data removed]",
      "text/plain": [
       "<matplotlib.figure.Figure at 0x7f7d32c7d150>"
      ]
     },
     "metadata": {},
     "output_type": "display_data"
    }
   ],
   "source": [
    "axs, artists = b['lc01@phoebe2model'].plot(color='g')\n",
    "axs, artists = b['lc01@phoebe1model'].plot(color='r')\n",
    "leg = plt.legend(loc=4)"
   ]
  },
  {
   "cell_type": "markdown",
   "metadata": {},
   "source": [
    "Now let's plot the residuals between these two models"
   ]
  },
  {
   "cell_type": "code",
   "execution_count": 12,
   "metadata": {
    "collapsed": false
   },
   "outputs": [
    {
     "data": {
      "image/png": "[encoded data removed]",
      "text/plain": [
       "<matplotlib.figure.Figure at 0x7f7d33651e50>"
      ]
     },
     "metadata": {},
     "output_type": "display_data"
    }
   ],
   "source": [
    "artist, = plt.plot(b.get_value('fluxes@lc01@phoebe2model') - b.get_value('fluxes@lc01@phoebe1model'), 'g-')\n",
    "artist = plt.axhline(0.0, linestyle='dashed', color='k')"
   ]
  },
  {
   "cell_type": "markdown",
   "metadata": {},
   "source": [
    "### RVs"
   ]
  },
  {
   "cell_type": "code",
   "execution_count": 13,
   "metadata": {
    "collapsed": false,
    "scrolled": true
   },
   "outputs": [
    {
     "data": {
      "image/png": "[encoded data removed]",
      "text/plain": [
       "<matplotlib.figure.Figure at 0x7f7d32c91e90>"
      ]
     },
     "metadata": {},
     "output_type": "display_data"
    }
   ],
   "source": [
    "axs, artists = b['rv01@phoebe2model'].plot(color='g')\n",
    "axs, artists = b['rv01@phoebe1model'].plot(color='r')"
   ]
  },
  {
   "cell_type": "code",
   "execution_count": 14,
   "metadata": {
    "collapsed": false
   },
   "outputs": [
    {
     "name": "stdout",
     "output_type": "stream",
     "text": [
      "ParameterSet: 2 parameters\n",
      "  times@primary@phoebe2@phoeb...: [ 0.    0.03  0.06  0.09  0.12  0.15  0.18  0.21  0.24  0.27  0.3   0.33\n",
      "  0.36  0.39  0.42  0.45  0.48  0.51  0.54  0.57  0.6   0.63  0.66  0.69\n",
      "  0.72  0.75  0.78  0.81  0.84  0.87  0.9   0.93  0.96  0.99  1.02  1.05\n",
      "  1.08  1.11  1.14  1.17  1.2   1.23  1.26  1.29  1.32  1.35  1.38  1.41\n",
      "  1.44  1.47  1.5   1.53  1.56  1.59  1.62  1.65  1.68  1.71  1.74  1.77\n",
      "  1.8   1.83  1.86  1.89  1.92  1.95  1.98  2.01  2.04  2.07  2.1   2.13\n",
      "  2.16  2.19  2.22  2.25  2.28  2.31  2.34  2.37  2.4   2.43  2.46  2.49\n",
      "  2.52  2.55  2.58  2.61  2.64  2.67  2.7   2.73  2.76  2.79  2.82  2.85\n",
      "  2.88  2.91  2.94  2.97  3.  ] d\n",
      "  rvs@primary@phoebe2@phoebe2...: [  6.88677923e+00  -4.34513398e+01  -4.36392084e+01  -4.39923751e+01\n",
      "  -4.45564276e+01  -4.53048466e+01  -4.62576798e+01  -4.74040193e+01\n",
      "  -4.87333000e+01  -5.02916155e+01  -5.20507145e+01  -5.39215010e+01\n",
      "  -5.58565889e+01  -5.77804718e+01  -5.96101098e+01  -6.12826014e+01\n",
      "  -6.27337568e+01  -6.39457196e+01  -6.49205262e+01  -6.56729344e+01\n",
      "  -6.61996096e+01  -6.65044359e+01  -6.65929371e+01  -6.64639600e+01\n",
      "  -6.61228532e+01  -6.55743011e+01  -6.48274314e+01  -6.38768057e+01\n",
      "  -6.27408093e+01  -6.14289478e+01  -5.99311803e+01  -5.82692015e+01\n",
      "  -5.64553425e+01  -5.44878913e+01  -5.23848756e+01  -5.01516726e+01\n",
      "  -4.77957216e+01  -4.53276399e+01  -4.27449215e+01  -4.00495173e+01\n",
      "  -3.72276175e+01  -3.41960985e+01  -3.08841606e+01  -2.73118555e+01\n",
      "  -2.36199634e+01  -1.98302580e+01  -1.59595029e+01  -1.20278438e+01\n",
      "  -8.04192942e+00  -4.02785609e+00  -1.73370246e-03   4.03009892e+00\n",
      "   8.04478005e+00   1.20238848e+01   1.59623620e+01   1.98301954e+01\n",
      "   2.36184218e+01   2.73099760e+01   3.08837516e+01   3.42217294e+01\n",
      "   3.72568338e+01   4.00835130e+01   4.27856622e+01   4.53676645e+01\n",
      "   4.78369374e+01   5.01953777e+01   5.24364337e+01   5.45440418e+01\n",
      "   5.65071663e+01   5.83265099e+01   5.99877071e+01   6.14816036e+01\n",
      "   6.28028902e+01   6.39394552e+01   6.48850902e+01   6.56339662e+01\n",
      "   6.61842872e+01   6.65194230e+01   6.66474840e+01   6.65671078e+01\n",
      "   6.62558380e+01   6.57246921e+01   6.49746734e+01   6.39901001e+01\n",
      "   6.27785171e+01   6.13290966e+01   5.96541225e+01   5.78151332e+01\n",
      "   5.58852273e+01   5.39480609e+01   5.20669163e+01   5.03026277e+01\n",
      "   4.87317330e+01   4.74031674e+01   4.62588730e+01   4.52999249e+01\n",
      "   4.45471644e+01   4.39984878e+01   4.36352715e+01   4.34626883e+01\n",
      "   6.88677527e+00] km / s\n"
     ]
    },
    {
     "data": {
      "image/png": "[encoded data removed]",
      "text/plain": [
       "<matplotlib.figure.Figure at 0x7f7d33679950>"
      ]
     },
     "metadata": {},
     "output_type": "display_data"
    }
   ],
   "source": [
    "print b['primary@phoebe2model']\n",
    "artist, = plt.plot(b.get_value('rvs@primary@phoebe2model', ) - b.get_value('rvs@primary@phoebe1model'), color='g', ls=':')\n",
    "artist, = plt.plot(b.get_value('rvs@secondary@phoebe2model') - b.get_value('rvs@secondary@phoebe1model'), color='g', ls='-.')\n",
    "artist = plt.axhline(0.0, linestyle='dashed', color='k')\n",
    "ylim = plt.ylim(-0.3, 0.3)"
   ]
  },
  {
   "cell_type": "code",
   "execution_count": null,
   "metadata": {
    "collapsed": true
   },
   "outputs": [],
   "source": []
  }
 ],
 "metadata": {
  "kernelspec": {
   "display_name": "Python 2",
   "language": "python",
   "name": "python2"
  },
  "language_info": {
   "codemirror_mode": {
    "name": "ipython",
    "version": 2
   },
   "file_extension": ".py",
   "mimetype": "text/x-python",
   "name": "python",
   "nbconvert_exporter": "python",
   "pygments_lexer": "ipython2",
   "version": "2.7.12+"
  }
 },
 "nbformat": 4,
 "nbformat_minor": 0
}
