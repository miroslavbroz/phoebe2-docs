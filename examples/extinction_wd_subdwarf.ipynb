{
 "cells": [
  {
   "cell_type": "markdown",
   "metadata": {},
   "source": [
    "Extinction: White Dwarf - Subdwarf Binary\n",
    "============================\n",
    "\n",
    "In this example, we'll reproduce Figure 4 in the extinction release paper ([Jones et al. 2020](http://phoebe-project.org/publications/2020Jones+)).\n",
    "\n",
    "> \"SDSS J2355 is a short-period post-CE binary comprising a relatively cool white dwarf (Teff∼13,250 K) and a low-mass, metal-poor, sub-dwarf star (spectral type ∼sdK7). As before, calculating synthetic light curves for the system with no extinction and then with extinction consistent with the Galactic bulge, we now see significant deviations between the two models in u, g and r bands\" ([Jones et al. 2020](http://phoebe-project.org/publications/2020Jones+))\n",
    "\n",
    "<img src=\"jones+20_fig4.png\" alt=\"Figure 4\" width=\"600px\"/>\n",
    "\n",
    "Setup\n",
    "-----------------------------"
   ]
  },
  {
   "cell_type": "markdown",
   "metadata": {},
   "source": [
    "\n",
    "Let's first make sure we have the latest version of PHOEBE 2.3 installed. (You can comment out this line if you don't use pip for your installation or don't want to update to the latest release)."
   ]
  },
  {
   "cell_type": "code",
   "execution_count": null,
   "metadata": {},
   "outputs": [],
   "source": [
    "!pip install -I \"phoebe>=2.3,<2.4\""
   ]
  },
  {
   "cell_type": "markdown",
   "metadata": {
    "collapsed": true
   },
   "source": [
    "As always, let's do imports and initialize a logger and a new bundle.  See [Building a System](../tutorials/building_a_system.ipynb) for more details."
   ]
  },
  {
   "cell_type": "code",
   "execution_count": 1,
   "metadata": {},
   "outputs": [],
   "source": [
    "import matplotlib\n",
    "matplotlib.rcParams['text.usetex'] = True\n",
    "matplotlib.rcParams['pdf.fonttype'] = 42\n",
    "matplotlib.rcParams['ps.fonttype'] = 42\n",
    "matplotlib.rcParams['mathtext.fontset'] = 'stix'\n",
    "matplotlib.rcParams['font.family'] = 'STIXGeneral'\n",
    "from matplotlib import gridspec"
   ]
  },
  {
   "cell_type": "code",
   "execution_count": 2,
   "metadata": {},
   "outputs": [],
   "source": [
    "%matplotlib inline"
   ]
  },
  {
   "cell_type": "code",
   "execution_count": 3,
   "metadata": {},
   "outputs": [],
   "source": [
    "import phoebe\n",
    "from phoebe import u # units\n",
    "import numpy as np\n",
    "import matplotlib.pyplot as plt\n",
    "\n",
    "logger = phoebe.logger('error')\n",
    "\n",
    "b = phoebe.default_binary()"
   ]
  },
  {
   "cell_type": "markdown",
   "metadata": {},
   "source": [
    "Adopt system parameters from [Rebassa-Mansergas+ 2019](https://ui.adsabs.harvard.edu/abs/2019NatAs...3..553R)."
   ]
  },
  {
   "cell_type": "code",
   "execution_count": 4,
   "metadata": {},
   "outputs": [],
   "source": [
    "b.set_value('period', component='binary', value=0.0897780065*u.d)\n",
    "b.set_value('teff', component='primary', value=13247*u.K)\n",
    "b.set_value('teff', component='secondary', value=3650*u.K)\n",
    "b.set_value('requiv', component='primary', value=0.0160*u.solRad)\n",
    "b.set_value('requiv', component='secondary', value=0.1669*u.solRad)\n",
    "b.flip_constraint('mass@primary', solve_for='sma@binary')\n",
    "b.set_value('mass', component='primary', value=0.4477*u.solMass)\n",
    "b.flip_constraint('mass@secondary', solve_for='q')\n",
    "b.set_value('mass', component='secondary', value=0.1501*u.solMass)"
   ]
  },
  {
   "cell_type": "markdown",
   "metadata": {},
   "source": [
    "Now we'll create datasets for LSST u,g,r, and i bands."
   ]
  },
  {
   "cell_type": "code",
   "execution_count": 6,
   "metadata": {},
   "outputs": [
    {
     "data": {
      "text/plain": [
       "<ParameterSet: 43 parameters | contexts: compute, figure, constraint, dataset>"
      ]
     },
     "execution_count": 6,
     "metadata": {},
     "output_type": "execute_result"
    }
   ],
   "source": [
    "period = b.get_value('period', component='binary')\n",
    "times=phoebe.linspace(-0.1*period, 0.6*period, 501)\n",
    "b.add_dataset('lc', times=times, dataset='u', passband=\"LSST:u\")\n",
    "b.add_dataset('lc', times=times, dataset='g', passband=\"LSST:g\")\n",
    "b.add_dataset('lc', times=times, dataset='r', passband=\"LSST:r\")\n",
    "b.add_dataset('lc', times=times, dataset='i', passband=\"LSST:i\")"
   ]
  },
  {
   "cell_type": "markdown",
   "metadata": {},
   "source": [
    "And set options for the atmospheres and limb-darkening."
   ]
  },
  {
   "cell_type": "code",
   "execution_count": 7,
   "metadata": {},
   "outputs": [],
   "source": [
    "b.set_value_all('atm', component='primary', value='blackbody')\n",
    "b.set_value_all('ld_mode', component='primary', value='manual')\n",
    "b.set_value_all('ld_func', component='primary', value='quadratic')\n",
    "b.set_value('ld_coeffs', component='primary', dataset='u', value=[0.2665,0.2544])\n",
    "b.set_value('ld_coeffs', component='primary', dataset='g', value=[0.1421,0.3693])\n",
    "b.set_value('ld_coeffs', component='primary', dataset='r', value=[0.1225,0.3086])\n",
    "b.set_value('ld_coeffs', component='primary', dataset='i', value=[0.1063,0.2584])\n",
    "b.set_value_all('ld_mode_bol@primary','manual')\n",
    "b.set_value_all('ld_func_bol@primary','quadratic')\n",
    "b.set_value('ld_coeffs_bol', component='primary', value=[0.1421,0.3693])\n",
    "\n",
    "b.set_value_all('atm', component='secondary', value='phoenix')\n",
    "b.set_value('abun', component='secondary', value=-1.55)"
   ]
  },
  {
   "cell_type": "markdown",
   "metadata": {},
   "source": [
    "We'll set the inclination to 90 degrees and set some compute options."
   ]
  },
  {
   "cell_type": "code",
   "execution_count": 8,
   "metadata": {},
   "outputs": [],
   "source": [
    "b.set_value('incl', component='binary', value=90.0*u.deg)\n",
    "b.set_value_all('ntriangles', value=10000)\n",
    "b.set_value_all('intens_weighting', value='photon')"
   ]
  },
  {
   "cell_type": "code",
   "execution_count": 9,
   "metadata": {},
   "outputs": [],
   "source": [
    "b.set_value('Rv', value=2.5)"
   ]
  },
  {
   "cell_type": "markdown",
   "metadata": {},
   "source": [
    "For comparison, we'll first compute a model with zero extinction."
   ]
  },
  {
   "cell_type": "code",
   "execution_count": 10,
   "metadata": {},
   "outputs": [
    {
     "data": {
      "text/plain": [
       "<ParameterSet: 10 parameters | contexts: figure, model>"
      ]
     },
     "execution_count": 10,
     "metadata": {},
     "output_type": "execute_result"
    }
   ],
   "source": [
    "b.set_value('Av', value=0.0)\n",
    "b.run_compute(model='noext',overwrite=True)"
   ]
  },
  {
   "cell_type": "markdown",
   "metadata": {},
   "source": [
    "And then a second model with extinction."
   ]
  },
  {
   "cell_type": "code",
   "execution_count": 11,
   "metadata": {},
   "outputs": [
    {
     "data": {
      "text/plain": [
       "<ParameterSet: 10 parameters | contexts: figure, model>"
      ]
     },
     "execution_count": 11,
     "metadata": {},
     "output_type": "execute_result"
    }
   ],
   "source": [
    "b.set_value('Av',2.0)\n",
    "b.run_compute(model='ext',overwrite=True)"
   ]
  },
  {
   "cell_type": "markdown",
   "metadata": {},
   "source": [
    "Finally we'll convert the output fluxes to magnitudes and format the figure."
   ]
  },
  {
   "cell_type": "code",
   "execution_count": 12,
   "metadata": {},
   "outputs": [],
   "source": [
    "uextmags=-2.5*np.log10(b['value@fluxes@u@ext@model'])\n",
    "unoextmags=-2.5*np.log10(b['value@fluxes@u@noext@model'])\n",
    "uextmags_norm=uextmags-uextmags.min()+1\n",
    "unoextmags_norm=unoextmags-unoextmags.min()+1\n",
    "uresid=uextmags_norm-unoextmags_norm\n",
    "\n",
    "gextmags=-2.5*np.log10(b['value@fluxes@g@ext@model'])\n",
    "gnoextmags=-2.5*np.log10(b['value@fluxes@g@noext@model'])\n",
    "gextmags_norm=gextmags-gextmags.min()+1\n",
    "gnoextmags_norm=gnoextmags-gnoextmags.min()+1\n",
    "gresid=gextmags_norm-gnoextmags_norm\n",
    "\n",
    "rextmags=-2.5*np.log10(b['value@fluxes@r@ext@model'])\n",
    "rnoextmags=-2.5*np.log10(b['value@fluxes@r@noext@model'])\n",
    "rextmags_norm=rextmags-rextmags.min()+1\n",
    "rnoextmags_norm=rnoextmags-rnoextmags.min()+1\n",
    "rresid=rextmags_norm-rnoextmags_norm\n",
    "\n",
    "iextmags=-2.5*np.log10(b['value@fluxes@i@ext@model'])\n",
    "inoextmags=-2.5*np.log10(b['value@fluxes@i@noext@model'])\n",
    "iextmags_norm=iextmags-iextmags.min()+1\n",
    "inoextmags_norm=inoextmags-inoextmags.min()+1\n",
    "iresid=iextmags_norm-inoextmags_norm"
   ]
  },
  {
   "cell_type": "code",
   "execution_count": 13,
   "metadata": {},
   "outputs": [
    {
     "data": {
      "image/png": "[encoded data removed]",
      "text/plain": [
       "<Figure size 864x864 with 8 Axes>"
      ]
     },
     "metadata": {
      "needs_background": "light"
     },
     "output_type": "display_data"
    }
   ],
   "source": [
    "fig=plt.figure(figsize=(12,12))\n",
    "gs=gridspec.GridSpec(4,2,height_ratios=[4,1,4,1],width_ratios=[1,1])\n",
    "\n",
    "ax=plt.subplot(gs[0,0])\n",
    "ax.plot(b['value@times@u@noext@model']/7.,unoextmags_norm,color='k',linestyle=\"--\")\n",
    "ax.plot(b['value@times@u@ext@model']/7.,uextmags_norm,color='k',linestyle=\"-\")\n",
    "ax.set_ylabel('Magnitude')\n",
    "ax.set_xticklabels([])\n",
    "ax.set_ylim([6.2,0.95])\n",
    "ax.set_title('(a) LSST u')\n",
    "\n",
    "ax2=plt.subplot(gs[0,1])\n",
    "ax2.plot(b['value@times@g@noext@model']/b['period@orbit'].quantity,gnoextmags_norm,color='k',linestyle=\"--\")\n",
    "ax2.plot(b['value@times@g@ext@model']/b['period@orbit'].quantity,gextmags_norm,color='k',linestyle=\"-\")\n",
    "ax2.set_ylabel('Magnitude')\n",
    "ax2.set_xticklabels([])\n",
    "ax2.set_ylim([3.2,0.95])\n",
    "ax2.set_title('(b) LSST g')\n",
    "\n",
    "ax_1=plt.subplot(gs[1,0])\n",
    "ax_1.plot(b['value@times@u@noext@model']/b['period@orbit'].quantity,uresid,color='k',linestyle='-')\n",
    "ax_1.set_ylabel(r'$\\Delta m$')\n",
    "ax_1.set_xlabel('Phase')\n",
    "ax_1.set_ylim([0.05,-0.3])\n",
    "ax_1.axhline(y=0., linestyle='dashed',color='k',linewidth=0.5)\n",
    "\n",
    "\n",
    "ax2_1=plt.subplot(gs[1,1])\n",
    "ax2_1.plot(b['value@times@g@noext@model']/b['period@orbit'].quantity,gresid,color='k',linestyle='-')\n",
    "ax2_1.set_ylabel(r'$\\Delta m$')\n",
    "ax2_1.set_xlabel('Phase')\n",
    "ax2_1.set_ylim([0.05,-0.3])\n",
    "ax2_1.axhline(y=0., linestyle='dashed',color='k',linewidth=0.5)\n",
    "\n",
    "ax3=plt.subplot(gs[2,0])\n",
    "ax3.plot(b['value@times@r@noext@model']/b['period@orbit'].quantity,rnoextmags_norm,color='k',linestyle=\"--\")\n",
    "ax3.plot(b['value@times@r@ext@model']/b['period@orbit'].quantity,rextmags_norm,color='k',linestyle=\"-\")\n",
    "ax3.set_ylabel('Magnitude')\n",
    "ax3.set_xticklabels([])\n",
    "ax3.set_ylim([2.0,0.95])\n",
    "ax3.set_title('(c) LSST r')\n",
    "\n",
    "ax4=plt.subplot(gs[2,1])\n",
    "ax4.plot(b['value@times@i@noext@model']/b['period@orbit'].quantity,inoextmags_norm,color='k',linestyle=\"--\")\n",
    "ax4.plot(b['value@times@i@ext@model']/b['period@orbit'].quantity,iextmags_norm,color='k',linestyle=\"-\")\n",
    "ax4.set_ylabel('Magnitude')\n",
    "ax4.set_xticklabels([])\n",
    "ax4.set_ylim([1.6,0.95])\n",
    "ax4.set_title('(d) LSST i')\n",
    "\n",
    "ax3_1=plt.subplot(gs[3,0])\n",
    "ax3_1.plot(b['value@times@r@noext@model']/b['period@orbit'].quantity,rresid,color='k',linestyle='-')\n",
    "ax3_1.set_ylabel(r'$\\Delta m$')\n",
    "ax3_1.set_xlabel('Phase')\n",
    "ax3_1.set_ylim([0.01,-0.03])\n",
    "ax3_1.axhline(y=0., linestyle='dashed',color='k',linewidth=0.5)\n",
    "\n",
    "\n",
    "ax4_1=plt.subplot(gs[3,1])\n",
    "ax4_1.plot(b['value@times@i@noext@model']/b['period@orbit'].quantity,iresid,color='k',linestyle='-')\n",
    "ax4_1.set_ylabel(r'$\\Delta m$')\n",
    "ax4_1.set_xlabel('Phase')\n",
    "ax4_1.set_ylim([0.01,-0.03])\n",
    "ax4_1.axhline(y=0., linestyle='dashed',color='k',linewidth=0.5)\n",
    "\n",
    "ax_1.axhspan(-0.0075,0.0075,color='lightgray')\n",
    "ax2_1.axhspan(-0.005,0.005,color='lightgray')\n",
    "ax3_1.axhspan(-0.005,0.005,color='lightgray')\n",
    "ax4_1.axhspan(-0.005,0.005,color='lightgray')\n",
    "\n",
    "plt.tight_layout()\n",
    "fig.canvas.draw()"
   ]
  },
  {
   "cell_type": "code",
   "execution_count": null,
   "metadata": {},
   "outputs": [],
   "source": []
  }
 ],
 "metadata": {
  "kernelspec": {
   "display_name": "Python 3",
   "language": "python",
   "name": "python3"
  },
  "language_info": {
   "codemirror_mode": {
    "name": "ipython",
    "version": 3
   },
   "file_extension": ".py",
   "mimetype": "text/x-python",
   "name": "python",
   "nbconvert_exporter": "python",
   "pygments_lexer": "ipython3",
   "version": "3.7.5"
  }
 },
 "nbformat": 4,
 "nbformat_minor": 1
}
