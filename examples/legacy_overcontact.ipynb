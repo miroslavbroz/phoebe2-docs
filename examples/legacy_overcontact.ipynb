{
 "cells": [
  {
   "cell_type": "markdown",
   "metadata": {},
   "source": [
    "[IPython Notebook](legacy_overcontact.ipynb) |  [Python Script](legacy_overcontact.py)"
   ]
  },
  {
   "cell_type": "markdown",
   "metadata": {},
   "source": [
    "Comparing Overcontacts in PHOEBE 2.0 vs PHOEBE Legacy\n",
    "============================\n",
    "\n",
    "**NOTE**: PHOEBE 1.0 legacy is an alternate backend and is not installed with PHOEBE 2.0.  In order to run this backend, you'll need to have [PHOEBE 1.0](https://phoebe-project.org/1.0) installed.\n",
    "\n",
    "Setup\n",
    "-----------------------------"
   ]
  },
  {
   "cell_type": "markdown",
   "metadata": {
    "collapsed": true
   },
   "source": [
    "As always, let's do imports and initialize a logger and a new bundle.  See [Building a System](../tutorials/building_a_system.html) for more details."
   ]
  },
  {
   "cell_type": "code",
   "execution_count": 1,
   "metadata": {
    "collapsed": true
   },
   "outputs": [],
   "source": [
    "%matplotlib inline"
   ]
  },
  {
   "cell_type": "code",
   "execution_count": 2,
   "metadata": {
    "collapsed": false
   },
   "outputs": [
    {
     "name": "stderr",
     "output_type": "stream",
     "text": [
      "/usr/local/lib/python2.7/dist-packages/IPython/kernel/__init__.py:13: ShimWarning: The `IPython.kernel` package has been deprecated. You should import from ipykernel or jupyter_client instead.\n",
      "  \"You should import from ipykernel or jupyter_client instead.\", ShimWarning)\n",
      "WARNING: Constant u'Gravitational constant' is already has a definition in the u'si' system [astropy.constants.constant]\n",
      "WARNING:astropy:Constant u'Gravitational constant' is already has a definition in the u'si' system\n",
      "WARNING: Constant u'Solar mass' is already has a definition in the u'si' system [astropy.constants.constant]\n",
      "WARNING:astropy:Constant u'Solar mass' is already has a definition in the u'si' system\n",
      "WARNING: Constant u'Solar radius' is already has a definition in the u'si' system [astropy.constants.constant]\n",
      "WARNING:astropy:Constant u'Solar radius' is already has a definition in the u'si' system\n",
      "WARNING: Constant u'Solar luminosity' is already has a definition in the u'si' system [astropy.constants.constant]\n",
      "WARNING:astropy:Constant u'Solar luminosity' is already has a definition in the u'si' system\n"
     ]
    },
    {
     "name": "stdout",
     "output_type": "stream",
     "text": [
      "WARNING: developer mode enabled, to disable 'rm ~/.phoebe_devel_enabled' and restart phoebe or phoebe._devel_enabled=False to temporarily disable\n"
     ]
    },
    {
     "name": "stderr",
     "output_type": "stream",
     "text": [
      "/usr/local/lib/python2.7/dist-packages/astropy/units/quantity.py:732: FutureWarning: comparison to `None` will result in an elementwise object comparison in the future.\n",
      "  return super(Quantity, self).__eq__(other)\n"
     ]
    }
   ],
   "source": [
    "import phoebe\n",
    "from phoebe import u\n",
    "import numpy as np\n",
    "import matplotlib.pyplot as plt\n",
    "\n",
    "logger = phoebe.logger(clevel='INFO')\n",
    "\n",
    "b = phoebe.default_binary(overcontact=True)\n",
    "#b['q'] = 0.7"
   ]
  },
  {
   "cell_type": "markdown",
   "metadata": {
    "collapsed": true
   },
   "source": [
    "Adding Datasets and Compute Options\n",
    "--------------------"
   ]
  },
  {
   "cell_type": "code",
   "execution_count": 3,
   "metadata": {
    "collapsed": false
   },
   "outputs": [
    {
     "ename": "ValueError",
     "evalue": "0 results found",
     "output_type": "error",
     "traceback": [
      "\u001b[1;31m---------------------------------------------------------------------------\u001b[0m",
      "\u001b[1;31mValueError\u001b[0m                                Traceback (most recent call last)",
      "\u001b[1;32m<ipython-input-3-2034761f2227>\u001b[0m in \u001b[0;36m<module>\u001b[1;34m()\u001b[0m\n\u001b[0;32m      1\u001b[0m \u001b[1;31m#b.add_dataset('lc', times=np.linspace(0,3,101), dataset='lc01')\u001b[0m\u001b[1;33m\u001b[0m\u001b[1;33m\u001b[0m\u001b[0m\n\u001b[0;32m      2\u001b[0m \u001b[1;31m#b.add_dataset('rv', times=np.linspace(0,3,101), dataset='rv01')\u001b[0m\u001b[1;33m\u001b[0m\u001b[1;33m\u001b[0m\u001b[0m\n\u001b[1;32m----> 3\u001b[1;33m \u001b[0mb\u001b[0m\u001b[1;33m.\u001b[0m\u001b[0madd_dataset\u001b[0m\u001b[1;33m(\u001b[0m\u001b[1;34m'mesh'\u001b[0m\u001b[1;33m,\u001b[0m \u001b[0mtimes\u001b[0m\u001b[1;33m=\u001b[0m\u001b[1;33m[\u001b[0m\u001b[1;36m0\u001b[0m\u001b[1;33m]\u001b[0m\u001b[1;33m,\u001b[0m \u001b[0mdataset\u001b[0m\u001b[1;33m=\u001b[0m\u001b[1;34m'mesh01'\u001b[0m\u001b[1;33m)\u001b[0m\u001b[1;33m\u001b[0m\u001b[0m\n\u001b[0m",
      "\u001b[1;32m/home/kyle/.local/lib/python2.7/site-packages/phoebe/frontend/bundle.pyc\u001b[0m in \u001b[0;36madd_dataset\u001b[1;34m(self, kind, component, **kwargs)\u001b[0m\n\u001b[0;32m   1674\u001b[0m                                    \u001b[0mvalue\u001b[0m\u001b[1;33m=\u001b[0m\u001b[0mv\u001b[0m\u001b[1;33m,\u001b[0m\u001b[1;33m\u001b[0m\u001b[0m\n\u001b[0;32m   1675\u001b[0m                                    \u001b[0mcheck_visible\u001b[0m\u001b[1;33m=\u001b[0m\u001b[0mFalse\u001b[0m\u001b[1;33m,\u001b[0m\u001b[1;33m\u001b[0m\u001b[0m\n\u001b[1;32m-> 1676\u001b[1;33m                                    ignore_none=True)\n\u001b[0m\u001b[0;32m   1677\u001b[0m \u001b[1;33m\u001b[0m\u001b[0m\n\u001b[0;32m   1678\u001b[0m \u001b[1;33m\u001b[0m\u001b[0m\n",
      "\u001b[1;32m/home/kyle/.local/lib/python2.7/site-packages/phoebe/parameters/parameters.pyc\u001b[0m in \u001b[0;36mset_value_all\u001b[1;34m(self, twig, value, check_default, **kwargs)\u001b[0m\n\u001b[0;32m   1689\u001b[0m                                           \u001b[1;33m**\u001b[0m\u001b[0mkwargs\u001b[0m\u001b[1;33m)\u001b[0m\u001b[1;33m.\u001b[0m\u001b[0mset_index_value\u001b[0m\u001b[1;33m(\u001b[0m\u001b[0mvalue\u001b[0m\u001b[1;33m=\u001b[0m\u001b[0mvalue\u001b[0m\u001b[1;33m,\u001b[0m\u001b[1;33m\u001b[0m\u001b[0m\n\u001b[0;32m   1690\u001b[0m                                                                     **kwargs)\n\u001b[1;32m-> 1691\u001b[1;33m             \u001b[0mparam\u001b[0m\u001b[1;33m.\u001b[0m\u001b[0mset_value\u001b[0m\u001b[1;33m(\u001b[0m\u001b[0mvalue\u001b[0m\u001b[1;33m=\u001b[0m\u001b[0mvalue\u001b[0m\u001b[1;33m,\u001b[0m \u001b[1;33m**\u001b[0m\u001b[0mkwargs\u001b[0m\u001b[1;33m)\u001b[0m\u001b[1;33m\u001b[0m\u001b[0m\n\u001b[0m\u001b[0;32m   1692\u001b[0m \u001b[1;33m\u001b[0m\u001b[0m\n\u001b[0;32m   1693\u001b[0m     \u001b[1;32mdef\u001b[0m \u001b[0mget_default_unit\u001b[0m\u001b[1;33m(\u001b[0m\u001b[0mself\u001b[0m\u001b[1;33m,\u001b[0m \u001b[0mtwig\u001b[0m\u001b[1;33m=\u001b[0m\u001b[0mNone\u001b[0m\u001b[1;33m,\u001b[0m \u001b[1;33m**\u001b[0m\u001b[0mkwargs\u001b[0m\u001b[1;33m)\u001b[0m\u001b[1;33m:\u001b[0m\u001b[1;33m\u001b[0m\u001b[0m\n",
      "\u001b[1;32m/home/kyle/.local/lib/python2.7/site-packages/phoebe/parameters/parameters.pyc\u001b[0m in \u001b[0;36mset_value\u001b[1;34m(self, value, unit, force, run_checks, **kwargs)\u001b[0m\n\u001b[0;32m   3955\u001b[0m         \"\"\"\n\u001b[0;32m   3956\u001b[0m         \"\"\"\n\u001b[1;32m-> 3957\u001b[1;33m         \u001b[1;32mreturn\u001b[0m \u001b[0mself\u001b[0m\u001b[1;33m.\u001b[0m\u001b[0mset_quantity\u001b[0m\u001b[1;33m(\u001b[0m\u001b[0mvalue\u001b[0m\u001b[1;33m=\u001b[0m\u001b[0mvalue\u001b[0m\u001b[1;33m,\u001b[0m \u001b[0munit\u001b[0m\u001b[1;33m=\u001b[0m\u001b[0munit\u001b[0m\u001b[1;33m,\u001b[0m \u001b[0mforce\u001b[0m\u001b[1;33m=\u001b[0m\u001b[0mforce\u001b[0m\u001b[1;33m,\u001b[0m \u001b[0mrun_checks\u001b[0m\u001b[1;33m=\u001b[0m\u001b[0mrun_checks\u001b[0m\u001b[1;33m)\u001b[0m\u001b[1;33m\u001b[0m\u001b[0m\n\u001b[0m\u001b[0;32m   3958\u001b[0m \u001b[1;33m\u001b[0m\u001b[0m\n\u001b[0;32m   3959\u001b[0m     \u001b[1;33m@\u001b[0m\u001b[0msend_if_client\u001b[0m\u001b[1;33m\u001b[0m\u001b[0m\n",
      "\u001b[1;32m/home/kyle/.local/lib/python2.7/site-packages/phoebe/parameters/parameters.pyc\u001b[0m in \u001b[0;36m_send_if_client\u001b[1;34m(self, *args, **kwargs)\u001b[0m\n\u001b[0;32m    150\u001b[0m                 \u001b[0mself\u001b[0m\u001b[1;33m.\u001b[0m\u001b[0m_bundle\u001b[0m\u001b[1;33m.\u001b[0m\u001b[0mclient_update\u001b[0m\u001b[1;33m(\u001b[0m\u001b[1;33m)\u001b[0m\u001b[1;33m\u001b[0m\u001b[0m\n\u001b[0;32m    151\u001b[0m         \u001b[1;32melse\u001b[0m\u001b[1;33m:\u001b[0m\u001b[1;33m\u001b[0m\u001b[0m\n\u001b[1;32m--> 152\u001b[1;33m             \u001b[1;32mreturn\u001b[0m \u001b[0mfctn\u001b[0m\u001b[1;33m(\u001b[0m\u001b[0mself\u001b[0m\u001b[1;33m,\u001b[0m \u001b[1;33m*\u001b[0m\u001b[0margs\u001b[0m\u001b[1;33m,\u001b[0m \u001b[1;33m**\u001b[0m\u001b[0mkwargs\u001b[0m\u001b[1;33m)\u001b[0m\u001b[1;33m\u001b[0m\u001b[0m\n\u001b[0m\u001b[0;32m    153\u001b[0m     \u001b[1;32mreturn\u001b[0m \u001b[0m_send_if_client\u001b[0m\u001b[1;33m\u001b[0m\u001b[0m\n\u001b[0;32m    154\u001b[0m \u001b[1;33m\u001b[0m\u001b[0m\n",
      "\u001b[1;32m/home/kyle/.local/lib/python2.7/site-packages/phoebe/parameters/parameters.pyc\u001b[0m in \u001b[0;36mset_quantity\u001b[1;34m(self, value, unit, force, run_checks, **kwargs)\u001b[0m\n\u001b[0;32m   4034\u001b[0m         \u001b[1;31m# run_checks if requested (default)\u001b[0m\u001b[1;33m\u001b[0m\u001b[1;33m\u001b[0m\u001b[0m\n\u001b[0;32m   4035\u001b[0m         \u001b[1;32mif\u001b[0m \u001b[0mrun_checks\u001b[0m \u001b[1;32mand\u001b[0m \u001b[1;32mnot\u001b[0m \u001b[0mforce\u001b[0m \u001b[1;32mand\u001b[0m \u001b[0mself\u001b[0m\u001b[1;33m.\u001b[0m\u001b[0m_bundle\u001b[0m\u001b[1;33m:\u001b[0m\u001b[1;33m\u001b[0m\u001b[0m\n\u001b[1;32m-> 4036\u001b[1;33m             \u001b[0mpassed\u001b[0m\u001b[1;33m,\u001b[0m \u001b[0mmsg\u001b[0m \u001b[1;33m=\u001b[0m \u001b[0mself\u001b[0m\u001b[1;33m.\u001b[0m\u001b[0m_bundle\u001b[0m\u001b[1;33m.\u001b[0m\u001b[0mrun_checks\u001b[0m\u001b[1;33m(\u001b[0m\u001b[1;33m)\u001b[0m\u001b[1;33m\u001b[0m\u001b[0m\n\u001b[0m\u001b[0;32m   4037\u001b[0m             \u001b[1;32mif\u001b[0m \u001b[1;32mnot\u001b[0m \u001b[0mpassed\u001b[0m\u001b[1;33m:\u001b[0m\u001b[1;33m\u001b[0m\u001b[0m\n\u001b[0;32m   4038\u001b[0m                 \u001b[0mlogger\u001b[0m\u001b[1;33m.\u001b[0m\u001b[0mwarning\u001b[0m\u001b[1;33m(\u001b[0m\u001b[0mmsg\u001b[0m\u001b[1;33m)\u001b[0m\u001b[1;33m\u001b[0m\u001b[0m\n",
      "\u001b[1;32m/home/kyle/.local/lib/python2.7/site-packages/phoebe/frontend/bundle.pyc\u001b[0m in \u001b[0;36mrun_checks\u001b[1;34m(self)\u001b[0m\n\u001b[0;32m   1056\u001b[0m             \u001b[0mq1\u001b[0m \u001b[1;33m=\u001b[0m \u001b[0mroche\u001b[0m\u001b[1;33m.\u001b[0m\u001b[0mq_for_component\u001b[0m\u001b[1;33m(\u001b[0m\u001b[0mq\u001b[0m\u001b[1;33m,\u001b[0m \u001b[0mcomp1\u001b[0m\u001b[1;33m)\u001b[0m\u001b[1;33m\u001b[0m\u001b[0m\n\u001b[0;32m   1057\u001b[0m \u001b[1;33m\u001b[0m\u001b[0m\n\u001b[1;32m-> 1058\u001b[1;33m             \u001b[0mF0\u001b[0m \u001b[1;33m=\u001b[0m \u001b[0mself\u001b[0m\u001b[1;33m.\u001b[0m\u001b[0mget_value\u001b[0m\u001b[1;33m(\u001b[0m\u001b[0mqualifier\u001b[0m\u001b[1;33m=\u001b[0m\u001b[1;34m'syncpar'\u001b[0m\u001b[1;33m,\u001b[0m \u001b[0mcomponent\u001b[0m\u001b[1;33m=\u001b[0m\u001b[0mstarrefs\u001b[0m\u001b[1;33m[\u001b[0m\u001b[1;36m0\u001b[0m\u001b[1;33m]\u001b[0m\u001b[1;33m,\u001b[0m \u001b[0mcontext\u001b[0m\u001b[1;33m=\u001b[0m\u001b[1;34m'component'\u001b[0m\u001b[1;33m)\u001b[0m\u001b[1;33m\u001b[0m\u001b[0m\n\u001b[0m\u001b[0;32m   1059\u001b[0m             \u001b[0mF1\u001b[0m \u001b[1;33m=\u001b[0m \u001b[0mself\u001b[0m\u001b[1;33m.\u001b[0m\u001b[0mget_value\u001b[0m\u001b[1;33m(\u001b[0m\u001b[0mqualifier\u001b[0m\u001b[1;33m=\u001b[0m\u001b[1;34m'syncpar'\u001b[0m\u001b[1;33m,\u001b[0m \u001b[0mcomponent\u001b[0m\u001b[1;33m=\u001b[0m\u001b[0mstarrefs\u001b[0m\u001b[1;33m[\u001b[0m\u001b[1;36m1\u001b[0m\u001b[1;33m]\u001b[0m\u001b[1;33m,\u001b[0m \u001b[0mcontext\u001b[0m\u001b[1;33m=\u001b[0m\u001b[1;34m'component'\u001b[0m\u001b[1;33m)\u001b[0m\u001b[1;33m\u001b[0m\u001b[0m\n\u001b[0;32m   1060\u001b[0m \u001b[1;33m\u001b[0m\u001b[0m\n",
      "\u001b[1;32m/home/kyle/.local/lib/python2.7/site-packages/phoebe/parameters/parameters.pyc\u001b[0m in \u001b[0;36mget_value\u001b[1;34m(self, twig, unit, default, t, **kwargs)\u001b[0m\n\u001b[0;32m   1614\u001b[0m                 \u001b[1;32mreturn\u001b[0m \u001b[0mdefault\u001b[0m\u001b[1;33m\u001b[0m\u001b[0m\n\u001b[0;32m   1615\u001b[0m \u001b[1;33m\u001b[0m\u001b[0m\n\u001b[1;32m-> 1616\u001b[1;33m         \u001b[0mparam\u001b[0m \u001b[1;33m=\u001b[0m \u001b[0mself\u001b[0m\u001b[1;33m.\u001b[0m\u001b[0mget_parameter\u001b[0m\u001b[1;33m(\u001b[0m\u001b[0mtwig\u001b[0m\u001b[1;33m=\u001b[0m\u001b[0mtwig\u001b[0m\u001b[1;33m,\u001b[0m \u001b[1;33m**\u001b[0m\u001b[0mkwargs\u001b[0m\u001b[1;33m)\u001b[0m\u001b[1;33m\u001b[0m\u001b[0m\n\u001b[0m\u001b[0;32m   1617\u001b[0m \u001b[1;33m\u001b[0m\u001b[0m\n\u001b[0;32m   1618\u001b[0m         \u001b[1;32mif\u001b[0m \u001b[0mparam\u001b[0m\u001b[1;33m.\u001b[0m\u001b[0mqualifier\u001b[0m \u001b[1;32min\u001b[0m \u001b[0mkwargs\u001b[0m\u001b[1;33m.\u001b[0m\u001b[0mkeys\u001b[0m\u001b[1;33m(\u001b[0m\u001b[1;33m)\u001b[0m\u001b[1;33m:\u001b[0m\u001b[1;33m\u001b[0m\u001b[0m\n",
      "\u001b[1;32m/home/kyle/.local/lib/python2.7/site-packages/phoebe/parameters/parameters.pyc\u001b[0m in \u001b[0;36mget_parameter\u001b[1;34m(self, twig, **kwargs)\u001b[0m\n\u001b[0;32m   1469\u001b[0m \u001b[1;33m\u001b[0m\u001b[0m\n\u001b[0;32m   1470\u001b[0m         \"\"\"\n\u001b[1;32m-> 1471\u001b[1;33m         \u001b[1;32mreturn\u001b[0m \u001b[0mself\u001b[0m\u001b[1;33m.\u001b[0m\u001b[0mget\u001b[0m\u001b[1;33m(\u001b[0m\u001b[0mtwig\u001b[0m\u001b[1;33m=\u001b[0m\u001b[0mtwig\u001b[0m\u001b[1;33m,\u001b[0m \u001b[1;33m**\u001b[0m\u001b[0mkwargs\u001b[0m\u001b[1;33m)\u001b[0m\u001b[1;33m\u001b[0m\u001b[0m\n\u001b[0m\u001b[0;32m   1472\u001b[0m \u001b[1;33m\u001b[0m\u001b[0m\n\u001b[0;32m   1473\u001b[0m     \u001b[1;32mdef\u001b[0m \u001b[0mget_or_create\u001b[0m\u001b[1;33m(\u001b[0m\u001b[0mself\u001b[0m\u001b[1;33m,\u001b[0m \u001b[0mqualifier\u001b[0m\u001b[1;33m,\u001b[0m \u001b[0mnew_parameter\u001b[0m\u001b[1;33m,\u001b[0m \u001b[1;33m**\u001b[0m\u001b[0mkwargs\u001b[0m\u001b[1;33m)\u001b[0m\u001b[1;33m:\u001b[0m\u001b[1;33m\u001b[0m\u001b[0m\n",
      "\u001b[1;32m/home/kyle/.local/lib/python2.7/site-packages/phoebe/parameters/parameters.pyc\u001b[0m in \u001b[0;36mget\u001b[1;34m(self, twig, check_visible, check_default, **kwargs)\u001b[0m\n\u001b[0;32m   1244\u001b[0m         \u001b[1;32mif\u001b[0m \u001b[1;32mnot\u001b[0m \u001b[0mlen\u001b[0m\u001b[1;33m(\u001b[0m\u001b[0mps\u001b[0m\u001b[1;33m)\u001b[0m\u001b[1;33m:\u001b[0m\u001b[1;33m\u001b[0m\u001b[0m\n\u001b[0;32m   1245\u001b[0m             \u001b[1;31m# TODO: custom exception?\u001b[0m\u001b[1;33m\u001b[0m\u001b[1;33m\u001b[0m\u001b[0m\n\u001b[1;32m-> 1246\u001b[1;33m             \u001b[1;32mraise\u001b[0m \u001b[0mValueError\u001b[0m\u001b[1;33m(\u001b[0m\u001b[1;34m\"0 results found\"\u001b[0m\u001b[1;33m)\u001b[0m\u001b[1;33m\u001b[0m\u001b[0m\n\u001b[0m\u001b[0;32m   1247\u001b[0m         \u001b[1;32melif\u001b[0m \u001b[0mlen\u001b[0m\u001b[1;33m(\u001b[0m\u001b[0mps\u001b[0m\u001b[1;33m)\u001b[0m \u001b[1;33m!=\u001b[0m \u001b[1;36m1\u001b[0m\u001b[1;33m:\u001b[0m\u001b[1;33m\u001b[0m\u001b[0m\n\u001b[0;32m   1248\u001b[0m             \u001b[1;31m# TODO: custom exception?\u001b[0m\u001b[1;33m\u001b[0m\u001b[1;33m\u001b[0m\u001b[0m\n",
      "\u001b[1;31mValueError\u001b[0m: 0 results found"
     ]
    }
   ],
   "source": [
    "#b.add_dataset('lc', times=np.linspace(0,3,101), dataset='lc01')\n",
    "#b.add_dataset('rv', times=np.linspace(0,3,101), dataset='rv01')\n",
    "b.add_dataset('mesh', times=[0], dataset='mesh01')"
   ]
  },
  {
   "cell_type": "markdown",
   "metadata": {},
   "source": [
    "Let's add compute options for phoebe using both the new (marching) method for creating meshes as well as the WD method which imitates the format of the mesh used within legacy."
   ]
  },
  {
   "cell_type": "code",
   "execution_count": null,
   "metadata": {
    "collapsed": false
   },
   "outputs": [],
   "source": [
    "b.add_compute(compute='phoebe2marching', mesh_method='marching')"
   ]
  },
  {
   "cell_type": "code",
   "execution_count": null,
   "metadata": {
    "collapsed": false
   },
   "outputs": [],
   "source": [
    "b.add_compute(compute='phoebe2wd', mesh_method='wd', eclipse_method='graham')"
   ]
  },
  {
   "cell_type": "markdown",
   "metadata": {},
   "source": [
    "Now we add compute options for the 'legacy' backend."
   ]
  },
  {
   "cell_type": "code",
   "execution_count": null,
   "metadata": {
    "collapsed": false
   },
   "outputs": [],
   "source": [
    "b.add_compute('legacy', compute='phoebe1')"
   ]
  },
  {
   "cell_type": "markdown",
   "metadata": {},
   "source": [
    "The 'blackbody' atmospheres from phoebe1 are comperable to the 'extern_planckint' atmospheres in phoebe."
   ]
  },
  {
   "cell_type": "code",
   "execution_count": null,
   "metadata": {
    "collapsed": false
   },
   "outputs": [],
   "source": [
    "b.set_value_all('atm@phoebe2wd', 'extern_planckint')\n",
    "b.set_value_all('atm@phoebe2marching', 'extern_planckint')\n",
    "b.set_value_all('atm@phoebe1', 'blackbody')"
   ]
  },
  {
   "cell_type": "markdown",
   "metadata": {},
   "source": [
    "Let's make sure both 'phoebe1' and 'phoebe2wd' use the same value for gridsize"
   ]
  },
  {
   "cell_type": "code",
   "execution_count": null,
   "metadata": {
    "collapsed": true
   },
   "outputs": [],
   "source": [
    "b.set_value_all('gridsize', 30)"
   ]
  },
  {
   "cell_type": "markdown",
   "metadata": {},
   "source": [
    "Let's also disable other special effect such as heating, gravity, and light-time effects."
   ]
  },
  {
   "cell_type": "code",
   "execution_count": null,
   "metadata": {
    "collapsed": false
   },
   "outputs": [],
   "source": [
    "# b.set_value_all('ld_coeffs', [0.,0.])\n",
    "# TODO: remove this once tested to work correctly with limbdarkening"
   ]
  },
  {
   "cell_type": "code",
   "execution_count": null,
   "metadata": {
    "collapsed": true
   },
   "outputs": [],
   "source": [
    "#b.set_value_all('heating', False)\n",
    "#b.set_value_all('refl', False)\n",
    "# TODO: remove these?"
   ]
  },
  {
   "cell_type": "code",
   "execution_count": null,
   "metadata": {
    "collapsed": false
   },
   "outputs": [],
   "source": [
    "b.set_value_all('rv_grav', False)\n",
    "# TODO: phoebe1???\n",
    "# TODO: remove these?"
   ]
  },
  {
   "cell_type": "code",
   "execution_count": null,
   "metadata": {
    "collapsed": false
   },
   "outputs": [],
   "source": [
    "b.set_value_all('ltte', False)"
   ]
  },
  {
   "cell_type": "markdown",
   "metadata": {},
   "source": [
    "Finally, let's compute all of our models"
   ]
  },
  {
   "cell_type": "code",
   "execution_count": null,
   "metadata": {
    "collapsed": false
   },
   "outputs": [],
   "source": [
    "b.run_compute(compute='phoebe2marching', model='phoebe2marchingmodel')"
   ]
  },
  {
   "cell_type": "code",
   "execution_count": null,
   "metadata": {
    "collapsed": false,
    "scrolled": false
   },
   "outputs": [],
   "source": [
    "#b.run_compute(compute='phoebe2wd', model='phoebe2wdmodel')"
   ]
  },
  {
   "cell_type": "code",
   "execution_count": null,
   "metadata": {
    "collapsed": false
   },
   "outputs": [],
   "source": [
    "#b.run_compute(compute='phoebe1', model='phoebe1model')"
   ]
  },
  {
   "cell_type": "markdown",
   "metadata": {},
   "source": [
    "Plotting\n",
    "-------------------------"
   ]
  },
  {
   "cell_type": "markdown",
   "metadata": {},
   "source": [
    "### Meshes"
   ]
  },
  {
   "cell_type": "code",
   "execution_count": null,
   "metadata": {
    "collapsed": false
   },
   "outputs": [],
   "source": [
    "axs, artists = b['mesh01@phoebe2marchingmodel'].plot(x='z')"
   ]
  },
  {
   "cell_type": "code",
   "execution_count": null,
   "metadata": {
    "collapsed": false
   },
   "outputs": [],
   "source": [
    "#axs, artists = b['mesh01@phoebe2wdmodel'].plot(x='z')"
   ]
  },
  {
   "cell_type": "code",
   "execution_count": null,
   "metadata": {
    "collapsed": false
   },
   "outputs": [],
   "source": [
    "#axs, artists = b['mesh01@phoebe1model'].plot(x='z')"
   ]
  },
  {
   "cell_type": "markdown",
   "metadata": {},
   "source": [
    "### Light Curve"
   ]
  },
  {
   "cell_type": "code",
   "execution_count": null,
   "metadata": {
    "collapsed": false
   },
   "outputs": [],
   "source": [
    "#axs, artists = b['lc01@phoebe2marchingmodel'].plot(color='g')\n",
    "#axs, artists = b['lc01@phoebe2wdmodel'].plot(color='b')\n",
    "#axs, artists = b['lc01@phoebe1model'].plot(color='r')\n",
    "#leg = plt.legend(loc=4)"
   ]
  },
  {
   "cell_type": "markdown",
   "metadata": {},
   "source": [
    "Now let's plot the residuals between these two models"
   ]
  },
  {
   "cell_type": "code",
   "execution_count": null,
   "metadata": {
    "collapsed": false
   },
   "outputs": [],
   "source": [
    "#artist, = plt.plot(b.get_value('flux@lc01@phoebe2marchingmodel') - b.get_value('flux@lc01@phoebe1model'), 'g-')\n",
    "#artist, = plt.plot(b.get_value('flux@lc01@phoebe2wdmodel') - b.get_value('flux@lc01@phoebe1model'), 'b-')\n",
    "#artist = plt.axhline(0.0, linestyle='dashed', color='k')"
   ]
  },
  {
   "cell_type": "markdown",
   "metadata": {},
   "source": [
    "### RVs"
   ]
  },
  {
   "cell_type": "code",
   "execution_count": null,
   "metadata": {
    "collapsed": false,
    "scrolled": true
   },
   "outputs": [],
   "source": [
    "#axs, artists = b['rvnum@phoebe2marchingmodel'].plot(color='g')\n",
    "#axs, artists = b['rvnum@phoebe2wdmodel'].plot(color='b')\n",
    "#axs, artists = b['rvnum@phoebe1model'].plot(color='r')"
   ]
  },
  {
   "cell_type": "code",
   "execution_count": null,
   "metadata": {
    "collapsed": false
   },
   "outputs": [],
   "source": [
    "#artist, = plt.plot(b.get_value('rv@rvnum@primary@phoebe2marchingmodel', ) - b.get_value('rv@rvnum@primary@phoebe1model'), color='g', ls=':')\n",
    "#artist, = plt.plot(b.get_value('rv@rvnum@secondary@phoebe2marchingmodel') - b.get_value('rv@rvnum@secondary@phoebe1model'), color='g', ls='-.')\n",
    "#\n",
    "#artist, = plt.plot(b.get_value('rv@rvnum@primary@phoebe2wdmodel', ) - b.get_value('rv@rvnum@primary@phoebe1model'), color='b', ls=':')\n",
    "#artist, = plt.plot(b.get_value('rv@rvnum@secondary@phoebe2wdmodel') - b.get_value('rv@rvnum@secondary@phoebe1model'), color='b', ls='-.')\n",
    "#\n",
    "#artist = plt.axhline(0.0, linestyle='dashed', color='k')\n",
    "#ylim = plt.ylim(-1e-2, 1e-2)"
   ]
  }
 ],
 "metadata": {
  "kernelspec": {
   "display_name": "Python 2",
   "language": "python",
   "name": "python2"
  },
  "language_info": {
   "codemirror_mode": {
    "name": "ipython",
    "version": 2
   },
   "file_extension": ".py",
   "mimetype": "text/x-python",
   "name": "python",
   "nbconvert_exporter": "python",
   "pygments_lexer": "ipython2",
   "version": "2.7.12"
  }
 },
 "nbformat": 4,
 "nbformat_minor": 0
}
