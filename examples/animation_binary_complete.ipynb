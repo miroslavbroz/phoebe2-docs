{
 "cells": [
  {
   "cell_type": "markdown",
   "metadata": {},
   "source": [
    "Complete Binary Animation\n",
    "============================\n",
    "\n",
    "**NOTE**: animating within Jupyter notebooks can be very resource intensive.  This script will likely run much quicker as a Python script.\n",
    "\n",
    "Setup\n",
    "-----------------------------"
   ]
  },
  {
   "cell_type": "markdown",
   "metadata": {},
   "source": [
    "Let's first make sure we have the latest version of PHOEBE 2.2 installed. (You can comment out this line if you don't use pip for your installation or don't want to update to the latest release)."
   ]
  },
  {
   "cell_type": "code",
   "execution_count": 1,
   "metadata": {},
   "outputs": [
    {
     "name": "stdout",
     "output_type": "stream",
     "text": [
      "Traceback (most recent call last):\r\n",
      "  File \"/home/kyle/.local/bin/pip\", line 7, in <module>\r\n",
      "    from pip import main\r\n",
      "ImportError: cannot import name 'main' from 'pip' (/usr/lib/python3/dist-packages/pip/__init__.py)\r\n"
     ]
    }
   ],
   "source": [
    "!pip install -I \"phoebe>=2.2,<2.3\""
   ]
  },
  {
   "cell_type": "markdown",
   "metadata": {
    "collapsed": true
   },
   "source": [
    "As always, let's do imports and initialize a logger and a new bundle.  See [Building a System](../tutorials/building_a_system.ipynb) for more details."
   ]
  },
  {
   "cell_type": "code",
   "execution_count": 2,
   "metadata": {},
   "outputs": [],
   "source": [
    "import phoebe\n",
    "from phoebe import u # units\n",
    "import numpy as np\n",
    "import matplotlib.pyplot as plt\n",
    "\n",
    "logger = phoebe.logger()\n",
    "\n",
    "b = phoebe.default_binary()"
   ]
  },
  {
   "cell_type": "markdown",
   "metadata": {},
   "source": [
    "Adding Datasets\n",
    "--------------------"
   ]
  },
  {
   "cell_type": "code",
   "execution_count": 3,
   "metadata": {},
   "outputs": [],
   "source": [
    "times = np.linspace(0,1,21)"
   ]
  },
  {
   "cell_type": "code",
   "execution_count": 4,
   "metadata": {},
   "outputs": [
    {
     "data": {
      "text/plain": [
       "<ParameterSet: 43 parameters | contexts: dataset, constraint, figure, compute>"
      ]
     },
     "execution_count": 4,
     "metadata": {},
     "output_type": "execute_result"
    }
   ],
   "source": [
    "b.add_dataset('lc', times=times, dataset='lc01')"
   ]
  },
  {
   "cell_type": "code",
   "execution_count": 5,
   "metadata": {},
   "outputs": [
    {
     "data": {
      "text/plain": [
       "<ParameterSet: 39 parameters | contexts: dataset, constraint, figure, compute>"
      ]
     },
     "execution_count": 5,
     "metadata": {},
     "output_type": "execute_result"
    }
   ],
   "source": [
    "b.add_dataset('rv', times=times, dataset='rv01')"
   ]
  },
  {
   "cell_type": "code",
   "execution_count": 6,
   "metadata": {},
   "outputs": [
    {
     "name": "stderr",
     "output_type": "stream",
     "text": [
      "Wed, 11 Dec 2019 14:38 BUNDLE       WARNING mesh dataset uses 'compute_times' instead of 'times', applying value sent as 'times' to 'compute_times'.\n"
     ]
    },
    {
     "data": {
      "text/plain": [
       "<ParameterSet: 8 parameters | contexts: dataset, constraint, compute>"
      ]
     },
     "execution_count": 6,
     "metadata": {},
     "output_type": "execute_result"
    }
   ],
   "source": [
    "b.add_dataset('mesh', times=times, columns=['visibilities', 'intensities@lc01', 'rvs@rv01'], dataset='mesh01')"
   ]
  },
  {
   "cell_type": "markdown",
   "metadata": {},
   "source": [
    "Running Compute\n",
    "--------------------"
   ]
  },
  {
   "cell_type": "code",
   "execution_count": 7,
   "metadata": {},
   "outputs": [
    {
     "data": {
      "text/plain": [
       "<ParameterSet: 304 parameters | contexts: figure, model>"
      ]
     },
     "execution_count": 7,
     "metadata": {},
     "output_type": "execute_result"
    }
   ],
   "source": [
    "b.run_compute(irrad_method='none')"
   ]
  },
  {
   "cell_type": "markdown",
   "metadata": {},
   "source": [
    "Plotting\n",
    "-----------\n",
    "\n",
    "See the [Animations Tutorial](../tutorials/animations.ipynb) for more examples and details.\n",
    "\n",
    "Here we'll create a figure with multiple subplots.  The top row will be the light curve and RV curve.  The bottom three subplots will be various representations of the mesh (intensities, rvs, and visibilities).\n",
    "\n",
    "We'll do this by making separate calls to plot, passing the matplotlib subplot location for each axes we want to create.  We can then call `b.show(animate=True)` or `b.save('anim.gif', animate=True)`."
   ]
  },
  {
   "cell_type": "code",
   "execution_count": 8,
   "metadata": {
    "collapsed": true
   },
   "outputs": [
    {
     "name": "stdout",
     "output_type": "stream",
     "text": [
      "WARNING: pad_aspect not supported for animations, ignoring\n",
      "WARNING: pad_aspect not supported for animations, ignoring\n",
      "WARNING: pad_aspect not supported for animations, ignoring\n",
      "WARNING: pad_aspect not supported for animations, ignoring\n",
      "WARNING: pad_aspect not supported for animations, ignoring\n",
      "WARNING: pad_aspect not supported for animations, ignoring\n",
      "WARNING: pad_aspect not supported for animations, ignoring\n",
      "WARNING: pad_aspect not supported for animations, ignoring\n",
      "WARNING: pad_aspect not supported for animations, ignoring\n",
      "WARNING: pad_aspect not supported for animations, ignoring\n",
      "WARNING: pad_aspect not supported for animations, ignoring\n",
      "WARNING: pad_aspect not supported for animations, ignoring\n",
      "WARNING: pad_aspect not supported for animations, ignoring\n",
      "WARNING: pad_aspect not supported for animations, ignoring\n",
      "WARNING: pad_aspect not supported for animations, ignoring\n",
      "WARNING: pad_aspect not supported for animations, ignoring\n",
      "WARNING: pad_aspect not supported for animations, ignoring\n",
      "WARNING: pad_aspect not supported for animations, ignoring\n",
      "WARNING: pad_aspect not supported for animations, ignoring\n",
      "WARNING: pad_aspect not supported for animations, ignoring\n",
      "WARNING: pad_aspect not supported for animations, ignoring\n",
      "WARNING: pad_aspect not supported for animations, ignoring\n",
      "WARNING: pad_aspect not supported for animations, ignoring\n",
      "WARNING: pad_aspect not supported for animations, ignoring\n",
      "WARNING: pad_aspect not supported for animations, ignoring\n",
      "WARNING: pad_aspect not supported for animations, ignoring\n",
      "WARNING: pad_aspect not supported for animations, ignoring\n",
      "WARNING: pad_aspect not supported for animations, ignoring\n",
      "WARNING: pad_aspect not supported for animations, ignoring\n",
      "WARNING: pad_aspect not supported for animations, ignoring\n",
      "WARNING: pad_aspect not supported for animations, ignoring\n",
      "WARNING: pad_aspect not supported for animations, ignoring\n",
      "WARNING: pad_aspect not supported for animations, ignoring\n",
      "WARNING: pad_aspect not supported for animations, ignoring\n",
      "WARNING: pad_aspect not supported for animations, ignoring\n",
      "WARNING: pad_aspect not supported for animations, ignoring\n",
      "WARNING: pad_aspect not supported for animations, ignoring\n",
      "WARNING: pad_aspect not supported for animations, ignoring\n",
      "WARNING: pad_aspect not supported for animations, ignoring\n",
      "WARNING: pad_aspect not supported for animations, ignoring\n",
      "WARNING: pad_aspect not supported for animations, ignoring\n",
      "WARNING: pad_aspect not supported for animations, ignoring\n",
      "WARNING: pad_aspect not supported for animations, ignoring\n",
      "WARNING: pad_aspect not supported for animations, ignoring\n",
      "WARNING: pad_aspect not supported for animations, ignoring\n",
      "WARNING: pad_aspect not supported for animations, ignoring\n",
      "WARNING: pad_aspect not supported for animations, ignoring\n",
      "WARNING: pad_aspect not supported for animations, ignoring\n",
      "WARNING: pad_aspect not supported for animations, ignoring\n",
      "WARNING: pad_aspect not supported for animations, ignoring\n",
      "WARNING: pad_aspect not supported for animations, ignoring\n",
      "WARNING: pad_aspect not supported for animations, ignoring\n",
      "WARNING: pad_aspect not supported for animations, ignoring\n",
      "WARNING: pad_aspect not supported for animations, ignoring\n",
      "WARNING: pad_aspect not supported for animations, ignoring\n",
      "WARNING: pad_aspect not supported for animations, ignoring\n",
      "WARNING: pad_aspect not supported for animations, ignoring\n",
      "WARNING: pad_aspect not supported for animations, ignoring\n",
      "WARNING: pad_aspect not supported for animations, ignoring\n",
      "WARNING: pad_aspect not supported for animations, ignoring\n",
      "WARNING: pad_aspect not supported for animations, ignoring\n",
      "WARNING: pad_aspect not supported for animations, ignoring\n",
      "WARNING: pad_aspect not supported for animations, ignoring\n"
     ]
    },
    {
     "data": {
      "text/plain": [
       "(<autofig.figure.Figure | 5 axes | 129 call(s)>,\n",
       " <matplotlib.animation.FuncAnimation at 0x7f4665c4a828>)"
      ]
     },
     "execution_count": 8,
     "metadata": {},
     "output_type": "execute_result"
    },
    {
     "data": {
      "image/png": "[encoded data removed]",
      "text/plain": [
       "<Figure size 792x288 with 5 Axes>"
      ]
     },
     "metadata": {
      "needs_background": "light"
     },
     "output_type": "display_data"
    }
   ],
   "source": [
    "b['lc01@model'].plot(axpos=221)\n",
    "b['rv01@model'].plot(c={'primary': 'blue', 'secondary': 'red'}, linestyle='solid', axpos=222)\n",
    "b['mesh@model'].plot(fc='intensities@lc01', ec='None', axpos=425)\n",
    "b['mesh@model'].plot(fc='rvs@rv01', ec='None', axpos=427)\n",
    "b['mesh@model'].plot(fc='visibilities', ec='None', y='ws', axpos=224)\n",
    "\n",
    "fig = plt.figure(figsize=(11,4))\n",
    "afig, mplanim = b.savefig('animation_binary_complete.gif', fig=fig, tight_layouot=True, draw_sidebars=False, animate=True, save_kwargs={'writer': 'imagemagick'})"
   ]
  },
  {
   "cell_type": "markdown",
   "metadata": {},
   "source": [
    "![animation](animation_binary_complete.gif)"
   ]
  },
  {
   "cell_type": "code",
   "execution_count": null,
   "metadata": {},
   "outputs": [],
   "source": []
  }
 ],
 "metadata": {
  "kernelspec": {
   "display_name": "Python 3",
   "language": "python",
   "name": "python3"
  },
  "language_info": {
   "codemirror_mode": {
    "name": "ipython",
    "version": 3
   },
   "file_extension": ".py",
   "mimetype": "text/x-python",
   "name": "python",
   "nbconvert_exporter": "python",
   "pygments_lexer": "ipython3",
   "version": "3.7.3"
  }
 },
 "nbformat": 4,
 "nbformat_minor": 1
}
