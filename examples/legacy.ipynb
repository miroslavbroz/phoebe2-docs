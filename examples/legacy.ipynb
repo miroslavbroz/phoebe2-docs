{
 "cells": [
  {
   "cell_type": "markdown",
   "metadata": {},
   "source": [
    "[IPython Notebook](legacy.ipynb) |  [Python Script](legacy.py)"
   ]
  },
  {
   "cell_type": "markdown",
   "metadata": {},
   "source": [
    "Comparing PHOEBE 2.0 vs PHOEBE Legacy\n",
    "============================\n",
    "\n",
    "**NOTE**: PHOEBE 1.0 legacy is an alternate backend and is not installed with PHOEBE 2.0.  In order to run this backend, you'll need to have [PHOEBE 1.0](https://phoebe-project.org/1.0) installed.\n",
    "\n",
    "Setup\n",
    "-----------------------------"
   ]
  },
  {
   "cell_type": "markdown",
   "metadata": {
    "collapsed": true
   },
   "source": [
    "As always, let's do imports and initialize a logger and a new bundle.  See [Building a System](../tutorials/building_a_system.html) for more details."
   ]
  },
  {
   "cell_type": "code",
   "execution_count": null,
   "metadata": {
    "collapsed": true
   },
   "outputs": [],
   "source": [
    "%matplotlib inline"
   ]
  },
  {
   "cell_type": "code",
   "execution_count": null,
   "metadata": {
    "collapsed": false
   },
   "outputs": [
    {
     "name": "stdout",
     "output_type": "stream",
     "text": [
      "WARNING: developer mode enabled, to disable 'rm ~/.phoebe_devel_enabled' and restart phoebe\n"
     ]
    },
    {
     "name": "stderr",
     "output_type": "stream",
     "text": [
      "WARNING: Constant u'Gravitational constant' is already has a definition in the u'si' system [astropy.constants.constant]\n",
      "WARNING: Constant u'Solar mass' is already has a definition in the u'si' system [astropy.constants.constant]\n",
      "WARNING: Constant u'Solar radius' is already has a definition in the u'si' system [astropy.constants.constant]\n",
      "WARNING: Constant u'Solar luminosity' is already has a definition in the u'si' system [astropy.constants.constant]\n",
      "/usr/local/lib/python2.7/dist-packages/astropy/units/quantity.py:782: FutureWarning: comparison to `None` will result in an elementwise object comparison in the future.\n",
      "  return super(Quantity, self).__eq__(other)\n",
      "Tue, 20 Sep 2016 18:08 BUNDLE       INFO    setting 'freq@primary@component'=6.283185 rad / d from 'freq@constraint' constraint\n",
      "Tue, 20 Sep 2016 18:08 BUNDLE       INFO    setting 'frac_lost_bol@primary@component'=0.4 from 'frac_lost_bol@constraint' constraint\n",
      "Tue, 20 Sep 2016 18:08 BUNDLE       INFO    setting 'freq@secondary@component'=6.283185 rad / d from 'freq@secondary@constraint' constraint\n",
      "Tue, 20 Sep 2016 18:08 BUNDLE       INFO    setting 'frac_lost_bol@secondary@component'=0.4 from 'frac_lost_bol@secondary@constraint' constraint\n",
      "Tue, 20 Sep 2016 18:08 PARAMETERS   INFO    creating and attaching new parameter: asini\n",
      "Tue, 20 Sep 2016 18:08 BUNDLE       INFO    setting 'asini@binary@component'=8.0 solRad from 'asini@constraint' constraint\n",
      "Tue, 20 Sep 2016 18:08 BUNDLE       INFO    setting 't0_perpass@binary@component'=-0.75 d from 't0_perpass@constraint' constraint\n",
      "Tue, 20 Sep 2016 18:08 BUNDLE       INFO    setting 'mean_anom@binary@component'=89.9999956 deg from 'mean_anom@constraint' constraint\n",
      "Tue, 20 Sep 2016 18:08 PARAMETERS   INFO    creating and attaching new parameter: ecosw\n",
      "Tue, 20 Sep 2016 18:08 BUNDLE       INFO    setting 'ecosw@binary@component'=0.0 from 'ecosw@constraint' constraint\n",
      "Tue, 20 Sep 2016 18:08 PARAMETERS   INFO    creating and attaching new parameter: esinw\n",
      "Tue, 20 Sep 2016 18:08 BUNDLE       INFO    setting 'esinw@binary@component'=0.0 from 'esinw@constraint' constraint\n",
      "Tue, 20 Sep 2016 18:08 BUNDLE       INFO    setting 'freq@binary@component'=2.094395 rad / d from 'freq@binary@constraint' constraint\n",
      "Tue, 20 Sep 2016 18:08 BUNDLE       INFO    re-creating mass constraint for primary\n",
      "Tue, 20 Sep 2016 18:08 BUNDLE       INFO    setting 'mass@primary@component'=0.381666540188 solMass from 'mass@constraint' constraint\n",
      "Tue, 20 Sep 2016 18:08 BUNDLE       INFO    re-creating comp_sma constraint for primary\n",
      "Tue, 20 Sep 2016 18:08 PARAMETERS   INFO    creating and attaching new parameter: sma\n",
      "Tue, 20 Sep 2016 18:08 BUNDLE       INFO    setting 'sma@primary@component'=4.0 solRad from 'sma@constraint' constraint\n",
      "Tue, 20 Sep 2016 18:08 BUNDLE       INFO    re-creating rotation_period constraint for primary\n",
      "Tue, 20 Sep 2016 18:08 BUNDLE       INFO    setting 'freq@primary@component'=2.094395 rad / d from 'freq@primary@constraint' constraint\n",
      "Tue, 20 Sep 2016 18:08 BUNDLE       INFO    setting 'period@primary@component'=3.0 d from 'period@constraint' constraint\n",
      "Tue, 20 Sep 2016 18:08 BUNDLE       INFO    re-creating incl_aligned constraint for primary\n",
      "Tue, 20 Sep 2016 18:08 BUNDLE       INFO    setting 'incl@primary@component'=90.0 deg from 'incl@constraint' constraint\n",
      "Tue, 20 Sep 2016 18:08 BUNDLE       INFO    re-creating potential constraint for primary\n",
      "Tue, 20 Sep 2016 18:08 BUNDLE       INFO    setting 'pot@primary@component'=8.99227787671 from 'pot@constraint' constraint\n",
      "Tue, 20 Sep 2016 18:08 BUNDLE       INFO    re-creating mass constraint for secondary\n"
     ]
    }
   ],
   "source": [
    "import phoebe\n",
    "from phoebe import u\n",
    "import numpy as np\n",
    "import matplotlib.pyplot as plt\n",
    "\n",
    "logger = phoebe.logger(clevel='INFO')\n",
    "\n",
    "b = phoebe.default_binary()\n",
    "b['q'] = 0.7"
   ]
  },
  {
   "cell_type": "markdown",
   "metadata": {
    "collapsed": true
   },
   "source": [
    "Adding Datasets and Compute Options\n",
    "--------------------"
   ]
  },
  {
   "cell_type": "code",
   "execution_count": null,
   "metadata": {
    "collapsed": false
   },
   "outputs": [],
   "source": [
    "b.add_dataset('lc', times=np.linspace(0,3,101), dataset='lc01')\n",
    "b.add_dataset('rv', times=np.linspace(0,3,101), dataset='rvdyn')\n",
    "b.add_dataset('rv', times=np.linspace(0,3,101), dataset='rvnum')"
   ]
  },
  {
   "cell_type": "markdown",
   "metadata": {},
   "source": [
    "Let's add compute options for phoebe using both the new (marching) method for creating meshes as well as the WD method which imitates the format of the mesh used within legacy."
   ]
  },
  {
   "cell_type": "code",
   "execution_count": null,
   "metadata": {
    "collapsed": false
   },
   "outputs": [],
   "source": [
    "b.add_compute(compute='phoebe2marching', mesh_method='marching')"
   ]
  },
  {
   "cell_type": "code",
   "execution_count": null,
   "metadata": {
    "collapsed": false
   },
   "outputs": [],
   "source": [
    "b.add_compute(compute='phoebe2wd', mesh_method='wd', eclipse_method='graham')"
   ]
  },
  {
   "cell_type": "markdown",
   "metadata": {},
   "source": [
    "Now we add compute options for the 'legacy' backend."
   ]
  },
  {
   "cell_type": "code",
   "execution_count": null,
   "metadata": {
    "collapsed": false
   },
   "outputs": [],
   "source": [
    "b.add_compute('legacy', compute='phoebe1')"
   ]
  },
  {
   "cell_type": "markdown",
   "metadata": {},
   "source": [
    "And set the two RV datasets to use the correct methods (for both compute options)"
   ]
  },
  {
   "cell_type": "code",
   "execution_count": null,
   "metadata": {
    "collapsed": false
   },
   "outputs": [],
   "source": [
    "b.set_value_all('rv_method', dataset='rvdyn', value='dynamical')"
   ]
  },
  {
   "cell_type": "code",
   "execution_count": null,
   "metadata": {
    "collapsed": false
   },
   "outputs": [],
   "source": [
    "b.set_value_all('rv_method', dataset='rvnum', value='flux-weighted')"
   ]
  },
  {
   "cell_type": "markdown",
   "metadata": {},
   "source": [
    "The 'blackbody' atmospheres from phoebe1 are comperable to the 'extern_planckint' atmospheres in phoebe."
   ]
  },
  {
   "cell_type": "code",
   "execution_count": null,
   "metadata": {
    "collapsed": false
   },
   "outputs": [],
   "source": [
    "b.set_value_all('atm@phoebe2wd', 'extern_planckint')\n",
    "b.set_value_all('atm@phoebe2marching', 'extern_planckint')\n",
    "b.set_value_all('atm@phoebe1', 'blackbody')"
   ]
  },
  {
   "cell_type": "markdown",
   "metadata": {},
   "source": [
    "Let's make sure both 'phoebe1' and 'phoebe2wd' use the same value for gridsize"
   ]
  },
  {
   "cell_type": "code",
   "execution_count": null,
   "metadata": {
    "collapsed": true
   },
   "outputs": [],
   "source": [
    "b.set_value_all('gridsize', 30)"
   ]
  },
  {
   "cell_type": "markdown",
   "metadata": {},
   "source": [
    "Let's also disable other special effect such as heating, gravity, and light-time effects."
   ]
  },
  {
   "cell_type": "code",
   "execution_count": null,
   "metadata": {
    "collapsed": false
   },
   "outputs": [],
   "source": [
    "b.set_value_all('ld_func', 'logarithmic')\n",
    "b.set_value_all('ld_coeffs', [0.,0.])\n",
    "# TODO: remove this once tested to work correctly with limbdarkening"
   ]
  },
  {
   "cell_type": "code",
   "execution_count": null,
   "metadata": {
    "collapsed": false
   },
   "outputs": [],
   "source": [
    "b.set_value_all('reflection_method', 'none') # phoebe\n",
    "b.set_value('refl_num', 0) # legacy"
   ]
  },
  {
   "cell_type": "code",
   "execution_count": null,
   "metadata": {
    "collapsed": false
   },
   "outputs": [],
   "source": [
    "b.set_value_all('rv_grav', False)\n",
    "# TODO: phoebe1???\n",
    "# TODO: remove these?"
   ]
  },
  {
   "cell_type": "code",
   "execution_count": null,
   "metadata": {
    "collapsed": false
   },
   "outputs": [],
   "source": [
    "b.set_value_all('ltte', False)"
   ]
  },
  {
   "cell_type": "markdown",
   "metadata": {},
   "source": [
    "Finally, let's compute all of our models"
   ]
  },
  {
   "cell_type": "code",
   "execution_count": null,
   "metadata": {
    "collapsed": false
   },
   "outputs": [],
   "source": [
    "b.run_compute(compute='phoebe2marching', model='phoebe2marchingmodel')"
   ]
  },
  {
   "cell_type": "code",
   "execution_count": null,
   "metadata": {
    "collapsed": false
   },
   "outputs": [],
   "source": [
    "b.run_compute(compute='phoebe2wd', model='phoebe2wdmodel')"
   ]
  },
  {
   "cell_type": "code",
   "execution_count": null,
   "metadata": {
    "collapsed": false
   },
   "outputs": [],
   "source": [
    "b.run_compute(compute='phoebe1', model='phoebe1model')"
   ]
  },
  {
   "cell_type": "markdown",
   "metadata": {},
   "source": [
    "Plotting\n",
    "-------------------------"
   ]
  },
  {
   "cell_type": "markdown",
   "metadata": {},
   "source": [
    "### Light Curve"
   ]
  },
  {
   "cell_type": "code",
   "execution_count": null,
   "metadata": {
    "collapsed": false
   },
   "outputs": [],
   "source": [
    "axs, artists = b['lc01@phoebe2marchingmodel'].plot(color='g')\n",
    "axs, artists = b['lc01@phoebe2wdmodel'].plot(color='b')\n",
    "axs, artists = b['lc01@phoebe1model'].plot(color='r')\n",
    "leg = plt.legend(loc=4)"
   ]
  },
  {
   "cell_type": "markdown",
   "metadata": {},
   "source": [
    "Now let's plot the residuals between these two models"
   ]
  },
  {
   "cell_type": "code",
   "execution_count": null,
   "metadata": {
    "collapsed": false
   },
   "outputs": [],
   "source": [
    "artist, = plt.plot(b.get_value('fluxes@lc01@phoebe2marchingmodel') - b.get_value('fluxes@lc01@phoebe1model'), 'g-')\n",
    "artist, = plt.plot(b.get_value('fluxes@lc01@phoebe2wdmodel') - b.get_value('fluxes@lc01@phoebe1model'), 'b-')\n",
    "artist = plt.axhline(0.0, linestyle='dashed', color='k')"
   ]
  },
  {
   "cell_type": "markdown",
   "metadata": {},
   "source": [
    "### Dynamical RVs"
   ]
  },
  {
   "cell_type": "markdown",
   "metadata": {},
   "source": [
    "Since the dynamical RVs don't depend on the mesh, there should be no difference between the 'phoebe2marching' and 'phoebe2wd' synthetic models.  Here we'll just choose one to plot."
   ]
  },
  {
   "cell_type": "code",
   "execution_count": null,
   "metadata": {
    "collapsed": false,
    "scrolled": true
   },
   "outputs": [],
   "source": [
    "axs, artists = b['rvdyn@phoebe2wdmodel'].plot(color='b')\n",
    "axs, artists = b['rvdyn@phoebe1model'].plot(color='r')"
   ]
  },
  {
   "cell_type": "markdown",
   "metadata": {},
   "source": [
    "And also plot the residuals of both the primary and secondary RVs (notice the scale on the y-axis)"
   ]
  },
  {
   "cell_type": "code",
   "execution_count": null,
   "metadata": {
    "collapsed": false
   },
   "outputs": [],
   "source": [
    "artist, = plt.plot(b.get_value('rvs@rvdyn@primary@phoebe2wdmodel') - b.get_value('rvs@rvdyn@primary@phoebe1model'), color='b', ls=':')\n",
    "artist, = plt.plot(b.get_value('rvs@rvdyn@secondary@phoebe2wdmodel') - b.get_value('rvs@rvdyn@secondary@phoebe1model'), color='b', ls='-.')\n",
    "artist = plt.axhline(0.0, linestyle='dashed', color='k')\n",
    "ylim = plt.ylim(-1e-12, 1e-12)"
   ]
  },
  {
   "cell_type": "markdown",
   "metadata": {},
   "source": [
    "### Numerical (flux-weighted) RVs"
   ]
  },
  {
   "cell_type": "code",
   "execution_count": null,
   "metadata": {
    "collapsed": false,
    "scrolled": true
   },
   "outputs": [],
   "source": [
    "axs, artists = b['rvnum@phoebe2marchingmodel'].plot(color='g')\n",
    "axs, artists = b['rvnum@phoebe2wdmodel'].plot(color='b')\n",
    "axs, artists = b['rvnum@phoebe1model'].plot(color='r')"
   ]
  },
  {
   "cell_type": "code",
   "execution_count": null,
   "metadata": {
    "collapsed": false
   },
   "outputs": [],
   "source": [
    "artist, = plt.plot(b.get_value('rvs@rvnum@primary@phoebe2marchingmodel', ) - b.get_value('rvs@rvnum@primary@phoebe1model'), color='g', ls=':')\n",
    "artist, = plt.plot(b.get_value('rvs@rvnum@secondary@phoebe2marchingmodel') - b.get_value('rvs@rvnum@secondary@phoebe1model'), color='g', ls='-.')\n",
    "\n",
    "artist, = plt.plot(b.get_value('rvs@rvnum@primary@phoebe2wdmodel', ) - b.get_value('rvs@rvnum@primary@phoebe1model'), color='b', ls=':')\n",
    "artist, = plt.plot(b.get_value('rvs@rvnum@secondary@phoebe2wdmodel') - b.get_value('rvs@rvnum@secondary@phoebe1model'), color='b', ls='-.')\n",
    "\n",
    "artist = plt.axhline(0.0, linestyle='dashed', color='k')\n",
    "ylim = plt.ylim(-1e-2, 1e-2)"
   ]
  }
 ],
 "metadata": {
  "kernelspec": {
   "display_name": "Python 2",
   "language": "python",
   "name": "python2"
  },
  "language_info": {
   "codemirror_mode": {
    "name": "ipython",
    "version": 2
   },
   "file_extension": ".py",
   "mimetype": "text/x-python",
   "name": "python",
   "nbconvert_exporter": "python",
   "pygments_lexer": "ipython2",
   "version": "2.7.12"
  }
 },
 "nbformat": 4,
 "nbformat_minor": 0
}
