{
 "cells": [
  {
   "cell_type": "markdown",
   "metadata": {},
   "source": [
    "Comparing Spots in PHOEBE 2 vs PHOEBE Legacy\n",
    "============================\n",
    "\n",
    "Setup\n",
    "-----------------------------"
   ]
  },
  {
   "cell_type": "markdown",
   "metadata": {},
   "source": [
    "Let's first make sure we have the latest version of PHOEBE 2.2 installed. (You can comment out this line if you don't use pip for your installation or don't want to update to the latest release)."
   ]
  },
  {
   "cell_type": "code",
   "execution_count": null,
   "metadata": {},
   "outputs": [],
   "source": [
    "!pip install -I \"phoebe>=2.2,<2.3\""
   ]
  },
  {
   "cell_type": "markdown",
   "metadata": {
    "collapsed": true
   },
   "source": [
    "As always, let's do imports and initialize a logger and a new bundle.  See [Building a System](../tutorials/building_a_system.ipynb) for more details."
   ]
  },
  {
   "cell_type": "code",
   "execution_count": 1,
   "metadata": {},
   "outputs": [],
   "source": [
    "%matplotlib inline"
   ]
  },
  {
   "cell_type": "code",
   "execution_count": 2,
   "metadata": {},
   "outputs": [],
   "source": [
    "import phoebe\n",
    "from phoebe import u # units\n",
    "import numpy as np\n",
    "import matplotlib.pyplot as plt\n",
    "\n",
    "logger = phoebe.logger()\n",
    "\n",
    "b = phoebe.default_binary()"
   ]
  },
  {
   "cell_type": "markdown",
   "metadata": {
    "collapsed": true
   },
   "source": [
    "Adding Spots and Compute Options\n",
    "---------------------"
   ]
  },
  {
   "cell_type": "code",
   "execution_count": 3,
   "metadata": {},
   "outputs": [
    {
     "data": {
      "text/plain": [
       "<ParameterSet: 5 parameters | contexts: feature, compute>"
      ]
     },
     "execution_count": 3,
     "metadata": {},
     "output_type": "execute_result"
    }
   ],
   "source": [
    "b.add_spot(component='primary', relteff=0.8, radius=20, colat=45, colon=90, feature='spot01')"
   ]
  },
  {
   "cell_type": "code",
   "execution_count": 4,
   "metadata": {},
   "outputs": [
    {
     "data": {
      "text/plain": [
       "<ParameterSet: 43 parameters | contexts: figure, constraint, compute, dataset>"
      ]
     },
     "execution_count": 4,
     "metadata": {},
     "output_type": "execute_result"
    }
   ],
   "source": [
    "b.add_dataset('lc', times=np.linspace(0,1,101))"
   ]
  },
  {
   "cell_type": "code",
   "execution_count": 5,
   "metadata": {},
   "outputs": [
    {
     "data": {
      "text/plain": [
       "<ParameterSet: 30 parameters | datasets: lc01, _default>"
      ]
     },
     "execution_count": 5,
     "metadata": {},
     "output_type": "execute_result"
    }
   ],
   "source": [
    "b.add_compute('phoebe', irrad_method='none', compute='phoebe2')"
   ]
  },
  {
   "cell_type": "code",
   "execution_count": 6,
   "metadata": {},
   "outputs": [
    {
     "data": {
      "text/plain": [
       "<ParameterSet: 17 parameters | datasets: lc01, _default>"
      ]
     },
     "execution_count": 6,
     "metadata": {},
     "output_type": "execute_result"
    }
   ],
   "source": [
    "b.add_compute('legacy', irrad_method='none', compute='phoebe1')"
   ]
  },
  {
   "cell_type": "markdown",
   "metadata": {},
   "source": [
    "Let's use the external atmospheres available for both phoebe1 and phoebe2"
   ]
  },
  {
   "cell_type": "code",
   "execution_count": 7,
   "metadata": {},
   "outputs": [
    {
     "name": "stderr",
     "output_type": "stream",
     "text": [
      "Wed, 11 Dec 2019 14:24 BUNDLE       WARNING ld_mode='interp' not supported by 'legacy' backend used by compute='phoebe1'.  Change ld_mode@primary@lc01 or use a backend that supports atm='ck2004'.  If not addressed, this warning will continue to be raised and will throw an error at run_compute.\n",
      "Wed, 11 Dec 2019 14:24 BUNDLE       WARNING ld_mode='interp' not supported by 'legacy' backend used by compute='phoebe1'.  Change ld_mode@secondary@lc01 or use a backend that supports atm='ck2004'.  If not addressed, this warning will continue to be raised and will throw an error at run_compute.\n",
      "Wed, 11 Dec 2019 14:24 BUNDLE       WARNING ld_mode='interp' not supported by atm='extern_planckint'.  Either change atm@primary@phoebe01 or ld_mode@primary@lc01.  If not addressed, this warning will continue to be raised and will throw an error at run_compute.\n",
      "Wed, 11 Dec 2019 14:24 BUNDLE       WARNING ld_mode='interp' not supported by 'legacy' backend used by compute='phoebe1'.  Change ld_mode@primary@lc01 or use a backend that supports atm='ck2004'.  If not addressed, this warning will continue to be raised and will throw an error at run_compute.\n",
      "Wed, 11 Dec 2019 14:24 BUNDLE       WARNING ld_mode='interp' not supported by 'legacy' backend used by compute='phoebe1'.  Change ld_mode@secondary@lc01 or use a backend that supports atm='ck2004'.  If not addressed, this warning will continue to be raised and will throw an error at run_compute.\n",
      "Wed, 11 Dec 2019 14:24 BUNDLE       WARNING ld_mode='interp' not supported by atm='extern_planckint'.  Either change atm@primary@phoebe01 or ld_mode@primary@lc01.  If not addressed, this warning will continue to be raised and will throw an error at run_compute.\n",
      "Wed, 11 Dec 2019 14:24 BUNDLE       WARNING ld_mode='interp' not supported by 'legacy' backend used by compute='phoebe1'.  Change ld_mode@primary@lc01 or use a backend that supports atm='ck2004'.  If not addressed, this warning will continue to be raised and will throw an error at run_compute.\n",
      "Wed, 11 Dec 2019 14:24 BUNDLE       WARNING ld_mode='interp' not supported by atm='extern_planckint'.  Either change atm@secondary@phoebe01 or ld_mode@secondary@lc01.  If not addressed, this warning will continue to be raised and will throw an error at run_compute.\n",
      "Wed, 11 Dec 2019 14:24 BUNDLE       WARNING ld_mode='interp' not supported by 'legacy' backend used by compute='phoebe1'.  Change ld_mode@secondary@lc01 or use a backend that supports atm='ck2004'.  If not addressed, this warning will continue to be raised and will throw an error at run_compute.\n",
      "Wed, 11 Dec 2019 14:24 BUNDLE       WARNING ld_mode='interp' not supported by atm='extern_planckint'.  Either change atm@primary@phoebe01 or ld_mode@primary@lc01.  If not addressed, this warning will continue to be raised and will throw an error at run_compute.\n",
      "Wed, 11 Dec 2019 14:24 BUNDLE       WARNING ld_mode='interp' not supported by 'legacy' backend used by compute='phoebe1'.  Change ld_mode@primary@lc01 or use a backend that supports atm='ck2004'.  If not addressed, this warning will continue to be raised and will throw an error at run_compute.\n",
      "Wed, 11 Dec 2019 14:24 BUNDLE       WARNING ld_mode='interp' not supported by atm='extern_planckint'.  Either change atm@secondary@phoebe01 or ld_mode@secondary@lc01.  If not addressed, this warning will continue to be raised and will throw an error at run_compute.\n",
      "Wed, 11 Dec 2019 14:24 BUNDLE       WARNING ld_mode='interp' not supported by 'legacy' backend used by compute='phoebe1'.  Change ld_mode@secondary@lc01 or use a backend that supports atm='ck2004'.  If not addressed, this warning will continue to be raised and will throw an error at run_compute.\n",
      "Wed, 11 Dec 2019 14:24 BUNDLE       WARNING ld_mode='interp' not supported by atm='extern_planckint'.  Either change atm@primary@phoebe01 or ld_mode@primary@lc01.  If not addressed, this warning will continue to be raised and will throw an error at run_compute.\n",
      "Wed, 11 Dec 2019 14:24 BUNDLE       WARNING ld_mode='interp' not supported by atm='extern_planckint'.  Either change atm@primary@phoebe2 or ld_mode@primary@lc01.  If not addressed, this warning will continue to be raised and will throw an error at run_compute.\n",
      "Wed, 11 Dec 2019 14:24 BUNDLE       WARNING ld_mode='interp' not supported by 'legacy' backend used by compute='phoebe1'.  Change ld_mode@primary@lc01 or use a backend that supports atm='ck2004'.  If not addressed, this warning will continue to be raised and will throw an error at run_compute.\n",
      "Wed, 11 Dec 2019 14:24 BUNDLE       WARNING ld_mode='interp' not supported by atm='extern_planckint'.  Either change atm@secondary@phoebe01 or ld_mode@secondary@lc01.  If not addressed, this warning will continue to be raised and will throw an error at run_compute.\n",
      "Wed, 11 Dec 2019 14:24 BUNDLE       WARNING ld_mode='interp' not supported by 'legacy' backend used by compute='phoebe1'.  Change ld_mode@secondary@lc01 or use a backend that supports atm='ck2004'.  If not addressed, this warning will continue to be raised and will throw an error at run_compute.\n",
      "Wed, 11 Dec 2019 14:24 BUNDLE       WARNING ld_mode='interp' not supported by atm='extern_planckint'.  Either change atm@primary@phoebe01 or ld_mode@primary@lc01.  If not addressed, this warning will continue to be raised and will throw an error at run_compute.\n",
      "Wed, 11 Dec 2019 14:24 BUNDLE       WARNING ld_mode='interp' not supported by atm='extern_planckint'.  Either change atm@primary@phoebe2 or ld_mode@primary@lc01.  If not addressed, this warning will continue to be raised and will throw an error at run_compute.\n",
      "Wed, 11 Dec 2019 14:24 BUNDLE       WARNING ld_mode='interp' not supported by 'legacy' backend used by compute='phoebe1'.  Change ld_mode@primary@lc01 or use a backend that supports atm='ck2004'.  If not addressed, this warning will continue to be raised and will throw an error at run_compute.\n",
      "Wed, 11 Dec 2019 14:24 BUNDLE       WARNING ld_mode='interp' not supported by atm='extern_planckint'.  Either change atm@secondary@phoebe01 or ld_mode@secondary@lc01.  If not addressed, this warning will continue to be raised and will throw an error at run_compute.\n",
      "Wed, 11 Dec 2019 14:24 BUNDLE       WARNING ld_mode='interp' not supported by atm='extern_planckint'.  Either change atm@secondary@phoebe2 or ld_mode@secondary@lc01.  If not addressed, this warning will continue to be raised and will throw an error at run_compute.\n",
      "Wed, 11 Dec 2019 14:24 BUNDLE       WARNING ld_mode='interp' not supported by 'legacy' backend used by compute='phoebe1'.  Change ld_mode@secondary@lc01 or use a backend that supports atm='ck2004'.  If not addressed, this warning will continue to be raised and will throw an error at run_compute.\n",
      "Wed, 11 Dec 2019 14:24 BUNDLE       WARNING ld_mode='interp' not supported by atm='extern_planckint'.  Either change atm@primary@phoebe01 or ld_mode@primary@lc01.  If not addressed, this warning will continue to be raised and will throw an error at run_compute.\n",
      "Wed, 11 Dec 2019 14:24 BUNDLE       WARNING ld_mode='interp' not supported by atm='extern_planckint'.  Either change atm@primary@phoebe2 or ld_mode@primary@lc01.  If not addressed, this warning will continue to be raised and will throw an error at run_compute.\n",
      "Wed, 11 Dec 2019 14:24 BUNDLE       WARNING ld_mode='interp' not supported by 'legacy' backend used by compute='phoebe1'.  Change ld_mode@primary@lc01 or use a backend that supports atm='ck2004'.  If not addressed, this warning will continue to be raised and will throw an error at run_compute.\n",
      "Wed, 11 Dec 2019 14:24 BUNDLE       WARNING ld_mode='interp' not supported by atm='extern_planckint'.  Either change atm@secondary@phoebe01 or ld_mode@secondary@lc01.  If not addressed, this warning will continue to be raised and will throw an error at run_compute.\n",
      "Wed, 11 Dec 2019 14:24 BUNDLE       WARNING ld_mode='interp' not supported by atm='extern_planckint'.  Either change atm@secondary@phoebe2 or ld_mode@secondary@lc01.  If not addressed, this warning will continue to be raised and will throw an error at run_compute.\n",
      "Wed, 11 Dec 2019 14:24 BUNDLE       WARNING ld_mode='interp' not supported by 'legacy' backend used by compute='phoebe1'.  Change ld_mode@secondary@lc01 or use a backend that supports atm='ck2004'.  If not addressed, this warning will continue to be raised and will throw an error at run_compute.\n"
     ]
    },
    {
     "name": "stderr",
     "output_type": "stream",
     "text": [
      "Wed, 11 Dec 2019 14:24 BUNDLE       WARNING ld_mode='interp' not supported by atm='extern_planckint'.  Either change atm@primary@phoebe01 or ld_mode@primary@lc01.  If not addressed, this warning will continue to be raised and will throw an error at run_compute.\n",
      "Wed, 11 Dec 2019 14:24 BUNDLE       WARNING ld_mode='interp' not supported by atm='extern_planckint'.  Either change atm@primary@phoebe2 or ld_mode@primary@lc01.  If not addressed, this warning will continue to be raised and will throw an error at run_compute.\n",
      "Wed, 11 Dec 2019 14:24 BUNDLE       WARNING ld_mode='interp' not supported by 'legacy' backend used by compute='phoebe1'.  Change ld_mode@primary@lc01 or use a backend that supports atm='ck2004'.  If not addressed, this warning will continue to be raised and will throw an error at run_compute.\n",
      "Wed, 11 Dec 2019 14:24 BUNDLE       WARNING ld_mode='interp' not supported by atm='extern_planckint'.  Either change atm@secondary@phoebe01 or ld_mode@secondary@lc01.  If not addressed, this warning will continue to be raised and will throw an error at run_compute.\n",
      "Wed, 11 Dec 2019 14:24 BUNDLE       WARNING ld_mode='interp' not supported by atm='extern_planckint'.  Either change atm@secondary@phoebe2 or ld_mode@secondary@lc01.  If not addressed, this warning will continue to be raised and will throw an error at run_compute.\n",
      "Wed, 11 Dec 2019 14:24 BUNDLE       WARNING ld_mode='interp' not supported by 'legacy' backend used by compute='phoebe1'.  Change ld_mode@secondary@lc01 or use a backend that supports atm='ck2004'.  If not addressed, this warning will continue to be raised and will throw an error at run_compute.\n",
      "Wed, 11 Dec 2019 14:24 BUNDLE       WARNING ld_mode='interp' not supported by atm='extern_planckint'.  Either change atm@primary@phoebe01 or ld_mode@primary@lc01.  If not addressed, this warning will continue to be raised and will throw an error at run_compute.\n",
      "Wed, 11 Dec 2019 14:24 BUNDLE       WARNING ld_mode='interp' not supported by atm='extern_planckint'.  Either change atm@primary@phoebe2 or ld_mode@primary@lc01.  If not addressed, this warning will continue to be raised and will throw an error at run_compute.\n",
      "Wed, 11 Dec 2019 14:24 BUNDLE       WARNING ld_mode='interp' not supported by 'legacy' backend used by compute='phoebe1'.  Change ld_mode@primary@lc01 or use a backend that supports atm='ck2004'.  If not addressed, this warning will continue to be raised and will throw an error at run_compute.\n",
      "Wed, 11 Dec 2019 14:24 BUNDLE       WARNING ld_mode='interp' not supported by atm='extern_planckint'.  Either change atm@secondary@phoebe01 or ld_mode@secondary@lc01.  If not addressed, this warning will continue to be raised and will throw an error at run_compute.\n",
      "Wed, 11 Dec 2019 14:24 BUNDLE       WARNING ld_mode='interp' not supported by atm='extern_planckint'.  Either change atm@secondary@phoebe2 or ld_mode@secondary@lc01.  If not addressed, this warning will continue to be raised and will throw an error at run_compute.\n",
      "Wed, 11 Dec 2019 14:24 BUNDLE       WARNING ld_mode='interp' not supported by 'legacy' backend used by compute='phoebe1'.  Change ld_mode@secondary@lc01 or use a backend that supports atm='ck2004'.  If not addressed, this warning will continue to be raised and will throw an error at run_compute.\n"
     ]
    }
   ],
   "source": [
    "b.set_value_all('atm', 'extern_planckint')"
   ]
  },
  {
   "cell_type": "code",
   "execution_count": 9,
   "metadata": {},
   "outputs": [
    {
     "name": "stderr",
     "output_type": "stream",
     "text": [
      "Wed, 11 Dec 2019 14:26 BUNDLE       WARNING ld_mode='interp' not supported by atm='extern_planckint'.  Either change atm@primary@phoebe01 or ld_mode@primary@lc01.  If not addressed, this warning will continue to be raised and will throw an error at run_compute.\n",
      "Wed, 11 Dec 2019 14:26 BUNDLE       WARNING ld_mode='interp' not supported by atm='extern_planckint'.  Either change atm@primary@phoebe2 or ld_mode@primary@lc01.  If not addressed, this warning will continue to be raised and will throw an error at run_compute.\n",
      "Wed, 11 Dec 2019 14:26 BUNDLE       WARNING ld_mode='interp' not supported by 'legacy' backend used by compute='phoebe1'.  Change ld_mode@primary@lc01 or use a backend that supports atm='ck2004'.  If not addressed, this warning will continue to be raised and will throw an error at run_compute.\n",
      "Wed, 11 Dec 2019 14:26 BUNDLE       WARNING ld_mode='interp' not supported by atm='extern_planckint'.  Either change atm@secondary@phoebe01 or ld_mode@secondary@lc01.  If not addressed, this warning will continue to be raised and will throw an error at run_compute.\n",
      "Wed, 11 Dec 2019 14:26 BUNDLE       WARNING ld_mode='interp' not supported by atm='extern_planckint'.  Either change atm@secondary@phoebe2 or ld_mode@secondary@lc01.  If not addressed, this warning will continue to be raised and will throw an error at run_compute.\n",
      "Wed, 11 Dec 2019 14:26 BUNDLE       WARNING ld_mode='interp' not supported by 'legacy' backend used by compute='phoebe1'.  Change ld_mode@secondary@lc01 or use a backend that supports atm='ck2004'.  If not addressed, this warning will continue to be raised and will throw an error at run_compute.\n",
      "Wed, 11 Dec 2019 14:26 BUNDLE       WARNING ld_mode='interp' not supported by atm='extern_planckint'.  Either change atm@secondary@phoebe01 or ld_mode@secondary@lc01.  If not addressed, this warning will continue to be raised and will throw an error at run_compute.\n",
      "Wed, 11 Dec 2019 14:26 BUNDLE       WARNING ld_mode='interp' not supported by atm='extern_planckint'.  Either change atm@secondary@phoebe2 or ld_mode@secondary@lc01.  If not addressed, this warning will continue to be raised and will throw an error at run_compute.\n",
      "Wed, 11 Dec 2019 14:26 BUNDLE       WARNING ld_mode='interp' not supported by 'legacy' backend used by compute='phoebe1'.  Change ld_mode@secondary@lc01 or use a backend that supports atm='ck2004'.  If not addressed, this warning will continue to be raised and will throw an error at run_compute.\n"
     ]
    }
   ],
   "source": [
    "b.set_value_all('ld_mode', 'manual')\n",
    "b.set_value_all('ld_func', 'logarithmic')\n",
    "b.set_value_all('ld_coeffs', [0.0, 0.0])"
   ]
  },
  {
   "cell_type": "code",
   "execution_count": 10,
   "metadata": {},
   "outputs": [
    {
     "data": {
      "text/plain": [
       "<ParameterSet: 4 parameters | contexts: model, figure>"
      ]
     },
     "execution_count": 10,
     "metadata": {},
     "output_type": "execute_result"
    }
   ],
   "source": [
    "b.run_compute('phoebe2', model='phoebe2model')"
   ]
  },
  {
   "cell_type": "code",
   "execution_count": 11,
   "metadata": {},
   "outputs": [
    {
     "name": "stderr",
     "output_type": "stream",
     "text": [
      "Wed, 11 Dec 2019 14:26 BUNDLE       WARNING legacy does not natively support interpolating ld coefficients.  These will be interpolated by PHOEBE 2 and then passed to legacy.\n",
      "Wed, 11 Dec 2019 14:26 IO           WARNING requiv_max@primary@star@component has no phoebe 1 corollary\n",
      "Wed, 11 Dec 2019 14:26 IO           WARNING requiv_min@primary@star@component has no phoebe 1 corollary\n",
      "Wed, 11 Dec 2019 14:26 IO           WARNING logg@primary@star@component has no phoebe 1 corollary\n",
      "Wed, 11 Dec 2019 14:26 IO           WARNING freq@primary@star@component has no phoebe 1 corollary\n",
      "Wed, 11 Dec 2019 14:26 IO           WARNING pitch@primary@star@component has no phoebe 1 corollary\n",
      "Wed, 11 Dec 2019 14:26 IO           WARNING yaw@primary@star@component has no phoebe 1 corollary\n",
      "Wed, 11 Dec 2019 14:26 IO           WARNING long_an@primary@star@component has no phoebe 1 corollary\n",
      "Wed, 11 Dec 2019 14:26 IO           WARNING irrad_frac_lost_bol@primary@star@component has no phoebe 1 corollary\n",
      "Wed, 11 Dec 2019 14:26 IO           WARNING ld_mode_bol@primary@star@component has no phoebe 1 corollary\n",
      "Wed, 11 Dec 2019 14:26 IO           WARNING ld_func_bol@primary@star@component has no phoebe 1 corollary\n",
      "Wed, 11 Dec 2019 14:26 IO           WARNING ld_coeffs_source_bol@primary@star@component has no phoebe 1 corollary\n",
      "Wed, 11 Dec 2019 14:26 IO           WARNING mass@primary@star@component has no phoebe 1 corollary\n",
      "Wed, 11 Dec 2019 14:26 IO           WARNING requiv_max@secondary@star@component has no phoebe 1 corollary\n",
      "Wed, 11 Dec 2019 14:26 IO           WARNING requiv_min@secondary@star@component has no phoebe 1 corollary\n",
      "Wed, 11 Dec 2019 14:26 IO           WARNING logg@secondary@star@component has no phoebe 1 corollary\n",
      "Wed, 11 Dec 2019 14:26 IO           WARNING freq@secondary@star@component has no phoebe 1 corollary\n",
      "Wed, 11 Dec 2019 14:26 IO           WARNING pitch@secondary@star@component has no phoebe 1 corollary\n",
      "Wed, 11 Dec 2019 14:26 IO           WARNING yaw@secondary@star@component has no phoebe 1 corollary\n",
      "Wed, 11 Dec 2019 14:26 IO           WARNING long_an@secondary@star@component has no phoebe 1 corollary\n",
      "Wed, 11 Dec 2019 14:26 IO           WARNING irrad_frac_lost_bol@secondary@star@component has no phoebe 1 corollary\n",
      "Wed, 11 Dec 2019 14:26 IO           WARNING ld_mode_bol@secondary@star@component has no phoebe 1 corollary\n",
      "Wed, 11 Dec 2019 14:26 IO           WARNING ld_func_bol@secondary@star@component has no phoebe 1 corollary\n",
      "Wed, 11 Dec 2019 14:26 IO           WARNING ld_coeffs_source_bol@secondary@star@component has no phoebe 1 corollary\n",
      "Wed, 11 Dec 2019 14:26 IO           WARNING mass@secondary@star@component has no phoebe 1 corollary\n",
      "Wed, 11 Dec 2019 14:26 IO           WARNING ld_mode@_default@lc01@lc@dataset has no phoebe 1 corollary\n",
      "Wed, 11 Dec 2019 14:26 IO           WARNING ld_coeffs_source@_default@lc01@lc@dataset has no phoebe 1 corollary\n",
      "Wed, 11 Dec 2019 14:26 IO           WARNING intens_weighting@lc01@lc@dataset has no phoebe 1 corollary\n",
      "Wed, 11 Dec 2019 14:26 IO           WARNING ebv@lc01@lc@dataset has no phoebe 1 corollary\n",
      "Wed, 11 Dec 2019 14:26 IO           WARNING Av@lc01@lc@dataset has no phoebe 1 corollary\n",
      "Wed, 11 Dec 2019 14:26 IO           WARNING Rv@lc01@lc@dataset has no phoebe 1 corollary\n",
      "Wed, 11 Dec 2019 14:26 IO           WARNING compute_times@lc01@lc@dataset has no phoebe 1 corollary\n",
      "Wed, 11 Dec 2019 14:26 IO           WARNING compute_phases@binary@lc01@lc@dataset has no phoebe 1 corollary\n",
      "Wed, 11 Dec 2019 14:26 IO           WARNING compute_phases_t0@binary@lc01@lc@dataset has no phoebe 1 corollary\n",
      "Wed, 11 Dec 2019 14:26 IO           WARNING pblum_mode@lc01@lc@dataset has no phoebe 1 corollary\n",
      "Wed, 11 Dec 2019 14:26 IO           WARNING pblum_component@lc01@lc@dataset has no phoebe 1 corollary\n",
      "Wed, 11 Dec 2019 14:26 IO           WARNING pblum_dataset@lc01@lc@dataset has no phoebe 1 corollary\n",
      "Wed, 11 Dec 2019 14:26 IO           WARNING pbflux@lc01@lc@dataset has no phoebe 1 corollary\n",
      "Wed, 11 Dec 2019 14:26 IO           WARNING Finite integration Time is not fully supported and will be turned off by legacy wrapper before computation\n",
      "Wed, 11 Dec 2019 14:26 IO           WARNING lc_method@lc01@phoebe01@phoebe@compute has no phoebe 1 corollary\n",
      "Wed, 11 Dec 2019 14:26 IO           WARNING fti_method@lc01@phoebe01@phoebe@compute has no phoebe 1 corollary\n",
      "Wed, 11 Dec 2019 14:26 IO           WARNING fti_oversample@lc01@phoebe01@phoebe@compute has no phoebe 1 corollary\n",
      "Wed, 11 Dec 2019 14:26 IO           WARNING ld_mode@primary@lc01@lc@dataset has no phoebe 1 corollary\n",
      "Wed, 11 Dec 2019 14:26 IO           WARNING ld_mode@secondary@lc01@lc@dataset has no phoebe 1 corollary\n",
      "Wed, 11 Dec 2019 14:26 IO           WARNING ld_coeffs_source@primary@lc01@lc@dataset has no phoebe 1 corollary\n",
      "Wed, 11 Dec 2019 14:26 IO           WARNING ld_coeffs_source@secondary@lc01@lc@dataset has no phoebe 1 corollary\n",
      "Wed, 11 Dec 2019 14:26 IO           WARNING lc_method@lc01@phoebe2@phoebe@compute has no phoebe 1 corollary\n",
      "Wed, 11 Dec 2019 14:26 IO           WARNING fti_method@lc01@phoebe2@phoebe@compute has no phoebe 1 corollary\n",
      "Wed, 11 Dec 2019 14:26 IO           WARNING fti_oversample@lc01@phoebe2@phoebe@compute has no phoebe 1 corollary\n",
      "Wed, 11 Dec 2019 14:26 IO           WARNING freq@binary@orbit@component has no phoebe 1 corollary\n",
      "Wed, 11 Dec 2019 14:26 IO           WARNING t0_perpass@binary@orbit@component has no phoebe 1 corollary\n",
      "Wed, 11 Dec 2019 14:26 IO           WARNING t0_supconj@binary@orbit@component has no phoebe 1 corollary\n",
      "Wed, 11 Dec 2019 14:26 IO           WARNING mean_anom@binary@orbit@component has no phoebe 1 corollary\n",
      "Wed, 11 Dec 2019 14:26 IO           WARNING long_an@binary@orbit@component has no phoebe 1 corollary\n",
      "Wed, 11 Dec 2019 14:26 IO           WARNING asini@binary@orbit@component has no phoebe 1 corollary\n",
      "Wed, 11 Dec 2019 14:26 IO           WARNING ecosw@binary@orbit@component has no phoebe 1 corollary\n",
      "Wed, 11 Dec 2019 14:26 IO           WARNING esinw@binary@orbit@component has no phoebe 1 corollary\n",
      "Wed, 11 Dec 2019 14:26 IO           WARNING irrad_method@phoebe1@legacy@compute has no phoebe 1 corollary\n",
      "Wed, 11 Dec 2019 14:26 IO           WARNING distortion_method@primary@phoebe1@legacy@compute has no phoebe 1 corollary\n",
      "Wed, 11 Dec 2019 14:26 IO           WARNING distortion_method@secondary@phoebe1@legacy@compute has no phoebe 1 corollary\n",
      "Wed, 11 Dec 2019 14:26 IO           WARNING t0@system has no phoebe 1 corollary\n",
      "Wed, 11 Dec 2019 14:26 IO           WARNING ra@system has no phoebe 1 corollary\n",
      "Wed, 11 Dec 2019 14:26 IO           WARNING dec@system has no phoebe 1 corollary\n",
      "Wed, 11 Dec 2019 14:26 IO           WARNING distance@system has no phoebe 1 corollary\n",
      "Wed, 11 Dec 2019 14:26 IO           WARNING hierarchy@system has no phoebe 1 corollary\n"
     ]
    },
    {
     "data": {
      "text/plain": [
       "<ParameterSet: 4 parameters | contexts: model, figure>"
      ]
     },
     "execution_count": 11,
     "metadata": {},
     "output_type": "execute_result"
    }
   ],
   "source": [
    "b.run_compute('phoebe1', model='phoebe1model')"
   ]
  },
  {
   "cell_type": "markdown",
   "metadata": {},
   "source": [
    "Plotting\n",
    "------------"
   ]
  },
  {
   "cell_type": "code",
   "execution_count": 12,
   "metadata": {},
   "outputs": [
    {
     "data": {
      "image/png": "[encoded data removed]",
      "text/plain": [
       "<Figure size 432x288 with 1 Axes>"
      ]
     },
     "metadata": {
      "needs_background": "light"
     },
     "output_type": "display_data"
    }
   ],
   "source": [
    "afig, mplfig = b.plot(legend=True, ylim=(1.95, 2.05), show=True)"
   ]
  },
  {
   "cell_type": "code",
   "execution_count": null,
   "metadata": {},
   "outputs": [],
   "source": []
  }
 ],
 "metadata": {
  "kernelspec": {
   "display_name": "Python 3",
   "language": "python",
   "name": "python3"
  },
  "language_info": {
   "codemirror_mode": {
    "name": "ipython",
    "version": 3
   },
   "file_extension": ".py",
   "mimetype": "text/x-python",
   "name": "python",
   "nbconvert_exporter": "python",
   "pygments_lexer": "ipython3",
   "version": "3.7.3"
  }
 },
 "nbformat": 4,
 "nbformat_minor": 1
}
