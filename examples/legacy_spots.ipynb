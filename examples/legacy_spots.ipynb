{
 "cells": [
  {
   "cell_type": "markdown",
   "metadata": {},
   "source": [
    "[IPython Notebook](legacy_spots.ipynb) |  [Python Script](legacy_spots.py)"
   ]
  },
  {
   "cell_type": "markdown",
   "metadata": {},
   "source": [
    "Comparing Spots in PHOEBE 2.0 vs PHOEBE Legacy\n",
    "============================\n",
    "\n",
    "Setup\n",
    "-----------------------------"
   ]
  },
  {
   "cell_type": "markdown",
   "metadata": {
    "collapsed": true
   },
   "source": [
    "As always, let's do imports and initialize a logger and a new bundle.  See [Building a System](../tutorials/building_a_system.html) for more details."
   ]
  },
  {
   "cell_type": "code",
   "execution_count": 1,
   "metadata": {
    "collapsed": true
   },
   "outputs": [],
   "source": [
    "%matplotlib inline"
   ]
  },
  {
   "cell_type": "code",
   "execution_count": 2,
   "metadata": {
    "collapsed": false
   },
   "outputs": [
    {
     "name": "stderr",
     "output_type": "stream",
     "text": [
      "WARNING: Constant u'Gravitational constant' is already has a definition in the u'si' system [astropy.constants.constant]\n",
      "WARNING:astropy:Constant u'Gravitational constant' is already has a definition in the u'si' system\n",
      "WARNING: Constant u'Solar mass' is already has a definition in the u'si' system [astropy.constants.constant]\n",
      "WARNING:astropy:Constant u'Solar mass' is already has a definition in the u'si' system\n",
      "WARNING: Constant u'Solar radius' is already has a definition in the u'si' system [astropy.constants.constant]\n",
      "WARNING:astropy:Constant u'Solar radius' is already has a definition in the u'si' system\n",
      "WARNING: Constant u'Solar luminosity' is already has a definition in the u'si' system [astropy.constants.constant]\n",
      "WARNING:astropy:Constant u'Solar luminosity' is already has a definition in the u'si' system\n"
     ]
    },
    {
     "name": "stdout",
     "output_type": "stream",
     "text": [
      "WARNING: developer mode enabled, to disable 'rm ~/.phoebe_devel_enabled' and restart phoebe\n"
     ]
    },
    {
     "name": "stderr",
     "output_type": "stream",
     "text": [
      "/usr/local/lib/python2.7/dist-packages/astropy/units/quantity.py:732: FutureWarning: comparison to `None` will result in an elementwise object comparison in the future.\n",
      "  return super(Quantity, self).__eq__(other)\n"
     ]
    }
   ],
   "source": [
    "import phoebe\n",
    "from phoebe import u # units\n",
    "import numpy as np\n",
    "import matplotlib.pyplot as plt\n",
    "\n",
    "logger = phoebe.logger()\n",
    "\n",
    "b = phoebe.default_binary()"
   ]
  },
  {
   "cell_type": "markdown",
   "metadata": {
    "collapsed": true
   },
   "source": [
    "Adding Spots and Compute Options\n",
    "---------------------"
   ]
  },
  {
   "cell_type": "code",
   "execution_count": 3,
   "metadata": {
    "collapsed": false
   },
   "outputs": [
    {
     "data": {
      "text/plain": [
       "<ParameterSet: 4 parameters | qualifiers: colat, colon, radius, relteff>"
      ]
     },
     "execution_count": 3,
     "metadata": {},
     "output_type": "execute_result"
    }
   ],
   "source": [
    "b.add_spot(component='primary', relteff=0.8, radius=20, colat=45, colon=90, feature='spot01')"
   ]
  },
  {
   "cell_type": "code",
   "execution_count": 4,
   "metadata": {
    "collapsed": false
   },
   "outputs": [
    {
     "data": {
      "text/plain": [
       "<ParameterSet: 15 parameters | contexts: compute, dataset>"
      ]
     },
     "execution_count": 4,
     "metadata": {},
     "output_type": "execute_result"
    }
   ],
   "source": [
    "b.add_dataset('lc', times=np.linspace(0,1,101))"
   ]
  },
  {
   "cell_type": "code",
   "execution_count": 5,
   "metadata": {
    "collapsed": false
   },
   "outputs": [
    {
     "data": {
      "text/plain": [
       "<ParameterSet: 22 parameters | components: primary, secondary>"
      ]
     },
     "execution_count": 5,
     "metadata": {},
     "output_type": "execute_result"
    }
   ],
   "source": [
    "b.add_compute('phoebe', irrad_method='none', compute='phoebe2')"
   ]
  },
  {
   "cell_type": "code",
   "execution_count": 6,
   "metadata": {
    "collapsed": false
   },
   "outputs": [
    {
     "data": {
      "text/plain": [
       "<ParameterSet: 9 parameters | components: primary, secondary>"
      ]
     },
     "execution_count": 6,
     "metadata": {},
     "output_type": "execute_result"
    }
   ],
   "source": [
    "b.add_compute('legacy', refl_num=0, compute='phoebe1')"
   ]
  },
  {
   "cell_type": "markdown",
   "metadata": {},
   "source": [
    "Let's use the external atmospheres available for both phoebe1 and phoebe2"
   ]
  },
  {
   "cell_type": "code",
   "execution_count": 7,
   "metadata": {
    "collapsed": false
   },
   "outputs": [
    {
     "name": "stderr",
     "output_type": "stream",
     "text": [
      "WARNING:PARAMETERS:ld_func='interp' only supported by atm='ck2004'\n",
      "WARNING:PARAMETERS:ld_func='interp' only supported by atm='ck2004'\n",
      "WARNING:PARAMETERS:ld_func='interp' only supported by atm='ck2004'\n",
      "WARNING:PARAMETERS:ld_func='interp' only supported by atm='ck2004'\n",
      "WARNING:PARAMETERS:ld_func='interp' only supported by atm='ck2004'\n",
      "WARNING:PARAMETERS:ld_func='interp' only supported by atm='ck2004'\n",
      "WARNING:PARAMETERS:ld_func='interp' only supported by atm='ck2004'\n",
      "WARNING:PARAMETERS:ld_func='interp' only supported by atm='ck2004'\n",
      "WARNING:PARAMETERS:ld_func='interp' only supported by atm='ck2004'\n"
     ]
    }
   ],
   "source": [
    "b.set_value_all('atm', 'extern_planckint')"
   ]
  },
  {
   "cell_type": "code",
   "execution_count": 8,
   "metadata": {
    "collapsed": false
   },
   "outputs": [
    {
     "name": "stderr",
     "output_type": "stream",
     "text": [
      "WARNING:PARAMETERS:ld_func='interp' only supported by atm='ck2004'\n",
      "WARNING:PARAMETERS:ld_func='interp' only supported by atm='ck2004'\n"
     ]
    }
   ],
   "source": [
    "b.set_value_all('ld_func', 'logarithmic')\n",
    "b.set_value_all('ld_coeffs', [0.0, 0.0])"
   ]
  },
  {
   "cell_type": "code",
   "execution_count": 9,
   "metadata": {
    "collapsed": false
   },
   "outputs": [
    {
     "data": {
      "text/plain": [
       "<ParameterSet: 2 parameters | qualifiers: fluxes, times>"
      ]
     },
     "execution_count": 9,
     "metadata": {},
     "output_type": "execute_result"
    }
   ],
   "source": [
    "b.run_compute('phoebe2', model='phoebe2model')"
   ]
  },
  {
   "cell_type": "code",
   "execution_count": 10,
   "metadata": {
    "collapsed": false
   },
   "outputs": [
    {
     "name": "stderr",
     "output_type": "stream",
     "text": [
      "WARNING:IO:rpole has no phoebe 1 corollary\n",
      "WARNING:IO:freq has no phoebe 1 corollary\n",
      "WARNING:IO:irrad_frac_lost_bol has no phoebe 1 corollary\n",
      "WARNING:IO:ld_func_bol has no phoebe 1 corollary\n",
      "WARNING:IO:mass has no phoebe 1 corollary\n",
      "WARNING:IO:rpole has no phoebe 1 corollary\n",
      "WARNING:IO:freq has no phoebe 1 corollary\n",
      "WARNING:IO:irrad_frac_lost_bol has no phoebe 1 corollary\n",
      "WARNING:IO:ld_func_bol has no phoebe 1 corollary\n",
      "WARNING:IO:mass has no phoebe 1 corollary\n",
      "WARNING:IO:intens_weighting has no phoebe 1 corollary\n",
      "WARNING:IO:lc_method has no phoebe 1 corollary\n",
      "WARNING:IO:Finite integration Time is not fully supported and will be turned off by legacy wrapper before computation\n",
      "WARNING:IO:fti_method has no phoebe 1 corollary\n",
      "WARNING:IO:fti_method has no phoebe 1 corollary\n",
      "WARNING:IO:pblum_ref has no phoebe 1 corollary\n",
      "WARNING:IO:lc_method has no phoebe 1 corollary\n",
      "WARNING:IO:pblum_ref has no phoebe 1 corollary\n",
      "WARNING:IO:freq has no phoebe 1 corollary\n",
      "WARNING:IO:deccdt has no phoebe 1 corollary\n",
      "WARNING:IO:t0_perpass has no phoebe 1 corollary\n",
      "WARNING:IO:mean_anom has no phoebe 1 corollary\n",
      "WARNING:IO:long_an has no phoebe 1 corollary\n",
      "WARNING:IO:asini has no phoebe 1 corollary\n",
      "WARNING:IO:ecosw has no phoebe 1 corollary\n",
      "WARNING:IO:esinw has no phoebe 1 corollary\n",
      "WARNING:IO:protomesh has no phoebe 1 corollary\n",
      "WARNING:IO:pbmesh has no phoebe 1 corollary\n",
      "WARNING:IO:t0 has no phoebe 1 corollary\n",
      "WARNING:IO:ra has no phoebe 1 corollary\n",
      "WARNING:IO:dec has no phoebe 1 corollary\n",
      "WARNING:IO:epoch has no phoebe 1 corollary\n",
      "WARNING:IO:distance has no phoebe 1 corollary\n",
      "WARNING:IO:hierarchy has no phoebe 1 corollary\n"
     ]
    },
    {
     "data": {
      "text/plain": [
       "<ParameterSet: 2 parameters | qualifiers: fluxes, times>"
      ]
     },
     "execution_count": 10,
     "metadata": {},
     "output_type": "execute_result"
    }
   ],
   "source": [
    "b.run_compute('phoebe1', model='phoebe1model')"
   ]
  },
  {
   "cell_type": "markdown",
   "metadata": {},
   "source": [
    "Plotting\n",
    "------------"
   ]
  },
  {
   "cell_type": "code",
   "execution_count": 14,
   "metadata": {
    "collapsed": false
   },
   "outputs": [
    {
     "data": {
      "image/png": "[encoded data removed]",
      "text/plain": [
       "<matplotlib.figure.Figure at 0x7ff716e4f5d0>"
      ]
     },
     "metadata": {},
     "output_type": "display_data"
    }
   ],
   "source": [
    "axs, artists = b.plot()\n",
    "legend = plt.legend()\n",
    "ylims = plt.ylim(1.94, 2.02)"
   ]
  },
  {
   "cell_type": "code",
   "execution_count": null,
   "metadata": {
    "collapsed": true
   },
   "outputs": [],
   "source": []
  }
 ],
 "metadata": {
  "kernelspec": {
   "display_name": "Python 2",
   "language": "python",
   "name": "python2"
  },
  "language_info": {
   "codemirror_mode": {
    "name": "ipython",
    "version": 2
   },
   "file_extension": ".py",
   "mimetype": "text/x-python",
   "name": "python",
   "nbconvert_exporter": "python",
   "pygments_lexer": "ipython2",
   "version": "2.7.12"
  }
 },
 "nbformat": 4,
 "nbformat_minor": 0
}
