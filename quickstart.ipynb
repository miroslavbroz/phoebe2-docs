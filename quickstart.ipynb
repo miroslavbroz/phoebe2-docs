{
 "cells": [
  {
   "cell_type": "markdown",
   "metadata": {},
   "source": [
    "# PHOEBE 2.0 Quickstart"
   ]
  },
  {
   "cell_type": "markdown",
   "metadata": {},
   "source": [
    "**HOW TO RUN THIS FILE**: if you're running this in a Jupyter notebook or Google Colab session, you can click on a cell and then shift+Enter to run the cell and automatically select the next cell.  Alt+Enter will run a cell and create a new cell below it.  Ctrl+Enter will run a cell but keep it selected.  To restart from scratch, restart the kernel/runtime."
   ]
  },
  {
   "cell_type": "markdown",
   "metadata": {},
   "source": [
    "Let's first make sure we have the latest version of PHOEBE 2.0 installed. (You can comment out this line if you don't use pip for your installation or don't want to update to the latest release)."
   ]
  },
  {
   "cell_type": "code",
   "execution_count": null,
   "metadata": {},
   "outputs": [],
   "source": [
    "!pip install -I \"phoebe>=2.0,<2.1\""
   ]
  },
  {
   "cell_type": "markdown",
   "metadata": {},
   "source": [
    "Now import the phoebe package.  You may also want to import numpy, matplotlib, or astropy... but we'll leave that all up to you."
   ]
  },
  {
   "cell_type": "code",
   "execution_count": null,
   "metadata": {},
   "outputs": [],
   "source": [
    "import phoebe"
   ]
  },
  {
   "cell_type": "markdown",
   "metadata": {},
   "source": [
    "Now create a [default_binary](http://phoebe-project.org/docs/2.0/api/phoebe.frontend.bundle.Bundle.default_binary).  If you want another type of system, you may want to call [default_star](http://phoebe-project.org/docs/2.0/api/phoebe.frontend.bundle.Bundle.default_star) instead."
   ]
  },
  {
   "cell_type": "markdown",
   "metadata": {},
   "source": [
    "b = phoebe.default_binary()"
   ]
  },
  {
   "cell_type": "markdown",
   "metadata": {},
   "source": [
    "Now read the [PHOEBE 2.0 docs](http://phoebe-project.org/docs/2.0) or jump into the [API docs](http://phoebe-project.org/docs/2.0/api) to see what you can do with the [Bundle object (b)](http://phoebe-project.org/docs/2.0/api/phoebe.frontend.bundle.Bundle).\n",
    "\n",
    "Perhaps you'll want to start by calling [add_dataset](http://phoebe-project.org/docs/2.0/api/phoebe.frontend.bundle.Bundle.add_dataset), [run_compute](http://phoebe-project.org/docs/2.0/api/phoebe.frontend.bundle.Bundle.run_compute), and then [plot](http://phoebe-project.org/docs/2.0/api/phoebe.parameters.ParameterSet.plot)."
   ]
  },
  {
   "cell_type": "code",
   "execution_count": null,
   "metadata": {},
   "outputs": [],
   "source": []
  }
 ],
 "metadata": {
  "kernelspec": {
   "display_name": "Python 2",
   "language": "python",
   "name": "python2"
  },
  "language_info": {
   "codemirror_mode": {
    "name": "ipython",
    "version": 2
   },
   "file_extension": ".py",
   "mimetype": "text/x-python",
   "name": "python",
   "nbconvert_exporter": "python",
   "pygments_lexer": "ipython2",
   "version": "2.7.15rc1"
  }
 },
 "nbformat": 4,
 "nbformat_minor": 2
}
